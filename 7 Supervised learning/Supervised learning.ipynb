{
 "cells": [
  {
   "cell_type": "markdown",
   "metadata": {
    "toc": true
   },
   "source": [
    "<h1>Содержание<span class=\"tocSkip\"></span></h1>\n",
    "<div class=\"toc\"><ul class=\"toc-item\"><li><span><a href=\"#Комментарий-ревьюра\" data-toc-modified-id=\"Комментарий-ревьюра-1\"><span class=\"toc-item-num\">1&nbsp;&nbsp;</span>Комментарий ревьюра</a></span></li><li><span><a href=\"#Подготовка-данных\" data-toc-modified-id=\"Подготовка-данных-2\"><span class=\"toc-item-num\">2&nbsp;&nbsp;</span>Подготовка данных</a></span></li><li><span><a href=\"#Исследование-задачи\" data-toc-modified-id=\"Исследование-задачи-3\"><span class=\"toc-item-num\">3&nbsp;&nbsp;</span>Исследование задачи</a></span></li><li><span><a href=\"#Борьба-с-дисбалансом\" data-toc-modified-id=\"Борьба-с-дисбалансом-4\"><span class=\"toc-item-num\">4&nbsp;&nbsp;</span>Борьба с дисбалансом</a></span></li><li><span><a href=\"#Тестирование-модели\" data-toc-modified-id=\"Тестирование-модели-5\"><span class=\"toc-item-num\">5&nbsp;&nbsp;</span>Тестирование модели</a></span></li><li><span><a href=\"#Чек-лист-готовности-проекта\" data-toc-modified-id=\"Чек-лист-готовности-проекта-6\"><span class=\"toc-item-num\">6&nbsp;&nbsp;</span>Чек-лист готовности проекта</a></span></li></ul></div>"
   ]
  },
  {
   "cell_type": "markdown",
   "metadata": {},
   "source": [
    "# Отток клиентов"
   ]
  },
  {
   "cell_type": "markdown",
   "metadata": {},
   "source": [
    "Из «Бета-Банка» стали уходить клиенты. Каждый месяц. Немного, но заметно. Банковские маркетологи посчитали: сохранять текущих клиентов дешевле, чем привлекать новых.\n",
    "\n",
    "Нужно спрогнозировать, уйдёт клиент из банка в ближайшее время или нет. Вам предоставлены исторические данные о поведении клиентов и расторжении договоров с банком. \n",
    "\n",
    "Постройте модель с предельно большим значением *F1*-меры. Чтобы сдать проект успешно, нужно довести метрику до 0.59. Проверьте *F1*-меру на тестовой выборке самостоятельно.\n",
    "\n",
    "Дополнительно измеряйте *AUC-ROC*, сравнивайте её значение с *F1*-мерой.\n",
    "\n",
    "Источник данных: [https://www.kaggle.com/barelydedicated/bank-customer-churn-modeling](https://www.kaggle.com/barelydedicated/bank-customer-churn-modeling)"
   ]
  },
  {
   "cell_type": "markdown",
   "metadata": {},
   "source": [
    "<div class=\"alert alert-block alert-info\">\n",
    "<b>Цель проекта:</b> построить модель, прогнозирующую, уйдет клиент из банка в ближайшее время или нет.\n",
    "\n",
    "<b>Входные данные:</b> исторические данные о поведении клиентов и расторжении договоров с ними."
   ]
  },
  {
   "cell_type": "code",
   "execution_count": 1,
   "metadata": {},
   "outputs": [],
   "source": [
    "import pandas as pd\n",
    "import numpy as np\n",
    "import seaborn as sns\n",
    "import re\n",
    "import seaborn as sns\n",
    "from sklearn.preprocessing import StandardScaler\n",
    "from sklearn.model_selection import train_test_split\n",
    "from sklearn.tree import DecisionTreeClassifier\n",
    "from sklearn.ensemble import RandomForestClassifier\n",
    "from sklearn.linear_model import LogisticRegression\n",
    "from sklearn.model_selection import GridSearchCV\n",
    "from sklearn.impute import KNNImputer\n",
    "from sklearn.utils import shuffle\n",
    "from sklearn.metrics import f1_score\n",
    "from sklearn.metrics import roc_auc_score\n",
    "from sklearn.metrics import accuracy_score\n",
    "from sklearn.utils import shuffle\n",
    "from sklearn.dummy import DummyClassifier\n",
    "from random import randint\n",
    "import warnings\n",
    "from pylab import rcParams\n",
    "rcParams['figure.figsize'] = 8, 4\n",
    "pd.options.mode.chained_assignment = None "
   ]
  },
  {
   "cell_type": "markdown",
   "metadata": {},
   "source": [
    "## Подготовка данных"
   ]
  },
  {
   "cell_type": "code",
   "execution_count": 2,
   "metadata": {},
   "outputs": [],
   "source": [
    "data = pd.read_csv(\"/datasets/Churn.csv\")"
   ]
  },
  {
   "cell_type": "code",
   "execution_count": 3,
   "metadata": {},
   "outputs": [
    {
     "name": "stdout",
     "output_type": "stream",
     "text": [
      "<class 'pandas.core.frame.DataFrame'>\n",
      "RangeIndex: 10000 entries, 0 to 9999\n",
      "Data columns (total 14 columns):\n",
      " #   Column           Non-Null Count  Dtype  \n",
      "---  ------           --------------  -----  \n",
      " 0   RowNumber        10000 non-null  int64  \n",
      " 1   CustomerId       10000 non-null  int64  \n",
      " 2   Surname          10000 non-null  object \n",
      " 3   CreditScore      10000 non-null  int64  \n",
      " 4   Geography        10000 non-null  object \n",
      " 5   Gender           10000 non-null  object \n",
      " 6   Age              10000 non-null  int64  \n",
      " 7   Tenure           9091 non-null   float64\n",
      " 8   Balance          10000 non-null  float64\n",
      " 9   NumOfProducts    10000 non-null  int64  \n",
      " 10  HasCrCard        10000 non-null  int64  \n",
      " 11  IsActiveMember   10000 non-null  int64  \n",
      " 12  EstimatedSalary  10000 non-null  float64\n",
      " 13  Exited           10000 non-null  int64  \n",
      "dtypes: float64(3), int64(8), object(3)\n",
      "memory usage: 1.1+ MB\n"
     ]
    }
   ],
   "source": [
    "data.info()"
   ]
  },
  {
   "cell_type": "code",
   "execution_count": 4,
   "metadata": {},
   "outputs": [],
   "source": [
    "#Приведем к нижнему регистру названия столбцов\n",
    "#data.columns = data.columns.str.lower()"
   ]
  },
  {
   "cell_type": "code",
   "execution_count": 5,
   "metadata": {},
   "outputs": [
    {
     "data": {
      "text/plain": [
       "Index(['RowNumber', 'CustomerId', 'Surname', 'CreditScore', 'Geography',\n",
       "       'Gender', 'Age', 'Tenure', 'Balance', 'NumOfProducts', 'HasCrCard',\n",
       "       'IsActiveMember', 'EstimatedSalary', 'Exited'],\n",
       "      dtype='object')"
      ]
     },
     "execution_count": 5,
     "metadata": {},
     "output_type": "execute_result"
    }
   ],
   "source": [
    "data.columns"
   ]
  },
  {
   "cell_type": "code",
   "execution_count": 6,
   "metadata": {},
   "outputs": [],
   "source": [
    "for name in data.columns:\n",
    "    pattern = r\"(?=[A-Z])(?!^)\"\n",
    "    rena = re.sub(pattern, '_', name).lower()\n",
    "    data = data.rename(columns={name:rena})"
   ]
  },
  {
   "cell_type": "code",
   "execution_count": 7,
   "metadata": {},
   "outputs": [
    {
     "data": {
      "text/plain": [
       "Index(['row_number', 'customer_id', 'surname', 'credit_score', 'geography',\n",
       "       'gender', 'age', 'tenure', 'balance', 'num_of_products', 'has_cr_card',\n",
       "       'is_active_member', 'estimated_salary', 'exited'],\n",
       "      dtype='object')"
      ]
     },
     "execution_count": 7,
     "metadata": {},
     "output_type": "execute_result"
    }
   ],
   "source": [
    "#Проверим результат\n",
    "data.columns"
   ]
  },
  {
   "cell_type": "markdown",
   "metadata": {},
   "source": [
    "<div class=\"alert alert-info\">\n",
    "<h2> Комментарий студента<a class=\"tocSkip\"></h2>\n",
    "<hr>  \n",
    "   Добавила, но поясни пожалуйста. Sub же заменяет вхождения в pattern. Каким образом здесь, в данном регулярном выражении, вставляется нижнее подчеркивание между словами?\n",
    "</div>"
   ]
  },
  {
   "cell_type": "code",
   "execution_count": 8,
   "metadata": {},
   "outputs": [
    {
     "data": {
      "text/html": [
       "<div>\n",
       "<style scoped>\n",
       "    .dataframe tbody tr th:only-of-type {\n",
       "        vertical-align: middle;\n",
       "    }\n",
       "\n",
       "    .dataframe tbody tr th {\n",
       "        vertical-align: top;\n",
       "    }\n",
       "\n",
       "    .dataframe thead th {\n",
       "        text-align: right;\n",
       "    }\n",
       "</style>\n",
       "<table border=\"1\" class=\"dataframe\">\n",
       "  <thead>\n",
       "    <tr style=\"text-align: right;\">\n",
       "      <th></th>\n",
       "      <th>row_number</th>\n",
       "      <th>customer_id</th>\n",
       "      <th>surname</th>\n",
       "      <th>credit_score</th>\n",
       "      <th>geography</th>\n",
       "      <th>gender</th>\n",
       "      <th>age</th>\n",
       "      <th>tenure</th>\n",
       "      <th>balance</th>\n",
       "      <th>num_of_products</th>\n",
       "      <th>has_cr_card</th>\n",
       "      <th>is_active_member</th>\n",
       "      <th>estimated_salary</th>\n",
       "      <th>exited</th>\n",
       "    </tr>\n",
       "  </thead>\n",
       "  <tbody>\n",
       "    <tr>\n",
       "      <th>0</th>\n",
       "      <td>1</td>\n",
       "      <td>15634602</td>\n",
       "      <td>Hargrave</td>\n",
       "      <td>619</td>\n",
       "      <td>France</td>\n",
       "      <td>Female</td>\n",
       "      <td>42</td>\n",
       "      <td>2.0</td>\n",
       "      <td>0.00</td>\n",
       "      <td>1</td>\n",
       "      <td>1</td>\n",
       "      <td>1</td>\n",
       "      <td>101348.88</td>\n",
       "      <td>1</td>\n",
       "    </tr>\n",
       "    <tr>\n",
       "      <th>1</th>\n",
       "      <td>2</td>\n",
       "      <td>15647311</td>\n",
       "      <td>Hill</td>\n",
       "      <td>608</td>\n",
       "      <td>Spain</td>\n",
       "      <td>Female</td>\n",
       "      <td>41</td>\n",
       "      <td>1.0</td>\n",
       "      <td>83807.86</td>\n",
       "      <td>1</td>\n",
       "      <td>0</td>\n",
       "      <td>1</td>\n",
       "      <td>112542.58</td>\n",
       "      <td>0</td>\n",
       "    </tr>\n",
       "    <tr>\n",
       "      <th>2</th>\n",
       "      <td>3</td>\n",
       "      <td>15619304</td>\n",
       "      <td>Onio</td>\n",
       "      <td>502</td>\n",
       "      <td>France</td>\n",
       "      <td>Female</td>\n",
       "      <td>42</td>\n",
       "      <td>8.0</td>\n",
       "      <td>159660.80</td>\n",
       "      <td>3</td>\n",
       "      <td>1</td>\n",
       "      <td>0</td>\n",
       "      <td>113931.57</td>\n",
       "      <td>1</td>\n",
       "    </tr>\n",
       "    <tr>\n",
       "      <th>3</th>\n",
       "      <td>4</td>\n",
       "      <td>15701354</td>\n",
       "      <td>Boni</td>\n",
       "      <td>699</td>\n",
       "      <td>France</td>\n",
       "      <td>Female</td>\n",
       "      <td>39</td>\n",
       "      <td>1.0</td>\n",
       "      <td>0.00</td>\n",
       "      <td>2</td>\n",
       "      <td>0</td>\n",
       "      <td>0</td>\n",
       "      <td>93826.63</td>\n",
       "      <td>0</td>\n",
       "    </tr>\n",
       "    <tr>\n",
       "      <th>4</th>\n",
       "      <td>5</td>\n",
       "      <td>15737888</td>\n",
       "      <td>Mitchell</td>\n",
       "      <td>850</td>\n",
       "      <td>Spain</td>\n",
       "      <td>Female</td>\n",
       "      <td>43</td>\n",
       "      <td>2.0</td>\n",
       "      <td>125510.82</td>\n",
       "      <td>1</td>\n",
       "      <td>1</td>\n",
       "      <td>1</td>\n",
       "      <td>79084.10</td>\n",
       "      <td>0</td>\n",
       "    </tr>\n",
       "  </tbody>\n",
       "</table>\n",
       "</div>"
      ],
      "text/plain": [
       "   row_number  customer_id   surname  credit_score geography  gender  age  \\\n",
       "0           1     15634602  Hargrave           619    France  Female   42   \n",
       "1           2     15647311      Hill           608     Spain  Female   41   \n",
       "2           3     15619304      Onio           502    France  Female   42   \n",
       "3           4     15701354      Boni           699    France  Female   39   \n",
       "4           5     15737888  Mitchell           850     Spain  Female   43   \n",
       "\n",
       "   tenure    balance  num_of_products  has_cr_card  is_active_member  \\\n",
       "0     2.0       0.00                1            1                 1   \n",
       "1     1.0   83807.86                1            0                 1   \n",
       "2     8.0  159660.80                3            1                 0   \n",
       "3     1.0       0.00                2            0                 0   \n",
       "4     2.0  125510.82                1            1                 1   \n",
       "\n",
       "   estimated_salary  exited  \n",
       "0         101348.88       1  \n",
       "1         112542.58       0  \n",
       "2         113931.57       1  \n",
       "3          93826.63       0  \n",
       "4          79084.10       0  "
      ]
     },
     "execution_count": 8,
     "metadata": {},
     "output_type": "execute_result"
    }
   ],
   "source": [
    "data.head()"
   ]
  },
  {
   "cell_type": "code",
   "execution_count": 9,
   "metadata": {},
   "outputs": [],
   "source": [
    "#приведем поле tenure к целочисленному типу данных\n",
    "data['tenure'] = data['tenure'].astype(\"Int64\")"
   ]
  },
  {
   "cell_type": "code",
   "execution_count": 10,
   "metadata": {},
   "outputs": [
    {
     "data": {
      "text/plain": [
       "Int64Dtype()"
      ]
     },
     "execution_count": 10,
     "metadata": {},
     "output_type": "execute_result"
    }
   ],
   "source": [
    "#Проверим преобразование\n",
    "data['tenure'].dtype"
   ]
  },
  {
   "cell_type": "code",
   "execution_count": 11,
   "metadata": {},
   "outputs": [
    {
     "data": {
      "text/plain": [
       "row_number            0\n",
       "customer_id           0\n",
       "surname               0\n",
       "credit_score          0\n",
       "geography             0\n",
       "gender                0\n",
       "age                   0\n",
       "tenure              909\n",
       "balance               0\n",
       "num_of_products       0\n",
       "has_cr_card           0\n",
       "is_active_member      0\n",
       "estimated_salary      0\n",
       "exited                0\n",
       "dtype: int64"
      ]
     },
     "execution_count": 11,
     "metadata": {},
     "output_type": "execute_result"
    }
   ],
   "source": [
    "#Проверим данные на пропуски\n",
    "data.isna().sum()"
   ]
  },
  {
   "cell_type": "code",
   "execution_count": 12,
   "metadata": {},
   "outputs": [
    {
     "data": {
      "text/html": [
       "<div>\n",
       "<style scoped>\n",
       "    .dataframe tbody tr th:only-of-type {\n",
       "        vertical-align: middle;\n",
       "    }\n",
       "\n",
       "    .dataframe tbody tr th {\n",
       "        vertical-align: top;\n",
       "    }\n",
       "\n",
       "    .dataframe thead th {\n",
       "        text-align: right;\n",
       "    }\n",
       "</style>\n",
       "<table border=\"1\" class=\"dataframe\">\n",
       "  <thead>\n",
       "    <tr style=\"text-align: right;\">\n",
       "      <th></th>\n",
       "      <th>row_number</th>\n",
       "      <th>customer_id</th>\n",
       "      <th>surname</th>\n",
       "      <th>credit_score</th>\n",
       "      <th>geography</th>\n",
       "      <th>gender</th>\n",
       "      <th>age</th>\n",
       "      <th>tenure</th>\n",
       "      <th>balance</th>\n",
       "      <th>num_of_products</th>\n",
       "      <th>has_cr_card</th>\n",
       "      <th>is_active_member</th>\n",
       "      <th>estimated_salary</th>\n",
       "      <th>exited</th>\n",
       "    </tr>\n",
       "  </thead>\n",
       "  <tbody>\n",
       "    <tr>\n",
       "      <th>30</th>\n",
       "      <td>31</td>\n",
       "      <td>15589475</td>\n",
       "      <td>Azikiwe</td>\n",
       "      <td>591</td>\n",
       "      <td>Spain</td>\n",
       "      <td>Female</td>\n",
       "      <td>39</td>\n",
       "      <td>&lt;NA&gt;</td>\n",
       "      <td>0.00</td>\n",
       "      <td>3</td>\n",
       "      <td>1</td>\n",
       "      <td>0</td>\n",
       "      <td>140469.38</td>\n",
       "      <td>1</td>\n",
       "    </tr>\n",
       "    <tr>\n",
       "      <th>48</th>\n",
       "      <td>49</td>\n",
       "      <td>15766205</td>\n",
       "      <td>Yin</td>\n",
       "      <td>550</td>\n",
       "      <td>Germany</td>\n",
       "      <td>Male</td>\n",
       "      <td>38</td>\n",
       "      <td>&lt;NA&gt;</td>\n",
       "      <td>103391.38</td>\n",
       "      <td>1</td>\n",
       "      <td>0</td>\n",
       "      <td>1</td>\n",
       "      <td>90878.13</td>\n",
       "      <td>0</td>\n",
       "    </tr>\n",
       "    <tr>\n",
       "      <th>51</th>\n",
       "      <td>52</td>\n",
       "      <td>15768193</td>\n",
       "      <td>Trevisani</td>\n",
       "      <td>585</td>\n",
       "      <td>Germany</td>\n",
       "      <td>Male</td>\n",
       "      <td>36</td>\n",
       "      <td>&lt;NA&gt;</td>\n",
       "      <td>146050.97</td>\n",
       "      <td>2</td>\n",
       "      <td>0</td>\n",
       "      <td>0</td>\n",
       "      <td>86424.57</td>\n",
       "      <td>0</td>\n",
       "    </tr>\n",
       "    <tr>\n",
       "      <th>53</th>\n",
       "      <td>54</td>\n",
       "      <td>15702298</td>\n",
       "      <td>Parkhill</td>\n",
       "      <td>655</td>\n",
       "      <td>Germany</td>\n",
       "      <td>Male</td>\n",
       "      <td>41</td>\n",
       "      <td>&lt;NA&gt;</td>\n",
       "      <td>125561.97</td>\n",
       "      <td>1</td>\n",
       "      <td>0</td>\n",
       "      <td>0</td>\n",
       "      <td>164040.94</td>\n",
       "      <td>1</td>\n",
       "    </tr>\n",
       "    <tr>\n",
       "      <th>60</th>\n",
       "      <td>61</td>\n",
       "      <td>15651280</td>\n",
       "      <td>Hunter</td>\n",
       "      <td>742</td>\n",
       "      <td>Germany</td>\n",
       "      <td>Male</td>\n",
       "      <td>35</td>\n",
       "      <td>&lt;NA&gt;</td>\n",
       "      <td>136857.00</td>\n",
       "      <td>1</td>\n",
       "      <td>0</td>\n",
       "      <td>0</td>\n",
       "      <td>84509.57</td>\n",
       "      <td>0</td>\n",
       "    </tr>\n",
       "    <tr>\n",
       "      <th>...</th>\n",
       "      <td>...</td>\n",
       "      <td>...</td>\n",
       "      <td>...</td>\n",
       "      <td>...</td>\n",
       "      <td>...</td>\n",
       "      <td>...</td>\n",
       "      <td>...</td>\n",
       "      <td>...</td>\n",
       "      <td>...</td>\n",
       "      <td>...</td>\n",
       "      <td>...</td>\n",
       "      <td>...</td>\n",
       "      <td>...</td>\n",
       "      <td>...</td>\n",
       "    </tr>\n",
       "    <tr>\n",
       "      <th>9944</th>\n",
       "      <td>9945</td>\n",
       "      <td>15703923</td>\n",
       "      <td>Cameron</td>\n",
       "      <td>744</td>\n",
       "      <td>Germany</td>\n",
       "      <td>Male</td>\n",
       "      <td>41</td>\n",
       "      <td>&lt;NA&gt;</td>\n",
       "      <td>190409.34</td>\n",
       "      <td>2</td>\n",
       "      <td>1</td>\n",
       "      <td>1</td>\n",
       "      <td>138361.48</td>\n",
       "      <td>0</td>\n",
       "    </tr>\n",
       "    <tr>\n",
       "      <th>9956</th>\n",
       "      <td>9957</td>\n",
       "      <td>15707861</td>\n",
       "      <td>Nucci</td>\n",
       "      <td>520</td>\n",
       "      <td>France</td>\n",
       "      <td>Female</td>\n",
       "      <td>46</td>\n",
       "      <td>&lt;NA&gt;</td>\n",
       "      <td>85216.61</td>\n",
       "      <td>1</td>\n",
       "      <td>1</td>\n",
       "      <td>0</td>\n",
       "      <td>117369.52</td>\n",
       "      <td>1</td>\n",
       "    </tr>\n",
       "    <tr>\n",
       "      <th>9964</th>\n",
       "      <td>9965</td>\n",
       "      <td>15642785</td>\n",
       "      <td>Douglas</td>\n",
       "      <td>479</td>\n",
       "      <td>France</td>\n",
       "      <td>Male</td>\n",
       "      <td>34</td>\n",
       "      <td>&lt;NA&gt;</td>\n",
       "      <td>117593.48</td>\n",
       "      <td>2</td>\n",
       "      <td>0</td>\n",
       "      <td>0</td>\n",
       "      <td>113308.29</td>\n",
       "      <td>0</td>\n",
       "    </tr>\n",
       "    <tr>\n",
       "      <th>9985</th>\n",
       "      <td>9986</td>\n",
       "      <td>15586914</td>\n",
       "      <td>Nepean</td>\n",
       "      <td>659</td>\n",
       "      <td>France</td>\n",
       "      <td>Male</td>\n",
       "      <td>36</td>\n",
       "      <td>&lt;NA&gt;</td>\n",
       "      <td>123841.49</td>\n",
       "      <td>2</td>\n",
       "      <td>1</td>\n",
       "      <td>0</td>\n",
       "      <td>96833.00</td>\n",
       "      <td>0</td>\n",
       "    </tr>\n",
       "    <tr>\n",
       "      <th>9999</th>\n",
       "      <td>10000</td>\n",
       "      <td>15628319</td>\n",
       "      <td>Walker</td>\n",
       "      <td>792</td>\n",
       "      <td>France</td>\n",
       "      <td>Female</td>\n",
       "      <td>28</td>\n",
       "      <td>&lt;NA&gt;</td>\n",
       "      <td>130142.79</td>\n",
       "      <td>1</td>\n",
       "      <td>1</td>\n",
       "      <td>0</td>\n",
       "      <td>38190.78</td>\n",
       "      <td>0</td>\n",
       "    </tr>\n",
       "  </tbody>\n",
       "</table>\n",
       "<p>909 rows × 14 columns</p>\n",
       "</div>"
      ],
      "text/plain": [
       "      row_number  customer_id    surname  credit_score geography  gender  age  \\\n",
       "30            31     15589475    Azikiwe           591     Spain  Female   39   \n",
       "48            49     15766205        Yin           550   Germany    Male   38   \n",
       "51            52     15768193  Trevisani           585   Germany    Male   36   \n",
       "53            54     15702298   Parkhill           655   Germany    Male   41   \n",
       "60            61     15651280     Hunter           742   Germany    Male   35   \n",
       "...          ...          ...        ...           ...       ...     ...  ...   \n",
       "9944        9945     15703923    Cameron           744   Germany    Male   41   \n",
       "9956        9957     15707861      Nucci           520    France  Female   46   \n",
       "9964        9965     15642785    Douglas           479    France    Male   34   \n",
       "9985        9986     15586914     Nepean           659    France    Male   36   \n",
       "9999       10000     15628319     Walker           792    France  Female   28   \n",
       "\n",
       "      tenure    balance  num_of_products  has_cr_card  is_active_member  \\\n",
       "30      <NA>       0.00                3            1                 0   \n",
       "48      <NA>  103391.38                1            0                 1   \n",
       "51      <NA>  146050.97                2            0                 0   \n",
       "53      <NA>  125561.97                1            0                 0   \n",
       "60      <NA>  136857.00                1            0                 0   \n",
       "...      ...        ...              ...          ...               ...   \n",
       "9944    <NA>  190409.34                2            1                 1   \n",
       "9956    <NA>   85216.61                1            1                 0   \n",
       "9964    <NA>  117593.48                2            0                 0   \n",
       "9985    <NA>  123841.49                2            1                 0   \n",
       "9999    <NA>  130142.79                1            1                 0   \n",
       "\n",
       "      estimated_salary  exited  \n",
       "30           140469.38       1  \n",
       "48            90878.13       0  \n",
       "51            86424.57       0  \n",
       "53           164040.94       1  \n",
       "60            84509.57       0  \n",
       "...                ...     ...  \n",
       "9944         138361.48       0  \n",
       "9956         117369.52       1  \n",
       "9964         113308.29       0  \n",
       "9985          96833.00       0  \n",
       "9999          38190.78       0  \n",
       "\n",
       "[909 rows x 14 columns]"
      ]
     },
     "execution_count": 12,
     "metadata": {},
     "output_type": "execute_result"
    }
   ],
   "source": [
    "data[data['tenure'].isna()]"
   ]
  },
  {
   "cell_type": "code",
   "execution_count": 13,
   "metadata": {},
   "outputs": [
    {
     "data": {
      "text/html": [
       "<div>\n",
       "<style scoped>\n",
       "    .dataframe tbody tr th:only-of-type {\n",
       "        vertical-align: middle;\n",
       "    }\n",
       "\n",
       "    .dataframe tbody tr th {\n",
       "        vertical-align: top;\n",
       "    }\n",
       "\n",
       "    .dataframe thead th {\n",
       "        text-align: right;\n",
       "    }\n",
       "</style>\n",
       "<table border=\"1\" class=\"dataframe\">\n",
       "  <thead>\n",
       "    <tr style=\"text-align: right;\">\n",
       "      <th></th>\n",
       "      <th>row_number</th>\n",
       "      <th>customer_id</th>\n",
       "      <th>surname</th>\n",
       "      <th>credit_score</th>\n",
       "      <th>geography</th>\n",
       "      <th>gender</th>\n",
       "      <th>age</th>\n",
       "      <th>tenure</th>\n",
       "      <th>balance</th>\n",
       "      <th>num_of_products</th>\n",
       "      <th>has_cr_card</th>\n",
       "      <th>is_active_member</th>\n",
       "      <th>estimated_salary</th>\n",
       "      <th>exited</th>\n",
       "    </tr>\n",
       "  </thead>\n",
       "  <tbody>\n",
       "    <tr>\n",
       "      <th>29</th>\n",
       "      <td>30</td>\n",
       "      <td>15656300</td>\n",
       "      <td>Lucciano</td>\n",
       "      <td>411</td>\n",
       "      <td>France</td>\n",
       "      <td>Male</td>\n",
       "      <td>29</td>\n",
       "      <td>0</td>\n",
       "      <td>59697.17</td>\n",
       "      <td>2</td>\n",
       "      <td>1</td>\n",
       "      <td>1</td>\n",
       "      <td>53483.21</td>\n",
       "      <td>0</td>\n",
       "    </tr>\n",
       "    <tr>\n",
       "      <th>35</th>\n",
       "      <td>36</td>\n",
       "      <td>15794171</td>\n",
       "      <td>Lombardo</td>\n",
       "      <td>475</td>\n",
       "      <td>France</td>\n",
       "      <td>Female</td>\n",
       "      <td>45</td>\n",
       "      <td>0</td>\n",
       "      <td>134264.04</td>\n",
       "      <td>1</td>\n",
       "      <td>1</td>\n",
       "      <td>0</td>\n",
       "      <td>27822.99</td>\n",
       "      <td>1</td>\n",
       "    </tr>\n",
       "    <tr>\n",
       "      <th>57</th>\n",
       "      <td>58</td>\n",
       "      <td>15647091</td>\n",
       "      <td>Endrizzi</td>\n",
       "      <td>725</td>\n",
       "      <td>Germany</td>\n",
       "      <td>Male</td>\n",
       "      <td>19</td>\n",
       "      <td>0</td>\n",
       "      <td>75888.20</td>\n",
       "      <td>1</td>\n",
       "      <td>0</td>\n",
       "      <td>0</td>\n",
       "      <td>45613.75</td>\n",
       "      <td>0</td>\n",
       "    </tr>\n",
       "    <tr>\n",
       "      <th>72</th>\n",
       "      <td>73</td>\n",
       "      <td>15812518</td>\n",
       "      <td>Palermo</td>\n",
       "      <td>657</td>\n",
       "      <td>Spain</td>\n",
       "      <td>Female</td>\n",
       "      <td>37</td>\n",
       "      <td>0</td>\n",
       "      <td>163607.18</td>\n",
       "      <td>1</td>\n",
       "      <td>0</td>\n",
       "      <td>1</td>\n",
       "      <td>44203.55</td>\n",
       "      <td>0</td>\n",
       "    </tr>\n",
       "    <tr>\n",
       "      <th>127</th>\n",
       "      <td>128</td>\n",
       "      <td>15782688</td>\n",
       "      <td>Piccio</td>\n",
       "      <td>625</td>\n",
       "      <td>Germany</td>\n",
       "      <td>Male</td>\n",
       "      <td>56</td>\n",
       "      <td>0</td>\n",
       "      <td>148507.24</td>\n",
       "      <td>1</td>\n",
       "      <td>1</td>\n",
       "      <td>0</td>\n",
       "      <td>46824.08</td>\n",
       "      <td>1</td>\n",
       "    </tr>\n",
       "    <tr>\n",
       "      <th>...</th>\n",
       "      <td>...</td>\n",
       "      <td>...</td>\n",
       "      <td>...</td>\n",
       "      <td>...</td>\n",
       "      <td>...</td>\n",
       "      <td>...</td>\n",
       "      <td>...</td>\n",
       "      <td>...</td>\n",
       "      <td>...</td>\n",
       "      <td>...</td>\n",
       "      <td>...</td>\n",
       "      <td>...</td>\n",
       "      <td>...</td>\n",
       "      <td>...</td>\n",
       "    </tr>\n",
       "    <tr>\n",
       "      <th>9793</th>\n",
       "      <td>9794</td>\n",
       "      <td>15772363</td>\n",
       "      <td>Hilton</td>\n",
       "      <td>772</td>\n",
       "      <td>Germany</td>\n",
       "      <td>Female</td>\n",
       "      <td>42</td>\n",
       "      <td>0</td>\n",
       "      <td>101979.16</td>\n",
       "      <td>1</td>\n",
       "      <td>1</td>\n",
       "      <td>0</td>\n",
       "      <td>90928.48</td>\n",
       "      <td>0</td>\n",
       "    </tr>\n",
       "    <tr>\n",
       "      <th>9799</th>\n",
       "      <td>9800</td>\n",
       "      <td>15722731</td>\n",
       "      <td>Manna</td>\n",
       "      <td>653</td>\n",
       "      <td>France</td>\n",
       "      <td>Male</td>\n",
       "      <td>46</td>\n",
       "      <td>0</td>\n",
       "      <td>119556.10</td>\n",
       "      <td>1</td>\n",
       "      <td>1</td>\n",
       "      <td>0</td>\n",
       "      <td>78250.13</td>\n",
       "      <td>1</td>\n",
       "    </tr>\n",
       "    <tr>\n",
       "      <th>9843</th>\n",
       "      <td>9844</td>\n",
       "      <td>15778304</td>\n",
       "      <td>Fan</td>\n",
       "      <td>646</td>\n",
       "      <td>Germany</td>\n",
       "      <td>Male</td>\n",
       "      <td>24</td>\n",
       "      <td>0</td>\n",
       "      <td>92398.08</td>\n",
       "      <td>1</td>\n",
       "      <td>1</td>\n",
       "      <td>1</td>\n",
       "      <td>18897.29</td>\n",
       "      <td>0</td>\n",
       "    </tr>\n",
       "    <tr>\n",
       "      <th>9868</th>\n",
       "      <td>9869</td>\n",
       "      <td>15587640</td>\n",
       "      <td>Rowntree</td>\n",
       "      <td>718</td>\n",
       "      <td>France</td>\n",
       "      <td>Female</td>\n",
       "      <td>43</td>\n",
       "      <td>0</td>\n",
       "      <td>93143.39</td>\n",
       "      <td>1</td>\n",
       "      <td>1</td>\n",
       "      <td>0</td>\n",
       "      <td>167554.86</td>\n",
       "      <td>0</td>\n",
       "    </tr>\n",
       "    <tr>\n",
       "      <th>9919</th>\n",
       "      <td>9920</td>\n",
       "      <td>15798084</td>\n",
       "      <td>Murray</td>\n",
       "      <td>688</td>\n",
       "      <td>France</td>\n",
       "      <td>Male</td>\n",
       "      <td>26</td>\n",
       "      <td>0</td>\n",
       "      <td>0.00</td>\n",
       "      <td>2</td>\n",
       "      <td>1</td>\n",
       "      <td>0</td>\n",
       "      <td>105784.85</td>\n",
       "      <td>0</td>\n",
       "    </tr>\n",
       "  </tbody>\n",
       "</table>\n",
       "<p>382 rows × 14 columns</p>\n",
       "</div>"
      ],
      "text/plain": [
       "      row_number  customer_id   surname  credit_score geography  gender  age  \\\n",
       "29            30     15656300  Lucciano           411    France    Male   29   \n",
       "35            36     15794171  Lombardo           475    France  Female   45   \n",
       "57            58     15647091  Endrizzi           725   Germany    Male   19   \n",
       "72            73     15812518   Palermo           657     Spain  Female   37   \n",
       "127          128     15782688    Piccio           625   Germany    Male   56   \n",
       "...          ...          ...       ...           ...       ...     ...  ...   \n",
       "9793        9794     15772363    Hilton           772   Germany  Female   42   \n",
       "9799        9800     15722731     Manna           653    France    Male   46   \n",
       "9843        9844     15778304       Fan           646   Germany    Male   24   \n",
       "9868        9869     15587640  Rowntree           718    France  Female   43   \n",
       "9919        9920     15798084    Murray           688    France    Male   26   \n",
       "\n",
       "      tenure    balance  num_of_products  has_cr_card  is_active_member  \\\n",
       "29         0   59697.17                2            1                 1   \n",
       "35         0  134264.04                1            1                 0   \n",
       "57         0   75888.20                1            0                 0   \n",
       "72         0  163607.18                1            0                 1   \n",
       "127        0  148507.24                1            1                 0   \n",
       "...      ...        ...              ...          ...               ...   \n",
       "9793       0  101979.16                1            1                 0   \n",
       "9799       0  119556.10                1            1                 0   \n",
       "9843       0   92398.08                1            1                 1   \n",
       "9868       0   93143.39                1            1                 0   \n",
       "9919       0       0.00                2            1                 0   \n",
       "\n",
       "      estimated_salary  exited  \n",
       "29            53483.21       0  \n",
       "35            27822.99       1  \n",
       "57            45613.75       0  \n",
       "72            44203.55       0  \n",
       "127           46824.08       1  \n",
       "...                ...     ...  \n",
       "9793          90928.48       0  \n",
       "9799          78250.13       1  \n",
       "9843          18897.29       0  \n",
       "9868         167554.86       0  \n",
       "9919         105784.85       0  \n",
       "\n",
       "[382 rows x 14 columns]"
      ]
     },
     "execution_count": 13,
     "metadata": {},
     "output_type": "execute_result"
    }
   ],
   "source": [
    "data[data['tenure'] == 0]"
   ]
  },
  {
   "cell_type": "markdown",
   "metadata": {},
   "source": [
    "<div class=\"alert alert-block alert-info\">\n",
    "Видим, что в поле Tenure, количество лет, при котором человек является клиентом банка, присутствуют пропуски. Заменить на нули эти пропуски мы не можем, так как уже в датасете присутствуют объекты с значением поля, равным 0. Наиболее целесообразно удалить эти пропуски.\n",
    "</div>"
   ]
  },
  {
   "cell_type": "code",
   "execution_count": 14,
   "metadata": {},
   "outputs": [
    {
     "data": {
      "text/html": [
       "<div>\n",
       "<style scoped>\n",
       "    .dataframe tbody tr th:only-of-type {\n",
       "        vertical-align: middle;\n",
       "    }\n",
       "\n",
       "    .dataframe tbody tr th {\n",
       "        vertical-align: top;\n",
       "    }\n",
       "\n",
       "    .dataframe thead th {\n",
       "        text-align: right;\n",
       "    }\n",
       "</style>\n",
       "<table border=\"1\" class=\"dataframe\">\n",
       "  <thead>\n",
       "    <tr style=\"text-align: right;\">\n",
       "      <th></th>\n",
       "      <th>row_number</th>\n",
       "      <th>customer_id</th>\n",
       "      <th>surname</th>\n",
       "      <th>credit_score</th>\n",
       "      <th>geography</th>\n",
       "      <th>gender</th>\n",
       "      <th>age</th>\n",
       "      <th>tenure</th>\n",
       "      <th>balance</th>\n",
       "      <th>num_of_products</th>\n",
       "      <th>has_cr_card</th>\n",
       "      <th>is_active_member</th>\n",
       "      <th>estimated_salary</th>\n",
       "      <th>exited</th>\n",
       "    </tr>\n",
       "  </thead>\n",
       "  <tbody>\n",
       "    <tr>\n",
       "      <th>0</th>\n",
       "      <td>1</td>\n",
       "      <td>15634602</td>\n",
       "      <td>Hargrave</td>\n",
       "      <td>619</td>\n",
       "      <td>France</td>\n",
       "      <td>Female</td>\n",
       "      <td>42</td>\n",
       "      <td>2</td>\n",
       "      <td>0.0</td>\n",
       "      <td>1</td>\n",
       "      <td>1</td>\n",
       "      <td>1</td>\n",
       "      <td>101348.88</td>\n",
       "      <td>1</td>\n",
       "    </tr>\n",
       "  </tbody>\n",
       "</table>\n",
       "</div>"
      ],
      "text/plain": [
       "   row_number  customer_id   surname  credit_score geography  gender  age  \\\n",
       "0           1     15634602  Hargrave           619    France  Female   42   \n",
       "\n",
       "   tenure  balance  num_of_products  has_cr_card  is_active_member  \\\n",
       "0       2      0.0                1            1                 1   \n",
       "\n",
       "   estimated_salary  exited  \n",
       "0         101348.88       1  "
      ]
     },
     "execution_count": 14,
     "metadata": {},
     "output_type": "execute_result"
    }
   ],
   "source": [
    "data.head(1)"
   ]
  },
  {
   "cell_type": "code",
   "execution_count": 15,
   "metadata": {},
   "outputs": [
    {
     "data": {
      "text/html": [
       "<div>\n",
       "<style scoped>\n",
       "    .dataframe tbody tr th:only-of-type {\n",
       "        vertical-align: middle;\n",
       "    }\n",
       "\n",
       "    .dataframe tbody tr th {\n",
       "        vertical-align: top;\n",
       "    }\n",
       "\n",
       "    .dataframe thead th {\n",
       "        text-align: right;\n",
       "    }\n",
       "</style>\n",
       "<table border=\"1\" class=\"dataframe\">\n",
       "  <thead>\n",
       "    <tr style=\"text-align: right;\">\n",
       "      <th></th>\n",
       "      <th>credit_score</th>\n",
       "      <th>age</th>\n",
       "      <th>tenure</th>\n",
       "      <th>num_of_products</th>\n",
       "      <th>estimated_salary</th>\n",
       "    </tr>\n",
       "  </thead>\n",
       "  <tbody>\n",
       "    <tr>\n",
       "      <th>count</th>\n",
       "      <td>10000.000000</td>\n",
       "      <td>10000.000000</td>\n",
       "      <td>9091.000000</td>\n",
       "      <td>10000.000000</td>\n",
       "      <td>10000.000000</td>\n",
       "    </tr>\n",
       "    <tr>\n",
       "      <th>mean</th>\n",
       "      <td>650.528800</td>\n",
       "      <td>38.921800</td>\n",
       "      <td>4.997690</td>\n",
       "      <td>1.530200</td>\n",
       "      <td>100090.239881</td>\n",
       "    </tr>\n",
       "    <tr>\n",
       "      <th>std</th>\n",
       "      <td>96.653299</td>\n",
       "      <td>10.487806</td>\n",
       "      <td>2.894723</td>\n",
       "      <td>0.581654</td>\n",
       "      <td>57510.492818</td>\n",
       "    </tr>\n",
       "    <tr>\n",
       "      <th>min</th>\n",
       "      <td>350.000000</td>\n",
       "      <td>18.000000</td>\n",
       "      <td>0.000000</td>\n",
       "      <td>1.000000</td>\n",
       "      <td>11.580000</td>\n",
       "    </tr>\n",
       "    <tr>\n",
       "      <th>25%</th>\n",
       "      <td>584.000000</td>\n",
       "      <td>32.000000</td>\n",
       "      <td>2.000000</td>\n",
       "      <td>1.000000</td>\n",
       "      <td>51002.110000</td>\n",
       "    </tr>\n",
       "    <tr>\n",
       "      <th>50%</th>\n",
       "      <td>652.000000</td>\n",
       "      <td>37.000000</td>\n",
       "      <td>5.000000</td>\n",
       "      <td>1.000000</td>\n",
       "      <td>100193.915000</td>\n",
       "    </tr>\n",
       "    <tr>\n",
       "      <th>75%</th>\n",
       "      <td>718.000000</td>\n",
       "      <td>44.000000</td>\n",
       "      <td>7.000000</td>\n",
       "      <td>2.000000</td>\n",
       "      <td>149388.247500</td>\n",
       "    </tr>\n",
       "    <tr>\n",
       "      <th>max</th>\n",
       "      <td>850.000000</td>\n",
       "      <td>92.000000</td>\n",
       "      <td>10.000000</td>\n",
       "      <td>4.000000</td>\n",
       "      <td>199992.480000</td>\n",
       "    </tr>\n",
       "  </tbody>\n",
       "</table>\n",
       "</div>"
      ],
      "text/plain": [
       "       credit_score           age       tenure  num_of_products  \\\n",
       "count  10000.000000  10000.000000  9091.000000     10000.000000   \n",
       "mean     650.528800     38.921800     4.997690         1.530200   \n",
       "std       96.653299     10.487806     2.894723         0.581654   \n",
       "min      350.000000     18.000000     0.000000         1.000000   \n",
       "25%      584.000000     32.000000     2.000000         1.000000   \n",
       "50%      652.000000     37.000000     5.000000         1.000000   \n",
       "75%      718.000000     44.000000     7.000000         2.000000   \n",
       "max      850.000000     92.000000    10.000000         4.000000   \n",
       "\n",
       "       estimated_salary  \n",
       "count      10000.000000  \n",
       "mean      100090.239881  \n",
       "std        57510.492818  \n",
       "min           11.580000  \n",
       "25%        51002.110000  \n",
       "50%       100193.915000  \n",
       "75%       149388.247500  \n",
       "max       199992.480000  "
      ]
     },
     "execution_count": 15,
     "metadata": {},
     "output_type": "execute_result"
    }
   ],
   "source": [
    "data[['credit_score', 'age', 'tenure', 'num_of_products', 'estimated_salary']].describe()"
   ]
  },
  {
   "cell_type": "markdown",
   "metadata": {},
   "source": [
    "<div class=\"alert alert-info\">\n",
    "<h2> Комментарий студента<a class=\"tocSkip\"></h2>\n",
    "<hr>  \n",
    "Проверку на дубликаты и я осуществила изначально в коде ниже.\n",
    "\n",
    "Методом describe можно проанализировать, как распределены данные (количественные признаки), а также можно выявить аномалии. \n",
    "\n",
    "Медиана и среднее в поле credit_score примерно равны, std- небольшое, это говорит о том, что credit_score большинства объектов тяготеет к среднему. Аномалий в данном поле не выявлено.\n",
    "    \n",
    "В поле age данные распределены примерно одинаково, аномалий не выявлено.\n",
    "    \n",
    "Аналогично и в поле tenure и num_of_products.\n",
    "    \n",
    "А вот в поле estimated salary смущает минимальная зарплата.\n",
    "\n",
    "\n",
    "</div>"
   ]
  },
  {
   "cell_type": "code",
   "execution_count": 16,
   "metadata": {},
   "outputs": [
    {
     "data": {
      "text/plain": [
       "508"
      ]
     },
     "execution_count": 16,
     "metadata": {},
     "output_type": "execute_result"
    }
   ],
   "source": [
    "#Посмотрим, сколько объектов с зарплатой меньше примерно минимальной\n",
    "len(data[data['estimated_salary'] < 10000])"
   ]
  },
  {
   "cell_type": "code",
   "execution_count": 17,
   "metadata": {},
   "outputs": [
    {
     "data": {
      "text/plain": [
       "<AxesSubplot:xlabel='estimated_salary'>"
      ]
     },
     "execution_count": 17,
     "metadata": {},
     "output_type": "execute_result"
    },
    {
     "data": {
      "image/png": "[encoded data removed]",
      "text/plain": [
       "<Figure size 576x288 with 1 Axes>"
      ]
     },
     "metadata": {},
     "output_type": "display_data"
    }
   ],
   "source": [
    "#Посмотрим на диаграмму размаха\n",
    "sns.set_theme(style=\"whitegrid\")\n",
    "sns.boxplot(x=data['estimated_salary'])"
   ]
  },
  {
   "cell_type": "markdown",
   "metadata": {},
   "source": [
    "<div class=\"alert alert-info\">\n",
    "Судя по диаграмме размаха, выбросов за пределами усов нет, значит не будем отбрасывать данные.\n",
    "</div>"
   ]
  },
  {
   "cell_type": "code",
   "execution_count": 18,
   "metadata": {},
   "outputs": [],
   "source": [
    "#Отберем 10% данных с пропусками в tenure\n",
    "data_for_knn = (\n",
    "    data[data['tenure'].isna()]\n",
    "    .sample(frac=0.1, random_state=12345)\n",
    ")\n",
    "#удалим все объекты в пропусками в tenure\n",
    "data = data.dropna(subset=['tenure'])\n",
    "#присоединим data_for_knn к общему массиву\n",
    "data = pd.concat([data, data_for_knn])\n",
    "#Перемешаем объекты\n",
    "data = shuffle(data, random_state=12345).reset_index(drop=True)"
   ]
  },
  {
   "cell_type": "code",
   "execution_count": 19,
   "metadata": {},
   "outputs": [
    {
     "data": {
      "text/plain": [
       "91"
      ]
     },
     "execution_count": 19,
     "metadata": {},
     "output_type": "execute_result"
    }
   ],
   "source": [
    "#Проверим количество пропусков после преобразования\n",
    "data['tenure'].isna().sum()"
   ]
  },
  {
   "cell_type": "code",
   "execution_count": 20,
   "metadata": {},
   "outputs": [],
   "source": [
    "#Отберем количественные признаки\n",
    "quant_features = ['credit_score', 'age', 'balance', 'tenure', 'estimated_salary', 'exited']"
   ]
  },
  {
   "cell_type": "code",
   "execution_count": 21,
   "metadata": {},
   "outputs": [],
   "source": [
    "#Замением пропущенные значения при помощи KNNInmputer\n",
    "imputer = KNNImputer(weights='uniform')\n",
    "data[quant_features] = imputer.fit_transform(data[quant_features])"
   ]
  },
  {
   "cell_type": "code",
   "execution_count": 22,
   "metadata": {},
   "outputs": [
    {
     "name": "stdout",
     "output_type": "stream",
     "text": [
      "Уникальные значения: [ 8.   5.   4.   7.   3.   6.   9.   0.  10.   2.   1.   3.6  5.4  4.6\n",
      "  4.8  5.8  5.2  4.4  3.8  3.4  6.8  3.2  6.6  6.2  4.2  6.4  5.6  2.6\n",
      "  7.6  2.4]\n",
      "Количество пропущенных значений: 0\n"
     ]
    }
   ],
   "source": [
    "#Проверим результат\n",
    "print(\"Уникальные значения:\", data['tenure'].unique())\n",
    "print(\"Количество пропущенных значений:\", data['tenure'].isna().sum())"
   ]
  },
  {
   "cell_type": "code",
   "execution_count": 23,
   "metadata": {},
   "outputs": [],
   "source": [
    "#Округлим значения признака tenure\n",
    "data['tenure'] = round(data['tenure'])"
   ]
  },
  {
   "cell_type": "markdown",
   "metadata": {},
   "source": [
    "<div class=\"alert alert-info\">\n",
    "<h2> Комментарий студента<a class=\"tocSkip\"></h2>\n",
    "<hr>  \n",
    "Оставила 10% объектов с пропусками\n",
    "\n",
    "</div>"
   ]
  },
  {
   "cell_type": "code",
   "execution_count": 24,
   "metadata": {},
   "outputs": [
    {
     "data": {
      "text/plain": [
       "0"
      ]
     },
     "execution_count": 24,
     "metadata": {},
     "output_type": "execute_result"
    }
   ],
   "source": [
    "#Проверим наличие явных дубликатов\n",
    "data.duplicated().sum()"
   ]
  },
  {
   "cell_type": "code",
   "execution_count": 25,
   "metadata": {},
   "outputs": [],
   "source": [
    "#Изучим корелляцию между некоторыми количественными признаками\n",
    "columns = ['credit_score', 'age', 'balance', 'estimated_salary', 'exited']"
   ]
  },
  {
   "cell_type": "code",
   "execution_count": 26,
   "metadata": {},
   "outputs": [
    {
     "data": {
      "text/plain": [
       "<seaborn.axisgrid.PairGrid at 0x7fefb45de430>"
      ]
     },
     "execution_count": 26,
     "metadata": {},
     "output_type": "execute_result"
    },
    {
     "data": {
      "image/png": "[encoded data removed]",
      "text/plain": [
       "<Figure size 776.975x720 with 20 Axes>"
      ]
     },
     "metadata": {},
     "output_type": "display_data"
    }
   ],
   "source": [
    "sns.pairplot(data[columns], hue='exited')"
   ]
  },
  {
   "cell_type": "markdown",
   "metadata": {},
   "source": [
    "<div class=\"alert alert-block alert-info\">\n",
    "Видим, что зависимость между данными признаками не наблюдается\n",
    "</div>"
   ]
  },
  {
   "cell_type": "code",
   "execution_count": 27,
   "metadata": {
    "scrolled": true
   },
   "outputs": [
    {
     "name": "stdout",
     "output_type": "stream",
     "text": [
      "Количество уникальных значений в поле surname 2803\n",
      "Количество уникальных значений в поле geography 3\n",
      "Количество уникальных значений в поле gender 2\n"
     ]
    }
   ],
   "source": [
    "#Преобразуем категориальные признаки, посмотрим на количество уникальных значений в данных полях\n",
    "print('Количество уникальных значений в поле surname', len(data['surname'].unique()))\n",
    "print('Количество уникальных значений в поле geography', len(data['geography'].unique()))\n",
    "print('Количество уникальных значений в поле gender', len(data['gender'].unique()))"
   ]
  },
  {
   "cell_type": "markdown",
   "metadata": {},
   "source": [
    "<div class=\"alert alert-block alert-info\">\n",
    "Думаю, поле surname кодировать не нужно, уберем данный признак, а также убрем из датасета признак customerid. Поле gender закодируем техникой One-Hot Encoding, geography - Ordinal Encoding\n",
    "</div>"
   ]
  },
  {
   "cell_type": "code",
   "execution_count": 28,
   "metadata": {},
   "outputs": [],
   "source": [
    "data = data.drop(['customer_id', 'surname', 'row_number'], axis=1)"
   ]
  },
  {
   "cell_type": "code",
   "execution_count": 29,
   "metadata": {},
   "outputs": [],
   "source": [
    "#Кодируем данные с аргументом drop_first=True для того, чтобы не попасть в дамми-ловушку\n",
    "data_ohe1 = pd.get_dummies(data['gender'], drop_first=True)"
   ]
  },
  {
   "cell_type": "code",
   "execution_count": 30,
   "metadata": {},
   "outputs": [
    {
     "data": {
      "text/html": [
       "<div>\n",
       "<style scoped>\n",
       "    .dataframe tbody tr th:only-of-type {\n",
       "        vertical-align: middle;\n",
       "    }\n",
       "\n",
       "    .dataframe tbody tr th {\n",
       "        vertical-align: top;\n",
       "    }\n",
       "\n",
       "    .dataframe thead th {\n",
       "        text-align: right;\n",
       "    }\n",
       "</style>\n",
       "<table border=\"1\" class=\"dataframe\">\n",
       "  <thead>\n",
       "    <tr style=\"text-align: right;\">\n",
       "      <th></th>\n",
       "      <th>Male</th>\n",
       "    </tr>\n",
       "  </thead>\n",
       "  <tbody>\n",
       "    <tr>\n",
       "      <th>0</th>\n",
       "      <td>1</td>\n",
       "    </tr>\n",
       "    <tr>\n",
       "      <th>1</th>\n",
       "      <td>0</td>\n",
       "    </tr>\n",
       "    <tr>\n",
       "      <th>2</th>\n",
       "      <td>0</td>\n",
       "    </tr>\n",
       "    <tr>\n",
       "      <th>3</th>\n",
       "      <td>1</td>\n",
       "    </tr>\n",
       "    <tr>\n",
       "      <th>4</th>\n",
       "      <td>1</td>\n",
       "    </tr>\n",
       "  </tbody>\n",
       "</table>\n",
       "</div>"
      ],
      "text/plain": [
       "   Male\n",
       "0     1\n",
       "1     0\n",
       "2     0\n",
       "3     1\n",
       "4     1"
      ]
     },
     "execution_count": 30,
     "metadata": {},
     "output_type": "execute_result"
    }
   ],
   "source": [
    "data_ohe1.head()"
   ]
  },
  {
   "cell_type": "code",
   "execution_count": 31,
   "metadata": {},
   "outputs": [],
   "source": [
    "data_ohe2 = pd.get_dummies(data['geography'])"
   ]
  },
  {
   "cell_type": "code",
   "execution_count": 32,
   "metadata": {},
   "outputs": [],
   "source": [
    "data = data.drop(['geography', 'gender'], axis=1)"
   ]
  },
  {
   "cell_type": "code",
   "execution_count": 33,
   "metadata": {},
   "outputs": [],
   "source": [
    "data = data.join([data_ohe1, data_ohe2])"
   ]
  },
  {
   "cell_type": "code",
   "execution_count": 34,
   "metadata": {},
   "outputs": [
    {
     "data": {
      "text/html": [
       "<div>\n",
       "<style scoped>\n",
       "    .dataframe tbody tr th:only-of-type {\n",
       "        vertical-align: middle;\n",
       "    }\n",
       "\n",
       "    .dataframe tbody tr th {\n",
       "        vertical-align: top;\n",
       "    }\n",
       "\n",
       "    .dataframe thead th {\n",
       "        text-align: right;\n",
       "    }\n",
       "</style>\n",
       "<table border=\"1\" class=\"dataframe\">\n",
       "  <thead>\n",
       "    <tr style=\"text-align: right;\">\n",
       "      <th></th>\n",
       "      <th>credit_score</th>\n",
       "      <th>age</th>\n",
       "      <th>tenure</th>\n",
       "      <th>balance</th>\n",
       "      <th>num_of_products</th>\n",
       "      <th>has_cr_card</th>\n",
       "      <th>is_active_member</th>\n",
       "      <th>estimated_salary</th>\n",
       "      <th>exited</th>\n",
       "      <th>Male</th>\n",
       "      <th>France</th>\n",
       "      <th>Germany</th>\n",
       "      <th>Spain</th>\n",
       "    </tr>\n",
       "  </thead>\n",
       "  <tbody>\n",
       "    <tr>\n",
       "      <th>0</th>\n",
       "      <td>681.0</td>\n",
       "      <td>37.0</td>\n",
       "      <td>8.0</td>\n",
       "      <td>73179.34</td>\n",
       "      <td>2</td>\n",
       "      <td>1</td>\n",
       "      <td>1</td>\n",
       "      <td>25292.53</td>\n",
       "      <td>0.0</td>\n",
       "      <td>1</td>\n",
       "      <td>0</td>\n",
       "      <td>1</td>\n",
       "      <td>0</td>\n",
       "    </tr>\n",
       "    <tr>\n",
       "      <th>1</th>\n",
       "      <td>697.0</td>\n",
       "      <td>25.0</td>\n",
       "      <td>5.0</td>\n",
       "      <td>82931.85</td>\n",
       "      <td>2</td>\n",
       "      <td>1</td>\n",
       "      <td>1</td>\n",
       "      <td>128373.88</td>\n",
       "      <td>0.0</td>\n",
       "      <td>0</td>\n",
       "      <td>0</td>\n",
       "      <td>0</td>\n",
       "      <td>1</td>\n",
       "    </tr>\n",
       "    <tr>\n",
       "      <th>2</th>\n",
       "      <td>625.0</td>\n",
       "      <td>39.0</td>\n",
       "      <td>5.0</td>\n",
       "      <td>0.00</td>\n",
       "      <td>2</td>\n",
       "      <td>1</td>\n",
       "      <td>0</td>\n",
       "      <td>32615.21</td>\n",
       "      <td>0.0</td>\n",
       "      <td>0</td>\n",
       "      <td>1</td>\n",
       "      <td>0</td>\n",
       "      <td>0</td>\n",
       "    </tr>\n",
       "    <tr>\n",
       "      <th>3</th>\n",
       "      <td>789.0</td>\n",
       "      <td>31.0</td>\n",
       "      <td>4.0</td>\n",
       "      <td>175477.15</td>\n",
       "      <td>1</td>\n",
       "      <td>1</td>\n",
       "      <td>1</td>\n",
       "      <td>172832.90</td>\n",
       "      <td>0.0</td>\n",
       "      <td>1</td>\n",
       "      <td>1</td>\n",
       "      <td>0</td>\n",
       "      <td>0</td>\n",
       "    </tr>\n",
       "    <tr>\n",
       "      <th>4</th>\n",
       "      <td>795.0</td>\n",
       "      <td>38.0</td>\n",
       "      <td>7.0</td>\n",
       "      <td>125903.22</td>\n",
       "      <td>2</td>\n",
       "      <td>1</td>\n",
       "      <td>1</td>\n",
       "      <td>127068.92</td>\n",
       "      <td>0.0</td>\n",
       "      <td>1</td>\n",
       "      <td>0</td>\n",
       "      <td>1</td>\n",
       "      <td>0</td>\n",
       "    </tr>\n",
       "  </tbody>\n",
       "</table>\n",
       "</div>"
      ],
      "text/plain": [
       "   credit_score   age  tenure    balance  num_of_products  has_cr_card  \\\n",
       "0         681.0  37.0     8.0   73179.34                2            1   \n",
       "1         697.0  25.0     5.0   82931.85                2            1   \n",
       "2         625.0  39.0     5.0       0.00                2            1   \n",
       "3         789.0  31.0     4.0  175477.15                1            1   \n",
       "4         795.0  38.0     7.0  125903.22                2            1   \n",
       "\n",
       "   is_active_member  estimated_salary  exited  Male  France  Germany  Spain  \n",
       "0                 1          25292.53     0.0     1       0        1      0  \n",
       "1                 1         128373.88     0.0     0       0        0      1  \n",
       "2                 0          32615.21     0.0     0       1        0      0  \n",
       "3                 1         172832.90     0.0     1       1        0      0  \n",
       "4                 1         127068.92     0.0     1       0        1      0  "
      ]
     },
     "execution_count": 34,
     "metadata": {},
     "output_type": "execute_result"
    }
   ],
   "source": [
    "data.head()"
   ]
  },
  {
   "cell_type": "markdown",
   "metadata": {},
   "source": [
    "<div class=\"alert alert-block alert-info\">\n",
    "Теперь необходимо разбить набор данных на обучающую, валидационную и тестовую выборки\n",
    "</div>"
   ]
  },
  {
   "cell_type": "code",
   "execution_count": 35,
   "metadata": {},
   "outputs": [],
   "source": [
    "features = data.drop(['exited'], axis=1)\n",
    "target = data['exited']"
   ]
  },
  {
   "cell_type": "code",
   "execution_count": 36,
   "metadata": {},
   "outputs": [],
   "source": [
    "x_train, x_valid, y_train, y_valid  = train_test_split(features, target, test_size=0.4, random_state=12345, stratify=target)"
   ]
  },
  {
   "cell_type": "code",
   "execution_count": 37,
   "metadata": {},
   "outputs": [
    {
     "name": "stdout",
     "output_type": "stream",
     "text": [
      "[4386 1123]\n",
      "[2925  748]\n"
     ]
    }
   ],
   "source": [
    "print(np.bincount(y_train))\n",
    "print(np.bincount(y_valid))"
   ]
  },
  {
   "cell_type": "code",
   "execution_count": 38,
   "metadata": {},
   "outputs": [],
   "source": [
    "x_valid, x_test, y_valid, y_test = train_test_split(x_valid, y_valid, test_size=0.5, random_state=12345, stratify=y_valid)"
   ]
  },
  {
   "cell_type": "code",
   "execution_count": 39,
   "metadata": {},
   "outputs": [
    {
     "name": "stdout",
     "output_type": "stream",
     "text": [
      "[1462  374]\n",
      "[1463  374]\n"
     ]
    }
   ],
   "source": [
    "print(np.bincount(y_valid))\n",
    "print(np.bincount(y_test))"
   ]
  },
  {
   "cell_type": "code",
   "execution_count": 40,
   "metadata": {},
   "outputs": [],
   "source": [
    "y_train = y_train.reset_index(drop=True)\n",
    "y_valid = y_valid.reset_index(drop=True)\n",
    "y_test = y_test.reset_index(drop=True)"
   ]
  },
  {
   "cell_type": "markdown",
   "metadata": {},
   "source": [
    "<div class=\"alert alert-block alert-info\">\n",
    "Разделили выборку на обучающую, валидационную и тестовую. Принято делить в соотношения 3:1:1. Поэтому сначала выделяем под обучающую 60% набора данных, затем остаток делим на 2 части-валидационную и тестовую.\n",
    "</div>"
   ]
  },
  {
   "cell_type": "code",
   "execution_count": 41,
   "metadata": {},
   "outputs": [],
   "source": [
    "#Масштабируем признаки\n",
    "scaler = StandardScaler()\n",
    "scaler.fit(x_train)\n",
    "x_train = pd.DataFrame(scaler.transform(x_train))\n",
    "scaler.fit(x_valid)\n",
    "x_valid = pd.DataFrame(scaler.transform(x_valid))\n",
    "scaler.fit(x_test)\n",
    "x_test = pd.DataFrame(scaler.transform(x_test))"
   ]
  },
  {
   "cell_type": "markdown",
   "metadata": {},
   "source": [
    "## Исследование задачи"
   ]
  },
  {
   "cell_type": "code",
   "execution_count": 42,
   "metadata": {
    "scrolled": true
   },
   "outputs": [
    {
     "name": "stdout",
     "output_type": "stream",
     "text": [
      "Количество объектов отрицательного класса: 7311\n",
      "Количество объектов положительного класса: 1871\n"
     ]
    }
   ],
   "source": [
    "#Исследуем баланс классов\n",
    "print('Количество объектов отрицательного класса:',len(data[data['exited'] == 0]))\n",
    "print('Количество объектов положительного класса:', len(data[data['exited'] == 1]))"
   ]
  },
  {
   "cell_type": "markdown",
   "metadata": {},
   "source": [
    "<div class=\"alert alert-block alert-info\">\n",
    "Баланс классов присутствует, когда соотношение классов в выборке примерно 1:1. В нашем случае можно наблюдать дисбаланс\n",
    "</div>"
   ]
  },
  {
   "cell_type": "code",
   "execution_count": 43,
   "metadata": {},
   "outputs": [],
   "source": [
    "#Обучим модель без учета дисбаланса\n",
    "#Создаем функция для подбора параметров с помощью GridSearchCV\n",
    "def selection(model, parameters):\n",
    "    clf = GridSearchCV(model, parameters, verbose=1)\n",
    "    clf.fit(x_train, y_train)\n",
    "    return(clf.best_params_)\n",
    "warnings.filterwarnings('ignore')    "
   ]
  },
  {
   "cell_type": "code",
   "execution_count": 44,
   "metadata": {},
   "outputs": [
    {
     "name": "stdout",
     "output_type": "stream",
     "text": [
      "Fitting 5 folds for each of 2 candidates, totalling 10 fits\n",
      "{'criterion': 'entropy', 'max_depth': 10, 'random_state': 12345}\n"
     ]
    }
   ],
   "source": [
    "#Передаем нужные параметры и модель решающего дерева в функцию\n",
    "parameters = {\n",
    "    \"max_depth\": [randint(1,16)],\n",
    "    \"random_state\": [12345],\n",
    "    \"criterion\": [\"giny\", \"entropy\"]\n",
    "}\n",
    "print(selection(DecisionTreeClassifier(), parameters))"
   ]
  },
  {
   "cell_type": "code",
   "execution_count": 45,
   "metadata": {},
   "outputs": [
    {
     "name": "stdout",
     "output_type": "stream",
     "text": [
      "f1_score: 0.5165745856353591\n",
      "ROC-AUC_score 0.7063459695530991\n"
     ]
    }
   ],
   "source": [
    "model_tree = DecisionTreeClassifier(random_state=12345, max_depth=15, criterion='entropy')\n",
    "model_tree.fit(x_train, y_train)\n",
    "predictions = model_tree.predict(x_valid)\n",
    "print('f1_score:', f1_score(y_valid, predictions))\n",
    "predictions_proba = model_tree.predict_proba(x_valid)\n",
    "print(\"ROC-AUC_score\", roc_auc_score(y_valid, predictions_proba[:, 1]))"
   ]
  },
  {
   "cell_type": "code",
   "execution_count": 46,
   "metadata": {},
   "outputs": [
    {
     "name": "stdout",
     "output_type": "stream",
     "text": [
      "Fitting 5 folds for each of 2 candidates, totalling 10 fits\n",
      "{'criterion': 'entropy', 'max_depth': 5, 'n_estimators': 27, 'random_state': 12345}\n"
     ]
    }
   ],
   "source": [
    "#Подбор параметров моедели случайного леса\n",
    "parameters = {\n",
    "    \"max_depth\": [randint(1,16)],\n",
    "    \"n_estimators\": [randint(1,101)],\n",
    "    \"random_state\": [12345],\n",
    "    \"criterion\": [\"giny\", \"entropy\"]\n",
    "}\n",
    "print(selection(RandomForestClassifier(), parameters))"
   ]
  },
  {
   "cell_type": "code",
   "execution_count": 47,
   "metadata": {},
   "outputs": [
    {
     "name": "stdout",
     "output_type": "stream",
     "text": [
      "f1_score: 0.5771812080536913\n",
      "ROC-AUC_score 0.8477956721800771\n"
     ]
    }
   ],
   "source": [
    "model_forest = RandomForestClassifier(max_depth=15, n_estimators=76, random_state=12345, criterion='entropy')\n",
    "model_forest.fit(x_train, y_train)\n",
    "predictions = model_forest.predict(x_valid)\n",
    "print('f1_score:', f1_score(y_valid, predictions))\n",
    "predictions_proba = model_forest.predict_proba(x_valid)\n",
    "print(\"ROC-AUC_score\", roc_auc_score(y_valid, predictions_proba[:,1]))"
   ]
  },
  {
   "cell_type": "code",
   "execution_count": 48,
   "metadata": {},
   "outputs": [
    {
     "name": "stdout",
     "output_type": "stream",
     "text": [
      "Fitting 5 folds for each of 3 candidates, totalling 15 fits\n",
      "{'C': 18, 'penalty': 'l2', 'random_state': 12345}\n"
     ]
    }
   ],
   "source": [
    "#Подбор параметров для логистической регрессии\n",
    "parameters = {\n",
    "    'penalty': ['l1', 'l2', 'elasticnet'],\n",
    "    'C': [randint(1,51)],\n",
    "    'random_state': [12345]\n",
    "}\n",
    "print(selection(LogisticRegression(), parameters))"
   ]
  },
  {
   "cell_type": "code",
   "execution_count": 49,
   "metadata": {},
   "outputs": [
    {
     "name": "stdout",
     "output_type": "stream",
     "text": [
      "f1_score: 0.2769857433808554\n",
      "ROC-AUC_score 0.7441933619611256\n"
     ]
    }
   ],
   "source": [
    "model_regression = LogisticRegression(penalty='l2', C=25, random_state=12345)\n",
    "model_regression.fit(x_train, y_train)\n",
    "predictions = model_regression.predict(x_valid)\n",
    "print('f1_score:', f1_score(y_valid, predictions))\n",
    "predictions_proba = model_regression.predict_proba(x_valid)\n",
    "print(\"ROC-AUC_score\", roc_auc_score(y_valid, predictions_proba[:,1]))"
   ]
  },
  {
   "cell_type": "markdown",
   "metadata": {},
   "source": [
    "<div class=\"alert alert-block alert-info\">\n",
    "Обучили 3 модели без учета дисбаланса, наиболее высокое значение метрики f1 показала модель случайного леса, наименьшее значение метрики f1 - логистическая регрессия. Однако качество модели случайного леса недостаточно высокое, чтобы принять ее, необходимо исследовать данные на сбалансированность классов.\n",
    "    \n",
    "    \n",
    "     \n",
    "</div>"
   ]
  },
  {
   "cell_type": "markdown",
   "metadata": {},
   "source": [
    "## Борьба с дисбалансом"
   ]
  },
  {
   "cell_type": "markdown",
   "metadata": {},
   "source": [
    "<div class=\"alert alert-block alert-info\">\n",
    "Для борьбы с дисбалансом попробуем технику upsampling\n",
    "</div>"
   ]
  },
  {
   "cell_type": "code",
   "execution_count": 50,
   "metadata": {},
   "outputs": [],
   "source": [
    "#Создадим функцию, преобразующую данные\n",
    "def upsample(features, target, repeat):\n",
    "    features_zeros = features[target == 0]\n",
    "    features_ones = features[target == 1]\n",
    "    target_zeros = target[target == 0]\n",
    "    target_ones = target[target == 1]\n",
    "    \n",
    "    features_upsampled = pd.concat([features_zeros] + [features_ones] * repeat)\n",
    "    target_upsampled = pd.concat([target_zeros] + [target_ones] * repeat)\n",
    "    \n",
    "    features_upsampled, target_upsampled = shuffle(features_upsampled, target_upsampled, random_state = 12345)\n",
    "    \n",
    "    return features_upsampled, target_upsampled    "
   ]
  },
  {
   "cell_type": "code",
   "execution_count": 51,
   "metadata": {},
   "outputs": [],
   "source": [
    "#Получим преобразованные техникой upsample выборки\n",
    "x_train_upsampled, y_train_upsampled = upsample(x_train, y_train, 4)"
   ]
  },
  {
   "cell_type": "code",
   "execution_count": 52,
   "metadata": {},
   "outputs": [
    {
     "name": "stdout",
     "output_type": "stream",
     "text": [
      "f1_score: 0.4850657108721625\n",
      "ROC-AUC_score 0.7140153039203494\n"
     ]
    }
   ],
   "source": [
    "#Обучим 3 модели и посмотрим на метрику F1\n",
    "model_tree.fit(x_train_upsampled, y_train_upsampled)\n",
    "predictions = model_tree.predict(x_valid)\n",
    "print(\"f1_score:\", f1_score(y_valid, predictions))\n",
    "predictions_proba = model_tree.predict_proba(x_valid)\n",
    "print(\"ROC-AUC_score\", roc_auc_score(y_valid, predictions_proba[:,1]))"
   ]
  },
  {
   "cell_type": "code",
   "execution_count": 53,
   "metadata": {},
   "outputs": [
    {
     "name": "stdout",
     "output_type": "stream",
     "text": [
      "f1_score: 0.6102635228848821\n",
      "ROC-AUC_score 0.8431595060608499\n"
     ]
    }
   ],
   "source": [
    "model_forest.fit(x_train_upsampled, y_train_upsampled)\n",
    "predictions = model_forest.predict(x_valid)\n",
    "print(\"f1_score:\", f1_score(y_valid, predictions))\n",
    "predictions_proba = model_forest.predict_proba(x_valid)\n",
    "print(\"ROC-AUC_score\", roc_auc_score(y_valid, predictions_proba[:,1]))"
   ]
  },
  {
   "cell_type": "code",
   "execution_count": 54,
   "metadata": {},
   "outputs": [
    {
     "name": "stdout",
     "output_type": "stream",
     "text": [
      "f1_score: 0.48192771084337344\n",
      "ROC-AUC_score 0.7503986919976299\n"
     ]
    }
   ],
   "source": [
    "model_regression.fit(x_train_upsampled, pd.DataFrame(y_train_upsampled))\n",
    "predictions = model_regression.predict(x_valid)\n",
    "print(\"f1_score:\", f1_score(y_valid, predictions))\n",
    "predictions_proba = model_regression.predict_proba(x_valid)\n",
    "print(\"ROC-AUC_score\", roc_auc_score(y_valid, predictions_proba[:,1]))"
   ]
  },
  {
   "cell_type": "markdown",
   "metadata": {},
   "source": [
    "<div class=\"alert alert-block alert-info\">\n",
    "Видно, что после преобразования обучающих данных техникой upsampled качество моделей значительно улучшилось. \n",
    "    \n",
    "Попробуем технику downsampled\n",
    "</div>"
   ]
  },
  {
   "cell_type": "code",
   "execution_count": 55,
   "metadata": {},
   "outputs": [],
   "source": [
    "def downsample(features, target, fraction):\n",
    "    \n",
    "    features_zeros = features[target == 0]\n",
    "    features_ones = features[target == 1]\n",
    "    target_zeros = target[target == 0]\n",
    "    target_ones = target[target == 1]\n",
    "    \n",
    "    features_downsampled = pd.concat(\n",
    "        [features_zeros.sample(frac=fraction, random_state=12345)] + [features_ones]\n",
    "    )\n",
    "    target_downsampled = pd.concat(\n",
    "        [target_zeros.sample(frac=fraction, random_state=12345)] + [target_ones]\n",
    "    )\n",
    "    \n",
    "    features_downsampled, target_downsampled = shuffle(features_downsampled, target_downsampled, random_state=12345)\n",
    "    \n",
    "    return features_downsampled, target_downsampled    "
   ]
  },
  {
   "cell_type": "code",
   "execution_count": 56,
   "metadata": {},
   "outputs": [],
   "source": [
    "#Получим преобразованные техникой downsample выборки\n",
    "x_train_downsampled, y_train_downsampled = downsample(x_train, y_train, 0.25)"
   ]
  },
  {
   "cell_type": "code",
   "execution_count": 57,
   "metadata": {},
   "outputs": [
    {
     "name": "stdout",
     "output_type": "stream",
     "text": [
      "f1_score: 0.4846225535880709\n",
      "ROC-AUC_score 0.7007542228432226\n"
     ]
    }
   ],
   "source": [
    "#Обучим 3 модели и посмотрим на метрику F1\n",
    "model_tree.fit(x_train_downsampled, y_train_downsampled)\n",
    "predictions = model_tree.predict(x_valid)\n",
    "print(\"f1_score:\", f1_score(y_valid, predictions))\n",
    "predictions_proba = model_tree.predict_proba(x_valid)\n",
    "print(\"ROC-AUC_score\", roc_auc_score(y_valid, predictions_proba[:,1]))"
   ]
  },
  {
   "cell_type": "code",
   "execution_count": 58,
   "metadata": {},
   "outputs": [
    {
     "name": "stdout",
     "output_type": "stream",
     "text": [
      "f1_score: 0.5813953488372092\n",
      "ROC-AUC_score 0.8411084369079059\n"
     ]
    }
   ],
   "source": [
    "model_forest.fit(x_train_downsampled, y_train_downsampled)\n",
    "predictions = model_forest.predict(x_valid)\n",
    "print(\"f1_score:\", f1_score(y_valid, predictions))\n",
    "predictions_proba = model_forest.predict_proba(x_valid)\n",
    "print(\"ROC-AUC_score\", roc_auc_score(y_valid, predictions_proba[:,1]))"
   ]
  },
  {
   "cell_type": "code",
   "execution_count": 59,
   "metadata": {},
   "outputs": [
    {
     "name": "stdout",
     "output_type": "stream",
     "text": [
      "f1_score: 0.48148148148148145\n",
      "ROC-AUC_score 0.7492117603166125\n"
     ]
    }
   ],
   "source": [
    "model_regression.fit(x_train_downsampled, pd.DataFrame(y_train_downsampled))\n",
    "predictions = model_regression.predict(x_valid)\n",
    "print(\"f1_score:\", f1_score(y_valid, predictions))\n",
    "predictions_proba = model_regression.predict_proba(x_valid)\n",
    "print(\"ROC-AUC_score\", roc_auc_score(y_valid, predictions_proba[:,1]))"
   ]
  },
  {
   "cell_type": "markdown",
   "metadata": {},
   "source": [
    "<div class=\"alert alert-block alert-info\">\n",
    "Видно, что после преобразования обучающих данных техникой downsampled качество моделей немного ухудшилось по метрике f1, но auc_roc_score для случайного леса стал выше.\n",
    "</div>"
   ]
  },
  {
   "cell_type": "markdown",
   "metadata": {},
   "source": [
    "## Тестирование модели"
   ]
  },
  {
   "cell_type": "markdown",
   "metadata": {},
   "source": [
    "<div class=\"alert alert-block alert-info\">\n",
    "Перед тестирование модели объединим тестовую и валидационную выборки. Протестируем на модели случайного леса, обученной на данных, преобразованных техникой upsample и downsample.\n",
    "\n",
    "</div>"
   ]
  },
  {
   "cell_type": "code",
   "execution_count": 60,
   "metadata": {},
   "outputs": [],
   "source": [
    "x_test = pd.concat([x_test, x_valid])\n",
    "y_test = pd.concat([y_test, y_valid])"
   ]
  },
  {
   "cell_type": "code",
   "execution_count": 61,
   "metadata": {},
   "outputs": [
    {
     "name": "stdout",
     "output_type": "stream",
     "text": [
      "f1_score: 0.6204081632653061\n",
      "ROC-AUC_score 0.8533518442341972\n"
     ]
    }
   ],
   "source": [
    "model_forest.fit(x_train_upsampled, y_train_upsampled)\n",
    "predictions = model_forest.predict(x_test)\n",
    "print(\"f1_score:\", f1_score(y_test, predictions))\n",
    "predictions_proba = model_forest.predict_proba(x_test)\n",
    "print(\"ROC-AUC_score\", roc_auc_score(y_test, predictions_proba[:,1]))"
   ]
  },
  {
   "cell_type": "markdown",
   "metadata": {},
   "source": [
    "<div class=\"alert alert-block alert-info\">\n",
    "    \n",
    "**Вывод:** \n",
    "    \n",
    "Для прогнозирования оттока клиентов наилучшей является модель случайного леса, обученная на данных, преобразованных техникой upsample (наивысшее значение метрики f1).\n",
    "    \n",
    "    \n",
    "</div>"
   ]
  },
  {
   "cell_type": "code",
   "execution_count": 62,
   "metadata": {},
   "outputs": [
    {
     "name": "stdout",
     "output_type": "stream",
     "text": [
      "f1_score константной модели: 0.0\n",
      "Accuracy константной модели: 0.7963517560577185\n",
      "Accuracy лучшей модели: 0.848080588075143\n"
     ]
    }
   ],
   "source": [
    "#Проверка на адекватность модели\n",
    "dc_mf = DummyClassifier()\n",
    "dc_mf.fit(x_train, y_train)\n",
    "y_pred = dc_mf.predict(x_test)\n",
    "print(\"f1_score константной модели:\", f1_score(y_test, y_pred))\n",
    "print(\"Accuracy константной модели:\", accuracy_score(y_test, y_pred))\n",
    "print(\"Accuracy лучшей модели:\", accuracy_score(y_test, predictions))"
   ]
  },
  {
   "cell_type": "markdown",
   "metadata": {},
   "source": [
    "<div class=\"alert alert-info\">\n",
    "<h2> Комментарий студента<a class=\"tocSkip\"></h2>\n",
    "<hr>  \n",
    "Проверка на адекватность показала, что accuracy модели случайного леса выше, чем accuracy константной модели.\n",
    "</div>"
   ]
  }
 ],
 "metadata": {
  "ExecuteTimeLog": [
   {
    "duration": 402,
    "start_time": "2022-05-02T12:38:17.548Z"
   },
   {
    "duration": 81,
    "start_time": "2022-05-02T12:38:51.158Z"
   },
   {
    "duration": 27,
    "start_time": "2022-05-02T12:39:06.221Z"
   },
   {
    "duration": 15,
    "start_time": "2022-05-02T12:39:28.252Z"
   },
   {
    "duration": 39,
    "start_time": "2022-05-02T12:41:26.903Z"
   },
   {
    "duration": 8,
    "start_time": "2022-05-02T12:41:35.123Z"
   },
   {
    "duration": 13,
    "start_time": "2022-05-02T12:42:33.025Z"
   },
   {
    "duration": 1443,
    "start_time": "2022-05-02T12:43:42.978Z"
   },
   {
    "duration": 8,
    "start_time": "2022-05-02T12:43:51.233Z"
   },
   {
    "duration": 8,
    "start_time": "2022-05-02T12:44:03.819Z"
   },
   {
    "duration": 9,
    "start_time": "2022-05-02T12:44:21.199Z"
   },
   {
    "duration": 7,
    "start_time": "2022-05-02T12:44:28.627Z"
   },
   {
    "duration": 23,
    "start_time": "2022-05-02T12:44:36.962Z"
   },
   {
    "duration": 23,
    "start_time": "2022-05-02T12:47:49.086Z"
   },
   {
    "duration": 13,
    "start_time": "2022-05-02T12:48:15.756Z"
   },
   {
    "duration": 5,
    "start_time": "2022-05-02T12:48:29.548Z"
   },
   {
    "duration": 22,
    "start_time": "2022-05-02T12:48:53.406Z"
   },
   {
    "duration": 3,
    "start_time": "2022-05-02T12:51:48.900Z"
   },
   {
    "duration": 3,
    "start_time": "2022-05-02T12:53:03.785Z"
   },
   {
    "duration": 13,
    "start_time": "2022-05-02T12:53:05.184Z"
   },
   {
    "duration": 10,
    "start_time": "2022-05-02T12:53:10.506Z"
   },
   {
    "duration": 21,
    "start_time": "2022-05-02T12:55:39.676Z"
   },
   {
    "duration": 86,
    "start_time": "2022-05-02T12:57:01.408Z"
   },
   {
    "duration": 5,
    "start_time": "2022-05-02T13:07:09.169Z"
   },
   {
    "duration": 1004,
    "start_time": "2022-05-02T13:14:02.709Z"
   },
   {
    "duration": 60899,
    "start_time": "2022-05-02T13:17:46.525Z"
   },
   {
    "duration": 5,
    "start_time": "2022-05-02T13:22:05.176Z"
   },
   {
    "duration": 14,
    "start_time": "2022-05-02T13:22:11.781Z"
   },
   {
    "duration": 14,
    "start_time": "2022-05-02T13:22:57.455Z"
   },
   {
    "duration": 4,
    "start_time": "2022-05-02T13:23:19.740Z"
   },
   {
    "duration": 4,
    "start_time": "2022-05-02T13:23:30.635Z"
   },
   {
    "duration": 10,
    "start_time": "2022-05-02T13:23:32.967Z"
   },
   {
    "duration": 30,
    "start_time": "2022-05-02T13:23:35.171Z"
   },
   {
    "duration": 27,
    "start_time": "2022-05-02T13:23:41.698Z"
   },
   {
    "duration": 17,
    "start_time": "2022-05-02T13:25:18.413Z"
   },
   {
    "duration": 19,
    "start_time": "2022-05-02T13:25:21.495Z"
   },
   {
    "duration": 12,
    "start_time": "2022-05-02T13:25:24.102Z"
   },
   {
    "duration": 12,
    "start_time": "2022-05-02T13:25:50.235Z"
   },
   {
    "duration": 25,
    "start_time": "2022-05-02T13:26:20.458Z"
   },
   {
    "duration": 44,
    "start_time": "2022-05-02T13:26:57.524Z"
   },
   {
    "duration": 3,
    "start_time": "2022-05-02T13:27:01.445Z"
   },
   {
    "duration": 16,
    "start_time": "2022-05-02T13:27:01.613Z"
   },
   {
    "duration": 3,
    "start_time": "2022-05-02T13:27:08.770Z"
   },
   {
    "duration": 3759,
    "start_time": "2022-05-02T13:27:09.477Z"
   },
   {
    "duration": 23,
    "start_time": "2022-05-02T13:27:25.010Z"
   },
   {
    "duration": 15,
    "start_time": "2022-05-02T13:28:17.440Z"
   },
   {
    "duration": 3,
    "start_time": "2022-05-02T13:28:30.560Z"
   },
   {
    "duration": 14291,
    "start_time": "2022-05-02T13:28:33.734Z"
   },
   {
    "duration": 3,
    "start_time": "2022-05-02T13:29:14.189Z"
   },
   {
    "duration": 10008,
    "start_time": "2022-05-02T13:29:14.735Z"
   },
   {
    "duration": 87,
    "start_time": "2022-05-02T13:30:45.854Z"
   },
   {
    "duration": 23,
    "start_time": "2022-05-02T13:33:54.292Z"
   },
   {
    "duration": 5,
    "start_time": "2022-05-02T13:34:12.748Z"
   },
   {
    "duration": 22,
    "start_time": "2022-05-02T13:34:18.842Z"
   },
   {
    "duration": 5,
    "start_time": "2022-05-02T13:34:38.617Z"
   },
   {
    "duration": 5,
    "start_time": "2022-05-02T13:34:46.750Z"
   },
   {
    "duration": 22,
    "start_time": "2022-05-02T13:35:23.226Z"
   },
   {
    "duration": 10,
    "start_time": "2022-05-02T13:35:40.046Z"
   },
   {
    "duration": 13,
    "start_time": "2022-05-02T13:36:49.134Z"
   },
   {
    "duration": 15,
    "start_time": "2022-05-02T13:37:24.314Z"
   },
   {
    "duration": 10,
    "start_time": "2022-05-02T13:40:14.812Z"
   },
   {
    "duration": 11,
    "start_time": "2022-05-02T13:42:10.582Z"
   },
   {
    "duration": 10,
    "start_time": "2022-05-02T13:42:24.407Z"
   },
   {
    "duration": 6,
    "start_time": "2022-05-02T13:42:40.586Z"
   },
   {
    "duration": 22,
    "start_time": "2022-05-02T13:42:44.133Z"
   },
   {
    "duration": 228,
    "start_time": "2022-05-02T13:45:42.396Z"
   },
   {
    "duration": 3,
    "start_time": "2022-05-02T13:45:54.517Z"
   },
   {
    "duration": 29,
    "start_time": "2022-05-02T13:45:54.522Z"
   },
   {
    "duration": 12,
    "start_time": "2022-05-02T13:45:54.553Z"
   },
   {
    "duration": 3,
    "start_time": "2022-05-02T13:45:54.567Z"
   },
   {
    "duration": 14,
    "start_time": "2022-05-02T13:45:54.572Z"
   },
   {
    "duration": 20,
    "start_time": "2022-05-02T13:45:54.588Z"
   },
   {
    "duration": 4,
    "start_time": "2022-05-02T13:45:54.610Z"
   },
   {
    "duration": 9,
    "start_time": "2022-05-02T13:45:54.616Z"
   },
   {
    "duration": 21,
    "start_time": "2022-05-02T13:45:54.626Z"
   },
   {
    "duration": 21,
    "start_time": "2022-05-02T13:45:54.649Z"
   },
   {
    "duration": 40,
    "start_time": "2022-05-02T13:45:54.672Z"
   },
   {
    "duration": 43,
    "start_time": "2022-05-02T13:45:54.713Z"
   },
   {
    "duration": 49,
    "start_time": "2022-05-02T13:45:54.759Z"
   },
   {
    "duration": 2,
    "start_time": "2022-05-02T13:45:54.812Z"
   },
   {
    "duration": 9105,
    "start_time": "2022-05-02T13:45:54.816Z"
   },
   {
    "duration": 22,
    "start_time": "2022-05-02T13:46:03.923Z"
   },
   {
    "duration": 10,
    "start_time": "2022-05-02T13:46:03.947Z"
   },
   {
    "duration": 24,
    "start_time": "2022-05-02T13:46:07.889Z"
   },
   {
    "duration": 5,
    "start_time": "2022-05-02T13:48:06.513Z"
   },
   {
    "duration": 5,
    "start_time": "2022-05-02T13:48:13.466Z"
   },
   {
    "duration": 1187,
    "start_time": "2022-05-02T14:09:36.568Z"
   },
   {
    "duration": 30,
    "start_time": "2022-05-02T14:09:37.757Z"
   },
   {
    "duration": 14,
    "start_time": "2022-05-02T14:09:37.788Z"
   },
   {
    "duration": 4,
    "start_time": "2022-05-02T14:09:37.804Z"
   },
   {
    "duration": 18,
    "start_time": "2022-05-02T14:09:37.810Z"
   },
   {
    "duration": 3,
    "start_time": "2022-05-02T14:09:37.830Z"
   },
   {
    "duration": 4,
    "start_time": "2022-05-02T14:09:37.835Z"
   },
   {
    "duration": 8,
    "start_time": "2022-05-02T14:09:37.841Z"
   },
   {
    "duration": 21,
    "start_time": "2022-05-02T14:09:37.851Z"
   },
   {
    "duration": 52,
    "start_time": "2022-05-02T14:09:37.874Z"
   },
   {
    "duration": 12,
    "start_time": "2022-05-02T14:09:37.928Z"
   },
   {
    "duration": 54,
    "start_time": "2022-05-02T14:09:37.942Z"
   },
   {
    "duration": 28,
    "start_time": "2022-05-02T14:09:37.998Z"
   },
   {
    "duration": 2,
    "start_time": "2022-05-02T14:09:38.029Z"
   },
   {
    "duration": 8907,
    "start_time": "2022-05-02T14:09:38.033Z"
   },
   {
    "duration": 8,
    "start_time": "2022-05-02T14:09:46.942Z"
   },
   {
    "duration": 10,
    "start_time": "2022-05-02T14:09:46.951Z"
   },
   {
    "duration": 6,
    "start_time": "2022-05-02T14:09:46.963Z"
   },
   {
    "duration": 52,
    "start_time": "2022-05-02T14:09:46.971Z"
   },
   {
    "duration": 7,
    "start_time": "2022-05-02T14:10:43.237Z"
   },
   {
    "duration": 9,
    "start_time": "2022-05-02T14:10:45.658Z"
   },
   {
    "duration": 7,
    "start_time": "2022-05-02T14:10:46.545Z"
   },
   {
    "duration": 25,
    "start_time": "2022-05-02T14:10:47.214Z"
   },
   {
    "duration": 1140,
    "start_time": "2022-05-02T14:23:29.242Z"
   },
   {
    "duration": 30,
    "start_time": "2022-05-02T14:23:30.384Z"
   },
   {
    "duration": 12,
    "start_time": "2022-05-02T14:23:30.416Z"
   },
   {
    "duration": 3,
    "start_time": "2022-05-02T14:23:30.430Z"
   },
   {
    "duration": 24,
    "start_time": "2022-05-02T14:23:30.435Z"
   },
   {
    "duration": 9,
    "start_time": "2022-05-02T14:23:30.461Z"
   },
   {
    "duration": 16,
    "start_time": "2022-05-02T14:23:30.472Z"
   },
   {
    "duration": 9,
    "start_time": "2022-05-02T14:23:30.490Z"
   },
   {
    "duration": 25,
    "start_time": "2022-05-02T14:23:30.501Z"
   },
   {
    "duration": 20,
    "start_time": "2022-05-02T14:23:30.529Z"
   },
   {
    "duration": 12,
    "start_time": "2022-05-02T14:23:30.551Z"
   },
   {
    "duration": 47,
    "start_time": "2022-05-02T14:23:30.565Z"
   },
   {
    "duration": 24,
    "start_time": "2022-05-02T14:23:30.614Z"
   },
   {
    "duration": 18,
    "start_time": "2022-05-02T14:23:30.639Z"
   },
   {
    "duration": 8419,
    "start_time": "2022-05-02T14:23:30.659Z"
   },
   {
    "duration": 7,
    "start_time": "2022-05-02T14:23:39.079Z"
   },
   {
    "duration": 25,
    "start_time": "2022-05-02T14:23:39.088Z"
   },
   {
    "duration": 7,
    "start_time": "2022-05-02T14:23:39.114Z"
   },
   {
    "duration": 6,
    "start_time": "2022-05-02T14:23:39.123Z"
   },
   {
    "duration": 27,
    "start_time": "2022-05-02T14:23:39.130Z"
   },
   {
    "duration": 26,
    "start_time": "2022-05-02T14:24:29.221Z"
   },
   {
    "duration": 3,
    "start_time": "2022-05-02T14:24:44.136Z"
   },
   {
    "duration": 32,
    "start_time": "2022-05-02T14:24:44.142Z"
   },
   {
    "duration": 13,
    "start_time": "2022-05-02T14:24:44.176Z"
   },
   {
    "duration": 5,
    "start_time": "2022-05-02T14:24:44.191Z"
   },
   {
    "duration": 14,
    "start_time": "2022-05-02T14:24:44.199Z"
   },
   {
    "duration": 5,
    "start_time": "2022-05-02T14:24:44.215Z"
   },
   {
    "duration": 5,
    "start_time": "2022-05-02T14:24:44.222Z"
   },
   {
    "duration": 8,
    "start_time": "2022-05-02T14:24:44.229Z"
   },
   {
    "duration": 21,
    "start_time": "2022-05-02T14:24:44.239Z"
   },
   {
    "duration": 57,
    "start_time": "2022-05-02T14:24:44.262Z"
   },
   {
    "duration": 18,
    "start_time": "2022-05-02T14:24:44.321Z"
   },
   {
    "duration": 28,
    "start_time": "2022-05-02T14:24:44.341Z"
   },
   {
    "duration": 58,
    "start_time": "2022-05-02T14:24:44.371Z"
   },
   {
    "duration": 3,
    "start_time": "2022-05-02T14:24:44.432Z"
   },
   {
    "duration": 8836,
    "start_time": "2022-05-02T14:24:44.437Z"
   },
   {
    "duration": 6,
    "start_time": "2022-05-02T14:24:53.275Z"
   },
   {
    "duration": 29,
    "start_time": "2022-05-02T14:24:53.283Z"
   },
   {
    "duration": 14,
    "start_time": "2022-05-02T14:24:53.314Z"
   },
   {
    "duration": 5,
    "start_time": "2022-05-02T14:25:48.297Z"
   },
   {
    "duration": 20,
    "start_time": "2022-05-02T14:25:52.940Z"
   },
   {
    "duration": 5,
    "start_time": "2022-05-02T14:25:59.266Z"
   },
   {
    "duration": 22,
    "start_time": "2022-05-02T14:25:59.743Z"
   },
   {
    "duration": 92,
    "start_time": "2022-05-02T14:28:55.547Z"
   },
   {
    "duration": 1575,
    "start_time": "2022-05-02T14:29:03.003Z"
   },
   {
    "duration": 3,
    "start_time": "2022-05-02T14:29:14.975Z"
   },
   {
    "duration": 33,
    "start_time": "2022-05-02T14:29:14.980Z"
   },
   {
    "duration": 12,
    "start_time": "2022-05-02T14:29:15.015Z"
   },
   {
    "duration": 3,
    "start_time": "2022-05-02T14:29:15.029Z"
   },
   {
    "duration": 16,
    "start_time": "2022-05-02T14:29:15.035Z"
   },
   {
    "duration": 5,
    "start_time": "2022-05-02T14:29:15.053Z"
   },
   {
    "duration": 7,
    "start_time": "2022-05-02T14:29:15.060Z"
   },
   {
    "duration": 10,
    "start_time": "2022-05-02T14:29:15.069Z"
   },
   {
    "duration": 51,
    "start_time": "2022-05-02T14:29:15.081Z"
   },
   {
    "duration": 26,
    "start_time": "2022-05-02T14:29:15.134Z"
   },
   {
    "duration": 14,
    "start_time": "2022-05-02T14:29:15.162Z"
   },
   {
    "duration": 52,
    "start_time": "2022-05-02T14:29:15.178Z"
   },
   {
    "duration": 25,
    "start_time": "2022-05-02T14:29:15.232Z"
   },
   {
    "duration": 3,
    "start_time": "2022-05-02T14:29:15.260Z"
   },
   {
    "duration": 9022,
    "start_time": "2022-05-02T14:29:15.264Z"
   },
   {
    "duration": 7,
    "start_time": "2022-05-02T14:29:28.828Z"
   },
   {
    "duration": 7,
    "start_time": "2022-05-02T14:29:30.769Z"
   },
   {
    "duration": 7,
    "start_time": "2022-05-02T14:29:39.444Z"
   },
   {
    "duration": 6,
    "start_time": "2022-05-02T14:29:48.868Z"
   },
   {
    "duration": 23,
    "start_time": "2022-05-02T14:30:31.861Z"
   },
   {
    "duration": 22,
    "start_time": "2022-05-02T14:31:40.269Z"
   },
   {
    "duration": 278,
    "start_time": "2022-05-02T14:32:27.893Z"
   },
   {
    "duration": 211,
    "start_time": "2022-05-02T14:34:20.831Z"
   },
   {
    "duration": 13,
    "start_time": "2022-05-02T14:34:31.234Z"
   },
   {
    "duration": 27,
    "start_time": "2022-05-02T14:34:35.786Z"
   },
   {
    "duration": 3,
    "start_time": "2022-05-02T14:35:24.075Z"
   },
   {
    "duration": 30,
    "start_time": "2022-05-02T14:35:24.081Z"
   },
   {
    "duration": 15,
    "start_time": "2022-05-02T14:35:24.112Z"
   },
   {
    "duration": 3,
    "start_time": "2022-05-02T14:35:24.129Z"
   },
   {
    "duration": 13,
    "start_time": "2022-05-02T14:35:24.135Z"
   },
   {
    "duration": 5,
    "start_time": "2022-05-02T14:35:24.150Z"
   },
   {
    "duration": 4,
    "start_time": "2022-05-02T14:35:24.156Z"
   },
   {
    "duration": 13,
    "start_time": "2022-05-02T14:35:24.162Z"
   },
   {
    "duration": 46,
    "start_time": "2022-05-02T14:35:24.177Z"
   },
   {
    "duration": 22,
    "start_time": "2022-05-02T14:35:24.225Z"
   },
   {
    "duration": 12,
    "start_time": "2022-05-02T14:35:24.249Z"
   },
   {
    "duration": 59,
    "start_time": "2022-05-02T14:35:24.262Z"
   },
   {
    "duration": 25,
    "start_time": "2022-05-02T14:35:24.324Z"
   },
   {
    "duration": 3,
    "start_time": "2022-05-02T14:35:24.352Z"
   },
   {
    "duration": 8764,
    "start_time": "2022-05-02T14:35:24.357Z"
   },
   {
    "duration": 6,
    "start_time": "2022-05-02T14:35:33.123Z"
   },
   {
    "duration": 22,
    "start_time": "2022-05-02T14:35:33.130Z"
   },
   {
    "duration": 4,
    "start_time": "2022-05-02T14:35:43.293Z"
   },
   {
    "duration": 11,
    "start_time": "2022-05-02T14:35:45.080Z"
   },
   {
    "duration": 19,
    "start_time": "2022-05-02T14:35:45.678Z"
   },
   {
    "duration": 11,
    "start_time": "2022-05-02T14:36:45.162Z"
   },
   {
    "duration": 19,
    "start_time": "2022-05-02T14:36:45.379Z"
   },
   {
    "duration": 15,
    "start_time": "2022-05-02T14:45:48.762Z"
   },
   {
    "duration": 10,
    "start_time": "2022-05-02T14:45:54.395Z"
   },
   {
    "duration": 21,
    "start_time": "2022-05-02T14:45:54.818Z"
   },
   {
    "duration": 14,
    "start_time": "2022-05-02T14:47:15.004Z"
   },
   {
    "duration": 21,
    "start_time": "2022-05-02T14:47:15.344Z"
   },
   {
    "duration": 7,
    "start_time": "2022-05-02T14:47:25.364Z"
   },
   {
    "duration": 33,
    "start_time": "2022-05-02T14:47:26.031Z"
   },
   {
    "duration": 24,
    "start_time": "2022-05-02T14:47:39.596Z"
   },
   {
    "duration": 2,
    "start_time": "2022-05-02T14:48:14.014Z"
   },
   {
    "duration": 29,
    "start_time": "2022-05-02T14:48:14.018Z"
   },
   {
    "duration": 13,
    "start_time": "2022-05-02T14:48:14.049Z"
   },
   {
    "duration": 6,
    "start_time": "2022-05-02T14:48:14.063Z"
   },
   {
    "duration": 17,
    "start_time": "2022-05-02T14:48:14.071Z"
   },
   {
    "duration": 22,
    "start_time": "2022-05-02T14:48:14.090Z"
   },
   {
    "duration": 6,
    "start_time": "2022-05-02T14:48:14.114Z"
   },
   {
    "duration": 10,
    "start_time": "2022-05-02T14:48:14.122Z"
   },
   {
    "duration": 23,
    "start_time": "2022-05-02T14:48:14.134Z"
   },
   {
    "duration": 23,
    "start_time": "2022-05-02T14:48:14.158Z"
   },
   {
    "duration": 13,
    "start_time": "2022-05-02T14:48:14.207Z"
   },
   {
    "duration": 27,
    "start_time": "2022-05-02T14:48:14.222Z"
   },
   {
    "duration": 56,
    "start_time": "2022-05-02T14:48:14.251Z"
   },
   {
    "duration": 3,
    "start_time": "2022-05-02T14:48:14.311Z"
   },
   {
    "duration": 8873,
    "start_time": "2022-05-02T14:48:14.315Z"
   },
   {
    "duration": 18,
    "start_time": "2022-05-02T14:48:23.190Z"
   },
   {
    "duration": 26,
    "start_time": "2022-05-02T14:48:23.210Z"
   },
   {
    "duration": 4,
    "start_time": "2022-05-02T14:48:23.238Z"
   },
   {
    "duration": 18,
    "start_time": "2022-05-02T14:48:23.244Z"
   },
   {
    "duration": 56,
    "start_time": "2022-05-02T14:48:23.264Z"
   },
   {
    "duration": 20,
    "start_time": "2022-05-02T14:48:33.559Z"
   },
   {
    "duration": 12,
    "start_time": "2022-05-02T14:48:45.237Z"
   },
   {
    "duration": 12,
    "start_time": "2022-05-02T14:49:33.630Z"
   },
   {
    "duration": 3,
    "start_time": "2022-05-02T14:59:43.850Z"
   },
   {
    "duration": 26,
    "start_time": "2022-05-02T14:59:43.855Z"
   },
   {
    "duration": 12,
    "start_time": "2022-05-02T14:59:43.883Z"
   },
   {
    "duration": 3,
    "start_time": "2022-05-02T14:59:43.896Z"
   },
   {
    "duration": 17,
    "start_time": "2022-05-02T14:59:43.901Z"
   },
   {
    "duration": 7,
    "start_time": "2022-05-02T14:59:43.919Z"
   },
   {
    "duration": 6,
    "start_time": "2022-05-02T14:59:43.927Z"
   },
   {
    "duration": 9,
    "start_time": "2022-05-02T14:59:43.934Z"
   },
   {
    "duration": 22,
    "start_time": "2022-05-02T14:59:43.945Z"
   },
   {
    "duration": 48,
    "start_time": "2022-05-02T14:59:43.969Z"
   },
   {
    "duration": 12,
    "start_time": "2022-05-02T14:59:44.018Z"
   },
   {
    "duration": 28,
    "start_time": "2022-05-02T14:59:44.031Z"
   },
   {
    "duration": 58,
    "start_time": "2022-05-02T14:59:44.061Z"
   },
   {
    "duration": 2,
    "start_time": "2022-05-02T14:59:44.122Z"
   },
   {
    "duration": 8682,
    "start_time": "2022-05-02T14:59:44.126Z"
   },
   {
    "duration": 6,
    "start_time": "2022-05-02T14:59:52.810Z"
   },
   {
    "duration": 21,
    "start_time": "2022-05-02T15:00:46.985Z"
   },
   {
    "duration": 23,
    "start_time": "2022-05-02T15:01:45.596Z"
   },
   {
    "duration": 13,
    "start_time": "2022-05-02T15:01:46.158Z"
   },
   {
    "duration": 4,
    "start_time": "2022-05-02T15:01:47.167Z"
   },
   {
    "duration": 14,
    "start_time": "2022-05-02T15:01:48.214Z"
   },
   {
    "duration": 4,
    "start_time": "2022-05-02T15:01:50.759Z"
   },
   {
    "duration": 4,
    "start_time": "2022-05-02T15:01:51.028Z"
   },
   {
    "duration": 8,
    "start_time": "2022-05-02T15:01:51.226Z"
   },
   {
    "duration": 23,
    "start_time": "2022-05-02T15:01:51.487Z"
   },
   {
    "duration": 23,
    "start_time": "2022-05-02T15:01:51.736Z"
   },
   {
    "duration": 12,
    "start_time": "2022-05-02T15:01:52.414Z"
   },
   {
    "duration": 3,
    "start_time": "2022-05-02T15:01:52.866Z"
   },
   {
    "duration": 22,
    "start_time": "2022-05-02T15:01:53.146Z"
   },
   {
    "duration": 3,
    "start_time": "2022-05-02T15:01:53.485Z"
   },
   {
    "duration": 8637,
    "start_time": "2022-05-02T15:01:54.116Z"
   },
   {
    "duration": 7,
    "start_time": "2022-05-02T15:02:02.755Z"
   },
   {
    "duration": 44,
    "start_time": "2022-05-02T15:02:02.764Z"
   },
   {
    "duration": 23,
    "start_time": "2022-05-02T15:03:24.072Z"
   },
   {
    "duration": 5,
    "start_time": "2022-05-02T15:04:21.210Z"
   },
   {
    "duration": 5,
    "start_time": "2022-05-02T15:05:12.251Z"
   },
   {
    "duration": 93,
    "start_time": "2022-05-02T15:05:53.229Z"
   },
   {
    "duration": 265,
    "start_time": "2022-05-02T15:05:59.587Z"
   },
   {
    "duration": 9,
    "start_time": "2022-05-02T15:08:18.202Z"
   },
   {
    "duration": 6,
    "start_time": "2022-05-02T15:08:58.902Z"
   },
   {
    "duration": 21,
    "start_time": "2022-05-02T15:10:51.376Z"
   },
   {
    "duration": 14,
    "start_time": "2022-05-02T15:11:35.671Z"
   },
   {
    "duration": 16,
    "start_time": "2022-05-02T15:12:03.586Z"
   },
   {
    "duration": 7,
    "start_time": "2022-05-02T15:12:35.030Z"
   },
   {
    "duration": 9,
    "start_time": "2022-05-02T15:12:45.048Z"
   },
   {
    "duration": 4,
    "start_time": "2022-05-02T15:12:50.097Z"
   },
   {
    "duration": 8,
    "start_time": "2022-05-02T15:13:22.388Z"
   },
   {
    "duration": 9,
    "start_time": "2022-05-02T15:13:23.371Z"
   },
   {
    "duration": 7,
    "start_time": "2022-05-02T15:13:44.242Z"
   },
   {
    "duration": 9,
    "start_time": "2022-05-02T15:13:44.866Z"
   },
   {
    "duration": 7,
    "start_time": "2022-05-02T15:15:29.566Z"
   },
   {
    "duration": 9,
    "start_time": "2022-05-02T15:15:30.215Z"
   },
   {
    "duration": 4,
    "start_time": "2022-05-02T15:17:04.013Z"
   },
   {
    "duration": 2243,
    "start_time": "2022-05-03T07:38:10.641Z"
   },
   {
    "duration": 38,
    "start_time": "2022-05-03T07:38:13.999Z"
   },
   {
    "duration": 19,
    "start_time": "2022-05-03T07:38:14.355Z"
   },
   {
    "duration": 4,
    "start_time": "2022-05-03T07:38:14.955Z"
   },
   {
    "duration": 24,
    "start_time": "2022-05-03T07:38:15.588Z"
   },
   {
    "duration": 6,
    "start_time": "2022-05-03T07:38:16.585Z"
   },
   {
    "duration": 6,
    "start_time": "2022-05-03T07:38:17.006Z"
   },
   {
    "duration": 10,
    "start_time": "2022-05-03T07:38:17.773Z"
   },
   {
    "duration": 35,
    "start_time": "2022-05-03T07:38:20.264Z"
   },
   {
    "duration": 35,
    "start_time": "2022-05-03T07:38:22.620Z"
   },
   {
    "duration": 19,
    "start_time": "2022-05-03T07:38:35.766Z"
   },
   {
    "duration": 3,
    "start_time": "2022-05-03T07:38:56.931Z"
   },
   {
    "duration": 35,
    "start_time": "2022-05-03T07:38:57.328Z"
   },
   {
    "duration": 4,
    "start_time": "2022-05-03T07:38:59.060Z"
   },
   {
    "duration": 12807,
    "start_time": "2022-05-03T07:39:01.642Z"
   },
   {
    "duration": 10,
    "start_time": "2022-05-03T07:39:19.156Z"
   },
   {
    "duration": 34,
    "start_time": "2022-05-03T07:39:19.544Z"
   },
   {
    "duration": 6,
    "start_time": "2022-05-03T07:39:20.405Z"
   },
   {
    "duration": 7,
    "start_time": "2022-05-03T07:39:20.752Z"
   },
   {
    "duration": 9,
    "start_time": "2022-05-03T07:39:23.406Z"
   },
   {
    "duration": 11,
    "start_time": "2022-05-03T07:39:26.840Z"
   },
   {
    "duration": 5,
    "start_time": "2022-05-03T07:39:31.141Z"
   },
   {
    "duration": 27,
    "start_time": "2022-05-03T07:40:53.428Z"
   },
   {
    "duration": 9,
    "start_time": "2022-05-03T07:41:30.714Z"
   },
   {
    "duration": 12,
    "start_time": "2022-05-03T07:42:52.940Z"
   },
   {
    "duration": 11,
    "start_time": "2022-05-03T07:43:47.832Z"
   },
   {
    "duration": 28,
    "start_time": "2022-05-03T07:43:52.964Z"
   },
   {
    "duration": 28,
    "start_time": "2022-05-03T07:44:13.785Z"
   },
   {
    "duration": 134,
    "start_time": "2022-05-03T07:46:35.949Z"
   },
   {
    "duration": 37,
    "start_time": "2022-05-03T07:48:08.710Z"
   },
   {
    "duration": 6,
    "start_time": "2022-05-03T07:49:06.286Z"
   },
   {
    "duration": 10,
    "start_time": "2022-05-03T07:50:26.053Z"
   },
   {
    "duration": 1741,
    "start_time": "2022-05-03T13:41:36.175Z"
   },
   {
    "duration": 24,
    "start_time": "2022-05-03T13:41:37.919Z"
   },
   {
    "duration": 15,
    "start_time": "2022-05-03T13:41:37.945Z"
   },
   {
    "duration": 4,
    "start_time": "2022-05-03T13:41:37.961Z"
   },
   {
    "duration": 38,
    "start_time": "2022-05-03T13:41:37.967Z"
   },
   {
    "duration": 15,
    "start_time": "2022-05-03T13:41:38.006Z"
   },
   {
    "duration": 7,
    "start_time": "2022-05-03T13:41:38.023Z"
   },
   {
    "duration": 10,
    "start_time": "2022-05-03T13:41:38.031Z"
   },
   {
    "duration": 24,
    "start_time": "2022-05-03T13:41:38.043Z"
   },
   {
    "duration": 33,
    "start_time": "2022-05-03T13:41:38.069Z"
   },
   {
    "duration": 13,
    "start_time": "2022-05-03T13:41:38.103Z"
   },
   {
    "duration": 3,
    "start_time": "2022-05-03T13:41:38.117Z"
   },
   {
    "duration": 23,
    "start_time": "2022-05-03T13:41:38.121Z"
   },
   {
    "duration": 5,
    "start_time": "2022-05-03T13:41:38.147Z"
   },
   {
    "duration": 8896,
    "start_time": "2022-05-03T13:41:38.153Z"
   },
   {
    "duration": 9,
    "start_time": "2022-05-03T13:41:47.052Z"
   },
   {
    "duration": 44,
    "start_time": "2022-05-03T13:41:47.063Z"
   },
   {
    "duration": 7,
    "start_time": "2022-05-03T13:41:47.109Z"
   },
   {
    "duration": 15,
    "start_time": "2022-05-03T13:41:47.117Z"
   },
   {
    "duration": 21,
    "start_time": "2022-05-03T13:41:47.133Z"
   },
   {
    "duration": 33,
    "start_time": "2022-05-03T13:41:47.156Z"
   },
   {
    "duration": 28,
    "start_time": "2022-05-03T13:41:47.191Z"
   },
   {
    "duration": 10,
    "start_time": "2022-05-03T13:41:47.221Z"
   },
   {
    "duration": 30,
    "start_time": "2022-05-03T13:41:47.233Z"
   },
   {
    "duration": 27,
    "start_time": "2022-05-03T13:41:47.265Z"
   },
   {
    "duration": 24,
    "start_time": "2022-05-03T13:41:47.294Z"
   },
   {
    "duration": 37,
    "start_time": "2022-05-03T13:41:47.320Z"
   },
   {
    "duration": 119,
    "start_time": "2022-05-03T13:41:47.358Z"
   },
   {
    "duration": 7,
    "start_time": "2022-05-03T13:42:36.168Z"
   },
   {
    "duration": 7,
    "start_time": "2022-05-03T13:42:36.578Z"
   },
   {
    "duration": 112,
    "start_time": "2022-05-03T13:43:03.338Z"
   },
   {
    "duration": 6,
    "start_time": "2022-05-03T13:43:39.660Z"
   },
   {
    "duration": 6,
    "start_time": "2022-05-03T13:43:46.285Z"
   },
   {
    "duration": 5,
    "start_time": "2022-05-03T13:43:49.487Z"
   },
   {
    "duration": 131,
    "start_time": "2022-05-03T13:45:19.250Z"
   },
   {
    "duration": 119,
    "start_time": "2022-05-03T13:45:30.968Z"
   },
   {
    "duration": 9,
    "start_time": "2022-05-03T13:45:38.132Z"
   },
   {
    "duration": 112,
    "start_time": "2022-05-03T13:52:47.815Z"
   },
   {
    "duration": 18,
    "start_time": "2022-05-03T13:53:55.357Z"
   },
   {
    "duration": 3,
    "start_time": "2022-05-03T13:54:23.939Z"
   },
   {
    "duration": 26,
    "start_time": "2022-05-03T13:54:24.525Z"
   },
   {
    "duration": 13,
    "start_time": "2022-05-03T13:54:24.777Z"
   },
   {
    "duration": 4,
    "start_time": "2022-05-03T13:54:25.233Z"
   },
   {
    "duration": 13,
    "start_time": "2022-05-03T13:54:25.704Z"
   },
   {
    "duration": 5,
    "start_time": "2022-05-03T13:54:26.122Z"
   },
   {
    "duration": 4,
    "start_time": "2022-05-03T13:54:26.541Z"
   },
   {
    "duration": 8,
    "start_time": "2022-05-03T13:54:26.981Z"
   },
   {
    "duration": 23,
    "start_time": "2022-05-03T13:54:27.651Z"
   },
   {
    "duration": 23,
    "start_time": "2022-05-03T13:54:28.329Z"
   },
   {
    "duration": 4,
    "start_time": "2022-05-03T13:54:48.585Z"
   },
   {
    "duration": 24,
    "start_time": "2022-05-03T13:54:48.653Z"
   },
   {
    "duration": 13,
    "start_time": "2022-05-03T13:54:48.680Z"
   },
   {
    "duration": 3,
    "start_time": "2022-05-03T13:54:48.696Z"
   },
   {
    "duration": 21,
    "start_time": "2022-05-03T13:54:48.701Z"
   },
   {
    "duration": 5,
    "start_time": "2022-05-03T13:54:48.998Z"
   },
   {
    "duration": 7,
    "start_time": "2022-05-03T13:54:49.005Z"
   },
   {
    "duration": 10,
    "start_time": "2022-05-03T13:54:49.048Z"
   },
   {
    "duration": 27,
    "start_time": "2022-05-03T13:54:49.060Z"
   },
   {
    "duration": 34,
    "start_time": "2022-05-03T13:54:49.089Z"
   },
   {
    "duration": 16,
    "start_time": "2022-05-03T13:54:49.127Z"
   },
   {
    "duration": 17,
    "start_time": "2022-05-03T13:54:49.146Z"
   },
   {
    "duration": 48,
    "start_time": "2022-05-03T13:54:49.166Z"
   },
   {
    "duration": 3,
    "start_time": "2022-05-03T13:54:49.217Z"
   },
   {
    "duration": 10416,
    "start_time": "2022-05-03T13:54:49.221Z"
   },
   {
    "duration": 11,
    "start_time": "2022-05-03T13:54:59.639Z"
   },
   {
    "duration": 66,
    "start_time": "2022-05-03T13:54:59.652Z"
   },
   {
    "duration": 6,
    "start_time": "2022-05-03T13:54:59.721Z"
   },
   {
    "duration": 12,
    "start_time": "2022-05-03T13:54:59.729Z"
   },
   {
    "duration": 9,
    "start_time": "2022-05-03T13:54:59.743Z"
   },
   {
    "duration": 37,
    "start_time": "2022-05-03T13:54:59.756Z"
   },
   {
    "duration": 11,
    "start_time": "2022-05-03T13:54:59.795Z"
   },
   {
    "duration": 8,
    "start_time": "2022-05-03T13:54:59.808Z"
   },
   {
    "duration": 9,
    "start_time": "2022-05-03T13:54:59.818Z"
   },
   {
    "duration": 15,
    "start_time": "2022-05-03T13:54:59.830Z"
   },
   {
    "duration": 9,
    "start_time": "2022-05-03T13:54:59.848Z"
   },
   {
    "duration": 9,
    "start_time": "2022-05-03T13:54:59.892Z"
   },
   {
    "duration": 7,
    "start_time": "2022-05-03T13:54:59.903Z"
   },
   {
    "duration": 8,
    "start_time": "2022-05-03T13:54:59.913Z"
   },
   {
    "duration": 29,
    "start_time": "2022-05-03T13:54:59.923Z"
   },
   {
    "duration": 54,
    "start_time": "2022-05-03T13:56:38.687Z"
   },
   {
    "duration": 128,
    "start_time": "2022-05-03T13:56:54.761Z"
   },
   {
    "duration": 16,
    "start_time": "2022-05-03T14:00:37.693Z"
   },
   {
    "duration": 4,
    "start_time": "2022-05-03T14:01:28.696Z"
   },
   {
    "duration": 13,
    "start_time": "2022-05-03T14:02:16.972Z"
   },
   {
    "duration": 11,
    "start_time": "2022-05-03T14:02:34.753Z"
   },
   {
    "duration": 3,
    "start_time": "2022-05-03T14:02:52.824Z"
   },
   {
    "duration": 4,
    "start_time": "2022-05-03T14:04:45.243Z"
   },
   {
    "duration": 5,
    "start_time": "2022-05-03T14:07:24.562Z"
   },
   {
    "duration": 5,
    "start_time": "2022-05-03T14:08:05.059Z"
   },
   {
    "duration": 12,
    "start_time": "2022-05-03T14:08:59.724Z"
   },
   {
    "duration": 7,
    "start_time": "2022-05-03T14:09:27.799Z"
   },
   {
    "duration": 38,
    "start_time": "2022-05-03T14:09:33.012Z"
   },
   {
    "duration": 4,
    "start_time": "2022-05-03T14:10:01.420Z"
   },
   {
    "duration": 41,
    "start_time": "2022-05-03T14:10:06.106Z"
   },
   {
    "duration": 66,
    "start_time": "2022-05-03T14:11:04.670Z"
   },
   {
    "duration": 4,
    "start_time": "2022-05-03T14:12:04.891Z"
   },
   {
    "duration": 36,
    "start_time": "2022-05-03T14:12:04.897Z"
   },
   {
    "duration": 18,
    "start_time": "2022-05-03T14:12:04.935Z"
   },
   {
    "duration": 9,
    "start_time": "2022-05-03T14:12:04.956Z"
   },
   {
    "duration": 37,
    "start_time": "2022-05-03T14:12:04.967Z"
   },
   {
    "duration": 5,
    "start_time": "2022-05-03T14:12:05.009Z"
   },
   {
    "duration": 8,
    "start_time": "2022-05-03T14:12:05.016Z"
   },
   {
    "duration": 14,
    "start_time": "2022-05-03T14:12:05.026Z"
   },
   {
    "duration": 25,
    "start_time": "2022-05-03T14:12:05.042Z"
   },
   {
    "duration": 24,
    "start_time": "2022-05-03T14:12:05.094Z"
   },
   {
    "duration": 19,
    "start_time": "2022-05-03T14:12:18.789Z"
   },
   {
    "duration": 6,
    "start_time": "2022-05-03T14:15:20.760Z"
   },
   {
    "duration": 11,
    "start_time": "2022-05-03T14:15:23.473Z"
   },
   {
    "duration": 3,
    "start_time": "2022-05-03T14:15:25.290Z"
   },
   {
    "duration": 29,
    "start_time": "2022-05-03T14:15:25.456Z"
   },
   {
    "duration": 3,
    "start_time": "2022-05-03T14:15:25.634Z"
   },
   {
    "duration": 8051,
    "start_time": "2022-05-03T14:15:26.304Z"
   },
   {
    "duration": 7,
    "start_time": "2022-05-03T14:15:36.974Z"
   },
   {
    "duration": 20,
    "start_time": "2022-05-03T14:15:37.386Z"
   },
   {
    "duration": 5,
    "start_time": "2022-05-03T14:15:38.397Z"
   },
   {
    "duration": 5,
    "start_time": "2022-05-03T14:15:38.841Z"
   },
   {
    "duration": 7,
    "start_time": "2022-05-03T14:15:39.235Z"
   },
   {
    "duration": 11,
    "start_time": "2022-05-03T14:15:39.834Z"
   },
   {
    "duration": 8,
    "start_time": "2022-05-03T14:15:40.355Z"
   },
   {
    "duration": 4,
    "start_time": "2022-05-03T14:15:43.485Z"
   },
   {
    "duration": 9,
    "start_time": "2022-05-03T14:15:43.968Z"
   },
   {
    "duration": 16,
    "start_time": "2022-05-03T14:15:44.332Z"
   },
   {
    "duration": 4,
    "start_time": "2022-05-03T14:15:45.336Z"
   },
   {
    "duration": 7,
    "start_time": "2022-05-03T14:15:45.692Z"
   },
   {
    "duration": 6,
    "start_time": "2022-05-03T14:15:46.092Z"
   },
   {
    "duration": 7,
    "start_time": "2022-05-03T14:15:47.343Z"
   },
   {
    "duration": 69,
    "start_time": "2022-05-03T14:15:54.146Z"
   },
   {
    "duration": 15,
    "start_time": "2022-05-03T14:16:24.431Z"
   },
   {
    "duration": 6,
    "start_time": "2022-05-03T14:16:30.137Z"
   },
   {
    "duration": 3,
    "start_time": "2022-05-03T14:16:58.910Z"
   },
   {
    "duration": 27,
    "start_time": "2022-05-03T14:16:58.916Z"
   },
   {
    "duration": 12,
    "start_time": "2022-05-03T14:16:58.945Z"
   },
   {
    "duration": 3,
    "start_time": "2022-05-03T14:16:58.960Z"
   },
   {
    "duration": 32,
    "start_time": "2022-05-03T14:16:58.965Z"
   },
   {
    "duration": 6,
    "start_time": "2022-05-03T14:16:58.999Z"
   },
   {
    "duration": 9,
    "start_time": "2022-05-03T14:16:59.006Z"
   },
   {
    "duration": 9,
    "start_time": "2022-05-03T14:16:59.017Z"
   },
   {
    "duration": 23,
    "start_time": "2022-05-03T14:16:59.028Z"
   },
   {
    "duration": 60,
    "start_time": "2022-05-03T14:16:59.055Z"
   },
   {
    "duration": 8,
    "start_time": "2022-05-03T14:16:59.116Z"
   },
   {
    "duration": 17,
    "start_time": "2022-05-03T14:16:59.126Z"
   },
   {
    "duration": 3,
    "start_time": "2022-05-03T14:16:59.145Z"
   },
   {
    "duration": 56,
    "start_time": "2022-05-03T14:16:59.149Z"
   },
   {
    "duration": 3,
    "start_time": "2022-05-03T14:16:59.207Z"
   },
   {
    "duration": 13467,
    "start_time": "2022-05-03T14:16:59.212Z"
   },
   {
    "duration": 18,
    "start_time": "2022-05-03T14:17:12.681Z"
   },
   {
    "duration": 34,
    "start_time": "2022-05-03T14:17:12.702Z"
   },
   {
    "duration": 5,
    "start_time": "2022-05-03T14:17:12.739Z"
   },
   {
    "duration": 9,
    "start_time": "2022-05-03T14:17:12.746Z"
   },
   {
    "duration": 42,
    "start_time": "2022-05-03T14:17:12.757Z"
   },
   {
    "duration": 11,
    "start_time": "2022-05-03T14:17:12.801Z"
   },
   {
    "duration": 13,
    "start_time": "2022-05-03T14:17:12.813Z"
   },
   {
    "duration": 7,
    "start_time": "2022-05-03T14:17:12.827Z"
   },
   {
    "duration": 11,
    "start_time": "2022-05-03T14:17:12.836Z"
   },
   {
    "duration": 45,
    "start_time": "2022-05-03T14:17:12.849Z"
   },
   {
    "duration": 4,
    "start_time": "2022-05-03T14:17:12.896Z"
   },
   {
    "duration": 6,
    "start_time": "2022-05-03T14:17:12.903Z"
   },
   {
    "duration": 6,
    "start_time": "2022-05-03T14:17:12.911Z"
   },
   {
    "duration": 12,
    "start_time": "2022-05-03T14:17:12.918Z"
   },
   {
    "duration": 107,
    "start_time": "2022-05-03T14:17:12.932Z"
   },
   {
    "duration": 8,
    "start_time": "2022-05-03T14:17:23.082Z"
   },
   {
    "duration": 4,
    "start_time": "2022-05-03T14:17:28.144Z"
   },
   {
    "duration": 27,
    "start_time": "2022-05-03T14:17:28.151Z"
   },
   {
    "duration": 14,
    "start_time": "2022-05-03T14:17:28.180Z"
   },
   {
    "duration": 3,
    "start_time": "2022-05-03T14:17:28.196Z"
   },
   {
    "duration": 16,
    "start_time": "2022-05-03T14:17:28.202Z"
   },
   {
    "duration": 9,
    "start_time": "2022-05-03T14:17:28.220Z"
   },
   {
    "duration": 7,
    "start_time": "2022-05-03T14:17:28.231Z"
   },
   {
    "duration": 11,
    "start_time": "2022-05-03T14:17:28.240Z"
   },
   {
    "duration": 45,
    "start_time": "2022-05-03T14:17:28.253Z"
   },
   {
    "duration": 25,
    "start_time": "2022-05-03T14:17:28.300Z"
   },
   {
    "duration": 7,
    "start_time": "2022-05-03T14:17:28.326Z"
   },
   {
    "duration": 13,
    "start_time": "2022-05-03T14:17:28.335Z"
   },
   {
    "duration": 3,
    "start_time": "2022-05-03T14:17:28.349Z"
   },
   {
    "duration": 54,
    "start_time": "2022-05-03T14:17:28.355Z"
   },
   {
    "duration": 3,
    "start_time": "2022-05-03T14:17:28.411Z"
   },
   {
    "duration": 8649,
    "start_time": "2022-05-03T14:17:28.416Z"
   },
   {
    "duration": 8,
    "start_time": "2022-05-03T14:17:37.068Z"
   },
   {
    "duration": 30,
    "start_time": "2022-05-03T14:17:37.093Z"
   },
   {
    "duration": 8,
    "start_time": "2022-05-03T14:17:37.125Z"
   },
   {
    "duration": 7,
    "start_time": "2022-05-03T14:17:37.135Z"
   },
   {
    "duration": 9,
    "start_time": "2022-05-03T14:17:37.144Z"
   },
   {
    "duration": 39,
    "start_time": "2022-05-03T14:17:37.155Z"
   },
   {
    "duration": 10,
    "start_time": "2022-05-03T14:17:37.196Z"
   },
   {
    "duration": 7,
    "start_time": "2022-05-03T14:17:37.207Z"
   },
   {
    "duration": 10,
    "start_time": "2022-05-03T14:17:37.215Z"
   },
   {
    "duration": 17,
    "start_time": "2022-05-03T14:17:37.227Z"
   },
   {
    "duration": 6,
    "start_time": "2022-05-03T14:17:37.245Z"
   },
   {
    "duration": 11,
    "start_time": "2022-05-03T14:17:37.253Z"
   },
   {
    "duration": 6,
    "start_time": "2022-05-03T14:17:37.293Z"
   },
   {
    "duration": 6,
    "start_time": "2022-05-03T14:17:49.660Z"
   },
   {
    "duration": 10,
    "start_time": "2022-05-03T14:18:00.742Z"
   },
   {
    "duration": 7,
    "start_time": "2022-05-03T14:18:04.381Z"
   },
   {
    "duration": 9,
    "start_time": "2022-05-03T14:18:16.181Z"
   },
   {
    "duration": 11,
    "start_time": "2022-05-03T14:18:45.744Z"
   },
   {
    "duration": 5,
    "start_time": "2022-05-03T14:19:33.414Z"
   },
   {
    "duration": 10,
    "start_time": "2022-05-03T14:19:41.277Z"
   },
   {
    "duration": 6,
    "start_time": "2022-05-03T14:19:52.479Z"
   },
   {
    "duration": 3,
    "start_time": "2022-05-03T14:21:21.911Z"
   },
   {
    "duration": 39,
    "start_time": "2022-05-03T14:21:21.916Z"
   },
   {
    "duration": 12,
    "start_time": "2022-05-03T14:21:21.957Z"
   },
   {
    "duration": 5,
    "start_time": "2022-05-03T14:21:21.971Z"
   },
   {
    "duration": 18,
    "start_time": "2022-05-03T14:21:21.979Z"
   },
   {
    "duration": 13,
    "start_time": "2022-05-03T14:21:22.000Z"
   },
   {
    "duration": 23,
    "start_time": "2022-05-03T14:21:22.015Z"
   },
   {
    "duration": 9,
    "start_time": "2022-05-03T14:21:22.040Z"
   },
   {
    "duration": 26,
    "start_time": "2022-05-03T14:21:22.051Z"
   },
   {
    "duration": 22,
    "start_time": "2022-05-03T14:21:22.079Z"
   },
   {
    "duration": 7,
    "start_time": "2022-05-03T14:21:31.544Z"
   },
   {
    "duration": 10,
    "start_time": "2022-05-03T14:21:37.854Z"
   },
   {
    "duration": 4,
    "start_time": "2022-05-03T14:21:40.026Z"
   },
   {
    "duration": 13,
    "start_time": "2022-05-03T14:21:44.959Z"
   },
   {
    "duration": 3,
    "start_time": "2022-05-03T14:21:45.398Z"
   },
   {
    "duration": 3,
    "start_time": "2022-05-03T14:21:50.210Z"
   },
   {
    "duration": 22,
    "start_time": "2022-05-03T14:21:50.590Z"
   },
   {
    "duration": 4,
    "start_time": "2022-05-03T14:21:52.325Z"
   },
   {
    "duration": 9394,
    "start_time": "2022-05-03T14:21:52.742Z"
   },
   {
    "duration": 8,
    "start_time": "2022-05-03T14:22:04.410Z"
   },
   {
    "duration": 23,
    "start_time": "2022-05-03T14:22:05.032Z"
   },
   {
    "duration": 6,
    "start_time": "2022-05-03T14:22:10.668Z"
   },
   {
    "duration": 6,
    "start_time": "2022-05-03T14:22:16.369Z"
   },
   {
    "duration": 6,
    "start_time": "2022-05-03T14:22:17.663Z"
   },
   {
    "duration": 5,
    "start_time": "2022-05-03T14:22:25.045Z"
   },
   {
    "duration": 7,
    "start_time": "2022-05-03T14:22:29.678Z"
   },
   {
    "duration": 4,
    "start_time": "2022-05-03T14:22:30.440Z"
   },
   {
    "duration": 7,
    "start_time": "2022-05-03T14:22:36.172Z"
   },
   {
    "duration": 4,
    "start_time": "2022-05-03T14:22:38.486Z"
   },
   {
    "duration": 7,
    "start_time": "2022-05-03T14:22:39.591Z"
   },
   {
    "duration": 12,
    "start_time": "2022-05-03T14:22:40.867Z"
   },
   {
    "duration": 5,
    "start_time": "2022-05-03T14:22:45.733Z"
   },
   {
    "duration": 8,
    "start_time": "2022-05-03T14:22:46.190Z"
   },
   {
    "duration": 8,
    "start_time": "2022-05-03T14:22:46.918Z"
   },
   {
    "duration": 8,
    "start_time": "2022-05-03T14:22:53.373Z"
   },
   {
    "duration": 206,
    "start_time": "2022-05-03T14:22:54.884Z"
   },
   {
    "duration": 239,
    "start_time": "2022-05-03T14:23:41.200Z"
   },
   {
    "duration": 6,
    "start_time": "2022-05-03T14:24:18.622Z"
   },
   {
    "duration": 142,
    "start_time": "2022-05-03T14:24:25.389Z"
   },
   {
    "duration": 4,
    "start_time": "2022-05-03T14:24:28.961Z"
   },
   {
    "duration": 245,
    "start_time": "2022-05-03T14:24:44.122Z"
   },
   {
    "duration": 5,
    "start_time": "2022-05-03T14:26:51.317Z"
   },
   {
    "duration": 199,
    "start_time": "2022-05-03T14:26:56.078Z"
   },
   {
    "duration": 173,
    "start_time": "2022-05-03T14:27:07.968Z"
   },
   {
    "duration": 4,
    "start_time": "2022-05-03T14:29:34.509Z"
   },
   {
    "duration": 59,
    "start_time": "2022-05-03T14:29:39.612Z"
   },
   {
    "duration": 110,
    "start_time": "2022-05-03T14:29:41.886Z"
   },
   {
    "duration": 173,
    "start_time": "2022-05-03T14:29:49.170Z"
   },
   {
    "duration": 232,
    "start_time": "2022-05-03T14:29:57.161Z"
   },
   {
    "duration": 6,
    "start_time": "2022-05-03T14:31:19.307Z"
   },
   {
    "duration": 7,
    "start_time": "2022-05-03T14:31:19.484Z"
   },
   {
    "duration": 9,
    "start_time": "2022-05-03T14:31:21.024Z"
   },
   {
    "duration": 144,
    "start_time": "2022-05-03T14:31:31.593Z"
   },
   {
    "duration": 10,
    "start_time": "2022-05-03T14:33:32.290Z"
   },
   {
    "duration": 15,
    "start_time": "2022-05-03T14:33:37.188Z"
   },
   {
    "duration": 123,
    "start_time": "2022-05-03T14:34:11.312Z"
   },
   {
    "duration": 116,
    "start_time": "2022-05-03T14:34:23.524Z"
   },
   {
    "duration": 110,
    "start_time": "2022-05-03T14:34:29.244Z"
   },
   {
    "duration": 19,
    "start_time": "2022-05-03T14:34:37.466Z"
   },
   {
    "duration": 4,
    "start_time": "2022-05-03T14:35:21.747Z"
   },
   {
    "duration": 21,
    "start_time": "2022-05-03T14:36:09.542Z"
   },
   {
    "duration": 111,
    "start_time": "2022-05-03T14:36:19.999Z"
   },
   {
    "duration": 202,
    "start_time": "2022-05-03T14:36:25.093Z"
   },
   {
    "duration": 106,
    "start_time": "2022-05-03T14:36:29.724Z"
   },
   {
    "duration": 50,
    "start_time": "2022-05-03T14:36:33.237Z"
   },
   {
    "duration": 5,
    "start_time": "2022-05-03T14:36:53.400Z"
   },
   {
    "duration": 336,
    "start_time": "2022-05-03T14:37:10.638Z"
   },
   {
    "duration": 53,
    "start_time": "2022-05-03T14:37:13.387Z"
   },
   {
    "duration": 258,
    "start_time": "2022-05-03T14:37:15.654Z"
   },
   {
    "duration": 198,
    "start_time": "2022-05-03T14:37:17.972Z"
   },
   {
    "duration": 160,
    "start_time": "2022-05-03T14:37:20.081Z"
   },
   {
    "duration": 40,
    "start_time": "2022-05-03T14:37:22.385Z"
   },
   {
    "duration": 21,
    "start_time": "2022-05-03T14:37:28.030Z"
   },
   {
    "duration": 150,
    "start_time": "2022-05-03T14:37:41.466Z"
   },
   {
    "duration": 29,
    "start_time": "2022-05-03T14:37:45.104Z"
   },
   {
    "duration": 293,
    "start_time": "2022-05-03T14:37:52.371Z"
   },
   {
    "duration": 35,
    "start_time": "2022-05-03T14:37:57.181Z"
   },
   {
    "duration": 39,
    "start_time": "2022-05-03T14:38:00.779Z"
   },
   {
    "duration": 44,
    "start_time": "2022-05-03T14:38:02.994Z"
   },
   {
    "duration": 44,
    "start_time": "2022-05-03T14:38:05.593Z"
   },
   {
    "duration": 15,
    "start_time": "2022-05-03T14:38:08.069Z"
   },
   {
    "duration": 114,
    "start_time": "2022-05-03T14:38:10.240Z"
   },
   {
    "duration": 12,
    "start_time": "2022-05-03T14:38:14.222Z"
   },
   {
    "duration": 37,
    "start_time": "2022-05-03T14:38:34.602Z"
   },
   {
    "duration": 155,
    "start_time": "2022-05-03T14:38:39.455Z"
   },
   {
    "duration": 1711,
    "start_time": "2022-05-04T07:58:30.423Z"
   },
   {
    "duration": 39,
    "start_time": "2022-05-04T07:58:33.058Z"
   },
   {
    "duration": 15,
    "start_time": "2022-05-04T07:58:33.506Z"
   },
   {
    "duration": 3,
    "start_time": "2022-05-04T07:58:34.002Z"
   },
   {
    "duration": 15,
    "start_time": "2022-05-04T07:58:34.211Z"
   },
   {
    "duration": 4,
    "start_time": "2022-05-04T07:58:34.482Z"
   },
   {
    "duration": 3,
    "start_time": "2022-05-04T07:58:34.858Z"
   },
   {
    "duration": 8,
    "start_time": "2022-05-04T07:58:35.106Z"
   },
   {
    "duration": 23,
    "start_time": "2022-05-04T07:58:35.282Z"
   },
   {
    "duration": 20,
    "start_time": "2022-05-04T07:58:35.474Z"
   },
   {
    "duration": 13,
    "start_time": "2022-05-04T07:58:35.946Z"
   },
   {
    "duration": 11,
    "start_time": "2022-05-04T07:58:36.247Z"
   },
   {
    "duration": 2,
    "start_time": "2022-05-04T07:58:36.458Z"
   },
   {
    "duration": 20,
    "start_time": "2022-05-04T07:58:36.650Z"
   },
   {
    "duration": 3,
    "start_time": "2022-05-04T07:58:37.242Z"
   },
   {
    "duration": 7693,
    "start_time": "2022-05-04T07:58:37.434Z"
   },
   {
    "duration": 7,
    "start_time": "2022-05-04T07:58:45.129Z"
   },
   {
    "duration": 7,
    "start_time": "2022-05-04T07:58:45.137Z"
   },
   {
    "duration": 7,
    "start_time": "2022-05-04T07:58:45.146Z"
   },
   {
    "duration": 7,
    "start_time": "2022-05-04T07:58:45.155Z"
   },
   {
    "duration": 7,
    "start_time": "2022-05-04T07:58:45.164Z"
   },
   {
    "duration": 7,
    "start_time": "2022-05-04T07:58:45.173Z"
   },
   {
    "duration": 12,
    "start_time": "2022-05-04T07:58:45.181Z"
   },
   {
    "duration": 7,
    "start_time": "2022-05-04T07:58:45.222Z"
   },
   {
    "duration": 12,
    "start_time": "2022-05-04T07:58:45.231Z"
   },
   {
    "duration": 7,
    "start_time": "2022-05-04T07:58:45.245Z"
   },
   {
    "duration": 7,
    "start_time": "2022-05-04T07:58:47.314Z"
   },
   {
    "duration": 110,
    "start_time": "2022-05-04T07:58:47.744Z"
   },
   {
    "duration": 6,
    "start_time": "2022-05-04T07:58:59.578Z"
   },
   {
    "duration": 8,
    "start_time": "2022-05-04T07:59:00.971Z"
   },
   {
    "duration": 178,
    "start_time": "2022-05-04T07:59:02.890Z"
   },
   {
    "duration": 234,
    "start_time": "2022-05-04T07:59:07.090Z"
   },
   {
    "duration": 39,
    "start_time": "2022-05-04T07:59:13.763Z"
   },
   {
    "duration": 45,
    "start_time": "2022-05-04T07:59:26.194Z"
   },
   {
    "duration": 38,
    "start_time": "2022-05-04T07:59:30.034Z"
   },
   {
    "duration": 170,
    "start_time": "2022-05-04T07:59:30.682Z"
   },
   {
    "duration": 37,
    "start_time": "2022-05-04T07:59:32.178Z"
   },
   {
    "duration": 4,
    "start_time": "2022-05-04T08:01:35.810Z"
   },
   {
    "duration": 204,
    "start_time": "2022-05-04T08:02:17.954Z"
   },
   {
    "duration": 40,
    "start_time": "2022-05-04T08:02:23.763Z"
   },
   {
    "duration": 41,
    "start_time": "2022-05-04T08:02:30.354Z"
   },
   {
    "duration": 39,
    "start_time": "2022-05-04T08:02:34.587Z"
   },
   {
    "duration": 42,
    "start_time": "2022-05-04T08:02:37.330Z"
   },
   {
    "duration": 42,
    "start_time": "2022-05-04T08:02:39.713Z"
   },
   {
    "duration": 218,
    "start_time": "2022-05-04T08:02:45.122Z"
   },
   {
    "duration": 70,
    "start_time": "2022-05-04T08:02:47.370Z"
   },
   {
    "duration": 42,
    "start_time": "2022-05-04T08:04:35.990Z"
   },
   {
    "duration": 158,
    "start_time": "2022-05-04T08:05:58.215Z"
   },
   {
    "duration": 966,
    "start_time": "2022-05-04T08:06:04.769Z"
   },
   {
    "duration": 10,
    "start_time": "2022-05-04T08:07:26.465Z"
   },
   {
    "duration": 3,
    "start_time": "2022-05-04T08:07:31.107Z"
   },
   {
    "duration": 187,
    "start_time": "2022-05-04T08:08:13.636Z"
   },
   {
    "duration": 10,
    "start_time": "2022-05-04T08:10:27.088Z"
   },
   {
    "duration": 3487,
    "start_time": "2022-05-04T08:10:59.238Z"
   },
   {
    "duration": 4,
    "start_time": "2022-05-04T08:11:46.228Z"
   },
   {
    "duration": 922,
    "start_time": "2022-05-04T08:13:13.809Z"
   },
   {
    "duration": 465,
    "start_time": "2022-05-04T08:13:43.968Z"
   },
   {
    "duration": 6977,
    "start_time": "2022-05-04T08:14:51.652Z"
   },
   {
    "duration": 491,
    "start_time": "2022-05-04T08:15:21.736Z"
   },
   {
    "duration": 214,
    "start_time": "2022-05-04T08:19:49.605Z"
   },
   {
    "duration": 40,
    "start_time": "2022-05-04T08:21:59.570Z"
   },
   {
    "duration": 278,
    "start_time": "2022-05-04T08:22:08.854Z"
   },
   {
    "duration": 188,
    "start_time": "2022-05-04T08:22:12.655Z"
   },
   {
    "duration": 600,
    "start_time": "2022-05-04T08:22:16.728Z"
   },
   {
    "duration": 1932,
    "start_time": "2022-05-04T08:56:03.169Z"
   },
   {
    "duration": 5,
    "start_time": "2022-05-04T09:02:50.113Z"
   },
   {
    "duration": 5,
    "start_time": "2022-05-04T09:03:23.327Z"
   },
   {
    "duration": 4,
    "start_time": "2022-05-04T11:33:23.673Z"
   },
   {
    "duration": 20,
    "start_time": "2022-05-04T11:34:22.851Z"
   },
   {
    "duration": 4,
    "start_time": "2022-05-04T11:34:43.926Z"
   },
   {
    "duration": 22,
    "start_time": "2022-05-04T11:34:44.563Z"
   },
   {
    "duration": 5,
    "start_time": "2022-05-04T11:34:48.200Z"
   },
   {
    "duration": 20,
    "start_time": "2022-05-04T11:34:48.771Z"
   },
   {
    "duration": 4,
    "start_time": "2022-05-04T11:34:56.315Z"
   },
   {
    "duration": 5,
    "start_time": "2022-05-04T11:35:04.564Z"
   },
   {
    "duration": 21,
    "start_time": "2022-05-04T11:35:04.932Z"
   },
   {
    "duration": 5,
    "start_time": "2022-05-04T11:35:18.947Z"
   },
   {
    "duration": 16,
    "start_time": "2022-05-04T11:35:19.474Z"
   },
   {
    "duration": 12,
    "start_time": "2022-05-04T12:41:16.642Z"
   },
   {
    "duration": 15,
    "start_time": "2022-05-04T12:41:41.581Z"
   },
   {
    "duration": 6,
    "start_time": "2022-05-04T12:41:50.729Z"
   },
   {
    "duration": 10,
    "start_time": "2022-05-04T12:45:07.985Z"
   },
   {
    "duration": 13,
    "start_time": "2022-05-04T12:45:14.033Z"
   },
   {
    "duration": 6,
    "start_time": "2022-05-04T12:45:21.040Z"
   },
   {
    "duration": 8,
    "start_time": "2022-05-04T12:45:48.572Z"
   },
   {
    "duration": 3,
    "start_time": "2022-05-04T12:45:49.412Z"
   },
   {
    "duration": 100,
    "start_time": "2022-05-04T12:45:50.076Z"
   },
   {
    "duration": 44,
    "start_time": "2022-05-04T12:45:58.051Z"
   },
   {
    "duration": 25,
    "start_time": "2022-05-04T12:46:03.660Z"
   },
   {
    "duration": 217,
    "start_time": "2022-05-04T12:46:08.060Z"
   },
   {
    "duration": 44,
    "start_time": "2022-05-04T12:46:13.076Z"
   },
   {
    "duration": 44,
    "start_time": "2022-05-04T12:46:17.308Z"
   },
   {
    "duration": 2468,
    "start_time": "2022-05-04T12:46:20.067Z"
   },
   {
    "duration": 209,
    "start_time": "2022-05-04T12:46:22.537Z"
   },
   {
    "duration": 403,
    "start_time": "2022-05-04T12:46:31.707Z"
   },
   {
    "duration": 3849,
    "start_time": "2022-05-04T12:46:37.180Z"
   },
   {
    "duration": 697,
    "start_time": "2022-05-04T12:46:41.032Z"
   },
   {
    "duration": 4,
    "start_time": "2022-05-04T12:46:47.604Z"
   },
   {
    "duration": 16,
    "start_time": "2022-05-04T12:46:47.917Z"
   },
   {
    "duration": 8,
    "start_time": "2022-05-04T12:47:01.840Z"
   },
   {
    "duration": 14,
    "start_time": "2022-05-04T12:47:06.444Z"
   },
   {
    "duration": 6,
    "start_time": "2022-05-04T12:47:10.867Z"
   },
   {
    "duration": 7,
    "start_time": "2022-05-04T12:47:11.059Z"
   },
   {
    "duration": 12,
    "start_time": "2022-05-04T12:47:15.667Z"
   },
   {
    "duration": 9,
    "start_time": "2022-05-04T12:47:15.843Z"
   },
   {
    "duration": 15,
    "start_time": "2022-05-04T12:47:22.011Z"
   },
   {
    "duration": 16,
    "start_time": "2022-05-04T12:48:18.108Z"
   },
   {
    "duration": 5,
    "start_time": "2022-05-04T12:48:24.316Z"
   },
   {
    "duration": 4,
    "start_time": "2022-05-04T12:48:53.964Z"
   },
   {
    "duration": 15,
    "start_time": "2022-05-04T12:49:04.043Z"
   },
   {
    "duration": 6,
    "start_time": "2022-05-04T12:49:38.335Z"
   },
   {
    "duration": 41,
    "start_time": "2022-05-04T12:49:38.343Z"
   },
   {
    "duration": 13,
    "start_time": "2022-05-04T12:49:38.385Z"
   },
   {
    "duration": 3,
    "start_time": "2022-05-04T12:49:38.401Z"
   },
   {
    "duration": 25,
    "start_time": "2022-05-04T12:49:38.406Z"
   },
   {
    "duration": 5,
    "start_time": "2022-05-04T12:49:38.432Z"
   },
   {
    "duration": 9,
    "start_time": "2022-05-04T12:49:38.438Z"
   },
   {
    "duration": 11,
    "start_time": "2022-05-04T12:49:38.449Z"
   },
   {
    "duration": 23,
    "start_time": "2022-05-04T12:49:38.461Z"
   },
   {
    "duration": 47,
    "start_time": "2022-05-04T12:49:38.486Z"
   },
   {
    "duration": 7,
    "start_time": "2022-05-04T12:49:38.535Z"
   },
   {
    "duration": 15,
    "start_time": "2022-05-04T12:49:38.544Z"
   },
   {
    "duration": 2,
    "start_time": "2022-05-04T12:49:38.562Z"
   },
   {
    "duration": 24,
    "start_time": "2022-05-04T12:49:38.568Z"
   },
   {
    "duration": 30,
    "start_time": "2022-05-04T12:49:38.594Z"
   },
   {
    "duration": 8163,
    "start_time": "2022-05-04T12:49:38.625Z"
   },
   {
    "duration": 7,
    "start_time": "2022-05-04T12:49:46.789Z"
   },
   {
    "duration": 33,
    "start_time": "2022-05-04T12:49:46.798Z"
   },
   {
    "duration": 10,
    "start_time": "2022-05-04T12:49:46.833Z"
   },
   {
    "duration": 9,
    "start_time": "2022-05-04T12:49:46.845Z"
   },
   {
    "duration": 13,
    "start_time": "2022-05-04T12:49:46.856Z"
   },
   {
    "duration": 16,
    "start_time": "2022-05-04T12:49:46.871Z"
   },
   {
    "duration": 10,
    "start_time": "2022-05-04T12:49:46.889Z"
   },
   {
    "duration": 8,
    "start_time": "2022-05-04T12:49:46.901Z"
   },
   {
    "duration": 32,
    "start_time": "2022-05-04T12:49:46.911Z"
   },
   {
    "duration": 8,
    "start_time": "2022-05-04T12:49:46.945Z"
   },
   {
    "duration": 23,
    "start_time": "2022-05-04T12:49:46.955Z"
   },
   {
    "duration": 6,
    "start_time": "2022-05-04T12:49:46.980Z"
   },
   {
    "duration": 14,
    "start_time": "2022-05-04T12:49:46.988Z"
   },
   {
    "duration": 25,
    "start_time": "2022-05-04T12:49:47.004Z"
   },
   {
    "duration": 8,
    "start_time": "2022-05-04T12:49:47.032Z"
   },
   {
    "duration": 209,
    "start_time": "2022-05-04T12:49:47.042Z"
   },
   {
    "duration": 40,
    "start_time": "2022-05-04T12:49:47.253Z"
   },
   {
    "duration": 2905,
    "start_time": "2022-05-04T12:49:47.294Z"
   },
   {
    "duration": 405,
    "start_time": "2022-05-04T12:49:50.201Z"
   },
   {
    "duration": 728,
    "start_time": "2022-05-04T12:49:50.608Z"
   },
   {
    "duration": 202,
    "start_time": "2022-05-04T12:49:51.424Z"
   },
   {
    "duration": 95,
    "start_time": "2022-05-04T12:49:51.628Z"
   },
   {
    "duration": 4,
    "start_time": "2022-05-04T12:50:01.844Z"
   },
   {
    "duration": 25,
    "start_time": "2022-05-04T12:50:13.706Z"
   },
   {
    "duration": 17,
    "start_time": "2022-05-04T12:50:16.843Z"
   },
   {
    "duration": 11,
    "start_time": "2022-05-04T12:50:44.851Z"
   },
   {
    "duration": 50,
    "start_time": "2022-05-04T12:51:08.595Z"
   },
   {
    "duration": 4,
    "start_time": "2022-05-04T12:51:36.991Z"
   },
   {
    "duration": 45,
    "start_time": "2022-05-04T12:51:36.996Z"
   },
   {
    "duration": 13,
    "start_time": "2022-05-04T12:51:37.042Z"
   },
   {
    "duration": 4,
    "start_time": "2022-05-04T12:51:37.056Z"
   },
   {
    "duration": 12,
    "start_time": "2022-05-04T12:51:37.063Z"
   },
   {
    "duration": 7,
    "start_time": "2022-05-04T12:51:37.076Z"
   },
   {
    "duration": 7,
    "start_time": "2022-05-04T12:51:37.085Z"
   },
   {
    "duration": 29,
    "start_time": "2022-05-04T12:51:37.094Z"
   },
   {
    "duration": 23,
    "start_time": "2022-05-04T12:51:37.124Z"
   },
   {
    "duration": 22,
    "start_time": "2022-05-04T12:51:37.149Z"
   },
   {
    "duration": 6,
    "start_time": "2022-05-04T12:51:37.172Z"
   },
   {
    "duration": 43,
    "start_time": "2022-05-04T12:51:37.180Z"
   },
   {
    "duration": 2,
    "start_time": "2022-05-04T12:51:37.225Z"
   },
   {
    "duration": 21,
    "start_time": "2022-05-04T12:51:37.230Z"
   },
   {
    "duration": 4,
    "start_time": "2022-05-04T12:51:37.253Z"
   },
   {
    "duration": 8878,
    "start_time": "2022-05-04T12:51:37.258Z"
   },
   {
    "duration": 6,
    "start_time": "2022-05-04T12:51:46.138Z"
   },
   {
    "duration": 12,
    "start_time": "2022-05-04T12:51:46.146Z"
   },
   {
    "duration": 6,
    "start_time": "2022-05-04T12:51:46.160Z"
   },
   {
    "duration": 7,
    "start_time": "2022-05-04T12:51:46.168Z"
   },
   {
    "duration": 14,
    "start_time": "2022-05-04T12:51:46.177Z"
   },
   {
    "duration": 33,
    "start_time": "2022-05-04T12:51:46.192Z"
   },
   {
    "duration": 16,
    "start_time": "2022-05-04T12:51:46.227Z"
   },
   {
    "duration": 8,
    "start_time": "2022-05-04T12:51:46.245Z"
   },
   {
    "duration": 26,
    "start_time": "2022-05-04T12:51:46.255Z"
   },
   {
    "duration": 24,
    "start_time": "2022-05-04T12:51:46.283Z"
   },
   {
    "duration": 32,
    "start_time": "2022-05-04T12:51:46.309Z"
   },
   {
    "duration": 31,
    "start_time": "2022-05-04T12:51:46.343Z"
   },
   {
    "duration": 23,
    "start_time": "2022-05-04T12:51:46.376Z"
   },
   {
    "duration": 8,
    "start_time": "2022-05-04T12:51:49.131Z"
   },
   {
    "duration": 4,
    "start_time": "2022-05-04T12:51:50.131Z"
   },
   {
    "duration": 307,
    "start_time": "2022-05-04T12:51:54.131Z"
   },
   {
    "duration": 174,
    "start_time": "2022-05-04T12:51:55.348Z"
   },
   {
    "duration": 46,
    "start_time": "2022-05-04T12:52:27.963Z"
   },
   {
    "duration": 3192,
    "start_time": "2022-05-04T12:52:44.231Z"
   },
   {
    "duration": 417,
    "start_time": "2022-05-04T12:52:51.028Z"
   },
   {
    "duration": 659,
    "start_time": "2022-05-04T12:53:01.763Z"
   },
   {
    "duration": 545,
    "start_time": "2022-05-04T12:53:07.084Z"
   },
   {
    "duration": 964,
    "start_time": "2022-05-04T12:53:19.361Z"
   },
   {
    "duration": 43,
    "start_time": "2022-05-04T12:53:28.017Z"
   },
   {
    "duration": 670,
    "start_time": "2022-05-04T12:53:30.378Z"
   },
   {
    "duration": 522,
    "start_time": "2022-05-04T12:53:43.706Z"
   },
   {
    "duration": 1478,
    "start_time": "2022-05-04T12:53:47.858Z"
   },
   {
    "duration": 21,
    "start_time": "2022-05-04T12:54:04.908Z"
   },
   {
    "duration": 77,
    "start_time": "2022-05-04T12:55:26.266Z"
   },
   {
    "duration": 74,
    "start_time": "2022-05-04T12:55:46.059Z"
   },
   {
    "duration": 10,
    "start_time": "2022-05-04T12:55:50.067Z"
   },
   {
    "duration": 991,
    "start_time": "2022-05-04T12:56:45.101Z"
   },
   {
    "duration": 316,
    "start_time": "2022-05-04T12:57:57.915Z"
   },
   {
    "duration": 54,
    "start_time": "2022-05-04T13:14:20.558Z"
   },
   {
    "duration": 56,
    "start_time": "2022-05-04T13:14:27.609Z"
   },
   {
    "duration": 15,
    "start_time": "2022-05-04T13:14:39.609Z"
   },
   {
    "duration": 15,
    "start_time": "2022-05-04T13:14:43.610Z"
   },
   {
    "duration": 690,
    "start_time": "2022-05-04T13:14:46.761Z"
   },
   {
    "duration": 11,
    "start_time": "2022-05-04T13:14:47.453Z"
   },
   {
    "duration": 11,
    "start_time": "2022-05-04T13:14:58.745Z"
   },
   {
    "duration": 16,
    "start_time": "2022-05-04T13:15:59.946Z"
   },
   {
    "duration": 6,
    "start_time": "2022-05-04T13:16:13.083Z"
   },
   {
    "duration": 6,
    "start_time": "2022-05-04T13:17:13.417Z"
   },
   {
    "duration": 10,
    "start_time": "2022-05-04T13:17:49.529Z"
   },
   {
    "duration": 15,
    "start_time": "2022-05-04T13:19:10.568Z"
   },
   {
    "duration": 159,
    "start_time": "2022-05-04T13:19:24.065Z"
   },
   {
    "duration": 5,
    "start_time": "2022-05-04T13:27:29.488Z"
   },
   {
    "duration": 9,
    "start_time": "2022-05-04T13:27:29.767Z"
   },
   {
    "duration": 55,
    "start_time": "2022-05-04T13:27:30.144Z"
   },
   {
    "duration": 735,
    "start_time": "2022-05-04T13:27:30.471Z"
   },
   {
    "duration": 23,
    "start_time": "2022-05-04T13:27:31.208Z"
   },
   {
    "duration": 14,
    "start_time": "2022-05-04T13:27:32.373Z"
   },
   {
    "duration": 63,
    "start_time": "2022-05-04T13:27:33.163Z"
   },
   {
    "duration": 192,
    "start_time": "2022-05-04T13:28:47.343Z"
   },
   {
    "duration": 170,
    "start_time": "2022-05-04T13:34:29.788Z"
   },
   {
    "duration": 5,
    "start_time": "2022-05-04T13:44:57.531Z"
   },
   {
    "duration": 30,
    "start_time": "2022-05-04T13:45:57.797Z"
   },
   {
    "duration": 4,
    "start_time": "2022-05-04T13:46:32.830Z"
   },
   {
    "duration": 21,
    "start_time": "2022-05-04T13:46:35.453Z"
   },
   {
    "duration": 4,
    "start_time": "2022-05-04T13:49:00.557Z"
   },
   {
    "duration": 9,
    "start_time": "2022-05-04T13:49:01.806Z"
   },
   {
    "duration": 8,
    "start_time": "2022-05-04T13:49:19.419Z"
   },
   {
    "duration": 23,
    "start_time": "2022-05-04T13:49:43.972Z"
   },
   {
    "duration": 292,
    "start_time": "2022-05-04T13:50:06.804Z"
   },
   {
    "duration": 15,
    "start_time": "2022-05-04T13:50:25.572Z"
   },
   {
    "duration": 178,
    "start_time": "2022-05-04T13:51:07.876Z"
   },
   {
    "duration": 178,
    "start_time": "2022-05-04T13:53:20.952Z"
   },
   {
    "duration": 5,
    "start_time": "2022-05-04T13:54:12.612Z"
   },
   {
    "duration": 15,
    "start_time": "2022-05-04T13:54:24.868Z"
   },
   {
    "duration": 6,
    "start_time": "2022-05-04T13:54:29.749Z"
   },
   {
    "duration": 762,
    "start_time": "2022-05-04T13:55:13.732Z"
   },
   {
    "duration": 4,
    "start_time": "2022-05-04T13:55:52.215Z"
   },
   {
    "duration": 40,
    "start_time": "2022-05-04T13:55:52.221Z"
   },
   {
    "duration": 12,
    "start_time": "2022-05-04T13:55:52.263Z"
   },
   {
    "duration": 3,
    "start_time": "2022-05-04T13:55:52.276Z"
   },
   {
    "duration": 14,
    "start_time": "2022-05-04T13:55:52.281Z"
   },
   {
    "duration": 6,
    "start_time": "2022-05-04T13:55:52.297Z"
   },
   {
    "duration": 5,
    "start_time": "2022-05-04T13:55:52.322Z"
   },
   {
    "duration": 9,
    "start_time": "2022-05-04T13:55:52.329Z"
   },
   {
    "duration": 20,
    "start_time": "2022-05-04T13:55:52.339Z"
   },
   {
    "duration": 19,
    "start_time": "2022-05-04T13:55:52.361Z"
   },
   {
    "duration": 44,
    "start_time": "2022-05-04T13:55:52.381Z"
   },
   {
    "duration": 12,
    "start_time": "2022-05-04T13:55:52.427Z"
   },
   {
    "duration": 2,
    "start_time": "2022-05-04T13:55:52.441Z"
   },
   {
    "duration": 29,
    "start_time": "2022-05-04T13:55:52.447Z"
   },
   {
    "duration": 4,
    "start_time": "2022-05-04T13:55:52.479Z"
   },
   {
    "duration": 8650,
    "start_time": "2022-05-04T13:55:52.485Z"
   },
   {
    "duration": 7,
    "start_time": "2022-05-04T13:56:01.137Z"
   },
   {
    "duration": 53,
    "start_time": "2022-05-04T13:56:01.146Z"
   },
   {
    "duration": 41,
    "start_time": "2022-05-04T13:56:01.200Z"
   },
   {
    "duration": 14,
    "start_time": "2022-05-04T13:56:01.243Z"
   },
   {
    "duration": 26,
    "start_time": "2022-05-04T13:56:01.258Z"
   },
   {
    "duration": 24,
    "start_time": "2022-05-04T13:56:01.286Z"
   },
   {
    "duration": 21,
    "start_time": "2022-05-04T13:56:01.312Z"
   },
   {
    "duration": 39,
    "start_time": "2022-05-04T13:56:01.335Z"
   },
   {
    "duration": 53,
    "start_time": "2022-05-04T13:56:01.376Z"
   },
   {
    "duration": 16,
    "start_time": "2022-05-04T13:56:01.431Z"
   },
   {
    "duration": 25,
    "start_time": "2022-05-04T13:56:01.449Z"
   },
   {
    "duration": 5,
    "start_time": "2022-05-04T13:56:01.476Z"
   },
   {
    "duration": 8,
    "start_time": "2022-05-04T13:56:01.483Z"
   },
   {
    "duration": 16,
    "start_time": "2022-05-04T13:56:01.493Z"
   },
   {
    "duration": 16,
    "start_time": "2022-05-04T13:56:01.512Z"
   },
   {
    "duration": 193,
    "start_time": "2022-05-04T13:56:01.530Z"
   },
   {
    "duration": 61,
    "start_time": "2022-05-04T13:56:01.725Z"
   },
   {
    "duration": 3034,
    "start_time": "2022-05-04T13:56:01.789Z"
   },
   {
    "duration": 796,
    "start_time": "2022-05-04T13:56:04.826Z"
   },
   {
    "duration": 697,
    "start_time": "2022-05-04T13:56:05.625Z"
   },
   {
    "duration": 113,
    "start_time": "2022-05-04T13:56:06.325Z"
   },
   {
    "duration": 6,
    "start_time": "2022-05-04T13:56:06.525Z"
   },
   {
    "duration": 94,
    "start_time": "2022-05-04T13:56:06.534Z"
   },
   {
    "duration": 71,
    "start_time": "2022-05-04T13:56:06.630Z"
   },
   {
    "duration": 837,
    "start_time": "2022-05-04T13:56:06.707Z"
   },
   {
    "duration": 177,
    "start_time": "2022-05-04T13:56:07.546Z"
   },
   {
    "duration": 7,
    "start_time": "2022-05-04T13:56:07.726Z"
   },
   {
    "duration": 101,
    "start_time": "2022-05-04T13:56:07.736Z"
   },
   {
    "duration": 24,
    "start_time": "2022-05-04T13:56:07.839Z"
   },
   {
    "duration": 309,
    "start_time": "2022-05-04T13:56:07.865Z"
   },
   {
    "duration": 53,
    "start_time": "2022-05-04T13:56:08.177Z"
   },
   {
    "duration": 3,
    "start_time": "2022-05-04T13:56:08.233Z"
   },
   {
    "duration": 708,
    "start_time": "2022-05-04T13:56:10.163Z"
   },
   {
    "duration": 4,
    "start_time": "2022-05-04T13:56:16.324Z"
   },
   {
    "duration": 742,
    "start_time": "2022-05-04T13:56:17.091Z"
   },
   {
    "duration": 4382,
    "start_time": "2022-05-04T13:56:28.428Z"
   },
   {
    "duration": 801,
    "start_time": "2022-05-04T13:56:42.004Z"
   },
   {
    "duration": 5,
    "start_time": "2022-05-04T13:56:47.164Z"
   },
   {
    "duration": 1136,
    "start_time": "2022-05-04T13:56:47.987Z"
   },
   {
    "duration": 6,
    "start_time": "2022-05-04T14:00:22.356Z"
   },
   {
    "duration": 1395,
    "start_time": "2022-05-04T14:01:15.027Z"
   },
   {
    "duration": 1739,
    "start_time": "2022-05-04T14:02:11.534Z"
   },
   {
    "duration": 31,
    "start_time": "2022-05-04T14:02:13.275Z"
   },
   {
    "duration": 15,
    "start_time": "2022-05-04T14:02:13.308Z"
   },
   {
    "duration": 7,
    "start_time": "2022-05-04T14:02:13.325Z"
   },
   {
    "duration": 22,
    "start_time": "2022-05-04T14:02:13.335Z"
   },
   {
    "duration": 12,
    "start_time": "2022-05-04T14:02:13.359Z"
   },
   {
    "duration": 5,
    "start_time": "2022-05-04T14:02:13.373Z"
   },
   {
    "duration": 11,
    "start_time": "2022-05-04T14:02:13.379Z"
   },
   {
    "duration": 41,
    "start_time": "2022-05-04T14:02:13.392Z"
   },
   {
    "duration": 23,
    "start_time": "2022-05-04T14:02:13.435Z"
   },
   {
    "duration": 16,
    "start_time": "2022-05-04T14:02:13.460Z"
   },
   {
    "duration": 13,
    "start_time": "2022-05-04T14:02:13.478Z"
   },
   {
    "duration": 30,
    "start_time": "2022-05-04T14:02:13.493Z"
   },
   {
    "duration": 22,
    "start_time": "2022-05-04T14:02:13.527Z"
   },
   {
    "duration": 6,
    "start_time": "2022-05-04T14:02:13.551Z"
   },
   {
    "duration": 8868,
    "start_time": "2022-05-04T14:02:13.559Z"
   },
   {
    "duration": 8,
    "start_time": "2022-05-04T14:02:22.429Z"
   },
   {
    "duration": 6,
    "start_time": "2022-05-04T14:02:22.439Z"
   },
   {
    "duration": 17,
    "start_time": "2022-05-04T14:02:22.447Z"
   },
   {
    "duration": 17,
    "start_time": "2022-05-04T14:02:22.465Z"
   },
   {
    "duration": 13,
    "start_time": "2022-05-04T14:02:22.484Z"
   },
   {
    "duration": 24,
    "start_time": "2022-05-04T14:02:22.499Z"
   },
   {
    "duration": 6,
    "start_time": "2022-05-04T14:02:22.524Z"
   },
   {
    "duration": 15,
    "start_time": "2022-05-04T14:02:22.531Z"
   },
   {
    "duration": 19,
    "start_time": "2022-05-04T14:02:22.547Z"
   },
   {
    "duration": 12,
    "start_time": "2022-05-04T14:02:22.568Z"
   },
   {
    "duration": 19,
    "start_time": "2022-05-04T14:02:22.582Z"
   },
   {
    "duration": 6,
    "start_time": "2022-05-04T14:02:22.603Z"
   },
   {
    "duration": 15,
    "start_time": "2022-05-04T14:02:22.610Z"
   },
   {
    "duration": 16,
    "start_time": "2022-05-04T14:02:22.627Z"
   },
   {
    "duration": 8,
    "start_time": "2022-05-04T14:02:22.645Z"
   },
   {
    "duration": 149,
    "start_time": "2022-05-04T14:02:22.654Z"
   },
   {
    "duration": 54,
    "start_time": "2022-05-04T14:02:22.806Z"
   },
   {
    "duration": 986,
    "start_time": "2022-05-04T14:02:22.862Z"
   },
   {
    "duration": 824,
    "start_time": "2022-05-04T14:02:23.850Z"
   },
   {
    "duration": 948,
    "start_time": "2022-05-04T14:02:24.676Z"
   },
   {
    "duration": 402,
    "start_time": "2022-05-04T14:02:25.626Z"
   },
   {
    "duration": 94,
    "start_time": "2022-05-04T14:02:26.031Z"
   },
   {
    "duration": 15,
    "start_time": "2022-05-04T14:02:26.127Z"
   },
   {
    "duration": 51,
    "start_time": "2022-05-04T14:02:26.144Z"
   },
   {
    "duration": 1071,
    "start_time": "2022-05-04T14:02:26.199Z"
   },
   {
    "duration": 62,
    "start_time": "2022-05-04T14:02:27.271Z"
   },
   {
    "duration": 91,
    "start_time": "2022-05-04T14:02:27.336Z"
   },
   {
    "duration": 96,
    "start_time": "2022-05-04T14:02:27.430Z"
   },
   {
    "duration": 23,
    "start_time": "2022-05-04T14:02:27.528Z"
   },
   {
    "duration": 541,
    "start_time": "2022-05-04T14:02:27.553Z"
   },
   {
    "duration": 130,
    "start_time": "2022-05-04T14:02:28.097Z"
   },
   {
    "duration": 6,
    "start_time": "2022-05-04T14:02:28.230Z"
   },
   {
    "duration": 1160,
    "start_time": "2022-05-04T14:02:28.322Z"
   },
   {
    "duration": 4,
    "start_time": "2022-05-04T14:04:02.514Z"
   },
   {
    "duration": 30,
    "start_time": "2022-05-04T14:04:04.840Z"
   },
   {
    "duration": 14,
    "start_time": "2022-05-04T14:04:05.221Z"
   },
   {
    "duration": 4,
    "start_time": "2022-05-04T14:04:32.519Z"
   },
   {
    "duration": 17,
    "start_time": "2022-05-04T14:04:32.902Z"
   },
   {
    "duration": 6,
    "start_time": "2022-05-04T14:04:35.303Z"
   },
   {
    "duration": 5,
    "start_time": "2022-05-04T14:04:35.704Z"
   },
   {
    "duration": 7,
    "start_time": "2022-05-04T14:04:39.224Z"
   },
   {
    "duration": 22,
    "start_time": "2022-05-04T14:04:40.056Z"
   },
   {
    "duration": 23,
    "start_time": "2022-05-04T14:04:41.867Z"
   },
   {
    "duration": 8,
    "start_time": "2022-05-04T14:04:42.920Z"
   },
   {
    "duration": 13,
    "start_time": "2022-05-04T14:04:43.568Z"
   },
   {
    "duration": 22,
    "start_time": "2022-05-04T14:04:45.168Z"
   },
   {
    "duration": 3,
    "start_time": "2022-05-04T14:04:45.593Z"
   },
   {
    "duration": 8575,
    "start_time": "2022-05-04T14:04:46.287Z"
   },
   {
    "duration": 7,
    "start_time": "2022-05-04T14:05:02.792Z"
   },
   {
    "duration": 5,
    "start_time": "2022-05-04T14:05:30.472Z"
   },
   {
    "duration": 5,
    "start_time": "2022-05-04T14:05:30.776Z"
   },
   {
    "duration": 9,
    "start_time": "2022-05-04T14:05:31.256Z"
   },
   {
    "duration": 10,
    "start_time": "2022-05-04T14:05:33.489Z"
   },
   {
    "duration": 8,
    "start_time": "2022-05-04T14:05:33.882Z"
   },
   {
    "duration": 5,
    "start_time": "2022-05-04T14:05:36.393Z"
   },
   {
    "duration": 8,
    "start_time": "2022-05-04T14:05:37.288Z"
   },
   {
    "duration": 12,
    "start_time": "2022-05-04T14:05:38.152Z"
   },
   {
    "duration": 5,
    "start_time": "2022-05-04T14:05:39.735Z"
   },
   {
    "duration": 15,
    "start_time": "2022-05-04T14:05:40.585Z"
   },
   {
    "duration": 6,
    "start_time": "2022-05-04T14:05:42.272Z"
   },
   {
    "duration": 5,
    "start_time": "2022-05-04T14:05:42.712Z"
   },
   {
    "duration": 7,
    "start_time": "2022-05-04T14:05:50.792Z"
   },
   {
    "duration": 4,
    "start_time": "2022-05-04T14:05:52.305Z"
   },
   {
    "duration": 313,
    "start_time": "2022-05-04T14:05:52.856Z"
   },
   {
    "duration": 60,
    "start_time": "2022-05-04T14:05:53.816Z"
   },
   {
    "duration": 1376,
    "start_time": "2022-05-04T14:05:54.424Z"
   },
   {
    "duration": 791,
    "start_time": "2022-05-04T14:05:55.802Z"
   },
   {
    "duration": 1062,
    "start_time": "2022-05-04T14:06:01.961Z"
   },
   {
    "duration": 99,
    "start_time": "2022-05-04T14:06:08.128Z"
   },
   {
    "duration": 5,
    "start_time": "2022-05-04T14:06:11.663Z"
   },
   {
    "duration": 9,
    "start_time": "2022-05-04T14:06:12.174Z"
   },
   {
    "duration": 52,
    "start_time": "2022-05-04T14:06:12.688Z"
   },
   {
    "duration": 1171,
    "start_time": "2022-05-04T14:06:13.408Z"
   },
   {
    "duration": 442,
    "start_time": "2022-05-04T14:06:14.582Z"
   },
   {
    "duration": 5,
    "start_time": "2022-05-04T14:06:24.401Z"
   },
   {
    "duration": 9,
    "start_time": "2022-05-04T14:06:25.495Z"
   },
   {
    "duration": 23,
    "start_time": "2022-05-04T14:06:25.945Z"
   },
   {
    "duration": 388,
    "start_time": "2022-05-04T14:06:26.947Z"
   },
   {
    "duration": 164,
    "start_time": "2022-05-04T14:06:29.659Z"
   },
   {
    "duration": 5,
    "start_time": "2022-05-04T14:06:35.504Z"
   },
   {
    "duration": 1103,
    "start_time": "2022-05-04T14:06:35.892Z"
   },
   {
    "duration": 156,
    "start_time": "2022-05-04T14:06:36.997Z"
   },
   {
    "duration": 2000,
    "start_time": "2022-05-04T14:10:51.534Z"
   },
   {
    "duration": 1616,
    "start_time": "2022-05-04T14:11:02.365Z"
   },
   {
    "duration": 60,
    "start_time": "2022-05-04T14:11:11.641Z"
   },
   {
    "duration": 186,
    "start_time": "2022-05-04T14:11:16.344Z"
   },
   {
    "duration": 36,
    "start_time": "2022-05-04T14:11:27.272Z"
   },
   {
    "duration": 578,
    "start_time": "2022-05-04T14:11:32.103Z"
   },
   {
    "duration": 155,
    "start_time": "2022-05-04T14:11:37.270Z"
   },
   {
    "duration": 288,
    "start_time": "2022-05-04T14:13:06.936Z"
   },
   {
    "duration": 992,
    "start_time": "2022-05-04T14:13:13.046Z"
   },
   {
    "duration": 63,
    "start_time": "2022-05-04T14:13:20.836Z"
   },
   {
    "duration": 616,
    "start_time": "2022-05-04T14:13:57.307Z"
   },
   {
    "duration": 6,
    "start_time": "2022-05-04T14:14:04.063Z"
   },
   {
    "duration": 1178,
    "start_time": "2022-05-04T14:14:04.336Z"
   },
   {
    "duration": 450,
    "start_time": "2022-05-04T14:14:05.523Z"
   },
   {
    "duration": 2384,
    "start_time": "2022-05-05T11:29:35.095Z"
   },
   {
    "duration": 23,
    "start_time": "2022-05-05T11:29:37.481Z"
   },
   {
    "duration": 12,
    "start_time": "2022-05-05T11:29:37.506Z"
   },
   {
    "duration": 7,
    "start_time": "2022-05-05T11:29:37.520Z"
   },
   {
    "duration": 24,
    "start_time": "2022-05-05T11:29:37.529Z"
   },
   {
    "duration": 4,
    "start_time": "2022-05-05T11:29:37.554Z"
   },
   {
    "duration": 6,
    "start_time": "2022-05-05T11:29:37.559Z"
   },
   {
    "duration": 8,
    "start_time": "2022-05-05T11:29:37.567Z"
   },
   {
    "duration": 20,
    "start_time": "2022-05-05T11:29:37.577Z"
   },
   {
    "duration": 21,
    "start_time": "2022-05-05T11:29:37.598Z"
   },
   {
    "duration": 9,
    "start_time": "2022-05-05T11:29:37.648Z"
   },
   {
    "duration": 11,
    "start_time": "2022-05-05T11:29:37.659Z"
   },
   {
    "duration": 20,
    "start_time": "2022-05-05T11:29:37.671Z"
   },
   {
    "duration": 2,
    "start_time": "2022-05-05T11:29:37.694Z"
   },
   {
    "duration": 7174,
    "start_time": "2022-05-05T11:29:37.698Z"
   },
   {
    "duration": 8,
    "start_time": "2022-05-05T11:29:44.874Z"
   },
   {
    "duration": 7,
    "start_time": "2022-05-05T11:29:44.883Z"
   },
   {
    "duration": 6,
    "start_time": "2022-05-05T11:29:44.892Z"
   },
   {
    "duration": 7,
    "start_time": "2022-05-05T11:29:44.899Z"
   },
   {
    "duration": 7,
    "start_time": "2022-05-05T11:29:44.908Z"
   },
   {
    "duration": 33,
    "start_time": "2022-05-05T11:29:44.917Z"
   },
   {
    "duration": 6,
    "start_time": "2022-05-05T11:29:44.952Z"
   },
   {
    "duration": 10,
    "start_time": "2022-05-05T11:29:44.959Z"
   },
   {
    "duration": 11,
    "start_time": "2022-05-05T11:29:44.971Z"
   },
   {
    "duration": 6,
    "start_time": "2022-05-05T11:29:44.984Z"
   },
   {
    "duration": 18,
    "start_time": "2022-05-05T11:29:44.992Z"
   },
   {
    "duration": 5,
    "start_time": "2022-05-05T11:29:45.012Z"
   },
   {
    "duration": 5,
    "start_time": "2022-05-05T11:29:45.019Z"
   },
   {
    "duration": 7,
    "start_time": "2022-05-05T11:29:45.048Z"
   },
   {
    "duration": 7,
    "start_time": "2022-05-05T11:29:45.057Z"
   },
   {
    "duration": 213,
    "start_time": "2022-05-05T11:29:45.066Z"
   },
   {
    "duration": 41,
    "start_time": "2022-05-05T11:29:45.281Z"
   },
   {
    "duration": 1660,
    "start_time": "2022-05-05T11:29:45.324Z"
   },
   {
    "duration": 704,
    "start_time": "2022-05-05T11:29:46.985Z"
   },
   {
    "duration": 965,
    "start_time": "2022-05-05T11:29:47.691Z"
   },
   {
    "duration": 205,
    "start_time": "2022-05-05T11:29:48.749Z"
   },
   {
    "duration": 98,
    "start_time": "2022-05-05T11:29:48.957Z"
   },
   {
    "duration": 12,
    "start_time": "2022-05-05T11:29:49.057Z"
   },
   {
    "duration": 123,
    "start_time": "2022-05-05T11:29:49.070Z"
   },
   {
    "duration": 1094,
    "start_time": "2022-05-05T11:29:49.194Z"
   },
   {
    "duration": 157,
    "start_time": "2022-05-05T11:29:50.292Z"
   },
   {
    "duration": 97,
    "start_time": "2022-05-05T11:29:50.452Z"
   },
   {
    "duration": 12,
    "start_time": "2022-05-05T11:29:50.551Z"
   },
   {
    "duration": 39,
    "start_time": "2022-05-05T11:29:50.565Z"
   },
   {
    "duration": 341,
    "start_time": "2022-05-05T11:29:50.606Z"
   },
   {
    "duration": 100,
    "start_time": "2022-05-05T11:29:50.949Z"
   },
   {
    "duration": 98,
    "start_time": "2022-05-05T11:29:51.054Z"
   },
   {
    "duration": 947,
    "start_time": "2022-05-05T11:29:51.154Z"
   },
   {
    "duration": 371,
    "start_time": "2022-05-05T11:29:52.102Z"
   },
   {
    "duration": 1602,
    "start_time": "2022-05-06T10:18:28.624Z"
   },
   {
    "duration": 27,
    "start_time": "2022-05-06T10:18:30.228Z"
   },
   {
    "duration": 13,
    "start_time": "2022-05-06T10:18:30.256Z"
   },
   {
    "duration": 4,
    "start_time": "2022-05-06T10:18:30.270Z"
   },
   {
    "duration": 23,
    "start_time": "2022-05-06T10:18:30.276Z"
   },
   {
    "duration": 4,
    "start_time": "2022-05-06T10:18:30.301Z"
   },
   {
    "duration": 11,
    "start_time": "2022-05-06T10:18:30.306Z"
   },
   {
    "duration": 9,
    "start_time": "2022-05-06T10:18:30.318Z"
   },
   {
    "duration": 21,
    "start_time": "2022-05-06T10:18:30.329Z"
   },
   {
    "duration": 21,
    "start_time": "2022-05-06T10:18:30.351Z"
   },
   {
    "duration": 9,
    "start_time": "2022-05-06T10:18:30.374Z"
   },
   {
    "duration": 17,
    "start_time": "2022-05-06T10:18:30.385Z"
   },
   {
    "duration": 20,
    "start_time": "2022-05-06T10:18:30.424Z"
   },
   {
    "duration": 6,
    "start_time": "2022-05-06T10:18:30.447Z"
   },
   {
    "duration": 7482,
    "start_time": "2022-05-06T10:18:30.454Z"
   },
   {
    "duration": 6,
    "start_time": "2022-05-06T10:18:37.938Z"
   },
   {
    "duration": 8,
    "start_time": "2022-05-06T10:18:37.946Z"
   },
   {
    "duration": 8,
    "start_time": "2022-05-06T10:18:37.955Z"
   },
   {
    "duration": 7,
    "start_time": "2022-05-06T10:18:37.964Z"
   },
   {
    "duration": 8,
    "start_time": "2022-05-06T10:18:37.973Z"
   },
   {
    "duration": 7,
    "start_time": "2022-05-06T10:18:37.982Z"
   },
   {
    "duration": 5,
    "start_time": "2022-05-06T10:18:37.991Z"
   },
   {
    "duration": 29,
    "start_time": "2022-05-06T10:18:37.997Z"
   },
   {
    "duration": 10,
    "start_time": "2022-05-06T10:18:38.027Z"
   },
   {
    "duration": 7,
    "start_time": "2022-05-06T10:18:38.039Z"
   },
   {
    "duration": 13,
    "start_time": "2022-05-06T10:18:38.047Z"
   },
   {
    "duration": 5,
    "start_time": "2022-05-06T10:18:38.062Z"
   },
   {
    "duration": 5,
    "start_time": "2022-05-06T10:18:38.068Z"
   },
   {
    "duration": 7,
    "start_time": "2022-05-06T10:18:38.074Z"
   },
   {
    "duration": 3,
    "start_time": "2022-05-06T10:18:38.083Z"
   },
   {
    "duration": 162,
    "start_time": "2022-05-06T10:18:38.087Z"
   },
   {
    "duration": 41,
    "start_time": "2022-05-06T10:18:38.251Z"
   },
   {
    "duration": 3559,
    "start_time": "2022-05-06T10:18:38.294Z"
   },
   {
    "duration": 697,
    "start_time": "2022-05-06T10:18:41.855Z"
   },
   {
    "duration": 776,
    "start_time": "2022-05-06T10:18:42.554Z"
   },
   {
    "duration": 200,
    "start_time": "2022-05-06T10:18:43.332Z"
   },
   {
    "duration": 192,
    "start_time": "2022-05-06T10:18:43.533Z"
   },
   {
    "duration": 13,
    "start_time": "2022-05-06T10:18:43.726Z"
   },
   {
    "duration": 47,
    "start_time": "2022-05-06T10:18:43.741Z"
   },
   {
    "duration": 915,
    "start_time": "2022-05-06T10:18:43.789Z"
   },
   {
    "duration": 30,
    "start_time": "2022-05-06T10:18:44.708Z"
   },
   {
    "duration": 5,
    "start_time": "2022-05-06T10:18:44.824Z"
   },
   {
    "duration": 98,
    "start_time": "2022-05-06T10:18:44.831Z"
   },
   {
    "duration": 19,
    "start_time": "2022-05-06T10:18:44.931Z"
   },
   {
    "duration": 349,
    "start_time": "2022-05-06T10:18:44.952Z"
   },
   {
    "duration": 122,
    "start_time": "2022-05-06T10:18:45.303Z"
   },
   {
    "duration": 4,
    "start_time": "2022-05-06T10:18:45.427Z"
   },
   {
    "duration": 1040,
    "start_time": "2022-05-06T10:18:45.432Z"
   },
   {
    "duration": 378,
    "start_time": "2022-05-06T10:18:46.474Z"
   },
   {
    "duration": 2353,
    "start_time": "2022-05-06T12:12:49.505Z"
   },
   {
    "duration": 275,
    "start_time": "2022-05-06T12:28:28.218Z"
   },
   {
    "duration": 8,
    "start_time": "2022-05-06T12:28:31.355Z"
   },
   {
    "duration": 67,
    "start_time": "2022-05-06T12:28:31.367Z"
   },
   {
    "duration": 21,
    "start_time": "2022-05-06T12:28:31.437Z"
   },
   {
    "duration": 14,
    "start_time": "2022-05-06T12:28:31.460Z"
   },
   {
    "duration": 11,
    "start_time": "2022-05-06T12:28:35.198Z"
   },
   {
    "duration": 36,
    "start_time": "2022-05-06T12:30:09.822Z"
   },
   {
    "duration": 17,
    "start_time": "2022-05-06T12:30:10.072Z"
   },
   {
    "duration": 6,
    "start_time": "2022-05-06T12:30:12.543Z"
   },
   {
    "duration": 22,
    "start_time": "2022-05-06T12:31:25.116Z"
   },
   {
    "duration": 7,
    "start_time": "2022-05-06T12:31:29.273Z"
   },
   {
    "duration": 21,
    "start_time": "2022-05-06T12:31:39.150Z"
   },
   {
    "duration": 6,
    "start_time": "2022-05-06T12:31:40.614Z"
   },
   {
    "duration": 45,
    "start_time": "2022-05-06T12:32:03.926Z"
   },
   {
    "duration": 25,
    "start_time": "2022-05-06T12:32:04.542Z"
   },
   {
    "duration": 7,
    "start_time": "2022-05-06T12:32:06.790Z"
   },
   {
    "duration": 6,
    "start_time": "2022-05-06T12:33:15.670Z"
   },
   {
    "duration": 17,
    "start_time": "2022-05-06T12:38:18.693Z"
   },
   {
    "duration": 6,
    "start_time": "2022-05-06T12:38:18.877Z"
   },
   {
    "duration": 1653,
    "start_time": "2022-05-07T04:43:15.212Z"
   },
   {
    "duration": 29,
    "start_time": "2022-05-07T04:43:19.409Z"
   },
   {
    "duration": 15,
    "start_time": "2022-05-07T04:43:21.754Z"
   },
   {
    "duration": 3,
    "start_time": "2022-05-07T04:43:22.187Z"
   },
   {
    "duration": 6,
    "start_time": "2022-05-07T04:43:24.909Z"
   },
   {
    "duration": 107,
    "start_time": "2022-05-07T04:43:38.131Z"
   },
   {
    "duration": 15,
    "start_time": "2022-05-07T04:44:52.804Z"
   },
   {
    "duration": 1996,
    "start_time": "2022-05-07T04:44:54.233Z"
   },
   {
    "duration": 0,
    "start_time": "2022-05-07T04:44:56.231Z"
   },
   {
    "duration": 0,
    "start_time": "2022-05-07T04:44:56.232Z"
   },
   {
    "duration": 0,
    "start_time": "2022-05-07T04:44:56.233Z"
   },
   {
    "duration": 4,
    "start_time": "2022-05-07T04:45:12.705Z"
   },
   {
    "duration": 25,
    "start_time": "2022-05-07T04:45:12.714Z"
   },
   {
    "duration": 11,
    "start_time": "2022-05-07T04:45:12.742Z"
   },
   {
    "duration": 9,
    "start_time": "2022-05-07T04:45:12.755Z"
   },
   {
    "duration": 8,
    "start_time": "2022-05-07T04:45:12.766Z"
   },
   {
    "duration": 16,
    "start_time": "2022-05-07T04:45:12.776Z"
   },
   {
    "duration": 17,
    "start_time": "2022-05-07T04:45:12.793Z"
   },
   {
    "duration": 24,
    "start_time": "2022-05-07T04:45:12.812Z"
   },
   {
    "duration": 4,
    "start_time": "2022-05-07T04:45:15.348Z"
   },
   {
    "duration": 4,
    "start_time": "2022-05-07T04:45:19.267Z"
   },
   {
    "duration": 7,
    "start_time": "2022-05-07T04:45:22.490Z"
   },
   {
    "duration": 21,
    "start_time": "2022-05-07T04:45:24.528Z"
   },
   {
    "duration": 20,
    "start_time": "2022-05-07T04:45:25.416Z"
   },
   {
    "duration": 12,
    "start_time": "2022-05-07T04:46:27.396Z"
   },
   {
    "duration": 41,
    "start_time": "2022-05-07T04:46:30.521Z"
   },
   {
    "duration": 20,
    "start_time": "2022-05-07T04:47:01.414Z"
   },
   {
    "duration": 12,
    "start_time": "2022-05-07T04:47:07.962Z"
   },
   {
    "duration": 27,
    "start_time": "2022-05-07T04:48:30.225Z"
   },
   {
    "duration": 120,
    "start_time": "2022-05-07T05:00:49.859Z"
   },
   {
    "duration": 24,
    "start_time": "2022-05-07T05:07:02.734Z"
   },
   {
    "duration": 21,
    "start_time": "2022-05-07T05:07:34.312Z"
   },
   {
    "duration": 114,
    "start_time": "2022-05-07T05:08:13.623Z"
   },
   {
    "duration": 26,
    "start_time": "2022-05-07T05:08:17.353Z"
   },
   {
    "duration": 19,
    "start_time": "2022-05-07T05:08:51.485Z"
   },
   {
    "duration": 6,
    "start_time": "2022-05-07T05:09:25.495Z"
   },
   {
    "duration": 176,
    "start_time": "2022-05-07T05:09:31.467Z"
   },
   {
    "duration": 4,
    "start_time": "2022-05-07T05:09:33.703Z"
   },
   {
    "duration": 6,
    "start_time": "2022-05-07T05:09:41.892Z"
   },
   {
    "duration": 23,
    "start_time": "2022-05-07T05:10:53.785Z"
   },
   {
    "duration": 110,
    "start_time": "2022-05-07T05:11:35.441Z"
   },
   {
    "duration": 28,
    "start_time": "2022-05-07T05:11:50.429Z"
   },
   {
    "duration": 6,
    "start_time": "2022-05-07T05:12:32.828Z"
   },
   {
    "duration": 10,
    "start_time": "2022-05-07T05:14:06.225Z"
   },
   {
    "duration": 281,
    "start_time": "2022-05-07T05:15:13.539Z"
   },
   {
    "duration": 12,
    "start_time": "2022-05-07T05:15:37.544Z"
   },
   {
    "duration": 3,
    "start_time": "2022-05-07T05:18:23.118Z"
   },
   {
    "duration": 10,
    "start_time": "2022-05-07T05:19:37.005Z"
   },
   {
    "duration": 105,
    "start_time": "2022-05-07T05:19:39.599Z"
   },
   {
    "duration": 91,
    "start_time": "2022-05-07T05:20:29.386Z"
   },
   {
    "duration": 191,
    "start_time": "2022-05-07T05:21:06.791Z"
   },
   {
    "duration": 97,
    "start_time": "2022-05-07T05:22:42.814Z"
   },
   {
    "duration": 124,
    "start_time": "2022-05-07T05:22:51.368Z"
   },
   {
    "duration": 127,
    "start_time": "2022-05-07T05:25:46.094Z"
   },
   {
    "duration": 129,
    "start_time": "2022-05-07T05:25:59.076Z"
   },
   {
    "duration": 130,
    "start_time": "2022-05-07T05:26:36.479Z"
   },
   {
    "duration": 225,
    "start_time": "2022-05-07T05:28:01.900Z"
   },
   {
    "duration": 121,
    "start_time": "2022-05-07T05:28:25.019Z"
   },
   {
    "duration": 7,
    "start_time": "2022-05-07T05:28:54.894Z"
   },
   {
    "duration": 144,
    "start_time": "2022-05-07T05:29:00.074Z"
   },
   {
    "duration": 5,
    "start_time": "2022-05-07T05:29:09.089Z"
   },
   {
    "duration": 129,
    "start_time": "2022-05-07T05:29:12.727Z"
   },
   {
    "duration": 114,
    "start_time": "2022-05-07T05:32:34.301Z"
   },
   {
    "duration": 17,
    "start_time": "2022-05-07T05:38:30.799Z"
   },
   {
    "duration": 7,
    "start_time": "2022-05-07T05:38:37.702Z"
   },
   {
    "duration": 32,
    "start_time": "2022-05-07T05:41:06.503Z"
   },
   {
    "duration": 11,
    "start_time": "2022-05-07T05:45:36.376Z"
   },
   {
    "duration": 14,
    "start_time": "2022-05-07T05:45:46.340Z"
   },
   {
    "duration": 11,
    "start_time": "2022-05-07T05:47:31.156Z"
   },
   {
    "duration": 5,
    "start_time": "2022-05-07T05:47:36.345Z"
   },
   {
    "duration": 21,
    "start_time": "2022-05-07T05:47:41.099Z"
   },
   {
    "duration": 5,
    "start_time": "2022-05-07T05:47:52.480Z"
   },
   {
    "duration": 35,
    "start_time": "2022-05-07T05:47:52.487Z"
   },
   {
    "duration": 11,
    "start_time": "2022-05-07T05:47:52.524Z"
   },
   {
    "duration": 3,
    "start_time": "2022-05-07T05:47:52.537Z"
   },
   {
    "duration": 13,
    "start_time": "2022-05-07T05:47:52.542Z"
   },
   {
    "duration": 14,
    "start_time": "2022-05-07T05:47:52.556Z"
   },
   {
    "duration": 4,
    "start_time": "2022-05-07T05:47:52.572Z"
   },
   {
    "duration": 11,
    "start_time": "2022-05-07T05:47:52.585Z"
   },
   {
    "duration": 5,
    "start_time": "2022-05-07T05:47:52.598Z"
   },
   {
    "duration": 7,
    "start_time": "2022-05-07T05:47:52.605Z"
   },
   {
    "duration": 17,
    "start_time": "2022-05-07T05:47:52.615Z"
   },
   {
    "duration": 23,
    "start_time": "2022-05-07T05:47:52.634Z"
   },
   {
    "duration": 38,
    "start_time": "2022-05-07T05:47:52.659Z"
   },
   {
    "duration": 10,
    "start_time": "2022-05-07T05:47:52.698Z"
   },
   {
    "duration": 28,
    "start_time": "2022-05-07T05:47:52.710Z"
   },
   {
    "duration": 5,
    "start_time": "2022-05-07T05:47:52.740Z"
   },
   {
    "duration": 150,
    "start_time": "2022-05-07T05:47:52.747Z"
   },
   {
    "duration": 20,
    "start_time": "2022-05-07T05:47:52.899Z"
   },
   {
    "duration": 6,
    "start_time": "2022-05-07T05:47:56.104Z"
   },
   {
    "duration": 7,
    "start_time": "2022-05-07T05:47:56.569Z"
   },
   {
    "duration": 8,
    "start_time": "2022-05-07T05:57:28.078Z"
   },
   {
    "duration": 22,
    "start_time": "2022-05-07T05:57:33.328Z"
   },
   {
    "duration": 9,
    "start_time": "2022-05-07T05:57:46.538Z"
   },
   {
    "duration": 4,
    "start_time": "2022-05-07T05:58:02.010Z"
   },
   {
    "duration": 5,
    "start_time": "2022-05-07T05:59:01.250Z"
   },
   {
    "duration": 49,
    "start_time": "2022-05-07T05:59:01.257Z"
   },
   {
    "duration": 13,
    "start_time": "2022-05-07T05:59:01.308Z"
   },
   {
    "duration": 9,
    "start_time": "2022-05-07T05:59:01.322Z"
   },
   {
    "duration": 20,
    "start_time": "2022-05-07T05:59:01.334Z"
   },
   {
    "duration": 14,
    "start_time": "2022-05-07T05:59:01.356Z"
   },
   {
    "duration": 5,
    "start_time": "2022-05-07T05:59:01.372Z"
   },
   {
    "duration": 28,
    "start_time": "2022-05-07T05:59:01.378Z"
   },
   {
    "duration": 12,
    "start_time": "2022-05-07T05:59:01.408Z"
   },
   {
    "duration": 7,
    "start_time": "2022-05-07T05:59:01.421Z"
   },
   {
    "duration": 17,
    "start_time": "2022-05-07T05:59:01.429Z"
   },
   {
    "duration": 27,
    "start_time": "2022-05-07T05:59:01.448Z"
   },
   {
    "duration": 26,
    "start_time": "2022-05-07T05:59:01.477Z"
   },
   {
    "duration": 12,
    "start_time": "2022-05-07T05:59:01.505Z"
   },
   {
    "duration": 28,
    "start_time": "2022-05-07T05:59:01.518Z"
   },
   {
    "duration": 6,
    "start_time": "2022-05-07T05:59:01.548Z"
   },
   {
    "duration": 155,
    "start_time": "2022-05-07T05:59:01.556Z"
   },
   {
    "duration": 16,
    "start_time": "2022-05-07T05:59:04.236Z"
   },
   {
    "duration": 3,
    "start_time": "2022-05-07T05:59:56.367Z"
   },
   {
    "duration": 29,
    "start_time": "2022-05-07T06:00:37.258Z"
   },
   {
    "duration": 18,
    "start_time": "2022-05-07T06:00:51.844Z"
   },
   {
    "duration": 251,
    "start_time": "2022-05-07T06:01:29.450Z"
   },
   {
    "duration": 143,
    "start_time": "2022-05-07T06:01:42.858Z"
   },
   {
    "duration": 109,
    "start_time": "2022-05-07T06:02:04.590Z"
   },
   {
    "duration": 38,
    "start_time": "2022-05-07T06:02:07.466Z"
   },
   {
    "duration": 21,
    "start_time": "2022-05-07T06:02:10.856Z"
   },
   {
    "duration": 6,
    "start_time": "2022-05-07T06:05:06.862Z"
   },
   {
    "duration": 5,
    "start_time": "2022-05-07T06:06:18.049Z"
   },
   {
    "duration": 30,
    "start_time": "2022-05-07T06:06:18.055Z"
   },
   {
    "duration": 13,
    "start_time": "2022-05-07T06:06:18.086Z"
   },
   {
    "duration": 4,
    "start_time": "2022-05-07T06:06:18.101Z"
   },
   {
    "duration": 6,
    "start_time": "2022-05-07T06:06:18.107Z"
   },
   {
    "duration": 13,
    "start_time": "2022-05-07T06:06:18.114Z"
   },
   {
    "duration": 3,
    "start_time": "2022-05-07T06:06:18.129Z"
   },
   {
    "duration": 14,
    "start_time": "2022-05-07T06:06:18.134Z"
   },
   {
    "duration": 6,
    "start_time": "2022-05-07T06:06:18.150Z"
   },
   {
    "duration": 9,
    "start_time": "2022-05-07T06:06:18.157Z"
   },
   {
    "duration": 31,
    "start_time": "2022-05-07T06:06:18.167Z"
   },
   {
    "duration": 20,
    "start_time": "2022-05-07T06:06:18.199Z"
   },
   {
    "duration": 28,
    "start_time": "2022-05-07T06:06:18.220Z"
   },
   {
    "duration": 13,
    "start_time": "2022-05-07T06:06:18.250Z"
   },
   {
    "duration": 27,
    "start_time": "2022-05-07T06:06:18.293Z"
   },
   {
    "duration": 5,
    "start_time": "2022-05-07T06:06:18.322Z"
   },
   {
    "duration": 211,
    "start_time": "2022-05-07T06:06:18.328Z"
   },
   {
    "duration": 108,
    "start_time": "2022-05-07T06:06:20.520Z"
   },
   {
    "duration": 18,
    "start_time": "2022-05-07T06:06:27.883Z"
   },
   {
    "duration": 22,
    "start_time": "2022-05-07T06:06:33.202Z"
   },
   {
    "duration": 10,
    "start_time": "2022-05-07T06:06:49.881Z"
   },
   {
    "duration": 4,
    "start_time": "2022-05-07T06:06:55.497Z"
   },
   {
    "duration": 3,
    "start_time": "2022-05-07T06:06:59.224Z"
   },
   {
    "duration": 2,
    "start_time": "2022-05-07T06:07:01.514Z"
   },
   {
    "duration": 3,
    "start_time": "2022-05-07T06:07:04.137Z"
   },
   {
    "duration": 3,
    "start_time": "2022-05-07T06:07:08.671Z"
   },
   {
    "duration": 2,
    "start_time": "2022-05-07T06:07:10.472Z"
   },
   {
    "duration": 4,
    "start_time": "2022-05-07T06:07:15.511Z"
   },
   {
    "duration": 40,
    "start_time": "2022-05-07T06:07:15.517Z"
   },
   {
    "duration": 11,
    "start_time": "2022-05-07T06:07:15.559Z"
   },
   {
    "duration": 12,
    "start_time": "2022-05-07T06:07:15.572Z"
   },
   {
    "duration": 19,
    "start_time": "2022-05-07T06:07:15.586Z"
   },
   {
    "duration": 23,
    "start_time": "2022-05-07T06:07:15.606Z"
   },
   {
    "duration": 6,
    "start_time": "2022-05-07T06:07:15.630Z"
   },
   {
    "duration": 20,
    "start_time": "2022-05-07T06:07:15.637Z"
   },
   {
    "duration": 8,
    "start_time": "2022-05-07T06:07:15.660Z"
   },
   {
    "duration": 7,
    "start_time": "2022-05-07T06:07:15.670Z"
   },
   {
    "duration": 17,
    "start_time": "2022-05-07T06:07:15.679Z"
   },
   {
    "duration": 28,
    "start_time": "2022-05-07T06:07:15.698Z"
   },
   {
    "duration": 20,
    "start_time": "2022-05-07T06:07:15.728Z"
   },
   {
    "duration": 11,
    "start_time": "2022-05-07T06:07:15.750Z"
   },
   {
    "duration": 43,
    "start_time": "2022-05-07T06:07:15.763Z"
   },
   {
    "duration": 5,
    "start_time": "2022-05-07T06:07:15.808Z"
   },
   {
    "duration": 145,
    "start_time": "2022-05-07T06:07:15.815Z"
   },
   {
    "duration": 4,
    "start_time": "2022-05-07T06:07:21.351Z"
   },
   {
    "duration": 22,
    "start_time": "2022-05-07T06:07:21.901Z"
   },
   {
    "duration": 18,
    "start_time": "2022-05-07T06:07:33.176Z"
   },
   {
    "duration": 4,
    "start_time": "2022-05-07T06:07:35.317Z"
   },
   {
    "duration": 24,
    "start_time": "2022-05-07T06:07:35.654Z"
   },
   {
    "duration": 11,
    "start_time": "2022-05-07T06:08:21.312Z"
   },
   {
    "duration": 6,
    "start_time": "2022-05-07T06:08:29.822Z"
   },
   {
    "duration": 30,
    "start_time": "2022-05-07T06:08:29.831Z"
   },
   {
    "duration": 12,
    "start_time": "2022-05-07T06:08:29.862Z"
   },
   {
    "duration": 4,
    "start_time": "2022-05-07T06:08:29.876Z"
   },
   {
    "duration": 7,
    "start_time": "2022-05-07T06:08:29.882Z"
   },
   {
    "duration": 12,
    "start_time": "2022-05-07T06:08:29.890Z"
   },
   {
    "duration": 3,
    "start_time": "2022-05-07T06:08:29.904Z"
   },
   {
    "duration": 14,
    "start_time": "2022-05-07T06:08:29.909Z"
   },
   {
    "duration": 7,
    "start_time": "2022-05-07T06:08:29.924Z"
   },
   {
    "duration": 9,
    "start_time": "2022-05-07T06:08:29.934Z"
   },
   {
    "duration": 15,
    "start_time": "2022-05-07T06:08:29.944Z"
   },
   {
    "duration": 124,
    "start_time": "2022-05-07T06:08:29.961Z"
   },
   {
    "duration": 26,
    "start_time": "2022-05-07T06:08:30.086Z"
   },
   {
    "duration": 15,
    "start_time": "2022-05-07T06:08:30.114Z"
   },
   {
    "duration": 30,
    "start_time": "2022-05-07T06:08:30.130Z"
   },
   {
    "duration": 5,
    "start_time": "2022-05-07T06:08:30.161Z"
   },
   {
    "duration": 163,
    "start_time": "2022-05-07T06:08:30.168Z"
   },
   {
    "duration": 18,
    "start_time": "2022-05-07T06:08:32.416Z"
   },
   {
    "duration": 22,
    "start_time": "2022-05-07T06:08:35.664Z"
   },
   {
    "duration": 5,
    "start_time": "2022-05-07T06:10:30.284Z"
   },
   {
    "duration": 34,
    "start_time": "2022-05-07T06:10:30.291Z"
   },
   {
    "duration": 16,
    "start_time": "2022-05-07T06:10:30.328Z"
   },
   {
    "duration": 3,
    "start_time": "2022-05-07T06:10:30.346Z"
   },
   {
    "duration": 18,
    "start_time": "2022-05-07T06:10:30.351Z"
   },
   {
    "duration": 25,
    "start_time": "2022-05-07T06:10:30.371Z"
   },
   {
    "duration": 9,
    "start_time": "2022-05-07T06:10:30.398Z"
   },
   {
    "duration": 21,
    "start_time": "2022-05-07T06:10:30.409Z"
   },
   {
    "duration": 15,
    "start_time": "2022-05-07T06:10:30.432Z"
   },
   {
    "duration": 12,
    "start_time": "2022-05-07T06:10:30.449Z"
   },
   {
    "duration": 27,
    "start_time": "2022-05-07T06:10:30.464Z"
   },
   {
    "duration": 34,
    "start_time": "2022-05-07T06:10:30.493Z"
   },
   {
    "duration": 21,
    "start_time": "2022-05-07T06:10:30.528Z"
   },
   {
    "duration": 30,
    "start_time": "2022-05-07T06:10:30.551Z"
   },
   {
    "duration": 37,
    "start_time": "2022-05-07T06:10:30.582Z"
   },
   {
    "duration": 15,
    "start_time": "2022-05-07T06:10:30.621Z"
   },
   {
    "duration": 140,
    "start_time": "2022-05-07T06:10:30.638Z"
   },
   {
    "duration": 17,
    "start_time": "2022-05-07T06:10:33.210Z"
   },
   {
    "duration": 20,
    "start_time": "2022-05-07T06:10:33.925Z"
   },
   {
    "duration": 18,
    "start_time": "2022-05-07T06:10:43.345Z"
   },
   {
    "duration": 52,
    "start_time": "2022-05-07T06:10:55.342Z"
   },
   {
    "duration": 21,
    "start_time": "2022-05-07T06:10:56.723Z"
   },
   {
    "duration": 3,
    "start_time": "2022-05-07T06:11:14.011Z"
   },
   {
    "duration": 5,
    "start_time": "2022-05-07T06:11:16.586Z"
   },
   {
    "duration": 1845,
    "start_time": "2022-05-07T12:25:09.229Z"
   },
   {
    "duration": 32,
    "start_time": "2022-05-07T12:25:11.305Z"
   },
   {
    "duration": 16,
    "start_time": "2022-05-07T12:25:11.692Z"
   },
   {
    "duration": 2,
    "start_time": "2022-05-07T12:25:12.124Z"
   },
   {
    "duration": 6,
    "start_time": "2022-05-07T12:25:12.715Z"
   },
   {
    "duration": 18,
    "start_time": "2022-05-07T12:25:13.226Z"
   },
   {
    "duration": 4,
    "start_time": "2022-05-07T12:25:14.482Z"
   },
   {
    "duration": 17,
    "start_time": "2022-05-07T12:25:37.906Z"
   },
   {
    "duration": 5,
    "start_time": "2022-05-07T12:25:38.173Z"
   },
   {
    "duration": 4,
    "start_time": "2022-05-07T12:25:38.646Z"
   },
   {
    "duration": 9,
    "start_time": "2022-05-07T12:25:39.054Z"
   },
   {
    "duration": 28,
    "start_time": "2022-05-07T12:25:39.726Z"
   },
   {
    "duration": 26,
    "start_time": "2022-05-07T12:25:40.846Z"
   },
   {
    "duration": 12,
    "start_time": "2022-05-07T12:25:46.182Z"
   },
   {
    "duration": 35,
    "start_time": "2022-05-07T12:25:48.319Z"
   },
   {
    "duration": 7,
    "start_time": "2022-05-07T12:25:49.791Z"
   },
   {
    "duration": 7,
    "start_time": "2022-05-07T12:25:55.955Z"
   },
   {
    "duration": 164,
    "start_time": "2022-05-07T12:25:57.450Z"
   },
   {
    "duration": 20,
    "start_time": "2022-05-07T12:26:05.951Z"
   },
   {
    "duration": 6,
    "start_time": "2022-05-07T12:54:01.570Z"
   },
   {
    "duration": 61,
    "start_time": "2022-05-07T12:54:01.578Z"
   },
   {
    "duration": 13,
    "start_time": "2022-05-07T12:54:01.691Z"
   },
   {
    "duration": 22,
    "start_time": "2022-05-07T12:54:01.706Z"
   },
   {
    "duration": 15,
    "start_time": "2022-05-07T12:54:01.730Z"
   },
   {
    "duration": 20,
    "start_time": "2022-05-07T12:54:01.747Z"
   },
   {
    "duration": 9,
    "start_time": "2022-05-07T12:54:01.769Z"
   },
   {
    "duration": 26,
    "start_time": "2022-05-07T12:54:01.780Z"
   },
   {
    "duration": 12,
    "start_time": "2022-05-07T12:54:01.808Z"
   },
   {
    "duration": 16,
    "start_time": "2022-05-07T12:54:01.821Z"
   },
   {
    "duration": 12,
    "start_time": "2022-05-07T12:54:01.839Z"
   },
   {
    "duration": 26,
    "start_time": "2022-05-07T12:54:01.853Z"
   },
   {
    "duration": 22,
    "start_time": "2022-05-07T12:54:01.881Z"
   },
   {
    "duration": 30,
    "start_time": "2022-05-07T12:54:01.905Z"
   },
   {
    "duration": 30,
    "start_time": "2022-05-07T12:54:01.997Z"
   },
   {
    "duration": 6,
    "start_time": "2022-05-07T12:54:02.029Z"
   },
   {
    "duration": 164,
    "start_time": "2022-05-07T12:54:02.036Z"
   },
   {
    "duration": 34,
    "start_time": "2022-05-07T12:54:02.202Z"
   },
   {
    "duration": 202,
    "start_time": "2022-05-07T12:54:05.540Z"
   },
   {
    "duration": 5,
    "start_time": "2022-05-07T12:54:06.306Z"
   },
   {
    "duration": 7,
    "start_time": "2022-05-07T12:54:18.688Z"
   },
   {
    "duration": 5,
    "start_time": "2022-05-07T12:54:19.833Z"
   },
   {
    "duration": 5,
    "start_time": "2022-05-07T12:54:22.719Z"
   },
   {
    "duration": 45,
    "start_time": "2022-05-07T12:54:22.726Z"
   },
   {
    "duration": 12,
    "start_time": "2022-05-07T12:54:22.773Z"
   },
   {
    "duration": 10,
    "start_time": "2022-05-07T12:54:22.787Z"
   },
   {
    "duration": 7,
    "start_time": "2022-05-07T12:54:22.800Z"
   },
   {
    "duration": 14,
    "start_time": "2022-05-07T12:54:22.809Z"
   },
   {
    "duration": 5,
    "start_time": "2022-05-07T12:54:22.824Z"
   },
   {
    "duration": 14,
    "start_time": "2022-05-07T12:54:22.886Z"
   },
   {
    "duration": 5,
    "start_time": "2022-05-07T12:54:22.903Z"
   },
   {
    "duration": 8,
    "start_time": "2022-05-07T12:54:22.910Z"
   },
   {
    "duration": 9,
    "start_time": "2022-05-07T12:54:22.920Z"
   },
   {
    "duration": 21,
    "start_time": "2022-05-07T12:54:22.931Z"
   },
   {
    "duration": 22,
    "start_time": "2022-05-07T12:54:22.954Z"
   },
   {
    "duration": 12,
    "start_time": "2022-05-07T12:54:22.978Z"
   },
   {
    "duration": 55,
    "start_time": "2022-05-07T12:54:22.992Z"
   },
   {
    "duration": 6,
    "start_time": "2022-05-07T12:54:23.048Z"
   },
   {
    "duration": 148,
    "start_time": "2022-05-07T12:54:23.091Z"
   },
   {
    "duration": 17,
    "start_time": "2022-05-07T12:54:23.241Z"
   },
   {
    "duration": 20,
    "start_time": "2022-05-07T12:54:26.938Z"
   },
   {
    "duration": 159,
    "start_time": "2022-05-07T12:54:45.387Z"
   },
   {
    "duration": 6,
    "start_time": "2022-05-07T12:54:45.875Z"
   },
   {
    "duration": 129,
    "start_time": "2022-05-07T12:55:04.920Z"
   },
   {
    "duration": 5,
    "start_time": "2022-05-07T12:55:09.282Z"
   },
   {
    "duration": 31,
    "start_time": "2022-05-07T12:55:09.289Z"
   },
   {
    "duration": 14,
    "start_time": "2022-05-07T12:55:09.322Z"
   },
   {
    "duration": 2,
    "start_time": "2022-05-07T12:55:09.339Z"
   },
   {
    "duration": 7,
    "start_time": "2022-05-07T12:55:09.343Z"
   },
   {
    "duration": 14,
    "start_time": "2022-05-07T12:55:09.351Z"
   },
   {
    "duration": 5,
    "start_time": "2022-05-07T12:55:09.367Z"
   },
   {
    "duration": 15,
    "start_time": "2022-05-07T12:55:09.374Z"
   },
   {
    "duration": 12,
    "start_time": "2022-05-07T12:55:09.391Z"
   },
   {
    "duration": 4,
    "start_time": "2022-05-07T12:55:09.434Z"
   },
   {
    "duration": 9,
    "start_time": "2022-05-07T12:55:09.440Z"
   },
   {
    "duration": 24,
    "start_time": "2022-05-07T12:55:09.450Z"
   },
   {
    "duration": 21,
    "start_time": "2022-05-07T12:55:09.475Z"
   },
   {
    "duration": 38,
    "start_time": "2022-05-07T12:55:09.497Z"
   },
   {
    "duration": 31,
    "start_time": "2022-05-07T12:55:09.536Z"
   },
   {
    "duration": 5,
    "start_time": "2022-05-07T12:55:09.569Z"
   },
   {
    "duration": 166,
    "start_time": "2022-05-07T12:55:09.575Z"
   },
   {
    "duration": 18,
    "start_time": "2022-05-07T12:55:09.743Z"
   },
   {
    "duration": 20,
    "start_time": "2022-05-07T12:55:13.785Z"
   },
   {
    "duration": 24,
    "start_time": "2022-05-07T12:55:20.043Z"
   },
   {
    "duration": 19,
    "start_time": "2022-05-07T12:55:22.415Z"
   },
   {
    "duration": 21,
    "start_time": "2022-05-07T12:56:51.513Z"
   },
   {
    "duration": 9,
    "start_time": "2022-05-07T12:57:42.493Z"
   },
   {
    "duration": 3,
    "start_time": "2022-05-07T12:57:45.620Z"
   },
   {
    "duration": 16,
    "start_time": "2022-05-07T12:57:45.840Z"
   },
   {
    "duration": 2,
    "start_time": "2022-05-07T13:13:09.730Z"
   },
   {
    "duration": 14,
    "start_time": "2022-05-07T13:13:20.434Z"
   },
   {
    "duration": 3,
    "start_time": "2022-05-07T13:13:31.354Z"
   },
   {
    "duration": 15,
    "start_time": "2022-05-07T13:13:31.843Z"
   },
   {
    "duration": 18,
    "start_time": "2022-05-07T13:13:41.571Z"
   },
   {
    "duration": 5,
    "start_time": "2022-05-07T13:13:43.429Z"
   },
   {
    "duration": 159,
    "start_time": "2022-05-07T13:13:57.440Z"
   },
   {
    "duration": 5,
    "start_time": "2022-05-07T13:14:02.695Z"
   },
   {
    "duration": 3,
    "start_time": "2022-05-07T13:14:38.264Z"
   },
   {
    "duration": 18,
    "start_time": "2022-05-07T13:14:38.924Z"
   },
   {
    "duration": 345,
    "start_time": "2022-05-07T13:14:40.618Z"
   },
   {
    "duration": 5,
    "start_time": "2022-05-07T13:14:41.886Z"
   },
   {
    "duration": 5,
    "start_time": "2022-05-07T13:14:53.179Z"
   },
   {
    "duration": 3,
    "start_time": "2022-05-07T13:16:21.100Z"
   },
   {
    "duration": 16,
    "start_time": "2022-05-07T13:16:22.578Z"
   },
   {
    "duration": 21,
    "start_time": "2022-05-07T13:16:26.025Z"
   },
   {
    "duration": 7,
    "start_time": "2022-05-07T13:16:31.248Z"
   },
   {
    "duration": 61,
    "start_time": "2022-05-07T13:16:31.257Z"
   },
   {
    "duration": 13,
    "start_time": "2022-05-07T13:16:31.320Z"
   },
   {
    "duration": 50,
    "start_time": "2022-05-07T13:16:31.335Z"
   },
   {
    "duration": 44,
    "start_time": "2022-05-07T13:16:31.387Z"
   },
   {
    "duration": 54,
    "start_time": "2022-05-07T13:16:31.433Z"
   },
   {
    "duration": 36,
    "start_time": "2022-05-07T13:16:31.488Z"
   },
   {
    "duration": 44,
    "start_time": "2022-05-07T13:16:31.525Z"
   },
   {
    "duration": 20,
    "start_time": "2022-05-07T13:16:31.571Z"
   },
   {
    "duration": 34,
    "start_time": "2022-05-07T13:16:31.593Z"
   },
   {
    "duration": 25,
    "start_time": "2022-05-07T13:16:31.629Z"
   },
   {
    "duration": 41,
    "start_time": "2022-05-07T13:16:31.656Z"
   },
   {
    "duration": 25,
    "start_time": "2022-05-07T13:16:31.699Z"
   },
   {
    "duration": 18,
    "start_time": "2022-05-07T13:16:31.727Z"
   },
   {
    "duration": 56,
    "start_time": "2022-05-07T13:16:31.748Z"
   },
   {
    "duration": 6,
    "start_time": "2022-05-07T13:16:31.806Z"
   },
   {
    "duration": 198,
    "start_time": "2022-05-07T13:16:31.813Z"
   },
   {
    "duration": 36,
    "start_time": "2022-05-07T13:16:32.013Z"
   },
   {
    "duration": 36,
    "start_time": "2022-05-07T13:16:32.051Z"
   },
   {
    "duration": 5,
    "start_time": "2022-05-07T13:17:02.351Z"
   },
   {
    "duration": 44,
    "start_time": "2022-05-07T13:17:02.358Z"
   },
   {
    "duration": 12,
    "start_time": "2022-05-07T13:17:02.404Z"
   },
   {
    "duration": 7,
    "start_time": "2022-05-07T13:17:02.419Z"
   },
   {
    "duration": 13,
    "start_time": "2022-05-07T13:17:02.428Z"
   },
   {
    "duration": 18,
    "start_time": "2022-05-07T13:17:02.443Z"
   },
   {
    "duration": 6,
    "start_time": "2022-05-07T13:17:02.463Z"
   },
   {
    "duration": 25,
    "start_time": "2022-05-07T13:17:02.470Z"
   },
   {
    "duration": 7,
    "start_time": "2022-05-07T13:17:02.498Z"
   },
   {
    "duration": 9,
    "start_time": "2022-05-07T13:17:02.507Z"
   },
   {
    "duration": 11,
    "start_time": "2022-05-07T13:17:02.517Z"
   },
   {
    "duration": 100,
    "start_time": "2022-05-07T13:17:02.534Z"
   },
   {
    "duration": 24,
    "start_time": "2022-05-07T13:17:02.635Z"
   },
   {
    "duration": 13,
    "start_time": "2022-05-07T13:17:02.660Z"
   },
   {
    "duration": 42,
    "start_time": "2022-05-07T13:17:02.675Z"
   },
   {
    "duration": 20,
    "start_time": "2022-05-07T13:17:02.719Z"
   },
   {
    "duration": 162,
    "start_time": "2022-05-07T13:17:02.740Z"
   },
   {
    "duration": 18,
    "start_time": "2022-05-07T13:17:04.615Z"
   },
   {
    "duration": 21,
    "start_time": "2022-05-07T13:17:07.281Z"
   },
   {
    "duration": 23,
    "start_time": "2022-05-07T13:17:15.408Z"
   },
   {
    "duration": 3,
    "start_time": "2022-05-07T13:17:23.759Z"
   },
   {
    "duration": 22,
    "start_time": "2022-05-07T13:17:24.459Z"
   },
   {
    "duration": 5,
    "start_time": "2022-05-07T13:17:44.895Z"
   },
   {
    "duration": 35,
    "start_time": "2022-05-07T13:17:44.902Z"
   },
   {
    "duration": 13,
    "start_time": "2022-05-07T13:17:44.939Z"
   },
   {
    "duration": 4,
    "start_time": "2022-05-07T13:17:44.954Z"
   },
   {
    "duration": 10,
    "start_time": "2022-05-07T13:17:44.960Z"
   },
   {
    "duration": 19,
    "start_time": "2022-05-07T13:17:44.972Z"
   },
   {
    "duration": 5,
    "start_time": "2022-05-07T13:17:44.992Z"
   },
   {
    "duration": 41,
    "start_time": "2022-05-07T13:17:44.998Z"
   },
   {
    "duration": 19,
    "start_time": "2022-05-07T13:17:45.041Z"
   },
   {
    "duration": 19,
    "start_time": "2022-05-07T13:17:45.062Z"
   },
   {
    "duration": 25,
    "start_time": "2022-05-07T13:17:45.083Z"
   },
   {
    "duration": 54,
    "start_time": "2022-05-07T13:17:45.109Z"
   },
   {
    "duration": 28,
    "start_time": "2022-05-07T13:17:45.165Z"
   },
   {
    "duration": 19,
    "start_time": "2022-05-07T13:17:45.195Z"
   },
   {
    "duration": 47,
    "start_time": "2022-05-07T13:17:45.216Z"
   },
   {
    "duration": 6,
    "start_time": "2022-05-07T13:17:45.265Z"
   },
   {
    "duration": 214,
    "start_time": "2022-05-07T13:17:45.275Z"
   },
   {
    "duration": 20,
    "start_time": "2022-05-07T13:17:47.413Z"
   },
   {
    "duration": 15,
    "start_time": "2022-05-07T13:17:54.971Z"
   },
   {
    "duration": 5,
    "start_time": "2022-05-07T13:17:57.995Z"
   },
   {
    "duration": 5,
    "start_time": "2022-05-07T13:18:01.864Z"
   },
   {
    "duration": 41,
    "start_time": "2022-05-07T13:18:01.872Z"
   },
   {
    "duration": 13,
    "start_time": "2022-05-07T13:18:01.915Z"
   },
   {
    "duration": 2,
    "start_time": "2022-05-07T13:18:01.931Z"
   },
   {
    "duration": 26,
    "start_time": "2022-05-07T13:18:01.935Z"
   },
   {
    "duration": 28,
    "start_time": "2022-05-07T13:18:01.962Z"
   },
   {
    "duration": 6,
    "start_time": "2022-05-07T13:18:01.992Z"
   },
   {
    "duration": 33,
    "start_time": "2022-05-07T13:18:02.000Z"
   },
   {
    "duration": 15,
    "start_time": "2022-05-07T13:18:02.036Z"
   },
   {
    "duration": 19,
    "start_time": "2022-05-07T13:18:02.053Z"
   },
   {
    "duration": 19,
    "start_time": "2022-05-07T13:18:02.073Z"
   },
   {
    "duration": 33,
    "start_time": "2022-05-07T13:18:02.094Z"
   },
   {
    "duration": 25,
    "start_time": "2022-05-07T13:18:02.129Z"
   },
   {
    "duration": 14,
    "start_time": "2022-05-07T13:18:02.156Z"
   },
   {
    "duration": 36,
    "start_time": "2022-05-07T13:18:02.172Z"
   },
   {
    "duration": 28,
    "start_time": "2022-05-07T13:18:02.210Z"
   },
   {
    "duration": 178,
    "start_time": "2022-05-07T13:18:02.240Z"
   },
   {
    "duration": 16,
    "start_time": "2022-05-07T13:18:05.974Z"
   },
   {
    "duration": 5,
    "start_time": "2022-05-07T13:18:19.218Z"
   },
   {
    "duration": 3,
    "start_time": "2022-05-07T13:18:25.294Z"
   },
   {
    "duration": 329,
    "start_time": "2022-05-07T13:19:17.041Z"
   },
   {
    "duration": 5,
    "start_time": "2022-05-07T13:19:19.745Z"
   },
   {
    "duration": 5,
    "start_time": "2022-05-07T13:20:14.402Z"
   },
   {
    "duration": 6,
    "start_time": "2022-05-07T13:20:59.022Z"
   },
   {
    "duration": 6,
    "start_time": "2022-05-07T13:21:30.838Z"
   },
   {
    "duration": 164,
    "start_time": "2022-05-07T13:21:30.846Z"
   },
   {
    "duration": 13,
    "start_time": "2022-05-07T13:21:31.012Z"
   },
   {
    "duration": 9,
    "start_time": "2022-05-07T13:21:31.027Z"
   },
   {
    "duration": 13,
    "start_time": "2022-05-07T13:21:31.038Z"
   },
   {
    "duration": 21,
    "start_time": "2022-05-07T13:21:31.052Z"
   },
   {
    "duration": 4,
    "start_time": "2022-05-07T13:21:31.075Z"
   },
   {
    "duration": 44,
    "start_time": "2022-05-07T13:21:31.081Z"
   },
   {
    "duration": 25,
    "start_time": "2022-05-07T13:21:31.127Z"
   },
   {
    "duration": 22,
    "start_time": "2022-05-07T13:21:31.154Z"
   },
   {
    "duration": 20,
    "start_time": "2022-05-07T13:21:31.178Z"
   },
   {
    "duration": 34,
    "start_time": "2022-05-07T13:21:31.199Z"
   },
   {
    "duration": 23,
    "start_time": "2022-05-07T13:21:31.235Z"
   },
   {
    "duration": 16,
    "start_time": "2022-05-07T13:21:31.260Z"
   },
   {
    "duration": 94,
    "start_time": "2022-05-07T13:21:31.278Z"
   },
   {
    "duration": 8,
    "start_time": "2022-05-07T13:21:31.374Z"
   },
   {
    "duration": 174,
    "start_time": "2022-05-07T13:21:31.383Z"
   },
   {
    "duration": 17,
    "start_time": "2022-05-07T13:21:31.559Z"
   },
   {
    "duration": 5,
    "start_time": "2022-05-07T13:21:31.578Z"
   },
   {
    "duration": 3,
    "start_time": "2022-05-07T13:21:33.693Z"
   },
   {
    "duration": 287,
    "start_time": "2022-05-07T13:21:34.085Z"
   },
   {
    "duration": 5,
    "start_time": "2022-05-07T13:21:35.008Z"
   },
   {
    "duration": 5,
    "start_time": "2022-05-07T13:21:45.353Z"
   },
   {
    "duration": 31,
    "start_time": "2022-05-07T13:21:45.360Z"
   },
   {
    "duration": 12,
    "start_time": "2022-05-07T13:21:45.393Z"
   },
   {
    "duration": 12,
    "start_time": "2022-05-07T13:21:45.408Z"
   },
   {
    "duration": 22,
    "start_time": "2022-05-07T13:21:45.421Z"
   },
   {
    "duration": 28,
    "start_time": "2022-05-07T13:21:45.445Z"
   },
   {
    "duration": 4,
    "start_time": "2022-05-07T13:21:45.474Z"
   },
   {
    "duration": 20,
    "start_time": "2022-05-07T13:21:45.480Z"
   },
   {
    "duration": 13,
    "start_time": "2022-05-07T13:21:45.501Z"
   },
   {
    "duration": 11,
    "start_time": "2022-05-07T13:21:45.516Z"
   },
   {
    "duration": 12,
    "start_time": "2022-05-07T13:21:45.529Z"
   },
   {
    "duration": 34,
    "start_time": "2022-05-07T13:21:45.543Z"
   },
   {
    "duration": 23,
    "start_time": "2022-05-07T13:21:45.579Z"
   },
   {
    "duration": 29,
    "start_time": "2022-05-07T13:21:45.604Z"
   },
   {
    "duration": 40,
    "start_time": "2022-05-07T13:21:45.636Z"
   },
   {
    "duration": 6,
    "start_time": "2022-05-07T13:21:45.678Z"
   },
   {
    "duration": 180,
    "start_time": "2022-05-07T13:21:45.686Z"
   },
   {
    "duration": 15,
    "start_time": "2022-05-07T13:21:45.868Z"
   },
   {
    "duration": 5,
    "start_time": "2022-05-07T13:21:45.885Z"
   },
   {
    "duration": 2,
    "start_time": "2022-05-07T13:21:47.942Z"
   },
   {
    "duration": 284,
    "start_time": "2022-05-07T13:21:48.286Z"
   },
   {
    "duration": 5,
    "start_time": "2022-05-07T13:21:48.733Z"
   },
   {
    "duration": 4,
    "start_time": "2022-05-07T13:22:08.125Z"
   },
   {
    "duration": 6,
    "start_time": "2022-05-07T13:22:12.113Z"
   },
   {
    "duration": 3,
    "start_time": "2022-05-07T13:22:26.628Z"
   },
   {
    "duration": 12,
    "start_time": "2022-05-07T13:22:27.600Z"
   },
   {
    "duration": 3,
    "start_time": "2022-05-07T13:22:36.694Z"
   },
   {
    "duration": 9417,
    "start_time": "2022-05-07T13:22:36.981Z"
   },
   {
    "duration": 7,
    "start_time": "2022-05-07T13:23:07.121Z"
   },
   {
    "duration": 23,
    "start_time": "2022-05-07T13:23:28.417Z"
   },
   {
    "duration": 142,
    "start_time": "2022-05-07T13:25:33.364Z"
   },
   {
    "duration": 12,
    "start_time": "2022-05-07T13:25:42.509Z"
   },
   {
    "duration": 5,
    "start_time": "2022-05-07T13:25:42.523Z"
   },
   {
    "duration": 9014,
    "start_time": "2022-05-07T13:25:45.287Z"
   },
   {
    "duration": 15,
    "start_time": "2022-05-07T13:26:10.572Z"
   },
   {
    "duration": 6,
    "start_time": "2022-05-07T13:26:15.898Z"
   },
   {
    "duration": 35,
    "start_time": "2022-05-07T13:26:15.906Z"
   },
   {
    "duration": 14,
    "start_time": "2022-05-07T13:26:15.944Z"
   },
   {
    "duration": 3,
    "start_time": "2022-05-07T13:26:15.960Z"
   },
   {
    "duration": 8,
    "start_time": "2022-05-07T13:26:15.967Z"
   },
   {
    "duration": 16,
    "start_time": "2022-05-07T13:26:15.977Z"
   },
   {
    "duration": 5,
    "start_time": "2022-05-07T13:26:15.995Z"
   },
   {
    "duration": 17,
    "start_time": "2022-05-07T13:26:16.033Z"
   },
   {
    "duration": 17,
    "start_time": "2022-05-07T13:26:16.052Z"
   },
   {
    "duration": 9,
    "start_time": "2022-05-07T13:26:16.071Z"
   },
   {
    "duration": 10,
    "start_time": "2022-05-07T13:26:16.082Z"
   },
   {
    "duration": 25,
    "start_time": "2022-05-07T13:26:16.093Z"
   },
   {
    "duration": 27,
    "start_time": "2022-05-07T13:26:16.135Z"
   },
   {
    "duration": 12,
    "start_time": "2022-05-07T13:26:16.165Z"
   },
   {
    "duration": 32,
    "start_time": "2022-05-07T13:26:16.179Z"
   },
   {
    "duration": 8,
    "start_time": "2022-05-07T13:26:16.234Z"
   },
   {
    "duration": 183,
    "start_time": "2022-05-07T13:26:16.244Z"
   },
   {
    "duration": 18,
    "start_time": "2022-05-07T13:26:16.429Z"
   },
   {
    "duration": 7,
    "start_time": "2022-05-07T13:26:16.449Z"
   },
   {
    "duration": 6,
    "start_time": "2022-05-07T13:26:16.459Z"
   },
   {
    "duration": 20,
    "start_time": "2022-05-07T13:26:16.467Z"
   },
   {
    "duration": 6,
    "start_time": "2022-05-07T13:26:16.488Z"
   },
   {
    "duration": 52,
    "start_time": "2022-05-07T13:26:16.496Z"
   },
   {
    "duration": 0,
    "start_time": "2022-05-07T13:26:16.550Z"
   },
   {
    "duration": 0,
    "start_time": "2022-05-07T13:26:16.551Z"
   },
   {
    "duration": 0,
    "start_time": "2022-05-07T13:26:16.553Z"
   },
   {
    "duration": 0,
    "start_time": "2022-05-07T13:26:16.555Z"
   },
   {
    "duration": 13,
    "start_time": "2022-05-07T13:26:41.134Z"
   },
   {
    "duration": 5,
    "start_time": "2022-05-07T13:26:46.141Z"
   },
   {
    "duration": 37,
    "start_time": "2022-05-07T13:26:46.451Z"
   },
   {
    "duration": 13,
    "start_time": "2022-05-07T13:26:46.491Z"
   },
   {
    "duration": 3,
    "start_time": "2022-05-07T13:26:46.506Z"
   },
   {
    "duration": 8,
    "start_time": "2022-05-07T13:26:46.511Z"
   },
   {
    "duration": 20,
    "start_time": "2022-05-07T13:26:46.521Z"
   },
   {
    "duration": 5,
    "start_time": "2022-05-07T13:26:46.543Z"
   },
   {
    "duration": 14,
    "start_time": "2022-05-07T13:26:46.655Z"
   },
   {
    "duration": 19,
    "start_time": "2022-05-07T13:26:46.671Z"
   },
   {
    "duration": 7,
    "start_time": "2022-05-07T13:26:46.692Z"
   },
   {
    "duration": 16,
    "start_time": "2022-05-07T13:26:46.700Z"
   },
   {
    "duration": 23,
    "start_time": "2022-05-07T13:26:46.719Z"
   },
   {
    "duration": 136,
    "start_time": "2022-05-07T13:26:46.744Z"
   },
   {
    "duration": 12,
    "start_time": "2022-05-07T13:26:46.882Z"
   },
   {
    "duration": 52,
    "start_time": "2022-05-07T13:26:46.896Z"
   },
   {
    "duration": 6,
    "start_time": "2022-05-07T13:26:46.950Z"
   },
   {
    "duration": 171,
    "start_time": "2022-05-07T13:26:46.957Z"
   },
   {
    "duration": 16,
    "start_time": "2022-05-07T13:26:47.134Z"
   },
   {
    "duration": 5,
    "start_time": "2022-05-07T13:26:47.153Z"
   },
   {
    "duration": 7,
    "start_time": "2022-05-07T13:26:47.159Z"
   },
   {
    "duration": 23,
    "start_time": "2022-05-07T13:26:47.168Z"
   },
   {
    "duration": 6,
    "start_time": "2022-05-07T13:26:47.193Z"
   },
   {
    "duration": 37,
    "start_time": "2022-05-07T13:26:47.201Z"
   },
   {
    "duration": 0,
    "start_time": "2022-05-07T13:26:47.239Z"
   },
   {
    "duration": 0,
    "start_time": "2022-05-07T13:26:47.241Z"
   },
   {
    "duration": 0,
    "start_time": "2022-05-07T13:26:47.242Z"
   },
   {
    "duration": 0,
    "start_time": "2022-05-07T13:26:47.243Z"
   },
   {
    "duration": 12,
    "start_time": "2022-05-07T13:26:53.697Z"
   },
   {
    "duration": 3,
    "start_time": "2022-05-07T13:26:54.546Z"
   },
   {
    "duration": 8488,
    "start_time": "2022-05-07T13:26:55.521Z"
   },
   {
    "duration": 7,
    "start_time": "2022-05-07T13:27:07.944Z"
   },
   {
    "duration": 14,
    "start_time": "2022-05-07T13:27:14.368Z"
   },
   {
    "duration": 4,
    "start_time": "2022-05-07T13:27:22.968Z"
   },
   {
    "duration": 5,
    "start_time": "2022-05-07T13:27:55.858Z"
   },
   {
    "duration": 7,
    "start_time": "2022-05-07T13:27:56.356Z"
   },
   {
    "duration": 14,
    "start_time": "2022-05-07T13:28:26.471Z"
   },
   {
    "duration": 5,
    "start_time": "2022-05-07T13:28:36.277Z"
   },
   {
    "duration": 12,
    "start_time": "2022-05-07T13:28:45.042Z"
   },
   {
    "duration": 9,
    "start_time": "2022-05-07T13:29:09.942Z"
   },
   {
    "duration": 6,
    "start_time": "2022-05-07T13:29:12.881Z"
   },
   {
    "duration": 16,
    "start_time": "2022-05-07T13:29:13.559Z"
   },
   {
    "duration": 163,
    "start_time": "2022-05-07T13:29:43.168Z"
   },
   {
    "duration": 5,
    "start_time": "2022-05-07T13:30:05.405Z"
   },
   {
    "duration": 42,
    "start_time": "2022-05-07T13:30:05.412Z"
   },
   {
    "duration": 13,
    "start_time": "2022-05-07T13:30:05.456Z"
   },
   {
    "duration": 2,
    "start_time": "2022-05-07T13:30:05.471Z"
   },
   {
    "duration": 9,
    "start_time": "2022-05-07T13:30:05.476Z"
   },
   {
    "duration": 15,
    "start_time": "2022-05-07T13:30:05.487Z"
   },
   {
    "duration": 32,
    "start_time": "2022-05-07T13:30:05.503Z"
   },
   {
    "duration": 18,
    "start_time": "2022-05-07T13:30:05.537Z"
   },
   {
    "duration": 9,
    "start_time": "2022-05-07T13:30:05.557Z"
   },
   {
    "duration": 10,
    "start_time": "2022-05-07T13:30:05.567Z"
   },
   {
    "duration": 9,
    "start_time": "2022-05-07T13:30:05.580Z"
   },
   {
    "duration": 54,
    "start_time": "2022-05-07T13:30:05.591Z"
   },
   {
    "duration": 22,
    "start_time": "2022-05-07T13:30:05.648Z"
   },
   {
    "duration": 12,
    "start_time": "2022-05-07T13:30:05.672Z"
   },
   {
    "duration": 51,
    "start_time": "2022-05-07T13:30:05.686Z"
   },
   {
    "duration": 6,
    "start_time": "2022-05-07T13:30:05.740Z"
   },
   {
    "duration": 178,
    "start_time": "2022-05-07T13:30:05.748Z"
   },
   {
    "duration": 26,
    "start_time": "2022-05-07T13:30:05.928Z"
   },
   {
    "duration": 5,
    "start_time": "2022-05-07T13:30:05.956Z"
   },
   {
    "duration": 4,
    "start_time": "2022-05-07T13:30:05.963Z"
   },
   {
    "duration": 18,
    "start_time": "2022-05-07T13:30:05.969Z"
   },
   {
    "duration": 5,
    "start_time": "2022-05-07T13:30:05.990Z"
   },
   {
    "duration": 52,
    "start_time": "2022-05-07T13:30:05.998Z"
   },
   {
    "duration": 0,
    "start_time": "2022-05-07T13:30:06.051Z"
   },
   {
    "duration": 0,
    "start_time": "2022-05-07T13:30:06.053Z"
   },
   {
    "duration": 0,
    "start_time": "2022-05-07T13:30:06.054Z"
   },
   {
    "duration": 0,
    "start_time": "2022-05-07T13:30:06.055Z"
   },
   {
    "duration": 0,
    "start_time": "2022-05-07T13:30:06.056Z"
   },
   {
    "duration": 0,
    "start_time": "2022-05-07T13:30:06.057Z"
   },
   {
    "duration": 0,
    "start_time": "2022-05-07T13:30:06.059Z"
   },
   {
    "duration": 0,
    "start_time": "2022-05-07T13:30:06.060Z"
   },
   {
    "duration": 0,
    "start_time": "2022-05-07T13:30:06.060Z"
   },
   {
    "duration": 0,
    "start_time": "2022-05-07T13:30:06.061Z"
   },
   {
    "duration": 0,
    "start_time": "2022-05-07T13:30:06.062Z"
   },
   {
    "duration": 0,
    "start_time": "2022-05-07T13:30:06.064Z"
   },
   {
    "duration": 4,
    "start_time": "2022-05-07T13:30:22.261Z"
   },
   {
    "duration": 31,
    "start_time": "2022-05-07T13:30:22.268Z"
   },
   {
    "duration": 15,
    "start_time": "2022-05-07T13:30:22.301Z"
   },
   {
    "duration": 3,
    "start_time": "2022-05-07T13:30:22.318Z"
   },
   {
    "duration": 10,
    "start_time": "2022-05-07T13:30:22.322Z"
   },
   {
    "duration": 19,
    "start_time": "2022-05-07T13:30:22.334Z"
   },
   {
    "duration": 5,
    "start_time": "2022-05-07T13:30:22.355Z"
   },
   {
    "duration": 19,
    "start_time": "2022-05-07T13:30:22.361Z"
   },
   {
    "duration": 6,
    "start_time": "2022-05-07T13:30:22.382Z"
   },
   {
    "duration": 7,
    "start_time": "2022-05-07T13:30:22.389Z"
   },
   {
    "duration": 10,
    "start_time": "2022-05-07T13:30:22.397Z"
   },
   {
    "duration": 52,
    "start_time": "2022-05-07T13:30:22.409Z"
   },
   {
    "duration": 24,
    "start_time": "2022-05-07T13:30:22.462Z"
   },
   {
    "duration": 45,
    "start_time": "2022-05-07T13:30:22.488Z"
   },
   {
    "duration": 37,
    "start_time": "2022-05-07T13:30:22.535Z"
   },
   {
    "duration": 6,
    "start_time": "2022-05-07T13:30:22.574Z"
   },
   {
    "duration": 187,
    "start_time": "2022-05-07T13:30:22.582Z"
   },
   {
    "duration": 17,
    "start_time": "2022-05-07T13:30:22.771Z"
   },
   {
    "duration": 5,
    "start_time": "2022-05-07T13:30:22.790Z"
   },
   {
    "duration": 5,
    "start_time": "2022-05-07T13:30:22.796Z"
   },
   {
    "duration": 43,
    "start_time": "2022-05-07T13:30:22.803Z"
   },
   {
    "duration": 6,
    "start_time": "2022-05-07T13:30:26.446Z"
   },
   {
    "duration": 1657,
    "start_time": "2022-05-07T13:30:38.825Z"
   },
   {
    "duration": 30,
    "start_time": "2022-05-07T13:30:40.484Z"
   },
   {
    "duration": 13,
    "start_time": "2022-05-07T13:30:40.516Z"
   },
   {
    "duration": 3,
    "start_time": "2022-05-07T13:30:40.531Z"
   },
   {
    "duration": 16,
    "start_time": "2022-05-07T13:30:40.536Z"
   },
   {
    "duration": 18,
    "start_time": "2022-05-07T13:30:40.554Z"
   },
   {
    "duration": 10,
    "start_time": "2022-05-07T13:30:40.573Z"
   },
   {
    "duration": 18,
    "start_time": "2022-05-07T13:30:40.584Z"
   },
   {
    "duration": 4,
    "start_time": "2022-05-07T13:30:40.604Z"
   },
   {
    "duration": 8,
    "start_time": "2022-05-07T13:30:40.610Z"
   },
   {
    "duration": 24,
    "start_time": "2022-05-07T13:30:40.620Z"
   },
   {
    "duration": 27,
    "start_time": "2022-05-07T13:30:40.648Z"
   },
   {
    "duration": 25,
    "start_time": "2022-05-07T13:30:40.677Z"
   },
   {
    "duration": 35,
    "start_time": "2022-05-07T13:30:40.704Z"
   },
   {
    "duration": 38,
    "start_time": "2022-05-07T13:30:40.741Z"
   },
   {
    "duration": 6,
    "start_time": "2022-05-07T13:30:40.780Z"
   },
   {
    "duration": 189,
    "start_time": "2022-05-07T13:30:40.788Z"
   },
   {
    "duration": 16,
    "start_time": "2022-05-07T13:30:40.979Z"
   },
   {
    "duration": 5,
    "start_time": "2022-05-07T13:30:40.997Z"
   },
   {
    "duration": 5,
    "start_time": "2022-05-07T13:30:41.003Z"
   },
   {
    "duration": 156,
    "start_time": "2022-05-07T13:30:41.009Z"
   },
   {
    "duration": 0,
    "start_time": "2022-05-07T13:30:41.168Z"
   },
   {
    "duration": 0,
    "start_time": "2022-05-07T13:30:41.169Z"
   },
   {
    "duration": 0,
    "start_time": "2022-05-07T13:30:41.170Z"
   },
   {
    "duration": 0,
    "start_time": "2022-05-07T13:30:41.171Z"
   },
   {
    "duration": 0,
    "start_time": "2022-05-07T13:30:41.172Z"
   },
   {
    "duration": 0,
    "start_time": "2022-05-07T13:30:41.173Z"
   },
   {
    "duration": 0,
    "start_time": "2022-05-07T13:30:41.174Z"
   },
   {
    "duration": 0,
    "start_time": "2022-05-07T13:30:41.175Z"
   },
   {
    "duration": 0,
    "start_time": "2022-05-07T13:30:41.176Z"
   },
   {
    "duration": 0,
    "start_time": "2022-05-07T13:30:41.177Z"
   },
   {
    "duration": 0,
    "start_time": "2022-05-07T13:30:41.178Z"
   },
   {
    "duration": 0,
    "start_time": "2022-05-07T13:30:41.179Z"
   },
   {
    "duration": 0,
    "start_time": "2022-05-07T13:30:41.181Z"
   },
   {
    "duration": 0,
    "start_time": "2022-05-07T13:30:41.182Z"
   },
   {
    "duration": 0,
    "start_time": "2022-05-07T13:30:41.183Z"
   },
   {
    "duration": 0,
    "start_time": "2022-05-07T13:30:41.184Z"
   },
   {
    "duration": 0,
    "start_time": "2022-05-07T13:30:41.186Z"
   },
   {
    "duration": 0,
    "start_time": "2022-05-07T13:30:41.186Z"
   },
   {
    "duration": 0,
    "start_time": "2022-05-07T13:30:41.187Z"
   },
   {
    "duration": 0,
    "start_time": "2022-05-07T13:30:41.189Z"
   },
   {
    "duration": 0,
    "start_time": "2022-05-07T13:30:41.190Z"
   },
   {
    "duration": 0,
    "start_time": "2022-05-07T13:30:41.234Z"
   },
   {
    "duration": 0,
    "start_time": "2022-05-07T13:30:41.237Z"
   },
   {
    "duration": 0,
    "start_time": "2022-05-07T13:30:41.239Z"
   },
   {
    "duration": 0,
    "start_time": "2022-05-07T13:30:41.241Z"
   },
   {
    "duration": 0,
    "start_time": "2022-05-07T13:30:41.243Z"
   },
   {
    "duration": 0,
    "start_time": "2022-05-07T13:30:41.245Z"
   },
   {
    "duration": 0,
    "start_time": "2022-05-07T13:30:41.246Z"
   },
   {
    "duration": 0,
    "start_time": "2022-05-07T13:30:41.248Z"
   },
   {
    "duration": 0,
    "start_time": "2022-05-07T13:30:41.250Z"
   },
   {
    "duration": 0,
    "start_time": "2022-05-07T13:30:41.252Z"
   },
   {
    "duration": 0,
    "start_time": "2022-05-07T13:30:41.254Z"
   },
   {
    "duration": 0,
    "start_time": "2022-05-07T13:30:41.255Z"
   },
   {
    "duration": 0,
    "start_time": "2022-05-07T13:30:41.256Z"
   },
   {
    "duration": 0,
    "start_time": "2022-05-07T13:30:41.257Z"
   },
   {
    "duration": 0,
    "start_time": "2022-05-07T13:30:41.258Z"
   },
   {
    "duration": 0,
    "start_time": "2022-05-07T13:30:41.259Z"
   },
   {
    "duration": 0,
    "start_time": "2022-05-07T13:30:41.260Z"
   },
   {
    "duration": 0,
    "start_time": "2022-05-07T13:30:41.261Z"
   },
   {
    "duration": 9,
    "start_time": "2022-05-07T13:30:55.766Z"
   },
   {
    "duration": 349,
    "start_time": "2022-05-07T13:30:59.420Z"
   },
   {
    "duration": 7,
    "start_time": "2022-05-07T13:31:01.579Z"
   },
   {
    "duration": 4,
    "start_time": "2022-05-07T13:31:02.914Z"
   },
   {
    "duration": 12,
    "start_time": "2022-05-07T13:31:04.806Z"
   },
   {
    "duration": 4,
    "start_time": "2022-05-07T13:31:05.203Z"
   },
   {
    "duration": 9202,
    "start_time": "2022-05-07T13:31:05.659Z"
   },
   {
    "duration": 7,
    "start_time": "2022-05-07T13:31:14.864Z"
   },
   {
    "duration": 5,
    "start_time": "2022-05-07T13:31:19.390Z"
   },
   {
    "duration": 5,
    "start_time": "2022-05-07T13:31:19.986Z"
   },
   {
    "duration": 6,
    "start_time": "2022-05-07T13:31:20.656Z"
   },
   {
    "duration": 14,
    "start_time": "2022-05-07T13:31:22.279Z"
   },
   {
    "duration": 6,
    "start_time": "2022-05-07T13:31:22.295Z"
   },
   {
    "duration": 5,
    "start_time": "2022-05-07T13:31:28.016Z"
   },
   {
    "duration": 4,
    "start_time": "2022-05-07T13:31:28.485Z"
   },
   {
    "duration": 5,
    "start_time": "2022-05-07T13:31:29.197Z"
   },
   {
    "duration": 16,
    "start_time": "2022-05-07T13:31:37.227Z"
   },
   {
    "duration": 4,
    "start_time": "2022-05-07T13:31:53.743Z"
   },
   {
    "duration": 6,
    "start_time": "2022-05-07T13:32:07.935Z"
   },
   {
    "duration": 6,
    "start_time": "2022-05-07T13:32:08.612Z"
   },
   {
    "duration": 16,
    "start_time": "2022-05-07T13:34:33.535Z"
   },
   {
    "duration": 18,
    "start_time": "2022-05-07T13:34:46.089Z"
   },
   {
    "duration": 19,
    "start_time": "2022-05-07T13:34:58.475Z"
   },
   {
    "duration": 20,
    "start_time": "2022-05-07T13:35:02.193Z"
   },
   {
    "duration": 17,
    "start_time": "2022-05-07T13:36:00.665Z"
   },
   {
    "duration": 137,
    "start_time": "2022-05-07T13:37:58.506Z"
   },
   {
    "duration": 5,
    "start_time": "2022-05-07T13:41:20.047Z"
   },
   {
    "duration": 34,
    "start_time": "2022-05-07T13:41:20.054Z"
   },
   {
    "duration": 14,
    "start_time": "2022-05-07T13:41:20.090Z"
   },
   {
    "duration": 2,
    "start_time": "2022-05-07T13:41:20.106Z"
   },
   {
    "duration": 7,
    "start_time": "2022-05-07T13:41:20.110Z"
   },
   {
    "duration": 24,
    "start_time": "2022-05-07T13:41:20.118Z"
   },
   {
    "duration": 5,
    "start_time": "2022-05-07T13:41:20.144Z"
   },
   {
    "duration": 24,
    "start_time": "2022-05-07T13:41:20.152Z"
   },
   {
    "duration": 9,
    "start_time": "2022-05-07T13:41:20.178Z"
   },
   {
    "duration": 8,
    "start_time": "2022-05-07T13:41:20.189Z"
   },
   {
    "duration": 10,
    "start_time": "2022-05-07T13:41:20.198Z"
   },
   {
    "duration": 53,
    "start_time": "2022-05-07T13:41:20.209Z"
   },
   {
    "duration": 23,
    "start_time": "2022-05-07T13:41:20.264Z"
   },
   {
    "duration": 12,
    "start_time": "2022-05-07T13:41:20.291Z"
   },
   {
    "duration": 57,
    "start_time": "2022-05-07T13:41:20.305Z"
   },
   {
    "duration": 5,
    "start_time": "2022-05-07T13:41:20.364Z"
   },
   {
    "duration": 181,
    "start_time": "2022-05-07T13:41:20.371Z"
   },
   {
    "duration": 16,
    "start_time": "2022-05-07T13:41:20.554Z"
   },
   {
    "duration": 7,
    "start_time": "2022-05-07T13:41:20.572Z"
   },
   {
    "duration": 7,
    "start_time": "2022-05-07T13:41:20.581Z"
   },
   {
    "duration": 377,
    "start_time": "2022-05-07T13:41:20.590Z"
   },
   {
    "duration": 5,
    "start_time": "2022-05-07T13:41:20.969Z"
   },
   {
    "duration": 7,
    "start_time": "2022-05-07T13:41:20.976Z"
   },
   {
    "duration": 14,
    "start_time": "2022-05-07T13:41:20.985Z"
   },
   {
    "duration": 3,
    "start_time": "2022-05-07T13:41:21.001Z"
   },
   {
    "duration": 9227,
    "start_time": "2022-05-07T13:41:21.006Z"
   },
   {
    "duration": 10,
    "start_time": "2022-05-07T13:41:30.236Z"
   },
   {
    "duration": 17,
    "start_time": "2022-05-07T13:41:30.249Z"
   },
   {
    "duration": 24,
    "start_time": "2022-05-07T13:41:30.267Z"
   },
   {
    "duration": 13,
    "start_time": "2022-05-07T13:41:30.293Z"
   },
   {
    "duration": 17,
    "start_time": "2022-05-07T13:41:30.308Z"
   },
   {
    "duration": 28,
    "start_time": "2022-05-07T13:41:30.326Z"
   },
   {
    "duration": 20,
    "start_time": "2022-05-07T13:41:30.356Z"
   },
   {
    "duration": 42,
    "start_time": "2022-05-07T13:41:30.377Z"
   },
   {
    "duration": 16,
    "start_time": "2022-05-07T13:41:30.421Z"
   },
   {
    "duration": 20,
    "start_time": "2022-05-07T13:41:30.440Z"
   },
   {
    "duration": 5,
    "start_time": "2022-05-07T13:41:35.778Z"
   },
   {
    "duration": 10,
    "start_time": "2022-05-07T13:42:02.824Z"
   },
   {
    "duration": 4,
    "start_time": "2022-05-07T13:42:28.907Z"
   },
   {
    "duration": 5,
    "start_time": "2022-05-07T13:42:35.414Z"
   },
   {
    "duration": 5,
    "start_time": "2022-05-07T13:43:04.247Z"
   },
   {
    "duration": 5,
    "start_time": "2022-05-07T13:44:43.290Z"
   },
   {
    "duration": 43,
    "start_time": "2022-05-07T13:44:43.297Z"
   },
   {
    "duration": 16,
    "start_time": "2022-05-07T13:44:43.341Z"
   },
   {
    "duration": 4,
    "start_time": "2022-05-07T13:44:43.359Z"
   },
   {
    "duration": 12,
    "start_time": "2022-05-07T13:44:43.365Z"
   },
   {
    "duration": 14,
    "start_time": "2022-05-07T13:44:43.379Z"
   },
   {
    "duration": 4,
    "start_time": "2022-05-07T13:44:43.395Z"
   },
   {
    "duration": 56,
    "start_time": "2022-05-07T13:44:43.400Z"
   },
   {
    "duration": 8,
    "start_time": "2022-05-07T13:44:43.461Z"
   },
   {
    "duration": 8,
    "start_time": "2022-05-07T13:44:43.471Z"
   },
   {
    "duration": 13,
    "start_time": "2022-05-07T13:44:43.481Z"
   },
   {
    "duration": 39,
    "start_time": "2022-05-07T13:44:43.496Z"
   },
   {
    "duration": 26,
    "start_time": "2022-05-07T13:44:43.536Z"
   },
   {
    "duration": 14,
    "start_time": "2022-05-07T13:44:43.564Z"
   },
   {
    "duration": 60,
    "start_time": "2022-05-07T13:44:43.580Z"
   },
   {
    "duration": 7,
    "start_time": "2022-05-07T13:44:43.643Z"
   },
   {
    "duration": 183,
    "start_time": "2022-05-07T13:44:43.652Z"
   },
   {
    "duration": 16,
    "start_time": "2022-05-07T13:44:43.837Z"
   },
   {
    "duration": 7,
    "start_time": "2022-05-07T13:44:43.855Z"
   },
   {
    "duration": 6,
    "start_time": "2022-05-07T13:44:43.863Z"
   },
   {
    "duration": 395,
    "start_time": "2022-05-07T13:44:43.870Z"
   },
   {
    "duration": 5,
    "start_time": "2022-05-07T13:44:44.267Z"
   },
   {
    "duration": 5,
    "start_time": "2022-05-07T13:44:44.274Z"
   },
   {
    "duration": 15,
    "start_time": "2022-05-07T13:44:44.282Z"
   },
   {
    "duration": 7,
    "start_time": "2022-05-07T13:44:44.299Z"
   },
   {
    "duration": 8597,
    "start_time": "2022-05-07T13:44:44.308Z"
   },
   {
    "duration": 7,
    "start_time": "2022-05-07T13:44:52.906Z"
   },
   {
    "duration": 19,
    "start_time": "2022-05-07T13:44:52.915Z"
   },
   {
    "duration": 9,
    "start_time": "2022-05-07T13:44:52.935Z"
   },
   {
    "duration": 8,
    "start_time": "2022-05-07T13:44:52.946Z"
   },
   {
    "duration": 9,
    "start_time": "2022-05-07T13:44:52.956Z"
   },
   {
    "duration": 7,
    "start_time": "2022-05-07T13:44:52.967Z"
   },
   {
    "duration": 8,
    "start_time": "2022-05-07T13:44:52.975Z"
   },
   {
    "duration": 16,
    "start_time": "2022-05-07T13:44:52.985Z"
   },
   {
    "duration": 10,
    "start_time": "2022-05-07T13:44:53.003Z"
   },
   {
    "duration": 9,
    "start_time": "2022-05-07T13:44:53.035Z"
   },
   {
    "duration": 8,
    "start_time": "2022-05-07T13:44:57.165Z"
   },
   {
    "duration": 15,
    "start_time": "2022-05-07T13:44:57.774Z"
   },
   {
    "duration": 6,
    "start_time": "2022-05-07T13:45:08.528Z"
   },
   {
    "duration": 43,
    "start_time": "2022-05-07T13:45:08.536Z"
   },
   {
    "duration": 16,
    "start_time": "2022-05-07T13:45:08.580Z"
   },
   {
    "duration": 8,
    "start_time": "2022-05-07T13:45:08.598Z"
   },
   {
    "duration": 12,
    "start_time": "2022-05-07T13:45:08.608Z"
   },
   {
    "duration": 27,
    "start_time": "2022-05-07T13:45:08.622Z"
   },
   {
    "duration": 7,
    "start_time": "2022-05-07T13:45:08.651Z"
   },
   {
    "duration": 20,
    "start_time": "2022-05-07T13:45:08.660Z"
   },
   {
    "duration": 8,
    "start_time": "2022-05-07T13:45:08.682Z"
   },
   {
    "duration": 6,
    "start_time": "2022-05-07T13:45:08.692Z"
   },
   {
    "duration": 10,
    "start_time": "2022-05-07T13:45:08.700Z"
   },
   {
    "duration": 39,
    "start_time": "2022-05-07T13:45:08.712Z"
   },
   {
    "duration": 24,
    "start_time": "2022-05-07T13:45:08.753Z"
   },
   {
    "duration": 12,
    "start_time": "2022-05-07T13:45:08.779Z"
   },
   {
    "duration": 59,
    "start_time": "2022-05-07T13:45:08.793Z"
   },
   {
    "duration": 6,
    "start_time": "2022-05-07T13:45:08.854Z"
   },
   {
    "duration": 176,
    "start_time": "2022-05-07T13:45:08.862Z"
   },
   {
    "duration": 16,
    "start_time": "2022-05-07T13:45:09.040Z"
   },
   {
    "duration": 5,
    "start_time": "2022-05-07T13:45:09.059Z"
   },
   {
    "duration": 12,
    "start_time": "2022-05-07T13:45:09.066Z"
   },
   {
    "duration": 387,
    "start_time": "2022-05-07T13:45:09.080Z"
   },
   {
    "duration": 6,
    "start_time": "2022-05-07T13:45:09.469Z"
   },
   {
    "duration": 15,
    "start_time": "2022-05-07T13:45:09.477Z"
   },
   {
    "duration": 17,
    "start_time": "2022-05-07T13:45:09.496Z"
   },
   {
    "duration": 18,
    "start_time": "2022-05-07T13:45:09.516Z"
   },
   {
    "duration": 8701,
    "start_time": "2022-05-07T13:45:09.536Z"
   },
   {
    "duration": 7,
    "start_time": "2022-05-07T13:45:18.239Z"
   },
   {
    "duration": 8,
    "start_time": "2022-05-07T13:45:18.247Z"
   },
   {
    "duration": 6,
    "start_time": "2022-05-07T13:45:18.257Z"
   },
   {
    "duration": 10,
    "start_time": "2022-05-07T13:45:18.265Z"
   },
   {
    "duration": 7,
    "start_time": "2022-05-07T13:45:18.276Z"
   },
   {
    "duration": 6,
    "start_time": "2022-05-07T13:45:18.285Z"
   },
   {
    "duration": 7,
    "start_time": "2022-05-07T13:45:18.292Z"
   },
   {
    "duration": 44,
    "start_time": "2022-05-07T13:45:18.301Z"
   },
   {
    "duration": 4,
    "start_time": "2022-05-07T13:45:18.347Z"
   },
   {
    "duration": 9,
    "start_time": "2022-05-07T13:45:22.804Z"
   },
   {
    "duration": 15,
    "start_time": "2022-05-07T13:45:25.041Z"
   },
   {
    "duration": 5,
    "start_time": "2022-05-07T13:45:45.876Z"
   },
   {
    "duration": 5,
    "start_time": "2022-05-07T13:45:59.527Z"
   },
   {
    "duration": 10,
    "start_time": "2022-05-07T13:46:10.990Z"
   },
   {
    "duration": 19,
    "start_time": "2022-05-07T13:46:22.872Z"
   },
   {
    "duration": 5,
    "start_time": "2022-05-07T13:46:28.543Z"
   },
   {
    "duration": 4,
    "start_time": "2022-05-07T13:46:29.958Z"
   },
   {
    "duration": 6,
    "start_time": "2022-05-07T13:47:22.135Z"
   },
   {
    "duration": 4,
    "start_time": "2022-05-07T13:47:24.547Z"
   },
   {
    "duration": 5,
    "start_time": "2022-05-07T13:47:25.026Z"
   },
   {
    "duration": 133,
    "start_time": "2022-05-07T13:52:11.156Z"
   },
   {
    "duration": 4,
    "start_time": "2022-05-07T13:52:12.198Z"
   },
   {
    "duration": 4,
    "start_time": "2022-05-07T13:52:40.288Z"
   },
   {
    "duration": 4,
    "start_time": "2022-05-07T13:52:51.709Z"
   },
   {
    "duration": 7,
    "start_time": "2022-05-07T13:53:05.708Z"
   },
   {
    "duration": 3,
    "start_time": "2022-05-07T13:53:08.302Z"
   },
   {
    "duration": 5,
    "start_time": "2022-05-07T13:53:10.027Z"
   },
   {
    "duration": 4,
    "start_time": "2022-05-07T13:53:11.118Z"
   },
   {
    "duration": 5,
    "start_time": "2022-05-07T13:53:18.526Z"
   },
   {
    "duration": 37,
    "start_time": "2022-05-07T13:53:18.533Z"
   },
   {
    "duration": 13,
    "start_time": "2022-05-07T13:53:18.572Z"
   },
   {
    "duration": 3,
    "start_time": "2022-05-07T13:53:18.587Z"
   },
   {
    "duration": 4,
    "start_time": "2022-05-07T13:53:18.697Z"
   },
   {
    "duration": 19,
    "start_time": "2022-05-07T13:53:18.703Z"
   },
   {
    "duration": 4,
    "start_time": "2022-05-07T13:53:18.724Z"
   },
   {
    "duration": 26,
    "start_time": "2022-05-07T13:53:18.730Z"
   },
   {
    "duration": 11,
    "start_time": "2022-05-07T13:53:18.758Z"
   },
   {
    "duration": 10,
    "start_time": "2022-05-07T13:53:18.771Z"
   },
   {
    "duration": 15,
    "start_time": "2022-05-07T13:53:18.783Z"
   },
   {
    "duration": 26,
    "start_time": "2022-05-07T13:53:18.800Z"
   },
   {
    "duration": 33,
    "start_time": "2022-05-07T13:53:18.828Z"
   },
   {
    "duration": 12,
    "start_time": "2022-05-07T13:53:18.863Z"
   },
   {
    "duration": 33,
    "start_time": "2022-05-07T13:53:18.877Z"
   },
   {
    "duration": 8,
    "start_time": "2022-05-07T13:53:18.937Z"
   },
   {
    "duration": 176,
    "start_time": "2022-05-07T13:53:18.948Z"
   },
   {
    "duration": 23,
    "start_time": "2022-05-07T13:53:19.126Z"
   },
   {
    "duration": 7,
    "start_time": "2022-05-07T13:53:19.152Z"
   },
   {
    "duration": 5,
    "start_time": "2022-05-07T13:53:19.161Z"
   },
   {
    "duration": 398,
    "start_time": "2022-05-07T13:53:19.168Z"
   },
   {
    "duration": 5,
    "start_time": "2022-05-07T13:53:19.568Z"
   },
   {
    "duration": 6,
    "start_time": "2022-05-07T13:53:19.575Z"
   },
   {
    "duration": 15,
    "start_time": "2022-05-07T13:53:19.583Z"
   },
   {
    "duration": 3,
    "start_time": "2022-05-07T13:53:19.600Z"
   },
   {
    "duration": 9599,
    "start_time": "2022-05-07T13:53:19.634Z"
   },
   {
    "duration": 8,
    "start_time": "2022-05-07T13:53:29.235Z"
   },
   {
    "duration": 23,
    "start_time": "2022-05-07T13:53:29.244Z"
   },
   {
    "duration": 12,
    "start_time": "2022-05-07T13:53:29.269Z"
   },
   {
    "duration": 12,
    "start_time": "2022-05-07T13:53:29.282Z"
   },
   {
    "duration": 8,
    "start_time": "2022-05-07T13:53:29.296Z"
   },
   {
    "duration": 28,
    "start_time": "2022-05-07T13:53:29.306Z"
   },
   {
    "duration": 16,
    "start_time": "2022-05-07T13:53:29.339Z"
   },
   {
    "duration": 18,
    "start_time": "2022-05-07T13:53:29.357Z"
   },
   {
    "duration": 8,
    "start_time": "2022-05-07T13:53:29.377Z"
   },
   {
    "duration": 4,
    "start_time": "2022-05-07T13:53:56.188Z"
   },
   {
    "duration": 9,
    "start_time": "2022-05-07T13:53:59.354Z"
   },
   {
    "duration": 5,
    "start_time": "2022-05-07T13:54:01.198Z"
   },
   {
    "duration": 4,
    "start_time": "2022-05-07T13:54:43.894Z"
   },
   {
    "duration": 4,
    "start_time": "2022-05-07T13:55:00.200Z"
   },
   {
    "duration": 8,
    "start_time": "2022-05-07T13:55:10.246Z"
   },
   {
    "duration": 4,
    "start_time": "2022-05-07T13:55:10.906Z"
   },
   {
    "duration": 17,
    "start_time": "2022-05-07T13:55:18.903Z"
   },
   {
    "duration": 141,
    "start_time": "2022-05-07T13:55:41.761Z"
   },
   {
    "duration": 7,
    "start_time": "2022-05-07T13:56:11.280Z"
   },
   {
    "duration": 3,
    "start_time": "2022-05-07T13:56:13.662Z"
   },
   {
    "duration": 236,
    "start_time": "2022-05-07T13:56:15.440Z"
   },
   {
    "duration": 53,
    "start_time": "2022-05-07T13:56:15.909Z"
   },
   {
    "duration": 46,
    "start_time": "2022-05-07T13:59:55.376Z"
   },
   {
    "duration": 5,
    "start_time": "2022-05-07T14:00:00.462Z"
   },
   {
    "duration": 49,
    "start_time": "2022-05-07T14:00:31.524Z"
   },
   {
    "duration": 133,
    "start_time": "2022-05-07T14:00:56.372Z"
   },
   {
    "duration": 1586,
    "start_time": "2022-05-07T14:01:17.930Z"
   },
   {
    "duration": 738,
    "start_time": "2022-05-07T14:01:44.088Z"
   },
   {
    "duration": 1686,
    "start_time": "2022-05-07T14:01:52.257Z"
   },
   {
    "duration": 184,
    "start_time": "2022-05-07T14:02:22.485Z"
   },
   {
    "duration": 223,
    "start_time": "2022-05-07T14:03:05.849Z"
   },
   {
    "duration": 4,
    "start_time": "2022-05-07T14:03:14.228Z"
   },
   {
    "duration": 20,
    "start_time": "2022-05-07T14:03:30.078Z"
   },
   {
    "duration": 18,
    "start_time": "2022-05-07T14:04:06.708Z"
   },
   {
    "duration": 6,
    "start_time": "2022-05-07T14:04:15.895Z"
   },
   {
    "duration": 6,
    "start_time": "2022-05-07T14:05:22.951Z"
   },
   {
    "duration": 43,
    "start_time": "2022-05-07T14:05:22.959Z"
   },
   {
    "duration": 13,
    "start_time": "2022-05-07T14:05:23.004Z"
   },
   {
    "duration": 3,
    "start_time": "2022-05-07T14:05:23.020Z"
   },
   {
    "duration": 8,
    "start_time": "2022-05-07T14:05:23.024Z"
   },
   {
    "duration": 14,
    "start_time": "2022-05-07T14:05:23.034Z"
   },
   {
    "duration": 5,
    "start_time": "2022-05-07T14:05:23.049Z"
   },
   {
    "duration": 15,
    "start_time": "2022-05-07T14:05:23.056Z"
   },
   {
    "duration": 5,
    "start_time": "2022-05-07T14:05:23.074Z"
   },
   {
    "duration": 8,
    "start_time": "2022-05-07T14:05:23.081Z"
   },
   {
    "duration": 43,
    "start_time": "2022-05-07T14:05:23.091Z"
   },
   {
    "duration": 24,
    "start_time": "2022-05-07T14:05:23.136Z"
   },
   {
    "duration": 27,
    "start_time": "2022-05-07T14:05:23.162Z"
   },
   {
    "duration": 13,
    "start_time": "2022-05-07T14:05:23.190Z"
   },
   {
    "duration": 58,
    "start_time": "2022-05-07T14:05:23.205Z"
   },
   {
    "duration": 7,
    "start_time": "2022-05-07T14:05:23.264Z"
   },
   {
    "duration": 187,
    "start_time": "2022-05-07T14:05:23.272Z"
   },
   {
    "duration": 18,
    "start_time": "2022-05-07T14:05:23.461Z"
   },
   {
    "duration": 5,
    "start_time": "2022-05-07T14:05:23.481Z"
   },
   {
    "duration": 13,
    "start_time": "2022-05-07T14:05:23.487Z"
   },
   {
    "duration": 362,
    "start_time": "2022-05-07T14:05:23.502Z"
   },
   {
    "duration": 5,
    "start_time": "2022-05-07T14:05:23.866Z"
   },
   {
    "duration": 23,
    "start_time": "2022-05-07T14:05:23.873Z"
   },
   {
    "duration": 18,
    "start_time": "2022-05-07T14:05:23.899Z"
   },
   {
    "duration": 3,
    "start_time": "2022-05-07T14:05:23.919Z"
   },
   {
    "duration": 8727,
    "start_time": "2022-05-07T14:05:23.923Z"
   },
   {
    "duration": 9,
    "start_time": "2022-05-07T14:05:32.652Z"
   },
   {
    "duration": 7,
    "start_time": "2022-05-07T14:05:32.664Z"
   },
   {
    "duration": 12,
    "start_time": "2022-05-07T14:05:32.673Z"
   },
   {
    "duration": 15,
    "start_time": "2022-05-07T14:05:32.687Z"
   },
   {
    "duration": 37,
    "start_time": "2022-05-07T14:05:32.703Z"
   },
   {
    "duration": 5,
    "start_time": "2022-05-07T14:05:32.743Z"
   },
   {
    "duration": 10,
    "start_time": "2022-05-07T14:05:32.750Z"
   },
   {
    "duration": 15,
    "start_time": "2022-05-07T14:05:32.762Z"
   },
   {
    "duration": 8,
    "start_time": "2022-05-07T14:05:32.779Z"
   },
   {
    "duration": 16,
    "start_time": "2022-05-07T14:05:32.789Z"
   },
   {
    "duration": 19,
    "start_time": "2022-05-07T14:05:36.587Z"
   },
   {
    "duration": 5,
    "start_time": "2022-05-07T14:05:40.844Z"
   },
   {
    "duration": 19,
    "start_time": "2022-05-07T14:05:45.940Z"
   },
   {
    "duration": 19,
    "start_time": "2022-05-07T14:05:54.509Z"
   },
   {
    "duration": 12,
    "start_time": "2022-05-07T14:06:04.574Z"
   },
   {
    "duration": 7,
    "start_time": "2022-05-07T14:06:17.032Z"
   },
   {
    "duration": 4,
    "start_time": "2022-05-07T14:06:37.551Z"
   },
   {
    "duration": 6,
    "start_time": "2022-05-07T14:06:43.915Z"
   },
   {
    "duration": 5,
    "start_time": "2022-05-07T14:06:51.401Z"
   },
   {
    "duration": 6,
    "start_time": "2022-05-07T14:06:55.315Z"
   },
   {
    "duration": 3,
    "start_time": "2022-05-07T14:06:58.192Z"
   },
   {
    "duration": 4,
    "start_time": "2022-05-07T14:07:11.424Z"
   },
   {
    "duration": 6,
    "start_time": "2022-05-07T14:07:26.626Z"
   },
   {
    "duration": 5,
    "start_time": "2022-05-07T14:08:02.058Z"
   },
   {
    "duration": 12,
    "start_time": "2022-05-07T14:08:06.991Z"
   },
   {
    "duration": 8,
    "start_time": "2022-05-07T14:08:08.790Z"
   },
   {
    "duration": 4,
    "start_time": "2022-05-07T14:08:10.609Z"
   },
   {
    "duration": 192,
    "start_time": "2022-05-07T14:08:10.984Z"
   },
   {
    "duration": 44,
    "start_time": "2022-05-07T14:08:11.828Z"
   },
   {
    "duration": 1198,
    "start_time": "2022-05-07T14:08:24.348Z"
   },
   {
    "duration": 724,
    "start_time": "2022-05-07T14:08:25.549Z"
   },
   {
    "duration": 1297,
    "start_time": "2022-05-07T14:08:26.838Z"
   },
   {
    "duration": 286,
    "start_time": "2022-05-07T14:08:29.872Z"
   },
   {
    "duration": 4,
    "start_time": "2022-05-07T14:08:38.828Z"
   },
   {
    "duration": 18,
    "start_time": "2022-05-07T14:08:40.347Z"
   },
   {
    "duration": 8,
    "start_time": "2022-05-07T14:08:46.093Z"
   },
   {
    "duration": 50,
    "start_time": "2022-05-07T14:08:51.587Z"
   },
   {
    "duration": 899,
    "start_time": "2022-05-07T14:08:54.711Z"
   },
   {
    "duration": 210,
    "start_time": "2022-05-07T14:09:47.230Z"
   },
   {
    "duration": 56,
    "start_time": "2022-05-07T14:10:04.399Z"
   },
   {
    "duration": 924,
    "start_time": "2022-05-07T14:10:31.619Z"
   },
   {
    "duration": 184,
    "start_time": "2022-05-07T14:10:51.755Z"
   },
   {
    "duration": 4,
    "start_time": "2022-05-07T14:11:01.883Z"
   },
   {
    "duration": 8,
    "start_time": "2022-05-07T14:11:04.179Z"
   },
   {
    "duration": 24,
    "start_time": "2022-05-07T14:11:09.808Z"
   },
   {
    "duration": 354,
    "start_time": "2022-05-07T14:11:14.777Z"
   },
   {
    "duration": 34,
    "start_time": "2022-05-07T14:11:18.708Z"
   },
   {
    "duration": 28,
    "start_time": "2022-05-07T14:11:48.975Z"
   },
   {
    "duration": 379,
    "start_time": "2022-05-07T14:12:03.365Z"
   },
   {
    "duration": 183,
    "start_time": "2022-05-07T14:12:13.852Z"
   },
   {
    "duration": 5,
    "start_time": "2022-05-07T14:12:41.246Z"
   },
   {
    "duration": 1001,
    "start_time": "2022-05-07T14:13:13.277Z"
   },
   {
    "duration": 405,
    "start_time": "2022-05-07T14:13:59.456Z"
   },
   {
    "duration": 141,
    "start_time": "2022-05-07T14:19:42.854Z"
   },
   {
    "duration": 7,
    "start_time": "2022-05-07T14:19:50.498Z"
   },
   {
    "duration": 7,
    "start_time": "2022-05-07T14:20:08.795Z"
   },
   {
    "duration": 5,
    "start_time": "2022-05-07T14:20:51.246Z"
   },
   {
    "duration": 5,
    "start_time": "2022-05-07T14:20:56.874Z"
   },
   {
    "duration": 9,
    "start_time": "2022-05-07T14:21:30.256Z"
   },
   {
    "duration": 11,
    "start_time": "2022-05-07T14:22:32.016Z"
   },
   {
    "duration": 3,
    "start_time": "2022-05-07T14:26:45.795Z"
   },
   {
    "duration": 10,
    "start_time": "2022-05-07T14:26:46.373Z"
   },
   {
    "duration": 1079,
    "start_time": "2022-05-07T14:27:40.794Z"
   },
   {
    "duration": 9,
    "start_time": "2022-05-07T14:29:02.323Z"
   },
   {
    "duration": 10,
    "start_time": "2022-05-07T14:29:42.272Z"
   },
   {
    "duration": 5,
    "start_time": "2022-05-07T14:29:57.581Z"
   },
   {
    "duration": 15,
    "start_time": "2022-05-07T14:30:48.142Z"
   },
   {
    "duration": 1081,
    "start_time": "2022-05-07T14:31:38.579Z"
   },
   {
    "duration": 11,
    "start_time": "2022-05-07T14:31:50.501Z"
   },
   {
    "duration": 5,
    "start_time": "2022-05-07T14:32:16.013Z"
   },
   {
    "duration": 1608,
    "start_time": "2022-05-07T14:34:25.245Z"
   },
   {
    "duration": 32,
    "start_time": "2022-05-07T14:34:26.856Z"
   },
   {
    "duration": 15,
    "start_time": "2022-05-07T14:34:26.890Z"
   },
   {
    "duration": 3,
    "start_time": "2022-05-07T14:34:26.907Z"
   },
   {
    "duration": 7,
    "start_time": "2022-05-07T14:34:26.912Z"
   },
   {
    "duration": 16,
    "start_time": "2022-05-07T14:34:26.935Z"
   },
   {
    "duration": 4,
    "start_time": "2022-05-07T14:34:26.953Z"
   },
   {
    "duration": 19,
    "start_time": "2022-05-07T14:34:26.959Z"
   },
   {
    "duration": 5,
    "start_time": "2022-05-07T14:34:26.979Z"
   },
   {
    "duration": 12,
    "start_time": "2022-05-07T14:34:26.986Z"
   },
   {
    "duration": 33,
    "start_time": "2022-05-07T14:34:27.000Z"
   },
   {
    "duration": 29,
    "start_time": "2022-05-07T14:34:27.036Z"
   },
   {
    "duration": 21,
    "start_time": "2022-05-07T14:34:27.067Z"
   },
   {
    "duration": 11,
    "start_time": "2022-05-07T14:34:27.090Z"
   },
   {
    "duration": 65,
    "start_time": "2022-05-07T14:34:27.103Z"
   },
   {
    "duration": 6,
    "start_time": "2022-05-07T14:34:27.170Z"
   },
   {
    "duration": 198,
    "start_time": "2022-05-07T14:34:27.178Z"
   },
   {
    "duration": 18,
    "start_time": "2022-05-07T14:34:27.378Z"
   },
   {
    "duration": 5,
    "start_time": "2022-05-07T14:34:27.397Z"
   },
   {
    "duration": 6,
    "start_time": "2022-05-07T14:34:27.403Z"
   },
   {
    "duration": 450,
    "start_time": "2022-05-07T14:34:27.411Z"
   },
   {
    "duration": 5,
    "start_time": "2022-05-07T14:34:27.863Z"
   },
   {
    "duration": 6,
    "start_time": "2022-05-07T14:34:27.870Z"
   },
   {
    "duration": 17,
    "start_time": "2022-05-07T14:34:27.878Z"
   },
   {
    "duration": 2,
    "start_time": "2022-05-07T14:34:27.897Z"
   },
   {
    "duration": 9660,
    "start_time": "2022-05-07T14:34:27.901Z"
   },
   {
    "duration": 9,
    "start_time": "2022-05-07T14:34:37.564Z"
   },
   {
    "duration": 7,
    "start_time": "2022-05-07T14:34:37.578Z"
   },
   {
    "duration": 7,
    "start_time": "2022-05-07T14:34:37.587Z"
   },
   {
    "duration": 9,
    "start_time": "2022-05-07T14:34:37.596Z"
   },
   {
    "duration": 7,
    "start_time": "2022-05-07T14:34:37.607Z"
   },
   {
    "duration": 22,
    "start_time": "2022-05-07T14:34:37.616Z"
   },
   {
    "duration": 14,
    "start_time": "2022-05-07T14:34:37.641Z"
   },
   {
    "duration": 16,
    "start_time": "2022-05-07T14:34:37.657Z"
   },
   {
    "duration": 11,
    "start_time": "2022-05-07T14:34:37.674Z"
   },
   {
    "duration": 12,
    "start_time": "2022-05-07T14:34:37.686Z"
   },
   {
    "duration": 7,
    "start_time": "2022-05-07T14:34:37.700Z"
   },
   {
    "duration": 27,
    "start_time": "2022-05-07T14:34:37.709Z"
   },
   {
    "duration": 7,
    "start_time": "2022-05-07T14:34:37.738Z"
   },
   {
    "duration": 7,
    "start_time": "2022-05-07T14:34:37.747Z"
   },
   {
    "duration": 20,
    "start_time": "2022-05-07T14:34:37.760Z"
   },
   {
    "duration": 6,
    "start_time": "2022-05-07T14:34:37.782Z"
   },
   {
    "duration": 8,
    "start_time": "2022-05-07T14:34:37.790Z"
   },
   {
    "duration": 149,
    "start_time": "2022-05-07T14:34:37.800Z"
   },
   {
    "duration": 0,
    "start_time": "2022-05-07T14:34:37.951Z"
   },
   {
    "duration": 0,
    "start_time": "2022-05-07T14:34:37.953Z"
   },
   {
    "duration": 0,
    "start_time": "2022-05-07T14:34:37.955Z"
   },
   {
    "duration": 0,
    "start_time": "2022-05-07T14:34:37.957Z"
   },
   {
    "duration": 0,
    "start_time": "2022-05-07T14:34:37.958Z"
   },
   {
    "duration": 0,
    "start_time": "2022-05-07T14:34:37.960Z"
   },
   {
    "duration": 0,
    "start_time": "2022-05-07T14:34:37.961Z"
   },
   {
    "duration": 0,
    "start_time": "2022-05-07T14:34:37.963Z"
   },
   {
    "duration": 0,
    "start_time": "2022-05-07T14:34:37.964Z"
   },
   {
    "duration": 0,
    "start_time": "2022-05-07T14:34:37.965Z"
   },
   {
    "duration": 0,
    "start_time": "2022-05-07T14:34:37.966Z"
   },
   {
    "duration": 0,
    "start_time": "2022-05-07T14:34:37.967Z"
   },
   {
    "duration": 0,
    "start_time": "2022-05-07T14:34:37.968Z"
   },
   {
    "duration": 0,
    "start_time": "2022-05-07T14:34:37.969Z"
   },
   {
    "duration": 0,
    "start_time": "2022-05-07T14:34:37.970Z"
   },
   {
    "duration": 0,
    "start_time": "2022-05-07T14:34:37.971Z"
   },
   {
    "duration": 0,
    "start_time": "2022-05-07T14:34:37.973Z"
   },
   {
    "duration": 0,
    "start_time": "2022-05-07T14:34:37.974Z"
   },
   {
    "duration": 1725,
    "start_time": "2022-05-07T14:35:35.850Z"
   },
   {
    "duration": 40,
    "start_time": "2022-05-07T14:35:37.577Z"
   },
   {
    "duration": 15,
    "start_time": "2022-05-07T14:35:37.619Z"
   },
   {
    "duration": 4,
    "start_time": "2022-05-07T14:35:37.637Z"
   },
   {
    "duration": 18,
    "start_time": "2022-05-07T14:35:37.643Z"
   },
   {
    "duration": 15,
    "start_time": "2022-05-07T14:35:37.663Z"
   },
   {
    "duration": 4,
    "start_time": "2022-05-07T14:35:37.680Z"
   },
   {
    "duration": 21,
    "start_time": "2022-05-07T14:35:37.685Z"
   },
   {
    "duration": 26,
    "start_time": "2022-05-07T14:35:37.708Z"
   },
   {
    "duration": 6,
    "start_time": "2022-05-07T14:35:37.737Z"
   },
   {
    "duration": 20,
    "start_time": "2022-05-07T14:35:37.745Z"
   },
   {
    "duration": 24,
    "start_time": "2022-05-07T14:35:37.766Z"
   },
   {
    "duration": 47,
    "start_time": "2022-05-07T14:35:37.792Z"
   },
   {
    "duration": 15,
    "start_time": "2022-05-07T14:35:37.842Z"
   },
   {
    "duration": 33,
    "start_time": "2022-05-07T14:35:37.859Z"
   },
   {
    "duration": 6,
    "start_time": "2022-05-07T14:35:37.894Z"
   },
   {
    "duration": 214,
    "start_time": "2022-05-07T14:35:37.901Z"
   },
   {
    "duration": 23,
    "start_time": "2022-05-07T14:35:38.116Z"
   },
   {
    "duration": 7,
    "start_time": "2022-05-07T14:35:38.142Z"
   },
   {
    "duration": 11,
    "start_time": "2022-05-07T14:35:38.150Z"
   },
   {
    "duration": 409,
    "start_time": "2022-05-07T14:35:38.163Z"
   },
   {
    "duration": 6,
    "start_time": "2022-05-07T14:35:38.573Z"
   },
   {
    "duration": 10,
    "start_time": "2022-05-07T14:35:38.580Z"
   },
   {
    "duration": 16,
    "start_time": "2022-05-07T14:35:38.592Z"
   },
   {
    "duration": 3,
    "start_time": "2022-05-07T14:35:38.609Z"
   },
   {
    "duration": 9441,
    "start_time": "2022-05-07T14:35:38.613Z"
   },
   {
    "duration": 7,
    "start_time": "2022-05-07T14:35:48.056Z"
   },
   {
    "duration": 12,
    "start_time": "2022-05-07T14:35:48.067Z"
   },
   {
    "duration": 8,
    "start_time": "2022-05-07T14:35:48.081Z"
   },
   {
    "duration": 8,
    "start_time": "2022-05-07T14:35:48.091Z"
   },
   {
    "duration": 10,
    "start_time": "2022-05-07T14:35:48.100Z"
   },
   {
    "duration": 6,
    "start_time": "2022-05-07T14:35:48.112Z"
   },
   {
    "duration": 16,
    "start_time": "2022-05-07T14:35:48.120Z"
   },
   {
    "duration": 18,
    "start_time": "2022-05-07T14:35:48.140Z"
   },
   {
    "duration": 4,
    "start_time": "2022-05-07T14:35:48.160Z"
   },
   {
    "duration": 13,
    "start_time": "2022-05-07T14:35:48.166Z"
   },
   {
    "duration": 4,
    "start_time": "2022-05-07T14:35:48.180Z"
   },
   {
    "duration": 9,
    "start_time": "2022-05-07T14:35:48.186Z"
   },
   {
    "duration": 35,
    "start_time": "2022-05-07T14:35:48.197Z"
   },
   {
    "duration": 4,
    "start_time": "2022-05-07T14:35:48.235Z"
   },
   {
    "duration": 24,
    "start_time": "2022-05-07T14:35:48.240Z"
   },
   {
    "duration": 7,
    "start_time": "2022-05-07T14:35:48.266Z"
   },
   {
    "duration": 8,
    "start_time": "2022-05-07T14:35:48.275Z"
   },
   {
    "duration": 225,
    "start_time": "2022-05-07T14:35:48.285Z"
   },
   {
    "duration": 59,
    "start_time": "2022-05-07T14:35:48.512Z"
   },
   {
    "duration": 2304,
    "start_time": "2022-05-07T14:35:48.573Z"
   },
   {
    "duration": 781,
    "start_time": "2022-05-07T14:35:50.879Z"
   },
   {
    "duration": 1373,
    "start_time": "2022-05-07T14:35:51.661Z"
   },
   {
    "duration": 297,
    "start_time": "2022-05-07T14:35:53.037Z"
   },
   {
    "duration": 101,
    "start_time": "2022-05-07T14:35:53.336Z"
   },
   {
    "duration": 21,
    "start_time": "2022-05-07T14:35:53.442Z"
   },
   {
    "duration": 52,
    "start_time": "2022-05-07T14:35:53.465Z"
   },
   {
    "duration": 1067,
    "start_time": "2022-05-07T14:35:53.519Z"
   },
   {
    "duration": 347,
    "start_time": "2022-05-07T14:35:54.588Z"
   },
   {
    "duration": 6,
    "start_time": "2022-05-07T14:35:54.937Z"
   },
   {
    "duration": 104,
    "start_time": "2022-05-07T14:35:54.945Z"
   },
   {
    "duration": 36,
    "start_time": "2022-05-07T14:35:55.051Z"
   },
   {
    "duration": 447,
    "start_time": "2022-05-07T14:35:55.089Z"
   },
   {
    "duration": 205,
    "start_time": "2022-05-07T14:35:55.539Z"
   },
   {
    "duration": 86,
    "start_time": "2022-05-07T14:35:55.752Z"
   },
   {
    "duration": 1191,
    "start_time": "2022-05-07T14:35:55.841Z"
   },
   {
    "duration": 0,
    "start_time": "2022-05-07T14:35:57.035Z"
   },
   {
    "duration": 961,
    "start_time": "2022-05-07T14:37:19.432Z"
   },
   {
    "duration": 19,
    "start_time": "2022-05-07T14:37:34.056Z"
   },
   {
    "duration": 9,
    "start_time": "2022-05-07T14:37:42.239Z"
   },
   {
    "duration": 12,
    "start_time": "2022-05-07T14:37:50.187Z"
   },
   {
    "duration": 671,
    "start_time": "2022-05-07T14:38:25.179Z"
   },
   {
    "duration": 750,
    "start_time": "2022-05-07T14:38:41.533Z"
   },
   {
    "duration": 732,
    "start_time": "2022-05-07T14:38:52.176Z"
   },
   {
    "duration": 32,
    "start_time": "2022-05-07T14:39:13.070Z"
   },
   {
    "duration": 4,
    "start_time": "2022-05-07T14:39:43.269Z"
   },
   {
    "duration": 36,
    "start_time": "2022-05-07T14:39:43.275Z"
   },
   {
    "duration": 13,
    "start_time": "2022-05-07T14:39:43.313Z"
   },
   {
    "duration": 3,
    "start_time": "2022-05-07T14:39:43.328Z"
   },
   {
    "duration": 6,
    "start_time": "2022-05-07T14:39:43.333Z"
   },
   {
    "duration": 14,
    "start_time": "2022-05-07T14:39:43.341Z"
   },
   {
    "duration": 4,
    "start_time": "2022-05-07T14:39:43.357Z"
   },
   {
    "duration": 19,
    "start_time": "2022-05-07T14:39:43.363Z"
   },
   {
    "duration": 12,
    "start_time": "2022-05-07T14:39:43.384Z"
   },
   {
    "duration": 8,
    "start_time": "2022-05-07T14:39:43.398Z"
   },
   {
    "duration": 31,
    "start_time": "2022-05-07T14:39:43.408Z"
   },
   {
    "duration": 25,
    "start_time": "2022-05-07T14:39:43.441Z"
   },
   {
    "duration": 24,
    "start_time": "2022-05-07T14:39:43.468Z"
   },
   {
    "duration": 47,
    "start_time": "2022-05-07T14:39:43.494Z"
   },
   {
    "duration": 35,
    "start_time": "2022-05-07T14:39:43.542Z"
   },
   {
    "duration": 6,
    "start_time": "2022-05-07T14:39:43.579Z"
   },
   {
    "duration": 193,
    "start_time": "2022-05-07T14:39:43.587Z"
   },
   {
    "duration": 18,
    "start_time": "2022-05-07T14:39:43.781Z"
   },
   {
    "duration": 5,
    "start_time": "2022-05-07T14:39:43.802Z"
   },
   {
    "duration": 24,
    "start_time": "2022-05-07T14:39:43.809Z"
   },
   {
    "duration": 332,
    "start_time": "2022-05-07T14:39:43.836Z"
   },
   {
    "duration": 7,
    "start_time": "2022-05-07T14:39:44.169Z"
   },
   {
    "duration": 9,
    "start_time": "2022-05-07T14:39:44.178Z"
   },
   {
    "duration": 15,
    "start_time": "2022-05-07T14:39:44.189Z"
   },
   {
    "duration": 27,
    "start_time": "2022-05-07T14:39:44.206Z"
   },
   {
    "duration": 9770,
    "start_time": "2022-05-07T14:39:44.235Z"
   },
   {
    "duration": 7,
    "start_time": "2022-05-07T14:39:54.008Z"
   },
   {
    "duration": 20,
    "start_time": "2022-05-07T14:39:54.017Z"
   },
   {
    "duration": 9,
    "start_time": "2022-05-07T14:39:54.042Z"
   },
   {
    "duration": 20,
    "start_time": "2022-05-07T14:39:54.053Z"
   },
   {
    "duration": 12,
    "start_time": "2022-05-07T14:39:54.075Z"
   },
   {
    "duration": 12,
    "start_time": "2022-05-07T14:39:54.089Z"
   },
   {
    "duration": 20,
    "start_time": "2022-05-07T14:39:54.103Z"
   },
   {
    "duration": 18,
    "start_time": "2022-05-07T14:39:54.125Z"
   },
   {
    "duration": 13,
    "start_time": "2022-05-07T14:39:54.145Z"
   },
   {
    "duration": 21,
    "start_time": "2022-05-07T14:39:54.160Z"
   },
   {
    "duration": 6,
    "start_time": "2022-05-07T14:39:54.182Z"
   },
   {
    "duration": 11,
    "start_time": "2022-05-07T14:39:54.190Z"
   },
   {
    "duration": 4,
    "start_time": "2022-05-07T14:39:54.203Z"
   },
   {
    "duration": 7,
    "start_time": "2022-05-07T14:39:54.209Z"
   },
   {
    "duration": 23,
    "start_time": "2022-05-07T14:39:54.217Z"
   },
   {
    "duration": 7,
    "start_time": "2022-05-07T14:39:54.241Z"
   },
   {
    "duration": 20,
    "start_time": "2022-05-07T14:39:54.250Z"
   },
   {
    "duration": 213,
    "start_time": "2022-05-07T14:39:54.272Z"
   },
   {
    "duration": 50,
    "start_time": "2022-05-07T14:39:54.487Z"
   },
   {
    "duration": 2125,
    "start_time": "2022-05-07T14:39:54.539Z"
   },
   {
    "duration": 645,
    "start_time": "2022-05-07T14:39:56.666Z"
   },
   {
    "duration": 1130,
    "start_time": "2022-05-07T14:39:57.313Z"
   },
   {
    "duration": 300,
    "start_time": "2022-05-07T14:39:58.535Z"
   },
   {
    "duration": 97,
    "start_time": "2022-05-07T14:39:58.840Z"
   },
   {
    "duration": 13,
    "start_time": "2022-05-07T14:39:58.939Z"
   },
   {
    "duration": 55,
    "start_time": "2022-05-07T14:39:58.954Z"
   },
   {
    "duration": 869,
    "start_time": "2022-05-07T14:39:59.033Z"
   },
   {
    "duration": 237,
    "start_time": "2022-05-07T14:39:59.904Z"
   },
   {
    "duration": 94,
    "start_time": "2022-05-07T14:40:00.143Z"
   },
   {
    "duration": 14,
    "start_time": "2022-05-07T14:40:00.239Z"
   },
   {
    "duration": 28,
    "start_time": "2022-05-07T14:40:00.255Z"
   },
   {
    "duration": 473,
    "start_time": "2022-05-07T14:40:00.285Z"
   },
   {
    "duration": 284,
    "start_time": "2022-05-07T14:40:00.761Z"
   },
   {
    "duration": 22,
    "start_time": "2022-05-07T14:40:07.046Z"
   },
   {
    "duration": 20,
    "start_time": "2022-05-07T14:40:19.888Z"
   },
   {
    "duration": 13,
    "start_time": "2022-05-07T14:41:23.139Z"
   },
   {
    "duration": 4,
    "start_time": "2022-05-07T14:41:35.055Z"
   },
   {
    "duration": 21,
    "start_time": "2022-05-07T14:41:39.483Z"
   },
   {
    "duration": 901,
    "start_time": "2022-05-07T14:42:01.162Z"
   },
   {
    "duration": 22,
    "start_time": "2022-05-07T14:42:30.622Z"
   },
   {
    "duration": 1664,
    "start_time": "2022-05-07T14:42:43.106Z"
   },
   {
    "duration": 40,
    "start_time": "2022-05-07T14:42:44.772Z"
   },
   {
    "duration": 14,
    "start_time": "2022-05-07T14:42:44.814Z"
   },
   {
    "duration": 3,
    "start_time": "2022-05-07T14:42:44.830Z"
   },
   {
    "duration": 9,
    "start_time": "2022-05-07T14:42:44.834Z"
   },
   {
    "duration": 13,
    "start_time": "2022-05-07T14:42:44.844Z"
   },
   {
    "duration": 4,
    "start_time": "2022-05-07T14:42:44.859Z"
   },
   {
    "duration": 24,
    "start_time": "2022-05-07T14:42:44.865Z"
   },
   {
    "duration": 5,
    "start_time": "2022-05-07T14:42:44.891Z"
   },
   {
    "duration": 35,
    "start_time": "2022-05-07T14:42:44.900Z"
   },
   {
    "duration": 9,
    "start_time": "2022-05-07T14:42:44.936Z"
   },
   {
    "duration": 26,
    "start_time": "2022-05-07T14:42:44.946Z"
   },
   {
    "duration": 60,
    "start_time": "2022-05-07T14:42:44.974Z"
   },
   {
    "duration": 15,
    "start_time": "2022-05-07T14:42:45.036Z"
   },
   {
    "duration": 51,
    "start_time": "2022-05-07T14:42:45.053Z"
   },
   {
    "duration": 28,
    "start_time": "2022-05-07T14:42:45.107Z"
   },
   {
    "duration": 217,
    "start_time": "2022-05-07T14:42:45.137Z"
   },
   {
    "duration": 17,
    "start_time": "2022-05-07T14:42:45.356Z"
   },
   {
    "duration": 6,
    "start_time": "2022-05-07T14:42:45.375Z"
   },
   {
    "duration": 6,
    "start_time": "2022-05-07T14:42:45.383Z"
   },
   {
    "duration": 383,
    "start_time": "2022-05-07T14:42:45.390Z"
   },
   {
    "duration": 6,
    "start_time": "2022-05-07T14:42:45.775Z"
   },
   {
    "duration": 14,
    "start_time": "2022-05-07T14:42:45.783Z"
   },
   {
    "duration": 17,
    "start_time": "2022-05-07T14:42:45.799Z"
   },
   {
    "duration": 4,
    "start_time": "2022-05-07T14:42:45.834Z"
   },
   {
    "duration": 9322,
    "start_time": "2022-05-07T14:42:45.840Z"
   },
   {
    "duration": 8,
    "start_time": "2022-05-07T14:42:55.163Z"
   },
   {
    "duration": 5,
    "start_time": "2022-05-07T14:42:55.176Z"
   },
   {
    "duration": 9,
    "start_time": "2022-05-07T14:42:55.182Z"
   },
   {
    "duration": 8,
    "start_time": "2022-05-07T14:42:55.193Z"
   },
   {
    "duration": 9,
    "start_time": "2022-05-07T14:42:55.203Z"
   },
   {
    "duration": 5,
    "start_time": "2022-05-07T14:42:55.232Z"
   },
   {
    "duration": 11,
    "start_time": "2022-05-07T14:42:55.240Z"
   },
   {
    "duration": 19,
    "start_time": "2022-05-07T14:42:55.252Z"
   },
   {
    "duration": 7,
    "start_time": "2022-05-07T14:42:55.273Z"
   },
   {
    "duration": 12,
    "start_time": "2022-05-07T14:42:55.282Z"
   },
   {
    "duration": 6,
    "start_time": "2022-05-07T14:42:55.296Z"
   },
   {
    "duration": 30,
    "start_time": "2022-05-07T14:42:55.304Z"
   },
   {
    "duration": 10,
    "start_time": "2022-05-07T14:42:55.336Z"
   },
   {
    "duration": 10,
    "start_time": "2022-05-07T14:42:55.348Z"
   },
   {
    "duration": 16,
    "start_time": "2022-05-07T14:42:55.360Z"
   },
   {
    "duration": 8,
    "start_time": "2022-05-07T14:42:55.378Z"
   },
   {
    "duration": 4,
    "start_time": "2022-05-07T14:42:55.387Z"
   },
   {
    "duration": 232,
    "start_time": "2022-05-07T14:42:55.393Z"
   },
   {
    "duration": 50,
    "start_time": "2022-05-07T14:42:55.626Z"
   },
   {
    "duration": 191,
    "start_time": "2022-05-07T14:42:55.678Z"
   },
   {
    "duration": 656,
    "start_time": "2022-05-07T14:42:55.871Z"
   },
   {
    "duration": 1012,
    "start_time": "2022-05-07T14:42:56.529Z"
   },
   {
    "duration": 600,
    "start_time": "2022-05-07T14:42:57.634Z"
   },
   {
    "duration": 7,
    "start_time": "2022-05-07T14:42:58.237Z"
   },
   {
    "duration": 12,
    "start_time": "2022-05-07T14:42:58.335Z"
   },
   {
    "duration": 53,
    "start_time": "2022-05-07T14:42:58.349Z"
   },
   {
    "duration": 917,
    "start_time": "2022-05-07T14:42:58.404Z"
   },
   {
    "duration": 217,
    "start_time": "2022-05-07T14:42:59.323Z"
   },
   {
    "duration": 91,
    "start_time": "2022-05-07T14:42:59.543Z"
   },
   {
    "duration": 12,
    "start_time": "2022-05-07T14:42:59.637Z"
   },
   {
    "duration": 83,
    "start_time": "2022-05-07T14:42:59.651Z"
   },
   {
    "duration": 377,
    "start_time": "2022-05-07T14:42:59.736Z"
   },
   {
    "duration": 219,
    "start_time": "2022-05-07T14:43:00.115Z"
   },
   {
    "duration": 7,
    "start_time": "2022-05-07T14:43:00.336Z"
   },
   {
    "duration": 114,
    "start_time": "2022-05-07T14:43:00.345Z"
   },
   {
    "duration": 903,
    "start_time": "2022-05-07T14:43:00.461Z"
   },
   {
    "duration": 13,
    "start_time": "2022-05-07T14:43:01.366Z"
   },
   {
    "duration": 18,
    "start_time": "2022-05-07T14:44:22.297Z"
   },
   {
    "duration": 5,
    "start_time": "2022-05-07T14:44:32.457Z"
   },
   {
    "duration": 1028,
    "start_time": "2022-05-07T14:44:32.980Z"
   },
   {
    "duration": 1747,
    "start_time": "2022-05-07T14:44:42.820Z"
   },
   {
    "duration": 30,
    "start_time": "2022-05-07T14:44:44.569Z"
   },
   {
    "duration": 15,
    "start_time": "2022-05-07T14:44:44.601Z"
   },
   {
    "duration": 2,
    "start_time": "2022-05-07T14:44:44.618Z"
   },
   {
    "duration": 15,
    "start_time": "2022-05-07T14:44:44.622Z"
   },
   {
    "duration": 36,
    "start_time": "2022-05-07T14:44:44.639Z"
   },
   {
    "duration": 5,
    "start_time": "2022-05-07T14:44:44.677Z"
   },
   {
    "duration": 19,
    "start_time": "2022-05-07T14:44:44.683Z"
   },
   {
    "duration": 5,
    "start_time": "2022-05-07T14:44:44.705Z"
   },
   {
    "duration": 5,
    "start_time": "2022-05-07T14:44:44.713Z"
   },
   {
    "duration": 14,
    "start_time": "2022-05-07T14:44:44.744Z"
   },
   {
    "duration": 25,
    "start_time": "2022-05-07T14:44:44.760Z"
   },
   {
    "duration": 25,
    "start_time": "2022-05-07T14:44:44.787Z"
   },
   {
    "duration": 17,
    "start_time": "2022-05-07T14:44:44.838Z"
   },
   {
    "duration": 34,
    "start_time": "2022-05-07T14:44:44.857Z"
   },
   {
    "duration": 7,
    "start_time": "2022-05-07T14:44:44.893Z"
   },
   {
    "duration": 222,
    "start_time": "2022-05-07T14:44:44.901Z"
   },
   {
    "duration": 31,
    "start_time": "2022-05-07T14:44:45.125Z"
   },
   {
    "duration": 11,
    "start_time": "2022-05-07T14:44:45.158Z"
   },
   {
    "duration": 4,
    "start_time": "2022-05-07T14:44:45.171Z"
   },
   {
    "duration": 390,
    "start_time": "2022-05-07T14:44:45.176Z"
   },
   {
    "duration": 6,
    "start_time": "2022-05-07T14:44:45.568Z"
   },
   {
    "duration": 5,
    "start_time": "2022-05-07T14:44:45.576Z"
   },
   {
    "duration": 15,
    "start_time": "2022-05-07T14:44:45.583Z"
   },
   {
    "duration": 2,
    "start_time": "2022-05-07T14:44:45.600Z"
   },
   {
    "duration": 10005,
    "start_time": "2022-05-07T14:44:45.604Z"
   },
   {
    "duration": 7,
    "start_time": "2022-05-07T14:44:55.612Z"
   },
   {
    "duration": 15,
    "start_time": "2022-05-07T14:44:55.623Z"
   },
   {
    "duration": 29,
    "start_time": "2022-05-07T14:44:55.640Z"
   },
   {
    "duration": 9,
    "start_time": "2022-05-07T14:44:55.672Z"
   },
   {
    "duration": 7,
    "start_time": "2022-05-07T14:44:55.683Z"
   },
   {
    "duration": 6,
    "start_time": "2022-05-07T14:44:55.691Z"
   },
   {
    "duration": 9,
    "start_time": "2022-05-07T14:44:55.699Z"
   },
   {
    "duration": 18,
    "start_time": "2022-05-07T14:44:55.709Z"
   },
   {
    "duration": 7,
    "start_time": "2022-05-07T14:44:55.734Z"
   },
   {
    "duration": 14,
    "start_time": "2022-05-07T14:44:55.743Z"
   },
   {
    "duration": 10,
    "start_time": "2022-05-07T14:44:55.761Z"
   },
   {
    "duration": 9,
    "start_time": "2022-05-07T14:44:55.772Z"
   },
   {
    "duration": 4,
    "start_time": "2022-05-07T14:44:55.783Z"
   },
   {
    "duration": 6,
    "start_time": "2022-05-07T14:44:55.789Z"
   },
   {
    "duration": 29,
    "start_time": "2022-05-07T14:44:55.834Z"
   },
   {
    "duration": 8,
    "start_time": "2022-05-07T14:44:55.866Z"
   },
   {
    "duration": 6,
    "start_time": "2022-05-07T14:44:55.876Z"
   },
   {
    "duration": 254,
    "start_time": "2022-05-07T14:44:55.884Z"
   },
   {
    "duration": 56,
    "start_time": "2022-05-07T14:44:56.140Z"
   },
   {
    "duration": 408,
    "start_time": "2022-05-07T14:44:56.198Z"
   },
   {
    "duration": 744,
    "start_time": "2022-05-07T14:44:56.607Z"
   },
   {
    "duration": 1703,
    "start_time": "2022-05-07T14:44:57.353Z"
   },
   {
    "duration": 671,
    "start_time": "2022-05-07T14:44:59.063Z"
   },
   {
    "duration": 12,
    "start_time": "2022-05-07T14:44:59.740Z"
   },
   {
    "duration": 119,
    "start_time": "2022-05-07T14:44:59.755Z"
   },
   {
    "duration": 56,
    "start_time": "2022-05-07T14:44:59.876Z"
   },
   {
    "duration": 954,
    "start_time": "2022-05-07T14:44:59.942Z"
   },
   {
    "duration": 350,
    "start_time": "2022-05-07T14:45:00.898Z"
   },
   {
    "duration": 86,
    "start_time": "2022-05-07T14:45:01.254Z"
   },
   {
    "duration": 27,
    "start_time": "2022-05-07T14:45:01.348Z"
   },
   {
    "duration": 35,
    "start_time": "2022-05-07T14:45:01.377Z"
   },
   {
    "duration": 494,
    "start_time": "2022-05-07T14:45:01.414Z"
   },
   {
    "duration": 240,
    "start_time": "2022-05-07T14:45:01.910Z"
   },
   {
    "duration": 185,
    "start_time": "2022-05-07T14:45:02.153Z"
   },
   {
    "duration": 1014,
    "start_time": "2022-05-07T14:45:02.345Z"
   },
   {
    "duration": 13,
    "start_time": "2022-05-07T14:45:03.361Z"
   },
   {
    "duration": 1575,
    "start_time": "2022-05-07T15:14:39.960Z"
   },
   {
    "duration": 33,
    "start_time": "2022-05-07T15:14:41.537Z"
   },
   {
    "duration": 15,
    "start_time": "2022-05-07T15:14:41.572Z"
   },
   {
    "duration": 2,
    "start_time": "2022-05-07T15:14:41.589Z"
   },
   {
    "duration": 11,
    "start_time": "2022-05-07T15:14:41.593Z"
   },
   {
    "duration": 15,
    "start_time": "2022-05-07T15:14:41.606Z"
   },
   {
    "duration": 14,
    "start_time": "2022-05-07T15:14:41.623Z"
   },
   {
    "duration": 19,
    "start_time": "2022-05-07T15:14:41.638Z"
   },
   {
    "duration": 4,
    "start_time": "2022-05-07T15:14:41.659Z"
   },
   {
    "duration": 6,
    "start_time": "2022-05-07T15:14:41.666Z"
   },
   {
    "duration": 9,
    "start_time": "2022-05-07T15:14:41.674Z"
   },
   {
    "duration": 51,
    "start_time": "2022-05-07T15:14:41.685Z"
   },
   {
    "duration": 23,
    "start_time": "2022-05-07T15:14:41.738Z"
   },
   {
    "duration": 11,
    "start_time": "2022-05-07T15:14:41.763Z"
   },
   {
    "duration": 32,
    "start_time": "2022-05-07T15:14:41.776Z"
   },
   {
    "duration": 7,
    "start_time": "2022-05-07T15:14:41.834Z"
   },
   {
    "duration": 169,
    "start_time": "2022-05-07T15:14:41.843Z"
   },
   {
    "duration": 26,
    "start_time": "2022-05-07T15:14:42.014Z"
   },
   {
    "duration": 5,
    "start_time": "2022-05-07T15:14:42.042Z"
   },
   {
    "duration": 5,
    "start_time": "2022-05-07T15:14:42.048Z"
   },
   {
    "duration": 313,
    "start_time": "2022-05-07T15:14:42.054Z"
   },
   {
    "duration": 4,
    "start_time": "2022-05-07T15:14:42.369Z"
   },
   {
    "duration": 6,
    "start_time": "2022-05-07T15:14:42.375Z"
   },
   {
    "duration": 13,
    "start_time": "2022-05-07T15:14:42.382Z"
   },
   {
    "duration": 2,
    "start_time": "2022-05-07T15:14:42.397Z"
   },
   {
    "duration": 8396,
    "start_time": "2022-05-07T15:14:42.401Z"
   },
   {
    "duration": 10,
    "start_time": "2022-05-07T15:14:50.799Z"
   },
   {
    "duration": 6,
    "start_time": "2022-05-07T15:14:50.814Z"
   },
   {
    "duration": 7,
    "start_time": "2022-05-07T15:14:50.834Z"
   },
   {
    "duration": 12,
    "start_time": "2022-05-07T15:14:50.843Z"
   },
   {
    "duration": 7,
    "start_time": "2022-05-07T15:14:50.857Z"
   },
   {
    "duration": 6,
    "start_time": "2022-05-07T15:14:50.866Z"
   },
   {
    "duration": 13,
    "start_time": "2022-05-07T15:14:50.873Z"
   },
   {
    "duration": 15,
    "start_time": "2022-05-07T15:14:50.888Z"
   },
   {
    "duration": 6,
    "start_time": "2022-05-07T15:14:50.933Z"
   },
   {
    "duration": 13,
    "start_time": "2022-05-07T15:14:50.940Z"
   },
   {
    "duration": 5,
    "start_time": "2022-05-07T15:14:50.955Z"
   },
   {
    "duration": 8,
    "start_time": "2022-05-07T15:14:50.962Z"
   },
   {
    "duration": 7,
    "start_time": "2022-05-07T15:14:50.971Z"
   },
   {
    "duration": 6,
    "start_time": "2022-05-07T15:14:50.980Z"
   },
   {
    "duration": 49,
    "start_time": "2022-05-07T15:14:50.988Z"
   },
   {
    "duration": 8,
    "start_time": "2022-05-07T15:14:51.039Z"
   },
   {
    "duration": 11,
    "start_time": "2022-05-07T15:14:51.049Z"
   },
   {
    "duration": 184,
    "start_time": "2022-05-07T15:14:51.062Z"
   },
   {
    "duration": 43,
    "start_time": "2022-05-07T15:14:51.248Z"
   },
   {
    "duration": 672,
    "start_time": "2022-05-07T15:14:51.294Z"
   },
   {
    "duration": 611,
    "start_time": "2022-05-07T15:14:51.968Z"
   },
   {
    "duration": 1255,
    "start_time": "2022-05-07T15:14:52.580Z"
   },
   {
    "duration": 299,
    "start_time": "2022-05-07T15:14:53.838Z"
   },
   {
    "duration": 100,
    "start_time": "2022-05-07T15:14:54.140Z"
   },
   {
    "duration": 24,
    "start_time": "2022-05-07T15:14:54.242Z"
   },
   {
    "duration": 53,
    "start_time": "2022-05-07T15:14:54.267Z"
   },
   {
    "duration": 808,
    "start_time": "2022-05-07T15:14:54.322Z"
   },
   {
    "duration": 209,
    "start_time": "2022-05-07T15:14:55.132Z"
   },
   {
    "duration": 7,
    "start_time": "2022-05-07T15:14:55.433Z"
   },
   {
    "duration": 96,
    "start_time": "2022-05-07T15:14:55.443Z"
   },
   {
    "duration": 27,
    "start_time": "2022-05-07T15:14:55.541Z"
   },
   {
    "duration": 372,
    "start_time": "2022-05-07T15:14:55.570Z"
   },
   {
    "duration": 193,
    "start_time": "2022-05-07T15:14:55.944Z"
   },
   {
    "duration": 96,
    "start_time": "2022-05-07T15:14:56.140Z"
   },
   {
    "duration": 890,
    "start_time": "2022-05-07T15:14:56.238Z"
   },
   {
    "duration": 11,
    "start_time": "2022-05-07T15:14:57.130Z"
   }
  ],
  "kernelspec": {
   "display_name": "Python 3 (ipykernel)",
   "language": "python",
   "name": "python3"
  },
  "language_info": {
   "codemirror_mode": {
    "name": "ipython",
    "version": 3
   },
   "file_extension": ".py",
   "mimetype": "text/x-python",
   "name": "python",
   "nbconvert_exporter": "python",
   "pygments_lexer": "ipython3",
   "version": "3.8.8"
  },
  "toc": {
   "base_numbering": 1,
   "nav_menu": {},
   "number_sections": true,
   "sideBar": true,
   "skip_h1_title": true,
   "title_cell": "Содержание",
   "title_sidebar": "Contents",
   "toc_cell": true,
   "toc_position": {},
   "toc_section_display": true,
   "toc_window_display": true
  }
 },
 "nbformat": 4,
 "nbformat_minor": 2
}
