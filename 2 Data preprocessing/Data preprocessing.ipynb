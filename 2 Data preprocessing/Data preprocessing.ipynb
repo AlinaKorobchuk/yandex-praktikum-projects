{
 "cells": [
  {
   "cell_type": "markdown",
   "id": "c2cebada",
   "metadata": {},
   "source": [
    "# Исследование надежности заемщиков."
   ]
  },
  {
   "cell_type": "markdown",
   "id": "8bea2697",
   "metadata": {},
   "source": [
    "### Шаг 1. Обзор данных <a id=\"data_overview\"></a>"
   ]
  },
  {
   "cell_type": "markdown",
   "id": "89f05e00",
   "metadata": {},
   "source": [
    "<div class=\"alert alert-block alert-info\">\n",
    "\n",
    "  <b>Описание проекта:</b>\n",
    "    \n",
    "    \n",
    "Заказчик — кредитный отдел банка. Нужно разобраться, влияет ли семейное положение и количество детей клиента на факт погашения кредита в срок. Входные данные от банка — статистика о платёжеспособности клиентов.\n",
    "Результаты исследования будут учтены при построении модели кредитного скоринга — специальной системы, которая оценивает способность потенциального заёмщика вернуть кредит банку.\n",
    "\n",
    "  <b>Цель данного проекта:</b> разобраться, влияет ли семейное положение и количество детей клиента на факт погашения кредита в срок.\n",
    "    \n",
    "  <b>Входные данные:</b> статистика от банка о платёжеспособности клиентов.\n",
    "</div>"
   ]
  },
  {
   "cell_type": "code",
   "execution_count": 1,
   "id": "d9343c2c",
   "metadata": {},
   "outputs": [
    {
     "name": "stdout",
     "output_type": "stream",
     "text": [
      "<class 'pandas.core.frame.DataFrame'>\n",
      "RangeIndex: 21525 entries, 0 to 21524\n",
      "Data columns (total 12 columns):\n",
      " #   Column            Non-Null Count  Dtype  \n",
      "---  ------            --------------  -----  \n",
      " 0   children          21525 non-null  int64  \n",
      " 1   days_employed     19351 non-null  float64\n",
      " 2   dob_years         21525 non-null  int64  \n",
      " 3   education         21525 non-null  object \n",
      " 4   education_id      21525 non-null  int64  \n",
      " 5   family_status     21525 non-null  object \n",
      " 6   family_status_id  21525 non-null  int64  \n",
      " 7   gender            21525 non-null  object \n",
      " 8   income_type       21525 non-null  object \n",
      " 9   debt              21525 non-null  int64  \n",
      " 10  total_income      19351 non-null  float64\n",
      " 11  purpose           21525 non-null  object \n",
      "dtypes: float64(2), int64(5), object(5)\n",
      "memory usage: 2.0+ MB\n"
     ]
    }
   ],
   "source": [
    "import pandas as pd\n",
    "data = pd.read_csv(\"data_preprocessing.csv\")\n",
    "data.info()"
   ]
  },
  {
   "cell_type": "code",
   "execution_count": 2,
   "id": "f883b167",
   "metadata": {},
   "outputs": [
    {
     "data": {
      "text/html": [
       "<div>\n",
       "<style scoped>\n",
       "    .dataframe tbody tr th:only-of-type {\n",
       "        vertical-align: middle;\n",
       "    }\n",
       "\n",
       "    .dataframe tbody tr th {\n",
       "        vertical-align: top;\n",
       "    }\n",
       "\n",
       "    .dataframe thead th {\n",
       "        text-align: right;\n",
       "    }\n",
       "</style>\n",
       "<table border=\"1\" class=\"dataframe\">\n",
       "  <thead>\n",
       "    <tr style=\"text-align: right;\">\n",
       "      <th></th>\n",
       "      <th>children</th>\n",
       "      <th>days_employed</th>\n",
       "      <th>dob_years</th>\n",
       "      <th>education</th>\n",
       "      <th>education_id</th>\n",
       "      <th>family_status</th>\n",
       "      <th>family_status_id</th>\n",
       "      <th>gender</th>\n",
       "      <th>income_type</th>\n",
       "      <th>debt</th>\n",
       "      <th>total_income</th>\n",
       "      <th>purpose</th>\n",
       "    </tr>\n",
       "  </thead>\n",
       "  <tbody>\n",
       "    <tr>\n",
       "      <th>0</th>\n",
       "      <td>1</td>\n",
       "      <td>-8437.673028</td>\n",
       "      <td>42</td>\n",
       "      <td>высшее</td>\n",
       "      <td>0</td>\n",
       "      <td>женат / замужем</td>\n",
       "      <td>0</td>\n",
       "      <td>F</td>\n",
       "      <td>сотрудник</td>\n",
       "      <td>0</td>\n",
       "      <td>253875.639453</td>\n",
       "      <td>покупка жилья</td>\n",
       "    </tr>\n",
       "    <tr>\n",
       "      <th>1</th>\n",
       "      <td>1</td>\n",
       "      <td>-4024.803754</td>\n",
       "      <td>36</td>\n",
       "      <td>среднее</td>\n",
       "      <td>1</td>\n",
       "      <td>женат / замужем</td>\n",
       "      <td>0</td>\n",
       "      <td>F</td>\n",
       "      <td>сотрудник</td>\n",
       "      <td>0</td>\n",
       "      <td>112080.014102</td>\n",
       "      <td>приобретение автомобиля</td>\n",
       "    </tr>\n",
       "    <tr>\n",
       "      <th>2</th>\n",
       "      <td>0</td>\n",
       "      <td>-5623.422610</td>\n",
       "      <td>33</td>\n",
       "      <td>Среднее</td>\n",
       "      <td>1</td>\n",
       "      <td>женат / замужем</td>\n",
       "      <td>0</td>\n",
       "      <td>M</td>\n",
       "      <td>сотрудник</td>\n",
       "      <td>0</td>\n",
       "      <td>145885.952297</td>\n",
       "      <td>покупка жилья</td>\n",
       "    </tr>\n",
       "    <tr>\n",
       "      <th>3</th>\n",
       "      <td>3</td>\n",
       "      <td>-4124.747207</td>\n",
       "      <td>32</td>\n",
       "      <td>среднее</td>\n",
       "      <td>1</td>\n",
       "      <td>женат / замужем</td>\n",
       "      <td>0</td>\n",
       "      <td>M</td>\n",
       "      <td>сотрудник</td>\n",
       "      <td>0</td>\n",
       "      <td>267628.550329</td>\n",
       "      <td>дополнительное образование</td>\n",
       "    </tr>\n",
       "    <tr>\n",
       "      <th>4</th>\n",
       "      <td>0</td>\n",
       "      <td>340266.072047</td>\n",
       "      <td>53</td>\n",
       "      <td>среднее</td>\n",
       "      <td>1</td>\n",
       "      <td>гражданский брак</td>\n",
       "      <td>1</td>\n",
       "      <td>F</td>\n",
       "      <td>пенсионер</td>\n",
       "      <td>0</td>\n",
       "      <td>158616.077870</td>\n",
       "      <td>сыграть свадьбу</td>\n",
       "    </tr>\n",
       "  </tbody>\n",
       "</table>\n",
       "</div>"
      ],
      "text/plain": [
       "   children  days_employed  dob_years education  education_id  \\\n",
       "0         1   -8437.673028         42    высшее             0   \n",
       "1         1   -4024.803754         36   среднее             1   \n",
       "2         0   -5623.422610         33   Среднее             1   \n",
       "3         3   -4124.747207         32   среднее             1   \n",
       "4         0  340266.072047         53   среднее             1   \n",
       "\n",
       "      family_status  family_status_id gender income_type  debt   total_income  \\\n",
       "0   женат / замужем                 0      F   сотрудник     0  253875.639453   \n",
       "1   женат / замужем                 0      F   сотрудник     0  112080.014102   \n",
       "2   женат / замужем                 0      M   сотрудник     0  145885.952297   \n",
       "3   женат / замужем                 0      M   сотрудник     0  267628.550329   \n",
       "4  гражданский брак                 1      F   пенсионер     0  158616.077870   \n",
       "\n",
       "                      purpose  \n",
       "0               покупка жилья  \n",
       "1     приобретение автомобиля  \n",
       "2               покупка жилья  \n",
       "3  дополнительное образование  \n",
       "4             сыграть свадьбу  "
      ]
     },
     "execution_count": 2,
     "metadata": {},
     "output_type": "execute_result"
    }
   ],
   "source": [
    "data.head()"
   ]
  },
  {
   "cell_type": "markdown",
   "id": "a80e7493",
   "metadata": {},
   "source": [
    "<div class=\"alert alert-block alert-info\">\n",
    "    Всего в данном проекте представлены данные об 21525 клиентах с 12 признаками, среди которых есть количественные и категориальные признаки. Признаки представлены данными нескольких типов: int, object, float.\n",
    "</div>"
   ]
  },
  {
   "cell_type": "markdown",
   "id": "e0787b5d",
   "metadata": {},
   "source": [
    "### Шаг 2.1 Заполнение пропусков  <a id=\"filling\"></a>"
   ]
  },
  {
   "cell_type": "code",
   "execution_count": 3,
   "id": "1012a64c",
   "metadata": {},
   "outputs": [
    {
     "data": {
      "text/plain": [
       "children               0\n",
       "days_employed       2174\n",
       "dob_years              0\n",
       "education              0\n",
       "education_id           0\n",
       "family_status          0\n",
       "family_status_id       0\n",
       "gender                 0\n",
       "income_type            0\n",
       "debt                   0\n",
       "total_income        2174\n",
       "purpose                0\n",
       "dtype: int64"
      ]
     },
     "execution_count": 3,
     "metadata": {},
     "output_type": "execute_result"
    }
   ],
   "source": [
    "data.isnull().sum()"
   ]
  },
  {
   "cell_type": "markdown",
   "id": "c4182cc6",
   "metadata": {},
   "source": [
    "<div class=\"alert alert-block alert-info\">\n",
    "\n",
    "  <b>Описание пропущенных значений</b>\n",
    "\n",
    "  Были пропущены значения в столбце общего трудового стажа в днях, а также в столбце с данными о ежемесячном доходе.\n",
    "</div>"
   ]
  },
  {
   "cell_type": "code",
   "execution_count": 4,
   "id": "201508c4",
   "metadata": {},
   "outputs": [
    {
     "name": "stdout",
     "output_type": "stream",
     "text": [
      "Доля пропущенных значений для столбца days_employed: 10.1%\n",
      "Доля пропущенных значений для столбца total_income: 10.1%\n"
     ]
    }
   ],
   "source": [
    "empty_days_employed = data['days_employed'].isnull().sum()\n",
    "empty_total_income = data['total_income'].isnull().sum()\n",
    "total_value = len(data)\n",
    "share_days_employed = empty_days_employed / total_value\n",
    "share_total_income = empty_total_income / total_value\n",
    "print(f\"Доля пропущенных значений для столбца days_employed: {share_days_employed:.1%}\")\n",
    "print(f\"Доля пропущенных значений для столбца total_income: {share_total_income:.1%}\")"
   ]
  },
  {
   "cell_type": "markdown",
   "id": "caf56685",
   "metadata": {},
   "source": [
    "<div class=\"alert alert-block alert-info\">\n",
    "    Исследовав столбец days_employed, я сделала предположение о том, что отрицательные значения представляют собой данные о количестве отработанных дней, которые необходимо привести к положительным, а также присутствуют значения в диапазоне 300000-401755, скорее всего это аномалии, либо данные, представленные не в днях. Для того, чтобы пропуски заполнять медианным значением необходимо для начала отрицательные значения привести к положительным.\n",
    "</div>"
   ]
  },
  {
   "cell_type": "code",
   "execution_count": 5,
   "id": "4ac8e8bb",
   "metadata": {},
   "outputs": [],
   "source": [
    "#заменяем пропущенные значения в столбцу days_employed\n",
    "data['days_employed'] = abs(data['days_employed'])\n",
    "days_employed_median = data['days_employed'].median()\n",
    "data['days_employed'] = data['days_employed'].fillna(days_employed_median)"
   ]
  },
  {
   "cell_type": "code",
   "execution_count": 6,
   "id": "6b4b7259",
   "metadata": {},
   "outputs": [],
   "source": [
    "#заменяем пропущенные значения в столбце total_income\n",
    "total_income_median = data['total_income'].median()\n",
    "data['total_income'] = data['total_income'].fillna(total_income_median)"
   ]
  },
  {
   "cell_type": "code",
   "execution_count": 7,
   "id": "d694eb0b",
   "metadata": {},
   "outputs": [
    {
     "data": {
      "text/plain": [
       "children            0\n",
       "days_employed       0\n",
       "dob_years           0\n",
       "education           0\n",
       "education_id        0\n",
       "family_status       0\n",
       "family_status_id    0\n",
       "gender              0\n",
       "income_type         0\n",
       "debt                0\n",
       "total_income        0\n",
       "purpose             0\n",
       "dtype: int64"
      ]
     },
     "execution_count": 7,
     "metadata": {},
     "output_type": "execute_result"
    }
   ],
   "source": [
    "#Проверим еще раз данные на пропуски, убедимся, что их сейчас нет\n",
    "data.isnull().sum()"
   ]
  },
  {
   "cell_type": "markdown",
   "id": "e33da0b7",
   "metadata": {},
   "source": [
    "<div class=\"alert alert-block alert-info\">\n",
    "\n",
    "  <b>Возможные причины появления пропусков</b>\n",
    "    \n",
    "  Возможные причины появления пропусков в данных:\n",
    "    \n",
    "  -ошибки, связанные с человеческим фактором\n",
    "    \n",
    "  -технологические ошибки\n",
    "    \n",
    "  Как я понимаю, пропуски могут быть также намеренными. К примеру, в данном случае видим, что пропущенные значения в столбцах  с трудовым стажем и ежемесячным доходом равны, при чем количество пропусков для данных столбцов одинаковое. Это говорит о том, что скорее всего данные клиенты не работали, соответственно не указан и их доход. Но также не исключается причина пропуска информации по части клиентов в связи с ошибками.\n",
    "    \n",
    "   \n",
    "        \n",
    "    \n",
    "</div>"
   ]
  },
  {
   "cell_type": "markdown",
   "id": "0e46d71b",
   "metadata": {},
   "source": [
    "<div class=\"alert alert-block alert-info\">\n",
    "\n",
    "  <b>Описание пропущенных значений</b>\n",
    "  \n",
    "  Заполнение пропусков медианным значением для количественных переменных является оптимальным, поскольку среднее значение некорректно характеризует данные, когда некоторые значения сильно выделяются среди большинства. \n",
    "\n",
    " \n",
    "</div>\n",
    "  \n",
    "    \n"
   ]
  },
  {
   "cell_type": "markdown",
   "id": "29a8a6d0",
   "metadata": {},
   "source": [
    "### Шаг 2.2 Проверка данных на аномалии и исправления. <a id=\"anomalies\"></a>"
   ]
  },
  {
   "cell_type": "markdown",
   "id": "70717d25",
   "metadata": {},
   "source": [
    "<div class=\"alert alert-block alert-info\">\n",
    "\n",
    "  <b>Аномалии в столбце children</b>\n",
    "  \n",
    "  В столбце children аномальными являются значения 20 и -1. Думаю отрицательные значения означают, что знак минус был проставлен случайно, и нужно его убрать. А значение 20 можно заменить на среднее по данному столбцу.\n",
    "    \n",
    "\n",
    " \n",
    "</div>\n",
    "  "
   ]
  },
  {
   "cell_type": "code",
   "execution_count": 8,
   "id": "37b673ab",
   "metadata": {},
   "outputs": [
    {
     "data": {
      "text/plain": [
       " 0     14149\n",
       " 1      4818\n",
       " 2      2055\n",
       " 3       330\n",
       " 20       76\n",
       "-1        47\n",
       " 4        41\n",
       " 5         9\n",
       "Name: children, dtype: int64"
      ]
     },
     "execution_count": 8,
     "metadata": {},
     "output_type": "execute_result"
    }
   ],
   "source": [
    "#Просматриваем уникальные значения\n",
    "data['children'].value_counts()"
   ]
  },
  {
   "cell_type": "code",
   "execution_count": 9,
   "id": "4b98b681",
   "metadata": {},
   "outputs": [],
   "source": [
    "#Избавимся от отрицательных значений\n",
    "data['children'] = abs(data['children'])"
   ]
  },
  {
   "cell_type": "code",
   "execution_count": 10,
   "id": "0913cb30",
   "metadata": {},
   "outputs": [],
   "source": [
    "#Создадим функцию для замены аномальных значений (20 детей)\n",
    "def anomalies_children(child):\n",
    "    if child == 20:\n",
    "        return value_for_replacement\n",
    "    \n",
    "    return child"
   ]
  },
  {
   "cell_type": "code",
   "execution_count": 11,
   "id": "6c2b6c6b",
   "metadata": {},
   "outputs": [],
   "source": [
    "#Определим значение для замены\n",
    "value_for_replacement = round(data['children'].mean())"
   ]
  },
  {
   "cell_type": "code",
   "execution_count": 12,
   "id": "a28cc0c6",
   "metadata": {},
   "outputs": [],
   "source": [
    "#Методом apply применим объявленную выше функцию к данному столбцу\n",
    "data['children'] = data['children'].apply(anomalies_children)"
   ]
  },
  {
   "cell_type": "code",
   "execution_count": 13,
   "id": "2153d4e4",
   "metadata": {},
   "outputs": [
    {
     "data": {
      "text/plain": [
       "0    14149\n",
       "1     4941\n",
       "2     2055\n",
       "3      330\n",
       "4       41\n",
       "5        9\n",
       "Name: children, dtype: int64"
      ]
     },
     "execution_count": 13,
     "metadata": {},
     "output_type": "execute_result"
    }
   ],
   "source": [
    "#Проверим признак children на наличие аномалий\n",
    "data['children'].value_counts()"
   ]
  },
  {
   "cell_type": "markdown",
   "id": "16c26603",
   "metadata": {},
   "source": [
    "<div class=\"alert alert-block alert-info\">\n",
    "\n",
    "  <b>Аномалии в столбце days_employed</b>\n",
    "    \n",
    "  Ранее отрицательные значения были заменены на положительные. Однако было выявлено, что 3445 строки содержат данные в диапазоне от 328728,7 и выше. Я делаю предположение о том, что эти данные представлены в часах. И их необходимо заменить на данные в днях, разделив на 24.\n",
    "  \n",
    "</div>    "
   ]
  },
  {
   "cell_type": "code",
   "execution_count": 14,
   "id": "f7e0a3f4",
   "metadata": {},
   "outputs": [
    {
     "data": {
      "text/plain": [
       "0       401755.400475\n",
       "1       401715.811749\n",
       "2       401675.093434\n",
       "3       401674.466633\n",
       "4       401663.850046\n",
       "            ...      \n",
       "3442    328771.341387\n",
       "3443    328734.923996\n",
       "3444    328728.720605\n",
       "3445     18388.949901\n",
       "3446     17615.563266\n",
       "Name: days_employed, Length: 3447, dtype: float64"
      ]
     },
     "execution_count": 14,
     "metadata": {},
     "output_type": "execute_result"
    }
   ],
   "source": [
    "#Просмотрели, сколько строк с высокими значениями\n",
    "high_values_days = data['days_employed'].sort_values(ascending=False).reset_index(drop=True)\n",
    "high_values_days[:3447]"
   ]
  },
  {
   "cell_type": "code",
   "execution_count": 15,
   "id": "78fad259",
   "metadata": {},
   "outputs": [],
   "source": [
    "#Создали функцию для перевода данных из часов в дни\n",
    "def anomalies_days(hours):\n",
    "    if hours > 300000:\n",
    "        return hours / 24\n",
    "    \n",
    "    return hours"
   ]
  },
  {
   "cell_type": "code",
   "execution_count": 16,
   "id": "6a928473",
   "metadata": {},
   "outputs": [],
   "source": [
    "#Заменили значения в столбце days_employed\n",
    "data['days_employed'] = data['days_employed'].apply(anomalies_days)"
   ]
  },
  {
   "cell_type": "code",
   "execution_count": 17,
   "id": "0edbb78f",
   "metadata": {},
   "outputs": [],
   "source": [
    "#Разделим полученные значения на среднее количество рабочих дней в России и сравним с возрастом. \n",
    "#Для этого создадим в датафрейме столбец со стажем в годах\n",
    "data['years_employed'] = data['days_employed'] / 250"
   ]
  },
  {
   "cell_type": "code",
   "execution_count": 18,
   "id": "e746304f",
   "metadata": {},
   "outputs": [],
   "source": [
    "#Получили, что у нас 2072 записи, где стаж в годах больше возраста. В большинстве случаев - это пенсионеры.\n",
    "#Заменим эти выделяющиеся значения на медианный стаж. Для этого опять создадим функцию\n",
    "days_median = data['days_employed'].median()\n",
    "def anomalies_years(row):\n",
    "    if row['dob_years'] < row['years_employed']:\n",
    "        return days_median\n",
    "    \n",
    "    return row['days_employed']    "
   ]
  },
  {
   "cell_type": "code",
   "execution_count": 19,
   "id": "24d1183b",
   "metadata": {},
   "outputs": [],
   "source": [
    "#Применим функцию ко всем строкам в столбце days_employed, заменив аномальные значения медианными\n",
    "data['days_employed'] = data.apply(anomalies_years, axis=1)"
   ]
  },
  {
   "cell_type": "markdown",
   "id": "c5f9af31",
   "metadata": {},
   "source": [
    "<div class=\"alert alert-block alert-info\">\n",
    "  <b>Аномалии в столбце dob_years</b>\n",
    "   \n",
    "   Было выявлено, что присутствуют записи с значением 0 в данном столбце. Однако заполнять средним или медианным значением, по моему мнению, неправильно. Нужно посмотреть на категорию income_type данного клиента. Например, для пенсионеров заполнить средний возраст по группе пенсионеров и так далее.\n",
    "</div>"
   ]
  },
  {
   "cell_type": "code",
   "execution_count": 20,
   "id": "75a58a67",
   "metadata": {},
   "outputs": [
    {
     "name": "stdout",
     "output_type": "stream",
     "text": [
      "0 19 20 21 22 23 24 25 26 27 28 29 30 31 32 33 34 35 36 37 38 39 40 41 42 43 44 45 46 47 48 49 50 51 52 53 54 55 56 57 58 59 60 61 62 63 64 65 66 67 68 69 70 71 72 73 74 75 "
     ]
    }
   ],
   "source": [
    "#Просмотрим значения столбца dob_years в отсортированном порядке\n",
    "for age in sorted(data['dob_years'].unique()):\n",
    "    print(age, end=' ')"
   ]
  },
  {
   "cell_type": "code",
   "execution_count": 21,
   "id": "732609fb",
   "metadata": {},
   "outputs": [
    {
     "data": {
      "text/plain": [
       "array(['пенсионер', 'сотрудник', 'компаньон', 'госслужащий'], dtype=object)"
      ]
     },
     "execution_count": 21,
     "metadata": {},
     "output_type": "execute_result"
    }
   ],
   "source": [
    "#Смотрим, какие категории есть для записей с аномальными значениями в столбце dob_years\n",
    "data[data['dob_years'] == 0]['income_type'].unique()"
   ]
  },
  {
   "cell_type": "code",
   "execution_count": 22,
   "id": "7f7d275a",
   "metadata": {},
   "outputs": [],
   "source": [
    "#Рассчитаем средние для этих категорий\n",
    "retiree_mean_age = data[(data['dob_years'] != 0) & (data['income_type'] == 'пенсионер')]['dob_years'].mean()\n",
    "collaborator_mean_age = data[(data['dob_years'] != 0) & (data['income_type'] == 'сотрудник')]['dob_years'].mean()\n",
    "companion_mean_age = data[(data['dob_years'] != 0) & (data['income_type'] == 'компаньон')]['dob_years'].mean()\n",
    "civilservant_mean_age = data[(data['dob_years'] != 0) & (data['income_type'] == 'госслужащий')]['dob_years'].mean()"
   ]
  },
  {
   "cell_type": "code",
   "execution_count": 23,
   "id": "26fda1c6",
   "metadata": {},
   "outputs": [],
   "source": [
    "#Определим функцию для замены аномальных значений в столбце dob_years\n",
    "def anomalies_age(row):\n",
    "    if row['dob_years'] == 0:\n",
    "        if row['income_type'] == 'пенсионер':\n",
    "            return int(retiree_mean_age)\n",
    "        if row['income_type'] == 'сотрудник':\n",
    "            return int(collaborator_mean_age)\n",
    "        if row['income_type'] == 'компаньон':\n",
    "            return int(companion_mean_age)\n",
    "        if row['income_type'] == 'госслужащий':\n",
    "            return int(civilservant_mean_age)\n",
    "    \n",
    "    return row['dob_years']    "
   ]
  },
  {
   "cell_type": "code",
   "execution_count": 24,
   "id": "aca39c01",
   "metadata": {},
   "outputs": [],
   "source": [
    "#Вызовем функцию\n",
    "data['dob_years'] = data.apply(anomalies_age, axis=1)"
   ]
  },
  {
   "cell_type": "code",
   "execution_count": 25,
   "id": "0bd9b1d3",
   "metadata": {},
   "outputs": [
    {
     "name": "stdout",
     "output_type": "stream",
     "text": [
      "19 20 21 22 23 24 25 26 27 28 29 30 31 32 33 34 35 36 37 38 39 40 41 42 43 44 45 46 47 48 49 50 51 52 53 54 55 56 57 58 59 60 61 62 63 64 65 66 67 68 69 70 71 72 73 74 75 "
     ]
    }
   ],
   "source": [
    "#Проверим, что нет аномальных значений с возрастом 0\n",
    "for age in sorted(data['dob_years'].unique()):\n",
    "    print(age, end=' ')"
   ]
  },
  {
   "cell_type": "markdown",
   "id": "0b606a56",
   "metadata": {},
   "source": [
    "<div class=\"alert alert-block alert-info\">\n",
    "  Аномалии в столбце education не выявлены. \n",
    "\n",
    "</div>"
   ]
  },
  {
   "cell_type": "code",
   "execution_count": 26,
   "id": "fbe34019",
   "metadata": {},
   "outputs": [
    {
     "data": {
      "text/plain": [
       "array(['высшее', 'среднее', 'Среднее', 'СРЕДНЕЕ', 'ВЫСШЕЕ',\n",
       "       'неоконченное высшее', 'начальное', 'Высшее',\n",
       "       'НЕОКОНЧЕННОЕ ВЫСШЕЕ', 'Неоконченное высшее', 'НАЧАЛЬНОЕ',\n",
       "       'Начальное', 'Ученая степень', 'УЧЕНАЯ СТЕПЕНЬ', 'ученая степень'],\n",
       "      dtype=object)"
      ]
     },
     "execution_count": 26,
     "metadata": {},
     "output_type": "execute_result"
    }
   ],
   "source": [
    "data['education'].unique()"
   ]
  },
  {
   "cell_type": "markdown",
   "id": "bdc36c7d",
   "metadata": {},
   "source": [
    "<div class=\"alert alert-block alert-info\">\n",
    "  Аномалии в столбце education_id не выявлены.\n",
    "\n",
    "</div>"
   ]
  },
  {
   "cell_type": "code",
   "execution_count": 27,
   "id": "d2f19c0f",
   "metadata": {},
   "outputs": [
    {
     "data": {
      "text/plain": [
       "array([0, 1, 2, 3, 4], dtype=int64)"
      ]
     },
     "execution_count": 27,
     "metadata": {},
     "output_type": "execute_result"
    }
   ],
   "source": [
    "data['education_id'].unique()"
   ]
  },
  {
   "cell_type": "markdown",
   "id": "40baa843",
   "metadata": {},
   "source": [
    "<div class=\"alert alert-block alert-info\">\n",
    "  Аномалии в столбце family_status не выявлены.  \n",
    "\n",
    "</div>"
   ]
  },
  {
   "cell_type": "code",
   "execution_count": 28,
   "id": "a687caaf",
   "metadata": {},
   "outputs": [
    {
     "data": {
      "text/plain": [
       "array(['женат / замужем', 'гражданский брак', 'вдовец / вдова',\n",
       "       'в разводе', 'Не женат / не замужем'], dtype=object)"
      ]
     },
     "execution_count": 28,
     "metadata": {},
     "output_type": "execute_result"
    }
   ],
   "source": [
    "data['family_status'].unique()"
   ]
  },
  {
   "cell_type": "markdown",
   "id": "2cfebf8d",
   "metadata": {},
   "source": [
    "<div class=\"alert alert-block alert-info\">\n",
    "  Аномалии в столбце family_status_id не выявлены. \n",
    "</div>"
   ]
  },
  {
   "cell_type": "code",
   "execution_count": 29,
   "id": "4a78b00d",
   "metadata": {},
   "outputs": [
    {
     "data": {
      "text/plain": [
       "array([0, 1, 2, 3, 4], dtype=int64)"
      ]
     },
     "execution_count": 29,
     "metadata": {},
     "output_type": "execute_result"
    }
   ],
   "source": [
    "data['family_status_id'].unique()"
   ]
  },
  {
   "cell_type": "markdown",
   "id": "d5a08c03",
   "metadata": {},
   "source": [
    "<div class=\"alert alert-block alert-info\">\n",
    "  <b>Аномалии в столбце gender</b>\n",
    "  \n",
    "  В данном столбце выявлено одно аномальное значение XNA. По представленным данным его сложно исправить. Строку с данным значение по столбцу gender можно исключить из выборки, по моему мнению.\n",
    "\n",
    "</div>"
   ]
  },
  {
   "cell_type": "code",
   "execution_count": 30,
   "id": "47ce9f5e",
   "metadata": {},
   "outputs": [
    {
     "data": {
      "text/plain": [
       "array(['F', 'M', 'XNA'], dtype=object)"
      ]
     },
     "execution_count": 30,
     "metadata": {},
     "output_type": "execute_result"
    }
   ],
   "source": [
    "#Посмотрим на уникальные значения в столбце gender\n",
    "data['gender'].unique()"
   ]
  },
  {
   "cell_type": "code",
   "execution_count": 31,
   "id": "5d3232b5",
   "metadata": {},
   "outputs": [
    {
     "data": {
      "text/html": [
       "<div>\n",
       "<style scoped>\n",
       "    .dataframe tbody tr th:only-of-type {\n",
       "        vertical-align: middle;\n",
       "    }\n",
       "\n",
       "    .dataframe tbody tr th {\n",
       "        vertical-align: top;\n",
       "    }\n",
       "\n",
       "    .dataframe thead th {\n",
       "        text-align: right;\n",
       "    }\n",
       "</style>\n",
       "<table border=\"1\" class=\"dataframe\">\n",
       "  <thead>\n",
       "    <tr style=\"text-align: right;\">\n",
       "      <th></th>\n",
       "      <th>children</th>\n",
       "      <th>days_employed</th>\n",
       "      <th>dob_years</th>\n",
       "      <th>education</th>\n",
       "      <th>education_id</th>\n",
       "      <th>family_status</th>\n",
       "      <th>family_status_id</th>\n",
       "      <th>gender</th>\n",
       "      <th>income_type</th>\n",
       "      <th>debt</th>\n",
       "      <th>total_income</th>\n",
       "      <th>purpose</th>\n",
       "      <th>years_employed</th>\n",
       "    </tr>\n",
       "  </thead>\n",
       "  <tbody>\n",
       "    <tr>\n",
       "      <th>10701</th>\n",
       "      <td>0</td>\n",
       "      <td>2358.600502</td>\n",
       "      <td>24</td>\n",
       "      <td>неоконченное высшее</td>\n",
       "      <td>2</td>\n",
       "      <td>гражданский брак</td>\n",
       "      <td>1</td>\n",
       "      <td>XNA</td>\n",
       "      <td>компаньон</td>\n",
       "      <td>0</td>\n",
       "      <td>203905.157261</td>\n",
       "      <td>покупка недвижимости</td>\n",
       "      <td>9.434402</td>\n",
       "    </tr>\n",
       "  </tbody>\n",
       "</table>\n",
       "</div>"
      ],
      "text/plain": [
       "       children  days_employed  dob_years            education  education_id  \\\n",
       "10701         0    2358.600502         24  неоконченное высшее             2   \n",
       "\n",
       "          family_status  family_status_id gender income_type  debt  \\\n",
       "10701  гражданский брак                 1    XNA   компаньон     0   \n",
       "\n",
       "        total_income               purpose  years_employed  \n",
       "10701  203905.157261  покупка недвижимости        9.434402  "
      ]
     },
     "execution_count": 31,
     "metadata": {},
     "output_type": "execute_result"
    }
   ],
   "source": [
    "#Посмотрим, сколько строк с аномальным значением в строке gender\n",
    "data[data['gender'] == 'XNA']"
   ]
  },
  {
   "cell_type": "code",
   "execution_count": 32,
   "id": "f74a74fd",
   "metadata": {},
   "outputs": [],
   "source": [
    "#Удалим данную строку из данных\n",
    "data = data[data['gender'] != 'XNA'].reset_index(drop=True)"
   ]
  },
  {
   "cell_type": "code",
   "execution_count": 33,
   "id": "d41f91e1",
   "metadata": {},
   "outputs": [
    {
     "data": {
      "text/plain": [
       "RangeIndex(start=0, stop=21524, step=1)"
      ]
     },
     "execution_count": 33,
     "metadata": {},
     "output_type": "execute_result"
    }
   ],
   "source": [
    "#Проверяем, что количество записей стало в таблице меньше на одну и индексация произведена правильно\n",
    "data.index"
   ]
  },
  {
   "cell_type": "markdown",
   "id": "b3e318bd",
   "metadata": {},
   "source": [
    "<div class=\"alert alert-block alert-info\">\n",
    "  Аномалии в столбце income_tupe не выявлены. \n",
    "\n",
    "</div>"
   ]
  },
  {
   "cell_type": "code",
   "execution_count": 34,
   "id": "8fb16885",
   "metadata": {},
   "outputs": [
    {
     "data": {
      "text/plain": [
       "array(['сотрудник', 'пенсионер', 'компаньон', 'госслужащий',\n",
       "       'безработный', 'предприниматель', 'студент', 'в декрете'],\n",
       "      dtype=object)"
      ]
     },
     "execution_count": 34,
     "metadata": {},
     "output_type": "execute_result"
    }
   ],
   "source": [
    "data['income_type'].unique()"
   ]
  },
  {
   "cell_type": "markdown",
   "id": "77a08387",
   "metadata": {},
   "source": [
    "<div class=\"alert alert-block alert-info\">\n",
    "  Аномалии в столбце debt не выявлены. \n",
    "</div>"
   ]
  },
  {
   "cell_type": "code",
   "execution_count": 35,
   "id": "70635f34",
   "metadata": {},
   "outputs": [
    {
     "data": {
      "text/plain": [
       "array([0, 1], dtype=int64)"
      ]
     },
     "execution_count": 35,
     "metadata": {},
     "output_type": "execute_result"
    }
   ],
   "source": [
    "data['debt'].unique()"
   ]
  },
  {
   "cell_type": "markdown",
   "id": "0fdd3296",
   "metadata": {},
   "source": [
    "<div class=\"alert alert-block alert-info\">\n",
    "  Аномалии в столбце total_income не выявлены. \n",
    "</div>"
   ]
  },
  {
   "cell_type": "code",
   "execution_count": 36,
   "id": "4f1a6ab5",
   "metadata": {},
   "outputs": [
    {
     "data": {
      "text/plain": [
       "array([0, 1], dtype=int64)"
      ]
     },
     "execution_count": 36,
     "metadata": {},
     "output_type": "execute_result"
    }
   ],
   "source": [
    "data['debt'].unique()"
   ]
  },
  {
   "cell_type": "markdown",
   "id": "91c166d5",
   "metadata": {},
   "source": [
    "<div class=\"alert alert-block alert-info\">\n",
    "  Аномалии в столбце purpose не выявлены. \n",
    "</div>"
   ]
  },
  {
   "cell_type": "code",
   "execution_count": 37,
   "id": "8c3b1697",
   "metadata": {},
   "outputs": [
    {
     "data": {
      "text/plain": [
       "array(['покупка жилья', 'приобретение автомобиля',\n",
       "       'дополнительное образование', 'сыграть свадьбу',\n",
       "       'операции с жильем', 'образование', 'на проведение свадьбы',\n",
       "       'покупка жилья для семьи', 'покупка недвижимости',\n",
       "       'покупка коммерческой недвижимости', 'покупка жилой недвижимости',\n",
       "       'строительство собственной недвижимости', 'недвижимость',\n",
       "       'строительство недвижимости', 'на покупку подержанного автомобиля',\n",
       "       'на покупку своего автомобиля',\n",
       "       'операции с коммерческой недвижимостью',\n",
       "       'строительство жилой недвижимости', 'жилье',\n",
       "       'операции со своей недвижимостью', 'автомобили',\n",
       "       'заняться образованием', 'сделка с подержанным автомобилем',\n",
       "       'получение образования', 'автомобиль', 'свадьба',\n",
       "       'получение дополнительного образования', 'покупка своего жилья',\n",
       "       'операции с недвижимостью', 'получение высшего образования',\n",
       "       'свой автомобиль', 'сделка с автомобилем',\n",
       "       'профильное образование', 'высшее образование',\n",
       "       'покупка жилья для сдачи', 'на покупку автомобиля', 'ремонт жилью',\n",
       "       'заняться высшим образованием'], dtype=object)"
      ]
     },
     "execution_count": 37,
     "metadata": {},
     "output_type": "execute_result"
    }
   ],
   "source": [
    "data['purpose'].unique()"
   ]
  },
  {
   "cell_type": "markdown",
   "id": "d6c9ed22",
   "metadata": {},
   "source": [
    "<div class=\"alert alert-block alert-info\">\n",
    "\n",
    "  \n",
    "  Таким образом, аномалии были обнаружены в нескольких столбцах, как описано выше. Аномалии могут возникать как ошибка в результате человеческого фактора, также в результате технолгической ошибки. Данные могут быть представлены в разных единицах измерения, могут просто отсутствовать. С аномалиями нужно разбираться, для того, чтобы правильно ответить на вопрос поставленной задачи.\n",
    "\n",
    "</div>"
   ]
  },
  {
   "cell_type": "code",
   "execution_count": 38,
   "id": "ef5d934c",
   "metadata": {},
   "outputs": [],
   "source": [
    "#Перезапишем таблицу без последнего столбца years_employed, который использовали для обработки аномальных значений\n",
    "data = data.loc[:,'children':'purpose']"
   ]
  },
  {
   "cell_type": "markdown",
   "id": "d72079e2",
   "metadata": {},
   "source": [
    "### Шаг 2.3. Изменение типов данных. <a id=\"types\"></a>"
   ]
  },
  {
   "cell_type": "code",
   "execution_count": 39,
   "id": "7482ef69",
   "metadata": {},
   "outputs": [],
   "source": [
    "#Заменяем тип данных на целочисленный в столбце total_income\n",
    "data['total_income'] = data['total_income'].astype('int')"
   ]
  },
  {
   "cell_type": "markdown",
   "id": "7ca008fe",
   "metadata": {},
   "source": [
    "### Шаг 2.4. Удаление дубликатов. <a id=\"delete\"></a>"
   ]
  },
  {
   "cell_type": "markdown",
   "id": "edc083bd",
   "metadata": {},
   "source": [
    "<div class=\"alert alert-block alert-info\">\n",
    "Поиск явных дубликатов\n",
    "</div>"
   ]
  },
  {
   "cell_type": "code",
   "execution_count": 40,
   "id": "ed33e31b",
   "metadata": {},
   "outputs": [
    {
     "data": {
      "text/plain": [
       "54"
      ]
     },
     "execution_count": 40,
     "metadata": {},
     "output_type": "execute_result"
    }
   ],
   "source": [
    "#Проверим количество дубликатов в таблице\n",
    "data.duplicated().sum()"
   ]
  },
  {
   "cell_type": "code",
   "execution_count": 41,
   "id": "448de0fc",
   "metadata": {},
   "outputs": [],
   "source": [
    "#Удалим дубликаты\n",
    "data = data.drop_duplicates().reset_index(drop=True)"
   ]
  },
  {
   "cell_type": "code",
   "execution_count": 42,
   "id": "af354f16",
   "metadata": {},
   "outputs": [
    {
     "data": {
      "text/plain": [
       "0"
      ]
     },
     "execution_count": 42,
     "metadata": {},
     "output_type": "execute_result"
    }
   ],
   "source": [
    "#Проверим результат\n",
    "data.duplicated().sum()"
   ]
  },
  {
   "cell_type": "markdown",
   "id": "583ec111",
   "metadata": {},
   "source": [
    "<div class=\"alert alert-block alert-info\">\n",
    "    Поиск неявных дубликатов\n",
    "</div>"
   ]
  },
  {
   "cell_type": "code",
   "execution_count": 43,
   "id": "b05060a5",
   "metadata": {},
   "outputs": [
    {
     "data": {
      "text/plain": [
       "array(['высшее', 'среднее', 'Среднее', 'СРЕДНЕЕ', 'ВЫСШЕЕ',\n",
       "       'неоконченное высшее', 'начальное', 'Высшее',\n",
       "       'НЕОКОНЧЕННОЕ ВЫСШЕЕ', 'Неоконченное высшее', 'НАЧАЛЬНОЕ',\n",
       "       'Начальное', 'Ученая степень', 'УЧЕНАЯ СТЕПЕНЬ', 'ученая степень'],\n",
       "      dtype=object)"
      ]
     },
     "execution_count": 43,
     "metadata": {},
     "output_type": "execute_result"
    }
   ],
   "source": [
    "#Просматриваем уникальные значения в поле education\n",
    "data['education'].unique()"
   ]
  },
  {
   "cell_type": "code",
   "execution_count": 44,
   "id": "1a5a0f17",
   "metadata": {},
   "outputs": [],
   "source": [
    "#Приводим к нижнему регистру, чтобы избежать дублирующихся записей\n",
    "data['education'] = data['education'].str.lower()"
   ]
  },
  {
   "cell_type": "code",
   "execution_count": 45,
   "id": "2abd2138",
   "metadata": {},
   "outputs": [
    {
     "data": {
      "text/plain": [
       "array(['покупка жилья', 'приобретение автомобиля',\n",
       "       'дополнительное образование', 'сыграть свадьбу',\n",
       "       'операции с жильем', 'образование', 'на проведение свадьбы',\n",
       "       'покупка жилья для семьи', 'покупка недвижимости',\n",
       "       'покупка коммерческой недвижимости', 'покупка жилой недвижимости',\n",
       "       'строительство собственной недвижимости', 'недвижимость',\n",
       "       'строительство недвижимости', 'на покупку подержанного автомобиля',\n",
       "       'на покупку своего автомобиля',\n",
       "       'операции с коммерческой недвижимостью',\n",
       "       'строительство жилой недвижимости', 'жилье',\n",
       "       'операции со своей недвижимостью', 'автомобили',\n",
       "       'заняться образованием', 'сделка с подержанным автомобилем',\n",
       "       'получение образования', 'автомобиль', 'свадьба',\n",
       "       'получение дополнительного образования', 'покупка своего жилья',\n",
       "       'операции с недвижимостью', 'получение высшего образования',\n",
       "       'свой автомобиль', 'сделка с автомобилем',\n",
       "       'профильное образование', 'высшее образование',\n",
       "       'покупка жилья для сдачи', 'на покупку автомобиля', 'ремонт жилью',\n",
       "       'заняться высшим образованием'], dtype=object)"
      ]
     },
     "execution_count": 45,
     "metadata": {},
     "output_type": "execute_result"
    }
   ],
   "source": [
    "#Проверка остальных столбцов\n",
    "data['family_status'].unique()\n",
    "data['gender'].unique()\n",
    "data['purpose'].unique()"
   ]
  },
  {
   "cell_type": "markdown",
   "id": "ccc4faa2",
   "metadata": {},
   "source": [
    "<div class=\"alert alert-block alert-info\">\n",
    "    Для определения явных дубликатов можно использовать метод duplicted() и метод sum() для подсчета дубликатов.     \n",
    "    Для удаления дубликатов из таблицы, то есть повторяющихся записей используется метод drop_duplicates().    \n",
    "    Для обнаружения неявных дубликатов можно использовать методы unique(), а также метод value_counts().\n",
    "    Дубликаты могут возникать по причине человеческого фактора, а также по причине технологического фактора.   \n",
    "</div>"
   ]
  },
  {
   "cell_type": "markdown",
   "id": "6451899f",
   "metadata": {},
   "source": [
    "### Шаг 2.5. Формирование дополнительных датафреймов словарей, декомпозиция исходного датафрейма. <a id=\"decomposition\"></a>"
   ]
  },
  {
   "cell_type": "code",
   "execution_count": 46,
   "id": "4a688f21",
   "metadata": {},
   "outputs": [],
   "source": [
    "#Создание новых датафреймов\n",
    "education = data[['education_id', 'education']].drop_duplicates().reset_index(drop=True)\n",
    "family_status = data[['family_status_id', 'family_status']].drop_duplicates().reset_index(drop=True)\n",
    "\n",
    "#Удалим столбцы education и family_status из исходного датафрейма\n",
    "data.drop('education', axis=1, inplace=True)\n",
    "data.drop('family_status', axis=1, inplace=True)"
   ]
  },
  {
   "cell_type": "markdown",
   "id": "0efff8ee",
   "metadata": {},
   "source": [
    "### Шаг 2.6. Категоризация дохода. <a id=\"categorization\"></a>"
   ]
  },
  {
   "cell_type": "code",
   "execution_count": 47,
   "id": "40f3c38e",
   "metadata": {},
   "outputs": [],
   "source": [
    "#Создадим функцию для категоризации дохода\n",
    "def income_category(income):\n",
    "    if income < 30000:\n",
    "        return 'E'\n",
    "    if 30001 <= income < 50000:\n",
    "        return 'D'\n",
    "    if 50001 <= income < 200000:\n",
    "        return 'C'\n",
    "    if 200001 <= income < 1000000:\n",
    "        return 'B'\n",
    "    \n",
    "    return 'A'    "
   ]
  },
  {
   "cell_type": "code",
   "execution_count": 48,
   "id": "68461f0a",
   "metadata": {},
   "outputs": [],
   "source": [
    "#Создадим в исходном датафрейме дополнительный столбец\n",
    "data['total_income_category'] = data['total_income'].apply(income_category)"
   ]
  },
  {
   "cell_type": "markdown",
   "id": "68def6e8",
   "metadata": {},
   "source": [
    "### Шаг 2.7. Категоризация целей кредита. <a id=\"categorization2\"></a>"
   ]
  },
  {
   "cell_type": "code",
   "execution_count": 49,
   "id": "65542551",
   "metadata": {},
   "outputs": [],
   "source": [
    "#создадим списки с одинаковыми по смыслу целями\n",
    "realty = ['покупка жилья', 'операции с жильем', 'покупка жилья для семьи', 'жилье', 'покупка своего жилья', 'покупка жилья для сдачи', 'ремонт жилью']\n",
    "car = ['приобретение автомобиля', 'на покупку подержанного автомобиля', 'на покупку своего автомобиля', 'автомобили', 'сделка с подержанным автомобилем', 'автомобиль', 'свой автомобиль', 'сделка с автомобилем', 'на покупку автомобиля', 'покупка недвижимости', 'покупка коммерческой недвижимости', 'покупка жилой недвижимости', 'строительство собственной недвижимости', 'недвижимость', 'строительство недвижимости', 'операции с коммерческой недвижимостью', 'строительство жилой недвижимости', 'операции со своей недвижимостью', 'операции с недвижимостью']\n",
    "education = ['дополнительное образование', 'образование', 'заняться образованием', 'получение образования', 'получение дополнительного образования', 'получение высшего образования', 'профильное образование', 'высшее образование', 'заняться высшим образованием']\n",
    "wedding = ['сыграть свадьбу','на проведение свадьбы', 'свадьба']\n",
    "\n",
    "#Определяем функцию\n",
    "def purpose_duplicates(purpose):\n",
    "    if purpose in realty:\n",
    "        return 'операции с недвижимостью'\n",
    "    if purpose in car:\n",
    "        return 'операции с автомобилем'\n",
    "    if purpose in education:\n",
    "        return 'получение образования'\n",
    "    if purpose in wedding:\n",
    "        return 'проведение свадьбы'\n",
    "    \n",
    "    return purpose"
   ]
  },
  {
   "cell_type": "code",
   "execution_count": 50,
   "id": "8c3d2b62",
   "metadata": {},
   "outputs": [],
   "source": [
    "#Создаем новый столбец при помощи метода apply\n",
    "data['purpose_category'] = data['purpose'].apply(purpose_duplicates)"
   ]
  },
  {
   "cell_type": "code",
   "execution_count": 51,
   "id": "1b3efe0e",
   "metadata": {},
   "outputs": [
    {
     "data": {
      "text/plain": [
       "array(['операции с недвижимостью', 'операции с автомобилем',\n",
       "       'получение образования', 'проведение свадьбы'], dtype=object)"
      ]
     },
     "execution_count": 51,
     "metadata": {},
     "output_type": "execute_result"
    }
   ],
   "source": [
    "#Проверяем результат\n",
    "data['purpose_category'].unique()"
   ]
  },
  {
   "cell_type": "markdown",
   "id": "d390c397",
   "metadata": {},
   "source": [
    "<div class=\"alert alert-block alert-info\">\n",
    "Предобработка данных включала несколько этапов. На первом этапе были рассмотрены пропущенные значения. Пропуски в столбцах с количественными перменными были заполнены медианным значением, поскольку среднее значение некорректно характеризует данные, когда некоторые значения сильно выделяются среди большинства. Далее данные были проверены на аномалии, которые были обработаны. Аномалии могут возникать как ошибка в результате человеческого фактора, также в результате технолгической ошибки. Данные могут быть представлены в разных единицах измерения, могут просто отсутствовать. С аномалиями нужно разбираться, для того, чтобы правильно ответить на вопрос поставленной задачи.\n",
    "Далее данные были преобразованы к необходимому типу, также были удалены явные и неявные дубликаты. Категоризация дохода была проивзедена в соответсвии с размером дохода. Цели кредита были категоризированы в зависимости от описания.\n",
    "</div>"
   ]
  },
  {
   "cell_type": "markdown",
   "id": "02e9715f",
   "metadata": {},
   "source": [
    "### Ответы на вопросы. <a id=\"questions\"></a>"
   ]
  },
  {
   "cell_type": "markdown",
   "id": "9a17f7ff",
   "metadata": {},
   "source": [
    "<div class=\"alert alert-block alert-info\">\n",
    "        Для ответа на поставленные вопросы необходимо сначала сгруппировать таблицу по соответствующему полю и посчитать общее количество записей для каждой группы из поля debt. Значение 0 для поля debt означает, что долгов по кредиту не было. Запишем сумму по двум группам в отдельный столбец total, а дальше посчитаем отношение столбца debt 0 к столбцу total. Получим значения в процентах, далее отсортируем по убыванию поля part.\n",
    "</div>    \n"
   ]
  },
  {
   "cell_type": "markdown",
   "id": "5591d8e6",
   "metadata": {},
   "source": [
    "##### Вопрос 1:"
   ]
  },
  {
   "cell_type": "markdown",
   "id": "1b8da1b2",
   "metadata": {},
   "source": [
    "<div class=\"alert alert-block alert-info\">\n",
    "<b>Зависимость между количеством детей и вовратом кредита в срок</b>\n",
    "</div>    "
   ]
  },
  {
   "cell_type": "code",
   "execution_count": 52,
   "id": "a40f1c48",
   "metadata": {},
   "outputs": [
    {
     "data": {
      "text/html": [
       "<div>\n",
       "<style scoped>\n",
       "    .dataframe tbody tr th:only-of-type {\n",
       "        vertical-align: middle;\n",
       "    }\n",
       "\n",
       "    .dataframe tbody tr th {\n",
       "        vertical-align: top;\n",
       "    }\n",
       "\n",
       "    .dataframe thead th {\n",
       "        text-align: right;\n",
       "    }\n",
       "</style>\n",
       "<table border=\"1\" class=\"dataframe\">\n",
       "  <thead>\n",
       "    <tr style=\"text-align: right;\">\n",
       "      <th>debt</th>\n",
       "      <th>0</th>\n",
       "      <th>1</th>\n",
       "      <th>total</th>\n",
       "      <th>part</th>\n",
       "    </tr>\n",
       "    <tr>\n",
       "      <th>children</th>\n",
       "      <th></th>\n",
       "      <th></th>\n",
       "      <th></th>\n",
       "      <th></th>\n",
       "    </tr>\n",
       "  </thead>\n",
       "  <tbody>\n",
       "    <tr>\n",
       "      <th>5</th>\n",
       "      <td>9.0</td>\n",
       "      <td>0.0</td>\n",
       "      <td>9.0</td>\n",
       "      <td>100.000000</td>\n",
       "    </tr>\n",
       "    <tr>\n",
       "      <th>0</th>\n",
       "      <td>13043.0</td>\n",
       "      <td>1063.0</td>\n",
       "      <td>14106.0</td>\n",
       "      <td>92.464200</td>\n",
       "    </tr>\n",
       "    <tr>\n",
       "      <th>3</th>\n",
       "      <td>303.0</td>\n",
       "      <td>27.0</td>\n",
       "      <td>330.0</td>\n",
       "      <td>91.818182</td>\n",
       "    </tr>\n",
       "    <tr>\n",
       "      <th>1</th>\n",
       "      <td>4479.0</td>\n",
       "      <td>453.0</td>\n",
       "      <td>4932.0</td>\n",
       "      <td>90.815085</td>\n",
       "    </tr>\n",
       "    <tr>\n",
       "      <th>2</th>\n",
       "      <td>1858.0</td>\n",
       "      <td>194.0</td>\n",
       "      <td>2052.0</td>\n",
       "      <td>90.545809</td>\n",
       "    </tr>\n",
       "    <tr>\n",
       "      <th>4</th>\n",
       "      <td>37.0</td>\n",
       "      <td>4.0</td>\n",
       "      <td>41.0</td>\n",
       "      <td>90.243902</td>\n",
       "    </tr>\n",
       "  </tbody>\n",
       "</table>\n",
       "</div>"
      ],
      "text/plain": [
       "debt            0       1    total        part\n",
       "children                                      \n",
       "5             9.0     0.0      9.0  100.000000\n",
       "0         13043.0  1063.0  14106.0   92.464200\n",
       "3           303.0    27.0    330.0   91.818182\n",
       "1          4479.0   453.0   4932.0   90.815085\n",
       "2          1858.0   194.0   2052.0   90.545809\n",
       "4            37.0     4.0     41.0   90.243902"
      ]
     },
     "execution_count": 52,
     "metadata": {},
     "output_type": "execute_result"
    }
   ],
   "source": [
    "#создаем сводную таблицу\n",
    "data_pivot = data.pivot_table(index=['children'], columns='debt', values='dob_years', aggfunc='count')\n",
    "\n",
    "#заполняем пропуски 0 для дальнейшего корректного расчета\n",
    "data_pivot = data_pivot.fillna(0)\n",
    "\n",
    "#записываем в столбец total сумму столбцов 0 и 1\n",
    "data_pivot['total'] = data_pivot[0] + data_pivot[1]\n",
    "\n",
    "#записываем в столбец part отношение столбца 0 к общей сумме для каждой группы в процентах\n",
    "data_pivot['part'] = (data_pivot[0] / data_pivot['total']) * 100 \n",
    "\n",
    "#Выводим таблицу в остортированном по полю part виде\n",
    "data_pivot.sort_values(by='part', ascending=False)"
   ]
  },
  {
   "cell_type": "markdown",
   "id": "11692372",
   "metadata": {},
   "source": [
    "##### Вывод 1:"
   ]
  },
  {
   "cell_type": "markdown",
   "id": "d987eef5",
   "metadata": {},
   "source": [
    "<div class=\"alert alert-block alert-info\">\n",
    "Клиенты, имеющие 5 детей, всегда возвращают кредит в срок. Однако, они составляют незначительную долю в выборке. Наиболее многочисленной группой является группа без детей, а также у этой группы самый высокий процент возврата кредита в срок после 5-детных. Наименьший процент возврата кредита в срок имеет группа с 4-мя детьми.\n",
    "</div> "
   ]
  },
  {
   "cell_type": "markdown",
   "id": "e6f76d64",
   "metadata": {},
   "source": [
    "##### Вопрос 2:"
   ]
  },
  {
   "cell_type": "markdown",
   "id": "b0cd890c",
   "metadata": {},
   "source": [
    "<div class=\"alert alert-block alert-info\">\n",
    "<b>Зависимость между семейным положением и вовратом кредита в срок</b>\n",
    "</div>"
   ]
  },
  {
   "cell_type": "code",
   "execution_count": 53,
   "id": "fb04e62c",
   "metadata": {},
   "outputs": [
    {
     "data": {
      "text/html": [
       "<div>\n",
       "<style scoped>\n",
       "    .dataframe tbody tr th:only-of-type {\n",
       "        vertical-align: middle;\n",
       "    }\n",
       "\n",
       "    .dataframe tbody tr th {\n",
       "        vertical-align: top;\n",
       "    }\n",
       "\n",
       "    .dataframe thead th {\n",
       "        text-align: right;\n",
       "    }\n",
       "</style>\n",
       "<table border=\"1\" class=\"dataframe\">\n",
       "  <thead>\n",
       "    <tr style=\"text-align: right;\">\n",
       "      <th>debt</th>\n",
       "      <th>0</th>\n",
       "      <th>1</th>\n",
       "      <th>total</th>\n",
       "      <th>part</th>\n",
       "    </tr>\n",
       "    <tr>\n",
       "      <th>family_status_id</th>\n",
       "      <th></th>\n",
       "      <th></th>\n",
       "      <th></th>\n",
       "      <th></th>\n",
       "    </tr>\n",
       "  </thead>\n",
       "  <tbody>\n",
       "    <tr>\n",
       "      <th>2</th>\n",
       "      <td>896</td>\n",
       "      <td>63</td>\n",
       "      <td>959</td>\n",
       "      <td>93.430657</td>\n",
       "    </tr>\n",
       "    <tr>\n",
       "      <th>3</th>\n",
       "      <td>1110</td>\n",
       "      <td>85</td>\n",
       "      <td>1195</td>\n",
       "      <td>92.887029</td>\n",
       "    </tr>\n",
       "    <tr>\n",
       "      <th>0</th>\n",
       "      <td>11413</td>\n",
       "      <td>931</td>\n",
       "      <td>12344</td>\n",
       "      <td>92.457874</td>\n",
       "    </tr>\n",
       "    <tr>\n",
       "      <th>1</th>\n",
       "      <td>3774</td>\n",
       "      <td>388</td>\n",
       "      <td>4162</td>\n",
       "      <td>90.677559</td>\n",
       "    </tr>\n",
       "    <tr>\n",
       "      <th>4</th>\n",
       "      <td>2536</td>\n",
       "      <td>274</td>\n",
       "      <td>2810</td>\n",
       "      <td>90.249110</td>\n",
       "    </tr>\n",
       "  </tbody>\n",
       "</table>\n",
       "</div>"
      ],
      "text/plain": [
       "debt                  0    1  total       part\n",
       "family_status_id                              \n",
       "2                   896   63    959  93.430657\n",
       "3                  1110   85   1195  92.887029\n",
       "0                 11413  931  12344  92.457874\n",
       "1                  3774  388   4162  90.677559\n",
       "4                  2536  274   2810  90.249110"
      ]
     },
     "execution_count": 53,
     "metadata": {},
     "output_type": "execute_result"
    }
   ],
   "source": [
    "#создаем сводную таблицу\n",
    "data_pivot = data.pivot_table(index=['family_status_id'], columns='debt', values='dob_years', aggfunc='count')\n",
    "\n",
    "#записываем в столбец total сумму столбцов 0 и 1\n",
    "data_pivot['total'] = data_pivot[0] + data_pivot[1]\n",
    "\n",
    "#записываем в столбец part отношение столбца 0 к общей сумме для каждой группы в процентах\n",
    "data_pivot['part'] = (data_pivot[0] / data_pivot['total']) * 100 \n",
    "\n",
    "#Выводим таблицу в остортированном по полю part виде\n",
    "data_pivot.sort_values(by='part', ascending=False)"
   ]
  },
  {
   "cell_type": "code",
   "execution_count": 54,
   "id": "6e3a841f",
   "metadata": {},
   "outputs": [
    {
     "data": {
      "text/html": [
       "<div>\n",
       "<style scoped>\n",
       "    .dataframe tbody tr th:only-of-type {\n",
       "        vertical-align: middle;\n",
       "    }\n",
       "\n",
       "    .dataframe tbody tr th {\n",
       "        vertical-align: top;\n",
       "    }\n",
       "\n",
       "    .dataframe thead th {\n",
       "        text-align: right;\n",
       "    }\n",
       "</style>\n",
       "<table border=\"1\" class=\"dataframe\">\n",
       "  <thead>\n",
       "    <tr style=\"text-align: right;\">\n",
       "      <th></th>\n",
       "      <th>family_status_id</th>\n",
       "      <th>family_status</th>\n",
       "    </tr>\n",
       "  </thead>\n",
       "  <tbody>\n",
       "    <tr>\n",
       "      <th>0</th>\n",
       "      <td>0</td>\n",
       "      <td>женат / замужем</td>\n",
       "    </tr>\n",
       "    <tr>\n",
       "      <th>1</th>\n",
       "      <td>1</td>\n",
       "      <td>гражданский брак</td>\n",
       "    </tr>\n",
       "    <tr>\n",
       "      <th>2</th>\n",
       "      <td>2</td>\n",
       "      <td>вдовец / вдова</td>\n",
       "    </tr>\n",
       "    <tr>\n",
       "      <th>3</th>\n",
       "      <td>3</td>\n",
       "      <td>в разводе</td>\n",
       "    </tr>\n",
       "    <tr>\n",
       "      <th>4</th>\n",
       "      <td>4</td>\n",
       "      <td>Не женат / не замужем</td>\n",
       "    </tr>\n",
       "  </tbody>\n",
       "</table>\n",
       "</div>"
      ],
      "text/plain": [
       "   family_status_id          family_status\n",
       "0                 0        женат / замужем\n",
       "1                 1       гражданский брак\n",
       "2                 2         вдовец / вдова\n",
       "3                 3              в разводе\n",
       "4                 4  Не женат / не замужем"
      ]
     },
     "execution_count": 54,
     "metadata": {},
     "output_type": "execute_result"
    }
   ],
   "source": [
    "family_status"
   ]
  },
  {
   "cell_type": "markdown",
   "id": "ee3d8967",
   "metadata": {},
   "source": [
    "##### Вывод 2:"
   ]
  },
  {
   "cell_type": "markdown",
   "id": "5f4e935c",
   "metadata": {},
   "source": [
    "<div class=\"alert alert-block alert-info\">\n",
    "\n",
    "Клиенты, которые являются вдовцами, имеют самый высокий процент возврата кредита в срок. Наиболее многочисленная группа женатых находятся в середине.  Наименьший процент возврата кредита в срок имеет группа неженатых.\n",
    "</div>"
   ]
  },
  {
   "cell_type": "markdown",
   "id": "d7e52489",
   "metadata": {},
   "source": [
    "##### Вопрос 3:"
   ]
  },
  {
   "cell_type": "markdown",
   "id": "56470383",
   "metadata": {},
   "source": [
    "<div class=\"alert alert-block alert-info\">\n",
    "  \n",
    "<b>Зависимость между уровнем дохода и возвратом кредита в срок</b>    \n",
    "</div>"
   ]
  },
  {
   "cell_type": "code",
   "execution_count": 55,
   "id": "e626efb6",
   "metadata": {},
   "outputs": [
    {
     "data": {
      "text/html": [
       "<div>\n",
       "<style scoped>\n",
       "    .dataframe tbody tr th:only-of-type {\n",
       "        vertical-align: middle;\n",
       "    }\n",
       "\n",
       "    .dataframe tbody tr th {\n",
       "        vertical-align: top;\n",
       "    }\n",
       "\n",
       "    .dataframe thead th {\n",
       "        text-align: right;\n",
       "    }\n",
       "</style>\n",
       "<table border=\"1\" class=\"dataframe\">\n",
       "  <thead>\n",
       "    <tr style=\"text-align: right;\">\n",
       "      <th>debt</th>\n",
       "      <th>0</th>\n",
       "      <th>1</th>\n",
       "      <th>total</th>\n",
       "      <th>part</th>\n",
       "    </tr>\n",
       "    <tr>\n",
       "      <th>total_income_category</th>\n",
       "      <th></th>\n",
       "      <th></th>\n",
       "      <th></th>\n",
       "      <th></th>\n",
       "    </tr>\n",
       "  </thead>\n",
       "  <tbody>\n",
       "    <tr>\n",
       "      <th>D</th>\n",
       "      <td>329</td>\n",
       "      <td>21</td>\n",
       "      <td>350</td>\n",
       "      <td>94.000000</td>\n",
       "    </tr>\n",
       "    <tr>\n",
       "      <th>B</th>\n",
       "      <td>4684</td>\n",
       "      <td>356</td>\n",
       "      <td>5040</td>\n",
       "      <td>92.936508</td>\n",
       "    </tr>\n",
       "    <tr>\n",
       "      <th>A</th>\n",
       "      <td>23</td>\n",
       "      <td>2</td>\n",
       "      <td>25</td>\n",
       "      <td>92.000000</td>\n",
       "    </tr>\n",
       "    <tr>\n",
       "      <th>C</th>\n",
       "      <td>14673</td>\n",
       "      <td>1360</td>\n",
       "      <td>16033</td>\n",
       "      <td>91.517495</td>\n",
       "    </tr>\n",
       "    <tr>\n",
       "      <th>E</th>\n",
       "      <td>20</td>\n",
       "      <td>2</td>\n",
       "      <td>22</td>\n",
       "      <td>90.909091</td>\n",
       "    </tr>\n",
       "  </tbody>\n",
       "</table>\n",
       "</div>"
      ],
      "text/plain": [
       "debt                       0     1  total       part\n",
       "total_income_category                               \n",
       "D                        329    21    350  94.000000\n",
       "B                       4684   356   5040  92.936508\n",
       "A                         23     2     25  92.000000\n",
       "C                      14673  1360  16033  91.517495\n",
       "E                         20     2     22  90.909091"
      ]
     },
     "execution_count": 55,
     "metadata": {},
     "output_type": "execute_result"
    }
   ],
   "source": [
    "#создаем сводную таблицу\n",
    "data_pivot = data.pivot_table(index=['total_income_category'], columns='debt', values='dob_years', aggfunc='count')\n",
    "\n",
    "#записываем в столбец total сумму столбцов 0 и 1\n",
    "data_pivot['total'] = data_pivot[0] + data_pivot[1]\n",
    "\n",
    "#записываем в столбец part отношение столбца 0 к общей сумме для каждой группы в процентах\n",
    "data_pivot['part'] = (data_pivot[0] / data_pivot['total']) * 100 \n",
    "\n",
    "#Выводим таблицу в остортированном по полю part виде\n",
    "data_pivot.sort_values(by='part', ascending=False)"
   ]
  },
  {
   "cell_type": "markdown",
   "id": "da1c53d9",
   "metadata": {},
   "source": [
    "##### Вывод 3:"
   ]
  },
  {
   "cell_type": "markdown",
   "id": "3694b4ef",
   "metadata": {},
   "source": [
    "<div class=\"alert alert-block alert-info\">\n",
    "Клиенты с уровнем дохода 30001 - 50000 являются наиболее добросовестными и возвращают кредит в срок. Самыми недобросовестными являются клиенты с доходом менее 30000. Самая многочисленная группа с доходом 50001 - 200000 находится на предпоследнем месте.\n",
    "</div>"
   ]
  },
  {
   "cell_type": "markdown",
   "id": "247bef9e",
   "metadata": {},
   "source": [
    "##### Вопрос 4:"
   ]
  },
  {
   "cell_type": "markdown",
   "id": "22cd6f2b",
   "metadata": {},
   "source": [
    "<div class=\"alert alert-block alert-info\">\n",
    "    \n",
    "<b>Влияние целей кредита на возврат в срок</b>\n",
    "</div>"
   ]
  },
  {
   "cell_type": "code",
   "execution_count": 56,
   "id": "cfa95835",
   "metadata": {},
   "outputs": [
    {
     "data": {
      "text/html": [
       "<div>\n",
       "<style scoped>\n",
       "    .dataframe tbody tr th:only-of-type {\n",
       "        vertical-align: middle;\n",
       "    }\n",
       "\n",
       "    .dataframe tbody tr th {\n",
       "        vertical-align: top;\n",
       "    }\n",
       "\n",
       "    .dataframe thead th {\n",
       "        text-align: right;\n",
       "    }\n",
       "</style>\n",
       "<table border=\"1\" class=\"dataframe\">\n",
       "  <thead>\n",
       "    <tr style=\"text-align: right;\">\n",
       "      <th>debt</th>\n",
       "      <th>0</th>\n",
       "      <th>1</th>\n",
       "      <th>total</th>\n",
       "      <th>part</th>\n",
       "    </tr>\n",
       "    <tr>\n",
       "      <th>purpose_category</th>\n",
       "      <th></th>\n",
       "      <th></th>\n",
       "      <th></th>\n",
       "      <th></th>\n",
       "    </tr>\n",
       "  </thead>\n",
       "  <tbody>\n",
       "    <tr>\n",
       "      <th>операции с недвижимостью</th>\n",
       "      <td>4153</td>\n",
       "      <td>308</td>\n",
       "      <td>4461</td>\n",
       "      <td>93.095718</td>\n",
       "    </tr>\n",
       "    <tr>\n",
       "      <th>проведение свадьбы</th>\n",
       "      <td>2149</td>\n",
       "      <td>186</td>\n",
       "      <td>2335</td>\n",
       "      <td>92.034261</td>\n",
       "    </tr>\n",
       "    <tr>\n",
       "      <th>операции с автомобилем</th>\n",
       "      <td>9783</td>\n",
       "      <td>877</td>\n",
       "      <td>10660</td>\n",
       "      <td>91.772983</td>\n",
       "    </tr>\n",
       "    <tr>\n",
       "      <th>получение образования</th>\n",
       "      <td>3644</td>\n",
       "      <td>370</td>\n",
       "      <td>4014</td>\n",
       "      <td>90.782262</td>\n",
       "    </tr>\n",
       "  </tbody>\n",
       "</table>\n",
       "</div>"
      ],
      "text/plain": [
       "debt                         0    1  total       part\n",
       "purpose_category                                     \n",
       "операции с недвижимостью  4153  308   4461  93.095718\n",
       "проведение свадьбы        2149  186   2335  92.034261\n",
       "операции с автомобилем    9783  877  10660  91.772983\n",
       "получение образования     3644  370   4014  90.782262"
      ]
     },
     "execution_count": 56,
     "metadata": {},
     "output_type": "execute_result"
    }
   ],
   "source": [
    "#создаем сводную таблицу\n",
    "data_pivot = data.pivot_table(index=['purpose_category'], columns='debt', values='dob_years', aggfunc='count')\n",
    "\n",
    "#записываем в столбец total сумму столбцов 0 и 1\n",
    "data_pivot['total'] = data_pivot[0] + data_pivot[1]\n",
    "\n",
    "#записываем в столбец part отношение столбца 0 к общей сумме для каждой группы в процентах\n",
    "data_pivot['part'] = (data_pivot[0] / data_pivot['total']) * 100 \n",
    "\n",
    "#Выводим таблицу в остортированном по полю part виде\n",
    "data_pivot.sort_values(by='part', ascending=False)"
   ]
  },
  {
   "cell_type": "markdown",
   "id": "385f363b",
   "metadata": {},
   "source": [
    "##### Вывод 4:"
   ]
  },
  {
   "cell_type": "markdown",
   "id": "727cfe67",
   "metadata": {},
   "source": [
    "<div class=\"alert alert-block alert-info\">\n",
    "\n",
    "Клиенты, цель которых операции с недвижимостью, имеет самый высокий процент возврата кредита в срок по сравнению с другими группами. Наименьший процент возврата у клиентов, которые берут кредит на получение образования.    \n",
    "</div>    "
   ]
  },
  {
   "cell_type": "markdown",
   "id": "499c542d",
   "metadata": {},
   "source": [
    "## Общий вывод:"
   ]
  },
  {
   "cell_type": "markdown",
   "id": "a1d249f9",
   "metadata": {},
   "source": [
    "Таким образом, в данном проекте предобработали полученные данные, [заполнили пропуски](#filling), [разобрались с аномалиями](#anomilies), [изменили тип данных](#types), [обработали явные и неявные дубликаты](#delete), [осуществили категоризацию данных](#categorization). А также ответили на [поставленные вопросы](#questions).\n",
    "</div>"
   ]
  }
 ],
 "metadata": {
  "ExecuteTimeLog": [
   {
    "duration": 866,
    "start_time": "2022-02-21T06:13:00.566Z"
   },
   {
    "duration": 393,
    "start_time": "2022-02-21T06:13:23.226Z"
   },
   {
    "duration": 38,
    "start_time": "2022-02-21T06:13:27.398Z"
   },
   {
    "duration": 280,
    "start_time": "2022-02-21T06:13:31.481Z"
   },
   {
    "duration": 13,
    "start_time": "2022-02-21T06:13:35.430Z"
   },
   {
    "duration": 7,
    "start_time": "2022-02-21T06:35:57.261Z"
   },
   {
    "duration": 6,
    "start_time": "2022-02-21T06:36:03.641Z"
   },
   {
    "duration": 7,
    "start_time": "2022-02-21T06:36:31.203Z"
   },
   {
    "duration": 34,
    "start_time": "2022-02-21T06:36:53.026Z"
   },
   {
    "duration": 5,
    "start_time": "2022-02-21T06:38:13.501Z"
   },
   {
    "duration": 296,
    "start_time": "2022-02-21T07:16:34.299Z"
   },
   {
    "duration": 96,
    "start_time": "2022-02-21T07:16:45.708Z"
   },
   {
    "duration": 292,
    "start_time": "2022-02-21T07:16:50.510Z"
   },
   {
    "duration": 9,
    "start_time": "2022-02-21T07:16:57.419Z"
   },
   {
    "duration": 7,
    "start_time": "2022-02-21T07:18:49.750Z"
   },
   {
    "duration": 127,
    "start_time": "2022-02-21T08:58:41.903Z"
   },
   {
    "duration": 145,
    "start_time": "2022-02-21T08:59:19.017Z"
   },
   {
    "duration": 107,
    "start_time": "2022-02-21T08:59:25.028Z"
   },
   {
    "duration": 308,
    "start_time": "2022-02-21T09:05:02.634Z"
   },
   {
    "duration": 8,
    "start_time": "2022-02-21T09:05:07.251Z"
   },
   {
    "duration": 303,
    "start_time": "2022-02-21T09:05:11.331Z"
   },
   {
    "duration": 9,
    "start_time": "2022-02-21T09:05:16.242Z"
   },
   {
    "duration": 312,
    "start_time": "2022-02-21T09:05:24.228Z"
   },
   {
    "duration": 8,
    "start_time": "2022-02-21T09:05:27.862Z"
   },
   {
    "duration": 8,
    "start_time": "2022-02-21T09:05:34.963Z"
   },
   {
    "duration": 8,
    "start_time": "2022-02-21T09:05:41.685Z"
   },
   {
    "duration": 138,
    "start_time": "2022-02-21T09:06:49.987Z"
   },
   {
    "duration": 101,
    "start_time": "2022-02-21T09:17:07.263Z"
   },
   {
    "duration": 103,
    "start_time": "2022-02-21T09:17:24.609Z"
   },
   {
    "duration": 120,
    "start_time": "2022-02-21T09:17:40.034Z"
   },
   {
    "duration": 137,
    "start_time": "2022-02-21T09:18:06.880Z"
   },
   {
    "duration": 107,
    "start_time": "2022-02-21T09:18:20.893Z"
   },
   {
    "duration": 100,
    "start_time": "2022-02-21T09:18:37.361Z"
   },
   {
    "duration": 145,
    "start_time": "2022-02-21T09:18:42.313Z"
   },
   {
    "duration": 116,
    "start_time": "2022-02-21T09:18:45.369Z"
   },
   {
    "duration": 34,
    "start_time": "2022-02-21T09:24:03.777Z"
   },
   {
    "duration": 12,
    "start_time": "2022-02-21T09:25:44.343Z"
   },
   {
    "duration": 6,
    "start_time": "2022-02-21T09:25:56.539Z"
   },
   {
    "duration": 6,
    "start_time": "2022-02-21T09:26:02.962Z"
   },
   {
    "duration": 7,
    "start_time": "2022-02-21T09:26:08.615Z"
   },
   {
    "duration": 14,
    "start_time": "2022-02-21T09:58:15.842Z"
   },
   {
    "duration": 6,
    "start_time": "2022-02-21T11:02:00.263Z"
   },
   {
    "duration": 11,
    "start_time": "2022-02-21T11:02:43.966Z"
   },
   {
    "duration": 34,
    "start_time": "2022-02-21T11:56:08.007Z"
   },
   {
    "duration": 7116,
    "start_time": "2022-02-21T11:56:21.351Z"
   },
   {
    "duration": 34,
    "start_time": "2022-02-21T12:00:03.506Z"
   },
   {
    "duration": 9,
    "start_time": "2022-02-21T12:00:18.290Z"
   },
   {
    "duration": 8,
    "start_time": "2022-02-21T12:00:32.930Z"
   },
   {
    "duration": 6,
    "start_time": "2022-02-21T12:00:52.146Z"
   },
   {
    "duration": 6,
    "start_time": "2022-02-21T12:01:08.625Z"
   },
   {
    "duration": 5,
    "start_time": "2022-02-21T12:01:13.654Z"
   },
   {
    "duration": 6,
    "start_time": "2022-02-21T12:01:31.411Z"
   },
   {
    "duration": 34,
    "start_time": "2022-02-21T12:01:45.009Z"
   },
   {
    "duration": 8,
    "start_time": "2022-02-21T12:02:56.584Z"
   },
   {
    "duration": 6,
    "start_time": "2022-02-21T12:03:03.224Z"
   },
   {
    "duration": 6,
    "start_time": "2022-02-21T12:03:14.656Z"
   },
   {
    "duration": 8,
    "start_time": "2022-02-21T12:04:40.239Z"
   },
   {
    "duration": 1049,
    "start_time": "2022-02-21T12:04:51.357Z"
   },
   {
    "duration": 9,
    "start_time": "2022-02-21T12:05:05.391Z"
   },
   {
    "duration": 6,
    "start_time": "2022-02-21T12:05:05.911Z"
   },
   {
    "duration": 5,
    "start_time": "2022-02-21T12:05:14.415Z"
   },
   {
    "duration": 34,
    "start_time": "2022-02-21T12:15:22.685Z"
   },
   {
    "duration": 4,
    "start_time": "2022-02-21T12:32:07.483Z"
   },
   {
    "duration": 1450,
    "start_time": "2022-02-21T14:03:14.191Z"
   },
   {
    "duration": 3,
    "start_time": "2022-02-21T14:09:22.132Z"
   },
   {
    "duration": 1339,
    "start_time": "2022-02-21T14:09:22.563Z"
   },
   {
    "duration": 9,
    "start_time": "2022-02-21T14:09:28.875Z"
   },
   {
    "duration": 4,
    "start_time": "2022-02-21T14:09:29.892Z"
   },
   {
    "duration": 11,
    "start_time": "2022-02-21T14:09:30.099Z"
   },
   {
    "duration": 35,
    "start_time": "2022-02-21T14:09:42.308Z"
   },
   {
    "duration": 275,
    "start_time": "2022-02-21T14:09:53.271Z"
   },
   {
    "duration": 8,
    "start_time": "2022-02-21T14:10:14.971Z"
   },
   {
    "duration": 517,
    "start_time": "2022-02-21T17:56:00.741Z"
   },
   {
    "duration": 1246,
    "start_time": "2022-02-21T17:56:03.403Z"
   },
   {
    "duration": 42,
    "start_time": "2022-02-21T17:56:04.651Z"
   },
   {
    "duration": 81,
    "start_time": "2022-02-21T18:02:14.032Z"
   },
   {
    "duration": 28,
    "start_time": "2022-02-21T18:02:16.744Z"
   },
   {
    "duration": 8,
    "start_time": "2022-02-21T18:06:59.147Z"
   },
   {
    "duration": 10,
    "start_time": "2022-02-21T18:08:49.014Z"
   },
   {
    "duration": 12,
    "start_time": "2022-02-21T18:09:02.960Z"
   },
   {
    "duration": 7,
    "start_time": "2022-02-21T18:09:26.068Z"
   },
   {
    "duration": 70,
    "start_time": "2022-02-21T18:09:38.811Z"
   },
   {
    "duration": 21,
    "start_time": "2022-02-21T18:09:41.122Z"
   },
   {
    "duration": 19,
    "start_time": "2022-02-21T18:09:46.895Z"
   },
   {
    "duration": 9,
    "start_time": "2022-02-21T18:09:49.241Z"
   },
   {
    "duration": 7921,
    "start_time": "2022-02-21T18:09:49.928Z"
   },
   {
    "duration": -4569,
    "start_time": "2022-02-21T18:10:02.423Z"
   },
   {
    "duration": 7,
    "start_time": "2022-02-21T18:12:11.685Z"
   },
   {
    "duration": 6,
    "start_time": "2022-02-21T18:12:16.560Z"
   },
   {
    "duration": 7,
    "start_time": "2022-02-21T18:12:20.085Z"
   },
   {
    "duration": 8,
    "start_time": "2022-02-21T18:12:28.118Z"
   },
   {
    "duration": 7,
    "start_time": "2022-02-21T18:13:46.610Z"
   },
   {
    "duration": 9,
    "start_time": "2022-02-21T18:14:18.149Z"
   },
   {
    "duration": 8,
    "start_time": "2022-02-21T18:14:30.900Z"
   },
   {
    "duration": 8,
    "start_time": "2022-02-21T18:14:34.769Z"
   },
   {
    "duration": 8,
    "start_time": "2022-02-21T18:15:31.309Z"
   },
   {
    "duration": 7,
    "start_time": "2022-02-21T18:15:47.576Z"
   },
   {
    "duration": 6,
    "start_time": "2022-02-21T18:17:38.878Z"
   },
   {
    "duration": 6,
    "start_time": "2022-02-21T18:19:32.493Z"
   },
   {
    "duration": 7,
    "start_time": "2022-02-21T18:21:04.226Z"
   },
   {
    "duration": 8,
    "start_time": "2022-02-21T18:22:03.640Z"
   },
   {
    "duration": 19,
    "start_time": "2022-02-21T18:22:08.193Z"
   },
   {
    "duration": 10,
    "start_time": "2022-02-21T18:22:22.654Z"
   },
   {
    "duration": 14,
    "start_time": "2022-02-21T18:22:24.690Z"
   },
   {
    "duration": 16,
    "start_time": "2022-02-21T18:22:41.989Z"
   },
   {
    "duration": 6,
    "start_time": "2022-02-21T18:24:13.554Z"
   },
   {
    "duration": 330,
    "start_time": "2022-02-21T18:24:14.068Z"
   },
   {
    "duration": 102,
    "start_time": "2022-02-21T18:26:01.059Z"
   },
   {
    "duration": 19,
    "start_time": "2022-02-21T18:26:02.557Z"
   },
   {
    "duration": 21,
    "start_time": "2022-02-21T18:26:05.697Z"
   },
   {
    "duration": 8,
    "start_time": "2022-02-21T18:26:09.325Z"
   },
   {
    "duration": 6,
    "start_time": "2022-02-21T18:26:20.703Z"
   },
   {
    "duration": 32,
    "start_time": "2022-02-21T18:26:28.506Z"
   },
   {
    "duration": 9,
    "start_time": "2022-02-21T18:30:44.184Z"
   },
   {
    "duration": 18,
    "start_time": "2022-02-21T18:34:03.758Z"
   },
   {
    "duration": 20,
    "start_time": "2022-02-21T18:34:07.972Z"
   },
   {
    "duration": 364,
    "start_time": "2022-02-21T18:34:21.377Z"
   },
   {
    "duration": 115,
    "start_time": "2022-02-21T18:34:33.256Z"
   },
   {
    "duration": 12,
    "start_time": "2022-02-21T18:34:36.840Z"
   },
   {
    "duration": 12,
    "start_time": "2022-02-21T18:34:44.263Z"
   },
   {
    "duration": 8,
    "start_time": "2022-02-21T18:35:21.268Z"
   },
   {
    "duration": 9,
    "start_time": "2022-02-21T18:35:37.803Z"
   },
   {
    "duration": 6,
    "start_time": "2022-02-21T18:38:03.635Z"
   },
   {
    "duration": 15,
    "start_time": "2022-02-21T18:38:43.095Z"
   },
   {
    "duration": 5,
    "start_time": "2022-02-21T18:46:16.192Z"
   },
   {
    "duration": 9,
    "start_time": "2022-02-21T18:46:22.838Z"
   },
   {
    "duration": 7,
    "start_time": "2022-02-21T18:46:28.236Z"
   },
   {
    "duration": 6,
    "start_time": "2022-02-21T18:46:36.944Z"
   },
   {
    "duration": 7,
    "start_time": "2022-02-21T18:46:43.280Z"
   },
   {
    "duration": 7,
    "start_time": "2022-02-21T18:46:47.747Z"
   },
   {
    "duration": 4,
    "start_time": "2022-02-21T18:47:45.294Z"
   },
   {
    "duration": 5,
    "start_time": "2022-02-21T18:49:02.101Z"
   },
   {
    "duration": 8,
    "start_time": "2022-02-21T18:50:00.936Z"
   },
   {
    "duration": 5,
    "start_time": "2022-02-21T18:50:16.044Z"
   },
   {
    "duration": 5,
    "start_time": "2022-02-21T18:50:41.099Z"
   },
   {
    "duration": 15,
    "start_time": "2022-02-21T18:50:50.318Z"
   },
   {
    "duration": 15,
    "start_time": "2022-02-21T18:50:50.979Z"
   },
   {
    "duration": 7,
    "start_time": "2022-02-21T18:50:58.592Z"
   },
   {
    "duration": 329,
    "start_time": "2022-02-21T18:52:05.312Z"
   },
   {
    "duration": 8,
    "start_time": "2022-02-21T18:52:08.633Z"
   },
   {
    "duration": 35,
    "start_time": "2022-02-21T18:53:13.417Z"
   },
   {
    "duration": 12,
    "start_time": "2022-02-21T18:53:51.492Z"
   },
   {
    "duration": 11,
    "start_time": "2022-02-21T18:54:05.484Z"
   },
   {
    "duration": 10,
    "start_time": "2022-02-21T18:54:37.085Z"
   },
   {
    "duration": 12,
    "start_time": "2022-02-21T18:54:49.449Z"
   },
   {
    "duration": 7,
    "start_time": "2022-02-21T18:54:59.601Z"
   },
   {
    "duration": 7,
    "start_time": "2022-02-21T18:55:00.062Z"
   },
   {
    "duration": 8,
    "start_time": "2022-02-21T18:55:05.579Z"
   },
   {
    "duration": 7,
    "start_time": "2022-02-21T18:55:10.648Z"
   },
   {
    "duration": 9,
    "start_time": "2022-02-21T18:55:17.614Z"
   },
   {
    "duration": 7,
    "start_time": "2022-02-21T18:55:25.997Z"
   },
   {
    "duration": 11,
    "start_time": "2022-02-21T18:55:33.471Z"
   },
   {
    "duration": 8,
    "start_time": "2022-02-21T18:55:37.595Z"
   },
   {
    "duration": 7,
    "start_time": "2022-02-21T18:55:41.759Z"
   },
   {
    "duration": 8,
    "start_time": "2022-02-21T18:55:45.684Z"
   },
   {
    "duration": 7,
    "start_time": "2022-02-21T18:55:48.990Z"
   },
   {
    "duration": 7,
    "start_time": "2022-02-21T18:55:52.693Z"
   },
   {
    "duration": 7,
    "start_time": "2022-02-21T18:55:58.803Z"
   },
   {
    "duration": 8,
    "start_time": "2022-02-21T18:56:02.048Z"
   },
   {
    "duration": 8,
    "start_time": "2022-02-21T18:56:04.967Z"
   },
   {
    "duration": 7,
    "start_time": "2022-02-21T18:56:10.491Z"
   },
   {
    "duration": 8,
    "start_time": "2022-02-21T18:56:14.257Z"
   },
   {
    "duration": 8,
    "start_time": "2022-02-21T18:56:32.951Z"
   },
   {
    "duration": 9,
    "start_time": "2022-02-21T18:56:38.662Z"
   },
   {
    "duration": 8,
    "start_time": "2022-02-21T18:56:42.205Z"
   },
   {
    "duration": 11,
    "start_time": "2022-02-21T18:56:45.561Z"
   },
   {
    "duration": 13,
    "start_time": "2022-02-21T18:56:52.899Z"
   },
   {
    "duration": 8,
    "start_time": "2022-02-21T18:56:57.621Z"
   },
   {
    "duration": 9,
    "start_time": "2022-02-21T18:57:01.232Z"
   },
   {
    "duration": 8,
    "start_time": "2022-02-21T18:57:04.259Z"
   },
   {
    "duration": 8,
    "start_time": "2022-02-21T18:57:07.509Z"
   },
   {
    "duration": 8,
    "start_time": "2022-02-21T18:57:10.250Z"
   },
   {
    "duration": 9,
    "start_time": "2022-02-21T18:57:14.185Z"
   },
   {
    "duration": 8,
    "start_time": "2022-02-21T18:57:27.508Z"
   },
   {
    "duration": 11,
    "start_time": "2022-02-21T18:57:36.991Z"
   },
   {
    "duration": 9,
    "start_time": "2022-02-21T18:57:41.437Z"
   },
   {
    "duration": 9,
    "start_time": "2022-02-21T18:57:48.536Z"
   },
   {
    "duration": 8,
    "start_time": "2022-02-21T18:57:53.673Z"
   },
   {
    "duration": 9,
    "start_time": "2022-02-21T18:57:56.834Z"
   },
   {
    "duration": 56,
    "start_time": "2022-02-21T19:00:36.581Z"
   },
   {
    "duration": 13,
    "start_time": "2022-02-21T19:02:27.849Z"
   },
   {
    "duration": 334,
    "start_time": "2022-02-21T19:02:52.078Z"
   },
   {
    "duration": 9,
    "start_time": "2022-02-21T19:03:07.750Z"
   },
   {
    "duration": 7,
    "start_time": "2022-02-21T19:03:13.292Z"
   },
   {
    "duration": 9,
    "start_time": "2022-02-21T19:04:03.444Z"
   },
   {
    "duration": 14,
    "start_time": "2022-02-21T19:04:07.839Z"
   },
   {
    "duration": 17,
    "start_time": "2022-02-21T19:05:06.735Z"
   },
   {
    "duration": 120,
    "start_time": "2022-02-21T19:05:34.447Z"
   },
   {
    "duration": 4,
    "start_time": "2022-02-21T19:06:40.711Z"
   },
   {
    "duration": 18,
    "start_time": "2022-02-21T19:07:43.419Z"
   },
   {
    "duration": 51,
    "start_time": "2022-02-21T19:07:50.491Z"
   },
   {
    "duration": 13,
    "start_time": "2022-02-21T19:08:04.196Z"
   },
   {
    "duration": 2047,
    "start_time": "2022-02-21T19:09:39.977Z"
   },
   {
    "duration": 6965,
    "start_time": "2022-02-21T19:09:52.928Z"
   },
   {
    "duration": 6675,
    "start_time": "2022-02-21T19:10:11.196Z"
   },
   {
    "duration": 7,
    "start_time": "2022-02-21T19:11:54.037Z"
   },
   {
    "duration": 7,
    "start_time": "2022-02-21T19:13:25.973Z"
   },
   {
    "duration": 7,
    "start_time": "2022-02-21T19:13:36.897Z"
   },
   {
    "duration": 7,
    "start_time": "2022-02-21T19:20:53.477Z"
   },
   {
    "duration": 57,
    "start_time": "2022-02-21T19:21:36.740Z"
   },
   {
    "duration": 39,
    "start_time": "2022-02-21T19:21:45.187Z"
   },
   {
    "duration": 461,
    "start_time": "2022-02-21T19:22:13.525Z"
   },
   {
    "duration": 356,
    "start_time": "2022-02-21T19:22:18.635Z"
   },
   {
    "duration": 8,
    "start_time": "2022-02-21T19:22:40.833Z"
   },
   {
    "duration": 15,
    "start_time": "2022-02-21T19:22:41.471Z"
   },
   {
    "duration": 9,
    "start_time": "2022-02-21T19:24:31.353Z"
   },
   {
    "duration": 39,
    "start_time": "2022-02-21T19:24:39.297Z"
   },
   {
    "duration": 65,
    "start_time": "2022-02-21T19:25:31.847Z"
   },
   {
    "duration": 46,
    "start_time": "2022-02-21T19:25:50.610Z"
   },
   {
    "duration": 44,
    "start_time": "2022-02-21T19:26:50.074Z"
   },
   {
    "duration": 282,
    "start_time": "2022-02-21T19:29:15.666Z"
   },
   {
    "duration": 8,
    "start_time": "2022-02-21T19:29:19.559Z"
   },
   {
    "duration": 8,
    "start_time": "2022-02-21T19:29:22.437Z"
   },
   {
    "duration": 26,
    "start_time": "2022-02-21T19:32:27.834Z"
   },
   {
    "duration": 7,
    "start_time": "2022-02-21T19:34:35.501Z"
   },
   {
    "duration": 6,
    "start_time": "2022-02-21T19:34:46.258Z"
   },
   {
    "duration": 312,
    "start_time": "2022-02-21T19:39:41.829Z"
   },
   {
    "duration": 5,
    "start_time": "2022-02-21T19:39:46.506Z"
   },
   {
    "duration": 293,
    "start_time": "2022-02-21T19:39:46.570Z"
   },
   {
    "duration": 792,
    "start_time": "2022-02-21T19:40:02.540Z"
   },
   {
    "duration": 9,
    "start_time": "2022-02-21T19:40:12.121Z"
   },
   {
    "duration": 11,
    "start_time": "2022-02-21T19:40:47.859Z"
   },
   {
    "duration": 11,
    "start_time": "2022-02-21T19:41:10.211Z"
   },
   {
    "duration": 303,
    "start_time": "2022-02-22T08:10:56.993Z"
   },
   {
    "duration": 249,
    "start_time": "2022-02-22T08:11:01.930Z"
   },
   {
    "duration": 239,
    "start_time": "2022-02-22T08:11:15.649Z"
   },
   {
    "duration": 743,
    "start_time": "2022-02-22T08:11:20.330Z"
   },
   {
    "duration": 19,
    "start_time": "2022-02-22T08:11:21.075Z"
   },
   {
    "duration": 10,
    "start_time": "2022-02-22T08:11:21.096Z"
   },
   {
    "duration": 6,
    "start_time": "2022-02-22T08:11:21.120Z"
   },
   {
    "duration": 6,
    "start_time": "2022-02-22T08:11:21.127Z"
   },
   {
    "duration": 8,
    "start_time": "2022-02-22T08:11:21.135Z"
   },
   {
    "duration": 10,
    "start_time": "2022-02-22T08:11:21.144Z"
   },
   {
    "duration": 4,
    "start_time": "2022-02-22T08:11:21.156Z"
   },
   {
    "duration": 5,
    "start_time": "2022-02-22T08:11:21.163Z"
   },
   {
    "duration": 4,
    "start_time": "2022-02-22T08:11:21.170Z"
   },
   {
    "duration": 4,
    "start_time": "2022-02-22T08:11:21.176Z"
   },
   {
    "duration": 48,
    "start_time": "2022-02-22T08:11:21.181Z"
   },
   {
    "duration": 7,
    "start_time": "2022-02-22T08:11:21.230Z"
   },
   {
    "duration": 9,
    "start_time": "2022-02-22T08:11:21.239Z"
   },
   {
    "duration": 2,
    "start_time": "2022-02-22T08:11:21.250Z"
   },
   {
    "duration": 9,
    "start_time": "2022-02-22T08:11:21.254Z"
   },
   {
    "duration": 262,
    "start_time": "2022-02-22T08:11:21.265Z"
   },
   {
    "duration": -21,
    "start_time": "2022-02-22T08:11:21.550Z"
   },
   {
    "duration": -21,
    "start_time": "2022-02-22T08:11:21.551Z"
   },
   {
    "duration": -21,
    "start_time": "2022-02-22T08:11:21.552Z"
   },
   {
    "duration": 5,
    "start_time": "2022-02-22T08:12:29.834Z"
   },
   {
    "duration": 5,
    "start_time": "2022-02-22T08:12:32.337Z"
   },
   {
    "duration": 507,
    "start_time": "2022-02-22T08:12:32.681Z"
   },
   {
    "duration": 6,
    "start_time": "2022-02-22T08:12:40.274Z"
   },
   {
    "duration": 52,
    "start_time": "2022-02-22T08:15:23.898Z"
   },
   {
    "duration": 6,
    "start_time": "2022-02-22T08:15:44.001Z"
   },
   {
    "duration": 23,
    "start_time": "2022-02-22T08:19:19.654Z"
   },
   {
    "duration": 5,
    "start_time": "2022-02-22T08:21:23.318Z"
   },
   {
    "duration": 243,
    "start_time": "2022-02-22T08:21:32.720Z"
   },
   {
    "duration": 3,
    "start_time": "2022-02-22T08:21:35.825Z"
   },
   {
    "duration": 234,
    "start_time": "2022-02-22T08:21:50.361Z"
   },
   {
    "duration": 5,
    "start_time": "2022-02-22T08:21:55.984Z"
   },
   {
    "duration": 329,
    "start_time": "2022-02-22T08:22:46.578Z"
   },
   {
    "duration": 5,
    "start_time": "2022-02-22T08:23:13.216Z"
   },
   {
    "duration": 5,
    "start_time": "2022-02-22T08:23:29.127Z"
   },
   {
    "duration": 5,
    "start_time": "2022-02-22T08:29:19.462Z"
   },
   {
    "duration": 3,
    "start_time": "2022-02-22T08:29:27.422Z"
   },
   {
    "duration": 3,
    "start_time": "2022-02-22T08:29:30.086Z"
   },
   {
    "duration": 4,
    "start_time": "2022-02-22T08:29:42.414Z"
   },
   {
    "duration": 7,
    "start_time": "2022-02-22T08:30:02.446Z"
   },
   {
    "duration": 74,
    "start_time": "2022-02-22T08:32:47.136Z"
   },
   {
    "duration": 8,
    "start_time": "2022-02-22T08:32:53.101Z"
   },
   {
    "duration": 9,
    "start_time": "2022-02-22T08:33:14.925Z"
   },
   {
    "duration": 8,
    "start_time": "2022-02-22T08:33:19.246Z"
   },
   {
    "duration": 6,
    "start_time": "2022-02-22T08:34:07.283Z"
   },
   {
    "duration": 7,
    "start_time": "2022-02-22T08:40:03.723Z"
   },
   {
    "duration": 4,
    "start_time": "2022-02-22T08:40:09.772Z"
   },
   {
    "duration": 22,
    "start_time": "2022-02-22T08:40:25.053Z"
   },
   {
    "duration": 5,
    "start_time": "2022-02-22T08:40:36.194Z"
   },
   {
    "duration": 3,
    "start_time": "2022-02-22T08:40:47.980Z"
   },
   {
    "duration": 11,
    "start_time": "2022-02-22T08:42:32.519Z"
   },
   {
    "duration": 23,
    "start_time": "2022-02-22T08:42:37.995Z"
   },
   {
    "duration": 11,
    "start_time": "2022-02-22T08:43:01.899Z"
   },
   {
    "duration": 4,
    "start_time": "2022-02-22T08:43:03.968Z"
   },
   {
    "duration": 20,
    "start_time": "2022-02-22T08:45:22.650Z"
   },
   {
    "duration": 4,
    "start_time": "2022-02-22T08:45:59.563Z"
   },
   {
    "duration": 4,
    "start_time": "2022-02-22T08:47:08.987Z"
   },
   {
    "duration": 4,
    "start_time": "2022-02-22T08:47:21.979Z"
   },
   {
    "duration": 3,
    "start_time": "2022-02-22T09:34:14.442Z"
   },
   {
    "duration": 225,
    "start_time": "2022-02-22T09:40:37.396Z"
   },
   {
    "duration": 4,
    "start_time": "2022-02-22T09:40:46.354Z"
   },
   {
    "duration": 344,
    "start_time": "2022-02-22T09:40:47.067Z"
   },
   {
    "duration": 9,
    "start_time": "2022-02-22T09:40:56.311Z"
   },
   {
    "duration": 21,
    "start_time": "2022-02-22T09:43:20.485Z"
   },
   {
    "duration": 5,
    "start_time": "2022-02-22T09:43:31.763Z"
   },
   {
    "duration": 242,
    "start_time": "2022-02-22T09:48:05.331Z"
   },
   {
    "duration": 11,
    "start_time": "2022-02-22T09:48:49.746Z"
   },
   {
    "duration": 7,
    "start_time": "2022-02-22T09:49:04.785Z"
   },
   {
    "duration": 6,
    "start_time": "2022-02-22T09:51:40.560Z"
   },
   {
    "duration": 22,
    "start_time": "2022-02-22T09:53:54.544Z"
   },
   {
    "duration": 21,
    "start_time": "2022-02-22T09:54:19.856Z"
   },
   {
    "duration": 5,
    "start_time": "2022-02-22T09:55:06.192Z"
   },
   {
    "duration": 12,
    "start_time": "2022-02-22T09:55:06.622Z"
   },
   {
    "duration": 5,
    "start_time": "2022-02-22T09:55:07.009Z"
   },
   {
    "duration": 4,
    "start_time": "2022-02-22T09:55:27.746Z"
   },
   {
    "duration": 5,
    "start_time": "2022-02-22T09:55:40.721Z"
   },
   {
    "duration": 23,
    "start_time": "2022-02-22T09:55:48.928Z"
   },
   {
    "duration": 89,
    "start_time": "2022-02-22T09:58:04.753Z"
   },
   {
    "duration": 59,
    "start_time": "2022-02-22T09:58:27.519Z"
   },
   {
    "duration": 13,
    "start_time": "2022-02-22T09:58:30.259Z"
   },
   {
    "duration": 6,
    "start_time": "2022-02-22T09:58:34.462Z"
   },
   {
    "duration": 12,
    "start_time": "2022-02-22T09:59:50.818Z"
   },
   {
    "duration": 4,
    "start_time": "2022-02-22T09:59:51.866Z"
   },
   {
    "duration": 7,
    "start_time": "2022-02-22T10:00:21.567Z"
   },
   {
    "duration": 5,
    "start_time": "2022-02-22T10:00:24.487Z"
   },
   {
    "duration": 11,
    "start_time": "2022-02-22T10:00:24.888Z"
   },
   {
    "duration": 55,
    "start_time": "2022-02-22T11:27:45.822Z"
   },
   {
    "duration": 13,
    "start_time": "2022-02-22T11:27:47.883Z"
   },
   {
    "duration": 10,
    "start_time": "2022-02-22T11:27:50.253Z"
   },
   {
    "duration": 7,
    "start_time": "2022-02-22T11:27:54.845Z"
   },
   {
    "duration": 6,
    "start_time": "2022-02-22T11:28:07.382Z"
   },
   {
    "duration": 5,
    "start_time": "2022-02-22T11:28:11.357Z"
   },
   {
    "duration": 10,
    "start_time": "2022-02-22T11:28:11.958Z"
   },
   {
    "duration": 6,
    "start_time": "2022-02-22T11:28:17.349Z"
   },
   {
    "duration": 4,
    "start_time": "2022-02-22T11:28:18.336Z"
   },
   {
    "duration": 3,
    "start_time": "2022-02-22T11:28:18.815Z"
   },
   {
    "duration": 3,
    "start_time": "2022-02-22T11:28:22.129Z"
   },
   {
    "duration": 11,
    "start_time": "2022-02-22T11:28:22.529Z"
   },
   {
    "duration": 6,
    "start_time": "2022-02-22T11:28:22.821Z"
   },
   {
    "duration": 10,
    "start_time": "2022-02-22T11:28:29.293Z"
   },
   {
    "duration": 6,
    "start_time": "2022-02-22T11:28:44.477Z"
   },
   {
    "duration": 3,
    "start_time": "2022-02-22T11:28:52.989Z"
   },
   {
    "duration": 8,
    "start_time": "2022-02-22T11:29:03.108Z"
   },
   {
    "duration": 4,
    "start_time": "2022-02-22T11:29:03.580Z"
   },
   {
    "duration": 4,
    "start_time": "2022-02-22T11:29:04.749Z"
   },
   {
    "duration": 501,
    "start_time": "2022-02-22T11:29:09.293Z"
   },
   {
    "duration": 5,
    "start_time": "2022-02-22T11:29:53.541Z"
   },
   {
    "duration": 477,
    "start_time": "2022-02-22T11:29:53.781Z"
   },
   {
    "duration": 8,
    "start_time": "2022-02-22T11:29:56.605Z"
   },
   {
    "duration": 6,
    "start_time": "2022-02-22T11:30:03.466Z"
   },
   {
    "duration": 19,
    "start_time": "2022-02-22T11:30:09.509Z"
   },
   {
    "duration": 4,
    "start_time": "2022-02-22T11:30:14.709Z"
   },
   {
    "duration": 355,
    "start_time": "2022-02-22T11:30:15.892Z"
   },
   {
    "duration": 9,
    "start_time": "2022-02-22T11:30:17.885Z"
   },
   {
    "duration": 6,
    "start_time": "2022-02-22T11:30:30.685Z"
   },
   {
    "duration": 11,
    "start_time": "2022-02-22T11:30:33.260Z"
   },
   {
    "duration": 6,
    "start_time": "2022-02-22T11:30:34.214Z"
   },
   {
    "duration": 30,
    "start_time": "2022-02-22T11:30:50.565Z"
   },
   {
    "duration": 76,
    "start_time": "2022-02-22T11:31:10.794Z"
   },
   {
    "duration": 6,
    "start_time": "2022-02-22T11:31:29.021Z"
   },
   {
    "duration": 6,
    "start_time": "2022-02-22T11:31:31.548Z"
   },
   {
    "duration": 25,
    "start_time": "2022-02-22T11:32:05.852Z"
   },
   {
    "duration": 234,
    "start_time": "2022-02-22T11:32:51.884Z"
   },
   {
    "duration": 5,
    "start_time": "2022-02-22T11:33:08.669Z"
   },
   {
    "duration": 10,
    "start_time": "2022-02-22T11:33:18.366Z"
   },
   {
    "duration": 309,
    "start_time": "2022-02-22T11:34:21.939Z"
   },
   {
    "duration": 5,
    "start_time": "2022-02-22T11:34:28.863Z"
   },
   {
    "duration": 109,
    "start_time": "2022-02-22T11:35:17.596Z"
   },
   {
    "duration": 12,
    "start_time": "2022-02-22T11:35:23.988Z"
   },
   {
    "duration": 80,
    "start_time": "2022-02-22T11:35:32.063Z"
   },
   {
    "duration": 68,
    "start_time": "2022-02-22T11:35:44.451Z"
   },
   {
    "duration": 27,
    "start_time": "2022-02-22T11:35:48.555Z"
   },
   {
    "duration": 24,
    "start_time": "2022-02-22T11:35:59.516Z"
   },
   {
    "duration": 25,
    "start_time": "2022-02-22T11:36:08.089Z"
   },
   {
    "duration": 24,
    "start_time": "2022-02-22T11:36:16.781Z"
   },
   {
    "duration": 27,
    "start_time": "2022-02-22T11:36:24.525Z"
   },
   {
    "duration": 6,
    "start_time": "2022-02-22T11:41:20.142Z"
   },
   {
    "duration": 14,
    "start_time": "2022-02-22T11:41:20.444Z"
   },
   {
    "duration": 8,
    "start_time": "2022-02-22T11:41:20.826Z"
   },
   {
    "duration": 7,
    "start_time": "2022-02-22T11:43:34.289Z"
   },
   {
    "duration": 72,
    "start_time": "2022-02-22T11:43:44.395Z"
   },
   {
    "duration": 4,
    "start_time": "2022-02-22T11:44:04.669Z"
   },
   {
    "duration": 5,
    "start_time": "2022-02-22T11:44:28.475Z"
   },
   {
    "duration": 24,
    "start_time": "2022-02-22T11:44:48.843Z"
   },
   {
    "duration": 5,
    "start_time": "2022-02-22T11:45:14.175Z"
   },
   {
    "duration": 13,
    "start_time": "2022-02-22T11:46:43.849Z"
   },
   {
    "duration": 13,
    "start_time": "2022-02-22T12:05:47.774Z"
   },
   {
    "duration": 12,
    "start_time": "2022-02-22T12:09:06.421Z"
   },
   {
    "duration": 23,
    "start_time": "2022-02-22T12:09:11.910Z"
   },
   {
    "duration": 14,
    "start_time": "2022-02-22T12:09:26.901Z"
   },
   {
    "duration": 4,
    "start_time": "2022-02-22T12:09:36.581Z"
   },
   {
    "duration": 5,
    "start_time": "2022-02-22T12:11:36.981Z"
   },
   {
    "duration": 4,
    "start_time": "2022-02-22T12:12:08.164Z"
   },
   {
    "duration": 77,
    "start_time": "2022-02-22T12:12:18.861Z"
   },
   {
    "duration": 4,
    "start_time": "2022-02-22T12:12:19.276Z"
   },
   {
    "duration": 6,
    "start_time": "2022-02-22T12:13:04.371Z"
   },
   {
    "duration": 9,
    "start_time": "2022-02-22T12:13:21.732Z"
   },
   {
    "duration": 5,
    "start_time": "2022-02-22T12:13:31.668Z"
   },
   {
    "duration": 5,
    "start_time": "2022-02-22T12:13:37.636Z"
   },
   {
    "duration": 85,
    "start_time": "2022-02-22T12:13:43.548Z"
   },
   {
    "duration": 6,
    "start_time": "2022-02-22T12:14:02.260Z"
   },
   {
    "duration": 7,
    "start_time": "2022-02-22T12:14:26.644Z"
   },
   {
    "duration": 5,
    "start_time": "2022-02-22T12:15:00.644Z"
   },
   {
    "duration": 86,
    "start_time": "2022-02-22T12:15:10.765Z"
   },
   {
    "duration": 7,
    "start_time": "2022-02-22T12:29:07.266Z"
   },
   {
    "duration": 24,
    "start_time": "2022-02-22T12:29:13.546Z"
   },
   {
    "duration": 230,
    "start_time": "2022-02-22T13:32:14.967Z"
   },
   {
    "duration": 4,
    "start_time": "2022-02-22T13:32:23.783Z"
   },
   {
    "duration": 23,
    "start_time": "2022-02-22T13:32:27.639Z"
   },
   {
    "duration": 5,
    "start_time": "2022-02-22T13:34:51.256Z"
   },
   {
    "duration": 5,
    "start_time": "2022-02-22T13:35:25.903Z"
   },
   {
    "duration": 221,
    "start_time": "2022-02-22T13:35:47.304Z"
   },
   {
    "duration": 19,
    "start_time": "2022-02-22T13:36:19.286Z"
   },
   {
    "duration": 17,
    "start_time": "2022-02-22T13:36:23.079Z"
   },
   {
    "duration": 37,
    "start_time": "2022-02-22T13:37:36.854Z"
   },
   {
    "duration": 18,
    "start_time": "2022-02-22T13:38:12.182Z"
   },
   {
    "duration": 18,
    "start_time": "2022-02-22T13:38:18.748Z"
   },
   {
    "duration": 18,
    "start_time": "2022-02-22T13:38:19.830Z"
   },
   {
    "duration": 84,
    "start_time": "2022-02-22T13:46:19.685Z"
   },
   {
    "duration": 87,
    "start_time": "2022-02-22T13:47:52.886Z"
   },
   {
    "duration": 225,
    "start_time": "2022-02-22T13:48:49.244Z"
   },
   {
    "duration": 4,
    "start_time": "2022-02-22T13:48:58.964Z"
   },
   {
    "duration": 6,
    "start_time": "2022-02-22T13:49:20.036Z"
   },
   {
    "duration": 52,
    "start_time": "2022-02-22T13:49:29.560Z"
   },
   {
    "duration": 13,
    "start_time": "2022-02-22T13:49:29.614Z"
   },
   {
    "duration": 12,
    "start_time": "2022-02-22T13:49:29.629Z"
   },
   {
    "duration": 5,
    "start_time": "2022-02-22T13:49:29.643Z"
   },
   {
    "duration": 5,
    "start_time": "2022-02-22T13:49:29.650Z"
   },
   {
    "duration": 5,
    "start_time": "2022-02-22T13:49:29.657Z"
   },
   {
    "duration": 10,
    "start_time": "2022-02-22T13:49:29.663Z"
   },
   {
    "duration": 5,
    "start_time": "2022-02-22T13:49:29.675Z"
   },
   {
    "duration": 38,
    "start_time": "2022-02-22T13:49:29.682Z"
   },
   {
    "duration": 4,
    "start_time": "2022-02-22T13:49:29.722Z"
   },
   {
    "duration": 4,
    "start_time": "2022-02-22T13:49:29.728Z"
   },
   {
    "duration": 14,
    "start_time": "2022-02-22T13:49:29.734Z"
   },
   {
    "duration": 8,
    "start_time": "2022-02-22T13:49:29.750Z"
   },
   {
    "duration": 10,
    "start_time": "2022-02-22T13:49:29.760Z"
   },
   {
    "duration": 4,
    "start_time": "2022-02-22T13:49:29.772Z"
   },
   {
    "duration": 10,
    "start_time": "2022-02-22T13:49:29.778Z"
   },
   {
    "duration": 29,
    "start_time": "2022-02-22T13:49:29.790Z"
   },
   {
    "duration": 4,
    "start_time": "2022-02-22T13:49:29.821Z"
   },
   {
    "duration": 495,
    "start_time": "2022-02-22T13:49:29.826Z"
   },
   {
    "duration": 8,
    "start_time": "2022-02-22T13:49:30.323Z"
   },
   {
    "duration": 9,
    "start_time": "2022-02-22T13:49:30.333Z"
   },
   {
    "duration": 26,
    "start_time": "2022-02-22T13:49:30.344Z"
   },
   {
    "duration": 5,
    "start_time": "2022-02-22T13:49:30.372Z"
   },
   {
    "duration": 387,
    "start_time": "2022-02-22T13:49:30.379Z"
   },
   {
    "duration": 8,
    "start_time": "2022-02-22T13:49:30.768Z"
   },
   {
    "duration": 6,
    "start_time": "2022-02-22T13:49:30.778Z"
   },
   {
    "duration": 11,
    "start_time": "2022-02-22T13:49:30.785Z"
   },
   {
    "duration": 23,
    "start_time": "2022-02-22T13:49:30.798Z"
   },
   {
    "duration": 5,
    "start_time": "2022-02-22T13:49:30.823Z"
   },
   {
    "duration": 6,
    "start_time": "2022-02-22T13:49:30.830Z"
   },
   {
    "duration": 15,
    "start_time": "2022-02-22T13:49:30.838Z"
   },
   {
    "duration": 13,
    "start_time": "2022-02-22T13:49:30.856Z"
   },
   {
    "duration": 7,
    "start_time": "2022-02-22T13:49:30.873Z"
   },
   {
    "duration": 40,
    "start_time": "2022-02-22T13:49:30.882Z"
   },
   {
    "duration": 8,
    "start_time": "2022-02-22T13:49:30.924Z"
   },
   {
    "duration": 8,
    "start_time": "2022-02-22T13:49:30.934Z"
   },
   {
    "duration": 11,
    "start_time": "2022-02-22T13:49:30.944Z"
   },
   {
    "duration": 6,
    "start_time": "2022-02-22T13:49:30.957Z"
   },
   {
    "duration": 9,
    "start_time": "2022-02-22T13:49:30.965Z"
   },
   {
    "duration": 21,
    "start_time": "2022-02-22T13:49:30.975Z"
   },
   {
    "duration": 39,
    "start_time": "2022-02-22T13:49:30.997Z"
   },
   {
    "duration": 16,
    "start_time": "2022-02-22T13:49:31.038Z"
   },
   {
    "duration": 4,
    "start_time": "2022-02-22T13:49:31.055Z"
   },
   {
    "duration": 6,
    "start_time": "2022-02-22T13:49:36.644Z"
   },
   {
    "duration": 5,
    "start_time": "2022-02-22T13:49:39.157Z"
   },
   {
    "duration": 234,
    "start_time": "2022-02-22T14:01:45.346Z"
   },
   {
    "duration": 11,
    "start_time": "2022-02-22T14:01:57.956Z"
   },
   {
    "duration": 16,
    "start_time": "2022-02-22T14:10:50.817Z"
   },
   {
    "duration": 7,
    "start_time": "2022-02-22T14:10:52.929Z"
   },
   {
    "duration": 632,
    "start_time": "2022-02-22T19:41:19.116Z"
   },
   {
    "duration": 16,
    "start_time": "2022-02-22T19:41:19.749Z"
   },
   {
    "duration": 9,
    "start_time": "2022-02-22T19:41:19.869Z"
   },
   {
    "duration": 5,
    "start_time": "2022-02-22T19:41:20.448Z"
   },
   {
    "duration": 5,
    "start_time": "2022-02-22T19:41:20.829Z"
   },
   {
    "duration": 5,
    "start_time": "2022-02-22T19:41:21.020Z"
   },
   {
    "duration": 9,
    "start_time": "2022-02-22T19:41:21.211Z"
   },
   {
    "duration": 7,
    "start_time": "2022-02-22T19:41:22.248Z"
   },
   {
    "duration": 3,
    "start_time": "2022-02-22T19:41:22.449Z"
   },
   {
    "duration": 3,
    "start_time": "2022-02-22T19:41:22.649Z"
   },
   {
    "duration": 3,
    "start_time": "2022-02-22T19:41:22.846Z"
   },
   {
    "duration": 9,
    "start_time": "2022-02-22T19:41:23.051Z"
   },
   {
    "duration": 5,
    "start_time": "2022-02-22T19:41:23.247Z"
   },
   {
    "duration": 9,
    "start_time": "2022-02-22T19:41:23.682Z"
   },
   {
    "duration": 3,
    "start_time": "2022-02-22T19:41:23.936Z"
   },
   {
    "duration": 8,
    "start_time": "2022-02-22T19:41:24.197Z"
   },
   {
    "duration": 7,
    "start_time": "2022-02-22T19:41:24.455Z"
   },
   {
    "duration": 5,
    "start_time": "2022-02-22T19:41:24.708Z"
   },
   {
    "duration": 410,
    "start_time": "2022-02-22T19:41:24.952Z"
   },
   {
    "duration": 8,
    "start_time": "2022-02-22T19:41:25.518Z"
   },
   {
    "duration": 6,
    "start_time": "2022-02-22T19:41:25.763Z"
   },
   {
    "duration": 17,
    "start_time": "2022-02-22T19:41:25.981Z"
   },
   {
    "duration": 3,
    "start_time": "2022-02-22T19:41:26.237Z"
   },
   {
    "duration": 326,
    "start_time": "2022-02-22T19:41:26.492Z"
   },
   {
    "duration": 6,
    "start_time": "2022-02-22T19:41:26.820Z"
   },
   {
    "duration": 5,
    "start_time": "2022-02-22T19:41:27.175Z"
   },
   {
    "duration": 4,
    "start_time": "2022-02-22T19:41:27.862Z"
   },
   {
    "duration": 6,
    "start_time": "2022-02-22T19:41:28.560Z"
   },
   {
    "duration": 4,
    "start_time": "2022-02-22T19:41:29.117Z"
   },
   {
    "duration": 4,
    "start_time": "2022-02-22T19:41:29.625Z"
   },
   {
    "duration": 12,
    "start_time": "2022-02-22T19:41:29.872Z"
   },
   {
    "duration": 9,
    "start_time": "2022-02-22T19:41:30.120Z"
   },
   {
    "duration": 3,
    "start_time": "2022-02-22T19:41:30.405Z"
   },
   {
    "duration": 6,
    "start_time": "2022-02-22T19:41:31.100Z"
   },
   {
    "duration": 5,
    "start_time": "2022-02-22T19:41:31.574Z"
   },
   {
    "duration": 4,
    "start_time": "2022-02-22T19:41:32.153Z"
   },
   {
    "duration": 6,
    "start_time": "2022-02-22T19:41:32.836Z"
   },
   {
    "duration": 6,
    "start_time": "2022-02-22T19:41:33.945Z"
   },
   {
    "duration": 3,
    "start_time": "2022-02-22T19:41:37.427Z"
   },
   {
    "duration": 14,
    "start_time": "2022-02-22T19:41:38.384Z"
   },
   {
    "duration": 17,
    "start_time": "2022-02-22T19:41:38.787Z"
   },
   {
    "duration": 15,
    "start_time": "2022-02-22T19:41:39.176Z"
   },
   {
    "duration": 4,
    "start_time": "2022-02-22T19:41:40.101Z"
   },
   {
    "duration": 4,
    "start_time": "2022-02-22T19:41:43.100Z"
   },
   {
    "duration": 5,
    "start_time": "2022-02-22T19:55:55.747Z"
   },
   {
    "duration": 6,
    "start_time": "2022-02-22T19:56:16.431Z"
   },
   {
    "duration": 8,
    "start_time": "2022-02-22T19:56:31.207Z"
   },
   {
    "duration": 77,
    "start_time": "2022-02-22T20:31:54.153Z"
   },
   {
    "duration": 8,
    "start_time": "2022-02-22T20:46:02.418Z"
   },
   {
    "duration": 7,
    "start_time": "2022-02-22T20:46:06.770Z"
   },
   {
    "duration": 831,
    "start_time": "2022-02-23T06:09:31.151Z"
   },
   {
    "duration": 30,
    "start_time": "2022-02-23T06:09:33.878Z"
   },
   {
    "duration": 14,
    "start_time": "2022-02-23T06:09:35.219Z"
   },
   {
    "duration": 8,
    "start_time": "2022-02-23T06:09:36.824Z"
   },
   {
    "duration": 7,
    "start_time": "2022-02-23T06:09:37.755Z"
   },
   {
    "duration": 7,
    "start_time": "2022-02-23T06:09:38.191Z"
   },
   {
    "duration": 14,
    "start_time": "2022-02-23T06:09:38.619Z"
   },
   {
    "duration": 10,
    "start_time": "2022-02-23T06:09:40.546Z"
   },
   {
    "duration": 5,
    "start_time": "2022-02-23T06:09:40.964Z"
   },
   {
    "duration": 5,
    "start_time": "2022-02-23T06:09:41.407Z"
   },
   {
    "duration": 4,
    "start_time": "2022-02-23T06:09:41.690Z"
   },
   {
    "duration": 16,
    "start_time": "2022-02-23T06:09:41.947Z"
   },
   {
    "duration": 8,
    "start_time": "2022-02-23T06:09:42.308Z"
   },
   {
    "duration": 12,
    "start_time": "2022-02-23T06:09:43.131Z"
   },
   {
    "duration": 4,
    "start_time": "2022-02-23T06:09:43.595Z"
   },
   {
    "duration": 13,
    "start_time": "2022-02-23T06:09:44.075Z"
   },
   {
    "duration": 9,
    "start_time": "2022-02-23T06:09:44.515Z"
   },
   {
    "duration": 7,
    "start_time": "2022-02-23T06:09:44.859Z"
   },
   {
    "duration": 786,
    "start_time": "2022-02-23T06:09:45.290Z"
   },
   {
    "duration": 15,
    "start_time": "2022-02-23T06:09:46.171Z"
   },
   {
    "duration": 8,
    "start_time": "2022-02-23T06:09:46.739Z"
   },
   {
    "duration": 25,
    "start_time": "2022-02-23T06:09:47.155Z"
   },
   {
    "duration": 5,
    "start_time": "2022-02-23T06:09:47.626Z"
   },
   {
    "duration": 568,
    "start_time": "2022-02-23T06:09:48.107Z"
   },
   {
    "duration": 16,
    "start_time": "2022-02-23T06:09:48.678Z"
   },
   {
    "duration": 7,
    "start_time": "2022-02-23T06:09:49.095Z"
   },
   {
    "duration": 7,
    "start_time": "2022-02-23T06:09:49.522Z"
   },
   {
    "duration": 8,
    "start_time": "2022-02-23T06:09:49.958Z"
   },
   {
    "duration": 6,
    "start_time": "2022-02-23T06:09:50.381Z"
   },
   {
    "duration": 7,
    "start_time": "2022-02-23T06:09:50.816Z"
   },
   {
    "duration": 21,
    "start_time": "2022-02-23T06:09:51.019Z"
   },
   {
    "duration": 13,
    "start_time": "2022-02-23T06:09:51.251Z"
   },
   {
    "duration": 6,
    "start_time": "2022-02-23T06:09:51.474Z"
   },
   {
    "duration": 6,
    "start_time": "2022-02-23T06:09:52.011Z"
   },
   {
    "duration": 6,
    "start_time": "2022-02-23T06:09:52.618Z"
   },
   {
    "duration": 6,
    "start_time": "2022-02-23T06:09:53.186Z"
   },
   {
    "duration": 10,
    "start_time": "2022-02-23T06:09:53.922Z"
   },
   {
    "duration": 8,
    "start_time": "2022-02-23T06:09:55.075Z"
   },
   {
    "duration": 5,
    "start_time": "2022-02-23T06:09:57.986Z"
   },
   {
    "duration": 22,
    "start_time": "2022-02-23T06:10:00.595Z"
   },
   {
    "duration": 29,
    "start_time": "2022-02-23T06:10:01.203Z"
   },
   {
    "duration": 23,
    "start_time": "2022-02-23T06:10:01.763Z"
   },
   {
    "duration": 5,
    "start_time": "2022-02-23T06:10:04.483Z"
   },
   {
    "duration": 6,
    "start_time": "2022-02-23T06:10:08.627Z"
   },
   {
    "duration": 7,
    "start_time": "2022-02-23T06:10:13.330Z"
   },
   {
    "duration": 15,
    "start_time": "2022-02-23T06:10:13.668Z"
   },
   {
    "duration": 11,
    "start_time": "2022-02-23T06:10:14.139Z"
   },
   {
    "duration": 8,
    "start_time": "2022-02-23T06:27:05.993Z"
   },
   {
    "duration": 21,
    "start_time": "2022-02-23T06:27:44.305Z"
   },
   {
    "duration": 6,
    "start_time": "2022-02-23T06:28:00.610Z"
   },
   {
    "duration": 8,
    "start_time": "2022-02-23T06:44:25.647Z"
   },
   {
    "duration": 15,
    "start_time": "2022-02-23T07:25:10.875Z"
   },
   {
    "duration": 27,
    "start_time": "2022-02-23T07:26:54.422Z"
   },
   {
    "duration": 7845,
    "start_time": "2022-02-23T07:28:14.565Z"
   },
   {
    "duration": 7,
    "start_time": "2022-02-23T07:28:23.430Z"
   },
   {
    "duration": 109,
    "start_time": "2022-02-23T07:33:39.428Z"
   },
   {
    "duration": 5,
    "start_time": "2022-02-23T07:34:14.932Z"
   },
   {
    "duration": 14,
    "start_time": "2022-02-23T07:39:54.947Z"
   },
   {
    "duration": 31,
    "start_time": "2022-02-23T07:40:14.995Z"
   },
   {
    "duration": 100,
    "start_time": "2022-02-23T07:41:36.441Z"
   },
   {
    "duration": 33,
    "start_time": "2022-02-23T07:41:41.490Z"
   },
   {
    "duration": 5,
    "start_time": "2022-02-23T07:42:09.054Z"
   },
   {
    "duration": 15,
    "start_time": "2022-02-23T07:42:13.027Z"
   },
   {
    "duration": 25,
    "start_time": "2022-02-23T07:42:14.125Z"
   },
   {
    "duration": 24,
    "start_time": "2022-02-23T07:42:34.341Z"
   },
   {
    "duration": 34,
    "start_time": "2022-02-23T07:42:51.571Z"
   },
   {
    "duration": 82,
    "start_time": "2022-02-23T07:46:12.245Z"
   },
   {
    "duration": 18,
    "start_time": "2022-02-23T07:46:12.329Z"
   },
   {
    "duration": 55,
    "start_time": "2022-02-23T07:46:12.350Z"
   },
   {
    "duration": 8,
    "start_time": "2022-02-23T07:46:12.409Z"
   },
   {
    "duration": 15,
    "start_time": "2022-02-23T07:46:12.419Z"
   },
   {
    "duration": 16,
    "start_time": "2022-02-23T07:46:12.436Z"
   },
   {
    "duration": 16,
    "start_time": "2022-02-23T07:46:12.454Z"
   },
   {
    "duration": 31,
    "start_time": "2022-02-23T07:46:12.473Z"
   },
   {
    "duration": 13,
    "start_time": "2022-02-23T07:46:12.507Z"
   },
   {
    "duration": 11,
    "start_time": "2022-02-23T07:46:12.522Z"
   },
   {
    "duration": 12,
    "start_time": "2022-02-23T07:46:12.536Z"
   },
   {
    "duration": 24,
    "start_time": "2022-02-23T07:46:12.550Z"
   },
   {
    "duration": 20,
    "start_time": "2022-02-23T07:46:12.576Z"
   },
   {
    "duration": 24,
    "start_time": "2022-02-23T07:46:12.599Z"
   },
   {
    "duration": 6,
    "start_time": "2022-02-23T07:46:12.625Z"
   },
   {
    "duration": 20,
    "start_time": "2022-02-23T07:46:12.633Z"
   },
   {
    "duration": 5,
    "start_time": "2022-02-23T07:46:12.655Z"
   },
   {
    "duration": 8,
    "start_time": "2022-02-23T07:46:12.662Z"
   },
   {
    "duration": 833,
    "start_time": "2022-02-23T07:46:12.694Z"
   },
   {
    "duration": 18,
    "start_time": "2022-02-23T07:46:13.529Z"
   },
   {
    "duration": 9,
    "start_time": "2022-02-23T07:46:13.550Z"
   },
   {
    "duration": 61,
    "start_time": "2022-02-23T07:46:13.562Z"
   },
   {
    "duration": 5,
    "start_time": "2022-02-23T07:46:13.628Z"
   },
   {
    "duration": 667,
    "start_time": "2022-02-23T07:46:13.636Z"
   },
   {
    "duration": 16,
    "start_time": "2022-02-23T07:46:14.305Z"
   },
   {
    "duration": 13,
    "start_time": "2022-02-23T07:46:14.324Z"
   },
   {
    "duration": 6,
    "start_time": "2022-02-23T07:46:14.339Z"
   },
   {
    "duration": 9,
    "start_time": "2022-02-23T07:46:14.347Z"
   },
   {
    "duration": 7,
    "start_time": "2022-02-23T07:46:14.396Z"
   },
   {
    "duration": 16,
    "start_time": "2022-02-23T07:46:14.406Z"
   },
   {
    "duration": 23,
    "start_time": "2022-02-23T07:46:14.424Z"
   },
   {
    "duration": 15,
    "start_time": "2022-02-23T07:46:14.449Z"
   },
   {
    "duration": 31,
    "start_time": "2022-02-23T07:46:14.466Z"
   },
   {
    "duration": 32,
    "start_time": "2022-02-23T07:46:14.504Z"
   },
   {
    "duration": 23,
    "start_time": "2022-02-23T07:46:14.538Z"
   },
   {
    "duration": 8,
    "start_time": "2022-02-23T07:46:14.563Z"
   },
   {
    "duration": 12,
    "start_time": "2022-02-23T07:46:14.573Z"
   },
   {
    "duration": 10,
    "start_time": "2022-02-23T07:46:14.587Z"
   },
   {
    "duration": 31,
    "start_time": "2022-02-23T07:46:14.600Z"
   },
   {
    "duration": 37,
    "start_time": "2022-02-23T07:46:14.634Z"
   },
   {
    "duration": 28,
    "start_time": "2022-02-23T07:46:14.673Z"
   },
   {
    "duration": 25,
    "start_time": "2022-02-23T07:46:14.704Z"
   },
   {
    "duration": 6,
    "start_time": "2022-02-23T07:46:14.732Z"
   },
   {
    "duration": 25,
    "start_time": "2022-02-23T07:46:14.741Z"
   },
   {
    "duration": 30,
    "start_time": "2022-02-23T07:46:14.768Z"
   },
   {
    "duration": 22,
    "start_time": "2022-02-23T07:46:14.801Z"
   },
   {
    "duration": 6,
    "start_time": "2022-02-23T07:46:14.825Z"
   },
   {
    "duration": 18,
    "start_time": "2022-02-23T07:46:14.833Z"
   },
   {
    "duration": 39,
    "start_time": "2022-02-23T07:46:14.854Z"
   },
   {
    "duration": 7,
    "start_time": "2022-02-23T07:46:18.186Z"
   },
   {
    "duration": 19,
    "start_time": "2022-02-23T07:46:18.914Z"
   },
   {
    "duration": 7,
    "start_time": "2022-02-23T07:46:19.458Z"
   },
   {
    "duration": 8,
    "start_time": "2022-02-23T07:46:38.659Z"
   },
   {
    "duration": 273,
    "start_time": "2022-02-23T07:49:18.850Z"
   },
   {
    "duration": 37,
    "start_time": "2022-02-23T07:49:23.378Z"
   },
   {
    "duration": 11,
    "start_time": "2022-02-23T09:20:36.626Z"
   },
   {
    "duration": 18,
    "start_time": "2022-02-23T09:51:17.630Z"
   },
   {
    "duration": 16,
    "start_time": "2022-02-23T09:51:40.099Z"
   },
   {
    "duration": 16,
    "start_time": "2022-02-23T09:54:56.435Z"
   },
   {
    "duration": 91,
    "start_time": "2022-02-23T09:55:23.601Z"
   },
   {
    "duration": 15,
    "start_time": "2022-02-23T09:55:28.806Z"
   },
   {
    "duration": 14,
    "start_time": "2022-02-23T09:57:58.731Z"
   },
   {
    "duration": 297,
    "start_time": "2022-02-23T10:08:22.401Z"
   },
   {
    "duration": 36,
    "start_time": "2022-02-23T10:08:30.458Z"
   },
   {
    "duration": 24,
    "start_time": "2022-02-23T10:08:39.673Z"
   },
   {
    "duration": 355,
    "start_time": "2022-02-23T10:09:14.458Z"
   },
   {
    "duration": 362,
    "start_time": "2022-02-23T10:09:31.322Z"
   },
   {
    "duration": 32,
    "start_time": "2022-02-23T10:10:38.473Z"
   },
   {
    "duration": 280,
    "start_time": "2022-02-23T10:11:08.936Z"
   },
   {
    "duration": 301,
    "start_time": "2022-02-23T10:12:04.746Z"
   },
   {
    "duration": 23,
    "start_time": "2022-02-23T10:12:32.367Z"
   },
   {
    "duration": 10,
    "start_time": "2022-02-23T10:12:35.430Z"
   },
   {
    "duration": 21,
    "start_time": "2022-02-23T10:12:46.458Z"
   },
   {
    "duration": 14,
    "start_time": "2022-02-23T10:12:48.393Z"
   },
   {
    "duration": 22,
    "start_time": "2022-02-23T10:13:56.761Z"
   },
   {
    "duration": 11,
    "start_time": "2022-02-23T10:13:57.737Z"
   },
   {
    "duration": 365,
    "start_time": "2022-02-23T10:14:08.329Z"
   },
   {
    "duration": 72,
    "start_time": "2022-02-23T10:14:15.893Z"
   },
   {
    "duration": 37,
    "start_time": "2022-02-23T10:14:15.968Z"
   },
   {
    "duration": 18,
    "start_time": "2022-02-23T10:14:16.009Z"
   },
   {
    "duration": 8,
    "start_time": "2022-02-23T10:14:16.030Z"
   },
   {
    "duration": 10,
    "start_time": "2022-02-23T10:14:16.040Z"
   },
   {
    "duration": 44,
    "start_time": "2022-02-23T10:14:16.053Z"
   },
   {
    "duration": 16,
    "start_time": "2022-02-23T10:14:16.099Z"
   },
   {
    "duration": 9,
    "start_time": "2022-02-23T10:14:16.119Z"
   },
   {
    "duration": 6,
    "start_time": "2022-02-23T10:14:16.133Z"
   },
   {
    "duration": 54,
    "start_time": "2022-02-23T10:14:16.142Z"
   },
   {
    "duration": 9,
    "start_time": "2022-02-23T10:14:16.199Z"
   },
   {
    "duration": 18,
    "start_time": "2022-02-23T10:14:16.211Z"
   },
   {
    "duration": 11,
    "start_time": "2022-02-23T10:14:16.232Z"
   },
   {
    "duration": 17,
    "start_time": "2022-02-23T10:14:16.245Z"
   },
   {
    "duration": 4,
    "start_time": "2022-02-23T10:14:16.294Z"
   },
   {
    "duration": 20,
    "start_time": "2022-02-23T10:14:16.301Z"
   },
   {
    "duration": 8,
    "start_time": "2022-02-23T10:14:16.323Z"
   },
   {
    "duration": 5,
    "start_time": "2022-02-23T10:14:16.334Z"
   },
   {
    "duration": 832,
    "start_time": "2022-02-23T10:14:16.342Z"
   },
   {
    "duration": 28,
    "start_time": "2022-02-23T10:14:17.177Z"
   },
   {
    "duration": 8,
    "start_time": "2022-02-23T10:14:17.207Z"
   },
   {
    "duration": 26,
    "start_time": "2022-02-23T10:14:17.218Z"
   },
   {
    "duration": 6,
    "start_time": "2022-02-23T10:14:17.294Z"
   },
   {
    "duration": 615,
    "start_time": "2022-02-23T10:14:17.303Z"
   },
   {
    "duration": 7,
    "start_time": "2022-02-23T10:14:17.921Z"
   },
   {
    "duration": 7,
    "start_time": "2022-02-23T10:14:17.940Z"
   },
   {
    "duration": 44,
    "start_time": "2022-02-23T10:14:17.949Z"
   },
   {
    "duration": 10,
    "start_time": "2022-02-23T10:14:17.996Z"
   },
   {
    "duration": 7,
    "start_time": "2022-02-23T10:14:18.009Z"
   },
   {
    "duration": 12,
    "start_time": "2022-02-23T10:14:18.018Z"
   },
   {
    "duration": 69,
    "start_time": "2022-02-23T10:14:18.032Z"
   },
   {
    "duration": 13,
    "start_time": "2022-02-23T10:14:18.104Z"
   },
   {
    "duration": 7,
    "start_time": "2022-02-23T10:14:18.121Z"
   },
   {
    "duration": 12,
    "start_time": "2022-02-23T10:14:18.130Z"
   },
   {
    "duration": 51,
    "start_time": "2022-02-23T10:14:18.144Z"
   },
   {
    "duration": 7,
    "start_time": "2022-02-23T10:14:18.198Z"
   },
   {
    "duration": 10,
    "start_time": "2022-02-23T10:14:18.208Z"
   },
   {
    "duration": 7,
    "start_time": "2022-02-23T10:14:18.221Z"
   },
   {
    "duration": 7,
    "start_time": "2022-02-23T10:14:18.231Z"
   },
   {
    "duration": 29,
    "start_time": "2022-02-23T10:14:18.293Z"
   },
   {
    "duration": 30,
    "start_time": "2022-02-23T10:14:18.324Z"
   },
   {
    "duration": 55,
    "start_time": "2022-02-23T10:14:18.356Z"
   },
   {
    "duration": 9,
    "start_time": "2022-02-23T10:14:18.413Z"
   },
   {
    "duration": 17,
    "start_time": "2022-02-23T10:14:18.425Z"
   },
   {
    "duration": 14,
    "start_time": "2022-02-23T10:14:18.444Z"
   },
   {
    "duration": 15,
    "start_time": "2022-02-23T10:14:18.493Z"
   },
   {
    "duration": 6,
    "start_time": "2022-02-23T10:14:18.511Z"
   },
   {
    "duration": 18,
    "start_time": "2022-02-23T10:14:18.520Z"
   },
   {
    "duration": 8,
    "start_time": "2022-02-23T10:14:18.540Z"
   },
   {
    "duration": 59,
    "start_time": "2022-02-23T10:14:18.551Z"
   },
   {
    "duration": 9,
    "start_time": "2022-02-23T10:14:18.613Z"
   },
   {
    "duration": 33,
    "start_time": "2022-02-23T10:14:18.624Z"
   },
   {
    "duration": 297,
    "start_time": "2022-02-23T10:14:40.186Z"
   },
   {
    "duration": 302,
    "start_time": "2022-02-23T10:15:36.889Z"
   },
   {
    "duration": 20,
    "start_time": "2022-02-23T10:15:55.113Z"
   },
   {
    "duration": 11,
    "start_time": "2022-02-23T10:15:56.503Z"
   },
   {
    "duration": 7,
    "start_time": "2022-02-23T10:16:32.223Z"
   },
   {
    "duration": 6,
    "start_time": "2022-02-23T10:17:09.688Z"
   },
   {
    "duration": 12,
    "start_time": "2022-02-23T10:17:15.048Z"
   },
   {
    "duration": 5,
    "start_time": "2022-02-23T10:19:17.416Z"
   },
   {
    "duration": 13,
    "start_time": "2022-02-23T10:19:23.672Z"
   },
   {
    "duration": 14,
    "start_time": "2022-02-23T10:19:53.353Z"
   },
   {
    "duration": 12,
    "start_time": "2022-02-23T10:20:42.104Z"
   },
   {
    "duration": 7,
    "start_time": "2022-02-23T10:21:42.760Z"
   },
   {
    "duration": 12,
    "start_time": "2022-02-23T10:21:52.280Z"
   },
   {
    "duration": 4,
    "start_time": "2022-02-23T10:21:59.337Z"
   },
   {
    "duration": 6,
    "start_time": "2022-02-23T10:22:00.137Z"
   },
   {
    "duration": 5,
    "start_time": "2022-02-23T10:22:02.392Z"
   },
   {
    "duration": 5,
    "start_time": "2022-02-23T10:22:02.738Z"
   },
   {
    "duration": 270,
    "start_time": "2022-02-23T10:22:03.064Z"
   },
   {
    "duration": 7,
    "start_time": "2022-02-23T10:22:09.152Z"
   },
   {
    "duration": 31,
    "start_time": "2022-02-23T10:22:15.999Z"
   },
   {
    "duration": 5,
    "start_time": "2022-02-23T10:22:19.305Z"
   },
   {
    "duration": 10,
    "start_time": "2022-02-23T10:22:19.703Z"
   },
   {
    "duration": 6,
    "start_time": "2022-02-23T10:22:22.121Z"
   },
   {
    "duration": 5,
    "start_time": "2022-02-23T10:22:22.553Z"
   },
   {
    "duration": 15,
    "start_time": "2022-02-23T10:22:22.952Z"
   },
   {
    "duration": 5,
    "start_time": "2022-02-23T10:22:47.112Z"
   },
   {
    "duration": 12,
    "start_time": "2022-02-23T10:22:48.600Z"
   },
   {
    "duration": 20,
    "start_time": "2022-02-23T10:27:13.087Z"
   },
   {
    "duration": 4,
    "start_time": "2022-02-23T10:27:13.463Z"
   },
   {
    "duration": 10,
    "start_time": "2022-02-23T10:27:13.748Z"
   },
   {
    "duration": 14,
    "start_time": "2022-02-23T10:29:11.750Z"
   },
   {
    "duration": 9,
    "start_time": "2022-02-23T10:29:19.318Z"
   },
   {
    "duration": 15,
    "start_time": "2022-02-23T10:30:30.441Z"
   },
   {
    "duration": 8,
    "start_time": "2022-02-23T10:30:32.315Z"
   },
   {
    "duration": 283,
    "start_time": "2022-02-23T10:32:52.950Z"
   },
   {
    "duration": 9,
    "start_time": "2022-02-23T10:32:53.400Z"
   },
   {
    "duration": 22,
    "start_time": "2022-02-23T10:33:02.167Z"
   },
   {
    "duration": 10,
    "start_time": "2022-02-23T10:33:02.775Z"
   },
   {
    "duration": 36,
    "start_time": "2022-02-23T10:35:18.661Z"
   },
   {
    "duration": 71,
    "start_time": "2022-02-23T10:51:04.663Z"
   },
   {
    "duration": 34,
    "start_time": "2022-02-23T10:51:56.646Z"
   },
   {
    "duration": 46,
    "start_time": "2022-02-23T10:52:29.619Z"
   },
   {
    "duration": 54,
    "start_time": "2022-02-23T10:52:46.628Z"
   },
   {
    "duration": 31,
    "start_time": "2022-02-23T10:53:02.807Z"
   },
   {
    "duration": 18,
    "start_time": "2022-02-23T10:54:22.594Z"
   },
   {
    "duration": 279,
    "start_time": "2022-02-23T10:56:08.835Z"
   },
   {
    "duration": 80,
    "start_time": "2022-02-23T10:56:14.375Z"
   },
   {
    "duration": 51,
    "start_time": "2022-02-23T10:56:14.458Z"
   },
   {
    "duration": 17,
    "start_time": "2022-02-23T10:56:14.513Z"
   },
   {
    "duration": 10,
    "start_time": "2022-02-23T10:56:14.534Z"
   },
   {
    "duration": 31,
    "start_time": "2022-02-23T10:56:14.546Z"
   },
   {
    "duration": 33,
    "start_time": "2022-02-23T10:56:14.579Z"
   },
   {
    "duration": 15,
    "start_time": "2022-02-23T10:56:14.615Z"
   },
   {
    "duration": 8,
    "start_time": "2022-02-23T10:56:14.633Z"
   },
   {
    "duration": 5,
    "start_time": "2022-02-23T10:56:14.645Z"
   },
   {
    "duration": 5,
    "start_time": "2022-02-23T10:56:14.653Z"
   },
   {
    "duration": 34,
    "start_time": "2022-02-23T10:56:14.661Z"
   },
   {
    "duration": 17,
    "start_time": "2022-02-23T10:56:14.697Z"
   },
   {
    "duration": 12,
    "start_time": "2022-02-23T10:56:14.717Z"
   },
   {
    "duration": 12,
    "start_time": "2022-02-23T10:56:14.732Z"
   },
   {
    "duration": 4,
    "start_time": "2022-02-23T10:56:14.746Z"
   },
   {
    "duration": 13,
    "start_time": "2022-02-23T10:56:14.795Z"
   },
   {
    "duration": 15,
    "start_time": "2022-02-23T10:56:14.811Z"
   },
   {
    "duration": 11,
    "start_time": "2022-02-23T10:56:14.828Z"
   },
   {
    "duration": 841,
    "start_time": "2022-02-23T10:56:14.841Z"
   },
   {
    "duration": 22,
    "start_time": "2022-02-23T10:56:15.685Z"
   },
   {
    "duration": 11,
    "start_time": "2022-02-23T10:56:15.710Z"
   },
   {
    "duration": 30,
    "start_time": "2022-02-23T10:56:15.724Z"
   },
   {
    "duration": 38,
    "start_time": "2022-02-23T10:56:15.756Z"
   },
   {
    "duration": 648,
    "start_time": "2022-02-23T10:56:15.798Z"
   },
   {
    "duration": 17,
    "start_time": "2022-02-23T10:56:16.449Z"
   },
   {
    "duration": 30,
    "start_time": "2022-02-23T10:56:16.469Z"
   },
   {
    "duration": 22,
    "start_time": "2022-02-23T10:56:16.505Z"
   },
   {
    "duration": 12,
    "start_time": "2022-02-23T10:56:16.531Z"
   },
   {
    "duration": 8,
    "start_time": "2022-02-23T10:56:16.546Z"
   },
   {
    "duration": 38,
    "start_time": "2022-02-23T10:56:16.557Z"
   },
   {
    "duration": 24,
    "start_time": "2022-02-23T10:56:16.597Z"
   },
   {
    "duration": 23,
    "start_time": "2022-02-23T10:56:16.624Z"
   },
   {
    "duration": 5,
    "start_time": "2022-02-23T10:56:16.650Z"
   },
   {
    "duration": 41,
    "start_time": "2022-02-23T10:56:16.657Z"
   },
   {
    "duration": 20,
    "start_time": "2022-02-23T10:56:16.701Z"
   },
   {
    "duration": 16,
    "start_time": "2022-02-23T10:56:16.725Z"
   },
   {
    "duration": 19,
    "start_time": "2022-02-23T10:56:16.745Z"
   },
   {
    "duration": 27,
    "start_time": "2022-02-23T10:56:16.767Z"
   },
   {
    "duration": 6,
    "start_time": "2022-02-23T10:56:16.797Z"
   },
   {
    "duration": 30,
    "start_time": "2022-02-23T10:56:16.806Z"
   },
   {
    "duration": 56,
    "start_time": "2022-02-23T10:56:16.838Z"
   },
   {
    "duration": 26,
    "start_time": "2022-02-23T10:56:16.897Z"
   },
   {
    "duration": 7,
    "start_time": "2022-02-23T10:56:16.925Z"
   },
   {
    "duration": 24,
    "start_time": "2022-02-23T10:56:16.934Z"
   },
   {
    "duration": 39,
    "start_time": "2022-02-23T10:56:16.961Z"
   },
   {
    "duration": 18,
    "start_time": "2022-02-23T10:56:18.788Z"
   },
   {
    "duration": 10,
    "start_time": "2022-02-23T10:56:22.497Z"
   },
   {
    "duration": 295,
    "start_time": "2022-02-23T10:56:40.008Z"
   },
   {
    "duration": 109,
    "start_time": "2022-02-23T10:56:43.697Z"
   },
   {
    "duration": 18,
    "start_time": "2022-02-23T10:56:43.809Z"
   },
   {
    "duration": 18,
    "start_time": "2022-02-23T10:56:43.830Z"
   },
   {
    "duration": 43,
    "start_time": "2022-02-23T10:56:43.851Z"
   },
   {
    "duration": 7,
    "start_time": "2022-02-23T10:56:43.896Z"
   },
   {
    "duration": 8,
    "start_time": "2022-02-23T10:56:43.905Z"
   },
   {
    "duration": 19,
    "start_time": "2022-02-23T10:56:43.915Z"
   },
   {
    "duration": 8,
    "start_time": "2022-02-23T10:56:43.937Z"
   },
   {
    "duration": 5,
    "start_time": "2022-02-23T10:56:43.996Z"
   },
   {
    "duration": 17,
    "start_time": "2022-02-23T10:56:44.005Z"
   },
   {
    "duration": 13,
    "start_time": "2022-02-23T10:56:44.024Z"
   },
   {
    "duration": 23,
    "start_time": "2022-02-23T10:56:44.039Z"
   },
   {
    "duration": 28,
    "start_time": "2022-02-23T10:56:44.065Z"
   },
   {
    "duration": 13,
    "start_time": "2022-02-23T10:56:44.096Z"
   },
   {
    "duration": 4,
    "start_time": "2022-02-23T10:56:44.112Z"
   },
   {
    "duration": 16,
    "start_time": "2022-02-23T10:56:44.118Z"
   },
   {
    "duration": 13,
    "start_time": "2022-02-23T10:56:44.138Z"
   },
   {
    "duration": 9,
    "start_time": "2022-02-23T10:56:44.154Z"
   },
   {
    "duration": 852,
    "start_time": "2022-02-23T10:56:44.195Z"
   },
   {
    "duration": 15,
    "start_time": "2022-02-23T10:56:45.050Z"
   },
   {
    "duration": 28,
    "start_time": "2022-02-23T10:56:45.068Z"
   },
   {
    "duration": 30,
    "start_time": "2022-02-23T10:56:45.099Z"
   },
   {
    "duration": 6,
    "start_time": "2022-02-23T10:56:45.131Z"
   },
   {
    "duration": 646,
    "start_time": "2022-02-23T10:56:45.139Z"
   },
   {
    "duration": 12,
    "start_time": "2022-02-23T10:56:45.788Z"
   },
   {
    "duration": 11,
    "start_time": "2022-02-23T10:56:45.807Z"
   },
   {
    "duration": 6,
    "start_time": "2022-02-23T10:56:45.823Z"
   },
   {
    "duration": 8,
    "start_time": "2022-02-23T10:56:45.832Z"
   },
   {
    "duration": 54,
    "start_time": "2022-02-23T10:56:45.842Z"
   },
   {
    "duration": 10,
    "start_time": "2022-02-23T10:56:45.899Z"
   },
   {
    "duration": 20,
    "start_time": "2022-02-23T10:56:45.912Z"
   },
   {
    "duration": 16,
    "start_time": "2022-02-23T10:56:45.934Z"
   },
   {
    "duration": 41,
    "start_time": "2022-02-23T10:56:45.953Z"
   },
   {
    "duration": 9,
    "start_time": "2022-02-23T10:56:45.996Z"
   },
   {
    "duration": 8,
    "start_time": "2022-02-23T10:56:46.008Z"
   },
   {
    "duration": 7,
    "start_time": "2022-02-23T10:56:46.018Z"
   },
   {
    "duration": 9,
    "start_time": "2022-02-23T10:56:46.028Z"
   },
   {
    "duration": 56,
    "start_time": "2022-02-23T10:56:46.041Z"
   },
   {
    "duration": 15,
    "start_time": "2022-02-23T10:56:46.101Z"
   },
   {
    "duration": 38,
    "start_time": "2022-02-23T10:56:46.120Z"
   },
   {
    "duration": 51,
    "start_time": "2022-02-23T10:56:46.161Z"
   },
   {
    "duration": 24,
    "start_time": "2022-02-23T10:56:46.214Z"
   },
   {
    "duration": 7,
    "start_time": "2022-02-23T10:56:46.240Z"
   },
   {
    "duration": 16,
    "start_time": "2022-02-23T10:56:46.249Z"
   },
   {
    "duration": 36,
    "start_time": "2022-02-23T10:56:46.268Z"
   },
   {
    "duration": 19,
    "start_time": "2022-02-23T10:56:50.418Z"
   },
   {
    "duration": 3,
    "start_time": "2022-02-23T10:56:55.706Z"
   },
   {
    "duration": 3,
    "start_time": "2022-02-23T10:56:59.970Z"
   },
   {
    "duration": 71,
    "start_time": "2022-02-23T10:57:11.785Z"
   },
   {
    "duration": 48,
    "start_time": "2022-02-23T10:57:11.859Z"
   },
   {
    "duration": 21,
    "start_time": "2022-02-23T10:57:11.911Z"
   },
   {
    "duration": 14,
    "start_time": "2022-02-23T10:57:11.936Z"
   },
   {
    "duration": 44,
    "start_time": "2022-02-23T10:57:11.954Z"
   },
   {
    "duration": 7,
    "start_time": "2022-02-23T10:57:12.001Z"
   },
   {
    "duration": 17,
    "start_time": "2022-02-23T10:57:12.011Z"
   },
   {
    "duration": 11,
    "start_time": "2022-02-23T10:57:12.031Z"
   },
   {
    "duration": 8,
    "start_time": "2022-02-23T10:57:12.045Z"
   },
   {
    "duration": 44,
    "start_time": "2022-02-23T10:57:12.056Z"
   },
   {
    "duration": 7,
    "start_time": "2022-02-23T10:57:12.103Z"
   },
   {
    "duration": 20,
    "start_time": "2022-02-23T10:57:12.112Z"
   },
   {
    "duration": 8,
    "start_time": "2022-02-23T10:57:12.136Z"
   },
   {
    "duration": 53,
    "start_time": "2022-02-23T10:57:12.147Z"
   },
   {
    "duration": 5,
    "start_time": "2022-02-23T10:57:12.203Z"
   },
   {
    "duration": 27,
    "start_time": "2022-02-23T10:57:12.210Z"
   },
   {
    "duration": 8,
    "start_time": "2022-02-23T10:57:12.240Z"
   },
   {
    "duration": 9,
    "start_time": "2022-02-23T10:57:12.251Z"
   },
   {
    "duration": 849,
    "start_time": "2022-02-23T10:57:12.263Z"
   },
   {
    "duration": 19,
    "start_time": "2022-02-23T10:57:13.115Z"
   },
   {
    "duration": 9,
    "start_time": "2022-02-23T10:57:13.137Z"
   },
   {
    "duration": 62,
    "start_time": "2022-02-23T10:57:13.149Z"
   },
   {
    "duration": 5,
    "start_time": "2022-02-23T10:57:13.213Z"
   },
   {
    "duration": 643,
    "start_time": "2022-02-23T10:57:13.221Z"
   },
   {
    "duration": 8,
    "start_time": "2022-02-23T10:57:13.867Z"
   },
   {
    "duration": 20,
    "start_time": "2022-02-23T10:57:13.879Z"
   },
   {
    "duration": 7,
    "start_time": "2022-02-23T10:57:13.905Z"
   },
   {
    "duration": 14,
    "start_time": "2022-02-23T10:57:13.915Z"
   },
   {
    "duration": 7,
    "start_time": "2022-02-23T10:57:13.932Z"
   },
   {
    "duration": 55,
    "start_time": "2022-02-23T10:57:13.941Z"
   },
   {
    "duration": 22,
    "start_time": "2022-02-23T10:57:14.000Z"
   },
   {
    "duration": 13,
    "start_time": "2022-02-23T10:57:14.025Z"
   },
   {
    "duration": 6,
    "start_time": "2022-02-23T10:57:14.040Z"
   },
   {
    "duration": 49,
    "start_time": "2022-02-23T10:57:14.050Z"
   },
   {
    "duration": 6,
    "start_time": "2022-02-23T10:57:14.101Z"
   },
   {
    "duration": 7,
    "start_time": "2022-02-23T10:57:14.110Z"
   },
   {
    "duration": 10,
    "start_time": "2022-02-23T10:57:14.119Z"
   },
   {
    "duration": 7,
    "start_time": "2022-02-23T10:57:14.132Z"
   },
   {
    "duration": 55,
    "start_time": "2022-02-23T10:57:14.141Z"
   },
   {
    "duration": 28,
    "start_time": "2022-02-23T10:57:14.199Z"
   },
   {
    "duration": 31,
    "start_time": "2022-02-23T10:57:14.229Z"
   },
   {
    "duration": 54,
    "start_time": "2022-02-23T10:57:14.262Z"
   },
   {
    "duration": 8,
    "start_time": "2022-02-23T10:57:14.319Z"
   },
   {
    "duration": 24,
    "start_time": "2022-02-23T10:57:14.330Z"
   },
   {
    "duration": 45,
    "start_time": "2022-02-23T10:57:14.357Z"
   },
   {
    "duration": 20,
    "start_time": "2022-02-23T10:57:14.405Z"
   },
   {
    "duration": 9,
    "start_time": "2022-02-23T10:57:17.858Z"
   },
   {
    "duration": 26,
    "start_time": "2022-02-23T11:06:54.416Z"
   },
   {
    "duration": 57,
    "start_time": "2022-02-23T11:07:01.889Z"
   },
   {
    "duration": 78,
    "start_time": "2022-02-23T11:07:28.136Z"
   },
   {
    "duration": 20,
    "start_time": "2022-02-23T11:07:28.217Z"
   },
   {
    "duration": 16,
    "start_time": "2022-02-23T11:07:28.241Z"
   },
   {
    "duration": 38,
    "start_time": "2022-02-23T11:07:28.261Z"
   },
   {
    "duration": 8,
    "start_time": "2022-02-23T11:07:28.301Z"
   },
   {
    "duration": 9,
    "start_time": "2022-02-23T11:07:28.312Z"
   },
   {
    "duration": 20,
    "start_time": "2022-02-23T11:07:28.324Z"
   },
   {
    "duration": 47,
    "start_time": "2022-02-23T11:07:28.347Z"
   },
   {
    "duration": 5,
    "start_time": "2022-02-23T11:07:28.398Z"
   },
   {
    "duration": 10,
    "start_time": "2022-02-23T11:07:28.407Z"
   },
   {
    "duration": 10,
    "start_time": "2022-02-23T11:07:28.420Z"
   },
   {
    "duration": 17,
    "start_time": "2022-02-23T11:07:28.433Z"
   },
   {
    "duration": 41,
    "start_time": "2022-02-23T11:07:28.453Z"
   },
   {
    "duration": 11,
    "start_time": "2022-02-23T11:07:28.497Z"
   },
   {
    "duration": 19,
    "start_time": "2022-02-23T11:07:28.511Z"
   },
   {
    "duration": 22,
    "start_time": "2022-02-23T11:07:28.533Z"
   },
   {
    "duration": 10,
    "start_time": "2022-02-23T11:07:28.558Z"
   },
   {
    "duration": 27,
    "start_time": "2022-02-23T11:07:28.572Z"
   },
   {
    "duration": 874,
    "start_time": "2022-02-23T11:07:28.602Z"
   },
   {
    "duration": 22,
    "start_time": "2022-02-23T11:07:29.478Z"
   },
   {
    "duration": 9,
    "start_time": "2022-02-23T11:07:29.504Z"
   },
   {
    "duration": 33,
    "start_time": "2022-02-23T11:07:29.516Z"
   },
   {
    "duration": 5,
    "start_time": "2022-02-23T11:07:29.553Z"
   },
   {
    "duration": 637,
    "start_time": "2022-02-23T11:07:29.595Z"
   },
   {
    "duration": 17,
    "start_time": "2022-02-23T11:07:30.235Z"
   },
   {
    "duration": 42,
    "start_time": "2022-02-23T11:07:30.254Z"
   },
   {
    "duration": 7,
    "start_time": "2022-02-23T11:07:30.303Z"
   },
   {
    "duration": 14,
    "start_time": "2022-02-23T11:07:30.313Z"
   },
   {
    "duration": 10,
    "start_time": "2022-02-23T11:07:30.330Z"
   },
   {
    "duration": 18,
    "start_time": "2022-02-23T11:07:30.342Z"
   },
   {
    "duration": 48,
    "start_time": "2022-02-23T11:07:30.362Z"
   },
   {
    "duration": 53,
    "start_time": "2022-02-23T11:07:30.412Z"
   },
   {
    "duration": 6,
    "start_time": "2022-02-23T11:07:30.468Z"
   },
   {
    "duration": 13,
    "start_time": "2022-02-23T11:07:30.477Z"
   },
   {
    "duration": 10,
    "start_time": "2022-02-23T11:07:30.493Z"
   },
   {
    "duration": 18,
    "start_time": "2022-02-23T11:07:30.506Z"
   },
   {
    "duration": 11,
    "start_time": "2022-02-23T11:07:30.528Z"
   },
   {
    "duration": 15,
    "start_time": "2022-02-23T11:07:30.542Z"
   },
   {
    "duration": 34,
    "start_time": "2022-02-23T11:07:30.561Z"
   },
   {
    "duration": 47,
    "start_time": "2022-02-23T11:07:30.597Z"
   },
   {
    "duration": 28,
    "start_time": "2022-02-23T11:07:30.646Z"
   },
   {
    "duration": 29,
    "start_time": "2022-02-23T11:07:30.677Z"
   },
   {
    "duration": 7,
    "start_time": "2022-02-23T11:07:30.708Z"
   },
   {
    "duration": 20,
    "start_time": "2022-02-23T11:07:30.717Z"
   },
   {
    "duration": 28,
    "start_time": "2022-02-23T11:07:30.740Z"
   },
   {
    "duration": 33,
    "start_time": "2022-02-23T11:07:30.772Z"
   },
   {
    "duration": 4,
    "start_time": "2022-02-23T11:07:30.808Z"
   },
   {
    "duration": 24,
    "start_time": "2022-02-23T11:07:30.815Z"
   },
   {
    "duration": 7,
    "start_time": "2022-02-23T11:07:30.841Z"
   },
   {
    "duration": 52,
    "start_time": "2022-02-23T11:07:30.851Z"
   },
   {
    "duration": 7,
    "start_time": "2022-02-23T11:07:30.906Z"
   },
   {
    "duration": 60,
    "start_time": "2022-02-23T11:07:30.916Z"
   },
   {
    "duration": 44,
    "start_time": "2022-02-23T11:07:30.979Z"
   },
   {
    "duration": 11,
    "start_time": "2022-02-23T11:07:31.026Z"
   },
   {
    "duration": 92,
    "start_time": "2022-02-23T11:07:31.040Z"
   },
   {
    "duration": 30,
    "start_time": "2022-02-23T11:07:34.605Z"
   },
   {
    "duration": 35,
    "start_time": "2022-02-23T11:07:45.792Z"
   },
   {
    "duration": 35,
    "start_time": "2022-02-23T11:08:17.024Z"
   },
   {
    "duration": 36,
    "start_time": "2022-02-23T11:08:22.848Z"
   },
   {
    "duration": 32,
    "start_time": "2022-02-23T11:11:38.433Z"
   },
   {
    "duration": 36,
    "start_time": "2022-02-23T11:11:55.749Z"
   },
   {
    "duration": 90,
    "start_time": "2022-02-23T11:20:14.318Z"
   },
   {
    "duration": 4,
    "start_time": "2022-02-23T11:23:43.582Z"
   },
   {
    "duration": 4,
    "start_time": "2022-02-23T11:24:36.300Z"
   },
   {
    "duration": 102,
    "start_time": "2022-02-23T11:25:55.853Z"
   },
   {
    "duration": 125,
    "start_time": "2022-02-23T11:45:47.999Z"
   },
   {
    "duration": 19,
    "start_time": "2022-02-23T11:45:48.127Z"
   },
   {
    "duration": 46,
    "start_time": "2022-02-23T11:45:48.149Z"
   },
   {
    "duration": 10,
    "start_time": "2022-02-23T11:45:48.198Z"
   },
   {
    "duration": 17,
    "start_time": "2022-02-23T11:45:48.210Z"
   },
   {
    "duration": 8,
    "start_time": "2022-02-23T11:45:48.229Z"
   },
   {
    "duration": 15,
    "start_time": "2022-02-23T11:45:48.239Z"
   },
   {
    "duration": 42,
    "start_time": "2022-02-23T11:45:48.257Z"
   },
   {
    "duration": 5,
    "start_time": "2022-02-23T11:45:48.304Z"
   },
   {
    "duration": 13,
    "start_time": "2022-02-23T11:45:48.312Z"
   },
   {
    "duration": 7,
    "start_time": "2022-02-23T11:45:48.329Z"
   },
   {
    "duration": 55,
    "start_time": "2022-02-23T11:45:48.339Z"
   },
   {
    "duration": 8,
    "start_time": "2022-02-23T11:45:48.397Z"
   },
   {
    "duration": 19,
    "start_time": "2022-02-23T11:45:48.408Z"
   },
   {
    "duration": 12,
    "start_time": "2022-02-23T11:45:48.430Z"
   },
   {
    "duration": 24,
    "start_time": "2022-02-23T11:45:48.445Z"
   },
   {
    "duration": 25,
    "start_time": "2022-02-23T11:45:48.472Z"
   },
   {
    "duration": 9,
    "start_time": "2022-02-23T11:45:48.500Z"
   },
   {
    "duration": 865,
    "start_time": "2022-02-23T11:45:48.512Z"
   },
   {
    "duration": 20,
    "start_time": "2022-02-23T11:45:49.380Z"
   },
   {
    "duration": 12,
    "start_time": "2022-02-23T11:45:49.404Z"
   },
   {
    "duration": 31,
    "start_time": "2022-02-23T11:45:49.419Z"
   },
   {
    "duration": 6,
    "start_time": "2022-02-23T11:45:49.453Z"
   },
   {
    "duration": 665,
    "start_time": "2022-02-23T11:45:49.462Z"
   },
   {
    "duration": 13,
    "start_time": "2022-02-23T11:45:50.130Z"
   },
   {
    "duration": 8,
    "start_time": "2022-02-23T11:45:50.146Z"
   },
   {
    "duration": 8,
    "start_time": "2022-02-23T11:45:50.193Z"
   },
   {
    "duration": 9,
    "start_time": "2022-02-23T11:45:50.205Z"
   },
   {
    "duration": 6,
    "start_time": "2022-02-23T11:45:50.217Z"
   },
   {
    "duration": 9,
    "start_time": "2022-02-23T11:45:50.226Z"
   },
   {
    "duration": 61,
    "start_time": "2022-02-23T11:45:50.237Z"
   },
   {
    "duration": 27,
    "start_time": "2022-02-23T11:45:50.300Z"
   },
   {
    "duration": 7,
    "start_time": "2022-02-23T11:45:50.330Z"
   },
   {
    "duration": 12,
    "start_time": "2022-02-23T11:45:50.340Z"
   },
   {
    "duration": 39,
    "start_time": "2022-02-23T11:45:50.354Z"
   },
   {
    "duration": 6,
    "start_time": "2022-02-23T11:45:50.396Z"
   },
   {
    "duration": 14,
    "start_time": "2022-02-23T11:45:50.405Z"
   },
   {
    "duration": 9,
    "start_time": "2022-02-23T11:45:50.423Z"
   },
   {
    "duration": 9,
    "start_time": "2022-02-23T11:45:50.435Z"
   },
   {
    "duration": 72,
    "start_time": "2022-02-23T11:45:50.447Z"
   },
   {
    "duration": 41,
    "start_time": "2022-02-23T11:45:50.522Z"
   },
   {
    "duration": 54,
    "start_time": "2022-02-23T11:45:50.566Z"
   },
   {
    "duration": 9,
    "start_time": "2022-02-23T11:45:50.623Z"
   },
   {
    "duration": 18,
    "start_time": "2022-02-23T11:45:50.634Z"
   },
   {
    "duration": 41,
    "start_time": "2022-02-23T11:45:50.654Z"
   },
   {
    "duration": 18,
    "start_time": "2022-02-23T11:45:50.698Z"
   },
   {
    "duration": 16,
    "start_time": "2022-02-23T11:45:50.719Z"
   },
   {
    "duration": 25,
    "start_time": "2022-02-23T11:45:50.737Z"
   },
   {
    "duration": 31,
    "start_time": "2022-02-23T11:45:50.765Z"
   },
   {
    "duration": 39,
    "start_time": "2022-02-23T11:45:50.799Z"
   },
   {
    "duration": 10,
    "start_time": "2022-02-23T11:45:50.841Z"
   },
   {
    "duration": 74,
    "start_time": "2022-02-23T11:45:50.853Z"
   },
   {
    "duration": 38,
    "start_time": "2022-02-23T11:45:50.930Z"
   },
   {
    "duration": 30,
    "start_time": "2022-02-23T11:45:50.971Z"
   },
   {
    "duration": 42,
    "start_time": "2022-02-23T11:45:51.003Z"
   },
   {
    "duration": 64,
    "start_time": "2022-02-23T11:45:51.048Z"
   },
   {
    "duration": 865,
    "start_time": "2022-03-05T22:13:52.560Z"
   },
   {
    "duration": 26,
    "start_time": "2022-03-05T22:13:53.428Z"
   },
   {
    "duration": 27,
    "start_time": "2022-03-05T22:13:53.457Z"
   },
   {
    "duration": 8,
    "start_time": "2022-03-05T22:13:53.487Z"
   },
   {
    "duration": 17,
    "start_time": "2022-03-05T22:13:53.497Z"
   },
   {
    "duration": 12,
    "start_time": "2022-03-05T22:13:53.517Z"
   },
   {
    "duration": 14,
    "start_time": "2022-03-05T22:13:53.531Z"
   },
   {
    "duration": 37,
    "start_time": "2022-03-05T22:13:53.547Z"
   },
   {
    "duration": 10,
    "start_time": "2022-03-05T22:13:53.588Z"
   },
   {
    "duration": 5,
    "start_time": "2022-03-05T22:13:53.601Z"
   },
   {
    "duration": 6,
    "start_time": "2022-03-05T22:13:53.608Z"
   },
   {
    "duration": 17,
    "start_time": "2022-03-05T22:13:53.616Z"
   },
   {
    "duration": 8,
    "start_time": "2022-03-05T22:13:53.635Z"
   },
   {
    "duration": 13,
    "start_time": "2022-03-05T22:13:53.682Z"
   },
   {
    "duration": 3,
    "start_time": "2022-03-05T22:13:53.698Z"
   },
   {
    "duration": 19,
    "start_time": "2022-03-05T22:13:53.703Z"
   },
   {
    "duration": 10,
    "start_time": "2022-03-05T22:13:53.724Z"
   },
   {
    "duration": 6,
    "start_time": "2022-03-05T22:13:53.737Z"
   },
   {
    "duration": 826,
    "start_time": "2022-03-05T22:13:53.747Z"
   },
   {
    "duration": 14,
    "start_time": "2022-03-05T22:13:54.575Z"
   },
   {
    "duration": 8,
    "start_time": "2022-03-05T22:13:54.592Z"
   },
   {
    "duration": 26,
    "start_time": "2022-03-05T22:13:54.603Z"
   },
   {
    "duration": 5,
    "start_time": "2022-03-05T22:13:54.632Z"
   },
   {
    "duration": 632,
    "start_time": "2022-03-05T22:13:54.640Z"
   },
   {
    "duration": 17,
    "start_time": "2022-03-05T22:13:55.274Z"
   },
   {
    "duration": 17,
    "start_time": "2022-03-05T22:13:55.294Z"
   },
   {
    "duration": 9,
    "start_time": "2022-03-05T22:13:55.316Z"
   },
   {
    "duration": 15,
    "start_time": "2022-03-05T22:13:55.328Z"
   },
   {
    "duration": 37,
    "start_time": "2022-03-05T22:13:55.346Z"
   },
   {
    "duration": 7,
    "start_time": "2022-03-05T22:13:55.385Z"
   },
   {
    "duration": 47,
    "start_time": "2022-03-05T22:13:55.394Z"
   },
   {
    "duration": 20,
    "start_time": "2022-03-05T22:13:55.443Z"
   },
   {
    "duration": 6,
    "start_time": "2022-03-05T22:13:55.466Z"
   },
   {
    "duration": 22,
    "start_time": "2022-03-05T22:13:55.474Z"
   },
   {
    "duration": 18,
    "start_time": "2022-03-05T22:13:55.499Z"
   },
   {
    "duration": 17,
    "start_time": "2022-03-05T22:13:55.519Z"
   },
   {
    "duration": 26,
    "start_time": "2022-03-05T22:13:55.538Z"
   },
   {
    "duration": 14,
    "start_time": "2022-03-05T22:13:55.566Z"
   },
   {
    "duration": 23,
    "start_time": "2022-03-05T22:13:55.583Z"
   },
   {
    "duration": 50,
    "start_time": "2022-03-05T22:13:55.608Z"
   },
   {
    "duration": 29,
    "start_time": "2022-03-05T22:13:55.661Z"
   },
   {
    "duration": 24,
    "start_time": "2022-03-05T22:13:55.692Z"
   },
   {
    "duration": 6,
    "start_time": "2022-03-05T22:13:55.719Z"
   },
   {
    "duration": 31,
    "start_time": "2022-03-05T22:13:55.728Z"
   },
   {
    "duration": 27,
    "start_time": "2022-03-05T22:13:55.762Z"
   },
   {
    "duration": 17,
    "start_time": "2022-03-05T22:13:55.792Z"
   },
   {
    "duration": 18,
    "start_time": "2022-03-05T22:13:55.812Z"
   },
   {
    "duration": 25,
    "start_time": "2022-03-05T22:13:55.833Z"
   },
   {
    "duration": 15,
    "start_time": "2022-03-05T22:13:55.860Z"
   },
   {
    "duration": 43,
    "start_time": "2022-03-05T22:13:55.877Z"
   },
   {
    "duration": 20,
    "start_time": "2022-03-05T22:13:55.922Z"
   },
   {
    "duration": 46,
    "start_time": "2022-03-05T22:13:55.944Z"
   },
   {
    "duration": 31,
    "start_time": "2022-03-05T22:13:55.993Z"
   },
   {
    "duration": 10,
    "start_time": "2022-03-05T22:13:56.027Z"
   },
   {
    "duration": 64,
    "start_time": "2022-03-05T22:13:56.039Z"
   },
   {
    "duration": 60,
    "start_time": "2022-03-05T22:13:56.107Z"
   },
   {
    "duration": 6,
    "start_time": "2022-03-05T22:17:07.649Z"
   },
   {
    "duration": 9,
    "start_time": "2022-03-05T22:17:25.039Z"
   },
   {
    "duration": 69,
    "start_time": "2022-03-05T22:17:35.859Z"
   },
   {
    "duration": 22,
    "start_time": "2022-03-05T22:17:35.931Z"
   },
   {
    "duration": 19,
    "start_time": "2022-03-05T22:17:35.984Z"
   },
   {
    "duration": 9,
    "start_time": "2022-03-05T22:17:36.007Z"
   },
   {
    "duration": 7,
    "start_time": "2022-03-05T22:17:36.019Z"
   },
   {
    "duration": 55,
    "start_time": "2022-03-05T22:17:36.029Z"
   },
   {
    "duration": 17,
    "start_time": "2022-03-05T22:17:36.086Z"
   },
   {
    "duration": 15,
    "start_time": "2022-03-05T22:17:36.109Z"
   },
   {
    "duration": 6,
    "start_time": "2022-03-05T22:17:36.128Z"
   },
   {
    "duration": 49,
    "start_time": "2022-03-05T22:17:36.137Z"
   },
   {
    "duration": 9,
    "start_time": "2022-03-05T22:17:36.189Z"
   },
   {
    "duration": 16,
    "start_time": "2022-03-05T22:17:36.200Z"
   },
   {
    "duration": 8,
    "start_time": "2022-03-05T22:17:36.219Z"
   },
   {
    "duration": 13,
    "start_time": "2022-03-05T22:17:36.229Z"
   },
   {
    "duration": 3,
    "start_time": "2022-03-05T22:17:36.244Z"
   },
   {
    "duration": 42,
    "start_time": "2022-03-05T22:17:36.250Z"
   },
   {
    "duration": 10,
    "start_time": "2022-03-05T22:17:36.295Z"
   },
   {
    "duration": 6,
    "start_time": "2022-03-05T22:17:36.307Z"
   },
   {
    "duration": 818,
    "start_time": "2022-03-05T22:17:36.315Z"
   },
   {
    "duration": 16,
    "start_time": "2022-03-05T22:17:37.135Z"
   },
   {
    "duration": 34,
    "start_time": "2022-03-05T22:17:37.154Z"
   },
   {
    "duration": 38,
    "start_time": "2022-03-05T22:17:37.191Z"
   },
   {
    "duration": 7,
    "start_time": "2022-03-05T22:17:37.237Z"
   },
   {
    "duration": 1044,
    "start_time": "2022-03-05T22:17:37.248Z"
   },
   {
    "duration": 14,
    "start_time": "2022-03-05T22:17:38.295Z"
   },
   {
    "duration": 10,
    "start_time": "2022-03-05T22:17:38.312Z"
   },
   {
    "duration": 7,
    "start_time": "2022-03-05T22:17:38.325Z"
   },
   {
    "duration": 50,
    "start_time": "2022-03-05T22:17:38.335Z"
   },
   {
    "duration": 8,
    "start_time": "2022-03-05T22:17:38.388Z"
   },
   {
    "duration": 10,
    "start_time": "2022-03-05T22:17:38.399Z"
   },
   {
    "duration": 20,
    "start_time": "2022-03-05T22:17:38.412Z"
   },
   {
    "duration": 52,
    "start_time": "2022-03-05T22:17:38.435Z"
   },
   {
    "duration": 6,
    "start_time": "2022-03-05T22:17:38.490Z"
   },
   {
    "duration": 14,
    "start_time": "2022-03-05T22:17:38.498Z"
   },
   {
    "duration": 7,
    "start_time": "2022-03-05T22:17:38.515Z"
   },
   {
    "duration": 10,
    "start_time": "2022-03-05T22:17:38.524Z"
   },
   {
    "duration": 46,
    "start_time": "2022-03-05T22:17:38.537Z"
   },
   {
    "duration": 9,
    "start_time": "2022-03-05T22:17:38.585Z"
   },
   {
    "duration": 8,
    "start_time": "2022-03-05T22:17:38.596Z"
   },
   {
    "duration": 24,
    "start_time": "2022-03-05T22:17:38.606Z"
   },
   {
    "duration": 51,
    "start_time": "2022-03-05T22:17:38.632Z"
   },
   {
    "duration": 22,
    "start_time": "2022-03-05T22:17:38.685Z"
   },
   {
    "duration": 5,
    "start_time": "2022-03-05T22:17:38.710Z"
   },
   {
    "duration": 15,
    "start_time": "2022-03-05T22:17:38.718Z"
   },
   {
    "duration": 48,
    "start_time": "2022-03-05T22:17:38.736Z"
   },
   {
    "duration": 17,
    "start_time": "2022-03-05T22:17:38.786Z"
   },
   {
    "duration": 18,
    "start_time": "2022-03-05T22:17:44.319Z"
   },
   {
    "duration": 23,
    "start_time": "2022-03-05T22:19:03.038Z"
   },
   {
    "duration": 638,
    "start_time": "2022-03-06T21:14:41.907Z"
   },
   {
    "duration": 18,
    "start_time": "2022-03-06T21:14:42.547Z"
   },
   {
    "duration": 12,
    "start_time": "2022-03-06T21:14:42.568Z"
   },
   {
    "duration": 19,
    "start_time": "2022-03-06T21:14:42.582Z"
   },
   {
    "duration": 6,
    "start_time": "2022-03-06T21:14:42.603Z"
   },
   {
    "duration": 6,
    "start_time": "2022-03-06T21:14:42.611Z"
   },
   {
    "duration": 10,
    "start_time": "2022-03-06T21:14:42.619Z"
   },
   {
    "duration": 6,
    "start_time": "2022-03-06T21:14:42.632Z"
   },
   {
    "duration": 4,
    "start_time": "2022-03-06T21:14:42.640Z"
   },
   {
    "duration": 5,
    "start_time": "2022-03-06T21:14:42.646Z"
   },
   {
    "duration": 7,
    "start_time": "2022-03-06T21:14:42.652Z"
   },
   {
    "duration": 44,
    "start_time": "2022-03-06T21:14:42.660Z"
   },
   {
    "duration": 12,
    "start_time": "2022-03-06T21:14:42.705Z"
   },
   {
    "duration": 11,
    "start_time": "2022-03-06T21:14:42.719Z"
   },
   {
    "duration": 3,
    "start_time": "2022-03-06T21:14:42.732Z"
   },
   {
    "duration": 16,
    "start_time": "2022-03-06T21:14:42.736Z"
   },
   {
    "duration": 11,
    "start_time": "2022-03-06T21:14:42.754Z"
   },
   {
    "duration": 11,
    "start_time": "2022-03-06T21:14:42.767Z"
   },
   {
    "duration": 602,
    "start_time": "2022-03-06T21:14:42.781Z"
   },
   {
    "duration": 29,
    "start_time": "2022-03-06T21:14:43.385Z"
   },
   {
    "duration": 6,
    "start_time": "2022-03-06T21:14:43.416Z"
   },
   {
    "duration": 24,
    "start_time": "2022-03-06T21:14:43.424Z"
   },
   {
    "duration": 3,
    "start_time": "2022-03-06T21:14:43.453Z"
   },
   {
    "duration": 385,
    "start_time": "2022-03-06T21:14:43.458Z"
   },
   {
    "duration": 10,
    "start_time": "2022-03-06T21:14:43.845Z"
   },
   {
    "duration": 5,
    "start_time": "2022-03-06T21:14:43.857Z"
   },
   {
    "duration": 7,
    "start_time": "2022-03-06T21:14:43.864Z"
   },
   {
    "duration": 31,
    "start_time": "2022-03-06T21:14:43.873Z"
   },
   {
    "duration": 5,
    "start_time": "2022-03-06T21:14:43.906Z"
   },
   {
    "duration": 8,
    "start_time": "2022-03-06T21:14:43.912Z"
   },
   {
    "duration": 14,
    "start_time": "2022-03-06T21:14:43.922Z"
   },
   {
    "duration": 15,
    "start_time": "2022-03-06T21:14:43.938Z"
   },
   {
    "duration": 4,
    "start_time": "2022-03-06T21:14:43.955Z"
   },
   {
    "duration": 10,
    "start_time": "2022-03-06T21:14:43.960Z"
   },
   {
    "duration": 33,
    "start_time": "2022-03-06T21:14:43.971Z"
   },
   {
    "duration": 7,
    "start_time": "2022-03-06T21:14:44.005Z"
   },
   {
    "duration": 13,
    "start_time": "2022-03-06T21:14:44.014Z"
   },
   {
    "duration": 11,
    "start_time": "2022-03-06T21:14:44.028Z"
   },
   {
    "duration": 9,
    "start_time": "2022-03-06T21:14:44.040Z"
   },
   {
    "duration": 22,
    "start_time": "2022-03-06T21:14:44.051Z"
   },
   {
    "duration": 31,
    "start_time": "2022-03-06T21:14:44.075Z"
   },
   {
    "duration": 21,
    "start_time": "2022-03-06T21:14:50.748Z"
   },
   {
    "duration": 56,
    "start_time": "2022-03-06T21:18:24.525Z"
   },
   {
    "duration": 12,
    "start_time": "2022-03-06T21:18:24.583Z"
   },
   {
    "duration": 20,
    "start_time": "2022-03-06T21:18:24.597Z"
   },
   {
    "duration": 5,
    "start_time": "2022-03-06T21:18:24.620Z"
   },
   {
    "duration": 9,
    "start_time": "2022-03-06T21:18:24.627Z"
   },
   {
    "duration": 12,
    "start_time": "2022-03-06T21:18:24.638Z"
   },
   {
    "duration": 12,
    "start_time": "2022-03-06T21:18:24.652Z"
   },
   {
    "duration": 34,
    "start_time": "2022-03-06T21:18:24.668Z"
   },
   {
    "duration": 8,
    "start_time": "2022-03-06T21:18:24.705Z"
   },
   {
    "duration": 6,
    "start_time": "2022-03-06T21:18:24.715Z"
   },
   {
    "duration": 10,
    "start_time": "2022-03-06T21:18:24.722Z"
   },
   {
    "duration": 19,
    "start_time": "2022-03-06T21:18:24.734Z"
   },
   {
    "duration": 7,
    "start_time": "2022-03-06T21:18:24.755Z"
   },
   {
    "duration": 19,
    "start_time": "2022-03-06T21:18:24.764Z"
   },
   {
    "duration": 3,
    "start_time": "2022-03-06T21:18:24.785Z"
   },
   {
    "duration": 8,
    "start_time": "2022-03-06T21:18:24.802Z"
   },
   {
    "duration": 14,
    "start_time": "2022-03-06T21:18:24.812Z"
   },
   {
    "duration": 11,
    "start_time": "2022-03-06T21:18:24.828Z"
   },
   {
    "duration": 469,
    "start_time": "2022-03-06T21:18:24.841Z"
   },
   {
    "duration": 9,
    "start_time": "2022-03-06T21:18:25.312Z"
   },
   {
    "duration": 7,
    "start_time": "2022-03-06T21:18:25.323Z"
   },
   {
    "duration": 19,
    "start_time": "2022-03-06T21:18:25.331Z"
   },
   {
    "duration": 4,
    "start_time": "2022-03-06T21:18:25.353Z"
   },
   {
    "duration": 387,
    "start_time": "2022-03-06T21:18:25.359Z"
   },
   {
    "duration": 10,
    "start_time": "2022-03-06T21:18:25.748Z"
   },
   {
    "duration": 8,
    "start_time": "2022-03-06T21:18:25.760Z"
   },
   {
    "duration": 7,
    "start_time": "2022-03-06T21:18:25.770Z"
   },
   {
    "duration": 26,
    "start_time": "2022-03-06T21:18:25.779Z"
   },
   {
    "duration": 6,
    "start_time": "2022-03-06T21:18:25.807Z"
   },
   {
    "duration": 8,
    "start_time": "2022-03-06T21:18:25.814Z"
   },
   {
    "duration": 18,
    "start_time": "2022-03-06T21:18:25.823Z"
   },
   {
    "duration": 10,
    "start_time": "2022-03-06T21:18:25.843Z"
   },
   {
    "duration": 6,
    "start_time": "2022-03-06T21:18:25.855Z"
   },
   {
    "duration": 46,
    "start_time": "2022-03-06T21:18:25.862Z"
   },
   {
    "duration": 10,
    "start_time": "2022-03-06T21:18:25.910Z"
   },
   {
    "duration": 11,
    "start_time": "2022-03-06T21:18:25.922Z"
   },
   {
    "duration": 24,
    "start_time": "2022-03-06T21:18:25.935Z"
   },
   {
    "duration": 11,
    "start_time": "2022-03-06T21:18:25.961Z"
   },
   {
    "duration": 10,
    "start_time": "2022-03-06T21:18:25.974Z"
   },
   {
    "duration": 28,
    "start_time": "2022-03-06T21:18:25.986Z"
   },
   {
    "duration": 19,
    "start_time": "2022-03-06T21:18:26.016Z"
   },
   {
    "duration": 17,
    "start_time": "2022-03-06T21:18:26.037Z"
   },
   {
    "duration": 4,
    "start_time": "2022-03-06T21:18:26.056Z"
   },
   {
    "duration": 16,
    "start_time": "2022-03-06T21:18:26.062Z"
   },
   {
    "duration": 28,
    "start_time": "2022-03-06T21:18:26.080Z"
   },
   {
    "duration": 14,
    "start_time": "2022-03-06T21:18:44.789Z"
   },
   {
    "duration": 10,
    "start_time": "2022-03-06T21:18:56.380Z"
   },
   {
    "duration": 257,
    "start_time": "2022-03-06T21:20:33.550Z"
   },
   {
    "duration": 189,
    "start_time": "2022-03-06T21:21:03.091Z"
   },
   {
    "duration": 61,
    "start_time": "2022-03-06T21:21:14.574Z"
   },
   {
    "duration": 14,
    "start_time": "2022-03-06T21:21:14.637Z"
   },
   {
    "duration": 12,
    "start_time": "2022-03-06T21:21:14.654Z"
   },
   {
    "duration": 34,
    "start_time": "2022-03-06T21:21:14.669Z"
   },
   {
    "duration": 7,
    "start_time": "2022-03-06T21:21:14.705Z"
   },
   {
    "duration": 11,
    "start_time": "2022-03-06T21:21:14.714Z"
   },
   {
    "duration": 10,
    "start_time": "2022-03-06T21:21:14.727Z"
   },
   {
    "duration": 13,
    "start_time": "2022-03-06T21:21:14.740Z"
   },
   {
    "duration": 8,
    "start_time": "2022-03-06T21:21:14.755Z"
   },
   {
    "duration": 6,
    "start_time": "2022-03-06T21:21:14.765Z"
   },
   {
    "duration": 9,
    "start_time": "2022-03-06T21:21:14.802Z"
   },
   {
    "duration": 11,
    "start_time": "2022-03-06T21:21:14.814Z"
   },
   {
    "duration": 11,
    "start_time": "2022-03-06T21:21:14.827Z"
   },
   {
    "duration": 12,
    "start_time": "2022-03-06T21:21:14.839Z"
   },
   {
    "duration": 2,
    "start_time": "2022-03-06T21:21:14.853Z"
   },
   {
    "duration": 13,
    "start_time": "2022-03-06T21:21:14.857Z"
   },
   {
    "duration": 11,
    "start_time": "2022-03-06T21:21:14.872Z"
   },
   {
    "duration": 16,
    "start_time": "2022-03-06T21:21:14.885Z"
   },
   {
    "duration": 505,
    "start_time": "2022-03-06T21:21:14.903Z"
   },
   {
    "duration": 10,
    "start_time": "2022-03-06T21:21:15.410Z"
   },
   {
    "duration": 5,
    "start_time": "2022-03-06T21:21:15.422Z"
   },
   {
    "duration": 23,
    "start_time": "2022-03-06T21:21:15.429Z"
   },
   {
    "duration": 4,
    "start_time": "2022-03-06T21:21:15.456Z"
   },
   {
    "duration": 390,
    "start_time": "2022-03-06T21:21:15.462Z"
   },
   {
    "duration": 9,
    "start_time": "2022-03-06T21:21:15.854Z"
   },
   {
    "duration": 14,
    "start_time": "2022-03-06T21:21:15.865Z"
   },
   {
    "duration": 21,
    "start_time": "2022-03-06T21:21:15.881Z"
   },
   {
    "duration": 14,
    "start_time": "2022-03-06T21:21:15.904Z"
   },
   {
    "duration": 12,
    "start_time": "2022-03-06T21:21:15.920Z"
   },
   {
    "duration": 19,
    "start_time": "2022-03-06T21:21:15.934Z"
   },
   {
    "duration": 26,
    "start_time": "2022-03-06T21:21:15.955Z"
   },
   {
    "duration": 21,
    "start_time": "2022-03-06T21:21:15.983Z"
   },
   {
    "duration": 17,
    "start_time": "2022-03-06T21:21:16.006Z"
   },
   {
    "duration": 11,
    "start_time": "2022-03-06T21:21:16.025Z"
   },
   {
    "duration": 19,
    "start_time": "2022-03-06T21:21:16.038Z"
   },
   {
    "duration": 14,
    "start_time": "2022-03-06T21:21:16.059Z"
   },
   {
    "duration": 13,
    "start_time": "2022-03-06T21:21:16.075Z"
   },
   {
    "duration": 21,
    "start_time": "2022-03-06T21:21:16.090Z"
   },
   {
    "duration": 11,
    "start_time": "2022-03-06T21:21:16.113Z"
   },
   {
    "duration": 37,
    "start_time": "2022-03-06T21:21:16.125Z"
   },
   {
    "duration": 19,
    "start_time": "2022-03-06T21:21:16.164Z"
   },
   {
    "duration": 16,
    "start_time": "2022-03-06T21:21:16.185Z"
   },
   {
    "duration": 4,
    "start_time": "2022-03-06T21:21:16.203Z"
   },
   {
    "duration": 26,
    "start_time": "2022-03-06T21:21:16.208Z"
   },
   {
    "duration": 22,
    "start_time": "2022-03-06T21:21:16.236Z"
   },
   {
    "duration": 20,
    "start_time": "2022-03-06T21:21:19.266Z"
   },
   {
    "duration": 8,
    "start_time": "2022-03-06T21:21:21.070Z"
   },
   {
    "duration": 66,
    "start_time": "2022-03-06T21:22:04.855Z"
   }
  ],
  "kernelspec": {
   "display_name": "Python 3 (ipykernel)",
   "language": "python",
   "name": "python3"
  },
  "language_info": {
   "codemirror_mode": {
    "name": "ipython",
    "version": 3
   },
   "file_extension": ".py",
   "mimetype": "text/x-python",
   "name": "python",
   "nbconvert_exporter": "python",
   "pygments_lexer": "ipython3",
   "version": "3.9.7"
  },
  "toc": {
   "base_numbering": 1,
   "nav_menu": {},
   "number_sections": false,
   "sideBar": true,
   "skip_h1_title": false,
   "title_cell": "Table of Contents",
   "title_sidebar": "Contents",
   "toc_cell": false,
   "toc_position": {},
   "toc_section_display": true,
   "toc_window_display": true
  }
 },
 "nbformat": 4,
 "nbformat_minor": 5
}
