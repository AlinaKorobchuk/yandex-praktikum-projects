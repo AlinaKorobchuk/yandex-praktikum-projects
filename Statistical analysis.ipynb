{
 "cells": [
  {
   "cell_type": "markdown",
   "metadata": {},
   "source": [
    "**Алина, привет!**\n",
    "\n",
    "Меня зовут Артемьева Саша, я буду проверять твой проект. Приятно познакомиться, хоть и заочно:)\n",
    "    \n",
    "Предлагаю общаться на «ты» :) Но если это не удобно - дай знать, и мы перейдем на \"вы\". \n",
    "\n",
    "Моя основная цель — не указать на совершенные тобою ошибки, а поделиться своим опытом и помочь тебе стать аналитиком данных. Ты уже проделала большую работу над проектом, но давай сделаем его еще лучше. Ниже ты найдешь мои комментарии - пожалуйста, не перемещай, не изменяй и не удаляй их. Я буду использовать цветовую разметку:\n",
    "\n",
    "<div class=\"alert alert-danger\">\n",
    "<b>❌ Комментарий ревьюера:</b> Так выделены самые важные замечания. Без их отработки проект не будет принят. </div>\n",
    "\n",
    "<div class=\"alert alert-warning\">\n",
    "<b>⚠️ Комментарий ревьюера:</b> Так выделены небольшие замечания. Одно-два таких замечания в проекте допустимы, но если их будет больше - тебе будет необходимо внести исправления. Это как тестовое задание при приеме на работу: очень много мелких ошибок могут стать причиной отказа кандидату. \n",
    "\n",
    "</div>\n",
    "\n",
    "<div class=\"alert alert-success\">\n",
    "<b>✔️ Комментарий ревьюера:</b> Так я выделяю все остальные комментарии.</div>\n",
    "\n",
    "Давай работать над проектом в диалоге: если ты что-то меняешь в проекте или отвечаешь на мои комменатри — пиши об этом. Мне будет легче отследить изменения, если ты выделишь свои комментарии:\n",
    "<div class=\"alert alert-info\"> <b>Комментарий студента:</b> Например, вот так.</div>\n",
    "\n",
    "Всё это поможет выполнить повторную проверку твоего проекта оперативнее. \n"
   ]
  },
  {
   "cell_type": "markdown",
   "metadata": {},
   "source": [
    "# Определение перспективного тарифа для телеком-компании"
   ]
  },
  {
   "cell_type": "markdown",
   "metadata": {},
   "source": [
    "<h1>Содержание<span class=\"tocSkip\"></span></h1>\n",
    "<div class=\"toc\">\n",
    "<ul class=\"toc-item\">\n",
    "<li><span><a href=\"#Изучение-данных-из-файла\" data-toc-modified-id=\"Изучение-данных-из-файла-1\"><span class=\"toc-item-num\">1&nbsp;&nbsp;</span>Изучение данных из файла</a></span></li>\n",
    "<li><span><a href=\"#Подготовка-данных\" data-toc-modified-id=\"Предобработка-данных-2\"><span class=\"toc-item-num\">2&nbsp;&nbsp;</span>Подготовка данных</a></span></li>\n",
    "<li><span><a href=\"#Анализ-данных\" data-toc-modified-id=\"Анализ-данных-3\"><span class=\"toc-item-num\">3&nbsp;&nbsp;</span>Анализ данных</a></span></li>\n",
    "<li><span><a href=\"#Проверка-гипотез\" data-toc-modified-id=\"Проверка-гипотез-4\"><span class=\"toc-item-num\">4&nbsp;&nbsp;</span>Проверка гипотез</a></span>\n",
    "<li><span><a href=\"#Общий-вывод\" data-toc-modified-id=\"Общий-вывод-5\"><span class=\"toc-item-num\">4&nbsp;&nbsp;</span>Общий вывод</a></span>\n",
    "</div>"
   ]
  },
  {
   "cell_type": "markdown",
   "metadata": {},
   "source": [
    "«Мегалайн» — федеральный оператор сотовой связи. Клиентам предлагают два тарифных плана: «Смарт» и «Ультра». \n",
    "Чтобы скорректировать рекламный бюджет, необходимо понять, какой тариф приносит больше денег.\n",
    "\n",
    "<b>Цели исследования:</b>\n",
    "- сделать предварительный анализ тарифов на небольшой выборке клиентов. \n",
    "- проанализировать поведение клиентов и сделать вывод — какой тариф лучше.\n",
    "\n",
    "<b>Входные данные:</b>\n",
    "Данные 500 пользователей «Мегалайна»: кто они, откуда, каким тарифом пользуются, сколько звонков и сообщений каждый отправил за 2018 год. "
   ]
  },
  {
   "cell_type": "markdown",
   "metadata": {},
   "source": [
    "<div class=\"alert alert-warning\">\n",
    "<b>⚠️ Комментарий ревьюера:</b> Молодец, что задала цель исследования! Сюда также можно включить важные пункты, на которые стоит обращать внимание. К примеру, «Мегалайн» всегда округляет секунды до минут, а мегабайты — до гигабайт"
   ]
  },
  {
   "cell_type": "markdown",
   "metadata": {},
   "source": [
    "## Изучение данных из файла"
   ]
  },
  {
   "cell_type": "code",
   "execution_count": 1,
   "metadata": {},
   "outputs": [],
   "source": [
    "import pandas as pd\n",
    "import numpy as np\n",
    "import matplotlib.pyplot as plt\n",
    "import math\n",
    "import seaborn as sns\n",
    "import warnings \n",
    "from pylab import rcParams\n",
    "from scipy import stats as st"
   ]
  },
  {
   "cell_type": "code",
   "execution_count": 2,
   "metadata": {},
   "outputs": [],
   "source": [
    "calls = pd.read_csv(\"/datasets/calls.csv\")\n",
    "internet = pd.read_csv(\"/datasets/internet.csv\", index_col=0)\n",
    "messages = pd.read_csv(\"/datasets/messages.csv\")\n",
    "tariffs = pd.read_csv(\"/datasets/tariffs.csv\")\n",
    "users = pd.read_csv(\"/datasets/users.csv\")"
   ]
  },
  {
   "cell_type": "code",
   "execution_count": 3,
   "metadata": {},
   "outputs": [
    {
     "name": "stdout",
     "output_type": "stream",
     "text": [
      "<class 'pandas.core.frame.DataFrame'>\n",
      "RangeIndex: 202607 entries, 0 to 202606\n",
      "Data columns (total 4 columns):\n",
      " #   Column     Non-Null Count   Dtype  \n",
      "---  ------     --------------   -----  \n",
      " 0   id         202607 non-null  object \n",
      " 1   call_date  202607 non-null  object \n",
      " 2   duration   202607 non-null  float64\n",
      " 3   user_id    202607 non-null  int64  \n",
      "dtypes: float64(1), int64(1), object(2)\n",
      "memory usage: 6.2+ MB\n",
      "None\n"
     ]
    },
    {
     "data": {
      "text/html": [
       "<div>\n",
       "<style scoped>\n",
       "    .dataframe tbody tr th:only-of-type {\n",
       "        vertical-align: middle;\n",
       "    }\n",
       "\n",
       "    .dataframe tbody tr th {\n",
       "        vertical-align: top;\n",
       "    }\n",
       "\n",
       "    .dataframe thead th {\n",
       "        text-align: right;\n",
       "    }\n",
       "</style>\n",
       "<table border=\"1\" class=\"dataframe\">\n",
       "  <thead>\n",
       "    <tr style=\"text-align: right;\">\n",
       "      <th></th>\n",
       "      <th>id</th>\n",
       "      <th>call_date</th>\n",
       "      <th>duration</th>\n",
       "      <th>user_id</th>\n",
       "    </tr>\n",
       "  </thead>\n",
       "  <tbody>\n",
       "    <tr>\n",
       "      <th>0</th>\n",
       "      <td>1000_0</td>\n",
       "      <td>2018-07-25</td>\n",
       "      <td>0.00</td>\n",
       "      <td>1000</td>\n",
       "    </tr>\n",
       "    <tr>\n",
       "      <th>1</th>\n",
       "      <td>1000_1</td>\n",
       "      <td>2018-08-17</td>\n",
       "      <td>0.00</td>\n",
       "      <td>1000</td>\n",
       "    </tr>\n",
       "    <tr>\n",
       "      <th>2</th>\n",
       "      <td>1000_2</td>\n",
       "      <td>2018-06-11</td>\n",
       "      <td>2.85</td>\n",
       "      <td>1000</td>\n",
       "    </tr>\n",
       "    <tr>\n",
       "      <th>3</th>\n",
       "      <td>1000_3</td>\n",
       "      <td>2018-09-21</td>\n",
       "      <td>13.80</td>\n",
       "      <td>1000</td>\n",
       "    </tr>\n",
       "    <tr>\n",
       "      <th>4</th>\n",
       "      <td>1000_4</td>\n",
       "      <td>2018-12-15</td>\n",
       "      <td>5.18</td>\n",
       "      <td>1000</td>\n",
       "    </tr>\n",
       "  </tbody>\n",
       "</table>\n",
       "</div>"
      ],
      "text/plain": [
       "       id   call_date  duration  user_id\n",
       "0  1000_0  2018-07-25      0.00     1000\n",
       "1  1000_1  2018-08-17      0.00     1000\n",
       "2  1000_2  2018-06-11      2.85     1000\n",
       "3  1000_3  2018-09-21     13.80     1000\n",
       "4  1000_4  2018-12-15      5.18     1000"
      ]
     },
     "execution_count": 3,
     "metadata": {},
     "output_type": "execute_result"
    }
   ],
   "source": [
    "print(calls.info())\n",
    "calls.head()"
   ]
  },
  {
   "cell_type": "code",
   "execution_count": 4,
   "metadata": {},
   "outputs": [
    {
     "name": "stdout",
     "output_type": "stream",
     "text": [
      "<class 'pandas.core.frame.DataFrame'>\n",
      "Int64Index: 149396 entries, 0 to 149395\n",
      "Data columns (total 4 columns):\n",
      " #   Column        Non-Null Count   Dtype  \n",
      "---  ------        --------------   -----  \n",
      " 0   id            149396 non-null  object \n",
      " 1   mb_used       149396 non-null  float64\n",
      " 2   session_date  149396 non-null  object \n",
      " 3   user_id       149396 non-null  int64  \n",
      "dtypes: float64(1), int64(1), object(2)\n",
      "memory usage: 5.7+ MB\n",
      "None\n"
     ]
    },
    {
     "data": {
      "text/html": [
       "<div>\n",
       "<style scoped>\n",
       "    .dataframe tbody tr th:only-of-type {\n",
       "        vertical-align: middle;\n",
       "    }\n",
       "\n",
       "    .dataframe tbody tr th {\n",
       "        vertical-align: top;\n",
       "    }\n",
       "\n",
       "    .dataframe thead th {\n",
       "        text-align: right;\n",
       "    }\n",
       "</style>\n",
       "<table border=\"1\" class=\"dataframe\">\n",
       "  <thead>\n",
       "    <tr style=\"text-align: right;\">\n",
       "      <th></th>\n",
       "      <th>id</th>\n",
       "      <th>mb_used</th>\n",
       "      <th>session_date</th>\n",
       "      <th>user_id</th>\n",
       "    </tr>\n",
       "  </thead>\n",
       "  <tbody>\n",
       "    <tr>\n",
       "      <th>0</th>\n",
       "      <td>1000_0</td>\n",
       "      <td>112.95</td>\n",
       "      <td>2018-11-25</td>\n",
       "      <td>1000</td>\n",
       "    </tr>\n",
       "    <tr>\n",
       "      <th>1</th>\n",
       "      <td>1000_1</td>\n",
       "      <td>1052.81</td>\n",
       "      <td>2018-09-07</td>\n",
       "      <td>1000</td>\n",
       "    </tr>\n",
       "    <tr>\n",
       "      <th>2</th>\n",
       "      <td>1000_2</td>\n",
       "      <td>1197.26</td>\n",
       "      <td>2018-06-25</td>\n",
       "      <td>1000</td>\n",
       "    </tr>\n",
       "    <tr>\n",
       "      <th>3</th>\n",
       "      <td>1000_3</td>\n",
       "      <td>550.27</td>\n",
       "      <td>2018-08-22</td>\n",
       "      <td>1000</td>\n",
       "    </tr>\n",
       "    <tr>\n",
       "      <th>4</th>\n",
       "      <td>1000_4</td>\n",
       "      <td>302.56</td>\n",
       "      <td>2018-09-24</td>\n",
       "      <td>1000</td>\n",
       "    </tr>\n",
       "  </tbody>\n",
       "</table>\n",
       "</div>"
      ],
      "text/plain": [
       "       id  mb_used session_date  user_id\n",
       "0  1000_0   112.95   2018-11-25     1000\n",
       "1  1000_1  1052.81   2018-09-07     1000\n",
       "2  1000_2  1197.26   2018-06-25     1000\n",
       "3  1000_3   550.27   2018-08-22     1000\n",
       "4  1000_4   302.56   2018-09-24     1000"
      ]
     },
     "execution_count": 4,
     "metadata": {},
     "output_type": "execute_result"
    }
   ],
   "source": [
    "print(internet.info())\n",
    "internet.head()"
   ]
  },
  {
   "cell_type": "markdown",
   "metadata": {},
   "source": [
    "<div class=\"alert alert-warning\">\n",
    "<b>⚠️ Комментарий ревьюера:</b> Unnamed: 0 возникает, когда данные сохраняют с указанием индекса pd.DataFrame().to_csv(..., index=column). Если при чтении указать этот столбец pd.read_csv(..., index_col=0) - данные сразу прочитаются корректно."
   ]
  },
  {
   "cell_type": "markdown",
   "metadata": {},
   "source": [
    "<div class=\"alert alert-info\"> Исправила, дальше не придется отдельно удалять этот столбец</div>"
   ]
  },
  {
   "cell_type": "code",
   "execution_count": 5,
   "metadata": {},
   "outputs": [
    {
     "name": "stdout",
     "output_type": "stream",
     "text": [
      "<class 'pandas.core.frame.DataFrame'>\n",
      "RangeIndex: 123036 entries, 0 to 123035\n",
      "Data columns (total 3 columns):\n",
      " #   Column        Non-Null Count   Dtype \n",
      "---  ------        --------------   ----- \n",
      " 0   id            123036 non-null  object\n",
      " 1   message_date  123036 non-null  object\n",
      " 2   user_id       123036 non-null  int64 \n",
      "dtypes: int64(1), object(2)\n",
      "memory usage: 2.8+ MB\n",
      "None\n"
     ]
    },
    {
     "data": {
      "text/html": [
       "<div>\n",
       "<style scoped>\n",
       "    .dataframe tbody tr th:only-of-type {\n",
       "        vertical-align: middle;\n",
       "    }\n",
       "\n",
       "    .dataframe tbody tr th {\n",
       "        vertical-align: top;\n",
       "    }\n",
       "\n",
       "    .dataframe thead th {\n",
       "        text-align: right;\n",
       "    }\n",
       "</style>\n",
       "<table border=\"1\" class=\"dataframe\">\n",
       "  <thead>\n",
       "    <tr style=\"text-align: right;\">\n",
       "      <th></th>\n",
       "      <th>id</th>\n",
       "      <th>message_date</th>\n",
       "      <th>user_id</th>\n",
       "    </tr>\n",
       "  </thead>\n",
       "  <tbody>\n",
       "    <tr>\n",
       "      <th>0</th>\n",
       "      <td>1000_0</td>\n",
       "      <td>2018-06-27</td>\n",
       "      <td>1000</td>\n",
       "    </tr>\n",
       "    <tr>\n",
       "      <th>1</th>\n",
       "      <td>1000_1</td>\n",
       "      <td>2018-10-08</td>\n",
       "      <td>1000</td>\n",
       "    </tr>\n",
       "    <tr>\n",
       "      <th>2</th>\n",
       "      <td>1000_2</td>\n",
       "      <td>2018-08-04</td>\n",
       "      <td>1000</td>\n",
       "    </tr>\n",
       "    <tr>\n",
       "      <th>3</th>\n",
       "      <td>1000_3</td>\n",
       "      <td>2018-06-16</td>\n",
       "      <td>1000</td>\n",
       "    </tr>\n",
       "    <tr>\n",
       "      <th>4</th>\n",
       "      <td>1000_4</td>\n",
       "      <td>2018-12-05</td>\n",
       "      <td>1000</td>\n",
       "    </tr>\n",
       "  </tbody>\n",
       "</table>\n",
       "</div>"
      ],
      "text/plain": [
       "       id message_date  user_id\n",
       "0  1000_0   2018-06-27     1000\n",
       "1  1000_1   2018-10-08     1000\n",
       "2  1000_2   2018-08-04     1000\n",
       "3  1000_3   2018-06-16     1000\n",
       "4  1000_4   2018-12-05     1000"
      ]
     },
     "execution_count": 5,
     "metadata": {},
     "output_type": "execute_result"
    }
   ],
   "source": [
    "print(messages.info())\n",
    "messages.head()"
   ]
  },
  {
   "cell_type": "code",
   "execution_count": 6,
   "metadata": {},
   "outputs": [
    {
     "name": "stdout",
     "output_type": "stream",
     "text": [
      "<class 'pandas.core.frame.DataFrame'>\n",
      "RangeIndex: 2 entries, 0 to 1\n",
      "Data columns (total 8 columns):\n",
      " #   Column                 Non-Null Count  Dtype \n",
      "---  ------                 --------------  ----- \n",
      " 0   messages_included      2 non-null      int64 \n",
      " 1   mb_per_month_included  2 non-null      int64 \n",
      " 2   minutes_included       2 non-null      int64 \n",
      " 3   rub_monthly_fee        2 non-null      int64 \n",
      " 4   rub_per_gb             2 non-null      int64 \n",
      " 5   rub_per_message        2 non-null      int64 \n",
      " 6   rub_per_minute         2 non-null      int64 \n",
      " 7   tariff_name            2 non-null      object\n",
      "dtypes: int64(7), object(1)\n",
      "memory usage: 256.0+ bytes\n",
      "None\n"
     ]
    },
    {
     "data": {
      "text/html": [
       "<div>\n",
       "<style scoped>\n",
       "    .dataframe tbody tr th:only-of-type {\n",
       "        vertical-align: middle;\n",
       "    }\n",
       "\n",
       "    .dataframe tbody tr th {\n",
       "        vertical-align: top;\n",
       "    }\n",
       "\n",
       "    .dataframe thead th {\n",
       "        text-align: right;\n",
       "    }\n",
       "</style>\n",
       "<table border=\"1\" class=\"dataframe\">\n",
       "  <thead>\n",
       "    <tr style=\"text-align: right;\">\n",
       "      <th></th>\n",
       "      <th>messages_included</th>\n",
       "      <th>mb_per_month_included</th>\n",
       "      <th>minutes_included</th>\n",
       "      <th>rub_monthly_fee</th>\n",
       "      <th>rub_per_gb</th>\n",
       "      <th>rub_per_message</th>\n",
       "      <th>rub_per_minute</th>\n",
       "      <th>tariff_name</th>\n",
       "    </tr>\n",
       "  </thead>\n",
       "  <tbody>\n",
       "    <tr>\n",
       "      <th>0</th>\n",
       "      <td>50</td>\n",
       "      <td>15360</td>\n",
       "      <td>500</td>\n",
       "      <td>550</td>\n",
       "      <td>200</td>\n",
       "      <td>3</td>\n",
       "      <td>3</td>\n",
       "      <td>smart</td>\n",
       "    </tr>\n",
       "    <tr>\n",
       "      <th>1</th>\n",
       "      <td>1000</td>\n",
       "      <td>30720</td>\n",
       "      <td>3000</td>\n",
       "      <td>1950</td>\n",
       "      <td>150</td>\n",
       "      <td>1</td>\n",
       "      <td>1</td>\n",
       "      <td>ultra</td>\n",
       "    </tr>\n",
       "  </tbody>\n",
       "</table>\n",
       "</div>"
      ],
      "text/plain": [
       "   messages_included  mb_per_month_included  minutes_included  \\\n",
       "0                 50                  15360               500   \n",
       "1               1000                  30720              3000   \n",
       "\n",
       "   rub_monthly_fee  rub_per_gb  rub_per_message  rub_per_minute tariff_name  \n",
       "0              550         200                3               3       smart  \n",
       "1             1950         150                1               1       ultra  "
      ]
     },
     "execution_count": 6,
     "metadata": {},
     "output_type": "execute_result"
    }
   ],
   "source": [
    "print(tariffs.info())\n",
    "tariffs.head()"
   ]
  },
  {
   "cell_type": "code",
   "execution_count": 7,
   "metadata": {},
   "outputs": [
    {
     "name": "stdout",
     "output_type": "stream",
     "text": [
      "<class 'pandas.core.frame.DataFrame'>\n",
      "RangeIndex: 500 entries, 0 to 499\n",
      "Data columns (total 8 columns):\n",
      " #   Column      Non-Null Count  Dtype \n",
      "---  ------      --------------  ----- \n",
      " 0   user_id     500 non-null    int64 \n",
      " 1   age         500 non-null    int64 \n",
      " 2   churn_date  38 non-null     object\n",
      " 3   city        500 non-null    object\n",
      " 4   first_name  500 non-null    object\n",
      " 5   last_name   500 non-null    object\n",
      " 6   reg_date    500 non-null    object\n",
      " 7   tariff      500 non-null    object\n",
      "dtypes: int64(2), object(6)\n",
      "memory usage: 31.4+ KB\n",
      "None\n"
     ]
    },
    {
     "data": {
      "text/html": [
       "<div>\n",
       "<style scoped>\n",
       "    .dataframe tbody tr th:only-of-type {\n",
       "        vertical-align: middle;\n",
       "    }\n",
       "\n",
       "    .dataframe tbody tr th {\n",
       "        vertical-align: top;\n",
       "    }\n",
       "\n",
       "    .dataframe thead th {\n",
       "        text-align: right;\n",
       "    }\n",
       "</style>\n",
       "<table border=\"1\" class=\"dataframe\">\n",
       "  <thead>\n",
       "    <tr style=\"text-align: right;\">\n",
       "      <th></th>\n",
       "      <th>user_id</th>\n",
       "      <th>age</th>\n",
       "      <th>churn_date</th>\n",
       "      <th>city</th>\n",
       "      <th>first_name</th>\n",
       "      <th>last_name</th>\n",
       "      <th>reg_date</th>\n",
       "      <th>tariff</th>\n",
       "    </tr>\n",
       "  </thead>\n",
       "  <tbody>\n",
       "    <tr>\n",
       "      <th>0</th>\n",
       "      <td>1000</td>\n",
       "      <td>52</td>\n",
       "      <td>NaN</td>\n",
       "      <td>Краснодар</td>\n",
       "      <td>Рафаил</td>\n",
       "      <td>Верещагин</td>\n",
       "      <td>2018-05-25</td>\n",
       "      <td>ultra</td>\n",
       "    </tr>\n",
       "    <tr>\n",
       "      <th>1</th>\n",
       "      <td>1001</td>\n",
       "      <td>41</td>\n",
       "      <td>NaN</td>\n",
       "      <td>Москва</td>\n",
       "      <td>Иван</td>\n",
       "      <td>Ежов</td>\n",
       "      <td>2018-11-01</td>\n",
       "      <td>smart</td>\n",
       "    </tr>\n",
       "    <tr>\n",
       "      <th>2</th>\n",
       "      <td>1002</td>\n",
       "      <td>59</td>\n",
       "      <td>NaN</td>\n",
       "      <td>Стерлитамак</td>\n",
       "      <td>Евгений</td>\n",
       "      <td>Абрамович</td>\n",
       "      <td>2018-06-17</td>\n",
       "      <td>smart</td>\n",
       "    </tr>\n",
       "    <tr>\n",
       "      <th>3</th>\n",
       "      <td>1003</td>\n",
       "      <td>23</td>\n",
       "      <td>NaN</td>\n",
       "      <td>Москва</td>\n",
       "      <td>Белла</td>\n",
       "      <td>Белякова</td>\n",
       "      <td>2018-08-17</td>\n",
       "      <td>ultra</td>\n",
       "    </tr>\n",
       "    <tr>\n",
       "      <th>4</th>\n",
       "      <td>1004</td>\n",
       "      <td>68</td>\n",
       "      <td>NaN</td>\n",
       "      <td>Новокузнецк</td>\n",
       "      <td>Татьяна</td>\n",
       "      <td>Авдеенко</td>\n",
       "      <td>2018-05-14</td>\n",
       "      <td>ultra</td>\n",
       "    </tr>\n",
       "  </tbody>\n",
       "</table>\n",
       "</div>"
      ],
      "text/plain": [
       "   user_id  age churn_date         city first_name  last_name    reg_date  \\\n",
       "0     1000   52        NaN    Краснодар     Рафаил  Верещагин  2018-05-25   \n",
       "1     1001   41        NaN       Москва       Иван       Ежов  2018-11-01   \n",
       "2     1002   59        NaN  Стерлитамак    Евгений  Абрамович  2018-06-17   \n",
       "3     1003   23        NaN       Москва      Белла   Белякова  2018-08-17   \n",
       "4     1004   68        NaN  Новокузнецк    Татьяна   Авдеенко  2018-05-14   \n",
       "\n",
       "  tariff  \n",
       "0  ultra  \n",
       "1  smart  \n",
       "2  smart  \n",
       "3  ultra  \n",
       "4  ultra  "
      ]
     },
     "execution_count": 7,
     "metadata": {},
     "output_type": "execute_result"
    }
   ],
   "source": [
    "print(users.info())\n",
    "users.head()"
   ]
  },
  {
   "cell_type": "markdown",
   "metadata": {},
   "source": [
    "<div class=\"alert alert-block alert-info\">\n",
    "     Всего в данном проекте представлены данные 500 пользователей «Мегалайна»: кто они, откуда, каким тарифом пользуются, сколько звонков и сообщений каждый отправил за 2018 год. Данные представлены в нескольких таблицах. Пропуски присутствуют только в таблице users в поле churn_date (дата прекращения пользования тарифом (пропущенное значение означает, что тариф ещё действовал на момент выгрузки данных). Значит избавляться от данных пропусков не нужно. Дубликаты обнаружены не были. \n",
    "</div>   "
   ]
  },
  {
   "cell_type": "markdown",
   "metadata": {},
   "source": [
    "<div class=\"alert alert-warning\">\n",
    "<b>⚠️ Комментарий ревьюера:</b> Можно еще посмотреть на распределение даннх, чтобы понять, есть ли выбросы"
   ]
  },
  {
   "cell_type": "markdown",
   "metadata": {},
   "source": [
    "## Подготовка данных"
   ]
  },
  {
   "cell_type": "markdown",
   "metadata": {},
   "source": [
    "### Приведение данных к нужному типу"
   ]
  },
  {
   "cell_type": "markdown",
   "metadata": {},
   "source": [
    "<div class=\"alert alert-block alert-info\">\n",
    "Приведем поля с датами во всех таблицах к типу дата\n",
    "</div>"
   ]
  },
  {
   "cell_type": "markdown",
   "metadata": {},
   "source": [
    "<div class=\"alert alert-block alert-info\">\n",
    "Также для экономии памяти поменяем некоторые поля типа float64 на float32 и с int64 на int32\n",
    "</div>"
   ]
  },
  {
   "cell_type": "code",
   "execution_count": 8,
   "metadata": {},
   "outputs": [],
   "source": [
    "def change_type_date(df):\n",
    "    for column in df.columns:\n",
    "        if 'date' in column:\n",
    "            df[column] = pd.to_datetime(df[column], format='%Y-%m-%d')\n",
    "        if df[column].dtypes == 'float64':\n",
    "            df[column] = df[column].astype('float32')\n",
    "        if df[column].dtypes == 'int64':\n",
    "            df[column] = df[column].astype('int32')\n",
    "    return df"
   ]
  },
  {
   "cell_type": "markdown",
   "metadata": {},
   "source": [
    "<div class=\"alert alert-success\">\n",
    "<b>✔️ Комментарий ревьюера:</b>  Отличный способ сэкономить память"
   ]
  },
  {
   "cell_type": "code",
   "execution_count": 9,
   "metadata": {},
   "outputs": [],
   "source": [
    "calls = change_type_date(calls)\n",
    "internet = change_type_date(internet)\n",
    "messages = change_type_date(messages)\n",
    "users = change_type_date(users)"
   ]
  },
  {
   "cell_type": "markdown",
   "metadata": {},
   "source": [
    "<div class=\"alert alert-block alert-info\">\n",
    "Также необходимо округлить по условию каждый звонок секунды до минут в большую сторону.\n",
    "</div>"
   ]
  },
  {
   "cell_type": "code",
   "execution_count": 10,
   "metadata": {},
   "outputs": [],
   "source": [
    "calls['duration'] = calls['duration'].apply(math.ceil)"
   ]
  },
  {
   "cell_type": "code",
   "execution_count": 11,
   "metadata": {},
   "outputs": [],
   "source": [
    "calls['duration'] = np.ceil(calls['duration'])"
   ]
  },
  {
   "cell_type": "markdown",
   "metadata": {},
   "source": [
    "<div class=\"alert alert-block alert-info\">\n",
    "Проверим результат\n",
    "</div>"
   ]
  },
  {
   "cell_type": "markdown",
   "metadata": {},
   "source": [
    "\n",
    "<div class=\"alert alert-warning\">\n",
    "<b>⚠️ Комментарий ревьюера:</b> Выбран корректный метод округления. Однако применение math.ceil с помощью apply - не оптимальный способ. math.ceil не нуждается в apply, т.к. может работать сразу со всем столбцом."
   ]
  },
  {
   "cell_type": "markdown",
   "metadata": {},
   "source": [
    "<div class=\"alert alert-block alert-info\">\n",
    "    \n",
    "**Вопрос студента**\n",
    "\n",
    "Я применила метод ceil ко всему столбцу, но возникает ошибка.\n",
    "В чем дело?\n",
    "</div>"
   ]
  },
  {
   "cell_type": "markdown",
   "metadata": {},
   "source": [
    "<div class=\"alert alert-success\">\n",
    "<b>✔️ Комментарий ревьюера V2:</b> Очень странная ошибка, возможно, версия Питона не совпадает с нужной здесь. Показала еще один метод округления - np.ceil"
   ]
  },
  {
   "cell_type": "code",
   "execution_count": 12,
   "metadata": {},
   "outputs": [
    {
     "name": "stdout",
     "output_type": "stream",
     "text": [
      "<class 'pandas.core.frame.DataFrame'>\n",
      "RangeIndex: 202607 entries, 0 to 202606\n",
      "Data columns (total 4 columns):\n",
      " #   Column     Non-Null Count   Dtype         \n",
      "---  ------     --------------   -----         \n",
      " 0   id         202607 non-null  object        \n",
      " 1   call_date  202607 non-null  datetime64[ns]\n",
      " 2   duration   202607 non-null  float64       \n",
      " 3   user_id    202607 non-null  int32         \n",
      "dtypes: datetime64[ns](1), float64(1), int32(1), object(1)\n",
      "memory usage: 5.4+ MB\n",
      "None\n",
      "<class 'pandas.core.frame.DataFrame'>\n",
      "Int64Index: 149396 entries, 0 to 149395\n",
      "Data columns (total 4 columns):\n",
      " #   Column        Non-Null Count   Dtype         \n",
      "---  ------        --------------   -----         \n",
      " 0   id            149396 non-null  object        \n",
      " 1   mb_used       149396 non-null  float32       \n",
      " 2   session_date  149396 non-null  datetime64[ns]\n",
      " 3   user_id       149396 non-null  int32         \n",
      "dtypes: datetime64[ns](1), float32(1), int32(1), object(1)\n",
      "memory usage: 4.6+ MB\n",
      "None\n",
      "<class 'pandas.core.frame.DataFrame'>\n",
      "RangeIndex: 123036 entries, 0 to 123035\n",
      "Data columns (total 3 columns):\n",
      " #   Column        Non-Null Count   Dtype         \n",
      "---  ------        --------------   -----         \n",
      " 0   id            123036 non-null  object        \n",
      " 1   message_date  123036 non-null  datetime64[ns]\n",
      " 2   user_id       123036 non-null  int32         \n",
      "dtypes: datetime64[ns](1), int32(1), object(1)\n",
      "memory usage: 2.3+ MB\n",
      "None\n",
      "<class 'pandas.core.frame.DataFrame'>\n",
      "RangeIndex: 500 entries, 0 to 499\n",
      "Data columns (total 8 columns):\n",
      " #   Column      Non-Null Count  Dtype         \n",
      "---  ------      --------------  -----         \n",
      " 0   user_id     500 non-null    int32         \n",
      " 1   age         500 non-null    int32         \n",
      " 2   churn_date  38 non-null     datetime64[ns]\n",
      " 3   city        500 non-null    object        \n",
      " 4   first_name  500 non-null    object        \n",
      " 5   last_name   500 non-null    object        \n",
      " 6   reg_date    500 non-null    datetime64[ns]\n",
      " 7   tariff      500 non-null    object        \n",
      "dtypes: datetime64[ns](2), int32(2), object(4)\n",
      "memory usage: 27.5+ KB\n",
      "None\n"
     ]
    }
   ],
   "source": [
    "dfs = [calls, internet, messages, users]\n",
    "for df in dfs:\n",
    "    print(df.info())    "
   ]
  },
  {
   "cell_type": "markdown",
   "metadata": {},
   "source": [
    "### Проверка на пропуски и дубликаты"
   ]
  },
  {
   "cell_type": "code",
   "execution_count": 13,
   "metadata": {},
   "outputs": [
    {
     "name": "stdout",
     "output_type": "stream",
     "text": [
      "id           0\n",
      "call_date    0\n",
      "duration     0\n",
      "user_id      0\n",
      "dtype: int64\n",
      "Количество дубликатов: 0\n"
     ]
    }
   ],
   "source": [
    "print(calls.isna().sum())\n",
    "print('Количество дубликатов:', calls.duplicated().sum())"
   ]
  },
  {
   "cell_type": "code",
   "execution_count": 14,
   "metadata": {},
   "outputs": [
    {
     "name": "stdout",
     "output_type": "stream",
     "text": [
      "id              0\n",
      "mb_used         0\n",
      "session_date    0\n",
      "user_id         0\n",
      "dtype: int64\n",
      "Количество дубликатов: 0\n"
     ]
    }
   ],
   "source": [
    "print(internet.isna().sum())\n",
    "print('Количество дубликатов:', internet.duplicated().sum())"
   ]
  },
  {
   "cell_type": "code",
   "execution_count": 15,
   "metadata": {},
   "outputs": [
    {
     "name": "stdout",
     "output_type": "stream",
     "text": [
      "id              0\n",
      "message_date    0\n",
      "user_id         0\n",
      "dtype: int64\n",
      "Количество дубликатов: 0\n"
     ]
    }
   ],
   "source": [
    "print(messages.isna().sum())\n",
    "print('Количество дубликатов:', messages.duplicated().sum())"
   ]
  },
  {
   "cell_type": "code",
   "execution_count": 16,
   "metadata": {},
   "outputs": [
    {
     "name": "stdout",
     "output_type": "stream",
     "text": [
      "messages_included        0\n",
      "mb_per_month_included    0\n",
      "minutes_included         0\n",
      "rub_monthly_fee          0\n",
      "rub_per_gb               0\n",
      "rub_per_message          0\n",
      "rub_per_minute           0\n",
      "tariff_name              0\n",
      "dtype: int64\n",
      "Количество дубликатов: 0\n"
     ]
    }
   ],
   "source": [
    "print(tariffs.isna().sum())\n",
    "print('Количество дубликатов:', tariffs.duplicated().sum())"
   ]
  },
  {
   "cell_type": "code",
   "execution_count": 17,
   "metadata": {},
   "outputs": [
    {
     "name": "stdout",
     "output_type": "stream",
     "text": [
      "user_id         0\n",
      "age             0\n",
      "churn_date    462\n",
      "city            0\n",
      "first_name      0\n",
      "last_name       0\n",
      "reg_date        0\n",
      "tariff          0\n",
      "dtype: int64\n",
      "Количество дубликатов: 0\n"
     ]
    }
   ],
   "source": [
    "print(users.isna().sum())\n",
    "print('Количество дубликатов:', users.duplicated().sum())"
   ]
  },
  {
   "cell_type": "markdown",
   "metadata": {},
   "source": [
    "<div class=\"alert alert-block alert-info\">\n",
    "Пропуски присутствуют только в таблице users в поле churn_date (дата прекращения пользования тарифом (пропущенное значение означает, что тариф ещё действовал на момент выгрузки данных). Значит избавляться от данных пропусков не нужно. Дубликаты обнаружены не были. \n",
    "</div>   "
   ]
  },
  {
   "cell_type": "markdown",
   "metadata": {},
   "source": [
    "### Проверка на аномалии"
   ]
  },
  {
   "cell_type": "markdown",
   "metadata": {},
   "source": [
    "<div class=\"alert alert-block alert-info\">\n",
    "Также необходимо проверить данные на аномалии\n",
    "</div>"
   ]
  },
  {
   "cell_type": "code",
   "execution_count": 18,
   "metadata": {},
   "outputs": [
    {
     "name": "stdout",
     "output_type": "stream",
     "text": [
      "2018-01-01 00:00:00 2018-12-31 00:00:00\n"
     ]
    },
    {
     "data": {
      "text/html": [
       "<div>\n",
       "<style scoped>\n",
       "    .dataframe tbody tr th:only-of-type {\n",
       "        vertical-align: middle;\n",
       "    }\n",
       "\n",
       "    .dataframe tbody tr th {\n",
       "        vertical-align: top;\n",
       "    }\n",
       "\n",
       "    .dataframe thead th {\n",
       "        text-align: right;\n",
       "    }\n",
       "</style>\n",
       "<table border=\"1\" class=\"dataframe\">\n",
       "  <thead>\n",
       "    <tr style=\"text-align: right;\">\n",
       "      <th></th>\n",
       "      <th>duration</th>\n",
       "      <th>user_id</th>\n",
       "    </tr>\n",
       "  </thead>\n",
       "  <tbody>\n",
       "    <tr>\n",
       "      <th>count</th>\n",
       "      <td>202607.000000</td>\n",
       "      <td>202607.000000</td>\n",
       "    </tr>\n",
       "    <tr>\n",
       "      <th>mean</th>\n",
       "      <td>7.158198</td>\n",
       "      <td>1253.940619</td>\n",
       "    </tr>\n",
       "    <tr>\n",
       "      <th>std</th>\n",
       "      <td>5.959173</td>\n",
       "      <td>144.722751</td>\n",
       "    </tr>\n",
       "    <tr>\n",
       "      <th>min</th>\n",
       "      <td>0.000000</td>\n",
       "      <td>1000.000000</td>\n",
       "    </tr>\n",
       "    <tr>\n",
       "      <th>25%</th>\n",
       "      <td>2.000000</td>\n",
       "      <td>1126.000000</td>\n",
       "    </tr>\n",
       "    <tr>\n",
       "      <th>50%</th>\n",
       "      <td>6.000000</td>\n",
       "      <td>1260.000000</td>\n",
       "    </tr>\n",
       "    <tr>\n",
       "      <th>75%</th>\n",
       "      <td>11.000000</td>\n",
       "      <td>1379.000000</td>\n",
       "    </tr>\n",
       "    <tr>\n",
       "      <th>max</th>\n",
       "      <td>38.000000</td>\n",
       "      <td>1499.000000</td>\n",
       "    </tr>\n",
       "  </tbody>\n",
       "</table>\n",
       "</div>"
      ],
      "text/plain": [
       "            duration        user_id\n",
       "count  202607.000000  202607.000000\n",
       "mean        7.158198    1253.940619\n",
       "std         5.959173     144.722751\n",
       "min         0.000000    1000.000000\n",
       "25%         2.000000    1126.000000\n",
       "50%         6.000000    1260.000000\n",
       "75%        11.000000    1379.000000\n",
       "max        38.000000    1499.000000"
      ]
     },
     "execution_count": 18,
     "metadata": {},
     "output_type": "execute_result"
    }
   ],
   "source": [
    "print(calls['call_date'].min(), calls['call_date'].max())\n",
    "calls.describe()"
   ]
  },
  {
   "cell_type": "code",
   "execution_count": 19,
   "metadata": {},
   "outputs": [
    {
     "name": "stdout",
     "output_type": "stream",
     "text": [
      "2018-01-01 00:00:00 2018-12-31 00:00:00\n"
     ]
    },
    {
     "data": {
      "text/html": [
       "<div>\n",
       "<style scoped>\n",
       "    .dataframe tbody tr th:only-of-type {\n",
       "        vertical-align: middle;\n",
       "    }\n",
       "\n",
       "    .dataframe tbody tr th {\n",
       "        vertical-align: top;\n",
       "    }\n",
       "\n",
       "    .dataframe thead th {\n",
       "        text-align: right;\n",
       "    }\n",
       "</style>\n",
       "<table border=\"1\" class=\"dataframe\">\n",
       "  <thead>\n",
       "    <tr style=\"text-align: right;\">\n",
       "      <th></th>\n",
       "      <th>mb_used</th>\n",
       "      <th>user_id</th>\n",
       "    </tr>\n",
       "  </thead>\n",
       "  <tbody>\n",
       "    <tr>\n",
       "      <th>count</th>\n",
       "      <td>149396.000000</td>\n",
       "      <td>149396.000000</td>\n",
       "    </tr>\n",
       "    <tr>\n",
       "      <th>mean</th>\n",
       "      <td>370.192444</td>\n",
       "      <td>1252.099842</td>\n",
       "    </tr>\n",
       "    <tr>\n",
       "      <th>std</th>\n",
       "      <td>278.300964</td>\n",
       "      <td>144.050823</td>\n",
       "    </tr>\n",
       "    <tr>\n",
       "      <th>min</th>\n",
       "      <td>0.000000</td>\n",
       "      <td>1000.000000</td>\n",
       "    </tr>\n",
       "    <tr>\n",
       "      <th>25%</th>\n",
       "      <td>138.187496</td>\n",
       "      <td>1130.000000</td>\n",
       "    </tr>\n",
       "    <tr>\n",
       "      <th>50%</th>\n",
       "      <td>348.014999</td>\n",
       "      <td>1251.000000</td>\n",
       "    </tr>\n",
       "    <tr>\n",
       "      <th>75%</th>\n",
       "      <td>559.552490</td>\n",
       "      <td>1380.000000</td>\n",
       "    </tr>\n",
       "    <tr>\n",
       "      <th>max</th>\n",
       "      <td>1724.829956</td>\n",
       "      <td>1499.000000</td>\n",
       "    </tr>\n",
       "  </tbody>\n",
       "</table>\n",
       "</div>"
      ],
      "text/plain": [
       "             mb_used        user_id\n",
       "count  149396.000000  149396.000000\n",
       "mean      370.192444    1252.099842\n",
       "std       278.300964     144.050823\n",
       "min         0.000000    1000.000000\n",
       "25%       138.187496    1130.000000\n",
       "50%       348.014999    1251.000000\n",
       "75%       559.552490    1380.000000\n",
       "max      1724.829956    1499.000000"
      ]
     },
     "execution_count": 19,
     "metadata": {},
     "output_type": "execute_result"
    }
   ],
   "source": [
    "print(internet['session_date'].min(), internet['session_date'].max())\n",
    "internet.describe()"
   ]
  },
  {
   "cell_type": "code",
   "execution_count": 20,
   "metadata": {},
   "outputs": [
    {
     "name": "stdout",
     "output_type": "stream",
     "text": [
      "2018-01-02 00:00:00 2018-12-31 00:00:00\n"
     ]
    },
    {
     "data": {
      "text/html": [
       "<div>\n",
       "<style scoped>\n",
       "    .dataframe tbody tr th:only-of-type {\n",
       "        vertical-align: middle;\n",
       "    }\n",
       "\n",
       "    .dataframe tbody tr th {\n",
       "        vertical-align: top;\n",
       "    }\n",
       "\n",
       "    .dataframe thead th {\n",
       "        text-align: right;\n",
       "    }\n",
       "</style>\n",
       "<table border=\"1\" class=\"dataframe\">\n",
       "  <thead>\n",
       "    <tr style=\"text-align: right;\">\n",
       "      <th></th>\n",
       "      <th>user_id</th>\n",
       "    </tr>\n",
       "  </thead>\n",
       "  <tbody>\n",
       "    <tr>\n",
       "      <th>count</th>\n",
       "      <td>123036.000000</td>\n",
       "    </tr>\n",
       "    <tr>\n",
       "      <th>mean</th>\n",
       "      <td>1256.989410</td>\n",
       "    </tr>\n",
       "    <tr>\n",
       "      <th>std</th>\n",
       "      <td>143.523967</td>\n",
       "    </tr>\n",
       "    <tr>\n",
       "      <th>min</th>\n",
       "      <td>1000.000000</td>\n",
       "    </tr>\n",
       "    <tr>\n",
       "      <th>25%</th>\n",
       "      <td>1134.000000</td>\n",
       "    </tr>\n",
       "    <tr>\n",
       "      <th>50%</th>\n",
       "      <td>1271.000000</td>\n",
       "    </tr>\n",
       "    <tr>\n",
       "      <th>75%</th>\n",
       "      <td>1381.000000</td>\n",
       "    </tr>\n",
       "    <tr>\n",
       "      <th>max</th>\n",
       "      <td>1499.000000</td>\n",
       "    </tr>\n",
       "  </tbody>\n",
       "</table>\n",
       "</div>"
      ],
      "text/plain": [
       "             user_id\n",
       "count  123036.000000\n",
       "mean     1256.989410\n",
       "std       143.523967\n",
       "min      1000.000000\n",
       "25%      1134.000000\n",
       "50%      1271.000000\n",
       "75%      1381.000000\n",
       "max      1499.000000"
      ]
     },
     "execution_count": 20,
     "metadata": {},
     "output_type": "execute_result"
    }
   ],
   "source": [
    "print(messages['message_date'].min(), messages['message_date'].max())\n",
    "messages.describe()"
   ]
  },
  {
   "cell_type": "code",
   "execution_count": 21,
   "metadata": {},
   "outputs": [
    {
     "name": "stdout",
     "output_type": "stream",
     "text": [
      "2018-08-17 00:00:00 2018-01-01 00:00:00\n",
      "2018-12-30 00:00:00 2018-12-31 00:00:00\n",
      "['ultra' 'smart']\n"
     ]
    },
    {
     "data": {
      "text/html": [
       "<div>\n",
       "<style scoped>\n",
       "    .dataframe tbody tr th:only-of-type {\n",
       "        vertical-align: middle;\n",
       "    }\n",
       "\n",
       "    .dataframe tbody tr th {\n",
       "        vertical-align: top;\n",
       "    }\n",
       "\n",
       "    .dataframe thead th {\n",
       "        text-align: right;\n",
       "    }\n",
       "</style>\n",
       "<table border=\"1\" class=\"dataframe\">\n",
       "  <thead>\n",
       "    <tr style=\"text-align: right;\">\n",
       "      <th></th>\n",
       "      <th>user_id</th>\n",
       "      <th>age</th>\n",
       "    </tr>\n",
       "  </thead>\n",
       "  <tbody>\n",
       "    <tr>\n",
       "      <th>count</th>\n",
       "      <td>500.000000</td>\n",
       "      <td>500.00000</td>\n",
       "    </tr>\n",
       "    <tr>\n",
       "      <th>mean</th>\n",
       "      <td>1249.500000</td>\n",
       "      <td>46.58800</td>\n",
       "    </tr>\n",
       "    <tr>\n",
       "      <th>std</th>\n",
       "      <td>144.481833</td>\n",
       "      <td>16.66763</td>\n",
       "    </tr>\n",
       "    <tr>\n",
       "      <th>min</th>\n",
       "      <td>1000.000000</td>\n",
       "      <td>18.00000</td>\n",
       "    </tr>\n",
       "    <tr>\n",
       "      <th>25%</th>\n",
       "      <td>1124.750000</td>\n",
       "      <td>32.00000</td>\n",
       "    </tr>\n",
       "    <tr>\n",
       "      <th>50%</th>\n",
       "      <td>1249.500000</td>\n",
       "      <td>46.00000</td>\n",
       "    </tr>\n",
       "    <tr>\n",
       "      <th>75%</th>\n",
       "      <td>1374.250000</td>\n",
       "      <td>62.00000</td>\n",
       "    </tr>\n",
       "    <tr>\n",
       "      <th>max</th>\n",
       "      <td>1499.000000</td>\n",
       "      <td>75.00000</td>\n",
       "    </tr>\n",
       "  </tbody>\n",
       "</table>\n",
       "</div>"
      ],
      "text/plain": [
       "           user_id        age\n",
       "count   500.000000  500.00000\n",
       "mean   1249.500000   46.58800\n",
       "std     144.481833   16.66763\n",
       "min    1000.000000   18.00000\n",
       "25%    1124.750000   32.00000\n",
       "50%    1249.500000   46.00000\n",
       "75%    1374.250000   62.00000\n",
       "max    1499.000000   75.00000"
      ]
     },
     "execution_count": 21,
     "metadata": {},
     "output_type": "execute_result"
    }
   ],
   "source": [
    "print(users['churn_date'].min(), users['reg_date'].min())\n",
    "print(users['churn_date'].max(), users['reg_date'].max()) \n",
    "print(users['tariff'].unique())\n",
    "users.describe()"
   ]
  },
  {
   "cell_type": "markdown",
   "metadata": {},
   "source": [
    "<div class=\"alert alert-block alert-info\">\n",
    "Аномалии также не были обнаружены\n",
    "</div>"
   ]
  },
  {
   "cell_type": "markdown",
   "metadata": {},
   "source": [
    "<div class=\"alert alert-success\">\n",
    "<b>✔️ Комментарий ревьюера:</b>  Отлично, что сделала эту проверку!"
   ]
  },
  {
   "cell_type": "markdown",
   "metadata": {},
   "source": [
    "### Расчеты для каждого пользователя"
   ]
  },
  {
   "cell_type": "code",
   "execution_count": 22,
   "metadata": {},
   "outputs": [],
   "source": [
    "#количество сделанных звонков и израсходованных минут разговора по месяцам\n",
    "calls['month'] = calls['call_date'].astype('datetime64[M]')\n",
    "calls_quantity = calls.pivot_table(\n",
    "                                    'duration', \n",
    "                                    index=['user_id', 'month'], \n",
    "                                    aggfunc=['count', 'sum']\n",
    ")"
   ]
  },
  {
   "cell_type": "markdown",
   "metadata": {},
   "source": [
    "<div class=\"alert alert-success\">\n",
    "<b>✔️ Комментарий ревьюера:</b> Обычно в датафреймах содержатся данные за несколько лет. Важно выбрать корректный метод для вычленения месяца, иначе месяца разных годов могут стать одним месяцем. Молодец, что используешь метод astype('datetime64[M]'). Для его использования не нужно обращаться к pd.DatetimeIndex."
   ]
  },
  {
   "cell_type": "code",
   "execution_count": 23,
   "metadata": {},
   "outputs": [],
   "source": [
    "#количество отправленных сообщений по месяцам\n",
    "messages['month'] = messages['message_date'].astype('datetime64[M]')\n",
    "messages_quantity = (\n",
    "    messages\n",
    "    .groupby(['user_id','month'])\n",
    "    .agg(messages_quantity=('id', 'count'))\n",
    ")"
   ]
  },
  {
   "cell_type": "code",
   "execution_count": 24,
   "metadata": {},
   "outputs": [],
   "source": [
    "#объем израсходованного интернет-трафика по месяцам\n",
    "internet['month'] = internet['session_date'].astype('datetime64[M]')\n",
    "internet_volume = pd.pivot_table(\n",
    "    internet,                  \n",
    "    values='mb_used', \n",
    "    index=['user_id', 'month'], \n",
    "    aggfunc='sum'\n",
    ")"
   ]
  },
  {
   "cell_type": "code",
   "execution_count": 25,
   "metadata": {},
   "outputs": [],
   "source": [
    "#Рассчитаем помесячную выручку дл каждого пользователя\n",
    "#Для начала объединими таблицы в одну\n",
    "user_information = calls_quantity.join([messages_quantity, internet_volume], how='outer')\n",
    "user_information.columns = ['calls_quantity', 'duration_total', 'messages_quantity', 'traffic_volume']\n",
    "user_information = user_information.reset_index()"
   ]
  },
  {
   "cell_type": "code",
   "execution_count": 26,
   "metadata": {},
   "outputs": [
    {
     "name": "stdout",
     "output_type": "stream",
     "text": [
      "Количество строк в таблицах до объединения:\n",
      " 3174 \n",
      " 2717 \n",
      " 3203\n"
     ]
    }
   ],
   "source": [
    "print(\"Количество строк в таблицах до объединения:\\n\", len(calls_quantity), '\\n', len(messages_quantity), '\\n', len(internet_volume))"
   ]
  },
  {
   "cell_type": "code",
   "execution_count": 27,
   "metadata": {},
   "outputs": [
    {
     "name": "stdout",
     "output_type": "stream",
     "text": [
      "После объединения таблиц calls и messages получаем количество строк: 3213\n",
      "После объединения всех таблиц получаем количество строк: 3214\n"
     ]
    }
   ],
   "source": [
    "#Проверку на количество строк\n",
    "calls_messages = len(calls_quantity) + len(messages_quantity) - len(calls_quantity.join([messages_quantity], how='inner'))\n",
    "print('После объединения таблиц calls и messages получаем количество строк:', calls_messages)\n",
    "first_table = calls_quantity.join([messages_quantity], how='outer')\n",
    "calls_messages_internet = calls_messages + len(internet_volume) - len(first_table.join([internet_volume], how='inner'))\n",
    "print('После объединения всех таблиц получаем количество строк:', calls_messages_internet)"
   ]
  },
  {
   "cell_type": "code",
   "execution_count": 28,
   "metadata": {},
   "outputs": [
    {
     "data": {
      "text/html": [
       "<div>\n",
       "<style scoped>\n",
       "    .dataframe tbody tr th:only-of-type {\n",
       "        vertical-align: middle;\n",
       "    }\n",
       "\n",
       "    .dataframe tbody tr th {\n",
       "        vertical-align: top;\n",
       "    }\n",
       "\n",
       "    .dataframe thead th {\n",
       "        text-align: right;\n",
       "    }\n",
       "</style>\n",
       "<table border=\"1\" class=\"dataframe\">\n",
       "  <thead>\n",
       "    <tr style=\"text-align: right;\">\n",
       "      <th></th>\n",
       "      <th>user_id</th>\n",
       "      <th>month</th>\n",
       "      <th>calls_quantity</th>\n",
       "      <th>duration_total</th>\n",
       "      <th>messages_quantity</th>\n",
       "      <th>traffic_volume</th>\n",
       "    </tr>\n",
       "  </thead>\n",
       "  <tbody>\n",
       "    <tr>\n",
       "      <th>0</th>\n",
       "      <td>1000</td>\n",
       "      <td>2018-05-01</td>\n",
       "      <td>22.0</td>\n",
       "      <td>159.0</td>\n",
       "      <td>22.0</td>\n",
       "      <td>2253.489990</td>\n",
       "    </tr>\n",
       "    <tr>\n",
       "      <th>1</th>\n",
       "      <td>1000</td>\n",
       "      <td>2018-06-01</td>\n",
       "      <td>43.0</td>\n",
       "      <td>172.0</td>\n",
       "      <td>60.0</td>\n",
       "      <td>23233.769531</td>\n",
       "    </tr>\n",
       "    <tr>\n",
       "      <th>2</th>\n",
       "      <td>1000</td>\n",
       "      <td>2018-07-01</td>\n",
       "      <td>47.0</td>\n",
       "      <td>340.0</td>\n",
       "      <td>75.0</td>\n",
       "      <td>14003.639648</td>\n",
       "    </tr>\n",
       "    <tr>\n",
       "      <th>3</th>\n",
       "      <td>1000</td>\n",
       "      <td>2018-08-01</td>\n",
       "      <td>52.0</td>\n",
       "      <td>408.0</td>\n",
       "      <td>81.0</td>\n",
       "      <td>14055.929688</td>\n",
       "    </tr>\n",
       "    <tr>\n",
       "      <th>4</th>\n",
       "      <td>1000</td>\n",
       "      <td>2018-09-01</td>\n",
       "      <td>58.0</td>\n",
       "      <td>466.0</td>\n",
       "      <td>57.0</td>\n",
       "      <td>14568.910156</td>\n",
       "    </tr>\n",
       "    <tr>\n",
       "      <th>...</th>\n",
       "      <td>...</td>\n",
       "      <td>...</td>\n",
       "      <td>...</td>\n",
       "      <td>...</td>\n",
       "      <td>...</td>\n",
       "      <td>...</td>\n",
       "    </tr>\n",
       "    <tr>\n",
       "      <th>3209</th>\n",
       "      <td>1498</td>\n",
       "      <td>2018-10-01</td>\n",
       "      <td>41.0</td>\n",
       "      <td>247.0</td>\n",
       "      <td>42.0</td>\n",
       "      <td>20579.359375</td>\n",
       "    </tr>\n",
       "    <tr>\n",
       "      <th>3210</th>\n",
       "      <td>1499</td>\n",
       "      <td>2018-09-01</td>\n",
       "      <td>9.0</td>\n",
       "      <td>70.0</td>\n",
       "      <td>11.0</td>\n",
       "      <td>1845.750000</td>\n",
       "    </tr>\n",
       "    <tr>\n",
       "      <th>3211</th>\n",
       "      <td>1499</td>\n",
       "      <td>2018-10-01</td>\n",
       "      <td>68.0</td>\n",
       "      <td>449.0</td>\n",
       "      <td>48.0</td>\n",
       "      <td>17788.509766</td>\n",
       "    </tr>\n",
       "    <tr>\n",
       "      <th>3212</th>\n",
       "      <td>1499</td>\n",
       "      <td>2018-11-01</td>\n",
       "      <td>74.0</td>\n",
       "      <td>612.0</td>\n",
       "      <td>59.0</td>\n",
       "      <td>17963.310547</td>\n",
       "    </tr>\n",
       "    <tr>\n",
       "      <th>3213</th>\n",
       "      <td>1499</td>\n",
       "      <td>2018-12-01</td>\n",
       "      <td>69.0</td>\n",
       "      <td>492.0</td>\n",
       "      <td>66.0</td>\n",
       "      <td>13055.580078</td>\n",
       "    </tr>\n",
       "  </tbody>\n",
       "</table>\n",
       "<p>3214 rows × 6 columns</p>\n",
       "</div>"
      ],
      "text/plain": [
       "      user_id      month  calls_quantity  duration_total  messages_quantity  \\\n",
       "0        1000 2018-05-01            22.0           159.0               22.0   \n",
       "1        1000 2018-06-01            43.0           172.0               60.0   \n",
       "2        1000 2018-07-01            47.0           340.0               75.0   \n",
       "3        1000 2018-08-01            52.0           408.0               81.0   \n",
       "4        1000 2018-09-01            58.0           466.0               57.0   \n",
       "...       ...        ...             ...             ...                ...   \n",
       "3209     1498 2018-10-01            41.0           247.0               42.0   \n",
       "3210     1499 2018-09-01             9.0            70.0               11.0   \n",
       "3211     1499 2018-10-01            68.0           449.0               48.0   \n",
       "3212     1499 2018-11-01            74.0           612.0               59.0   \n",
       "3213     1499 2018-12-01            69.0           492.0               66.0   \n",
       "\n",
       "      traffic_volume  \n",
       "0        2253.489990  \n",
       "1       23233.769531  \n",
       "2       14003.639648  \n",
       "3       14055.929688  \n",
       "4       14568.910156  \n",
       "...              ...  \n",
       "3209    20579.359375  \n",
       "3210     1845.750000  \n",
       "3211    17788.509766  \n",
       "3212    17963.310547  \n",
       "3213    13055.580078  \n",
       "\n",
       "[3214 rows x 6 columns]"
      ]
     },
     "execution_count": 28,
     "metadata": {},
     "output_type": "execute_result"
    }
   ],
   "source": [
    "user_information"
   ]
  },
  {
   "cell_type": "code",
   "execution_count": 29,
   "metadata": {},
   "outputs": [],
   "source": [
    "#для каждого пользователя добавим информацию о тарифе из таблицы users\n",
    "user_information = user_information.merge(users[['user_id', 'tariff', 'city']], how='left', on='user_id')"
   ]
  },
  {
   "cell_type": "code",
   "execution_count": 30,
   "metadata": {},
   "outputs": [
    {
     "name": "stdout",
     "output_type": "stream",
     "text": [
      "user_id                0\n",
      "month                  0\n",
      "calls_quantity        40\n",
      "duration_total        40\n",
      "messages_quantity    497\n",
      "traffic_volume        11\n",
      "tariff                 0\n",
      "city                   0\n",
      "dtype: int64\n"
     ]
    },
    {
     "data": {
      "text/html": [
       "<div>\n",
       "<style scoped>\n",
       "    .dataframe tbody tr th:only-of-type {\n",
       "        vertical-align: middle;\n",
       "    }\n",
       "\n",
       "    .dataframe tbody tr th {\n",
       "        vertical-align: top;\n",
       "    }\n",
       "\n",
       "    .dataframe thead th {\n",
       "        text-align: right;\n",
       "    }\n",
       "</style>\n",
       "<table border=\"1\" class=\"dataframe\">\n",
       "  <thead>\n",
       "    <tr style=\"text-align: right;\">\n",
       "      <th></th>\n",
       "      <th>user_id</th>\n",
       "      <th>month</th>\n",
       "      <th>calls_quantity</th>\n",
       "      <th>duration_total</th>\n",
       "      <th>messages_quantity</th>\n",
       "      <th>traffic_volume</th>\n",
       "      <th>tariff</th>\n",
       "      <th>city</th>\n",
       "    </tr>\n",
       "  </thead>\n",
       "  <tbody>\n",
       "    <tr>\n",
       "      <th>570</th>\n",
       "      <td>1091</td>\n",
       "      <td>2018-05-01</td>\n",
       "      <td>NaN</td>\n",
       "      <td>NaN</td>\n",
       "      <td>30.0</td>\n",
       "      <td>10703.370117</td>\n",
       "      <td>ultra</td>\n",
       "      <td>Набережные Челны</td>\n",
       "    </tr>\n",
       "    <tr>\n",
       "      <th>571</th>\n",
       "      <td>1091</td>\n",
       "      <td>2018-06-01</td>\n",
       "      <td>NaN</td>\n",
       "      <td>NaN</td>\n",
       "      <td>30.0</td>\n",
       "      <td>10236.189453</td>\n",
       "      <td>ultra</td>\n",
       "      <td>Набережные Челны</td>\n",
       "    </tr>\n",
       "    <tr>\n",
       "      <th>572</th>\n",
       "      <td>1091</td>\n",
       "      <td>2018-07-01</td>\n",
       "      <td>NaN</td>\n",
       "      <td>NaN</td>\n",
       "      <td>35.0</td>\n",
       "      <td>16444.980469</td>\n",
       "      <td>ultra</td>\n",
       "      <td>Набережные Челны</td>\n",
       "    </tr>\n",
       "    <tr>\n",
       "      <th>573</th>\n",
       "      <td>1091</td>\n",
       "      <td>2018-08-01</td>\n",
       "      <td>NaN</td>\n",
       "      <td>NaN</td>\n",
       "      <td>31.0</td>\n",
       "      <td>12633.879883</td>\n",
       "      <td>ultra</td>\n",
       "      <td>Набережные Челны</td>\n",
       "    </tr>\n",
       "    <tr>\n",
       "      <th>574</th>\n",
       "      <td>1091</td>\n",
       "      <td>2018-09-01</td>\n",
       "      <td>NaN</td>\n",
       "      <td>NaN</td>\n",
       "      <td>32.0</td>\n",
       "      <td>16597.109375</td>\n",
       "      <td>ultra</td>\n",
       "      <td>Набережные Челны</td>\n",
       "    </tr>\n",
       "    <tr>\n",
       "      <th>575</th>\n",
       "      <td>1091</td>\n",
       "      <td>2018-10-01</td>\n",
       "      <td>NaN</td>\n",
       "      <td>NaN</td>\n",
       "      <td>44.0</td>\n",
       "      <td>15644.729492</td>\n",
       "      <td>ultra</td>\n",
       "      <td>Набережные Челны</td>\n",
       "    </tr>\n",
       "    <tr>\n",
       "      <th>576</th>\n",
       "      <td>1091</td>\n",
       "      <td>2018-11-01</td>\n",
       "      <td>NaN</td>\n",
       "      <td>NaN</td>\n",
       "      <td>28.0</td>\n",
       "      <td>11864.250000</td>\n",
       "      <td>ultra</td>\n",
       "      <td>Набережные Челны</td>\n",
       "    </tr>\n",
       "    <tr>\n",
       "      <th>577</th>\n",
       "      <td>1091</td>\n",
       "      <td>2018-12-01</td>\n",
       "      <td>NaN</td>\n",
       "      <td>NaN</td>\n",
       "      <td>42.0</td>\n",
       "      <td>13280.450195</td>\n",
       "      <td>ultra</td>\n",
       "      <td>Набережные Челны</td>\n",
       "    </tr>\n",
       "    <tr>\n",
       "      <th>671</th>\n",
       "      <td>1106</td>\n",
       "      <td>2018-04-01</td>\n",
       "      <td>NaN</td>\n",
       "      <td>NaN</td>\n",
       "      <td>9.0</td>\n",
       "      <td>2923.489990</td>\n",
       "      <td>ultra</td>\n",
       "      <td>Калуга</td>\n",
       "    </tr>\n",
       "    <tr>\n",
       "      <th>672</th>\n",
       "      <td>1106</td>\n",
       "      <td>2018-05-01</td>\n",
       "      <td>NaN</td>\n",
       "      <td>NaN</td>\n",
       "      <td>28.0</td>\n",
       "      <td>16573.009766</td>\n",
       "      <td>ultra</td>\n",
       "      <td>Калуга</td>\n",
       "    </tr>\n",
       "    <tr>\n",
       "      <th>673</th>\n",
       "      <td>1106</td>\n",
       "      <td>2018-06-01</td>\n",
       "      <td>NaN</td>\n",
       "      <td>NaN</td>\n",
       "      <td>30.0</td>\n",
       "      <td>20016.740234</td>\n",
       "      <td>ultra</td>\n",
       "      <td>Калуга</td>\n",
       "    </tr>\n",
       "    <tr>\n",
       "      <th>674</th>\n",
       "      <td>1106</td>\n",
       "      <td>2018-07-01</td>\n",
       "      <td>NaN</td>\n",
       "      <td>NaN</td>\n",
       "      <td>24.0</td>\n",
       "      <td>21626.859375</td>\n",
       "      <td>ultra</td>\n",
       "      <td>Калуга</td>\n",
       "    </tr>\n",
       "    <tr>\n",
       "      <th>675</th>\n",
       "      <td>1106</td>\n",
       "      <td>2018-08-01</td>\n",
       "      <td>NaN</td>\n",
       "      <td>NaN</td>\n",
       "      <td>25.0</td>\n",
       "      <td>19088.669922</td>\n",
       "      <td>ultra</td>\n",
       "      <td>Калуга</td>\n",
       "    </tr>\n",
       "    <tr>\n",
       "      <th>676</th>\n",
       "      <td>1106</td>\n",
       "      <td>2018-09-01</td>\n",
       "      <td>NaN</td>\n",
       "      <td>NaN</td>\n",
       "      <td>23.0</td>\n",
       "      <td>21934.029297</td>\n",
       "      <td>ultra</td>\n",
       "      <td>Калуга</td>\n",
       "    </tr>\n",
       "    <tr>\n",
       "      <th>677</th>\n",
       "      <td>1106</td>\n",
       "      <td>2018-10-01</td>\n",
       "      <td>NaN</td>\n",
       "      <td>NaN</td>\n",
       "      <td>33.0</td>\n",
       "      <td>14010.320312</td>\n",
       "      <td>ultra</td>\n",
       "      <td>Калуга</td>\n",
       "    </tr>\n",
       "    <tr>\n",
       "      <th>678</th>\n",
       "      <td>1106</td>\n",
       "      <td>2018-11-01</td>\n",
       "      <td>NaN</td>\n",
       "      <td>NaN</td>\n",
       "      <td>29.0</td>\n",
       "      <td>21289.269531</td>\n",
       "      <td>ultra</td>\n",
       "      <td>Калуга</td>\n",
       "    </tr>\n",
       "    <tr>\n",
       "      <th>679</th>\n",
       "      <td>1106</td>\n",
       "      <td>2018-12-01</td>\n",
       "      <td>NaN</td>\n",
       "      <td>NaN</td>\n",
       "      <td>24.0</td>\n",
       "      <td>18701.509766</td>\n",
       "      <td>ultra</td>\n",
       "      <td>Калуга</td>\n",
       "    </tr>\n",
       "    <tr>\n",
       "      <th>1474</th>\n",
       "      <td>1231</td>\n",
       "      <td>2018-05-01</td>\n",
       "      <td>NaN</td>\n",
       "      <td>NaN</td>\n",
       "      <td>55.0</td>\n",
       "      <td>10858.889648</td>\n",
       "      <td>ultra</td>\n",
       "      <td>Чебоксары</td>\n",
       "    </tr>\n",
       "    <tr>\n",
       "      <th>1475</th>\n",
       "      <td>1231</td>\n",
       "      <td>2018-06-01</td>\n",
       "      <td>NaN</td>\n",
       "      <td>NaN</td>\n",
       "      <td>201.0</td>\n",
       "      <td>27825.919922</td>\n",
       "      <td>ultra</td>\n",
       "      <td>Чебоксары</td>\n",
       "    </tr>\n",
       "    <tr>\n",
       "      <th>1476</th>\n",
       "      <td>1231</td>\n",
       "      <td>2018-07-01</td>\n",
       "      <td>NaN</td>\n",
       "      <td>NaN</td>\n",
       "      <td>211.0</td>\n",
       "      <td>27695.830078</td>\n",
       "      <td>ultra</td>\n",
       "      <td>Чебоксары</td>\n",
       "    </tr>\n",
       "    <tr>\n",
       "      <th>1477</th>\n",
       "      <td>1231</td>\n",
       "      <td>2018-08-01</td>\n",
       "      <td>NaN</td>\n",
       "      <td>NaN</td>\n",
       "      <td>180.0</td>\n",
       "      <td>32045.699219</td>\n",
       "      <td>ultra</td>\n",
       "      <td>Чебоксары</td>\n",
       "    </tr>\n",
       "    <tr>\n",
       "      <th>1478</th>\n",
       "      <td>1231</td>\n",
       "      <td>2018-09-01</td>\n",
       "      <td>NaN</td>\n",
       "      <td>NaN</td>\n",
       "      <td>188.0</td>\n",
       "      <td>33189.468750</td>\n",
       "      <td>ultra</td>\n",
       "      <td>Чебоксары</td>\n",
       "    </tr>\n",
       "    <tr>\n",
       "      <th>1479</th>\n",
       "      <td>1231</td>\n",
       "      <td>2018-10-01</td>\n",
       "      <td>NaN</td>\n",
       "      <td>NaN</td>\n",
       "      <td>185.0</td>\n",
       "      <td>31032.929688</td>\n",
       "      <td>ultra</td>\n",
       "      <td>Чебоксары</td>\n",
       "    </tr>\n",
       "    <tr>\n",
       "      <th>1480</th>\n",
       "      <td>1231</td>\n",
       "      <td>2018-11-01</td>\n",
       "      <td>NaN</td>\n",
       "      <td>NaN</td>\n",
       "      <td>173.0</td>\n",
       "      <td>27431.630859</td>\n",
       "      <td>ultra</td>\n",
       "      <td>Чебоксары</td>\n",
       "    </tr>\n",
       "    <tr>\n",
       "      <th>1481</th>\n",
       "      <td>1231</td>\n",
       "      <td>2018-12-01</td>\n",
       "      <td>NaN</td>\n",
       "      <td>NaN</td>\n",
       "      <td>191.0</td>\n",
       "      <td>32448.000000</td>\n",
       "      <td>ultra</td>\n",
       "      <td>Чебоксары</td>\n",
       "    </tr>\n",
       "    <tr>\n",
       "      <th>2082</th>\n",
       "      <td>1328</td>\n",
       "      <td>2018-10-01</td>\n",
       "      <td>NaN</td>\n",
       "      <td>NaN</td>\n",
       "      <td>6.0</td>\n",
       "      <td>22427.980469</td>\n",
       "      <td>ultra</td>\n",
       "      <td>Мурманск</td>\n",
       "    </tr>\n",
       "    <tr>\n",
       "      <th>2083</th>\n",
       "      <td>1328</td>\n",
       "      <td>2018-11-01</td>\n",
       "      <td>NaN</td>\n",
       "      <td>NaN</td>\n",
       "      <td>8.0</td>\n",
       "      <td>35525.578125</td>\n",
       "      <td>ultra</td>\n",
       "      <td>Мурманск</td>\n",
       "    </tr>\n",
       "    <tr>\n",
       "      <th>2084</th>\n",
       "      <td>1328</td>\n",
       "      <td>2018-12-01</td>\n",
       "      <td>NaN</td>\n",
       "      <td>NaN</td>\n",
       "      <td>7.0</td>\n",
       "      <td>39419.730469</td>\n",
       "      <td>ultra</td>\n",
       "      <td>Мурманск</td>\n",
       "    </tr>\n",
       "    <tr>\n",
       "      <th>2351</th>\n",
       "      <td>1373</td>\n",
       "      <td>2018-06-01</td>\n",
       "      <td>NaN</td>\n",
       "      <td>NaN</td>\n",
       "      <td>48.0</td>\n",
       "      <td>12442.879883</td>\n",
       "      <td>smart</td>\n",
       "      <td>Улан-Удэ</td>\n",
       "    </tr>\n",
       "    <tr>\n",
       "      <th>3045</th>\n",
       "      <td>1473</td>\n",
       "      <td>2018-08-01</td>\n",
       "      <td>NaN</td>\n",
       "      <td>NaN</td>\n",
       "      <td>17.0</td>\n",
       "      <td>12905.400391</td>\n",
       "      <td>ultra</td>\n",
       "      <td>Красноярск</td>\n",
       "    </tr>\n",
       "    <tr>\n",
       "      <th>3046</th>\n",
       "      <td>1473</td>\n",
       "      <td>2018-09-01</td>\n",
       "      <td>NaN</td>\n",
       "      <td>NaN</td>\n",
       "      <td>19.0</td>\n",
       "      <td>17289.849609</td>\n",
       "      <td>ultra</td>\n",
       "      <td>Красноярск</td>\n",
       "    </tr>\n",
       "    <tr>\n",
       "      <th>3047</th>\n",
       "      <td>1473</td>\n",
       "      <td>2018-10-01</td>\n",
       "      <td>NaN</td>\n",
       "      <td>NaN</td>\n",
       "      <td>20.0</td>\n",
       "      <td>13688.650391</td>\n",
       "      <td>ultra</td>\n",
       "      <td>Красноярск</td>\n",
       "    </tr>\n",
       "    <tr>\n",
       "      <th>3048</th>\n",
       "      <td>1473</td>\n",
       "      <td>2018-11-01</td>\n",
       "      <td>NaN</td>\n",
       "      <td>NaN</td>\n",
       "      <td>14.0</td>\n",
       "      <td>21673.800781</td>\n",
       "      <td>ultra</td>\n",
       "      <td>Красноярск</td>\n",
       "    </tr>\n",
       "    <tr>\n",
       "      <th>3049</th>\n",
       "      <td>1473</td>\n",
       "      <td>2018-12-01</td>\n",
       "      <td>NaN</td>\n",
       "      <td>NaN</td>\n",
       "      <td>20.0</td>\n",
       "      <td>18418.259766</td>\n",
       "      <td>ultra</td>\n",
       "      <td>Красноярск</td>\n",
       "    </tr>\n",
       "    <tr>\n",
       "      <th>3064</th>\n",
       "      <td>1476</td>\n",
       "      <td>2018-04-01</td>\n",
       "      <td>NaN</td>\n",
       "      <td>NaN</td>\n",
       "      <td>NaN</td>\n",
       "      <td>530.780029</td>\n",
       "      <td>ultra</td>\n",
       "      <td>Москва</td>\n",
       "    </tr>\n",
       "    <tr>\n",
       "      <th>3149</th>\n",
       "      <td>1489</td>\n",
       "      <td>2018-08-01</td>\n",
       "      <td>NaN</td>\n",
       "      <td>NaN</td>\n",
       "      <td>17.0</td>\n",
       "      <td>11050.559570</td>\n",
       "      <td>smart</td>\n",
       "      <td>Санкт-Петербург</td>\n",
       "    </tr>\n",
       "    <tr>\n",
       "      <th>3150</th>\n",
       "      <td>1489</td>\n",
       "      <td>2018-09-01</td>\n",
       "      <td>NaN</td>\n",
       "      <td>NaN</td>\n",
       "      <td>32.0</td>\n",
       "      <td>17206.300781</td>\n",
       "      <td>smart</td>\n",
       "      <td>Санкт-Петербург</td>\n",
       "    </tr>\n",
       "    <tr>\n",
       "      <th>3151</th>\n",
       "      <td>1489</td>\n",
       "      <td>2018-10-01</td>\n",
       "      <td>NaN</td>\n",
       "      <td>NaN</td>\n",
       "      <td>21.0</td>\n",
       "      <td>19559.439453</td>\n",
       "      <td>smart</td>\n",
       "      <td>Санкт-Петербург</td>\n",
       "    </tr>\n",
       "    <tr>\n",
       "      <th>3152</th>\n",
       "      <td>1489</td>\n",
       "      <td>2018-11-01</td>\n",
       "      <td>NaN</td>\n",
       "      <td>NaN</td>\n",
       "      <td>20.0</td>\n",
       "      <td>17491.560547</td>\n",
       "      <td>smart</td>\n",
       "      <td>Санкт-Петербург</td>\n",
       "    </tr>\n",
       "    <tr>\n",
       "      <th>3153</th>\n",
       "      <td>1489</td>\n",
       "      <td>2018-12-01</td>\n",
       "      <td>NaN</td>\n",
       "      <td>NaN</td>\n",
       "      <td>35.0</td>\n",
       "      <td>17322.509766</td>\n",
       "      <td>smart</td>\n",
       "      <td>Санкт-Петербург</td>\n",
       "    </tr>\n",
       "  </tbody>\n",
       "</table>\n",
       "</div>"
      ],
      "text/plain": [
       "      user_id      month  calls_quantity  duration_total  messages_quantity  \\\n",
       "570      1091 2018-05-01             NaN             NaN               30.0   \n",
       "571      1091 2018-06-01             NaN             NaN               30.0   \n",
       "572      1091 2018-07-01             NaN             NaN               35.0   \n",
       "573      1091 2018-08-01             NaN             NaN               31.0   \n",
       "574      1091 2018-09-01             NaN             NaN               32.0   \n",
       "575      1091 2018-10-01             NaN             NaN               44.0   \n",
       "576      1091 2018-11-01             NaN             NaN               28.0   \n",
       "577      1091 2018-12-01             NaN             NaN               42.0   \n",
       "671      1106 2018-04-01             NaN             NaN                9.0   \n",
       "672      1106 2018-05-01             NaN             NaN               28.0   \n",
       "673      1106 2018-06-01             NaN             NaN               30.0   \n",
       "674      1106 2018-07-01             NaN             NaN               24.0   \n",
       "675      1106 2018-08-01             NaN             NaN               25.0   \n",
       "676      1106 2018-09-01             NaN             NaN               23.0   \n",
       "677      1106 2018-10-01             NaN             NaN               33.0   \n",
       "678      1106 2018-11-01             NaN             NaN               29.0   \n",
       "679      1106 2018-12-01             NaN             NaN               24.0   \n",
       "1474     1231 2018-05-01             NaN             NaN               55.0   \n",
       "1475     1231 2018-06-01             NaN             NaN              201.0   \n",
       "1476     1231 2018-07-01             NaN             NaN              211.0   \n",
       "1477     1231 2018-08-01             NaN             NaN              180.0   \n",
       "1478     1231 2018-09-01             NaN             NaN              188.0   \n",
       "1479     1231 2018-10-01             NaN             NaN              185.0   \n",
       "1480     1231 2018-11-01             NaN             NaN              173.0   \n",
       "1481     1231 2018-12-01             NaN             NaN              191.0   \n",
       "2082     1328 2018-10-01             NaN             NaN                6.0   \n",
       "2083     1328 2018-11-01             NaN             NaN                8.0   \n",
       "2084     1328 2018-12-01             NaN             NaN                7.0   \n",
       "2351     1373 2018-06-01             NaN             NaN               48.0   \n",
       "3045     1473 2018-08-01             NaN             NaN               17.0   \n",
       "3046     1473 2018-09-01             NaN             NaN               19.0   \n",
       "3047     1473 2018-10-01             NaN             NaN               20.0   \n",
       "3048     1473 2018-11-01             NaN             NaN               14.0   \n",
       "3049     1473 2018-12-01             NaN             NaN               20.0   \n",
       "3064     1476 2018-04-01             NaN             NaN                NaN   \n",
       "3149     1489 2018-08-01             NaN             NaN               17.0   \n",
       "3150     1489 2018-09-01             NaN             NaN               32.0   \n",
       "3151     1489 2018-10-01             NaN             NaN               21.0   \n",
       "3152     1489 2018-11-01             NaN             NaN               20.0   \n",
       "3153     1489 2018-12-01             NaN             NaN               35.0   \n",
       "\n",
       "      traffic_volume tariff              city  \n",
       "570     10703.370117  ultra  Набережные Челны  \n",
       "571     10236.189453  ultra  Набережные Челны  \n",
       "572     16444.980469  ultra  Набережные Челны  \n",
       "573     12633.879883  ultra  Набережные Челны  \n",
       "574     16597.109375  ultra  Набережные Челны  \n",
       "575     15644.729492  ultra  Набережные Челны  \n",
       "576     11864.250000  ultra  Набережные Челны  \n",
       "577     13280.450195  ultra  Набережные Челны  \n",
       "671      2923.489990  ultra            Калуга  \n",
       "672     16573.009766  ultra            Калуга  \n",
       "673     20016.740234  ultra            Калуга  \n",
       "674     21626.859375  ultra            Калуга  \n",
       "675     19088.669922  ultra            Калуга  \n",
       "676     21934.029297  ultra            Калуга  \n",
       "677     14010.320312  ultra            Калуга  \n",
       "678     21289.269531  ultra            Калуга  \n",
       "679     18701.509766  ultra            Калуга  \n",
       "1474    10858.889648  ultra         Чебоксары  \n",
       "1475    27825.919922  ultra         Чебоксары  \n",
       "1476    27695.830078  ultra         Чебоксары  \n",
       "1477    32045.699219  ultra         Чебоксары  \n",
       "1478    33189.468750  ultra         Чебоксары  \n",
       "1479    31032.929688  ultra         Чебоксары  \n",
       "1480    27431.630859  ultra         Чебоксары  \n",
       "1481    32448.000000  ultra         Чебоксары  \n",
       "2082    22427.980469  ultra          Мурманск  \n",
       "2083    35525.578125  ultra          Мурманск  \n",
       "2084    39419.730469  ultra          Мурманск  \n",
       "2351    12442.879883  smart          Улан-Удэ  \n",
       "3045    12905.400391  ultra        Красноярск  \n",
       "3046    17289.849609  ultra        Красноярск  \n",
       "3047    13688.650391  ultra        Красноярск  \n",
       "3048    21673.800781  ultra        Красноярск  \n",
       "3049    18418.259766  ultra        Красноярск  \n",
       "3064      530.780029  ultra            Москва  \n",
       "3149    11050.559570  smart   Санкт-Петербург  \n",
       "3150    17206.300781  smart   Санкт-Петербург  \n",
       "3151    19559.439453  smart   Санкт-Петербург  \n",
       "3152    17491.560547  smart   Санкт-Петербург  \n",
       "3153    17322.509766  smart   Санкт-Петербург  "
      ]
     },
     "execution_count": 30,
     "metadata": {},
     "output_type": "execute_result"
    }
   ],
   "source": [
    "#Проверим полученную таблицу на пропуски\n",
    "print(user_information.isna().sum())\n",
    "#Посмотрим, что за записи с пропущенными данными по звонкам\n",
    "user_information[user_information['duration_total'].isna()]"
   ]
  },
  {
   "cell_type": "code",
   "execution_count": 31,
   "metadata": {},
   "outputs": [
    {
     "data": {
      "text/html": [
       "<div>\n",
       "<style scoped>\n",
       "    .dataframe tbody tr th:only-of-type {\n",
       "        vertical-align: middle;\n",
       "    }\n",
       "\n",
       "    .dataframe tbody tr th {\n",
       "        vertical-align: top;\n",
       "    }\n",
       "\n",
       "    .dataframe thead th {\n",
       "        text-align: right;\n",
       "    }\n",
       "</style>\n",
       "<table border=\"1\" class=\"dataframe\">\n",
       "  <thead>\n",
       "    <tr style=\"text-align: right;\">\n",
       "      <th></th>\n",
       "      <th>user_id</th>\n",
       "      <th>month</th>\n",
       "      <th>calls_quantity</th>\n",
       "      <th>duration_total</th>\n",
       "      <th>messages_quantity</th>\n",
       "      <th>traffic_volume</th>\n",
       "      <th>tariff</th>\n",
       "      <th>city</th>\n",
       "    </tr>\n",
       "  </thead>\n",
       "  <tbody>\n",
       "    <tr>\n",
       "      <th>1722</th>\n",
       "      <td>1273</td>\n",
       "      <td>2018-05-01</td>\n",
       "      <td>24.0</td>\n",
       "      <td>220.0</td>\n",
       "      <td>21.0</td>\n",
       "      <td>NaN</td>\n",
       "      <td>ultra</td>\n",
       "      <td>Курган</td>\n",
       "    </tr>\n",
       "    <tr>\n",
       "      <th>1723</th>\n",
       "      <td>1273</td>\n",
       "      <td>2018-06-01</td>\n",
       "      <td>40.0</td>\n",
       "      <td>230.0</td>\n",
       "      <td>38.0</td>\n",
       "      <td>NaN</td>\n",
       "      <td>ultra</td>\n",
       "      <td>Курган</td>\n",
       "    </tr>\n",
       "    <tr>\n",
       "      <th>1724</th>\n",
       "      <td>1273</td>\n",
       "      <td>2018-07-01</td>\n",
       "      <td>44.0</td>\n",
       "      <td>253.0</td>\n",
       "      <td>37.0</td>\n",
       "      <td>NaN</td>\n",
       "      <td>ultra</td>\n",
       "      <td>Курган</td>\n",
       "    </tr>\n",
       "    <tr>\n",
       "      <th>1725</th>\n",
       "      <td>1273</td>\n",
       "      <td>2018-08-01</td>\n",
       "      <td>53.0</td>\n",
       "      <td>253.0</td>\n",
       "      <td>41.0</td>\n",
       "      <td>NaN</td>\n",
       "      <td>ultra</td>\n",
       "      <td>Курган</td>\n",
       "    </tr>\n",
       "    <tr>\n",
       "      <th>1726</th>\n",
       "      <td>1273</td>\n",
       "      <td>2018-09-01</td>\n",
       "      <td>33.0</td>\n",
       "      <td>223.0</td>\n",
       "      <td>32.0</td>\n",
       "      <td>NaN</td>\n",
       "      <td>ultra</td>\n",
       "      <td>Курган</td>\n",
       "    </tr>\n",
       "    <tr>\n",
       "      <th>1727</th>\n",
       "      <td>1273</td>\n",
       "      <td>2018-10-01</td>\n",
       "      <td>40.0</td>\n",
       "      <td>315.0</td>\n",
       "      <td>35.0</td>\n",
       "      <td>NaN</td>\n",
       "      <td>ultra</td>\n",
       "      <td>Курган</td>\n",
       "    </tr>\n",
       "    <tr>\n",
       "      <th>1728</th>\n",
       "      <td>1273</td>\n",
       "      <td>2018-11-01</td>\n",
       "      <td>45.0</td>\n",
       "      <td>272.0</td>\n",
       "      <td>29.0</td>\n",
       "      <td>NaN</td>\n",
       "      <td>ultra</td>\n",
       "      <td>Курган</td>\n",
       "    </tr>\n",
       "    <tr>\n",
       "      <th>1729</th>\n",
       "      <td>1273</td>\n",
       "      <td>2018-12-01</td>\n",
       "      <td>41.0</td>\n",
       "      <td>260.0</td>\n",
       "      <td>39.0</td>\n",
       "      <td>NaN</td>\n",
       "      <td>ultra</td>\n",
       "      <td>Курган</td>\n",
       "    </tr>\n",
       "    <tr>\n",
       "      <th>2387</th>\n",
       "      <td>1377</td>\n",
       "      <td>2018-02-01</td>\n",
       "      <td>23.0</td>\n",
       "      <td>179.0</td>\n",
       "      <td>2.0</td>\n",
       "      <td>NaN</td>\n",
       "      <td>ultra</td>\n",
       "      <td>Брянск</td>\n",
       "    </tr>\n",
       "    <tr>\n",
       "      <th>2500</th>\n",
       "      <td>1392</td>\n",
       "      <td>2018-02-01</td>\n",
       "      <td>2.0</td>\n",
       "      <td>13.0</td>\n",
       "      <td>3.0</td>\n",
       "      <td>NaN</td>\n",
       "      <td>ultra</td>\n",
       "      <td>Челябинск</td>\n",
       "    </tr>\n",
       "    <tr>\n",
       "      <th>2858</th>\n",
       "      <td>1446</td>\n",
       "      <td>2018-08-01</td>\n",
       "      <td>4.0</td>\n",
       "      <td>50.0</td>\n",
       "      <td>1.0</td>\n",
       "      <td>NaN</td>\n",
       "      <td>smart</td>\n",
       "      <td>Липецк</td>\n",
       "    </tr>\n",
       "  </tbody>\n",
       "</table>\n",
       "</div>"
      ],
      "text/plain": [
       "      user_id      month  calls_quantity  duration_total  messages_quantity  \\\n",
       "1722     1273 2018-05-01            24.0           220.0               21.0   \n",
       "1723     1273 2018-06-01            40.0           230.0               38.0   \n",
       "1724     1273 2018-07-01            44.0           253.0               37.0   \n",
       "1725     1273 2018-08-01            53.0           253.0               41.0   \n",
       "1726     1273 2018-09-01            33.0           223.0               32.0   \n",
       "1727     1273 2018-10-01            40.0           315.0               35.0   \n",
       "1728     1273 2018-11-01            45.0           272.0               29.0   \n",
       "1729     1273 2018-12-01            41.0           260.0               39.0   \n",
       "2387     1377 2018-02-01            23.0           179.0                2.0   \n",
       "2500     1392 2018-02-01             2.0            13.0                3.0   \n",
       "2858     1446 2018-08-01             4.0            50.0                1.0   \n",
       "\n",
       "      traffic_volume tariff       city  \n",
       "1722             NaN  ultra     Курган  \n",
       "1723             NaN  ultra     Курган  \n",
       "1724             NaN  ultra     Курган  \n",
       "1725             NaN  ultra     Курган  \n",
       "1726             NaN  ultra     Курган  \n",
       "1727             NaN  ultra     Курган  \n",
       "1728             NaN  ultra     Курган  \n",
       "1729             NaN  ultra     Курган  \n",
       "2387             NaN  ultra     Брянск  \n",
       "2500             NaN  ultra  Челябинск  \n",
       "2858             NaN  smart     Липецк  "
      ]
     },
     "execution_count": 31,
     "metadata": {},
     "output_type": "execute_result"
    }
   ],
   "source": [
    "user_information[user_information['traffic_volume'].isna()]"
   ]
  },
  {
   "cell_type": "code",
   "execution_count": 32,
   "metadata": {},
   "outputs": [
    {
     "data": {
      "text/html": [
       "<div>\n",
       "<style scoped>\n",
       "    .dataframe tbody tr th:only-of-type {\n",
       "        vertical-align: middle;\n",
       "    }\n",
       "\n",
       "    .dataframe tbody tr th {\n",
       "        vertical-align: top;\n",
       "    }\n",
       "\n",
       "    .dataframe thead th {\n",
       "        text-align: right;\n",
       "    }\n",
       "</style>\n",
       "<table border=\"1\" class=\"dataframe\">\n",
       "  <thead>\n",
       "    <tr style=\"text-align: right;\">\n",
       "      <th></th>\n",
       "      <th>user_id</th>\n",
       "      <th>month</th>\n",
       "      <th>calls_quantity</th>\n",
       "      <th>duration_total</th>\n",
       "      <th>messages_quantity</th>\n",
       "      <th>traffic_volume</th>\n",
       "      <th>tariff</th>\n",
       "      <th>city</th>\n",
       "    </tr>\n",
       "  </thead>\n",
       "  <tbody>\n",
       "    <tr>\n",
       "      <th>8</th>\n",
       "      <td>1001</td>\n",
       "      <td>2018-11-01</td>\n",
       "      <td>59.0</td>\n",
       "      <td>430.0</td>\n",
       "      <td>NaN</td>\n",
       "      <td>18429.339844</td>\n",
       "      <td>smart</td>\n",
       "      <td>Москва</td>\n",
       "    </tr>\n",
       "    <tr>\n",
       "      <th>9</th>\n",
       "      <td>1001</td>\n",
       "      <td>2018-12-01</td>\n",
       "      <td>63.0</td>\n",
       "      <td>414.0</td>\n",
       "      <td>NaN</td>\n",
       "      <td>14036.660156</td>\n",
       "      <td>smart</td>\n",
       "      <td>Москва</td>\n",
       "    </tr>\n",
       "    <tr>\n",
       "      <th>42</th>\n",
       "      <td>1006</td>\n",
       "      <td>2018-02-01</td>\n",
       "      <td>3.0</td>\n",
       "      <td>42.0</td>\n",
       "      <td>NaN</td>\n",
       "      <td>1392.150024</td>\n",
       "      <td>smart</td>\n",
       "      <td>Ульяновск</td>\n",
       "    </tr>\n",
       "    <tr>\n",
       "      <th>43</th>\n",
       "      <td>1006</td>\n",
       "      <td>2018-03-01</td>\n",
       "      <td>46.0</td>\n",
       "      <td>286.0</td>\n",
       "      <td>NaN</td>\n",
       "      <td>17287.929688</td>\n",
       "      <td>smart</td>\n",
       "      <td>Ульяновск</td>\n",
       "    </tr>\n",
       "    <tr>\n",
       "      <th>44</th>\n",
       "      <td>1006</td>\n",
       "      <td>2018-04-01</td>\n",
       "      <td>47.0</td>\n",
       "      <td>356.0</td>\n",
       "      <td>NaN</td>\n",
       "      <td>13936.700195</td>\n",
       "      <td>smart</td>\n",
       "      <td>Ульяновск</td>\n",
       "    </tr>\n",
       "    <tr>\n",
       "      <th>...</th>\n",
       "      <td>...</td>\n",
       "      <td>...</td>\n",
       "      <td>...</td>\n",
       "      <td>...</td>\n",
       "      <td>...</td>\n",
       "      <td>...</td>\n",
       "      <td>...</td>\n",
       "      <td>...</td>\n",
       "    </tr>\n",
       "    <tr>\n",
       "      <th>3181</th>\n",
       "      <td>1494</td>\n",
       "      <td>2018-08-01</td>\n",
       "      <td>32.0</td>\n",
       "      <td>262.0</td>\n",
       "      <td>NaN</td>\n",
       "      <td>6590.750000</td>\n",
       "      <td>smart</td>\n",
       "      <td>Омск</td>\n",
       "    </tr>\n",
       "    <tr>\n",
       "      <th>3182</th>\n",
       "      <td>1494</td>\n",
       "      <td>2018-09-01</td>\n",
       "      <td>66.0</td>\n",
       "      <td>501.0</td>\n",
       "      <td>NaN</td>\n",
       "      <td>16962.509766</td>\n",
       "      <td>smart</td>\n",
       "      <td>Омск</td>\n",
       "    </tr>\n",
       "    <tr>\n",
       "      <th>3183</th>\n",
       "      <td>1494</td>\n",
       "      <td>2018-10-01</td>\n",
       "      <td>52.0</td>\n",
       "      <td>354.0</td>\n",
       "      <td>NaN</td>\n",
       "      <td>17767.240234</td>\n",
       "      <td>smart</td>\n",
       "      <td>Омск</td>\n",
       "    </tr>\n",
       "    <tr>\n",
       "      <th>3184</th>\n",
       "      <td>1494</td>\n",
       "      <td>2018-11-01</td>\n",
       "      <td>63.0</td>\n",
       "      <td>411.0</td>\n",
       "      <td>NaN</td>\n",
       "      <td>18052.449219</td>\n",
       "      <td>smart</td>\n",
       "      <td>Омск</td>\n",
       "    </tr>\n",
       "    <tr>\n",
       "      <th>3185</th>\n",
       "      <td>1494</td>\n",
       "      <td>2018-12-01</td>\n",
       "      <td>62.0</td>\n",
       "      <td>418.0</td>\n",
       "      <td>NaN</td>\n",
       "      <td>17621.210938</td>\n",
       "      <td>smart</td>\n",
       "      <td>Омск</td>\n",
       "    </tr>\n",
       "  </tbody>\n",
       "</table>\n",
       "<p>497 rows × 8 columns</p>\n",
       "</div>"
      ],
      "text/plain": [
       "      user_id      month  calls_quantity  duration_total  messages_quantity  \\\n",
       "8        1001 2018-11-01            59.0           430.0                NaN   \n",
       "9        1001 2018-12-01            63.0           414.0                NaN   \n",
       "42       1006 2018-02-01             3.0            42.0                NaN   \n",
       "43       1006 2018-03-01            46.0           286.0                NaN   \n",
       "44       1006 2018-04-01            47.0           356.0                NaN   \n",
       "...       ...        ...             ...             ...                ...   \n",
       "3181     1494 2018-08-01            32.0           262.0                NaN   \n",
       "3182     1494 2018-09-01            66.0           501.0                NaN   \n",
       "3183     1494 2018-10-01            52.0           354.0                NaN   \n",
       "3184     1494 2018-11-01            63.0           411.0                NaN   \n",
       "3185     1494 2018-12-01            62.0           418.0                NaN   \n",
       "\n",
       "      traffic_volume tariff       city  \n",
       "8       18429.339844  smart     Москва  \n",
       "9       14036.660156  smart     Москва  \n",
       "42       1392.150024  smart  Ульяновск  \n",
       "43      17287.929688  smart  Ульяновск  \n",
       "44      13936.700195  smart  Ульяновск  \n",
       "...              ...    ...        ...  \n",
       "3181     6590.750000  smart       Омск  \n",
       "3182    16962.509766  smart       Омск  \n",
       "3183    17767.240234  smart       Омск  \n",
       "3184    18052.449219  smart       Омск  \n",
       "3185    17621.210938  smart       Омск  \n",
       "\n",
       "[497 rows x 8 columns]"
      ]
     },
     "execution_count": 32,
     "metadata": {},
     "output_type": "execute_result"
    }
   ],
   "source": [
    "user_information[user_information['messages_quantity'].isna()]"
   ]
  },
  {
   "cell_type": "code",
   "execution_count": 33,
   "metadata": {},
   "outputs": [
    {
     "data": {
      "text/plain": [
       "user_id              0\n",
       "month                0\n",
       "calls_quantity       0\n",
       "duration_total       0\n",
       "messages_quantity    0\n",
       "traffic_volume       0\n",
       "tariff               0\n",
       "city                 0\n",
       "dtype: int64"
      ]
     },
     "execution_count": 33,
     "metadata": {},
     "output_type": "execute_result"
    }
   ],
   "source": [
    "user_information = user_information.fillna(0)\n",
    "user_information.isna().sum()"
   ]
  },
  {
   "cell_type": "code",
   "execution_count": 34,
   "metadata": {},
   "outputs": [],
   "source": [
    "#создадим отдельные объекты для каждого тарифа\n",
    "smart = tariffs[tariffs['tariff_name'] == 'smart']\n",
    "ultra = tariffs.loc[tariffs['tariff_name'] == 'ultra']"
   ]
  },
  {
   "cell_type": "markdown",
   "metadata": {},
   "source": [
    "<div class=\"alert alert-success\">\n",
    "<b>✔️ Комментарий ревьюера:</b> Идеальное объединение таблиц! Параметр how='outer' предотвратит потерю уникальных пользователей"
   ]
  },
  {
   "cell_type": "markdown",
   "metadata": {},
   "source": [
    "<div class=\"alert alert-warning\">\n",
    "<b>⚠️ Комментарий ревьюера:</b> После объединения таблиц всегда очень полезно сделать проверку на корректность: сравнить кол-во уникальных идентификаторов до и после объединения"
   ]
  },
  {
   "cell_type": "markdown",
   "metadata": {},
   "source": [
    "<div class=\"alert alert-warning\">\n",
    "<b>⚠️ Комментарий ревьюера:</b> После объединения также важно заполнить пропуски в новой таблице нулями. Это может повлиять на результаты анализа"
   ]
  },
  {
   "cell_type": "markdown",
   "metadata": {},
   "source": [
    "<div class=\"alert alert-block alert-info\">\n",
    "Сделала проверку на количество строк. Все сходится. Последовательно объединила таблицы и вычла общие записи для корректного подсчета общих записей. \n",
    "    \n",
    "Также заполнила пропуски нулями, поскольку записи с пропущенными значениями в поле Звонки содержат информацию по трафику, их нельзя удалять. Может просто данные пользователи использовали тариф для использования интернета. Аналогично и с пропусками в поле Интернет и Сообщения"
   ]
  },
  {
   "cell_type": "markdown",
   "metadata": {},
   "source": [
    "<div class=\"alert alert-success\">\n",
    "<b>✔️ Комментарий ревьюера V2:</b> Абсолютно верно"
   ]
  },
  {
   "cell_type": "code",
   "execution_count": 35,
   "metadata": {},
   "outputs": [],
   "source": [
    "#создадим функцию, которая высчитывает прибыль для каждого пользователя\n",
    "def gain(row):\n",
    "    profit = 0\n",
    "    if row['tariff'] == 'smart':\n",
    "        sub_calls = row['duration_total'] - smart['minutes_included'][0]\n",
    "        sub_messages = row['messages_quantity'] - smart['messages_included'][0]\n",
    "        sub_traffic = row['traffic_volume'] - smart['mb_per_month_included'][0]\n",
    "        if sub_calls > 0:\n",
    "            profit += sub_calls * smart['rub_per_minute'][0]\n",
    "        if sub_messages > 0:\n",
    "            profit += sub_messages * smart['rub_per_message'][0]\n",
    "        if sub_traffic > 0:\n",
    "            profit += math.ceil(sub_traffic / 1024) * smart['rub_per_gb'][0]\n",
    "        return profit + smart['rub_monthly_fee'][0]\n",
    "    if row['tariff'] == 'ultra':\n",
    "        sub_calls = row['duration_total'] - ultra['minutes_included'][1]\n",
    "        sub_messages = row['messages_quantity'] - ultra['messages_included'][1]\n",
    "        sub_traffic = row['traffic_volume'] - ultra['mb_per_month_included'][1]\n",
    "        if sub_calls > 0:\n",
    "            profit += sub_calls * ultra['rub_per_minute'][1]\n",
    "        if sub_messages > 0:\n",
    "            profit += sub_messages * ultra['rub_per_message'][1]\n",
    "        if sub_traffic > 0:\n",
    "            profit += math.ceil(sub_traffic / 1024) * ultra['rub_per_gb'][1]    \n",
    "        return profit + ultra['rub_monthly_fee'][1]"
   ]
  },
  {
   "cell_type": "markdown",
   "metadata": {},
   "source": [
    "<div class=\"alert alert-warning\">\n",
    "<b>⚠️ Комментарий ревьюера:</b> 1 Гб = 1024 Мб"
   ]
  },
  {
   "cell_type": "markdown",
   "metadata": {},
   "source": [
    "<div class=\"alert alert-block alert-info\">\n",
    "Исправила\n",
    "</div>"
   ]
  },
  {
   "cell_type": "markdown",
   "metadata": {},
   "source": [
    "<div class=\"alert alert-success\">\n",
    "<b>✔️ Комментарий ревьюера:</b> Функция работает корректно"
   ]
  },
  {
   "cell_type": "code",
   "execution_count": 36,
   "metadata": {},
   "outputs": [
    {
     "data": {
      "text/html": [
       "<div>\n",
       "<style scoped>\n",
       "    .dataframe tbody tr th:only-of-type {\n",
       "        vertical-align: middle;\n",
       "    }\n",
       "\n",
       "    .dataframe tbody tr th {\n",
       "        vertical-align: top;\n",
       "    }\n",
       "\n",
       "    .dataframe thead th {\n",
       "        text-align: right;\n",
       "    }\n",
       "</style>\n",
       "<table border=\"1\" class=\"dataframe\">\n",
       "  <thead>\n",
       "    <tr style=\"text-align: right;\">\n",
       "      <th></th>\n",
       "      <th>user_id</th>\n",
       "      <th>month</th>\n",
       "      <th>calls_quantity</th>\n",
       "      <th>duration_total</th>\n",
       "      <th>messages_quantity</th>\n",
       "      <th>traffic_volume</th>\n",
       "      <th>tariff</th>\n",
       "      <th>city</th>\n",
       "    </tr>\n",
       "  </thead>\n",
       "  <tbody>\n",
       "    <tr>\n",
       "      <th>0</th>\n",
       "      <td>1000</td>\n",
       "      <td>2018-05-01</td>\n",
       "      <td>22.0</td>\n",
       "      <td>159.0</td>\n",
       "      <td>22.0</td>\n",
       "      <td>2253.489990</td>\n",
       "      <td>ultra</td>\n",
       "      <td>Краснодар</td>\n",
       "    </tr>\n",
       "    <tr>\n",
       "      <th>1</th>\n",
       "      <td>1000</td>\n",
       "      <td>2018-06-01</td>\n",
       "      <td>43.0</td>\n",
       "      <td>172.0</td>\n",
       "      <td>60.0</td>\n",
       "      <td>23233.769531</td>\n",
       "      <td>ultra</td>\n",
       "      <td>Краснодар</td>\n",
       "    </tr>\n",
       "    <tr>\n",
       "      <th>2</th>\n",
       "      <td>1000</td>\n",
       "      <td>2018-07-01</td>\n",
       "      <td>47.0</td>\n",
       "      <td>340.0</td>\n",
       "      <td>75.0</td>\n",
       "      <td>14003.639648</td>\n",
       "      <td>ultra</td>\n",
       "      <td>Краснодар</td>\n",
       "    </tr>\n",
       "    <tr>\n",
       "      <th>3</th>\n",
       "      <td>1000</td>\n",
       "      <td>2018-08-01</td>\n",
       "      <td>52.0</td>\n",
       "      <td>408.0</td>\n",
       "      <td>81.0</td>\n",
       "      <td>14055.929688</td>\n",
       "      <td>ultra</td>\n",
       "      <td>Краснодар</td>\n",
       "    </tr>\n",
       "    <tr>\n",
       "      <th>4</th>\n",
       "      <td>1000</td>\n",
       "      <td>2018-09-01</td>\n",
       "      <td>58.0</td>\n",
       "      <td>466.0</td>\n",
       "      <td>57.0</td>\n",
       "      <td>14568.910156</td>\n",
       "      <td>ultra</td>\n",
       "      <td>Краснодар</td>\n",
       "    </tr>\n",
       "    <tr>\n",
       "      <th>...</th>\n",
       "      <td>...</td>\n",
       "      <td>...</td>\n",
       "      <td>...</td>\n",
       "      <td>...</td>\n",
       "      <td>...</td>\n",
       "      <td>...</td>\n",
       "      <td>...</td>\n",
       "      <td>...</td>\n",
       "    </tr>\n",
       "    <tr>\n",
       "      <th>3209</th>\n",
       "      <td>1498</td>\n",
       "      <td>2018-10-01</td>\n",
       "      <td>41.0</td>\n",
       "      <td>247.0</td>\n",
       "      <td>42.0</td>\n",
       "      <td>20579.359375</td>\n",
       "      <td>smart</td>\n",
       "      <td>Владикавказ</td>\n",
       "    </tr>\n",
       "    <tr>\n",
       "      <th>3210</th>\n",
       "      <td>1499</td>\n",
       "      <td>2018-09-01</td>\n",
       "      <td>9.0</td>\n",
       "      <td>70.0</td>\n",
       "      <td>11.0</td>\n",
       "      <td>1845.750000</td>\n",
       "      <td>smart</td>\n",
       "      <td>Пермь</td>\n",
       "    </tr>\n",
       "    <tr>\n",
       "      <th>3211</th>\n",
       "      <td>1499</td>\n",
       "      <td>2018-10-01</td>\n",
       "      <td>68.0</td>\n",
       "      <td>449.0</td>\n",
       "      <td>48.0</td>\n",
       "      <td>17788.509766</td>\n",
       "      <td>smart</td>\n",
       "      <td>Пермь</td>\n",
       "    </tr>\n",
       "    <tr>\n",
       "      <th>3212</th>\n",
       "      <td>1499</td>\n",
       "      <td>2018-11-01</td>\n",
       "      <td>74.0</td>\n",
       "      <td>612.0</td>\n",
       "      <td>59.0</td>\n",
       "      <td>17963.310547</td>\n",
       "      <td>smart</td>\n",
       "      <td>Пермь</td>\n",
       "    </tr>\n",
       "    <tr>\n",
       "      <th>3213</th>\n",
       "      <td>1499</td>\n",
       "      <td>2018-12-01</td>\n",
       "      <td>69.0</td>\n",
       "      <td>492.0</td>\n",
       "      <td>66.0</td>\n",
       "      <td>13055.580078</td>\n",
       "      <td>smart</td>\n",
       "      <td>Пермь</td>\n",
       "    </tr>\n",
       "  </tbody>\n",
       "</table>\n",
       "<p>3214 rows × 8 columns</p>\n",
       "</div>"
      ],
      "text/plain": [
       "      user_id      month  calls_quantity  duration_total  messages_quantity  \\\n",
       "0        1000 2018-05-01            22.0           159.0               22.0   \n",
       "1        1000 2018-06-01            43.0           172.0               60.0   \n",
       "2        1000 2018-07-01            47.0           340.0               75.0   \n",
       "3        1000 2018-08-01            52.0           408.0               81.0   \n",
       "4        1000 2018-09-01            58.0           466.0               57.0   \n",
       "...       ...        ...             ...             ...                ...   \n",
       "3209     1498 2018-10-01            41.0           247.0               42.0   \n",
       "3210     1499 2018-09-01             9.0            70.0               11.0   \n",
       "3211     1499 2018-10-01            68.0           449.0               48.0   \n",
       "3212     1499 2018-11-01            74.0           612.0               59.0   \n",
       "3213     1499 2018-12-01            69.0           492.0               66.0   \n",
       "\n",
       "      traffic_volume tariff         city  \n",
       "0        2253.489990  ultra    Краснодар  \n",
       "1       23233.769531  ultra    Краснодар  \n",
       "2       14003.639648  ultra    Краснодар  \n",
       "3       14055.929688  ultra    Краснодар  \n",
       "4       14568.910156  ultra    Краснодар  \n",
       "...              ...    ...          ...  \n",
       "3209    20579.359375  smart  Владикавказ  \n",
       "3210     1845.750000  smart        Пермь  \n",
       "3211    17788.509766  smart        Пермь  \n",
       "3212    17963.310547  smart        Пермь  \n",
       "3213    13055.580078  smart        Пермь  \n",
       "\n",
       "[3214 rows x 8 columns]"
      ]
     },
     "execution_count": 36,
     "metadata": {},
     "output_type": "execute_result"
    }
   ],
   "source": [
    "user_information"
   ]
  },
  {
   "cell_type": "code",
   "execution_count": 37,
   "metadata": {},
   "outputs": [],
   "source": [
    "user_information['gain'] = user_information.apply(gain, axis=1)"
   ]
  },
  {
   "cell_type": "code",
   "execution_count": 38,
   "metadata": {},
   "outputs": [
    {
     "data": {
      "text/html": [
       "<div>\n",
       "<style scoped>\n",
       "    .dataframe tbody tr th:only-of-type {\n",
       "        vertical-align: middle;\n",
       "    }\n",
       "\n",
       "    .dataframe tbody tr th {\n",
       "        vertical-align: top;\n",
       "    }\n",
       "\n",
       "    .dataframe thead th {\n",
       "        text-align: right;\n",
       "    }\n",
       "</style>\n",
       "<table border=\"1\" class=\"dataframe\">\n",
       "  <thead>\n",
       "    <tr style=\"text-align: right;\">\n",
       "      <th></th>\n",
       "      <th>user_id</th>\n",
       "      <th>month</th>\n",
       "      <th>calls_quantity</th>\n",
       "      <th>duration_total</th>\n",
       "      <th>messages_quantity</th>\n",
       "      <th>traffic_volume</th>\n",
       "      <th>tariff</th>\n",
       "      <th>city</th>\n",
       "      <th>gain</th>\n",
       "    </tr>\n",
       "  </thead>\n",
       "  <tbody>\n",
       "    <tr>\n",
       "      <th>0</th>\n",
       "      <td>1000</td>\n",
       "      <td>2018-05-01</td>\n",
       "      <td>22.0</td>\n",
       "      <td>159.0</td>\n",
       "      <td>22.0</td>\n",
       "      <td>2253.489990</td>\n",
       "      <td>ultra</td>\n",
       "      <td>Краснодар</td>\n",
       "      <td>1950.0</td>\n",
       "    </tr>\n",
       "    <tr>\n",
       "      <th>1</th>\n",
       "      <td>1000</td>\n",
       "      <td>2018-06-01</td>\n",
       "      <td>43.0</td>\n",
       "      <td>172.0</td>\n",
       "      <td>60.0</td>\n",
       "      <td>23233.769531</td>\n",
       "      <td>ultra</td>\n",
       "      <td>Краснодар</td>\n",
       "      <td>1950.0</td>\n",
       "    </tr>\n",
       "    <tr>\n",
       "      <th>2</th>\n",
       "      <td>1000</td>\n",
       "      <td>2018-07-01</td>\n",
       "      <td>47.0</td>\n",
       "      <td>340.0</td>\n",
       "      <td>75.0</td>\n",
       "      <td>14003.639648</td>\n",
       "      <td>ultra</td>\n",
       "      <td>Краснодар</td>\n",
       "      <td>1950.0</td>\n",
       "    </tr>\n",
       "    <tr>\n",
       "      <th>3</th>\n",
       "      <td>1000</td>\n",
       "      <td>2018-08-01</td>\n",
       "      <td>52.0</td>\n",
       "      <td>408.0</td>\n",
       "      <td>81.0</td>\n",
       "      <td>14055.929688</td>\n",
       "      <td>ultra</td>\n",
       "      <td>Краснодар</td>\n",
       "      <td>1950.0</td>\n",
       "    </tr>\n",
       "    <tr>\n",
       "      <th>4</th>\n",
       "      <td>1000</td>\n",
       "      <td>2018-09-01</td>\n",
       "      <td>58.0</td>\n",
       "      <td>466.0</td>\n",
       "      <td>57.0</td>\n",
       "      <td>14568.910156</td>\n",
       "      <td>ultra</td>\n",
       "      <td>Краснодар</td>\n",
       "      <td>1950.0</td>\n",
       "    </tr>\n",
       "  </tbody>\n",
       "</table>\n",
       "</div>"
      ],
      "text/plain": [
       "   user_id      month  calls_quantity  duration_total  messages_quantity  \\\n",
       "0     1000 2018-05-01            22.0           159.0               22.0   \n",
       "1     1000 2018-06-01            43.0           172.0               60.0   \n",
       "2     1000 2018-07-01            47.0           340.0               75.0   \n",
       "3     1000 2018-08-01            52.0           408.0               81.0   \n",
       "4     1000 2018-09-01            58.0           466.0               57.0   \n",
       "\n",
       "   traffic_volume tariff       city    gain  \n",
       "0     2253.489990  ultra  Краснодар  1950.0  \n",
       "1    23233.769531  ultra  Краснодар  1950.0  \n",
       "2    14003.639648  ultra  Краснодар  1950.0  \n",
       "3    14055.929688  ultra  Краснодар  1950.0  \n",
       "4    14568.910156  ultra  Краснодар  1950.0  "
      ]
     },
     "execution_count": 38,
     "metadata": {},
     "output_type": "execute_result"
    }
   ],
   "source": [
    "user_information.head()"
   ]
  },
  {
   "cell_type": "markdown",
   "metadata": {},
   "source": [
    "<div class=\"alert alert-block alert-info\">\n",
    "    \n",
    "**Вопрос студента** \n",
    "\n",
    "Может я написала слишком сложную функцию? Как вариант, можно было в таблиицу user_information добавить поля из таблицы tariffs и функция для расчета была бы поменьше...\n",
    "</div>"
   ]
  },
  {
   "cell_type": "markdown",
   "metadata": {},
   "source": [
    "<div class=\"alert alert-success\">\n",
    "<b>✔️ Комментарий ревьюера V2:</b> Можно сделать и так. Но твоя функция рабочая и не выглядит монструозной"
   ]
  },
  {
   "cell_type": "markdown",
   "metadata": {},
   "source": [
    "<div class=\"alert alert-block alert-info\">\n",
    "Таким образом, подготовили данные для анализа. Пропуски, которые нужно менять обнаружены не были. Аномалии также не были выявлены. Единственная ошибка в данных, лишний столбец в одной таблице. Преобразовали данные к нужному типу. \n",
    "Произвели необходимые расчеты для каждого пользователя.\n",
    "</div>"
   ]
  },
  {
   "cell_type": "markdown",
   "metadata": {},
   "source": [
    "## Анализ данных"
   ]
  },
  {
   "cell_type": "code",
   "execution_count": 39,
   "metadata": {},
   "outputs": [],
   "source": [
    "#Рассчитаем среднее количество минут разговора, сообщений и объём трафика для каждого тарифа в месяц\n",
    "month_data = user_information.pivot_table(\n",
    "    values=['duration_total', 'messages_quantity', 'traffic_volume'], \n",
    "    index=['tariff', 'month']\n",
    ")"
   ]
  },
  {
   "cell_type": "code",
   "execution_count": 40,
   "metadata": {},
   "outputs": [
    {
     "data": {
      "text/html": [
       "<div>\n",
       "<style scoped>\n",
       "    .dataframe tbody tr th:only-of-type {\n",
       "        vertical-align: middle;\n",
       "    }\n",
       "\n",
       "    .dataframe tbody tr th {\n",
       "        vertical-align: top;\n",
       "    }\n",
       "\n",
       "    .dataframe thead th {\n",
       "        text-align: right;\n",
       "    }\n",
       "</style>\n",
       "<table border=\"1\" class=\"dataframe\">\n",
       "  <thead>\n",
       "    <tr style=\"text-align: right;\">\n",
       "      <th></th>\n",
       "      <th></th>\n",
       "      <th>duration_total</th>\n",
       "      <th>messages_quantity</th>\n",
       "      <th>traffic_volume</th>\n",
       "    </tr>\n",
       "    <tr>\n",
       "      <th>tariff</th>\n",
       "      <th>month</th>\n",
       "      <th></th>\n",
       "      <th></th>\n",
       "      <th></th>\n",
       "    </tr>\n",
       "  </thead>\n",
       "  <tbody>\n",
       "    <tr>\n",
       "      <th rowspan=\"12\" valign=\"top\">smart</th>\n",
       "      <th>2018-01-01</th>\n",
       "      <td>203.852941</td>\n",
       "      <td>18.235294</td>\n",
       "      <td>8513.717773</td>\n",
       "    </tr>\n",
       "    <tr>\n",
       "      <th>2018-02-01</th>\n",
       "      <td>298.689655</td>\n",
       "      <td>24.086207</td>\n",
       "      <td>11597.054688</td>\n",
       "    </tr>\n",
       "    <tr>\n",
       "      <th>2018-03-01</th>\n",
       "      <td>390.051948</td>\n",
       "      <td>31.857143</td>\n",
       "      <td>15104.159180</td>\n",
       "    </tr>\n",
       "    <tr>\n",
       "      <th>2018-04-01</th>\n",
       "      <td>367.133929</td>\n",
       "      <td>30.741071</td>\n",
       "      <td>13462.180664</td>\n",
       "    </tr>\n",
       "    <tr>\n",
       "      <th>2018-05-01</th>\n",
       "      <td>387.361702</td>\n",
       "      <td>33.773050</td>\n",
       "      <td>15805.184570</td>\n",
       "    </tr>\n",
       "    <tr>\n",
       "      <th>2018-06-01</th>\n",
       "      <td>395.640244</td>\n",
       "      <td>33.402439</td>\n",
       "      <td>15794.648438</td>\n",
       "    </tr>\n",
       "    <tr>\n",
       "      <th>2018-07-01</th>\n",
       "      <td>408.353234</td>\n",
       "      <td>33.751244</td>\n",
       "      <td>15743.150391</td>\n",
       "    </tr>\n",
       "    <tr>\n",
       "      <th>2018-08-01</th>\n",
       "      <td>421.468085</td>\n",
       "      <td>33.638298</td>\n",
       "      <td>16610.720703</td>\n",
       "    </tr>\n",
       "    <tr>\n",
       "      <th>2018-09-01</th>\n",
       "      <td>428.611538</td>\n",
       "      <td>33.638462</td>\n",
       "      <td>16303.579102</td>\n",
       "    </tr>\n",
       "    <tr>\n",
       "      <th>2018-10-01</th>\n",
       "      <td>426.136054</td>\n",
       "      <td>33.765306</td>\n",
       "      <td>16757.123047</td>\n",
       "    </tr>\n",
       "    <tr>\n",
       "      <th>2018-11-01</th>\n",
       "      <td>435.265823</td>\n",
       "      <td>34.075949</td>\n",
       "      <td>16895.697266</td>\n",
       "    </tr>\n",
       "    <tr>\n",
       "      <th>2018-12-01</th>\n",
       "      <td>478.560831</td>\n",
       "      <td>35.994065</td>\n",
       "      <td>18113.662109</td>\n",
       "    </tr>\n",
       "    <tr>\n",
       "      <th rowspan=\"12\" valign=\"top\">ultra</th>\n",
       "      <th>2018-01-01</th>\n",
       "      <td>428.111111</td>\n",
       "      <td>33.777778</td>\n",
       "      <td>13140.680664</td>\n",
       "    </tr>\n",
       "    <tr>\n",
       "      <th>2018-02-01</th>\n",
       "      <td>297.125000</td>\n",
       "      <td>21.958333</td>\n",
       "      <td>11775.937500</td>\n",
       "    </tr>\n",
       "    <tr>\n",
       "      <th>2018-03-01</th>\n",
       "      <td>489.648649</td>\n",
       "      <td>32.297297</td>\n",
       "      <td>17535.550781</td>\n",
       "    </tr>\n",
       "    <tr>\n",
       "      <th>2018-04-01</th>\n",
       "      <td>458.018182</td>\n",
       "      <td>31.563636</td>\n",
       "      <td>16828.134766</td>\n",
       "    </tr>\n",
       "    <tr>\n",
       "      <th>2018-05-01</th>\n",
       "      <td>510.328358</td>\n",
       "      <td>37.850746</td>\n",
       "      <td>19363.152344</td>\n",
       "    </tr>\n",
       "    <tr>\n",
       "      <th>2018-06-01</th>\n",
       "      <td>479.702381</td>\n",
       "      <td>41.726190</td>\n",
       "      <td>18924.939453</td>\n",
       "    </tr>\n",
       "    <tr>\n",
       "      <th>2018-07-01</th>\n",
       "      <td>545.791209</td>\n",
       "      <td>49.846154</td>\n",
       "      <td>20495.666016</td>\n",
       "    </tr>\n",
       "    <tr>\n",
       "      <th>2018-08-01</th>\n",
       "      <td>510.775701</td>\n",
       "      <td>48.439252</td>\n",
       "      <td>19576.054688</td>\n",
       "    </tr>\n",
       "    <tr>\n",
       "      <th>2018-09-01</th>\n",
       "      <td>539.443478</td>\n",
       "      <td>52.286957</td>\n",
       "      <td>19204.277344</td>\n",
       "    </tr>\n",
       "    <tr>\n",
       "      <th>2018-10-01</th>\n",
       "      <td>558.081301</td>\n",
       "      <td>58.430894</td>\n",
       "      <td>20045.337891</td>\n",
       "    </tr>\n",
       "    <tr>\n",
       "      <th>2018-11-01</th>\n",
       "      <td>541.380597</td>\n",
       "      <td>55.791045</td>\n",
       "      <td>19786.812500</td>\n",
       "    </tr>\n",
       "    <tr>\n",
       "      <th>2018-12-01</th>\n",
       "      <td>592.805755</td>\n",
       "      <td>60.611511</td>\n",
       "      <td>21793.171875</td>\n",
       "    </tr>\n",
       "  </tbody>\n",
       "</table>\n",
       "</div>"
      ],
      "text/plain": [
       "                   duration_total  messages_quantity  traffic_volume\n",
       "tariff month                                                        \n",
       "smart  2018-01-01      203.852941          18.235294     8513.717773\n",
       "       2018-02-01      298.689655          24.086207    11597.054688\n",
       "       2018-03-01      390.051948          31.857143    15104.159180\n",
       "       2018-04-01      367.133929          30.741071    13462.180664\n",
       "       2018-05-01      387.361702          33.773050    15805.184570\n",
       "       2018-06-01      395.640244          33.402439    15794.648438\n",
       "       2018-07-01      408.353234          33.751244    15743.150391\n",
       "       2018-08-01      421.468085          33.638298    16610.720703\n",
       "       2018-09-01      428.611538          33.638462    16303.579102\n",
       "       2018-10-01      426.136054          33.765306    16757.123047\n",
       "       2018-11-01      435.265823          34.075949    16895.697266\n",
       "       2018-12-01      478.560831          35.994065    18113.662109\n",
       "ultra  2018-01-01      428.111111          33.777778    13140.680664\n",
       "       2018-02-01      297.125000          21.958333    11775.937500\n",
       "       2018-03-01      489.648649          32.297297    17535.550781\n",
       "       2018-04-01      458.018182          31.563636    16828.134766\n",
       "       2018-05-01      510.328358          37.850746    19363.152344\n",
       "       2018-06-01      479.702381          41.726190    18924.939453\n",
       "       2018-07-01      545.791209          49.846154    20495.666016\n",
       "       2018-08-01      510.775701          48.439252    19576.054688\n",
       "       2018-09-01      539.443478          52.286957    19204.277344\n",
       "       2018-10-01      558.081301          58.430894    20045.337891\n",
       "       2018-11-01      541.380597          55.791045    19786.812500\n",
       "       2018-12-01      592.805755          60.611511    21793.171875"
      ]
     },
     "execution_count": 40,
     "metadata": {},
     "output_type": "execute_result"
    }
   ],
   "source": [
    "month_data"
   ]
  },
  {
   "cell_type": "code",
   "execution_count": 41,
   "metadata": {},
   "outputs": [],
   "source": [
    "#Рассчитаем статистики для количества минут разговоров, сообщений и объёма трафика для каждого тарифа за год и построим распределения\n",
    "smart_tarif = user_information[user_information['tariff'] == 'smart']\n",
    "ultra_tarif = user_information[user_information['tariff'] == 'ultra']\n",
    "data = [[smart_tarif['duration_total'].mean(), \n",
    "         np.var(smart_tarif['duration_total']), \n",
    "         np.std(smart_tarif['duration_total']),\n",
    "         smart_tarif['messages_quantity'].mean(), \n",
    "         np.var(smart_tarif['messages_quantity']), \n",
    "         np.std(smart_tarif['messages_quantity']),\n",
    "         smart_tarif['traffic_volume'].mean(), \n",
    "         np.var(smart_tarif['traffic_volume']), \n",
    "         np.std(smart_tarif['traffic_volume']),\n",
    "        ],\n",
    "       [ultra_tarif['duration_total'].mean(), \n",
    "        np.var(ultra_tarif['duration_total']), \n",
    "        np.std(ultra_tarif['duration_total']),\n",
    "        ultra_tarif['messages_quantity'].mean(), \n",
    "        np.var(ultra_tarif['messages_quantity']), \n",
    "        np.std(ultra_tarif['messages_quantity']),\n",
    "        ultra_tarif['traffic_volume'].mean(), \n",
    "        np.var(ultra_tarif['traffic_volume']), \n",
    "        np.std(ultra_tarif['traffic_volume'])]]"
   ]
  },
  {
   "cell_type": "code",
   "execution_count": 42,
   "metadata": {},
   "outputs": [
    {
     "data": {
      "text/html": [
       "<div>\n",
       "<style scoped>\n",
       "    .dataframe tbody tr th:only-of-type {\n",
       "        vertical-align: middle;\n",
       "    }\n",
       "\n",
       "    .dataframe tbody tr th {\n",
       "        vertical-align: top;\n",
       "    }\n",
       "\n",
       "    .dataframe thead tr th {\n",
       "        text-align: left;\n",
       "    }\n",
       "</style>\n",
       "<table border=\"1\" class=\"dataframe\">\n",
       "  <thead>\n",
       "    <tr>\n",
       "      <th></th>\n",
       "      <th colspan=\"3\" halign=\"left\">calls</th>\n",
       "      <th colspan=\"3\" halign=\"left\">messages</th>\n",
       "      <th colspan=\"3\" halign=\"left\">traffic</th>\n",
       "    </tr>\n",
       "    <tr>\n",
       "      <th></th>\n",
       "      <th>mean</th>\n",
       "      <th>variance</th>\n",
       "      <th>std</th>\n",
       "      <th>mean</th>\n",
       "      <th>variance</th>\n",
       "      <th>std</th>\n",
       "      <th>mean</th>\n",
       "      <th>variance</th>\n",
       "      <th>std</th>\n",
       "    </tr>\n",
       "  </thead>\n",
       "  <tbody>\n",
       "    <tr>\n",
       "      <th>smart</th>\n",
       "      <td>417.934948</td>\n",
       "      <td>36203.066652</td>\n",
       "      <td>190.271035</td>\n",
       "      <td>33.384029</td>\n",
       "      <td>796.455483</td>\n",
       "      <td>28.221543</td>\n",
       "      <td>16208.387695</td>\n",
       "      <td>34447036.0</td>\n",
       "      <td>5869.159668</td>\n",
       "    </tr>\n",
       "    <tr>\n",
       "      <th>ultra</th>\n",
       "      <td>526.623350</td>\n",
       "      <td>100771.223617</td>\n",
       "      <td>317.444836</td>\n",
       "      <td>49.363452</td>\n",
       "      <td>2282.946075</td>\n",
       "      <td>47.780185</td>\n",
       "      <td>19468.804688</td>\n",
       "      <td>101647712.0</td>\n",
       "      <td>10082.048828</td>\n",
       "    </tr>\n",
       "  </tbody>\n",
       "</table>\n",
       "</div>"
      ],
      "text/plain": [
       "            calls                              messages               \\\n",
       "             mean       variance         std       mean     variance   \n",
       "smart  417.934948   36203.066652  190.271035  33.384029   796.455483   \n",
       "ultra  526.623350  100771.223617  317.444836  49.363452  2282.946075   \n",
       "\n",
       "                       traffic                             \n",
       "             std          mean     variance           std  \n",
       "smart  28.221543  16208.387695   34447036.0   5869.159668  \n",
       "ultra  47.780185  19468.804688  101647712.0  10082.048828  "
      ]
     },
     "execution_count": 42,
     "metadata": {},
     "output_type": "execute_result"
    }
   ],
   "source": [
    "statistics = pd.DataFrame(data,\n",
    "index=['smart', 'ultra'],\n",
    "columns=[['calls','calls','calls','messages', 'messages', 'messages', 'traffic', 'traffic', 'traffic',],\n",
    "         ['mean', 'variance', 'std', 'mean', 'variance', 'std', 'mean', 'variance', 'std']])\n",
    "statistics"
   ]
  },
  {
   "cell_type": "code",
   "execution_count": 43,
   "metadata": {
    "scrolled": false
   },
   "outputs": [
    {
     "name": "stdout",
     "output_type": "stream",
     "text": [
      "duration_total\n"
     ]
    },
    {
     "data": {
      "image/png": "[encoded data removed]",
      "text/plain": [
       "<Figure size 576x360 with 1 Axes>"
      ]
     },
     "metadata": {
      "needs_background": "light"
     },
     "output_type": "display_data"
    },
    {
     "data": {
      "image/png": "[encoded data removed]",
      "text/plain": [
       "<Figure size 576x360 with 1 Axes>"
      ]
     },
     "metadata": {
      "needs_background": "light"
     },
     "output_type": "display_data"
    },
    {
     "name": "stdout",
     "output_type": "stream",
     "text": [
      "messages_quantity\n"
     ]
    },
    {
     "data": {
      "image/png": "[encoded data removed]",
      "text/plain": [
       "<Figure size 576x360 with 1 Axes>"
      ]
     },
     "metadata": {
      "needs_background": "light"
     },
     "output_type": "display_data"
    },
    {
     "data": {
      "image/png": "[encoded data removed]",
      "text/plain": [
       "<Figure size 576x360 with 1 Axes>"
      ]
     },
     "metadata": {
      "needs_background": "light"
     },
     "output_type": "display_data"
    },
    {
     "name": "stdout",
     "output_type": "stream",
     "text": [
      "traffic_volume\n"
     ]
    },
    {
     "data": {
      "image/png": "[encoded data removed]",
      "text/plain": [
       "<Figure size 576x360 with 1 Axes>"
      ]
     },
     "metadata": {
      "needs_background": "light"
     },
     "output_type": "display_data"
    },
    {
     "data": {
      "image/png": "[encoded data removed]",
      "text/plain": [
       "<Figure size 576x360 with 1 Axes>"
      ]
     },
     "metadata": {
      "needs_background": "light"
     },
     "output_type": "display_data"
    }
   ],
   "source": [
    "#Построим гистограммы\n",
    "columns = ['duration_total', 'messages_quantity', 'traffic_volume']\n",
    "rcParams['figure.figsize'] = 8,5\n",
    "for column in columns:\n",
    "    print(column)\n",
    "    smart_tarif[column].plot(\n",
    "        kind='hist',\n",
    "        title='Smart',\n",
    "        grid=True,\n",
    "        color='green',\n",
    "        bins=20,\n",
    "        xlabel='Quantity'\n",
    "    )\n",
    "    plt.show()\n",
    "    ultra_tarif[column].plot(\n",
    "        kind='hist',\n",
    "        grid=True,\n",
    "        title='Ultra',\n",
    "        bins=20\n",
    "    )\n",
    "    plt.show()\n",
    "    "
   ]
  },
  {
   "cell_type": "markdown",
   "metadata": {},
   "source": [
    "<div class=\"alert alert-warning\">\n",
    "<b>⚠️ Комментарий ревьюера:</b> Вы уже проходили подписи графиков (осей), но можно их добавить, чтобы гистограмма стала информативнее. Можно почитать здесь, как добавить подписи: https://pyprog.pro/mpl/mpl_axis_signatures.html"
   ]
  },
  {
   "cell_type": "markdown",
   "metadata": {},
   "source": [
    "<div class=\"alert alert-block alert-info\">\n",
    "    \n",
    "**Вопрос студента**\n",
    "\n",
    "Как добавить подписи осей в данном случае в цикле в методe pandas plot?\n",
    "Согласно документации https://pandas.pydata.org/docs/reference/api/pandas.DataFrame.plot.html\n",
    "За подписи осей отвечают параметры xlabel и ylabel. Но когда я их добавляю подписи не появляются\n",
    "</div>"
   ]
  },
  {
   "cell_type": "markdown",
   "metadata": {},
   "source": [
    "<div class=\"alert alert-success\">\n",
    "<b>✔️ Комментарий ревьюера V2:</b> Вот здесь про это написано https://stackoverflow.com/questions/66729481/customise-plot-labels-in-a-loop"
   ]
  },
  {
   "cell_type": "code",
   "execution_count": 44,
   "metadata": {
    "scrolled": true
   },
   "outputs": [
    {
     "data": {
      "image/png": "[encoded data removed]",
      "text/plain": [
       "<Figure size 576x360 with 1 Axes>"
      ]
     },
     "metadata": {
      "needs_background": "light"
     },
     "output_type": "display_data"
    },
    {
     "data": {
      "image/png": "[encoded data removed]",
      "text/plain": [
       "<Figure size 576x360 with 1 Axes>"
      ]
     },
     "metadata": {
      "needs_background": "light"
     },
     "output_type": "display_data"
    },
    {
     "data": {
      "image/png": "[encoded data removed]",
      "text/plain": [
       "<Figure size 576x360 with 1 Axes>"
      ]
     },
     "metadata": {
      "needs_background": "light"
     },
     "output_type": "display_data"
    },
    {
     "data": {
      "image/png": "[encoded data removed]",
      "text/plain": [
       "<Figure size 576x360 with 1 Axes>"
      ]
     },
     "metadata": {
      "needs_background": "light"
     },
     "output_type": "display_data"
    },
    {
     "data": {
      "image/png": "[encoded data removed]",
      "text/plain": [
       "<Figure size 576x360 with 1 Axes>"
      ]
     },
     "metadata": {
      "needs_background": "light"
     },
     "output_type": "display_data"
    },
    {
     "data": {
      "image/png": "[encoded data removed]",
      "text/plain": [
       "<Figure size 576x360 with 1 Axes>"
      ]
     },
     "metadata": {
      "needs_background": "light"
     },
     "output_type": "display_data"
    }
   ],
   "source": [
    "#Нарисуем также гистограммы при помощи библиотеки seaborn\n",
    "warnings.filterwarnings(\"ignore\")\n",
    "for column in columns:\n",
    "    sns.distplot(smart_tarif[column], color='green')\n",
    "    plt.show()\n",
    "    sns.distplot(ultra_tarif[column])\n",
    "    plt.show()"
   ]
  },
  {
   "cell_type": "markdown",
   "metadata": {},
   "source": [
    "<div class=\"alert alert-block alert-info\">\n",
    "Среднемесячная длительность звонков за 2018 год в минутах стремится к нормальному распределению для тарифа Smart, распределение для тарифа Ultra имеет 2 горба -на 500 минутах (стандартное поведение пользователей), и на 800 минутах, которые общаются больше. Среднее в тарифе Ultra больше, как и стандартное отклонение, последнее говорит о том, что данные более сильно разбросаны вокруг среднего. Большинство пользователей по обоим тарифам не выходят за рамки лимита включенных в тарифы минут для разговоров.\n",
    "    \n",
    "    \n",
    "Среднемесячное количество сообщений за 2018 год стремится к распределению Пуассона, судя по графикам, для обоих тарифов. Это говорит о том, что большинство пользователей отправляют немного сообщений в месяц. Однако, присутствуют группы пользователей, которые отправляют больше сообщений. Для тарифа Ultra таких пользователей гораздо больше, и это неудивительно, так как тариф  включает 1000 бесплатных сообщений. И скорее всего этот тариф используют пользователи, которым часто приходится общаться посредством смс-переписки. Стандартное отклонение для тарифа Ultra также больше, как и для длительности минут.\n",
    "\n",
    "    \n",
    "Среднемесячный объём трафика для тарифа Smart распределен нормально, большинство пользователей немного выходя за интервал 15 Гб включенного трафика, что говорит о дополнительной плате для большинства помимо ежемесячной платы. Распределение для тарифа Ultra нельзя назвать нормальным, так как видим 2 горба на 20 Гб и 29 Гб примерно. Дополнительные платы по трафику не предусматриваются для большинства пользовтаелей, обе группы не превышают включенный в тариф лимит в 30 Гб. \n",
    "</div>"
   ]
  },
  {
   "cell_type": "markdown",
   "metadata": {},
   "source": [
    "<div class=\"alert alert-success\">\n",
    "<b>✔️ Комментарий ревьюера:</b> Верно"
   ]
  },
  {
   "cell_type": "code",
   "execution_count": 45,
   "metadata": {},
   "outputs": [
    {
     "data": {
      "text/html": [
       "<div>\n",
       "<style scoped>\n",
       "    .dataframe tbody tr th:only-of-type {\n",
       "        vertical-align: middle;\n",
       "    }\n",
       "\n",
       "    .dataframe tbody tr th {\n",
       "        vertical-align: top;\n",
       "    }\n",
       "\n",
       "    .dataframe thead th {\n",
       "        text-align: right;\n",
       "    }\n",
       "</style>\n",
       "<table border=\"1\" class=\"dataframe\">\n",
       "  <thead>\n",
       "    <tr style=\"text-align: right;\">\n",
       "      <th></th>\n",
       "      <th>tarif</th>\n",
       "      <th>mean</th>\n",
       "      <th>variance</th>\n",
       "      <th>std</th>\n",
       "    </tr>\n",
       "  </thead>\n",
       "  <tbody>\n",
       "    <tr>\n",
       "      <th>0</th>\n",
       "      <td>smart</td>\n",
       "      <td>1289.973531</td>\n",
       "      <td>669485.220923</td>\n",
       "      <td>818.220765</td>\n",
       "    </tr>\n",
       "    <tr>\n",
       "      <th>1</th>\n",
       "      <td>ultra</td>\n",
       "      <td>2070.152284</td>\n",
       "      <td>141373.073256</td>\n",
       "      <td>375.996108</td>\n",
       "    </tr>\n",
       "  </tbody>\n",
       "</table>\n",
       "</div>"
      ],
      "text/plain": [
       "   tarif         mean       variance         std\n",
       "0  smart  1289.973531  669485.220923  818.220765\n",
       "1  ultra  2070.152284  141373.073256  375.996108"
      ]
     },
     "execution_count": 45,
     "metadata": {},
     "output_type": "execute_result"
    }
   ],
   "source": [
    "#Рассчитаем статистики в рамках каждого тарифа для выручки и построим распределения\n",
    "statistics = pd.DataFrame({\n",
    "    'tarif': ['smart', 'ultra'],\n",
    "    'mean': [smart_tarif['gain'].mean(), ultra_tarif['gain'].mean()],\n",
    "    'variance': [np.var(smart_tarif['gain']), np.var(ultra_tarif['gain'])],\n",
    "    'std': [np.std(smart_tarif['gain']), np.std(ultra_tarif['gain'])]\n",
    "})\n",
    "statistics"
   ]
  },
  {
   "cell_type": "code",
   "execution_count": 46,
   "metadata": {},
   "outputs": [
    {
     "data": {
      "text/plain": [
       "<seaborn.axisgrid.FacetGrid at 0x7ff478acbdf0>"
      ]
     },
     "execution_count": 46,
     "metadata": {},
     "output_type": "execute_result"
    },
    {
     "data": {
      "image/png": "[encoded data removed]",
      "text/plain": [
       "<Figure size 360x360 with 1 Axes>"
      ]
     },
     "metadata": {
      "needs_background": "light"
     },
     "output_type": "display_data"
    }
   ],
   "source": [
    "sns.displot(smart_tarif.groupby('user_id')['gain'].mean(), color='green', bins=20, kde=True)"
   ]
  },
  {
   "cell_type": "code",
   "execution_count": 47,
   "metadata": {},
   "outputs": [
    {
     "data": {
      "text/plain": [
       "<seaborn.axisgrid.FacetGrid at 0x7ff478b2a5b0>"
      ]
     },
     "execution_count": 47,
     "metadata": {},
     "output_type": "execute_result"
    },
    {
     "data": {
      "image/png": "[encoded data removed]",
      "text/plain": [
       "<Figure size 360x360 with 1 Axes>"
      ]
     },
     "metadata": {
      "needs_background": "light"
     },
     "output_type": "display_data"
    }
   ],
   "source": [
    "sns.displot(ultra_tarif.groupby('user_id')['gain'].mean(), bins=15, kde=True)"
   ]
  },
  {
   "cell_type": "markdown",
   "metadata": {},
   "source": [
    "<div class=\"alert alert-block alert-info\">\n",
    "Средние значения выручки по обоим тарифам для каждого пользователя распределены по распределению Пуассона. Большинство пользователей приносят среднемесячную выручку по тарифу Smart около 1000 рублей, однако есть немаленькие группы пользователей, которые приносят большую выручку.\n",
    "Если говорить от тарифе Ultra, видно по графику, что почти все пользователи платят около 2000 рублей в месяц (ежемесячную плату), и только очень маленькие группы пользователей платят больше.\n",
    "</div>"
   ]
  },
  {
   "cell_type": "markdown",
   "metadata": {},
   "source": [
    "## Проверка гипотез"
   ]
  },
  {
   "cell_type": "markdown",
   "metadata": {},
   "source": [
    "<div class=\"alert alert-block alert-info\">\n",
    "<b>Проверка гипотезы:</b> средняя выручка пользователей тарифов «Ультра» и «Смарт» различаются.\n",
    "\n",
    "<b>Нулевая гипотеза:</b> средняя выручка пользователей тарифа Ultra равна средней выручке пользователей тарифа Smart\n",
    "\n",
    "<b>Альтернативная гипотеза:</b> средняя выручка пользователей тарифа Ultra не равна средней выручке пользователей тарифа Smart\n",
    "</div>    "
   ]
  },
  {
   "cell_type": "markdown",
   "metadata": {},
   "source": [
    "<div class=\"alert alert-success\">\n",
    "<b>✔️ Комментарий ревьюера:</b> Гипотезы сформулированы корректно"
   ]
  },
  {
   "cell_type": "markdown",
   "metadata": {},
   "source": [
    "<div class=\"alert alert-block alert-info\">\n",
    "Для того, чтобы проверить данную гипотезу и применить t-test необходимо рассмотреть три аспекта, которые надо проверить, чтобы понять, можно ли применять t-тест:\n",
    "\n",
    "- Генеральные совокупности не должны зависеть друг от друга.\n",
    "В нашем случае совокупности не являются зависимыми друг от друга. (Только, как сформулировать правильно вывод о независимости в данном случае, я не очень понимаю...)\n",
    "\n",
    "- Выборочные средние должны быть нормально распределены (Tckb \n",
    "\n",
    "- Дисперсии рассматриваемых генеральных совокупностей должны быть равны.\n",
    "Если выборки разных размеров, необходимо в тесте установить специальный параметр False или если есть сомнения, что дисперсии у совокупностей одинаковые.\n",
    "\n",
    "Посмотрим на размер выборок.\n",
    "\n",
    "</div>"
   ]
  },
  {
   "cell_type": "markdown",
   "metadata": {},
   "source": [
    "<div class=\"alert alert-block alert-info\">\n",
    "\n",
    "**Вопрос студента**\n",
    "\n",
    "Разве данные совокупности являются независимыми? Ведь тариф не может быть одновременно \"Ултра\" и \"Смарт\". Как правильно сформулировать вывод о независимости данных выборок?\n",
    "\n",
    "Нужно ли проверять, как распределены выборочные средние? И как это делать, если что?\n",
    "</div>"
   ]
  },
  {
   "cell_type": "code",
   "execution_count": 48,
   "metadata": {},
   "outputs": [
    {
     "data": {
      "text/plain": [
       "tariff\n",
       "smart    2229\n",
       "ultra     985\n",
       "Name: user_id, dtype: int64"
      ]
     },
     "execution_count": 48,
     "metadata": {},
     "output_type": "execute_result"
    }
   ],
   "source": [
    "#Посмотрим на размеры выборок\n",
    "user_information.groupby('tariff')['user_id'].count()"
   ]
  },
  {
   "cell_type": "markdown",
   "metadata": {},
   "source": [
    "<div class=\"alert alert-block alert-info\">\n",
    "Так как размеры выборок не равны, устанавливаем в тесте специальный параметр. Дисперсии выборок также не равны, можно увидеть по таблице выше.\n",
    "</div>"
   ]
  },
  {
   "cell_type": "code",
   "execution_count": 49,
   "metadata": {},
   "outputs": [
    {
     "name": "stdout",
     "output_type": "stream",
     "text": [
      "p-значение: 4.2606313931076085e-250\n",
      "Отвергаем нулевую гипотезу\n"
     ]
    }
   ],
   "source": [
    "alpha = 0.05\n",
    "results = st.ttest_ind(\n",
    "    ultra_tarif['gain'],\n",
    "    smart_tarif['gain'],\n",
    "    equal_var=False \n",
    ")\n",
    "print(\"p-значение:\", results.pvalue)\n",
    "if results.pvalue < alpha:\n",
    "      print(\"Отвергаем нулевую гипотезу\")\n",
    "else:\n",
    "      print(\"Не получилось отвергнуть нулевую гипотезу\")"
   ]
  },
  {
   "cell_type": "markdown",
   "metadata": {},
   "source": [
    "<div class=\"alert alert-block alert-info\">\n",
    "Таким образом отвергаем гипотезу о том, что средняя выручка тарифа Ultra равна средней выручке тарифа Smart \n",
    "</div>"
   ]
  },
  {
   "cell_type": "markdown",
   "metadata": {},
   "source": [
    "<div class=\"alert alert-success\">\n",
    "<b>✔️ Комментарий ревьюера:</b> Корректно"
   ]
  },
  {
   "cell_type": "markdown",
   "metadata": {},
   "source": [
    "<div class=\"alert alert-block alert-info\">\n",
    "<b>Проверка гипотезы:</b> средняя выручка пользователей из Москвы отличается от выручки пользователей из других регионов.\n",
    "\n",
    "<b>Нулевая гипотеза:</b> средняя выручка пользователей из Москвы равна выручке пользователей из других регионов.\n",
    "\n",
    "\n",
    "<b>Альтернативная гипотеза:</b> средняя выручка пользователей из Москвы отличается от выручки пользователей из других регионов.\n",
    "</div>    "
   ]
  },
  {
   "cell_type": "code",
   "execution_count": 50,
   "metadata": {},
   "outputs": [],
   "source": [
    "moscow_gain = user_information[user_information['city'] == 'Москва']\n",
    "other_gain = user_information[user_information['city'] != 'Москва']"
   ]
  },
  {
   "cell_type": "code",
   "execution_count": 51,
   "metadata": {},
   "outputs": [
    {
     "data": {
      "text/plain": [
       "<seaborn.axisgrid.FacetGrid at 0x7ff478de1a30>"
      ]
     },
     "execution_count": 51,
     "metadata": {},
     "output_type": "execute_result"
    },
    {
     "data": {
      "image/png": "[encoded data removed]",
      "text/plain": [
       "<Figure size 360x360 with 1 Axes>"
      ]
     },
     "metadata": {
      "needs_background": "light"
     },
     "output_type": "display_data"
    }
   ],
   "source": [
    "#Посмотрим на распределения\n",
    "sns.displot(moscow_gain.groupby('user_id')['gain'].mean(), color='green', bins=20, kde=True)"
   ]
  },
  {
   "cell_type": "code",
   "execution_count": 52,
   "metadata": {},
   "outputs": [
    {
     "data": {
      "text/plain": [
       "<seaborn.axisgrid.FacetGrid at 0x7ff478d033a0>"
      ]
     },
     "execution_count": 52,
     "metadata": {},
     "output_type": "execute_result"
    },
    {
     "data": {
      "image/png": "[encoded data removed]",
      "text/plain": [
       "<Figure size 360x360 with 1 Axes>"
      ]
     },
     "metadata": {
      "needs_background": "light"
     },
     "output_type": "display_data"
    }
   ],
   "source": [
    "sns.displot(other_gain.groupby('user_id')['gain'].mean(), bins=20, kde=True)"
   ]
  },
  {
   "cell_type": "markdown",
   "metadata": {},
   "source": [
    "<div class=\"alert alert-block alert-info\">\n",
    "Данные распределения сложно назвать нормальными, однако пики по середине графика, более близко распределение к нормальному для обеих выборок.\n",
    "<div>"
   ]
  },
  {
   "cell_type": "code",
   "execution_count": 53,
   "metadata": {},
   "outputs": [
    {
     "name": "stdout",
     "output_type": "stream",
     "text": [
      "Размеры выборок: 611 2603\n"
     ]
    }
   ],
   "source": [
    "print('Размеры выборок:', len(moscow_gain), len(other_gain))"
   ]
  },
  {
   "cell_type": "markdown",
   "metadata": {},
   "source": [
    "<div class=\"alert alert-block alert-info\">\n",
    "Так как размеры выборок не равны, устанавливаем в тесте специальный параметр.\n",
    "</div>"
   ]
  },
  {
   "cell_type": "code",
   "execution_count": 54,
   "metadata": {},
   "outputs": [
    {
     "name": "stdout",
     "output_type": "stream",
     "text": [
      "p-значение: 0.5257376663729298\n",
      "Не получилось отвергнуть нулевую гипотезу\n"
     ]
    }
   ],
   "source": [
    "alpha = 0.05\n",
    "results = st.ttest_ind(\n",
    "    moscow_gain['gain'],\n",
    "    other_gain['gain'],\n",
    "    equal_var=False \n",
    ")\n",
    "print(\"p-значение:\", results.pvalue)\n",
    "if results.pvalue < alpha:\n",
    "      print(\"Отвергаем нулевую гипотезу\")\n",
    "else:\n",
    "      print(\"Не получилось отвергнуть нулевую гипотезу\")"
   ]
  },
  {
   "cell_type": "markdown",
   "metadata": {},
   "source": [
    "<div class=\"alert alert-block alert-info\">\n",
    "Принимаем гипотезу о том, что средняя выручка пользователей из Москвы равна средней выручке пользователей из других регионов.\n",
    "</div>"
   ]
  },
  {
   "cell_type": "markdown",
   "metadata": {},
   "source": [
    "<div class=\"alert alert-block alert-info\">\n",
    "Формулировали гипотезы, исходя из равенства средних двух выборок. Использовали критерий ttest  с параметром, который предполагает, что дисперсии у выборок разные. Порговое значение alpha задали, равное 5 %.\n",
    "</div>"
   ]
  },
  {
   "cell_type": "markdown",
   "metadata": {},
   "source": [
    "<div class=\"alert alert-success\">\n",
    "<b>✔️ Комментарий ревьюера:</b> Все так"
   ]
  },
  {
   "cell_type": "markdown",
   "metadata": {},
   "source": [
    "## Общий вывод"
   ]
  },
  {
   "cell_type": "markdown",
   "metadata": {},
   "source": [
    "<div class=\"alert alert-block alert-info\">\n",
    "Таким образом, в данном проекте были проанализированы данные по двум тарифам, рассчитаны статистики по показателям. Проверив гипотезу о равенстве средних значений выручки двух тарифов, пришли к выводу, что средние не равны. Так как среденее для тарифа Ultra больше, чем для тарифа Smart, значит тариф Ultra приносит больше выручки, и он является более выгодным.\n",
    "Также проверили гипотезу о том, что средняя выручка пользователей Москвы примерно равна средней выручке пользователей из других регионов. Данная гипотеза была принята.\n",
    "</div>"
   ]
  },
  {
   "cell_type": "markdown",
   "metadata": {},
   "source": [
    "<div class=\"alert alert-block alert-info\">\n",
    "Тариф \"Ультра\" приносит больше выручки, соответсвенно для целей повышения бюджета он является лучше тарифа \"Смарт\".\n",
    "</div>"
   ]
  },
  {
   "cell_type": "markdown",
   "metadata": {},
   "source": [
    "<div class=\"alert alert-danger\">\n",
    "<b>❌ Комментарий ревьюера:</b> Целью исследования было дать рекомендации отделу маркетинга по корректировке бюджета. Давай сделаем это!"
   ]
  },
  {
   "cell_type": "markdown",
   "metadata": {},
   "source": [
    "<div class=\"alert alert-success\">\n",
    "<b>✔️ Комментарий ревьюера V2:</b> Вывод отражает цели исследования"
   ]
  },
  {
   "cell_type": "markdown",
   "metadata": {},
   "source": [
    "<div class=\"alert alert-success\">\n",
    "<b>✔️ Комментарий ревьюера:</b> Спасибо за проект! Видно, что ты старалась и он получился очень сильным. Ты аккуратно работаешь с данными и выносишь качественные предположения - как настоящий аналитик. Давай сделаем его еще лучше: доработаем финальный вывод. Оставила направляющие комментарии. Возвращаю тебе работу, чтобы ты смогла задать вопросы. Буду ждать твою работу на финальное ревью!\n",
    "</div>"
   ]
  },
  {
   "cell_type": "markdown",
   "metadata": {},
   "source": [
    "<div class=\"alert alert-success\">\n",
    "<b>✔️ Комментарий ревьюера V2:</b> Спасибо за проработку комментариев! Теперь все отлично. Если у тебя возникнут вопросы, смело задавай мне их через куратора. Удачи на следующих этапах!"
   ]
  },
  {
   "cell_type": "code",
   "execution_count": null,
   "metadata": {},
   "outputs": [],
   "source": []
  }
 ],
 "metadata": {
  "ExecuteTimeLog": [
   {
    "duration": 124,
    "start_time": "2022-03-23T09:18:33.693Z"
   },
   {
    "duration": 4,
    "start_time": "2022-03-23T09:47:22.085Z"
   },
   {
    "duration": 44,
    "start_time": "2022-03-23T11:39:39.514Z"
   },
   {
    "duration": 367,
    "start_time": "2022-03-23T11:39:43.505Z"
   },
   {
    "duration": 257,
    "start_time": "2022-03-23T11:39:43.875Z"
   },
   {
    "duration": 19,
    "start_time": "2022-03-23T11:39:48.196Z"
   },
   {
    "duration": 19,
    "start_time": "2022-03-23T11:39:55.608Z"
   },
   {
    "duration": 450,
    "start_time": "2022-03-23T11:44:19.047Z"
   },
   {
    "duration": 379,
    "start_time": "2022-03-23T11:47:33.395Z"
   },
   {
    "duration": 371,
    "start_time": "2022-03-23T11:48:00.421Z"
   },
   {
    "duration": 12,
    "start_time": "2022-03-23T11:48:04.593Z"
   },
   {
    "duration": 13,
    "start_time": "2022-03-23T12:07:46.834Z"
   },
   {
    "duration": 28,
    "start_time": "2022-03-23T12:07:53.551Z"
   },
   {
    "duration": 49,
    "start_time": "2022-03-23T12:09:54.223Z"
   },
   {
    "duration": 44,
    "start_time": "2022-03-23T12:09:58.687Z"
   },
   {
    "duration": 36,
    "start_time": "2022-03-23T12:10:43.918Z"
   },
   {
    "duration": 45,
    "start_time": "2022-03-23T12:12:06.718Z"
   },
   {
    "duration": 39,
    "start_time": "2022-03-23T12:12:31.102Z"
   },
   {
    "duration": 31,
    "start_time": "2022-03-23T12:15:57.171Z"
   },
   {
    "duration": 35,
    "start_time": "2022-03-23T12:16:03.316Z"
   },
   {
    "duration": 48,
    "start_time": "2022-03-23T12:16:23.054Z"
   },
   {
    "duration": 47,
    "start_time": "2022-03-23T12:16:33.901Z"
   },
   {
    "duration": 33,
    "start_time": "2022-03-23T12:17:02.734Z"
   },
   {
    "duration": 348,
    "start_time": "2022-03-23T12:21:57.661Z"
   },
   {
    "duration": 16,
    "start_time": "2022-03-23T12:22:38.475Z"
   },
   {
    "duration": 19,
    "start_time": "2022-03-23T12:25:47.714Z"
   },
   {
    "duration": 107,
    "start_time": "2022-03-23T12:54:55.422Z"
   },
   {
    "duration": 221,
    "start_time": "2022-03-23T13:49:49.351Z"
   },
   {
    "duration": 223,
    "start_time": "2022-03-23T13:49:55.219Z"
   },
   {
    "duration": 153,
    "start_time": "2022-03-23T14:00:04.368Z"
   },
   {
    "duration": 107,
    "start_time": "2022-03-23T14:00:17.361Z"
   },
   {
    "duration": 100,
    "start_time": "2022-03-23T14:00:24.288Z"
   },
   {
    "duration": 74,
    "start_time": "2022-03-23T14:00:51.856Z"
   },
   {
    "duration": 18,
    "start_time": "2022-03-23T14:01:08.592Z"
   },
   {
    "duration": 25,
    "start_time": "2022-03-23T14:01:33.027Z"
   },
   {
    "duration": 116,
    "start_time": "2022-03-23T14:07:51.696Z"
   },
   {
    "duration": 26,
    "start_time": "2022-03-23T14:08:06.607Z"
   },
   {
    "duration": 81,
    "start_time": "2022-03-23T14:08:10.416Z"
   },
   {
    "duration": 25,
    "start_time": "2022-03-23T14:08:24.809Z"
   },
   {
    "duration": 57,
    "start_time": "2022-03-23T14:08:28.661Z"
   },
   {
    "duration": 15,
    "start_time": "2022-03-23T14:08:38.287Z"
   },
   {
    "duration": 6,
    "start_time": "2022-03-23T14:08:41.807Z"
   },
   {
    "duration": 16,
    "start_time": "2022-03-23T14:08:51.120Z"
   },
   {
    "duration": 7,
    "start_time": "2022-03-23T14:08:57.035Z"
   },
   {
    "duration": 117,
    "start_time": "2022-03-23T14:09:21.392Z"
   },
   {
    "duration": 9,
    "start_time": "2022-03-23T14:11:47.780Z"
   },
   {
    "duration": 9,
    "start_time": "2022-03-23T14:12:10.737Z"
   },
   {
    "duration": 27,
    "start_time": "2022-03-23T14:12:18.318Z"
   },
   {
    "duration": 11,
    "start_time": "2022-03-23T14:12:35.935Z"
   },
   {
    "duration": 30,
    "start_time": "2022-03-23T14:14:42.926Z"
   },
   {
    "duration": 19,
    "start_time": "2022-03-23T14:14:57.198Z"
   },
   {
    "duration": 12,
    "start_time": "2022-03-23T14:16:14.319Z"
   },
   {
    "duration": 8,
    "start_time": "2022-03-23T14:18:53.262Z"
   },
   {
    "duration": 9,
    "start_time": "2022-03-23T14:18:58.494Z"
   },
   {
    "duration": 9,
    "start_time": "2022-03-23T14:19:30.350Z"
   },
   {
    "duration": 4,
    "start_time": "2022-03-23T14:19:38.749Z"
   },
   {
    "duration": 10,
    "start_time": "2022-03-23T14:20:01.246Z"
   },
   {
    "duration": 4,
    "start_time": "2022-03-23T14:20:06.238Z"
   },
   {
    "duration": 4,
    "start_time": "2022-03-23T14:20:15.326Z"
   },
   {
    "duration": 9,
    "start_time": "2022-03-23T14:20:35.950Z"
   },
   {
    "duration": 4,
    "start_time": "2022-03-23T14:20:41.102Z"
   },
   {
    "duration": 107,
    "start_time": "2022-03-23T14:21:23.598Z"
   },
   {
    "duration": 1126,
    "start_time": "2022-03-23T15:38:36.055Z"
   },
   {
    "duration": 499,
    "start_time": "2022-03-23T15:38:37.999Z"
   },
   {
    "duration": 53,
    "start_time": "2022-03-23T15:38:38.500Z"
   },
   {
    "duration": 44,
    "start_time": "2022-03-23T15:38:38.555Z"
   },
   {
    "duration": 33,
    "start_time": "2022-03-23T15:38:39.127Z"
   },
   {
    "duration": 25,
    "start_time": "2022-03-23T15:38:39.348Z"
   },
   {
    "duration": 27,
    "start_time": "2022-03-23T15:38:39.536Z"
   },
   {
    "duration": 4,
    "start_time": "2022-03-23T15:54:59.472Z"
   },
   {
    "duration": 486,
    "start_time": "2022-03-23T15:54:59.479Z"
   },
   {
    "duration": 46,
    "start_time": "2022-03-23T15:54:59.967Z"
   },
   {
    "duration": 58,
    "start_time": "2022-03-23T15:55:00.016Z"
   },
   {
    "duration": 33,
    "start_time": "2022-03-23T15:55:00.076Z"
   },
   {
    "duration": 28,
    "start_time": "2022-03-23T15:55:00.111Z"
   },
   {
    "duration": 58,
    "start_time": "2022-03-23T15:55:00.141Z"
   },
   {
    "duration": 113,
    "start_time": "2022-03-23T15:55:19.241Z"
   },
   {
    "duration": 7,
    "start_time": "2022-03-23T15:56:04.618Z"
   },
   {
    "duration": 16,
    "start_time": "2022-03-23T15:56:28.949Z"
   },
   {
    "duration": 25,
    "start_time": "2022-03-23T15:56:37.986Z"
   },
   {
    "duration": 4,
    "start_time": "2022-03-23T15:58:53.172Z"
   },
   {
    "duration": 529,
    "start_time": "2022-03-23T15:58:53.178Z"
   },
   {
    "duration": 42,
    "start_time": "2022-03-23T15:58:53.710Z"
   },
   {
    "duration": 47,
    "start_time": "2022-03-23T15:58:53.755Z"
   },
   {
    "duration": 33,
    "start_time": "2022-03-23T15:58:53.804Z"
   },
   {
    "duration": 49,
    "start_time": "2022-03-23T15:58:53.839Z"
   },
   {
    "duration": 27,
    "start_time": "2022-03-23T15:58:53.890Z"
   },
   {
    "duration": 113,
    "start_time": "2022-03-23T16:00:16.252Z"
   },
   {
    "duration": 106,
    "start_time": "2022-03-23T16:00:53.800Z"
   },
   {
    "duration": 26,
    "start_time": "2022-03-23T16:00:56.052Z"
   },
   {
    "duration": 10,
    "start_time": "2022-03-23T16:04:55.091Z"
   },
   {
    "duration": 9,
    "start_time": "2022-03-23T16:05:09.547Z"
   },
   {
    "duration": 11,
    "start_time": "2022-03-23T16:05:43.429Z"
   },
   {
    "duration": 6,
    "start_time": "2022-03-23T16:07:45.897Z"
   },
   {
    "duration": 10,
    "start_time": "2022-03-23T16:08:36.450Z"
   },
   {
    "duration": 13,
    "start_time": "2022-03-23T16:08:39.915Z"
   },
   {
    "duration": 11,
    "start_time": "2022-03-23T16:09:28.539Z"
   },
   {
    "duration": 6,
    "start_time": "2022-03-23T16:09:35.775Z"
   },
   {
    "duration": 12,
    "start_time": "2022-03-23T16:09:53.416Z"
   },
   {
    "duration": 7,
    "start_time": "2022-03-23T16:12:00.771Z"
   },
   {
    "duration": 10,
    "start_time": "2022-03-23T16:12:05.637Z"
   },
   {
    "duration": 6,
    "start_time": "2022-03-23T16:12:09.287Z"
   },
   {
    "duration": 6,
    "start_time": "2022-03-23T16:12:30.537Z"
   },
   {
    "duration": 4,
    "start_time": "2022-03-23T16:12:38.561Z"
   },
   {
    "duration": 490,
    "start_time": "2022-03-23T16:12:38.567Z"
   },
   {
    "duration": 41,
    "start_time": "2022-03-23T16:12:39.060Z"
   },
   {
    "duration": 40,
    "start_time": "2022-03-23T16:12:39.103Z"
   },
   {
    "duration": 57,
    "start_time": "2022-03-23T16:12:39.146Z"
   },
   {
    "duration": 27,
    "start_time": "2022-03-23T16:12:39.206Z"
   },
   {
    "duration": 59,
    "start_time": "2022-03-23T16:12:39.235Z"
   },
   {
    "duration": 5,
    "start_time": "2022-03-23T16:12:41.719Z"
   },
   {
    "duration": 5,
    "start_time": "2022-03-23T16:12:47.037Z"
   },
   {
    "duration": 34,
    "start_time": "2022-03-23T16:13:04.026Z"
   },
   {
    "duration": 10,
    "start_time": "2022-03-23T16:14:22.580Z"
   },
   {
    "duration": 4,
    "start_time": "2022-03-23T16:14:25.567Z"
   },
   {
    "duration": 5,
    "start_time": "2022-03-23T16:14:25.872Z"
   },
   {
    "duration": 4,
    "start_time": "2022-03-23T16:18:31.847Z"
   },
   {
    "duration": 59,
    "start_time": "2022-03-23T16:18:32.226Z"
   },
   {
    "duration": 21,
    "start_time": "2022-03-23T16:18:39.400Z"
   },
   {
    "duration": 20,
    "start_time": "2022-03-23T16:18:47.404Z"
   },
   {
    "duration": 28,
    "start_time": "2022-03-23T16:18:53.500Z"
   },
   {
    "duration": 3,
    "start_time": "2022-03-23T16:18:58.543Z"
   },
   {
    "duration": 482,
    "start_time": "2022-03-23T16:18:58.549Z"
   },
   {
    "duration": 42,
    "start_time": "2022-03-23T16:18:59.034Z"
   },
   {
    "duration": 38,
    "start_time": "2022-03-23T16:18:59.078Z"
   },
   {
    "duration": 57,
    "start_time": "2022-03-23T16:18:59.119Z"
   },
   {
    "duration": 35,
    "start_time": "2022-03-23T16:18:59.179Z"
   },
   {
    "duration": 59,
    "start_time": "2022-03-23T16:18:59.217Z"
   },
   {
    "duration": 35,
    "start_time": "2022-03-23T16:19:08.240Z"
   },
   {
    "duration": 47,
    "start_time": "2022-03-23T16:19:16.903Z"
   },
   {
    "duration": 26,
    "start_time": "2022-03-23T16:19:18.605Z"
   },
   {
    "duration": 87,
    "start_time": "2022-03-23T16:20:16.943Z"
   },
   {
    "duration": 17,
    "start_time": "2022-03-23T16:20:20.258Z"
   },
   {
    "duration": 17,
    "start_time": "2022-03-23T16:20:27.618Z"
   },
   {
    "duration": 4,
    "start_time": "2022-03-23T16:20:42.793Z"
   },
   {
    "duration": 5,
    "start_time": "2022-03-23T16:20:44.859Z"
   },
   {
    "duration": 16,
    "start_time": "2022-03-23T16:20:45.015Z"
   },
   {
    "duration": 3,
    "start_time": "2022-03-23T16:20:48.360Z"
   },
   {
    "duration": 496,
    "start_time": "2022-03-23T16:20:48.366Z"
   },
   {
    "duration": 43,
    "start_time": "2022-03-23T16:20:48.864Z"
   },
   {
    "duration": 39,
    "start_time": "2022-03-23T16:20:48.909Z"
   },
   {
    "duration": 34,
    "start_time": "2022-03-23T16:20:48.975Z"
   },
   {
    "duration": 23,
    "start_time": "2022-03-23T16:20:49.012Z"
   },
   {
    "duration": 59,
    "start_time": "2022-03-23T16:20:49.037Z"
   },
   {
    "duration": 4,
    "start_time": "2022-03-23T16:20:50.632Z"
   },
   {
    "duration": 4,
    "start_time": "2022-03-23T16:20:51.011Z"
   },
   {
    "duration": 16,
    "start_time": "2022-03-23T16:20:51.560Z"
   },
   {
    "duration": 4,
    "start_time": "2022-03-23T16:21:02.660Z"
   },
   {
    "duration": 496,
    "start_time": "2022-03-23T16:21:02.667Z"
   },
   {
    "duration": 41,
    "start_time": "2022-03-23T16:21:03.165Z"
   },
   {
    "duration": 38,
    "start_time": "2022-03-23T16:21:03.208Z"
   },
   {
    "duration": 54,
    "start_time": "2022-03-23T16:21:03.249Z"
   },
   {
    "duration": 25,
    "start_time": "2022-03-23T16:21:03.305Z"
   },
   {
    "duration": 55,
    "start_time": "2022-03-23T16:21:03.332Z"
   },
   {
    "duration": 5,
    "start_time": "2022-03-23T16:21:03.390Z"
   },
   {
    "duration": 132,
    "start_time": "2022-03-23T16:21:03.397Z"
   },
   {
    "duration": 16,
    "start_time": "2022-03-23T16:21:03.531Z"
   },
   {
    "duration": 43,
    "start_time": "2022-03-23T16:21:03.549Z"
   },
   {
    "duration": 6,
    "start_time": "2022-03-23T16:21:03.594Z"
   },
   {
    "duration": 5,
    "start_time": "2022-03-23T16:21:03.604Z"
   },
   {
    "duration": 131,
    "start_time": "2022-03-23T16:21:03.611Z"
   },
   {
    "duration": 111,
    "start_time": "2022-03-23T16:21:03.745Z"
   },
   {
    "duration": 0,
    "start_time": "2022-03-23T16:21:03.858Z"
   },
   {
    "duration": 0,
    "start_time": "2022-03-23T16:21:03.860Z"
   },
   {
    "duration": 0,
    "start_time": "2022-03-23T16:21:03.862Z"
   },
   {
    "duration": 0,
    "start_time": "2022-03-23T16:21:03.864Z"
   },
   {
    "duration": 0,
    "start_time": "2022-03-23T16:21:03.865Z"
   },
   {
    "duration": 0,
    "start_time": "2022-03-23T16:21:03.867Z"
   },
   {
    "duration": 0,
    "start_time": "2022-03-23T16:21:03.869Z"
   },
   {
    "duration": 4,
    "start_time": "2022-03-23T16:21:27.100Z"
   },
   {
    "duration": 57,
    "start_time": "2022-03-23T16:21:27.534Z"
   },
   {
    "duration": 16,
    "start_time": "2022-03-23T16:21:29.219Z"
   },
   {
    "duration": 22,
    "start_time": "2022-03-23T16:21:37.865Z"
   },
   {
    "duration": 173,
    "start_time": "2022-03-23T16:22:06.365Z"
   },
   {
    "duration": 148,
    "start_time": "2022-03-23T16:22:08.722Z"
   },
   {
    "duration": 4,
    "start_time": "2022-03-23T16:22:53.478Z"
   },
   {
    "duration": 70,
    "start_time": "2022-03-23T16:23:08.627Z"
   },
   {
    "duration": 6,
    "start_time": "2022-03-23T16:24:22.426Z"
   },
   {
    "duration": 121,
    "start_time": "2022-03-23T16:26:43.968Z"
   },
   {
    "duration": 5,
    "start_time": "2022-03-23T16:27:09.782Z"
   },
   {
    "duration": 6,
    "start_time": "2022-03-23T16:27:16.019Z"
   },
   {
    "duration": 65,
    "start_time": "2022-03-23T16:27:17.298Z"
   },
   {
    "duration": 76,
    "start_time": "2022-03-23T16:27:20.976Z"
   },
   {
    "duration": 20,
    "start_time": "2022-03-23T16:34:03.651Z"
   },
   {
    "duration": 11,
    "start_time": "2022-03-23T16:34:07.287Z"
   },
   {
    "duration": 14,
    "start_time": "2022-03-23T16:34:13.918Z"
   },
   {
    "duration": 24,
    "start_time": "2022-03-23T16:34:35.895Z"
   },
   {
    "duration": 15,
    "start_time": "2022-03-23T16:34:36.294Z"
   },
   {
    "duration": 20,
    "start_time": "2022-03-23T16:38:13.677Z"
   },
   {
    "duration": 14,
    "start_time": "2022-03-23T16:38:14.354Z"
   },
   {
    "duration": 24,
    "start_time": "2022-03-23T16:38:45.856Z"
   },
   {
    "duration": 19,
    "start_time": "2022-03-23T16:38:54.488Z"
   },
   {
    "duration": 13,
    "start_time": "2022-03-23T16:38:55.193Z"
   },
   {
    "duration": 9,
    "start_time": "2022-03-23T16:40:41.344Z"
   },
   {
    "duration": 5,
    "start_time": "2022-03-23T16:41:05.147Z"
   },
   {
    "duration": 30,
    "start_time": "2022-03-23T16:41:16.818Z"
   },
   {
    "duration": 6,
    "start_time": "2022-03-23T16:41:40.274Z"
   },
   {
    "duration": 5,
    "start_time": "2022-03-23T16:41:51.691Z"
   },
   {
    "duration": 27,
    "start_time": "2022-03-23T16:42:00.440Z"
   },
   {
    "duration": 5,
    "start_time": "2022-03-23T16:42:46.093Z"
   },
   {
    "duration": 119,
    "start_time": "2022-03-23T16:42:47.112Z"
   },
   {
    "duration": 27,
    "start_time": "2022-03-23T16:42:50.791Z"
   },
   {
    "duration": 119,
    "start_time": "2022-03-23T16:44:06.054Z"
   },
   {
    "duration": 5,
    "start_time": "2022-03-23T16:44:17.447Z"
   },
   {
    "duration": 68,
    "start_time": "2022-03-23T16:44:18.767Z"
   },
   {
    "duration": 25,
    "start_time": "2022-03-23T16:44:19.271Z"
   },
   {
    "duration": 73,
    "start_time": "2022-03-23T16:44:46.165Z"
   },
   {
    "duration": 847,
    "start_time": "2022-03-24T05:47:38.556Z"
   },
   {
    "duration": 447,
    "start_time": "2022-03-24T05:47:39.406Z"
   },
   {
    "duration": 38,
    "start_time": "2022-03-24T05:47:39.855Z"
   },
   {
    "duration": 28,
    "start_time": "2022-03-24T05:47:39.895Z"
   },
   {
    "duration": 29,
    "start_time": "2022-03-24T05:47:39.925Z"
   },
   {
    "duration": 16,
    "start_time": "2022-03-24T05:47:40.577Z"
   },
   {
    "duration": 18,
    "start_time": "2022-03-24T05:47:41.139Z"
   },
   {
    "duration": 4,
    "start_time": "2022-03-24T05:47:53.855Z"
   },
   {
    "duration": 90,
    "start_time": "2022-03-24T05:47:54.182Z"
   },
   {
    "duration": 52,
    "start_time": "2022-03-24T05:47:57.270Z"
   },
   {
    "duration": 69,
    "start_time": "2022-03-24T05:48:19.503Z"
   },
   {
    "duration": 66,
    "start_time": "2022-03-24T05:48:44.670Z"
   },
   {
    "duration": 56,
    "start_time": "2022-03-24T05:49:17.919Z"
   },
   {
    "duration": 52,
    "start_time": "2022-03-24T05:49:33.647Z"
   },
   {
    "duration": 133,
    "start_time": "2022-03-24T05:50:16.926Z"
   },
   {
    "duration": 79,
    "start_time": "2022-03-24T05:50:19.670Z"
   },
   {
    "duration": 60,
    "start_time": "2022-03-24T05:50:20.494Z"
   },
   {
    "duration": 128,
    "start_time": "2022-03-24T05:50:38.671Z"
   },
   {
    "duration": 75,
    "start_time": "2022-03-24T05:50:50.175Z"
   },
   {
    "duration": 60,
    "start_time": "2022-03-24T05:50:51.137Z"
   },
   {
    "duration": 6,
    "start_time": "2022-03-24T05:50:55.742Z"
   },
   {
    "duration": 10,
    "start_time": "2022-03-24T05:51:01.706Z"
   },
   {
    "duration": 20,
    "start_time": "2022-03-24T05:51:19.471Z"
   },
   {
    "duration": 132,
    "start_time": "2022-03-24T05:51:52.384Z"
   },
   {
    "duration": 29,
    "start_time": "2022-03-24T05:52:10.415Z"
   },
   {
    "duration": 295,
    "start_time": "2022-03-24T05:52:38.271Z"
   },
   {
    "duration": 301,
    "start_time": "2022-03-24T05:52:44.705Z"
   },
   {
    "duration": 77,
    "start_time": "2022-03-24T05:53:05.726Z"
   },
   {
    "duration": 31,
    "start_time": "2022-03-24T05:53:11.104Z"
   },
   {
    "duration": 140,
    "start_time": "2022-03-24T05:55:13.134Z"
   },
   {
    "duration": 28,
    "start_time": "2022-03-24T05:55:17.710Z"
   },
   {
    "duration": 29,
    "start_time": "2022-03-24T05:55:39.758Z"
   },
   {
    "duration": 28,
    "start_time": "2022-03-24T05:55:48.383Z"
   },
   {
    "duration": 29,
    "start_time": "2022-03-24T05:59:06.686Z"
   },
   {
    "duration": 31,
    "start_time": "2022-03-24T06:00:16.388Z"
   },
   {
    "duration": 16,
    "start_time": "2022-03-24T06:00:42.830Z"
   },
   {
    "duration": 8,
    "start_time": "2022-03-24T06:01:24.063Z"
   },
   {
    "duration": 17,
    "start_time": "2022-03-24T06:01:32.509Z"
   },
   {
    "duration": 29,
    "start_time": "2022-03-24T06:01:50.929Z"
   },
   {
    "duration": 9,
    "start_time": "2022-03-24T06:02:33.633Z"
   },
   {
    "duration": 16,
    "start_time": "2022-03-24T06:02:43.901Z"
   },
   {
    "duration": 4,
    "start_time": "2022-03-24T06:03:55.245Z"
   },
   {
    "duration": 17,
    "start_time": "2022-03-24T06:04:04.302Z"
   },
   {
    "duration": 18,
    "start_time": "2022-03-24T06:04:42.086Z"
   },
   {
    "duration": 2166,
    "start_time": "2022-03-24T06:07:07.933Z"
   },
   {
    "duration": 5,
    "start_time": "2022-03-24T06:07:13.965Z"
   },
   {
    "duration": 18,
    "start_time": "2022-03-24T06:07:25.374Z"
   },
   {
    "duration": 5,
    "start_time": "2022-03-24T06:14:15.580Z"
   },
   {
    "duration": 7,
    "start_time": "2022-03-24T06:14:29.101Z"
   },
   {
    "duration": 9,
    "start_time": "2022-03-24T06:14:35.789Z"
   },
   {
    "duration": 18,
    "start_time": "2022-03-24T06:14:42.994Z"
   },
   {
    "duration": 16,
    "start_time": "2022-03-24T06:17:57.709Z"
   },
   {
    "duration": 13,
    "start_time": "2022-03-24T06:18:12.706Z"
   },
   {
    "duration": 12,
    "start_time": "2022-03-24T06:22:08.845Z"
   },
   {
    "duration": 33,
    "start_time": "2022-03-24T06:22:44.686Z"
   },
   {
    "duration": 36,
    "start_time": "2022-03-24T06:22:58.781Z"
   },
   {
    "duration": 53,
    "start_time": "2022-03-24T06:23:53.170Z"
   },
   {
    "duration": 75,
    "start_time": "2022-03-24T06:30:04.173Z"
   },
   {
    "duration": 43,
    "start_time": "2022-03-24T06:30:10.701Z"
   },
   {
    "duration": 40,
    "start_time": "2022-03-24T06:30:41.548Z"
   },
   {
    "duration": 46,
    "start_time": "2022-03-24T06:31:03.149Z"
   },
   {
    "duration": 43,
    "start_time": "2022-03-24T06:31:13.837Z"
   },
   {
    "duration": 47,
    "start_time": "2022-03-24T06:31:34.268Z"
   },
   {
    "duration": 33,
    "start_time": "2022-03-24T06:32:08.173Z"
   },
   {
    "duration": 33,
    "start_time": "2022-03-24T06:37:41.292Z"
   },
   {
    "duration": 11,
    "start_time": "2022-03-24T06:37:58.205Z"
   },
   {
    "duration": 19,
    "start_time": "2022-03-24T06:39:56.236Z"
   },
   {
    "duration": 17,
    "start_time": "2022-03-24T06:40:21.340Z"
   },
   {
    "duration": 15,
    "start_time": "2022-03-24T06:40:51.276Z"
   },
   {
    "duration": 14,
    "start_time": "2022-03-24T06:40:58.843Z"
   },
   {
    "duration": 16,
    "start_time": "2022-03-24T06:42:06.988Z"
   },
   {
    "duration": 8,
    "start_time": "2022-03-24T06:42:13.740Z"
   },
   {
    "duration": 11,
    "start_time": "2022-03-24T06:42:31.131Z"
   },
   {
    "duration": 5,
    "start_time": "2022-03-24T06:42:31.308Z"
   },
   {
    "duration": 10,
    "start_time": "2022-03-24T06:43:08.300Z"
   },
   {
    "duration": 6,
    "start_time": "2022-03-24T06:43:08.556Z"
   },
   {
    "duration": 28,
    "start_time": "2022-03-24T06:43:53.787Z"
   },
   {
    "duration": 13,
    "start_time": "2022-03-24T06:44:17.420Z"
   },
   {
    "duration": 17,
    "start_time": "2022-03-24T06:45:07.452Z"
   },
   {
    "duration": 43,
    "start_time": "2022-03-24T06:46:18.468Z"
   },
   {
    "duration": 15,
    "start_time": "2022-03-24T06:46:42.956Z"
   },
   {
    "duration": 32,
    "start_time": "2022-03-24T06:46:54.828Z"
   },
   {
    "duration": 14,
    "start_time": "2022-03-24T06:47:05.580Z"
   },
   {
    "duration": 3,
    "start_time": "2022-03-24T06:47:29.723Z"
   },
   {
    "duration": 2,
    "start_time": "2022-03-24T06:47:49.718Z"
   },
   {
    "duration": 24,
    "start_time": "2022-03-24T07:22:54.794Z"
   },
   {
    "duration": 25,
    "start_time": "2022-03-24T07:22:57.097Z"
   },
   {
    "duration": 28,
    "start_time": "2022-03-24T07:23:10.970Z"
   },
   {
    "duration": 9,
    "start_time": "2022-03-24T07:24:32.440Z"
   },
   {
    "duration": 12,
    "start_time": "2022-03-24T07:24:48.152Z"
   },
   {
    "duration": 25,
    "start_time": "2022-03-24T07:26:11.304Z"
   },
   {
    "duration": 3,
    "start_time": "2022-03-24T07:26:26.507Z"
   },
   {
    "duration": 443,
    "start_time": "2022-03-24T07:26:26.512Z"
   },
   {
    "duration": 33,
    "start_time": "2022-03-24T07:26:26.957Z"
   },
   {
    "duration": 29,
    "start_time": "2022-03-24T07:26:26.992Z"
   },
   {
    "duration": 28,
    "start_time": "2022-03-24T07:26:27.023Z"
   },
   {
    "duration": 16,
    "start_time": "2022-03-24T07:26:27.053Z"
   },
   {
    "duration": 24,
    "start_time": "2022-03-24T07:26:27.071Z"
   },
   {
    "duration": 4,
    "start_time": "2022-03-24T07:26:27.097Z"
   },
   {
    "duration": 111,
    "start_time": "2022-03-24T07:26:27.102Z"
   },
   {
    "duration": 64,
    "start_time": "2022-03-24T07:26:27.215Z"
   },
   {
    "duration": 139,
    "start_time": "2022-03-24T07:26:27.280Z"
   },
   {
    "duration": 81,
    "start_time": "2022-03-24T07:26:27.421Z"
   },
   {
    "duration": 70,
    "start_time": "2022-03-24T07:26:27.504Z"
   },
   {
    "duration": 7,
    "start_time": "2022-03-24T07:26:27.576Z"
   },
   {
    "duration": 16,
    "start_time": "2022-03-24T07:26:27.584Z"
   },
   {
    "duration": 47,
    "start_time": "2022-03-24T07:26:27.602Z"
   },
   {
    "duration": 30,
    "start_time": "2022-03-24T07:26:27.651Z"
   },
   {
    "duration": 15,
    "start_time": "2022-03-24T07:26:27.682Z"
   },
   {
    "duration": 44,
    "start_time": "2022-03-24T07:26:27.699Z"
   },
   {
    "duration": 7,
    "start_time": "2022-03-24T07:26:27.744Z"
   },
   {
    "duration": 23,
    "start_time": "2022-03-24T07:26:30.832Z"
   },
   {
    "duration": 14,
    "start_time": "2022-03-24T07:26:44.345Z"
   },
   {
    "duration": 23,
    "start_time": "2022-03-24T07:26:55.561Z"
   },
   {
    "duration": 154,
    "start_time": "2022-03-24T07:27:03.544Z"
   },
   {
    "duration": 139,
    "start_time": "2022-03-24T07:27:12.760Z"
   },
   {
    "duration": 13,
    "start_time": "2022-03-24T07:27:17.272Z"
   },
   {
    "duration": 12,
    "start_time": "2022-03-24T07:27:30.425Z"
   },
   {
    "duration": 28,
    "start_time": "2022-03-24T07:27:46.760Z"
   },
   {
    "duration": 13,
    "start_time": "2022-03-24T07:27:51.633Z"
   },
   {
    "duration": 13,
    "start_time": "2022-03-24T07:28:28.536Z"
   },
   {
    "duration": 24,
    "start_time": "2022-03-24T07:29:01.352Z"
   },
   {
    "duration": 15,
    "start_time": "2022-03-24T07:29:05.416Z"
   },
   {
    "duration": 74,
    "start_time": "2022-03-24T07:29:41.353Z"
   },
   {
    "duration": 17,
    "start_time": "2022-03-24T07:29:46.680Z"
   },
   {
    "duration": 3,
    "start_time": "2022-03-24T07:30:02.971Z"
   },
   {
    "duration": 492,
    "start_time": "2022-03-24T07:30:02.976Z"
   },
   {
    "duration": 34,
    "start_time": "2022-03-24T07:30:03.470Z"
   },
   {
    "duration": 33,
    "start_time": "2022-03-24T07:30:03.506Z"
   },
   {
    "duration": 28,
    "start_time": "2022-03-24T07:30:03.542Z"
   },
   {
    "duration": 19,
    "start_time": "2022-03-24T07:30:03.572Z"
   },
   {
    "duration": 48,
    "start_time": "2022-03-24T07:30:03.593Z"
   },
   {
    "duration": 5,
    "start_time": "2022-03-24T07:30:03.643Z"
   },
   {
    "duration": 99,
    "start_time": "2022-03-24T07:30:03.650Z"
   },
   {
    "duration": 56,
    "start_time": "2022-03-24T07:30:03.751Z"
   },
   {
    "duration": 145,
    "start_time": "2022-03-24T07:30:03.809Z"
   },
   {
    "duration": 92,
    "start_time": "2022-03-24T07:30:03.957Z"
   },
   {
    "duration": 52,
    "start_time": "2022-03-24T07:30:04.051Z"
   },
   {
    "duration": 6,
    "start_time": "2022-03-24T07:30:04.107Z"
   },
   {
    "duration": 10,
    "start_time": "2022-03-24T07:30:04.133Z"
   },
   {
    "duration": 32,
    "start_time": "2022-03-24T07:30:04.145Z"
   },
   {
    "duration": 63,
    "start_time": "2022-03-24T07:30:04.178Z"
   },
   {
    "duration": 17,
    "start_time": "2022-03-24T07:30:04.243Z"
   },
   {
    "duration": 19,
    "start_time": "2022-03-24T07:30:04.262Z"
   },
   {
    "duration": 7,
    "start_time": "2022-03-24T07:30:04.282Z"
   },
   {
    "duration": 109,
    "start_time": "2022-03-24T07:30:04.291Z"
   },
   {
    "duration": 18,
    "start_time": "2022-03-24T07:30:04.402Z"
   },
   {
    "duration": 27,
    "start_time": "2022-03-24T07:30:09.272Z"
   },
   {
    "duration": 15,
    "start_time": "2022-03-24T07:30:19.374Z"
   },
   {
    "duration": 23,
    "start_time": "2022-03-24T07:30:29.544Z"
   },
   {
    "duration": 14,
    "start_time": "2022-03-24T07:30:30.712Z"
   },
   {
    "duration": 41,
    "start_time": "2022-03-24T07:31:32.435Z"
   },
   {
    "duration": 13,
    "start_time": "2022-03-24T07:31:39.336Z"
   },
   {
    "duration": 3,
    "start_time": "2022-03-24T07:32:17.138Z"
   },
   {
    "duration": 437,
    "start_time": "2022-03-24T07:32:17.143Z"
   },
   {
    "duration": 34,
    "start_time": "2022-03-24T07:32:17.582Z"
   },
   {
    "duration": 28,
    "start_time": "2022-03-24T07:32:17.617Z"
   },
   {
    "duration": 25,
    "start_time": "2022-03-24T07:32:17.648Z"
   },
   {
    "duration": 17,
    "start_time": "2022-03-24T07:32:17.675Z"
   },
   {
    "duration": 41,
    "start_time": "2022-03-24T07:32:17.693Z"
   },
   {
    "duration": 4,
    "start_time": "2022-03-24T07:32:17.736Z"
   },
   {
    "duration": 96,
    "start_time": "2022-03-24T07:32:17.742Z"
   },
   {
    "duration": 62,
    "start_time": "2022-03-24T07:32:17.840Z"
   },
   {
    "duration": 136,
    "start_time": "2022-03-24T07:32:17.904Z"
   },
   {
    "duration": 65,
    "start_time": "2022-03-24T07:32:18.041Z"
   },
   {
    "duration": 68,
    "start_time": "2022-03-24T07:32:18.108Z"
   },
   {
    "duration": 7,
    "start_time": "2022-03-24T07:32:18.179Z"
   },
   {
    "duration": 13,
    "start_time": "2022-03-24T07:32:18.187Z"
   },
   {
    "duration": 51,
    "start_time": "2022-03-24T07:32:18.201Z"
   },
   {
    "duration": 31,
    "start_time": "2022-03-24T07:32:18.254Z"
   },
   {
    "duration": 16,
    "start_time": "2022-03-24T07:32:18.287Z"
   },
   {
    "duration": 45,
    "start_time": "2022-03-24T07:32:18.304Z"
   },
   {
    "duration": 7,
    "start_time": "2022-03-24T07:32:18.351Z"
   },
   {
    "duration": 38,
    "start_time": "2022-03-24T07:32:23.538Z"
   },
   {
    "duration": 62,
    "start_time": "2022-03-24T07:32:37.976Z"
   },
   {
    "duration": 19,
    "start_time": "2022-03-24T07:32:39.738Z"
   },
   {
    "duration": 24,
    "start_time": "2022-03-24T07:32:47.911Z"
   },
   {
    "duration": 13,
    "start_time": "2022-03-24T07:32:49.129Z"
   },
   {
    "duration": 34,
    "start_time": "2022-03-24T07:33:04.104Z"
   },
   {
    "duration": 10,
    "start_time": "2022-03-24T07:33:20.298Z"
   },
   {
    "duration": 9,
    "start_time": "2022-03-24T07:33:37.512Z"
   },
   {
    "duration": 10,
    "start_time": "2022-03-24T07:33:41.800Z"
   },
   {
    "duration": 11,
    "start_time": "2022-03-24T07:33:53.001Z"
   },
   {
    "duration": 11,
    "start_time": "2022-03-24T07:34:05.512Z"
   },
   {
    "duration": 15,
    "start_time": "2022-03-24T07:34:29.449Z"
   },
   {
    "duration": 13,
    "start_time": "2022-03-24T07:34:49.098Z"
   },
   {
    "duration": 76,
    "start_time": "2022-03-24T08:05:04.627Z"
   },
   {
    "duration": 44,
    "start_time": "2022-03-24T08:05:15.282Z"
   },
   {
    "duration": 15,
    "start_time": "2022-03-24T08:15:29.939Z"
   },
   {
    "duration": 44,
    "start_time": "2022-03-24T08:18:21.635Z"
   },
   {
    "duration": 69,
    "start_time": "2022-03-24T08:19:30.786Z"
   },
   {
    "duration": 20,
    "start_time": "2022-03-24T08:19:31.345Z"
   },
   {
    "duration": 14,
    "start_time": "2022-03-24T08:19:44.289Z"
   },
   {
    "duration": 35,
    "start_time": "2022-03-24T08:20:01.971Z"
   },
   {
    "duration": 14,
    "start_time": "2022-03-24T08:20:03.813Z"
   },
   {
    "duration": 26,
    "start_time": "2022-03-24T08:20:14.577Z"
   },
   {
    "duration": 16,
    "start_time": "2022-03-24T08:20:16.833Z"
   },
   {
    "duration": 12,
    "start_time": "2022-03-24T08:20:23.033Z"
   },
   {
    "duration": 20,
    "start_time": "2022-03-24T08:20:31.458Z"
   },
   {
    "duration": 34,
    "start_time": "2022-03-24T08:26:54.305Z"
   },
   {
    "duration": 13,
    "start_time": "2022-03-24T08:27:06.160Z"
   },
   {
    "duration": 11,
    "start_time": "2022-03-24T08:27:22.512Z"
   },
   {
    "duration": 4,
    "start_time": "2022-03-24T08:27:29.218Z"
   },
   {
    "duration": 503,
    "start_time": "2022-03-24T08:27:29.223Z"
   },
   {
    "duration": 33,
    "start_time": "2022-03-24T08:27:29.727Z"
   },
   {
    "duration": 41,
    "start_time": "2022-03-24T08:27:29.762Z"
   },
   {
    "duration": 28,
    "start_time": "2022-03-24T08:27:29.805Z"
   },
   {
    "duration": 17,
    "start_time": "2022-03-24T08:27:29.835Z"
   },
   {
    "duration": 51,
    "start_time": "2022-03-24T08:27:29.854Z"
   },
   {
    "duration": 11,
    "start_time": "2022-03-24T08:27:29.907Z"
   },
   {
    "duration": 105,
    "start_time": "2022-03-24T08:27:29.920Z"
   },
   {
    "duration": 59,
    "start_time": "2022-03-24T08:27:30.027Z"
   },
   {
    "duration": 134,
    "start_time": "2022-03-24T08:27:30.088Z"
   },
   {
    "duration": 77,
    "start_time": "2022-03-24T08:27:30.224Z"
   },
   {
    "duration": 69,
    "start_time": "2022-03-24T08:27:30.303Z"
   },
   {
    "duration": 7,
    "start_time": "2022-03-24T08:27:30.375Z"
   },
   {
    "duration": 46,
    "start_time": "2022-03-24T08:27:30.384Z"
   },
   {
    "duration": 52,
    "start_time": "2022-03-24T08:27:30.431Z"
   },
   {
    "duration": 31,
    "start_time": "2022-03-24T08:27:30.485Z"
   },
   {
    "duration": 20,
    "start_time": "2022-03-24T08:27:30.518Z"
   },
   {
    "duration": 18,
    "start_time": "2022-03-24T08:27:30.540Z"
   },
   {
    "duration": 16,
    "start_time": "2022-03-24T08:27:30.560Z"
   },
   {
    "duration": 100,
    "start_time": "2022-03-24T08:27:30.578Z"
   },
   {
    "duration": 16,
    "start_time": "2022-03-24T08:27:30.680Z"
   },
   {
    "duration": 14,
    "start_time": "2022-03-24T08:27:30.698Z"
   },
   {
    "duration": 43,
    "start_time": "2022-03-24T08:27:30.714Z"
   },
   {
    "duration": 35,
    "start_time": "2022-03-24T08:27:38.553Z"
   },
   {
    "duration": 8,
    "start_time": "2022-03-24T08:27:39.176Z"
   },
   {
    "duration": 13,
    "start_time": "2022-03-24T08:28:01.168Z"
   },
   {
    "duration": 17,
    "start_time": "2022-03-24T08:28:15.569Z"
   },
   {
    "duration": 8,
    "start_time": "2022-03-24T08:28:43.300Z"
   },
   {
    "duration": 8,
    "start_time": "2022-03-24T08:31:36.240Z"
   },
   {
    "duration": 10,
    "start_time": "2022-03-24T08:37:15.313Z"
   },
   {
    "duration": 140,
    "start_time": "2022-03-24T08:37:35.920Z"
   },
   {
    "duration": 15,
    "start_time": "2022-03-24T08:37:37.031Z"
   },
   {
    "duration": 22,
    "start_time": "2022-03-24T08:37:40.648Z"
   },
   {
    "duration": 140,
    "start_time": "2022-03-24T08:41:37.200Z"
   },
   {
    "duration": 44,
    "start_time": "2022-03-24T08:41:44.943Z"
   },
   {
    "duration": 14,
    "start_time": "2022-03-24T08:41:52.625Z"
   },
   {
    "duration": 61,
    "start_time": "2022-03-24T08:44:37.375Z"
   },
   {
    "duration": 33,
    "start_time": "2022-03-24T08:44:37.959Z"
   },
   {
    "duration": 13,
    "start_time": "2022-03-24T08:44:38.671Z"
   },
   {
    "duration": 37,
    "start_time": "2022-03-24T08:44:44.014Z"
   },
   {
    "duration": 88,
    "start_time": "2022-03-24T08:44:46.223Z"
   },
   {
    "duration": 14,
    "start_time": "2022-03-24T08:44:47.978Z"
   },
   {
    "duration": 20,
    "start_time": "2022-03-24T08:44:55.183Z"
   },
   {
    "duration": 11,
    "start_time": "2022-03-24T08:48:07.089Z"
   },
   {
    "duration": 22,
    "start_time": "2022-03-24T08:48:18.159Z"
   },
   {
    "duration": 20,
    "start_time": "2022-03-24T08:48:30.208Z"
   },
   {
    "duration": 3,
    "start_time": "2022-03-24T08:48:30.654Z"
   },
   {
    "duration": 4,
    "start_time": "2022-03-24T08:48:59.542Z"
   },
   {
    "duration": 2817,
    "start_time": "2022-03-24T08:48:59.548Z"
   },
   {
    "duration": 34,
    "start_time": "2022-03-24T08:49:02.366Z"
   },
   {
    "duration": 30,
    "start_time": "2022-03-24T08:49:02.402Z"
   },
   {
    "duration": 26,
    "start_time": "2022-03-24T08:49:02.435Z"
   },
   {
    "duration": 23,
    "start_time": "2022-03-24T08:49:02.463Z"
   },
   {
    "duration": 24,
    "start_time": "2022-03-24T08:49:02.488Z"
   },
   {
    "duration": 4,
    "start_time": "2022-03-24T08:49:02.533Z"
   },
   {
    "duration": 99,
    "start_time": "2022-03-24T08:49:02.539Z"
   },
   {
    "duration": 62,
    "start_time": "2022-03-24T08:49:02.640Z"
   },
   {
    "duration": 132,
    "start_time": "2022-03-24T08:49:02.704Z"
   },
   {
    "duration": 73,
    "start_time": "2022-03-24T08:49:02.839Z"
   },
   {
    "duration": 54,
    "start_time": "2022-03-24T08:49:02.932Z"
   },
   {
    "duration": 7,
    "start_time": "2022-03-24T08:49:02.989Z"
   },
   {
    "duration": 12,
    "start_time": "2022-03-24T08:49:02.998Z"
   },
   {
    "duration": 37,
    "start_time": "2022-03-24T08:49:03.032Z"
   },
   {
    "duration": 33,
    "start_time": "2022-03-24T08:49:03.071Z"
   },
   {
    "duration": 41,
    "start_time": "2022-03-24T08:49:03.106Z"
   },
   {
    "duration": 21,
    "start_time": "2022-03-24T08:49:03.149Z"
   },
   {
    "duration": 8,
    "start_time": "2022-03-24T08:49:03.173Z"
   },
   {
    "duration": 105,
    "start_time": "2022-03-24T08:49:03.183Z"
   },
   {
    "duration": 45,
    "start_time": "2022-03-24T08:49:03.290Z"
   },
   {
    "duration": 37,
    "start_time": "2022-03-24T08:49:03.337Z"
   },
   {
    "duration": 158,
    "start_time": "2022-03-24T08:49:03.376Z"
   },
   {
    "duration": 22,
    "start_time": "2022-03-24T08:49:05.352Z"
   },
   {
    "duration": 59,
    "start_time": "2022-03-24T09:05:20.024Z"
   },
   {
    "duration": 22,
    "start_time": "2022-03-24T09:05:32.998Z"
   },
   {
    "duration": 8,
    "start_time": "2022-03-24T09:09:55.928Z"
   },
   {
    "duration": 7,
    "start_time": "2022-03-24T09:09:59.307Z"
   },
   {
    "duration": 9,
    "start_time": "2022-03-24T09:10:10.516Z"
   },
   {
    "duration": 9,
    "start_time": "2022-03-24T09:10:26.012Z"
   },
   {
    "duration": 70,
    "start_time": "2022-03-24T09:11:01.892Z"
   },
   {
    "duration": 53,
    "start_time": "2022-03-24T09:11:17.780Z"
   },
   {
    "duration": 56,
    "start_time": "2022-03-24T09:11:22.985Z"
   },
   {
    "duration": 60,
    "start_time": "2022-03-24T09:11:28.521Z"
   },
   {
    "duration": 58,
    "start_time": "2022-03-24T09:11:37.388Z"
   },
   {
    "duration": 12,
    "start_time": "2022-03-24T09:11:58.387Z"
   },
   {
    "duration": 23,
    "start_time": "2022-03-24T09:12:04.123Z"
   },
   {
    "duration": 22,
    "start_time": "2022-03-24T09:12:41.371Z"
   },
   {
    "duration": 22,
    "start_time": "2022-03-24T09:12:41.899Z"
   },
   {
    "duration": 20,
    "start_time": "2022-03-24T09:12:50.803Z"
   },
   {
    "duration": 3,
    "start_time": "2022-03-24T09:12:54.803Z"
   },
   {
    "duration": 2,
    "start_time": "2022-03-24T09:12:59.107Z"
   },
   {
    "duration": 23,
    "start_time": "2022-03-24T09:13:48.057Z"
   },
   {
    "duration": 3,
    "start_time": "2022-03-24T09:14:41.251Z"
   },
   {
    "duration": 21,
    "start_time": "2022-03-24T09:14:45.795Z"
   },
   {
    "duration": 14,
    "start_time": "2022-03-24T09:16:20.491Z"
   },
   {
    "duration": 8,
    "start_time": "2022-03-24T09:35:37.532Z"
   },
   {
    "duration": 7,
    "start_time": "2022-03-24T09:35:55.951Z"
   },
   {
    "duration": 10,
    "start_time": "2022-03-24T09:36:07.090Z"
   },
   {
    "duration": 55,
    "start_time": "2022-03-24T11:43:52.195Z"
   },
   {
    "duration": 13,
    "start_time": "2022-03-24T11:43:57.874Z"
   },
   {
    "duration": 3,
    "start_time": "2022-03-24T11:44:21.586Z"
   },
   {
    "duration": 3,
    "start_time": "2022-03-24T11:44:31.340Z"
   },
   {
    "duration": 456,
    "start_time": "2022-03-24T11:44:31.347Z"
   },
   {
    "duration": 41,
    "start_time": "2022-03-24T11:44:31.805Z"
   },
   {
    "duration": 36,
    "start_time": "2022-03-24T11:44:31.848Z"
   },
   {
    "duration": 50,
    "start_time": "2022-03-24T11:44:31.887Z"
   },
   {
    "duration": 38,
    "start_time": "2022-03-24T11:44:31.940Z"
   },
   {
    "duration": 32,
    "start_time": "2022-03-24T11:44:31.979Z"
   },
   {
    "duration": 21,
    "start_time": "2022-03-24T11:44:32.013Z"
   },
   {
    "duration": 105,
    "start_time": "2022-03-24T11:44:32.036Z"
   },
   {
    "duration": 57,
    "start_time": "2022-03-24T11:44:32.143Z"
   },
   {
    "duration": 121,
    "start_time": "2022-03-24T11:44:32.202Z"
   },
   {
    "duration": 66,
    "start_time": "2022-03-24T11:44:32.332Z"
   },
   {
    "duration": 66,
    "start_time": "2022-03-24T11:44:32.400Z"
   },
   {
    "duration": 7,
    "start_time": "2022-03-24T11:44:32.467Z"
   },
   {
    "duration": 12,
    "start_time": "2022-03-24T11:44:32.477Z"
   },
   {
    "duration": 52,
    "start_time": "2022-03-24T11:44:32.491Z"
   },
   {
    "duration": 31,
    "start_time": "2022-03-24T11:44:32.545Z"
   },
   {
    "duration": 16,
    "start_time": "2022-03-24T11:44:32.577Z"
   },
   {
    "duration": 49,
    "start_time": "2022-03-24T11:44:32.595Z"
   },
   {
    "duration": 7,
    "start_time": "2022-03-24T11:44:32.646Z"
   },
   {
    "duration": 90,
    "start_time": "2022-03-24T11:44:32.655Z"
   },
   {
    "duration": 34,
    "start_time": "2022-03-24T11:44:32.746Z"
   },
   {
    "duration": 53,
    "start_time": "2022-03-24T11:44:32.782Z"
   },
   {
    "duration": 80,
    "start_time": "2022-03-24T11:44:32.837Z"
   },
   {
    "duration": 54,
    "start_time": "2022-03-24T11:44:41.890Z"
   },
   {
    "duration": 18,
    "start_time": "2022-03-24T11:44:42.668Z"
   },
   {
    "duration": 56,
    "start_time": "2022-03-24T11:44:54.123Z"
   },
   {
    "duration": 157,
    "start_time": "2022-03-24T11:46:52.113Z"
   },
   {
    "duration": 53,
    "start_time": "2022-03-24T11:46:55.921Z"
   },
   {
    "duration": 73,
    "start_time": "2022-03-24T11:47:07.954Z"
   },
   {
    "duration": 30,
    "start_time": "2022-03-24T11:47:08.395Z"
   },
   {
    "duration": 35,
    "start_time": "2022-03-24T11:47:08.754Z"
   },
   {
    "duration": 135,
    "start_time": "2022-03-24T11:47:15.586Z"
   },
   {
    "duration": 15,
    "start_time": "2022-03-24T11:47:18.706Z"
   },
   {
    "duration": 21,
    "start_time": "2022-03-24T11:47:35.913Z"
   },
   {
    "duration": 4,
    "start_time": "2022-03-24T11:48:24.130Z"
   },
   {
    "duration": 4,
    "start_time": "2022-03-24T11:48:38.994Z"
   },
   {
    "duration": 4,
    "start_time": "2022-03-24T11:48:59.251Z"
   },
   {
    "duration": 56,
    "start_time": "2022-03-24T11:50:04.546Z"
   },
   {
    "duration": 135,
    "start_time": "2022-03-24T11:50:20.768Z"
   },
   {
    "duration": 20,
    "start_time": "2022-03-24T11:50:46.409Z"
   },
   {
    "duration": 549,
    "start_time": "2022-03-24T11:51:30.306Z"
   },
   {
    "duration": 5,
    "start_time": "2022-03-24T11:53:54.865Z"
   },
   {
    "duration": 18,
    "start_time": "2022-03-24T11:53:59.002Z"
   },
   {
    "duration": 341,
    "start_time": "2022-03-24T11:54:56.848Z"
   },
   {
    "duration": 137,
    "start_time": "2022-03-24T11:56:22.592Z"
   },
   {
    "duration": 4,
    "start_time": "2022-03-24T11:58:00.496Z"
   },
   {
    "duration": 3,
    "start_time": "2022-03-24T11:59:23.760Z"
   },
   {
    "duration": 539,
    "start_time": "2022-03-24T12:00:05.504Z"
   },
   {
    "duration": 3,
    "start_time": "2022-03-24T12:00:46.576Z"
   },
   {
    "duration": 5,
    "start_time": "2022-03-24T12:00:47.072Z"
   },
   {
    "duration": 18,
    "start_time": "2022-03-24T12:00:55.008Z"
   },
   {
    "duration": 3,
    "start_time": "2022-03-24T12:01:13.858Z"
   },
   {
    "duration": 487,
    "start_time": "2022-03-24T12:01:13.864Z"
   },
   {
    "duration": 35,
    "start_time": "2022-03-24T12:01:14.352Z"
   },
   {
    "duration": 29,
    "start_time": "2022-03-24T12:01:14.389Z"
   },
   {
    "duration": 35,
    "start_time": "2022-03-24T12:01:14.420Z"
   },
   {
    "duration": 17,
    "start_time": "2022-03-24T12:01:14.457Z"
   },
   {
    "duration": 19,
    "start_time": "2022-03-24T12:01:14.475Z"
   },
   {
    "duration": 37,
    "start_time": "2022-03-24T12:01:14.496Z"
   },
   {
    "duration": 95,
    "start_time": "2022-03-24T12:01:14.535Z"
   },
   {
    "duration": 67,
    "start_time": "2022-03-24T12:01:14.633Z"
   },
   {
    "duration": 69,
    "start_time": "2022-03-24T12:01:14.702Z"
   },
   {
    "duration": 135,
    "start_time": "2022-03-24T12:01:14.773Z"
   },
   {
    "duration": 86,
    "start_time": "2022-03-24T12:01:14.910Z"
   },
   {
    "duration": 72,
    "start_time": "2022-03-24T12:01:14.999Z"
   },
   {
    "duration": 8,
    "start_time": "2022-03-24T12:01:15.073Z"
   },
   {
    "duration": 12,
    "start_time": "2022-03-24T12:01:15.083Z"
   },
   {
    "duration": 51,
    "start_time": "2022-03-24T12:01:15.097Z"
   },
   {
    "duration": 31,
    "start_time": "2022-03-24T12:01:15.150Z"
   },
   {
    "duration": 17,
    "start_time": "2022-03-24T12:01:15.183Z"
   },
   {
    "duration": 49,
    "start_time": "2022-03-24T12:01:15.201Z"
   },
   {
    "duration": 9,
    "start_time": "2022-03-24T12:01:15.252Z"
   },
   {
    "duration": 105,
    "start_time": "2022-03-24T12:01:15.263Z"
   },
   {
    "duration": 35,
    "start_time": "2022-03-24T12:01:15.370Z"
   },
   {
    "duration": 57,
    "start_time": "2022-03-24T12:01:15.407Z"
   },
   {
    "duration": 182,
    "start_time": "2022-03-24T12:01:15.466Z"
   },
   {
    "duration": 4,
    "start_time": "2022-03-24T12:01:20.431Z"
   },
   {
    "duration": 5,
    "start_time": "2022-03-24T12:01:22.399Z"
   },
   {
    "duration": 20,
    "start_time": "2022-03-24T12:01:23.415Z"
   },
   {
    "duration": 3,
    "start_time": "2022-03-24T12:01:35.681Z"
   },
   {
    "duration": 454,
    "start_time": "2022-03-24T12:01:35.687Z"
   },
   {
    "duration": 34,
    "start_time": "2022-03-24T12:01:36.144Z"
   },
   {
    "duration": 35,
    "start_time": "2022-03-24T12:01:36.180Z"
   },
   {
    "duration": 26,
    "start_time": "2022-03-24T12:01:36.233Z"
   },
   {
    "duration": 17,
    "start_time": "2022-03-24T12:01:36.261Z"
   },
   {
    "duration": 52,
    "start_time": "2022-03-24T12:01:36.280Z"
   },
   {
    "duration": 6,
    "start_time": "2022-03-24T12:01:36.334Z"
   },
   {
    "duration": 95,
    "start_time": "2022-03-24T12:01:36.342Z"
   },
   {
    "duration": 61,
    "start_time": "2022-03-24T12:01:36.439Z"
   },
   {
    "duration": 70,
    "start_time": "2022-03-24T12:01:36.503Z"
   },
   {
    "duration": 121,
    "start_time": "2022-03-24T12:01:36.575Z"
   },
   {
    "duration": 79,
    "start_time": "2022-03-24T12:01:36.698Z"
   },
   {
    "duration": 65,
    "start_time": "2022-03-24T12:01:36.779Z"
   },
   {
    "duration": 7,
    "start_time": "2022-03-24T12:01:36.847Z"
   },
   {
    "duration": 12,
    "start_time": "2022-03-24T12:01:36.856Z"
   },
   {
    "duration": 32,
    "start_time": "2022-03-24T12:01:36.870Z"
   },
   {
    "duration": 55,
    "start_time": "2022-03-24T12:01:36.904Z"
   },
   {
    "duration": 19,
    "start_time": "2022-03-24T12:01:36.961Z"
   },
   {
    "duration": 18,
    "start_time": "2022-03-24T12:01:36.981Z"
   },
   {
    "duration": 32,
    "start_time": "2022-03-24T12:01:37.000Z"
   },
   {
    "duration": 62,
    "start_time": "2022-03-24T12:01:37.033Z"
   },
   {
    "duration": 46,
    "start_time": "2022-03-24T12:01:37.097Z"
   },
   {
    "duration": 34,
    "start_time": "2022-03-24T12:01:37.145Z"
   },
   {
    "duration": 3,
    "start_time": "2022-03-24T12:02:00.569Z"
   },
   {
    "duration": 6,
    "start_time": "2022-03-24T12:02:00.984Z"
   },
   {
    "duration": 21,
    "start_time": "2022-03-24T12:02:01.255Z"
   },
   {
    "duration": 3,
    "start_time": "2022-03-24T12:03:48.751Z"
   },
   {
    "duration": 5,
    "start_time": "2022-03-24T12:03:49.616Z"
   },
   {
    "duration": 20,
    "start_time": "2022-03-24T12:03:49.903Z"
   },
   {
    "duration": 3,
    "start_time": "2022-03-24T12:03:53.623Z"
   },
   {
    "duration": 451,
    "start_time": "2022-03-24T12:03:53.628Z"
   },
   {
    "duration": 31,
    "start_time": "2022-03-24T12:03:54.081Z"
   },
   {
    "duration": 28,
    "start_time": "2022-03-24T12:03:54.114Z"
   },
   {
    "duration": 24,
    "start_time": "2022-03-24T12:03:54.144Z"
   },
   {
    "duration": 16,
    "start_time": "2022-03-24T12:03:54.170Z"
   },
   {
    "duration": 19,
    "start_time": "2022-03-24T12:03:54.187Z"
   },
   {
    "duration": 4,
    "start_time": "2022-03-24T12:03:54.232Z"
   },
   {
    "duration": 82,
    "start_time": "2022-03-24T12:03:54.238Z"
   },
   {
    "duration": 67,
    "start_time": "2022-03-24T12:03:54.322Z"
   },
   {
    "duration": 69,
    "start_time": "2022-03-24T12:03:54.391Z"
   },
   {
    "duration": 121,
    "start_time": "2022-03-24T12:03:54.461Z"
   },
   {
    "duration": 75,
    "start_time": "2022-03-24T12:03:54.584Z"
   },
   {
    "duration": 49,
    "start_time": "2022-03-24T12:03:54.662Z"
   },
   {
    "duration": 25,
    "start_time": "2022-03-24T12:03:54.712Z"
   },
   {
    "duration": 13,
    "start_time": "2022-03-24T12:03:54.738Z"
   },
   {
    "duration": 34,
    "start_time": "2022-03-24T12:03:54.752Z"
   },
   {
    "duration": 48,
    "start_time": "2022-03-24T12:03:54.787Z"
   },
   {
    "duration": 16,
    "start_time": "2022-03-24T12:03:54.836Z"
   },
   {
    "duration": 20,
    "start_time": "2022-03-24T12:03:54.854Z"
   },
   {
    "duration": 7,
    "start_time": "2022-03-24T12:03:54.876Z"
   },
   {
    "duration": 93,
    "start_time": "2022-03-24T12:03:54.884Z"
   },
   {
    "duration": 32,
    "start_time": "2022-03-24T12:03:54.978Z"
   },
   {
    "duration": 48,
    "start_time": "2022-03-24T12:03:55.012Z"
   },
   {
    "duration": 83,
    "start_time": "2022-03-24T12:03:55.062Z"
   },
   {
    "duration": 21,
    "start_time": "2022-03-24T12:03:56.562Z"
   },
   {
    "duration": 3,
    "start_time": "2022-03-24T12:03:59.158Z"
   },
   {
    "duration": 5,
    "start_time": "2022-03-24T12:04:00.574Z"
   },
   {
    "duration": 19,
    "start_time": "2022-03-24T12:04:01.006Z"
   },
   {
    "duration": 3,
    "start_time": "2022-03-24T12:04:13.225Z"
   },
   {
    "duration": 428,
    "start_time": "2022-03-24T12:04:13.231Z"
   },
   {
    "duration": 33,
    "start_time": "2022-03-24T12:04:13.661Z"
   },
   {
    "duration": 29,
    "start_time": "2022-03-24T12:04:13.696Z"
   },
   {
    "duration": 25,
    "start_time": "2022-03-24T12:04:13.728Z"
   },
   {
    "duration": 18,
    "start_time": "2022-03-24T12:04:13.755Z"
   },
   {
    "duration": 20,
    "start_time": "2022-03-24T12:04:13.774Z"
   },
   {
    "duration": 35,
    "start_time": "2022-03-24T12:04:13.796Z"
   },
   {
    "duration": 78,
    "start_time": "2022-03-24T12:04:13.833Z"
   },
   {
    "duration": 66,
    "start_time": "2022-03-24T12:04:13.913Z"
   },
   {
    "duration": 69,
    "start_time": "2022-03-24T12:04:13.981Z"
   },
   {
    "duration": 100,
    "start_time": "2022-03-24T12:04:14.053Z"
   },
   {
    "duration": 61,
    "start_time": "2022-03-24T12:04:14.155Z"
   },
   {
    "duration": 52,
    "start_time": "2022-03-24T12:04:14.233Z"
   },
   {
    "duration": 6,
    "start_time": "2022-03-24T12:04:14.287Z"
   },
   {
    "duration": 10,
    "start_time": "2022-03-24T12:04:14.295Z"
   },
   {
    "duration": 53,
    "start_time": "2022-03-24T12:04:14.307Z"
   },
   {
    "duration": 32,
    "start_time": "2022-03-24T12:04:14.362Z"
   },
   {
    "duration": 37,
    "start_time": "2022-03-24T12:04:14.395Z"
   },
   {
    "duration": 18,
    "start_time": "2022-03-24T12:04:14.434Z"
   },
   {
    "duration": 8,
    "start_time": "2022-03-24T12:04:14.453Z"
   },
   {
    "duration": 81,
    "start_time": "2022-03-24T12:04:14.463Z"
   },
   {
    "duration": 32,
    "start_time": "2022-03-24T12:04:14.546Z"
   },
   {
    "duration": 33,
    "start_time": "2022-03-24T12:04:14.580Z"
   },
   {
    "duration": 94,
    "start_time": "2022-03-24T12:04:14.614Z"
   },
   {
    "duration": 3,
    "start_time": "2022-03-24T12:04:16.662Z"
   },
   {
    "duration": 20,
    "start_time": "2022-03-24T12:04:19.151Z"
   },
   {
    "duration": 6,
    "start_time": "2022-03-24T12:04:30.190Z"
   },
   {
    "duration": 19,
    "start_time": "2022-03-24T12:04:30.606Z"
   },
   {
    "duration": 17,
    "start_time": "2022-03-24T12:05:18.574Z"
   },
   {
    "duration": 2,
    "start_time": "2022-03-24T12:07:00.766Z"
   },
   {
    "duration": 1072,
    "start_time": "2022-03-24T12:09:08.349Z"
   },
   {
    "duration": 143,
    "start_time": "2022-03-24T12:09:23.293Z"
   },
   {
    "duration": 9,
    "start_time": "2022-03-24T12:09:31.389Z"
   },
   {
    "duration": 16,
    "start_time": "2022-03-24T12:09:35.062Z"
   },
   {
    "duration": 3,
    "start_time": "2022-03-24T12:09:55.024Z"
   },
   {
    "duration": 440,
    "start_time": "2022-03-24T12:09:55.030Z"
   },
   {
    "duration": 32,
    "start_time": "2022-03-24T12:09:55.471Z"
   },
   {
    "duration": 29,
    "start_time": "2022-03-24T12:09:55.505Z"
   },
   {
    "duration": 26,
    "start_time": "2022-03-24T12:09:55.537Z"
   },
   {
    "duration": 16,
    "start_time": "2022-03-24T12:09:55.565Z"
   },
   {
    "duration": 19,
    "start_time": "2022-03-24T12:09:55.583Z"
   },
   {
    "duration": 30,
    "start_time": "2022-03-24T12:09:55.604Z"
   },
   {
    "duration": 78,
    "start_time": "2022-03-24T12:09:55.636Z"
   },
   {
    "duration": 69,
    "start_time": "2022-03-24T12:09:55.716Z"
   },
   {
    "duration": 74,
    "start_time": "2022-03-24T12:09:55.787Z"
   },
   {
    "duration": 106,
    "start_time": "2022-03-24T12:09:55.863Z"
   },
   {
    "duration": 75,
    "start_time": "2022-03-24T12:09:55.971Z"
   },
   {
    "duration": 51,
    "start_time": "2022-03-24T12:09:56.049Z"
   },
   {
    "duration": 7,
    "start_time": "2022-03-24T12:09:56.101Z"
   },
   {
    "duration": 29,
    "start_time": "2022-03-24T12:09:56.110Z"
   },
   {
    "duration": 30,
    "start_time": "2022-03-24T12:09:56.141Z"
   },
   {
    "duration": 32,
    "start_time": "2022-03-24T12:09:56.172Z"
   },
   {
    "duration": 43,
    "start_time": "2022-03-24T12:09:56.205Z"
   },
   {
    "duration": 18,
    "start_time": "2022-03-24T12:09:56.250Z"
   },
   {
    "duration": 7,
    "start_time": "2022-03-24T12:09:56.270Z"
   },
   {
    "duration": 97,
    "start_time": "2022-03-24T12:09:56.278Z"
   },
   {
    "duration": 33,
    "start_time": "2022-03-24T12:09:56.377Z"
   },
   {
    "duration": 17,
    "start_time": "2022-03-24T12:09:58.909Z"
   },
   {
    "duration": 3,
    "start_time": "2022-03-24T12:10:06.742Z"
   },
   {
    "duration": 429,
    "start_time": "2022-03-24T12:10:06.752Z"
   },
   {
    "duration": 33,
    "start_time": "2022-03-24T12:10:07.183Z"
   },
   {
    "duration": 31,
    "start_time": "2022-03-24T12:10:07.217Z"
   },
   {
    "duration": 27,
    "start_time": "2022-03-24T12:10:07.250Z"
   },
   {
    "duration": 17,
    "start_time": "2022-03-24T12:10:07.280Z"
   },
   {
    "duration": 46,
    "start_time": "2022-03-24T12:10:07.299Z"
   },
   {
    "duration": 4,
    "start_time": "2022-03-24T12:10:07.346Z"
   },
   {
    "duration": 89,
    "start_time": "2022-03-24T12:10:07.352Z"
   },
   {
    "duration": 57,
    "start_time": "2022-03-24T12:10:07.443Z"
   },
   {
    "duration": 73,
    "start_time": "2022-03-24T12:10:07.502Z"
   },
   {
    "duration": 122,
    "start_time": "2022-03-24T12:10:07.576Z"
   },
   {
    "duration": 75,
    "start_time": "2022-03-24T12:10:07.700Z"
   },
   {
    "duration": 63,
    "start_time": "2022-03-24T12:10:07.777Z"
   },
   {
    "duration": 7,
    "start_time": "2022-03-24T12:10:07.844Z"
   },
   {
    "duration": 16,
    "start_time": "2022-03-24T12:10:07.852Z"
   },
   {
    "duration": 32,
    "start_time": "2022-03-24T12:10:07.869Z"
   },
   {
    "duration": 50,
    "start_time": "2022-03-24T12:10:07.903Z"
   },
   {
    "duration": 17,
    "start_time": "2022-03-24T12:10:07.955Z"
   },
   {
    "duration": 18,
    "start_time": "2022-03-24T12:10:07.974Z"
   },
   {
    "duration": 38,
    "start_time": "2022-03-24T12:10:07.994Z"
   },
   {
    "duration": 64,
    "start_time": "2022-03-24T12:10:08.034Z"
   },
   {
    "duration": 46,
    "start_time": "2022-03-24T12:10:08.099Z"
   },
   {
    "duration": 56,
    "start_time": "2022-03-24T12:10:12.789Z"
   },
   {
    "duration": 32,
    "start_time": "2022-03-24T12:10:13.069Z"
   },
   {
    "duration": 35,
    "start_time": "2022-03-24T12:10:13.477Z"
   },
   {
    "duration": 17,
    "start_time": "2022-03-24T12:10:16.356Z"
   },
   {
    "duration": 3,
    "start_time": "2022-03-24T12:10:25.255Z"
   },
   {
    "duration": 411,
    "start_time": "2022-03-24T12:10:25.260Z"
   },
   {
    "duration": 31,
    "start_time": "2022-03-24T12:10:25.673Z"
   },
   {
    "duration": 29,
    "start_time": "2022-03-24T12:10:25.706Z"
   },
   {
    "duration": 24,
    "start_time": "2022-03-24T12:10:25.737Z"
   },
   {
    "duration": 17,
    "start_time": "2022-03-24T12:10:25.763Z"
   },
   {
    "duration": 20,
    "start_time": "2022-03-24T12:10:25.781Z"
   },
   {
    "duration": 36,
    "start_time": "2022-03-24T12:10:25.803Z"
   },
   {
    "duration": 78,
    "start_time": "2022-03-24T12:10:25.842Z"
   },
   {
    "duration": 58,
    "start_time": "2022-03-24T12:10:25.922Z"
   },
   {
    "duration": 69,
    "start_time": "2022-03-24T12:10:25.982Z"
   },
   {
    "duration": 103,
    "start_time": "2022-03-24T12:10:26.052Z"
   },
   {
    "duration": 63,
    "start_time": "2022-03-24T12:10:26.156Z"
   },
   {
    "duration": 51,
    "start_time": "2022-03-24T12:10:26.232Z"
   },
   {
    "duration": 7,
    "start_time": "2022-03-24T12:10:26.285Z"
   },
   {
    "duration": 9,
    "start_time": "2022-03-24T12:10:26.293Z"
   },
   {
    "duration": 50,
    "start_time": "2022-03-24T12:10:26.304Z"
   },
   {
    "duration": 30,
    "start_time": "2022-03-24T12:10:26.356Z"
   },
   {
    "duration": 46,
    "start_time": "2022-03-24T12:10:26.388Z"
   },
   {
    "duration": 20,
    "start_time": "2022-03-24T12:10:26.436Z"
   },
   {
    "duration": 9,
    "start_time": "2022-03-24T12:10:26.458Z"
   },
   {
    "duration": 60,
    "start_time": "2022-03-24T12:10:28.645Z"
   },
   {
    "duration": 32,
    "start_time": "2022-03-24T12:10:29.653Z"
   },
   {
    "duration": 35,
    "start_time": "2022-03-24T12:10:30.869Z"
   },
   {
    "duration": 16,
    "start_time": "2022-03-24T12:10:37.965Z"
   },
   {
    "duration": 138,
    "start_time": "2022-03-24T12:10:54.853Z"
   },
   {
    "duration": 21,
    "start_time": "2022-03-24T12:10:56.997Z"
   },
   {
    "duration": 19,
    "start_time": "2022-03-24T12:11:07.149Z"
   },
   {
    "duration": 3,
    "start_time": "2022-03-24T12:11:19.389Z"
   },
   {
    "duration": 5,
    "start_time": "2022-03-24T12:11:19.893Z"
   },
   {
    "duration": 19,
    "start_time": "2022-03-24T12:11:21.845Z"
   },
   {
    "duration": 9,
    "start_time": "2022-03-24T12:12:50.733Z"
   },
   {
    "duration": 8,
    "start_time": "2022-03-24T12:12:54.719Z"
   },
   {
    "duration": 9,
    "start_time": "2022-03-24T12:13:16.512Z"
   },
   {
    "duration": 53,
    "start_time": "2022-03-24T12:13:28.124Z"
   },
   {
    "duration": 12,
    "start_time": "2022-03-24T12:14:53.004Z"
   },
   {
    "duration": 13,
    "start_time": "2022-03-24T12:15:35.636Z"
   },
   {
    "duration": 19,
    "start_time": "2022-03-24T12:15:59.787Z"
   },
   {
    "duration": 20,
    "start_time": "2022-03-24T12:17:04.790Z"
   },
   {
    "duration": 15,
    "start_time": "2022-03-24T12:19:20.533Z"
   },
   {
    "duration": 19,
    "start_time": "2022-03-24T12:19:34.643Z"
   },
   {
    "duration": 5,
    "start_time": "2022-03-24T12:19:45.611Z"
   },
   {
    "duration": 8,
    "start_time": "2022-03-24T12:19:49.283Z"
   },
   {
    "duration": 18,
    "start_time": "2022-03-24T12:20:05.211Z"
   },
   {
    "duration": 8,
    "start_time": "2022-03-24T12:21:12.707Z"
   },
   {
    "duration": 10,
    "start_time": "2022-03-24T12:23:10.772Z"
   },
   {
    "duration": 17,
    "start_time": "2022-03-24T12:23:54.538Z"
   },
   {
    "duration": 2,
    "start_time": "2022-03-24T12:31:36.340Z"
   },
   {
    "duration": 475,
    "start_time": "2022-03-24T12:31:36.345Z"
   },
   {
    "duration": 32,
    "start_time": "2022-03-24T12:31:36.822Z"
   },
   {
    "duration": 29,
    "start_time": "2022-03-24T12:31:36.856Z"
   },
   {
    "duration": 45,
    "start_time": "2022-03-24T12:31:36.887Z"
   },
   {
    "duration": 18,
    "start_time": "2022-03-24T12:31:36.934Z"
   },
   {
    "duration": 25,
    "start_time": "2022-03-24T12:31:36.953Z"
   },
   {
    "duration": 3,
    "start_time": "2022-03-24T12:31:36.980Z"
   },
   {
    "duration": 108,
    "start_time": "2022-03-24T12:31:36.985Z"
   },
   {
    "duration": 62,
    "start_time": "2022-03-24T12:31:37.095Z"
   },
   {
    "duration": 56,
    "start_time": "2022-03-24T12:31:37.159Z"
   },
   {
    "duration": 109,
    "start_time": "2022-03-24T12:31:37.232Z"
   },
   {
    "duration": 68,
    "start_time": "2022-03-24T12:31:37.343Z"
   },
   {
    "duration": 50,
    "start_time": "2022-03-24T12:31:37.431Z"
   },
   {
    "duration": 7,
    "start_time": "2022-03-24T12:31:37.482Z"
   },
   {
    "duration": 13,
    "start_time": "2022-03-24T12:31:37.491Z"
   },
   {
    "duration": 49,
    "start_time": "2022-03-24T12:31:37.506Z"
   },
   {
    "duration": 31,
    "start_time": "2022-03-24T12:31:37.556Z"
   },
   {
    "duration": 17,
    "start_time": "2022-03-24T12:31:37.588Z"
   },
   {
    "duration": 41,
    "start_time": "2022-03-24T12:31:37.606Z"
   },
   {
    "duration": 7,
    "start_time": "2022-03-24T12:31:37.649Z"
   },
   {
    "duration": 97,
    "start_time": "2022-03-24T12:31:37.658Z"
   },
   {
    "duration": 34,
    "start_time": "2022-03-24T12:31:37.757Z"
   },
   {
    "duration": 53,
    "start_time": "2022-03-24T12:31:37.792Z"
   },
   {
    "duration": 19,
    "start_time": "2022-03-24T12:31:41.049Z"
   },
   {
    "duration": 18,
    "start_time": "2022-03-24T12:34:27.073Z"
   },
   {
    "duration": 83,
    "start_time": "2022-03-24T12:34:37.976Z"
   },
   {
    "duration": 19,
    "start_time": "2022-03-24T12:34:40.753Z"
   },
   {
    "duration": 5,
    "start_time": "2022-03-24T12:35:14.432Z"
   },
   {
    "duration": 8,
    "start_time": "2022-03-24T12:35:17.840Z"
   },
   {
    "duration": 18,
    "start_time": "2022-03-24T12:35:20.065Z"
   },
   {
    "duration": 8,
    "start_time": "2022-03-24T12:38:55.528Z"
   },
   {
    "duration": 23,
    "start_time": "2022-03-24T12:38:55.896Z"
   },
   {
    "duration": 12,
    "start_time": "2022-03-24T12:42:01.050Z"
   },
   {
    "duration": 12,
    "start_time": "2022-03-24T12:42:12.056Z"
   },
   {
    "duration": 2135,
    "start_time": "2022-03-24T12:42:18.520Z"
   },
   {
    "duration": 2350,
    "start_time": "2022-03-24T12:42:31.943Z"
   },
   {
    "duration": 9,
    "start_time": "2022-03-24T12:42:47.399Z"
   },
   {
    "duration": 9,
    "start_time": "2022-03-24T12:42:52.472Z"
   },
   {
    "duration": 6,
    "start_time": "2022-03-24T12:43:04.664Z"
   },
   {
    "duration": 5,
    "start_time": "2022-03-24T12:43:57.867Z"
   },
   {
    "duration": 4,
    "start_time": "2022-03-24T12:44:02.950Z"
   },
   {
    "duration": 4,
    "start_time": "2022-03-24T12:45:47.751Z"
   },
   {
    "duration": 4,
    "start_time": "2022-03-24T12:45:56.415Z"
   },
   {
    "duration": 9,
    "start_time": "2022-03-24T12:46:14.134Z"
   },
   {
    "duration": 2149,
    "start_time": "2022-03-24T12:46:25.136Z"
   },
   {
    "duration": 5,
    "start_time": "2022-03-24T12:46:29.110Z"
   },
   {
    "duration": 3,
    "start_time": "2022-03-24T12:46:38.791Z"
   },
   {
    "duration": 5,
    "start_time": "2022-03-24T12:51:13.231Z"
   },
   {
    "duration": 23,
    "start_time": "2022-03-24T12:51:17.110Z"
   },
   {
    "duration": 3,
    "start_time": "2022-03-24T12:51:34.064Z"
   },
   {
    "duration": 4888,
    "start_time": "2022-03-24T12:51:34.070Z"
   },
   {
    "duration": 34,
    "start_time": "2022-03-24T12:51:38.960Z"
   },
   {
    "duration": 31,
    "start_time": "2022-03-24T12:51:38.996Z"
   },
   {
    "duration": 26,
    "start_time": "2022-03-24T12:51:39.030Z"
   },
   {
    "duration": 17,
    "start_time": "2022-03-24T12:51:39.058Z"
   },
   {
    "duration": 19,
    "start_time": "2022-03-24T12:51:39.077Z"
   },
   {
    "duration": 35,
    "start_time": "2022-03-24T12:51:39.098Z"
   },
   {
    "duration": 84,
    "start_time": "2022-03-24T12:51:39.135Z"
   },
   {
    "duration": 68,
    "start_time": "2022-03-24T12:51:39.221Z"
   },
   {
    "duration": 70,
    "start_time": "2022-03-24T12:51:39.292Z"
   },
   {
    "duration": 115,
    "start_time": "2022-03-24T12:51:39.364Z"
   },
   {
    "duration": 79,
    "start_time": "2022-03-24T12:51:39.481Z"
   },
   {
    "duration": 53,
    "start_time": "2022-03-24T12:51:39.563Z"
   },
   {
    "duration": 7,
    "start_time": "2022-03-24T12:51:39.632Z"
   },
   {
    "duration": 14,
    "start_time": "2022-03-24T12:51:39.641Z"
   },
   {
    "duration": 33,
    "start_time": "2022-03-24T12:51:39.657Z"
   },
   {
    "duration": 57,
    "start_time": "2022-03-24T12:51:39.693Z"
   },
   {
    "duration": 15,
    "start_time": "2022-03-24T12:51:39.752Z"
   },
   {
    "duration": 26,
    "start_time": "2022-03-24T12:51:39.769Z"
   },
   {
    "duration": 7,
    "start_time": "2022-03-24T12:51:39.797Z"
   },
   {
    "duration": 85,
    "start_time": "2022-03-24T12:51:39.805Z"
   },
   {
    "duration": 41,
    "start_time": "2022-03-24T12:51:39.892Z"
   },
   {
    "duration": 35,
    "start_time": "2022-03-24T12:51:39.935Z"
   },
   {
    "duration": 165,
    "start_time": "2022-03-24T12:51:39.972Z"
   },
   {
    "duration": 4,
    "start_time": "2022-03-24T12:51:40.139Z"
   },
   {
    "duration": 7,
    "start_time": "2022-03-24T12:51:40.145Z"
   },
   {
    "duration": 4,
    "start_time": "2022-03-24T12:51:40.154Z"
   },
   {
    "duration": 12,
    "start_time": "2022-03-24T12:51:40.160Z"
   },
   {
    "duration": 10,
    "start_time": "2022-03-24T12:51:40.174Z"
   },
   {
    "duration": 6,
    "start_time": "2022-03-24T12:51:40.186Z"
   },
   {
    "duration": 5,
    "start_time": "2022-03-24T12:51:43.836Z"
   },
   {
    "duration": 17,
    "start_time": "2022-03-24T12:51:45.246Z"
   },
   {
    "duration": 2190,
    "start_time": "2022-03-24T12:52:22.774Z"
   },
   {
    "duration": 16,
    "start_time": "2022-03-24T12:53:41.823Z"
   },
   {
    "duration": 8,
    "start_time": "2022-03-24T12:53:54.406Z"
   },
   {
    "duration": 18,
    "start_time": "2022-03-24T12:53:58.581Z"
   },
   {
    "duration": 5,
    "start_time": "2022-03-24T12:54:05.373Z"
   },
   {
    "duration": 748,
    "start_time": "2022-03-24T12:54:07.510Z"
   },
   {
    "duration": 23,
    "start_time": "2022-03-24T12:54:10.909Z"
   },
   {
    "duration": 4,
    "start_time": "2022-03-24T12:54:29.575Z"
   },
   {
    "duration": 5,
    "start_time": "2022-03-24T12:57:00.277Z"
   },
   {
    "duration": 20,
    "start_time": "2022-03-24T12:57:00.917Z"
   },
   {
    "duration": 138,
    "start_time": "2022-03-24T12:57:06.549Z"
   },
   {
    "duration": 20,
    "start_time": "2022-03-24T12:57:07.765Z"
   },
   {
    "duration": 5,
    "start_time": "2022-03-24T12:57:30.549Z"
   },
   {
    "duration": 140,
    "start_time": "2022-03-24T12:57:33.668Z"
   },
   {
    "duration": 20,
    "start_time": "2022-03-24T12:57:35.596Z"
   },
   {
    "duration": 6,
    "start_time": "2022-03-24T12:58:49.997Z"
   },
   {
    "duration": 2282,
    "start_time": "2022-03-24T12:58:53.591Z"
   },
   {
    "duration": 0,
    "start_time": "2022-03-24T12:58:55.875Z"
   },
   {
    "duration": 7,
    "start_time": "2022-03-24T12:59:34.325Z"
   },
   {
    "duration": 2169,
    "start_time": "2022-03-24T12:59:37.485Z"
   },
   {
    "duration": 4,
    "start_time": "2022-03-24T12:59:48.805Z"
   },
   {
    "duration": 6,
    "start_time": "2022-03-24T12:59:48.992Z"
   },
   {
    "duration": 8,
    "start_time": "2022-03-24T13:00:11.316Z"
   },
   {
    "duration": 2189,
    "start_time": "2022-03-24T13:00:15.044Z"
   },
   {
    "duration": 7,
    "start_time": "2022-03-24T13:01:13.044Z"
   },
   {
    "duration": 6,
    "start_time": "2022-03-24T13:01:54.373Z"
   },
   {
    "duration": 8,
    "start_time": "2022-03-24T13:01:54.796Z"
   },
   {
    "duration": 5,
    "start_time": "2022-03-24T13:01:57.739Z"
   },
   {
    "duration": 2193,
    "start_time": "2022-03-24T13:01:58.428Z"
   },
   {
    "duration": 5,
    "start_time": "2022-03-24T13:02:10.340Z"
   },
   {
    "duration": 137,
    "start_time": "2022-03-24T13:02:13.502Z"
   },
   {
    "duration": 20,
    "start_time": "2022-03-24T13:02:25.332Z"
   },
   {
    "duration": 6,
    "start_time": "2022-03-24T13:04:53.356Z"
   },
   {
    "duration": 4140,
    "start_time": "2022-03-24T13:04:58.532Z"
   },
   {
    "duration": 0,
    "start_time": "2022-03-24T13:05:02.674Z"
   },
   {
    "duration": 20,
    "start_time": "2022-03-24T13:11:06.450Z"
   },
   {
    "duration": 5,
    "start_time": "2022-03-24T13:11:34.274Z"
   },
   {
    "duration": 5,
    "start_time": "2022-03-24T13:11:41.842Z"
   },
   {
    "duration": 7,
    "start_time": "2022-03-24T13:12:05.010Z"
   },
   {
    "duration": 4,
    "start_time": "2022-03-24T13:12:34.794Z"
   },
   {
    "duration": 2135,
    "start_time": "2022-03-24T13:12:40.698Z"
   },
   {
    "duration": 7,
    "start_time": "2022-03-24T13:13:14.818Z"
   },
   {
    "duration": 19,
    "start_time": "2022-03-24T13:14:00.586Z"
   },
   {
    "duration": 5,
    "start_time": "2022-03-24T13:14:08.882Z"
   },
   {
    "duration": 2122,
    "start_time": "2022-03-24T13:14:12.394Z"
   },
   {
    "duration": 3,
    "start_time": "2022-03-24T13:16:45.860Z"
   },
   {
    "duration": 471,
    "start_time": "2022-03-24T13:16:45.865Z"
   },
   {
    "duration": 33,
    "start_time": "2022-03-24T13:16:46.337Z"
   },
   {
    "duration": 30,
    "start_time": "2022-03-24T13:16:46.371Z"
   },
   {
    "duration": 45,
    "start_time": "2022-03-24T13:16:46.403Z"
   },
   {
    "duration": 17,
    "start_time": "2022-03-24T13:16:46.450Z"
   },
   {
    "duration": 18,
    "start_time": "2022-03-24T13:16:46.469Z"
   },
   {
    "duration": 4,
    "start_time": "2022-03-24T13:16:46.490Z"
   },
   {
    "duration": 109,
    "start_time": "2022-03-24T13:16:46.496Z"
   },
   {
    "duration": 66,
    "start_time": "2022-03-24T13:16:46.607Z"
   },
   {
    "duration": 74,
    "start_time": "2022-03-24T13:16:46.675Z"
   },
   {
    "duration": 111,
    "start_time": "2022-03-24T13:16:46.751Z"
   },
   {
    "duration": 94,
    "start_time": "2022-03-24T13:16:46.864Z"
   },
   {
    "duration": 56,
    "start_time": "2022-03-24T13:16:46.961Z"
   },
   {
    "duration": 7,
    "start_time": "2022-03-24T13:16:47.031Z"
   },
   {
    "duration": 16,
    "start_time": "2022-03-24T13:16:47.040Z"
   },
   {
    "duration": 41,
    "start_time": "2022-03-24T13:16:47.058Z"
   },
   {
    "duration": 44,
    "start_time": "2022-03-24T13:16:47.101Z"
   },
   {
    "duration": 17,
    "start_time": "2022-03-24T13:16:47.146Z"
   },
   {
    "duration": 30,
    "start_time": "2022-03-24T13:16:47.165Z"
   },
   {
    "duration": 15,
    "start_time": "2022-03-24T13:16:47.197Z"
   },
   {
    "duration": 85,
    "start_time": "2022-03-24T13:16:47.214Z"
   },
   {
    "duration": 34,
    "start_time": "2022-03-24T13:16:47.300Z"
   },
   {
    "duration": 36,
    "start_time": "2022-03-24T13:16:47.335Z"
   },
   {
    "duration": 169,
    "start_time": "2022-03-24T13:16:47.372Z"
   },
   {
    "duration": 5,
    "start_time": "2022-03-24T13:16:47.543Z"
   },
   {
    "duration": 20,
    "start_time": "2022-03-24T13:16:47.549Z"
   },
   {
    "duration": 15,
    "start_time": "2022-03-24T13:16:47.571Z"
   },
   {
    "duration": 32,
    "start_time": "2022-03-24T13:16:47.588Z"
   },
   {
    "duration": 4,
    "start_time": "2022-03-24T13:16:51.018Z"
   },
   {
    "duration": 6,
    "start_time": "2022-03-24T13:16:51.489Z"
   },
   {
    "duration": 7,
    "start_time": "2022-03-24T13:17:03.153Z"
   },
   {
    "duration": 9,
    "start_time": "2022-03-24T13:17:04.989Z"
   },
   {
    "duration": 2308,
    "start_time": "2022-03-24T13:17:08.458Z"
   },
   {
    "duration": 4,
    "start_time": "2022-03-24T13:17:16.033Z"
   },
   {
    "duration": 2213,
    "start_time": "2022-03-24T13:17:19.584Z"
   },
   {
    "duration": 2129,
    "start_time": "2022-03-24T13:18:09.193Z"
   },
   {
    "duration": 4,
    "start_time": "2022-03-24T13:18:47.675Z"
   },
   {
    "duration": 4,
    "start_time": "2022-03-24T13:18:58.464Z"
   },
   {
    "duration": 7,
    "start_time": "2022-03-24T13:19:32.785Z"
   },
   {
    "duration": 180,
    "start_time": "2022-03-24T13:19:35.358Z"
   },
   {
    "duration": 21,
    "start_time": "2022-03-24T13:19:54.369Z"
   },
   {
    "duration": 10,
    "start_time": "2022-03-24T13:25:27.031Z"
   },
   {
    "duration": 4,
    "start_time": "2022-03-24T13:27:42.841Z"
   },
   {
    "duration": 9,
    "start_time": "2022-03-24T13:28:39.777Z"
   },
   {
    "duration": 9,
    "start_time": "2022-03-24T13:29:31.202Z"
   },
   {
    "duration": 9,
    "start_time": "2022-03-24T13:29:42.134Z"
   },
   {
    "duration": 8,
    "start_time": "2022-03-24T13:30:01.002Z"
   },
   {
    "duration": 8,
    "start_time": "2022-03-24T13:30:12.905Z"
   },
   {
    "duration": 3,
    "start_time": "2022-03-24T13:32:43.391Z"
   },
   {
    "duration": 2,
    "start_time": "2022-03-24T13:32:49.237Z"
   },
   {
    "duration": 451,
    "start_time": "2022-03-24T13:32:49.241Z"
   },
   {
    "duration": 33,
    "start_time": "2022-03-24T13:32:49.694Z"
   },
   {
    "duration": 30,
    "start_time": "2022-03-24T13:32:49.729Z"
   },
   {
    "duration": 24,
    "start_time": "2022-03-24T13:32:49.762Z"
   },
   {
    "duration": 17,
    "start_time": "2022-03-24T13:32:49.787Z"
   },
   {
    "duration": 45,
    "start_time": "2022-03-24T13:32:49.805Z"
   },
   {
    "duration": 4,
    "start_time": "2022-03-24T13:32:49.852Z"
   },
   {
    "duration": 100,
    "start_time": "2022-03-24T13:32:49.858Z"
   },
   {
    "duration": 73,
    "start_time": "2022-03-24T13:32:49.959Z"
   },
   {
    "duration": 58,
    "start_time": "2022-03-24T13:32:50.034Z"
   },
   {
    "duration": 131,
    "start_time": "2022-03-24T13:32:50.094Z"
   },
   {
    "duration": 66,
    "start_time": "2022-03-24T13:32:50.232Z"
   },
   {
    "duration": 65,
    "start_time": "2022-03-24T13:32:50.300Z"
   },
   {
    "duration": 7,
    "start_time": "2022-03-24T13:32:50.366Z"
   },
   {
    "duration": 10,
    "start_time": "2022-03-24T13:32:50.375Z"
   },
   {
    "duration": 51,
    "start_time": "2022-03-24T13:32:50.387Z"
   },
   {
    "duration": 30,
    "start_time": "2022-03-24T13:32:50.440Z"
   },
   {
    "duration": 15,
    "start_time": "2022-03-24T13:32:50.471Z"
   },
   {
    "duration": 46,
    "start_time": "2022-03-24T13:32:50.488Z"
   },
   {
    "duration": 9,
    "start_time": "2022-03-24T13:32:50.536Z"
   },
   {
    "duration": 85,
    "start_time": "2022-03-24T13:32:50.547Z"
   },
   {
    "duration": 33,
    "start_time": "2022-03-24T13:32:50.634Z"
   },
   {
    "duration": 38,
    "start_time": "2022-03-24T13:32:50.671Z"
   },
   {
    "duration": 181,
    "start_time": "2022-03-24T13:32:50.711Z"
   },
   {
    "duration": 9,
    "start_time": "2022-03-24T13:32:50.894Z"
   },
   {
    "duration": 8,
    "start_time": "2022-03-24T13:32:53.042Z"
   },
   {
    "duration": 5,
    "start_time": "2022-03-24T13:36:56.350Z"
   },
   {
    "duration": 9,
    "start_time": "2022-03-24T13:37:03.187Z"
   },
   {
    "duration": 5,
    "start_time": "2022-03-24T13:38:09.412Z"
   },
   {
    "duration": 25,
    "start_time": "2022-03-24T13:38:14.946Z"
   },
   {
    "duration": 5,
    "start_time": "2022-03-24T13:39:15.523Z"
   },
   {
    "duration": 23,
    "start_time": "2022-03-24T13:39:18.614Z"
   },
   {
    "duration": 12,
    "start_time": "2022-03-24T13:39:58.355Z"
   },
   {
    "duration": 10,
    "start_time": "2022-03-24T13:40:26.668Z"
   },
   {
    "duration": 10,
    "start_time": "2022-03-24T13:40:50.012Z"
   },
   {
    "duration": 11,
    "start_time": "2022-03-24T13:40:58.294Z"
   },
   {
    "duration": 4,
    "start_time": "2022-03-24T13:41:02.603Z"
   },
   {
    "duration": 7,
    "start_time": "2022-03-24T13:41:22.644Z"
   },
   {
    "duration": 182,
    "start_time": "2022-03-24T13:41:24.701Z"
   },
   {
    "duration": 19,
    "start_time": "2022-03-24T13:41:26.871Z"
   },
   {
    "duration": 13,
    "start_time": "2022-03-24T13:42:41.624Z"
   },
   {
    "duration": 155,
    "start_time": "2022-03-24T13:43:40.635Z"
   },
   {
    "duration": 1123,
    "start_time": "2022-03-25T11:07:27.467Z"
   },
   {
    "duration": 729,
    "start_time": "2022-03-25T11:07:28.593Z"
   },
   {
    "duration": 81,
    "start_time": "2022-03-25T11:07:29.325Z"
   },
   {
    "duration": 75,
    "start_time": "2022-03-25T11:07:29.409Z"
   },
   {
    "duration": 44,
    "start_time": "2022-03-25T11:07:29.489Z"
   },
   {
    "duration": 51,
    "start_time": "2022-03-25T11:07:29.535Z"
   },
   {
    "duration": 34,
    "start_time": "2022-03-25T11:07:29.588Z"
   },
   {
    "duration": 9,
    "start_time": "2022-03-25T11:07:29.625Z"
   },
   {
    "duration": 226,
    "start_time": "2022-03-25T11:07:29.636Z"
   },
   {
    "duration": 150,
    "start_time": "2022-03-25T11:07:29.866Z"
   },
   {
    "duration": 127,
    "start_time": "2022-03-25T11:07:30.019Z"
   },
   {
    "duration": 235,
    "start_time": "2022-03-25T11:07:30.149Z"
   },
   {
    "duration": 132,
    "start_time": "2022-03-25T11:07:30.387Z"
   },
   {
    "duration": 92,
    "start_time": "2022-03-25T11:07:30.523Z"
   },
   {
    "duration": 10,
    "start_time": "2022-03-25T11:07:30.617Z"
   },
   {
    "duration": 18,
    "start_time": "2022-03-25T11:07:30.629Z"
   },
   {
    "duration": 69,
    "start_time": "2022-03-25T11:07:30.650Z"
   },
   {
    "duration": 67,
    "start_time": "2022-03-25T11:07:30.722Z"
   },
   {
    "duration": 21,
    "start_time": "2022-03-25T11:07:30.792Z"
   },
   {
    "duration": 26,
    "start_time": "2022-03-25T11:07:30.815Z"
   },
   {
    "duration": 9,
    "start_time": "2022-03-25T11:07:30.883Z"
   },
   {
    "duration": 119,
    "start_time": "2022-03-25T11:07:30.895Z"
   },
   {
    "duration": 65,
    "start_time": "2022-03-25T11:07:31.017Z"
   },
   {
    "duration": 50,
    "start_time": "2022-03-25T11:07:31.085Z"
   },
   {
    "duration": 197,
    "start_time": "2022-03-25T11:07:31.137Z"
   },
   {
    "duration": 16,
    "start_time": "2022-03-25T11:07:31.336Z"
   },
   {
    "duration": 41,
    "start_time": "2022-03-25T11:07:31.355Z"
   },
   {
    "duration": 34,
    "start_time": "2022-03-25T11:07:31.400Z"
   },
   {
    "duration": 153,
    "start_time": "2022-03-25T11:07:31.437Z"
   },
   {
    "duration": 0,
    "start_time": "2022-03-25T11:07:31.592Z"
   },
   {
    "duration": 10,
    "start_time": "2022-03-25T11:08:07.378Z"
   },
   {
    "duration": 301,
    "start_time": "2022-03-25T11:08:08.948Z"
   },
   {
    "duration": 18,
    "start_time": "2022-03-25T11:08:10.736Z"
   },
   {
    "duration": 15,
    "start_time": "2022-03-25T11:13:02.009Z"
   },
   {
    "duration": 12,
    "start_time": "2022-03-25T11:13:58.565Z"
   },
   {
    "duration": 4,
    "start_time": "2022-03-25T11:14:02.874Z"
   },
   {
    "duration": 16,
    "start_time": "2022-03-25T11:21:27.958Z"
   },
   {
    "duration": 16,
    "start_time": "2022-03-25T11:21:34.819Z"
   },
   {
    "duration": 18,
    "start_time": "2022-03-25T11:22:33.313Z"
   },
   {
    "duration": 16,
    "start_time": "2022-03-25T11:22:33.524Z"
   },
   {
    "duration": 1937,
    "start_time": "2022-03-25T11:22:41.252Z"
   },
   {
    "duration": 18,
    "start_time": "2022-03-25T11:22:52.438Z"
   },
   {
    "duration": 7,
    "start_time": "2022-03-25T11:22:52.936Z"
   },
   {
    "duration": 17,
    "start_time": "2022-03-25T11:22:58.182Z"
   },
   {
    "duration": 1795,
    "start_time": "2022-03-25T11:22:58.354Z"
   },
   {
    "duration": 17,
    "start_time": "2022-03-25T11:23:11.156Z"
   },
   {
    "duration": 20,
    "start_time": "2022-03-25T11:23:53.670Z"
   },
   {
    "duration": 17,
    "start_time": "2022-03-25T11:23:54.211Z"
   },
   {
    "duration": 19,
    "start_time": "2022-03-25T11:24:57.651Z"
   },
   {
    "duration": 1806,
    "start_time": "2022-03-25T11:24:58.099Z"
   },
   {
    "duration": 1872,
    "start_time": "2022-03-25T11:26:22.868Z"
   },
   {
    "duration": 5,
    "start_time": "2022-03-25T11:31:57.683Z"
   },
   {
    "duration": 15,
    "start_time": "2022-03-25T11:32:04.227Z"
   },
   {
    "duration": 21,
    "start_time": "2022-03-25T11:32:16.115Z"
   },
   {
    "duration": 15,
    "start_time": "2022-03-25T11:32:17.923Z"
   },
   {
    "duration": 19,
    "start_time": "2022-03-25T11:32:31.458Z"
   },
   {
    "duration": 18,
    "start_time": "2022-03-25T11:32:31.796Z"
   },
   {
    "duration": 20,
    "start_time": "2022-03-25T11:34:52.738Z"
   },
   {
    "duration": 18,
    "start_time": "2022-03-25T11:34:58.074Z"
   },
   {
    "duration": 18,
    "start_time": "2022-03-25T11:39:33.060Z"
   },
   {
    "duration": 26,
    "start_time": "2022-03-25T11:39:33.593Z"
   },
   {
    "duration": 18,
    "start_time": "2022-03-25T11:39:42.819Z"
   },
   {
    "duration": 12,
    "start_time": "2022-03-25T11:42:33.411Z"
   },
   {
    "duration": 16,
    "start_time": "2022-03-25T11:42:40.834Z"
   },
   {
    "duration": 12,
    "start_time": "2022-03-25T11:42:46.707Z"
   },
   {
    "duration": 16,
    "start_time": "2022-03-25T11:44:49.140Z"
   },
   {
    "duration": 13,
    "start_time": "2022-03-25T11:44:50.002Z"
   },
   {
    "duration": 14,
    "start_time": "2022-03-25T11:45:26.486Z"
   },
   {
    "duration": 11,
    "start_time": "2022-03-25T11:46:21.228Z"
   },
   {
    "duration": 9,
    "start_time": "2022-03-25T11:46:26.597Z"
   },
   {
    "duration": 13,
    "start_time": "2022-03-25T11:46:47.560Z"
   },
   {
    "duration": 11,
    "start_time": "2022-03-25T11:46:51.490Z"
   },
   {
    "duration": 5,
    "start_time": "2022-03-25T11:47:13.186Z"
   },
   {
    "duration": 12,
    "start_time": "2022-03-25T11:47:19.378Z"
   },
   {
    "duration": 2142,
    "start_time": "2022-03-25T11:50:04.482Z"
   },
   {
    "duration": 31,
    "start_time": "2022-03-25T11:50:26.211Z"
   },
   {
    "duration": 11,
    "start_time": "2022-03-25T11:50:45.761Z"
   },
   {
    "duration": 10,
    "start_time": "2022-03-25T11:51:23.794Z"
   },
   {
    "duration": 5,
    "start_time": "2022-03-25T11:54:57.505Z"
   },
   {
    "duration": 9,
    "start_time": "2022-03-25T11:55:03.425Z"
   },
   {
    "duration": 17,
    "start_time": "2022-03-25T11:55:15.681Z"
   },
   {
    "duration": 10,
    "start_time": "2022-03-25T11:55:19.855Z"
   },
   {
    "duration": 9,
    "start_time": "2022-03-25T11:56:30.007Z"
   },
   {
    "duration": 14,
    "start_time": "2022-03-25T11:56:30.369Z"
   },
   {
    "duration": 9,
    "start_time": "2022-03-25T11:57:41.808Z"
   },
   {
    "duration": 12,
    "start_time": "2022-03-25T11:57:42.271Z"
   },
   {
    "duration": 15,
    "start_time": "2022-03-25T12:02:07.152Z"
   },
   {
    "duration": 10,
    "start_time": "2022-03-25T12:02:14.143Z"
   },
   {
    "duration": 11,
    "start_time": "2022-03-25T12:02:17.759Z"
   },
   {
    "duration": 8,
    "start_time": "2022-03-25T12:03:35.519Z"
   },
   {
    "duration": 8,
    "start_time": "2022-03-25T12:03:35.703Z"
   },
   {
    "duration": 12,
    "start_time": "2022-03-25T12:03:37.485Z"
   },
   {
    "duration": 285,
    "start_time": "2022-03-25T12:09:43.262Z"
   },
   {
    "duration": 353,
    "start_time": "2022-03-25T12:10:05.374Z"
   },
   {
    "duration": 754,
    "start_time": "2022-03-25T12:11:47.128Z"
   },
   {
    "duration": 682,
    "start_time": "2022-03-25T12:12:13.726Z"
   },
   {
    "duration": 780,
    "start_time": "2022-03-25T12:12:24.334Z"
   },
   {
    "duration": 1143,
    "start_time": "2022-03-25T12:13:14.446Z"
   },
   {
    "duration": 864,
    "start_time": "2022-03-25T12:14:09.358Z"
   },
   {
    "duration": 809,
    "start_time": "2022-03-25T12:15:15.262Z"
   },
   {
    "duration": 566,
    "start_time": "2022-03-25T12:15:31.726Z"
   },
   {
    "duration": 1537,
    "start_time": "2022-03-25T12:15:35.294Z"
   },
   {
    "duration": 2102,
    "start_time": "2022-03-25T12:15:43.646Z"
   },
   {
    "duration": 758,
    "start_time": "2022-03-25T12:15:56.830Z"
   },
   {
    "duration": 1137,
    "start_time": "2022-03-25T12:16:57.214Z"
   },
   {
    "duration": 859,
    "start_time": "2022-03-25T12:17:30.093Z"
   },
   {
    "duration": 461,
    "start_time": "2022-03-25T12:17:36.493Z"
   },
   {
    "duration": 1148,
    "start_time": "2022-03-25T12:17:55.457Z"
   },
   {
    "duration": 1372,
    "start_time": "2022-03-25T12:18:03.197Z"
   },
   {
    "duration": 1614,
    "start_time": "2022-03-25T12:18:19.293Z"
   },
   {
    "duration": 1578,
    "start_time": "2022-03-25T12:18:57.774Z"
   },
   {
    "duration": 1470,
    "start_time": "2022-03-25T12:19:09.838Z"
   },
   {
    "duration": 903,
    "start_time": "2022-03-25T12:19:17.682Z"
   },
   {
    "duration": 529,
    "start_time": "2022-03-25T12:19:30.062Z"
   },
   {
    "duration": 825,
    "start_time": "2022-03-25T12:19:41.262Z"
   },
   {
    "duration": 1540,
    "start_time": "2022-03-25T12:19:52.558Z"
   },
   {
    "duration": 5,
    "start_time": "2022-03-25T12:20:03.597Z"
   },
   {
    "duration": 1452,
    "start_time": "2022-03-25T12:20:06.077Z"
   },
   {
    "duration": 1588,
    "start_time": "2022-03-25T12:20:30.429Z"
   },
   {
    "duration": 1342,
    "start_time": "2022-03-25T12:20:52.767Z"
   },
   {
    "duration": 1514,
    "start_time": "2022-03-25T12:24:24.574Z"
   },
   {
    "duration": 792,
    "start_time": "2022-03-25T12:24:37.036Z"
   },
   {
    "duration": 407,
    "start_time": "2022-03-25T12:25:58.126Z"
   },
   {
    "duration": 84,
    "start_time": "2022-03-25T12:26:25.731Z"
   },
   {
    "duration": 370,
    "start_time": "2022-03-25T12:26:29.627Z"
   },
   {
    "duration": 125,
    "start_time": "2022-03-25T12:28:11.627Z"
   },
   {
    "duration": 132,
    "start_time": "2022-03-25T12:28:15.180Z"
   },
   {
    "duration": 4,
    "start_time": "2022-03-25T12:28:32.156Z"
   },
   {
    "duration": 406,
    "start_time": "2022-03-25T12:28:40.076Z"
   },
   {
    "duration": 279,
    "start_time": "2022-03-25T12:28:48.751Z"
   },
   {
    "duration": 278,
    "start_time": "2022-03-25T12:30:42.396Z"
   },
   {
    "duration": 391,
    "start_time": "2022-03-25T12:30:47.820Z"
   },
   {
    "duration": 1744,
    "start_time": "2022-03-25T12:31:01.053Z"
   },
   {
    "duration": 7,
    "start_time": "2022-03-25T12:33:02.779Z"
   },
   {
    "duration": 1491,
    "start_time": "2022-03-25T12:33:34.123Z"
   },
   {
    "duration": 2023,
    "start_time": "2022-03-25T12:33:40.044Z"
   },
   {
    "duration": 1563,
    "start_time": "2022-03-25T12:33:45.083Z"
   },
   {
    "duration": 298,
    "start_time": "2022-03-25T12:33:48.747Z"
   },
   {
    "duration": 945,
    "start_time": "2022-03-25T12:35:51.437Z"
   },
   {
    "duration": 1486,
    "start_time": "2022-03-25T12:36:16.622Z"
   },
   {
    "duration": 2385,
    "start_time": "2022-03-25T12:36:25.867Z"
   },
   {
    "duration": 2346,
    "start_time": "2022-03-25T12:37:59.418Z"
   },
   {
    "duration": 2471,
    "start_time": "2022-03-25T12:38:30.364Z"
   },
   {
    "duration": 1625,
    "start_time": "2022-03-25T12:39:00.522Z"
   },
   {
    "duration": 1496,
    "start_time": "2022-03-25T12:39:38.298Z"
   },
   {
    "duration": 2240,
    "start_time": "2022-03-25T12:45:16.138Z"
   },
   {
    "duration": 2175,
    "start_time": "2022-03-25T12:45:29.521Z"
   },
   {
    "duration": 9,
    "start_time": "2022-03-25T12:48:25.754Z"
   },
   {
    "duration": 21,
    "start_time": "2022-03-25T12:48:34.650Z"
   },
   {
    "duration": 33,
    "start_time": "2022-03-25T12:50:24.074Z"
   },
   {
    "duration": 32,
    "start_time": "2022-03-25T12:50:33.211Z"
   },
   {
    "duration": 9,
    "start_time": "2022-03-25T12:51:07.297Z"
   },
   {
    "duration": 23,
    "start_time": "2022-03-25T12:51:09.231Z"
   },
   {
    "duration": 6,
    "start_time": "2022-03-25T12:51:30.905Z"
   },
   {
    "duration": 7,
    "start_time": "2022-03-25T12:51:48.009Z"
   },
   {
    "duration": 13,
    "start_time": "2022-03-25T13:03:00.632Z"
   },
   {
    "duration": 7,
    "start_time": "2022-03-25T13:03:05.783Z"
   },
   {
    "duration": 8,
    "start_time": "2022-03-25T13:05:40.807Z"
   },
   {
    "duration": 24,
    "start_time": "2022-03-25T13:05:43.863Z"
   },
   {
    "duration": 9,
    "start_time": "2022-03-25T13:07:50.927Z"
   },
   {
    "duration": 24,
    "start_time": "2022-03-25T13:08:03.783Z"
   },
   {
    "duration": 18,
    "start_time": "2022-03-25T13:12:41.750Z"
   },
   {
    "duration": 491,
    "start_time": "2022-03-25T13:14:23.338Z"
   },
   {
    "duration": 442,
    "start_time": "2022-03-25T13:14:33.829Z"
   },
   {
    "duration": 318,
    "start_time": "2022-03-25T13:15:18.905Z"
   },
   {
    "duration": 506,
    "start_time": "2022-03-25T13:15:29.943Z"
   },
   {
    "duration": 11,
    "start_time": "2022-03-25T13:15:39.062Z"
   },
   {
    "duration": 379,
    "start_time": "2022-03-25T13:15:43.845Z"
   },
   {
    "duration": 448,
    "start_time": "2022-03-25T13:17:35.062Z"
   },
   {
    "duration": 413,
    "start_time": "2022-03-25T13:17:44.325Z"
   },
   {
    "duration": 541,
    "start_time": "2022-03-25T13:17:49.941Z"
   },
   {
    "duration": 396,
    "start_time": "2022-03-25T13:18:06.102Z"
   },
   {
    "duration": 404,
    "start_time": "2022-03-25T13:18:11.429Z"
   },
   {
    "duration": 411,
    "start_time": "2022-03-25T13:18:28.357Z"
   },
   {
    "duration": 401,
    "start_time": "2022-03-25T13:18:40.597Z"
   },
   {
    "duration": 408,
    "start_time": "2022-03-25T13:18:45.429Z"
   },
   {
    "duration": 656,
    "start_time": "2022-03-25T13:19:24.278Z"
   },
   {
    "duration": 567,
    "start_time": "2022-03-25T13:19:29.800Z"
   },
   {
    "duration": 371,
    "start_time": "2022-03-25T13:20:01.052Z"
   },
   {
    "duration": 586,
    "start_time": "2022-03-25T13:21:17.878Z"
   },
   {
    "duration": 1681,
    "start_time": "2022-03-26T16:11:15.884Z"
   },
   {
    "duration": 503,
    "start_time": "2022-03-26T16:11:17.568Z"
   },
   {
    "duration": 47,
    "start_time": "2022-03-26T16:11:18.073Z"
   },
   {
    "duration": 36,
    "start_time": "2022-03-26T16:11:18.123Z"
   },
   {
    "duration": 30,
    "start_time": "2022-03-26T16:11:18.162Z"
   },
   {
    "duration": 49,
    "start_time": "2022-03-26T16:11:18.194Z"
   },
   {
    "duration": 25,
    "start_time": "2022-03-26T16:11:18.245Z"
   },
   {
    "duration": 6,
    "start_time": "2022-03-26T16:11:18.273Z"
   },
   {
    "duration": 142,
    "start_time": "2022-03-26T16:11:18.282Z"
   },
   {
    "duration": 81,
    "start_time": "2022-03-26T16:11:18.426Z"
   },
   {
    "duration": 78,
    "start_time": "2022-03-26T16:11:18.509Z"
   },
   {
    "duration": 144,
    "start_time": "2022-03-26T16:11:18.589Z"
   },
   {
    "duration": 108,
    "start_time": "2022-03-26T16:11:18.742Z"
   },
   {
    "duration": 64,
    "start_time": "2022-03-26T16:11:18.854Z"
   },
   {
    "duration": 26,
    "start_time": "2022-03-26T16:11:18.920Z"
   },
   {
    "duration": 13,
    "start_time": "2022-03-26T16:11:18.948Z"
   },
   {
    "duration": 34,
    "start_time": "2022-03-26T16:11:18.963Z"
   },
   {
    "duration": 80,
    "start_time": "2022-03-26T16:11:18.999Z"
   },
   {
    "duration": 20,
    "start_time": "2022-03-26T16:11:19.081Z"
   },
   {
    "duration": 51,
    "start_time": "2022-03-26T16:11:19.103Z"
   },
   {
    "duration": 8,
    "start_time": "2022-03-26T16:11:19.156Z"
   },
   {
    "duration": 112,
    "start_time": "2022-03-26T16:11:19.167Z"
   },
   {
    "duration": 43,
    "start_time": "2022-03-26T16:11:19.282Z"
   },
   {
    "duration": 56,
    "start_time": "2022-03-26T16:11:19.327Z"
   },
   {
    "duration": 123,
    "start_time": "2022-03-26T16:11:19.385Z"
   },
   {
    "duration": 10,
    "start_time": "2022-03-26T16:11:19.510Z"
   },
   {
    "duration": 21,
    "start_time": "2022-03-26T16:11:19.522Z"
   },
   {
    "duration": 21,
    "start_time": "2022-03-26T16:11:19.545Z"
   },
   {
    "duration": 277,
    "start_time": "2022-03-26T16:11:19.568Z"
   },
   {
    "duration": 16,
    "start_time": "2022-03-26T16:11:19.847Z"
   },
   {
    "duration": 194,
    "start_time": "2022-03-26T16:11:19.864Z"
   },
   {
    "duration": 0,
    "start_time": "2022-03-26T16:11:20.060Z"
   },
   {
    "duration": 0,
    "start_time": "2022-03-26T16:11:20.062Z"
   },
   {
    "duration": 0,
    "start_time": "2022-03-26T16:11:20.063Z"
   },
   {
    "duration": 0,
    "start_time": "2022-03-26T16:11:20.065Z"
   },
   {
    "duration": 0,
    "start_time": "2022-03-26T16:11:20.066Z"
   },
   {
    "duration": 0,
    "start_time": "2022-03-26T16:11:20.067Z"
   },
   {
    "duration": 0,
    "start_time": "2022-03-26T16:11:20.069Z"
   },
   {
    "duration": 0,
    "start_time": "2022-03-26T16:11:20.070Z"
   },
   {
    "duration": 0,
    "start_time": "2022-03-26T16:11:20.071Z"
   },
   {
    "duration": 0,
    "start_time": "2022-03-26T16:11:20.072Z"
   },
   {
    "duration": 0,
    "start_time": "2022-03-26T16:11:20.074Z"
   },
   {
    "duration": 184,
    "start_time": "2022-03-26T16:17:26.623Z"
   },
   {
    "duration": 170,
    "start_time": "2022-03-26T16:17:29.731Z"
   },
   {
    "duration": 21,
    "start_time": "2022-03-26T16:21:54.119Z"
   },
   {
    "duration": 17,
    "start_time": "2022-03-26T16:21:55.199Z"
   },
   {
    "duration": 18,
    "start_time": "2022-03-26T16:21:59.997Z"
   },
   {
    "duration": 26,
    "start_time": "2022-03-26T16:22:00.551Z"
   },
   {
    "duration": 1506,
    "start_time": "2022-03-26T16:22:10.000Z"
   },
   {
    "duration": 1601,
    "start_time": "2022-03-26T16:22:22.494Z"
   },
   {
    "duration": 45,
    "start_time": "2022-03-27T09:12:42.849Z"
   },
   {
    "duration": 1246,
    "start_time": "2022-03-27T09:12:47.589Z"
   },
   {
    "duration": 364,
    "start_time": "2022-03-27T09:12:48.837Z"
   },
   {
    "duration": 34,
    "start_time": "2022-03-27T09:12:49.203Z"
   },
   {
    "duration": 26,
    "start_time": "2022-03-27T09:12:49.239Z"
   },
   {
    "duration": 22,
    "start_time": "2022-03-27T09:12:49.266Z"
   },
   {
    "duration": 14,
    "start_time": "2022-03-27T09:12:49.289Z"
   },
   {
    "duration": 44,
    "start_time": "2022-03-27T09:12:49.304Z"
   },
   {
    "duration": 4,
    "start_time": "2022-03-27T09:12:49.349Z"
   },
   {
    "duration": 89,
    "start_time": "2022-03-27T09:12:49.354Z"
   },
   {
    "duration": 55,
    "start_time": "2022-03-27T09:12:49.446Z"
   },
   {
    "duration": 65,
    "start_time": "2022-03-27T09:12:49.503Z"
   },
   {
    "duration": 114,
    "start_time": "2022-03-27T09:12:49.570Z"
   },
   {
    "duration": 76,
    "start_time": "2022-03-27T09:12:49.685Z"
   },
   {
    "duration": 48,
    "start_time": "2022-03-27T09:12:49.762Z"
   },
   {
    "duration": 30,
    "start_time": "2022-03-27T09:12:49.812Z"
   },
   {
    "duration": 8,
    "start_time": "2022-03-27T09:12:49.844Z"
   },
   {
    "duration": 27,
    "start_time": "2022-03-27T09:12:49.853Z"
   },
   {
    "duration": 25,
    "start_time": "2022-03-27T09:12:49.882Z"
   },
   {
    "duration": 41,
    "start_time": "2022-03-27T09:12:49.910Z"
   },
   {
    "duration": 16,
    "start_time": "2022-03-27T09:12:49.954Z"
   },
   {
    "duration": 6,
    "start_time": "2022-03-27T09:12:49.972Z"
   },
   {
    "duration": 102,
    "start_time": "2022-03-27T09:12:49.980Z"
   },
   {
    "duration": 29,
    "start_time": "2022-03-27T09:12:50.084Z"
   },
   {
    "duration": 45,
    "start_time": "2022-03-27T09:12:50.115Z"
   },
   {
    "duration": 77,
    "start_time": "2022-03-27T09:12:50.162Z"
   },
   {
    "duration": 7,
    "start_time": "2022-03-27T09:12:50.241Z"
   },
   {
    "duration": 9,
    "start_time": "2022-03-27T09:12:50.250Z"
   },
   {
    "duration": 8,
    "start_time": "2022-03-27T09:12:50.262Z"
   },
   {
    "duration": 160,
    "start_time": "2022-03-27T09:12:50.271Z"
   },
   {
    "duration": 13,
    "start_time": "2022-03-27T09:12:50.433Z"
   },
   {
    "duration": 13,
    "start_time": "2022-03-27T09:12:50.449Z"
   },
   {
    "duration": 9,
    "start_time": "2022-03-27T09:12:50.464Z"
   },
   {
    "duration": 16,
    "start_time": "2022-03-27T09:12:56.491Z"
   },
   {
    "duration": 11,
    "start_time": "2022-03-27T09:15:06.042Z"
   },
   {
    "duration": 3,
    "start_time": "2022-03-27T10:10:16.999Z"
   },
   {
    "duration": 395,
    "start_time": "2022-03-27T10:10:17.004Z"
   },
   {
    "duration": 31,
    "start_time": "2022-03-27T10:10:17.401Z"
   },
   {
    "duration": 28,
    "start_time": "2022-03-27T10:10:17.434Z"
   },
   {
    "duration": 23,
    "start_time": "2022-03-27T10:10:17.464Z"
   },
   {
    "duration": 15,
    "start_time": "2022-03-27T10:10:17.488Z"
   },
   {
    "duration": 45,
    "start_time": "2022-03-27T10:10:17.505Z"
   },
   {
    "duration": 4,
    "start_time": "2022-03-27T10:10:17.551Z"
   },
   {
    "duration": 97,
    "start_time": "2022-03-27T10:10:17.557Z"
   },
   {
    "duration": 58,
    "start_time": "2022-03-27T10:10:17.657Z"
   },
   {
    "duration": 59,
    "start_time": "2022-03-27T10:10:17.717Z"
   },
   {
    "duration": 126,
    "start_time": "2022-03-27T10:10:17.778Z"
   },
   {
    "duration": 71,
    "start_time": "2022-03-27T10:10:17.906Z"
   },
   {
    "duration": 60,
    "start_time": "2022-03-27T10:10:17.979Z"
   },
   {
    "duration": 6,
    "start_time": "2022-03-27T10:10:18.041Z"
   },
   {
    "duration": 10,
    "start_time": "2022-03-27T10:10:18.049Z"
   },
   {
    "duration": 25,
    "start_time": "2022-03-27T10:10:18.061Z"
   },
   {
    "duration": 52,
    "start_time": "2022-03-27T10:10:18.088Z"
   },
   {
    "duration": 16,
    "start_time": "2022-03-27T10:10:18.141Z"
   },
   {
    "duration": 16,
    "start_time": "2022-03-27T10:10:18.159Z"
   },
   {
    "duration": 6,
    "start_time": "2022-03-27T10:10:18.177Z"
   },
   {
    "duration": 92,
    "start_time": "2022-03-27T10:10:18.185Z"
   },
   {
    "duration": 29,
    "start_time": "2022-03-27T10:10:18.279Z"
   },
   {
    "duration": 44,
    "start_time": "2022-03-27T10:10:18.312Z"
   },
   {
    "duration": 146,
    "start_time": "2022-03-27T10:10:18.358Z"
   },
   {
    "duration": 8,
    "start_time": "2022-03-27T10:10:18.506Z"
   },
   {
    "duration": 8,
    "start_time": "2022-03-27T10:10:18.516Z"
   },
   {
    "duration": 15,
    "start_time": "2022-03-27T10:10:18.526Z"
   },
   {
    "duration": 164,
    "start_time": "2022-03-27T10:10:18.543Z"
   },
   {
    "duration": 12,
    "start_time": "2022-03-27T10:10:18.709Z"
   },
   {
    "duration": 21,
    "start_time": "2022-03-27T10:10:18.723Z"
   },
   {
    "duration": 12,
    "start_time": "2022-03-27T10:10:18.746Z"
   },
   {
    "duration": 20,
    "start_time": "2022-03-27T10:10:18.759Z"
   },
   {
    "duration": 12,
    "start_time": "2022-03-27T10:10:18.780Z"
   },
   {
    "duration": 15,
    "start_time": "2022-03-27T10:10:18.794Z"
   },
   {
    "duration": 914,
    "start_time": "2022-03-27T10:10:18.838Z"
   },
   {
    "duration": 1083,
    "start_time": "2022-03-27T10:10:19.754Z"
   },
   {
    "duration": 5,
    "start_time": "2022-03-27T10:10:20.839Z"
   },
   {
    "duration": 11,
    "start_time": "2022-03-27T10:10:20.846Z"
   },
   {
    "duration": 364,
    "start_time": "2022-03-27T10:10:20.859Z"
   },
   {
    "duration": 300,
    "start_time": "2022-03-27T10:10:21.224Z"
   },
   {
    "duration": 298,
    "start_time": "2022-03-27T10:10:21.526Z"
   },
   {
    "duration": 1444,
    "start_time": "2022-03-27T15:08:10.121Z"
   },
   {
    "duration": 440,
    "start_time": "2022-03-27T15:08:11.567Z"
   },
   {
    "duration": 52,
    "start_time": "2022-03-27T15:08:12.009Z"
   },
   {
    "duration": 54,
    "start_time": "2022-03-27T15:08:12.064Z"
   },
   {
    "duration": 35,
    "start_time": "2022-03-27T15:08:12.120Z"
   },
   {
    "duration": 45,
    "start_time": "2022-03-27T15:08:12.158Z"
   },
   {
    "duration": 19,
    "start_time": "2022-03-27T15:08:12.205Z"
   },
   {
    "duration": 5,
    "start_time": "2022-03-27T15:08:12.226Z"
   },
   {
    "duration": 127,
    "start_time": "2022-03-27T15:08:12.233Z"
   },
   {
    "duration": 74,
    "start_time": "2022-03-27T15:08:12.363Z"
   },
   {
    "duration": 62,
    "start_time": "2022-03-27T15:08:12.439Z"
   },
   {
    "duration": 130,
    "start_time": "2022-03-27T15:08:12.503Z"
   },
   {
    "duration": 82,
    "start_time": "2022-03-27T15:08:12.635Z"
   },
   {
    "duration": 57,
    "start_time": "2022-03-27T15:08:12.719Z"
   },
   {
    "duration": 23,
    "start_time": "2022-03-27T15:08:12.778Z"
   },
   {
    "duration": 9,
    "start_time": "2022-03-27T15:08:12.804Z"
   },
   {
    "duration": 29,
    "start_time": "2022-03-27T15:08:12.815Z"
   },
   {
    "duration": 56,
    "start_time": "2022-03-27T15:08:12.846Z"
   },
   {
    "duration": 18,
    "start_time": "2022-03-27T15:08:12.904Z"
   },
   {
    "duration": 17,
    "start_time": "2022-03-27T15:08:12.924Z"
   },
   {
    "duration": 9,
    "start_time": "2022-03-27T15:08:12.942Z"
   },
   {
    "duration": 136,
    "start_time": "2022-03-27T15:08:12.953Z"
   },
   {
    "duration": 47,
    "start_time": "2022-03-27T15:08:13.091Z"
   },
   {
    "duration": 65,
    "start_time": "2022-03-27T15:08:13.140Z"
   },
   {
    "duration": 77,
    "start_time": "2022-03-27T15:08:13.208Z"
   },
   {
    "duration": 25,
    "start_time": "2022-03-27T15:08:13.288Z"
   },
   {
    "duration": 4,
    "start_time": "2022-03-27T15:08:13.316Z"
   },
   {
    "duration": 6,
    "start_time": "2022-03-27T15:08:13.325Z"
   },
   {
    "duration": 202,
    "start_time": "2022-03-27T15:08:13.333Z"
   },
   {
    "duration": 17,
    "start_time": "2022-03-27T15:08:13.537Z"
   },
   {
    "duration": 17,
    "start_time": "2022-03-27T15:08:13.556Z"
   },
   {
    "duration": 33,
    "start_time": "2022-03-27T15:08:13.576Z"
   },
   {
    "duration": 20,
    "start_time": "2022-03-27T15:08:13.611Z"
   },
   {
    "duration": 16,
    "start_time": "2022-03-27T15:08:13.633Z"
   },
   {
    "duration": 23,
    "start_time": "2022-03-27T15:08:13.651Z"
   },
   {
    "duration": 1480,
    "start_time": "2022-03-27T15:08:13.702Z"
   },
   {
    "duration": 1500,
    "start_time": "2022-03-27T15:08:15.184Z"
   },
   {
    "duration": 15,
    "start_time": "2022-03-27T15:08:16.686Z"
   },
   {
    "duration": 13,
    "start_time": "2022-03-27T15:08:16.703Z"
   },
   {
    "duration": 387,
    "start_time": "2022-03-27T15:08:16.718Z"
   },
   {
    "duration": 385,
    "start_time": "2022-03-27T15:08:17.107Z"
   },
   {
    "duration": 154,
    "start_time": "2022-03-27T15:08:17.500Z"
   },
   {
    "duration": 22,
    "start_time": "2022-03-27T15:12:37.656Z"
   },
   {
    "duration": 6,
    "start_time": "2022-03-27T15:13:19.712Z"
   },
   {
    "duration": 289,
    "start_time": "2022-03-27T15:15:13.489Z"
   },
   {
    "duration": 194,
    "start_time": "2022-03-27T15:18:01.718Z"
   },
   {
    "duration": 179,
    "start_time": "2022-03-27T15:18:50.279Z"
   },
   {
    "duration": 17,
    "start_time": "2022-03-27T15:19:06.199Z"
   },
   {
    "duration": 175,
    "start_time": "2022-03-27T15:28:08.831Z"
   },
   {
    "duration": 152,
    "start_time": "2022-03-27T15:41:36.625Z"
   },
   {
    "duration": 7,
    "start_time": "2022-03-27T15:41:40.988Z"
   },
   {
    "duration": 17,
    "start_time": "2022-03-27T15:42:40.526Z"
   },
   {
    "duration": 18,
    "start_time": "2022-03-27T15:43:22.971Z"
   },
   {
    "duration": 10,
    "start_time": "2022-03-27T15:44:08.986Z"
   },
   {
    "duration": 2810,
    "start_time": "2022-03-27T15:44:30.132Z"
   },
   {
    "duration": 7,
    "start_time": "2022-03-27T15:44:53.067Z"
   },
   {
    "duration": 11,
    "start_time": "2022-03-27T15:45:01.726Z"
   },
   {
    "duration": 2527,
    "start_time": "2022-03-27T15:45:11.165Z"
   },
   {
    "duration": 8,
    "start_time": "2022-03-27T15:45:19.752Z"
   },
   {
    "duration": 283,
    "start_time": "2022-03-27T15:45:58.653Z"
   },
   {
    "duration": 152,
    "start_time": "2022-03-27T15:46:12.797Z"
   },
   {
    "duration": 150,
    "start_time": "2022-03-27T15:46:27.539Z"
   },
   {
    "duration": 324,
    "start_time": "2022-03-27T15:46:54.252Z"
   },
   {
    "duration": 3,
    "start_time": "2022-03-27T15:52:04.663Z"
   },
   {
    "duration": 151,
    "start_time": "2022-03-27T15:53:19.841Z"
   },
   {
    "duration": 153,
    "start_time": "2022-03-27T15:53:22.519Z"
   },
   {
    "duration": 6,
    "start_time": "2022-03-27T15:55:58.494Z"
   },
   {
    "duration": 5,
    "start_time": "2022-03-27T15:56:05.270Z"
   },
   {
    "duration": 17,
    "start_time": "2022-03-27T15:56:05.596Z"
   },
   {
    "duration": 7,
    "start_time": "2022-03-27T15:56:12.551Z"
   },
   {
    "duration": 318,
    "start_time": "2022-03-27T15:56:57.557Z"
   },
   {
    "duration": 286,
    "start_time": "2022-03-27T15:57:25.259Z"
   },
   {
    "duration": 316,
    "start_time": "2022-03-27T15:57:28.966Z"
   },
   {
    "duration": 301,
    "start_time": "2022-03-27T15:57:58.648Z"
   },
   {
    "duration": 461,
    "start_time": "2022-03-27T15:58:05.990Z"
   },
   {
    "duration": 284,
    "start_time": "2022-03-27T15:58:19.125Z"
   },
   {
    "duration": 12,
    "start_time": "2022-03-27T15:59:34.943Z"
   },
   {
    "duration": 326,
    "start_time": "2022-03-27T15:59:58.588Z"
   },
   {
    "duration": 312,
    "start_time": "2022-03-27T16:00:05.465Z"
   },
   {
    "duration": 11,
    "start_time": "2022-03-27T16:02:49.570Z"
   },
   {
    "duration": 299,
    "start_time": "2022-03-27T16:03:03.469Z"
   },
   {
    "duration": 302,
    "start_time": "2022-03-27T16:03:36.689Z"
   },
   {
    "duration": 328,
    "start_time": "2022-03-27T16:03:46.052Z"
   },
   {
    "duration": 316,
    "start_time": "2022-03-27T16:03:50.454Z"
   },
   {
    "duration": 1330,
    "start_time": "2022-03-27T16:25:20.885Z"
   },
   {
    "duration": 382,
    "start_time": "2022-03-27T16:25:22.217Z"
   },
   {
    "duration": 35,
    "start_time": "2022-03-27T16:25:22.601Z"
   },
   {
    "duration": 29,
    "start_time": "2022-03-27T16:25:22.638Z"
   },
   {
    "duration": 24,
    "start_time": "2022-03-27T16:25:22.668Z"
   },
   {
    "duration": 16,
    "start_time": "2022-03-27T16:25:22.709Z"
   },
   {
    "duration": 20,
    "start_time": "2022-03-27T16:25:22.727Z"
   },
   {
    "duration": 4,
    "start_time": "2022-03-27T16:25:22.749Z"
   },
   {
    "duration": 112,
    "start_time": "2022-03-27T16:25:22.754Z"
   },
   {
    "duration": 68,
    "start_time": "2022-03-27T16:25:22.869Z"
   },
   {
    "duration": 49,
    "start_time": "2022-03-27T16:25:22.938Z"
   },
   {
    "duration": 127,
    "start_time": "2022-03-27T16:25:22.988Z"
   },
   {
    "duration": 66,
    "start_time": "2022-03-27T16:25:23.117Z"
   },
   {
    "duration": 63,
    "start_time": "2022-03-27T16:25:23.185Z"
   },
   {
    "duration": 7,
    "start_time": "2022-03-27T16:25:23.249Z"
   },
   {
    "duration": 9,
    "start_time": "2022-03-27T16:25:23.257Z"
   },
   {
    "duration": 50,
    "start_time": "2022-03-27T16:25:23.268Z"
   },
   {
    "duration": 29,
    "start_time": "2022-03-27T16:25:23.319Z"
   },
   {
    "duration": 14,
    "start_time": "2022-03-27T16:25:23.351Z"
   },
   {
    "duration": 48,
    "start_time": "2022-03-27T16:25:23.367Z"
   },
   {
    "duration": 7,
    "start_time": "2022-03-27T16:25:23.417Z"
   },
   {
    "duration": 96,
    "start_time": "2022-03-27T16:25:23.426Z"
   },
   {
    "duration": 31,
    "start_time": "2022-03-27T16:25:23.524Z"
   },
   {
    "duration": 37,
    "start_time": "2022-03-27T16:25:23.556Z"
   },
   {
    "duration": 74,
    "start_time": "2022-03-27T16:25:23.608Z"
   },
   {
    "duration": 8,
    "start_time": "2022-03-27T16:25:23.684Z"
   },
   {
    "duration": 5,
    "start_time": "2022-03-27T16:25:23.709Z"
   },
   {
    "duration": 12,
    "start_time": "2022-03-27T16:25:23.718Z"
   },
   {
    "duration": 167,
    "start_time": "2022-03-27T16:25:23.732Z"
   },
   {
    "duration": 13,
    "start_time": "2022-03-27T16:25:23.900Z"
   },
   {
    "duration": 14,
    "start_time": "2022-03-27T16:25:23.914Z"
   },
   {
    "duration": 11,
    "start_time": "2022-03-27T16:25:23.930Z"
   },
   {
    "duration": 11,
    "start_time": "2022-03-27T16:25:23.942Z"
   },
   {
    "duration": 16,
    "start_time": "2022-03-27T16:25:23.955Z"
   },
   {
    "duration": 1002,
    "start_time": "2022-03-27T16:25:23.973Z"
   },
   {
    "duration": 1006,
    "start_time": "2022-03-27T16:25:24.977Z"
   },
   {
    "duration": 12,
    "start_time": "2022-03-27T16:25:25.985Z"
   },
   {
    "duration": 350,
    "start_time": "2022-03-27T16:25:26.009Z"
   },
   {
    "duration": 386,
    "start_time": "2022-03-27T16:25:26.360Z"
   },
   {
    "duration": 6,
    "start_time": "2022-03-27T16:25:26.747Z"
   },
   {
    "duration": 8,
    "start_time": "2022-03-27T16:25:26.755Z"
   },
   {
    "duration": 27,
    "start_time": "2022-03-27T16:25:26.764Z"
   },
   {
    "duration": 18,
    "start_time": "2022-03-27T16:25:26.792Z"
   },
   {
    "duration": 9,
    "start_time": "2022-03-27T16:25:26.811Z"
   },
   {
    "duration": 181,
    "start_time": "2022-03-27T16:25:26.822Z"
   },
   {
    "duration": 96,
    "start_time": "2022-03-27T16:25:50.794Z"
   },
   {
    "duration": 17,
    "start_time": "2022-03-27T16:25:55.061Z"
   },
   {
    "duration": 2,
    "start_time": "2022-03-27T16:26:12.865Z"
   },
   {
    "duration": 18,
    "start_time": "2022-03-27T16:28:42.744Z"
   },
   {
    "duration": 6,
    "start_time": "2022-03-27T16:28:46.879Z"
   },
   {
    "duration": 4,
    "start_time": "2022-03-27T16:29:35.278Z"
   },
   {
    "duration": 4,
    "start_time": "2022-03-27T16:32:00.915Z"
   },
   {
    "duration": 5,
    "start_time": "2022-03-27T16:32:32.813Z"
   },
   {
    "duration": 5,
    "start_time": "2022-03-27T16:33:08.225Z"
   },
   {
    "duration": 5,
    "start_time": "2022-03-27T16:37:20.074Z"
   },
   {
    "duration": 5,
    "start_time": "2022-03-27T16:42:37.284Z"
   },
   {
    "duration": 5,
    "start_time": "2022-03-27T16:42:39.923Z"
   },
   {
    "duration": 8,
    "start_time": "2022-03-27T16:44:30.739Z"
   },
   {
    "duration": 4,
    "start_time": "2022-03-27T16:44:31.219Z"
   },
   {
    "duration": 7,
    "start_time": "2022-03-27T16:44:31.436Z"
   },
   {
    "duration": 1513,
    "start_time": "2022-03-27T16:44:31.605Z"
   },
   {
    "duration": 0,
    "start_time": "2022-03-27T16:44:33.120Z"
   },
   {
    "duration": 0,
    "start_time": "2022-03-27T16:44:33.121Z"
   },
   {
    "duration": 0,
    "start_time": "2022-03-27T16:44:33.122Z"
   },
   {
    "duration": 0,
    "start_time": "2022-03-27T16:44:33.123Z"
   },
   {
    "duration": 16,
    "start_time": "2022-03-27T16:44:33.410Z"
   },
   {
    "duration": 954,
    "start_time": "2022-03-27T16:44:33.561Z"
   },
   {
    "duration": 1148,
    "start_time": "2022-03-27T16:44:34.517Z"
   },
   {
    "duration": 11,
    "start_time": "2022-03-27T16:44:35.667Z"
   },
   {
    "duration": 342,
    "start_time": "2022-03-27T16:44:35.679Z"
   },
   {
    "duration": 295,
    "start_time": "2022-03-27T16:44:36.022Z"
   },
   {
    "duration": 12,
    "start_time": "2022-03-27T16:44:36.319Z"
   },
   {
    "duration": 3,
    "start_time": "2022-03-27T16:44:43.036Z"
   },
   {
    "duration": 388,
    "start_time": "2022-03-27T16:44:43.041Z"
   },
   {
    "duration": 32,
    "start_time": "2022-03-27T16:44:43.431Z"
   },
   {
    "duration": 27,
    "start_time": "2022-03-27T16:44:43.465Z"
   },
   {
    "duration": 28,
    "start_time": "2022-03-27T16:44:43.494Z"
   },
   {
    "duration": 16,
    "start_time": "2022-03-27T16:44:43.523Z"
   },
   {
    "duration": 21,
    "start_time": "2022-03-27T16:44:43.541Z"
   },
   {
    "duration": 3,
    "start_time": "2022-03-27T16:44:43.564Z"
   },
   {
    "duration": 103,
    "start_time": "2022-03-27T16:44:43.569Z"
   },
   {
    "duration": 62,
    "start_time": "2022-03-27T16:44:43.674Z"
   },
   {
    "duration": 51,
    "start_time": "2022-03-27T16:44:43.738Z"
   },
   {
    "duration": 105,
    "start_time": "2022-03-27T16:44:43.790Z"
   },
   {
    "duration": 64,
    "start_time": "2022-03-27T16:44:43.897Z"
   },
   {
    "duration": 65,
    "start_time": "2022-03-27T16:44:43.964Z"
   },
   {
    "duration": 7,
    "start_time": "2022-03-27T16:44:44.031Z"
   },
   {
    "duration": 9,
    "start_time": "2022-03-27T16:44:44.039Z"
   },
   {
    "duration": 24,
    "start_time": "2022-03-27T16:44:44.050Z"
   },
   {
    "duration": 50,
    "start_time": "2022-03-27T16:44:44.076Z"
   },
   {
    "duration": 14,
    "start_time": "2022-03-27T16:44:44.128Z"
   },
   {
    "duration": 17,
    "start_time": "2022-03-27T16:44:44.144Z"
   },
   {
    "duration": 6,
    "start_time": "2022-03-27T16:44:44.163Z"
   },
   {
    "duration": 86,
    "start_time": "2022-03-27T16:44:44.170Z"
   },
   {
    "duration": 31,
    "start_time": "2022-03-27T16:44:44.258Z"
   },
   {
    "duration": 40,
    "start_time": "2022-03-27T16:44:44.291Z"
   },
   {
    "duration": 89,
    "start_time": "2022-03-27T16:44:44.333Z"
   },
   {
    "duration": 7,
    "start_time": "2022-03-27T16:44:44.424Z"
   },
   {
    "duration": 9,
    "start_time": "2022-03-27T16:44:44.433Z"
   },
   {
    "duration": 6,
    "start_time": "2022-03-27T16:44:44.444Z"
   },
   {
    "duration": 257,
    "start_time": "2022-03-27T16:44:44.452Z"
   },
   {
    "duration": 13,
    "start_time": "2022-03-27T16:44:44.710Z"
   },
   {
    "duration": 15,
    "start_time": "2022-03-27T16:44:44.724Z"
   },
   {
    "duration": 11,
    "start_time": "2022-03-27T16:44:44.740Z"
   },
   {
    "duration": 11,
    "start_time": "2022-03-27T16:44:44.753Z"
   },
   {
    "duration": 45,
    "start_time": "2022-03-27T16:44:44.766Z"
   },
   {
    "duration": 916,
    "start_time": "2022-03-27T16:44:44.813Z"
   },
   {
    "duration": 1105,
    "start_time": "2022-03-27T16:44:45.731Z"
   },
   {
    "duration": 13,
    "start_time": "2022-03-27T16:44:46.838Z"
   },
   {
    "duration": 342,
    "start_time": "2022-03-27T16:44:46.852Z"
   },
   {
    "duration": 315,
    "start_time": "2022-03-27T16:44:47.195Z"
   },
   {
    "duration": 6,
    "start_time": "2022-03-27T16:45:15.810Z"
   },
   {
    "duration": 18,
    "start_time": "2022-03-27T16:45:21.662Z"
   },
   {
    "duration": 5,
    "start_time": "2022-03-27T16:46:23.680Z"
   },
   {
    "duration": 4,
    "start_time": "2022-03-27T16:47:23.334Z"
   },
   {
    "duration": 20,
    "start_time": "2022-03-27T16:47:27.527Z"
   },
   {
    "duration": 90,
    "start_time": "2022-03-27T16:47:58.073Z"
   },
   {
    "duration": 6,
    "start_time": "2022-03-27T16:48:03.601Z"
   },
   {
    "duration": 20,
    "start_time": "2022-03-27T16:48:08.054Z"
   },
   {
    "duration": 298,
    "start_time": "2022-03-27T16:48:52.242Z"
   },
   {
    "duration": 318,
    "start_time": "2022-03-27T16:49:16.217Z"
   },
   {
    "duration": 342,
    "start_time": "2022-03-27T16:49:25.596Z"
   },
   {
    "duration": 8,
    "start_time": "2022-03-27T16:51:26.251Z"
   },
   {
    "duration": 20,
    "start_time": "2022-03-27T16:51:28.142Z"
   },
   {
    "duration": 3,
    "start_time": "2022-03-27T16:51:58.035Z"
   },
   {
    "duration": 3,
    "start_time": "2022-03-27T16:52:14.699Z"
   },
   {
    "duration": 98,
    "start_time": "2022-03-27T16:52:49.765Z"
   },
   {
    "duration": 5,
    "start_time": "2022-03-27T16:55:44.468Z"
   },
   {
    "duration": 1344,
    "start_time": "2022-03-27T19:41:19.663Z"
   },
   {
    "duration": 621,
    "start_time": "2022-03-27T19:41:21.010Z"
   },
   {
    "duration": 33,
    "start_time": "2022-03-27T19:41:21.633Z"
   },
   {
    "duration": 26,
    "start_time": "2022-03-27T19:41:21.667Z"
   },
   {
    "duration": 23,
    "start_time": "2022-03-27T19:41:21.695Z"
   },
   {
    "duration": 15,
    "start_time": "2022-03-27T19:41:21.720Z"
   },
   {
    "duration": 30,
    "start_time": "2022-03-27T19:41:21.737Z"
   },
   {
    "duration": 14,
    "start_time": "2022-03-27T19:41:21.769Z"
   },
   {
    "duration": 91,
    "start_time": "2022-03-27T19:41:21.784Z"
   },
   {
    "duration": 69,
    "start_time": "2022-03-27T19:41:21.877Z"
   },
   {
    "duration": 53,
    "start_time": "2022-03-27T19:41:21.948Z"
   },
   {
    "duration": 103,
    "start_time": "2022-03-27T19:41:22.002Z"
   },
   {
    "duration": 70,
    "start_time": "2022-03-27T19:41:22.106Z"
   },
   {
    "duration": 63,
    "start_time": "2022-03-27T19:41:22.179Z"
   },
   {
    "duration": 7,
    "start_time": "2022-03-27T19:41:22.244Z"
   },
   {
    "duration": 18,
    "start_time": "2022-03-27T19:41:22.252Z"
   },
   {
    "duration": 42,
    "start_time": "2022-03-27T19:41:22.271Z"
   },
   {
    "duration": 23,
    "start_time": "2022-03-27T19:41:22.315Z"
   },
   {
    "duration": 14,
    "start_time": "2022-03-27T19:41:22.340Z"
   },
   {
    "duration": 21,
    "start_time": "2022-03-27T19:41:22.355Z"
   },
   {
    "duration": 6,
    "start_time": "2022-03-27T19:41:22.402Z"
   },
   {
    "duration": 87,
    "start_time": "2022-03-27T19:41:22.409Z"
   },
   {
    "duration": 30,
    "start_time": "2022-03-27T19:41:22.497Z"
   },
   {
    "duration": 33,
    "start_time": "2022-03-27T19:41:22.528Z"
   },
   {
    "duration": 86,
    "start_time": "2022-03-27T19:41:22.562Z"
   },
   {
    "duration": 7,
    "start_time": "2022-03-27T19:41:22.649Z"
   },
   {
    "duration": 18,
    "start_time": "2022-03-27T19:41:22.657Z"
   },
   {
    "duration": 24,
    "start_time": "2022-03-27T19:41:22.676Z"
   },
   {
    "duration": 175,
    "start_time": "2022-03-27T19:41:22.702Z"
   },
   {
    "duration": 12,
    "start_time": "2022-03-27T19:41:22.879Z"
   },
   {
    "duration": 17,
    "start_time": "2022-03-27T19:41:22.892Z"
   },
   {
    "duration": 20,
    "start_time": "2022-03-27T19:41:22.910Z"
   },
   {
    "duration": 17,
    "start_time": "2022-03-27T19:41:22.932Z"
   },
   {
    "duration": 31,
    "start_time": "2022-03-27T19:41:22.951Z"
   },
   {
    "duration": 890,
    "start_time": "2022-03-27T19:41:22.984Z"
   },
   {
    "duration": 903,
    "start_time": "2022-03-27T19:41:23.876Z"
   },
   {
    "duration": 10,
    "start_time": "2022-03-27T19:41:24.781Z"
   },
   {
    "duration": 344,
    "start_time": "2022-03-27T19:41:24.801Z"
   },
   {
    "duration": 336,
    "start_time": "2022-03-27T19:41:25.146Z"
   },
   {
    "duration": 21,
    "start_time": "2022-03-27T19:41:25.484Z"
   },
   {
    "duration": 4,
    "start_time": "2022-03-27T19:41:25.509Z"
   },
   {
    "duration": 14,
    "start_time": "2022-03-27T19:41:25.514Z"
   },
   {
    "duration": 280,
    "start_time": "2022-03-27T19:41:25.529Z"
   },
   {
    "duration": 306,
    "start_time": "2022-03-27T19:41:25.810Z"
   },
   {
    "duration": 3,
    "start_time": "2022-03-27T19:41:26.118Z"
   },
   {
    "duration": 7,
    "start_time": "2022-03-27T19:41:26.122Z"
   },
   {
    "duration": 1349,
    "start_time": "2022-04-08T07:45:34.433Z"
   },
   {
    "duration": 398,
    "start_time": "2022-04-08T07:45:35.785Z"
   },
   {
    "duration": 48,
    "start_time": "2022-04-08T07:45:36.184Z"
   },
   {
    "duration": 115,
    "start_time": "2022-04-08T07:46:45.313Z"
   },
   {
    "duration": 371,
    "start_time": "2022-04-08T07:57:56.908Z"
   },
   {
    "duration": 29,
    "start_time": "2022-04-08T07:57:57.463Z"
   },
   {
    "duration": 25,
    "start_time": "2022-04-08T07:57:59.785Z"
   },
   {
    "duration": 23,
    "start_time": "2022-04-08T07:58:13.048Z"
   },
   {
    "duration": 15,
    "start_time": "2022-04-08T07:58:13.767Z"
   },
   {
    "duration": 17,
    "start_time": "2022-04-08T07:58:15.535Z"
   },
   {
    "duration": 51,
    "start_time": "2022-04-08T07:59:34.536Z"
   },
   {
    "duration": 3,
    "start_time": "2022-04-08T07:59:55.383Z"
   },
   {
    "duration": 370,
    "start_time": "2022-04-08T07:59:55.388Z"
   },
   {
    "duration": 27,
    "start_time": "2022-04-08T07:59:55.760Z"
   },
   {
    "duration": 28,
    "start_time": "2022-04-08T07:59:55.789Z"
   },
   {
    "duration": 19,
    "start_time": "2022-04-08T07:59:55.820Z"
   },
   {
    "duration": 31,
    "start_time": "2022-04-08T07:59:55.841Z"
   },
   {
    "duration": 15,
    "start_time": "2022-04-08T07:59:55.873Z"
   },
   {
    "duration": 19,
    "start_time": "2022-04-08T07:59:55.889Z"
   },
   {
    "duration": 90,
    "start_time": "2022-04-08T07:59:55.909Z"
   },
   {
    "duration": 11,
    "start_time": "2022-04-08T08:00:02.517Z"
   },
   {
    "duration": 93,
    "start_time": "2022-04-08T08:00:34.616Z"
   },
   {
    "duration": 53,
    "start_time": "2022-04-08T08:01:21.935Z"
   },
   {
    "duration": 11,
    "start_time": "2022-04-08T08:01:22.524Z"
   },
   {
    "duration": 3,
    "start_time": "2022-04-08T08:01:33.013Z"
   },
   {
    "duration": 392,
    "start_time": "2022-04-08T08:01:33.018Z"
   },
   {
    "duration": 30,
    "start_time": "2022-04-08T08:01:33.411Z"
   },
   {
    "duration": 26,
    "start_time": "2022-04-08T08:01:33.442Z"
   },
   {
    "duration": 21,
    "start_time": "2022-04-08T08:01:33.470Z"
   },
   {
    "duration": 14,
    "start_time": "2022-04-08T08:01:33.493Z"
   },
   {
    "duration": 15,
    "start_time": "2022-04-08T08:01:33.508Z"
   },
   {
    "duration": 7,
    "start_time": "2022-04-08T08:01:33.525Z"
   },
   {
    "duration": 100,
    "start_time": "2022-04-08T08:01:33.533Z"
   },
   {
    "duration": 44,
    "start_time": "2022-04-08T08:01:50.528Z"
   },
   {
    "duration": 146,
    "start_time": "2022-04-08T08:02:21.823Z"
   },
   {
    "duration": 43,
    "start_time": "2022-04-08T08:04:46.823Z"
   },
   {
    "duration": 108,
    "start_time": "2022-04-08T08:04:50.247Z"
   },
   {
    "duration": 50,
    "start_time": "2022-04-08T08:04:52.647Z"
   },
   {
    "duration": 46,
    "start_time": "2022-04-08T08:04:53.049Z"
   },
   {
    "duration": 6,
    "start_time": "2022-04-08T08:04:53.575Z"
   },
   {
    "duration": 7,
    "start_time": "2022-04-08T08:04:54.078Z"
   },
   {
    "duration": 26,
    "start_time": "2022-04-08T08:05:03.077Z"
   },
   {
    "duration": 21,
    "start_time": "2022-04-08T08:05:05.455Z"
   },
   {
    "duration": 14,
    "start_time": "2022-04-08T08:05:05.678Z"
   },
   {
    "duration": 68,
    "start_time": "2022-04-08T08:05:47.040Z"
   },
   {
    "duration": 30,
    "start_time": "2022-04-08T08:06:11.574Z"
   },
   {
    "duration": 33,
    "start_time": "2022-04-08T08:06:12.015Z"
   },
   {
    "duration": 75,
    "start_time": "2022-04-08T08:06:15.293Z"
   },
   {
    "duration": 11,
    "start_time": "2022-04-08T08:07:10.687Z"
   },
   {
    "duration": 13,
    "start_time": "2022-04-08T08:07:21.325Z"
   },
   {
    "duration": 1744,
    "start_time": "2022-04-08T08:07:37.316Z"
   },
   {
    "duration": 16,
    "start_time": "2022-04-08T08:08:13.562Z"
   },
   {
    "duration": 1891,
    "start_time": "2022-04-08T08:08:29.502Z"
   },
   {
    "duration": 12,
    "start_time": "2022-04-08T08:08:35.846Z"
   },
   {
    "duration": 11,
    "start_time": "2022-04-08T08:08:46.735Z"
   },
   {
    "duration": 7,
    "start_time": "2022-04-08T08:09:03.152Z"
   },
   {
    "duration": 6,
    "start_time": "2022-04-08T08:09:38.854Z"
   },
   {
    "duration": 10,
    "start_time": "2022-04-08T08:10:06.526Z"
   },
   {
    "duration": 12,
    "start_time": "2022-04-08T08:10:09.916Z"
   },
   {
    "duration": 4,
    "start_time": "2022-04-08T08:10:31.359Z"
   },
   {
    "duration": 3,
    "start_time": "2022-04-08T08:12:11.726Z"
   },
   {
    "duration": 13,
    "start_time": "2022-04-08T08:12:30.126Z"
   },
   {
    "duration": 46,
    "start_time": "2022-04-08T08:13:59.181Z"
   },
   {
    "duration": 14,
    "start_time": "2022-04-08T08:14:46.831Z"
   },
   {
    "duration": 5,
    "start_time": "2022-04-08T08:15:05.438Z"
   },
   {
    "duration": 15,
    "start_time": "2022-04-08T08:15:24.078Z"
   },
   {
    "duration": 4,
    "start_time": "2022-04-08T08:15:40.605Z"
   },
   {
    "duration": 3,
    "start_time": "2022-04-08T08:16:34.736Z"
   },
   {
    "duration": 3,
    "start_time": "2022-04-08T08:16:38.030Z"
   },
   {
    "duration": 4,
    "start_time": "2022-04-08T08:16:48.093Z"
   },
   {
    "duration": 3,
    "start_time": "2022-04-08T08:16:55.667Z"
   },
   {
    "duration": 4,
    "start_time": "2022-04-08T08:17:02.318Z"
   },
   {
    "duration": 4,
    "start_time": "2022-04-08T08:17:18.846Z"
   },
   {
    "duration": 85,
    "start_time": "2022-04-08T08:18:45.702Z"
   },
   {
    "duration": 27,
    "start_time": "2022-04-08T08:20:55.501Z"
   },
   {
    "duration": 27,
    "start_time": "2022-04-08T08:21:03.879Z"
   },
   {
    "duration": 32,
    "start_time": "2022-04-08T08:24:43.309Z"
   },
   {
    "duration": 4,
    "start_time": "2022-04-08T08:24:58.157Z"
   },
   {
    "duration": 4,
    "start_time": "2022-04-08T08:25:51.396Z"
   },
   {
    "duration": 33,
    "start_time": "2022-04-08T08:26:11.422Z"
   },
   {
    "duration": 36,
    "start_time": "2022-04-08T08:26:24.077Z"
   },
   {
    "duration": 40,
    "start_time": "2022-04-08T08:27:11.949Z"
   },
   {
    "duration": 28,
    "start_time": "2022-04-08T08:27:20.068Z"
   },
   {
    "duration": 3,
    "start_time": "2022-04-08T08:27:42.851Z"
   },
   {
    "duration": 29,
    "start_time": "2022-04-08T08:27:49.387Z"
   },
   {
    "duration": 127,
    "start_time": "2022-04-08T08:28:29.236Z"
   },
   {
    "duration": 126,
    "start_time": "2022-04-08T08:28:45.244Z"
   },
   {
    "duration": 127,
    "start_time": "2022-04-08T08:29:24.124Z"
   },
   {
    "duration": 148,
    "start_time": "2022-04-08T08:29:28.604Z"
   },
   {
    "duration": 59,
    "start_time": "2022-04-08T08:29:46.460Z"
   },
   {
    "duration": 11,
    "start_time": "2022-04-08T08:30:06.686Z"
   },
   {
    "duration": 12,
    "start_time": "2022-04-08T08:30:19.420Z"
   },
   {
    "duration": 15,
    "start_time": "2022-04-08T08:30:28.827Z"
   },
   {
    "duration": 61,
    "start_time": "2022-04-08T08:31:14.091Z"
   },
   {
    "duration": 125,
    "start_time": "2022-04-08T08:31:45.259Z"
   },
   {
    "duration": 4,
    "start_time": "2022-04-08T08:32:12.667Z"
   },
   {
    "duration": 80,
    "start_time": "2022-04-08T08:32:21.435Z"
   },
   {
    "duration": 81,
    "start_time": "2022-04-08T08:33:31.506Z"
   },
   {
    "duration": 16,
    "start_time": "2022-04-08T08:33:33.971Z"
   },
   {
    "duration": 110,
    "start_time": "2022-04-08T08:56:34.616Z"
   },
   {
    "duration": 13,
    "start_time": "2022-04-08T08:58:16.855Z"
   },
   {
    "duration": 6,
    "start_time": "2022-04-08T08:58:22.007Z"
   },
   {
    "duration": 19,
    "start_time": "2022-04-08T08:59:41.400Z"
   },
   {
    "duration": 18,
    "start_time": "2022-04-08T09:01:48.117Z"
   },
   {
    "duration": 12,
    "start_time": "2022-04-08T09:02:04.184Z"
   },
   {
    "duration": 16,
    "start_time": "2022-04-08T09:05:10.454Z"
   },
   {
    "duration": 16,
    "start_time": "2022-04-08T09:06:34.998Z"
   },
   {
    "duration": 7,
    "start_time": "2022-04-08T09:06:50.045Z"
   },
   {
    "duration": 6,
    "start_time": "2022-04-08T09:06:57.063Z"
   },
   {
    "duration": 5,
    "start_time": "2022-04-08T09:08:00.741Z"
   },
   {
    "duration": 6,
    "start_time": "2022-04-08T09:10:19.398Z"
   },
   {
    "duration": 1729,
    "start_time": "2022-04-08T09:10:21.077Z"
   },
   {
    "duration": 0,
    "start_time": "2022-04-08T09:10:22.808Z"
   },
   {
    "duration": 4,
    "start_time": "2022-04-08T09:11:14.146Z"
   },
   {
    "duration": 377,
    "start_time": "2022-04-08T09:11:14.151Z"
   },
   {
    "duration": 29,
    "start_time": "2022-04-08T09:11:14.530Z"
   },
   {
    "duration": 23,
    "start_time": "2022-04-08T09:11:14.561Z"
   },
   {
    "duration": 21,
    "start_time": "2022-04-08T09:11:14.586Z"
   },
   {
    "duration": 14,
    "start_time": "2022-04-08T09:11:14.608Z"
   },
   {
    "duration": 39,
    "start_time": "2022-04-08T09:11:14.624Z"
   },
   {
    "duration": 3,
    "start_time": "2022-04-08T09:11:14.665Z"
   },
   {
    "duration": 75,
    "start_time": "2022-04-08T09:11:14.670Z"
   },
   {
    "duration": 61,
    "start_time": "2022-04-08T09:11:14.748Z"
   },
   {
    "duration": 9,
    "start_time": "2022-04-08T09:11:14.811Z"
   },
   {
    "duration": 0,
    "start_time": "2022-04-08T09:11:14.822Z"
   },
   {
    "duration": 0,
    "start_time": "2022-04-08T09:11:14.823Z"
   },
   {
    "duration": 0,
    "start_time": "2022-04-08T09:11:14.824Z"
   },
   {
    "duration": 0,
    "start_time": "2022-04-08T09:11:14.825Z"
   },
   {
    "duration": 0,
    "start_time": "2022-04-08T09:11:14.826Z"
   },
   {
    "duration": 0,
    "start_time": "2022-04-08T09:11:14.827Z"
   },
   {
    "duration": 0,
    "start_time": "2022-04-08T09:11:14.828Z"
   },
   {
    "duration": 0,
    "start_time": "2022-04-08T09:11:14.828Z"
   },
   {
    "duration": 0,
    "start_time": "2022-04-08T09:11:14.829Z"
   },
   {
    "duration": 0,
    "start_time": "2022-04-08T09:11:14.830Z"
   },
   {
    "duration": 0,
    "start_time": "2022-04-08T09:11:14.831Z"
   },
   {
    "duration": 0,
    "start_time": "2022-04-08T09:11:14.832Z"
   },
   {
    "duration": 0,
    "start_time": "2022-04-08T09:11:14.833Z"
   },
   {
    "duration": 0,
    "start_time": "2022-04-08T09:11:14.834Z"
   },
   {
    "duration": 0,
    "start_time": "2022-04-08T09:11:14.863Z"
   },
   {
    "duration": 0,
    "start_time": "2022-04-08T09:11:14.864Z"
   },
   {
    "duration": 0,
    "start_time": "2022-04-08T09:11:14.865Z"
   },
   {
    "duration": 0,
    "start_time": "2022-04-08T09:11:14.866Z"
   },
   {
    "duration": 0,
    "start_time": "2022-04-08T09:11:14.867Z"
   },
   {
    "duration": 0,
    "start_time": "2022-04-08T09:11:14.868Z"
   },
   {
    "duration": 0,
    "start_time": "2022-04-08T09:11:14.869Z"
   },
   {
    "duration": 0,
    "start_time": "2022-04-08T09:11:14.870Z"
   },
   {
    "duration": 0,
    "start_time": "2022-04-08T09:11:14.871Z"
   },
   {
    "duration": 1867,
    "start_time": "2022-04-08T09:13:48.022Z"
   },
   {
    "duration": 15,
    "start_time": "2022-04-08T09:14:16.238Z"
   },
   {
    "duration": 4,
    "start_time": "2022-04-08T09:14:29.097Z"
   },
   {
    "duration": 373,
    "start_time": "2022-04-08T09:14:29.103Z"
   },
   {
    "duration": 32,
    "start_time": "2022-04-08T09:14:29.478Z"
   },
   {
    "duration": 23,
    "start_time": "2022-04-08T09:14:29.512Z"
   },
   {
    "duration": 34,
    "start_time": "2022-04-08T09:14:29.537Z"
   },
   {
    "duration": 15,
    "start_time": "2022-04-08T09:14:29.572Z"
   },
   {
    "duration": 18,
    "start_time": "2022-04-08T09:14:29.588Z"
   },
   {
    "duration": 7,
    "start_time": "2022-04-08T09:14:29.608Z"
   },
   {
    "duration": 89,
    "start_time": "2022-04-08T09:14:29.617Z"
   },
   {
    "duration": 57,
    "start_time": "2022-04-08T09:14:29.709Z"
   },
   {
    "duration": 9,
    "start_time": "2022-04-08T09:14:29.768Z"
   },
   {
    "duration": 0,
    "start_time": "2022-04-08T09:14:29.779Z"
   },
   {
    "duration": 0,
    "start_time": "2022-04-08T09:14:29.780Z"
   },
   {
    "duration": 0,
    "start_time": "2022-04-08T09:14:29.781Z"
   },
   {
    "duration": 0,
    "start_time": "2022-04-08T09:14:29.782Z"
   },
   {
    "duration": 0,
    "start_time": "2022-04-08T09:14:29.783Z"
   },
   {
    "duration": 0,
    "start_time": "2022-04-08T09:14:29.784Z"
   },
   {
    "duration": 0,
    "start_time": "2022-04-08T09:14:29.785Z"
   },
   {
    "duration": 0,
    "start_time": "2022-04-08T09:14:29.786Z"
   },
   {
    "duration": 0,
    "start_time": "2022-04-08T09:14:29.787Z"
   },
   {
    "duration": 0,
    "start_time": "2022-04-08T09:14:29.788Z"
   },
   {
    "duration": 0,
    "start_time": "2022-04-08T09:14:29.789Z"
   },
   {
    "duration": 0,
    "start_time": "2022-04-08T09:14:29.791Z"
   },
   {
    "duration": 0,
    "start_time": "2022-04-08T09:14:29.792Z"
   },
   {
    "duration": 0,
    "start_time": "2022-04-08T09:14:29.793Z"
   },
   {
    "duration": 0,
    "start_time": "2022-04-08T09:14:29.794Z"
   },
   {
    "duration": 0,
    "start_time": "2022-04-08T09:14:29.794Z"
   },
   {
    "duration": 0,
    "start_time": "2022-04-08T09:14:29.796Z"
   },
   {
    "duration": 0,
    "start_time": "2022-04-08T09:14:29.797Z"
   },
   {
    "duration": 0,
    "start_time": "2022-04-08T09:14:29.798Z"
   },
   {
    "duration": 0,
    "start_time": "2022-04-08T09:14:29.799Z"
   },
   {
    "duration": 0,
    "start_time": "2022-04-08T09:14:29.800Z"
   },
   {
    "duration": 0,
    "start_time": "2022-04-08T09:14:29.801Z"
   },
   {
    "duration": 0,
    "start_time": "2022-04-08T09:14:29.802Z"
   },
   {
    "duration": 47,
    "start_time": "2022-04-08T09:14:40.085Z"
   },
   {
    "duration": 95,
    "start_time": "2022-04-08T09:14:40.557Z"
   },
   {
    "duration": 49,
    "start_time": "2022-04-08T09:14:40.900Z"
   },
   {
    "duration": 43,
    "start_time": "2022-04-08T09:14:41.084Z"
   },
   {
    "duration": 6,
    "start_time": "2022-04-08T09:14:41.244Z"
   },
   {
    "duration": 8,
    "start_time": "2022-04-08T09:14:41.416Z"
   },
   {
    "duration": 25,
    "start_time": "2022-04-08T09:14:42.084Z"
   },
   {
    "duration": 22,
    "start_time": "2022-04-08T09:14:42.245Z"
   },
   {
    "duration": 14,
    "start_time": "2022-04-08T09:14:42.404Z"
   },
   {
    "duration": 15,
    "start_time": "2022-04-08T09:14:42.572Z"
   },
   {
    "duration": 55,
    "start_time": "2022-04-08T09:14:43.252Z"
   },
   {
    "duration": 29,
    "start_time": "2022-04-08T09:14:43.596Z"
   },
   {
    "duration": 31,
    "start_time": "2022-04-08T09:14:43.781Z"
   },
   {
    "duration": 134,
    "start_time": "2022-04-08T09:14:43.951Z"
   },
   {
    "duration": 4,
    "start_time": "2022-04-08T09:14:44.117Z"
   },
   {
    "duration": 80,
    "start_time": "2022-04-08T09:14:44.303Z"
   },
   {
    "duration": 14,
    "start_time": "2022-04-08T09:14:44.492Z"
   },
   {
    "duration": 6,
    "start_time": "2022-04-08T09:14:44.685Z"
   },
   {
    "duration": 21,
    "start_time": "2022-04-08T09:14:44.885Z"
   },
   {
    "duration": 14,
    "start_time": "2022-04-08T09:14:45.060Z"
   },
   {
    "duration": 17,
    "start_time": "2022-04-08T09:14:45.244Z"
   },
   {
    "duration": 8,
    "start_time": "2022-04-08T09:14:45.436Z"
   },
   {
    "duration": 4,
    "start_time": "2022-04-08T09:14:45.652Z"
   },
   {
    "duration": 5,
    "start_time": "2022-04-08T09:14:47.573Z"
   },
   {
    "duration": 16,
    "start_time": "2022-04-08T09:14:50.772Z"
   },
   {
    "duration": 154,
    "start_time": "2022-04-08T09:15:03.575Z"
   },
   {
    "duration": 11,
    "start_time": "2022-04-08T09:15:05.917Z"
   },
   {
    "duration": 130,
    "start_time": "2022-04-08T09:16:59.526Z"
   },
   {
    "duration": 12,
    "start_time": "2022-04-08T09:17:10.860Z"
   },
   {
    "duration": 10,
    "start_time": "2022-04-08T09:17:14.173Z"
   },
   {
    "duration": 10,
    "start_time": "2022-04-08T09:17:16.805Z"
   },
   {
    "duration": 14,
    "start_time": "2022-04-08T09:17:30.725Z"
   },
   {
    "duration": 891,
    "start_time": "2022-04-08T09:17:31.364Z"
   },
   {
    "duration": 109,
    "start_time": "2022-04-08T09:19:41.605Z"
   },
   {
    "duration": 778,
    "start_time": "2022-04-08T09:19:45.509Z"
   },
   {
    "duration": 908,
    "start_time": "2022-04-08T09:22:02.229Z"
   },
   {
    "duration": 127,
    "start_time": "2022-04-08T09:22:33.458Z"
   },
   {
    "duration": 786,
    "start_time": "2022-04-08T09:22:39.836Z"
   },
   {
    "duration": 1181,
    "start_time": "2022-04-08T09:23:29.991Z"
   },
   {
    "duration": 836,
    "start_time": "2022-04-08T09:24:00.223Z"
   },
   {
    "duration": 112,
    "start_time": "2022-04-08T09:26:42.403Z"
   },
   {
    "duration": 856,
    "start_time": "2022-04-08T09:27:09.108Z"
   },
   {
    "duration": 881,
    "start_time": "2022-04-08T09:27:40.395Z"
   },
   {
    "duration": 11,
    "start_time": "2022-04-08T09:27:47.993Z"
   },
   {
    "duration": 385,
    "start_time": "2022-04-08T09:27:48.402Z"
   },
   {
    "duration": 250,
    "start_time": "2022-04-08T09:27:48.789Z"
   },
   {
    "duration": 6,
    "start_time": "2022-04-08T09:27:54.251Z"
   },
   {
    "duration": 5,
    "start_time": "2022-04-08T09:27:55.066Z"
   },
   {
    "duration": 5,
    "start_time": "2022-04-08T09:28:10.779Z"
   },
   {
    "duration": 278,
    "start_time": "2022-04-08T09:28:11.155Z"
   },
   {
    "duration": 416,
    "start_time": "2022-04-08T09:28:11.628Z"
   },
   {
    "duration": 3,
    "start_time": "2022-04-08T09:28:12.620Z"
   },
   {
    "duration": 5,
    "start_time": "2022-04-08T09:28:13.684Z"
   },
   {
    "duration": 100,
    "start_time": "2022-04-08T09:35:51.146Z"
   },
   {
    "duration": 6,
    "start_time": "2022-04-08T09:37:04.162Z"
   },
   {
    "duration": 5,
    "start_time": "2022-04-08T09:37:10.626Z"
   },
   {
    "duration": 5,
    "start_time": "2022-04-08T09:37:13.522Z"
   },
   {
    "duration": 296,
    "start_time": "2022-04-08T09:37:13.729Z"
   },
   {
    "duration": 300,
    "start_time": "2022-04-08T09:37:14.413Z"
   },
   {
    "duration": 4,
    "start_time": "2022-04-08T09:37:15.443Z"
   },
   {
    "duration": 5,
    "start_time": "2022-04-08T09:37:16.332Z"
   },
   {
    "duration": 107,
    "start_time": "2022-04-08T09:54:27.881Z"
   },
   {
    "duration": 1392,
    "start_time": "2022-04-08T11:46:23.971Z"
   },
   {
    "duration": 438,
    "start_time": "2022-04-08T11:46:25.368Z"
   },
   {
    "duration": 34,
    "start_time": "2022-04-08T11:46:27.471Z"
   },
   {
    "duration": 32,
    "start_time": "2022-04-08T11:46:27.949Z"
   },
   {
    "duration": 26,
    "start_time": "2022-04-08T11:46:28.447Z"
   },
   {
    "duration": 15,
    "start_time": "2022-04-08T11:46:28.586Z"
   },
   {
    "duration": 18,
    "start_time": "2022-04-08T11:46:28.871Z"
   },
   {
    "duration": 4,
    "start_time": "2022-04-08T11:46:29.873Z"
   },
   {
    "duration": 82,
    "start_time": "2022-04-08T11:46:31.436Z"
   },
   {
    "duration": 84,
    "start_time": "2022-04-08T11:46:36.039Z"
   },
   {
    "duration": 101,
    "start_time": "2022-04-08T11:46:37.004Z"
   },
   {
    "duration": 3,
    "start_time": "2022-04-08T11:47:25.555Z"
   },
   {
    "duration": 395,
    "start_time": "2022-04-08T11:47:26.655Z"
   },
   {
    "duration": 40,
    "start_time": "2022-04-08T11:47:27.052Z"
   },
   {
    "duration": 9,
    "start_time": "2022-04-08T11:47:31.616Z"
   },
   {
    "duration": 9,
    "start_time": "2022-04-08T11:48:01.974Z"
   },
   {
    "duration": 9,
    "start_time": "2022-04-08T11:49:11.589Z"
   },
   {
    "duration": 10,
    "start_time": "2022-04-08T11:49:24.261Z"
   },
   {
    "duration": 4,
    "start_time": "2022-04-08T11:49:40.439Z"
   },
   {
    "duration": 11,
    "start_time": "2022-04-08T11:53:07.899Z"
   },
   {
    "duration": 4,
    "start_time": "2022-04-08T11:53:17.276Z"
   },
   {
    "duration": 74,
    "start_time": "2022-04-08T11:53:17.648Z"
   },
   {
    "duration": 52,
    "start_time": "2022-04-08T11:53:17.985Z"
   },
   {
    "duration": 5,
    "start_time": "2022-04-08T11:53:18.150Z"
   },
   {
    "duration": 48,
    "start_time": "2022-04-08T11:53:18.913Z"
   },
   {
    "duration": 105,
    "start_time": "2022-04-08T11:53:19.208Z"
   },
   {
    "duration": 48,
    "start_time": "2022-04-08T11:53:19.366Z"
   },
   {
    "duration": 46,
    "start_time": "2022-04-08T11:53:19.526Z"
   },
   {
    "duration": 8,
    "start_time": "2022-04-08T11:53:19.677Z"
   },
   {
    "duration": 8,
    "start_time": "2022-04-08T11:53:19.818Z"
   },
   {
    "duration": 27,
    "start_time": "2022-04-08T11:53:20.395Z"
   },
   {
    "duration": 22,
    "start_time": "2022-04-08T11:53:20.555Z"
   },
   {
    "duration": 15,
    "start_time": "2022-04-08T11:53:20.700Z"
   },
   {
    "duration": 18,
    "start_time": "2022-04-08T11:53:20.862Z"
   },
   {
    "duration": 70,
    "start_time": "2022-04-08T11:53:21.414Z"
   },
   {
    "duration": 28,
    "start_time": "2022-04-08T11:53:21.755Z"
   },
   {
    "duration": 32,
    "start_time": "2022-04-08T11:53:21.897Z"
   },
   {
    "duration": 77,
    "start_time": "2022-04-08T11:53:21.976Z"
   },
   {
    "duration": 4,
    "start_time": "2022-04-08T11:53:22.194Z"
   },
   {
    "duration": 152,
    "start_time": "2022-04-08T11:53:22.360Z"
   },
   {
    "duration": 14,
    "start_time": "2022-04-08T11:53:22.526Z"
   },
   {
    "duration": 8,
    "start_time": "2022-04-08T11:53:22.677Z"
   },
   {
    "duration": 21,
    "start_time": "2022-04-08T11:53:22.835Z"
   },
   {
    "duration": 13,
    "start_time": "2022-04-08T11:53:22.985Z"
   },
   {
    "duration": 17,
    "start_time": "2022-04-08T11:53:23.146Z"
   },
   {
    "duration": 8,
    "start_time": "2022-04-08T11:53:23.305Z"
   },
   {
    "duration": 4,
    "start_time": "2022-04-08T11:53:23.462Z"
   },
   {
    "duration": 6,
    "start_time": "2022-04-08T11:53:24.378Z"
   },
   {
    "duration": 17,
    "start_time": "2022-04-08T11:53:25.294Z"
   },
   {
    "duration": 160,
    "start_time": "2022-04-08T11:53:25.457Z"
   },
   {
    "duration": 13,
    "start_time": "2022-04-08T11:53:25.625Z"
   },
   {
    "duration": 13,
    "start_time": "2022-04-08T11:53:28.150Z"
   },
   {
    "duration": 12,
    "start_time": "2022-04-08T11:53:28.325Z"
   },
   {
    "duration": 11,
    "start_time": "2022-04-08T11:53:28.466Z"
   },
   {
    "duration": 16,
    "start_time": "2022-04-08T11:53:28.605Z"
   },
   {
    "duration": 828,
    "start_time": "2022-04-08T11:53:28.750Z"
   },
   {
    "duration": 923,
    "start_time": "2022-04-08T11:56:32.543Z"
   },
   {
    "duration": 1806,
    "start_time": "2022-04-21T11:25:06.306Z"
   },
   {
    "duration": 511,
    "start_time": "2022-04-21T11:25:08.115Z"
   },
   {
    "duration": 48,
    "start_time": "2022-04-21T11:25:08.628Z"
   },
   {
    "duration": 36,
    "start_time": "2022-04-21T11:25:08.678Z"
   },
   {
    "duration": 52,
    "start_time": "2022-04-21T11:25:08.717Z"
   },
   {
    "duration": 22,
    "start_time": "2022-04-21T11:25:08.772Z"
   },
   {
    "duration": 59,
    "start_time": "2022-04-21T11:25:08.796Z"
   },
   {
    "duration": 16,
    "start_time": "2022-04-21T11:25:08.858Z"
   },
   {
    "duration": 130,
    "start_time": "2022-04-21T11:25:08.876Z"
   },
   {
    "duration": 91,
    "start_time": "2022-04-21T11:25:09.008Z"
   },
   {
    "duration": 7,
    "start_time": "2022-04-21T11:25:09.101Z"
   },
   {
    "duration": 84,
    "start_time": "2022-04-21T11:25:09.110Z"
   },
   {
    "duration": 166,
    "start_time": "2022-04-21T11:25:09.197Z"
   },
   {
    "duration": 102,
    "start_time": "2022-04-21T11:25:09.368Z"
   },
   {
    "duration": 64,
    "start_time": "2022-04-21T11:25:09.473Z"
   },
   {
    "duration": 20,
    "start_time": "2022-04-21T11:25:09.539Z"
   },
   {
    "duration": 21,
    "start_time": "2022-04-21T11:25:09.561Z"
   },
   {
    "duration": 55,
    "start_time": "2022-04-21T11:25:09.584Z"
   },
   {
    "duration": 40,
    "start_time": "2022-04-21T11:25:09.642Z"
   },
   {
    "duration": 25,
    "start_time": "2022-04-21T11:25:09.687Z"
   },
   {
    "duration": 53,
    "start_time": "2022-04-21T11:25:09.715Z"
   },
   {
    "duration": 108,
    "start_time": "2022-04-21T11:25:09.771Z"
   },
   {
    "duration": 40,
    "start_time": "2022-04-21T11:25:09.881Z"
   },
   {
    "duration": 64,
    "start_time": "2022-04-21T11:25:09.924Z"
   },
   {
    "duration": 121,
    "start_time": "2022-04-21T11:25:09.990Z"
   },
   {
    "duration": 5,
    "start_time": "2022-04-21T11:25:10.114Z"
   },
   {
    "duration": 209,
    "start_time": "2022-04-21T11:25:10.121Z"
   },
   {
    "duration": 29,
    "start_time": "2022-04-21T11:25:10.333Z"
   },
   {
    "duration": 28,
    "start_time": "2022-04-21T11:25:10.364Z"
   },
   {
    "duration": 49,
    "start_time": "2022-04-21T11:25:10.395Z"
   },
   {
    "duration": 19,
    "start_time": "2022-04-21T11:25:10.446Z"
   },
   {
    "duration": 49,
    "start_time": "2022-04-21T11:25:10.467Z"
   },
   {
    "duration": 12,
    "start_time": "2022-04-21T11:25:10.518Z"
   },
   {
    "duration": 17,
    "start_time": "2022-04-21T11:25:10.533Z"
   },
   {
    "duration": 27,
    "start_time": "2022-04-21T11:25:10.552Z"
   },
   {
    "duration": 55,
    "start_time": "2022-04-21T11:25:10.582Z"
   },
   {
    "duration": 307,
    "start_time": "2022-04-21T11:25:10.640Z"
   },
   {
    "duration": 19,
    "start_time": "2022-04-21T11:25:10.951Z"
   },
   {
    "duration": 27,
    "start_time": "2022-04-21T11:25:10.973Z"
   },
   {
    "duration": 43,
    "start_time": "2022-04-21T11:25:11.002Z"
   },
   {
    "duration": 40,
    "start_time": "2022-04-21T11:25:11.051Z"
   },
   {
    "duration": 38,
    "start_time": "2022-04-21T11:25:11.093Z"
   },
   {
    "duration": 1517,
    "start_time": "2022-04-21T11:25:11.134Z"
   },
   {
    "duration": 1754,
    "start_time": "2022-04-21T11:25:12.654Z"
   },
   {
    "duration": 17,
    "start_time": "2022-04-21T11:25:14.410Z"
   },
   {
    "duration": 542,
    "start_time": "2022-04-21T11:25:14.429Z"
   },
   {
    "duration": 461,
    "start_time": "2022-04-21T11:25:14.973Z"
   },
   {
    "duration": 17,
    "start_time": "2022-04-21T11:25:15.437Z"
   },
   {
    "duration": 23,
    "start_time": "2022-04-21T11:25:15.457Z"
   },
   {
    "duration": 26,
    "start_time": "2022-04-21T11:25:15.483Z"
   },
   {
    "duration": 424,
    "start_time": "2022-04-21T11:25:15.511Z"
   },
   {
    "duration": 427,
    "start_time": "2022-04-21T11:25:15.937Z"
   },
   {
    "duration": 5,
    "start_time": "2022-04-21T11:25:16.366Z"
   },
   {
    "duration": 15,
    "start_time": "2022-04-21T11:25:16.373Z"
   }
  ],
  "kernelspec": {
   "display_name": "Python 3 (ipykernel)",
   "language": "python",
   "name": "python3"
  },
  "language_info": {
   "codemirror_mode": {
    "name": "ipython",
    "version": 3
   },
   "file_extension": ".py",
   "mimetype": "text/x-python",
   "name": "python",
   "nbconvert_exporter": "python",
   "pygments_lexer": "ipython3",
   "version": "3.9.5"
  },
  "toc": {
   "base_numbering": 1,
   "nav_menu": {},
   "number_sections": true,
   "sideBar": true,
   "skip_h1_title": true,
   "title_cell": "Table of Contents",
   "title_sidebar": "Contents",
   "toc_cell": false,
   "toc_position": {},
   "toc_section_display": true,
   "toc_window_display": false
  }
 },
 "nbformat": 4,
 "nbformat_minor": 2
}
