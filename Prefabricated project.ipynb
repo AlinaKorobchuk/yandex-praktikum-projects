{
 "cells": [
  {
   "cell_type": "markdown",
   "id": "688a4270",
   "metadata": {},
   "source": [
    "<b>Привет👋</b> \n",
    "\n",
    "Меня зовут Котович Алёна, я буду проверять твой проект. Давай общаться на «ты», надеюсь тебя это не смутит 😊 Моя цель - помочь тебе усовершенствовать проект и стать более востребованным на рынке труда аналитиком данных.\n",
    "  \n",
    "Теперь немного о формальностях. По ходу проверки твоего проекта я оставляю комментарии различных цветов. \n",
    "Прошу не удалять и не перемещать мои комментарии, это может замедлить процесс повторной проверки.\n",
    "\n",
    "<div class=\"alert alert-block alert-success\">    \n",
    "Зелёным цветом отмечены удачные решения, всё сделано без ошибок и недочётов.\n",
    "</div>\n",
    "<div class=\"alert alert-block alert-warning\">\n",
    "Жёлтым цветом выделено то, что в следующий раз можно сделать по-другому. Исправлять недочёты, указанные в этих комментариях не обязательно.\n",
    "</div>\n",
    "<div class=\"alert alert-block alert-danger\">\n",
    "Красные комментарии указывают на ошибки, которые необходимо исправить. Без этого я не смогу принять проект.\n",
    "</div>\n",
    "<div class=\"alert alert-block alert-info\">\n",
    "Свои комментарии можешь выделять вот таким голубым цветом.\n",
    "</div>"
   ]
  },
  {
   "cell_type": "markdown",
   "id": "857a68f1",
   "metadata": {},
   "source": [
    "<div class=\"alert alert-success\">\n",
    "<b>✔️ Комментарий ревьюера</b>\n",
    "\n",
    "Твой проект на очень хорошем уровне. Видно, что ты старалась. Ты не боишься использовать новые визуализации и хорошо формулируешь свои мысли. Но есть пара замечаний, которые нужно исправить.\n",
    "    \n",
    "Небольшие доработки:\n",
    "    \n",
    "1) Пара исправлений в предобработке\n",
    "    \n",
    "2) Замена пропусков в столбце rating  на маркерные значения и анализ их в портрете пользователя\n",
    "    \n",
    "3) Достроить один график и прокомментировать другую пару графиков\n",
    "    \n",
    "Жду твои исправления 😊 Будут вопросы, задавай.     \n",
    "\n",
    "</div>"
   ]
  },
  {
   "cell_type": "markdown",
   "id": "63356180",
   "metadata": {},
   "source": [
    "<div class=\"alert alert-success\">\n",
    "<b>✔️ Комментарий ревьюера v2</b>\n",
    "\n",
    "Супер! Спасибо за твои исправления. Теперь я готова принять твой проект! \n",
    "    \n",
    "Успехов в дальнейшем обучении. Ты уже хорошо освоила материалы этого модуля 😊    \n",
    "\n",
    "</div>"
   ]
  },
  {
   "cell_type": "markdown",
   "id": "73e65042",
   "metadata": {},
   "source": [
    "<div class=\"alert alert-block alert-warning\">\n",
    "<b>⚠️ Комментарий ревьюера v2</b>    \n",
    "   \n",
    "Я вижу, что ячейки в твоей тетрадке начинаются не с 1. Перед отправкой проекта стоит проверять работоспособность кода — это можно сделать, нажав на панели Jupiter Hub ``Kernel`` и ``Restart & Run All`` (см скриншот ниже).\n",
    "\n",
    "![](https://i.postimg.cc/yd19rYf6/Screenshot-428.png)\n",
    "\n",
    "</div>"
   ]
  },
  {
   "cell_type": "markdown",
   "id": "3745da8a",
   "metadata": {},
   "source": [
    "# Сборный проект № 1"
   ]
  },
  {
   "cell_type": "markdown",
   "id": "134d02c9",
   "metadata": {},
   "source": [
    "<div class=\"alert alert-block alert-info\">\n",
    "<b>Цель проекта:</b> выявить определяющие успешность игры закономерности. \n",
    "\n",
    "<b>Входные данные:</b> исторические данные о продажах игр, оценки пользователей и экспертов, жанры и платформы (например, Xbox или PlayStation) \n"
   ]
  },
  {
   "cell_type": "markdown",
   "id": "5f2cde0d",
   "metadata": {},
   "source": [
    "<h1>Содержание<span class=\"tocSkip\"></span></h1>\n",
    "<div class=\"toc\"><ul class=\"toc-item\"><li><span><a href=\"#Изучение-данных-из-файла\" data-toc-modified-id=\"Изучение-данных-из-файла-1\"><span class=\"toc-item-num\">1&nbsp;&nbsp;</span>Изучение данных из файла</a></span></li>\n",
    "    <li><span><a href=\"#Подготовка-данных\" data-toc-modified-id=\"Подготовка-данных-2\"><span class=\"toc-item-num\">2&nbsp;&nbsp;</span>Подготовка данных</a></span></li>\n",
    "    <li><span><a href=\"#Исследовательский-анализ-данных\" data-toc-modified-id=\"Исследовательский-анализ-данных-3\"><span class=\"toc-item-num\">3&nbsp;&nbsp;</span>Исследовательский анализ данных</a></span><ul class=\"toc-item\"></ul></li>\n",
    "    <li><span><a href=\"#Составление-портрета-пользователя\" data-toc-modified-id=\"Составление-портрета-пользователя-4\"><span class=\"toc-item-num\">4&nbsp;&nbsp;</span>Составление портрета пользователя</a></span><ul class=\"toc-item\"></ul></li>\n",
    "    <li><span><a href=\"#Проверка-гипотез\" data-toc-modified-id=\"Проверка-гипотез-5\"><span class=\"toc-item-num\">5&nbsp;&nbsp;</span>Проверка гипотез</a></span></li>\n",
    "    <li><span><a href=\"#Общий-вывод\" data-toc-modified-id=\"Общий-вывод-6\"><span class=\"toc-item-num\">6&nbsp;&nbsp;</span>Общий вывод</a></span></li>\n",
    "    </ul>\n",
    "</div>"
   ]
  },
  {
   "cell_type": "markdown",
   "id": "d1a35c50",
   "metadata": {},
   "source": [
    "<div class=\"alert alert-success\">\n",
    "<b>✔️ Комментарий ревьюера</b>\n",
    "\n",
    "Хорошо, мы определили цель проекта. Было бы неплохо добавить его описание, чтобы тебе самой было проще вспомнить, что же тут происходит.\n",
    "\n",
    "</div>"
   ]
  },
  {
   "cell_type": "markdown",
   "id": "4205cbf1",
   "metadata": {},
   "source": [
    "<div class=\"alert alert-block alert-warning\">\n",
    "<b>⚠️ Комментарий ревьюера</b>    \n",
    "   \n",
    "Кажется, работа над проектов велась локально и пути к файлам не были изменены на общедоступные. Сейчас я внесу изменения в твой код, но в следующий раз будь внимательней. Стоит писать код таким образом, что бы он запускался и в jupiter hub, и локально без внесения дополнительных правок. Этого можно добиться многими способами. Например, использовать конструкцию ``try-except`` — для путей файлов: ``try`` — пути на локальном компьютере, ``except``  пути на сервере. Или применить библиотеку ``os``:\n",
    "\n",
    "    import os\n",
    "\n",
    "    pth1 = '/folder_1/data.csv'\n",
    "    pth2 = '/folder_2/data.csv'\n",
    "    \n",
    "    if os.path.exists(pth1):\n",
    "        query_1 = pd.read_csv(pth1)\n",
    "    elif os.path.exists(pth2):\n",
    "        query_1 = pd.read_csv(pth2)\n",
    "    else:\n",
    "        print('Something is wrong)\n",
    "\n",
    "</div>"
   ]
  },
  {
   "cell_type": "markdown",
   "id": "ff92bc88",
   "metadata": {},
   "source": [
    "## Изучение данных из файла"
   ]
  },
  {
   "cell_type": "code",
   "execution_count": 1,
   "id": "74a1f906",
   "metadata": {},
   "outputs": [],
   "source": [
    "import pandas as pd\n",
    "import numpy as np\n",
    "import matplotlib.pyplot as plt\n",
    "import seaborn as sns\n",
    "import warnings\n",
    "from scipy import stats as st\n",
    "from pylab import rcParams\n",
    "rcParams['figure.figsize'] = 10, 7"
   ]
  },
  {
   "cell_type": "code",
   "execution_count": 2,
   "id": "fe440603",
   "metadata": {},
   "outputs": [],
   "source": [
    "#data = pd.read_csv(\"games.csv\")\n",
    "data = pd.read_csv('/datasets/games.csv')"
   ]
  },
  {
   "cell_type": "code",
   "execution_count": 3,
   "id": "fca60352",
   "metadata": {},
   "outputs": [
    {
     "data": {
      "text/html": [
       "<div>\n",
       "<style scoped>\n",
       "    .dataframe tbody tr th:only-of-type {\n",
       "        vertical-align: middle;\n",
       "    }\n",
       "\n",
       "    .dataframe tbody tr th {\n",
       "        vertical-align: top;\n",
       "    }\n",
       "\n",
       "    .dataframe thead th {\n",
       "        text-align: right;\n",
       "    }\n",
       "</style>\n",
       "<table border=\"1\" class=\"dataframe\">\n",
       "  <thead>\n",
       "    <tr style=\"text-align: right;\">\n",
       "      <th></th>\n",
       "      <th>Name</th>\n",
       "      <th>Platform</th>\n",
       "      <th>Year_of_Release</th>\n",
       "      <th>Genre</th>\n",
       "      <th>NA_sales</th>\n",
       "      <th>EU_sales</th>\n",
       "      <th>JP_sales</th>\n",
       "      <th>Other_sales</th>\n",
       "      <th>Critic_Score</th>\n",
       "      <th>User_Score</th>\n",
       "      <th>Rating</th>\n",
       "    </tr>\n",
       "  </thead>\n",
       "  <tbody>\n",
       "    <tr>\n",
       "      <th>0</th>\n",
       "      <td>Wii Sports</td>\n",
       "      <td>Wii</td>\n",
       "      <td>2006.0</td>\n",
       "      <td>Sports</td>\n",
       "      <td>41.36</td>\n",
       "      <td>28.96</td>\n",
       "      <td>3.77</td>\n",
       "      <td>8.45</td>\n",
       "      <td>76.0</td>\n",
       "      <td>8</td>\n",
       "      <td>E</td>\n",
       "    </tr>\n",
       "    <tr>\n",
       "      <th>1</th>\n",
       "      <td>Super Mario Bros.</td>\n",
       "      <td>NES</td>\n",
       "      <td>1985.0</td>\n",
       "      <td>Platform</td>\n",
       "      <td>29.08</td>\n",
       "      <td>3.58</td>\n",
       "      <td>6.81</td>\n",
       "      <td>0.77</td>\n",
       "      <td>NaN</td>\n",
       "      <td>NaN</td>\n",
       "      <td>NaN</td>\n",
       "    </tr>\n",
       "    <tr>\n",
       "      <th>2</th>\n",
       "      <td>Mario Kart Wii</td>\n",
       "      <td>Wii</td>\n",
       "      <td>2008.0</td>\n",
       "      <td>Racing</td>\n",
       "      <td>15.68</td>\n",
       "      <td>12.76</td>\n",
       "      <td>3.79</td>\n",
       "      <td>3.29</td>\n",
       "      <td>82.0</td>\n",
       "      <td>8.3</td>\n",
       "      <td>E</td>\n",
       "    </tr>\n",
       "    <tr>\n",
       "      <th>3</th>\n",
       "      <td>Wii Sports Resort</td>\n",
       "      <td>Wii</td>\n",
       "      <td>2009.0</td>\n",
       "      <td>Sports</td>\n",
       "      <td>15.61</td>\n",
       "      <td>10.93</td>\n",
       "      <td>3.28</td>\n",
       "      <td>2.95</td>\n",
       "      <td>80.0</td>\n",
       "      <td>8</td>\n",
       "      <td>E</td>\n",
       "    </tr>\n",
       "    <tr>\n",
       "      <th>4</th>\n",
       "      <td>Pokemon Red/Pokemon Blue</td>\n",
       "      <td>GB</td>\n",
       "      <td>1996.0</td>\n",
       "      <td>Role-Playing</td>\n",
       "      <td>11.27</td>\n",
       "      <td>8.89</td>\n",
       "      <td>10.22</td>\n",
       "      <td>1.00</td>\n",
       "      <td>NaN</td>\n",
       "      <td>NaN</td>\n",
       "      <td>NaN</td>\n",
       "    </tr>\n",
       "  </tbody>\n",
       "</table>\n",
       "</div>"
      ],
      "text/plain": [
       "                       Name Platform  Year_of_Release         Genre  NA_sales  \\\n",
       "0                Wii Sports      Wii           2006.0        Sports     41.36   \n",
       "1         Super Mario Bros.      NES           1985.0      Platform     29.08   \n",
       "2            Mario Kart Wii      Wii           2008.0        Racing     15.68   \n",
       "3         Wii Sports Resort      Wii           2009.0        Sports     15.61   \n",
       "4  Pokemon Red/Pokemon Blue       GB           1996.0  Role-Playing     11.27   \n",
       "\n",
       "   EU_sales  JP_sales  Other_sales  Critic_Score User_Score Rating  \n",
       "0     28.96      3.77         8.45          76.0          8      E  \n",
       "1      3.58      6.81         0.77           NaN        NaN    NaN  \n",
       "2     12.76      3.79         3.29          82.0        8.3      E  \n",
       "3     10.93      3.28         2.95          80.0          8      E  \n",
       "4      8.89     10.22         1.00           NaN        NaN    NaN  "
      ]
     },
     "execution_count": 3,
     "metadata": {},
     "output_type": "execute_result"
    }
   ],
   "source": [
    "data.head()"
   ]
  },
  {
   "cell_type": "code",
   "execution_count": 4,
   "id": "adcddc85",
   "metadata": {},
   "outputs": [
    {
     "name": "stdout",
     "output_type": "stream",
     "text": [
      "<class 'pandas.core.frame.DataFrame'>\n",
      "RangeIndex: 16715 entries, 0 to 16714\n",
      "Data columns (total 11 columns):\n",
      " #   Column           Non-Null Count  Dtype  \n",
      "---  ------           --------------  -----  \n",
      " 0   Name             16713 non-null  object \n",
      " 1   Platform         16715 non-null  object \n",
      " 2   Year_of_Release  16446 non-null  float64\n",
      " 3   Genre            16713 non-null  object \n",
      " 4   NA_sales         16715 non-null  float64\n",
      " 5   EU_sales         16715 non-null  float64\n",
      " 6   JP_sales         16715 non-null  float64\n",
      " 7   Other_sales      16715 non-null  float64\n",
      " 8   Critic_Score     8137 non-null   float64\n",
      " 9   User_Score       10014 non-null  object \n",
      " 10  Rating           9949 non-null   object \n",
      "dtypes: float64(6), object(5)\n",
      "memory usage: 1.4+ MB\n"
     ]
    }
   ],
   "source": [
    "data.info()"
   ]
  },
  {
   "cell_type": "markdown",
   "id": "10d4f8b6",
   "metadata": {},
   "source": [
    "<div class=\"alert alert-block alert-info\">\n",
    "Всего в исходных данных представлена информация о 16715 играх, типы данных в исходном наборе - object и float."
   ]
  },
  {
   "cell_type": "markdown",
   "id": "6c90a925",
   "metadata": {},
   "source": [
    "<div class=\"alert alert-success\">\n",
    "<b>✔️ Комментарий ревьюера</b>\n",
    "\n",
    "Хорошо.\n",
    "\n",
    "</div>"
   ]
  },
  {
   "cell_type": "markdown",
   "id": "fa1c0537",
   "metadata": {},
   "source": [
    "## Подготовка данных"
   ]
  },
  {
   "cell_type": "code",
   "execution_count": 5,
   "id": "b6f8617d",
   "metadata": {},
   "outputs": [],
   "source": [
    "#Приведем к нижнему регистру названия стобцов\n",
    "data.columns = data.columns.str.lower()"
   ]
  },
  {
   "cell_type": "code",
   "execution_count": 6,
   "id": "c00ef752",
   "metadata": {},
   "outputs": [
    {
     "data": {
      "text/plain": [
       "Index(['name', 'platform', 'year_of_release', 'genre', 'na_sales', 'eu_sales',\n",
       "       'jp_sales', 'other_sales', 'critic_score', 'user_score', 'rating'],\n",
       "      dtype='object')"
      ]
     },
     "execution_count": 6,
     "metadata": {},
     "output_type": "execute_result"
    }
   ],
   "source": [
    "data.columns"
   ]
  },
  {
   "cell_type": "markdown",
   "id": "5a133a96",
   "metadata": {},
   "source": [
    "<div class=\"alert alert-success\">\n",
    "<b>✔️ Комментарий ревьюера</b>\n",
    "\n",
    "Всё верно.\n",
    "\n",
    "</div>"
   ]
  },
  {
   "cell_type": "markdown",
   "id": "ccb25944",
   "metadata": {},
   "source": [
    "### Преобразование типов данных"
   ]
  },
  {
   "cell_type": "code",
   "execution_count": 7,
   "id": "8ec6c39e",
   "metadata": {},
   "outputs": [],
   "source": [
    "data['year_of_release'] = data['year_of_release'].astype(\"Int64\")\n",
    "data['critic_score'] = data['critic_score'].astype(\"Int64\")\n",
    "data['user_score'] = pd.to_numeric(data['user_score'], errors='ignore')"
   ]
  },
  {
   "cell_type": "code",
   "execution_count": 8,
   "id": "0e74c358",
   "metadata": {},
   "outputs": [
    {
     "name": "stdout",
     "output_type": "stream",
     "text": [
      "<class 'pandas.core.frame.DataFrame'>\n",
      "RangeIndex: 16715 entries, 0 to 16714\n",
      "Data columns (total 11 columns):\n",
      " #   Column           Non-Null Count  Dtype  \n",
      "---  ------           --------------  -----  \n",
      " 0   name             16713 non-null  object \n",
      " 1   platform         16715 non-null  object \n",
      " 2   year_of_release  16446 non-null  Int64  \n",
      " 3   genre            16713 non-null  object \n",
      " 4   na_sales         16715 non-null  float64\n",
      " 5   eu_sales         16715 non-null  float64\n",
      " 6   jp_sales         16715 non-null  float64\n",
      " 7   other_sales      16715 non-null  float64\n",
      " 8   critic_score     8137 non-null   Int64  \n",
      " 9   user_score       10014 non-null  object \n",
      " 10  rating           9949 non-null   object \n",
      "dtypes: Int64(2), float64(4), object(5)\n",
      "memory usage: 1.4+ MB\n"
     ]
    }
   ],
   "source": [
    "data.info()"
   ]
  },
  {
   "cell_type": "markdown",
   "id": "3dbca396",
   "metadata": {},
   "source": [
    "<div class=\"alert alert-block alert-info\">\n",
    "Преобразовали два поля к типу int: year_of_release, critic_score, так эти поля не нужно отображать с цифрами после запятой. User_score - к типу float."
   ]
  },
  {
   "cell_type": "markdown",
   "id": "bcf13cdb",
   "metadata": {},
   "source": [
    "<div class=\"alert alert-block alert-warning\">\n",
    "<b>⚠️ Комментарий ревьюера</b>    \n",
    "   \n",
    "Судя по коду, ты всё таки не преобразовала critic_score к типу int.\n",
    "</div>"
   ]
  },
  {
   "cell_type": "markdown",
   "id": "841ab28f",
   "metadata": {},
   "source": [
    "<div class=\"alert alert-info\"> <b>Комментарий студента:</b> Преобразовала и critic_score</div>"
   ]
  },
  {
   "cell_type": "markdown",
   "id": "e112ecfa",
   "metadata": {},
   "source": [
    "<div class=\"alert alert-success\">\n",
    "<b>✔️ Комментарий ревьюера v2</b>\n",
    "\n",
    "✅\n",
    "\n",
    "</div>"
   ]
  },
  {
   "cell_type": "markdown",
   "id": "b0d12022",
   "metadata": {},
   "source": [
    "### Обработка пропусков"
   ]
  },
  {
   "cell_type": "code",
   "execution_count": 9,
   "id": "f250c9b8",
   "metadata": {},
   "outputs": [
    {
     "data": {
      "text/plain": [
       "name                  2\n",
       "platform              0\n",
       "year_of_release     269\n",
       "genre                 2\n",
       "na_sales              0\n",
       "eu_sales              0\n",
       "jp_sales              0\n",
       "other_sales           0\n",
       "critic_score       8578\n",
       "user_score         6701\n",
       "rating             6766\n",
       "dtype: int64"
      ]
     },
     "execution_count": 9,
     "metadata": {},
     "output_type": "execute_result"
    }
   ],
   "source": [
    "data.isna().sum()"
   ]
  },
  {
   "cell_type": "markdown",
   "id": "347a3abd",
   "metadata": {},
   "source": [
    "<div class=\"alert alert-block alert-info\">\n",
    "Пропуски могут возникать по двум причинам:\n",
    "    \n",
    "- преднамеренные\n",
    "- случайные\n",
    "    \n",
    "Пропуски в поле год выпуска не следует никак заменять, их лучше удалить, так как достоверно восстановить невозможно. Пропуски в полях оценка критиков и пользователей оставляем пустыми, потому что возможно таких данных просто нет по этим видеоиграм, возможно, не были проставлены оценки. \n",
    "Также было выявлено, что большнство пропусков присутствуют одновременно в трех последних столбцах, и, возможно, они являются преднамеренными, поэтому никак не будем их заменять. Их много, не будем от них избавляться. И могут пригодиться по этим строкам данные для подсчета продаж в будущем.\n",
    "Есть еще 2 пропуска в поле с названием игры и жанра одновременно. Удалим эти 2 строки.\n",
    "</div>\n"
   ]
  },
  {
   "cell_type": "markdown",
   "id": "2f64c6f1",
   "metadata": {},
   "source": [
    "<div class=\"alert alert-success\">\n",
    "<b>✔️ Комментарий ревьюера</b>\n",
    "\n",
    "По большей части согласна с твоим решением.\n",
    "\n",
    "</div>"
   ]
  },
  {
   "cell_type": "code",
   "execution_count": 10,
   "id": "3f4c1bed",
   "metadata": {},
   "outputs": [
    {
     "data": {
      "text/html": [
       "<div>\n",
       "<style scoped>\n",
       "    .dataframe tbody tr th:only-of-type {\n",
       "        vertical-align: middle;\n",
       "    }\n",
       "\n",
       "    .dataframe tbody tr th {\n",
       "        vertical-align: top;\n",
       "    }\n",
       "\n",
       "    .dataframe thead th {\n",
       "        text-align: right;\n",
       "    }\n",
       "</style>\n",
       "<table border=\"1\" class=\"dataframe\">\n",
       "  <thead>\n",
       "    <tr style=\"text-align: right;\">\n",
       "      <th></th>\n",
       "      <th>name</th>\n",
       "      <th>platform</th>\n",
       "      <th>year_of_release</th>\n",
       "      <th>genre</th>\n",
       "      <th>na_sales</th>\n",
       "      <th>eu_sales</th>\n",
       "      <th>jp_sales</th>\n",
       "      <th>other_sales</th>\n",
       "      <th>critic_score</th>\n",
       "      <th>user_score</th>\n",
       "      <th>rating</th>\n",
       "    </tr>\n",
       "  </thead>\n",
       "  <tbody>\n",
       "    <tr>\n",
       "      <th>659</th>\n",
       "      <td>NaN</td>\n",
       "      <td>GEN</td>\n",
       "      <td>1993</td>\n",
       "      <td>NaN</td>\n",
       "      <td>1.78</td>\n",
       "      <td>0.53</td>\n",
       "      <td>0.00</td>\n",
       "      <td>0.08</td>\n",
       "      <td>&lt;NA&gt;</td>\n",
       "      <td>NaN</td>\n",
       "      <td>NaN</td>\n",
       "    </tr>\n",
       "    <tr>\n",
       "      <th>14244</th>\n",
       "      <td>NaN</td>\n",
       "      <td>GEN</td>\n",
       "      <td>1993</td>\n",
       "      <td>NaN</td>\n",
       "      <td>0.00</td>\n",
       "      <td>0.00</td>\n",
       "      <td>0.03</td>\n",
       "      <td>0.00</td>\n",
       "      <td>&lt;NA&gt;</td>\n",
       "      <td>NaN</td>\n",
       "      <td>NaN</td>\n",
       "    </tr>\n",
       "  </tbody>\n",
       "</table>\n",
       "</div>"
      ],
      "text/plain": [
       "      name platform  year_of_release genre  na_sales  eu_sales  jp_sales  \\\n",
       "659    NaN      GEN             1993   NaN      1.78      0.53      0.00   \n",
       "14244  NaN      GEN             1993   NaN      0.00      0.00      0.03   \n",
       "\n",
       "       other_sales  critic_score user_score rating  \n",
       "659           0.08          <NA>        NaN    NaN  \n",
       "14244         0.00          <NA>        NaN    NaN  "
      ]
     },
     "execution_count": 10,
     "metadata": {},
     "output_type": "execute_result"
    }
   ],
   "source": [
    "data[data['genre'].isna()]"
   ]
  },
  {
   "cell_type": "code",
   "execution_count": 11,
   "id": "1634158a",
   "metadata": {},
   "outputs": [],
   "source": [
    "#Удалим записи с пустыми значениями в поле year_of_release и name\n",
    "data = data.dropna(subset=['name', 'year_of_release'])"
   ]
  },
  {
   "cell_type": "code",
   "execution_count": 12,
   "id": "64847400",
   "metadata": {},
   "outputs": [
    {
     "data": {
      "text/plain": [
       "name                  0\n",
       "platform              0\n",
       "year_of_release       0\n",
       "genre                 0\n",
       "na_sales              0\n",
       "eu_sales              0\n",
       "jp_sales              0\n",
       "other_sales           0\n",
       "critic_score       8461\n",
       "user_score         6605\n",
       "rating             6676\n",
       "dtype: int64"
      ]
     },
     "execution_count": 12,
     "metadata": {},
     "output_type": "execute_result"
    }
   ],
   "source": [
    "data.isna().sum()"
   ]
  },
  {
   "cell_type": "code",
   "execution_count": 13,
   "id": "b98e9b50",
   "metadata": {},
   "outputs": [
    {
     "data": {
      "text/html": [
       "<div>\n",
       "<style scoped>\n",
       "    .dataframe tbody tr th:only-of-type {\n",
       "        vertical-align: middle;\n",
       "    }\n",
       "\n",
       "    .dataframe tbody tr th {\n",
       "        vertical-align: top;\n",
       "    }\n",
       "\n",
       "    .dataframe thead th {\n",
       "        text-align: right;\n",
       "    }\n",
       "</style>\n",
       "<table border=\"1\" class=\"dataframe\">\n",
       "  <thead>\n",
       "    <tr style=\"text-align: right;\">\n",
       "      <th></th>\n",
       "      <th>name</th>\n",
       "      <th>platform</th>\n",
       "      <th>year_of_release</th>\n",
       "      <th>genre</th>\n",
       "      <th>na_sales</th>\n",
       "      <th>eu_sales</th>\n",
       "      <th>jp_sales</th>\n",
       "      <th>other_sales</th>\n",
       "      <th>critic_score</th>\n",
       "      <th>user_score</th>\n",
       "      <th>rating</th>\n",
       "    </tr>\n",
       "  </thead>\n",
       "  <tbody>\n",
       "    <tr>\n",
       "      <th>1</th>\n",
       "      <td>Super Mario Bros.</td>\n",
       "      <td>NES</td>\n",
       "      <td>1985</td>\n",
       "      <td>Platform</td>\n",
       "      <td>29.08</td>\n",
       "      <td>3.58</td>\n",
       "      <td>6.81</td>\n",
       "      <td>0.77</td>\n",
       "      <td>&lt;NA&gt;</td>\n",
       "      <td>NaN</td>\n",
       "      <td>NaN</td>\n",
       "    </tr>\n",
       "    <tr>\n",
       "      <th>4</th>\n",
       "      <td>Pokemon Red/Pokemon Blue</td>\n",
       "      <td>GB</td>\n",
       "      <td>1996</td>\n",
       "      <td>Role-Playing</td>\n",
       "      <td>11.27</td>\n",
       "      <td>8.89</td>\n",
       "      <td>10.22</td>\n",
       "      <td>1.00</td>\n",
       "      <td>&lt;NA&gt;</td>\n",
       "      <td>NaN</td>\n",
       "      <td>NaN</td>\n",
       "    </tr>\n",
       "    <tr>\n",
       "      <th>5</th>\n",
       "      <td>Tetris</td>\n",
       "      <td>GB</td>\n",
       "      <td>1989</td>\n",
       "      <td>Puzzle</td>\n",
       "      <td>23.20</td>\n",
       "      <td>2.26</td>\n",
       "      <td>4.22</td>\n",
       "      <td>0.58</td>\n",
       "      <td>&lt;NA&gt;</td>\n",
       "      <td>NaN</td>\n",
       "      <td>NaN</td>\n",
       "    </tr>\n",
       "    <tr>\n",
       "      <th>9</th>\n",
       "      <td>Duck Hunt</td>\n",
       "      <td>NES</td>\n",
       "      <td>1984</td>\n",
       "      <td>Shooter</td>\n",
       "      <td>26.93</td>\n",
       "      <td>0.63</td>\n",
       "      <td>0.28</td>\n",
       "      <td>0.47</td>\n",
       "      <td>&lt;NA&gt;</td>\n",
       "      <td>NaN</td>\n",
       "      <td>NaN</td>\n",
       "    </tr>\n",
       "    <tr>\n",
       "      <th>10</th>\n",
       "      <td>Nintendogs</td>\n",
       "      <td>DS</td>\n",
       "      <td>2005</td>\n",
       "      <td>Simulation</td>\n",
       "      <td>9.05</td>\n",
       "      <td>10.95</td>\n",
       "      <td>1.93</td>\n",
       "      <td>2.74</td>\n",
       "      <td>&lt;NA&gt;</td>\n",
       "      <td>NaN</td>\n",
       "      <td>NaN</td>\n",
       "    </tr>\n",
       "    <tr>\n",
       "      <th>...</th>\n",
       "      <td>...</td>\n",
       "      <td>...</td>\n",
       "      <td>...</td>\n",
       "      <td>...</td>\n",
       "      <td>...</td>\n",
       "      <td>...</td>\n",
       "      <td>...</td>\n",
       "      <td>...</td>\n",
       "      <td>...</td>\n",
       "      <td>...</td>\n",
       "      <td>...</td>\n",
       "    </tr>\n",
       "    <tr>\n",
       "      <th>16710</th>\n",
       "      <td>Samurai Warriors: Sanada Maru</td>\n",
       "      <td>PS3</td>\n",
       "      <td>2016</td>\n",
       "      <td>Action</td>\n",
       "      <td>0.00</td>\n",
       "      <td>0.00</td>\n",
       "      <td>0.01</td>\n",
       "      <td>0.00</td>\n",
       "      <td>&lt;NA&gt;</td>\n",
       "      <td>NaN</td>\n",
       "      <td>NaN</td>\n",
       "    </tr>\n",
       "    <tr>\n",
       "      <th>16711</th>\n",
       "      <td>LMA Manager 2007</td>\n",
       "      <td>X360</td>\n",
       "      <td>2006</td>\n",
       "      <td>Sports</td>\n",
       "      <td>0.00</td>\n",
       "      <td>0.01</td>\n",
       "      <td>0.00</td>\n",
       "      <td>0.00</td>\n",
       "      <td>&lt;NA&gt;</td>\n",
       "      <td>NaN</td>\n",
       "      <td>NaN</td>\n",
       "    </tr>\n",
       "    <tr>\n",
       "      <th>16712</th>\n",
       "      <td>Haitaka no Psychedelica</td>\n",
       "      <td>PSV</td>\n",
       "      <td>2016</td>\n",
       "      <td>Adventure</td>\n",
       "      <td>0.00</td>\n",
       "      <td>0.00</td>\n",
       "      <td>0.01</td>\n",
       "      <td>0.00</td>\n",
       "      <td>&lt;NA&gt;</td>\n",
       "      <td>NaN</td>\n",
       "      <td>NaN</td>\n",
       "    </tr>\n",
       "    <tr>\n",
       "      <th>16713</th>\n",
       "      <td>Spirits &amp; Spells</td>\n",
       "      <td>GBA</td>\n",
       "      <td>2003</td>\n",
       "      <td>Platform</td>\n",
       "      <td>0.01</td>\n",
       "      <td>0.00</td>\n",
       "      <td>0.00</td>\n",
       "      <td>0.00</td>\n",
       "      <td>&lt;NA&gt;</td>\n",
       "      <td>NaN</td>\n",
       "      <td>NaN</td>\n",
       "    </tr>\n",
       "    <tr>\n",
       "      <th>16714</th>\n",
       "      <td>Winning Post 8 2016</td>\n",
       "      <td>PSV</td>\n",
       "      <td>2016</td>\n",
       "      <td>Simulation</td>\n",
       "      <td>0.00</td>\n",
       "      <td>0.00</td>\n",
       "      <td>0.01</td>\n",
       "      <td>0.00</td>\n",
       "      <td>&lt;NA&gt;</td>\n",
       "      <td>NaN</td>\n",
       "      <td>NaN</td>\n",
       "    </tr>\n",
       "  </tbody>\n",
       "</table>\n",
       "<p>6605 rows × 11 columns</p>\n",
       "</div>"
      ],
      "text/plain": [
       "                                name platform  year_of_release         genre  \\\n",
       "1                  Super Mario Bros.      NES             1985      Platform   \n",
       "4           Pokemon Red/Pokemon Blue       GB             1996  Role-Playing   \n",
       "5                             Tetris       GB             1989        Puzzle   \n",
       "9                          Duck Hunt      NES             1984       Shooter   \n",
       "10                        Nintendogs       DS             2005    Simulation   \n",
       "...                              ...      ...              ...           ...   \n",
       "16710  Samurai Warriors: Sanada Maru      PS3             2016        Action   \n",
       "16711               LMA Manager 2007     X360             2006        Sports   \n",
       "16712        Haitaka no Psychedelica      PSV             2016     Adventure   \n",
       "16713               Spirits & Spells      GBA             2003      Platform   \n",
       "16714            Winning Post 8 2016      PSV             2016    Simulation   \n",
       "\n",
       "       na_sales  eu_sales  jp_sales  other_sales  critic_score user_score  \\\n",
       "1         29.08      3.58      6.81         0.77          <NA>        NaN   \n",
       "4         11.27      8.89     10.22         1.00          <NA>        NaN   \n",
       "5         23.20      2.26      4.22         0.58          <NA>        NaN   \n",
       "9         26.93      0.63      0.28         0.47          <NA>        NaN   \n",
       "10         9.05     10.95      1.93         2.74          <NA>        NaN   \n",
       "...         ...       ...       ...          ...           ...        ...   \n",
       "16710      0.00      0.00      0.01         0.00          <NA>        NaN   \n",
       "16711      0.00      0.01      0.00         0.00          <NA>        NaN   \n",
       "16712      0.00      0.00      0.01         0.00          <NA>        NaN   \n",
       "16713      0.01      0.00      0.00         0.00          <NA>        NaN   \n",
       "16714      0.00      0.00      0.01         0.00          <NA>        NaN   \n",
       "\n",
       "      rating  \n",
       "1        NaN  \n",
       "4        NaN  \n",
       "5        NaN  \n",
       "9        NaN  \n",
       "10       NaN  \n",
       "...      ...  \n",
       "16710    NaN  \n",
       "16711    NaN  \n",
       "16712    NaN  \n",
       "16713    NaN  \n",
       "16714    NaN  \n",
       "\n",
       "[6605 rows x 11 columns]"
      ]
     },
     "execution_count": 13,
     "metadata": {},
     "output_type": "execute_result"
    }
   ],
   "source": [
    "data[data['user_score'].isna()]"
   ]
  },
  {
   "cell_type": "code",
   "execution_count": 14,
   "id": "a756839d",
   "metadata": {},
   "outputs": [
    {
     "data": {
      "text/plain": [
       "array(['8', nan, '8.3', '8.5', '6.6', '8.4', '8.6', '7.7', '6.3', '7.4',\n",
       "       '8.2', '9', '7.9', '8.1', '8.7', '7.1', '3.4', '5.3', '4.8', '3.2',\n",
       "       '8.9', '6.4', '7.8', '7.5', '2.6', '7.2', '9.2', '7', '7.3', '4.3',\n",
       "       '7.6', '5.7', '5', '9.1', '6.5', 'tbd', '8.8', '6.9', '9.4', '6.8',\n",
       "       '6.1', '6.7', '5.4', '4', '4.9', '4.5', '9.3', '6.2', '4.2', '6',\n",
       "       '3.7', '4.1', '5.8', '5.6', '5.5', '4.4', '4.6', '5.9', '3.9',\n",
       "       '3.1', '2.9', '5.2', '3.3', '4.7', '5.1', '3.5', '2.5', '1.9', '3',\n",
       "       '2.7', '2.2', '2', '9.5', '2.1', '3.6', '2.8', '1.8', '3.8', '0',\n",
       "       '1.6', '9.6', '2.4', '1.7', '1.1', '0.3', '1.5', '0.7', '1.2',\n",
       "       '2.3', '0.5', '1.3', '0.2', '0.6', '1.4', '0.9', '1', '9.7'],\n",
       "      dtype=object)"
      ]
     },
     "execution_count": 14,
     "metadata": {},
     "output_type": "execute_result"
    }
   ],
   "source": [
    "data['user_score'].unique()"
   ]
  },
  {
   "cell_type": "markdown",
   "id": "bd1096b7",
   "metadata": {},
   "source": [
    "<div class=\"alert alert-block alert-info\">\n",
    "tbd может быть означает to be determined. И можно заполнить средней оценкой по группе жанры, например"
   ]
  },
  {
   "cell_type": "code",
   "execution_count": 15,
   "id": "3b56293b",
   "metadata": {},
   "outputs": [],
   "source": [
    "#Создадим словарь, в который поместим средние по жанрам\n",
    "medians = {}\n",
    "for genre in data['genre'].unique():\n",
    "    medians[genre] = (data[(data['genre'].isin([genre])) & (data['user_score'] != 'tbd')]['user_score']\n",
    "                 .astype('float')\n",
    "                 .median()                \n",
    "                )"
   ]
  },
  {
   "cell_type": "code",
   "execution_count": 16,
   "id": "4a2ccec7",
   "metadata": {},
   "outputs": [
    {
     "data": {
      "text/plain": [
       "{'Sports': 7.4,\n",
       " 'Platform': 7.7,\n",
       " 'Racing': 7.4,\n",
       " 'Role-Playing': 7.8,\n",
       " 'Puzzle': 7.5,\n",
       " 'Misc': 7.1,\n",
       " 'Shooter': 7.4,\n",
       " 'Simulation': 7.5,\n",
       " 'Action': 7.4,\n",
       " 'Fighting': 7.6,\n",
       " 'Adventure': 7.6,\n",
       " 'Strategy': 7.8}"
      ]
     },
     "execution_count": 16,
     "metadata": {},
     "output_type": "execute_result"
    }
   ],
   "source": [
    "medians"
   ]
  },
  {
   "cell_type": "markdown",
   "id": "5dfed34b",
   "metadata": {},
   "source": [
    "<div class=\"alert alert-block alert-danger\">\n",
    "<b>❌ Комментарий ревьюера</b>    \n",
    "\n",
    "<s>Так как мы не проанализировали, есть ли какие то выбросы в данных или аномалии, то лучше заменить не на среднее, а на медиану. Или вообще оставить пропуски.</s>\n",
    "</div>"
   ]
  },
  {
   "cell_type": "markdown",
   "id": "fbac0c3b",
   "metadata": {},
   "source": [
    "<div class=\"alert alert-info\"> <b>Комментарий студента:</b>\n",
    "    \n",
    "Исправила на медиану, что-то не подумала про аномалии.</div>"
   ]
  },
  {
   "cell_type": "markdown",
   "id": "a5824c7b",
   "metadata": {},
   "source": [
    "<div class=\"alert alert-success\">\n",
    "<b>✔️ Комментарий ревьюера v2</b>\n",
    "\n",
    "Просто пока не вошло в привычку 😏\n",
    "\n",
    "</div>"
   ]
  },
  {
   "cell_type": "code",
   "execution_count": 17,
   "id": "6d7bae07",
   "metadata": {},
   "outputs": [],
   "source": [
    "#Функция для замены значений в столбце user_score\n",
    "def to_determine(row):\n",
    "    if row['user_score'] == 'tbd':\n",
    "        genre = row['genre']\n",
    "        for key, value in medians.items():\n",
    "            if key == genre:\n",
    "                return value\n",
    "    return row['user_score']      "
   ]
  },
  {
   "cell_type": "code",
   "execution_count": 18,
   "id": "53759e98",
   "metadata": {},
   "outputs": [],
   "source": [
    "#Применим функцию\n",
    "data['user_score'] = data.apply(to_determine, axis=1)"
   ]
  },
  {
   "cell_type": "code",
   "execution_count": 19,
   "id": "d9a3e7fe",
   "metadata": {},
   "outputs": [
    {
     "data": {
      "text/plain": [
       "array(['8', nan, '8.3', '8.5', '6.6', '8.4', '8.6', '7.7', '6.3', '7.4',\n",
       "       '8.2', '9', '7.9', '8.1', '8.7', '7.1', '3.4', '5.3', '4.8', '3.2',\n",
       "       '8.9', '6.4', '7.8', '7.5', '2.6', '7.2', '9.2', '7', '7.3', '4.3',\n",
       "       '7.6', '5.7', '5', '9.1', '6.5', 7.4, '8.8', '6.9', '9.4', '6.8',\n",
       "       '6.1', '6.7', '5.4', '4', '4.9', '4.5', '9.3', '6.2', '4.2', '6',\n",
       "       7.1, '3.7', '4.1', '5.8', '5.6', '5.5', '4.4', '4.6', '5.9', '3.9',\n",
       "       '3.1', '2.9', 7.5, '5.2', '3.3', '4.7', '5.1', '3.5', '2.5', '1.9',\n",
       "       7.6, '3', 7.7, '2.7', '2.2', '2', '9.5', '2.1', '3.6', '2.8',\n",
       "       '1.8', 7.8, '3.8', '0', '1.6', '9.6', '2.4', '1.7', '1.1', '0.3',\n",
       "       '1.5', '0.7', '1.2', '2.3', '0.5', '1.3', '0.2', '0.6', '1.4',\n",
       "       '0.9', '1', '9.7'], dtype=object)"
      ]
     },
     "execution_count": 19,
     "metadata": {},
     "output_type": "execute_result"
    }
   ],
   "source": [
    "#Значения tbd исчезли\n",
    "data['user_score'].unique()"
   ]
  },
  {
   "cell_type": "code",
   "execution_count": 20,
   "id": "5a0fc648",
   "metadata": {},
   "outputs": [],
   "source": [
    "#Округлим до одной цифры после запятой\n",
    "data['user_score'] = round(pd.to_numeric(data['user_score']), 1)"
   ]
  },
  {
   "cell_type": "code",
   "execution_count": 21,
   "id": "7d97792d",
   "metadata": {},
   "outputs": [],
   "source": [
    "#Суммарные продажи во всех регионах\n",
    "data['total_sales'] = data['na_sales'] + data['eu_sales'] + data['jp_sales'] + data['other_sales']"
   ]
  },
  {
   "cell_type": "code",
   "execution_count": 22,
   "id": "ecb372f4",
   "metadata": {},
   "outputs": [],
   "source": [
    "data['rating'] = data['rating'].fillna('unknown')"
   ]
  },
  {
   "cell_type": "markdown",
   "id": "c4f880cf",
   "metadata": {},
   "source": [
    "<div class=\"alert alert-success\">\n",
    "<b>✔️ Комментарий ревьюера</b>\n",
    "\n",
    "✅ также можно использовать метод sum.\n",
    "\n",
    "</div>"
   ]
  },
  {
   "cell_type": "markdown",
   "id": "eb2a9555",
   "metadata": {},
   "source": [
    "<div class=\"alert alert-block alert-danger\">\n",
    "<b>❌ Комментарий ревьюера</b>    \n",
    "\n",
    "<s>Замени пропуски в столбце rating на какое-нибудь маркерное значение, например unknown. Это пригодится для дальнейшего анализа.</s> \n",
    "</div>"
   ]
  },
  {
   "cell_type": "markdown",
   "id": "3f60c693",
   "metadata": {},
   "source": [
    "<div class=\"alert alert-info\"> <b>Комментарий студента:</b>\n",
    "    \n",
    "Исправила</div>"
   ]
  },
  {
   "cell_type": "markdown",
   "id": "1acec8aa",
   "metadata": {},
   "source": [
    "<div class=\"alert alert-success\">\n",
    "<b>✔️ Комментарий ревьюера v2</b>\n",
    "\n",
    "Хорошо.\n",
    "\n",
    "</div>"
   ]
  },
  {
   "cell_type": "markdown",
   "id": "e2cec0a1",
   "metadata": {},
   "source": [
    "## Исследовательский анализ данных"
   ]
  },
  {
   "cell_type": "code",
   "execution_count": 23,
   "id": "5f524f92",
   "metadata": {},
   "outputs": [],
   "source": [
    "#Количество игр, выпущенных по годам\n",
    "game_quantity = data.pivot_table('name', index='year_of_release', aggfunc='count')"
   ]
  },
  {
   "cell_type": "code",
   "execution_count": 24,
   "id": "05f0d740",
   "metadata": {},
   "outputs": [
    {
     "data": {
      "image/png": "[encoded data removed]",
      "text/plain": [
       "<Figure size 720x504 with 1 Axes>"
      ]
     },
     "metadata": {
      "needs_background": "light"
     },
     "output_type": "display_data"
    }
   ],
   "source": [
    "game_quantity.plot(\n",
    "    title='Количество игр',\n",
    "    color='green',\n",
    "    xlabel='Годы выпуска',\n",
    "    grid=True\n",
    ")\n",
    "plt.show()"
   ]
  },
  {
   "cell_type": "markdown",
   "id": "efe8c640",
   "metadata": {},
   "source": [
    "<div class=\"alert alert-block alert-info\">\n",
    "До начала 2000-х игр выпускалось немного, и скорее всего они уже устаревшие и не особо повлияют на решение поставленной задачи."
   ]
  },
  {
   "cell_type": "markdown",
   "id": "af5b5ff7",
   "metadata": {},
   "source": [
    "<div class=\"alert alert-block alert-danger\">\n",
    "<b>❌ Комментарий ревьюера</b>    \n",
    "\n",
    "<s>Построй, пожалуйста, график. На визуализации будет проще увидеть динамику появления игр.</s>\n",
    "</div>"
   ]
  },
  {
   "cell_type": "markdown",
   "id": "bf6ea513",
   "metadata": {},
   "source": [
    "<div class=\"alert alert-info\"> <b>Комментарий студента:</b>\n",
    "    \n",
    "Построила</div>"
   ]
  },
  {
   "cell_type": "markdown",
   "id": "15858b0e",
   "metadata": {},
   "source": [
    "<div class=\"alert alert-success\">\n",
    "<b>✔️ Комментарий ревьюера v2</b>\n",
    "\n",
    "Отлично.\n",
    "\n",
    "</div>"
   ]
  },
  {
   "cell_type": "code",
   "execution_count": 25,
   "id": "7cf87aad",
   "metadata": {},
   "outputs": [
    {
     "data": {
      "text/html": [
       "<div>\n",
       "<style scoped>\n",
       "    .dataframe tbody tr th:only-of-type {\n",
       "        vertical-align: middle;\n",
       "    }\n",
       "\n",
       "    .dataframe tbody tr th {\n",
       "        vertical-align: top;\n",
       "    }\n",
       "\n",
       "    .dataframe thead th {\n",
       "        text-align: right;\n",
       "    }\n",
       "</style>\n",
       "<table border=\"1\" class=\"dataframe\">\n",
       "  <thead>\n",
       "    <tr style=\"text-align: right;\">\n",
       "      <th></th>\n",
       "      <th>total_sales</th>\n",
       "    </tr>\n",
       "    <tr>\n",
       "      <th>platform</th>\n",
       "      <th></th>\n",
       "    </tr>\n",
       "  </thead>\n",
       "  <tbody>\n",
       "    <tr>\n",
       "      <th>PS2</th>\n",
       "      <td>1233.56</td>\n",
       "    </tr>\n",
       "    <tr>\n",
       "      <th>X360</th>\n",
       "      <td>961.24</td>\n",
       "    </tr>\n",
       "    <tr>\n",
       "      <th>PS3</th>\n",
       "      <td>931.34</td>\n",
       "    </tr>\n",
       "    <tr>\n",
       "      <th>Wii</th>\n",
       "      <td>891.18</td>\n",
       "    </tr>\n",
       "    <tr>\n",
       "      <th>DS</th>\n",
       "      <td>802.78</td>\n",
       "    </tr>\n",
       "    <tr>\n",
       "      <th>PS</th>\n",
       "      <td>727.58</td>\n",
       "    </tr>\n",
       "    <tr>\n",
       "      <th>PS4</th>\n",
       "      <td>314.14</td>\n",
       "    </tr>\n",
       "    <tr>\n",
       "      <th>GBA</th>\n",
       "      <td>312.88</td>\n",
       "    </tr>\n",
       "    <tr>\n",
       "      <th>PSP</th>\n",
       "      <td>289.53</td>\n",
       "    </tr>\n",
       "    <tr>\n",
       "      <th>3DS</th>\n",
       "      <td>257.81</td>\n",
       "    </tr>\n",
       "    <tr>\n",
       "      <th>PC</th>\n",
       "      <td>255.76</td>\n",
       "    </tr>\n",
       "    <tr>\n",
       "      <th>GB</th>\n",
       "      <td>254.43</td>\n",
       "    </tr>\n",
       "    <tr>\n",
       "      <th>XB</th>\n",
       "      <td>251.57</td>\n",
       "    </tr>\n",
       "    <tr>\n",
       "      <th>NES</th>\n",
       "      <td>251.05</td>\n",
       "    </tr>\n",
       "    <tr>\n",
       "      <th>N64</th>\n",
       "      <td>218.01</td>\n",
       "    </tr>\n",
       "    <tr>\n",
       "      <th>SNES</th>\n",
       "      <td>200.04</td>\n",
       "    </tr>\n",
       "    <tr>\n",
       "      <th>GC</th>\n",
       "      <td>196.73</td>\n",
       "    </tr>\n",
       "    <tr>\n",
       "      <th>XOne</th>\n",
       "      <td>159.32</td>\n",
       "    </tr>\n",
       "    <tr>\n",
       "      <th>2600</th>\n",
       "      <td>86.48</td>\n",
       "    </tr>\n",
       "    <tr>\n",
       "      <th>WiiU</th>\n",
       "      <td>82.19</td>\n",
       "    </tr>\n",
       "    <tr>\n",
       "      <th>PSV</th>\n",
       "      <td>53.81</td>\n",
       "    </tr>\n",
       "    <tr>\n",
       "      <th>SAT</th>\n",
       "      <td>33.59</td>\n",
       "    </tr>\n",
       "    <tr>\n",
       "      <th>GEN</th>\n",
       "      <td>28.35</td>\n",
       "    </tr>\n",
       "    <tr>\n",
       "      <th>DC</th>\n",
       "      <td>15.95</td>\n",
       "    </tr>\n",
       "    <tr>\n",
       "      <th>SCD</th>\n",
       "      <td>1.86</td>\n",
       "    </tr>\n",
       "    <tr>\n",
       "      <th>NG</th>\n",
       "      <td>1.44</td>\n",
       "    </tr>\n",
       "    <tr>\n",
       "      <th>WS</th>\n",
       "      <td>1.42</td>\n",
       "    </tr>\n",
       "    <tr>\n",
       "      <th>TG16</th>\n",
       "      <td>0.16</td>\n",
       "    </tr>\n",
       "    <tr>\n",
       "      <th>3DO</th>\n",
       "      <td>0.10</td>\n",
       "    </tr>\n",
       "    <tr>\n",
       "      <th>GG</th>\n",
       "      <td>0.04</td>\n",
       "    </tr>\n",
       "    <tr>\n",
       "      <th>PCFX</th>\n",
       "      <td>0.03</td>\n",
       "    </tr>\n",
       "  </tbody>\n",
       "</table>\n",
       "</div>"
      ],
      "text/plain": [
       "          total_sales\n",
       "platform             \n",
       "PS2           1233.56\n",
       "X360           961.24\n",
       "PS3            931.34\n",
       "Wii            891.18\n",
       "DS             802.78\n",
       "PS             727.58\n",
       "PS4            314.14\n",
       "GBA            312.88\n",
       "PSP            289.53\n",
       "3DS            257.81\n",
       "PC             255.76\n",
       "GB             254.43\n",
       "XB             251.57\n",
       "NES            251.05\n",
       "N64            218.01\n",
       "SNES           200.04\n",
       "GC             196.73\n",
       "XOne           159.32\n",
       "2600            86.48\n",
       "WiiU            82.19\n",
       "PSV             53.81\n",
       "SAT             33.59\n",
       "GEN             28.35\n",
       "DC              15.95\n",
       "SCD              1.86\n",
       "NG               1.44\n",
       "WS               1.42\n",
       "TG16             0.16\n",
       "3DO              0.10\n",
       "GG               0.04\n",
       "PCFX             0.03"
      ]
     },
     "execution_count": 25,
     "metadata": {},
     "output_type": "execute_result"
    }
   ],
   "source": [
    "#Суммарное количество продаж по плфтформам\n",
    "data.pivot_table('total_sales', index='platform', aggfunc='sum').sort_values(by='total_sales', ascending=False)"
   ]
  },
  {
   "cell_type": "markdown",
   "id": "4085dcaa",
   "metadata": {},
   "source": [
    "<div class=\"alert alert-block alert-info\">\n",
    "Платформы с наибольшими суммарными продажами: PS2, X360, PS3, Wii, DS, PS."
   ]
  },
  {
   "cell_type": "code",
   "execution_count": 26,
   "id": "64352120",
   "metadata": {},
   "outputs": [],
   "source": [
    "#Отберем записи только по этим платформам\n",
    "platforms = ['PS2', 'X360', 'PS3', 'Wii', 'DS', 'PS']\n",
    "data_platforms = data.query('platform in @platforms')"
   ]
  },
  {
   "cell_type": "markdown",
   "id": "e4381278",
   "metadata": {},
   "source": [
    "<div class=\"alert alert-block alert-warning\">\n",
    "<b>⚠️ Комментарий ревьюера</b>    \n",
    "   \n",
    "Чтобы не появлялись warning, можешь попробовать советы вот по этой [ссылке](https://stackoverflow.com/questions/20625582/how-to-deal-with-settingwithcopywarning-in-pandas).   \n",
    "</div>"
   ]
  },
  {
   "cell_type": "code",
   "execution_count": 27,
   "id": "29f83b75",
   "metadata": {},
   "outputs": [
    {
     "name": "stderr",
     "output_type": "stream",
     "text": [
      "/opt/conda/lib/python3.9/site-packages/seaborn/distributions.py:2557: FutureWarning: `distplot` is a deprecated function and will be removed in a future version. Please adapt your code to use either `displot` (a figure-level function with similar flexibility) or `histplot` (an axes-level function for histograms).\n",
      "  warnings.warn(msg, FutureWarning)\n"
     ]
    },
    {
     "data": {
      "image/png": "[encoded data removed]",
      "text/plain": [
       "<Figure size 1440x576 with 1 Axes>"
      ]
     },
     "metadata": {
      "needs_background": "light"
     },
     "output_type": "display_data"
    }
   ],
   "source": [
    "plt.figure(figsize=(20,8))\n",
    "sns.distplot(data_platforms['year_of_release'], bins=25)\n",
    "plt.title('Количество релизов в год')\n",
    "plt.xticks(np.arange(1980, 2017))\n",
    "warnings.filterwarnings('ignore')"
   ]
  },
  {
   "cell_type": "markdown",
   "id": "dc5e61e5",
   "metadata": {},
   "source": [
    "<div class=\"alert alert-block alert-info\">\n",
    "На данном графике можно наблюдать пики, перед которыми следуют спады выпуска видеоигр. Примерно после 3-х-4-х лет исчезают старые, появляются новые видеоигры. Для последующего анализа возьмём данные за последние 4 года."
   ]
  },
  {
   "cell_type": "code",
   "execution_count": 28,
   "id": "288da8c2",
   "metadata": {},
   "outputs": [
    {
     "data": {
      "text/plain": [
       "<AxesSubplot:xlabel='year_of_release'>"
      ]
     },
     "execution_count": 28,
     "metadata": {},
     "output_type": "execute_result"
    },
    {
     "data": {
      "image/png": "[encoded data removed]",
      "text/plain": [
       "<Figure size 720x504 with 1 Axes>"
      ]
     },
     "metadata": {
      "needs_background": "light"
     },
     "output_type": "display_data"
    }
   ],
   "source": [
    "(\n",
    "    data_platforms\n",
    "    .pivot_table('total_sales', columns='platform', index='year_of_release')\n",
    "    .plot(kind='area', \n",
    "         grid=True)    \n",
    ")"
   ]
  },
  {
   "cell_type": "markdown",
   "id": "cb04cc7f",
   "metadata": {},
   "source": [
    "<div class=\"alert alert-block alert-danger\">\n",
    "<b>❌ Комментарий ревьюера</b>    \n",
    "\n",
    "<s>На этом графике не совсем видно то, о чём ты говоришь. Построй график, где будет видна динамика игр по платформам: как выглядели выпуски игр для различных платформ.\n",
    "    \n",
    "Ты определила нужный период актуальности. Но ниже применяешь не его, ниже ты взяла с запасом. Но так не нужно. </s>   \n",
    "</div>"
   ]
  },
  {
   "cell_type": "markdown",
   "id": "7bd5fa44",
   "metadata": {},
   "source": [
    "<div class=\"alert alert-info\"> <b>Комментарий студента:</b>\n",
    "    \n",
    "Построила график с обласятми, по нему можно отследить динамику игр по платформам, отберем данные после 2012 года</div>"
   ]
  },
  {
   "cell_type": "markdown",
   "id": "22497c7e",
   "metadata": {},
   "source": [
    "<div class=\"alert alert-success\">\n",
    "<b>✔️ Комментарий ревьюера v2</b>\n",
    "\n",
    "Так лучше.\n",
    "\n",
    "</div>"
   ]
  },
  {
   "cell_type": "code",
   "execution_count": 29,
   "id": "182a21ca",
   "metadata": {},
   "outputs": [],
   "source": [
    "data = data[data['year_of_release'] > 2012]"
   ]
  },
  {
   "cell_type": "code",
   "execution_count": 30,
   "id": "8314a8fc",
   "metadata": {},
   "outputs": [
    {
     "data": {
      "text/html": [
       "<div>\n",
       "<style scoped>\n",
       "    .dataframe tbody tr th:only-of-type {\n",
       "        vertical-align: middle;\n",
       "    }\n",
       "\n",
       "    .dataframe tbody tr th {\n",
       "        vertical-align: top;\n",
       "    }\n",
       "\n",
       "    .dataframe thead th {\n",
       "        text-align: right;\n",
       "    }\n",
       "</style>\n",
       "<table border=\"1\" class=\"dataframe\">\n",
       "  <thead>\n",
       "    <tr style=\"text-align: right;\">\n",
       "      <th></th>\n",
       "      <th>name</th>\n",
       "      <th>platform</th>\n",
       "      <th>year_of_release</th>\n",
       "      <th>genre</th>\n",
       "      <th>na_sales</th>\n",
       "      <th>eu_sales</th>\n",
       "      <th>jp_sales</th>\n",
       "      <th>other_sales</th>\n",
       "      <th>critic_score</th>\n",
       "      <th>user_score</th>\n",
       "      <th>rating</th>\n",
       "      <th>total_sales</th>\n",
       "    </tr>\n",
       "  </thead>\n",
       "  <tbody>\n",
       "    <tr>\n",
       "      <th>16</th>\n",
       "      <td>Grand Theft Auto V</td>\n",
       "      <td>PS3</td>\n",
       "      <td>2013</td>\n",
       "      <td>Action</td>\n",
       "      <td>7.02</td>\n",
       "      <td>9.09</td>\n",
       "      <td>0.98</td>\n",
       "      <td>3.96</td>\n",
       "      <td>97</td>\n",
       "      <td>8.2</td>\n",
       "      <td>M</td>\n",
       "      <td>21.05</td>\n",
       "    </tr>\n",
       "    <tr>\n",
       "      <th>23</th>\n",
       "      <td>Grand Theft Auto V</td>\n",
       "      <td>X360</td>\n",
       "      <td>2013</td>\n",
       "      <td>Action</td>\n",
       "      <td>9.66</td>\n",
       "      <td>5.14</td>\n",
       "      <td>0.06</td>\n",
       "      <td>1.41</td>\n",
       "      <td>97</td>\n",
       "      <td>8.1</td>\n",
       "      <td>M</td>\n",
       "      <td>16.27</td>\n",
       "    </tr>\n",
       "    <tr>\n",
       "      <th>31</th>\n",
       "      <td>Call of Duty: Black Ops 3</td>\n",
       "      <td>PS4</td>\n",
       "      <td>2015</td>\n",
       "      <td>Shooter</td>\n",
       "      <td>6.03</td>\n",
       "      <td>5.86</td>\n",
       "      <td>0.36</td>\n",
       "      <td>2.38</td>\n",
       "      <td>&lt;NA&gt;</td>\n",
       "      <td>NaN</td>\n",
       "      <td>unknown</td>\n",
       "      <td>14.63</td>\n",
       "    </tr>\n",
       "    <tr>\n",
       "      <th>33</th>\n",
       "      <td>Pokemon X/Pokemon Y</td>\n",
       "      <td>3DS</td>\n",
       "      <td>2013</td>\n",
       "      <td>Role-Playing</td>\n",
       "      <td>5.28</td>\n",
       "      <td>4.19</td>\n",
       "      <td>4.35</td>\n",
       "      <td>0.78</td>\n",
       "      <td>&lt;NA&gt;</td>\n",
       "      <td>NaN</td>\n",
       "      <td>unknown</td>\n",
       "      <td>14.60</td>\n",
       "    </tr>\n",
       "    <tr>\n",
       "      <th>42</th>\n",
       "      <td>Grand Theft Auto V</td>\n",
       "      <td>PS4</td>\n",
       "      <td>2014</td>\n",
       "      <td>Action</td>\n",
       "      <td>3.96</td>\n",
       "      <td>6.31</td>\n",
       "      <td>0.38</td>\n",
       "      <td>1.97</td>\n",
       "      <td>97</td>\n",
       "      <td>8.3</td>\n",
       "      <td>M</td>\n",
       "      <td>12.62</td>\n",
       "    </tr>\n",
       "  </tbody>\n",
       "</table>\n",
       "</div>"
      ],
      "text/plain": [
       "                         name platform  year_of_release         genre  \\\n",
       "16         Grand Theft Auto V      PS3             2013        Action   \n",
       "23         Grand Theft Auto V     X360             2013        Action   \n",
       "31  Call of Duty: Black Ops 3      PS4             2015       Shooter   \n",
       "33        Pokemon X/Pokemon Y      3DS             2013  Role-Playing   \n",
       "42         Grand Theft Auto V      PS4             2014        Action   \n",
       "\n",
       "    na_sales  eu_sales  jp_sales  other_sales  critic_score  user_score  \\\n",
       "16      7.02      9.09      0.98         3.96            97         8.2   \n",
       "23      9.66      5.14      0.06         1.41            97         8.1   \n",
       "31      6.03      5.86      0.36         2.38          <NA>         NaN   \n",
       "33      5.28      4.19      4.35         0.78          <NA>         NaN   \n",
       "42      3.96      6.31      0.38         1.97            97         8.3   \n",
       "\n",
       "     rating  total_sales  \n",
       "16        M        21.05  \n",
       "23        M        16.27  \n",
       "31  unknown        14.63  \n",
       "33  unknown        14.60  \n",
       "42        M        12.62  "
      ]
     },
     "execution_count": 30,
     "metadata": {},
     "output_type": "execute_result"
    }
   ],
   "source": [
    "data.head()"
   ]
  },
  {
   "cell_type": "code",
   "execution_count": 31,
   "id": "d02102a2",
   "metadata": {},
   "outputs": [
    {
     "data": {
      "text/plain": [
       "platform\n",
       "PS4     314.14\n",
       "PS3     181.43\n",
       "XOne    159.32\n",
       "3DS     143.25\n",
       "X360    136.80\n",
       "WiiU     64.63\n",
       "PC       39.43\n",
       "PSV      32.99\n",
       "Wii      13.66\n",
       "PSP       3.50\n",
       "DS        1.54\n",
       "Name: total_sales, dtype: float64"
      ]
     },
     "execution_count": 31,
     "metadata": {},
     "output_type": "execute_result"
    }
   ],
   "source": [
    "#Определим наиболее прибыльные платформы\n",
    "data\\\n",
    ".groupby(['platform'])['total_sales']\\\n",
    ".sum()\\\n",
    ".sort_values(ascending=False)"
   ]
  },
  {
   "cell_type": "markdown",
   "id": "d09dfca7",
   "metadata": {},
   "source": [
    "<div class=\"alert alert-block alert-info\">\n",
    "За последние годы, представленные в наборе данных, лидируют платформы: PS4, PS3, X360, 3DS, XOne. Посмотрим по годам, растут или падают продажи по данным платформам"
   ]
  },
  {
   "cell_type": "code",
   "execution_count": 32,
   "id": "a4a08283",
   "metadata": {},
   "outputs": [],
   "source": [
    "large_platforms = ['PS4', 'PS3', 'X360', '3DS', 'XOne']\n",
    "data_large_platforms = data.query('platform in @large_platforms')"
   ]
  },
  {
   "cell_type": "code",
   "execution_count": 33,
   "id": "5db7a6b1",
   "metadata": {},
   "outputs": [],
   "source": [
    "sales_platforms = data_large_platforms.pivot_table('total_sales', index='year_of_release', columns='platform', aggfunc='sum')"
   ]
  },
  {
   "cell_type": "code",
   "execution_count": 34,
   "id": "b424482f",
   "metadata": {},
   "outputs": [
    {
     "data": {
      "text/plain": [
       "<AxesSubplot:title={'center':'Объёмы продаж потенциально прибыльных платформ'}, xlabel='year_of_release'>"
      ]
     },
     "execution_count": 34,
     "metadata": {},
     "output_type": "execute_result"
    },
    {
     "data": {
      "image/png": "[encoded data removed]",
      "text/plain": [
       "<Figure size 720x504 with 1 Axes>"
      ]
     },
     "metadata": {
      "needs_background": "light"
     },
     "output_type": "display_data"
    }
   ],
   "source": [
    "sales_platforms.plot(title='Объёмы продаж потенциально прибыльных платформ')"
   ]
  },
  {
   "cell_type": "markdown",
   "id": "c5ad7d6c",
   "metadata": {},
   "source": [
    "<div class=\"alert alert-block alert-info\">\n",
    "По данным графикам видно, что продажи по платформам PS3, X360, 3DS падают в течение нескольких последних лет. По платформам PS4 и XOne наблюдается одинаковая тенденция. Плавное увеличение после выпуска в 2013 году, после 2015 снижение продаж."
   ]
  },
  {
   "cell_type": "markdown",
   "id": "bd0e1f51",
   "metadata": {},
   "source": [
    "<div class=\"alert alert-success\">\n",
    "<b>✔️ Комментарий ревьюера</b>\n",
    "\n",
    "Верно, xOne пришёл на смену X360, а PS4 на смену PS3.\n",
    "\n",
    "</div>"
   ]
  },
  {
   "cell_type": "code",
   "execution_count": 35,
   "id": "2628d0c8",
   "metadata": {},
   "outputs": [
    {
     "data": {
      "text/plain": [
       "(0.0, 3.0)"
      ]
     },
     "execution_count": 35,
     "metadata": {},
     "output_type": "execute_result"
    },
    {
     "data": {
      "image/png": "[encoded data removed]",
      "text/plain": [
       "<Figure size 720x504 with 1 Axes>"
      ]
     },
     "metadata": {
      "needs_background": "light"
     },
     "output_type": "display_data"
    }
   ],
   "source": [
    "sns.boxplot(y='platform', x='total_sales', data=data[data['platform'].isin(large_platforms)], orient='h')\n",
    "plt.xlim(0,3)"
   ]
  },
  {
   "cell_type": "markdown",
   "id": "13e223b1",
   "metadata": {},
   "source": [
    "<div class=\"alert alert-block alert-info\">\n",
    "Построили ящик с усами по глобальным продажам игр по 5 потенциально наиболее прибыльным платформам. По графику видно, самая высокая медиана по продажам у X360, так же как и правый ус.\n",
    "Это говорит о том, что продажи видеоигр данной платформы имеют больший разброс. Хотя PS4 по суммарным продажам превышает X360. Продажи по PS4 сконцентрированы больше в пределах невысоких значений."
   ]
  },
  {
   "cell_type": "markdown",
   "id": "11215de3",
   "metadata": {},
   "source": [
    "<div class=\"alert alert-block alert-danger\">\n",
    "<b>❌ Комментарий ревьюера</b>    \n",
    "\n",
    "<s>А что скажешь про выбросы на этом графике? </s>  \n",
    "</div>"
   ]
  },
  {
   "cell_type": "markdown",
   "id": "6bf5bb47",
   "metadata": {},
   "source": [
    "<div class=\"alert alert-info\"> <b>Комментарий студента:</b>\n",
    "    \n",
    "По продажам на этих платформах присутствует много выбросов, что говорит о редких высоких продажах по этим платформам</div>"
   ]
  },
  {
   "cell_type": "markdown",
   "id": "993f0a86",
   "metadata": {},
   "source": [
    "<div class=\"alert alert-success\">\n",
    "<b>✔️ Комментарий ревьюера v2</b>\n",
    "\n",
    "Отлично.\n",
    "</div>"
   ]
  },
  {
   "cell_type": "code",
   "execution_count": 36,
   "id": "bc15c577",
   "metadata": {},
   "outputs": [],
   "source": [
    "#Посмотрим, как влияют на продажи внутри одной популярной платформы отзывы пользователей и критиков. \n",
    "PS4 = data.query('platform == \"PS4\"')"
   ]
  },
  {
   "cell_type": "code",
   "execution_count": 37,
   "id": "2c7e0ccd",
   "metadata": {},
   "outputs": [
    {
     "data": {
      "text/plain": [
       "name                 0\n",
       "platform             0\n",
       "year_of_release      0\n",
       "genre                0\n",
       "na_sales             0\n",
       "eu_sales             0\n",
       "jp_sales             0\n",
       "other_sales          0\n",
       "critic_score       140\n",
       "user_score         129\n",
       "rating               0\n",
       "total_sales          0\n",
       "dtype: int64"
      ]
     },
     "execution_count": 37,
     "metadata": {},
     "output_type": "execute_result"
    }
   ],
   "source": [
    "#Удалим строки с нулевыми значения по полям оценки критиков и пользователей, так как это может повлиять на расчет корреляции\n",
    "PS4.isna().sum()"
   ]
  },
  {
   "cell_type": "code",
   "execution_count": 38,
   "id": "40f7e34e",
   "metadata": {},
   "outputs": [],
   "source": [
    "PS4 = PS4.dropna(subset=['critic_score', 'user_score'])"
   ]
  },
  {
   "cell_type": "code",
   "execution_count": 39,
   "id": "eacb7ab5",
   "metadata": {},
   "outputs": [],
   "source": [
    "#создадим функцию для отрисовки графиков\n",
    "def scatter_plot(x_data, y_data, x_label='', y_label='', title=''):\n",
    "    area = (20 * np.random.rand(len(x_data)))**2 \n",
    "    colors = np.random.rand(len(x_data))\n",
    "    _, ax = plt.subplots()\n",
    "    ax.scatter(x_data, y_data, s=area, c=colors, alpha = 0.9)\n",
    "    ax.set_title(title)\n",
    "    ax.set_xlabel(x_label)\n",
    "    ax.set_ylabel(y_label)"
   ]
  },
  {
   "cell_type": "code",
   "execution_count": 40,
   "id": "d473fec7",
   "metadata": {},
   "outputs": [
    {
     "data": {
      "image/png": "[encoded data removed]",
      "text/plain": [
       "<Figure size 720x504 with 1 Axes>"
      ]
     },
     "metadata": {
      "needs_background": "light"
     },
     "output_type": "display_data"
    }
   ],
   "source": [
    "#Передаем данные по оценке пользователей\n",
    "scatter_plot(PS4['user_score'], PS4['total_sales'], x_label='Оценки пользователей', y_label='Продажи', title='Оценки пользователей и продажи')"
   ]
  },
  {
   "cell_type": "code",
   "execution_count": 41,
   "id": "aca6ab8c",
   "metadata": {},
   "outputs": [
    {
     "data": {
      "image/png": "[encoded data removed]",
      "text/plain": [
       "<Figure size 720x504 with 1 Axes>"
      ]
     },
     "metadata": {
      "needs_background": "light"
     },
     "output_type": "display_data"
    }
   ],
   "source": [
    "scatter_plot(PS4['critic_score'], PS4['total_sales'], x_label='Оценки критиков', y_label='Продажи', title='Оценки критиков и продажи')"
   ]
  },
  {
   "cell_type": "markdown",
   "id": "4165d734",
   "metadata": {},
   "source": [
    "<div class=\"alert alert-success\">\n",
    "<b>✔️ Комментарий ревьюера</b>\n",
    "\n",
    "Очень классная визуализация получилась. Молодец.\n",
    "\n",
    "</div>"
   ]
  },
  {
   "cell_type": "markdown",
   "id": "8eb4bbe9",
   "metadata": {},
   "source": [
    "<div class=\"alert alert-block alert-info\">\n",
    "Как преобразовать пустые значения <\\NA> к типу NaN в DF???"
   ]
  },
  {
   "cell_type": "markdown",
   "id": "13e8a1e4",
   "metadata": {},
   "source": [
    "<div class=\"alert alert-block alert-warning\">\n",
    "<b>⚠️ Комментарий ревьюера</b> \n",
    "\n",
    "Можно методом replace('x','NaN').\n",
    "</div>    "
   ]
  },
  {
   "cell_type": "code",
   "execution_count": 42,
   "id": "b5e7621a",
   "metadata": {},
   "outputs": [],
   "source": [
    "PS4['critic_score'] = PS4['critic_score'].astype('float')"
   ]
  },
  {
   "cell_type": "code",
   "execution_count": 43,
   "id": "8c6b7ad5",
   "metadata": {},
   "outputs": [
    {
     "name": "stdout",
     "output_type": "stream",
     "text": [
      "Коэффициент корреляции между оценками пользователей и продажами: -0.03515840552000585\n",
      "Коэффициент корреляции между оценками критиков и продажами: 0.40600211593500984\n"
     ]
    }
   ],
   "source": [
    "print('Коэффициент корреляции между оценками пользователей и продажами:', PS4['user_score'].corr(PS4['total_sales']))\n",
    "print('Коэффициент корреляции между оценками критиков и продажами:', PS4['critic_score'].corr(PS4['total_sales']))"
   ]
  },
  {
   "cell_type": "markdown",
   "id": "f8e9a3fe",
   "metadata": {},
   "source": [
    "<div class=\"alert alert-block alert-info\">\n",
    "Между оценками пользователей и продажами практически нет зависимости. Видимо, предпочтения у людей разные, и даже игры с невысокими продажами могут иметь высокие оценки и наоборот.\n",
    "Критики являются профессионалами, и их оценки с проадажами характеризуются слабой положительной зависимостью. Чем выше оценка, тем выше продажа."
   ]
  },
  {
   "cell_type": "markdown",
   "id": "9f02a3c2",
   "metadata": {},
   "source": [
    "<div class=\"alert alert-block alert-warning\">\n",
    "<b>⚠️ Комментарий ревьюера</b> \n",
    "\n",
    "На будущее, о зависимости можно говорить, когда коэф.корреляции превышает 0.7.\n",
    "</div>   "
   ]
  },
  {
   "cell_type": "code",
   "execution_count": 44,
   "id": "0bbf0980",
   "metadata": {},
   "outputs": [],
   "source": [
    "#Посчитаем коэффициенты корреляции для наиболее крупных платформ. Для этого удалим пустые записи из critic_score и user_score"
   ]
  },
  {
   "cell_type": "code",
   "execution_count": 45,
   "id": "00f2f971",
   "metadata": {},
   "outputs": [],
   "source": [
    "data_clean = data.dropna(subset=['critic_score', 'user_score'])"
   ]
  },
  {
   "cell_type": "markdown",
   "id": "d938207f",
   "metadata": {},
   "source": [
    "<div class=\"alert alert-info\"> <b>Комментарий студента:</b>\n",
    "    \n",
    "Поскольку коэффициент корреляции не высчитывается для типа данных Int64, преобразуем поле critic_score в float обратно</div>"
   ]
  },
  {
   "cell_type": "code",
   "execution_count": 46,
   "id": "2e5287bf",
   "metadata": {},
   "outputs": [],
   "source": [
    "data_clean['critic_score'] = data_clean['critic_score'].astype('float')"
   ]
  },
  {
   "cell_type": "code",
   "execution_count": 47,
   "id": "06631d7b",
   "metadata": {},
   "outputs": [
    {
     "name": "stdout",
     "output_type": "stream",
     "text": [
      "Коэффициенты корреляции для крупных платформ:\n",
      "PS4 -0.03515840552000585 0.40600211593500984\n",
      "PS3 0.02104763863326445 0.3342853393371919\n",
      "X360 -0.006238179532306317 0.3503445460228664\n",
      "3DS 0.2629578502255318 0.3570566142288103\n",
      "XOne -0.10159121590219179 0.4153923422848885\n"
     ]
    }
   ],
   "source": [
    "print('Коэффициенты корреляции для крупных платформ:')\n",
    "for platform in large_platforms:\n",
    "    print(platform, \n",
    "          data_clean[data_clean['platform'].isin([platform])]['user_score'].corr(data_clean['total_sales']),\n",
    "          data_clean[data_clean['platform'].isin([platform])]['critic_score'].corr(data_clean['total_sales'])\n",
    "         )"
   ]
  },
  {
   "cell_type": "markdown",
   "id": "47288e0c",
   "metadata": {},
   "source": [
    "<div class=\"alert alert-block alert-info\">\n",
    "Посчитав коэффициенты корреляции по другим крупным платформам. Зависимость похожая:\n",
    "    объем продаж очень слабо коррелирует с оценками пользователей, средне коррелирует с оценками критиков"
   ]
  },
  {
   "cell_type": "markdown",
   "id": "a6aecd2b",
   "metadata": {},
   "source": [
    "<div class=\"alert alert-block alert-danger\">\n",
    "<b>❌ Комментарий ревьюера</b>    \n",
    "\n",
    "<s>Лучше даже написать, что связь с оценками критиков слабая или отсуствует.</s>\n",
    "</div>"
   ]
  },
  {
   "cell_type": "markdown",
   "id": "796c87e8",
   "metadata": {},
   "source": [
    "<div class=\"alert alert-info\"> <b>Комментарий студента:</b>\n",
    "    \n",
    "Согласна, исходя из таблички в этой [статье](https://tocodata.com/marketing/korrelyaciya.html), так и есть, слабая заивсимость (меньше 0,5) между продажами и оценками критиков.\n",
    "    \n",
    "</div>    "
   ]
  },
  {
   "cell_type": "markdown",
   "id": "dc624bf6",
   "metadata": {},
   "source": [
    "<div class=\"alert alert-success\">\n",
    "<b>✔️ Комментарий ревьюера v2</b>\n",
    "\n",
    "Молодец, что проверяешь мои слова. Лучше писать, что до 0.7 зависимости нет, чтобы не вводить в заблуждение. \n",
    "\n",
    "</div>"
   ]
  },
  {
   "cell_type": "code",
   "execution_count": 48,
   "id": "be4bc6a8",
   "metadata": {},
   "outputs": [
    {
     "data": {
      "image/png": "[encoded data removed]",
      "text/plain": [
       "<Figure size 864x576 with 1 Axes>"
      ]
     },
     "metadata": {
      "needs_background": "light"
     },
     "output_type": "display_data"
    }
   ],
   "source": [
    "#распредление игр по жанрам\n",
    "plt.figure(figsize=(12,8))\n",
    "data['genre'].hist(bins=12, color='green')\n",
    "plt.show()"
   ]
  },
  {
   "cell_type": "code",
   "execution_count": 49,
   "id": "57a223af",
   "metadata": {},
   "outputs": [
    {
     "data": {
      "text/html": [
       "<div>\n",
       "<style scoped>\n",
       "    .dataframe tbody tr th:only-of-type {\n",
       "        vertical-align: middle;\n",
       "    }\n",
       "\n",
       "    .dataframe tbody tr th {\n",
       "        vertical-align: top;\n",
       "    }\n",
       "\n",
       "    .dataframe thead th {\n",
       "        text-align: right;\n",
       "    }\n",
       "</style>\n",
       "<table border=\"1\" class=\"dataframe\">\n",
       "  <thead>\n",
       "    <tr style=\"text-align: right;\">\n",
       "      <th></th>\n",
       "      <th>total_sales</th>\n",
       "    </tr>\n",
       "    <tr>\n",
       "      <th>genre</th>\n",
       "      <th></th>\n",
       "    </tr>\n",
       "  </thead>\n",
       "  <tbody>\n",
       "    <tr>\n",
       "      <th>Action</th>\n",
       "      <td>321.87</td>\n",
       "    </tr>\n",
       "    <tr>\n",
       "      <th>Shooter</th>\n",
       "      <td>232.98</td>\n",
       "    </tr>\n",
       "    <tr>\n",
       "      <th>Sports</th>\n",
       "      <td>150.65</td>\n",
       "    </tr>\n",
       "    <tr>\n",
       "      <th>Role-Playing</th>\n",
       "      <td>145.89</td>\n",
       "    </tr>\n",
       "    <tr>\n",
       "      <th>Misc</th>\n",
       "      <td>62.82</td>\n",
       "    </tr>\n",
       "    <tr>\n",
       "      <th>Platform</th>\n",
       "      <td>42.63</td>\n",
       "    </tr>\n",
       "    <tr>\n",
       "      <th>Racing</th>\n",
       "      <td>39.89</td>\n",
       "    </tr>\n",
       "    <tr>\n",
       "      <th>Fighting</th>\n",
       "      <td>35.31</td>\n",
       "    </tr>\n",
       "    <tr>\n",
       "      <th>Adventure</th>\n",
       "      <td>23.64</td>\n",
       "    </tr>\n",
       "    <tr>\n",
       "      <th>Simulation</th>\n",
       "      <td>21.76</td>\n",
       "    </tr>\n",
       "    <tr>\n",
       "      <th>Strategy</th>\n",
       "      <td>10.08</td>\n",
       "    </tr>\n",
       "    <tr>\n",
       "      <th>Puzzle</th>\n",
       "      <td>3.17</td>\n",
       "    </tr>\n",
       "  </tbody>\n",
       "</table>\n",
       "</div>"
      ],
      "text/plain": [
       "              total_sales\n",
       "genre                    \n",
       "Action             321.87\n",
       "Shooter            232.98\n",
       "Sports             150.65\n",
       "Role-Playing       145.89\n",
       "Misc                62.82\n",
       "Platform            42.63\n",
       "Racing              39.89\n",
       "Fighting            35.31\n",
       "Adventure           23.64\n",
       "Simulation          21.76\n",
       "Strategy            10.08\n",
       "Puzzle               3.17"
      ]
     },
     "execution_count": 49,
     "metadata": {},
     "output_type": "execute_result"
    }
   ],
   "source": [
    "data.pivot_table('total_sales', index='genre', aggfunc='sum').sort_values('total_sales', ascending=False)"
   ]
  },
  {
   "cell_type": "markdown",
   "id": "415284a6",
   "metadata": {},
   "source": [
    "<div class=\"alert alert-block alert-info\">\n",
    "Самые прибыльные жанры встречаются чаще всего, наименее прибыльные встречаются реже, что нельзя сказать о жанре Adventure."
   ]
  },
  {
   "cell_type": "markdown",
   "id": "36d1c4eb",
   "metadata": {},
   "source": [
    "<div class=\"alert alert-success\">\n",
    "<b>✔️ Комментарий ревьюера</b>\n",
    "\n",
    "Согласна.\n",
    "\n",
    "</div>"
   ]
  },
  {
   "cell_type": "markdown",
   "id": "1b2dc773",
   "metadata": {},
   "source": [
    "### Составление портрета пользователя"
   ]
  },
  {
   "cell_type": "code",
   "execution_count": 50,
   "id": "1164307d",
   "metadata": {},
   "outputs": [],
   "source": [
    "#Сведем данные\n",
    "region_sales = data.pivot_table(values=['na_sales','eu_sales', 'jp_sales'], index='platform', aggfunc='sum')"
   ]
  },
  {
   "cell_type": "code",
   "execution_count": 51,
   "id": "912847e2",
   "metadata": {},
   "outputs": [
    {
     "data": {
      "image/png": "[encoded data removed]",
      "text/plain": [
       "<Figure size 1080x576 with 1 Axes>"
      ]
     },
     "metadata": {
      "needs_background": "light"
     },
     "output_type": "display_data"
    }
   ],
   "source": [
    "#Визуализируем данные\n",
    "region_sales.plot(kind='bar', figsize=(15,8))\n",
    "plt.show()"
   ]
  },
  {
   "cell_type": "code",
   "execution_count": 52,
   "id": "ab0d1626",
   "metadata": {},
   "outputs": [
    {
     "data": {
      "text/plain": [
       "platform\n",
       "PS4     141.09\n",
       "PS3      67.81\n",
       "XOne     51.59\n",
       "X360     42.52\n",
       "3DS      30.96\n",
       "Name: eu_sales, dtype: float64"
      ]
     },
     "metadata": {},
     "output_type": "display_data"
    },
    {
     "data": {
      "text/plain": [
       "platform\n",
       "PS4     108.74\n",
       "XOne     93.12\n",
       "X360     81.66\n",
       "PS3      63.50\n",
       "3DS      38.20\n",
       "Name: na_sales, dtype: float64"
      ]
     },
     "metadata": {},
     "output_type": "display_data"
    },
    {
     "data": {
      "text/plain": [
       "platform\n",
       "3DS     67.81\n",
       "PS3     23.35\n",
       "PSV     18.59\n",
       "PS4     15.96\n",
       "WiiU    10.88\n",
       "Name: jp_sales, dtype: float64"
      ]
     },
     "metadata": {},
     "output_type": "display_data"
    }
   ],
   "source": [
    "display(region_sales.sort_values(by='eu_sales', ascending=False)['eu_sales'].head())\n",
    "display(region_sales.sort_values(by='na_sales', ascending=False)['na_sales'].head())\n",
    "display(region_sales.sort_values(by='jp_sales', ascending=False)['jp_sales'].head())"
   ]
  },
  {
   "cell_type": "markdown",
   "id": "c1f429ef",
   "metadata": {},
   "source": [
    "<div class=\"alert alert-block alert-info\">\n",
    "Популярность платформ по регионам определяется по максимальным продажам.\n",
    "Для региона EU top-5 платформ: PS4, PS3, X360, XOne, 3DS.\n",
    "Для NA: X360, PS4, PS3, XOne, 3DS.\n",
    "Для JP: 3DS, PS3, PSV, PS4, WiiU\n",
    "Популярные платформы в Европе и Северной Америке практически не различаются"
   ]
  },
  {
   "cell_type": "markdown",
   "id": "23b1c6d4",
   "metadata": {},
   "source": [
    "<div class=\"alert alert-success\">\n",
    "<b>✔️ Комментарий ревьюера</b>\n",
    "\n",
    "Да, так и есть.\n",
    "\n",
    "</div>"
   ]
  },
  {
   "cell_type": "code",
   "execution_count": 53,
   "id": "d24e6b52",
   "metadata": {},
   "outputs": [
    {
     "data": {
      "text/html": [
       "<div>\n",
       "<style scoped>\n",
       "    .dataframe tbody tr th:only-of-type {\n",
       "        vertical-align: middle;\n",
       "    }\n",
       "\n",
       "    .dataframe tbody tr th {\n",
       "        vertical-align: top;\n",
       "    }\n",
       "\n",
       "    .dataframe thead th {\n",
       "        text-align: right;\n",
       "    }\n",
       "</style>\n",
       "<table border=\"1\" class=\"dataframe\">\n",
       "  <thead>\n",
       "    <tr style=\"text-align: right;\">\n",
       "      <th></th>\n",
       "      <th>eu_sales</th>\n",
       "      <th>jp_sales</th>\n",
       "      <th>na_sales</th>\n",
       "    </tr>\n",
       "    <tr>\n",
       "      <th>platform</th>\n",
       "      <th></th>\n",
       "      <th></th>\n",
       "      <th></th>\n",
       "    </tr>\n",
       "  </thead>\n",
       "  <tbody>\n",
       "    <tr>\n",
       "      <th>3DS</th>\n",
       "      <td>0.102178</td>\n",
       "      <td>0.223795</td>\n",
       "      <td>0.126073</td>\n",
       "    </tr>\n",
       "    <tr>\n",
       "      <th>DS</th>\n",
       "      <td>0.106250</td>\n",
       "      <td>0.000000</td>\n",
       "      <td>0.071250</td>\n",
       "    </tr>\n",
       "    <tr>\n",
       "      <th>PC</th>\n",
       "      <td>0.134180</td>\n",
       "      <td>0.000000</td>\n",
       "      <td>0.058783</td>\n",
       "    </tr>\n",
       "    <tr>\n",
       "      <th>PS3</th>\n",
       "      <td>0.196551</td>\n",
       "      <td>0.067681</td>\n",
       "      <td>0.184058</td>\n",
       "    </tr>\n",
       "    <tr>\n",
       "      <th>PS4</th>\n",
       "      <td>0.359923</td>\n",
       "      <td>0.040714</td>\n",
       "      <td>0.277398</td>\n",
       "    </tr>\n",
       "    <tr>\n",
       "      <th>PSP</th>\n",
       "      <td>0.002537</td>\n",
       "      <td>0.049104</td>\n",
       "      <td>0.000000</td>\n",
       "    </tr>\n",
       "    <tr>\n",
       "      <th>PSV</th>\n",
       "      <td>0.017039</td>\n",
       "      <td>0.051927</td>\n",
       "      <td>0.014078</td>\n",
       "    </tr>\n",
       "    <tr>\n",
       "      <th>Wii</th>\n",
       "      <td>0.257826</td>\n",
       "      <td>0.002174</td>\n",
       "      <td>0.285217</td>\n",
       "    </tr>\n",
       "    <tr>\n",
       "      <th>WiiU</th>\n",
       "      <td>0.172609</td>\n",
       "      <td>0.094609</td>\n",
       "      <td>0.254000</td>\n",
       "    </tr>\n",
       "    <tr>\n",
       "      <th>X360</th>\n",
       "      <td>0.228602</td>\n",
       "      <td>0.002742</td>\n",
       "      <td>0.439032</td>\n",
       "    </tr>\n",
       "    <tr>\n",
       "      <th>XOne</th>\n",
       "      <td>0.208866</td>\n",
       "      <td>0.001377</td>\n",
       "      <td>0.377004</td>\n",
       "    </tr>\n",
       "  </tbody>\n",
       "</table>\n",
       "</div>"
      ],
      "text/plain": [
       "          eu_sales  jp_sales  na_sales\n",
       "platform                              \n",
       "3DS       0.102178  0.223795  0.126073\n",
       "DS        0.106250  0.000000  0.071250\n",
       "PC        0.134180  0.000000  0.058783\n",
       "PS3       0.196551  0.067681  0.184058\n",
       "PS4       0.359923  0.040714  0.277398\n",
       "PSP       0.002537  0.049104  0.000000\n",
       "PSV       0.017039  0.051927  0.014078\n",
       "Wii       0.257826  0.002174  0.285217\n",
       "WiiU      0.172609  0.094609  0.254000\n",
       "X360      0.228602  0.002742  0.439032\n",
       "XOne      0.208866  0.001377  0.377004"
      ]
     },
     "execution_count": 53,
     "metadata": {},
     "output_type": "execute_result"
    }
   ],
   "source": [
    "#Посчитаем доли продаж\n",
    "data.pivot_table(values=['na_sales','eu_sales', 'jp_sales'], index='platform')"
   ]
  },
  {
   "cell_type": "markdown",
   "id": "94a47f50",
   "metadata": {},
   "source": [
    "<div class=\"alert alert-block alert-info\">\n",
    "Чем популярнее платформа, то есть, чем больше ее объём продаж, тем больше ее доля в общем объеме продаж по региону."
   ]
  },
  {
   "cell_type": "code",
   "execution_count": 54,
   "id": "85b01ff9",
   "metadata": {},
   "outputs": [
    {
     "data": {
      "text/html": [
       "<div>\n",
       "<style scoped>\n",
       "    .dataframe tbody tr th:only-of-type {\n",
       "        vertical-align: middle;\n",
       "    }\n",
       "\n",
       "    .dataframe tbody tr th {\n",
       "        vertical-align: top;\n",
       "    }\n",
       "\n",
       "    .dataframe thead th {\n",
       "        text-align: right;\n",
       "    }\n",
       "</style>\n",
       "<table border=\"1\" class=\"dataframe\">\n",
       "  <thead>\n",
       "    <tr style=\"text-align: right;\">\n",
       "      <th></th>\n",
       "      <th>eu_sales</th>\n",
       "      <th>jp_sales</th>\n",
       "      <th>na_sales</th>\n",
       "    </tr>\n",
       "    <tr>\n",
       "      <th>genre</th>\n",
       "      <th></th>\n",
       "      <th></th>\n",
       "      <th></th>\n",
       "    </tr>\n",
       "  </thead>\n",
       "  <tbody>\n",
       "    <tr>\n",
       "      <th>Action</th>\n",
       "      <td>118.13</td>\n",
       "      <td>40.49</td>\n",
       "      <td>126.05</td>\n",
       "    </tr>\n",
       "    <tr>\n",
       "      <th>Adventure</th>\n",
       "      <td>8.25</td>\n",
       "      <td>5.82</td>\n",
       "      <td>7.14</td>\n",
       "    </tr>\n",
       "    <tr>\n",
       "      <th>Fighting</th>\n",
       "      <td>8.55</td>\n",
       "      <td>7.65</td>\n",
       "      <td>15.55</td>\n",
       "    </tr>\n",
       "    <tr>\n",
       "      <th>Misc</th>\n",
       "      <td>20.04</td>\n",
       "      <td>9.20</td>\n",
       "      <td>27.49</td>\n",
       "    </tr>\n",
       "    <tr>\n",
       "      <th>Platform</th>\n",
       "      <td>15.58</td>\n",
       "      <td>4.79</td>\n",
       "      <td>18.14</td>\n",
       "    </tr>\n",
       "    <tr>\n",
       "      <th>Puzzle</th>\n",
       "      <td>1.00</td>\n",
       "      <td>1.18</td>\n",
       "      <td>0.83</td>\n",
       "    </tr>\n",
       "    <tr>\n",
       "      <th>Racing</th>\n",
       "      <td>20.19</td>\n",
       "      <td>2.30</td>\n",
       "      <td>12.96</td>\n",
       "    </tr>\n",
       "    <tr>\n",
       "      <th>Role-Playing</th>\n",
       "      <td>36.97</td>\n",
       "      <td>51.04</td>\n",
       "      <td>46.40</td>\n",
       "    </tr>\n",
       "    <tr>\n",
       "      <th>Shooter</th>\n",
       "      <td>87.86</td>\n",
       "      <td>6.61</td>\n",
       "      <td>109.74</td>\n",
       "    </tr>\n",
       "    <tr>\n",
       "      <th>Simulation</th>\n",
       "      <td>10.92</td>\n",
       "      <td>4.52</td>\n",
       "      <td>4.86</td>\n",
       "    </tr>\n",
       "    <tr>\n",
       "      <th>Sports</th>\n",
       "      <td>60.52</td>\n",
       "      <td>5.41</td>\n",
       "      <td>65.27</td>\n",
       "    </tr>\n",
       "    <tr>\n",
       "      <th>Strategy</th>\n",
       "      <td>4.22</td>\n",
       "      <td>1.77</td>\n",
       "      <td>3.28</td>\n",
       "    </tr>\n",
       "  </tbody>\n",
       "</table>\n",
       "</div>"
      ],
      "text/plain": [
       "              eu_sales  jp_sales  na_sales\n",
       "genre                                     \n",
       "Action          118.13     40.49    126.05\n",
       "Adventure         8.25      5.82      7.14\n",
       "Fighting          8.55      7.65     15.55\n",
       "Misc             20.04      9.20     27.49\n",
       "Platform         15.58      4.79     18.14\n",
       "Puzzle            1.00      1.18      0.83\n",
       "Racing           20.19      2.30     12.96\n",
       "Role-Playing     36.97     51.04     46.40\n",
       "Shooter          87.86      6.61    109.74\n",
       "Simulation       10.92      4.52      4.86\n",
       "Sports           60.52      5.41     65.27\n",
       "Strategy          4.22      1.77      3.28"
      ]
     },
     "execution_count": 54,
     "metadata": {},
     "output_type": "execute_result"
    }
   ],
   "source": [
    "#Вывдем наиболее популярные жанры топ-5 для каждого региона\n",
    "genre_sales = data.pivot_table(values=['na_sales','eu_sales', 'jp_sales'], index='genre', aggfunc='sum')\n",
    "genre_sales"
   ]
  },
  {
   "cell_type": "code",
   "execution_count": 55,
   "id": "f9a92066",
   "metadata": {},
   "outputs": [
    {
     "data": {
      "image/png": "[encoded data removed]",
      "text/plain": [
       "<Figure size 1080x576 with 1 Axes>"
      ]
     },
     "metadata": {
      "needs_background": "light"
     },
     "output_type": "display_data"
    }
   ],
   "source": [
    "#Визуализируем данные\n",
    "genre_sales.plot(kind='bar', figsize=(15,8))\n",
    "plt.show()"
   ]
  },
  {
   "cell_type": "code",
   "execution_count": 56,
   "id": "2e2ae411",
   "metadata": {},
   "outputs": [
    {
     "data": {
      "text/plain": [
       "genre\n",
       "Action          118.13\n",
       "Shooter          87.86\n",
       "Sports           60.52\n",
       "Role-Playing     36.97\n",
       "Racing           20.19\n",
       "Name: eu_sales, dtype: float64"
      ]
     },
     "metadata": {},
     "output_type": "display_data"
    },
    {
     "data": {
      "text/plain": [
       "genre\n",
       "Action          126.05\n",
       "Shooter         109.74\n",
       "Sports           65.27\n",
       "Role-Playing     46.40\n",
       "Misc             27.49\n",
       "Name: na_sales, dtype: float64"
      ]
     },
     "metadata": {},
     "output_type": "display_data"
    },
    {
     "data": {
      "text/plain": [
       "genre\n",
       "Role-Playing    51.04\n",
       "Action          40.49\n",
       "Misc             9.20\n",
       "Fighting         7.65\n",
       "Shooter          6.61\n",
       "Name: jp_sales, dtype: float64"
      ]
     },
     "metadata": {},
     "output_type": "display_data"
    }
   ],
   "source": [
    "display(genre_sales.sort_values(by='eu_sales', ascending=False)['eu_sales'].head())\n",
    "display(genre_sales.sort_values(by='na_sales', ascending=False)['na_sales'].head())\n",
    "display(genre_sales.sort_values(by='jp_sales', ascending=False)['jp_sales'].head())"
   ]
  },
  {
   "cell_type": "markdown",
   "id": "89856ebd",
   "metadata": {},
   "source": [
    "<div class=\"alert alert-block alert-info\">\n",
    "Популярность жанров по регионам определяется по максимальным продажам.\n",
    "Топ-5 платформ для регионов можно увидеть в таблице выше. В Европы и Северной Америке популяоные жанры практически не различаются, в то время как в Японии популярные жанры отличаются существенно. Это связано возможно с культурой"
   ]
  },
  {
   "cell_type": "markdown",
   "id": "1b75d9c2",
   "metadata": {},
   "source": [
    "<div class=\"alert alert-success\">\n",
    "<b>✔️ Комментарий ревьюера</b>\n",
    "\n",
    "Да, азиатский рынок отличается.\n",
    "\n",
    "</div>"
   ]
  },
  {
   "cell_type": "code",
   "execution_count": 57,
   "id": "afa5d9f5",
   "metadata": {},
   "outputs": [],
   "source": [
    "rating = data[['eu_sales', 'jp_sales', 'na_sales', 'rating']]\n",
    "rating = rating.dropna(subset=['rating'])"
   ]
  },
  {
   "cell_type": "code",
   "execution_count": 58,
   "id": "1f806073",
   "metadata": {},
   "outputs": [
    {
     "data": {
      "image/png": "[encoded data removed]",
      "text/plain": [
       "<Figure size 720x504 with 1 Axes>"
      ]
     },
     "metadata": {
      "needs_background": "light"
     },
     "output_type": "display_data"
    }
   ],
   "source": [
    "(\n",
    "rating.groupby('rating')[['eu_sales', 'jp_sales', 'na_sales', 'rating']]\n",
    "    .mean()\n",
    "    .plot(kind='bar')\n",
    ")\n",
    "plt.show()"
   ]
  },
  {
   "cell_type": "markdown",
   "id": "0f0d6a36",
   "metadata": {},
   "source": [
    "<div class=\"alert alert-block alert-info\">\n",
    "Продажи в Европе и Северной Америке выше с рейтингом M. В Японии - это рейтинг T."
   ]
  },
  {
   "cell_type": "markdown",
   "id": "51acc237",
   "metadata": {},
   "source": [
    "<div class=\"alert alert-block alert-danger\">\n",
    "<b>❌ Комментарий ревьюера</b>    \n",
    "\n",
    "<s>Проанализируй этот пункт ещё раз, после того, как вставишь маркерное значение в столбец rating  вместо пропусков</s>\n",
    "</div>"
   ]
  },
  {
   "cell_type": "markdown",
   "id": "1754df54",
   "metadata": {},
   "source": [
    "<div class=\"alert alert-info\"> <b>Комментарий студента:</b>\n",
    "    \n",
    "Продажи без указанного рейтинга (unknown) примерно одинаковые для всех регионов.    \n",
    "\n",
    "</div>    "
   ]
  },
  {
   "cell_type": "markdown",
   "id": "96c2f4f2",
   "metadata": {},
   "source": [
    "<div class=\"alert alert-block alert-warning\">\n",
    "<b>⚠️ Комментарий ревьюера v2</b>    \n",
    "   \n",
    "Если посмотреть внимательнее, то большая часть игр в Японии без рейтинга.\n",
    "\n",
    "</div>"
   ]
  },
  {
   "cell_type": "markdown",
   "id": "f66e77de",
   "metadata": {},
   "source": [
    "### Проверка гипотез"
   ]
  },
  {
   "cell_type": "markdown",
   "id": "c1203a1b",
   "metadata": {},
   "source": [
    "<div class=\"alert alert-block alert-info\">\n",
    "    \n",
    "**Проверить гипотезу:**\n",
    "Средние пользовательские рейтинги платформ Xbox One и PC одинаковые.\n",
    "\n",
    "\n",
    "Поскольку нам доступны данные из открытых источников о продажах игр конкретного магазина, мы не можем утверждать, что это генеральная совокупность. Нам доступна выборка о продажах игр. Так как неизвестно среднее и стандартное отклонение генеральной совокупности, будем использовать ttest для проверки гипотез (а не ztest).\n",
    "    \n",
    "    \n",
    "**H0:** Средние пользовательские рейтинги платформ XboxOne и PC равны.\n",
    "    \n",
    "    \n",
    "**H1:** Средние пользовательские рейтинги платформ XboxOne и PC различны."
   ]
  },
  {
   "cell_type": "markdown",
   "id": "4c0213c9",
   "metadata": {},
   "source": [
    "<div class=\"alert alert-block alert-info\">\n",
    "Есть несколько условий применимости ttest:\n",
    "    \n",
    "- Выборочные средние должны быть нормально распределены\n",
    "- Генеральные совокупности должны быть независимы\n",
    "- Дисперсии генеральных совокупностей должны быть равны\n",
    "    "
   ]
  },
  {
   "cell_type": "markdown",
   "id": "ecab727a",
   "metadata": {},
   "source": [
    "<div class=\"alert alert-success\">\n",
    "<b>✔️ Комментарий ревьюера</b>\n",
    "\n",
    "Отлично, сформулировали гипотезы и обозначили тест, которым будем пользоваться.\n",
    "\n",
    "</div>"
   ]
  },
  {
   "cell_type": "code",
   "execution_count": 59,
   "id": "f87b2bd6",
   "metadata": {},
   "outputs": [],
   "source": [
    "rating_Xone = (\n",
    "    data\n",
    "    .query('platform == \"XOne\"')\n",
    "    .dropna(subset=['user_score'])\n",
    ")"
   ]
  },
  {
   "cell_type": "code",
   "execution_count": 60,
   "id": "eaada365",
   "metadata": {},
   "outputs": [
    {
     "data": {
      "image/png": "[encoded data removed]",
      "text/plain": [
       "<Figure size 360x360 with 1 Axes>"
      ]
     },
     "metadata": {
      "needs_background": "light"
     },
     "output_type": "display_data"
    }
   ],
   "source": [
    "sns.displot(rating_Xone['user_score'], bins=15,  kde=True, color='green')\n",
    "plt.title('Распределение пользовательских оценох для игр платформы XOne')\n",
    "plt.show()"
   ]
  },
  {
   "cell_type": "code",
   "execution_count": 61,
   "id": "b63d2663",
   "metadata": {},
   "outputs": [],
   "source": [
    "rating_PC = (\n",
    "    data\n",
    "    .query('platform == \"PC\"')\n",
    "    .dropna(subset=['user_score'])\n",
    ")"
   ]
  },
  {
   "cell_type": "code",
   "execution_count": 62,
   "id": "49c8075f",
   "metadata": {},
   "outputs": [
    {
     "data": {
      "image/png": "[encoded data removed]",
      "text/plain": [
       "<Figure size 360x360 with 1 Axes>"
      ]
     },
     "metadata": {
      "needs_background": "light"
     },
     "output_type": "display_data"
    }
   ],
   "source": [
    "sns.displot(rating_PC['user_score'], bins=15,  kde=True)\n",
    "plt.title('Распределение пользовательских оценох для игр платформы PC')\n",
    "plt.show()"
   ]
  },
  {
   "cell_type": "code",
   "execution_count": 63,
   "id": "8569e27e",
   "metadata": {},
   "outputs": [
    {
     "name": "stdout",
     "output_type": "stream",
     "text": [
      "193\n"
     ]
    },
    {
     "data": {
      "text/plain": [
       "160"
      ]
     },
     "execution_count": 63,
     "metadata": {},
     "output_type": "execute_result"
    }
   ],
   "source": [
    "print(len(rating_Xone))\n",
    "len(rating_PC)"
   ]
  },
  {
   "cell_type": "markdown",
   "id": "0be6a0e3",
   "metadata": {},
   "source": [
    "<div class=\"alert alert-block alert-info\">\n",
    "Распределение выборок близко к нормальному.\n",
    "Совокупности являются независимыми. Так как выборки не равны по размеру применяем ttest с параметром equal_var = False."
   ]
  },
  {
   "cell_type": "markdown",
   "id": "259da187",
   "metadata": {},
   "source": [
    "<div class=\"alert alert-success\">\n",
    "<b>✔️ Комментарий ревьюера</b>\n",
    "\n",
    "Молодец, что провела проверку.\n",
    "\n",
    "</div>"
   ]
  },
  {
   "cell_type": "code",
   "execution_count": 64,
   "id": "bfc80773",
   "metadata": {},
   "outputs": [
    {
     "name": "stdout",
     "output_type": "stream",
     "text": [
      "p-значение: 0.12376206696497502\n",
      "Значение статистики (отклонения): 1.5435344444203198\n",
      "Принимаем нулевую гипотезу о равенстве средних двух выборок\n"
     ]
    }
   ],
   "source": [
    "alpha = 0.05\n",
    "results = st.ttest_ind(\n",
    "    rating_Xone['user_score'],\n",
    "    rating_PC['user_score'],\n",
    "    equal_var=False\n",
    ")\n",
    "print('p-значение:', results.pvalue)\n",
    "print('Значение статистики (отклонения):', results.statistic)\n",
    "if results.pvalue < alpha:\n",
    "    print('Нулевую гипотезу отклоняем')\n",
    "else:\n",
    "    print('Принимаем нулевую гипотезу о равенстве средних двух выборок')"
   ]
  },
  {
   "cell_type": "markdown",
   "id": "66760e69",
   "metadata": {},
   "source": [
    "<div class=\"alert alert-success\">\n",
    "<b>✔️ Комментарий ревьюера</b>\n",
    "\n",
    "✅\n",
    "\n",
    "</div>"
   ]
  },
  {
   "cell_type": "markdown",
   "id": "f4a071bf",
   "metadata": {},
   "source": [
    "<div class=\"alert alert-block alert-info\">\n",
    "    \n",
    "**Проверить гипотезу:** Средние пользовательские рейтинги жанров Action и Sports разные.\n",
    "    \n",
    "**H0:** Средние пользовательские рейтинги жанров Action и Sports равны.\n",
    "    \n",
    "**H1:** Средние пользовательские рейтинги жанров Action и Sports разные"
   ]
  },
  {
   "cell_type": "markdown",
   "id": "8c73a71d",
   "metadata": {},
   "source": [
    "<div class=\"alert alert-success\">\n",
    "<b>✔️ Комментарий ревьюера</b>\n",
    "\n",
    "Хорошо.\n",
    "\n",
    "</div>"
   ]
  },
  {
   "cell_type": "code",
   "execution_count": 65,
   "id": "c8b9e807",
   "metadata": {},
   "outputs": [],
   "source": [
    "genre_action = data\\\n",
    ".query('genre == \"Action\"')\\\n",
    ".dropna(subset=['user_score'])"
   ]
  },
  {
   "cell_type": "code",
   "execution_count": 66,
   "id": "c57fd02b",
   "metadata": {},
   "outputs": [
    {
     "data": {
      "image/png": "[encoded data removed]",
      "text/plain": [
       "<Figure size 360x360 with 1 Axes>"
      ]
     },
     "metadata": {
      "needs_background": "light"
     },
     "output_type": "display_data"
    }
   ],
   "source": [
    "sns.displot(genre_action['user_score'], bins=15, kde=True, color='green')\n",
    "plt.title('Распределение пользовательских оценок игр жанра Action')\n",
    "plt.show()"
   ]
  },
  {
   "cell_type": "code",
   "execution_count": 67,
   "id": "2a901480",
   "metadata": {},
   "outputs": [],
   "source": [
    "genre_sports = data\\\n",
    ".query('genre == \"Sports\"')\\\n",
    ".dropna(subset=['user_score'])"
   ]
  },
  {
   "cell_type": "code",
   "execution_count": 68,
   "id": "a3e9c5ce",
   "metadata": {},
   "outputs": [
    {
     "data": {
      "image/png": "[encoded data removed]",
      "text/plain": [
       "<Figure size 360x360 with 1 Axes>"
      ]
     },
     "metadata": {
      "needs_background": "light"
     },
     "output_type": "display_data"
    }
   ],
   "source": [
    "sns.displot(genre_sports['user_score'], bins=15, kde=True)\n",
    "plt.title('Распределение пользовательских оценок игр жанра Sports')\n",
    "plt.show()"
   ]
  },
  {
   "cell_type": "code",
   "execution_count": 69,
   "id": "491abf15",
   "metadata": {},
   "outputs": [
    {
     "name": "stdout",
     "output_type": "stream",
     "text": [
      "432\n"
     ]
    },
    {
     "data": {
      "text/plain": [
       "173"
      ]
     },
     "execution_count": 69,
     "metadata": {},
     "output_type": "execute_result"
    }
   ],
   "source": [
    "print(len(genre_action))\n",
    "len(genre_sports)"
   ]
  },
  {
   "cell_type": "code",
   "execution_count": 70,
   "id": "f6f393e4",
   "metadata": {},
   "outputs": [
    {
     "name": "stdout",
     "output_type": "stream",
     "text": [
      "p-значение 1.0490073501178762e-19\n",
      "Нулевую гипотезу отвергаем\n"
     ]
    }
   ],
   "source": [
    "alpha = 0.05\n",
    "results = st.ttest_ind(\n",
    "    genre_action['user_score'],\n",
    "    genre_sports['user_score'],\n",
    "    equal_var=False\n",
    ")\n",
    "print(\"p-значение\", results.pvalue)\n",
    "if results.pvalue < alpha:\n",
    "    print(\"Нулевую гипотезу отвергаем\")\n",
    "else:\n",
    "    print(\"Принимаем нулевую гипотезу\")"
   ]
  },
  {
   "cell_type": "markdown",
   "id": "50a56c99",
   "metadata": {},
   "source": [
    "<div class=\"alert alert-success\">\n",
    "<b>✔️ Комментарий ревьюера</b>\n",
    "\n",
    "Супер, гипотезы проверили.\n",
    "\n",
    "</div>"
   ]
  },
  {
   "cell_type": "markdown",
   "id": "b164c5e3",
   "metadata": {},
   "source": [
    "### Общий вывод"
   ]
  },
  {
   "cell_type": "markdown",
   "id": "1b9d8998",
   "metadata": {},
   "source": [
    "<div class=\"alert alert-block alert-info\">\n",
    "Чтобы выявить закономерности, определяющие успех игры, отобрали данные только за последние 4 года. Это тот период, когда исчезают старые, появляются новые видеоигры.\n",
    "\n",
    "\n",
    "\n",
    "- Наиболее прибыльные платформы - это PS4, PS3, X360, 3DS, XOne. PS4 имеет самые высокие продажи. X360 имеет большой разброс продаж, то есть много высоких продаж по отдельным играм и много не очень высоких.\n",
    "- Отзывы критиков оказывают среднее влияние на продажи. Чем выше оценки, тем выше и продажи.\n",
    "- Игры в жанре action приносят наибольшие продажи.\n",
    "\n",
    "Разбивка по регионам:\n",
    "    \n",
    "В **Северной Америке и Европе** поведение пользователей похожее:\n",
    "\n",
    "- Преобладают продажи PS4, PS3, X360.\n",
    "- Самые высокие продажи в жанре action.\n",
    "- Продажи с значением рейтинга M ESRB самые высокие.\n",
    "\n",
    "Для **Японии**:\n",
    "    \n",
    "- Преобладают продажи игр на платформах 3DS, PS3, PSV.\n",
    "- Самые высокие продажи в жанре Role-playing.\n",
    "- Преобладает рейтинг E для объёма продаж.\n",
    "\n",
    "Было также выявлено:\n",
    "    \n",
    "- Средние пользовательские рейтинги игр на платформах XboxOne и PC равны.\n",
    "- Средние пользовательские рейтинги игр жанров Action и Sports различны.\n",
    "\n"
   ]
  },
  {
   "cell_type": "markdown",
   "id": "a143f8da",
   "metadata": {},
   "source": [
    "<div class=\"alert alert-success\">\n",
    "<b>✔️ Комментарий ревьюера</b>\n",
    "\n",
    "Хороший структурированный вывод, молодец.\n",
    "</div>"
   ]
  }
 ],
 "metadata": {
  "ExecuteTimeLog": [
   {
    "duration": 1260,
    "start_time": "2022-04-19T09:24:08.285Z"
   },
   {
    "duration": 152,
    "start_time": "2022-04-19T09:24:09.547Z"
   },
   {
    "duration": 0,
    "start_time": "2022-04-19T09:24:09.703Z"
   },
   {
    "duration": 0,
    "start_time": "2022-04-19T09:24:09.704Z"
   },
   {
    "duration": 0,
    "start_time": "2022-04-19T09:24:09.705Z"
   },
   {
    "duration": 0,
    "start_time": "2022-04-19T09:24:09.706Z"
   },
   {
    "duration": 0,
    "start_time": "2022-04-19T09:24:09.707Z"
   },
   {
    "duration": 0,
    "start_time": "2022-04-19T09:24:09.708Z"
   },
   {
    "duration": 0,
    "start_time": "2022-04-19T09:24:09.709Z"
   },
   {
    "duration": 0,
    "start_time": "2022-04-19T09:24:09.710Z"
   },
   {
    "duration": 0,
    "start_time": "2022-04-19T09:24:09.711Z"
   },
   {
    "duration": 0,
    "start_time": "2022-04-19T09:24:09.712Z"
   },
   {
    "duration": 0,
    "start_time": "2022-04-19T09:24:09.713Z"
   },
   {
    "duration": 0,
    "start_time": "2022-04-19T09:24:09.714Z"
   },
   {
    "duration": 0,
    "start_time": "2022-04-19T09:24:09.715Z"
   },
   {
    "duration": 0,
    "start_time": "2022-04-19T09:24:09.716Z"
   },
   {
    "duration": 0,
    "start_time": "2022-04-19T09:24:09.717Z"
   },
   {
    "duration": 0,
    "start_time": "2022-04-19T09:24:09.718Z"
   },
   {
    "duration": 0,
    "start_time": "2022-04-19T09:24:09.719Z"
   },
   {
    "duration": 0,
    "start_time": "2022-04-19T09:24:09.747Z"
   },
   {
    "duration": 0,
    "start_time": "2022-04-19T09:24:09.748Z"
   },
   {
    "duration": 0,
    "start_time": "2022-04-19T09:24:09.750Z"
   },
   {
    "duration": 0,
    "start_time": "2022-04-19T09:24:09.751Z"
   },
   {
    "duration": 0,
    "start_time": "2022-04-19T09:24:09.752Z"
   },
   {
    "duration": 0,
    "start_time": "2022-04-19T09:24:09.753Z"
   },
   {
    "duration": 0,
    "start_time": "2022-04-19T09:24:09.754Z"
   },
   {
    "duration": 0,
    "start_time": "2022-04-19T09:24:09.755Z"
   },
   {
    "duration": 0,
    "start_time": "2022-04-19T09:24:09.756Z"
   },
   {
    "duration": 0,
    "start_time": "2022-04-19T09:24:09.757Z"
   },
   {
    "duration": 0,
    "start_time": "2022-04-19T09:24:09.758Z"
   },
   {
    "duration": 0,
    "start_time": "2022-04-19T09:24:09.759Z"
   },
   {
    "duration": 0,
    "start_time": "2022-04-19T09:24:09.760Z"
   },
   {
    "duration": 0,
    "start_time": "2022-04-19T09:24:09.761Z"
   },
   {
    "duration": 0,
    "start_time": "2022-04-19T09:24:09.762Z"
   },
   {
    "duration": 0,
    "start_time": "2022-04-19T09:24:09.763Z"
   },
   {
    "duration": 0,
    "start_time": "2022-04-19T09:24:09.764Z"
   },
   {
    "duration": 0,
    "start_time": "2022-04-19T09:24:09.765Z"
   },
   {
    "duration": 0,
    "start_time": "2022-04-19T09:24:09.766Z"
   },
   {
    "duration": 0,
    "start_time": "2022-04-19T09:24:09.767Z"
   },
   {
    "duration": 0,
    "start_time": "2022-04-19T09:24:09.769Z"
   },
   {
    "duration": 0,
    "start_time": "2022-04-19T09:24:09.769Z"
   },
   {
    "duration": 0,
    "start_time": "2022-04-19T09:24:09.770Z"
   },
   {
    "duration": 0,
    "start_time": "2022-04-19T09:24:09.771Z"
   },
   {
    "duration": 0,
    "start_time": "2022-04-19T09:24:09.773Z"
   },
   {
    "duration": 0,
    "start_time": "2022-04-19T09:24:09.773Z"
   },
   {
    "duration": 0,
    "start_time": "2022-04-19T09:24:09.774Z"
   },
   {
    "duration": 0,
    "start_time": "2022-04-19T09:24:09.775Z"
   },
   {
    "duration": 0,
    "start_time": "2022-04-19T09:24:09.776Z"
   },
   {
    "duration": 0,
    "start_time": "2022-04-19T09:24:09.777Z"
   },
   {
    "duration": 0,
    "start_time": "2022-04-19T09:24:09.778Z"
   },
   {
    "duration": 0,
    "start_time": "2022-04-19T09:24:09.779Z"
   },
   {
    "duration": 0,
    "start_time": "2022-04-19T09:24:09.781Z"
   },
   {
    "duration": 0,
    "start_time": "2022-04-19T09:24:09.782Z"
   },
   {
    "duration": 0,
    "start_time": "2022-04-19T09:24:09.783Z"
   },
   {
    "duration": 0,
    "start_time": "2022-04-19T09:24:09.784Z"
   },
   {
    "duration": 0,
    "start_time": "2022-04-19T09:24:09.847Z"
   },
   {
    "duration": 0,
    "start_time": "2022-04-19T09:24:09.848Z"
   },
   {
    "duration": 0,
    "start_time": "2022-04-19T09:24:09.850Z"
   },
   {
    "duration": 0,
    "start_time": "2022-04-19T09:24:09.851Z"
   },
   {
    "duration": 0,
    "start_time": "2022-04-19T09:24:09.851Z"
   },
   {
    "duration": 0,
    "start_time": "2022-04-19T09:24:09.852Z"
   },
   {
    "duration": 0,
    "start_time": "2022-04-19T09:24:09.853Z"
   },
   {
    "duration": 0,
    "start_time": "2022-04-19T09:24:09.855Z"
   },
   {
    "duration": 0,
    "start_time": "2022-04-19T09:24:09.855Z"
   },
   {
    "duration": 0,
    "start_time": "2022-04-19T09:24:09.856Z"
   },
   {
    "duration": 1171,
    "start_time": "2022-04-19T09:27:25.051Z"
   },
   {
    "duration": 35,
    "start_time": "2022-04-19T09:27:26.224Z"
   },
   {
    "duration": 16,
    "start_time": "2022-04-19T09:27:26.261Z"
   },
   {
    "duration": 13,
    "start_time": "2022-04-19T09:27:26.278Z"
   },
   {
    "duration": 3,
    "start_time": "2022-04-19T09:27:26.293Z"
   },
   {
    "duration": 6,
    "start_time": "2022-04-19T09:27:26.297Z"
   },
   {
    "duration": 6,
    "start_time": "2022-04-19T09:27:26.305Z"
   },
   {
    "duration": 42,
    "start_time": "2022-04-19T09:27:26.312Z"
   },
   {
    "duration": 8,
    "start_time": "2022-04-19T09:27:26.356Z"
   },
   {
    "duration": 13,
    "start_time": "2022-04-19T09:27:26.366Z"
   },
   {
    "duration": 9,
    "start_time": "2022-04-19T09:27:26.380Z"
   },
   {
    "duration": 8,
    "start_time": "2022-04-19T09:27:26.391Z"
   },
   {
    "duration": 48,
    "start_time": "2022-04-19T09:27:26.401Z"
   },
   {
    "duration": 5,
    "start_time": "2022-04-19T09:27:26.451Z"
   },
   {
    "duration": 35,
    "start_time": "2022-04-19T09:27:26.457Z"
   },
   {
    "duration": 4,
    "start_time": "2022-04-19T09:27:26.493Z"
   },
   {
    "duration": 4,
    "start_time": "2022-04-19T09:27:26.499Z"
   },
   {
    "duration": 168,
    "start_time": "2022-04-19T09:27:26.504Z"
   },
   {
    "duration": 5,
    "start_time": "2022-04-19T09:27:26.674Z"
   },
   {
    "duration": 15,
    "start_time": "2022-04-19T09:27:26.681Z"
   },
   {
    "duration": 5,
    "start_time": "2022-04-19T09:27:26.698Z"
   },
   {
    "duration": 19,
    "start_time": "2022-04-19T09:27:26.704Z"
   },
   {
    "duration": 36,
    "start_time": "2022-04-19T09:27:26.724Z"
   },
   {
    "duration": 10,
    "start_time": "2022-04-19T09:27:26.762Z"
   },
   {
    "duration": 345,
    "start_time": "2022-04-19T09:27:26.774Z"
   },
   {
    "duration": 5,
    "start_time": "2022-04-19T09:27:27.120Z"
   },
   {
    "duration": 28,
    "start_time": "2022-04-19T09:27:27.127Z"
   },
   {
    "duration": 8,
    "start_time": "2022-04-19T09:27:27.157Z"
   },
   {
    "duration": 8,
    "start_time": "2022-04-19T09:27:27.166Z"
   },
   {
    "duration": 14,
    "start_time": "2022-04-19T09:27:27.175Z"
   },
   {
    "duration": 221,
    "start_time": "2022-04-19T09:27:27.190Z"
   },
   {
    "duration": 162,
    "start_time": "2022-04-19T09:27:27.413Z"
   },
   {
    "duration": 4,
    "start_time": "2022-04-19T09:27:27.577Z"
   },
   {
    "duration": 10,
    "start_time": "2022-04-19T09:27:27.583Z"
   },
   {
    "duration": 6,
    "start_time": "2022-04-19T09:27:27.594Z"
   },
   {
    "duration": 5,
    "start_time": "2022-04-19T09:27:27.602Z"
   },
   {
    "duration": 154,
    "start_time": "2022-04-19T09:27:27.608Z"
   },
   {
    "duration": 159,
    "start_time": "2022-04-19T09:27:27.763Z"
   },
   {
    "duration": 5,
    "start_time": "2022-04-19T09:27:27.924Z"
   },
   {
    "duration": 4,
    "start_time": "2022-04-19T09:27:27.930Z"
   },
   {
    "duration": 8,
    "start_time": "2022-04-19T09:27:27.947Z"
   },
   {
    "duration": 22,
    "start_time": "2022-04-19T09:27:27.957Z"
   },
   {
    "duration": 161,
    "start_time": "2022-04-19T09:27:27.981Z"
   },
   {
    "duration": 12,
    "start_time": "2022-04-19T09:27:28.147Z"
   },
   {
    "duration": 9,
    "start_time": "2022-04-19T09:27:28.161Z"
   },
   {
    "duration": 222,
    "start_time": "2022-04-19T09:27:28.172Z"
   },
   {
    "duration": 11,
    "start_time": "2022-04-19T09:27:28.396Z"
   },
   {
    "duration": 14,
    "start_time": "2022-04-19T09:27:28.408Z"
   },
   {
    "duration": 15,
    "start_time": "2022-04-19T09:27:28.448Z"
   },
   {
    "duration": 242,
    "start_time": "2022-04-19T09:27:28.465Z"
   },
   {
    "duration": 10,
    "start_time": "2022-04-19T09:27:28.709Z"
   },
   {
    "duration": 5,
    "start_time": "2022-04-19T09:27:28.721Z"
   },
   {
    "duration": 233,
    "start_time": "2022-04-19T09:27:28.728Z"
   },
   {
    "duration": 7,
    "start_time": "2022-04-19T09:27:28.963Z"
   },
   {
    "duration": 269,
    "start_time": "2022-04-19T09:27:28.971Z"
   },
   {
    "duration": 12,
    "start_time": "2022-04-19T09:27:29.241Z"
   },
   {
    "duration": 302,
    "start_time": "2022-04-19T09:27:29.255Z"
   },
   {
    "duration": 5,
    "start_time": "2022-04-19T09:27:29.559Z"
   },
   {
    "duration": 9,
    "start_time": "2022-04-19T09:27:29.565Z"
   },
   {
    "duration": 15,
    "start_time": "2022-04-19T09:27:29.576Z"
   },
   {
    "duration": 304,
    "start_time": "2022-04-19T09:27:29.593Z"
   },
   {
    "duration": 6,
    "start_time": "2022-04-19T09:27:29.899Z"
   },
   {
    "duration": 345,
    "start_time": "2022-04-19T09:27:29.907Z"
   },
   {
    "duration": 5,
    "start_time": "2022-04-19T09:27:30.253Z"
   },
   {
    "duration": 29,
    "start_time": "2022-04-19T09:27:30.259Z"
   },
   {
    "duration": 1151,
    "start_time": "2022-04-19T10:08:44.050Z"
   },
   {
    "duration": 35,
    "start_time": "2022-04-19T10:08:45.203Z"
   },
   {
    "duration": 16,
    "start_time": "2022-04-19T10:08:45.240Z"
   },
   {
    "duration": 12,
    "start_time": "2022-04-19T10:08:45.257Z"
   },
   {
    "duration": 2,
    "start_time": "2022-04-19T10:08:45.272Z"
   },
   {
    "duration": 6,
    "start_time": "2022-04-19T10:08:45.276Z"
   },
   {
    "duration": 10,
    "start_time": "2022-04-19T10:08:45.283Z"
   },
   {
    "duration": 14,
    "start_time": "2022-04-19T10:08:45.294Z"
   },
   {
    "duration": 38,
    "start_time": "2022-04-19T10:08:45.310Z"
   },
   {
    "duration": 12,
    "start_time": "2022-04-19T10:08:45.350Z"
   },
   {
    "duration": 12,
    "start_time": "2022-04-19T10:08:45.364Z"
   },
   {
    "duration": 8,
    "start_time": "2022-04-19T10:08:45.378Z"
   },
   {
    "duration": 18,
    "start_time": "2022-04-19T10:08:45.387Z"
   },
   {
    "duration": 4,
    "start_time": "2022-04-19T10:08:45.408Z"
   },
   {
    "duration": 58,
    "start_time": "2022-04-19T10:08:45.414Z"
   },
   {
    "duration": 4,
    "start_time": "2022-04-19T10:08:45.473Z"
   },
   {
    "duration": 5,
    "start_time": "2022-04-19T10:08:45.478Z"
   },
   {
    "duration": 157,
    "start_time": "2022-04-19T10:08:45.485Z"
   },
   {
    "duration": 6,
    "start_time": "2022-04-19T10:08:45.643Z"
   },
   {
    "duration": 13,
    "start_time": "2022-04-19T10:08:45.650Z"
   },
   {
    "duration": 4,
    "start_time": "2022-04-19T10:08:45.665Z"
   },
   {
    "duration": 21,
    "start_time": "2022-04-19T10:08:45.671Z"
   },
   {
    "duration": 14,
    "start_time": "2022-04-19T10:08:45.693Z"
   },
   {
    "duration": 7,
    "start_time": "2022-04-19T10:08:45.708Z"
   },
   {
    "duration": 345,
    "start_time": "2022-04-19T10:08:45.717Z"
   },
   {
    "duration": 5,
    "start_time": "2022-04-19T10:08:46.063Z"
   },
   {
    "duration": 12,
    "start_time": "2022-04-19T10:08:46.070Z"
   },
   {
    "duration": 8,
    "start_time": "2022-04-19T10:08:46.084Z"
   },
   {
    "duration": 5,
    "start_time": "2022-04-19T10:08:46.093Z"
   },
   {
    "duration": 11,
    "start_time": "2022-04-19T10:08:46.100Z"
   },
   {
    "duration": 221,
    "start_time": "2022-04-19T10:08:46.113Z"
   },
   {
    "duration": 156,
    "start_time": "2022-04-19T10:08:46.336Z"
   },
   {
    "duration": 5,
    "start_time": "2022-04-19T10:08:46.493Z"
   },
   {
    "duration": 11,
    "start_time": "2022-04-19T10:08:46.500Z"
   },
   {
    "duration": 5,
    "start_time": "2022-04-19T10:08:46.512Z"
   },
   {
    "duration": 5,
    "start_time": "2022-04-19T10:08:46.518Z"
   },
   {
    "duration": 159,
    "start_time": "2022-04-19T10:08:46.524Z"
   },
   {
    "duration": 153,
    "start_time": "2022-04-19T10:08:46.684Z"
   },
   {
    "duration": 11,
    "start_time": "2022-04-19T10:08:46.838Z"
   },
   {
    "duration": 7,
    "start_time": "2022-04-19T10:08:46.851Z"
   },
   {
    "duration": 5,
    "start_time": "2022-04-19T10:08:46.862Z"
   },
   {
    "duration": 21,
    "start_time": "2022-04-19T10:08:46.869Z"
   },
   {
    "duration": 160,
    "start_time": "2022-04-19T10:08:46.891Z"
   },
   {
    "duration": 13,
    "start_time": "2022-04-19T10:08:47.053Z"
   },
   {
    "duration": 8,
    "start_time": "2022-04-19T10:08:47.067Z"
   },
   {
    "duration": 229,
    "start_time": "2022-04-19T10:08:47.077Z"
   },
   {
    "duration": 11,
    "start_time": "2022-04-19T10:08:47.307Z"
   },
   {
    "duration": 29,
    "start_time": "2022-04-19T10:08:47.319Z"
   },
   {
    "duration": 15,
    "start_time": "2022-04-19T10:08:47.350Z"
   },
   {
    "duration": 235,
    "start_time": "2022-04-19T10:08:47.366Z"
   },
   {
    "duration": 11,
    "start_time": "2022-04-19T10:08:47.602Z"
   },
   {
    "duration": 36,
    "start_time": "2022-04-19T10:08:47.615Z"
   },
   {
    "duration": 214,
    "start_time": "2022-04-19T10:08:47.652Z"
   },
   {
    "duration": 7,
    "start_time": "2022-04-19T10:08:47.868Z"
   },
   {
    "duration": 272,
    "start_time": "2022-04-19T10:08:47.876Z"
   },
   {
    "duration": 7,
    "start_time": "2022-04-19T10:08:48.149Z"
   },
   {
    "duration": 355,
    "start_time": "2022-04-19T10:08:48.158Z"
   },
   {
    "duration": 4,
    "start_time": "2022-04-19T10:08:48.514Z"
   },
   {
    "duration": 6,
    "start_time": "2022-04-19T10:08:48.519Z"
   },
   {
    "duration": 20,
    "start_time": "2022-04-19T10:08:48.527Z"
   },
   {
    "duration": 338,
    "start_time": "2022-04-19T10:08:48.549Z"
   },
   {
    "duration": 6,
    "start_time": "2022-04-19T10:08:48.888Z"
   },
   {
    "duration": 276,
    "start_time": "2022-04-19T10:08:48.896Z"
   },
   {
    "duration": 4,
    "start_time": "2022-04-19T10:08:49.173Z"
   },
   {
    "duration": 5,
    "start_time": "2022-04-19T10:08:49.179Z"
   },
   {
    "duration": 1310,
    "start_time": "2022-04-19T17:08:20.301Z"
   },
   {
    "duration": 37,
    "start_time": "2022-04-19T17:08:21.613Z"
   },
   {
    "duration": 18,
    "start_time": "2022-04-19T17:08:22.530Z"
   },
   {
    "duration": 15,
    "start_time": "2022-04-19T17:08:27.216Z"
   },
   {
    "duration": 1445,
    "start_time": "2022-04-19T17:08:51.366Z"
   },
   {
    "duration": 0,
    "start_time": "2022-04-19T17:08:52.812Z"
   },
   {
    "duration": 2092,
    "start_time": "2022-04-19T17:09:51.923Z"
   },
   {
    "duration": 3,
    "start_time": "2022-04-19T17:09:57.949Z"
   },
   {
    "duration": 37,
    "start_time": "2022-04-19T17:09:57.954Z"
   },
   {
    "duration": 13,
    "start_time": "2022-04-19T17:09:57.993Z"
   },
   {
    "duration": 17,
    "start_time": "2022-04-19T17:09:58.008Z"
   },
   {
    "duration": 3,
    "start_time": "2022-04-19T17:09:58.027Z"
   },
   {
    "duration": 11,
    "start_time": "2022-04-19T17:09:58.032Z"
   },
   {
    "duration": 7,
    "start_time": "2022-04-19T17:10:03.869Z"
   },
   {
    "duration": 14,
    "start_time": "2022-04-19T17:10:06.084Z"
   },
   {
    "duration": 121,
    "start_time": "2022-04-19T17:13:10.205Z"
   },
   {
    "duration": 10,
    "start_time": "2022-04-19T17:13:22.378Z"
   },
   {
    "duration": 14,
    "start_time": "2022-04-19T17:14:07.195Z"
   },
   {
    "duration": 9,
    "start_time": "2022-04-19T17:14:24.520Z"
   },
   {
    "duration": 10,
    "start_time": "2022-04-19T17:14:25.129Z"
   },
   {
    "duration": 21,
    "start_time": "2022-04-19T17:14:33.473Z"
   },
   {
    "duration": 5,
    "start_time": "2022-04-19T17:14:40.742Z"
   },
   {
    "duration": 38,
    "start_time": "2022-04-19T17:15:03.309Z"
   },
   {
    "duration": 4,
    "start_time": "2022-04-19T17:15:03.914Z"
   },
   {
    "duration": 8,
    "start_time": "2022-04-19T17:16:53.216Z"
   },
   {
    "duration": 36,
    "start_time": "2022-04-19T17:16:55.466Z"
   },
   {
    "duration": 3,
    "start_time": "2022-04-19T17:16:55.924Z"
   },
   {
    "duration": 4,
    "start_time": "2022-04-19T17:18:07.913Z"
   },
   {
    "duration": 149,
    "start_time": "2022-04-19T17:18:08.880Z"
   },
   {
    "duration": 5,
    "start_time": "2022-04-19T17:18:11.652Z"
   },
   {
    "duration": 7,
    "start_time": "2022-04-19T17:18:18.226Z"
   },
   {
    "duration": 6,
    "start_time": "2022-04-19T17:18:25.302Z"
   },
   {
    "duration": 4,
    "start_time": "2022-04-19T17:24:27.516Z"
   },
   {
    "duration": 18,
    "start_time": "2022-04-19T17:24:39.057Z"
   },
   {
    "duration": 9,
    "start_time": "2022-04-19T17:24:44.885Z"
   },
   {
    "duration": 89,
    "start_time": "2022-04-19T17:25:06.175Z"
   },
   {
    "duration": 14,
    "start_time": "2022-04-19T17:26:01.945Z"
   },
   {
    "duration": 9,
    "start_time": "2022-04-19T17:26:45.347Z"
   },
   {
    "duration": 176,
    "start_time": "2022-04-19T17:26:58.314Z"
   },
   {
    "duration": 160,
    "start_time": "2022-04-19T17:27:16.798Z"
   },
   {
    "duration": 163,
    "start_time": "2022-04-19T17:28:16.656Z"
   },
   {
    "duration": 174,
    "start_time": "2022-04-19T17:30:16.217Z"
   },
   {
    "duration": 180,
    "start_time": "2022-04-19T17:30:31.011Z"
   },
   {
    "duration": 141,
    "start_time": "2022-04-19T17:30:54.353Z"
   },
   {
    "duration": 133,
    "start_time": "2022-04-19T17:31:02.474Z"
   },
   {
    "duration": 168,
    "start_time": "2022-04-19T17:32:26.044Z"
   },
   {
    "duration": 216,
    "start_time": "2022-04-19T17:32:33.994Z"
   },
   {
    "duration": 168,
    "start_time": "2022-04-19T17:32:57.256Z"
   },
   {
    "duration": 11,
    "start_time": "2022-04-19T17:33:04.973Z"
   },
   {
    "duration": 178,
    "start_time": "2022-04-19T17:33:13.413Z"
   },
   {
    "duration": 173,
    "start_time": "2022-04-19T17:33:41.619Z"
   },
   {
    "duration": 89,
    "start_time": "2022-04-19T17:34:10.393Z"
   },
   {
    "duration": 16,
    "start_time": "2022-04-19T17:34:41.381Z"
   },
   {
    "duration": 8,
    "start_time": "2022-04-19T17:34:50.759Z"
   },
   {
    "duration": 383,
    "start_time": "2022-04-19T17:36:05.686Z"
   },
   {
    "duration": 360,
    "start_time": "2022-04-19T17:36:07.595Z"
   },
   {
    "duration": 225,
    "start_time": "2022-04-19T17:38:48.844Z"
   },
   {
    "duration": 22,
    "start_time": "2022-04-19T17:39:19.754Z"
   },
   {
    "duration": 6,
    "start_time": "2022-04-19T17:40:50.959Z"
   },
   {
    "duration": 142,
    "start_time": "2022-04-19T17:40:58.494Z"
   },
   {
    "duration": 10,
    "start_time": "2022-04-19T17:41:52.977Z"
   },
   {
    "duration": 8,
    "start_time": "2022-04-19T17:41:58.930Z"
   },
   {
    "duration": 15,
    "start_time": "2022-04-19T17:42:23.206Z"
   },
   {
    "duration": 8,
    "start_time": "2022-04-19T17:42:55.566Z"
   },
   {
    "duration": 9,
    "start_time": "2022-04-19T17:43:31.095Z"
   },
   {
    "duration": 6,
    "start_time": "2022-04-19T17:46:31.942Z"
   },
   {
    "duration": 16,
    "start_time": "2022-04-19T17:47:28.328Z"
   },
   {
    "duration": 14,
    "start_time": "2022-04-19T17:47:43.352Z"
   },
   {
    "duration": 15,
    "start_time": "2022-04-19T17:48:26.671Z"
   },
   {
    "duration": 14,
    "start_time": "2022-04-19T17:49:43.680Z"
   },
   {
    "duration": 15,
    "start_time": "2022-04-19T17:49:55.115Z"
   },
   {
    "duration": 15,
    "start_time": "2022-04-19T17:50:07.171Z"
   },
   {
    "duration": 9,
    "start_time": "2022-04-19T17:51:14.004Z"
   },
   {
    "duration": 14,
    "start_time": "2022-04-19T17:51:19.823Z"
   },
   {
    "duration": 8,
    "start_time": "2022-04-19T17:52:17.577Z"
   },
   {
    "duration": 1318,
    "start_time": "2022-04-19T17:52:31.586Z"
   },
   {
    "duration": 8,
    "start_time": "2022-04-19T17:52:49.436Z"
   },
   {
    "duration": 6,
    "start_time": "2022-04-19T17:53:04.474Z"
   },
   {
    "duration": 9,
    "start_time": "2022-04-19T17:53:23.388Z"
   },
   {
    "duration": 1361,
    "start_time": "2022-04-19T17:53:31.598Z"
   },
   {
    "duration": 8,
    "start_time": "2022-04-19T17:53:37.612Z"
   },
   {
    "duration": 6,
    "start_time": "2022-04-19T17:53:43.622Z"
   },
   {
    "duration": 8,
    "start_time": "2022-04-19T17:53:52.139Z"
   },
   {
    "duration": 8,
    "start_time": "2022-04-19T17:54:22.319Z"
   },
   {
    "duration": 1234,
    "start_time": "2022-04-20T06:48:38.697Z"
   },
   {
    "duration": 40,
    "start_time": "2022-04-20T06:48:39.933Z"
   },
   {
    "duration": 16,
    "start_time": "2022-04-20T06:48:39.974Z"
   },
   {
    "duration": 14,
    "start_time": "2022-04-20T06:48:39.991Z"
   },
   {
    "duration": 3,
    "start_time": "2022-04-20T06:48:40.007Z"
   },
   {
    "duration": 4,
    "start_time": "2022-04-20T06:48:40.166Z"
   },
   {
    "duration": 6,
    "start_time": "2022-04-20T06:48:40.726Z"
   },
   {
    "duration": 12,
    "start_time": "2022-04-20T06:48:40.935Z"
   },
   {
    "duration": 9,
    "start_time": "2022-04-20T06:48:41.918Z"
   },
   {
    "duration": 13,
    "start_time": "2022-04-20T06:48:42.526Z"
   },
   {
    "duration": 9,
    "start_time": "2022-04-20T06:48:42.726Z"
   },
   {
    "duration": 9,
    "start_time": "2022-04-20T06:48:42.958Z"
   },
   {
    "duration": 20,
    "start_time": "2022-04-20T06:48:43.158Z"
   },
   {
    "duration": 4,
    "start_time": "2022-04-20T06:48:43.368Z"
   },
   {
    "duration": 34,
    "start_time": "2022-04-20T06:48:43.854Z"
   },
   {
    "duration": 4,
    "start_time": "2022-04-20T06:48:44.101Z"
   },
   {
    "duration": 3,
    "start_time": "2022-04-20T06:48:44.815Z"
   },
   {
    "duration": 103,
    "start_time": "2022-04-20T06:48:45.061Z"
   },
   {
    "duration": 5,
    "start_time": "2022-04-20T06:48:45.334Z"
   },
   {
    "duration": 799,
    "start_time": "2022-04-20T06:48:45.629Z"
   },
   {
    "duration": 0,
    "start_time": "2022-04-20T06:48:46.429Z"
   },
   {
    "duration": 0,
    "start_time": "2022-04-20T06:48:46.430Z"
   },
   {
    "duration": 12,
    "start_time": "2022-04-20T06:49:02.836Z"
   },
   {
    "duration": 9,
    "start_time": "2022-04-20T06:49:05.550Z"
   },
   {
    "duration": 9,
    "start_time": "2022-04-20T06:50:45.198Z"
   },
   {
    "duration": 166,
    "start_time": "2022-04-20T06:50:45.383Z"
   },
   {
    "duration": 11,
    "start_time": "2022-04-20T06:50:53.799Z"
   },
   {
    "duration": 4,
    "start_time": "2022-04-20T06:51:05.900Z"
   },
   {
    "duration": 44,
    "start_time": "2022-04-20T06:51:05.906Z"
   },
   {
    "duration": 13,
    "start_time": "2022-04-20T06:51:05.951Z"
   },
   {
    "duration": 13,
    "start_time": "2022-04-20T06:51:05.967Z"
   },
   {
    "duration": 3,
    "start_time": "2022-04-20T06:51:05.982Z"
   },
   {
    "duration": 5,
    "start_time": "2022-04-20T06:51:05.987Z"
   },
   {
    "duration": 7,
    "start_time": "2022-04-20T06:51:05.994Z"
   },
   {
    "duration": 50,
    "start_time": "2022-04-20T06:51:06.003Z"
   },
   {
    "duration": 11,
    "start_time": "2022-04-20T06:51:06.055Z"
   },
   {
    "duration": 14,
    "start_time": "2022-04-20T06:51:06.068Z"
   },
   {
    "duration": 8,
    "start_time": "2022-04-20T06:51:06.084Z"
   },
   {
    "duration": 10,
    "start_time": "2022-04-20T06:51:06.094Z"
   },
   {
    "duration": 52,
    "start_time": "2022-04-20T06:51:06.105Z"
   },
   {
    "duration": 5,
    "start_time": "2022-04-20T06:51:06.159Z"
   },
   {
    "duration": 36,
    "start_time": "2022-04-20T06:51:06.166Z"
   },
   {
    "duration": 3,
    "start_time": "2022-04-20T06:51:06.204Z"
   },
   {
    "duration": 13,
    "start_time": "2022-04-20T06:51:06.209Z"
   },
   {
    "duration": 40,
    "start_time": "2022-04-20T06:51:06.223Z"
   },
   {
    "duration": 0,
    "start_time": "2022-04-20T06:51:06.264Z"
   },
   {
    "duration": 0,
    "start_time": "2022-04-20T06:51:06.265Z"
   },
   {
    "duration": 0,
    "start_time": "2022-04-20T06:51:06.266Z"
   },
   {
    "duration": 0,
    "start_time": "2022-04-20T06:51:06.267Z"
   },
   {
    "duration": 0,
    "start_time": "2022-04-20T06:51:06.268Z"
   },
   {
    "duration": 0,
    "start_time": "2022-04-20T06:51:06.269Z"
   },
   {
    "duration": 3,
    "start_time": "2022-04-20T06:51:47.670Z"
   },
   {
    "duration": 141,
    "start_time": "2022-04-20T06:51:48.206Z"
   },
   {
    "duration": 6,
    "start_time": "2022-04-20T06:51:49.973Z"
   },
   {
    "duration": 7,
    "start_time": "2022-04-20T06:51:50.158Z"
   },
   {
    "duration": 5,
    "start_time": "2022-04-20T06:51:50.397Z"
   },
   {
    "duration": 4,
    "start_time": "2022-04-20T06:51:50.798Z"
   },
   {
    "duration": 10,
    "start_time": "2022-04-20T06:51:52.621Z"
   },
   {
    "duration": 155,
    "start_time": "2022-04-20T06:51:53.293Z"
   },
   {
    "duration": 14,
    "start_time": "2022-04-20T06:51:56.678Z"
   },
   {
    "duration": 7,
    "start_time": "2022-04-20T06:52:03.078Z"
   },
   {
    "duration": 312,
    "start_time": "2022-04-20T06:52:07.151Z"
   },
   {
    "duration": 20,
    "start_time": "2022-04-20T07:01:44.556Z"
   },
   {
    "duration": 22,
    "start_time": "2022-04-20T07:03:33.660Z"
   },
   {
    "duration": 15,
    "start_time": "2022-04-20T07:05:03.747Z"
   },
   {
    "duration": 21,
    "start_time": "2022-04-20T07:05:23.365Z"
   },
   {
    "duration": 195,
    "start_time": "2022-04-20T07:05:43.648Z"
   },
   {
    "duration": 89,
    "start_time": "2022-04-20T07:08:38.156Z"
   },
   {
    "duration": 80,
    "start_time": "2022-04-20T07:08:43.934Z"
   },
   {
    "duration": 201,
    "start_time": "2022-04-20T07:08:55.411Z"
   },
   {
    "duration": 93,
    "start_time": "2022-04-20T07:10:24.859Z"
   },
   {
    "duration": 187,
    "start_time": "2022-04-20T07:10:36.187Z"
   },
   {
    "duration": 188,
    "start_time": "2022-04-20T07:11:01.803Z"
   },
   {
    "duration": 195,
    "start_time": "2022-04-20T07:12:00.990Z"
   },
   {
    "duration": 5,
    "start_time": "2022-04-20T07:14:06.458Z"
   },
   {
    "duration": 13,
    "start_time": "2022-04-20T07:14:06.915Z"
   },
   {
    "duration": 7,
    "start_time": "2022-04-20T07:14:21.362Z"
   },
   {
    "duration": 6,
    "start_time": "2022-04-20T07:14:46.025Z"
   },
   {
    "duration": 13,
    "start_time": "2022-04-20T07:14:55.986Z"
   },
   {
    "duration": 241,
    "start_time": "2022-04-20T07:14:56.754Z"
   },
   {
    "duration": 4,
    "start_time": "2022-04-20T07:15:06.786Z"
   },
   {
    "duration": 14,
    "start_time": "2022-04-20T07:15:07.042Z"
   },
   {
    "duration": 7,
    "start_time": "2022-04-20T07:15:07.433Z"
   },
   {
    "duration": 6,
    "start_time": "2022-04-20T07:15:08.466Z"
   },
   {
    "duration": 12,
    "start_time": "2022-04-20T07:15:09.307Z"
   },
   {
    "duration": 179,
    "start_time": "2022-04-20T07:15:10.114Z"
   },
   {
    "duration": 4,
    "start_time": "2022-04-20T07:15:28.458Z"
   },
   {
    "duration": 14,
    "start_time": "2022-04-20T07:15:28.754Z"
   },
   {
    "duration": 7,
    "start_time": "2022-04-20T07:15:29.114Z"
   },
   {
    "duration": 6,
    "start_time": "2022-04-20T07:15:29.785Z"
   },
   {
    "duration": 12,
    "start_time": "2022-04-20T07:15:30.209Z"
   },
   {
    "duration": 187,
    "start_time": "2022-04-20T07:15:30.634Z"
   },
   {
    "duration": 4,
    "start_time": "2022-04-20T07:16:15.936Z"
   },
   {
    "duration": 41,
    "start_time": "2022-04-20T07:16:15.942Z"
   },
   {
    "duration": 13,
    "start_time": "2022-04-20T07:16:15.984Z"
   },
   {
    "duration": 16,
    "start_time": "2022-04-20T07:16:15.999Z"
   },
   {
    "duration": 3,
    "start_time": "2022-04-20T07:16:16.017Z"
   },
   {
    "duration": 6,
    "start_time": "2022-04-20T07:16:16.021Z"
   },
   {
    "duration": 24,
    "start_time": "2022-04-20T07:16:16.028Z"
   },
   {
    "duration": 15,
    "start_time": "2022-04-20T07:16:16.054Z"
   },
   {
    "duration": 9,
    "start_time": "2022-04-20T07:16:16.070Z"
   },
   {
    "duration": 13,
    "start_time": "2022-04-20T07:16:16.082Z"
   },
   {
    "duration": 10,
    "start_time": "2022-04-20T07:16:16.097Z"
   },
   {
    "duration": 41,
    "start_time": "2022-04-20T07:16:16.108Z"
   },
   {
    "duration": 20,
    "start_time": "2022-04-20T07:16:16.150Z"
   },
   {
    "duration": 5,
    "start_time": "2022-04-20T07:16:16.172Z"
   },
   {
    "duration": 40,
    "start_time": "2022-04-20T07:16:16.178Z"
   },
   {
    "duration": 4,
    "start_time": "2022-04-20T07:16:16.219Z"
   },
   {
    "duration": 3,
    "start_time": "2022-04-20T07:16:16.248Z"
   },
   {
    "duration": 143,
    "start_time": "2022-04-20T07:16:16.253Z"
   },
   {
    "duration": 5,
    "start_time": "2022-04-20T07:16:16.397Z"
   },
   {
    "duration": 9,
    "start_time": "2022-04-20T07:16:16.404Z"
   },
   {
    "duration": 5,
    "start_time": "2022-04-20T07:16:16.414Z"
   },
   {
    "duration": 4,
    "start_time": "2022-04-20T07:16:16.420Z"
   },
   {
    "duration": 28,
    "start_time": "2022-04-20T07:16:16.426Z"
   },
   {
    "duration": 163,
    "start_time": "2022-04-20T07:16:16.456Z"
   },
   {
    "duration": 15,
    "start_time": "2022-04-20T07:16:16.621Z"
   },
   {
    "duration": 8,
    "start_time": "2022-04-20T07:16:16.647Z"
   },
   {
    "duration": 331,
    "start_time": "2022-04-20T07:16:16.656Z"
   },
   {
    "duration": 213,
    "start_time": "2022-04-20T07:16:16.991Z"
   },
   {
    "duration": 5,
    "start_time": "2022-04-20T07:16:19.577Z"
   },
   {
    "duration": 14,
    "start_time": "2022-04-20T07:16:19.935Z"
   },
   {
    "duration": 7,
    "start_time": "2022-04-20T07:16:20.346Z"
   },
   {
    "duration": 7,
    "start_time": "2022-04-20T07:16:21.257Z"
   },
   {
    "duration": 11,
    "start_time": "2022-04-20T07:16:21.659Z"
   },
   {
    "duration": 193,
    "start_time": "2022-04-20T07:16:21.937Z"
   },
   {
    "duration": 3,
    "start_time": "2022-04-20T07:16:36.497Z"
   },
   {
    "duration": 33,
    "start_time": "2022-04-20T07:16:36.502Z"
   },
   {
    "duration": 13,
    "start_time": "2022-04-20T07:16:36.537Z"
   },
   {
    "duration": 15,
    "start_time": "2022-04-20T07:16:36.551Z"
   },
   {
    "duration": 3,
    "start_time": "2022-04-20T07:16:36.568Z"
   },
   {
    "duration": 10,
    "start_time": "2022-04-20T07:16:36.573Z"
   },
   {
    "duration": 16,
    "start_time": "2022-04-20T07:16:36.584Z"
   },
   {
    "duration": 17,
    "start_time": "2022-04-20T07:16:36.601Z"
   },
   {
    "duration": 8,
    "start_time": "2022-04-20T07:16:36.619Z"
   },
   {
    "duration": 28,
    "start_time": "2022-04-20T07:16:36.629Z"
   },
   {
    "duration": 10,
    "start_time": "2022-04-20T07:16:36.659Z"
   },
   {
    "duration": 8,
    "start_time": "2022-04-20T07:16:36.670Z"
   },
   {
    "duration": 18,
    "start_time": "2022-04-20T07:16:36.681Z"
   },
   {
    "duration": 4,
    "start_time": "2022-04-20T07:16:36.701Z"
   },
   {
    "duration": 59,
    "start_time": "2022-04-20T07:16:36.707Z"
   },
   {
    "duration": 4,
    "start_time": "2022-04-20T07:16:36.768Z"
   },
   {
    "duration": 4,
    "start_time": "2022-04-20T07:16:36.773Z"
   },
   {
    "duration": 142,
    "start_time": "2022-04-20T07:16:36.779Z"
   },
   {
    "duration": 5,
    "start_time": "2022-04-20T07:16:36.922Z"
   },
   {
    "duration": 20,
    "start_time": "2022-04-20T07:16:36.929Z"
   },
   {
    "duration": 6,
    "start_time": "2022-04-20T07:16:36.950Z"
   },
   {
    "duration": 5,
    "start_time": "2022-04-20T07:16:36.957Z"
   },
   {
    "duration": 10,
    "start_time": "2022-04-20T07:16:36.964Z"
   },
   {
    "duration": 166,
    "start_time": "2022-04-20T07:16:36.976Z"
   },
   {
    "duration": 16,
    "start_time": "2022-04-20T07:16:37.144Z"
   },
   {
    "duration": 8,
    "start_time": "2022-04-20T07:16:37.161Z"
   },
   {
    "duration": 335,
    "start_time": "2022-04-20T07:16:37.170Z"
   },
   {
    "duration": 283,
    "start_time": "2022-04-20T07:16:37.507Z"
   },
   {
    "duration": 4,
    "start_time": "2022-04-20T07:16:40.282Z"
   },
   {
    "duration": 13,
    "start_time": "2022-04-20T07:16:40.611Z"
   },
   {
    "duration": 7,
    "start_time": "2022-04-20T07:16:40.889Z"
   },
   {
    "duration": 6,
    "start_time": "2022-04-20T07:16:41.745Z"
   },
   {
    "duration": 12,
    "start_time": "2022-04-20T07:16:42.089Z"
   },
   {
    "duration": 182,
    "start_time": "2022-04-20T07:16:42.321Z"
   },
   {
    "duration": 3,
    "start_time": "2022-04-20T07:16:46.552Z"
   },
   {
    "duration": 39,
    "start_time": "2022-04-20T07:16:46.556Z"
   },
   {
    "duration": 12,
    "start_time": "2022-04-20T07:16:46.597Z"
   },
   {
    "duration": 18,
    "start_time": "2022-04-20T07:16:46.610Z"
   },
   {
    "duration": 3,
    "start_time": "2022-04-20T07:16:46.630Z"
   },
   {
    "duration": 14,
    "start_time": "2022-04-20T07:16:46.634Z"
   },
   {
    "duration": 6,
    "start_time": "2022-04-20T07:16:46.650Z"
   },
   {
    "duration": 11,
    "start_time": "2022-04-20T07:16:46.658Z"
   },
   {
    "duration": 8,
    "start_time": "2022-04-20T07:16:46.671Z"
   },
   {
    "duration": 13,
    "start_time": "2022-04-20T07:16:46.680Z"
   },
   {
    "duration": 7,
    "start_time": "2022-04-20T07:16:46.694Z"
   },
   {
    "duration": 45,
    "start_time": "2022-04-20T07:16:46.703Z"
   },
   {
    "duration": 18,
    "start_time": "2022-04-20T07:16:46.751Z"
   },
   {
    "duration": 4,
    "start_time": "2022-04-20T07:16:46.771Z"
   },
   {
    "duration": 35,
    "start_time": "2022-04-20T07:16:46.777Z"
   },
   {
    "duration": 3,
    "start_time": "2022-04-20T07:16:46.814Z"
   },
   {
    "duration": 30,
    "start_time": "2022-04-20T07:16:46.819Z"
   },
   {
    "duration": 132,
    "start_time": "2022-04-20T07:16:46.850Z"
   },
   {
    "duration": 4,
    "start_time": "2022-04-20T07:16:46.984Z"
   },
   {
    "duration": 8,
    "start_time": "2022-04-20T07:16:46.990Z"
   },
   {
    "duration": 5,
    "start_time": "2022-04-20T07:16:46.999Z"
   },
   {
    "duration": 5,
    "start_time": "2022-04-20T07:16:47.005Z"
   },
   {
    "duration": 10,
    "start_time": "2022-04-20T07:16:47.012Z"
   },
   {
    "duration": 172,
    "start_time": "2022-04-20T07:16:47.024Z"
   },
   {
    "duration": 15,
    "start_time": "2022-04-20T07:16:47.198Z"
   },
   {
    "duration": 6,
    "start_time": "2022-04-20T07:16:47.214Z"
   },
   {
    "duration": 331,
    "start_time": "2022-04-20T07:16:47.222Z"
   },
   {
    "duration": 201,
    "start_time": "2022-04-20T07:16:47.554Z"
   },
   {
    "duration": 5,
    "start_time": "2022-04-20T07:16:53.089Z"
   },
   {
    "duration": 14,
    "start_time": "2022-04-20T07:16:53.386Z"
   },
   {
    "duration": 7,
    "start_time": "2022-04-20T07:16:53.714Z"
   },
   {
    "duration": 7,
    "start_time": "2022-04-20T07:16:54.385Z"
   },
   {
    "duration": 12,
    "start_time": "2022-04-20T07:16:54.761Z"
   },
   {
    "duration": 176,
    "start_time": "2022-04-20T07:16:55.178Z"
   },
   {
    "duration": 146,
    "start_time": "2022-04-20T07:24:49.457Z"
   },
   {
    "duration": 137,
    "start_time": "2022-04-20T07:30:00.275Z"
   },
   {
    "duration": 6,
    "start_time": "2022-04-20T07:30:10.481Z"
   },
   {
    "duration": 6,
    "start_time": "2022-04-20T07:30:11.243Z"
   },
   {
    "duration": 5,
    "start_time": "2022-04-20T07:30:13.842Z"
   },
   {
    "duration": 4,
    "start_time": "2022-04-20T07:30:14.373Z"
   },
   {
    "duration": 4,
    "start_time": "2022-04-20T07:31:08.457Z"
   },
   {
    "duration": 155,
    "start_time": "2022-04-20T07:31:09.345Z"
   },
   {
    "duration": 143,
    "start_time": "2022-04-20T07:31:11.058Z"
   },
   {
    "duration": 259,
    "start_time": "2022-04-20T07:31:42.466Z"
   },
   {
    "duration": 3,
    "start_time": "2022-04-20T07:32:03.435Z"
   },
   {
    "duration": 39,
    "start_time": "2022-04-20T07:32:03.440Z"
   },
   {
    "duration": 13,
    "start_time": "2022-04-20T07:32:03.481Z"
   },
   {
    "duration": 16,
    "start_time": "2022-04-20T07:32:03.496Z"
   },
   {
    "duration": 3,
    "start_time": "2022-04-20T07:32:03.514Z"
   },
   {
    "duration": 6,
    "start_time": "2022-04-20T07:32:03.519Z"
   },
   {
    "duration": 7,
    "start_time": "2022-04-20T07:32:03.547Z"
   },
   {
    "duration": 15,
    "start_time": "2022-04-20T07:32:03.555Z"
   },
   {
    "duration": 8,
    "start_time": "2022-04-20T07:32:03.572Z"
   },
   {
    "duration": 13,
    "start_time": "2022-04-20T07:32:03.582Z"
   },
   {
    "duration": 8,
    "start_time": "2022-04-20T07:32:03.597Z"
   },
   {
    "duration": 42,
    "start_time": "2022-04-20T07:32:03.607Z"
   },
   {
    "duration": 21,
    "start_time": "2022-04-20T07:32:03.652Z"
   },
   {
    "duration": 5,
    "start_time": "2022-04-20T07:32:03.675Z"
   },
   {
    "duration": 34,
    "start_time": "2022-04-20T07:32:03.682Z"
   },
   {
    "duration": 31,
    "start_time": "2022-04-20T07:32:03.718Z"
   },
   {
    "duration": 6,
    "start_time": "2022-04-20T07:32:03.751Z"
   },
   {
    "duration": 142,
    "start_time": "2022-04-20T07:32:03.759Z"
   },
   {
    "duration": 6,
    "start_time": "2022-04-20T07:32:03.903Z"
   },
   {
    "duration": 7,
    "start_time": "2022-04-20T07:32:03.911Z"
   },
   {
    "duration": 5,
    "start_time": "2022-04-20T07:32:03.919Z"
   },
   {
    "duration": 24,
    "start_time": "2022-04-20T07:32:03.925Z"
   },
   {
    "duration": 9,
    "start_time": "2022-04-20T07:32:03.950Z"
   },
   {
    "duration": 154,
    "start_time": "2022-04-20T07:32:03.961Z"
   },
   {
    "duration": 16,
    "start_time": "2022-04-20T07:32:04.117Z"
   },
   {
    "duration": 8,
    "start_time": "2022-04-20T07:32:04.147Z"
   },
   {
    "duration": 421,
    "start_time": "2022-04-20T07:32:04.157Z"
   },
   {
    "duration": 206,
    "start_time": "2022-04-20T07:32:04.580Z"
   },
   {
    "duration": 4,
    "start_time": "2022-04-20T07:32:04.788Z"
   },
   {
    "duration": 15,
    "start_time": "2022-04-20T07:32:04.794Z"
   },
   {
    "duration": 8,
    "start_time": "2022-04-20T07:32:04.810Z"
   },
   {
    "duration": 30,
    "start_time": "2022-04-20T07:32:04.820Z"
   },
   {
    "duration": 13,
    "start_time": "2022-04-20T07:32:04.852Z"
   },
   {
    "duration": 190,
    "start_time": "2022-04-20T07:32:04.866Z"
   },
   {
    "duration": 157,
    "start_time": "2022-04-20T07:32:05.058Z"
   },
   {
    "duration": 5,
    "start_time": "2022-04-20T07:32:05.217Z"
   },
   {
    "duration": 7,
    "start_time": "2022-04-20T07:32:05.225Z"
   },
   {
    "duration": 15,
    "start_time": "2022-04-20T07:32:05.233Z"
   },
   {
    "duration": 5,
    "start_time": "2022-04-20T07:32:05.249Z"
   },
   {
    "duration": 154,
    "start_time": "2022-04-20T07:32:05.256Z"
   },
   {
    "duration": 150,
    "start_time": "2022-04-20T07:32:05.412Z"
   },
   {
    "duration": 264,
    "start_time": "2022-04-20T07:32:11.081Z"
   },
   {
    "duration": 10,
    "start_time": "2022-04-20T07:32:27.180Z"
   },
   {
    "duration": 10,
    "start_time": "2022-04-20T07:33:27.610Z"
   },
   {
    "duration": 22,
    "start_time": "2022-04-20T07:33:36.187Z"
   },
   {
    "duration": 4,
    "start_time": "2022-04-20T07:34:45.618Z"
   },
   {
    "duration": 3,
    "start_time": "2022-04-20T07:34:53.697Z"
   },
   {
    "duration": 35,
    "start_time": "2022-04-20T07:34:53.703Z"
   },
   {
    "duration": 13,
    "start_time": "2022-04-20T07:34:53.740Z"
   },
   {
    "duration": 13,
    "start_time": "2022-04-20T07:34:53.755Z"
   },
   {
    "duration": 3,
    "start_time": "2022-04-20T07:34:53.770Z"
   },
   {
    "duration": 5,
    "start_time": "2022-04-20T07:34:53.774Z"
   },
   {
    "duration": 5,
    "start_time": "2022-04-20T07:34:53.781Z"
   },
   {
    "duration": 12,
    "start_time": "2022-04-20T07:34:53.788Z"
   },
   {
    "duration": 46,
    "start_time": "2022-04-20T07:34:53.802Z"
   },
   {
    "duration": 13,
    "start_time": "2022-04-20T07:34:53.850Z"
   },
   {
    "duration": 9,
    "start_time": "2022-04-20T07:34:53.864Z"
   },
   {
    "duration": 9,
    "start_time": "2022-04-20T07:34:53.874Z"
   },
   {
    "duration": 20,
    "start_time": "2022-04-20T07:34:53.884Z"
   },
   {
    "duration": 4,
    "start_time": "2022-04-20T07:34:53.905Z"
   },
   {
    "duration": 62,
    "start_time": "2022-04-20T07:34:53.911Z"
   },
   {
    "duration": 4,
    "start_time": "2022-04-20T07:34:53.974Z"
   },
   {
    "duration": 6,
    "start_time": "2022-04-20T07:34:53.979Z"
   },
   {
    "duration": 141,
    "start_time": "2022-04-20T07:34:53.986Z"
   },
   {
    "duration": 6,
    "start_time": "2022-04-20T07:34:54.128Z"
   },
   {
    "duration": 15,
    "start_time": "2022-04-20T07:34:54.136Z"
   },
   {
    "duration": 5,
    "start_time": "2022-04-20T07:34:54.152Z"
   },
   {
    "duration": 5,
    "start_time": "2022-04-20T07:34:54.158Z"
   },
   {
    "duration": 11,
    "start_time": "2022-04-20T07:34:54.164Z"
   },
   {
    "duration": 162,
    "start_time": "2022-04-20T07:34:54.178Z"
   },
   {
    "duration": 17,
    "start_time": "2022-04-20T07:34:54.342Z"
   },
   {
    "duration": 6,
    "start_time": "2022-04-20T07:34:54.361Z"
   },
   {
    "duration": 329,
    "start_time": "2022-04-20T07:34:54.369Z"
   },
   {
    "duration": 205,
    "start_time": "2022-04-20T07:34:54.700Z"
   },
   {
    "duration": 5,
    "start_time": "2022-04-20T07:34:54.907Z"
   },
   {
    "duration": 15,
    "start_time": "2022-04-20T07:34:54.913Z"
   },
   {
    "duration": 21,
    "start_time": "2022-04-20T07:34:54.930Z"
   },
   {
    "duration": 5,
    "start_time": "2022-04-20T07:34:54.953Z"
   },
   {
    "duration": 13,
    "start_time": "2022-04-20T07:34:54.960Z"
   },
   {
    "duration": 200,
    "start_time": "2022-04-20T07:34:54.974Z"
   },
   {
    "duration": 248,
    "start_time": "2022-04-20T07:34:55.176Z"
   },
   {
    "duration": 5,
    "start_time": "2022-04-20T07:34:55.426Z"
   },
   {
    "duration": 17,
    "start_time": "2022-04-20T07:34:55.432Z"
   },
   {
    "duration": 10,
    "start_time": "2022-04-20T07:34:55.450Z"
   },
   {
    "duration": 11,
    "start_time": "2022-04-20T07:34:55.461Z"
   },
   {
    "duration": 146,
    "start_time": "2022-04-20T07:34:55.473Z"
   },
   {
    "duration": 147,
    "start_time": "2022-04-20T07:34:55.620Z"
   },
   {
    "duration": 19,
    "start_time": "2022-04-20T07:34:55.768Z"
   },
   {
    "duration": 5,
    "start_time": "2022-04-20T07:34:58.842Z"
   },
   {
    "duration": 10,
    "start_time": "2022-04-20T07:35:13.322Z"
   },
   {
    "duration": 3,
    "start_time": "2022-04-20T07:35:46.945Z"
   },
   {
    "duration": 44,
    "start_time": "2022-04-20T07:35:46.950Z"
   },
   {
    "duration": 12,
    "start_time": "2022-04-20T07:35:46.996Z"
   },
   {
    "duration": 15,
    "start_time": "2022-04-20T07:35:47.010Z"
   },
   {
    "duration": 21,
    "start_time": "2022-04-20T07:35:47.027Z"
   },
   {
    "duration": 4,
    "start_time": "2022-04-20T07:35:47.049Z"
   },
   {
    "duration": 8,
    "start_time": "2022-04-20T07:35:47.055Z"
   },
   {
    "duration": 13,
    "start_time": "2022-04-20T07:35:47.064Z"
   },
   {
    "duration": 9,
    "start_time": "2022-04-20T07:35:47.079Z"
   },
   {
    "duration": 12,
    "start_time": "2022-04-20T07:35:47.090Z"
   },
   {
    "duration": 10,
    "start_time": "2022-04-20T07:35:47.103Z"
   },
   {
    "duration": 10,
    "start_time": "2022-04-20T07:35:47.147Z"
   },
   {
    "duration": 19,
    "start_time": "2022-04-20T07:35:47.159Z"
   },
   {
    "duration": 5,
    "start_time": "2022-04-20T07:35:47.180Z"
   },
   {
    "duration": 36,
    "start_time": "2022-04-20T07:35:47.186Z"
   },
   {
    "duration": 26,
    "start_time": "2022-04-20T07:35:47.223Z"
   },
   {
    "duration": 5,
    "start_time": "2022-04-20T07:35:47.250Z"
   },
   {
    "duration": 140,
    "start_time": "2022-04-20T07:35:47.257Z"
   },
   {
    "duration": 5,
    "start_time": "2022-04-20T07:35:47.399Z"
   },
   {
    "duration": 8,
    "start_time": "2022-04-20T07:35:47.405Z"
   },
   {
    "duration": 6,
    "start_time": "2022-04-20T07:35:47.414Z"
   },
   {
    "duration": 5,
    "start_time": "2022-04-20T07:35:47.422Z"
   },
   {
    "duration": 23,
    "start_time": "2022-04-20T07:35:47.428Z"
   },
   {
    "duration": 158,
    "start_time": "2022-04-20T07:35:47.453Z"
   },
   {
    "duration": 14,
    "start_time": "2022-04-20T07:35:47.613Z"
   },
   {
    "duration": 21,
    "start_time": "2022-04-20T07:35:47.628Z"
   },
   {
    "duration": 319,
    "start_time": "2022-04-20T07:35:47.651Z"
   },
   {
    "duration": 204,
    "start_time": "2022-04-20T07:35:47.974Z"
   },
   {
    "duration": 5,
    "start_time": "2022-04-20T07:35:48.180Z"
   },
   {
    "duration": 16,
    "start_time": "2022-04-20T07:35:48.186Z"
   },
   {
    "duration": 8,
    "start_time": "2022-04-20T07:35:48.203Z"
   },
   {
    "duration": 6,
    "start_time": "2022-04-20T07:35:48.212Z"
   },
   {
    "duration": 36,
    "start_time": "2022-04-20T07:35:48.220Z"
   },
   {
    "duration": 189,
    "start_time": "2022-04-20T07:35:48.258Z"
   },
   {
    "duration": 157,
    "start_time": "2022-04-20T07:35:48.449Z"
   },
   {
    "duration": 5,
    "start_time": "2022-04-20T07:35:48.608Z"
   },
   {
    "duration": 7,
    "start_time": "2022-04-20T07:35:48.615Z"
   },
   {
    "duration": 9,
    "start_time": "2022-04-20T07:35:48.624Z"
   },
   {
    "duration": 15,
    "start_time": "2022-04-20T07:35:48.634Z"
   },
   {
    "duration": 147,
    "start_time": "2022-04-20T07:35:48.650Z"
   },
   {
    "duration": 148,
    "start_time": "2022-04-20T07:35:48.799Z"
   },
   {
    "duration": 21,
    "start_time": "2022-04-20T07:35:48.949Z"
   },
   {
    "duration": 9,
    "start_time": "2022-04-20T07:35:48.972Z"
   },
   {
    "duration": 248,
    "start_time": "2022-04-20T07:35:52.466Z"
   },
   {
    "duration": 10,
    "start_time": "2022-04-20T07:35:59.443Z"
   },
   {
    "duration": 1378,
    "start_time": "2022-04-20T07:36:29.019Z"
   },
   {
    "duration": 0,
    "start_time": "2022-04-20T07:36:30.398Z"
   },
   {
    "duration": 1458,
    "start_time": "2022-04-20T07:36:36.411Z"
   },
   {
    "duration": 275,
    "start_time": "2022-04-20T07:36:38.137Z"
   },
   {
    "duration": 11,
    "start_time": "2022-04-20T07:36:44.987Z"
   },
   {
    "duration": 268,
    "start_time": "2022-04-20T07:36:45.323Z"
   },
   {
    "duration": 10,
    "start_time": "2022-04-20T07:36:57.114Z"
   },
   {
    "duration": 4,
    "start_time": "2022-04-20T07:37:11.793Z"
   },
   {
    "duration": 9,
    "start_time": "2022-04-20T07:37:12.586Z"
   },
   {
    "duration": 5,
    "start_time": "2022-04-20T07:37:14.092Z"
   },
   {
    "duration": 2,
    "start_time": "2022-04-20T07:41:50.450Z"
   },
   {
    "duration": 6,
    "start_time": "2022-04-20T07:41:50.810Z"
   },
   {
    "duration": 340,
    "start_time": "2022-04-20T07:41:57.050Z"
   },
   {
    "duration": 78,
    "start_time": "2022-04-20T07:43:22.412Z"
   },
   {
    "duration": 22,
    "start_time": "2022-04-20T07:43:45.071Z"
   },
   {
    "duration": 3,
    "start_time": "2022-04-20T07:44:14.288Z"
   },
   {
    "duration": 24,
    "start_time": "2022-04-20T07:44:14.961Z"
   },
   {
    "duration": 85,
    "start_time": "2022-04-20T07:47:56.068Z"
   },
   {
    "duration": 164,
    "start_time": "2022-04-20T07:48:19.147Z"
   },
   {
    "duration": 13,
    "start_time": "2022-04-20T07:48:21.374Z"
   },
   {
    "duration": 9,
    "start_time": "2022-04-20T07:48:25.937Z"
   },
   {
    "duration": 208,
    "start_time": "2022-04-20T07:48:31.002Z"
   },
   {
    "duration": 12,
    "start_time": "2022-04-20T07:48:33.883Z"
   },
   {
    "duration": 14,
    "start_time": "2022-04-20T07:48:43.969Z"
   },
   {
    "duration": 14,
    "start_time": "2022-04-20T07:48:47.106Z"
   },
   {
    "duration": 328,
    "start_time": "2022-04-20T07:48:50.722Z"
   },
   {
    "duration": 11,
    "start_time": "2022-04-20T07:48:58.058Z"
   },
   {
    "duration": 7,
    "start_time": "2022-04-20T07:49:01.353Z"
   },
   {
    "duration": 140,
    "start_time": "2022-04-20T07:49:01.770Z"
   },
   {
    "duration": 85,
    "start_time": "2022-04-20T07:50:44.530Z"
   },
   {
    "duration": 7,
    "start_time": "2022-04-20T07:52:13.361Z"
   },
   {
    "duration": 376,
    "start_time": "2022-04-20T07:52:13.835Z"
   },
   {
    "duration": 7,
    "start_time": "2022-04-20T07:52:25.778Z"
   },
   {
    "duration": 302,
    "start_time": "2022-04-20T07:52:26.089Z"
   },
   {
    "duration": 5,
    "start_time": "2022-04-20T07:52:28.346Z"
   },
   {
    "duration": 7,
    "start_time": "2022-04-20T07:52:36.057Z"
   },
   {
    "duration": 8,
    "start_time": "2022-04-20T07:52:44.529Z"
   },
   {
    "duration": 327,
    "start_time": "2022-04-20T07:52:44.931Z"
   },
   {
    "duration": 7,
    "start_time": "2022-04-20T07:52:45.434Z"
   },
   {
    "duration": 274,
    "start_time": "2022-04-20T07:52:45.961Z"
   },
   {
    "duration": 4,
    "start_time": "2022-04-20T07:52:46.315Z"
   },
   {
    "duration": 4,
    "start_time": "2022-04-20T07:52:47.130Z"
   },
   {
    "duration": 1217,
    "start_time": "2022-04-20T12:13:21.375Z"
   },
   {
    "duration": 32,
    "start_time": "2022-04-20T12:13:22.594Z"
   },
   {
    "duration": 18,
    "start_time": "2022-04-20T12:13:22.628Z"
   },
   {
    "duration": 12,
    "start_time": "2022-04-20T12:13:22.648Z"
   },
   {
    "duration": 7,
    "start_time": "2022-04-20T12:13:22.661Z"
   },
   {
    "duration": 5,
    "start_time": "2022-04-20T12:13:22.669Z"
   },
   {
    "duration": 7,
    "start_time": "2022-04-20T12:13:22.676Z"
   },
   {
    "duration": 11,
    "start_time": "2022-04-20T12:13:22.684Z"
   },
   {
    "duration": 28,
    "start_time": "2022-04-20T12:13:22.696Z"
   },
   {
    "duration": 16,
    "start_time": "2022-04-20T12:13:22.728Z"
   },
   {
    "duration": 8,
    "start_time": "2022-04-20T12:13:22.746Z"
   },
   {
    "duration": 9,
    "start_time": "2022-04-20T12:13:22.755Z"
   },
   {
    "duration": 18,
    "start_time": "2022-04-20T12:13:22.765Z"
   },
   {
    "duration": 4,
    "start_time": "2022-04-20T12:13:22.785Z"
   },
   {
    "duration": 65,
    "start_time": "2022-04-20T12:13:22.790Z"
   },
   {
    "duration": 4,
    "start_time": "2022-04-20T12:13:22.856Z"
   },
   {
    "duration": 5,
    "start_time": "2022-04-20T12:13:22.861Z"
   },
   {
    "duration": 163,
    "start_time": "2022-04-20T12:13:22.868Z"
   },
   {
    "duration": 5,
    "start_time": "2022-04-20T12:13:23.035Z"
   },
   {
    "duration": 7,
    "start_time": "2022-04-20T12:13:23.042Z"
   },
   {
    "duration": 6,
    "start_time": "2022-04-20T12:13:23.050Z"
   },
   {
    "duration": 6,
    "start_time": "2022-04-20T12:13:23.057Z"
   },
   {
    "duration": 11,
    "start_time": "2022-04-20T12:13:23.065Z"
   },
   {
    "duration": 188,
    "start_time": "2022-04-20T12:13:23.077Z"
   },
   {
    "duration": 14,
    "start_time": "2022-04-20T12:13:23.267Z"
   },
   {
    "duration": 7,
    "start_time": "2022-04-20T12:13:23.283Z"
   },
   {
    "duration": 356,
    "start_time": "2022-04-20T12:13:23.291Z"
   },
   {
    "duration": 223,
    "start_time": "2022-04-20T12:13:23.652Z"
   },
   {
    "duration": 5,
    "start_time": "2022-04-20T12:13:23.876Z"
   },
   {
    "duration": 14,
    "start_time": "2022-04-20T12:13:23.882Z"
   },
   {
    "duration": 10,
    "start_time": "2022-04-20T12:13:23.898Z"
   },
   {
    "duration": 12,
    "start_time": "2022-04-20T12:13:23.923Z"
   },
   {
    "duration": 15,
    "start_time": "2022-04-20T12:13:23.936Z"
   },
   {
    "duration": 183,
    "start_time": "2022-04-20T12:13:23.953Z"
   },
   {
    "duration": 154,
    "start_time": "2022-04-20T12:13:24.138Z"
   },
   {
    "duration": 5,
    "start_time": "2022-04-20T12:13:24.294Z"
   },
   {
    "duration": 13,
    "start_time": "2022-04-20T12:13:24.301Z"
   },
   {
    "duration": 7,
    "start_time": "2022-04-20T12:13:24.315Z"
   },
   {
    "duration": 17,
    "start_time": "2022-04-20T12:13:24.324Z"
   },
   {
    "duration": 152,
    "start_time": "2022-04-20T12:13:24.343Z"
   },
   {
    "duration": 155,
    "start_time": "2022-04-20T12:13:24.496Z"
   },
   {
    "duration": 4,
    "start_time": "2022-04-20T12:13:24.653Z"
   },
   {
    "duration": 10,
    "start_time": "2022-04-20T12:13:24.658Z"
   },
   {
    "duration": 3,
    "start_time": "2022-04-20T12:13:24.670Z"
   },
   {
    "duration": 13,
    "start_time": "2022-04-20T12:13:24.674Z"
   },
   {
    "duration": 10,
    "start_time": "2022-04-20T12:13:24.689Z"
   },
   {
    "duration": 24,
    "start_time": "2022-04-20T12:13:24.701Z"
   },
   {
    "duration": 420,
    "start_time": "2022-04-20T12:13:24.727Z"
   },
   {
    "duration": 13,
    "start_time": "2022-04-20T12:13:25.148Z"
   },
   {
    "duration": 10,
    "start_time": "2022-04-20T12:13:25.162Z"
   },
   {
    "duration": 233,
    "start_time": "2022-04-20T12:13:25.174Z"
   },
   {
    "duration": 22,
    "start_time": "2022-04-20T12:13:25.409Z"
   },
   {
    "duration": 14,
    "start_time": "2022-04-20T12:13:25.433Z"
   },
   {
    "duration": 14,
    "start_time": "2022-04-20T12:13:25.448Z"
   },
   {
    "duration": 243,
    "start_time": "2022-04-20T12:13:25.463Z"
   },
   {
    "duration": 19,
    "start_time": "2022-04-20T12:13:25.708Z"
   },
   {
    "duration": 7,
    "start_time": "2022-04-20T12:13:25.729Z"
   },
   {
    "duration": 156,
    "start_time": "2022-04-20T12:13:25.738Z"
   },
   {
    "duration": 7,
    "start_time": "2022-04-20T12:13:25.896Z"
   },
   {
    "duration": 371,
    "start_time": "2022-04-20T12:13:25.904Z"
   },
   {
    "duration": 6,
    "start_time": "2022-04-20T12:13:26.277Z"
   },
   {
    "duration": 324,
    "start_time": "2022-04-20T12:13:26.285Z"
   },
   {
    "duration": 17,
    "start_time": "2022-04-20T12:13:26.610Z"
   },
   {
    "duration": 8,
    "start_time": "2022-04-20T12:13:26.629Z"
   },
   {
    "duration": 11,
    "start_time": "2022-04-20T12:13:26.639Z"
   },
   {
    "duration": 291,
    "start_time": "2022-04-20T12:13:26.652Z"
   },
   {
    "duration": 8,
    "start_time": "2022-04-20T12:13:26.945Z"
   },
   {
    "duration": 281,
    "start_time": "2022-04-20T12:13:26.955Z"
   },
   {
    "duration": 5,
    "start_time": "2022-04-20T12:13:27.239Z"
   },
   {
    "duration": 8,
    "start_time": "2022-04-20T12:13:27.245Z"
   },
   {
    "duration": 1244,
    "start_time": "2022-04-20T12:25:26.968Z"
   },
   {
    "duration": 42,
    "start_time": "2022-04-20T12:25:28.214Z"
   },
   {
    "duration": 15,
    "start_time": "2022-04-20T12:25:28.257Z"
   },
   {
    "duration": 12,
    "start_time": "2022-04-20T12:25:28.274Z"
   },
   {
    "duration": 3,
    "start_time": "2022-04-20T12:25:28.287Z"
   },
   {
    "duration": 5,
    "start_time": "2022-04-20T12:25:28.292Z"
   },
   {
    "duration": 36,
    "start_time": "2022-04-20T12:25:28.299Z"
   },
   {
    "duration": 18,
    "start_time": "2022-04-20T12:25:28.337Z"
   },
   {
    "duration": 10,
    "start_time": "2022-04-20T12:25:28.357Z"
   },
   {
    "duration": 18,
    "start_time": "2022-04-20T12:25:28.369Z"
   },
   {
    "duration": 9,
    "start_time": "2022-04-20T12:25:28.388Z"
   },
   {
    "duration": 33,
    "start_time": "2022-04-20T12:25:28.398Z"
   },
   {
    "duration": 22,
    "start_time": "2022-04-20T12:25:28.434Z"
   },
   {
    "duration": 5,
    "start_time": "2022-04-20T12:25:28.459Z"
   },
   {
    "duration": 35,
    "start_time": "2022-04-20T12:25:28.466Z"
   },
   {
    "duration": 22,
    "start_time": "2022-04-20T12:25:28.503Z"
   },
   {
    "duration": 4,
    "start_time": "2022-04-20T12:25:28.527Z"
   },
   {
    "duration": 172,
    "start_time": "2022-04-20T12:25:28.533Z"
   },
   {
    "duration": 4,
    "start_time": "2022-04-20T12:25:28.707Z"
   },
   {
    "duration": 19,
    "start_time": "2022-04-20T12:25:28.713Z"
   },
   {
    "duration": 10,
    "start_time": "2022-04-20T12:25:28.735Z"
   },
   {
    "duration": 13,
    "start_time": "2022-04-20T12:25:28.746Z"
   },
   {
    "duration": 14,
    "start_time": "2022-04-20T12:25:28.761Z"
   },
   {
    "duration": 176,
    "start_time": "2022-04-20T12:25:28.776Z"
   },
   {
    "duration": 18,
    "start_time": "2022-04-20T12:25:28.954Z"
   },
   {
    "duration": 8,
    "start_time": "2022-04-20T12:25:28.973Z"
   },
   {
    "duration": 369,
    "start_time": "2022-04-20T12:25:28.982Z"
   },
   {
    "duration": 227,
    "start_time": "2022-04-20T12:25:29.353Z"
   },
   {
    "duration": 5,
    "start_time": "2022-04-20T12:25:29.582Z"
   },
   {
    "duration": 17,
    "start_time": "2022-04-20T12:25:29.588Z"
   },
   {
    "duration": 20,
    "start_time": "2022-04-20T12:25:29.607Z"
   },
   {
    "duration": 7,
    "start_time": "2022-04-20T12:25:29.629Z"
   },
   {
    "duration": 16,
    "start_time": "2022-04-20T12:25:29.637Z"
   },
   {
    "duration": 217,
    "start_time": "2022-04-20T12:25:29.655Z"
   },
   {
    "duration": 160,
    "start_time": "2022-04-20T12:25:29.874Z"
   },
   {
    "duration": 7,
    "start_time": "2022-04-20T12:25:30.036Z"
   },
   {
    "duration": 12,
    "start_time": "2022-04-20T12:25:30.045Z"
   },
   {
    "duration": 10,
    "start_time": "2022-04-20T12:25:30.059Z"
   },
   {
    "duration": 7,
    "start_time": "2022-04-20T12:25:30.071Z"
   },
   {
    "duration": 162,
    "start_time": "2022-04-20T12:25:30.079Z"
   },
   {
    "duration": 166,
    "start_time": "2022-04-20T12:25:30.246Z"
   },
   {
    "duration": 13,
    "start_time": "2022-04-20T12:25:30.414Z"
   },
   {
    "duration": 9,
    "start_time": "2022-04-20T12:25:30.429Z"
   },
   {
    "duration": 25,
    "start_time": "2022-04-20T12:25:30.439Z"
   },
   {
    "duration": 11,
    "start_time": "2022-04-20T12:25:30.466Z"
   },
   {
    "duration": 4,
    "start_time": "2022-04-20T12:25:30.479Z"
   },
   {
    "duration": 29,
    "start_time": "2022-04-20T12:25:30.485Z"
   },
   {
    "duration": 252,
    "start_time": "2022-04-20T12:25:30.516Z"
   },
   {
    "duration": 13,
    "start_time": "2022-04-20T12:25:30.769Z"
   },
   {
    "duration": 13,
    "start_time": "2022-04-20T12:25:30.784Z"
   },
   {
    "duration": 241,
    "start_time": "2022-04-20T12:25:30.798Z"
   },
   {
    "duration": 11,
    "start_time": "2022-04-20T12:25:31.043Z"
   },
   {
    "duration": 14,
    "start_time": "2022-04-20T12:25:31.056Z"
   },
   {
    "duration": 23,
    "start_time": "2022-04-20T12:25:31.071Z"
   },
   {
    "duration": 255,
    "start_time": "2022-04-20T12:25:31.095Z"
   },
   {
    "duration": 11,
    "start_time": "2022-04-20T12:25:31.351Z"
   },
   {
    "duration": 18,
    "start_time": "2022-04-20T12:25:31.363Z"
   },
   {
    "duration": 164,
    "start_time": "2022-04-20T12:25:31.383Z"
   },
   {
    "duration": 7,
    "start_time": "2022-04-20T12:25:31.548Z"
   },
   {
    "duration": 340,
    "start_time": "2022-04-20T12:25:31.557Z"
   },
   {
    "duration": 7,
    "start_time": "2022-04-20T12:25:31.899Z"
   },
   {
    "duration": 332,
    "start_time": "2022-04-20T12:25:31.908Z"
   },
   {
    "duration": 5,
    "start_time": "2022-04-20T12:25:32.242Z"
   },
   {
    "duration": 5,
    "start_time": "2022-04-20T12:25:32.249Z"
   },
   {
    "duration": 8,
    "start_time": "2022-04-20T12:25:32.256Z"
   },
   {
    "duration": 300,
    "start_time": "2022-04-20T12:25:32.265Z"
   },
   {
    "duration": 7,
    "start_time": "2022-04-20T12:25:32.566Z"
   },
   {
    "duration": 314,
    "start_time": "2022-04-20T12:25:32.574Z"
   },
   {
    "duration": 4,
    "start_time": "2022-04-20T12:25:32.890Z"
   },
   {
    "duration": 6,
    "start_time": "2022-04-20T12:25:32.895Z"
   },
   {
    "duration": 1251,
    "start_time": "2022-05-07T05:21:53.419Z"
   },
   {
    "duration": 40,
    "start_time": "2022-05-07T05:21:54.672Z"
   },
   {
    "duration": 18,
    "start_time": "2022-05-07T05:21:54.713Z"
   },
   {
    "duration": 14,
    "start_time": "2022-05-07T05:21:54.733Z"
   },
   {
    "duration": 6,
    "start_time": "2022-05-07T05:21:54.749Z"
   },
   {
    "duration": 8,
    "start_time": "2022-05-07T05:21:54.756Z"
   },
   {
    "duration": 8,
    "start_time": "2022-05-07T05:21:54.766Z"
   },
   {
    "duration": 15,
    "start_time": "2022-05-07T05:21:54.792Z"
   },
   {
    "duration": 11,
    "start_time": "2022-05-07T05:21:54.809Z"
   },
   {
    "duration": 13,
    "start_time": "2022-05-07T05:21:54.823Z"
   },
   {
    "duration": 9,
    "start_time": "2022-05-07T05:21:54.838Z"
   },
   {
    "duration": 45,
    "start_time": "2022-05-07T05:21:54.849Z"
   },
   {
    "duration": 20,
    "start_time": "2022-05-07T05:21:54.896Z"
   },
   {
    "duration": 5,
    "start_time": "2022-05-07T05:21:54.918Z"
   },
   {
    "duration": 35,
    "start_time": "2022-05-07T05:21:54.925Z"
   },
   {
    "duration": 32,
    "start_time": "2022-05-07T05:21:54.962Z"
   },
   {
    "duration": 4,
    "start_time": "2022-05-07T05:21:54.996Z"
   },
   {
    "duration": 158,
    "start_time": "2022-05-07T05:21:55.002Z"
   },
   {
    "duration": 6,
    "start_time": "2022-05-07T05:21:55.162Z"
   },
   {
    "duration": 9,
    "start_time": "2022-05-07T05:21:55.169Z"
   },
   {
    "duration": 17,
    "start_time": "2022-05-07T05:21:55.179Z"
   },
   {
    "duration": 7,
    "start_time": "2022-05-07T05:21:55.198Z"
   },
   {
    "duration": 15,
    "start_time": "2022-05-07T05:21:55.207Z"
   },
   {
    "duration": 175,
    "start_time": "2022-05-07T05:21:55.224Z"
   },
   {
    "duration": 16,
    "start_time": "2022-05-07T05:21:55.401Z"
   },
   {
    "duration": 8,
    "start_time": "2022-05-07T05:21:55.419Z"
   },
   {
    "duration": 352,
    "start_time": "2022-05-07T05:21:55.429Z"
   },
   {
    "duration": 213,
    "start_time": "2022-05-07T05:21:55.792Z"
   },
   {
    "duration": 5,
    "start_time": "2022-05-07T05:21:56.008Z"
   },
   {
    "duration": 16,
    "start_time": "2022-05-07T05:21:56.015Z"
   },
   {
    "duration": 7,
    "start_time": "2022-05-07T05:21:56.033Z"
   },
   {
    "duration": 7,
    "start_time": "2022-05-07T05:21:56.042Z"
   },
   {
    "duration": 51,
    "start_time": "2022-05-07T05:21:56.050Z"
   },
   {
    "duration": 195,
    "start_time": "2022-05-07T05:21:56.102Z"
   },
   {
    "duration": 168,
    "start_time": "2022-05-07T05:21:56.299Z"
   },
   {
    "duration": 6,
    "start_time": "2022-05-07T05:21:56.469Z"
   },
   {
    "duration": 17,
    "start_time": "2022-05-07T05:21:56.477Z"
   },
   {
    "duration": 8,
    "start_time": "2022-05-07T05:21:56.495Z"
   },
   {
    "duration": 5,
    "start_time": "2022-05-07T05:21:56.504Z"
   },
   {
    "duration": 167,
    "start_time": "2022-05-07T05:21:56.510Z"
   },
   {
    "duration": 143,
    "start_time": "2022-05-07T05:21:56.679Z"
   },
   {
    "duration": 3,
    "start_time": "2022-05-07T05:21:56.824Z"
   },
   {
    "duration": 7,
    "start_time": "2022-05-07T05:21:56.829Z"
   },
   {
    "duration": 2,
    "start_time": "2022-05-07T05:21:56.838Z"
   },
   {
    "duration": 8,
    "start_time": "2022-05-07T05:21:56.842Z"
   },
   {
    "duration": 4,
    "start_time": "2022-05-07T05:21:56.851Z"
   },
   {
    "duration": 49,
    "start_time": "2022-05-07T05:21:56.857Z"
   },
   {
    "duration": 243,
    "start_time": "2022-05-07T05:21:56.907Z"
   },
   {
    "duration": 14,
    "start_time": "2022-05-07T05:21:57.152Z"
   },
   {
    "duration": 27,
    "start_time": "2022-05-07T05:21:57.168Z"
   },
   {
    "duration": 218,
    "start_time": "2022-05-07T05:21:57.196Z"
   },
   {
    "duration": 12,
    "start_time": "2022-05-07T05:21:57.416Z"
   },
   {
    "duration": 13,
    "start_time": "2022-05-07T05:21:57.430Z"
   },
   {
    "duration": 14,
    "start_time": "2022-05-07T05:21:57.445Z"
   },
   {
    "duration": 254,
    "start_time": "2022-05-07T05:21:57.460Z"
   },
   {
    "duration": 12,
    "start_time": "2022-05-07T05:21:57.715Z"
   },
   {
    "duration": 8,
    "start_time": "2022-05-07T05:21:57.729Z"
   },
   {
    "duration": 164,
    "start_time": "2022-05-07T05:21:57.738Z"
   },
   {
    "duration": 7,
    "start_time": "2022-05-07T05:21:57.904Z"
   },
   {
    "duration": 290,
    "start_time": "2022-05-07T05:21:57.912Z"
   },
   {
    "duration": 7,
    "start_time": "2022-05-07T05:21:58.204Z"
   },
   {
    "duration": 296,
    "start_time": "2022-05-07T05:21:58.213Z"
   },
   {
    "duration": 5,
    "start_time": "2022-05-07T05:21:58.510Z"
   },
   {
    "duration": 6,
    "start_time": "2022-05-07T05:21:58.517Z"
   },
   {
    "duration": 11,
    "start_time": "2022-05-07T05:21:58.524Z"
   },
   {
    "duration": 347,
    "start_time": "2022-05-07T05:21:58.536Z"
   },
   {
    "duration": 11,
    "start_time": "2022-05-07T05:21:58.885Z"
   },
   {
    "duration": 278,
    "start_time": "2022-05-07T05:21:58.898Z"
   },
   {
    "duration": 5,
    "start_time": "2022-05-07T05:21:59.177Z"
   },
   {
    "duration": 4,
    "start_time": "2022-05-07T05:21:59.193Z"
   }
  ],
  "kernelspec": {
   "display_name": "Python 3 (ipykernel)",
   "language": "python",
   "name": "python3"
  },
  "language_info": {
   "codemirror_mode": {
    "name": "ipython",
    "version": 3
   },
   "file_extension": ".py",
   "mimetype": "text/x-python",
   "name": "python",
   "nbconvert_exporter": "python",
   "pygments_lexer": "ipython3",
   "version": "3.9.5"
  },
  "toc": {
   "base_numbering": 1,
   "nav_menu": {},
   "number_sections": true,
   "sideBar": true,
   "skip_h1_title": true,
   "title_cell": "Table of Contents",
   "title_sidebar": "Contents",
   "toc_cell": false,
   "toc_position": {},
   "toc_section_display": true,
   "toc_window_display": false
  }
 },
 "nbformat": 4,
 "nbformat_minor": 5
}
