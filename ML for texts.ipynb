{
 "cells": [
  {
   "cell_type": "markdown",
   "id": "7ec0ae76",
   "metadata": {
    "id": "7ec0ae76"
   },
   "source": [
    "# Машинное обучение для текстов"
   ]
  },
  {
   "cell_type": "markdown",
   "id": "74f49ab6",
   "metadata": {
    "id": "74f49ab6"
   },
   "source": [
    "## Проект для викишоп"
   ]
  },
  {
   "cell_type": "markdown",
   "id": "b400f88a",
   "metadata": {
    "id": "b400f88a"
   },
   "source": [
    "Интернет-магазин «Викишоп» запускает новый сервис. Теперь пользователи могут редактировать и дополнять описания товаров, как в вики-сообществах. То есть клиенты предлагают свои правки и комментируют изменения других. Магазину нужен инструмент, который будет искать токсичные комментарии и отправлять их на модерацию."
   ]
  },
  {
   "cell_type": "markdown",
   "id": "716629da",
   "metadata": {
    "id": "716629da"
   },
   "source": [
    "**Цель проекта:** обучить модель классифицировать комментарии на негативные и позитивные.\n",
    "\n",
    "**Входные данные:** набор данных с разметкой о токсичности правок"
   ]
  },
  {
   "cell_type": "code",
   "execution_count": null,
   "id": "QaxCd_L88sn5",
   "metadata": {
    "colab": {
     "base_uri": "https://localhost:8080/"
    },
    "id": "QaxCd_L88sn5",
    "outputId": "2830d979-2ef9-43f5-f26c-c9f965dedfaa"
   },
   "outputs": [
    {
     "name": "stdout",
     "output_type": "stream",
     "text": [
      "Looking in indexes: https://pypi.org/simple, https://us-python.pkg.dev/colab-wheels/public/simple/\n",
      "Requirement already satisfied: catboost in /usr/local/lib/python3.7/dist-packages (1.0.6)\n",
      "Requirement already satisfied: plotly in /usr/local/lib/python3.7/dist-packages (from catboost) (5.5.0)\n",
      "Requirement already satisfied: scipy in /usr/local/lib/python3.7/dist-packages (from catboost) (1.7.3)\n",
      "Requirement already satisfied: pandas>=0.24.0 in /usr/local/lib/python3.7/dist-packages (from catboost) (1.3.5)\n",
      "Requirement already satisfied: graphviz in /usr/local/lib/python3.7/dist-packages (from catboost) (0.10.1)\n",
      "Requirement already satisfied: matplotlib in /usr/local/lib/python3.7/dist-packages (from catboost) (3.2.2)\n",
      "Requirement already satisfied: six in /usr/local/lib/python3.7/dist-packages (from catboost) (1.15.0)\n",
      "Requirement already satisfied: numpy>=1.16.0 in /usr/local/lib/python3.7/dist-packages (from catboost) (1.21.6)\n",
      "Requirement already satisfied: pytz>=2017.3 in /usr/local/lib/python3.7/dist-packages (from pandas>=0.24.0->catboost) (2022.1)\n",
      "Requirement already satisfied: python-dateutil>=2.7.3 in /usr/local/lib/python3.7/dist-packages (from pandas>=0.24.0->catboost) (2.8.2)\n",
      "Requirement already satisfied: cycler>=0.10 in /usr/local/lib/python3.7/dist-packages (from matplotlib->catboost) (0.11.0)\n",
      "Requirement already satisfied: kiwisolver>=1.0.1 in /usr/local/lib/python3.7/dist-packages (from matplotlib->catboost) (1.4.4)\n",
      "Requirement already satisfied: pyparsing!=2.0.4,!=2.1.2,!=2.1.6,>=2.0.1 in /usr/local/lib/python3.7/dist-packages (from matplotlib->catboost) (3.0.9)\n",
      "Requirement already satisfied: typing-extensions in /usr/local/lib/python3.7/dist-packages (from kiwisolver>=1.0.1->matplotlib->catboost) (4.1.1)\n",
      "Requirement already satisfied: tenacity>=6.2.0 in /usr/local/lib/python3.7/dist-packages (from plotly->catboost) (8.0.1)\n"
     ]
    }
   ],
   "source": [
    "!pip install catboost"
   ]
  },
  {
   "cell_type": "code",
   "execution_count": null,
   "id": "1914fe51",
   "metadata": {
    "id": "1914fe51"
   },
   "outputs": [],
   "source": [
    "import pandas as pd\n",
    "import numpy as np\n",
    "import nltk\n",
    "import re\n",
    "from nltk.corpus import stopwords\n",
    "from nltk.stem import WordNetLemmatizer\n",
    "from sklearn.feature_extraction.text import TfidfVectorizer\n",
    "from sklearn.model_selection import train_test_split\n",
    "from sklearn.model_selection import GridSearchCV\n",
    "from collections import Counter\n",
    "from sklearn.linear_model import LogisticRegression\n",
    "from sklearn.ensemble import RandomForestClassifier\n",
    "from catboost import CatBoostClassifier\n",
    "from random import randint\n",
    "from sklearn.metrics import f1_score\n",
    "from tqdm import tqdm\n",
    "from scipy import sparse\n",
    "from torch.nn.utils.rnn import pad_sequence\n",
    "import warnings\n",
    "random_state=12345"
   ]
  },
  {
   "cell_type": "markdown",
   "id": "1737b34d",
   "metadata": {
    "id": "1737b34d"
   },
   "source": [
    "### Загрузка и подготовка данных"
   ]
  },
  {
   "cell_type": "code",
   "execution_count": null,
   "id": "uunFLzwGDk-O",
   "metadata": {
    "colab": {
     "base_uri": "https://localhost:8080/"
    },
    "id": "uunFLzwGDk-O",
    "outputId": "0f0f1ca0-4ecc-49e7-892e-1ea91e0f3d29"
   },
   "outputs": [
    {
     "name": "stdout",
     "output_type": "stream",
     "text": [
      "Drive already mounted at /content/drive; to attempt to forcibly remount, call drive.mount(\"/content/drive\", force_remount=True).\n"
     ]
    }
   ],
   "source": [
    "from google.colab import drive\n",
    "drive.mount('/content/drive')"
   ]
  },
  {
   "cell_type": "code",
   "execution_count": null,
   "id": "c02205a7",
   "metadata": {
    "id": "c02205a7"
   },
   "outputs": [],
   "source": [
    "try:\n",
    "    df_comments = pd.read_csv(\"/content/drive/MyDrive/Colab Notebooks/toxic_comments.csv\")\n",
    "except:    \n",
    "    df_comments = pd.read_csv(\"/datasets/toxic_comments.csv\") "
   ]
  },
  {
   "cell_type": "code",
   "execution_count": null,
   "id": "92a8ac33",
   "metadata": {
    "id": "92a8ac33"
   },
   "outputs": [],
   "source": [
    "df_comments = df_comments.sample(n=50000, random_state=12345)"
   ]
  },
  {
   "cell_type": "code",
   "execution_count": null,
   "id": "b6dd8390",
   "metadata": {
    "colab": {
     "base_uri": "https://localhost:8080/"
    },
    "id": "b6dd8390",
    "outputId": "cdaa938b-4a23-4529-d86b-002ed9e5647f"
   },
   "outputs": [
    {
     "name": "stdout",
     "output_type": "stream",
     "text": [
      "<class 'pandas.core.frame.DataFrame'>\n",
      "Int64Index: 50000 entries, 146790 to 110088\n",
      "Data columns (total 2 columns):\n",
      " #   Column  Non-Null Count  Dtype \n",
      "---  ------  --------------  ----- \n",
      " 0   text    50000 non-null  object\n",
      " 1   toxic   50000 non-null  int64 \n",
      "dtypes: int64(1), object(1)\n",
      "memory usage: 1.1+ MB\n"
     ]
    }
   ],
   "source": [
    "df_comments.info()"
   ]
  },
  {
   "cell_type": "code",
   "execution_count": null,
   "id": "e12c46ce",
   "metadata": {
    "colab": {
     "base_uri": "https://localhost:8080/",
     "height": 206
    },
    "id": "e12c46ce",
    "outputId": "a7514db7-7009-47db-9c41-be8f70cbcf3b"
   },
   "outputs": [
    {
     "data": {
      "text/html": [
       "\n",
       "  <div id=\"df-8847a03f-afa6-4600-996d-fcb63cf86262\">\n",
       "    <div class=\"colab-df-container\">\n",
       "      <div>\n",
       "<style scoped>\n",
       "    .dataframe tbody tr th:only-of-type {\n",
       "        vertical-align: middle;\n",
       "    }\n",
       "\n",
       "    .dataframe tbody tr th {\n",
       "        vertical-align: top;\n",
       "    }\n",
       "\n",
       "    .dataframe thead th {\n",
       "        text-align: right;\n",
       "    }\n",
       "</style>\n",
       "<table border=\"1\" class=\"dataframe\">\n",
       "  <thead>\n",
       "    <tr style=\"text-align: right;\">\n",
       "      <th></th>\n",
       "      <th>text</th>\n",
       "      <th>toxic</th>\n",
       "    </tr>\n",
       "  </thead>\n",
       "  <tbody>\n",
       "    <tr>\n",
       "      <th>146790</th>\n",
       "      <td>Ahh shut the fuck up you douchebag sand nigger...</td>\n",
       "      <td>1</td>\n",
       "    </tr>\n",
       "    <tr>\n",
       "      <th>2941</th>\n",
       "      <td>\"\\n\\nREPLY: There is no such thing as Texas Co...</td>\n",
       "      <td>0</td>\n",
       "    </tr>\n",
       "    <tr>\n",
       "      <th>115087</th>\n",
       "      <td>Reply\\nHey, you could at least mention Jasenov...</td>\n",
       "      <td>0</td>\n",
       "    </tr>\n",
       "    <tr>\n",
       "      <th>48830</th>\n",
       "      <td>Thats fine, there is no deadline )   chi?</td>\n",
       "      <td>0</td>\n",
       "    </tr>\n",
       "    <tr>\n",
       "      <th>136034</th>\n",
       "      <td>\"\\n\\nDYK nomination of Mustarabim\\n Hello! You...</td>\n",
       "      <td>0</td>\n",
       "    </tr>\n",
       "  </tbody>\n",
       "</table>\n",
       "</div>\n",
       "      <button class=\"colab-df-convert\" onclick=\"convertToInteractive('df-8847a03f-afa6-4600-996d-fcb63cf86262')\"\n",
       "              title=\"Convert this dataframe to an interactive table.\"\n",
       "              style=\"display:none;\">\n",
       "        \n",
       "  <svg xmlns=\"http://www.w3.org/2000/svg\" height=\"24px\"viewBox=\"0 0 24 24\"\n",
       "       width=\"24px\">\n",
       "    <path d=\"M0 0h24v24H0V0z\" fill=\"none\"/>\n",
       "    <path d=\"M18.56 5.44l.94 2.06.94-2.06 2.06-.94-2.06-.94-.94-2.06-.94 2.06-2.06.94zm-11 1L8.5 8.5l.94-2.06 2.06-.94-2.06-.94L8.5 2.5l-.94 2.06-2.06.94zm10 10l.94 2.06.94-2.06 2.06-.94-2.06-.94-.94-2.06-.94 2.06-2.06.94z\"/><path d=\"M17.41 7.96l-1.37-1.37c-.4-.4-.92-.59-1.43-.59-.52 0-1.04.2-1.43.59L10.3 9.45l-7.72 7.72c-.78.78-.78 2.05 0 2.83L4 21.41c.39.39.9.59 1.41.59.51 0 1.02-.2 1.41-.59l7.78-7.78 2.81-2.81c.8-.78.8-2.07 0-2.86zM5.41 20L4 18.59l7.72-7.72 1.47 1.35L5.41 20z\"/>\n",
       "  </svg>\n",
       "      </button>\n",
       "      \n",
       "  <style>\n",
       "    .colab-df-container {\n",
       "      display:flex;\n",
       "      flex-wrap:wrap;\n",
       "      gap: 12px;\n",
       "    }\n",
       "\n",
       "    .colab-df-convert {\n",
       "      background-color: #E8F0FE;\n",
       "      border: none;\n",
       "      border-radius: 50%;\n",
       "      cursor: pointer;\n",
       "      display: none;\n",
       "      fill: #1967D2;\n",
       "      height: 32px;\n",
       "      padding: 0 0 0 0;\n",
       "      width: 32px;\n",
       "    }\n",
       "\n",
       "    .colab-df-convert:hover {\n",
       "      background-color: #E2EBFA;\n",
       "      box-shadow: 0px 1px 2px rgba(60, 64, 67, 0.3), 0px 1px 3px 1px rgba(60, 64, 67, 0.15);\n",
       "      fill: #174EA6;\n",
       "    }\n",
       "\n",
       "    [theme=dark] .colab-df-convert {\n",
       "      background-color: #3B4455;\n",
       "      fill: #D2E3FC;\n",
       "    }\n",
       "\n",
       "    [theme=dark] .colab-df-convert:hover {\n",
       "      background-color: #434B5C;\n",
       "      box-shadow: 0px 1px 3px 1px rgba(0, 0, 0, 0.15);\n",
       "      filter: drop-shadow(0px 1px 2px rgba(0, 0, 0, 0.3));\n",
       "      fill: #FFFFFF;\n",
       "    }\n",
       "  </style>\n",
       "\n",
       "      <script>\n",
       "        const buttonEl =\n",
       "          document.querySelector('#df-8847a03f-afa6-4600-996d-fcb63cf86262 button.colab-df-convert');\n",
       "        buttonEl.style.display =\n",
       "          google.colab.kernel.accessAllowed ? 'block' : 'none';\n",
       "\n",
       "        async function convertToInteractive(key) {\n",
       "          const element = document.querySelector('#df-8847a03f-afa6-4600-996d-fcb63cf86262');\n",
       "          const dataTable =\n",
       "            await google.colab.kernel.invokeFunction('convertToInteractive',\n",
       "                                                     [key], {});\n",
       "          if (!dataTable) return;\n",
       "\n",
       "          const docLinkHtml = 'Like what you see? Visit the ' +\n",
       "            '<a target=\"_blank\" href=https://colab.research.google.com/notebooks/data_table.ipynb>data table notebook</a>'\n",
       "            + ' to learn more about interactive tables.';\n",
       "          element.innerHTML = '';\n",
       "          dataTable['output_type'] = 'display_data';\n",
       "          await google.colab.output.renderOutput(dataTable, element);\n",
       "          const docLink = document.createElement('div');\n",
       "          docLink.innerHTML = docLinkHtml;\n",
       "          element.appendChild(docLink);\n",
       "        }\n",
       "      </script>\n",
       "    </div>\n",
       "  </div>\n",
       "  "
      ],
      "text/plain": [
       "                                                     text  toxic\n",
       "146790  Ahh shut the fuck up you douchebag sand nigger...      1\n",
       "2941    \"\\n\\nREPLY: There is no such thing as Texas Co...      0\n",
       "115087  Reply\\nHey, you could at least mention Jasenov...      0\n",
       "48830           Thats fine, there is no deadline )   chi?      0\n",
       "136034  \"\\n\\nDYK nomination of Mustarabim\\n Hello! You...      0"
      ]
     },
     "execution_count": 7,
     "metadata": {},
     "output_type": "execute_result"
    }
   ],
   "source": [
    "df_comments.head()"
   ]
  },
  {
   "cell_type": "code",
   "execution_count": null,
   "id": "b87dc18a",
   "metadata": {
    "colab": {
     "base_uri": "https://localhost:8080/"
    },
    "id": "b87dc18a",
    "outputId": "dc74d111-fd6a-40fb-cf5e-02323db44f09"
   },
   "outputs": [
    {
     "data": {
      "text/plain": [
       "text     0\n",
       "toxic    0\n",
       "dtype: int64"
      ]
     },
     "execution_count": 8,
     "metadata": {},
     "output_type": "execute_result"
    }
   ],
   "source": [
    "df_comments.isna().sum()"
   ]
  },
  {
   "cell_type": "code",
   "execution_count": null,
   "id": "841269ac",
   "metadata": {
    "colab": {
     "base_uri": "https://localhost:8080/"
    },
    "id": "841269ac",
    "outputId": "7491d09d-5aef-410c-9341-6781d0aaa6d9"
   },
   "outputs": [
    {
     "name": "stderr",
     "output_type": "stream",
     "text": [
      "[nltk_data] Downloading package wordnet to /root/nltk_data...\n",
      "[nltk_data]   Package wordnet is already up-to-date!\n",
      "[nltk_data] Downloading package punkt to /root/nltk_data...\n",
      "[nltk_data]   Package punkt is already up-to-date!\n",
      "[nltk_data] Downloading package omw-1.4 to /root/nltk_data...\n",
      "[nltk_data]   Package omw-1.4 is already up-to-date!\n"
     ]
    }
   ],
   "source": [
    "nltk.download('wordnet')\n",
    "nltk.download('punkt')\n",
    "nltk.download('omw-1.4')\n",
    "warnings.filterwarnings('ignore') "
   ]
  },
  {
   "cell_type": "code",
   "execution_count": null,
   "id": "9d68293e",
   "metadata": {
    "id": "9d68293e"
   },
   "outputs": [],
   "source": [
    "#Лемматизируем текст и избавимся от ненужных символов\n",
    "def lemmatize(text):\n",
    "    text = text.lower()\n",
    "    text = re.sub(r'[^a-z]', ' ', text)\n",
    "    m = WordNetLemmatizer()\n",
    "    lemm_list = [m.lemmatize(word) for word in nltk.word_tokenize(text)]\n",
    "    lemm_text = \" \".join(lemm_list)   \n",
    "    return lemm_text"
   ]
  },
  {
   "cell_type": "code",
   "execution_count": null,
   "id": "2b190cdc",
   "metadata": {
    "colab": {
     "base_uri": "https://localhost:8080/"
    },
    "id": "2b190cdc",
    "outputId": "dcbb9bc9-77c5-4fd1-cf24-ca4929facf35"
   },
   "outputs": [
    {
     "name": "stderr",
     "output_type": "stream",
     "text": [
      "100%|██████████| 50000/50000 [00:43<00:00, 1136.69it/s]\n"
     ]
    }
   ],
   "source": [
    "tqdm.pandas()\n",
    "df_comments['text'] = df_comments['text'].progress_apply(lemmatize)"
   ]
  },
  {
   "cell_type": "code",
   "execution_count": null,
   "id": "07a9831f",
   "metadata": {
    "colab": {
     "base_uri": "https://localhost:8080/"
    },
    "id": "07a9831f",
    "outputId": "248476e6-2036-442a-d9f4-a19269ffa3d8"
   },
   "outputs": [
    {
     "name": "stderr",
     "output_type": "stream",
     "text": [
      "[nltk_data] Downloading package stopwords to /root/nltk_data...\n",
      "[nltk_data]   Package stopwords is already up-to-date!\n"
     ]
    }
   ],
   "source": [
    "nltk.download('stopwords')\n",
    "stopwords = set(stopwords.words('english'))\n",
    "warnings.filterwarnings('ignore') "
   ]
  },
  {
   "cell_type": "code",
   "execution_count": null,
   "id": "125b0081",
   "metadata": {
    "id": "125b0081"
   },
   "outputs": [],
   "source": [
    "features = df_comments.drop('toxic', axis=1)\n",
    "target = df_comments['toxic']"
   ]
  },
  {
   "cell_type": "code",
   "execution_count": null,
   "id": "2e3e9bda",
   "metadata": {
    "id": "2e3e9bda"
   },
   "outputs": [],
   "source": [
    "#Разделим выборку на обучающую и тестовую в соотношении 3:1\n",
    "x_train, x_test, y_train, y_test = train_test_split(features, target, test_size=0.25, random_state=random_state, stratify=target)"
   ]
  },
  {
   "cell_type": "code",
   "execution_count": null,
   "id": "8a906c03",
   "metadata": {
    "id": "8a906c03"
   },
   "outputs": [],
   "source": [
    "count_tf_idf = TfidfVectorizer(stop_words=stopwords)\n",
    "tf_idf_train = count_tf_idf.fit_transform(x_train['text'].values)"
   ]
  },
  {
   "cell_type": "code",
   "execution_count": null,
   "id": "28P2rYEHSTZo",
   "metadata": {
    "id": "28P2rYEHSTZo"
   },
   "outputs": [],
   "source": [
    "tf_idf_test = count_tf_idf.transform(x_test['text'].values)"
   ]
  },
  {
   "cell_type": "code",
   "execution_count": null,
   "id": "d9wqnA67cPm2",
   "metadata": {
    "id": "d9wqnA67cPm2"
   },
   "outputs": [],
   "source": [
    "x_train = pd.DataFrame.sparse.from_spmatrix(tf_idf_train)\n",
    "x_test = pd.DataFrame.sparse.from_spmatrix(tf_idf_test)"
   ]
  },
  {
   "cell_type": "markdown",
   "id": "4d9801ea",
   "metadata": {
    "id": "4d9801ea"
   },
   "source": [
    "### Обучение моделей"
   ]
  },
  {
   "cell_type": "code",
   "execution_count": null,
   "id": "3dead55b",
   "metadata": {
    "colab": {
     "base_uri": "https://localhost:8080/"
    },
    "id": "3dead55b",
    "outputId": "48e4c88d-aefa-4b37-f3d0-9760aaaf54e6"
   },
   "outputs": [
    {
     "name": "stdout",
     "output_type": "stream",
     "text": [
      "Количество положительных классов в обучающей выборке: 3810\n",
      "Количество отрицательных классов в обучающей выборке: 33690\n"
     ]
    }
   ],
   "source": [
    "#Посмотрим на соотношение классов\n",
    "print(\"Количество положительных классов в обучающей выборке:\", len(y_train[y_train==1]))\n",
    "print(\"Количество отрицательных классов в обучающей выборке:\", len(y_train[y_train==0]))"
   ]
  },
  {
   "cell_type": "markdown",
   "id": "8b14f1bf",
   "metadata": {
    "id": "8b14f1bf"
   },
   "source": [
    "<div class=\"alert alert-block alert-info\">\n",
    "Баланс классов присутствует, когда соотношение классов в выборке примерно 1:1. В нашем случае можно наблюдать дисбаланс. \n",
    "</div>"
   ]
  },
  {
   "cell_type": "markdown",
   "id": "028e1718",
   "metadata": {
    "id": "028e1718"
   },
   "source": [
    "<div class=\"alert alert-block alert-info\">\n",
    "Обучим несколько моделей: модель логистической регрессии, градиентного бустинга и случайного леса. Подберём параметры по GridSearchCV и выберем наилучшую модель по f1_score на валидационной выборке."
   ]
  },
  {
   "cell_type": "code",
   "execution_count": null,
   "id": "f3f6b68c",
   "metadata": {
    "id": "f3f6b68c"
   },
   "outputs": [],
   "source": [
    "#Напишем функцию для подбора параметров модели градиентного бустинга\n",
    "def select_params_boost(x, y):\n",
    "    model_boost = CatBoostClassifier(task_type='GPU')\n",
    "    parameters = {\n",
    "        'random_state': [random_state],\n",
    "        'n_estimators': [randint(1,50)],\n",
    "        'learning_rate': [0.03, 0.1],\n",
    "        'max_depth': [randint(1,16)]\n",
    "                }\n",
    "    grid = GridSearchCV(model_boost, parameters, verbose=False, scoring='f1')\n",
    "    grid.fit(x, y)\n",
    "    return grid.best_params_, grid.best_score_"
   ]
  },
  {
   "cell_type": "code",
   "execution_count": null,
   "id": "tJS4GCyGMb4U",
   "metadata": {
    "colab": {
     "base_uri": "https://localhost:8080/"
    },
    "id": "tJS4GCyGMb4U",
    "outputId": "b1d5b873-a05b-45f0-f215-fc78021aa118"
   },
   "outputs": [
    {
     "name": "stdout",
     "output_type": "stream",
     "text": [
      "0:\tlearn: 0.6628044\ttotal: 58.5ms\tremaining: 1.93s\n",
      "1:\tlearn: 0.6332805\ttotal: 119ms\tremaining: 1.9s\n",
      "2:\tlearn: 0.6071533\ttotal: 174ms\tremaining: 1.8s\n",
      "3:\tlearn: 0.5833421\ttotal: 234ms\tremaining: 1.76s\n",
      "4:\tlearn: 0.5600686\ttotal: 279ms\tremaining: 1.62s\n",
      "5:\tlearn: 0.5386208\ttotal: 316ms\tremaining: 1.47s\n",
      "6:\tlearn: 0.5186868\ttotal: 363ms\tremaining: 1.4s\n",
      "7:\tlearn: 0.4996213\ttotal: 406ms\tremaining: 1.32s\n",
      "8:\tlearn: 0.4824112\ttotal: 443ms\tremaining: 1.23s\n",
      "9:\tlearn: 0.4662244\ttotal: 484ms\tremaining: 1.16s\n",
      "10:\tlearn: 0.4514375\ttotal: 518ms\tremaining: 1.08s\n",
      "11:\tlearn: 0.4371205\ttotal: 554ms\tremaining: 1.01s\n",
      "12:\tlearn: 0.4242743\ttotal: 586ms\tremaining: 947ms\n",
      "13:\tlearn: 0.4134659\ttotal: 617ms\tremaining: 882ms\n",
      "14:\tlearn: 0.4030577\ttotal: 650ms\tremaining: 823ms\n",
      "15:\tlearn: 0.3923186\ttotal: 689ms\tremaining: 775ms\n",
      "16:\tlearn: 0.3830049\ttotal: 720ms\tremaining: 720ms\n",
      "17:\tlearn: 0.3745529\ttotal: 760ms\tremaining: 675ms\n",
      "18:\tlearn: 0.3661868\ttotal: 793ms\tremaining: 626ms\n",
      "19:\tlearn: 0.3578073\ttotal: 827ms\tremaining: 579ms\n",
      "20:\tlearn: 0.3500799\ttotal: 861ms\tremaining: 533ms\n",
      "21:\tlearn: 0.3436254\ttotal: 895ms\tremaining: 488ms\n",
      "22:\tlearn: 0.3370498\ttotal: 927ms\tremaining: 443ms\n",
      "23:\tlearn: 0.3313708\ttotal: 959ms\tremaining: 399ms\n",
      "24:\tlearn: 0.3258026\ttotal: 993ms\tremaining: 357ms\n",
      "25:\tlearn: 0.3209656\ttotal: 1.02s\tremaining: 315ms\n",
      "26:\tlearn: 0.3157158\ttotal: 1.06s\tremaining: 274ms\n",
      "27:\tlearn: 0.3108585\ttotal: 1.09s\tremaining: 234ms\n",
      "28:\tlearn: 0.3066923\ttotal: 1.13s\tremaining: 194ms\n",
      "29:\tlearn: 0.3026963\ttotal: 1.16s\tremaining: 154ms\n",
      "30:\tlearn: 0.2989303\ttotal: 1.19s\tremaining: 115ms\n",
      "31:\tlearn: 0.2949149\ttotal: 1.23s\tremaining: 76.8ms\n",
      "32:\tlearn: 0.2915497\ttotal: 1.26s\tremaining: 38.2ms\n",
      "33:\tlearn: 0.2881209\ttotal: 1.29s\tremaining: 0us\n",
      "0:\tlearn: 0.6626904\ttotal: 57.2ms\tremaining: 1.89s\n",
      "1:\tlearn: 0.6336548\ttotal: 123ms\tremaining: 1.97s\n",
      "2:\tlearn: 0.6074532\ttotal: 178ms\tremaining: 1.84s\n",
      "3:\tlearn: 0.5835023\ttotal: 215ms\tremaining: 1.61s\n",
      "4:\tlearn: 0.5604917\ttotal: 261ms\tremaining: 1.51s\n",
      "5:\tlearn: 0.5384170\ttotal: 303ms\tremaining: 1.41s\n",
      "6:\tlearn: 0.5183285\ttotal: 342ms\tremaining: 1.32s\n",
      "7:\tlearn: 0.4992288\ttotal: 383ms\tremaining: 1.24s\n",
      "8:\tlearn: 0.4820970\ttotal: 416ms\tremaining: 1.15s\n",
      "9:\tlearn: 0.4659724\ttotal: 450ms\tremaining: 1.08s\n",
      "10:\tlearn: 0.4513744\ttotal: 485ms\tremaining: 1.01s\n",
      "11:\tlearn: 0.4365323\ttotal: 524ms\tremaining: 960ms\n",
      "12:\tlearn: 0.4237068\ttotal: 558ms\tremaining: 902ms\n",
      "13:\tlearn: 0.4131295\ttotal: 590ms\tremaining: 843ms\n",
      "14:\tlearn: 0.4021710\ttotal: 623ms\tremaining: 789ms\n",
      "15:\tlearn: 0.3911798\ttotal: 672ms\tremaining: 756ms\n",
      "16:\tlearn: 0.3821103\ttotal: 707ms\tremaining: 707ms\n",
      "17:\tlearn: 0.3736431\ttotal: 738ms\tremaining: 656ms\n",
      "18:\tlearn: 0.3652991\ttotal: 774ms\tremaining: 611ms\n",
      "19:\tlearn: 0.3573606\ttotal: 806ms\tremaining: 564ms\n",
      "20:\tlearn: 0.3495531\ttotal: 842ms\tremaining: 521ms\n",
      "21:\tlearn: 0.3431312\ttotal: 872ms\tremaining: 476ms\n",
      "22:\tlearn: 0.3366758\ttotal: 909ms\tremaining: 435ms\n",
      "23:\tlearn: 0.3309158\ttotal: 941ms\tremaining: 392ms\n",
      "24:\tlearn: 0.3252714\ttotal: 973ms\tremaining: 350ms\n",
      "25:\tlearn: 0.3200262\ttotal: 1.01s\tremaining: 310ms\n",
      "26:\tlearn: 0.3146849\ttotal: 1.04s\tremaining: 270ms\n",
      "27:\tlearn: 0.3098124\ttotal: 1.07s\tremaining: 231ms\n",
      "28:\tlearn: 0.3053657\ttotal: 1.11s\tremaining: 192ms\n",
      "29:\tlearn: 0.3013258\ttotal: 1.15s\tremaining: 153ms\n",
      "30:\tlearn: 0.2978701\ttotal: 1.18s\tremaining: 114ms\n",
      "31:\tlearn: 0.2939277\ttotal: 1.22s\tremaining: 76ms\n",
      "32:\tlearn: 0.2906292\ttotal: 1.25s\tremaining: 38ms\n",
      "33:\tlearn: 0.2871657\ttotal: 1.29s\tremaining: 0us\n",
      "0:\tlearn: 0.6625077\ttotal: 60ms\tremaining: 1.98s\n",
      "1:\tlearn: 0.6334355\ttotal: 118ms\tremaining: 1.88s\n",
      "2:\tlearn: 0.6071409\ttotal: 173ms\tremaining: 1.79s\n",
      "3:\tlearn: 0.5831934\ttotal: 213ms\tremaining: 1.6s\n",
      "4:\tlearn: 0.5599346\ttotal: 254ms\tremaining: 1.47s\n",
      "5:\tlearn: 0.5376307\ttotal: 293ms\tremaining: 1.37s\n",
      "6:\tlearn: 0.5175558\ttotal: 332ms\tremaining: 1.28s\n",
      "7:\tlearn: 0.4983468\ttotal: 372ms\tremaining: 1.21s\n",
      "8:\tlearn: 0.4806748\ttotal: 407ms\tremaining: 1.13s\n",
      "9:\tlearn: 0.4642835\ttotal: 442ms\tremaining: 1.06s\n",
      "10:\tlearn: 0.4497367\ttotal: 482ms\tremaining: 1.01s\n",
      "11:\tlearn: 0.4348779\ttotal: 525ms\tremaining: 963ms\n",
      "12:\tlearn: 0.4224874\ttotal: 557ms\tremaining: 899ms\n",
      "13:\tlearn: 0.4112669\ttotal: 590ms\tremaining: 843ms\n",
      "14:\tlearn: 0.4003288\ttotal: 633ms\tremaining: 802ms\n",
      "15:\tlearn: 0.3895604\ttotal: 667ms\tremaining: 751ms\n",
      "16:\tlearn: 0.3803766\ttotal: 699ms\tremaining: 699ms\n",
      "17:\tlearn: 0.3719909\ttotal: 733ms\tremaining: 652ms\n",
      "18:\tlearn: 0.3641593\ttotal: 764ms\tremaining: 603ms\n",
      "19:\tlearn: 0.3560627\ttotal: 798ms\tremaining: 559ms\n",
      "20:\tlearn: 0.3482885\ttotal: 834ms\tremaining: 516ms\n",
      "21:\tlearn: 0.3419856\ttotal: 865ms\tremaining: 472ms\n",
      "22:\tlearn: 0.3354759\ttotal: 898ms\tremaining: 429ms\n",
      "23:\tlearn: 0.3296950\ttotal: 936ms\tremaining: 390ms\n",
      "24:\tlearn: 0.3240428\ttotal: 969ms\tremaining: 349ms\n",
      "25:\tlearn: 0.3191865\ttotal: 1s\tremaining: 309ms\n",
      "26:\tlearn: 0.3143458\ttotal: 1.04s\tremaining: 269ms\n",
      "27:\tlearn: 0.3097094\ttotal: 1.07s\tremaining: 229ms\n",
      "28:\tlearn: 0.3054004\ttotal: 1.1s\tremaining: 191ms\n",
      "29:\tlearn: 0.3012809\ttotal: 1.14s\tremaining: 152ms\n",
      "30:\tlearn: 0.2972646\ttotal: 1.17s\tremaining: 114ms\n",
      "31:\tlearn: 0.2935693\ttotal: 1.21s\tremaining: 75.5ms\n",
      "32:\tlearn: 0.2901876\ttotal: 1.24s\tremaining: 37.6ms\n",
      "33:\tlearn: 0.2866534\ttotal: 1.27s\tremaining: 0us\n",
      "0:\tlearn: 0.6617311\ttotal: 58.2ms\tremaining: 1.92s\n",
      "1:\tlearn: 0.6327520\ttotal: 118ms\tremaining: 1.89s\n",
      "2:\tlearn: 0.6065787\ttotal: 174ms\tremaining: 1.79s\n",
      "3:\tlearn: 0.5826161\ttotal: 231ms\tremaining: 1.73s\n",
      "4:\tlearn: 0.5595201\ttotal: 288ms\tremaining: 1.67s\n",
      "5:\tlearn: 0.5373358\ttotal: 326ms\tremaining: 1.52s\n",
      "6:\tlearn: 0.5176809\ttotal: 362ms\tremaining: 1.4s\n",
      "7:\tlearn: 0.4990490\ttotal: 399ms\tremaining: 1.3s\n",
      "8:\tlearn: 0.4818652\ttotal: 435ms\tremaining: 1.21s\n",
      "9:\tlearn: 0.4655949\ttotal: 474ms\tremaining: 1.14s\n",
      "10:\tlearn: 0.4508507\ttotal: 511ms\tremaining: 1.07s\n",
      "11:\tlearn: 0.4360045\ttotal: 545ms\tremaining: 1000ms\n",
      "12:\tlearn: 0.4236584\ttotal: 576ms\tremaining: 931ms\n",
      "13:\tlearn: 0.4125582\ttotal: 609ms\tremaining: 870ms\n",
      "14:\tlearn: 0.4015696\ttotal: 642ms\tremaining: 813ms\n",
      "15:\tlearn: 0.3910868\ttotal: 679ms\tremaining: 764ms\n",
      "16:\tlearn: 0.3814598\ttotal: 724ms\tremaining: 724ms\n",
      "17:\tlearn: 0.3736360\ttotal: 766ms\tremaining: 681ms\n",
      "18:\tlearn: 0.3658752\ttotal: 802ms\tremaining: 633ms\n",
      "19:\tlearn: 0.3585056\ttotal: 835ms\tremaining: 585ms\n",
      "20:\tlearn: 0.3505199\ttotal: 870ms\tremaining: 539ms\n",
      "21:\tlearn: 0.3439933\ttotal: 901ms\tremaining: 492ms\n",
      "22:\tlearn: 0.3374946\ttotal: 938ms\tremaining: 448ms\n",
      "23:\tlearn: 0.3314665\ttotal: 970ms\tremaining: 404ms\n",
      "24:\tlearn: 0.3257686\ttotal: 1s\tremaining: 362ms\n",
      "25:\tlearn: 0.3208727\ttotal: 1.03s\tremaining: 319ms\n",
      "26:\tlearn: 0.3156346\ttotal: 1.07s\tremaining: 278ms\n",
      "27:\tlearn: 0.3109370\ttotal: 1.1s\tremaining: 237ms\n",
      "28:\tlearn: 0.3066570\ttotal: 1.14s\tremaining: 197ms\n",
      "29:\tlearn: 0.3024864\ttotal: 1.17s\tremaining: 157ms\n",
      "30:\tlearn: 0.2988978\ttotal: 1.21s\tremaining: 117ms\n",
      "31:\tlearn: 0.2951719\ttotal: 1.24s\tremaining: 77.7ms\n",
      "32:\tlearn: 0.2917600\ttotal: 1.27s\tremaining: 38.7ms\n",
      "33:\tlearn: 0.2884832\ttotal: 1.31s\tremaining: 0us\n",
      "0:\tlearn: 0.6618037\ttotal: 59ms\tremaining: 1.95s\n",
      "1:\tlearn: 0.6329193\ttotal: 118ms\tremaining: 1.88s\n",
      "2:\tlearn: 0.6067197\ttotal: 176ms\tremaining: 1.82s\n",
      "3:\tlearn: 0.5828121\ttotal: 238ms\tremaining: 1.79s\n",
      "4:\tlearn: 0.5595376\ttotal: 279ms\tremaining: 1.62s\n",
      "5:\tlearn: 0.5372819\ttotal: 316ms\tremaining: 1.47s\n",
      "6:\tlearn: 0.5172120\ttotal: 352ms\tremaining: 1.36s\n",
      "7:\tlearn: 0.4986647\ttotal: 390ms\tremaining: 1.27s\n",
      "8:\tlearn: 0.4814837\ttotal: 437ms\tremaining: 1.21s\n",
      "9:\tlearn: 0.4650034\ttotal: 476ms\tremaining: 1.14s\n",
      "10:\tlearn: 0.4505365\ttotal: 509ms\tremaining: 1.06s\n",
      "11:\tlearn: 0.4357040\ttotal: 544ms\tremaining: 998ms\n",
      "12:\tlearn: 0.4229496\ttotal: 577ms\tremaining: 932ms\n",
      "13:\tlearn: 0.4120049\ttotal: 609ms\tremaining: 870ms\n",
      "14:\tlearn: 0.4012069\ttotal: 643ms\tremaining: 815ms\n",
      "15:\tlearn: 0.3906671\ttotal: 677ms\tremaining: 762ms\n",
      "16:\tlearn: 0.3815001\ttotal: 713ms\tremaining: 713ms\n",
      "17:\tlearn: 0.3735191\ttotal: 745ms\tremaining: 663ms\n",
      "18:\tlearn: 0.3654664\ttotal: 776ms\tremaining: 613ms\n",
      "19:\tlearn: 0.3573837\ttotal: 812ms\tremaining: 568ms\n",
      "20:\tlearn: 0.3494010\ttotal: 845ms\tremaining: 523ms\n",
      "21:\tlearn: 0.3430509\ttotal: 880ms\tremaining: 480ms\n",
      "22:\tlearn: 0.3366088\ttotal: 916ms\tremaining: 438ms\n",
      "23:\tlearn: 0.3304727\ttotal: 952ms\tremaining: 397ms\n",
      "24:\tlearn: 0.3248361\ttotal: 993ms\tremaining: 357ms\n",
      "25:\tlearn: 0.3199989\ttotal: 1.02s\tremaining: 315ms\n",
      "26:\tlearn: 0.3145710\ttotal: 1.06s\tremaining: 274ms\n",
      "27:\tlearn: 0.3096864\ttotal: 1.1s\tremaining: 236ms\n",
      "28:\tlearn: 0.3054244\ttotal: 1.14s\tremaining: 196ms\n",
      "29:\tlearn: 0.3012563\ttotal: 1.17s\tremaining: 156ms\n",
      "30:\tlearn: 0.2974757\ttotal: 1.2s\tremaining: 117ms\n",
      "31:\tlearn: 0.2935061\ttotal: 1.24s\tremaining: 77.6ms\n",
      "32:\tlearn: 0.2900532\ttotal: 1.27s\tremaining: 38.6ms\n",
      "33:\tlearn: 0.2867884\ttotal: 1.31s\tremaining: 0us\n",
      "0:\tlearn: 0.5972804\ttotal: 57.1ms\tremaining: 1.88s\n",
      "1:\tlearn: 0.5201071\ttotal: 119ms\tremaining: 1.9s\n",
      "2:\tlearn: 0.4611661\ttotal: 177ms\tremaining: 1.82s\n",
      "3:\tlearn: 0.4171930\ttotal: 221ms\tremaining: 1.66s\n",
      "4:\tlearn: 0.3813640\ttotal: 268ms\tremaining: 1.55s\n",
      "5:\tlearn: 0.3520696\ttotal: 304ms\tremaining: 1.42s\n",
      "6:\tlearn: 0.3309210\ttotal: 340ms\tremaining: 1.31s\n",
      "7:\tlearn: 0.3132284\ttotal: 377ms\tremaining: 1.23s\n",
      "8:\tlearn: 0.2983963\ttotal: 411ms\tremaining: 1.14s\n",
      "9:\tlearn: 0.2862750\ttotal: 446ms\tremaining: 1.07s\n",
      "10:\tlearn: 0.2760642\ttotal: 491ms\tremaining: 1.03s\n",
      "11:\tlearn: 0.2683989\ttotal: 523ms\tremaining: 959ms\n",
      "12:\tlearn: 0.2623738\ttotal: 556ms\tremaining: 898ms\n",
      "13:\tlearn: 0.2574266\ttotal: 588ms\tremaining: 840ms\n",
      "14:\tlearn: 0.2528125\ttotal: 621ms\tremaining: 786ms\n",
      "15:\tlearn: 0.2479237\ttotal: 656ms\tremaining: 737ms\n",
      "16:\tlearn: 0.2443798\ttotal: 693ms\tremaining: 693ms\n",
      "17:\tlearn: 0.2412592\ttotal: 725ms\tremaining: 644ms\n",
      "18:\tlearn: 0.2388455\ttotal: 756ms\tremaining: 597ms\n",
      "19:\tlearn: 0.2360818\ttotal: 791ms\tremaining: 553ms\n",
      "20:\tlearn: 0.2337084\ttotal: 830ms\tremaining: 514ms\n",
      "21:\tlearn: 0.2308733\ttotal: 871ms\tremaining: 475ms\n",
      "22:\tlearn: 0.2283581\ttotal: 907ms\tremaining: 434ms\n",
      "23:\tlearn: 0.2268373\ttotal: 941ms\tremaining: 392ms\n",
      "24:\tlearn: 0.2251662\ttotal: 977ms\tremaining: 352ms\n",
      "25:\tlearn: 0.2235800\ttotal: 1.01s\tremaining: 310ms\n",
      "26:\tlearn: 0.2218563\ttotal: 1.04s\tremaining: 270ms\n",
      "27:\tlearn: 0.2204714\ttotal: 1.07s\tremaining: 230ms\n",
      "28:\tlearn: 0.2193693\ttotal: 1.1s\tremaining: 190ms\n",
      "29:\tlearn: 0.2181223\ttotal: 1.14s\tremaining: 152ms\n",
      "30:\tlearn: 0.2164811\ttotal: 1.17s\tremaining: 113ms\n",
      "31:\tlearn: 0.2152268\ttotal: 1.2s\tremaining: 75.3ms\n",
      "32:\tlearn: 0.2142212\ttotal: 1.24s\tremaining: 37.5ms\n",
      "33:\tlearn: 0.2130935\ttotal: 1.27s\tremaining: 0us\n",
      "0:\tlearn: 0.5969475\ttotal: 60.1ms\tremaining: 1.98s\n",
      "1:\tlearn: 0.5180712\ttotal: 123ms\tremaining: 1.97s\n",
      "2:\tlearn: 0.4597269\ttotal: 184ms\tremaining: 1.9s\n",
      "3:\tlearn: 0.4155578\ttotal: 243ms\tremaining: 1.82s\n",
      "4:\tlearn: 0.3797805\ttotal: 289ms\tremaining: 1.67s\n",
      "5:\tlearn: 0.3510230\ttotal: 324ms\tremaining: 1.51s\n",
      "6:\tlearn: 0.3286097\ttotal: 364ms\tremaining: 1.4s\n",
      "7:\tlearn: 0.3111132\ttotal: 401ms\tremaining: 1.3s\n",
      "8:\tlearn: 0.2964262\ttotal: 437ms\tremaining: 1.21s\n",
      "9:\tlearn: 0.2841793\ttotal: 473ms\tremaining: 1.14s\n",
      "10:\tlearn: 0.2743715\ttotal: 510ms\tremaining: 1.07s\n",
      "11:\tlearn: 0.2661619\ttotal: 544ms\tremaining: 997ms\n",
      "12:\tlearn: 0.2601936\ttotal: 577ms\tremaining: 931ms\n",
      "13:\tlearn: 0.2556577\ttotal: 609ms\tremaining: 871ms\n",
      "14:\tlearn: 0.2508498\ttotal: 642ms\tremaining: 814ms\n",
      "15:\tlearn: 0.2464232\ttotal: 676ms\tremaining: 760ms\n",
      "16:\tlearn: 0.2428624\ttotal: 713ms\tremaining: 713ms\n",
      "17:\tlearn: 0.2398859\ttotal: 754ms\tremaining: 670ms\n",
      "18:\tlearn: 0.2374565\ttotal: 789ms\tremaining: 623ms\n",
      "19:\tlearn: 0.2349313\ttotal: 822ms\tremaining: 575ms\n",
      "20:\tlearn: 0.2328609\ttotal: 852ms\tremaining: 528ms\n",
      "21:\tlearn: 0.2308733\ttotal: 885ms\tremaining: 483ms\n",
      "22:\tlearn: 0.2286570\ttotal: 921ms\tremaining: 440ms\n",
      "23:\tlearn: 0.2271409\ttotal: 952ms\tremaining: 397ms\n",
      "24:\tlearn: 0.2255128\ttotal: 986ms\tremaining: 355ms\n",
      "25:\tlearn: 0.2239157\ttotal: 1.02s\tremaining: 313ms\n",
      "26:\tlearn: 0.2221774\ttotal: 1.05s\tremaining: 272ms\n",
      "27:\tlearn: 0.2210524\ttotal: 1.08s\tremaining: 232ms\n",
      "28:\tlearn: 0.2200719\ttotal: 1.11s\tremaining: 192ms\n",
      "29:\tlearn: 0.2186783\ttotal: 1.15s\tremaining: 153ms\n",
      "30:\tlearn: 0.2177696\ttotal: 1.18s\tremaining: 114ms\n",
      "31:\tlearn: 0.2160733\ttotal: 1.21s\tremaining: 75.7ms\n",
      "32:\tlearn: 0.2152039\ttotal: 1.24s\tremaining: 37.7ms\n",
      "33:\tlearn: 0.2137510\ttotal: 1.28s\tremaining: 0us\n",
      "0:\tlearn: 0.5963848\ttotal: 58ms\tremaining: 1.91s\n",
      "1:\tlearn: 0.5176253\ttotal: 123ms\tremaining: 1.97s\n",
      "2:\tlearn: 0.4591284\ttotal: 184ms\tremaining: 1.9s\n",
      "3:\tlearn: 0.4149833\ttotal: 243ms\tremaining: 1.82s\n",
      "4:\tlearn: 0.3793550\ttotal: 292ms\tremaining: 1.7s\n",
      "5:\tlearn: 0.3499773\ttotal: 332ms\tremaining: 1.55s\n",
      "6:\tlearn: 0.3287410\ttotal: 368ms\tremaining: 1.42s\n",
      "7:\tlearn: 0.3107887\ttotal: 405ms\tremaining: 1.32s\n",
      "8:\tlearn: 0.2972697\ttotal: 440ms\tremaining: 1.22s\n",
      "9:\tlearn: 0.2847186\ttotal: 476ms\tremaining: 1.14s\n",
      "10:\tlearn: 0.2745828\ttotal: 515ms\tremaining: 1.08s\n",
      "11:\tlearn: 0.2660866\ttotal: 549ms\tremaining: 1s\n",
      "12:\tlearn: 0.2603827\ttotal: 595ms\tremaining: 961ms\n",
      "13:\tlearn: 0.2548025\ttotal: 630ms\tremaining: 900ms\n",
      "14:\tlearn: 0.2501947\ttotal: 661ms\tremaining: 838ms\n",
      "15:\tlearn: 0.2459734\ttotal: 694ms\tremaining: 781ms\n",
      "16:\tlearn: 0.2429088\ttotal: 733ms\tremaining: 733ms\n",
      "17:\tlearn: 0.2398237\ttotal: 767ms\tremaining: 682ms\n",
      "18:\tlearn: 0.2373269\ttotal: 798ms\tremaining: 630ms\n",
      "19:\tlearn: 0.2344099\ttotal: 832ms\tremaining: 582ms\n",
      "20:\tlearn: 0.2319902\ttotal: 865ms\tremaining: 535ms\n",
      "21:\tlearn: 0.2296740\ttotal: 897ms\tremaining: 489ms\n",
      "22:\tlearn: 0.2274597\ttotal: 930ms\tremaining: 445ms\n",
      "23:\tlearn: 0.2252318\ttotal: 966ms\tremaining: 403ms\n",
      "24:\tlearn: 0.2234480\ttotal: 1s\tremaining: 361ms\n",
      "25:\tlearn: 0.2222375\ttotal: 1.03s\tremaining: 319ms\n",
      "26:\tlearn: 0.2204579\ttotal: 1.07s\tremaining: 277ms\n",
      "27:\tlearn: 0.2188775\ttotal: 1.1s\tremaining: 237ms\n",
      "28:\tlearn: 0.2175469\ttotal: 1.14s\tremaining: 197ms\n",
      "29:\tlearn: 0.2161258\ttotal: 1.17s\tremaining: 156ms\n",
      "30:\tlearn: 0.2152730\ttotal: 1.2s\tremaining: 117ms\n",
      "31:\tlearn: 0.2137984\ttotal: 1.24s\tremaining: 77.5ms\n",
      "32:\tlearn: 0.2125286\ttotal: 1.27s\tremaining: 38.6ms\n",
      "33:\tlearn: 0.2111729\ttotal: 1.31s\tremaining: 0us\n",
      "0:\tlearn: 0.5939970\ttotal: 62.2ms\tremaining: 2.05s\n",
      "1:\tlearn: 0.5152906\ttotal: 126ms\tremaining: 2.02s\n",
      "2:\tlearn: 0.4595225\ttotal: 181ms\tremaining: 1.87s\n",
      "3:\tlearn: 0.4167366\ttotal: 235ms\tremaining: 1.77s\n",
      "4:\tlearn: 0.3786817\ttotal: 279ms\tremaining: 1.62s\n",
      "5:\tlearn: 0.3505133\ttotal: 316ms\tremaining: 1.48s\n",
      "6:\tlearn: 0.3289196\ttotal: 352ms\tremaining: 1.36s\n",
      "7:\tlearn: 0.3113480\ttotal: 389ms\tremaining: 1.26s\n",
      "8:\tlearn: 0.2973400\ttotal: 426ms\tremaining: 1.18s\n",
      "9:\tlearn: 0.2849868\ttotal: 460ms\tremaining: 1.1s\n",
      "10:\tlearn: 0.2756938\ttotal: 497ms\tremaining: 1.04s\n",
      "11:\tlearn: 0.2678118\ttotal: 532ms\tremaining: 976ms\n",
      "12:\tlearn: 0.2618869\ttotal: 564ms\tremaining: 911ms\n",
      "13:\tlearn: 0.2569199\ttotal: 596ms\tremaining: 852ms\n",
      "14:\tlearn: 0.2523574\ttotal: 629ms\tremaining: 796ms\n",
      "15:\tlearn: 0.2483321\ttotal: 661ms\tremaining: 743ms\n",
      "16:\tlearn: 0.2449588\ttotal: 693ms\tremaining: 693ms\n",
      "17:\tlearn: 0.2416417\ttotal: 728ms\tremaining: 647ms\n",
      "18:\tlearn: 0.2392245\ttotal: 761ms\tremaining: 601ms\n",
      "19:\tlearn: 0.2365979\ttotal: 791ms\tremaining: 554ms\n",
      "20:\tlearn: 0.2338262\ttotal: 825ms\tremaining: 510ms\n",
      "21:\tlearn: 0.2319023\ttotal: 856ms\tremaining: 467ms\n",
      "22:\tlearn: 0.2301188\ttotal: 889ms\tremaining: 425ms\n",
      "23:\tlearn: 0.2284644\ttotal: 927ms\tremaining: 386ms\n",
      "24:\tlearn: 0.2268975\ttotal: 958ms\tremaining: 345ms\n",
      "25:\tlearn: 0.2246578\ttotal: 997ms\tremaining: 307ms\n",
      "26:\tlearn: 0.2228273\ttotal: 1.03s\tremaining: 267ms\n",
      "27:\tlearn: 0.2215261\ttotal: 1.07s\tremaining: 230ms\n",
      "28:\tlearn: 0.2199465\ttotal: 1.11s\tremaining: 191ms\n",
      "29:\tlearn: 0.2184788\ttotal: 1.14s\tremaining: 152ms\n",
      "30:\tlearn: 0.2175538\ttotal: 1.17s\tremaining: 113ms\n",
      "31:\tlearn: 0.2165665\ttotal: 1.2s\tremaining: 75.3ms\n",
      "32:\tlearn: 0.2154476\ttotal: 1.24s\tremaining: 37.5ms\n",
      "33:\tlearn: 0.2145509\ttotal: 1.27s\tremaining: 0us\n",
      "0:\tlearn: 0.5942048\ttotal: 60.4ms\tremaining: 1.99s\n",
      "1:\tlearn: 0.5165619\ttotal: 127ms\tremaining: 2.04s\n",
      "2:\tlearn: 0.4604623\ttotal: 187ms\tremaining: 1.93s\n",
      "3:\tlearn: 0.4153060\ttotal: 243ms\tremaining: 1.82s\n",
      "4:\tlearn: 0.3788515\ttotal: 291ms\tremaining: 1.69s\n",
      "5:\tlearn: 0.3496576\ttotal: 327ms\tremaining: 1.53s\n",
      "6:\tlearn: 0.3284486\ttotal: 362ms\tremaining: 1.4s\n",
      "7:\tlearn: 0.3104171\ttotal: 402ms\tremaining: 1.3s\n",
      "8:\tlearn: 0.2968677\ttotal: 436ms\tremaining: 1.21s\n",
      "9:\tlearn: 0.2839386\ttotal: 475ms\tremaining: 1.14s\n",
      "10:\tlearn: 0.2735673\ttotal: 515ms\tremaining: 1.08s\n",
      "11:\tlearn: 0.2655875\ttotal: 548ms\tremaining: 1s\n",
      "12:\tlearn: 0.2593337\ttotal: 580ms\tremaining: 937ms\n",
      "13:\tlearn: 0.2542835\ttotal: 614ms\tremaining: 876ms\n",
      "14:\tlearn: 0.2498389\ttotal: 645ms\tremaining: 817ms\n",
      "15:\tlearn: 0.2457924\ttotal: 678ms\tremaining: 762ms\n",
      "16:\tlearn: 0.2424128\ttotal: 711ms\tremaining: 711ms\n",
      "17:\tlearn: 0.2394420\ttotal: 745ms\tremaining: 662ms\n",
      "18:\tlearn: 0.2370478\ttotal: 777ms\tremaining: 614ms\n",
      "19:\tlearn: 0.2348111\ttotal: 809ms\tremaining: 567ms\n",
      "20:\tlearn: 0.2324588\ttotal: 842ms\tremaining: 521ms\n",
      "21:\tlearn: 0.2301796\ttotal: 888ms\tremaining: 484ms\n",
      "22:\tlearn: 0.2283323\ttotal: 920ms\tremaining: 440ms\n",
      "23:\tlearn: 0.2268980\ttotal: 958ms\tremaining: 399ms\n",
      "24:\tlearn: 0.2253708\ttotal: 989ms\tremaining: 356ms\n",
      "25:\tlearn: 0.2233630\ttotal: 1.02s\tremaining: 315ms\n",
      "26:\tlearn: 0.2219975\ttotal: 1.05s\tremaining: 274ms\n",
      "27:\tlearn: 0.2204552\ttotal: 1.09s\tremaining: 233ms\n",
      "28:\tlearn: 0.2192224\ttotal: 1.12s\tremaining: 193ms\n",
      "29:\tlearn: 0.2175121\ttotal: 1.15s\tremaining: 154ms\n",
      "30:\tlearn: 0.2165060\ttotal: 1.18s\tremaining: 115ms\n",
      "31:\tlearn: 0.2153320\ttotal: 1.22s\tremaining: 76.2ms\n",
      "32:\tlearn: 0.2143900\ttotal: 1.25s\tremaining: 37.9ms\n",
      "33:\tlearn: 0.2129797\ttotal: 1.28s\tremaining: 0us\n",
      "0:\tlearn: 0.5940724\ttotal: 71.1ms\tremaining: 2.35s\n",
      "1:\tlearn: 0.5160710\ttotal: 148ms\tremaining: 2.37s\n",
      "2:\tlearn: 0.4580305\ttotal: 196ms\tremaining: 2.02s\n",
      "3:\tlearn: 0.4132781\ttotal: 244ms\tremaining: 1.83s\n",
      "4:\tlearn: 0.3756424\ttotal: 312ms\tremaining: 1.81s\n",
      "5:\tlearn: 0.3474007\ttotal: 362ms\tremaining: 1.69s\n",
      "6:\tlearn: 0.3266645\ttotal: 402ms\tremaining: 1.55s\n",
      "7:\tlearn: 0.3090222\ttotal: 446ms\tremaining: 1.45s\n",
      "8:\tlearn: 0.2958104\ttotal: 485ms\tremaining: 1.35s\n",
      "9:\tlearn: 0.2832809\ttotal: 530ms\tremaining: 1.27s\n",
      "10:\tlearn: 0.2731842\ttotal: 573ms\tremaining: 1.2s\n",
      "11:\tlearn: 0.2656868\ttotal: 614ms\tremaining: 1.13s\n",
      "12:\tlearn: 0.2599282\ttotal: 655ms\tremaining: 1.06s\n",
      "13:\tlearn: 0.2547691\ttotal: 694ms\tremaining: 991ms\n",
      "14:\tlearn: 0.2506265\ttotal: 736ms\tremaining: 933ms\n",
      "15:\tlearn: 0.2466365\ttotal: 776ms\tremaining: 873ms\n",
      "16:\tlearn: 0.2424779\ttotal: 817ms\tremaining: 817ms\n",
      "17:\tlearn: 0.2395146\ttotal: 854ms\tremaining: 759ms\n",
      "18:\tlearn: 0.2371306\ttotal: 892ms\tremaining: 704ms\n",
      "19:\tlearn: 0.2349159\ttotal: 929ms\tremaining: 650ms\n",
      "20:\tlearn: 0.2325915\ttotal: 967ms\tremaining: 599ms\n",
      "21:\tlearn: 0.2296176\ttotal: 1.01s\tremaining: 550ms\n",
      "22:\tlearn: 0.2278209\ttotal: 1.06s\tremaining: 505ms\n",
      "23:\tlearn: 0.2259685\ttotal: 1.09s\tremaining: 456ms\n",
      "24:\tlearn: 0.2241664\ttotal: 1.13s\tremaining: 408ms\n",
      "25:\tlearn: 0.2223849\ttotal: 1.17s\tremaining: 361ms\n",
      "26:\tlearn: 0.2209408\ttotal: 1.21s\tremaining: 314ms\n",
      "27:\tlearn: 0.2194201\ttotal: 1.25s\tremaining: 268ms\n",
      "28:\tlearn: 0.2182382\ttotal: 1.3s\tremaining: 225ms\n",
      "29:\tlearn: 0.2165380\ttotal: 1.34s\tremaining: 179ms\n",
      "30:\tlearn: 0.2152325\ttotal: 1.39s\tremaining: 134ms\n",
      "31:\tlearn: 0.2140176\ttotal: 1.43s\tremaining: 89.2ms\n",
      "32:\tlearn: 0.2129862\ttotal: 1.46s\tremaining: 44.4ms\n",
      "33:\tlearn: 0.2114422\ttotal: 1.51s\tremaining: 0us\n",
      "Параметры модели градиентного бустинга для обучения и f1_score : ({'learning_rate': 0.1, 'max_depth': 5, 'n_estimators': 34, 'random_state': 12345}, 0.5253530861471102)\n"
     ]
    }
   ],
   "source": [
    "print(\"Параметры модели градиентного бустинга для обучения и f1_score :\", select_params_boost(x_train, y_train))"
   ]
  },
  {
   "cell_type": "code",
   "execution_count": null,
   "id": "SOJFsKOKfDwQ",
   "metadata": {
    "colab": {
     "base_uri": "https://localhost:8080/"
    },
    "id": "SOJFsKOKfDwQ",
    "outputId": "4e4872c7-5159-4742-b6b5-94fa62486b84"
   },
   "outputs": [
    {
     "name": "stdout",
     "output_type": "stream",
     "text": [
      "Процент объектов положительного класса: 10.2\n",
      "Процент объектов отрицательного класса: 89.8\n"
     ]
    }
   ],
   "source": [
    "print(\"Процент объектов положительного класса:\", round((len(y_train[y_train==1]) / len(y_train)) * 100, 1))\n",
    "print(\"Процент объектов отрицательного класса:\", round((len(y_train[y_train==0]) / len(y_train)) * 100, 1))"
   ]
  },
  {
   "cell_type": "code",
   "execution_count": null,
   "id": "7hxddN_PMQM9",
   "metadata": {
    "id": "7hxddN_PMQM9"
   },
   "outputs": [],
   "source": [
    "#Модель градиентного бустинга с подобранными параметрами, с учетом дисбаланса проставим коэффициенты для параметра class_weigths (выборка из 10000 объектов)\n",
    "model_boost = CatBoostClassifier(random_state=random_state, n_estimators=36, learning_rate=0.1, max_depth=5, class_weights=[0.9, 0.1], task_type='GPU')"
   ]
  },
  {
   "cell_type": "code",
   "execution_count": null,
   "id": "ffb98dab",
   "metadata": {
    "id": "ffb98dab"
   },
   "outputs": [],
   "source": [
    "#Напишем функцию для подбора параметров модели логистической регрессии\n",
    "def select_params_regression(x, y):\n",
    "    model = LogisticRegression()\n",
    "    parameters = {\n",
    "        'random_state': [random_state],\n",
    "        'penalty': ['l1', 'l2'],\n",
    "        'C': [randint(1,50)]\n",
    "    }\n",
    "    grid = GridSearchCV(model, parameters, verbose=False, scoring='f1')\n",
    "    grid.fit(x, y)\n",
    "    return grid.best_params_, grid.best_score_\n",
    "warnings.filterwarnings('ignore') "
   ]
  },
  {
   "cell_type": "code",
   "execution_count": null,
   "id": "eJWtQsoM6asZ",
   "metadata": {
    "colab": {
     "base_uri": "https://localhost:8080/"
    },
    "id": "eJWtQsoM6asZ",
    "outputId": "58bbd970-8b1a-434a-c00c-018ae3742811"
   },
   "outputs": [
    {
     "name": "stdout",
     "output_type": "stream",
     "text": [
      "Параметры модели логистической регрессии и f1: ({'C': 23, 'penalty': 'l2', 'random_state': 12345}, 0.7347393328268119)\n"
     ]
    }
   ],
   "source": [
    "print(\"Параметры модели логистической регрессии и f1:\", select_params_regression(x_train, y_train))"
   ]
  },
  {
   "cell_type": "code",
   "execution_count": null,
   "id": "3I-EJB5z6GrK",
   "metadata": {
    "id": "3I-EJB5z6GrK"
   },
   "outputs": [],
   "source": [
    "#Модель логистической регрессии с подобранными параметрами и сбалансированными классами\n",
    "model_regression = LogisticRegression(random_state=random_state, penalty='l2', C=9, class_weight='balanced')"
   ]
  },
  {
   "cell_type": "code",
   "execution_count": null,
   "id": "ca8764f9",
   "metadata": {
    "id": "ca8764f9"
   },
   "outputs": [],
   "source": [
    "#Напишем функцию для подбора параметров модели случайного леса\n",
    "def select_params_random_forest(x, y):\n",
    "    model = RandomForestClassifier()\n",
    "    parameters = {\n",
    "        'random_state': [random_state],\n",
    "        'max_depth': [randint(1,16)],\n",
    "        'n_estimators': [randint(1,100)]\n",
    "    }\n",
    "    grid = GridSearchCV(model, parameters, verbose=False, scoring='f1')\n",
    "    grid.fit(x, y)\n",
    "    return grid.best_params_, grid.best_score_"
   ]
  },
  {
   "cell_type": "code",
   "execution_count": null,
   "id": "C8oQhdb_8ghR",
   "metadata": {
    "colab": {
     "base_uri": "https://localhost:8080/"
    },
    "id": "C8oQhdb_8ghR",
    "outputId": "01bfafa0-7b32-4f39-d254-6acda7c13a09"
   },
   "outputs": [
    {
     "name": "stdout",
     "output_type": "stream",
     "text": [
      "Параметры модели случайного леса для обучения и f1_score: ({'max_depth': 1, 'n_estimators': 86, 'random_state': 12345}, 0.0)\n"
     ]
    }
   ],
   "source": [
    "print(\"Параметры модели случайного леса для обучения и f1_score:\", select_params_random_forest(x_train, y_train))"
   ]
  },
  {
   "cell_type": "code",
   "execution_count": null,
   "id": "37l6Bo5F7hFQ",
   "metadata": {
    "id": "37l6Bo5F7hFQ"
   },
   "outputs": [],
   "source": [
    "model_forest = RandomForestClassifier(random_state=random_state, max_depth=4, n_estimators=31, class_weight='balanced')"
   ]
  },
  {
   "cell_type": "markdown",
   "id": "3e9a6003",
   "metadata": {
    "id": "3e9a6003"
   },
   "source": [
    "<div class=\"alert alert-block alert-info\">\n",
    "Таким образом, для предсказания негативных и позитивных комментариев берем модель логистической регрессии, так как по gridsearch метрика f1 показала наилучшее качество."
   ]
  },
  {
   "cell_type": "markdown",
   "id": "795625ac",
   "metadata": {
    "id": "795625ac"
   },
   "source": [
    "### Проверка на тестовой выборке, выводы "
   ]
  },
  {
   "cell_type": "code",
   "execution_count": null,
   "id": "d4a2810f",
   "metadata": {
    "colab": {
     "base_uri": "https://localhost:8080/"
    },
    "id": "d4a2810f",
    "outputId": "e5267601-7df7-496b-caf3-dedcc49c33b6"
   },
   "outputs": [
    {
     "name": "stdout",
     "output_type": "stream",
     "text": [
      "f1: 0.7510580992689495\n"
     ]
    }
   ],
   "source": [
    "model_regression.fit(x_train, y_train)\n",
    "predictions = model_regression.predict(x_test)\n",
    "print(\"f1:\", f1_score(y_test, predictions))"
   ]
  },
  {
   "cell_type": "markdown",
   "id": "e3042bf5",
   "metadata": {
    "id": "e3042bf5"
   },
   "source": [
    "<div class=\"alert alert-block alert-info\">\n",
    "\n",
    "**Вывод:** для предсказания токсичности комментариев, исходные данные были преобразованы, текст разбит на токены, а также лемматизирован и очищен от ненужных символов. Тексты были преобразованы в вектора при помощи TfIdfVectorizer.\n",
    "Было обучено 3 вида моделей: модель градиентного бустинга, логистическая регрессия, случайный лес. Лучшее качество по метрике f1 показала модель логистической регрессии. Она и была использована с подобранными параметрами на тестовой выборке. Значение метрики f1 на тестовой выборке-0,75. Данная модель предлагается заказчику для предсказания."
   ]
  },
  {
   "cell_type": "markdown",
   "id": "B-X7i9N41Dv4",
   "metadata": {
    "id": "B-X7i9N41Dv4"
   },
   "source": [
    "## BERT"
   ]
  },
  {
   "cell_type": "markdown",
   "id": "5ZL7q4da9vZl",
   "metadata": {
    "id": "5ZL7q4da9vZl"
   },
   "source": [
    "###Подготовка данных"
   ]
  },
  {
   "cell_type": "code",
   "execution_count": null,
   "id": "BUf3ronQf7G0",
   "metadata": {
    "colab": {
     "base_uri": "https://localhost:8080/"
    },
    "id": "BUf3ronQf7G0",
    "outputId": "4691d727-1ec6-4f26-b345-58ca6d7d0250"
   },
   "outputs": [
    {
     "name": "stdout",
     "output_type": "stream",
     "text": [
      "Looking in indexes: https://pypi.org/simple, https://us-python.pkg.dev/colab-wheels/public/simple/\n",
      "Requirement already satisfied: transformers in /usr/local/lib/python3.7/dist-packages (4.20.1)\n",
      "Requirement already satisfied: filelock in /usr/local/lib/python3.7/dist-packages (from transformers) (3.7.1)\n",
      "Requirement already satisfied: huggingface-hub<1.0,>=0.1.0 in /usr/local/lib/python3.7/dist-packages (from transformers) (0.8.1)\n",
      "Requirement already satisfied: tqdm>=4.27 in /usr/local/lib/python3.7/dist-packages (from transformers) (4.64.0)\n",
      "Requirement already satisfied: numpy>=1.17 in /usr/local/lib/python3.7/dist-packages (from transformers) (1.21.6)\n",
      "Requirement already satisfied: pyyaml>=5.1 in /usr/local/lib/python3.7/dist-packages (from transformers) (6.0)\n",
      "Requirement already satisfied: importlib-metadata in /usr/local/lib/python3.7/dist-packages (from transformers) (4.12.0)\n",
      "Requirement already satisfied: tokenizers!=0.11.3,<0.13,>=0.11.1 in /usr/local/lib/python3.7/dist-packages (from transformers) (0.12.1)\n",
      "Requirement already satisfied: regex!=2019.12.17 in /usr/local/lib/python3.7/dist-packages (from transformers) (2022.6.2)\n",
      "Requirement already satisfied: requests in /usr/local/lib/python3.7/dist-packages (from transformers) (2.23.0)\n",
      "Requirement already satisfied: packaging>=20.0 in /usr/local/lib/python3.7/dist-packages (from transformers) (21.3)\n",
      "Requirement already satisfied: typing-extensions>=3.7.4.3 in /usr/local/lib/python3.7/dist-packages (from huggingface-hub<1.0,>=0.1.0->transformers) (4.1.1)\n",
      "Requirement already satisfied: pyparsing!=3.0.5,>=2.0.2 in /usr/local/lib/python3.7/dist-packages (from packaging>=20.0->transformers) (3.0.9)\n",
      "Requirement already satisfied: zipp>=0.5 in /usr/local/lib/python3.7/dist-packages (from importlib-metadata->transformers) (3.8.1)\n",
      "Requirement already satisfied: chardet<4,>=3.0.2 in /usr/local/lib/python3.7/dist-packages (from requests->transformers) (3.0.4)\n",
      "Requirement already satisfied: urllib3!=1.25.0,!=1.25.1,<1.26,>=1.21.1 in /usr/local/lib/python3.7/dist-packages (from requests->transformers) (1.24.3)\n",
      "Requirement already satisfied: idna<3,>=2.5 in /usr/local/lib/python3.7/dist-packages (from requests->transformers) (2.10)\n",
      "Requirement already satisfied: certifi>=2017.4.17 in /usr/local/lib/python3.7/dist-packages (from requests->transformers) (2022.6.15)\n"
     ]
    }
   ],
   "source": [
    "!pip install transformers"
   ]
  },
  {
   "cell_type": "code",
   "execution_count": null,
   "id": "e09b0118",
   "metadata": {
    "id": "e09b0118"
   },
   "outputs": [],
   "source": [
    "import torch\n",
    "import transformers\n",
    "from tqdm import notebook"
   ]
  },
  {
   "cell_type": "code",
   "execution_count": null,
   "id": "5E2PRJIyzh8N",
   "metadata": {
    "colab": {
     "base_uri": "https://localhost:8080/"
    },
    "id": "5E2PRJIyzh8N",
    "outputId": "36a17957-4d67-46a6-ef2d-c2272ad5ae3b"
   },
   "outputs": [
    {
     "name": "stderr",
     "output_type": "stream",
     "text": [
      "Some weights of the model checkpoint at unitary/toxic-bert were not used when initializing BertModel: ['classifier.bias', 'classifier.weight']\n",
      "- This IS expected if you are initializing BertModel from the checkpoint of a model trained on another task or with another architecture (e.g. initializing a BertForSequenceClassification model from a BertForPreTraining model).\n",
      "- This IS NOT expected if you are initializing BertModel from the checkpoint of a model that you expect to be exactly identical (initializing a BertForSequenceClassification model from a BertForSequenceClassification model).\n"
     ]
    }
   ],
   "source": [
    "# инициализируем модель и токенизатор\n",
    "model_name = \"unitary/toxic-bert\" \n",
    "model = transformers.AutoModel.from_pretrained(model_name)\n",
    "tokenizer = transformers.BertTokenizer.from_pretrained(model_name)"
   ]
  },
  {
   "cell_type": "code",
   "execution_count": null,
   "id": "o5aMdDb8jlHk",
   "metadata": {
    "id": "o5aMdDb8jlHk"
   },
   "outputs": [],
   "source": [
    "# инициализируем токенизатор\n",
    "tokenizer = transformers.BertTokenizer.from_pretrained(\"unitary/toxic-bert\")"
   ]
  },
  {
   "cell_type": "code",
   "execution_count": null,
   "id": "NNA7Ka6zshRl",
   "metadata": {
    "colab": {
     "base_uri": "https://localhost:8080/"
    },
    "id": "NNA7Ka6zshRl",
    "outputId": "0cf2e839-ed79-4162-9062-45d4f3124ab1"
   },
   "outputs": [
    {
     "name": "stderr",
     "output_type": "stream",
     "text": [
      "100%|██████████| 50000/50000 [01:44<00:00, 479.93it/s]\n"
     ]
    }
   ],
   "source": [
    "tqdm.pandas()\n",
    "\n",
    "tokenized = df_comments['text'].progress_apply(\n",
    "lambda x: tokenizer.encode(x, max_length=512, truncation=True, add_special_tokens=True)) #обрежет под нужное кол-во\n",
    "\n",
    "padded = pad_sequence([torch.as_tensor(seq) for seq in tokenized], batch_first=True) #добьет нулями  \n",
    "\n",
    "attention_mask = padded > 0\n",
    "attention_mask = attention_mask.type(torch.int) #Тут можно сделать, то как было в теории"
   ]
  },
  {
   "cell_type": "code",
   "execution_count": null,
   "id": "xCZvcFC6EswS",
   "metadata": {
    "id": "xCZvcFC6EswS"
   },
   "outputs": [],
   "source": [
    "input_ids = np.asarray(padded)\n",
    "attention_mask = np.asarray(attention_mask)"
   ]
  },
  {
   "cell_type": "code",
   "execution_count": null,
   "id": "PKOpkuXQNfel",
   "metadata": {
    "colab": {
     "base_uri": "https://localhost:8080/",
     "height": 84,
     "referenced_widgets": [
      "583aa395c13a46a8b6621d720b84c3f5",
      "b58dae0c5bb242558d12931c01f13366",
      "c0f4e4a445804fe5a9351d39ecbc9b2f",
      "d8fcf89c6fd54ca8afe7799c92b7f061",
      "9bb2c667a2fc4906a324406f38b6e988",
      "53baff5aad18433ca363a625f63766bd",
      "d1116c0492194585b2d6137b8c3760b5",
      "8c06756270a543279eca566cd0976eb9",
      "57a849ed0c9345bca46428881fb0952e",
      "2b56d0ecf81e49c6a29adb78b4a72bfd",
      "3b394594949f4b85b5d602a193034d1f"
     ]
    },
    "id": "PKOpkuXQNfel",
    "outputId": "0fb27a13-93f4-43a4-a36c-a9ec6a00695e"
   },
   "outputs": [
    {
     "data": {
      "application/vnd.jupyter.widget-view+json": {
       "model_id": "583aa395c13a46a8b6621d720b84c3f5",
       "version_major": 2,
       "version_minor": 0
      },
      "text/plain": [
       "  0%|          | 0/25000 [00:00<?, ?it/s]"
      ]
     },
     "metadata": {},
     "output_type": "display_data"
    },
    {
     "name": "stdout",
     "output_type": "stream",
     "text": [
      "CPU times: user 33min 35s, sys: 12.3 s, total: 33min 47s\n",
      "Wall time: 33min 50s\n"
     ]
    }
   ],
   "source": [
    "%%time\n",
    "from tqdm import notebook\n",
    "batch_size = 2 # для примера возьмем такой батч, где будет всего две строки датасета\n",
    "embeddings = [] \n",
    "for i in notebook.tqdm(range(input_ids.shape[0] // batch_size)):\n",
    "        batch = torch.LongTensor(input_ids[batch_size*i:batch_size*(i+1)]).cuda() # закидываем тензор на GPU\n",
    "        attention_mask_batch = torch.LongTensor(attention_mask[batch_size*i:batch_size*(i+1)]).cuda()\n",
    "\n",
    "        with torch.no_grad():\n",
    "            model.cuda()\n",
    "            batch_embeddings = model(batch, attention_mask=attention_mask_batch)\n",
    "\n",
    "        embeddings.append(batch_embeddings[0][:,0,:].cpu().numpy()) # перевод обратно на проц, чтобы в нумпай кинуть\n",
    "        del batch\n",
    "        del attention_mask_batch\n",
    "        del batch_embeddings\n",
    "\n",
    "features = np.concatenate(embeddings) "
   ]
  },
  {
   "cell_type": "code",
   "execution_count": null,
   "id": "2FbITDxhO7O3",
   "metadata": {
    "id": "2FbITDxhO7O3"
   },
   "outputs": [],
   "source": [
    "features = pd.DataFrame(features)"
   ]
  },
  {
   "cell_type": "markdown",
   "id": "YxtkG0EKb6sE",
   "metadata": {
    "id": "YxtkG0EKb6sE"
   },
   "source": [
    "###Обучение моделей"
   ]
  },
  {
   "cell_type": "code",
   "execution_count": null,
   "id": "cReMJPktwILZ",
   "metadata": {
    "id": "cReMJPktwILZ"
   },
   "outputs": [],
   "source": [
    "#Разделим новые признаки на обучающую и тестовую выборку\n",
    "x_train, x_test, y_train, y_test = train_test_split(features, target, test_size=0.25, random_state=random_state)"
   ]
  },
  {
   "cell_type": "code",
   "execution_count": null,
   "id": "xZdLLi6QcG-k",
   "metadata": {
    "colab": {
     "base_uri": "https://localhost:8080/"
    },
    "id": "xZdLLi6QcG-k",
    "outputId": "441056cb-bc1b-4ea3-8999-9d986e8f851d"
   },
   "outputs": [
    {
     "name": "stdout",
     "output_type": "stream",
     "text": [
      "0:\tlearn: 0.6150859\ttotal: 12.5ms\tremaining: 87.7ms\n",
      "1:\tlearn: 0.5520915\ttotal: 23.3ms\tremaining: 69.9ms\n",
      "2:\tlearn: 0.4995922\ttotal: 34.1ms\tremaining: 56.9ms\n",
      "3:\tlearn: 0.4522405\ttotal: 44.8ms\tremaining: 44.8ms\n",
      "4:\tlearn: 0.4121513\ttotal: 55.8ms\tremaining: 33.5ms\n",
      "5:\tlearn: 0.3716802\ttotal: 66.6ms\tremaining: 22.2ms\n",
      "6:\tlearn: 0.3338902\ttotal: 77.5ms\tremaining: 11.1ms\n",
      "7:\tlearn: 0.3047810\ttotal: 89ms\tremaining: 0us\n",
      "0:\tlearn: 0.6223605\ttotal: 11.9ms\tremaining: 83.5ms\n",
      "1:\tlearn: 0.5588874\ttotal: 23.1ms\tremaining: 69.2ms\n",
      "2:\tlearn: 0.4923338\ttotal: 34ms\tremaining: 56.6ms\n",
      "3:\tlearn: 0.4436842\ttotal: 44.9ms\tremaining: 44.9ms\n",
      "4:\tlearn: 0.3961308\ttotal: 56.4ms\tremaining: 33.8ms\n",
      "5:\tlearn: 0.3574005\ttotal: 67.2ms\tremaining: 22.4ms\n",
      "6:\tlearn: 0.3248592\ttotal: 78.2ms\tremaining: 11.2ms\n",
      "7:\tlearn: 0.2956247\ttotal: 95.3ms\tremaining: 0us\n",
      "0:\tlearn: 0.6177136\ttotal: 12.3ms\tremaining: 86.3ms\n",
      "1:\tlearn: 0.5568744\ttotal: 23.1ms\tremaining: 69.2ms\n",
      "2:\tlearn: 0.4996050\ttotal: 33.8ms\tremaining: 56.4ms\n",
      "3:\tlearn: 0.4548749\ttotal: 44.7ms\tremaining: 44.7ms\n",
      "4:\tlearn: 0.4055511\ttotal: 56.2ms\tremaining: 33.7ms\n",
      "5:\tlearn: 0.3685930\ttotal: 67ms\tremaining: 22.3ms\n",
      "6:\tlearn: 0.3355786\ttotal: 78ms\tremaining: 11.1ms\n",
      "7:\tlearn: 0.3046684\ttotal: 88.9ms\tremaining: 0us\n",
      "0:\tlearn: 0.6225831\ttotal: 12.1ms\tremaining: 84.6ms\n",
      "1:\tlearn: 0.5536521\ttotal: 22.9ms\tremaining: 68.8ms\n",
      "2:\tlearn: 0.4965492\ttotal: 33.8ms\tremaining: 56.3ms\n",
      "3:\tlearn: 0.4531979\ttotal: 44.7ms\tremaining: 44.7ms\n",
      "4:\tlearn: 0.4012065\ttotal: 56.2ms\tremaining: 33.7ms\n",
      "5:\tlearn: 0.3654871\ttotal: 67.3ms\tremaining: 22.4ms\n",
      "6:\tlearn: 0.3331429\ttotal: 78.3ms\tremaining: 11.2ms\n",
      "7:\tlearn: 0.3023568\ttotal: 89ms\tremaining: 0us\n",
      "0:\tlearn: 0.6224396\ttotal: 12.8ms\tremaining: 89.4ms\n",
      "1:\tlearn: 0.5609893\ttotal: 24.3ms\tremaining: 72.8ms\n",
      "2:\tlearn: 0.5037746\ttotal: 35.4ms\tremaining: 59ms\n",
      "3:\tlearn: 0.4530804\ttotal: 46.6ms\tremaining: 46.6ms\n",
      "4:\tlearn: 0.4051657\ttotal: 58.3ms\tremaining: 35ms\n",
      "5:\tlearn: 0.3651766\ttotal: 69.4ms\tremaining: 23.1ms\n",
      "6:\tlearn: 0.3274537\ttotal: 80.5ms\tremaining: 11.5ms\n",
      "7:\tlearn: 0.2977927\ttotal: 92.1ms\tremaining: 0us\n",
      "0:\tlearn: 0.4612408\ttotal: 12.5ms\tremaining: 87.4ms\n",
      "1:\tlearn: 0.3290988\ttotal: 24.6ms\tremaining: 73.7ms\n",
      "2:\tlearn: 0.2410019\ttotal: 35.7ms\tremaining: 59.4ms\n",
      "3:\tlearn: 0.1892880\ttotal: 46.7ms\tremaining: 46.7ms\n",
      "4:\tlearn: 0.1527495\ttotal: 57.8ms\tremaining: 34.7ms\n",
      "5:\tlearn: 0.1192745\ttotal: 68.7ms\tremaining: 22.9ms\n",
      "6:\tlearn: 0.0974528\ttotal: 79.8ms\tremaining: 11.4ms\n",
      "7:\tlearn: 0.0854024\ttotal: 90.8ms\tremaining: 0us\n",
      "0:\tlearn: 0.4797226\ttotal: 12.3ms\tremaining: 86ms\n",
      "1:\tlearn: 0.3211935\ttotal: 23.7ms\tremaining: 71.2ms\n",
      "2:\tlearn: 0.2237718\ttotal: 35ms\tremaining: 58.3ms\n",
      "3:\tlearn: 0.1760757\ttotal: 46.3ms\tremaining: 46.3ms\n",
      "4:\tlearn: 0.1383147\ttotal: 58.4ms\tremaining: 35ms\n",
      "5:\tlearn: 0.1191965\ttotal: 69.8ms\tremaining: 23.3ms\n",
      "6:\tlearn: 0.1011421\ttotal: 81.5ms\tremaining: 11.6ms\n",
      "7:\tlearn: 0.0899378\ttotal: 93ms\tremaining: 0us\n",
      "0:\tlearn: 0.4684116\ttotal: 20.2ms\tremaining: 141ms\n",
      "1:\tlearn: 0.3353000\ttotal: 34.2ms\tremaining: 103ms\n",
      "2:\tlearn: 0.2340258\ttotal: 45.2ms\tremaining: 75.3ms\n",
      "3:\tlearn: 0.1796784\ttotal: 56ms\tremaining: 56ms\n",
      "4:\tlearn: 0.1413230\ttotal: 67.2ms\tremaining: 40.3ms\n",
      "5:\tlearn: 0.1202473\ttotal: 78.5ms\tremaining: 26.2ms\n",
      "6:\tlearn: 0.0989510\ttotal: 89.3ms\tremaining: 12.8ms\n",
      "7:\tlearn: 0.0855585\ttotal: 100ms\tremaining: 0us\n",
      "0:\tlearn: 0.4803347\ttotal: 17ms\tremaining: 119ms\n",
      "1:\tlearn: 0.3404924\ttotal: 28.2ms\tremaining: 84.6ms\n",
      "2:\tlearn: 0.2468707\ttotal: 39.3ms\tremaining: 65.6ms\n",
      "3:\tlearn: 0.1944216\ttotal: 50.2ms\tremaining: 50.2ms\n",
      "4:\tlearn: 0.1536186\ttotal: 61.2ms\tremaining: 36.7ms\n",
      "5:\tlearn: 0.1267724\ttotal: 72.3ms\tremaining: 24.1ms\n",
      "6:\tlearn: 0.1056741\ttotal: 83.8ms\tremaining: 12ms\n",
      "7:\tlearn: 0.0903986\ttotal: 94.7ms\tremaining: 0us\n",
      "0:\tlearn: 0.4801469\ttotal: 12.6ms\tremaining: 88ms\n",
      "1:\tlearn: 0.3425033\ttotal: 24.1ms\tremaining: 72.2ms\n",
      "2:\tlearn: 0.2461916\ttotal: 35.2ms\tremaining: 58.7ms\n",
      "3:\tlearn: 0.1906612\ttotal: 46.7ms\tremaining: 46.7ms\n",
      "4:\tlearn: 0.1494781\ttotal: 57.6ms\tremaining: 34.5ms\n",
      "5:\tlearn: 0.1233464\ttotal: 68.6ms\tremaining: 22.9ms\n",
      "6:\tlearn: 0.1023613\ttotal: 79.7ms\tremaining: 11.4ms\n",
      "7:\tlearn: 0.0875360\ttotal: 94.7ms\tremaining: 0us\n",
      "0:\tlearn: 0.6221065\ttotal: 12.9ms\tremaining: 90.4ms\n",
      "1:\tlearn: 0.5592810\ttotal: 24.4ms\tremaining: 73.2ms\n",
      "2:\tlearn: 0.5045530\ttotal: 36ms\tremaining: 60ms\n",
      "3:\tlearn: 0.4532522\ttotal: 47.5ms\tremaining: 47.5ms\n",
      "4:\tlearn: 0.4054118\ttotal: 59.8ms\tremaining: 35.9ms\n",
      "5:\tlearn: 0.3665653\ttotal: 71.2ms\tremaining: 23.7ms\n",
      "6:\tlearn: 0.3335139\ttotal: 82.7ms\tremaining: 11.8ms\n",
      "7:\tlearn: 0.3028186\ttotal: 94.4ms\tremaining: 0us\n",
      "Параметры модели градиентного бустинга и f1_score на новых данных: ({'learning_rate': 0.03, 'max_depth': 4, 'n_estimators': 8, 'random_state': 12345}, 0.9058873707984638)\n"
     ]
    }
   ],
   "source": [
    "#Подберем параметры для моделей градиентного бустинга, логистической регрессии и случайного леса на новых признаках (эмбедингах)\n",
    "print(\"Параметры модели градиентного бустинга и f1_score на новых данных:\", select_params_boost(x_train, y_train))"
   ]
  },
  {
   "cell_type": "code",
   "execution_count": null,
   "id": "s4f3dHdLwgvK",
   "metadata": {
    "colab": {
     "base_uri": "https://localhost:8080/"
    },
    "id": "s4f3dHdLwgvK",
    "outputId": "8031f309-8ed2-46c8-bd63-f6363c73a73c"
   },
   "outputs": [
    {
     "name": "stdout",
     "output_type": "stream",
     "text": [
      "Параметры модели логистической регрессии и f1_score на новых данных: ({'C': 47, 'penalty': 'l2', 'random_state': 12345}, 0.9040604634602477)\n"
     ]
    }
   ],
   "source": [
    "print(\"Параметры модели логистической регрессии и f1_score на новых данных:\", select_params_regression(x_train, y_train))"
   ]
  },
  {
   "cell_type": "code",
   "execution_count": null,
   "id": "KH4e0yigw0dI",
   "metadata": {
    "colab": {
     "base_uri": "https://localhost:8080/"
    },
    "id": "KH4e0yigw0dI",
    "outputId": "7b83acf5-74cd-4229-e729-aec0142505ea"
   },
   "outputs": [
    {
     "name": "stdout",
     "output_type": "stream",
     "text": [
      "Параметры модели случайного леса и f1_score на новых данных: ({'max_depth': 14, 'n_estimators': 43, 'random_state': 12345}, 0.9083006285369534)\n"
     ]
    }
   ],
   "source": [
    "print(\"Параметры модели случайного леса и f1_score на новых данных:\", select_params_random_forest(x_train, y_train))"
   ]
  },
  {
   "cell_type": "markdown",
   "id": "FV8T8k6W0qTA",
   "metadata": {
    "id": "FV8T8k6W0qTA"
   },
   "source": [
    "<div class=\"alert alert-block alert-info\">\n",
    "\n",
    "**Комментарий студента:**\n",
    "\n",
    "На новых признаках наилучшее качество модели по метрике f1 - модели градиентного бустинга, обе другие модели также показали высокое качество. Обучим эту модель с корректировкой дисбаланса классов и посчитаем качество на тестовой выборке."
   ]
  },
  {
   "cell_type": "code",
   "execution_count": null,
   "id": "vu7No2X01Sdp",
   "metadata": {
    "id": "vu7No2X01Sdp"
   },
   "outputs": [],
   "source": [
    "model = CatBoostClassifier(random_state=random_state, n_estimators=43, learning_rate=0.1, max_depth=1, class_weights=[0.9, 0.1], task_type='GPU')"
   ]
  },
  {
   "cell_type": "markdown",
   "id": "Fj9gBMtg1LXP",
   "metadata": {
    "id": "Fj9gBMtg1LXP"
   },
   "source": [
    "###Проверка на тестовой выборке"
   ]
  },
  {
   "cell_type": "code",
   "execution_count": null,
   "id": "mFqkp7zG1YbP",
   "metadata": {
    "colab": {
     "base_uri": "https://localhost:8080/"
    },
    "id": "mFqkp7zG1YbP",
    "outputId": "fbb9ea62-257e-4c7a-ba7f-73e7707e7daa"
   },
   "outputs": [
    {
     "name": "stdout",
     "output_type": "stream",
     "text": [
      "0:\tlearn: 0.4523223\ttotal: 7.63ms\tremaining: 320ms\n",
      "1:\tlearn: 0.3143743\ttotal: 14.1ms\tremaining: 289ms\n",
      "2:\tlearn: 0.2177078\ttotal: 20.5ms\tremaining: 273ms\n",
      "3:\tlearn: 0.1544075\ttotal: 26.8ms\tremaining: 261ms\n",
      "4:\tlearn: 0.1158064\ttotal: 34.7ms\tremaining: 263ms\n",
      "5:\tlearn: 0.0870922\ttotal: 41ms\tremaining: 253ms\n",
      "6:\tlearn: 0.0680943\ttotal: 47.5ms\tremaining: 244ms\n",
      "7:\tlearn: 0.0533028\ttotal: 53.9ms\tremaining: 236ms\n",
      "8:\tlearn: 0.0442986\ttotal: 60.5ms\tremaining: 229ms\n",
      "9:\tlearn: 0.0384534\ttotal: 67.1ms\tremaining: 221ms\n",
      "10:\tlearn: 0.0332024\ttotal: 73.5ms\tremaining: 214ms\n",
      "11:\tlearn: 0.0290424\ttotal: 80.1ms\tremaining: 207ms\n",
      "12:\tlearn: 0.0265057\ttotal: 86.6ms\tremaining: 200ms\n",
      "13:\tlearn: 0.0248466\ttotal: 93.1ms\tremaining: 193ms\n",
      "14:\tlearn: 0.0230831\ttotal: 99.5ms\tremaining: 186ms\n",
      "15:\tlearn: 0.0225214\ttotal: 106ms\tremaining: 179ms\n",
      "16:\tlearn: 0.0211152\ttotal: 112ms\tremaining: 172ms\n",
      "17:\tlearn: 0.0206994\ttotal: 119ms\tremaining: 165ms\n",
      "18:\tlearn: 0.0199890\ttotal: 126ms\tremaining: 159ms\n",
      "19:\tlearn: 0.0191818\ttotal: 132ms\tremaining: 152ms\n",
      "20:\tlearn: 0.0188307\ttotal: 139ms\tremaining: 146ms\n",
      "21:\tlearn: 0.0182968\ttotal: 146ms\tremaining: 139ms\n",
      "22:\tlearn: 0.0178804\ttotal: 153ms\tremaining: 133ms\n",
      "23:\tlearn: 0.0176650\ttotal: 163ms\tremaining: 129ms\n",
      "24:\tlearn: 0.0172086\ttotal: 169ms\tremaining: 122ms\n",
      "25:\tlearn: 0.0168595\ttotal: 176ms\tremaining: 115ms\n",
      "26:\tlearn: 0.0167713\ttotal: 183ms\tremaining: 108ms\n",
      "27:\tlearn: 0.0166584\ttotal: 189ms\tremaining: 101ms\n",
      "28:\tlearn: 0.0166480\ttotal: 196ms\tremaining: 94.5ms\n",
      "29:\tlearn: 0.0166475\ttotal: 206ms\tremaining: 89.3ms\n",
      "30:\tlearn: 0.0163893\ttotal: 212ms\tremaining: 82.2ms\n",
      "31:\tlearn: 0.0163222\ttotal: 219ms\tremaining: 75.2ms\n",
      "32:\tlearn: 0.0162697\ttotal: 225ms\tremaining: 68.3ms\n",
      "33:\tlearn: 0.0162679\ttotal: 232ms\tremaining: 61.3ms\n",
      "34:\tlearn: 0.0162355\ttotal: 238ms\tremaining: 54.4ms\n",
      "35:\tlearn: 0.0162131\ttotal: 244ms\tremaining: 47.5ms\n",
      "36:\tlearn: 0.0161328\ttotal: 250ms\tremaining: 40.6ms\n",
      "37:\tlearn: 0.0161253\ttotal: 256ms\tremaining: 33.7ms\n",
      "38:\tlearn: 0.0160883\ttotal: 262ms\tremaining: 26.8ms\n",
      "39:\tlearn: 0.0160486\ttotal: 267ms\tremaining: 20.1ms\n",
      "40:\tlearn: 0.0159323\ttotal: 273ms\tremaining: 13.3ms\n",
      "41:\tlearn: 0.0159226\ttotal: 279ms\tremaining: 6.64ms\n",
      "42:\tlearn: 0.0159192\ttotal: 285ms\tremaining: 0us\n",
      "f1_score модели логистической регрессии: 0.8396313364055299\n"
     ]
    }
   ],
   "source": [
    "model.fit(x_train, y_train)\n",
    "predictions = model.predict(x_test)\n",
    "print(\"f1_score модели логистической регрессии:\", f1_score(y_test, predictions))"
   ]
  },
  {
   "cell_type": "markdown",
   "id": "YEL-OG6veZvk",
   "metadata": {
    "id": "YEL-OG6veZvk"
   },
   "source": [
    "<div class=\"alert alert-block alert-info\">\n",
    "\n",
    "**Итоговый вывод:** Таким образом модель градиентного бустинга, обученная на данных, преобразованных моделью BERT, показала лучший результат по метрике f1, чем модель логистической регрессии, обученная на данных, преобразованных техникой TfIdf."
   ]
  }
 ],
 "metadata": {
  "ExecuteTimeLog": [
   {
    "duration": 1408,
    "start_time": "2022-07-22T07:28:30.959Z"
   },
   {
    "duration": 15,
    "start_time": "2022-07-22T07:28:55.919Z"
   }
  ],
  "accelerator": "GPU",
  "colab": {
   "collapsed_sections": [],
   "name": "Texts.ipynb",
   "provenance": []
  },
  "gpuClass": "standard",
  "kernelspec": {
   "display_name": "Python 3 (ipykernel)",
   "language": "python",
   "name": "python3"
  },
  "language_info": {
   "codemirror_mode": {
    "name": "ipython",
    "version": 3
   },
   "file_extension": ".py",
   "mimetype": "text/x-python",
   "name": "python",
   "nbconvert_exporter": "python",
   "pygments_lexer": "ipython3",
   "version": "3.9.7"
  },
  "toc": {
   "base_numbering": 1,
   "nav_menu": {},
   "number_sections": true,
   "sideBar": true,
   "skip_h1_title": true,
   "title_cell": "Table of Contents",
   "title_sidebar": "Contents",
   "toc_cell": false,
   "toc_position": {},
   "toc_section_display": true,
   "toc_window_display": false
  },
  "widgets": {
   "application/vnd.jupyter.widget-state+json": {
    "2b56d0ecf81e49c6a29adb78b4a72bfd": {
     "model_module": "@jupyter-widgets/base",
     "model_module_version": "1.2.0",
     "model_name": "LayoutModel",
     "state": {
      "_model_module": "@jupyter-widgets/base",
      "_model_module_version": "1.2.0",
      "_model_name": "LayoutModel",
      "_view_count": null,
      "_view_module": "@jupyter-widgets/base",
      "_view_module_version": "1.2.0",
      "_view_name": "LayoutView",
      "align_content": null,
      "align_items": null,
      "align_self": null,
      "border": null,
      "bottom": null,
      "display": null,
      "flex": null,
      "flex_flow": null,
      "grid_area": null,
      "grid_auto_columns": null,
      "grid_auto_flow": null,
      "grid_auto_rows": null,
      "grid_column": null,
      "grid_gap": null,
      "grid_row": null,
      "grid_template_areas": null,
      "grid_template_columns": null,
      "grid_template_rows": null,
      "height": null,
      "justify_content": null,
      "justify_items": null,
      "left": null,
      "margin": null,
      "max_height": null,
      "max_width": null,
      "min_height": null,
      "min_width": null,
      "object_fit": null,
      "object_position": null,
      "order": null,
      "overflow": null,
      "overflow_x": null,
      "overflow_y": null,
      "padding": null,
      "right": null,
      "top": null,
      "visibility": null,
      "width": null
     }
    },
    "3b394594949f4b85b5d602a193034d1f": {
     "model_module": "@jupyter-widgets/controls",
     "model_module_version": "1.5.0",
     "model_name": "DescriptionStyleModel",
     "state": {
      "_model_module": "@jupyter-widgets/controls",
      "_model_module_version": "1.5.0",
      "_model_name": "DescriptionStyleModel",
      "_view_count": null,
      "_view_module": "@jupyter-widgets/base",
      "_view_module_version": "1.2.0",
      "_view_name": "StyleView",
      "description_width": ""
     }
    },
    "53baff5aad18433ca363a625f63766bd": {
     "model_module": "@jupyter-widgets/base",
     "model_module_version": "1.2.0",
     "model_name": "LayoutModel",
     "state": {
      "_model_module": "@jupyter-widgets/base",
      "_model_module_version": "1.2.0",
      "_model_name": "LayoutModel",
      "_view_count": null,
      "_view_module": "@jupyter-widgets/base",
      "_view_module_version": "1.2.0",
      "_view_name": "LayoutView",
      "align_content": null,
      "align_items": null,
      "align_self": null,
      "border": null,
      "bottom": null,
      "display": null,
      "flex": null,
      "flex_flow": null,
      "grid_area": null,
      "grid_auto_columns": null,
      "grid_auto_flow": null,
      "grid_auto_rows": null,
      "grid_column": null,
      "grid_gap": null,
      "grid_row": null,
      "grid_template_areas": null,
      "grid_template_columns": null,
      "grid_template_rows": null,
      "height": null,
      "justify_content": null,
      "justify_items": null,
      "left": null,
      "margin": null,
      "max_height": null,
      "max_width": null,
      "min_height": null,
      "min_width": null,
      "object_fit": null,
      "object_position": null,
      "order": null,
      "overflow": null,
      "overflow_x": null,
      "overflow_y": null,
      "padding": null,
      "right": null,
      "top": null,
      "visibility": null,
      "width": null
     }
    },
    "57a849ed0c9345bca46428881fb0952e": {
     "model_module": "@jupyter-widgets/controls",
     "model_module_version": "1.5.0",
     "model_name": "ProgressStyleModel",
     "state": {
      "_model_module": "@jupyter-widgets/controls",
      "_model_module_version": "1.5.0",
      "_model_name": "ProgressStyleModel",
      "_view_count": null,
      "_view_module": "@jupyter-widgets/base",
      "_view_module_version": "1.2.0",
      "_view_name": "StyleView",
      "bar_color": null,
      "description_width": ""
     }
    },
    "583aa395c13a46a8b6621d720b84c3f5": {
     "model_module": "@jupyter-widgets/controls",
     "model_module_version": "1.5.0",
     "model_name": "HBoxModel",
     "state": {
      "_dom_classes": [],
      "_model_module": "@jupyter-widgets/controls",
      "_model_module_version": "1.5.0",
      "_model_name": "HBoxModel",
      "_view_count": null,
      "_view_module": "@jupyter-widgets/controls",
      "_view_module_version": "1.5.0",
      "_view_name": "HBoxView",
      "box_style": "",
      "children": [
       "IPY_MODEL_b58dae0c5bb242558d12931c01f13366",
       "IPY_MODEL_c0f4e4a445804fe5a9351d39ecbc9b2f",
       "IPY_MODEL_d8fcf89c6fd54ca8afe7799c92b7f061"
      ],
      "layout": "IPY_MODEL_9bb2c667a2fc4906a324406f38b6e988"
     }
    },
    "8c06756270a543279eca566cd0976eb9": {
     "model_module": "@jupyter-widgets/base",
     "model_module_version": "1.2.0",
     "model_name": "LayoutModel",
     "state": {
      "_model_module": "@jupyter-widgets/base",
      "_model_module_version": "1.2.0",
      "_model_name": "LayoutModel",
      "_view_count": null,
      "_view_module": "@jupyter-widgets/base",
      "_view_module_version": "1.2.0",
      "_view_name": "LayoutView",
      "align_content": null,
      "align_items": null,
      "align_self": null,
      "border": null,
      "bottom": null,
      "display": null,
      "flex": null,
      "flex_flow": null,
      "grid_area": null,
      "grid_auto_columns": null,
      "grid_auto_flow": null,
      "grid_auto_rows": null,
      "grid_column": null,
      "grid_gap": null,
      "grid_row": null,
      "grid_template_areas": null,
      "grid_template_columns": null,
      "grid_template_rows": null,
      "height": null,
      "justify_content": null,
      "justify_items": null,
      "left": null,
      "margin": null,
      "max_height": null,
      "max_width": null,
      "min_height": null,
      "min_width": null,
      "object_fit": null,
      "object_position": null,
      "order": null,
      "overflow": null,
      "overflow_x": null,
      "overflow_y": null,
      "padding": null,
      "right": null,
      "top": null,
      "visibility": null,
      "width": null
     }
    },
    "9bb2c667a2fc4906a324406f38b6e988": {
     "model_module": "@jupyter-widgets/base",
     "model_module_version": "1.2.0",
     "model_name": "LayoutModel",
     "state": {
      "_model_module": "@jupyter-widgets/base",
      "_model_module_version": "1.2.0",
      "_model_name": "LayoutModel",
      "_view_count": null,
      "_view_module": "@jupyter-widgets/base",
      "_view_module_version": "1.2.0",
      "_view_name": "LayoutView",
      "align_content": null,
      "align_items": null,
      "align_self": null,
      "border": null,
      "bottom": null,
      "display": null,
      "flex": null,
      "flex_flow": null,
      "grid_area": null,
      "grid_auto_columns": null,
      "grid_auto_flow": null,
      "grid_auto_rows": null,
      "grid_column": null,
      "grid_gap": null,
      "grid_row": null,
      "grid_template_areas": null,
      "grid_template_columns": null,
      "grid_template_rows": null,
      "height": null,
      "justify_content": null,
      "justify_items": null,
      "left": null,
      "margin": null,
      "max_height": null,
      "max_width": null,
      "min_height": null,
      "min_width": null,
      "object_fit": null,
      "object_position": null,
      "order": null,
      "overflow": null,
      "overflow_x": null,
      "overflow_y": null,
      "padding": null,
      "right": null,
      "top": null,
      "visibility": null,
      "width": null
     }
    },
    "b58dae0c5bb242558d12931c01f13366": {
     "model_module": "@jupyter-widgets/controls",
     "model_module_version": "1.5.0",
     "model_name": "HTMLModel",
     "state": {
      "_dom_classes": [],
      "_model_module": "@jupyter-widgets/controls",
      "_model_module_version": "1.5.0",
      "_model_name": "HTMLModel",
      "_view_count": null,
      "_view_module": "@jupyter-widgets/controls",
      "_view_module_version": "1.5.0",
      "_view_name": "HTMLView",
      "description": "",
      "description_tooltip": null,
      "layout": "IPY_MODEL_53baff5aad18433ca363a625f63766bd",
      "placeholder": "​",
      "style": "IPY_MODEL_d1116c0492194585b2d6137b8c3760b5",
      "value": "100%"
     }
    },
    "c0f4e4a445804fe5a9351d39ecbc9b2f": {
     "model_module": "@jupyter-widgets/controls",
     "model_module_version": "1.5.0",
     "model_name": "FloatProgressModel",
     "state": {
      "_dom_classes": [],
      "_model_module": "@jupyter-widgets/controls",
      "_model_module_version": "1.5.0",
      "_model_name": "FloatProgressModel",
      "_view_count": null,
      "_view_module": "@jupyter-widgets/controls",
      "_view_module_version": "1.5.0",
      "_view_name": "ProgressView",
      "bar_style": "success",
      "description": "",
      "description_tooltip": null,
      "layout": "IPY_MODEL_8c06756270a543279eca566cd0976eb9",
      "max": 25000,
      "min": 0,
      "orientation": "horizontal",
      "style": "IPY_MODEL_57a849ed0c9345bca46428881fb0952e",
      "value": 25000
     }
    },
    "d1116c0492194585b2d6137b8c3760b5": {
     "model_module": "@jupyter-widgets/controls",
     "model_module_version": "1.5.0",
     "model_name": "DescriptionStyleModel",
     "state": {
      "_model_module": "@jupyter-widgets/controls",
      "_model_module_version": "1.5.0",
      "_model_name": "DescriptionStyleModel",
      "_view_count": null,
      "_view_module": "@jupyter-widgets/base",
      "_view_module_version": "1.2.0",
      "_view_name": "StyleView",
      "description_width": ""
     }
    },
    "d8fcf89c6fd54ca8afe7799c92b7f061": {
     "model_module": "@jupyter-widgets/controls",
     "model_module_version": "1.5.0",
     "model_name": "HTMLModel",
     "state": {
      "_dom_classes": [],
      "_model_module": "@jupyter-widgets/controls",
      "_model_module_version": "1.5.0",
      "_model_name": "HTMLModel",
      "_view_count": null,
      "_view_module": "@jupyter-widgets/controls",
      "_view_module_version": "1.5.0",
      "_view_name": "HTMLView",
      "description": "",
      "description_tooltip": null,
      "layout": "IPY_MODEL_2b56d0ecf81e49c6a29adb78b4a72bfd",
      "placeholder": "​",
      "style": "IPY_MODEL_3b394594949f4b85b5d602a193034d1f",
      "value": " 25000/25000 [33:50&lt;00:00, 12.22it/s]"
     }
    }
   }
  }
 },
 "nbformat": 4,
 "nbformat_minor": 5
}
