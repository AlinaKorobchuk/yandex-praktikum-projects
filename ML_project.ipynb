{
 "cells": [
  {
   "cell_type": "markdown",
   "id": "9eb944cc",
   "metadata": {},
   "source": [
    "# Проектная работа "
   ]
  },
  {
   "cell_type": "markdown",
   "id": "d8f591d6",
   "metadata": {},
   "source": [
    "## Введение в машинное обучение"
   ]
  },
  {
   "cell_type": "markdown",
   "id": "d4258cb5",
   "metadata": {},
   "source": [
    "<div class=\"alert alert-block alert-info\">\n",
    "<b>Цель проекта:</b> построить модель, которая сможет проанализировать поведение клиентов и предложить пользователям тариф \"Смарт\" или \"Ультра\". \n",
    "\n",
    "<b>Входные данные:</b> данные о повведении клиентов, которые уже перешли на эти тарифы."
   ]
  },
  {
   "cell_type": "markdown",
   "id": "ced63cf2",
   "metadata": {},
   "source": [
    "**Описание проекта**\n",
    "\n",
    "Оператор мобильной связи «Мегалайн» выяснил: многие клиенты пользуются архивными тарифами. Они хотят построить систему, способную проанализировать поведение клиентов и предложить пользователям новый тариф: «Смарт» или «Ультра».\n",
    "В вашем распоряжении данные о поведении клиентов, которые уже перешли на эти тарифы (из проекта курса «Статистический анализ данных»). Нужно построить модель для задачи классификации, которая выберет подходящий тариф. Предобработка данных не понадобится — вы её уже сделали.\n",
    "Постройте модель с максимально большим значением accuracy. Чтобы сдать проект успешно, нужно довести долю правильных ответов по крайней мере до 0.75. Проверьте accuracy на тестовой выборке самостоятельно."
   ]
  },
  {
   "cell_type": "markdown",
   "id": "c4d6a5c2",
   "metadata": {},
   "source": [
    "<h1>Содержание<span class=\"tocSkip\"></span></h1>\n",
    "<div class=\"toc\">\n",
    "<ul class=\"toc-item\">\n",
    "    <li><span><a href=\"#Изучение-данных-из-файла\" data-toc-modified-id=\"Изучение-данных-из-файла-1\"><span class=\"toc-item-num\">1&nbsp;&nbsp;</span>Изучение данных из файла</a></span></li>\n",
    "     <li><span><a href=\"#Деление-данных\" data-toc-modified-id=\"Деление-данных-2\"><span class=\"toc-item-num\">2&nbsp;&nbsp;</span>Деление данных</a></span></li>\n",
    "    <li><span><a href=\"#Построение-моделей\" data-toc-modified-id=\"Построение-моделей-3\"><span class=\"toc-item-num\">3&nbsp;&nbsp;</span>Построение моделей</a></span></li>\n",
    "    <li><span><a href=\"#Проверка-на-тестовой-выборке\" data-toc-modified-id=\"Проверка-на-тестовой-выборке-4\"><span class=\"toc-item-num\">4&nbsp;&nbsp;</span>Проверка на тестовой выборке</a></span></li>\n",
    "    <li><span><a href=\"#Вывод\" data-toc-modified-id=\"Вывод\"><span class=\"toc-item-num\">5&nbsp;&nbsp;</span>Вывод</a></span></li>\n",
    "    \n",
    "</ul>    \n",
    "    \n",
    "</div>"
   ]
  },
  {
   "cell_type": "code",
   "execution_count": 1,
   "id": "5697bc73",
   "metadata": {},
   "outputs": [],
   "source": [
    "import pandas as pd\n",
    "import os\n",
    "from sklearn.model_selection import train_test_split\n",
    "from sklearn.tree import DecisionTreeClassifier\n",
    "from sklearn.ensemble import RandomForestClassifier\n",
    "from sklearn.linear_model import LogisticRegression\n",
    "from sklearn.metrics import accuracy_score\n",
    "from sklearn.dummy import DummyClassifier\n",
    "from sklearn.metrics import confusion_matrix"
   ]
  },
  {
   "cell_type": "markdown",
   "id": "f0672a86",
   "metadata": {},
   "source": [
    "## Изучение данных из файла"
   ]
  },
  {
   "cell_type": "code",
   "execution_count": 2,
   "id": "9b008b55",
   "metadata": {},
   "outputs": [],
   "source": [
    "pth1 = 'datasets/users_behavior.csv'\n",
    "pth2 = '/datasets/users_behavior.csv'\n",
    "\n",
    "if os.path.exists(pth1):\n",
    "    data = pd.read_csv(pth1)\n",
    "elif os.path.exists(pth2):\n",
    "    data = pd.read_csv(pth2)\n",
    "else:\n",
    "    print('Something os wrong')"
   ]
  },
  {
   "cell_type": "code",
   "execution_count": 3,
   "id": "bfb01d76",
   "metadata": {},
   "outputs": [
    {
     "name": "stdout",
     "output_type": "stream",
     "text": [
      "<class 'pandas.core.frame.DataFrame'>\n",
      "RangeIndex: 3214 entries, 0 to 3213\n",
      "Data columns (total 5 columns):\n",
      " #   Column    Non-Null Count  Dtype  \n",
      "---  ------    --------------  -----  \n",
      " 0   calls     3214 non-null   float64\n",
      " 1   minutes   3214 non-null   float64\n",
      " 2   messages  3214 non-null   float64\n",
      " 3   mb_used   3214 non-null   float64\n",
      " 4   is_ultra  3214 non-null   int64  \n",
      "dtypes: float64(4), int64(1)\n",
      "memory usage: 125.7 KB\n"
     ]
    }
   ],
   "source": [
    "data.info()"
   ]
  },
  {
   "cell_type": "code",
   "execution_count": 4,
   "id": "3c8e1a74",
   "metadata": {},
   "outputs": [
    {
     "data": {
      "text/html": [
       "<div>\n",
       "<style scoped>\n",
       "    .dataframe tbody tr th:only-of-type {\n",
       "        vertical-align: middle;\n",
       "    }\n",
       "\n",
       "    .dataframe tbody tr th {\n",
       "        vertical-align: top;\n",
       "    }\n",
       "\n",
       "    .dataframe thead th {\n",
       "        text-align: right;\n",
       "    }\n",
       "</style>\n",
       "<table border=\"1\" class=\"dataframe\">\n",
       "  <thead>\n",
       "    <tr style=\"text-align: right;\">\n",
       "      <th></th>\n",
       "      <th>calls</th>\n",
       "      <th>minutes</th>\n",
       "      <th>messages</th>\n",
       "      <th>mb_used</th>\n",
       "      <th>is_ultra</th>\n",
       "    </tr>\n",
       "  </thead>\n",
       "  <tbody>\n",
       "    <tr>\n",
       "      <th>0</th>\n",
       "      <td>40.0</td>\n",
       "      <td>311.90</td>\n",
       "      <td>83.0</td>\n",
       "      <td>19915.42</td>\n",
       "      <td>0</td>\n",
       "    </tr>\n",
       "    <tr>\n",
       "      <th>1</th>\n",
       "      <td>85.0</td>\n",
       "      <td>516.75</td>\n",
       "      <td>56.0</td>\n",
       "      <td>22696.96</td>\n",
       "      <td>0</td>\n",
       "    </tr>\n",
       "    <tr>\n",
       "      <th>2</th>\n",
       "      <td>77.0</td>\n",
       "      <td>467.66</td>\n",
       "      <td>86.0</td>\n",
       "      <td>21060.45</td>\n",
       "      <td>0</td>\n",
       "    </tr>\n",
       "    <tr>\n",
       "      <th>3</th>\n",
       "      <td>106.0</td>\n",
       "      <td>745.53</td>\n",
       "      <td>81.0</td>\n",
       "      <td>8437.39</td>\n",
       "      <td>1</td>\n",
       "    </tr>\n",
       "    <tr>\n",
       "      <th>4</th>\n",
       "      <td>66.0</td>\n",
       "      <td>418.74</td>\n",
       "      <td>1.0</td>\n",
       "      <td>14502.75</td>\n",
       "      <td>0</td>\n",
       "    </tr>\n",
       "  </tbody>\n",
       "</table>\n",
       "</div>"
      ],
      "text/plain": [
       "   calls  minutes  messages   mb_used  is_ultra\n",
       "0   40.0   311.90      83.0  19915.42         0\n",
       "1   85.0   516.75      56.0  22696.96         0\n",
       "2   77.0   467.66      86.0  21060.45         0\n",
       "3  106.0   745.53      81.0   8437.39         1\n",
       "4   66.0   418.74       1.0  14502.75         0"
      ]
     },
     "execution_count": 4,
     "metadata": {},
     "output_type": "execute_result"
    }
   ],
   "source": [
    "data.head()"
   ]
  },
  {
   "cell_type": "markdown",
   "id": "ec53a3cb",
   "metadata": {},
   "source": [
    "<div class=\"alert alert-block alert-info\">\n",
    "Видим, что данные уже предобработаны, пропуски отсутствуют. \n",
    "    \n",
    "Поля calls, minutes, mb_used являются признаками, поле is_ultra - это целевой признак, означающий принадлежность к тарифу ultra.    \n",
    "    \n",
    "При построении модели необходимо решить задачу бинарной (двоичной) классификации и произвести обучение с учителем.\n",
    "</div>"
   ]
  },
  {
   "cell_type": "markdown",
   "id": "fa494537",
   "metadata": {},
   "source": [
    "## Деление данных"
   ]
  },
  {
   "cell_type": "code",
   "execution_count": 5,
   "id": "65339991",
   "metadata": {},
   "outputs": [],
   "source": [
    "X = data.drop(['is_ultra'], axis=1)\n",
    "y = data['is_ultra']"
   ]
  },
  {
   "cell_type": "code",
   "execution_count": 6,
   "id": "18a53baa",
   "metadata": {},
   "outputs": [],
   "source": [
    "x_train, x_test, y_train, y_test = train_test_split(X, y, test_size=0.4, random_state=12345)"
   ]
  },
  {
   "cell_type": "code",
   "execution_count": 7,
   "id": "309366a0",
   "metadata": {},
   "outputs": [],
   "source": [
    "x_test, x_valid, y_test, y_valid = train_test_split(x_test, y_test, test_size=0.5, random_state=12345)"
   ]
  },
  {
   "cell_type": "markdown",
   "id": "a74cef67",
   "metadata": {},
   "source": [
    "<div class=\"alert alert-block alert-info\">\n",
    "Разделили выборку на обучающую, валидационную и тестовую. Принято делить в соотношения 3:1:1. Поэтому сначала выделяем под обучающую 60% набора данных, затем остаток делим на 2 части-валидационную и тестовую.\n",
    "</div>"
   ]
  },
  {
   "cell_type": "markdown",
   "id": "6a4477ea",
   "metadata": {},
   "source": [
    "## Построение моделей"
   ]
  },
  {
   "cell_type": "markdown",
   "id": "45d9ca1a",
   "metadata": {},
   "source": [
    "### Решающее дерево"
   ]
  },
  {
   "cell_type": "code",
   "execution_count": 8,
   "id": "dfe2c708",
   "metadata": {},
   "outputs": [
    {
     "name": "stdout",
     "output_type": "stream",
     "text": [
      "Accuracy на валидационной выборке: 0.7309486780715396\n"
     ]
    }
   ],
   "source": [
    "#В этот словарь будем записывать модели и значение их accuracy на валидационной выборке\n",
    "best_models = {}\n",
    "#фиксируем модель решающего дерева без параметров\n",
    "model1_tree = DecisionTreeClassifier(random_state=12345)\n",
    "#обучаем\n",
    "model1_tree.fit(x_train, y_train)\n",
    "#Предсказываем\n",
    "answers = model1_tree.predict(x_valid)\n",
    "print(f\"Accuracy на валидационной выборке: {accuracy_score(y_valid, answers)}\")\n",
    "best_models[model1_tree] = accuracy_score(y_valid, answers)"
   ]
  },
  {
   "cell_type": "code",
   "execution_count": 9,
   "id": "9f2ed1c7",
   "metadata": {},
   "outputs": [
    {
     "name": "stdout",
     "output_type": "stream",
     "text": [
      "Accuracy на валидационной выборке с max_depth, равным 7 : 0.7993779160186625\n"
     ]
    }
   ],
   "source": [
    "#добавим гиперпараметр max_depth, выберем модель с наилучшим accuracy в зависимости от значения глубины дерева\n",
    "best_model = None\n",
    "best_result = 0\n",
    "best_depth = 0\n",
    "for depth in range(1,10):\n",
    "    model2_tree = DecisionTreeClassifier(random_state=12345, max_depth=depth)\n",
    "    model2_tree.fit(x_train, y_train)\n",
    "    answers = model2_tree.predict(x_valid)\n",
    "    result = accuracy_score(y_valid, answers)\n",
    "    if result > best_result:\n",
    "        best_model = model2_tree\n",
    "        best_result = result\n",
    "        best_depth = depth\n",
    "        \n",
    "best_models[best_model] = best_result    \n",
    "print(f'Accuracy на валидационной выборке с max_depth, равным {best_depth} : {best_result}')"
   ]
  },
  {
   "cell_type": "markdown",
   "id": "f3e5a06f",
   "metadata": {},
   "source": [
    "### Случайный лес"
   ]
  },
  {
   "cell_type": "code",
   "execution_count": 10,
   "id": "b54a5185",
   "metadata": {},
   "outputs": [
    {
     "name": "stdout",
     "output_type": "stream",
     "text": [
      "Accuracy на валидационной выборке: 0.7853810264385692\n"
     ]
    }
   ],
   "source": [
    "#обучаем модель случайного леса без параметров\n",
    "model1_forest = RandomForestClassifier(random_state=12345)\n",
    "model1_forest.fit(x_train, y_train)\n",
    "answers = model1_forest.predict(x_valid)\n",
    "print(f\"Accuracy на валидационной выборке: {accuracy_score(y_valid, answers)}\")\n",
    "best_models[model1_forest] = accuracy_score(y_valid, answers)"
   ]
  },
  {
   "cell_type": "code",
   "execution_count": 11,
   "id": "62388d0c",
   "metadata": {},
   "outputs": [
    {
     "name": "stdout",
     "output_type": "stream",
     "text": [
      "Accuracy на валидационной выборке с n_estimators, равным 8: 0.7869362363919129\n"
     ]
    }
   ],
   "source": [
    "#добавим гиперпараметр и выберем лучшую модель по accuracy:\n",
    "best_model = None\n",
    "best_result = 0\n",
    "best_estimator = 0\n",
    "for est in range(1,15):\n",
    "    model2_forest = RandomForestClassifier(random_state=12345, n_estimators=est)\n",
    "    model2_forest.fit(x_train, y_train)\n",
    "    answers = model2_forest.predict(x_valid)\n",
    "    result = accuracy_score(y_valid, answers)\n",
    "    if result > best_result:\n",
    "        best_model = model2_forest\n",
    "        best_result = result\n",
    "        best_estimator = est\n",
    "        \n",
    "best_models[best_model] = best_result         \n",
    "print(f'Accuracy на валидационной выборке с n_estimators, равным {best_estimator}: {best_result}')        "
   ]
  },
  {
   "cell_type": "markdown",
   "id": "e08c8acd",
   "metadata": {},
   "source": [
    "### Логистическая регрессия"
   ]
  },
  {
   "cell_type": "code",
   "execution_count": 12,
   "id": "c5d91d40",
   "metadata": {},
   "outputs": [
    {
     "name": "stdout",
     "output_type": "stream",
     "text": [
      "Accuracy равно 0.6842923794712286\n"
     ]
    }
   ],
   "source": [
    "#Обучим модель без параметров\n",
    "model1_regression = LogisticRegression(random_state=12345)\n",
    "model1_regression.fit(x_train, y_train)\n",
    "answers = model1_regression.predict(x_valid)\n",
    "print(f\"Accuracy равно {accuracy_score(y_valid, answers)}\")\n",
    "best_models[model1_regression] = accuracy_score(y_valid, answers)"
   ]
  },
  {
   "cell_type": "code",
   "execution_count": 13,
   "id": "85de3674",
   "metadata": {},
   "outputs": [
    {
     "name": "stdout",
     "output_type": "stream",
     "text": [
      "Accuracy равно 0.6842923794712286\n"
     ]
    }
   ],
   "source": [
    "#Обучим модель с гиперпараметрами\n",
    "model2_regression = LogisticRegression(random_state=12345, solver='lbfgs', max_iter=1000)\n",
    "model2_regression.fit(x_train, y_train)\n",
    "answers = model1_regression.predict(x_valid)\n",
    "print(f\"Accuracy равно {accuracy_score(y_valid, answers)}\")\n",
    "best_models[model2_regression] = accuracy_score(y_valid, answers)"
   ]
  },
  {
   "cell_type": "code",
   "execution_count": 14,
   "id": "3b1f5965",
   "metadata": {},
   "outputs": [
    {
     "name": "stdout",
     "output_type": "stream",
     "text": [
      "Наилучшая модель: DecisionTreeClassifier(max_depth=7, random_state=12345)\n",
      "со значением accuracy, равным 0.7993779160186625\n"
     ]
    }
   ],
   "source": [
    "max_value = max(best_models.values())\n",
    "\n",
    "for key, value in best_models.items():\n",
    "    if value == max_value:\n",
    "        print(f\"Наилучшая модель: {key}\")\n",
    "        print(f\"со значением accuracy, равным {value}\")"
   ]
  },
  {
   "cell_type": "markdown",
   "id": "3e9ddc48",
   "metadata": {},
   "source": [
    "<div class=\"alert alert-block alert-info\">\n",
    "    \n",
    "**Вывод:** обучили несколько моделей, наилучшее качество по accuracy показала модель решающего дерева с максимальной глубиной, равной 7.\n"
   ]
  },
  {
   "cell_type": "markdown",
   "id": "7c2c8495",
   "metadata": {},
   "source": [
    "## Проверка на тестовой выборке"
   ]
  },
  {
   "cell_type": "code",
   "execution_count": 15,
   "id": "8b08dfe7",
   "metadata": {},
   "outputs": [
    {
     "data": {
      "text/plain": [
       "0.7822706065318819"
      ]
     },
     "execution_count": 15,
     "metadata": {},
     "output_type": "execute_result"
    }
   ],
   "source": [
    "best_model_tree = DecisionTreeClassifier(random_state=12345, max_depth=7)\n",
    "best_model_tree.fit(x_train, y_train)\n",
    "predictions = best_model_tree.predict(x_test)\n",
    "accuracy_score(y_test, predictions)"
   ]
  },
  {
   "cell_type": "markdown",
   "id": "d4e0ea35",
   "metadata": {},
   "source": [
    "## Дополнительное задание"
   ]
  },
  {
   "cell_type": "code",
   "execution_count": 16,
   "id": "c396ebba",
   "metadata": {},
   "outputs": [
    {
     "data": {
      "text/plain": [
       "DummyClassifier()"
      ]
     },
     "execution_count": 16,
     "metadata": {},
     "output_type": "execute_result"
    }
   ],
   "source": [
    "#Построим константное предсказание\n",
    "dc_mf = DummyClassifier()\n",
    "dc_mf.fit(x_train, y_train)"
   ]
  },
  {
   "cell_type": "code",
   "execution_count": 17,
   "id": "1deb203d",
   "metadata": {},
   "outputs": [],
   "source": [
    "y_true = y_test\n",
    "y_pred = dc_mf.predict(x_test)\n",
    "dc_mf_tn, dc_mf_fp, dc_mf_fn, dc_mf_tp = confusion_matrix(y_true, y_pred, labels = [0, 1]).ravel() "
   ]
  },
  {
   "cell_type": "code",
   "execution_count": 18,
   "id": "b91dcc88",
   "metadata": {},
   "outputs": [
    {
     "data": {
      "text/plain": [
       "0.7060653188180405"
      ]
     },
     "execution_count": 18,
     "metadata": {},
     "output_type": "execute_result"
    }
   ],
   "source": [
    "(dc_mf_tn + dc_mf_tp) / (dc_mf_tn + dc_mf_fp + dc_mf_fn + dc_mf_tp)"
   ]
  },
  {
   "cell_type": "code",
   "execution_count": 19,
   "id": "f162126c",
   "metadata": {},
   "outputs": [
    {
     "data": {
      "text/plain": [
       "0.7060653188180405"
      ]
     },
     "execution_count": 19,
     "metadata": {},
     "output_type": "execute_result"
    }
   ],
   "source": [
    "accuracy_score(y_true, y_pred)"
   ]
  },
  {
   "cell_type": "markdown",
   "id": "20cade62",
   "metadata": {},
   "source": [
    "<div class=\"alert alert-block alert-info\">Для проверки модели на вменяемость построили базовую модель, точность предсказаний данной модели составила 71 %, что ниже, чем у выбранной наилучшей модели решающего дерева."
   ]
  },
  {
   "cell_type": "markdown",
   "id": "66fe527c",
   "metadata": {},
   "source": [
    "### Вывод "
   ]
  },
  {
   "cell_type": "markdown",
   "id": "9bb0f510",
   "metadata": {},
   "source": [
    "<div class=\"alert alert-block alert-info\">\n",
    "В данной работе изучили данные, разделили данные на обучающую, тестовую, валидационную выборки. Настроили 3 модели на валидационной выборке: модель решающего дерева, случайного леса и логистической регрессии. После подбора гиперпараметров, было выявлено, что наилучшее качество на валидационной выборке показала модель решающего дерева с максимальной глубиной, равной 7. Эта модель была применена к тестовой выборке, точность предсказания составила 78%.\n",
    "\n",
    "\n",
    "    \n",
    "Также была построена константная модель и оценено ее качество при помощи такой метрики, как Accuracy. На тестовой выборке данная модель показала более низкое качество, чем модель решающего дерева.\n",
    "    \n",
    "\n",
    "  \n",
    "Таким образом, для системы, рекомендующей пользователям тариф \"Смарт\" или \"Утра\", предлагается модель решающего дерева с максимальной глубиной, равной 7.\n",
    "</div>"
   ]
  }
 ],
 "metadata": {
  "kernelspec": {
   "display_name": "Python 3 (ipykernel)",
   "language": "python",
   "name": "python3"
  },
  "language_info": {
   "codemirror_mode": {
    "name": "ipython",
    "version": 3
   },
   "file_extension": ".py",
   "mimetype": "text/x-python",
   "name": "python",
   "nbconvert_exporter": "python",
   "pygments_lexer": "ipython3",
   "version": "3.9.7"
  }
 },
 "nbformat": 4,
 "nbformat_minor": 5
}
