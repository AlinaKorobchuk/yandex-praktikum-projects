{
 "cells": [
  {
   "cell_type": "markdown",
   "metadata": {
    "id": "E0vqbgi9ay0H"
   },
   "source": [
    "# Яндекс.Музыка"
   ]
  },
  {
   "cell_type": "markdown",
   "metadata": {
    "id": "VUC88oWjTJw2"
   },
   "source": [
    "Сравнение Москвы и Петербурга окружено мифами. Например:\n",
    " * Москва — мегаполис, подчинённый жёсткому ритму рабочей недели;\n",
    " * Петербург — культурная столица, со своими вкусами.\n",
    "\n",
    "На данных Яндекс.Музыки вы сравните поведение пользователей двух столиц.\n",
    "\n",
    "**Цель исследования** — проверить гипотезы:\n",
    "1. Активность пользователей зависит от дня недели. Причём в Москве и Петербурге это проявляется по-разному.\n",
    "2. В понедельник утром в Москве преобладают одни жанры, а в Петербурге — другие. Так же и вечером пятницы преобладают разные жанры — в зависимости от города. \n",
    "3. Москва и Петербург предпочитают разные жанры музыки. В Москве чаще слушают поп-музыку, в Петербурге — русский рэп"
   ]
  },
  {
   "cell_type": "markdown",
   "metadata": {
    "id": "Ml1hmfXC_Zcs"
   },
   "source": [
    "## Обзор данных\n",
    "\n",
    "\n"
   ]
  },
  {
   "cell_type": "code",
   "execution_count": 3,
   "metadata": {
    "id": "AXN7PHPN_Zcs"
   },
   "outputs": [],
   "source": [
    "# импорт библиотеки pandas\n",
    "import pandas as pd"
   ]
  },
  {
   "cell_type": "code",
   "execution_count": 4,
   "metadata": {
    "id": "fFVu7vqh_Zct"
   },
   "outputs": [
    {
     "ename": "FileNotFoundError",
     "evalue": "[Errno 2] No such file or directory: 'yandex_music_project.csv'",
     "output_type": "error",
     "traceback": [
      "\u001b[1;31m---------------------------------------------------------------------------\u001b[0m",
      "\u001b[1;31mFileNotFoundError\u001b[0m                         Traceback (most recent call last)",
      "\u001b[1;32m~\\AppData\\Local\\Temp/ipykernel_12856/3490341350.py\u001b[0m in \u001b[0;36m<module>\u001b[1;34m\u001b[0m\n\u001b[0;32m      1\u001b[0m \u001b[1;31m# чтение файла с данными и сохранение в df\u001b[0m\u001b[1;33m\u001b[0m\u001b[1;33m\u001b[0m\u001b[1;33m\u001b[0m\u001b[0m\n\u001b[1;32m----> 2\u001b[1;33m \u001b[0mdf\u001b[0m \u001b[1;33m=\u001b[0m \u001b[0mpd\u001b[0m\u001b[1;33m.\u001b[0m\u001b[0mread_csv\u001b[0m\u001b[1;33m(\u001b[0m\u001b[1;34m'yandex_music_project.csv'\u001b[0m\u001b[1;33m)\u001b[0m\u001b[1;33m\u001b[0m\u001b[1;33m\u001b[0m\u001b[0m\n\u001b[0m",
      "\u001b[1;32m~\\anaconda3\\lib\\site-packages\\pandas\\io\\parsers.py\u001b[0m in \u001b[0;36mread_csv\u001b[1;34m(filepath_or_buffer, sep, delimiter, header, names, index_col, usecols, squeeze, prefix, mangle_dupe_cols, dtype, engine, converters, true_values, false_values, skipinitialspace, skiprows, skipfooter, nrows, na_values, keep_default_na, na_filter, verbose, skip_blank_lines, parse_dates, infer_datetime_format, keep_date_col, date_parser, dayfirst, cache_dates, iterator, chunksize, compression, thousands, decimal, lineterminator, quotechar, quoting, doublequote, escapechar, comment, encoding, dialect, error_bad_lines, warn_bad_lines, delim_whitespace, low_memory, memory_map, float_precision, storage_options)\u001b[0m\n\u001b[0;32m    608\u001b[0m     \u001b[0mkwds\u001b[0m\u001b[1;33m.\u001b[0m\u001b[0mupdate\u001b[0m\u001b[1;33m(\u001b[0m\u001b[0mkwds_defaults\u001b[0m\u001b[1;33m)\u001b[0m\u001b[1;33m\u001b[0m\u001b[1;33m\u001b[0m\u001b[0m\n\u001b[0;32m    609\u001b[0m \u001b[1;33m\u001b[0m\u001b[0m\n\u001b[1;32m--> 610\u001b[1;33m     \u001b[1;32mreturn\u001b[0m \u001b[0m_read\u001b[0m\u001b[1;33m(\u001b[0m\u001b[0mfilepath_or_buffer\u001b[0m\u001b[1;33m,\u001b[0m \u001b[0mkwds\u001b[0m\u001b[1;33m)\u001b[0m\u001b[1;33m\u001b[0m\u001b[1;33m\u001b[0m\u001b[0m\n\u001b[0m\u001b[0;32m    611\u001b[0m \u001b[1;33m\u001b[0m\u001b[0m\n\u001b[0;32m    612\u001b[0m \u001b[1;33m\u001b[0m\u001b[0m\n",
      "\u001b[1;32m~\\anaconda3\\lib\\site-packages\\pandas\\io\\parsers.py\u001b[0m in \u001b[0;36m_read\u001b[1;34m(filepath_or_buffer, kwds)\u001b[0m\n\u001b[0;32m    460\u001b[0m \u001b[1;33m\u001b[0m\u001b[0m\n\u001b[0;32m    461\u001b[0m     \u001b[1;31m# Create the parser.\u001b[0m\u001b[1;33m\u001b[0m\u001b[1;33m\u001b[0m\u001b[1;33m\u001b[0m\u001b[0m\n\u001b[1;32m--> 462\u001b[1;33m     \u001b[0mparser\u001b[0m \u001b[1;33m=\u001b[0m \u001b[0mTextFileReader\u001b[0m\u001b[1;33m(\u001b[0m\u001b[0mfilepath_or_buffer\u001b[0m\u001b[1;33m,\u001b[0m \u001b[1;33m**\u001b[0m\u001b[0mkwds\u001b[0m\u001b[1;33m)\u001b[0m\u001b[1;33m\u001b[0m\u001b[1;33m\u001b[0m\u001b[0m\n\u001b[0m\u001b[0;32m    463\u001b[0m \u001b[1;33m\u001b[0m\u001b[0m\n\u001b[0;32m    464\u001b[0m     \u001b[1;32mif\u001b[0m \u001b[0mchunksize\u001b[0m \u001b[1;32mor\u001b[0m \u001b[0miterator\u001b[0m\u001b[1;33m:\u001b[0m\u001b[1;33m\u001b[0m\u001b[1;33m\u001b[0m\u001b[0m\n",
      "\u001b[1;32m~\\anaconda3\\lib\\site-packages\\pandas\\io\\parsers.py\u001b[0m in \u001b[0;36m__init__\u001b[1;34m(self, f, engine, **kwds)\u001b[0m\n\u001b[0;32m    817\u001b[0m             \u001b[0mself\u001b[0m\u001b[1;33m.\u001b[0m\u001b[0moptions\u001b[0m\u001b[1;33m[\u001b[0m\u001b[1;34m\"has_index_names\"\u001b[0m\u001b[1;33m]\u001b[0m \u001b[1;33m=\u001b[0m \u001b[0mkwds\u001b[0m\u001b[1;33m[\u001b[0m\u001b[1;34m\"has_index_names\"\u001b[0m\u001b[1;33m]\u001b[0m\u001b[1;33m\u001b[0m\u001b[1;33m\u001b[0m\u001b[0m\n\u001b[0;32m    818\u001b[0m \u001b[1;33m\u001b[0m\u001b[0m\n\u001b[1;32m--> 819\u001b[1;33m         \u001b[0mself\u001b[0m\u001b[1;33m.\u001b[0m\u001b[0m_engine\u001b[0m \u001b[1;33m=\u001b[0m \u001b[0mself\u001b[0m\u001b[1;33m.\u001b[0m\u001b[0m_make_engine\u001b[0m\u001b[1;33m(\u001b[0m\u001b[0mself\u001b[0m\u001b[1;33m.\u001b[0m\u001b[0mengine\u001b[0m\u001b[1;33m)\u001b[0m\u001b[1;33m\u001b[0m\u001b[1;33m\u001b[0m\u001b[0m\n\u001b[0m\u001b[0;32m    820\u001b[0m \u001b[1;33m\u001b[0m\u001b[0m\n\u001b[0;32m    821\u001b[0m     \u001b[1;32mdef\u001b[0m \u001b[0mclose\u001b[0m\u001b[1;33m(\u001b[0m\u001b[0mself\u001b[0m\u001b[1;33m)\u001b[0m\u001b[1;33m:\u001b[0m\u001b[1;33m\u001b[0m\u001b[1;33m\u001b[0m\u001b[0m\n",
      "\u001b[1;32m~\\anaconda3\\lib\\site-packages\\pandas\\io\\parsers.py\u001b[0m in \u001b[0;36m_make_engine\u001b[1;34m(self, engine)\u001b[0m\n\u001b[0;32m   1048\u001b[0m             )\n\u001b[0;32m   1049\u001b[0m         \u001b[1;31m# error: Too many arguments for \"ParserBase\"\u001b[0m\u001b[1;33m\u001b[0m\u001b[1;33m\u001b[0m\u001b[1;33m\u001b[0m\u001b[0m\n\u001b[1;32m-> 1050\u001b[1;33m         \u001b[1;32mreturn\u001b[0m \u001b[0mmapping\u001b[0m\u001b[1;33m[\u001b[0m\u001b[0mengine\u001b[0m\u001b[1;33m]\u001b[0m\u001b[1;33m(\u001b[0m\u001b[0mself\u001b[0m\u001b[1;33m.\u001b[0m\u001b[0mf\u001b[0m\u001b[1;33m,\u001b[0m \u001b[1;33m**\u001b[0m\u001b[0mself\u001b[0m\u001b[1;33m.\u001b[0m\u001b[0moptions\u001b[0m\u001b[1;33m)\u001b[0m  \u001b[1;31m# type: ignore[call-arg]\u001b[0m\u001b[1;33m\u001b[0m\u001b[1;33m\u001b[0m\u001b[0m\n\u001b[0m\u001b[0;32m   1051\u001b[0m \u001b[1;33m\u001b[0m\u001b[0m\n\u001b[0;32m   1052\u001b[0m     \u001b[1;32mdef\u001b[0m \u001b[0m_failover_to_python\u001b[0m\u001b[1;33m(\u001b[0m\u001b[0mself\u001b[0m\u001b[1;33m)\u001b[0m\u001b[1;33m:\u001b[0m\u001b[1;33m\u001b[0m\u001b[1;33m\u001b[0m\u001b[0m\n",
      "\u001b[1;32m~\\anaconda3\\lib\\site-packages\\pandas\\io\\parsers.py\u001b[0m in \u001b[0;36m__init__\u001b[1;34m(self, src, **kwds)\u001b[0m\n\u001b[0;32m   1865\u001b[0m \u001b[1;33m\u001b[0m\u001b[0m\n\u001b[0;32m   1866\u001b[0m         \u001b[1;31m# open handles\u001b[0m\u001b[1;33m\u001b[0m\u001b[1;33m\u001b[0m\u001b[1;33m\u001b[0m\u001b[0m\n\u001b[1;32m-> 1867\u001b[1;33m         \u001b[0mself\u001b[0m\u001b[1;33m.\u001b[0m\u001b[0m_open_handles\u001b[0m\u001b[1;33m(\u001b[0m\u001b[0msrc\u001b[0m\u001b[1;33m,\u001b[0m \u001b[0mkwds\u001b[0m\u001b[1;33m)\u001b[0m\u001b[1;33m\u001b[0m\u001b[1;33m\u001b[0m\u001b[0m\n\u001b[0m\u001b[0;32m   1868\u001b[0m         \u001b[1;32massert\u001b[0m \u001b[0mself\u001b[0m\u001b[1;33m.\u001b[0m\u001b[0mhandles\u001b[0m \u001b[1;32mis\u001b[0m \u001b[1;32mnot\u001b[0m \u001b[1;32mNone\u001b[0m\u001b[1;33m\u001b[0m\u001b[1;33m\u001b[0m\u001b[0m\n\u001b[0;32m   1869\u001b[0m         \u001b[1;32mfor\u001b[0m \u001b[0mkey\u001b[0m \u001b[1;32min\u001b[0m \u001b[1;33m(\u001b[0m\u001b[1;34m\"storage_options\"\u001b[0m\u001b[1;33m,\u001b[0m \u001b[1;34m\"encoding\"\u001b[0m\u001b[1;33m,\u001b[0m \u001b[1;34m\"memory_map\"\u001b[0m\u001b[1;33m,\u001b[0m \u001b[1;34m\"compression\"\u001b[0m\u001b[1;33m)\u001b[0m\u001b[1;33m:\u001b[0m\u001b[1;33m\u001b[0m\u001b[1;33m\u001b[0m\u001b[0m\n",
      "\u001b[1;32m~\\anaconda3\\lib\\site-packages\\pandas\\io\\parsers.py\u001b[0m in \u001b[0;36m_open_handles\u001b[1;34m(self, src, kwds)\u001b[0m\n\u001b[0;32m   1360\u001b[0m         \u001b[0mLet\u001b[0m \u001b[0mthe\u001b[0m \u001b[0mreaders\u001b[0m \u001b[0mopen\u001b[0m \u001b[0mIOHanldes\u001b[0m \u001b[0mafter\u001b[0m \u001b[0mthey\u001b[0m \u001b[0mare\u001b[0m \u001b[0mdone\u001b[0m \u001b[1;32mwith\u001b[0m \u001b[0mtheir\u001b[0m \u001b[0mpotential\u001b[0m \u001b[0mraises\u001b[0m\u001b[1;33m.\u001b[0m\u001b[1;33m\u001b[0m\u001b[1;33m\u001b[0m\u001b[0m\n\u001b[0;32m   1361\u001b[0m         \"\"\"\n\u001b[1;32m-> 1362\u001b[1;33m         self.handles = get_handle(\n\u001b[0m\u001b[0;32m   1363\u001b[0m             \u001b[0msrc\u001b[0m\u001b[1;33m,\u001b[0m\u001b[1;33m\u001b[0m\u001b[1;33m\u001b[0m\u001b[0m\n\u001b[0;32m   1364\u001b[0m             \u001b[1;34m\"r\"\u001b[0m\u001b[1;33m,\u001b[0m\u001b[1;33m\u001b[0m\u001b[1;33m\u001b[0m\u001b[0m\n",
      "\u001b[1;32m~\\anaconda3\\lib\\site-packages\\pandas\\io\\common.py\u001b[0m in \u001b[0;36mget_handle\u001b[1;34m(path_or_buf, mode, encoding, compression, memory_map, is_text, errors, storage_options)\u001b[0m\n\u001b[0;32m    640\u001b[0m                 \u001b[0merrors\u001b[0m \u001b[1;33m=\u001b[0m \u001b[1;34m\"replace\"\u001b[0m\u001b[1;33m\u001b[0m\u001b[1;33m\u001b[0m\u001b[0m\n\u001b[0;32m    641\u001b[0m             \u001b[1;31m# Encoding\u001b[0m\u001b[1;33m\u001b[0m\u001b[1;33m\u001b[0m\u001b[1;33m\u001b[0m\u001b[0m\n\u001b[1;32m--> 642\u001b[1;33m             handle = open(\n\u001b[0m\u001b[0;32m    643\u001b[0m                 \u001b[0mhandle\u001b[0m\u001b[1;33m,\u001b[0m\u001b[1;33m\u001b[0m\u001b[1;33m\u001b[0m\u001b[0m\n\u001b[0;32m    644\u001b[0m                 \u001b[0mioargs\u001b[0m\u001b[1;33m.\u001b[0m\u001b[0mmode\u001b[0m\u001b[1;33m,\u001b[0m\u001b[1;33m\u001b[0m\u001b[1;33m\u001b[0m\u001b[0m\n",
      "\u001b[1;31mFileNotFoundError\u001b[0m: [Errno 2] No such file or directory: 'yandex_music_project.csv'"
     ]
    }
   ],
   "source": [
    "# чтение файла с данными и сохранение в df\n",
    "df = pd.read_csv('yandex_music_project.csv')"
   ]
  },
  {
   "cell_type": "code",
   "execution_count": null,
   "metadata": {
    "id": "oWTVX3gW_Zct"
   },
   "outputs": [],
   "source": [
    "# получение первых 10 строк таблицы df\n",
    "df.head(10)"
   ]
  },
  {
   "cell_type": "code",
   "execution_count": null,
   "metadata": {
    "id": "DSf2kIb-_Zct"
   },
   "outputs": [],
   "source": [
    "# получение общей информации о данных в таблице df\n",
    "df.info()"
   ]
  },
  {
   "cell_type": "markdown",
   "metadata": {
    "id": "TaQ2Iwbr_Zct"
   },
   "source": [
    "Итак, в таблице семь столбцов. Тип данных во всех столбцах — `object`.\n",
    "\n",
    "Согласно документации к данным:\n",
    "* `userID` — идентификатор пользователя;\n",
    "* `Track` — название трека;  \n",
    "* `artist` — имя исполнителя;\n",
    "* `genre` — название жанра;\n",
    "* `City` — город пользователя;\n",
    "* `time` — время начала прослушивания;\n",
    "* `Day` — день недели.\n",
    "\n",
    "В названиях колонок видны три нарушения стиля:\n",
    "1. Строчные буквы сочетаются с прописными.\n",
    "2. Встречаются пробелы.\n",
    "\n",
    "Количество значений в столбцах различается. Значит, в данных есть пропущенные значения.\n"
   ]
  },
  {
   "cell_type": "markdown",
   "metadata": {
    "id": "MCB6-dXG_Zct"
   },
   "source": [
    "**Выводы**\n",
    "\n",
    "В каждой строке таблицы — данные о прослушанном треке. Часть колонок описывает саму композицию: название, исполнителя и жанр. Остальные данные рассказывают о пользователе: из какого он города, когда он слушал музыку. \n",
    "\n",
    "Предварительно можно утверждать, что, данных достаточно для проверки гипотез. Но встречаются пропуски в данных, а в названиях колонок — расхождения с хорошим стилем.\n",
    "\n",
    "Чтобы двигаться дальше, нужно устранить проблемы в данных."
   ]
  },
  {
   "cell_type": "markdown",
   "metadata": {
    "id": "SjYF6Ub9_Zct"
   },
   "source": [
    "## Предобработка данных\n"
   ]
  },
  {
   "cell_type": "markdown",
   "metadata": {
    "id": "dIaKXr29_Zct"
   },
   "source": [
    "### Стиль заголовков\n"
   ]
  },
  {
   "cell_type": "code",
   "execution_count": null,
   "metadata": {
    "id": "oKOTdF_Q_Zct"
   },
   "outputs": [],
   "source": [
    "# перечень названий столбцов таблицы df\n",
    "df.columns"
   ]
  },
  {
   "cell_type": "code",
   "execution_count": null,
   "metadata": {
    "id": "ISlFqs5y_Zct"
   },
   "outputs": [],
   "source": [
    "# переименование столбцов\n",
    "df = df.rename(columns={'  userID': 'user_id', 'Track': 'track', '  City  ': 'city', 'Day': 'day'})"
   ]
  },
  {
   "cell_type": "code",
   "execution_count": null,
   "metadata": {
    "id": "d4NOAmTW_Zct"
   },
   "outputs": [],
   "source": [
    "# проверка результатов - перечень названий столбцов\n",
    "df.columns"
   ]
  },
  {
   "cell_type": "markdown",
   "metadata": {
    "id": "5ISfbcfY_Zct"
   },
   "source": [
    "### Пропуски значений\n"
   ]
  },
  {
   "cell_type": "code",
   "execution_count": null,
   "metadata": {
    "id": "RskX29qr_Zct"
   },
   "outputs": [],
   "source": [
    "# подсчёт пропусков\n",
    "df.isna().sum()"
   ]
  },
  {
   "cell_type": "code",
   "execution_count": null,
   "metadata": {
    "id": "KplB5qWs_Zct"
   },
   "outputs": [],
   "source": [
    "# перебор названий столбцов в цикле и замена пропущенных значений на 'unknown'\n",
    "columns_to_replace = ['track', 'artist', 'genre']\n",
    "for column in columns_to_replace:\n",
    "    df[column] = df[column].fillna('unknown')"
   ]
  },
  {
   "cell_type": "code",
   "execution_count": null,
   "metadata": {
    "id": "Tq4nYRX4_Zct"
   },
   "outputs": [],
   "source": [
    "# подсчёт пропусков\n",
    "df.isna().sum()"
   ]
  },
  {
   "cell_type": "markdown",
   "metadata": {
    "id": "BWKRtBJ3_Zct"
   },
   "source": [
    "### Дубликаты\n"
   ]
  },
  {
   "cell_type": "code",
   "execution_count": null,
   "metadata": {
    "id": "36eES_S0_Zct"
   },
   "outputs": [],
   "source": [
    "# подсчёт явных дубликатов\n",
    "df.duplicated().sum()"
   ]
  },
  {
   "cell_type": "markdown",
   "metadata": {
    "id": "Ot25h6XR_Zct"
   },
   "source": [
    "Вызовите специальный метод `pandas`, чтобы удалить явные дубликаты:"
   ]
  },
  {
   "cell_type": "code",
   "execution_count": null,
   "metadata": {
    "id": "exFHq6tt_Zct"
   },
   "outputs": [],
   "source": [
    "# удаление явных дубликатов (с удалением старых индексов и формированием новых)\n",
    "df = df.drop_duplicates().reset_index(drop=True)"
   ]
  },
  {
   "cell_type": "code",
   "execution_count": null,
   "metadata": {
    "id": "-8PuNWQ0_Zct"
   },
   "outputs": [],
   "source": [
    "# проверка на отсутствие дубликатов\n",
    "df.duplicated().sum()"
   ]
  },
  {
   "cell_type": "code",
   "execution_count": null,
   "metadata": {
    "id": "JIUcqzZN_Zct"
   },
   "outputs": [],
   "source": [
    "# Просмотр уникальных названий жанров\n",
    "df['genre'].sort_values().unique()"
   ]
  },
  {
   "cell_type": "code",
   "execution_count": null,
   "metadata": {
    "id": "ErNDkmns_Zct"
   },
   "outputs": [],
   "source": [
    "# Функция для замены неявных дубликатов\n",
    "def replace_wrong_genres(wrong_genres, correct_genre):\n",
    "    for wrong_genre in wrong_genres:\n",
    "        df['genre'] = df['genre'].replace(wrong_genre, correct_genre)"
   ]
  },
  {
   "cell_type": "code",
   "execution_count": null,
   "metadata": {
    "id": "YN5i2hpmSo09"
   },
   "outputs": [],
   "source": [
    "# Устранение неявных дубликатов\n",
    "replace_wrong_genres(['hip', 'hop', 'hip-hop'], 'hiphop')"
   ]
  },
  {
   "cell_type": "code",
   "execution_count": null,
   "metadata": {
    "id": "wvixALnFG15m"
   },
   "outputs": [],
   "source": [
    "# Проверка на неявные дубликаты\n",
    "df['genre'].sort_values().unique()"
   ]
  },
  {
   "cell_type": "markdown",
   "metadata": {
    "id": "jz6a9-7HQUDd"
   },
   "source": [
    "**Выводы**\n",
    "\n",
    "Предобработка обнаружила три проблемы в данных:\n",
    "\n",
    "- нарушения в стиле заголовков,\n",
    "- пропущенные значения,\n",
    "- дубликаты — явные и неявные.\n",
    "\n",
    "Вы исправили заголовки, чтобы упростить работу с таблицей. Без дубликатов исследование станет более точным.\n",
    "\n",
    "Пропущенные значения вы заменили на `'unknown'`. Ещё предстоит увидеть, не повредят ли исследованию пропуски в колонке `genre`.\n",
    "\n",
    "Теперь можно перейти к проверке гипотез. "
   ]
  },
  {
   "cell_type": "markdown",
   "metadata": {
    "id": "WttZHXH0SqKk"
   },
   "source": [
    "## Проверка гипотез"
   ]
  },
  {
   "cell_type": "markdown",
   "metadata": {
    "id": "Im936VVi_Zcu"
   },
   "source": [
    "### Сравнение поведения пользователей двух столиц"
   ]
  },
  {
   "cell_type": "code",
   "execution_count": null,
   "metadata": {
    "id": "0_Qs96oh_Zcu"
   },
   "outputs": [],
   "source": [
    "# Подсчёт прослушиваний в каждом городе\n",
    "city_group = df.groupby('city')\n",
    "city_group['track'].count()"
   ]
  },
  {
   "cell_type": "code",
   "execution_count": null,
   "metadata": {
    "id": "uZMKjiJz_Zcu"
   },
   "outputs": [],
   "source": [
    "# Подсчёт прослушиваний в каждый из трёх дней\n",
    "day_group = df.groupby('day')\n",
    "day_group['track'].count()"
   ]
  },
  {
   "cell_type": "code",
   "execution_count": null,
   "metadata": {
    "id": "Nz3GdQB1_Zcu"
   },
   "outputs": [],
   "source": [
    "# <создание функции number_tracks()>\n",
    "# Объявляется функция с двумя параметрами: day, city.\n",
    "# В переменной track_list сохраняются те строки таблицы df, для которых \n",
    "# значение в столбце 'day' равно параметру day и одновременно значение\n",
    "# в столбце 'city' равно параметру city (используйте последовательную фильтрацию\n",
    "# с помощью логической индексации).\n",
    "# В переменной track_list_count сохраняется число значений столбца 'user_id',\n",
    "# рассчитанное методом count() для таблицы track_list.\n",
    "# Функция возвращает число - значение track_list_count.\n",
    "def number_tracks(day, city):\n",
    "    track_list = df[(df['day'] == day) & (df['city'] == city)]\n",
    "    track_list_count = track_list['user_id'].count()\n",
    "    return track_list_count\n",
    "# Функция для подсчёта прослушиваний для конкретного города и дня.\n",
    "# С помощью последовательной фильтрации с логической индексацией она \n",
    "# сначала получит из исходной таблицы строки с нужным днём,\n",
    "# затем из результата отфильтрует строки с нужным городом,\n",
    "# методом count() посчитает количество значений в колонке user_id. \n",
    "# Это количество функция вернёт в качестве результата"
   ]
  },
  {
   "cell_type": "code",
   "execution_count": null,
   "metadata": {
    "id": "rJcRATNQ_Zcu"
   },
   "outputs": [],
   "source": [
    "# количество прослушиваний в Москве по понедельникам\n",
    "number_tracks('Monday', 'Moscow')"
   ]
  },
  {
   "cell_type": "code",
   "execution_count": null,
   "metadata": {
    "id": "hq_ncZ5T_Zcu"
   },
   "outputs": [],
   "source": [
    "# количество прослушиваний в Санкт-Петербурге по понедельникам\n",
    "number_tracks('Monday', 'Saint-Petersburg')"
   ]
  },
  {
   "cell_type": "code",
   "execution_count": null,
   "metadata": {
    "id": "_NTy2VPU_Zcu"
   },
   "outputs": [],
   "source": [
    "# количество прослушиваний в Москве по средам\n",
    "number_tracks('Wednesday', 'Moscow')"
   ]
  },
  {
   "cell_type": "code",
   "execution_count": null,
   "metadata": {
    "id": "j2y3TAwo_Zcu"
   },
   "outputs": [],
   "source": [
    "# количество прослушиваний в Санкт-Петербурге по средам\n",
    "number_tracks('Wednesday', 'Saint-Petersburg')"
   ]
  },
  {
   "cell_type": "code",
   "execution_count": null,
   "metadata": {
    "id": "vYDw5u_K_Zcu"
   },
   "outputs": [],
   "source": [
    "# количество прослушиваний в Москве по пятницам\n",
    "number_tracks('Friday', 'Moscow')"
   ]
  },
  {
   "cell_type": "code",
   "execution_count": 5,
   "metadata": {
    "id": "8_yzFtW3_Zcu"
   },
   "outputs": [
    {
     "ename": "NameError",
     "evalue": "name 'number_tracks' is not defined",
     "output_type": "error",
     "traceback": [
      "\u001b[1;31m---------------------------------------------------------------------------\u001b[0m",
      "\u001b[1;31mNameError\u001b[0m                                 Traceback (most recent call last)",
      "\u001b[1;32m~\\AppData\\Local\\Temp/ipykernel_12856/2578850092.py\u001b[0m in \u001b[0;36m<module>\u001b[1;34m\u001b[0m\n\u001b[0;32m      1\u001b[0m \u001b[1;31m# количество прослушиваний в Санкт-Петербурге по пятницам\u001b[0m\u001b[1;33m\u001b[0m\u001b[1;33m\u001b[0m\u001b[1;33m\u001b[0m\u001b[0m\n\u001b[1;32m----> 2\u001b[1;33m \u001b[0mnumber_tracks\u001b[0m\u001b[1;33m(\u001b[0m\u001b[1;34m'Friday'\u001b[0m\u001b[1;33m,\u001b[0m \u001b[1;34m'Saint-Petersburg'\u001b[0m\u001b[1;33m)\u001b[0m\u001b[1;33m\u001b[0m\u001b[1;33m\u001b[0m\u001b[0m\n\u001b[0m",
      "\u001b[1;31mNameError\u001b[0m: name 'number_tracks' is not defined"
     ]
    }
   ],
   "source": [
    "# количество прослушиваний в Санкт-Петербурге по пятницам\n",
    "number_tracks('Friday', 'Saint-Petersburg')"
   ]
  },
  {
   "cell_type": "code",
   "execution_count": null,
   "metadata": {
    "id": "APAcLpOr_Zcu"
   },
   "outputs": [],
   "source": [
    "# Таблица с результатами\n",
    "columns = ['city', 'monday', 'wednesday', 'friday']\n",
    "data = [['Moscow', number_tracks('Monday', 'Moscow'), number_tracks('Wednesday', 'Moscow'), number_tracks('Friday', 'Moscow')],\n",
    "       ['Saint-Petersburg', number_tracks('Monday', 'Saint-Petersburg'), number_tracks('Wednesday', 'Saint-Petersburg'), number_tracks('Friday', 'Saint-Petersburg')]]\n",
    "pd.DataFrame(data=data, columns=columns)"
   ]
  },
  {
   "cell_type": "markdown",
   "metadata": {
    "id": "-EgPIHYu_Zcu"
   },
   "source": [
    "**Выводы**\n",
    "\n",
    "Данные показывают разницу поведения пользователей:\n",
    "\n",
    "- В Москве пик прослушиваний приходится на понедельник и пятницу, а в среду заметен спад.\n",
    "- В Петербурге, наоборот, больше слушают музыку по средам. Активность в понедельник и пятницу здесь почти в равной мере уступает среде.\n",
    "\n",
    "Значит, данные говорят в пользу первой гипотезы."
   ]
  },
  {
   "cell_type": "markdown",
   "metadata": {
    "id": "atZAxtq4_Zcu"
   },
   "source": [
    "### Музыка в начале и в конце недели"
   ]
  },
  {
   "cell_type": "code",
   "execution_count": null,
   "metadata": {
    "id": "qeaFfM_P_Zcu"
   },
   "outputs": [],
   "source": [
    "# получение таблицы moscow_general из тех строк таблицы df, \n",
    "# для которых значение в столбце 'city' равно 'Moscow'\n",
    "moscow_general = df[df['city'] == 'Moscow']"
   ]
  },
  {
   "cell_type": "code",
   "execution_count": null,
   "metadata": {
    "id": "ORaVRKto_Zcu"
   },
   "outputs": [],
   "source": [
    "# получение таблицы spb_general из тех строк таблицы df,\n",
    "# для которых значение в столбце 'city' равно 'Saint-Petersburg'\n",
    "spb_general = df[df['city'] == 'Saint-Petersburg']"
   ]
  },
  {
   "cell_type": "code",
   "execution_count": null,
   "metadata": {
    "id": "laJT9BYl_Zcu"
   },
   "outputs": [],
   "source": [
    "# Объявление функции genre_weekday() с параметрами table, day, time1, time2,\n",
    "# которая возвращает информацию о самых популярных жанрах в указанный день в\n",
    "# заданное время:\n",
    "# 1) в переменную genre_df сохраняются те строки переданного датафрейма table, для\n",
    "#    которых одновременно:\n",
    "#    - значение в столбце day равно значению аргумента day\n",
    "#    - значение в столбце time больше значения аргумента time1\n",
    "#    - значение в столбце time меньше значения аргумента time2\n",
    "#    Используйте последовательную фильтрацию с помощью логической индексации.\n",
    "# 2) сгруппировать датафрейм genre_df по столбцу genre, взять один из его\n",
    "#    столбцов и посчитать методом count() количество записей для каждого из\n",
    "#    присутствующих жанров, получившийся Series записать в переменную\n",
    "#    genre_df_count\n",
    "# 3) отсортировать genre_df_count по убыванию встречаемости и сохранить\n",
    "#    в переменную genre_df_sorted\n",
    "# 4) вернуть Series из 10 первых значений genre_df_sorted, это будут топ-10\n",
    "#    популярных жанров (в указанный день, в заданное время)\n",
    "def genre_weekday(table, day, time1, time2):\n",
    "    genre_df = table[(table['day'] == day) & (time1 < table['time']) & (table['time'] < time2)]\n",
    "    genre_df_count = genre_df.groupby('genre')['genre'].count()\n",
    "    genre_df_sorted = genre_df_count.sort_values(ascending=False)\n",
    "    return genre_df_sorted.head(10)"
   ]
  },
  {
   "cell_type": "code",
   "execution_count": null,
   "metadata": {
    "id": "yz7itPUQ_Zcu"
   },
   "outputs": [],
   "source": [
    "# вызов функции для утра понедельника в Москве (вместо df — таблица moscow_general)\n",
    "# объекты, хранящие время, являются строками и сравниваются как строки\n",
    "# пример вызова: genre_weekday(moscow_general, 'Monday', '07:00', '11:00')\n",
    "genre_weekday(moscow_general, 'Monday', '07:00', '11:00')"
   ]
  },
  {
   "cell_type": "code",
   "execution_count": null,
   "metadata": {
    "id": "kwUcHPdy_Zcu"
   },
   "outputs": [],
   "source": [
    "# вызов функции для утра понедельника в Петербурге (вместо df — таблица spb_general)\n",
    "genre_weekday(spb_general, 'Monday', '07:00', '11:00')"
   ]
  },
  {
   "cell_type": "code",
   "execution_count": null,
   "metadata": {
    "id": "EzXVRE1o_Zcu"
   },
   "outputs": [],
   "source": [
    "# вызов функции для вечера пятницы в Москве\n",
    "genre_weekday(moscow_general, 'Friday', '17:00', '23:00')"
   ]
  },
  {
   "cell_type": "code",
   "execution_count": null,
   "metadata": {
    "id": "JZaEKu5v_Zcu"
   },
   "outputs": [],
   "source": [
    "# вызов функции для вечера пятницы в Петербурге\n",
    "genre_weekday(spb_general, 'Friday', '17:00', '23:00')"
   ]
  },
  {
   "cell_type": "markdown",
   "metadata": {
    "id": "wrCe4MNX_Zcu"
   },
   "source": [
    "**Выводы**\n",
    "\n",
    "Если сравнить топ-10 жанров в понедельник утром, можно сделать такие выводы:\n",
    "\n",
    "1. В Москве и Петербурге слушают похожую музыку. Единственное отличие — в московский рейтинг вошёл жанр “world”, а в петербургский — джаз и классика.\n",
    "\n",
    "2. В Москве пропущенных значений оказалось так много, что значение `'unknown'` заняло десятое место среди самых популярных жанров. Значит, пропущенные значения занимают существенную долю в данных и угрожают достоверности исследования.\n",
    "\n",
    "Вечер пятницы не меняет эту картину. Некоторые жанры поднимаются немного выше, другие спускаются, но в целом топ-10 остаётся тем же самым.\n",
    "\n",
    "Таким образом, вторая гипотеза подтвердилась лишь частично:\n",
    "* Пользователи слушают похожую музыку в начале недели и в конце.\n",
    "* Разница между Москвой и Петербургом не слишком выражена. В Москве чаще слушают русскую популярную музыку, в Петербурге — джаз.\n",
    "\n",
    "Однако пропуски в данных ставят под сомнение этот результат. В Москве их так много, что рейтинг топ-10 мог бы выглядеть иначе, если бы не утерянные  данные о жанрах."
   ]
  },
  {
   "cell_type": "markdown",
   "metadata": {
    "id": "JolODAqr_Zcu"
   },
   "source": [
    "### Жанровые предпочтения в Москве и Петербурге\n",
    "\n",
    "Гипотеза: Петербург — столица рэпа, музыку этого жанра там слушают чаще, чем в Москве.  А Москва — город контрастов, в котором, тем не менее, преобладает поп-музыка."
   ]
  },
  {
   "cell_type": "code",
   "execution_count": null,
   "metadata": {
    "id": "r19lIPke_Zcu"
   },
   "outputs": [],
   "source": [
    "# одной строкой: группировка таблицы moscow_general по столбцу 'genre', \n",
    "# подсчёт числа значений 'genre' в этой группировке методом count(), \n",
    "# сортировка получившегося Series в порядке убывания и сохранение в moscow_genres\n",
    "moscow_genres = moscow_general.groupby('genre')['user_id'].count().sort_values(ascending=False)"
   ]
  },
  {
   "cell_type": "code",
   "execution_count": null,
   "metadata": {
    "id": "WhCSooF8_Zcv"
   },
   "outputs": [],
   "source": [
    "# просмотр первых 10 строк moscow_genres\n",
    "moscow_genres.head(10)"
   ]
  },
  {
   "cell_type": "code",
   "execution_count": null,
   "metadata": {
    "id": "gluLIpE7_Zcv"
   },
   "outputs": [],
   "source": [
    "# одной строкой: группировка таблицы spb_general по столбцу 'genre', \n",
    "# подсчёт числа значений 'genre' в этой группировке методом count(), \n",
    "# сортировка получившегося Series в порядке убывания и сохранение в spb_genres\n",
    "spb_genres = spb_general.groupby('genre')['user_id'].count().sort_values(ascending=False)"
   ]
  },
  {
   "cell_type": "code",
   "execution_count": null,
   "metadata": {
    "id": "uaGJHjVU_Zcv"
   },
   "outputs": [],
   "source": [
    "# просмотр первых 10 строк spb_genres\n",
    "spb_genres.head(10)"
   ]
  },
  {
   "cell_type": "markdown",
   "metadata": {
    "id": "RY51YJYu_Zcv"
   },
   "source": [
    "**Выводы**"
   ]
  },
  {
   "cell_type": "markdown",
   "metadata": {
    "id": "nVhnJEm__Zcv"
   },
   "source": [
    "Гипотеза частично подтвердилась:\n",
    "* Поп-музыка — самый популярный жанр в Москве, как и предполагала гипотеза. Более того, в топ-10 жанров встречается близкий жанр — русская популярная музыка.\n",
    "* Вопреки ожиданиям, рэп одинаково популярен в Москве и Петербурге. \n"
   ]
  }
 ],
 "metadata": {
  "ExecuteTimeLog": [
   {
    "duration": 788,
    "start_time": "2022-02-07T14:23:56.610Z"
   },
   {
    "duration": 67,
    "start_time": "2022-02-07T14:24:34.461Z"
   },
   {
    "duration": 280,
    "start_time": "2022-02-07T14:24:39.176Z"
   },
   {
    "duration": 334,
    "start_time": "2022-02-07T14:24:53.834Z"
   },
   {
    "duration": 70,
    "start_time": "2022-02-07T14:25:00.398Z"
   },
   {
    "duration": 67,
    "start_time": "2022-02-07T14:25:10.248Z"
   },
   {
    "duration": 1587,
    "start_time": "2022-02-07T14:25:30.951Z"
   },
   {
    "duration": 412,
    "start_time": "2022-02-09T06:55:50.301Z"
   },
   {
    "duration": 579,
    "start_time": "2022-02-09T06:55:54.040Z"
   },
   {
    "duration": 1668,
    "start_time": "2022-02-09T06:55:55.326Z"
   },
   {
    "duration": 2023,
    "start_time": "2022-02-09T06:56:01.377Z"
   },
   {
    "duration": 149,
    "start_time": "2022-02-09T06:56:11.581Z"
   },
   {
    "duration": 20,
    "start_time": "2022-02-09T06:56:59.182Z"
   },
   {
    "duration": 27,
    "start_time": "2022-02-09T06:57:07.390Z"
   },
   {
    "duration": 5,
    "start_time": "2022-02-09T07:01:53.570Z"
   },
   {
    "duration": 22,
    "start_time": "2022-02-09T13:26:57.858Z"
   },
   {
    "duration": 5,
    "start_time": "2022-02-09T13:27:13.426Z"
   },
   {
    "duration": 33,
    "start_time": "2022-02-09T13:27:33.793Z"
   },
   {
    "duration": 27,
    "start_time": "2022-02-09T13:27:38.616Z"
   },
   {
    "duration": 31,
    "start_time": "2022-02-09T13:28:10.414Z"
   },
   {
    "duration": 5,
    "start_time": "2022-02-09T13:28:11.073Z"
   },
   {
    "duration": 17,
    "start_time": "2022-02-09T13:28:58.584Z"
   },
   {
    "duration": 4,
    "start_time": "2022-02-09T13:28:58.993Z"
   },
   {
    "duration": 4,
    "start_time": "2022-02-09T13:29:28.770Z"
   },
   {
    "duration": 14,
    "start_time": "2022-02-09T13:29:30.048Z"
   },
   {
    "duration": 4,
    "start_time": "2022-02-09T13:29:30.865Z"
   },
   {
    "duration": 3,
    "start_time": "2022-02-09T13:30:24.536Z"
   },
   {
    "duration": 169,
    "start_time": "2022-02-09T13:30:24.904Z"
   },
   {
    "duration": 12,
    "start_time": "2022-02-09T13:30:25.486Z"
   },
   {
    "duration": 26,
    "start_time": "2022-02-09T13:30:27.800Z"
   },
   {
    "duration": 68,
    "start_time": "2022-02-09T13:30:28.313Z"
   },
   {
    "duration": 5,
    "start_time": "2022-02-09T13:30:40.896Z"
   },
   {
    "duration": 12,
    "start_time": "2022-02-09T13:30:43.138Z"
   },
   {
    "duration": 5,
    "start_time": "2022-02-09T13:30:43.858Z"
   },
   {
    "duration": 17,
    "start_time": "2022-02-09T13:31:10.176Z"
   },
   {
    "duration": 4,
    "start_time": "2022-02-09T13:31:10.602Z"
   },
   {
    "duration": 14,
    "start_time": "2022-02-09T13:31:20.888Z"
   },
   {
    "duration": 5,
    "start_time": "2022-02-09T13:31:21.551Z"
   },
   {
    "duration": 14,
    "start_time": "2022-02-09T13:31:25.672Z"
   },
   {
    "duration": 5,
    "start_time": "2022-02-09T13:31:26.647Z"
   },
   {
    "duration": 14,
    "start_time": "2022-02-09T13:31:37.311Z"
   },
   {
    "duration": 5,
    "start_time": "2022-02-09T13:31:37.815Z"
   },
   {
    "duration": 14,
    "start_time": "2022-02-09T13:31:41.655Z"
   },
   {
    "duration": 4,
    "start_time": "2022-02-09T13:31:42.163Z"
   },
   {
    "duration": 14,
    "start_time": "2022-02-09T13:31:50.687Z"
   },
   {
    "duration": 5,
    "start_time": "2022-02-09T13:31:51.087Z"
   },
   {
    "duration": 26,
    "start_time": "2022-02-09T13:31:55.767Z"
   },
   {
    "duration": 203,
    "start_time": "2022-02-09T13:35:19.664Z"
   },
   {
    "duration": 25,
    "start_time": "2022-02-09T13:35:31.382Z"
   },
   {
    "duration": 26,
    "start_time": "2022-02-09T13:35:49.727Z"
   },
   {
    "duration": 60,
    "start_time": "2022-02-09T13:36:46.991Z"
   },
   {
    "duration": 80,
    "start_time": "2022-02-09T13:38:28.655Z"
   },
   {
    "duration": 14949,
    "start_time": "2022-02-09T13:38:46.959Z"
   },
   {
    "duration": 2,
    "start_time": "2022-02-09T13:39:17.843Z"
   },
   {
    "duration": 163,
    "start_time": "2022-02-09T13:39:17.847Z"
   },
   {
    "duration": 11,
    "start_time": "2022-02-09T13:39:18.013Z"
   },
   {
    "duration": 34,
    "start_time": "2022-02-09T13:39:18.027Z"
   },
   {
    "duration": 7,
    "start_time": "2022-02-09T13:39:18.063Z"
   },
   {
    "duration": 40,
    "start_time": "2022-02-09T13:39:18.072Z"
   },
   {
    "duration": 5,
    "start_time": "2022-02-09T13:39:18.114Z"
   },
   {
    "duration": 33,
    "start_time": "2022-02-09T13:39:18.121Z"
   },
   {
    "duration": 20,
    "start_time": "2022-02-09T13:39:18.156Z"
   },
   {
    "duration": 45,
    "start_time": "2022-02-09T13:39:18.178Z"
   },
   {
    "duration": 68,
    "start_time": "2022-02-09T13:39:18.225Z"
   },
   {
    "duration": 79,
    "start_time": "2022-02-09T13:39:18.307Z"
   },
   {
    "duration": 66,
    "start_time": "2022-02-09T13:39:36.567Z"
   },
   {
    "duration": 91,
    "start_time": "2022-02-09T13:39:44.711Z"
   },
   {
    "duration": 123,
    "start_time": "2022-02-09T13:39:45.769Z"
   },
   {
    "duration": 95,
    "start_time": "2022-02-09T13:39:48.199Z"
   },
   {
    "duration": 69,
    "start_time": "2022-02-09T13:40:20.487Z"
   },
   {
    "duration": 61,
    "start_time": "2022-02-09T13:40:21.470Z"
   },
   {
    "duration": 43,
    "start_time": "2022-02-09T13:41:09.951Z"
   },
   {
    "duration": 44,
    "start_time": "2022-02-09T13:41:17.342Z"
   },
   {
    "duration": 3,
    "start_time": "2022-02-09T13:46:50.030Z"
   },
   {
    "duration": 10,
    "start_time": "2022-02-09T13:47:49.645Z"
   },
   {
    "duration": 52,
    "start_time": "2022-02-09T13:48:14.253Z"
   },
   {
    "duration": 7,
    "start_time": "2022-02-09T13:50:43.053Z"
   },
   {
    "duration": 3,
    "start_time": "2022-02-09T13:51:47.980Z"
   },
   {
    "duration": 10,
    "start_time": "2022-02-09T13:52:51.612Z"
   },
   {
    "duration": 9,
    "start_time": "2022-02-09T13:52:56.892Z"
   },
   {
    "duration": 14,
    "start_time": "2022-02-09T13:53:04.315Z"
   },
   {
    "duration": 13,
    "start_time": "2022-02-09T13:54:42.252Z"
   },
   {
    "duration": 229,
    "start_time": "2022-02-09T13:55:09.068Z"
   },
   {
    "duration": 258,
    "start_time": "2022-02-09T13:55:26.252Z"
   },
   {
    "duration": 205,
    "start_time": "2022-02-09T14:00:47.610Z"
   },
   {
    "duration": 6,
    "start_time": "2022-02-09T14:01:03.098Z"
   },
   {
    "duration": 12,
    "start_time": "2022-02-09T14:01:07.921Z"
   },
   {
    "duration": 327,
    "start_time": "2022-02-09T14:01:26.140Z"
   },
   {
    "duration": 230,
    "start_time": "2022-02-09T14:02:20.227Z"
   },
   {
    "duration": 237,
    "start_time": "2022-02-09T14:04:09.850Z"
   },
   {
    "duration": 5,
    "start_time": "2022-02-09T14:04:59.835Z"
   },
   {
    "duration": 14,
    "start_time": "2022-02-09T14:05:05.066Z"
   },
   {
    "duration": 606,
    "start_time": "2022-02-09T17:02:17.429Z"
   },
   {
    "duration": 131,
    "start_time": "2022-02-09T17:02:18.037Z"
   },
   {
    "duration": 15,
    "start_time": "2022-02-09T17:02:18.170Z"
   },
   {
    "duration": 42,
    "start_time": "2022-02-09T17:02:18.187Z"
   },
   {
    "duration": 3,
    "start_time": "2022-02-09T17:02:18.231Z"
   },
   {
    "duration": 23,
    "start_time": "2022-02-09T17:02:18.236Z"
   },
   {
    "duration": 5,
    "start_time": "2022-02-09T17:02:18.261Z"
   },
   {
    "duration": 23,
    "start_time": "2022-02-09T17:02:18.268Z"
   },
   {
    "duration": 40,
    "start_time": "2022-02-09T17:02:18.293Z"
   },
   {
    "duration": 22,
    "start_time": "2022-02-09T17:02:18.334Z"
   },
   {
    "duration": 79,
    "start_time": "2022-02-09T17:02:18.358Z"
   },
   {
    "duration": 78,
    "start_time": "2022-02-09T17:02:18.439Z"
   },
   {
    "duration": 55,
    "start_time": "2022-02-09T17:02:18.520Z"
   },
   {
    "duration": 57,
    "start_time": "2022-02-09T17:02:18.577Z"
   },
   {
    "duration": 3,
    "start_time": "2022-02-09T17:02:18.636Z"
   },
   {
    "duration": 12,
    "start_time": "2022-02-09T17:02:18.640Z"
   },
   {
    "duration": 40,
    "start_time": "2022-02-09T17:02:18.653Z"
   },
   {
    "duration": 14,
    "start_time": "2022-02-09T17:02:18.715Z"
   },
   {
    "duration": 10,
    "start_time": "2022-02-09T17:02:18.731Z"
   },
   {
    "duration": 13,
    "start_time": "2022-02-09T17:15:31.835Z"
   },
   {
    "duration": 3,
    "start_time": "2022-02-09T17:16:58.739Z"
   },
   {
    "duration": 13,
    "start_time": "2022-02-09T17:17:02.743Z"
   },
   {
    "duration": 12,
    "start_time": "2022-02-09T17:18:44.376Z"
   },
   {
    "duration": 12,
    "start_time": "2022-02-09T17:19:15.572Z"
   },
   {
    "duration": 15,
    "start_time": "2022-02-09T17:20:16.100Z"
   },
   {
    "duration": 11,
    "start_time": "2022-02-09T17:21:25.713Z"
   },
   {
    "duration": 107,
    "start_time": "2022-02-09T17:21:35.261Z"
   },
   {
    "duration": 11,
    "start_time": "2022-02-09T17:21:41.105Z"
   },
   {
    "duration": 4619,
    "start_time": "2022-02-09T17:21:53.192Z"
   },
   {
    "duration": 10,
    "start_time": "2022-02-09T17:46:51.813Z"
   },
   {
    "duration": 3,
    "start_time": "2022-02-09T17:46:57.936Z"
   },
   {
    "duration": 136,
    "start_time": "2022-02-09T17:46:57.941Z"
   },
   {
    "duration": 10,
    "start_time": "2022-02-09T17:46:58.080Z"
   },
   {
    "duration": 33,
    "start_time": "2022-02-09T17:46:58.092Z"
   },
   {
    "duration": 4,
    "start_time": "2022-02-09T17:46:58.126Z"
   },
   {
    "duration": 20,
    "start_time": "2022-02-09T17:46:58.131Z"
   },
   {
    "duration": 4,
    "start_time": "2022-02-09T17:46:58.153Z"
   },
   {
    "duration": 23,
    "start_time": "2022-02-09T17:46:58.159Z"
   },
   {
    "duration": 42,
    "start_time": "2022-02-09T17:46:58.184Z"
   },
   {
    "duration": 23,
    "start_time": "2022-02-09T17:46:58.228Z"
   },
   {
    "duration": 63,
    "start_time": "2022-02-09T17:46:58.253Z"
   },
   {
    "duration": 59,
    "start_time": "2022-02-09T17:46:58.318Z"
   },
   {
    "duration": 62,
    "start_time": "2022-02-09T17:46:58.379Z"
   },
   {
    "duration": 39,
    "start_time": "2022-02-09T17:46:58.443Z"
   },
   {
    "duration": 12,
    "start_time": "2022-02-09T17:46:58.483Z"
   },
   {
    "duration": 24,
    "start_time": "2022-02-09T17:46:58.496Z"
   },
   {
    "duration": 45,
    "start_time": "2022-02-09T17:46:58.521Z"
   },
   {
    "duration": 14,
    "start_time": "2022-02-09T17:46:58.567Z"
   },
   {
    "duration": 10,
    "start_time": "2022-02-09T17:46:58.582Z"
   },
   {
    "duration": 2,
    "start_time": "2022-02-09T17:46:58.594Z"
   },
   {
    "duration": 10,
    "start_time": "2022-02-09T17:47:12.005Z"
   },
   {
    "duration": 12,
    "start_time": "2022-02-09T17:47:20.017Z"
   },
   {
    "duration": 18,
    "start_time": "2022-02-09T17:47:35.632Z"
   },
   {
    "duration": 13,
    "start_time": "2022-02-09T17:48:12.471Z"
   },
   {
    "duration": 13,
    "start_time": "2022-02-09T17:48:36.032Z"
   },
   {
    "duration": 251,
    "start_time": "2022-02-09T17:49:16.181Z"
   },
   {
    "duration": 11,
    "start_time": "2022-02-09T17:49:27.488Z"
   },
   {
    "duration": 11,
    "start_time": "2022-02-09T17:49:56.531Z"
   },
   {
    "duration": 13,
    "start_time": "2022-02-09T17:50:23.970Z"
   },
   {
    "duration": 13,
    "start_time": "2022-02-09T17:50:47.528Z"
   },
   {
    "duration": 17,
    "start_time": "2022-02-09T17:53:56.376Z"
   },
   {
    "duration": 13,
    "start_time": "2022-02-09T17:54:11.717Z"
   },
   {
    "duration": 13,
    "start_time": "2022-02-09T17:54:32.316Z"
   },
   {
    "duration": 13,
    "start_time": "2022-02-09T17:54:34.330Z"
   },
   {
    "duration": 3,
    "start_time": "2022-02-09T17:54:53.664Z"
   },
   {
    "duration": 17,
    "start_time": "2022-02-09T17:54:54.217Z"
   },
   {
    "duration": 14,
    "start_time": "2022-02-09T17:54:54.597Z"
   },
   {
    "duration": 16,
    "start_time": "2022-02-09T17:54:56.475Z"
   },
   {
    "duration": 14,
    "start_time": "2022-02-09T17:54:56.706Z"
   },
   {
    "duration": 17,
    "start_time": "2022-02-09T17:54:57.051Z"
   },
   {
    "duration": 14,
    "start_time": "2022-02-09T17:54:57.492Z"
   },
   {
    "duration": 517,
    "start_time": "2022-02-09T17:56:30.090Z"
   },
   {
    "duration": 63,
    "start_time": "2022-02-09T17:56:40.864Z"
   },
   {
    "duration": 7,
    "start_time": "2022-02-09T17:57:23.130Z"
   },
   {
    "duration": 69,
    "start_time": "2022-02-09T17:57:58.629Z"
   },
   {
    "duration": 20,
    "start_time": "2022-02-09T17:59:50.151Z"
   },
   {
    "duration": 9,
    "start_time": "2022-02-09T18:00:28.621Z"
   },
   {
    "duration": 4,
    "start_time": "2022-02-09T18:03:37.614Z"
   },
   {
    "duration": 3,
    "start_time": "2022-02-09T18:16:36.285Z"
   },
   {
    "duration": 156,
    "start_time": "2022-02-09T18:16:36.290Z"
   },
   {
    "duration": 10,
    "start_time": "2022-02-09T18:16:36.448Z"
   },
   {
    "duration": 28,
    "start_time": "2022-02-09T18:16:36.460Z"
   },
   {
    "duration": 3,
    "start_time": "2022-02-09T18:16:36.490Z"
   },
   {
    "duration": 15,
    "start_time": "2022-02-09T18:16:36.513Z"
   },
   {
    "duration": 4,
    "start_time": "2022-02-09T18:16:36.531Z"
   },
   {
    "duration": 25,
    "start_time": "2022-02-09T18:16:36.536Z"
   },
   {
    "duration": 18,
    "start_time": "2022-02-09T18:16:36.563Z"
   },
   {
    "duration": 53,
    "start_time": "2022-02-09T18:16:36.583Z"
   },
   {
    "duration": 75,
    "start_time": "2022-02-09T18:16:36.637Z"
   },
   {
    "duration": 62,
    "start_time": "2022-02-09T18:16:36.714Z"
   },
   {
    "duration": 64,
    "start_time": "2022-02-09T18:16:36.777Z"
   },
   {
    "duration": 42,
    "start_time": "2022-02-09T18:16:36.843Z"
   },
   {
    "duration": 3,
    "start_time": "2022-02-09T18:16:36.887Z"
   },
   {
    "duration": 32,
    "start_time": "2022-02-09T18:16:36.892Z"
   },
   {
    "duration": 40,
    "start_time": "2022-02-09T18:16:36.926Z"
   },
   {
    "duration": 11,
    "start_time": "2022-02-09T18:16:36.968Z"
   },
   {
    "duration": 31,
    "start_time": "2022-02-09T18:16:36.982Z"
   },
   {
    "duration": 3,
    "start_time": "2022-02-09T18:16:37.015Z"
   },
   {
    "duration": 18,
    "start_time": "2022-02-09T18:16:37.019Z"
   },
   {
    "duration": 13,
    "start_time": "2022-02-09T18:16:37.039Z"
   },
   {
    "duration": 14,
    "start_time": "2022-02-09T18:16:37.054Z"
   },
   {
    "duration": 13,
    "start_time": "2022-02-09T18:16:37.069Z"
   },
   {
    "duration": 15,
    "start_time": "2022-02-09T18:16:37.113Z"
   },
   {
    "duration": 14,
    "start_time": "2022-02-09T18:16:37.130Z"
   },
   {
    "duration": 87,
    "start_time": "2022-02-09T18:16:37.146Z"
   },
   {
    "duration": 12,
    "start_time": "2022-02-09T18:16:37.234Z"
   },
   {
    "duration": 9,
    "start_time": "2022-02-09T18:16:37.247Z"
   },
   {
    "duration": 3,
    "start_time": "2022-02-09T18:16:37.258Z"
   },
   {
    "duration": 230,
    "start_time": "2022-02-09T18:17:37.827Z"
   },
   {
    "duration": 244,
    "start_time": "2022-02-09T18:17:45.575Z"
   },
   {
    "duration": 19,
    "start_time": "2022-02-09T18:18:03.733Z"
   },
   {
    "duration": 71,
    "start_time": "2022-02-09T18:18:22.835Z"
   },
   {
    "duration": 12,
    "start_time": "2022-02-09T18:18:36.118Z"
   },
   {
    "duration": 235,
    "start_time": "2022-02-09T18:19:08.392Z"
   },
   {
    "duration": 31,
    "start_time": "2022-02-09T18:19:20.485Z"
   },
   {
    "duration": 23,
    "start_time": "2022-02-09T18:19:43.230Z"
   },
   {
    "duration": 4,
    "start_time": "2022-02-09T18:20:25.832Z"
   },
   {
    "duration": 433,
    "start_time": "2022-02-09T18:20:34.434Z"
   },
   {
    "duration": 4,
    "start_time": "2022-02-09T18:20:43.793Z"
   },
   {
    "duration": 486,
    "start_time": "2022-02-09T18:20:50.044Z"
   },
   {
    "duration": 4,
    "start_time": "2022-02-09T18:21:57.389Z"
   },
   {
    "duration": 18,
    "start_time": "2022-02-09T18:22:00.763Z"
   },
   {
    "duration": 14,
    "start_time": "2022-02-09T18:22:45.173Z"
   },
   {
    "duration": 20,
    "start_time": "2022-02-09T18:23:32.159Z"
   },
   {
    "duration": 13,
    "start_time": "2022-02-09T18:24:05.310Z"
   },
   {
    "duration": 11,
    "start_time": "2022-02-09T18:27:21.728Z"
   },
   {
    "duration": 5,
    "start_time": "2022-02-09T18:27:28.549Z"
   },
   {
    "duration": 4,
    "start_time": "2022-02-09T18:27:47.831Z"
   },
   {
    "duration": 9,
    "start_time": "2022-02-09T18:29:07.067Z"
   },
   {
    "duration": 5,
    "start_time": "2022-02-09T18:29:19.312Z"
   },
   {
    "duration": 7,
    "start_time": "2022-02-09T18:29:59.783Z"
   },
   {
    "duration": 5,
    "start_time": "2022-02-09T18:30:00.855Z"
   },
   {
    "duration": 10,
    "start_time": "2022-02-09T18:30:09.748Z"
   },
   {
    "duration": 6,
    "start_time": "2022-02-09T18:30:10.385Z"
   },
   {
    "duration": 8,
    "start_time": "2022-02-09T18:30:12.196Z"
   },
   {
    "duration": 5,
    "start_time": "2022-02-09T18:30:14.078Z"
   },
   {
    "duration": 72,
    "start_time": "2022-02-14T18:31:42.970Z"
   },
   {
    "duration": 111,
    "start_time": "2022-02-16T06:50:56.924Z"
   },
   {
    "duration": 85,
    "start_time": "2022-02-16T06:51:20.348Z"
   },
   {
    "duration": 327,
    "start_time": "2022-02-16T06:55:47.597Z"
   },
   {
    "duration": 721,
    "start_time": "2022-02-16T06:56:10.348Z"
   },
   {
    "duration": 179,
    "start_time": "2022-02-16T06:56:11.072Z"
   },
   {
    "duration": 26,
    "start_time": "2022-02-16T06:56:11.255Z"
   },
   {
    "duration": 37,
    "start_time": "2022-02-16T06:56:11.284Z"
   },
   {
    "duration": 26,
    "start_time": "2022-02-16T06:56:11.324Z"
   },
   {
    "duration": 25,
    "start_time": "2022-02-16T06:56:11.353Z"
   },
   {
    "duration": 10,
    "start_time": "2022-02-16T06:56:11.381Z"
   },
   {
    "duration": 55,
    "start_time": "2022-02-16T06:56:11.395Z"
   },
   {
    "duration": 23,
    "start_time": "2022-02-16T06:56:11.453Z"
   },
   {
    "duration": 28,
    "start_time": "2022-02-16T06:56:11.478Z"
   },
   {
    "duration": 106,
    "start_time": "2022-02-16T06:56:11.509Z"
   },
   {
    "duration": 105,
    "start_time": "2022-02-16T06:56:11.617Z"
   },
   {
    "duration": 82,
    "start_time": "2022-02-16T06:56:11.725Z"
   },
   {
    "duration": 64,
    "start_time": "2022-02-16T06:56:11.810Z"
   },
   {
    "duration": 4,
    "start_time": "2022-02-16T06:56:11.877Z"
   },
   {
    "duration": 19,
    "start_time": "2022-02-16T06:56:11.883Z"
   },
   {
    "duration": 79,
    "start_time": "2022-02-16T06:56:11.905Z"
   },
   {
    "duration": 16,
    "start_time": "2022-02-16T06:56:11.987Z"
   },
   {
    "duration": 16,
    "start_time": "2022-02-16T06:56:12.005Z"
   },
   {
    "duration": 6,
    "start_time": "2022-02-16T06:56:12.047Z"
   },
   {
    "duration": 27,
    "start_time": "2022-02-16T06:56:12.055Z"
   },
   {
    "duration": 22,
    "start_time": "2022-02-16T06:56:12.084Z"
   },
   {
    "duration": 46,
    "start_time": "2022-02-16T06:56:12.112Z"
   },
   {
    "duration": 19,
    "start_time": "2022-02-16T06:56:12.161Z"
   },
   {
    "duration": 21,
    "start_time": "2022-02-16T06:56:12.183Z"
   },
   {
    "duration": 53,
    "start_time": "2022-02-16T06:56:12.207Z"
   },
   {
    "duration": 107,
    "start_time": "2022-02-16T06:56:12.263Z"
   },
   {
    "duration": 14,
    "start_time": "2022-02-16T06:56:12.373Z"
   },
   {
    "duration": 13,
    "start_time": "2022-02-16T06:56:12.389Z"
   },
   {
    "duration": 8,
    "start_time": "2022-02-16T06:56:12.404Z"
   },
   {
    "duration": 52,
    "start_time": "2022-02-16T06:56:12.415Z"
   },
   {
    "duration": 17,
    "start_time": "2022-02-16T06:56:12.470Z"
   },
   {
    "duration": 24,
    "start_time": "2022-02-16T06:56:16.558Z"
   },
   {
    "duration": 96,
    "start_time": "2022-02-16T06:56:52.898Z"
   },
   {
    "duration": 19,
    "start_time": "2022-02-16T06:57:33.970Z"
   },
   {
    "duration": 132,
    "start_time": "2022-02-16T11:04:27.098Z"
   },
   {
    "duration": 728,
    "start_time": "2022-02-16T11:05:47.055Z"
   },
   {
    "duration": 183,
    "start_time": "2022-02-16T11:05:47.785Z"
   },
   {
    "duration": 25,
    "start_time": "2022-02-16T11:05:47.971Z"
   },
   {
    "duration": 33,
    "start_time": "2022-02-16T11:05:48.021Z"
   },
   {
    "duration": 7,
    "start_time": "2022-02-16T11:05:48.058Z"
   },
   {
    "duration": 50,
    "start_time": "2022-02-16T11:05:48.068Z"
   },
   {
    "duration": 8,
    "start_time": "2022-02-16T11:05:48.121Z"
   },
   {
    "duration": 48,
    "start_time": "2022-02-16T11:05:48.134Z"
   },
   {
    "duration": 29,
    "start_time": "2022-02-16T11:05:48.213Z"
   },
   {
    "duration": 31,
    "start_time": "2022-02-16T11:05:48.244Z"
   },
   {
    "duration": 116,
    "start_time": "2022-02-16T11:05:48.277Z"
   },
   {
    "duration": 108,
    "start_time": "2022-02-16T11:05:48.395Z"
   },
   {
    "duration": 85,
    "start_time": "2022-02-16T11:05:48.510Z"
   },
   {
    "duration": 77,
    "start_time": "2022-02-16T11:05:48.597Z"
   },
   {
    "duration": 4,
    "start_time": "2022-02-16T11:05:48.677Z"
   },
   {
    "duration": 39,
    "start_time": "2022-02-16T11:05:48.683Z"
   },
   {
    "duration": 61,
    "start_time": "2022-02-16T11:05:48.724Z"
   },
   {
    "duration": 31,
    "start_time": "2022-02-16T11:05:48.788Z"
   },
   {
    "duration": 17,
    "start_time": "2022-02-16T11:05:48.822Z"
   },
   {
    "duration": 6,
    "start_time": "2022-02-16T11:05:48.844Z"
   },
   {
    "duration": 58,
    "start_time": "2022-02-16T11:05:48.852Z"
   },
   {
    "duration": 20,
    "start_time": "2022-02-16T11:05:48.913Z"
   },
   {
    "duration": 17,
    "start_time": "2022-02-16T11:05:48.938Z"
   },
   {
    "duration": 22,
    "start_time": "2022-02-16T11:05:48.958Z"
   },
   {
    "duration": 20,
    "start_time": "2022-02-16T11:05:49.012Z"
   },
   {
    "duration": 20,
    "start_time": "2022-02-16T11:05:49.035Z"
   },
   {
    "duration": 121,
    "start_time": "2022-02-16T11:05:49.058Z"
   },
   {
    "duration": 14,
    "start_time": "2022-02-16T11:05:49.181Z"
   },
   {
    "duration": 23,
    "start_time": "2022-02-16T11:05:49.198Z"
   },
   {
    "duration": 5,
    "start_time": "2022-02-16T11:05:49.224Z"
   },
   {
    "duration": 30,
    "start_time": "2022-02-16T11:05:49.231Z"
   },
   {
    "duration": 47,
    "start_time": "2022-02-16T11:05:49.263Z"
   },
   {
    "duration": 26,
    "start_time": "2022-02-16T11:05:49.313Z"
   },
   {
    "duration": 18,
    "start_time": "2022-02-16T11:05:49.341Z"
   },
   {
    "duration": 49,
    "start_time": "2022-02-16T11:05:49.362Z"
   },
   {
    "duration": 6,
    "start_time": "2022-02-16T11:05:49.413Z"
   },
   {
    "duration": 10,
    "start_time": "2022-02-16T11:05:49.422Z"
   },
   {
    "duration": 6,
    "start_time": "2022-02-16T11:05:49.434Z"
   }
  ],
  "colab": {
   "collapsed_sections": [
    "E0vqbgi9ay0H",
    "VUC88oWjTJw2"
   ],
   "name": "yandex_music_project_2021.2.ipynb",
   "provenance": []
  },
  "kernelspec": {
   "display_name": "Python 3 (ipykernel)",
   "language": "python",
   "name": "python3"
  },
  "language_info": {
   "codemirror_mode": {
    "name": "ipython",
    "version": 3
   },
   "file_extension": ".py",
   "mimetype": "text/x-python",
   "name": "python",
   "nbconvert_exporter": "python",
   "pygments_lexer": "ipython3",
   "version": "3.8.8"
  },
  "toc": {
   "base_numbering": 1,
   "nav_menu": {},
   "number_sections": true,
   "sideBar": true,
   "skip_h1_title": true,
   "title_cell": "Table of Contents",
   "title_sidebar": "Contents",
   "toc_cell": false,
   "toc_position": {},
   "toc_section_display": true,
   "toc_window_display": true
  }
 },
 "nbformat": 4,
 "nbformat_minor": 1
}
