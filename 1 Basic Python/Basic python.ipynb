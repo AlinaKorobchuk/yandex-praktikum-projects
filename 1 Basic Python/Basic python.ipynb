{
 "cells": [
  {
   "cell_type": "markdown",
   "metadata": {
    "id": "E0vqbgi9ay0H"
   },
   "source": [
    "# Yandex.Music"
   ]
  },
  {
   "cell_type": "markdown",
   "metadata": {
    "id": "VUC88oWjTJw2"
   },
   "source": [
    "**The purpose of the study** is to test the hypotheses:\n",
    "1. User activity depends on the day of the week. Moreover, in Moscow and St. Petersburg this manifests itself in different ways.\n",
    "2. On Monday morning in Moscow, some genres prevail, and in St. Petersburg, others. Likewise, on Friday evenings, different genres predominate, depending on the city.\n",
    "3. Moscow and St. Petersburg prefer different genres of music. In Moscow people listen to pop music more often, in St. Petersburg they listen to Russian rap"
   ]
  },
  {
   "cell_type": "markdown",
   "metadata": {
    "id": "Ml1hmfXC_Zcs"
   },
   "source": [
    "## Data overview"
   ]
  },
  {
   "cell_type": "code",
   "execution_count": 1,
   "metadata": {
    "id": "AXN7PHPN_Zcs"
   },
   "outputs": [],
   "source": [
    "# import pandas library\n",
    "import pandas as pd"
   ]
  },
  {
   "cell_type": "code",
   "execution_count": 2,
   "metadata": {
    "id": "fFVu7vqh_Zct"
   },
   "outputs": [],
   "source": [
    "# reading data file and saving to df\n",
    "df = pd.read_csv('yandex_music_project.csv')"
   ]
  },
  {
   "cell_type": "code",
   "execution_count": 3,
   "metadata": {
    "id": "oWTVX3gW_Zct"
   },
   "outputs": [
    {
     "data": {
      "text/html": [
       "<div>\n",
       "<style scoped>\n",
       "    .dataframe tbody tr th:only-of-type {\n",
       "        vertical-align: middle;\n",
       "    }\n",
       "\n",
       "    .dataframe tbody tr th {\n",
       "        vertical-align: top;\n",
       "    }\n",
       "\n",
       "    .dataframe thead th {\n",
       "        text-align: right;\n",
       "    }\n",
       "</style>\n",
       "<table border=\"1\" class=\"dataframe\">\n",
       "  <thead>\n",
       "    <tr style=\"text-align: right;\">\n",
       "      <th></th>\n",
       "      <th>userID</th>\n",
       "      <th>Track</th>\n",
       "      <th>artist</th>\n",
       "      <th>genre</th>\n",
       "      <th>City</th>\n",
       "      <th>time</th>\n",
       "      <th>Day</th>\n",
       "    </tr>\n",
       "  </thead>\n",
       "  <tbody>\n",
       "    <tr>\n",
       "      <th>0</th>\n",
       "      <td>FFB692EC</td>\n",
       "      <td>Kamigata To Boots</td>\n",
       "      <td>The Mass Missile</td>\n",
       "      <td>rock</td>\n",
       "      <td>Saint-Petersburg</td>\n",
       "      <td>20:28:33</td>\n",
       "      <td>Wednesday</td>\n",
       "    </tr>\n",
       "    <tr>\n",
       "      <th>1</th>\n",
       "      <td>55204538</td>\n",
       "      <td>Delayed Because of Accident</td>\n",
       "      <td>Andreas Rönnberg</td>\n",
       "      <td>rock</td>\n",
       "      <td>Moscow</td>\n",
       "      <td>14:07:09</td>\n",
       "      <td>Friday</td>\n",
       "    </tr>\n",
       "    <tr>\n",
       "      <th>2</th>\n",
       "      <td>20EC38</td>\n",
       "      <td>Funiculì funiculà</td>\n",
       "      <td>Mario Lanza</td>\n",
       "      <td>pop</td>\n",
       "      <td>Saint-Petersburg</td>\n",
       "      <td>20:58:07</td>\n",
       "      <td>Wednesday</td>\n",
       "    </tr>\n",
       "    <tr>\n",
       "      <th>3</th>\n",
       "      <td>A3DD03C9</td>\n",
       "      <td>Dragons in the Sunset</td>\n",
       "      <td>Fire + Ice</td>\n",
       "      <td>folk</td>\n",
       "      <td>Saint-Petersburg</td>\n",
       "      <td>08:37:09</td>\n",
       "      <td>Monday</td>\n",
       "    </tr>\n",
       "    <tr>\n",
       "      <th>4</th>\n",
       "      <td>E2DC1FAE</td>\n",
       "      <td>Soul People</td>\n",
       "      <td>Space Echo</td>\n",
       "      <td>dance</td>\n",
       "      <td>Moscow</td>\n",
       "      <td>08:34:34</td>\n",
       "      <td>Monday</td>\n",
       "    </tr>\n",
       "    <tr>\n",
       "      <th>5</th>\n",
       "      <td>842029A1</td>\n",
       "      <td>Преданная</td>\n",
       "      <td>IMPERVTOR</td>\n",
       "      <td>rusrap</td>\n",
       "      <td>Saint-Petersburg</td>\n",
       "      <td>13:09:41</td>\n",
       "      <td>Friday</td>\n",
       "    </tr>\n",
       "    <tr>\n",
       "      <th>6</th>\n",
       "      <td>4CB90AA5</td>\n",
       "      <td>True</td>\n",
       "      <td>Roman Messer</td>\n",
       "      <td>dance</td>\n",
       "      <td>Moscow</td>\n",
       "      <td>13:00:07</td>\n",
       "      <td>Wednesday</td>\n",
       "    </tr>\n",
       "    <tr>\n",
       "      <th>7</th>\n",
       "      <td>F03E1C1F</td>\n",
       "      <td>Feeling This Way</td>\n",
       "      <td>Polina Griffith</td>\n",
       "      <td>dance</td>\n",
       "      <td>Moscow</td>\n",
       "      <td>20:47:49</td>\n",
       "      <td>Wednesday</td>\n",
       "    </tr>\n",
       "    <tr>\n",
       "      <th>8</th>\n",
       "      <td>8FA1D3BE</td>\n",
       "      <td>И вновь продолжается бой</td>\n",
       "      <td>NaN</td>\n",
       "      <td>ruspop</td>\n",
       "      <td>Moscow</td>\n",
       "      <td>09:17:40</td>\n",
       "      <td>Friday</td>\n",
       "    </tr>\n",
       "    <tr>\n",
       "      <th>9</th>\n",
       "      <td>E772D5C0</td>\n",
       "      <td>Pessimist</td>\n",
       "      <td>NaN</td>\n",
       "      <td>dance</td>\n",
       "      <td>Saint-Petersburg</td>\n",
       "      <td>21:20:49</td>\n",
       "      <td>Wednesday</td>\n",
       "    </tr>\n",
       "  </tbody>\n",
       "</table>\n",
       "</div>"
      ],
      "text/plain": [
       "     userID                        Track            artist   genre  \\\n",
       "0  FFB692EC            Kamigata To Boots  The Mass Missile    rock   \n",
       "1  55204538  Delayed Because of Accident  Andreas Rönnberg    rock   \n",
       "2    20EC38            Funiculì funiculà       Mario Lanza     pop   \n",
       "3  A3DD03C9        Dragons in the Sunset        Fire + Ice    folk   \n",
       "4  E2DC1FAE                  Soul People        Space Echo   dance   \n",
       "5  842029A1                    Преданная         IMPERVTOR  rusrap   \n",
       "6  4CB90AA5                         True      Roman Messer   dance   \n",
       "7  F03E1C1F             Feeling This Way   Polina Griffith   dance   \n",
       "8  8FA1D3BE     И вновь продолжается бой               NaN  ruspop   \n",
       "9  E772D5C0                    Pessimist               NaN   dance   \n",
       "\n",
       "             City        time        Day  \n",
       "0  Saint-Petersburg  20:28:33  Wednesday  \n",
       "1            Moscow  14:07:09     Friday  \n",
       "2  Saint-Petersburg  20:58:07  Wednesday  \n",
       "3  Saint-Petersburg  08:37:09     Monday  \n",
       "4            Moscow  08:34:34     Monday  \n",
       "5  Saint-Petersburg  13:09:41     Friday  \n",
       "6            Moscow  13:00:07  Wednesday  \n",
       "7            Moscow  20:47:49  Wednesday  \n",
       "8            Moscow  09:17:40     Friday  \n",
       "9  Saint-Petersburg  21:20:49  Wednesday  "
      ]
     },
     "execution_count": 3,
     "metadata": {},
     "output_type": "execute_result"
    }
   ],
   "source": [
    "# getting the first 10 rows of the df table\n",
    "df.head(10)"
   ]
  },
  {
   "cell_type": "code",
   "execution_count": 4,
   "metadata": {
    "id": "DSf2kIb-_Zct"
   },
   "outputs": [
    {
     "name": "stdout",
     "output_type": "stream",
     "text": [
      "<class 'pandas.core.frame.DataFrame'>\n",
      "RangeIndex: 65079 entries, 0 to 65078\n",
      "Data columns (total 7 columns):\n",
      " #   Column    Non-Null Count  Dtype \n",
      "---  ------    --------------  ----- \n",
      " 0     userID  65079 non-null  object\n",
      " 1   Track     63848 non-null  object\n",
      " 2   artist    57876 non-null  object\n",
      " 3   genre     63881 non-null  object\n",
      " 4     City    65079 non-null  object\n",
      " 5   time      65079 non-null  object\n",
      " 6   Day       65079 non-null  object\n",
      "dtypes: object(7)\n",
      "memory usage: 3.5+ MB\n"
     ]
    }
   ],
   "source": [
    "# get general information about the data in the df table\n",
    "df.info()"
   ]
  },
  {
   "cell_type": "markdown",
   "metadata": {
    "id": "TaQ2Iwbr_Zct"
   },
   "source": [
    "So, the table has seven columns. The data type in all columns is `object`.\n",
    "\n",
    "According to the data documentation:\n",
    "* `userID` — user identifier;\n",
    "* `Track` — track name;\n",
    "* `artist` — name of the artist;\n",
    "* `genre` — genre name;\n",
    "* `City` — user’s city;\n",
    "* `time` — start time of listening;\n",
    "* `Day` - day of the week.\n",
    "\n",
    "There are three style violations visible in the column titles:\n",
    "1. Lowercase letters are combined with uppercase ones.\n",
    "2. There are spaces.\n",
    "\n",
    "The number of values ​​in the columns varies. This means there are missing values ​​in the data.\n"
   ]
  },
  {
   "cell_type": "markdown",
   "metadata": {
    "id": "MCB6-dXG_Zct"
   },
   "source": [
    "**Conclusions**\n",
    "\n",
    "Each row of the table contains data about the track listened to. Some of the columns describe the composition itself: title, artist and genre. The rest of the data tells about the user: what city he is from, when he listened to music.\n",
    "\n",
    "Preliminarily, it can be stated that there is enough data to test the hypotheses. But there are gaps in the data, and in the column names there are discrepancies with good style.\n",
    "\n",
    "To move forward, we need to fix the problems in the data."
   ]
  },
  {
   "cell_type": "markdown",
   "metadata": {
    "id": "SjYF6Ub9_Zct"
   },
   "source": [
    "## Data preprocessing\n"
   ]
  },
  {
   "cell_type": "markdown",
   "metadata": {
    "id": "dIaKXr29_Zct"
   },
   "source": [
    "### Heading style\n"
   ]
  },
  {
   "cell_type": "code",
   "execution_count": 5,
   "metadata": {
    "id": "oKOTdF_Q_Zct"
   },
   "outputs": [
    {
     "data": {
      "text/plain": [
       "Index(['  userID', 'Track', 'artist', 'genre', '  City  ', 'time', 'Day'], dtype='object')"
      ]
     },
     "execution_count": 5,
     "metadata": {},
     "output_type": "execute_result"
    }
   ],
   "source": [
    "# list of df table column names\n",
    "df.columns"
   ]
  },
  {
   "cell_type": "code",
   "execution_count": 6,
   "metadata": {
    "id": "ISlFqs5y_Zct"
   },
   "outputs": [],
   "source": [
    "# renaming columns\n",
    "df = df.rename(columns={'  userID': 'user_id', 'Track': 'track', '  City  ': 'city', 'Day': 'day'})"
   ]
  },
  {
   "cell_type": "code",
   "execution_count": 7,
   "metadata": {
    "id": "d4NOAmTW_Zct"
   },
   "outputs": [
    {
     "data": {
      "text/plain": [
       "Index(['user_id', 'track', 'artist', 'genre', 'city', 'time', 'day'], dtype='object')"
      ]
     },
     "execution_count": 7,
     "metadata": {},
     "output_type": "execute_result"
    }
   ],
   "source": [
    "# checking the results - list of column names\n",
    "df.columns"
   ]
  },
  {
   "cell_type": "markdown",
   "metadata": {
    "id": "5ISfbcfY_Zct"
   },
   "source": [
    "### Missing values"
   ]
  },
  {
   "cell_type": "code",
   "execution_count": 8,
   "metadata": {
    "id": "RskX29qr_Zct"
   },
   "outputs": [
    {
     "data": {
      "text/plain": [
       "user_id       0\n",
       "track      1231\n",
       "artist     7203\n",
       "genre      1198\n",
       "city          0\n",
       "time          0\n",
       "day           0\n",
       "dtype: int64"
      ]
     },
     "execution_count": 8,
     "metadata": {},
     "output_type": "execute_result"
    }
   ],
   "source": [
    "# skip counting\n",
    "df.isna().sum()"
   ]
  },
  {
   "cell_type": "code",
   "execution_count": 9,
   "metadata": {
    "id": "KplB5qWs_Zct"
   },
   "outputs": [],
   "source": [
    "# loop through column names and replace missing values ​​with 'unknown'\n",
    "columns_to_replace = ['track', 'artist', 'genre']\n",
    "for column in columns_to_replace:\n",
    "    df[column] = df[column].fillna('unknown')"
   ]
  },
  {
   "cell_type": "code",
   "execution_count": 10,
   "metadata": {
    "id": "Tq4nYRX4_Zct"
   },
   "outputs": [
    {
     "data": {
      "text/plain": [
       "user_id    0\n",
       "track      0\n",
       "artist     0\n",
       "genre      0\n",
       "city       0\n",
       "time       0\n",
       "day        0\n",
       "dtype: int64"
      ]
     },
     "execution_count": 10,
     "metadata": {},
     "output_type": "execute_result"
    }
   ],
   "source": [
    "# skip counting\n",
    "df.isna().sum()"
   ]
  },
  {
   "cell_type": "markdown",
   "metadata": {
    "id": "BWKRtBJ3_Zct"
   },
   "source": [
    "### Duplicates"
   ]
  },
  {
   "cell_type": "code",
   "execution_count": 11,
   "metadata": {
    "id": "36eES_S0_Zct"
   },
   "outputs": [
    {
     "data": {
      "text/plain": [
       "3826"
      ]
     },
     "execution_count": 11,
     "metadata": {},
     "output_type": "execute_result"
    }
   ],
   "source": [
    "# counting obvious duplicates\n",
    "df.duplicated().sum()"
   ]
  },
  {
   "cell_type": "code",
   "execution_count": 12,
   "metadata": {
    "id": "exFHq6tt_Zct"
   },
   "outputs": [],
   "source": [
    "# removing obvious duplicates (removing old indexes and forming new ones)\n",
    "df = df.drop_duplicates().reset_index(drop=True)"
   ]
  },
  {
   "cell_type": "code",
   "execution_count": 13,
   "metadata": {
    "id": "-8PuNWQ0_Zct"
   },
   "outputs": [
    {
     "data": {
      "text/plain": [
       "0"
      ]
     },
     "execution_count": 13,
     "metadata": {},
     "output_type": "execute_result"
    }
   ],
   "source": [
    "# checking for duplicates\n",
    "df.duplicated().sum()"
   ]
  },
  {
   "cell_type": "code",
   "execution_count": 14,
   "metadata": {
    "id": "JIUcqzZN_Zct"
   },
   "outputs": [
    {
     "data": {
      "text/plain": [
       "array(['acid', 'acoustic', 'action', 'adult', 'africa', 'afrikaans',\n",
       "       'alternative', 'alternativepunk', 'ambient', 'americana',\n",
       "       'animated', 'anime', 'arabesk', 'arabic', 'arena',\n",
       "       'argentinetango', 'art', 'audiobook', 'author', 'avantgarde',\n",
       "       'axé', 'baile', 'balkan', 'beats', 'bigroom', 'black', 'bluegrass',\n",
       "       'blues', 'bollywood', 'bossa', 'brazilian', 'breakbeat', 'breaks',\n",
       "       'broadway', 'cantautori', 'cantopop', 'canzone', 'caribbean',\n",
       "       'caucasian', 'celtic', 'chamber', 'chanson', 'children', 'chill',\n",
       "       'chinese', 'choral', 'christian', 'christmas', 'classical',\n",
       "       'classicmetal', 'club', 'colombian', 'comedy', 'conjazz',\n",
       "       'contemporary', 'country', 'cuban', 'dance', 'dancehall',\n",
       "       'dancepop', 'dark', 'death', 'deep', 'deutschrock', 'deutschspr',\n",
       "       'dirty', 'disco', 'dnb', 'documentary', 'downbeat', 'downtempo',\n",
       "       'drum', 'dub', 'dubstep', 'eastern', 'easy', 'electronic',\n",
       "       'electropop', 'emo', 'entehno', 'epicmetal', 'estrada', 'ethnic',\n",
       "       'eurofolk', 'european', 'experimental', 'extrememetal', 'fado',\n",
       "       'fairytail', 'film', 'fitness', 'flamenco', 'folk', 'folklore',\n",
       "       'folkmetal', 'folkrock', 'folktronica', 'forró', 'frankreich',\n",
       "       'französisch', 'french', 'funk', 'future', 'gangsta', 'garage',\n",
       "       'german', 'ghazal', 'gitarre', 'glitch', 'gospel', 'gothic',\n",
       "       'grime', 'grunge', 'gypsy', 'handsup', \"hard'n'heavy\", 'hardcore',\n",
       "       'hardstyle', 'hardtechno', 'hip', 'hip-hop', 'hiphop',\n",
       "       'historisch', 'holiday', 'hop', 'horror', 'house', 'hymn', 'idm',\n",
       "       'independent', 'indian', 'indie', 'indipop', 'industrial',\n",
       "       'inspirational', 'instrumental', 'international', 'irish', 'jam',\n",
       "       'japanese', 'jazz', 'jewish', 'jpop', 'jungle', 'k-pop',\n",
       "       'karadeniz', 'karaoke', 'kayokyoku', 'korean', 'laiko', 'latin',\n",
       "       'latino', 'leftfield', 'local', 'lounge', 'loungeelectronic',\n",
       "       'lovers', 'malaysian', 'mandopop', 'marschmusik', 'meditative',\n",
       "       'mediterranean', 'melodic', 'metal', 'metalcore', 'mexican',\n",
       "       'middle', 'minimal', 'miscellaneous', 'modern', 'mood', 'mpb',\n",
       "       'muslim', 'native', 'neoklassik', 'neue', 'new', 'newage',\n",
       "       'newwave', 'nu', 'nujazz', 'numetal', 'oceania', 'old', 'opera',\n",
       "       'orchestral', 'other', 'piano', 'podcasts', 'pop', 'popdance',\n",
       "       'popelectronic', 'popeurodance', 'poprussian', 'post',\n",
       "       'posthardcore', 'postrock', 'power', 'progmetal', 'progressive',\n",
       "       'psychedelic', 'punjabi', 'punk', 'quebecois', 'ragga', 'ram',\n",
       "       'rancheras', 'rap', 'rave', 'reggae', 'reggaeton', 'regional',\n",
       "       'relax', 'religious', 'retro', 'rhythm', 'rnb', 'rnr', 'rock',\n",
       "       'rockabilly', 'rockalternative', 'rockindie', 'rockother',\n",
       "       'romance', 'roots', 'ruspop', 'rusrap', 'rusrock', 'russian',\n",
       "       'salsa', 'samba', 'scenic', 'schlager', 'self', 'sertanejo',\n",
       "       'shanson', 'shoegazing', 'showtunes', 'singer', 'ska', 'skarock',\n",
       "       'slow', 'smooth', 'soft', 'soul', 'soulful', 'sound', 'soundtrack',\n",
       "       'southern', 'specialty', 'speech', 'spiritual', 'sport',\n",
       "       'stonerrock', 'surf', 'swing', 'synthpop', 'synthrock',\n",
       "       'sängerportrait', 'tango', 'tanzorchester', 'taraftar', 'tatar',\n",
       "       'tech', 'techno', 'teen', 'thrash', 'top', 'traditional',\n",
       "       'tradjazz', 'trance', 'tribal', 'trip', 'triphop', 'tropical',\n",
       "       'türk', 'türkçe', 'ukrrock', 'unknown', 'urban', 'uzbek',\n",
       "       'variété', 'vi', 'videogame', 'vocal', 'western', 'world',\n",
       "       'worldbeat', 'ïîï', 'электроника'], dtype=object)"
      ]
     },
     "execution_count": 14,
     "metadata": {},
     "output_type": "execute_result"
    }
   ],
   "source": [
    "# Browse unique genre titles\n",
    "df['genre'].sort_values().unique()"
   ]
  },
  {
   "cell_type": "code",
   "execution_count": 15,
   "metadata": {
    "id": "ErNDkmns_Zct"
   },
   "outputs": [],
   "source": [
    "# Function to replace implicit duplicates\n",
    "def replace_wrong_genres(wrong_genres, correct_genre):\n",
    "    for wrong_genre in wrong_genres:\n",
    "        df['genre'] = df['genre'].replace(wrong_genre, correct_genre)"
   ]
  },
  {
   "cell_type": "code",
   "execution_count": 16,
   "metadata": {
    "id": "YN5i2hpmSo09"
   },
   "outputs": [],
   "source": [
    "# Eliminating implicit duplicates\n",
    "replace_wrong_genres(['hip', 'hop', 'hip-hop'], 'hiphop')"
   ]
  },
  {
   "cell_type": "code",
   "execution_count": 17,
   "metadata": {
    "id": "wvixALnFG15m"
   },
   "outputs": [
    {
     "data": {
      "text/plain": [
       "array(['acid', 'acoustic', 'action', 'adult', 'africa', 'afrikaans',\n",
       "       'alternative', 'alternativepunk', 'ambient', 'americana',\n",
       "       'animated', 'anime', 'arabesk', 'arabic', 'arena',\n",
       "       'argentinetango', 'art', 'audiobook', 'author', 'avantgarde',\n",
       "       'axé', 'baile', 'balkan', 'beats', 'bigroom', 'black', 'bluegrass',\n",
       "       'blues', 'bollywood', 'bossa', 'brazilian', 'breakbeat', 'breaks',\n",
       "       'broadway', 'cantautori', 'cantopop', 'canzone', 'caribbean',\n",
       "       'caucasian', 'celtic', 'chamber', 'chanson', 'children', 'chill',\n",
       "       'chinese', 'choral', 'christian', 'christmas', 'classical',\n",
       "       'classicmetal', 'club', 'colombian', 'comedy', 'conjazz',\n",
       "       'contemporary', 'country', 'cuban', 'dance', 'dancehall',\n",
       "       'dancepop', 'dark', 'death', 'deep', 'deutschrock', 'deutschspr',\n",
       "       'dirty', 'disco', 'dnb', 'documentary', 'downbeat', 'downtempo',\n",
       "       'drum', 'dub', 'dubstep', 'eastern', 'easy', 'electronic',\n",
       "       'electropop', 'emo', 'entehno', 'epicmetal', 'estrada', 'ethnic',\n",
       "       'eurofolk', 'european', 'experimental', 'extrememetal', 'fado',\n",
       "       'fairytail', 'film', 'fitness', 'flamenco', 'folk', 'folklore',\n",
       "       'folkmetal', 'folkrock', 'folktronica', 'forró', 'frankreich',\n",
       "       'französisch', 'french', 'funk', 'future', 'gangsta', 'garage',\n",
       "       'german', 'ghazal', 'gitarre', 'glitch', 'gospel', 'gothic',\n",
       "       'grime', 'grunge', 'gypsy', 'handsup', \"hard'n'heavy\", 'hardcore',\n",
       "       'hardstyle', 'hardtechno', 'hiphop', 'historisch', 'holiday',\n",
       "       'horror', 'house', 'hymn', 'idm', 'independent', 'indian', 'indie',\n",
       "       'indipop', 'industrial', 'inspirational', 'instrumental',\n",
       "       'international', 'irish', 'jam', 'japanese', 'jazz', 'jewish',\n",
       "       'jpop', 'jungle', 'k-pop', 'karadeniz', 'karaoke', 'kayokyoku',\n",
       "       'korean', 'laiko', 'latin', 'latino', 'leftfield', 'local',\n",
       "       'lounge', 'loungeelectronic', 'lovers', 'malaysian', 'mandopop',\n",
       "       'marschmusik', 'meditative', 'mediterranean', 'melodic', 'metal',\n",
       "       'metalcore', 'mexican', 'middle', 'minimal', 'miscellaneous',\n",
       "       'modern', 'mood', 'mpb', 'muslim', 'native', 'neoklassik', 'neue',\n",
       "       'new', 'newage', 'newwave', 'nu', 'nujazz', 'numetal', 'oceania',\n",
       "       'old', 'opera', 'orchestral', 'other', 'piano', 'podcasts', 'pop',\n",
       "       'popdance', 'popelectronic', 'popeurodance', 'poprussian', 'post',\n",
       "       'posthardcore', 'postrock', 'power', 'progmetal', 'progressive',\n",
       "       'psychedelic', 'punjabi', 'punk', 'quebecois', 'ragga', 'ram',\n",
       "       'rancheras', 'rap', 'rave', 'reggae', 'reggaeton', 'regional',\n",
       "       'relax', 'religious', 'retro', 'rhythm', 'rnb', 'rnr', 'rock',\n",
       "       'rockabilly', 'rockalternative', 'rockindie', 'rockother',\n",
       "       'romance', 'roots', 'ruspop', 'rusrap', 'rusrock', 'russian',\n",
       "       'salsa', 'samba', 'scenic', 'schlager', 'self', 'sertanejo',\n",
       "       'shanson', 'shoegazing', 'showtunes', 'singer', 'ska', 'skarock',\n",
       "       'slow', 'smooth', 'soft', 'soul', 'soulful', 'sound', 'soundtrack',\n",
       "       'southern', 'specialty', 'speech', 'spiritual', 'sport',\n",
       "       'stonerrock', 'surf', 'swing', 'synthpop', 'synthrock',\n",
       "       'sängerportrait', 'tango', 'tanzorchester', 'taraftar', 'tatar',\n",
       "       'tech', 'techno', 'teen', 'thrash', 'top', 'traditional',\n",
       "       'tradjazz', 'trance', 'tribal', 'trip', 'triphop', 'tropical',\n",
       "       'türk', 'türkçe', 'ukrrock', 'unknown', 'urban', 'uzbek',\n",
       "       'variété', 'vi', 'videogame', 'vocal', 'western', 'world',\n",
       "       'worldbeat', 'ïîï', 'электроника'], dtype=object)"
      ]
     },
     "execution_count": 17,
     "metadata": {},
     "output_type": "execute_result"
    }
   ],
   "source": [
    "# Checking for implicit duplicates\n",
    "df['genre'].sort_values().unique()"
   ]
  },
  {
   "cell_type": "markdown",
   "metadata": {
    "id": "jz6a9-7HQUDd"
   },
   "source": [
    "**Conclusions**\n",
    "\n",
    "Preprocessing found three problems in the data:\n",
    "\n",
    "- violations in the style of headings,\n",
    "- missing values,\n",
    "- duplicates - explicit and implicit.\n",
    "\n",
    "The headings have been corrected to make working with the table easier. Without duplicates, the research will be more accurate.\n",
    "\n",
    "Missing values ​​were replaced with `'unknown'`. It remains to be seen whether the omissions in the `genre` column will harm the research.\n",
    "\n",
    "Now we can move on to testing hypotheses."
   ]
  },
  {
   "cell_type": "markdown",
   "metadata": {
    "id": "WttZHXH0SqKk"
   },
   "source": [
    "## Testing hypotheses"
   ]
  },
  {
   "cell_type": "markdown",
   "metadata": {
    "id": "Im936VVi_Zcu"
   },
   "source": [
    "### Comparison of user behavior in two capitals"
   ]
  },
  {
   "cell_type": "code",
   "execution_count": 18,
   "metadata": {
    "id": "0_Qs96oh_Zcu"
   },
   "outputs": [
    {
     "data": {
      "text/plain": [
       "city\n",
       "Moscow              42741\n",
       "Saint-Petersburg    18512\n",
       "Name: track, dtype: int64"
      ]
     },
     "execution_count": 18,
     "metadata": {},
     "output_type": "execute_result"
    }
   ],
   "source": [
    "# Counting auditions in each city\n",
    "city_group = df.groupby('city')\n",
    "city_group['track'].count()"
   ]
  },
  {
   "cell_type": "code",
   "execution_count": 19,
   "metadata": {
    "id": "uZMKjiJz_Zcu"
   },
   "outputs": [
    {
     "data": {
      "text/plain": [
       "day\n",
       "Friday       21840\n",
       "Monday       21354\n",
       "Wednesday    18059\n",
       "Name: track, dtype: int64"
      ]
     },
     "execution_count": 19,
     "metadata": {},
     "output_type": "execute_result"
    }
   ],
   "source": [
    "# Counting plays on each of three days\n",
    "day_group = df.groupby('day')\n",
    "day_group['track'].count()"
   ]
  },
  {
   "cell_type": "code",
   "execution_count": 20,
   "metadata": {
    "id": "Nz3GdQB1_Zcu"
   },
   "outputs": [],
   "source": [
    "# <creating the number_tracks() function>\n",
    "# A function is declared with two parameters: day, city.\n",
    "# The track_list variable stores those rows of the df table for which\n",
    "# the value in the 'day' column is equal to the day parameter and at the same time the value\n",
    "# in the 'city' column is equal to the city parameter (use sequential filtering\n",
    "# using logical indexing).\n",
    "# The track_list_count variable stores the number of values ​​in the 'user_id' column,\n",
    "# calculated by the count() method for the track_list table.\n",
    "# The function returns a number - the track_list_count value.\n",
    "def number_tracks(day, city):\n",
    "    track_list = df[(df['day'] == day) & (df['city'] == city)]\n",
    "    track_list_count = track_list['user_id'].count()\n",
    "    return track_list_count\n",
    "# Function for counting plays for a specific city and day.\n",
    "# Using sequential filtering with logical indexing, it\n",
    "# first get rows with the desired day from the source table,\n",
    "# then from the result it will filter the lines with the desired city,\n",
    "# The count() method will count the number of values ​​in the user_id column.\n",
    "# The function will return this quantity as a result"
   ]
  },
  {
   "cell_type": "code",
   "execution_count": 21,
   "metadata": {
    "id": "rJcRATNQ_Zcu"
   },
   "outputs": [
    {
     "data": {
      "text/plain": [
       "15740"
      ]
     },
     "execution_count": 21,
     "metadata": {},
     "output_type": "execute_result"
    }
   ],
   "source": [
    "# number of auditions in Moscow on Mondays\n",
    "number_tracks('Monday', 'Moscow')"
   ]
  },
  {
   "cell_type": "code",
   "execution_count": 22,
   "metadata": {
    "id": "hq_ncZ5T_Zcu"
   },
   "outputs": [
    {
     "data": {
      "text/plain": [
       "5614"
      ]
     },
     "execution_count": 22,
     "metadata": {},
     "output_type": "execute_result"
    }
   ],
   "source": [
    "# number of auditions in St. Petersburg on Mondays\n",
    "number_tracks('Monday', 'Saint-Petersburg')"
   ]
  },
  {
   "cell_type": "code",
   "execution_count": 23,
   "metadata": {
    "id": "_NTy2VPU_Zcu"
   },
   "outputs": [
    {
     "data": {
      "text/plain": [
       "11056"
      ]
     },
     "execution_count": 23,
     "metadata": {},
     "output_type": "execute_result"
    }
   ],
   "source": [
    "# number of auditions in Moscow on Wednesdays\n",
    "number_tracks('Wednesday', 'Moscow')"
   ]
  },
  {
   "cell_type": "code",
   "execution_count": 24,
   "metadata": {
    "id": "j2y3TAwo_Zcu"
   },
   "outputs": [
    {
     "data": {
      "text/plain": [
       "7003"
      ]
     },
     "execution_count": 24,
     "metadata": {},
     "output_type": "execute_result"
    }
   ],
   "source": [
    "# number of auditions in St. Petersburg on Wednesdays\n",
    "number_tracks('Wednesday', 'Saint-Petersburg')"
   ]
  },
  {
   "cell_type": "code",
   "execution_count": 25,
   "metadata": {
    "id": "vYDw5u_K_Zcu"
   },
   "outputs": [
    {
     "data": {
      "text/plain": [
       "15945"
      ]
     },
     "execution_count": 25,
     "metadata": {},
     "output_type": "execute_result"
    }
   ],
   "source": [
    "# number of auditions in Moscow on Fridays\n",
    "number_tracks('Friday', 'Moscow')"
   ]
  },
  {
   "cell_type": "code",
   "execution_count": 26,
   "metadata": {
    "id": "8_yzFtW3_Zcu"
   },
   "outputs": [
    {
     "data": {
      "text/plain": [
       "5895"
      ]
     },
     "execution_count": 26,
     "metadata": {},
     "output_type": "execute_result"
    }
   ],
   "source": [
    "# number of auditions in St. Petersburg on Fridays\n",
    "number_tracks('Friday', 'Saint-Petersburg')"
   ]
  },
  {
   "cell_type": "code",
   "execution_count": 27,
   "metadata": {
    "id": "APAcLpOr_Zcu"
   },
   "outputs": [
    {
     "data": {
      "text/html": [
       "<div>\n",
       "<style scoped>\n",
       "    .dataframe tbody tr th:only-of-type {\n",
       "        vertical-align: middle;\n",
       "    }\n",
       "\n",
       "    .dataframe tbody tr th {\n",
       "        vertical-align: top;\n",
       "    }\n",
       "\n",
       "    .dataframe thead th {\n",
       "        text-align: right;\n",
       "    }\n",
       "</style>\n",
       "<table border=\"1\" class=\"dataframe\">\n",
       "  <thead>\n",
       "    <tr style=\"text-align: right;\">\n",
       "      <th></th>\n",
       "      <th>city</th>\n",
       "      <th>monday</th>\n",
       "      <th>wednesday</th>\n",
       "      <th>friday</th>\n",
       "    </tr>\n",
       "  </thead>\n",
       "  <tbody>\n",
       "    <tr>\n",
       "      <th>0</th>\n",
       "      <td>Moscow</td>\n",
       "      <td>15740</td>\n",
       "      <td>11056</td>\n",
       "      <td>15945</td>\n",
       "    </tr>\n",
       "    <tr>\n",
       "      <th>1</th>\n",
       "      <td>Saint-Petersburg</td>\n",
       "      <td>5614</td>\n",
       "      <td>7003</td>\n",
       "      <td>5895</td>\n",
       "    </tr>\n",
       "  </tbody>\n",
       "</table>\n",
       "</div>"
      ],
      "text/plain": [
       "               city  monday  wednesday  friday\n",
       "0            Moscow   15740      11056   15945\n",
       "1  Saint-Petersburg    5614       7003    5895"
      ]
     },
     "execution_count": 27,
     "metadata": {},
     "output_type": "execute_result"
    }
   ],
   "source": [
    "# Table with results\n",
    "columns = ['city', 'monday', 'wednesday', 'friday']\n",
    "data = [['Moscow', number_tracks('Monday', 'Moscow'), number_tracks('Wednesday', 'Moscow'), number_tracks('Friday', 'Moscow')],\n",
    "       ['Saint-Petersburg', number_tracks('Monday', 'Saint-Petersburg'), number_tracks('Wednesday', 'Saint-Petersburg'), number_tracks('Friday', 'Saint-Petersburg')]]\n",
    "pd.DataFrame(data=data, columns=columns)"
   ]
  },
  {
   "cell_type": "markdown",
   "metadata": {
    "id": "-EgPIHYu_Zcu"
   },
   "source": [
    "**Conclusions**\n",
    "\n",
    "The data shows the difference in user behavior:\n",
    "\n",
    "- In Moscow, the peak of listening is on Monday and Friday, and on Wednesday there is a noticeable decline.\n",
    "- In St. Petersburg, on the contrary, they listen to music more on Wednesdays. Activity on Monday and Friday here is almost equally inferior to Wednesday.\n",
    "\n",
    "This means that the data speaks in favor of the first hypothesis."
   ]
  },
  {
   "cell_type": "markdown",
   "metadata": {
    "id": "atZAxtq4_Zcu"
   },
   "source": [
    "### Music at the beginning and end of the week"
   ]
  },
  {
   "cell_type": "code",
   "execution_count": 28,
   "metadata": {
    "id": "qeaFfM_P_Zcu"
   },
   "outputs": [],
   "source": [
    "# getting the moscow_general table from those rows of the df table,\n",
    "# for which the value in the 'city' column is 'Moscow'\n",
    "moscow_general = df[df['city'] == 'Moscow']"
   ]
  },
  {
   "cell_type": "code",
   "execution_count": 29,
   "metadata": {
    "id": "ORaVRKto_Zcu"
   },
   "outputs": [],
   "source": [
    "# getting the spb_general table from those rows of the df table,\n",
    "# for which the value in the 'city' column is 'Saint-Petersburg'\n",
    "spb_general = df[df['city'] == 'Saint-Petersburg']"
   ]
  },
  {
   "cell_type": "code",
   "execution_count": 30,
   "metadata": {
    "id": "laJT9BYl_Zcu"
   },
   "outputs": [],
   "source": [
    "# Declaration of the function genre_weekday() with parameters table, day, time1, time2,\n",
    "# which returns information about the most popular genres on a specified day on\n",
    "# given time:\n",
    "# 1) the genre_df variable stores those rows of the transferred table dataframe for\n",
    "# of which at the same time:\n",
    "# - the value in the day column is equal to the value of the day argument\n",
    "# - the value in the time column is greater than the value of the time1 argument\n",
    "# - the value in the time column is less than the value of the time2 argument\n",
    "# Use sequential filtering using logical indexing.\n",
    "#2) group the dataframe genre_df by the genre column, take one of it\n",
    "# columns and use the count() method to calculate the number of records for each\n",
    "# of genres present, write the resulting Series to a variable\n",
    "# genre_df_count\n",
    "# 3) sort genre_df_count in descending order of occurrence and save\n",
    "# into the genre_df_sorted variable\n",
    "#4) return a Series of the first 10 genre_df_sorted values, these will be the top 10\n",
    "# popular genres (on a specified day, at a specified time)\n",
    "def genre_weekday(table, day, time1, time2):\n",
    "    genre_df = table[(table['day'] == day) & (time1 < table['time']) & (table['time'] < time2)]\n",
    "    genre_df_count = genre_df.groupby('genre')['genre'].count()\n",
    "    genre_df_sorted = genre_df_count.sort_values(ascending=False)\n",
    "    return genre_df_sorted.head(10)"
   ]
  },
  {
   "cell_type": "code",
   "execution_count": 31,
   "metadata": {
    "id": "yz7itPUQ_Zcu"
   },
   "outputs": [
    {
     "data": {
      "text/plain": [
       "genre\n",
       "pop            781\n",
       "dance          549\n",
       "electronic     480\n",
       "rock           474\n",
       "hiphop         286\n",
       "ruspop         186\n",
       "world          181\n",
       "rusrap         175\n",
       "alternative    164\n",
       "unknown        161\n",
       "Name: genre, dtype: int64"
      ]
     },
     "execution_count": 31,
     "metadata": {},
     "output_type": "execute_result"
    }
   ],
   "source": [
    "# calling a function for Monday morning in Moscow (instead of df - table moscow_general)\n",
    "# time objects are strings and are compared as strings\n",
    "# example call: genre_weekday(moscow_general, 'Monday', '07:00', '11:00')\n",
    "genre_weekday(moscow_general, 'Monday', '07:00', '11:00')"
   ]
  },
  {
   "cell_type": "code",
   "execution_count": 32,
   "metadata": {
    "id": "kwUcHPdy_Zcu"
   },
   "outputs": [
    {
     "data": {
      "text/plain": [
       "genre\n",
       "pop            218\n",
       "dance          182\n",
       "rock           162\n",
       "electronic     147\n",
       "hiphop          80\n",
       "ruspop          64\n",
       "alternative     58\n",
       "rusrap          55\n",
       "jazz            44\n",
       "classical       40\n",
       "Name: genre, dtype: int64"
      ]
     },
     "execution_count": 32,
     "metadata": {},
     "output_type": "execute_result"
    }
   ],
   "source": [
    "# calling a function for Monday morning in St. Petersburg (instead of df - table spb_general)\n",
    "genre_weekday(spb_general, 'Monday', '07:00', '11:00')"
   ]
  },
  {
   "cell_type": "code",
   "execution_count": 33,
   "metadata": {
    "id": "EzXVRE1o_Zcu"
   },
   "outputs": [
    {
     "data": {
      "text/plain": [
       "genre\n",
       "pop            713\n",
       "rock           517\n",
       "dance          495\n",
       "electronic     482\n",
       "hiphop         273\n",
       "world          208\n",
       "ruspop         170\n",
       "alternative    163\n",
       "classical      163\n",
       "rusrap         142\n",
       "Name: genre, dtype: int64"
      ]
     },
     "execution_count": 33,
     "metadata": {},
     "output_type": "execute_result"
    }
   ],
   "source": [
    "# function call for Friday evening in Moscow\n",
    "genre_weekday(moscow_general, 'Friday', '17:00', '23:00')"
   ]
  },
  {
   "cell_type": "code",
   "execution_count": 34,
   "metadata": {
    "id": "JZaEKu5v_Zcu"
   },
   "outputs": [
    {
     "data": {
      "text/plain": [
       "genre\n",
       "pop            256\n",
       "electronic     216\n",
       "rock           216\n",
       "dance          210\n",
       "hiphop          97\n",
       "alternative     63\n",
       "jazz            61\n",
       "classical       60\n",
       "rusrap          59\n",
       "world           54\n",
       "Name: genre, dtype: int64"
      ]
     },
     "execution_count": 34,
     "metadata": {},
     "output_type": "execute_result"
    }
   ],
   "source": [
    "# function call for Friday evening in St. Petersburg\n",
    "genre_weekday(spb_general, 'Friday', '17:00', '23:00')"
   ]
  },
  {
   "cell_type": "markdown",
   "metadata": {
    "id": "wrCe4MNX_Zcu"
   },
   "source": [
    "**Conclusions**\n",
    "\n",
    "If we compare the top 10 genres on Monday morning, we can draw the following conclusions:\n",
    "\n",
    "1. In Moscow and St. Petersburg they listen to similar music. The only difference is that the Moscow rating included the “world” genre, while the St. Petersburg rating included jazz and classical.\n",
    "\n",
    "2. In Moscow there were so many missing values ​​that the value `'unknown'` took tenth place among the most popular genres. This means that missing values ​​occupy a significant proportion of the data and threaten the reliability of the study.\n",
    "\n",
    "Friday evening does not change this picture. Some genres go a little higher, others go down, but overall the top 10 remains the same.\n",
    "\n",
    "Thus, the second hypothesis was only partially confirmed:\n",
    "* Users listen to similar music at the beginning of the week and at the end.\n",
    "* The difference between Moscow and St. Petersburg is not very pronounced. In Moscow people listen to Russian popular music more often, in St. Petersburg they listen to jazz.\n",
    "\n",
    "However, gaps in the data cast doubt on this result. There are so many of them in Moscow that the top 10 ranking might look different if not for the lost data on genres."
   ]
  },
  {
   "cell_type": "markdown",
   "metadata": {
    "id": "JolODAqr_Zcu"
   },
   "source": [
    "### Genre preferences in Moscow and St. Petersburg\n",
    "\n",
    "Hypothesis: St. Petersburg is the capital of rap, music of this genre is listened to more often there than in Moscow. And Moscow is a city of contrasts, in which, nevertheless, pop music prevails."
   ]
  },
  {
   "cell_type": "code",
   "execution_count": 35,
   "metadata": {
    "id": "r19lIPke_Zcu"
   },
   "outputs": [],
   "source": [
    "# in one line: grouping the moscow_general table by the 'genre' column,\n",
    "# counting the number of 'genre' values ​​in this grouping using the count() method,\n",
    "# sort the resulting Series in descending order and save it in moscow_genres\n",
    "moscow_genres = moscow_general.groupby('genre')['user_id'].count().sort_values(ascending=False)"
   ]
  },
  {
   "cell_type": "code",
   "execution_count": 36,
   "metadata": {
    "id": "WhCSooF8_Zcv"
   },
   "outputs": [
    {
     "data": {
      "text/plain": [
       "genre\n",
       "pop            5892\n",
       "dance          4435\n",
       "rock           3965\n",
       "electronic     3786\n",
       "hiphop         2096\n",
       "classical      1616\n",
       "world          1432\n",
       "alternative    1379\n",
       "ruspop         1372\n",
       "rusrap         1161\n",
       "Name: user_id, dtype: int64"
      ]
     },
     "execution_count": 36,
     "metadata": {},
     "output_type": "execute_result"
    }
   ],
   "source": [
    "# view first 10 lines moscow_genres\n",
    "moscow_genres.head(10)"
   ]
  },
  {
   "cell_type": "code",
   "execution_count": 37,
   "metadata": {
    "id": "gluLIpE7_Zcv"
   },
   "outputs": [],
   "source": [
    "# in one line: grouping the spb_general table by the 'genre' column,\n",
    "# counting the number of 'genre' values ​​in this grouping using the count() method,\n",
    "# sort the resulting Series in descending order and save it in spb_genres\n",
    "spb_genres = spb_general.groupby('genre')['user_id'].count().sort_values(ascending=False)"
   ]
  },
  {
   "cell_type": "code",
   "execution_count": 38,
   "metadata": {
    "id": "uaGJHjVU_Zcv"
   },
   "outputs": [
    {
     "data": {
      "text/plain": [
       "genre\n",
       "pop            2431\n",
       "dance          1932\n",
       "rock           1879\n",
       "electronic     1736\n",
       "hiphop          960\n",
       "alternative     649\n",
       "classical       646\n",
       "rusrap          564\n",
       "ruspop          538\n",
       "world           515\n",
       "Name: user_id, dtype: int64"
      ]
     },
     "execution_count": 38,
     "metadata": {},
     "output_type": "execute_result"
    }
   ],
   "source": [
    "# view first 10 lines spb_genres\n",
    "spb_genres.head(10)"
   ]
  },
  {
   "cell_type": "markdown",
   "metadata": {
    "id": "RY51YJYu_Zcv"
   },
   "source": [
    "**Conclusions**"
   ]
  },
  {
   "cell_type": "markdown",
   "metadata": {
    "id": "nVhnJEm__Zcv"
   },
   "source": [
    "The hypothesis was partially confirmed:\n",
    "* Pop music is the most popular genre in Moscow, as the hypothesis predicted. Moreover, in the top 10 genres there is a similar genre - Russian popular music.\n",
    "* Contrary to expectations, rap is equally popular in Moscow and St. Petersburg."
   ]
  }
 ],
 "metadata": {
  "ExecuteTimeLog": [
   {
    "duration": 788,
    "start_time": "2022-02-07T14:23:56.610Z"
   },
   {
    "duration": 67,
    "start_time": "2022-02-07T14:24:34.461Z"
   },
   {
    "duration": 280,
    "start_time": "2022-02-07T14:24:39.176Z"
   },
   {
    "duration": 334,
    "start_time": "2022-02-07T14:24:53.834Z"
   },
   {
    "duration": 70,
    "start_time": "2022-02-07T14:25:00.398Z"
   },
   {
    "duration": 67,
    "start_time": "2022-02-07T14:25:10.248Z"
   },
   {
    "duration": 1587,
    "start_time": "2022-02-07T14:25:30.951Z"
   },
   {
    "duration": 412,
    "start_time": "2022-02-09T06:55:50.301Z"
   },
   {
    "duration": 579,
    "start_time": "2022-02-09T06:55:54.040Z"
   },
   {
    "duration": 1668,
    "start_time": "2022-02-09T06:55:55.326Z"
   },
   {
    "duration": 2023,
    "start_time": "2022-02-09T06:56:01.377Z"
   },
   {
    "duration": 149,
    "start_time": "2022-02-09T06:56:11.581Z"
   },
   {
    "duration": 20,
    "start_time": "2022-02-09T06:56:59.182Z"
   },
   {
    "duration": 27,
    "start_time": "2022-02-09T06:57:07.390Z"
   },
   {
    "duration": 5,
    "start_time": "2022-02-09T07:01:53.570Z"
   },
   {
    "duration": 22,
    "start_time": "2022-02-09T13:26:57.858Z"
   },
   {
    "duration": 5,
    "start_time": "2022-02-09T13:27:13.426Z"
   },
   {
    "duration": 33,
    "start_time": "2022-02-09T13:27:33.793Z"
   },
   {
    "duration": 27,
    "start_time": "2022-02-09T13:27:38.616Z"
   },
   {
    "duration": 31,
    "start_time": "2022-02-09T13:28:10.414Z"
   },
   {
    "duration": 5,
    "start_time": "2022-02-09T13:28:11.073Z"
   },
   {
    "duration": 17,
    "start_time": "2022-02-09T13:28:58.584Z"
   },
   {
    "duration": 4,
    "start_time": "2022-02-09T13:28:58.993Z"
   },
   {
    "duration": 4,
    "start_time": "2022-02-09T13:29:28.770Z"
   },
   {
    "duration": 14,
    "start_time": "2022-02-09T13:29:30.048Z"
   },
   {
    "duration": 4,
    "start_time": "2022-02-09T13:29:30.865Z"
   },
   {
    "duration": 3,
    "start_time": "2022-02-09T13:30:24.536Z"
   },
   {
    "duration": 169,
    "start_time": "2022-02-09T13:30:24.904Z"
   },
   {
    "duration": 12,
    "start_time": "2022-02-09T13:30:25.486Z"
   },
   {
    "duration": 26,
    "start_time": "2022-02-09T13:30:27.800Z"
   },
   {
    "duration": 68,
    "start_time": "2022-02-09T13:30:28.313Z"
   },
   {
    "duration": 5,
    "start_time": "2022-02-09T13:30:40.896Z"
   },
   {
    "duration": 12,
    "start_time": "2022-02-09T13:30:43.138Z"
   },
   {
    "duration": 5,
    "start_time": "2022-02-09T13:30:43.858Z"
   },
   {
    "duration": 17,
    "start_time": "2022-02-09T13:31:10.176Z"
   },
   {
    "duration": 4,
    "start_time": "2022-02-09T13:31:10.602Z"
   },
   {
    "duration": 14,
    "start_time": "2022-02-09T13:31:20.888Z"
   },
   {
    "duration": 5,
    "start_time": "2022-02-09T13:31:21.551Z"
   },
   {
    "duration": 14,
    "start_time": "2022-02-09T13:31:25.672Z"
   },
   {
    "duration": 5,
    "start_time": "2022-02-09T13:31:26.647Z"
   },
   {
    "duration": 14,
    "start_time": "2022-02-09T13:31:37.311Z"
   },
   {
    "duration": 5,
    "start_time": "2022-02-09T13:31:37.815Z"
   },
   {
    "duration": 14,
    "start_time": "2022-02-09T13:31:41.655Z"
   },
   {
    "duration": 4,
    "start_time": "2022-02-09T13:31:42.163Z"
   },
   {
    "duration": 14,
    "start_time": "2022-02-09T13:31:50.687Z"
   },
   {
    "duration": 5,
    "start_time": "2022-02-09T13:31:51.087Z"
   },
   {
    "duration": 26,
    "start_time": "2022-02-09T13:31:55.767Z"
   },
   {
    "duration": 203,
    "start_time": "2022-02-09T13:35:19.664Z"
   },
   {
    "duration": 25,
    "start_time": "2022-02-09T13:35:31.382Z"
   },
   {
    "duration": 26,
    "start_time": "2022-02-09T13:35:49.727Z"
   },
   {
    "duration": 60,
    "start_time": "2022-02-09T13:36:46.991Z"
   },
   {
    "duration": 80,
    "start_time": "2022-02-09T13:38:28.655Z"
   },
   {
    "duration": 14949,
    "start_time": "2022-02-09T13:38:46.959Z"
   },
   {
    "duration": 2,
    "start_time": "2022-02-09T13:39:17.843Z"
   },
   {
    "duration": 163,
    "start_time": "2022-02-09T13:39:17.847Z"
   },
   {
    "duration": 11,
    "start_time": "2022-02-09T13:39:18.013Z"
   },
   {
    "duration": 34,
    "start_time": "2022-02-09T13:39:18.027Z"
   },
   {
    "duration": 7,
    "start_time": "2022-02-09T13:39:18.063Z"
   },
   {
    "duration": 40,
    "start_time": "2022-02-09T13:39:18.072Z"
   },
   {
    "duration": 5,
    "start_time": "2022-02-09T13:39:18.114Z"
   },
   {
    "duration": 33,
    "start_time": "2022-02-09T13:39:18.121Z"
   },
   {
    "duration": 20,
    "start_time": "2022-02-09T13:39:18.156Z"
   },
   {
    "duration": 45,
    "start_time": "2022-02-09T13:39:18.178Z"
   },
   {
    "duration": 68,
    "start_time": "2022-02-09T13:39:18.225Z"
   },
   {
    "duration": 79,
    "start_time": "2022-02-09T13:39:18.307Z"
   },
   {
    "duration": 66,
    "start_time": "2022-02-09T13:39:36.567Z"
   },
   {
    "duration": 91,
    "start_time": "2022-02-09T13:39:44.711Z"
   },
   {
    "duration": 123,
    "start_time": "2022-02-09T13:39:45.769Z"
   },
   {
    "duration": 95,
    "start_time": "2022-02-09T13:39:48.199Z"
   },
   {
    "duration": 69,
    "start_time": "2022-02-09T13:40:20.487Z"
   },
   {
    "duration": 61,
    "start_time": "2022-02-09T13:40:21.470Z"
   },
   {
    "duration": 43,
    "start_time": "2022-02-09T13:41:09.951Z"
   },
   {
    "duration": 44,
    "start_time": "2022-02-09T13:41:17.342Z"
   },
   {
    "duration": 3,
    "start_time": "2022-02-09T13:46:50.030Z"
   },
   {
    "duration": 10,
    "start_time": "2022-02-09T13:47:49.645Z"
   },
   {
    "duration": 52,
    "start_time": "2022-02-09T13:48:14.253Z"
   },
   {
    "duration": 7,
    "start_time": "2022-02-09T13:50:43.053Z"
   },
   {
    "duration": 3,
    "start_time": "2022-02-09T13:51:47.980Z"
   },
   {
    "duration": 10,
    "start_time": "2022-02-09T13:52:51.612Z"
   },
   {
    "duration": 9,
    "start_time": "2022-02-09T13:52:56.892Z"
   },
   {
    "duration": 14,
    "start_time": "2022-02-09T13:53:04.315Z"
   },
   {
    "duration": 13,
    "start_time": "2022-02-09T13:54:42.252Z"
   },
   {
    "duration": 229,
    "start_time": "2022-02-09T13:55:09.068Z"
   },
   {
    "duration": 258,
    "start_time": "2022-02-09T13:55:26.252Z"
   },
   {
    "duration": 205,
    "start_time": "2022-02-09T14:00:47.610Z"
   },
   {
    "duration": 6,
    "start_time": "2022-02-09T14:01:03.098Z"
   },
   {
    "duration": 12,
    "start_time": "2022-02-09T14:01:07.921Z"
   },
   {
    "duration": 327,
    "start_time": "2022-02-09T14:01:26.140Z"
   },
   {
    "duration": 230,
    "start_time": "2022-02-09T14:02:20.227Z"
   },
   {
    "duration": 237,
    "start_time": "2022-02-09T14:04:09.850Z"
   },
   {
    "duration": 5,
    "start_time": "2022-02-09T14:04:59.835Z"
   },
   {
    "duration": 14,
    "start_time": "2022-02-09T14:05:05.066Z"
   },
   {
    "duration": 606,
    "start_time": "2022-02-09T17:02:17.429Z"
   },
   {
    "duration": 131,
    "start_time": "2022-02-09T17:02:18.037Z"
   },
   {
    "duration": 15,
    "start_time": "2022-02-09T17:02:18.170Z"
   },
   {
    "duration": 42,
    "start_time": "2022-02-09T17:02:18.187Z"
   },
   {
    "duration": 3,
    "start_time": "2022-02-09T17:02:18.231Z"
   },
   {
    "duration": 23,
    "start_time": "2022-02-09T17:02:18.236Z"
   },
   {
    "duration": 5,
    "start_time": "2022-02-09T17:02:18.261Z"
   },
   {
    "duration": 23,
    "start_time": "2022-02-09T17:02:18.268Z"
   },
   {
    "duration": 40,
    "start_time": "2022-02-09T17:02:18.293Z"
   },
   {
    "duration": 22,
    "start_time": "2022-02-09T17:02:18.334Z"
   },
   {
    "duration": 79,
    "start_time": "2022-02-09T17:02:18.358Z"
   },
   {
    "duration": 78,
    "start_time": "2022-02-09T17:02:18.439Z"
   },
   {
    "duration": 55,
    "start_time": "2022-02-09T17:02:18.520Z"
   },
   {
    "duration": 57,
    "start_time": "2022-02-09T17:02:18.577Z"
   },
   {
    "duration": 3,
    "start_time": "2022-02-09T17:02:18.636Z"
   },
   {
    "duration": 12,
    "start_time": "2022-02-09T17:02:18.640Z"
   },
   {
    "duration": 40,
    "start_time": "2022-02-09T17:02:18.653Z"
   },
   {
    "duration": 14,
    "start_time": "2022-02-09T17:02:18.715Z"
   },
   {
    "duration": 10,
    "start_time": "2022-02-09T17:02:18.731Z"
   },
   {
    "duration": 13,
    "start_time": "2022-02-09T17:15:31.835Z"
   },
   {
    "duration": 3,
    "start_time": "2022-02-09T17:16:58.739Z"
   },
   {
    "duration": 13,
    "start_time": "2022-02-09T17:17:02.743Z"
   },
   {
    "duration": 12,
    "start_time": "2022-02-09T17:18:44.376Z"
   },
   {
    "duration": 12,
    "start_time": "2022-02-09T17:19:15.572Z"
   },
   {
    "duration": 15,
    "start_time": "2022-02-09T17:20:16.100Z"
   },
   {
    "duration": 11,
    "start_time": "2022-02-09T17:21:25.713Z"
   },
   {
    "duration": 107,
    "start_time": "2022-02-09T17:21:35.261Z"
   },
   {
    "duration": 11,
    "start_time": "2022-02-09T17:21:41.105Z"
   },
   {
    "duration": 4619,
    "start_time": "2022-02-09T17:21:53.192Z"
   },
   {
    "duration": 10,
    "start_time": "2022-02-09T17:46:51.813Z"
   },
   {
    "duration": 3,
    "start_time": "2022-02-09T17:46:57.936Z"
   },
   {
    "duration": 136,
    "start_time": "2022-02-09T17:46:57.941Z"
   },
   {
    "duration": 10,
    "start_time": "2022-02-09T17:46:58.080Z"
   },
   {
    "duration": 33,
    "start_time": "2022-02-09T17:46:58.092Z"
   },
   {
    "duration": 4,
    "start_time": "2022-02-09T17:46:58.126Z"
   },
   {
    "duration": 20,
    "start_time": "2022-02-09T17:46:58.131Z"
   },
   {
    "duration": 4,
    "start_time": "2022-02-09T17:46:58.153Z"
   },
   {
    "duration": 23,
    "start_time": "2022-02-09T17:46:58.159Z"
   },
   {
    "duration": 42,
    "start_time": "2022-02-09T17:46:58.184Z"
   },
   {
    "duration": 23,
    "start_time": "2022-02-09T17:46:58.228Z"
   },
   {
    "duration": 63,
    "start_time": "2022-02-09T17:46:58.253Z"
   },
   {
    "duration": 59,
    "start_time": "2022-02-09T17:46:58.318Z"
   },
   {
    "duration": 62,
    "start_time": "2022-02-09T17:46:58.379Z"
   },
   {
    "duration": 39,
    "start_time": "2022-02-09T17:46:58.443Z"
   },
   {
    "duration": 12,
    "start_time": "2022-02-09T17:46:58.483Z"
   },
   {
    "duration": 24,
    "start_time": "2022-02-09T17:46:58.496Z"
   },
   {
    "duration": 45,
    "start_time": "2022-02-09T17:46:58.521Z"
   },
   {
    "duration": 14,
    "start_time": "2022-02-09T17:46:58.567Z"
   },
   {
    "duration": 10,
    "start_time": "2022-02-09T17:46:58.582Z"
   },
   {
    "duration": 2,
    "start_time": "2022-02-09T17:46:58.594Z"
   },
   {
    "duration": 10,
    "start_time": "2022-02-09T17:47:12.005Z"
   },
   {
    "duration": 12,
    "start_time": "2022-02-09T17:47:20.017Z"
   },
   {
    "duration": 18,
    "start_time": "2022-02-09T17:47:35.632Z"
   },
   {
    "duration": 13,
    "start_time": "2022-02-09T17:48:12.471Z"
   },
   {
    "duration": 13,
    "start_time": "2022-02-09T17:48:36.032Z"
   },
   {
    "duration": 251,
    "start_time": "2022-02-09T17:49:16.181Z"
   },
   {
    "duration": 11,
    "start_time": "2022-02-09T17:49:27.488Z"
   },
   {
    "duration": 11,
    "start_time": "2022-02-09T17:49:56.531Z"
   },
   {
    "duration": 13,
    "start_time": "2022-02-09T17:50:23.970Z"
   },
   {
    "duration": 13,
    "start_time": "2022-02-09T17:50:47.528Z"
   },
   {
    "duration": 17,
    "start_time": "2022-02-09T17:53:56.376Z"
   },
   {
    "duration": 13,
    "start_time": "2022-02-09T17:54:11.717Z"
   },
   {
    "duration": 13,
    "start_time": "2022-02-09T17:54:32.316Z"
   },
   {
    "duration": 13,
    "start_time": "2022-02-09T17:54:34.330Z"
   },
   {
    "duration": 3,
    "start_time": "2022-02-09T17:54:53.664Z"
   },
   {
    "duration": 17,
    "start_time": "2022-02-09T17:54:54.217Z"
   },
   {
    "duration": 14,
    "start_time": "2022-02-09T17:54:54.597Z"
   },
   {
    "duration": 16,
    "start_time": "2022-02-09T17:54:56.475Z"
   },
   {
    "duration": 14,
    "start_time": "2022-02-09T17:54:56.706Z"
   },
   {
    "duration": 17,
    "start_time": "2022-02-09T17:54:57.051Z"
   },
   {
    "duration": 14,
    "start_time": "2022-02-09T17:54:57.492Z"
   },
   {
    "duration": 517,
    "start_time": "2022-02-09T17:56:30.090Z"
   },
   {
    "duration": 63,
    "start_time": "2022-02-09T17:56:40.864Z"
   },
   {
    "duration": 7,
    "start_time": "2022-02-09T17:57:23.130Z"
   },
   {
    "duration": 69,
    "start_time": "2022-02-09T17:57:58.629Z"
   },
   {
    "duration": 20,
    "start_time": "2022-02-09T17:59:50.151Z"
   },
   {
    "duration": 9,
    "start_time": "2022-02-09T18:00:28.621Z"
   },
   {
    "duration": 4,
    "start_time": "2022-02-09T18:03:37.614Z"
   },
   {
    "duration": 3,
    "start_time": "2022-02-09T18:16:36.285Z"
   },
   {
    "duration": 156,
    "start_time": "2022-02-09T18:16:36.290Z"
   },
   {
    "duration": 10,
    "start_time": "2022-02-09T18:16:36.448Z"
   },
   {
    "duration": 28,
    "start_time": "2022-02-09T18:16:36.460Z"
   },
   {
    "duration": 3,
    "start_time": "2022-02-09T18:16:36.490Z"
   },
   {
    "duration": 15,
    "start_time": "2022-02-09T18:16:36.513Z"
   },
   {
    "duration": 4,
    "start_time": "2022-02-09T18:16:36.531Z"
   },
   {
    "duration": 25,
    "start_time": "2022-02-09T18:16:36.536Z"
   },
   {
    "duration": 18,
    "start_time": "2022-02-09T18:16:36.563Z"
   },
   {
    "duration": 53,
    "start_time": "2022-02-09T18:16:36.583Z"
   },
   {
    "duration": 75,
    "start_time": "2022-02-09T18:16:36.637Z"
   },
   {
    "duration": 62,
    "start_time": "2022-02-09T18:16:36.714Z"
   },
   {
    "duration": 64,
    "start_time": "2022-02-09T18:16:36.777Z"
   },
   {
    "duration": 42,
    "start_time": "2022-02-09T18:16:36.843Z"
   },
   {
    "duration": 3,
    "start_time": "2022-02-09T18:16:36.887Z"
   },
   {
    "duration": 32,
    "start_time": "2022-02-09T18:16:36.892Z"
   },
   {
    "duration": 40,
    "start_time": "2022-02-09T18:16:36.926Z"
   },
   {
    "duration": 11,
    "start_time": "2022-02-09T18:16:36.968Z"
   },
   {
    "duration": 31,
    "start_time": "2022-02-09T18:16:36.982Z"
   },
   {
    "duration": 3,
    "start_time": "2022-02-09T18:16:37.015Z"
   },
   {
    "duration": 18,
    "start_time": "2022-02-09T18:16:37.019Z"
   },
   {
    "duration": 13,
    "start_time": "2022-02-09T18:16:37.039Z"
   },
   {
    "duration": 14,
    "start_time": "2022-02-09T18:16:37.054Z"
   },
   {
    "duration": 13,
    "start_time": "2022-02-09T18:16:37.069Z"
   },
   {
    "duration": 15,
    "start_time": "2022-02-09T18:16:37.113Z"
   },
   {
    "duration": 14,
    "start_time": "2022-02-09T18:16:37.130Z"
   },
   {
    "duration": 87,
    "start_time": "2022-02-09T18:16:37.146Z"
   },
   {
    "duration": 12,
    "start_time": "2022-02-09T18:16:37.234Z"
   },
   {
    "duration": 9,
    "start_time": "2022-02-09T18:16:37.247Z"
   },
   {
    "duration": 3,
    "start_time": "2022-02-09T18:16:37.258Z"
   },
   {
    "duration": 230,
    "start_time": "2022-02-09T18:17:37.827Z"
   },
   {
    "duration": 244,
    "start_time": "2022-02-09T18:17:45.575Z"
   },
   {
    "duration": 19,
    "start_time": "2022-02-09T18:18:03.733Z"
   },
   {
    "duration": 71,
    "start_time": "2022-02-09T18:18:22.835Z"
   },
   {
    "duration": 12,
    "start_time": "2022-02-09T18:18:36.118Z"
   },
   {
    "duration": 235,
    "start_time": "2022-02-09T18:19:08.392Z"
   },
   {
    "duration": 31,
    "start_time": "2022-02-09T18:19:20.485Z"
   },
   {
    "duration": 23,
    "start_time": "2022-02-09T18:19:43.230Z"
   },
   {
    "duration": 4,
    "start_time": "2022-02-09T18:20:25.832Z"
   },
   {
    "duration": 433,
    "start_time": "2022-02-09T18:20:34.434Z"
   },
   {
    "duration": 4,
    "start_time": "2022-02-09T18:20:43.793Z"
   },
   {
    "duration": 486,
    "start_time": "2022-02-09T18:20:50.044Z"
   },
   {
    "duration": 4,
    "start_time": "2022-02-09T18:21:57.389Z"
   },
   {
    "duration": 18,
    "start_time": "2022-02-09T18:22:00.763Z"
   },
   {
    "duration": 14,
    "start_time": "2022-02-09T18:22:45.173Z"
   },
   {
    "duration": 20,
    "start_time": "2022-02-09T18:23:32.159Z"
   },
   {
    "duration": 13,
    "start_time": "2022-02-09T18:24:05.310Z"
   },
   {
    "duration": 11,
    "start_time": "2022-02-09T18:27:21.728Z"
   },
   {
    "duration": 5,
    "start_time": "2022-02-09T18:27:28.549Z"
   },
   {
    "duration": 4,
    "start_time": "2022-02-09T18:27:47.831Z"
   },
   {
    "duration": 9,
    "start_time": "2022-02-09T18:29:07.067Z"
   },
   {
    "duration": 5,
    "start_time": "2022-02-09T18:29:19.312Z"
   },
   {
    "duration": 7,
    "start_time": "2022-02-09T18:29:59.783Z"
   },
   {
    "duration": 5,
    "start_time": "2022-02-09T18:30:00.855Z"
   },
   {
    "duration": 10,
    "start_time": "2022-02-09T18:30:09.748Z"
   },
   {
    "duration": 6,
    "start_time": "2022-02-09T18:30:10.385Z"
   },
   {
    "duration": 8,
    "start_time": "2022-02-09T18:30:12.196Z"
   },
   {
    "duration": 5,
    "start_time": "2022-02-09T18:30:14.078Z"
   },
   {
    "duration": 72,
    "start_time": "2022-02-14T18:31:42.970Z"
   },
   {
    "duration": 111,
    "start_time": "2022-02-16T06:50:56.924Z"
   },
   {
    "duration": 85,
    "start_time": "2022-02-16T06:51:20.348Z"
   },
   {
    "duration": 327,
    "start_time": "2022-02-16T06:55:47.597Z"
   },
   {
    "duration": 721,
    "start_time": "2022-02-16T06:56:10.348Z"
   },
   {
    "duration": 179,
    "start_time": "2022-02-16T06:56:11.072Z"
   },
   {
    "duration": 26,
    "start_time": "2022-02-16T06:56:11.255Z"
   },
   {
    "duration": 37,
    "start_time": "2022-02-16T06:56:11.284Z"
   },
   {
    "duration": 26,
    "start_time": "2022-02-16T06:56:11.324Z"
   },
   {
    "duration": 25,
    "start_time": "2022-02-16T06:56:11.353Z"
   },
   {
    "duration": 10,
    "start_time": "2022-02-16T06:56:11.381Z"
   },
   {
    "duration": 55,
    "start_time": "2022-02-16T06:56:11.395Z"
   },
   {
    "duration": 23,
    "start_time": "2022-02-16T06:56:11.453Z"
   },
   {
    "duration": 28,
    "start_time": "2022-02-16T06:56:11.478Z"
   },
   {
    "duration": 106,
    "start_time": "2022-02-16T06:56:11.509Z"
   },
   {
    "duration": 105,
    "start_time": "2022-02-16T06:56:11.617Z"
   },
   {
    "duration": 82,
    "start_time": "2022-02-16T06:56:11.725Z"
   },
   {
    "duration": 64,
    "start_time": "2022-02-16T06:56:11.810Z"
   },
   {
    "duration": 4,
    "start_time": "2022-02-16T06:56:11.877Z"
   },
   {
    "duration": 19,
    "start_time": "2022-02-16T06:56:11.883Z"
   },
   {
    "duration": 79,
    "start_time": "2022-02-16T06:56:11.905Z"
   },
   {
    "duration": 16,
    "start_time": "2022-02-16T06:56:11.987Z"
   },
   {
    "duration": 16,
    "start_time": "2022-02-16T06:56:12.005Z"
   },
   {
    "duration": 6,
    "start_time": "2022-02-16T06:56:12.047Z"
   },
   {
    "duration": 27,
    "start_time": "2022-02-16T06:56:12.055Z"
   },
   {
    "duration": 22,
    "start_time": "2022-02-16T06:56:12.084Z"
   },
   {
    "duration": 46,
    "start_time": "2022-02-16T06:56:12.112Z"
   },
   {
    "duration": 19,
    "start_time": "2022-02-16T06:56:12.161Z"
   },
   {
    "duration": 21,
    "start_time": "2022-02-16T06:56:12.183Z"
   },
   {
    "duration": 53,
    "start_time": "2022-02-16T06:56:12.207Z"
   },
   {
    "duration": 107,
    "start_time": "2022-02-16T06:56:12.263Z"
   },
   {
    "duration": 14,
    "start_time": "2022-02-16T06:56:12.373Z"
   },
   {
    "duration": 13,
    "start_time": "2022-02-16T06:56:12.389Z"
   },
   {
    "duration": 8,
    "start_time": "2022-02-16T06:56:12.404Z"
   },
   {
    "duration": 52,
    "start_time": "2022-02-16T06:56:12.415Z"
   },
   {
    "duration": 17,
    "start_time": "2022-02-16T06:56:12.470Z"
   },
   {
    "duration": 24,
    "start_time": "2022-02-16T06:56:16.558Z"
   },
   {
    "duration": 96,
    "start_time": "2022-02-16T06:56:52.898Z"
   },
   {
    "duration": 19,
    "start_time": "2022-02-16T06:57:33.970Z"
   },
   {
    "duration": 132,
    "start_time": "2022-02-16T11:04:27.098Z"
   },
   {
    "duration": 728,
    "start_time": "2022-02-16T11:05:47.055Z"
   },
   {
    "duration": 183,
    "start_time": "2022-02-16T11:05:47.785Z"
   },
   {
    "duration": 25,
    "start_time": "2022-02-16T11:05:47.971Z"
   },
   {
    "duration": 33,
    "start_time": "2022-02-16T11:05:48.021Z"
   },
   {
    "duration": 7,
    "start_time": "2022-02-16T11:05:48.058Z"
   },
   {
    "duration": 50,
    "start_time": "2022-02-16T11:05:48.068Z"
   },
   {
    "duration": 8,
    "start_time": "2022-02-16T11:05:48.121Z"
   },
   {
    "duration": 48,
    "start_time": "2022-02-16T11:05:48.134Z"
   },
   {
    "duration": 29,
    "start_time": "2022-02-16T11:05:48.213Z"
   },
   {
    "duration": 31,
    "start_time": "2022-02-16T11:05:48.244Z"
   },
   {
    "duration": 116,
    "start_time": "2022-02-16T11:05:48.277Z"
   },
   {
    "duration": 108,
    "start_time": "2022-02-16T11:05:48.395Z"
   },
   {
    "duration": 85,
    "start_time": "2022-02-16T11:05:48.510Z"
   },
   {
    "duration": 77,
    "start_time": "2022-02-16T11:05:48.597Z"
   },
   {
    "duration": 4,
    "start_time": "2022-02-16T11:05:48.677Z"
   },
   {
    "duration": 39,
    "start_time": "2022-02-16T11:05:48.683Z"
   },
   {
    "duration": 61,
    "start_time": "2022-02-16T11:05:48.724Z"
   },
   {
    "duration": 31,
    "start_time": "2022-02-16T11:05:48.788Z"
   },
   {
    "duration": 17,
    "start_time": "2022-02-16T11:05:48.822Z"
   },
   {
    "duration": 6,
    "start_time": "2022-02-16T11:05:48.844Z"
   },
   {
    "duration": 58,
    "start_time": "2022-02-16T11:05:48.852Z"
   },
   {
    "duration": 20,
    "start_time": "2022-02-16T11:05:48.913Z"
   },
   {
    "duration": 17,
    "start_time": "2022-02-16T11:05:48.938Z"
   },
   {
    "duration": 22,
    "start_time": "2022-02-16T11:05:48.958Z"
   },
   {
    "duration": 20,
    "start_time": "2022-02-16T11:05:49.012Z"
   },
   {
    "duration": 20,
    "start_time": "2022-02-16T11:05:49.035Z"
   },
   {
    "duration": 121,
    "start_time": "2022-02-16T11:05:49.058Z"
   },
   {
    "duration": 14,
    "start_time": "2022-02-16T11:05:49.181Z"
   },
   {
    "duration": 23,
    "start_time": "2022-02-16T11:05:49.198Z"
   },
   {
    "duration": 5,
    "start_time": "2022-02-16T11:05:49.224Z"
   },
   {
    "duration": 30,
    "start_time": "2022-02-16T11:05:49.231Z"
   },
   {
    "duration": 47,
    "start_time": "2022-02-16T11:05:49.263Z"
   },
   {
    "duration": 26,
    "start_time": "2022-02-16T11:05:49.313Z"
   },
   {
    "duration": 18,
    "start_time": "2022-02-16T11:05:49.341Z"
   },
   {
    "duration": 49,
    "start_time": "2022-02-16T11:05:49.362Z"
   },
   {
    "duration": 6,
    "start_time": "2022-02-16T11:05:49.413Z"
   },
   {
    "duration": 10,
    "start_time": "2022-02-16T11:05:49.422Z"
   },
   {
    "duration": 6,
    "start_time": "2022-02-16T11:05:49.434Z"
   }
  ],
  "colab": {
   "collapsed_sections": [
    "E0vqbgi9ay0H",
    "VUC88oWjTJw2"
   ],
   "name": "yandex_music_project_2021.2.ipynb",
   "provenance": []
  },
  "kernelspec": {
   "display_name": "Python 3 (ipykernel)",
   "language": "python",
   "name": "python3"
  },
  "language_info": {
   "codemirror_mode": {
    "name": "ipython",
    "version": 3
   },
   "file_extension": ".py",
   "mimetype": "text/x-python",
   "name": "python",
   "nbconvert_exporter": "python",
   "pygments_lexer": "ipython3",
   "version": "3.8.8"
  },
  "toc": {
   "base_numbering": 1,
   "nav_menu": {},
   "number_sections": true,
   "sideBar": true,
   "skip_h1_title": true,
   "title_cell": "Table of Contents",
   "title_sidebar": "Contents",
   "toc_cell": false,
   "toc_position": {},
   "toc_section_display": true,
   "toc_window_display": true
  }
 },
 "nbformat": 4,
 "nbformat_minor": 1
}
