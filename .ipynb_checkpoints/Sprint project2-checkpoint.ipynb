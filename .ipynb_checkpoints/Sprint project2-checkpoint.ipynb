{
 "cells": [
  {
   "cell_type": "markdown",
   "metadata": {
    "toc": true
   },
   "source": [
    "<h1>Содержание<span class=\"tocSkip\"></span></h1>\n",
    "<div class=\"toc\"><ul class=\"toc-item\"><li><span><a href=\"#Подготовка-данных\" data-toc-modified-id=\"Подготовка-данных-1\"><span class=\"toc-item-num\">1&nbsp;&nbsp;</span>Подготовка данных</a></span><ul class=\"toc-item\"><li><span><a href=\"#Изучение-файлов\" data-toc-modified-id=\"Изучение-файлов-1.1\"><span class=\"toc-item-num\">1.1&nbsp;&nbsp;</span>Изучение файлов</a></span></li><li><span><a href=\"#Проверка-на-правильность-вычислений\" data-toc-modified-id=\"Проверка-на-правильность-вычислений-1.2\"><span class=\"toc-item-num\">1.2&nbsp;&nbsp;</span>Проверка на правильность вычислений</a></span></li><li><span><a href=\"#Анализ-признаков,-недоступных-в-тестовой-выборке\" data-toc-modified-id=\"Анализ-признаков,-недоступных-в-тестовой-выборке-1.3\"><span class=\"toc-item-num\">1.3&nbsp;&nbsp;</span>Анализ признаков, недоступных в тестовой выборке</a></span></li><li><span><a href=\"#Предобработка-данных\" data-toc-modified-id=\"Предобработка-данных-1.4\"><span class=\"toc-item-num\">1.4&nbsp;&nbsp;</span>Предобработка данных</a></span></li></ul></li><li><span><a href=\"#Анализ-данных\" data-toc-modified-id=\"Анализ-данных-2\"><span class=\"toc-item-num\">2&nbsp;&nbsp;</span>Анализ данных</a></span><ul class=\"toc-item\"><li><span><a href=\"#Изменение-концентрации-металлов-(Au,-Ag,-Pb)\" data-toc-modified-id=\"Изменение-концентрации-металлов-(Au,-Ag,-Pb)-2.1\"><span class=\"toc-item-num\">2.1&nbsp;&nbsp;</span>Изменение концентрации металлов (Au, Ag, Pb)</a></span></li><li><span><a href=\"#Сравнение-распределений-размеров-гранул-сырья-на-обучающей-и-тестовой-выборках\" data-toc-modified-id=\"Сравнение-распределений-размеров-гранул-сырья-на-обучающей-и-тестовой-выборках-2.2\"><span class=\"toc-item-num\">2.2&nbsp;&nbsp;</span>Сравнение распределений размеров гранул сырья на обучающей и тестовой выборках</a></span></li><li><span><a href=\"#Исследование-суммарной-концентрации-всех-веществ-на-разных-стадиях:-в-сырье,-черновом-и-финальных-концентратах\" data-toc-modified-id=\"Исследование-суммарной-концентрации-всех-веществ-на-разных-стадиях:-в-сырье,-черновом-и-финальных-концентратах-2.3\"><span class=\"toc-item-num\">2.3&nbsp;&nbsp;</span>Исследование суммарной концентрации всех веществ на разных стадиях: в сырье, черновом и финальных концентратах</a></span></li></ul></li><li><span><a href=\"#Модель\" data-toc-modified-id=\"Модель-3\"><span class=\"toc-item-num\">3&nbsp;&nbsp;</span>Модель</a></span><ul class=\"toc-item\"><li><span><a href=\"#Функция-для-вычисления-итоговой-sMAPE\" data-toc-modified-id=\"Функция-для-вычисления-итоговой-sMAPE-3.1\"><span class=\"toc-item-num\">3.1&nbsp;&nbsp;</span>Функция для вычисления итоговой sMAPE</a></span></li><li><span><a href=\"#Обучение-моделей\" data-toc-modified-id=\"Обучение-моделей-3.2\"><span class=\"toc-item-num\">3.2&nbsp;&nbsp;</span>Обучение моделей</a></span></li></ul></li><li><span><a href=\"#Чек-лист-готовности-проекта\" data-toc-modified-id=\"Чек-лист-готовности-проекта-4\"><span class=\"toc-item-num\">4&nbsp;&nbsp;</span>Чек-лист готовности проекта</a></span></li></ul></div>"
   ]
  },
  {
   "cell_type": "markdown",
   "metadata": {},
   "source": [
    "# Восстановление золота из руды"
   ]
  },
  {
   "cell_type": "markdown",
   "metadata": {},
   "source": [
    "Подготовьте прототип модели машинного обучения для «Цифры». Компания разрабатывает решения для эффективной работы промышленных предприятий.\n",
    "\n",
    "Модель должна предсказать коэффициент восстановления золота из золотосодержащей руды. Используйте данные с параметрами добычи и очистки. \n",
    "\n",
    "Модель поможет оптимизировать производство, чтобы не запускать предприятие с убыточными характеристиками.\n",
    "\n",
    "Вам нужно:\n",
    "\n",
    "1. Подготовить данные;\n",
    "2. Провести исследовательский анализ данных;\n",
    "3. Построить и обучить модель.\n",
    "\n",
    "Чтобы выполнить проект, обращайтесь к библиотекам *pandas*, *matplotlib* и *sklearn.* Вам поможет их документация."
   ]
  },
  {
   "cell_type": "markdown",
   "metadata": {},
   "source": [
    "<div class=\"alert alert-block alert-info\">\n",
    "<b>Цель проекта:</b> необходимо предсказать коэффициент восстановления золота из золотосодержащей руды.\n",
    "\n",
    "<b>Входные данные:</b> данные с параметрами добычи и очистки."
   ]
  },
  {
   "cell_type": "code",
   "execution_count": 1,
   "metadata": {},
   "outputs": [],
   "source": [
    "import pandas as pd\n",
    "import numpy as np\n",
    "import re\n",
    "import seaborn as sns\n",
    "import matplotlib.pyplot as plt\n",
    "from sklearn.metrics import mean_absolute_error\n",
    "from sklearn.metrics import make_scorer\n",
    "from sklearn.model_selection import GridSearchCV\n",
    "from sklearn.preprocessing import StandardScaler\n",
    "from sklearn.model_selection import cross_val_score\n",
    "from sklearn.ensemble import RandomForestRegressor\n",
    "from sklearn.tree import DecisionTreeRegressor\n",
    "from sklearn.linear_model import LinearRegression\n",
    "from sklearn.dummy import DummyRegressor\n",
    "from random import randint\n",
    "random_state = 12345\n",
    "import warnings\n",
    "warnings.filterwarnings('ignore')\n",
    "import os"
   ]
  },
  {
   "cell_type": "markdown",
   "metadata": {},
   "source": [
    "## Подготовка данных"
   ]
  },
  {
   "cell_type": "markdown",
   "metadata": {},
   "source": [
    "### Изучение файлов"
   ]
  },
  {
   "cell_type": "code",
   "execution_count": 2,
   "metadata": {},
   "outputs": [],
   "source": [
    "pth = '/datasets'\n",
    "try:\n",
    "    data_train = pd.read_csv(pth + \"/gold_recovery_train_new.csv\")\n",
    "    data_test = pd.read_csv(pth + \"/gold_recovery_test_new.csv\")\n",
    "    data_full = pd.read_csv(pth + \"/gold_recovery_full_new.csv\")\n",
    "\n",
    "except:\n",
    "    print('Something is wrong')"
   ]
  },
  {
   "cell_type": "code",
   "execution_count": 3,
   "metadata": {},
   "outputs": [
    {
     "name": "stdout",
     "output_type": "stream",
     "text": [
      "<class 'pandas.core.frame.DataFrame'>\n",
      "RangeIndex: 14149 entries, 0 to 14148\n",
      "Data columns (total 87 columns):\n",
      " #   Column                                              Non-Null Count  Dtype  \n",
      "---  ------                                              --------------  -----  \n",
      " 0   date                                                14149 non-null  object \n",
      " 1   final.output.concentrate_ag                         14148 non-null  float64\n",
      " 2   final.output.concentrate_pb                         14148 non-null  float64\n",
      " 3   final.output.concentrate_sol                        13938 non-null  float64\n",
      " 4   final.output.concentrate_au                         14149 non-null  float64\n",
      " 5   final.output.recovery                               14149 non-null  float64\n",
      " 6   final.output.tail_ag                                14149 non-null  float64\n",
      " 7   final.output.tail_pb                                14049 non-null  float64\n",
      " 8   final.output.tail_sol                               14144 non-null  float64\n",
      " 9   final.output.tail_au                                14149 non-null  float64\n",
      " 10  primary_cleaner.input.sulfate                       14129 non-null  float64\n",
      " 11  primary_cleaner.input.depressant                    14117 non-null  float64\n",
      " 12  primary_cleaner.input.feed_size                     14149 non-null  float64\n",
      " 13  primary_cleaner.input.xanthate                      14049 non-null  float64\n",
      " 14  primary_cleaner.output.concentrate_ag               14149 non-null  float64\n",
      " 15  primary_cleaner.output.concentrate_pb               14063 non-null  float64\n",
      " 16  primary_cleaner.output.concentrate_sol              13863 non-null  float64\n",
      " 17  primary_cleaner.output.concentrate_au               14149 non-null  float64\n",
      " 18  primary_cleaner.output.tail_ag                      14148 non-null  float64\n",
      " 19  primary_cleaner.output.tail_pb                      14134 non-null  float64\n",
      " 20  primary_cleaner.output.tail_sol                     14103 non-null  float64\n",
      " 21  primary_cleaner.output.tail_au                      14149 non-null  float64\n",
      " 22  primary_cleaner.state.floatbank8_a_air              14145 non-null  float64\n",
      " 23  primary_cleaner.state.floatbank8_a_level            14148 non-null  float64\n",
      " 24  primary_cleaner.state.floatbank8_b_air              14145 non-null  float64\n",
      " 25  primary_cleaner.state.floatbank8_b_level            14148 non-null  float64\n",
      " 26  primary_cleaner.state.floatbank8_c_air              14147 non-null  float64\n",
      " 27  primary_cleaner.state.floatbank8_c_level            14148 non-null  float64\n",
      " 28  primary_cleaner.state.floatbank8_d_air              14146 non-null  float64\n",
      " 29  primary_cleaner.state.floatbank8_d_level            14148 non-null  float64\n",
      " 30  rougher.calculation.sulfate_to_au_concentrate       14148 non-null  float64\n",
      " 31  rougher.calculation.floatbank10_sulfate_to_au_feed  14148 non-null  float64\n",
      " 32  rougher.calculation.floatbank11_sulfate_to_au_feed  14148 non-null  float64\n",
      " 33  rougher.calculation.au_pb_ratio                     14149 non-null  float64\n",
      " 34  rougher.input.feed_ag                               14149 non-null  float64\n",
      " 35  rougher.input.feed_pb                               14049 non-null  float64\n",
      " 36  rougher.input.feed_rate                             14141 non-null  float64\n",
      " 37  rougher.input.feed_size                             14005 non-null  float64\n",
      " 38  rougher.input.feed_sol                              14071 non-null  float64\n",
      " 39  rougher.input.feed_au                               14149 non-null  float64\n",
      " 40  rougher.input.floatbank10_sulfate                   14120 non-null  float64\n",
      " 41  rougher.input.floatbank10_xanthate                  14141 non-null  float64\n",
      " 42  rougher.input.floatbank11_sulfate                   14113 non-null  float64\n",
      " 43  rougher.input.floatbank11_xanthate                  13721 non-null  float64\n",
      " 44  rougher.output.concentrate_ag                       14149 non-null  float64\n",
      " 45  rougher.output.concentrate_pb                       14149 non-null  float64\n",
      " 46  rougher.output.concentrate_sol                      14127 non-null  float64\n",
      " 47  rougher.output.concentrate_au                       14149 non-null  float64\n",
      " 48  rougher.output.recovery                             14149 non-null  float64\n",
      " 49  rougher.output.tail_ag                              14148 non-null  float64\n",
      " 50  rougher.output.tail_pb                              14149 non-null  float64\n",
      " 51  rougher.output.tail_sol                             14149 non-null  float64\n",
      " 52  rougher.output.tail_au                              14149 non-null  float64\n",
      " 53  rougher.state.floatbank10_a_air                     14148 non-null  float64\n",
      " 54  rougher.state.floatbank10_a_level                   14148 non-null  float64\n",
      " 55  rougher.state.floatbank10_b_air                     14148 non-null  float64\n",
      " 56  rougher.state.floatbank10_b_level                   14148 non-null  float64\n",
      " 57  rougher.state.floatbank10_c_air                     14148 non-null  float64\n",
      " 58  rougher.state.floatbank10_c_level                   14148 non-null  float64\n",
      " 59  rougher.state.floatbank10_d_air                     14149 non-null  float64\n",
      " 60  rougher.state.floatbank10_d_level                   14149 non-null  float64\n",
      " 61  rougher.state.floatbank10_e_air                     13713 non-null  float64\n",
      " 62  rougher.state.floatbank10_e_level                   14149 non-null  float64\n",
      " 63  rougher.state.floatbank10_f_air                     14149 non-null  float64\n",
      " 64  rougher.state.floatbank10_f_level                   14149 non-null  float64\n",
      " 65  secondary_cleaner.output.tail_ag                    14147 non-null  float64\n",
      " 66  secondary_cleaner.output.tail_pb                    14139 non-null  float64\n",
      " 67  secondary_cleaner.output.tail_sol                   12544 non-null  float64\n",
      " 68  secondary_cleaner.output.tail_au                    14149 non-null  float64\n",
      " 69  secondary_cleaner.state.floatbank2_a_air            13932 non-null  float64\n",
      " 70  secondary_cleaner.state.floatbank2_a_level          14148 non-null  float64\n",
      " 71  secondary_cleaner.state.floatbank2_b_air            14128 non-null  float64\n",
      " 72  secondary_cleaner.state.floatbank2_b_level          14148 non-null  float64\n",
      " 73  secondary_cleaner.state.floatbank3_a_air            14145 non-null  float64\n",
      " 74  secondary_cleaner.state.floatbank3_a_level          14148 non-null  float64\n",
      " 75  secondary_cleaner.state.floatbank3_b_air            14148 non-null  float64\n",
      " 76  secondary_cleaner.state.floatbank3_b_level          14148 non-null  float64\n",
      " 77  secondary_cleaner.state.floatbank4_a_air            14143 non-null  float64\n",
      " 78  secondary_cleaner.state.floatbank4_a_level          14148 non-null  float64\n",
      " 79  secondary_cleaner.state.floatbank4_b_air            14148 non-null  float64\n",
      " 80  secondary_cleaner.state.floatbank4_b_level          14148 non-null  float64\n",
      " 81  secondary_cleaner.state.floatbank5_a_air            14148 non-null  float64\n",
      " 82  secondary_cleaner.state.floatbank5_a_level          14148 non-null  float64\n",
      " 83  secondary_cleaner.state.floatbank5_b_air            14148 non-null  float64\n",
      " 84  secondary_cleaner.state.floatbank5_b_level          14148 non-null  float64\n",
      " 85  secondary_cleaner.state.floatbank6_a_air            14147 non-null  float64\n",
      " 86  secondary_cleaner.state.floatbank6_a_level          14148 non-null  float64\n",
      "dtypes: float64(86), object(1)\n",
      "memory usage: 9.4+ MB\n",
      "None\n",
      "<class 'pandas.core.frame.DataFrame'>\n",
      "RangeIndex: 5290 entries, 0 to 5289\n",
      "Data columns (total 53 columns):\n",
      " #   Column                                      Non-Null Count  Dtype  \n",
      "---  ------                                      --------------  -----  \n",
      " 0   date                                        5290 non-null   object \n",
      " 1   primary_cleaner.input.sulfate               5286 non-null   float64\n",
      " 2   primary_cleaner.input.depressant            5285 non-null   float64\n",
      " 3   primary_cleaner.input.feed_size             5290 non-null   float64\n",
      " 4   primary_cleaner.input.xanthate              5286 non-null   float64\n",
      " 5   primary_cleaner.state.floatbank8_a_air      5290 non-null   float64\n",
      " 6   primary_cleaner.state.floatbank8_a_level    5290 non-null   float64\n",
      " 7   primary_cleaner.state.floatbank8_b_air      5290 non-null   float64\n",
      " 8   primary_cleaner.state.floatbank8_b_level    5290 non-null   float64\n",
      " 9   primary_cleaner.state.floatbank8_c_air      5290 non-null   float64\n",
      " 10  primary_cleaner.state.floatbank8_c_level    5290 non-null   float64\n",
      " 11  primary_cleaner.state.floatbank8_d_air      5290 non-null   float64\n",
      " 12  primary_cleaner.state.floatbank8_d_level    5290 non-null   float64\n",
      " 13  rougher.input.feed_ag                       5290 non-null   float64\n",
      " 14  rougher.input.feed_pb                       5290 non-null   float64\n",
      " 15  rougher.input.feed_rate                     5287 non-null   float64\n",
      " 16  rougher.input.feed_size                     5289 non-null   float64\n",
      " 17  rougher.input.feed_sol                      5269 non-null   float64\n",
      " 18  rougher.input.feed_au                       5290 non-null   float64\n",
      " 19  rougher.input.floatbank10_sulfate           5285 non-null   float64\n",
      " 20  rougher.input.floatbank10_xanthate          5290 non-null   float64\n",
      " 21  rougher.input.floatbank11_sulfate           5282 non-null   float64\n",
      " 22  rougher.input.floatbank11_xanthate          5265 non-null   float64\n",
      " 23  rougher.state.floatbank10_a_air             5290 non-null   float64\n",
      " 24  rougher.state.floatbank10_a_level           5290 non-null   float64\n",
      " 25  rougher.state.floatbank10_b_air             5290 non-null   float64\n",
      " 26  rougher.state.floatbank10_b_level           5290 non-null   float64\n",
      " 27  rougher.state.floatbank10_c_air             5290 non-null   float64\n",
      " 28  rougher.state.floatbank10_c_level           5290 non-null   float64\n",
      " 29  rougher.state.floatbank10_d_air             5290 non-null   float64\n",
      " 30  rougher.state.floatbank10_d_level           5290 non-null   float64\n",
      " 31  rougher.state.floatbank10_e_air             5290 non-null   float64\n",
      " 32  rougher.state.floatbank10_e_level           5290 non-null   float64\n",
      " 33  rougher.state.floatbank10_f_air             5290 non-null   float64\n",
      " 34  rougher.state.floatbank10_f_level           5290 non-null   float64\n",
      " 35  secondary_cleaner.state.floatbank2_a_air    5287 non-null   float64\n",
      " 36  secondary_cleaner.state.floatbank2_a_level  5290 non-null   float64\n",
      " 37  secondary_cleaner.state.floatbank2_b_air    5288 non-null   float64\n",
      " 38  secondary_cleaner.state.floatbank2_b_level  5290 non-null   float64\n",
      " 39  secondary_cleaner.state.floatbank3_a_air    5281 non-null   float64\n",
      " 40  secondary_cleaner.state.floatbank3_a_level  5290 non-null   float64\n",
      " 41  secondary_cleaner.state.floatbank3_b_air    5290 non-null   float64\n",
      " 42  secondary_cleaner.state.floatbank3_b_level  5290 non-null   float64\n",
      " 43  secondary_cleaner.state.floatbank4_a_air    5290 non-null   float64\n",
      " 44  secondary_cleaner.state.floatbank4_a_level  5290 non-null   float64\n",
      " 45  secondary_cleaner.state.floatbank4_b_air    5290 non-null   float64\n",
      " 46  secondary_cleaner.state.floatbank4_b_level  5290 non-null   float64\n",
      " 47  secondary_cleaner.state.floatbank5_a_air    5290 non-null   float64\n",
      " 48  secondary_cleaner.state.floatbank5_a_level  5290 non-null   float64\n",
      " 49  secondary_cleaner.state.floatbank5_b_air    5290 non-null   float64\n",
      " 50  secondary_cleaner.state.floatbank5_b_level  5290 non-null   float64\n",
      " 51  secondary_cleaner.state.floatbank6_a_air    5290 non-null   float64\n",
      " 52  secondary_cleaner.state.floatbank6_a_level  5290 non-null   float64\n",
      "dtypes: float64(52), object(1)\n",
      "memory usage: 2.1+ MB\n",
      "None\n",
      "<class 'pandas.core.frame.DataFrame'>\n",
      "RangeIndex: 19439 entries, 0 to 19438\n",
      "Data columns (total 87 columns):\n",
      " #   Column                                              Non-Null Count  Dtype  \n",
      "---  ------                                              --------------  -----  \n",
      " 0   date                                                19439 non-null  object \n",
      " 1   final.output.concentrate_ag                         19438 non-null  float64\n",
      " 2   final.output.concentrate_pb                         19438 non-null  float64\n",
      " 3   final.output.concentrate_sol                        19228 non-null  float64\n",
      " 4   final.output.concentrate_au                         19439 non-null  float64\n",
      " 5   final.output.recovery                               19439 non-null  float64\n",
      " 6   final.output.tail_ag                                19438 non-null  float64\n",
      " 7   final.output.tail_pb                                19338 non-null  float64\n",
      " 8   final.output.tail_sol                               19433 non-null  float64\n",
      " 9   final.output.tail_au                                19439 non-null  float64\n",
      " 10  primary_cleaner.input.sulfate                       19415 non-null  float64\n",
      " 11  primary_cleaner.input.depressant                    19402 non-null  float64\n",
      " 12  primary_cleaner.input.feed_size                     19439 non-null  float64\n",
      " 13  primary_cleaner.input.xanthate                      19335 non-null  float64\n",
      " 14  primary_cleaner.output.concentrate_ag               19439 non-null  float64\n",
      " 15  primary_cleaner.output.concentrate_pb               19323 non-null  float64\n",
      " 16  primary_cleaner.output.concentrate_sol              19069 non-null  float64\n",
      " 17  primary_cleaner.output.concentrate_au               19439 non-null  float64\n",
      " 18  primary_cleaner.output.tail_ag                      19435 non-null  float64\n",
      " 19  primary_cleaner.output.tail_pb                      19418 non-null  float64\n",
      " 20  primary_cleaner.output.tail_sol                     19377 non-null  float64\n",
      " 21  primary_cleaner.output.tail_au                      19439 non-null  float64\n",
      " 22  primary_cleaner.state.floatbank8_a_air              19435 non-null  float64\n",
      " 23  primary_cleaner.state.floatbank8_a_level            19438 non-null  float64\n",
      " 24  primary_cleaner.state.floatbank8_b_air              19435 non-null  float64\n",
      " 25  primary_cleaner.state.floatbank8_b_level            19438 non-null  float64\n",
      " 26  primary_cleaner.state.floatbank8_c_air              19437 non-null  float64\n",
      " 27  primary_cleaner.state.floatbank8_c_level            19438 non-null  float64\n",
      " 28  primary_cleaner.state.floatbank8_d_air              19436 non-null  float64\n",
      " 29  primary_cleaner.state.floatbank8_d_level            19438 non-null  float64\n",
      " 30  rougher.calculation.sulfate_to_au_concentrate       19437 non-null  float64\n",
      " 31  rougher.calculation.floatbank10_sulfate_to_au_feed  19437 non-null  float64\n",
      " 32  rougher.calculation.floatbank11_sulfate_to_au_feed  19437 non-null  float64\n",
      " 33  rougher.calculation.au_pb_ratio                     19439 non-null  float64\n",
      " 34  rougher.input.feed_ag                               19439 non-null  float64\n",
      " 35  rougher.input.feed_pb                               19339 non-null  float64\n",
      " 36  rougher.input.feed_rate                             19428 non-null  float64\n",
      " 37  rougher.input.feed_size                             19294 non-null  float64\n",
      " 38  rougher.input.feed_sol                              19340 non-null  float64\n",
      " 39  rougher.input.feed_au                               19439 non-null  float64\n",
      " 40  rougher.input.floatbank10_sulfate                   19405 non-null  float64\n",
      " 41  rougher.input.floatbank10_xanthate                  19431 non-null  float64\n",
      " 42  rougher.input.floatbank11_sulfate                   19395 non-null  float64\n",
      " 43  rougher.input.floatbank11_xanthate                  18986 non-null  float64\n",
      " 44  rougher.output.concentrate_ag                       19439 non-null  float64\n",
      " 45  rougher.output.concentrate_pb                       19439 non-null  float64\n",
      " 46  rougher.output.concentrate_sol                      19416 non-null  float64\n",
      " 47  rougher.output.concentrate_au                       19439 non-null  float64\n",
      " 48  rougher.output.recovery                             19439 non-null  float64\n",
      " 49  rougher.output.tail_ag                              19438 non-null  float64\n",
      " 50  rougher.output.tail_pb                              19439 non-null  float64\n",
      " 51  rougher.output.tail_sol                             19439 non-null  float64\n",
      " 52  rougher.output.tail_au                              19439 non-null  float64\n",
      " 53  rougher.state.floatbank10_a_air                     19438 non-null  float64\n",
      " 54  rougher.state.floatbank10_a_level                   19438 non-null  float64\n",
      " 55  rougher.state.floatbank10_b_air                     19438 non-null  float64\n",
      " 56  rougher.state.floatbank10_b_level                   19438 non-null  float64\n",
      " 57  rougher.state.floatbank10_c_air                     19438 non-null  float64\n",
      " 58  rougher.state.floatbank10_c_level                   19438 non-null  float64\n",
      " 59  rougher.state.floatbank10_d_air                     19439 non-null  float64\n",
      " 60  rougher.state.floatbank10_d_level                   19439 non-null  float64\n",
      " 61  rougher.state.floatbank10_e_air                     19003 non-null  float64\n",
      " 62  rougher.state.floatbank10_e_level                   19439 non-null  float64\n",
      " 63  rougher.state.floatbank10_f_air                     19439 non-null  float64\n",
      " 64  rougher.state.floatbank10_f_level                   19439 non-null  float64\n",
      " 65  secondary_cleaner.output.tail_ag                    19437 non-null  float64\n",
      " 66  secondary_cleaner.output.tail_pb                    19427 non-null  float64\n",
      " 67  secondary_cleaner.output.tail_sol                   17691 non-null  float64\n",
      " 68  secondary_cleaner.output.tail_au                    19439 non-null  float64\n",
      " 69  secondary_cleaner.state.floatbank2_a_air            19219 non-null  float64\n",
      " 70  secondary_cleaner.state.floatbank2_a_level          19438 non-null  float64\n",
      " 71  secondary_cleaner.state.floatbank2_b_air            19416 non-null  float64\n",
      " 72  secondary_cleaner.state.floatbank2_b_level          19438 non-null  float64\n",
      " 73  secondary_cleaner.state.floatbank3_a_air            19426 non-null  float64\n",
      " 74  secondary_cleaner.state.floatbank3_a_level          19438 non-null  float64\n",
      " 75  secondary_cleaner.state.floatbank3_b_air            19438 non-null  float64\n",
      " 76  secondary_cleaner.state.floatbank3_b_level          19438 non-null  float64\n",
      " 77  secondary_cleaner.state.floatbank4_a_air            19433 non-null  float64\n",
      " 78  secondary_cleaner.state.floatbank4_a_level          19438 non-null  float64\n",
      " 79  secondary_cleaner.state.floatbank4_b_air            19438 non-null  float64\n",
      " 80  secondary_cleaner.state.floatbank4_b_level          19438 non-null  float64\n",
      " 81  secondary_cleaner.state.floatbank5_a_air            19438 non-null  float64\n",
      " 82  secondary_cleaner.state.floatbank5_a_level          19438 non-null  float64\n",
      " 83  secondary_cleaner.state.floatbank5_b_air            19438 non-null  float64\n",
      " 84  secondary_cleaner.state.floatbank5_b_level          19438 non-null  float64\n",
      " 85  secondary_cleaner.state.floatbank6_a_air            19437 non-null  float64\n",
      " 86  secondary_cleaner.state.floatbank6_a_level          19438 non-null  float64\n",
      "dtypes: float64(86), object(1)\n",
      "memory usage: 12.9+ MB\n",
      "None\n"
     ]
    }
   ],
   "source": [
    "print(data_train.info())\n",
    "print(data_test.info())\n",
    "print(data_full.info())"
   ]
  },
  {
   "cell_type": "code",
   "execution_count": 4,
   "metadata": {},
   "outputs": [
    {
     "data": {
      "text/html": [
       "<div>\n",
       "<style scoped>\n",
       "    .dataframe tbody tr th:only-of-type {\n",
       "        vertical-align: middle;\n",
       "    }\n",
       "\n",
       "    .dataframe tbody tr th {\n",
       "        vertical-align: top;\n",
       "    }\n",
       "\n",
       "    .dataframe thead th {\n",
       "        text-align: right;\n",
       "    }\n",
       "</style>\n",
       "<table border=\"1\" class=\"dataframe\">\n",
       "  <thead>\n",
       "    <tr style=\"text-align: right;\">\n",
       "      <th></th>\n",
       "      <th>date</th>\n",
       "      <th>final.output.concentrate_ag</th>\n",
       "      <th>final.output.concentrate_pb</th>\n",
       "      <th>final.output.concentrate_sol</th>\n",
       "      <th>final.output.concentrate_au</th>\n",
       "      <th>final.output.recovery</th>\n",
       "      <th>final.output.tail_ag</th>\n",
       "      <th>final.output.tail_pb</th>\n",
       "      <th>final.output.tail_sol</th>\n",
       "      <th>final.output.tail_au</th>\n",
       "      <th>...</th>\n",
       "      <th>secondary_cleaner.state.floatbank4_a_air</th>\n",
       "      <th>secondary_cleaner.state.floatbank4_a_level</th>\n",
       "      <th>secondary_cleaner.state.floatbank4_b_air</th>\n",
       "      <th>secondary_cleaner.state.floatbank4_b_level</th>\n",
       "      <th>secondary_cleaner.state.floatbank5_a_air</th>\n",
       "      <th>secondary_cleaner.state.floatbank5_a_level</th>\n",
       "      <th>secondary_cleaner.state.floatbank5_b_air</th>\n",
       "      <th>secondary_cleaner.state.floatbank5_b_level</th>\n",
       "      <th>secondary_cleaner.state.floatbank6_a_air</th>\n",
       "      <th>secondary_cleaner.state.floatbank6_a_level</th>\n",
       "    </tr>\n",
       "  </thead>\n",
       "  <tbody>\n",
       "    <tr>\n",
       "      <th>0</th>\n",
       "      <td>2016-01-15 00:00:00</td>\n",
       "      <td>6.055403</td>\n",
       "      <td>9.889648</td>\n",
       "      <td>5.507324</td>\n",
       "      <td>42.192020</td>\n",
       "      <td>70.541216</td>\n",
       "      <td>10.411962</td>\n",
       "      <td>0.895447</td>\n",
       "      <td>16.904297</td>\n",
       "      <td>2.143149</td>\n",
       "      <td>...</td>\n",
       "      <td>14.016835</td>\n",
       "      <td>-502.488007</td>\n",
       "      <td>12.099931</td>\n",
       "      <td>-504.715942</td>\n",
       "      <td>9.925633</td>\n",
       "      <td>-498.310211</td>\n",
       "      <td>8.079666</td>\n",
       "      <td>-500.470978</td>\n",
       "      <td>14.151341</td>\n",
       "      <td>-605.841980</td>\n",
       "    </tr>\n",
       "    <tr>\n",
       "      <th>1</th>\n",
       "      <td>2016-01-15 01:00:00</td>\n",
       "      <td>6.029369</td>\n",
       "      <td>9.968944</td>\n",
       "      <td>5.257781</td>\n",
       "      <td>42.701629</td>\n",
       "      <td>69.266198</td>\n",
       "      <td>10.462676</td>\n",
       "      <td>0.927452</td>\n",
       "      <td>16.634514</td>\n",
       "      <td>2.224930</td>\n",
       "      <td>...</td>\n",
       "      <td>13.992281</td>\n",
       "      <td>-505.503262</td>\n",
       "      <td>11.950531</td>\n",
       "      <td>-501.331529</td>\n",
       "      <td>10.039245</td>\n",
       "      <td>-500.169983</td>\n",
       "      <td>7.984757</td>\n",
       "      <td>-500.582168</td>\n",
       "      <td>13.998353</td>\n",
       "      <td>-599.787184</td>\n",
       "    </tr>\n",
       "    <tr>\n",
       "      <th>2</th>\n",
       "      <td>2016-01-15 02:00:00</td>\n",
       "      <td>6.055926</td>\n",
       "      <td>10.213995</td>\n",
       "      <td>5.383759</td>\n",
       "      <td>42.657501</td>\n",
       "      <td>68.116445</td>\n",
       "      <td>10.507046</td>\n",
       "      <td>0.953716</td>\n",
       "      <td>16.208849</td>\n",
       "      <td>2.257889</td>\n",
       "      <td>...</td>\n",
       "      <td>14.015015</td>\n",
       "      <td>-502.520901</td>\n",
       "      <td>11.912783</td>\n",
       "      <td>-501.133383</td>\n",
       "      <td>10.070913</td>\n",
       "      <td>-500.129135</td>\n",
       "      <td>8.013877</td>\n",
       "      <td>-500.517572</td>\n",
       "      <td>14.028663</td>\n",
       "      <td>-601.427363</td>\n",
       "    </tr>\n",
       "    <tr>\n",
       "      <th>3</th>\n",
       "      <td>2016-01-15 03:00:00</td>\n",
       "      <td>6.047977</td>\n",
       "      <td>9.977019</td>\n",
       "      <td>4.858634</td>\n",
       "      <td>42.689819</td>\n",
       "      <td>68.347543</td>\n",
       "      <td>10.422762</td>\n",
       "      <td>0.883763</td>\n",
       "      <td>16.532835</td>\n",
       "      <td>2.146849</td>\n",
       "      <td>...</td>\n",
       "      <td>14.036510</td>\n",
       "      <td>-500.857308</td>\n",
       "      <td>11.999550</td>\n",
       "      <td>-501.193686</td>\n",
       "      <td>9.970366</td>\n",
       "      <td>-499.201640</td>\n",
       "      <td>7.977324</td>\n",
       "      <td>-500.255908</td>\n",
       "      <td>14.005551</td>\n",
       "      <td>-599.996129</td>\n",
       "    </tr>\n",
       "    <tr>\n",
       "      <th>4</th>\n",
       "      <td>2016-01-15 04:00:00</td>\n",
       "      <td>6.148599</td>\n",
       "      <td>10.142511</td>\n",
       "      <td>4.939416</td>\n",
       "      <td>42.774141</td>\n",
       "      <td>66.927016</td>\n",
       "      <td>10.360302</td>\n",
       "      <td>0.792826</td>\n",
       "      <td>16.525686</td>\n",
       "      <td>2.055292</td>\n",
       "      <td>...</td>\n",
       "      <td>14.027298</td>\n",
       "      <td>-499.838632</td>\n",
       "      <td>11.953070</td>\n",
       "      <td>-501.053894</td>\n",
       "      <td>9.925709</td>\n",
       "      <td>-501.686727</td>\n",
       "      <td>7.894242</td>\n",
       "      <td>-500.356035</td>\n",
       "      <td>13.996647</td>\n",
       "      <td>-601.496691</td>\n",
       "    </tr>\n",
       "  </tbody>\n",
       "</table>\n",
       "<p>5 rows × 87 columns</p>\n",
       "</div>"
      ],
      "text/plain": [
       "                  date  final.output.concentrate_ag  \\\n",
       "0  2016-01-15 00:00:00                     6.055403   \n",
       "1  2016-01-15 01:00:00                     6.029369   \n",
       "2  2016-01-15 02:00:00                     6.055926   \n",
       "3  2016-01-15 03:00:00                     6.047977   \n",
       "4  2016-01-15 04:00:00                     6.148599   \n",
       "\n",
       "   final.output.concentrate_pb  final.output.concentrate_sol  \\\n",
       "0                     9.889648                      5.507324   \n",
       "1                     9.968944                      5.257781   \n",
       "2                    10.213995                      5.383759   \n",
       "3                     9.977019                      4.858634   \n",
       "4                    10.142511                      4.939416   \n",
       "\n",
       "   final.output.concentrate_au  final.output.recovery  final.output.tail_ag  \\\n",
       "0                    42.192020              70.541216             10.411962   \n",
       "1                    42.701629              69.266198             10.462676   \n",
       "2                    42.657501              68.116445             10.507046   \n",
       "3                    42.689819              68.347543             10.422762   \n",
       "4                    42.774141              66.927016             10.360302   \n",
       "\n",
       "   final.output.tail_pb  final.output.tail_sol  final.output.tail_au  ...  \\\n",
       "0              0.895447              16.904297              2.143149  ...   \n",
       "1              0.927452              16.634514              2.224930  ...   \n",
       "2              0.953716              16.208849              2.257889  ...   \n",
       "3              0.883763              16.532835              2.146849  ...   \n",
       "4              0.792826              16.525686              2.055292  ...   \n",
       "\n",
       "   secondary_cleaner.state.floatbank4_a_air  \\\n",
       "0                                 14.016835   \n",
       "1                                 13.992281   \n",
       "2                                 14.015015   \n",
       "3                                 14.036510   \n",
       "4                                 14.027298   \n",
       "\n",
       "   secondary_cleaner.state.floatbank4_a_level  \\\n",
       "0                                 -502.488007   \n",
       "1                                 -505.503262   \n",
       "2                                 -502.520901   \n",
       "3                                 -500.857308   \n",
       "4                                 -499.838632   \n",
       "\n",
       "   secondary_cleaner.state.floatbank4_b_air  \\\n",
       "0                                 12.099931   \n",
       "1                                 11.950531   \n",
       "2                                 11.912783   \n",
       "3                                 11.999550   \n",
       "4                                 11.953070   \n",
       "\n",
       "   secondary_cleaner.state.floatbank4_b_level  \\\n",
       "0                                 -504.715942   \n",
       "1                                 -501.331529   \n",
       "2                                 -501.133383   \n",
       "3                                 -501.193686   \n",
       "4                                 -501.053894   \n",
       "\n",
       "   secondary_cleaner.state.floatbank5_a_air  \\\n",
       "0                                  9.925633   \n",
       "1                                 10.039245   \n",
       "2                                 10.070913   \n",
       "3                                  9.970366   \n",
       "4                                  9.925709   \n",
       "\n",
       "   secondary_cleaner.state.floatbank5_a_level  \\\n",
       "0                                 -498.310211   \n",
       "1                                 -500.169983   \n",
       "2                                 -500.129135   \n",
       "3                                 -499.201640   \n",
       "4                                 -501.686727   \n",
       "\n",
       "   secondary_cleaner.state.floatbank5_b_air  \\\n",
       "0                                  8.079666   \n",
       "1                                  7.984757   \n",
       "2                                  8.013877   \n",
       "3                                  7.977324   \n",
       "4                                  7.894242   \n",
       "\n",
       "   secondary_cleaner.state.floatbank5_b_level  \\\n",
       "0                                 -500.470978   \n",
       "1                                 -500.582168   \n",
       "2                                 -500.517572   \n",
       "3                                 -500.255908   \n",
       "4                                 -500.356035   \n",
       "\n",
       "   secondary_cleaner.state.floatbank6_a_air  \\\n",
       "0                                 14.151341   \n",
       "1                                 13.998353   \n",
       "2                                 14.028663   \n",
       "3                                 14.005551   \n",
       "4                                 13.996647   \n",
       "\n",
       "   secondary_cleaner.state.floatbank6_a_level  \n",
       "0                                 -605.841980  \n",
       "1                                 -599.787184  \n",
       "2                                 -601.427363  \n",
       "3                                 -599.996129  \n",
       "4                                 -601.496691  \n",
       "\n",
       "[5 rows x 87 columns]"
      ]
     },
     "metadata": {},
     "output_type": "display_data"
    },
    {
     "data": {
      "text/html": [
       "<div>\n",
       "<style scoped>\n",
       "    .dataframe tbody tr th:only-of-type {\n",
       "        vertical-align: middle;\n",
       "    }\n",
       "\n",
       "    .dataframe tbody tr th {\n",
       "        vertical-align: top;\n",
       "    }\n",
       "\n",
       "    .dataframe thead th {\n",
       "        text-align: right;\n",
       "    }\n",
       "</style>\n",
       "<table border=\"1\" class=\"dataframe\">\n",
       "  <thead>\n",
       "    <tr style=\"text-align: right;\">\n",
       "      <th></th>\n",
       "      <th>date</th>\n",
       "      <th>primary_cleaner.input.sulfate</th>\n",
       "      <th>primary_cleaner.input.depressant</th>\n",
       "      <th>primary_cleaner.input.feed_size</th>\n",
       "      <th>primary_cleaner.input.xanthate</th>\n",
       "      <th>primary_cleaner.state.floatbank8_a_air</th>\n",
       "      <th>primary_cleaner.state.floatbank8_a_level</th>\n",
       "      <th>primary_cleaner.state.floatbank8_b_air</th>\n",
       "      <th>primary_cleaner.state.floatbank8_b_level</th>\n",
       "      <th>primary_cleaner.state.floatbank8_c_air</th>\n",
       "      <th>...</th>\n",
       "      <th>secondary_cleaner.state.floatbank4_a_air</th>\n",
       "      <th>secondary_cleaner.state.floatbank4_a_level</th>\n",
       "      <th>secondary_cleaner.state.floatbank4_b_air</th>\n",
       "      <th>secondary_cleaner.state.floatbank4_b_level</th>\n",
       "      <th>secondary_cleaner.state.floatbank5_a_air</th>\n",
       "      <th>secondary_cleaner.state.floatbank5_a_level</th>\n",
       "      <th>secondary_cleaner.state.floatbank5_b_air</th>\n",
       "      <th>secondary_cleaner.state.floatbank5_b_level</th>\n",
       "      <th>secondary_cleaner.state.floatbank6_a_air</th>\n",
       "      <th>secondary_cleaner.state.floatbank6_a_level</th>\n",
       "    </tr>\n",
       "  </thead>\n",
       "  <tbody>\n",
       "    <tr>\n",
       "      <th>0</th>\n",
       "      <td>2016-09-01 00:59:59</td>\n",
       "      <td>210.800909</td>\n",
       "      <td>14.993118</td>\n",
       "      <td>8.080000</td>\n",
       "      <td>1.005021</td>\n",
       "      <td>1398.981301</td>\n",
       "      <td>-500.225577</td>\n",
       "      <td>1399.144926</td>\n",
       "      <td>-499.919735</td>\n",
       "      <td>1400.102998</td>\n",
       "      <td>...</td>\n",
       "      <td>12.023554</td>\n",
       "      <td>-497.795834</td>\n",
       "      <td>8.016656</td>\n",
       "      <td>-501.289139</td>\n",
       "      <td>7.946562</td>\n",
       "      <td>-432.317850</td>\n",
       "      <td>4.872511</td>\n",
       "      <td>-500.037437</td>\n",
       "      <td>26.705889</td>\n",
       "      <td>-499.709414</td>\n",
       "    </tr>\n",
       "    <tr>\n",
       "      <th>1</th>\n",
       "      <td>2016-09-01 01:59:59</td>\n",
       "      <td>215.392455</td>\n",
       "      <td>14.987471</td>\n",
       "      <td>8.080000</td>\n",
       "      <td>0.990469</td>\n",
       "      <td>1398.777912</td>\n",
       "      <td>-500.057435</td>\n",
       "      <td>1398.055362</td>\n",
       "      <td>-499.778182</td>\n",
       "      <td>1396.151033</td>\n",
       "      <td>...</td>\n",
       "      <td>12.058140</td>\n",
       "      <td>-498.695773</td>\n",
       "      <td>8.130979</td>\n",
       "      <td>-499.634209</td>\n",
       "      <td>7.958270</td>\n",
       "      <td>-525.839648</td>\n",
       "      <td>4.878850</td>\n",
       "      <td>-500.162375</td>\n",
       "      <td>25.019940</td>\n",
       "      <td>-499.819438</td>\n",
       "    </tr>\n",
       "    <tr>\n",
       "      <th>2</th>\n",
       "      <td>2016-09-01 02:59:59</td>\n",
       "      <td>215.259946</td>\n",
       "      <td>12.884934</td>\n",
       "      <td>7.786667</td>\n",
       "      <td>0.996043</td>\n",
       "      <td>1398.493666</td>\n",
       "      <td>-500.868360</td>\n",
       "      <td>1398.860436</td>\n",
       "      <td>-499.764529</td>\n",
       "      <td>1398.075709</td>\n",
       "      <td>...</td>\n",
       "      <td>11.962366</td>\n",
       "      <td>-498.767484</td>\n",
       "      <td>8.096893</td>\n",
       "      <td>-500.827423</td>\n",
       "      <td>8.071056</td>\n",
       "      <td>-500.801673</td>\n",
       "      <td>4.905125</td>\n",
       "      <td>-499.828510</td>\n",
       "      <td>24.994862</td>\n",
       "      <td>-500.622559</td>\n",
       "    </tr>\n",
       "    <tr>\n",
       "      <th>3</th>\n",
       "      <td>2016-09-01 03:59:59</td>\n",
       "      <td>215.336236</td>\n",
       "      <td>12.006805</td>\n",
       "      <td>7.640000</td>\n",
       "      <td>0.863514</td>\n",
       "      <td>1399.618111</td>\n",
       "      <td>-498.863574</td>\n",
       "      <td>1397.440120</td>\n",
       "      <td>-499.211024</td>\n",
       "      <td>1400.129303</td>\n",
       "      <td>...</td>\n",
       "      <td>12.033091</td>\n",
       "      <td>-498.350935</td>\n",
       "      <td>8.074946</td>\n",
       "      <td>-499.474407</td>\n",
       "      <td>7.897085</td>\n",
       "      <td>-500.868509</td>\n",
       "      <td>4.931400</td>\n",
       "      <td>-499.963623</td>\n",
       "      <td>24.948919</td>\n",
       "      <td>-498.709987</td>\n",
       "    </tr>\n",
       "    <tr>\n",
       "      <th>4</th>\n",
       "      <td>2016-09-01 04:59:59</td>\n",
       "      <td>199.099327</td>\n",
       "      <td>10.682530</td>\n",
       "      <td>7.530000</td>\n",
       "      <td>0.805575</td>\n",
       "      <td>1401.268123</td>\n",
       "      <td>-500.808305</td>\n",
       "      <td>1398.128818</td>\n",
       "      <td>-499.504543</td>\n",
       "      <td>1402.172226</td>\n",
       "      <td>...</td>\n",
       "      <td>12.025367</td>\n",
       "      <td>-500.786497</td>\n",
       "      <td>8.054678</td>\n",
       "      <td>-500.397500</td>\n",
       "      <td>8.107890</td>\n",
       "      <td>-509.526725</td>\n",
       "      <td>4.957674</td>\n",
       "      <td>-500.360026</td>\n",
       "      <td>25.003331</td>\n",
       "      <td>-500.856333</td>\n",
       "    </tr>\n",
       "  </tbody>\n",
       "</table>\n",
       "<p>5 rows × 53 columns</p>\n",
       "</div>"
      ],
      "text/plain": [
       "                  date  primary_cleaner.input.sulfate  \\\n",
       "0  2016-09-01 00:59:59                     210.800909   \n",
       "1  2016-09-01 01:59:59                     215.392455   \n",
       "2  2016-09-01 02:59:59                     215.259946   \n",
       "3  2016-09-01 03:59:59                     215.336236   \n",
       "4  2016-09-01 04:59:59                     199.099327   \n",
       "\n",
       "   primary_cleaner.input.depressant  primary_cleaner.input.feed_size  \\\n",
       "0                         14.993118                         8.080000   \n",
       "1                         14.987471                         8.080000   \n",
       "2                         12.884934                         7.786667   \n",
       "3                         12.006805                         7.640000   \n",
       "4                         10.682530                         7.530000   \n",
       "\n",
       "   primary_cleaner.input.xanthate  primary_cleaner.state.floatbank8_a_air  \\\n",
       "0                        1.005021                             1398.981301   \n",
       "1                        0.990469                             1398.777912   \n",
       "2                        0.996043                             1398.493666   \n",
       "3                        0.863514                             1399.618111   \n",
       "4                        0.805575                             1401.268123   \n",
       "\n",
       "   primary_cleaner.state.floatbank8_a_level  \\\n",
       "0                               -500.225577   \n",
       "1                               -500.057435   \n",
       "2                               -500.868360   \n",
       "3                               -498.863574   \n",
       "4                               -500.808305   \n",
       "\n",
       "   primary_cleaner.state.floatbank8_b_air  \\\n",
       "0                             1399.144926   \n",
       "1                             1398.055362   \n",
       "2                             1398.860436   \n",
       "3                             1397.440120   \n",
       "4                             1398.128818   \n",
       "\n",
       "   primary_cleaner.state.floatbank8_b_level  \\\n",
       "0                               -499.919735   \n",
       "1                               -499.778182   \n",
       "2                               -499.764529   \n",
       "3                               -499.211024   \n",
       "4                               -499.504543   \n",
       "\n",
       "   primary_cleaner.state.floatbank8_c_air  ...  \\\n",
       "0                             1400.102998  ...   \n",
       "1                             1396.151033  ...   \n",
       "2                             1398.075709  ...   \n",
       "3                             1400.129303  ...   \n",
       "4                             1402.172226  ...   \n",
       "\n",
       "   secondary_cleaner.state.floatbank4_a_air  \\\n",
       "0                                 12.023554   \n",
       "1                                 12.058140   \n",
       "2                                 11.962366   \n",
       "3                                 12.033091   \n",
       "4                                 12.025367   \n",
       "\n",
       "   secondary_cleaner.state.floatbank4_a_level  \\\n",
       "0                                 -497.795834   \n",
       "1                                 -498.695773   \n",
       "2                                 -498.767484   \n",
       "3                                 -498.350935   \n",
       "4                                 -500.786497   \n",
       "\n",
       "   secondary_cleaner.state.floatbank4_b_air  \\\n",
       "0                                  8.016656   \n",
       "1                                  8.130979   \n",
       "2                                  8.096893   \n",
       "3                                  8.074946   \n",
       "4                                  8.054678   \n",
       "\n",
       "   secondary_cleaner.state.floatbank4_b_level  \\\n",
       "0                                 -501.289139   \n",
       "1                                 -499.634209   \n",
       "2                                 -500.827423   \n",
       "3                                 -499.474407   \n",
       "4                                 -500.397500   \n",
       "\n",
       "   secondary_cleaner.state.floatbank5_a_air  \\\n",
       "0                                  7.946562   \n",
       "1                                  7.958270   \n",
       "2                                  8.071056   \n",
       "3                                  7.897085   \n",
       "4                                  8.107890   \n",
       "\n",
       "   secondary_cleaner.state.floatbank5_a_level  \\\n",
       "0                                 -432.317850   \n",
       "1                                 -525.839648   \n",
       "2                                 -500.801673   \n",
       "3                                 -500.868509   \n",
       "4                                 -509.526725   \n",
       "\n",
       "   secondary_cleaner.state.floatbank5_b_air  \\\n",
       "0                                  4.872511   \n",
       "1                                  4.878850   \n",
       "2                                  4.905125   \n",
       "3                                  4.931400   \n",
       "4                                  4.957674   \n",
       "\n",
       "   secondary_cleaner.state.floatbank5_b_level  \\\n",
       "0                                 -500.037437   \n",
       "1                                 -500.162375   \n",
       "2                                 -499.828510   \n",
       "3                                 -499.963623   \n",
       "4                                 -500.360026   \n",
       "\n",
       "   secondary_cleaner.state.floatbank6_a_air  \\\n",
       "0                                 26.705889   \n",
       "1                                 25.019940   \n",
       "2                                 24.994862   \n",
       "3                                 24.948919   \n",
       "4                                 25.003331   \n",
       "\n",
       "   secondary_cleaner.state.floatbank6_a_level  \n",
       "0                                 -499.709414  \n",
       "1                                 -499.819438  \n",
       "2                                 -500.622559  \n",
       "3                                 -498.709987  \n",
       "4                                 -500.856333  \n",
       "\n",
       "[5 rows x 53 columns]"
      ]
     },
     "metadata": {},
     "output_type": "display_data"
    },
    {
     "data": {
      "text/html": [
       "<div>\n",
       "<style scoped>\n",
       "    .dataframe tbody tr th:only-of-type {\n",
       "        vertical-align: middle;\n",
       "    }\n",
       "\n",
       "    .dataframe tbody tr th {\n",
       "        vertical-align: top;\n",
       "    }\n",
       "\n",
       "    .dataframe thead th {\n",
       "        text-align: right;\n",
       "    }\n",
       "</style>\n",
       "<table border=\"1\" class=\"dataframe\">\n",
       "  <thead>\n",
       "    <tr style=\"text-align: right;\">\n",
       "      <th></th>\n",
       "      <th>date</th>\n",
       "      <th>final.output.concentrate_ag</th>\n",
       "      <th>final.output.concentrate_pb</th>\n",
       "      <th>final.output.concentrate_sol</th>\n",
       "      <th>final.output.concentrate_au</th>\n",
       "      <th>final.output.recovery</th>\n",
       "      <th>final.output.tail_ag</th>\n",
       "      <th>final.output.tail_pb</th>\n",
       "      <th>final.output.tail_sol</th>\n",
       "      <th>final.output.tail_au</th>\n",
       "      <th>...</th>\n",
       "      <th>secondary_cleaner.state.floatbank4_a_air</th>\n",
       "      <th>secondary_cleaner.state.floatbank4_a_level</th>\n",
       "      <th>secondary_cleaner.state.floatbank4_b_air</th>\n",
       "      <th>secondary_cleaner.state.floatbank4_b_level</th>\n",
       "      <th>secondary_cleaner.state.floatbank5_a_air</th>\n",
       "      <th>secondary_cleaner.state.floatbank5_a_level</th>\n",
       "      <th>secondary_cleaner.state.floatbank5_b_air</th>\n",
       "      <th>secondary_cleaner.state.floatbank5_b_level</th>\n",
       "      <th>secondary_cleaner.state.floatbank6_a_air</th>\n",
       "      <th>secondary_cleaner.state.floatbank6_a_level</th>\n",
       "    </tr>\n",
       "  </thead>\n",
       "  <tbody>\n",
       "    <tr>\n",
       "      <th>0</th>\n",
       "      <td>2016-01-15 00:00:00</td>\n",
       "      <td>6.055403</td>\n",
       "      <td>9.889648</td>\n",
       "      <td>5.507324</td>\n",
       "      <td>42.192020</td>\n",
       "      <td>70.541216</td>\n",
       "      <td>10.411962</td>\n",
       "      <td>0.895447</td>\n",
       "      <td>16.904297</td>\n",
       "      <td>2.143149</td>\n",
       "      <td>...</td>\n",
       "      <td>14.016835</td>\n",
       "      <td>-502.488007</td>\n",
       "      <td>12.099931</td>\n",
       "      <td>-504.715942</td>\n",
       "      <td>9.925633</td>\n",
       "      <td>-498.310211</td>\n",
       "      <td>8.079666</td>\n",
       "      <td>-500.470978</td>\n",
       "      <td>14.151341</td>\n",
       "      <td>-605.841980</td>\n",
       "    </tr>\n",
       "    <tr>\n",
       "      <th>1</th>\n",
       "      <td>2016-01-15 01:00:00</td>\n",
       "      <td>6.029369</td>\n",
       "      <td>9.968944</td>\n",
       "      <td>5.257781</td>\n",
       "      <td>42.701629</td>\n",
       "      <td>69.266198</td>\n",
       "      <td>10.462676</td>\n",
       "      <td>0.927452</td>\n",
       "      <td>16.634514</td>\n",
       "      <td>2.224930</td>\n",
       "      <td>...</td>\n",
       "      <td>13.992281</td>\n",
       "      <td>-505.503262</td>\n",
       "      <td>11.950531</td>\n",
       "      <td>-501.331529</td>\n",
       "      <td>10.039245</td>\n",
       "      <td>-500.169983</td>\n",
       "      <td>7.984757</td>\n",
       "      <td>-500.582168</td>\n",
       "      <td>13.998353</td>\n",
       "      <td>-599.787184</td>\n",
       "    </tr>\n",
       "    <tr>\n",
       "      <th>2</th>\n",
       "      <td>2016-01-15 02:00:00</td>\n",
       "      <td>6.055926</td>\n",
       "      <td>10.213995</td>\n",
       "      <td>5.383759</td>\n",
       "      <td>42.657501</td>\n",
       "      <td>68.116445</td>\n",
       "      <td>10.507046</td>\n",
       "      <td>0.953716</td>\n",
       "      <td>16.208849</td>\n",
       "      <td>2.257889</td>\n",
       "      <td>...</td>\n",
       "      <td>14.015015</td>\n",
       "      <td>-502.520901</td>\n",
       "      <td>11.912783</td>\n",
       "      <td>-501.133383</td>\n",
       "      <td>10.070913</td>\n",
       "      <td>-500.129135</td>\n",
       "      <td>8.013877</td>\n",
       "      <td>-500.517572</td>\n",
       "      <td>14.028663</td>\n",
       "      <td>-601.427363</td>\n",
       "    </tr>\n",
       "    <tr>\n",
       "      <th>3</th>\n",
       "      <td>2016-01-15 03:00:00</td>\n",
       "      <td>6.047977</td>\n",
       "      <td>9.977019</td>\n",
       "      <td>4.858634</td>\n",
       "      <td>42.689819</td>\n",
       "      <td>68.347543</td>\n",
       "      <td>10.422762</td>\n",
       "      <td>0.883763</td>\n",
       "      <td>16.532835</td>\n",
       "      <td>2.146849</td>\n",
       "      <td>...</td>\n",
       "      <td>14.036510</td>\n",
       "      <td>-500.857308</td>\n",
       "      <td>11.999550</td>\n",
       "      <td>-501.193686</td>\n",
       "      <td>9.970366</td>\n",
       "      <td>-499.201640</td>\n",
       "      <td>7.977324</td>\n",
       "      <td>-500.255908</td>\n",
       "      <td>14.005551</td>\n",
       "      <td>-599.996129</td>\n",
       "    </tr>\n",
       "    <tr>\n",
       "      <th>4</th>\n",
       "      <td>2016-01-15 04:00:00</td>\n",
       "      <td>6.148599</td>\n",
       "      <td>10.142511</td>\n",
       "      <td>4.939416</td>\n",
       "      <td>42.774141</td>\n",
       "      <td>66.927016</td>\n",
       "      <td>10.360302</td>\n",
       "      <td>0.792826</td>\n",
       "      <td>16.525686</td>\n",
       "      <td>2.055292</td>\n",
       "      <td>...</td>\n",
       "      <td>14.027298</td>\n",
       "      <td>-499.838632</td>\n",
       "      <td>11.953070</td>\n",
       "      <td>-501.053894</td>\n",
       "      <td>9.925709</td>\n",
       "      <td>-501.686727</td>\n",
       "      <td>7.894242</td>\n",
       "      <td>-500.356035</td>\n",
       "      <td>13.996647</td>\n",
       "      <td>-601.496691</td>\n",
       "    </tr>\n",
       "  </tbody>\n",
       "</table>\n",
       "<p>5 rows × 87 columns</p>\n",
       "</div>"
      ],
      "text/plain": [
       "                  date  final.output.concentrate_ag  \\\n",
       "0  2016-01-15 00:00:00                     6.055403   \n",
       "1  2016-01-15 01:00:00                     6.029369   \n",
       "2  2016-01-15 02:00:00                     6.055926   \n",
       "3  2016-01-15 03:00:00                     6.047977   \n",
       "4  2016-01-15 04:00:00                     6.148599   \n",
       "\n",
       "   final.output.concentrate_pb  final.output.concentrate_sol  \\\n",
       "0                     9.889648                      5.507324   \n",
       "1                     9.968944                      5.257781   \n",
       "2                    10.213995                      5.383759   \n",
       "3                     9.977019                      4.858634   \n",
       "4                    10.142511                      4.939416   \n",
       "\n",
       "   final.output.concentrate_au  final.output.recovery  final.output.tail_ag  \\\n",
       "0                    42.192020              70.541216             10.411962   \n",
       "1                    42.701629              69.266198             10.462676   \n",
       "2                    42.657501              68.116445             10.507046   \n",
       "3                    42.689819              68.347543             10.422762   \n",
       "4                    42.774141              66.927016             10.360302   \n",
       "\n",
       "   final.output.tail_pb  final.output.tail_sol  final.output.tail_au  ...  \\\n",
       "0              0.895447              16.904297              2.143149  ...   \n",
       "1              0.927452              16.634514              2.224930  ...   \n",
       "2              0.953716              16.208849              2.257889  ...   \n",
       "3              0.883763              16.532835              2.146849  ...   \n",
       "4              0.792826              16.525686              2.055292  ...   \n",
       "\n",
       "   secondary_cleaner.state.floatbank4_a_air  \\\n",
       "0                                 14.016835   \n",
       "1                                 13.992281   \n",
       "2                                 14.015015   \n",
       "3                                 14.036510   \n",
       "4                                 14.027298   \n",
       "\n",
       "   secondary_cleaner.state.floatbank4_a_level  \\\n",
       "0                                 -502.488007   \n",
       "1                                 -505.503262   \n",
       "2                                 -502.520901   \n",
       "3                                 -500.857308   \n",
       "4                                 -499.838632   \n",
       "\n",
       "   secondary_cleaner.state.floatbank4_b_air  \\\n",
       "0                                 12.099931   \n",
       "1                                 11.950531   \n",
       "2                                 11.912783   \n",
       "3                                 11.999550   \n",
       "4                                 11.953070   \n",
       "\n",
       "   secondary_cleaner.state.floatbank4_b_level  \\\n",
       "0                                 -504.715942   \n",
       "1                                 -501.331529   \n",
       "2                                 -501.133383   \n",
       "3                                 -501.193686   \n",
       "4                                 -501.053894   \n",
       "\n",
       "   secondary_cleaner.state.floatbank5_a_air  \\\n",
       "0                                  9.925633   \n",
       "1                                 10.039245   \n",
       "2                                 10.070913   \n",
       "3                                  9.970366   \n",
       "4                                  9.925709   \n",
       "\n",
       "   secondary_cleaner.state.floatbank5_a_level  \\\n",
       "0                                 -498.310211   \n",
       "1                                 -500.169983   \n",
       "2                                 -500.129135   \n",
       "3                                 -499.201640   \n",
       "4                                 -501.686727   \n",
       "\n",
       "   secondary_cleaner.state.floatbank5_b_air  \\\n",
       "0                                  8.079666   \n",
       "1                                  7.984757   \n",
       "2                                  8.013877   \n",
       "3                                  7.977324   \n",
       "4                                  7.894242   \n",
       "\n",
       "   secondary_cleaner.state.floatbank5_b_level  \\\n",
       "0                                 -500.470978   \n",
       "1                                 -500.582168   \n",
       "2                                 -500.517572   \n",
       "3                                 -500.255908   \n",
       "4                                 -500.356035   \n",
       "\n",
       "   secondary_cleaner.state.floatbank6_a_air  \\\n",
       "0                                 14.151341   \n",
       "1                                 13.998353   \n",
       "2                                 14.028663   \n",
       "3                                 14.005551   \n",
       "4                                 13.996647   \n",
       "\n",
       "   secondary_cleaner.state.floatbank6_a_level  \n",
       "0                                 -605.841980  \n",
       "1                                 -599.787184  \n",
       "2                                 -601.427363  \n",
       "3                                 -599.996129  \n",
       "4                                 -601.496691  \n",
       "\n",
       "[5 rows x 87 columns]"
      ]
     },
     "metadata": {},
     "output_type": "display_data"
    }
   ],
   "source": [
    "display(data_train.head())\n",
    "display(data_test.head())\n",
    "display(data_full.head())"
   ]
  },
  {
   "cell_type": "markdown",
   "metadata": {},
   "source": [
    "### Проверка на правильность вычислений"
   ]
  },
  {
   "cell_type": "code",
   "execution_count": 5,
   "metadata": {},
   "outputs": [
    {
     "name": "stdout",
     "output_type": "stream",
     "text": [
      "['rougher.calculation.sulfate_to_au_concentrate', 'rougher.calculation.floatbank10_sulfate_to_au_feed', 'rougher.calculation.floatbank11_sulfate_to_au_feed', 'rougher.calculation.au_pb_ratio', 'rougher.input.feed_ag', 'rougher.input.feed_pb', 'rougher.input.feed_rate', 'rougher.input.feed_size', 'rougher.input.feed_sol', 'rougher.input.feed_au', 'rougher.input.floatbank10_sulfate', 'rougher.input.floatbank10_xanthate', 'rougher.input.floatbank11_sulfate', 'rougher.input.floatbank11_xanthate', 'rougher.output.concentrate_ag', 'rougher.output.concentrate_pb', 'rougher.output.concentrate_sol', 'rougher.output.concentrate_au', 'rougher.output.recovery', 'rougher.output.tail_ag', 'rougher.output.tail_pb', 'rougher.output.tail_sol', 'rougher.output.tail_au', 'rougher.state.floatbank10_a_air', 'rougher.state.floatbank10_a_level', 'rougher.state.floatbank10_b_air', 'rougher.state.floatbank10_b_level', 'rougher.state.floatbank10_c_air', 'rougher.state.floatbank10_c_level', 'rougher.state.floatbank10_d_air', 'rougher.state.floatbank10_d_level', 'rougher.state.floatbank10_e_air', 'rougher.state.floatbank10_e_level', 'rougher.state.floatbank10_f_air', 'rougher.state.floatbank10_f_level']\n"
     ]
    }
   ],
   "source": [
    "#Выделим все поля, которые начинаются на rough\n",
    "names_rougher = []\n",
    "pattern = r\"rougher.*\"\n",
    "for name in data_train.columns:\n",
    "    match_obj = re.findall(pattern, name)\n",
    "    if len(match_obj) > 0:\n",
    "        names_rougher.append(match_obj)\n",
    "names_rougher = [a for b in names_rougher for a in b]\n",
    "print(names_rougher)"
   ]
  },
  {
   "cell_type": "code",
   "execution_count": 6,
   "metadata": {},
   "outputs": [],
   "source": [
    "#создадим функцию для расчета recovery\n",
    "def calculate_recovery(row):\n",
    "    value = (row['rougher.output.concentrate_au'] * (row['rougher.input.feed_au'] - row['rougher.output.tail_au'])) / (row['rougher.input.feed_au'] * (row['rougher.output.concentrate_au'] - row['rougher.output.tail_au'])) * 100\n",
    "    return value  "
   ]
  },
  {
   "cell_type": "code",
   "execution_count": 7,
   "metadata": {},
   "outputs": [],
   "source": [
    "#Запишем в отдельный столбец рассчитанную эффективность\n",
    "data_train['rougher.calculated.recovery'] = data_train.apply(calculate_recovery, axis=1)"
   ]
  },
  {
   "cell_type": "code",
   "execution_count": 8,
   "metadata": {},
   "outputs": [
    {
     "name": "stdout",
     "output_type": "stream",
     "text": [
      "MAE между расчетами и значением признака rougher.output.recovery=9.73512347450521e-15 %\n"
     ]
    }
   ],
   "source": [
    "rough_mae = mean_absolute_error(data_train['rougher.output.recovery'] ,data_train['rougher.calculated.recovery'])\n",
    "print(f\"MAE между расчетами и значением признака rougher.output.recovery={rough_mae} %\")"
   ]
  },
  {
   "cell_type": "code",
   "execution_count": 9,
   "metadata": {},
   "outputs": [
    {
     "data": {
      "text/html": [
       "<div>\n",
       "<style scoped>\n",
       "    .dataframe tbody tr th:only-of-type {\n",
       "        vertical-align: middle;\n",
       "    }\n",
       "\n",
       "    .dataframe tbody tr th {\n",
       "        vertical-align: top;\n",
       "    }\n",
       "\n",
       "    .dataframe thead th {\n",
       "        text-align: right;\n",
       "    }\n",
       "</style>\n",
       "<table border=\"1\" class=\"dataframe\">\n",
       "  <thead>\n",
       "    <tr style=\"text-align: right;\">\n",
       "      <th></th>\n",
       "      <th>date</th>\n",
       "      <th>final.output.concentrate_ag</th>\n",
       "      <th>final.output.concentrate_pb</th>\n",
       "      <th>final.output.concentrate_sol</th>\n",
       "      <th>final.output.concentrate_au</th>\n",
       "      <th>final.output.recovery</th>\n",
       "      <th>final.output.tail_ag</th>\n",
       "      <th>final.output.tail_pb</th>\n",
       "      <th>final.output.tail_sol</th>\n",
       "      <th>final.output.tail_au</th>\n",
       "      <th>...</th>\n",
       "      <th>secondary_cleaner.state.floatbank4_b_air</th>\n",
       "      <th>secondary_cleaner.state.floatbank4_b_level</th>\n",
       "      <th>secondary_cleaner.state.floatbank5_a_air</th>\n",
       "      <th>secondary_cleaner.state.floatbank5_a_level</th>\n",
       "      <th>secondary_cleaner.state.floatbank5_b_air</th>\n",
       "      <th>secondary_cleaner.state.floatbank5_b_level</th>\n",
       "      <th>secondary_cleaner.state.floatbank6_a_air</th>\n",
       "      <th>secondary_cleaner.state.floatbank6_a_level</th>\n",
       "      <th>rougher.calculated.recovery</th>\n",
       "      <th>difference</th>\n",
       "    </tr>\n",
       "  </thead>\n",
       "  <tbody>\n",
       "    <tr>\n",
       "      <th>1</th>\n",
       "      <td>2016-01-15 01:00:00</td>\n",
       "      <td>6.029369</td>\n",
       "      <td>9.968944</td>\n",
       "      <td>5.257781</td>\n",
       "      <td>42.701629</td>\n",
       "      <td>69.266198</td>\n",
       "      <td>10.462676</td>\n",
       "      <td>0.927452</td>\n",
       "      <td>16.634514</td>\n",
       "      <td>2.224930</td>\n",
       "      <td>...</td>\n",
       "      <td>11.950531</td>\n",
       "      <td>-501.331529</td>\n",
       "      <td>10.039245</td>\n",
       "      <td>-500.169983</td>\n",
       "      <td>7.984757</td>\n",
       "      <td>-500.582168</td>\n",
       "      <td>13.998353</td>\n",
       "      <td>-599.787184</td>\n",
       "      <td>86.843261</td>\n",
       "      <td>-1.421085e-14</td>\n",
       "    </tr>\n",
       "    <tr>\n",
       "      <th>2</th>\n",
       "      <td>2016-01-15 02:00:00</td>\n",
       "      <td>6.055926</td>\n",
       "      <td>10.213995</td>\n",
       "      <td>5.383759</td>\n",
       "      <td>42.657501</td>\n",
       "      <td>68.116445</td>\n",
       "      <td>10.507046</td>\n",
       "      <td>0.953716</td>\n",
       "      <td>16.208849</td>\n",
       "      <td>2.257889</td>\n",
       "      <td>...</td>\n",
       "      <td>11.912783</td>\n",
       "      <td>-501.133383</td>\n",
       "      <td>10.070913</td>\n",
       "      <td>-500.129135</td>\n",
       "      <td>8.013877</td>\n",
       "      <td>-500.517572</td>\n",
       "      <td>14.028663</td>\n",
       "      <td>-601.427363</td>\n",
       "      <td>86.842308</td>\n",
       "      <td>-1.421085e-14</td>\n",
       "    </tr>\n",
       "    <tr>\n",
       "      <th>5</th>\n",
       "      <td>2016-01-15 05:00:00</td>\n",
       "      <td>6.482968</td>\n",
       "      <td>10.049416</td>\n",
       "      <td>5.480257</td>\n",
       "      <td>41.633678</td>\n",
       "      <td>69.465816</td>\n",
       "      <td>10.182708</td>\n",
       "      <td>0.664118</td>\n",
       "      <td>16.999638</td>\n",
       "      <td>1.918586</td>\n",
       "      <td>...</td>\n",
       "      <td>11.883350</td>\n",
       "      <td>-500.395298</td>\n",
       "      <td>10.054147</td>\n",
       "      <td>-496.374715</td>\n",
       "      <td>7.965083</td>\n",
       "      <td>-499.364752</td>\n",
       "      <td>14.017067</td>\n",
       "      <td>-599.707915</td>\n",
       "      <td>88.156912</td>\n",
       "      <td>-1.421085e-14</td>\n",
       "    </tr>\n",
       "    <tr>\n",
       "      <th>6</th>\n",
       "      <td>2016-01-15 06:00:00</td>\n",
       "      <td>6.533849</td>\n",
       "      <td>10.058141</td>\n",
       "      <td>4.569100</td>\n",
       "      <td>41.995316</td>\n",
       "      <td>69.300835</td>\n",
       "      <td>10.304598</td>\n",
       "      <td>0.807342</td>\n",
       "      <td>16.723575</td>\n",
       "      <td>2.058913</td>\n",
       "      <td>...</td>\n",
       "      <td>12.091543</td>\n",
       "      <td>-500.501426</td>\n",
       "      <td>10.003247</td>\n",
       "      <td>-497.083180</td>\n",
       "      <td>8.010890</td>\n",
       "      <td>-500.002423</td>\n",
       "      <td>14.029649</td>\n",
       "      <td>-600.905470</td>\n",
       "      <td>88.168065</td>\n",
       "      <td>1.421085e-14</td>\n",
       "    </tr>\n",
       "    <tr>\n",
       "      <th>8</th>\n",
       "      <td>2016-01-15 08:00:00</td>\n",
       "      <td>5.834140</td>\n",
       "      <td>10.071156</td>\n",
       "      <td>4.876389</td>\n",
       "      <td>43.404078</td>\n",
       "      <td>69.688595</td>\n",
       "      <td>10.420140</td>\n",
       "      <td>1.065453</td>\n",
       "      <td>17.201948</td>\n",
       "      <td>2.209881</td>\n",
       "      <td>...</td>\n",
       "      <td>12.060738</td>\n",
       "      <td>-501.174549</td>\n",
       "      <td>10.033838</td>\n",
       "      <td>-501.178133</td>\n",
       "      <td>7.881604</td>\n",
       "      <td>-499.729434</td>\n",
       "      <td>13.967135</td>\n",
       "      <td>-599.061188</td>\n",
       "      <td>87.035862</td>\n",
       "      <td>-1.421085e-14</td>\n",
       "    </tr>\n",
       "    <tr>\n",
       "      <th>...</th>\n",
       "      <td>...</td>\n",
       "      <td>...</td>\n",
       "      <td>...</td>\n",
       "      <td>...</td>\n",
       "      <td>...</td>\n",
       "      <td>...</td>\n",
       "      <td>...</td>\n",
       "      <td>...</td>\n",
       "      <td>...</td>\n",
       "      <td>...</td>\n",
       "      <td>...</td>\n",
       "      <td>...</td>\n",
       "      <td>...</td>\n",
       "      <td>...</td>\n",
       "      <td>...</td>\n",
       "      <td>...</td>\n",
       "      <td>...</td>\n",
       "      <td>...</td>\n",
       "      <td>...</td>\n",
       "      <td>...</td>\n",
       "      <td>...</td>\n",
       "    </tr>\n",
       "    <tr>\n",
       "      <th>14138</th>\n",
       "      <td>2018-08-18 00:59:59</td>\n",
       "      <td>3.525247</td>\n",
       "      <td>12.121578</td>\n",
       "      <td>6.605982</td>\n",
       "      <td>45.785582</td>\n",
       "      <td>75.185602</td>\n",
       "      <td>9.041052</td>\n",
       "      <td>3.208360</td>\n",
       "      <td>9.792629</td>\n",
       "      <td>1.534906</td>\n",
       "      <td>...</td>\n",
       "      <td>19.984883</td>\n",
       "      <td>-501.051735</td>\n",
       "      <td>17.948892</td>\n",
       "      <td>-500.147451</td>\n",
       "      <td>13.009772</td>\n",
       "      <td>-500.081309</td>\n",
       "      <td>20.012084</td>\n",
       "      <td>-501.651764</td>\n",
       "      <td>91.675070</td>\n",
       "      <td>1.421085e-14</td>\n",
       "    </tr>\n",
       "    <tr>\n",
       "      <th>14140</th>\n",
       "      <td>2018-08-18 02:59:59</td>\n",
       "      <td>3.187398</td>\n",
       "      <td>11.423128</td>\n",
       "      <td>6.790500</td>\n",
       "      <td>46.801679</td>\n",
       "      <td>68.369674</td>\n",
       "      <td>9.043962</td>\n",
       "      <td>3.629573</td>\n",
       "      <td>10.037518</td>\n",
       "      <td>1.838214</td>\n",
       "      <td>...</td>\n",
       "      <td>20.044418</td>\n",
       "      <td>-500.415095</td>\n",
       "      <td>18.026001</td>\n",
       "      <td>-499.866058</td>\n",
       "      <td>13.001740</td>\n",
       "      <td>-499.914235</td>\n",
       "      <td>20.005963</td>\n",
       "      <td>-500.767097</td>\n",
       "      <td>89.946627</td>\n",
       "      <td>-1.421085e-14</td>\n",
       "    </tr>\n",
       "    <tr>\n",
       "      <th>14143</th>\n",
       "      <td>2018-08-18 05:59:59</td>\n",
       "      <td>3.192996</td>\n",
       "      <td>11.612338</td>\n",
       "      <td>6.824441</td>\n",
       "      <td>46.710119</td>\n",
       "      <td>74.817644</td>\n",
       "      <td>8.665858</td>\n",
       "      <td>2.938592</td>\n",
       "      <td>10.241498</td>\n",
       "      <td>1.393077</td>\n",
       "      <td>...</td>\n",
       "      <td>20.029144</td>\n",
       "      <td>-500.000662</td>\n",
       "      <td>18.012723</td>\n",
       "      <td>-500.024764</td>\n",
       "      <td>13.016445</td>\n",
       "      <td>-500.058432</td>\n",
       "      <td>19.973767</td>\n",
       "      <td>-501.394155</td>\n",
       "      <td>91.816623</td>\n",
       "      <td>1.421085e-14</td>\n",
       "    </tr>\n",
       "    <tr>\n",
       "      <th>14146</th>\n",
       "      <td>2018-08-18 08:59:59</td>\n",
       "      <td>3.109998</td>\n",
       "      <td>11.434366</td>\n",
       "      <td>6.886013</td>\n",
       "      <td>46.795691</td>\n",
       "      <td>67.002189</td>\n",
       "      <td>8.529606</td>\n",
       "      <td>2.911418</td>\n",
       "      <td>11.115147</td>\n",
       "      <td>1.596616</td>\n",
       "      <td>...</td>\n",
       "      <td>19.951231</td>\n",
       "      <td>-499.857027</td>\n",
       "      <td>18.019543</td>\n",
       "      <td>-500.451156</td>\n",
       "      <td>13.023431</td>\n",
       "      <td>-499.914391</td>\n",
       "      <td>19.990885</td>\n",
       "      <td>-501.518452</td>\n",
       "      <td>88.890579</td>\n",
       "      <td>1.421085e-14</td>\n",
       "    </tr>\n",
       "    <tr>\n",
       "      <th>14148</th>\n",
       "      <td>2018-08-18 10:59:59</td>\n",
       "      <td>3.598375</td>\n",
       "      <td>11.737832</td>\n",
       "      <td>6.717509</td>\n",
       "      <td>46.299438</td>\n",
       "      <td>70.281454</td>\n",
       "      <td>8.406690</td>\n",
       "      <td>2.517518</td>\n",
       "      <td>10.652193</td>\n",
       "      <td>1.389434</td>\n",
       "      <td>...</td>\n",
       "      <td>20.020205</td>\n",
       "      <td>-500.220296</td>\n",
       "      <td>17.963512</td>\n",
       "      <td>-499.939490</td>\n",
       "      <td>12.990306</td>\n",
       "      <td>-500.080993</td>\n",
       "      <td>19.990336</td>\n",
       "      <td>-499.191575</td>\n",
       "      <td>89.514960</td>\n",
       "      <td>2.842171e-14</td>\n",
       "    </tr>\n",
       "  </tbody>\n",
       "</table>\n",
       "<p>7437 rows × 89 columns</p>\n",
       "</div>"
      ],
      "text/plain": [
       "                      date  final.output.concentrate_ag  \\\n",
       "1      2016-01-15 01:00:00                     6.029369   \n",
       "2      2016-01-15 02:00:00                     6.055926   \n",
       "5      2016-01-15 05:00:00                     6.482968   \n",
       "6      2016-01-15 06:00:00                     6.533849   \n",
       "8      2016-01-15 08:00:00                     5.834140   \n",
       "...                    ...                          ...   \n",
       "14138  2018-08-18 00:59:59                     3.525247   \n",
       "14140  2018-08-18 02:59:59                     3.187398   \n",
       "14143  2018-08-18 05:59:59                     3.192996   \n",
       "14146  2018-08-18 08:59:59                     3.109998   \n",
       "14148  2018-08-18 10:59:59                     3.598375   \n",
       "\n",
       "       final.output.concentrate_pb  final.output.concentrate_sol  \\\n",
       "1                         9.968944                      5.257781   \n",
       "2                        10.213995                      5.383759   \n",
       "5                        10.049416                      5.480257   \n",
       "6                        10.058141                      4.569100   \n",
       "8                        10.071156                      4.876389   \n",
       "...                            ...                           ...   \n",
       "14138                    12.121578                      6.605982   \n",
       "14140                    11.423128                      6.790500   \n",
       "14143                    11.612338                      6.824441   \n",
       "14146                    11.434366                      6.886013   \n",
       "14148                    11.737832                      6.717509   \n",
       "\n",
       "       final.output.concentrate_au  final.output.recovery  \\\n",
       "1                        42.701629              69.266198   \n",
       "2                        42.657501              68.116445   \n",
       "5                        41.633678              69.465816   \n",
       "6                        41.995316              69.300835   \n",
       "8                        43.404078              69.688595   \n",
       "...                            ...                    ...   \n",
       "14138                    45.785582              75.185602   \n",
       "14140                    46.801679              68.369674   \n",
       "14143                    46.710119              74.817644   \n",
       "14146                    46.795691              67.002189   \n",
       "14148                    46.299438              70.281454   \n",
       "\n",
       "       final.output.tail_ag  final.output.tail_pb  final.output.tail_sol  \\\n",
       "1                 10.462676              0.927452              16.634514   \n",
       "2                 10.507046              0.953716              16.208849   \n",
       "5                 10.182708              0.664118              16.999638   \n",
       "6                 10.304598              0.807342              16.723575   \n",
       "8                 10.420140              1.065453              17.201948   \n",
       "...                     ...                   ...                    ...   \n",
       "14138              9.041052              3.208360               9.792629   \n",
       "14140              9.043962              3.629573              10.037518   \n",
       "14143              8.665858              2.938592              10.241498   \n",
       "14146              8.529606              2.911418              11.115147   \n",
       "14148              8.406690              2.517518              10.652193   \n",
       "\n",
       "       final.output.tail_au  ...  secondary_cleaner.state.floatbank4_b_air  \\\n",
       "1                  2.224930  ...                                 11.950531   \n",
       "2                  2.257889  ...                                 11.912783   \n",
       "5                  1.918586  ...                                 11.883350   \n",
       "6                  2.058913  ...                                 12.091543   \n",
       "8                  2.209881  ...                                 12.060738   \n",
       "...                     ...  ...                                       ...   \n",
       "14138              1.534906  ...                                 19.984883   \n",
       "14140              1.838214  ...                                 20.044418   \n",
       "14143              1.393077  ...                                 20.029144   \n",
       "14146              1.596616  ...                                 19.951231   \n",
       "14148              1.389434  ...                                 20.020205   \n",
       "\n",
       "       secondary_cleaner.state.floatbank4_b_level  \\\n",
       "1                                     -501.331529   \n",
       "2                                     -501.133383   \n",
       "5                                     -500.395298   \n",
       "6                                     -500.501426   \n",
       "8                                     -501.174549   \n",
       "...                                           ...   \n",
       "14138                                 -501.051735   \n",
       "14140                                 -500.415095   \n",
       "14143                                 -500.000662   \n",
       "14146                                 -499.857027   \n",
       "14148                                 -500.220296   \n",
       "\n",
       "       secondary_cleaner.state.floatbank5_a_air  \\\n",
       "1                                     10.039245   \n",
       "2                                     10.070913   \n",
       "5                                     10.054147   \n",
       "6                                     10.003247   \n",
       "8                                     10.033838   \n",
       "...                                         ...   \n",
       "14138                                 17.948892   \n",
       "14140                                 18.026001   \n",
       "14143                                 18.012723   \n",
       "14146                                 18.019543   \n",
       "14148                                 17.963512   \n",
       "\n",
       "       secondary_cleaner.state.floatbank5_a_level  \\\n",
       "1                                     -500.169983   \n",
       "2                                     -500.129135   \n",
       "5                                     -496.374715   \n",
       "6                                     -497.083180   \n",
       "8                                     -501.178133   \n",
       "...                                           ...   \n",
       "14138                                 -500.147451   \n",
       "14140                                 -499.866058   \n",
       "14143                                 -500.024764   \n",
       "14146                                 -500.451156   \n",
       "14148                                 -499.939490   \n",
       "\n",
       "       secondary_cleaner.state.floatbank5_b_air  \\\n",
       "1                                      7.984757   \n",
       "2                                      8.013877   \n",
       "5                                      7.965083   \n",
       "6                                      8.010890   \n",
       "8                                      7.881604   \n",
       "...                                         ...   \n",
       "14138                                 13.009772   \n",
       "14140                                 13.001740   \n",
       "14143                                 13.016445   \n",
       "14146                                 13.023431   \n",
       "14148                                 12.990306   \n",
       "\n",
       "       secondary_cleaner.state.floatbank5_b_level  \\\n",
       "1                                     -500.582168   \n",
       "2                                     -500.517572   \n",
       "5                                     -499.364752   \n",
       "6                                     -500.002423   \n",
       "8                                     -499.729434   \n",
       "...                                           ...   \n",
       "14138                                 -500.081309   \n",
       "14140                                 -499.914235   \n",
       "14143                                 -500.058432   \n",
       "14146                                 -499.914391   \n",
       "14148                                 -500.080993   \n",
       "\n",
       "       secondary_cleaner.state.floatbank6_a_air  \\\n",
       "1                                     13.998353   \n",
       "2                                     14.028663   \n",
       "5                                     14.017067   \n",
       "6                                     14.029649   \n",
       "8                                     13.967135   \n",
       "...                                         ...   \n",
       "14138                                 20.012084   \n",
       "14140                                 20.005963   \n",
       "14143                                 19.973767   \n",
       "14146                                 19.990885   \n",
       "14148                                 19.990336   \n",
       "\n",
       "       secondary_cleaner.state.floatbank6_a_level  \\\n",
       "1                                     -599.787184   \n",
       "2                                     -601.427363   \n",
       "5                                     -599.707915   \n",
       "6                                     -600.905470   \n",
       "8                                     -599.061188   \n",
       "...                                           ...   \n",
       "14138                                 -501.651764   \n",
       "14140                                 -500.767097   \n",
       "14143                                 -501.394155   \n",
       "14146                                 -501.518452   \n",
       "14148                                 -499.191575   \n",
       "\n",
       "       rougher.calculated.recovery    difference  \n",
       "1                        86.843261 -1.421085e-14  \n",
       "2                        86.842308 -1.421085e-14  \n",
       "5                        88.156912 -1.421085e-14  \n",
       "6                        88.168065  1.421085e-14  \n",
       "8                        87.035862 -1.421085e-14  \n",
       "...                            ...           ...  \n",
       "14138                    91.675070  1.421085e-14  \n",
       "14140                    89.946627 -1.421085e-14  \n",
       "14143                    91.816623  1.421085e-14  \n",
       "14146                    88.890579  1.421085e-14  \n",
       "14148                    89.514960  2.842171e-14  \n",
       "\n",
       "[7437 rows x 89 columns]"
      ]
     },
     "execution_count": 9,
     "metadata": {},
     "output_type": "execute_result"
    }
   ],
   "source": [
    "#Выведем все поля, где разница между исходной и рассчитанной эффективностью не равна 0\n",
    "data_train['difference'] = (data_train['rougher.output.recovery'] - data_train['rougher.calculated.recovery']).astype(\"float\")\n",
    "data_train[data_train['difference'] != 0]"
   ]
  },
  {
   "cell_type": "markdown",
   "metadata": {},
   "source": [
    "<div class=\"alert alert-block alert-info\">\n",
    "Значение MAE очень маленькое, что говорит о том, что есть очень маленькие погрешности в изначальном расчете. Небольшие отклонения присутствуют по 7437 объектам."
   ]
  },
  {
   "cell_type": "markdown",
   "metadata": {},
   "source": [
    "### Анализ признаков, недоступных в тестовой выборке"
   ]
  },
  {
   "cell_type": "code",
   "execution_count": 10,
   "metadata": {},
   "outputs": [],
   "source": [
    "#Удалим расчетный столбец из предыдущего пункта\n",
    "data_train = data_train.drop('difference', axis=1)"
   ]
  },
  {
   "cell_type": "code",
   "execution_count": 11,
   "metadata": {},
   "outputs": [
    {
     "name": "stdout",
     "output_type": "stream",
     "text": [
      "Список признаков, которые есть в обучающей, но нет в тестовой выборке:\n"
     ]
    },
    {
     "data": {
      "text/plain": [
       "{'final.output.concentrate_ag',\n",
       " 'final.output.concentrate_au',\n",
       " 'final.output.concentrate_pb',\n",
       " 'final.output.concentrate_sol',\n",
       " 'final.output.recovery',\n",
       " 'final.output.tail_ag',\n",
       " 'final.output.tail_au',\n",
       " 'final.output.tail_pb',\n",
       " 'final.output.tail_sol',\n",
       " 'primary_cleaner.output.concentrate_ag',\n",
       " 'primary_cleaner.output.concentrate_au',\n",
       " 'primary_cleaner.output.concentrate_pb',\n",
       " 'primary_cleaner.output.concentrate_sol',\n",
       " 'primary_cleaner.output.tail_ag',\n",
       " 'primary_cleaner.output.tail_au',\n",
       " 'primary_cleaner.output.tail_pb',\n",
       " 'primary_cleaner.output.tail_sol',\n",
       " 'rougher.calculated.recovery',\n",
       " 'rougher.calculation.au_pb_ratio',\n",
       " 'rougher.calculation.floatbank10_sulfate_to_au_feed',\n",
       " 'rougher.calculation.floatbank11_sulfate_to_au_feed',\n",
       " 'rougher.calculation.sulfate_to_au_concentrate',\n",
       " 'rougher.output.concentrate_ag',\n",
       " 'rougher.output.concentrate_au',\n",
       " 'rougher.output.concentrate_pb',\n",
       " 'rougher.output.concentrate_sol',\n",
       " 'rougher.output.recovery',\n",
       " 'rougher.output.tail_ag',\n",
       " 'rougher.output.tail_au',\n",
       " 'rougher.output.tail_pb',\n",
       " 'rougher.output.tail_sol',\n",
       " 'secondary_cleaner.output.tail_ag',\n",
       " 'secondary_cleaner.output.tail_au',\n",
       " 'secondary_cleaner.output.tail_pb',\n",
       " 'secondary_cleaner.output.tail_sol'}"
      ]
     },
     "execution_count": 11,
     "metadata": {},
     "output_type": "execute_result"
    }
   ],
   "source": [
    "print(\"Список признаков, которые есть в обучающей, но нет в тестовой выборке:\") \n",
    "set(data_train.columns) - set(data_test.columns)"
   ]
  },
  {
   "cell_type": "markdown",
   "metadata": {},
   "source": [
    "<div class=\"alert alert-block alert-info\">\n",
    "В тестовой выборке нет:\n",
    "    \n",
    "- целевых признаков (rougher.output.recovery, final.output.recovery), \n",
    "- расчетных характеристик после флотации (rougher.calculation...)\n",
    "- параметров продукта после флотации (rougher.output.concentrate_au)\n",
    "- параметров отвальных хвостов после флотации (rougher.output.tail_au)\n",
    "- параметров продукта после первичной очистки (primary_cleaner.output.concentrate_au)\n",
    "- параметров отвальных хвостов после первичной очистки (primary_cleaner.output.tail_au)\n",
    "- параметров отвальных хвостов после вторичной очистки (secondary_cleaner.output.tail_au)\n",
    "- финальных характеристик концентрата (final.output.concentrate_au)\n",
    "- финальных характеристик отвальных хвостов (final.output.tail_au)\n",
    "- рассчитанного в предыдущем в пункте значения recovery (rougher.calculated_recovery)\n",
    "\n",
    "    \n",
    "    \n",
    "То есть в тестовом наборе отсутствуют признаки, которые отражают результаты технологического процесса.    \n"
   ]
  },
  {
   "cell_type": "markdown",
   "metadata": {},
   "source": [
    "### Предобработка данных"
   ]
  },
  {
   "cell_type": "code",
   "execution_count": 12,
   "metadata": {},
   "outputs": [
    {
     "name": "stdout",
     "output_type": "stream",
     "text": [
      "Признаки, которых нет в обучающей выборке: ['final.output.concentrate_ag', 'final.output.concentrate_au', 'final.output.concentrate_pb', 'final.output.concentrate_sol', 'final.output.recovery', 'final.output.tail_ag', 'final.output.tail_au', 'final.output.tail_pb', 'final.output.tail_sol', 'primary_cleaner.output.concentrate_ag', 'primary_cleaner.output.concentrate_au', 'primary_cleaner.output.concentrate_pb', 'primary_cleaner.output.concentrate_sol', 'primary_cleaner.output.tail_ag', 'primary_cleaner.output.tail_au', 'primary_cleaner.output.tail_pb', 'primary_cleaner.output.tail_sol', 'rougher.calculated.recovery', 'rougher.calculation.au_pb_ratio', 'rougher.calculation.floatbank10_sulfate_to_au_feed', 'rougher.calculation.floatbank11_sulfate_to_au_feed', 'rougher.calculation.sulfate_to_au_concentrate', 'rougher.output.concentrate_ag', 'rougher.output.concentrate_au', 'rougher.output.concentrate_pb', 'rougher.output.concentrate_sol', 'rougher.output.recovery', 'rougher.output.tail_ag', 'rougher.output.tail_au', 'rougher.output.tail_pb', 'rougher.output.tail_sol', 'secondary_cleaner.output.tail_ag', 'secondary_cleaner.output.tail_au', 'secondary_cleaner.output.tail_pb', 'secondary_cleaner.output.tail_sol']\n"
     ]
    }
   ],
   "source": [
    "#Для начала посмотрим на признаки в обучающей и тестовой выборках. Удалим из обучающей выборки те признаки, которых нет в тестовлй выборке\n",
    "missing_features = list(set(data_train) - set(data_test))\n",
    "print(\"Признаки, которых нет в обучающей выборке:\", sorted(missing_features))\n",
    "missing_features.remove('rougher.output.recovery')\n",
    "missing_features.remove('final.output.recovery')\n",
    "data_train = data_train.drop(missing_features, axis=1)"
   ]
  },
  {
   "cell_type": "code",
   "execution_count": 13,
   "metadata": {},
   "outputs": [],
   "source": [
    "#Сразу в тестовую выборку добавим целевые признаки из data_full\n",
    "data_test = data_test.merge(data_full[['date', 'rougher.output.recovery', 'final.output.recovery']], on='date')"
   ]
  },
  {
   "cell_type": "code",
   "execution_count": 14,
   "metadata": {},
   "outputs": [
    {
     "name": "stdout",
     "output_type": "stream",
     "text": [
      "55\n",
      "55\n"
     ]
    }
   ],
   "source": [
    "#Проверим\n",
    "print(len(data_train.columns))\n",
    "print(len(data_test.columns))"
   ]
  },
  {
   "cell_type": "code",
   "execution_count": 15,
   "metadata": {},
   "outputs": [
    {
     "name": "stdout",
     "output_type": "stream",
     "text": [
      "date                                            0\n",
      "final.output.recovery                           0\n",
      "primary_cleaner.input.sulfate                  20\n",
      "primary_cleaner.input.depressant               32\n",
      "primary_cleaner.input.feed_size                 0\n",
      "primary_cleaner.input.xanthate                100\n",
      "primary_cleaner.state.floatbank8_a_air          4\n",
      "primary_cleaner.state.floatbank8_a_level        1\n",
      "primary_cleaner.state.floatbank8_b_air          4\n",
      "primary_cleaner.state.floatbank8_b_level        1\n",
      "primary_cleaner.state.floatbank8_c_air          2\n",
      "primary_cleaner.state.floatbank8_c_level        1\n",
      "primary_cleaner.state.floatbank8_d_air          3\n",
      "primary_cleaner.state.floatbank8_d_level        1\n",
      "rougher.input.feed_ag                           0\n",
      "rougher.input.feed_pb                         100\n",
      "rougher.input.feed_rate                         8\n",
      "rougher.input.feed_size                       144\n",
      "rougher.input.feed_sol                         78\n",
      "rougher.input.feed_au                           0\n",
      "rougher.input.floatbank10_sulfate              29\n",
      "rougher.input.floatbank10_xanthate              8\n",
      "rougher.input.floatbank11_sulfate              36\n",
      "rougher.input.floatbank11_xanthate            428\n",
      "rougher.output.recovery                         0\n",
      "rougher.state.floatbank10_a_air                 1\n",
      "rougher.state.floatbank10_a_level               1\n",
      "rougher.state.floatbank10_b_air                 1\n",
      "rougher.state.floatbank10_b_level               1\n",
      "rougher.state.floatbank10_c_air                 1\n",
      "rougher.state.floatbank10_c_level               1\n",
      "rougher.state.floatbank10_d_air                 0\n",
      "rougher.state.floatbank10_d_level               0\n",
      "rougher.state.floatbank10_e_air               436\n",
      "rougher.state.floatbank10_e_level               0\n",
      "rougher.state.floatbank10_f_air                 0\n",
      "rougher.state.floatbank10_f_level               0\n",
      "secondary_cleaner.state.floatbank2_a_air      217\n",
      "secondary_cleaner.state.floatbank2_a_level      1\n",
      "secondary_cleaner.state.floatbank2_b_air       21\n",
      "secondary_cleaner.state.floatbank2_b_level      1\n",
      "secondary_cleaner.state.floatbank3_a_air        4\n",
      "secondary_cleaner.state.floatbank3_a_level      1\n",
      "secondary_cleaner.state.floatbank3_b_air        1\n",
      "secondary_cleaner.state.floatbank3_b_level      1\n",
      "secondary_cleaner.state.floatbank4_a_air        6\n",
      "secondary_cleaner.state.floatbank4_a_level      1\n",
      "secondary_cleaner.state.floatbank4_b_air        1\n",
      "secondary_cleaner.state.floatbank4_b_level      1\n",
      "secondary_cleaner.state.floatbank5_a_air        1\n",
      "secondary_cleaner.state.floatbank5_a_level      1\n",
      "secondary_cleaner.state.floatbank5_b_air        1\n",
      "secondary_cleaner.state.floatbank5_b_level      1\n",
      "secondary_cleaner.state.floatbank6_a_air        2\n",
      "secondary_cleaner.state.floatbank6_a_level      1\n",
      "dtype: int64\n",
      "date                                           0\n",
      "primary_cleaner.input.sulfate                  4\n",
      "primary_cleaner.input.depressant               5\n",
      "primary_cleaner.input.feed_size                0\n",
      "primary_cleaner.input.xanthate                 4\n",
      "primary_cleaner.state.floatbank8_a_air         0\n",
      "primary_cleaner.state.floatbank8_a_level       0\n",
      "primary_cleaner.state.floatbank8_b_air         0\n",
      "primary_cleaner.state.floatbank8_b_level       0\n",
      "primary_cleaner.state.floatbank8_c_air         0\n",
      "primary_cleaner.state.floatbank8_c_level       0\n",
      "primary_cleaner.state.floatbank8_d_air         0\n",
      "primary_cleaner.state.floatbank8_d_level       0\n",
      "rougher.input.feed_ag                          0\n",
      "rougher.input.feed_pb                          0\n",
      "rougher.input.feed_rate                        3\n",
      "rougher.input.feed_size                        1\n",
      "rougher.input.feed_sol                        21\n",
      "rougher.input.feed_au                          0\n",
      "rougher.input.floatbank10_sulfate              5\n",
      "rougher.input.floatbank10_xanthate             0\n",
      "rougher.input.floatbank11_sulfate              8\n",
      "rougher.input.floatbank11_xanthate            25\n",
      "rougher.state.floatbank10_a_air                0\n",
      "rougher.state.floatbank10_a_level              0\n",
      "rougher.state.floatbank10_b_air                0\n",
      "rougher.state.floatbank10_b_level              0\n",
      "rougher.state.floatbank10_c_air                0\n",
      "rougher.state.floatbank10_c_level              0\n",
      "rougher.state.floatbank10_d_air                0\n",
      "rougher.state.floatbank10_d_level              0\n",
      "rougher.state.floatbank10_e_air                0\n",
      "rougher.state.floatbank10_e_level              0\n",
      "rougher.state.floatbank10_f_air                0\n",
      "rougher.state.floatbank10_f_level              0\n",
      "secondary_cleaner.state.floatbank2_a_air       3\n",
      "secondary_cleaner.state.floatbank2_a_level     0\n",
      "secondary_cleaner.state.floatbank2_b_air       2\n",
      "secondary_cleaner.state.floatbank2_b_level     0\n",
      "secondary_cleaner.state.floatbank3_a_air       9\n",
      "secondary_cleaner.state.floatbank3_a_level     0\n",
      "secondary_cleaner.state.floatbank3_b_air       0\n",
      "secondary_cleaner.state.floatbank3_b_level     0\n",
      "secondary_cleaner.state.floatbank4_a_air       0\n",
      "secondary_cleaner.state.floatbank4_a_level     0\n",
      "secondary_cleaner.state.floatbank4_b_air       0\n",
      "secondary_cleaner.state.floatbank4_b_level     0\n",
      "secondary_cleaner.state.floatbank5_a_air       0\n",
      "secondary_cleaner.state.floatbank5_a_level     0\n",
      "secondary_cleaner.state.floatbank5_b_air       0\n",
      "secondary_cleaner.state.floatbank5_b_level     0\n",
      "secondary_cleaner.state.floatbank6_a_air       0\n",
      "secondary_cleaner.state.floatbank6_a_level     0\n",
      "rougher.output.recovery                        0\n",
      "final.output.recovery                          0\n",
      "dtype: int64\n"
     ]
    }
   ],
   "source": [
    "#Проверим данные на пропуски\n",
    "print(data_train.isna().sum())\n",
    "print(data_test.isna().sum())"
   ]
  },
  {
   "cell_type": "code",
   "execution_count": 16,
   "metadata": {},
   "outputs": [],
   "source": [
    "#Заполним пропуски ближайшими по времени значениями\n",
    "data_train = data_train.fillna(method=\"bfill\")\n",
    "data_test = data_test.fillna(method=\"bfill\")"
   ]
  },
  {
   "cell_type": "code",
   "execution_count": 17,
   "metadata": {},
   "outputs": [
    {
     "name": "stdout",
     "output_type": "stream",
     "text": [
      "0\n",
      "0\n"
     ]
    }
   ],
   "source": [
    "#Проверка на явные дубликаты\n",
    "print(data_train.duplicated().sum())\n",
    "print(data_test.duplicated().sum())"
   ]
  },
  {
   "cell_type": "code",
   "execution_count": 18,
   "metadata": {},
   "outputs": [
    {
     "data": {
      "text/plain": [
       "<AxesSubplot:>"
      ]
     },
     "execution_count": 18,
     "metadata": {},
     "output_type": "execute_result"
    },
    {
     "data": {
      "image/png": "[encoded data removed]",
      "text/plain": [
       "<Figure size 720x504 with 1 Axes>"
      ]
     },
     "metadata": {
      "needs_background": "light"
     },
     "output_type": "display_data"
    }
   ],
   "source": [
    "#Проверим данные на аномалии\n",
    "#Посмотрим на диаграммы размаха целевых признаков\n",
    "plt.figure(figsize=(10,7))\n",
    "sns.boxplot(data=data_train[['rougher.output.recovery', 'final.output.recovery']], orient='h')"
   ]
  },
  {
   "cell_type": "code",
   "execution_count": 19,
   "metadata": {},
   "outputs": [],
   "source": [
    "#создадим функцию для расчета межквартильного размаха и размахов \"усов\" слева и справа для признаков rougher.output.recovery, final.output.recovery\n",
    "def IQR(data, feature1='rougher.output.recovery', feature2='final.output.recovery'):\n",
    "    Q1_rougher = data[feature1].quantile(0.25)\n",
    "    Q3_rougher = data[feature1].quantile(0.75)\n",
    "    IQR_rougher = Q3_rougher - Q1_rougher\n",
    "    left_mustache_rougher = Q1_rougher - 1.5 * IQR_rougher\n",
    "    right_mustache_rougher = Q3_rougher + 1.5 * IQR_rougher\n",
    "    \n",
    "    Q1_final = data[feature2].quantile(0.25)\n",
    "    Q3_final = data[feature2].quantile(0.75)\n",
    "    IQR_final = Q3_final - Q1_final\n",
    "    left_mustache_final = Q1_final - 1.5 * IQR_final\n",
    "    right_mustache_final = Q3_final + 1.5 * IQR_final\n",
    "    \n",
    "    return left_mustache_rougher, right_mustache_rougher, left_mustache_final, right_mustache_final"
   ]
  },
  {
   "cell_type": "code",
   "execution_count": 20,
   "metadata": {},
   "outputs": [
    {
     "name": "stdout",
     "output_type": "stream",
     "text": [
      "Количество аномальных объектов чернового концентрата, находящееся за пределами левого уса: 574\n",
      "Количество аномальных объектовчернового концентрата, находящееся за пределами правого уса: 0\n",
      "Количество аномальных объектов финального концентрата, находящееся за пределами левого уса: 552\n",
      "Количество аномальных объектов финального концентрата, находящееся за пределами правого уса: 160\n"
     ]
    }
   ],
   "source": [
    "#Получим значения левого и правого усов для обоих целевых признаков\n",
    "left_mustache_rougher, right_mustache_rougher, left_mustache_final, right_mustache_final = IQR(data_train)\n",
    "\n",
    "print(\"Количество аномальных объектов чернового концентрата, находящееся за пределами левого уса:\", len(data_train[data_train['rougher.output.recovery'] < left_mustache_rougher]))\n",
    "print(\"Количество аномальных объектовчернового концентрата, находящееся за пределами правого уса:\", len(data_train[data_train['rougher.output.recovery'] > right_mustache_rougher]))\n",
    "\n",
    "print(\"Количество аномальных объектов финального концентрата, находящееся за пределами левого уса:\", len(data_train[data_train['final.output.recovery'] < left_mustache_final]))\n",
    "print(\"Количество аномальных объектов финального концентрата, находящееся за пределами правого уса:\", len(data_train[data_train['final.output.recovery'] > right_mustache_final]))"
   ]
  },
  {
   "cell_type": "markdown",
   "metadata": {},
   "source": [
    "<div class=\"alert alert-block alert-info\">\n",
    "Видно, что присутствуют значения, находящиеся за пределами усов, что говорит о том, что это могут быть выбросы. Однако левосторонних аномальных значений достаточно много, нежелательно столько много удалять. Посмотрим, сколько объектов с нулевой эффективностью обогащения чернового концентрата и финального концентрата."
   ]
  },
  {
   "cell_type": "code",
   "execution_count": 21,
   "metadata": {},
   "outputs": [
    {
     "name": "stdout",
     "output_type": "stream",
     "text": [
      "Количество объектов обучающей выборки с нулевой эффективностью обогащения чернового концентрата: 297\n",
      "Количество объектов обучающей выборки с нулевой эффективностью обогащения финального концентрата: 58\n"
     ]
    }
   ],
   "source": [
    "print(\"Количество объектов обучающей выборки с нулевой эффективностью обогащения чернового концентрата:\", len(data_train[data_train['rougher.output.recovery'] == 0]))\n",
    "print(\"Количество объектов обучающей выборки с нулевой эффективностью обогащения финального концентрата:\", len(data_train[data_train['final.output.recovery'] == 0]))"
   ]
  },
  {
   "cell_type": "markdown",
   "metadata": {},
   "source": [
    "<div class=\"alert alert-block alert-info\">\n",
    "Нулевая эффективность обогащения чернового и финального концентрата может говорить (в соответствие с формулой) о том, что в концентрате после флотации/очистки нулевая доля золота или о том, что доля золота в сырье/концентрате до флотации/очистки равна доле золота в отвальных хвостах после флотации/очистки.\n",
    "Такие объекты лучше исключить из выборки, поскольку они не эффективны с точки зрения обогащения чернового концентрата. "
   ]
  },
  {
   "cell_type": "code",
   "execution_count": 22,
   "metadata": {},
   "outputs": [],
   "source": [
    "data_train = data_train[(data_train['final.output.recovery'] != 0) & (data_train['rougher.output.recovery'] != 0)]"
   ]
  },
  {
   "cell_type": "code",
   "execution_count": 23,
   "metadata": {},
   "outputs": [
    {
     "data": {
      "text/plain": [
       "<AxesSubplot:>"
      ]
     },
     "execution_count": 23,
     "metadata": {},
     "output_type": "execute_result"
    },
    {
     "data": {
      "image/png": "[encoded data removed]",
      "text/plain": [
       "<Figure size 576x360 with 1 Axes>"
      ]
     },
     "metadata": {
      "needs_background": "light"
     },
     "output_type": "display_data"
    },
    {
     "data": {
      "image/png": "[encoded data removed]",
      "text/plain": [
       "<Figure size 576x360 with 1 Axes>"
      ]
     },
     "metadata": {
      "needs_background": "light"
     },
     "output_type": "display_data"
    },
    {
     "data": {
      "image/png": "[encoded data removed]",
      "text/plain": [
       "<Figure size 576x360 with 1 Axes>"
      ]
     },
     "metadata": {
      "needs_background": "light"
     },
     "output_type": "display_data"
    }
   ],
   "source": [
    "#Посмотрим также на диаграмы рассеивания по признакам rougher.input.feed_size, primary_cleaner.input.feed_size, rougher.input.feed_au\n",
    "plt.figure(figsize=(8,5))\n",
    "sns.boxplot(data=data_train['rougher.input.feed_size'], orient='h')\n",
    "plt.figure(figsize=(8,5))\n",
    "sns.boxplot(data=data_train['primary_cleaner.input.feed_size'], orient='h')\n",
    "plt.figure(figsize=(8,5))\n",
    "sns.boxplot(data=data_train['rougher.input.feed_au'], orient='h')"
   ]
  },
  {
   "cell_type": "markdown",
   "metadata": {},
   "source": [
    "<div class=\"alert alert-block alert-info\">\n",
    "Удалим слишком выделяющиеся объекты по признаку rougher.input.feed_size (больше 400), за пределами усов значений много-удалять их не стоит.\n",
    "По признаку primary_cleaner.input.feed_size удалим объекты с значениями меньше 2 и больше 10 - это явно аномалии.\n",
    "По признак rougher.input.feed_au удалим объекты со значением, меньше 1    "
   ]
  },
  {
   "cell_type": "code",
   "execution_count": 24,
   "metadata": {},
   "outputs": [],
   "source": [
    "data_train = data_train[(data_train['rougher.input.feed_size'] < 200) & (data_train['primary_cleaner.input.feed_size'] > 2 ) & (data_train['primary_cleaner.input.feed_size'] < 10) & (data_train['rougher.input.feed_au'] > 1)]"
   ]
  },
  {
   "cell_type": "code",
   "execution_count": 25,
   "metadata": {},
   "outputs": [
    {
     "data": {
      "text/plain": [
       "<AxesSubplot:>"
      ]
     },
     "execution_count": 25,
     "metadata": {},
     "output_type": "execute_result"
    },
    {
     "data": {
      "image/png": "[encoded data removed]",
      "text/plain": [
       "<Figure size 576x360 with 1 Axes>"
      ]
     },
     "metadata": {
      "needs_background": "light"
     },
     "output_type": "display_data"
    },
    {
     "data": {
      "image/png": "[encoded data removed]",
      "text/plain": [
       "<Figure size 576x360 with 1 Axes>"
      ]
     },
     "metadata": {
      "needs_background": "light"
     },
     "output_type": "display_data"
    }
   ],
   "source": [
    "#Посмотрим на диаграмы рассеивания data_test по признакам rougher.input.feed_size, primary_cleaner.input.feed_size\n",
    "plt.figure(figsize=(8,5))\n",
    "sns.boxplot(data=data_test['rougher.input.feed_size'], orient='h')\n",
    "plt.figure(figsize=(8,5))\n",
    "sns.boxplot(data=data_test['primary_cleaner.input.feed_size'], orient='h')"
   ]
  },
  {
   "cell_type": "markdown",
   "metadata": {},
   "source": [
    "<div class=\"alert alert-block alert-info\">\n",
    "Удалим слишком выделяющиеся объекты по признаку rougher.input.feed_size (больше 150 и меньше 20), за пределами усов значений много-удалять их не стоит.\n",
    "По признаку primary_cleaner.input.feed_size удалим объекты с значениями больше 10 - это явно аномалии."
   ]
  },
  {
   "cell_type": "code",
   "execution_count": 26,
   "metadata": {},
   "outputs": [],
   "source": [
    "data_test = data_test[(data_test['rougher.input.feed_size'] < 150) & (data_test['rougher.input.feed_size'] > 20) & (data_test['primary_cleaner.input.feed_size'] < 10)]"
   ]
  },
  {
   "cell_type": "code",
   "execution_count": 27,
   "metadata": {},
   "outputs": [],
   "source": [
    "#Посмотрим на зависимость признаков между собой, напишем функцию для расчета корреляции между признаками\n",
    "def correlation(data):\n",
    "    column_list_pair = []\n",
    "    column_list = []\n",
    "    for i in data.columns:\n",
    "        for j in data.columns:\n",
    "            coeff_cor = data[i].corr(data[j])\n",
    "            if i != j and {i,j} not in column_list_pair:\n",
    "                if coeff_cor > 0.7:\n",
    "                    column_list_pair.append({i,j})\n",
    "                    column_list.append(i)\n",
    "    return column_list_pair, column_list"
   ]
  },
  {
   "cell_type": "code",
   "execution_count": 28,
   "metadata": {},
   "outputs": [],
   "source": [
    "#сохраним в переменную пару признаков и коэффициент корреляции между ними\n",
    "correlation_list_pair, correlation_list = correlation(data_train.loc[:, 'final.output.recovery':'secondary_cleaner.state.floatbank6_a_level'])"
   ]
  },
  {
   "cell_type": "code",
   "execution_count": 29,
   "metadata": {},
   "outputs": [
    {
     "name": "stdout",
     "output_type": "stream",
     "text": [
      "Количество пар признаков с высокой корреляцией в data_train: 47\n"
     ]
    }
   ],
   "source": [
    "print(\"Количество пар признаков с высокой корреляцией в data_train:\", len(correlation_list_pair))"
   ]
  },
  {
   "cell_type": "markdown",
   "metadata": {},
   "source": [
    "<div class=\"alert alert-block alert-info\">\n",
    "Высокая зависимость наблюдается у 56 пар признаков обучающей выборки. Оставим только один признак из этой пары и сохраним в другой обучающий датафрейм"
   ]
  },
  {
   "cell_type": "code",
   "execution_count": 30,
   "metadata": {},
   "outputs": [],
   "source": [
    "#Уберем признаки, по одному из пар признаков, сильно коррелирующих между собой\n",
    "data_train_preprocessed = data_train[list(set(data_train.columns) - set(correlation_list))]"
   ]
  },
  {
   "cell_type": "code",
   "execution_count": 31,
   "metadata": {},
   "outputs": [],
   "source": [
    "#Удалим эти же признаки из data_test\n",
    "data_test_preprocessed = data_test[list(set(data_test.columns) - set(correlation_list))]"
   ]
  },
  {
   "cell_type": "markdown",
   "metadata": {},
   "source": [
    "## Анализ данных"
   ]
  },
  {
   "cell_type": "markdown",
   "metadata": {},
   "source": [
    "### Изменение концентрации металлов (Au, Ag, Pb)"
   ]
  },
  {
   "cell_type": "code",
   "execution_count": 32,
   "metadata": {},
   "outputs": [],
   "source": [
    "#Отберем признаки для исследования концентрации металов на разных этапах\n",
    "change_columns = ['rougher.output.concentrate_ag', 'rougher.output.concentrate_pb', 'rougher.output.concentrate_au', 'rougher.output.tail_ag',     'rougher.output.tail_pb', 'rougher.output.tail_au', 'primary_cleaner.output.concentrate_ag',  'primary_cleaner.output.concentrate_pb', 'primary_cleaner.output.concentrate_au','primary_cleaner.output.tail_ag','primary_cleaner.output.tail_pb','primary_cleaner.output.tail_au','final.output.concentrate_ag','final.output.concentrate_pb','final.output.concentrate_au','secondary_cleaner.output.tail_ag','secondary_cleaner.output.tail_pb','secondary_cleaner.output.tail_au', 'rougher.input.feed_ag', 'rougher.input.feed_au', 'rougher.input.feed_pb']"
   ]
  },
  {
   "cell_type": "code",
   "execution_count": 33,
   "metadata": {},
   "outputs": [],
   "source": [
    "#Создадим копию общего датасета\n",
    "data_full_copy = data_full.copy()\n",
    "#Добавим строку со средним значением для каждого признака\n",
    "data_full_copy.loc['mean_value'] = data_full.mean()"
   ]
  },
  {
   "cell_type": "code",
   "execution_count": 34,
   "metadata": {},
   "outputs": [
    {
     "data": {
      "text/html": [
       "<div>\n",
       "<style scoped>\n",
       "    .dataframe tbody tr th:only-of-type {\n",
       "        vertical-align: middle;\n",
       "    }\n",
       "\n",
       "    .dataframe tbody tr th {\n",
       "        vertical-align: top;\n",
       "    }\n",
       "\n",
       "    .dataframe thead th {\n",
       "        text-align: right;\n",
       "    }\n",
       "</style>\n",
       "<table border=\"1\" class=\"dataframe\">\n",
       "  <thead>\n",
       "    <tr style=\"text-align: right;\">\n",
       "      <th></th>\n",
       "      <th>mean_value</th>\n",
       "    </tr>\n",
       "  </thead>\n",
       "  <tbody>\n",
       "    <tr>\n",
       "      <th>rougher.output.concentrate_ag</th>\n",
       "      <td>11.994759</td>\n",
       "    </tr>\n",
       "    <tr>\n",
       "      <th>rougher.output.concentrate_pb</th>\n",
       "      <td>7.606272</td>\n",
       "    </tr>\n",
       "    <tr>\n",
       "      <th>rougher.output.concentrate_au</th>\n",
       "      <td>19.772</td>\n",
       "    </tr>\n",
       "    <tr>\n",
       "      <th>rougher.output.tail_ag</th>\n",
       "      <td>5.588982</td>\n",
       "    </tr>\n",
       "    <tr>\n",
       "      <th>rougher.output.tail_pb</th>\n",
       "      <td>0.645782</td>\n",
       "    </tr>\n",
       "    <tr>\n",
       "      <th>rougher.output.tail_au</th>\n",
       "      <td>1.816391</td>\n",
       "    </tr>\n",
       "    <tr>\n",
       "      <th>primary_cleaner.output.concentrate_ag</th>\n",
       "      <td>8.442408</td>\n",
       "    </tr>\n",
       "    <tr>\n",
       "      <th>primary_cleaner.output.concentrate_pb</th>\n",
       "      <td>9.82953</td>\n",
       "    </tr>\n",
       "    <tr>\n",
       "      <th>primary_cleaner.output.concentrate_au</th>\n",
       "      <td>32.1194</td>\n",
       "    </tr>\n",
       "    <tr>\n",
       "      <th>primary_cleaner.output.tail_ag</th>\n",
       "      <td>16.145826</td>\n",
       "    </tr>\n",
       "    <tr>\n",
       "      <th>primary_cleaner.output.tail_pb</th>\n",
       "      <td>3.435656</td>\n",
       "    </tr>\n",
       "    <tr>\n",
       "      <th>primary_cleaner.output.tail_au</th>\n",
       "      <td>3.914179</td>\n",
       "    </tr>\n",
       "    <tr>\n",
       "      <th>final.output.concentrate_ag</th>\n",
       "      <td>5.16847</td>\n",
       "    </tr>\n",
       "    <tr>\n",
       "      <th>final.output.concentrate_pb</th>\n",
       "      <td>9.978895</td>\n",
       "    </tr>\n",
       "    <tr>\n",
       "      <th>final.output.concentrate_au</th>\n",
       "      <td>44.076513</td>\n",
       "    </tr>\n",
       "    <tr>\n",
       "      <th>secondary_cleaner.output.tail_ag</th>\n",
       "      <td>14.586833</td>\n",
       "    </tr>\n",
       "    <tr>\n",
       "      <th>secondary_cleaner.output.tail_pb</th>\n",
       "      <td>5.777703</td>\n",
       "    </tr>\n",
       "    <tr>\n",
       "      <th>secondary_cleaner.output.tail_au</th>\n",
       "      <td>4.339625</td>\n",
       "    </tr>\n",
       "    <tr>\n",
       "      <th>rougher.input.feed_ag</th>\n",
       "      <td>8.794927</td>\n",
       "    </tr>\n",
       "    <tr>\n",
       "      <th>rougher.input.feed_au</th>\n",
       "      <td>8.266097</td>\n",
       "    </tr>\n",
       "    <tr>\n",
       "      <th>rougher.input.feed_pb</th>\n",
       "      <td>3.598085</td>\n",
       "    </tr>\n",
       "  </tbody>\n",
       "</table>\n",
       "</div>"
      ],
      "text/plain": [
       "                                      mean_value\n",
       "rougher.output.concentrate_ag          11.994759\n",
       "rougher.output.concentrate_pb           7.606272\n",
       "rougher.output.concentrate_au             19.772\n",
       "rougher.output.tail_ag                  5.588982\n",
       "rougher.output.tail_pb                  0.645782\n",
       "rougher.output.tail_au                  1.816391\n",
       "primary_cleaner.output.concentrate_ag   8.442408\n",
       "primary_cleaner.output.concentrate_pb    9.82953\n",
       "primary_cleaner.output.concentrate_au    32.1194\n",
       "primary_cleaner.output.tail_ag         16.145826\n",
       "primary_cleaner.output.tail_pb          3.435656\n",
       "primary_cleaner.output.tail_au          3.914179\n",
       "final.output.concentrate_ag              5.16847\n",
       "final.output.concentrate_pb             9.978895\n",
       "final.output.concentrate_au            44.076513\n",
       "secondary_cleaner.output.tail_ag       14.586833\n",
       "secondary_cleaner.output.tail_pb        5.777703\n",
       "secondary_cleaner.output.tail_au        4.339625\n",
       "rougher.input.feed_ag                   8.794927\n",
       "rougher.input.feed_au                   8.266097\n",
       "rougher.input.feed_pb                   3.598085"
      ]
     },
     "execution_count": 34,
     "metadata": {},
     "output_type": "execute_result"
    }
   ],
   "source": [
    "#запишем в таблицу средние значения концентрации металлов\n",
    "metal_concentration = pd.DataFrame(data_full_copy.loc['mean_value', change_columns])\n",
    "metal_concentration"
   ]
  },
  {
   "cell_type": "code",
   "execution_count": 35,
   "metadata": {},
   "outputs": [
    {
     "data": {
      "text/html": [
       "<div>\n",
       "<style scoped>\n",
       "    .dataframe tbody tr th:only-of-type {\n",
       "        vertical-align: middle;\n",
       "    }\n",
       "\n",
       "    .dataframe tbody tr th {\n",
       "        vertical-align: top;\n",
       "    }\n",
       "\n",
       "    .dataframe thead th {\n",
       "        text-align: right;\n",
       "    }\n",
       "</style>\n",
       "<table border=\"1\" class=\"dataframe\">\n",
       "  <thead>\n",
       "    <tr style=\"text-align: right;\">\n",
       "      <th></th>\n",
       "      <th>Этап</th>\n",
       "      <th>Au</th>\n",
       "      <th>Ag</th>\n",
       "      <th>Pb</th>\n",
       "    </tr>\n",
       "  </thead>\n",
       "  <tbody>\n",
       "    <tr>\n",
       "      <th>0</th>\n",
       "      <td>Исходное сырьё</td>\n",
       "      <td>8.266097</td>\n",
       "      <td>8.794927</td>\n",
       "      <td>3.598085</td>\n",
       "    </tr>\n",
       "    <tr>\n",
       "      <th>1</th>\n",
       "      <td>Флотация</td>\n",
       "      <td>19.772000</td>\n",
       "      <td>11.994759</td>\n",
       "      <td>7.606272</td>\n",
       "    </tr>\n",
       "    <tr>\n",
       "      <th>2</th>\n",
       "      <td>Первый этап очистки</td>\n",
       "      <td>32.119400</td>\n",
       "      <td>8.442408</td>\n",
       "      <td>9.829530</td>\n",
       "    </tr>\n",
       "    <tr>\n",
       "      <th>3</th>\n",
       "      <td>Второй этап очистки</td>\n",
       "      <td>44.076513</td>\n",
       "      <td>5.168470</td>\n",
       "      <td>9.978895</td>\n",
       "    </tr>\n",
       "  </tbody>\n",
       "</table>\n",
       "</div>"
      ],
      "text/plain": [
       "                  Этап         Au         Ag        Pb\n",
       "0       Исходное сырьё   8.266097   8.794927  3.598085\n",
       "1             Флотация  19.772000  11.994759  7.606272\n",
       "2  Первый этап очистки  32.119400   8.442408  9.829530\n",
       "3  Второй этап очистки  44.076513   5.168470  9.978895"
      ]
     },
     "execution_count": 35,
     "metadata": {},
     "output_type": "execute_result"
    }
   ],
   "source": [
    "#Создадим таблицу для отображения концентрации металлов в концентрате на различных этапах очистки\n",
    "concentrate = pd.DataFrame({\"Этап\": [\"Исходное сырьё\", \"Флотация\", \"Первый этап очистки\", \"Второй этап очистки\"],\n",
    "                           \"Au\": [metal_concentration.loc['rougher.input.feed_au', 'mean_value'], metal_concentration.loc['rougher.output.concentrate_au', 'mean_value'], metal_concentration.loc['primary_cleaner.output.concentrate_au', 'mean_value'], metal_concentration.loc['final.output.concentrate_au', 'mean_value']],\n",
    "                           \"Ag\": [metal_concentration.loc['rougher.input.feed_ag', 'mean_value'], metal_concentration.loc['rougher.output.concentrate_ag', 'mean_value'], metal_concentration.loc['primary_cleaner.output.concentrate_ag', 'mean_value'], metal_concentration.loc['final.output.concentrate_ag', 'mean_value']],\n",
    "                           \"Pb\": [metal_concentration.loc['rougher.input.feed_pb', 'mean_value'], metal_concentration.loc['rougher.output.concentrate_pb', 'mean_value'], metal_concentration.loc['primary_cleaner.output.concentrate_pb', 'mean_value'], metal_concentration.loc['final.output.concentrate_pb', 'mean_value']]\n",
    "                           }) \n",
    "concentrate"
   ]
  },
  {
   "cell_type": "code",
   "execution_count": 36,
   "metadata": {},
   "outputs": [
    {
     "data": {
      "text/plain": [
       "<AxesSubplot:title={'center':'Изменение концентрации металлов в концентрате'}, xlabel='Этапы очистки', ylabel='Концентрация металлов'>"
      ]
     },
     "execution_count": 36,
     "metadata": {},
     "output_type": "execute_result"
    },
    {
     "data": {
      "image/png": "[encoded data removed]",
      "text/plain": [
       "<Figure size 576x360 with 1 Axes>"
      ]
     },
     "metadata": {
      "needs_background": "light"
     },
     "output_type": "display_data"
    }
   ],
   "source": [
    "concentrate.plot(figsize=(8,5), xlabel=\"Этапы очистки\", ylabel=\"Концентрация металлов\", title=\"Изменение концентрации металлов в концентрате\")"
   ]
  },
  {
   "cell_type": "code",
   "execution_count": 37,
   "metadata": {},
   "outputs": [
    {
     "data": {
      "text/html": [
       "<div>\n",
       "<style scoped>\n",
       "    .dataframe tbody tr th:only-of-type {\n",
       "        vertical-align: middle;\n",
       "    }\n",
       "\n",
       "    .dataframe tbody tr th {\n",
       "        vertical-align: top;\n",
       "    }\n",
       "\n",
       "    .dataframe thead th {\n",
       "        text-align: right;\n",
       "    }\n",
       "</style>\n",
       "<table border=\"1\" class=\"dataframe\">\n",
       "  <thead>\n",
       "    <tr style=\"text-align: right;\">\n",
       "      <th></th>\n",
       "      <th>Этап</th>\n",
       "      <th>Au</th>\n",
       "      <th>Ag</th>\n",
       "      <th>Pb</th>\n",
       "    </tr>\n",
       "  </thead>\n",
       "  <tbody>\n",
       "    <tr>\n",
       "      <th>0</th>\n",
       "      <td>Исходное сырье</td>\n",
       "      <td>8.266097</td>\n",
       "      <td>8.794927</td>\n",
       "      <td>3.598085</td>\n",
       "    </tr>\n",
       "    <tr>\n",
       "      <th>1</th>\n",
       "      <td>Флотация</td>\n",
       "      <td>1.816391</td>\n",
       "      <td>5.588982</td>\n",
       "      <td>0.645782</td>\n",
       "    </tr>\n",
       "    <tr>\n",
       "      <th>2</th>\n",
       "      <td>Первый этап очистки</td>\n",
       "      <td>3.914179</td>\n",
       "      <td>16.145826</td>\n",
       "      <td>3.435656</td>\n",
       "    </tr>\n",
       "    <tr>\n",
       "      <th>3</th>\n",
       "      <td>Второй этап очистки</td>\n",
       "      <td>4.339625</td>\n",
       "      <td>14.586833</td>\n",
       "      <td>5.777703</td>\n",
       "    </tr>\n",
       "  </tbody>\n",
       "</table>\n",
       "</div>"
      ],
      "text/plain": [
       "                  Этап        Au         Ag        Pb\n",
       "0       Исходное сырье  8.266097   8.794927  3.598085\n",
       "1             Флотация  1.816391   5.588982  0.645782\n",
       "2  Первый этап очистки  3.914179  16.145826  3.435656\n",
       "3  Второй этап очистки  4.339625  14.586833  5.777703"
      ]
     },
     "execution_count": 37,
     "metadata": {},
     "output_type": "execute_result"
    }
   ],
   "source": [
    "#Создадим таблицу для отображения концентрации металлов в отвальных хвостах на различных этапах очистки\n",
    "tail = pd.DataFrame({\"Этап\": [\"Исходное сырье\", \"Флотация\", \"Первый этап очистки\", \"Второй этап очистки\"],\n",
    "                           \"Au\": [metal_concentration.loc['rougher.input.feed_au', 'mean_value'], metal_concentration.loc['rougher.output.tail_au', 'mean_value'], metal_concentration.loc['primary_cleaner.output.tail_au', 'mean_value'], metal_concentration.loc['secondary_cleaner.output.tail_au', 'mean_value']],\n",
    "                           \"Ag\": [metal_concentration.loc['rougher.input.feed_ag', 'mean_value'], metal_concentration.loc['rougher.output.tail_ag', 'mean_value'], metal_concentration.loc['primary_cleaner.output.tail_ag', 'mean_value'], metal_concentration.loc['secondary_cleaner.output.tail_ag', 'mean_value']],\n",
    "                           \"Pb\": [metal_concentration.loc['rougher.input.feed_pb', 'mean_value'], metal_concentration.loc['rougher.output.tail_pb', 'mean_value'], metal_concentration.loc['primary_cleaner.output.tail_pb', 'mean_value'], metal_concentration.loc['secondary_cleaner.output.tail_pb', 'mean_value']]\n",
    "                           }) \n",
    "tail"
   ]
  },
  {
   "cell_type": "code",
   "execution_count": 38,
   "metadata": {},
   "outputs": [
    {
     "data": {
      "text/plain": [
       "<AxesSubplot:title={'center':'Изменение концентрации металлов в отвальных хвостах'}, xlabel='Этапы очистки', ylabel='Концентрация металлов'>"
      ]
     },
     "execution_count": 38,
     "metadata": {},
     "output_type": "execute_result"
    },
    {
     "data": {
      "image/png": "[encoded data removed]",
      "text/plain": [
       "<Figure size 576x360 with 1 Axes>"
      ]
     },
     "metadata": {
      "needs_background": "light"
     },
     "output_type": "display_data"
    }
   ],
   "source": [
    "tail.plot(figsize=(8,5), xlabel=\"Этапы очистки\", ylabel=\"Концентрация металлов\", title=\"Изменение концентрации металлов в отвальных хвостах\")"
   ]
  },
  {
   "cell_type": "markdown",
   "metadata": {},
   "source": [
    "<div class=\"alert alert-block alert-info\">\n",
    "Концентрация золота в концентрате увеличивается с каждым этапом очистки, концентрация серебра снчала увеличивается, потом снижается, свинца-немного увеличивается.\n",
    "    \n",
    "\n",
    "    \n",
    "В отвальных хвостах, после флотации концентрация всех металлов уменьшается, дальше с каждым этапом концентрация свинца увеличивается, серебра - сначала резко увеличивается, потом снижается, концентрация золота увеличивается незначительно и находится на низком уровне.\n",
    "</div>    "
   ]
  },
  {
   "cell_type": "markdown",
   "metadata": {},
   "source": [
    "### Сравнение распределений размеров гранул сырья на обучающей и тестовой выборках"
   ]
  },
  {
   "cell_type": "code",
   "execution_count": 39,
   "metadata": {},
   "outputs": [
    {
     "name": "stdout",
     "output_type": "stream",
     "text": [
      "['primary_cleaner.input.feed_size', 'rougher.input.feed_size']\n",
      "['primary_cleaner.input.feed_size', 'rougher.input.feed_size']\n"
     ]
    }
   ],
   "source": [
    "#Выделим поля с значениями гранул сырья на обучающей и тестовой выборках\n",
    "names_feedsize_train = []\n",
    "names_feedsize_test = []\n",
    "pattern = r\".*feed_size\"\n",
    "for name in data_train.columns:\n",
    "    match_obj = re.findall(pattern, name)\n",
    "    if len(match_obj) > 0:\n",
    "        names_feedsize_train.append(match_obj)\n",
    "for name in data_test.columns:\n",
    "    match_obj = re.findall(pattern, name)\n",
    "    if len(match_obj) > 0:\n",
    "        names_feedsize_test.append(match_obj)\n",
    "names_feedsize_train = [a for b in names_feedsize_train for a in b]\n",
    "names_feedsize_test = [a for b in names_feedsize_test for a in b]\n",
    "print(names_feedsize_train)\n",
    "print(names_feedsize_test)"
   ]
  },
  {
   "cell_type": "code",
   "execution_count": 40,
   "metadata": {},
   "outputs": [
    {
     "data": {
      "text/plain": [
       "<AxesSubplot:title={'center':'Распределения размеров гранул сырья на обучающей и тестовой выборках на этапе флотации'}, ylabel='Frequency'>"
      ]
     },
     "execution_count": 40,
     "metadata": {},
     "output_type": "execute_result"
    },
    {
     "data": {
      "image/png": "[encoded data removed]",
      "text/plain": [
       "<Figure size 720x504 with 1 Axes>"
      ]
     },
     "metadata": {
      "needs_background": "light"
     },
     "output_type": "display_data"
    }
   ],
   "source": [
    "#Построим графики распеределений размеров гранул сырья на обучающей и тестовой выборках на этапе флотации\n",
    "ax = data_train.plot(\n",
    "    kind='hist', \n",
    "    y='rougher.input.feed_size', \n",
    "    bins=50, \n",
    "    range=(0,150), \n",
    "    figsize=(10,7), \n",
    "    alpha=0.7, \n",
    "    label=\"Размер гранул сырья обучающей выборки\", \n",
    "    title=\"Распределения размеров гранул сырья на обучающей и тестовой выборках на этапе флотации\",\n",
    ")\n",
    "data_test.plot(\n",
    "    kind=\"hist\",\n",
    "    y='rougher.input.feed_size',\n",
    "    bins=50,\n",
    "    range=(0,150),\n",
    "    ax=ax,\n",
    "    label='Размер гранул сырья тестовой выборки',\n",
    "    alpha=0.7\n",
    ")"
   ]
  },
  {
   "cell_type": "code",
   "execution_count": 41,
   "metadata": {},
   "outputs": [
    {
     "data": {
      "text/plain": [
       "<AxesSubplot:title={'center':'Распределение размера гранул сырья на обучающей и тестовой выборках на этапе первичной очистки'}, ylabel='Frequency'>"
      ]
     },
     "execution_count": 41,
     "metadata": {},
     "output_type": "execute_result"
    },
    {
     "data": {
      "image/png": "[encoded data removed]",
      "text/plain": [
       "<Figure size 720x504 with 1 Axes>"
      ]
     },
     "metadata": {
      "needs_background": "light"
     },
     "output_type": "display_data"
    }
   ],
   "source": [
    "#Построим графики распеределений размеров гранул сырья на обучающей и тестовой выборках на этапе первичной очистки\n",
    "ax = data_train.plot(\n",
    "    kind=\"hist\",\n",
    "    y='primary_cleaner.input.feed_size',\n",
    "    title=\"Распределение размера гранул сырья на обучающей и тестовой выборках на этапе первичной очистки\",\n",
    "    bins=50,\n",
    "    range=(4,10),\n",
    "    figsize=(10,7),\n",
    "    label=\"Размер гранул сырья на обучающей выборке\",\n",
    "    legend=True,\n",
    "    alpha=0.8,\n",
    ")\n",
    "data_test.plot(\n",
    "    kind=\"hist\",\n",
    "    y='primary_cleaner.input.feed_size', \n",
    "    ax=ax,\n",
    "    alpha=0.5,\n",
    "    bins=50,\n",
    "    range=(4,11),\n",
    "    label='Размер гранул сырья на тестовой выборке'\n",
    ")"
   ]
  },
  {
   "cell_type": "markdown",
   "metadata": {},
   "source": [
    "<div class=\"alert alert-block alert-info\">\n",
    "    Распределения гранул сырья обучающей и тестовой выборок на этапе флотации и на этапе первичной очистки примерно похожи.\n",
    "    Распределние на этапе флотации похоже на распределение Пуассона и скошено вправо, на этапе первичной очистки близко к нормальному."
   ]
  },
  {
   "cell_type": "markdown",
   "metadata": {},
   "source": [
    "### Исследование суммарной концентрации всех веществ на разных стадиях: в сырье, черновом и финальных концентратах"
   ]
  },
  {
   "cell_type": "code",
   "execution_count": 42,
   "metadata": {},
   "outputs": [
    {
     "name": "stdout",
     "output_type": "stream",
     "text": [
      "['rougher.input.feed_ag', 'rougher.input.feed_pb', 'rougher.input.feed_sol', 'rougher.input.feed_au']\n"
     ]
    }
   ],
   "source": [
    "#Выделим сначала признаки с концентрацией веществ в сырье\n",
    "names_rougher_input = []\n",
    "pattern = r'rougher.input.feed.*'\n",
    "for name in data_full.columns:\n",
    "    match_obj = re.findall(pattern, name)\n",
    "    if len(match_obj) > 0:\n",
    "        names_rougher_input.append(match_obj)\n",
    "names_rougher_input = [a for b in names_rougher_input for a in b]\n",
    "names_rougher_input = [name for name in names_rougher_input if (name != 'rougher.input.feed_rate') & (name != 'rougher.input.feed_size')]\n",
    "print(names_rougher_input)        "
   ]
  },
  {
   "cell_type": "code",
   "execution_count": 43,
   "metadata": {},
   "outputs": [],
   "source": [
    "#Выделим признаки с концентрацией веществ в черновом концентрате и финальном концентрате\n",
    "names_rougher_output = ['rougher.output.concentrate_ag', 'rougher.output.concentrate_pb', 'rougher.output.concentrate_sol', 'rougher.output.concentrate_au']\n",
    "names_final_output = ['final.output.concentrate_ag', 'final.output.concentrate_pb', 'final.output.concentrate_sol', 'final.output.concentrate_au']"
   ]
  },
  {
   "cell_type": "code",
   "execution_count": 44,
   "metadata": {},
   "outputs": [],
   "source": [
    "#объединим все необходимые поля\n",
    "names_concentration = names_rougher_input + names_rougher_output + names_final_output"
   ]
  },
  {
   "cell_type": "code",
   "execution_count": 45,
   "metadata": {},
   "outputs": [],
   "source": [
    "data_full_copy.loc['sum_value'] = data_full.sum()"
   ]
  },
  {
   "cell_type": "code",
   "execution_count": 46,
   "metadata": {},
   "outputs": [
    {
     "data": {
      "text/html": [
       "<div>\n",
       "<style scoped>\n",
       "    .dataframe tbody tr th:only-of-type {\n",
       "        vertical-align: middle;\n",
       "    }\n",
       "\n",
       "    .dataframe tbody tr th {\n",
       "        vertical-align: top;\n",
       "    }\n",
       "\n",
       "    .dataframe thead th {\n",
       "        text-align: right;\n",
       "    }\n",
       "</style>\n",
       "<table border=\"1\" class=\"dataframe\">\n",
       "  <thead>\n",
       "    <tr style=\"text-align: right;\">\n",
       "      <th></th>\n",
       "      <th>sum_value</th>\n",
       "    </tr>\n",
       "  </thead>\n",
       "  <tbody>\n",
       "    <tr>\n",
       "      <th>rougher.input.feed_ag</th>\n",
       "      <td>170964.59423</td>\n",
       "    </tr>\n",
       "    <tr>\n",
       "      <th>rougher.input.feed_pb</th>\n",
       "      <td>69583.365339</td>\n",
       "    </tr>\n",
       "    <tr>\n",
       "      <th>rougher.input.feed_sol</th>\n",
       "      <td>709683.511837</td>\n",
       "    </tr>\n",
       "    <tr>\n",
       "      <th>rougher.input.feed_au</th>\n",
       "      <td>160684.665932</td>\n",
       "    </tr>\n",
       "    <tr>\n",
       "      <th>rougher.output.concentrate_ag</th>\n",
       "      <td>233166.127197</td>\n",
       "    </tr>\n",
       "    <tr>\n",
       "      <th>rougher.output.concentrate_pb</th>\n",
       "      <td>147858.327496</td>\n",
       "    </tr>\n",
       "    <tr>\n",
       "      <th>rougher.output.concentrate_sol</th>\n",
       "      <td>559288.961404</td>\n",
       "    </tr>\n",
       "    <tr>\n",
       "      <th>rougher.output.concentrate_au</th>\n",
       "      <td>384347.910711</td>\n",
       "    </tr>\n",
       "    <tr>\n",
       "      <th>final.output.concentrate_ag</th>\n",
       "      <td>100464.727124</td>\n",
       "    </tr>\n",
       "    <tr>\n",
       "      <th>final.output.concentrate_pb</th>\n",
       "      <td>193969.759284</td>\n",
       "    </tr>\n",
       "    <tr>\n",
       "      <th>final.output.concentrate_sol</th>\n",
       "      <td>182689.538841</td>\n",
       "    </tr>\n",
       "    <tr>\n",
       "      <th>final.output.concentrate_au</th>\n",
       "      <td>856803.335079</td>\n",
       "    </tr>\n",
       "  </tbody>\n",
       "</table>\n",
       "</div>"
      ],
      "text/plain": [
       "                                    sum_value\n",
       "rougher.input.feed_ag            170964.59423\n",
       "rougher.input.feed_pb            69583.365339\n",
       "rougher.input.feed_sol          709683.511837\n",
       "rougher.input.feed_au           160684.665932\n",
       "rougher.output.concentrate_ag   233166.127197\n",
       "rougher.output.concentrate_pb   147858.327496\n",
       "rougher.output.concentrate_sol  559288.961404\n",
       "rougher.output.concentrate_au   384347.910711\n",
       "final.output.concentrate_ag     100464.727124\n",
       "final.output.concentrate_pb     193969.759284\n",
       "final.output.concentrate_sol    182689.538841\n",
       "final.output.concentrate_au     856803.335079"
      ]
     },
     "execution_count": 46,
     "metadata": {},
     "output_type": "execute_result"
    }
   ],
   "source": [
    "concentration = pd.DataFrame(data_full_copy.loc['sum_value', names_concentration])\n",
    "concentration"
   ]
  },
  {
   "cell_type": "code",
   "execution_count": 47,
   "metadata": {},
   "outputs": [
    {
     "data": {
      "text/html": [
       "<div>\n",
       "<style scoped>\n",
       "    .dataframe tbody tr th:only-of-type {\n",
       "        vertical-align: middle;\n",
       "    }\n",
       "\n",
       "    .dataframe tbody tr th {\n",
       "        vertical-align: top;\n",
       "    }\n",
       "\n",
       "    .dataframe thead th {\n",
       "        text-align: right;\n",
       "    }\n",
       "</style>\n",
       "<table border=\"1\" class=\"dataframe\">\n",
       "  <thead>\n",
       "    <tr style=\"text-align: right;\">\n",
       "      <th></th>\n",
       "      <th>Стадия</th>\n",
       "      <th>Cуммарная концентрация веществ (Ag, Pb, Sol, Au)</th>\n",
       "    </tr>\n",
       "  </thead>\n",
       "  <tbody>\n",
       "    <tr>\n",
       "      <th>0</th>\n",
       "      <td>Cырьё</td>\n",
       "      <td>1110916</td>\n",
       "    </tr>\n",
       "    <tr>\n",
       "      <th>1</th>\n",
       "      <td>Черновой концентрат</td>\n",
       "      <td>1324661</td>\n",
       "    </tr>\n",
       "    <tr>\n",
       "      <th>2</th>\n",
       "      <td>Финальный концентрат</td>\n",
       "      <td>1333927</td>\n",
       "    </tr>\n",
       "  </tbody>\n",
       "</table>\n",
       "</div>"
      ],
      "text/plain": [
       "                 Стадия  Cуммарная концентрация веществ (Ag, Pb, Sol, Au)\n",
       "0                 Cырьё                                           1110916\n",
       "1   Черновой концентрат                                           1324661\n",
       "2  Финальный концентрат                                           1333927"
      ]
     },
     "execution_count": 47,
     "metadata": {},
     "output_type": "execute_result"
    }
   ],
   "source": [
    "total_concentration = pd.DataFrame({\"Стадия\": ['Cырьё', 'Черновой концентрат', 'Финальный концентрат'],\n",
    "                                   \"Cуммарная концентрация веществ (Ag, Pb, Sol, Au)\": [concentration.loc['rougher.input.feed_ag':'rougher.input.feed_au', 'sum_value'].sum(),\n",
    "                                                                                        concentration.loc['rougher.output.concentrate_ag':'rougher.output.concentrate_au', 'sum_value'].sum(),\n",
    "                                                                                        concentration.loc['final.output.concentrate_ag':'final.output.concentrate_au', 'sum_value'].sum()\n",
    "                                                                                       ]\n",
    "                                    })\n",
    "total_concentration['Cуммарная концентрация веществ (Ag, Pb, Sol, Au)'] = total_concentration['Cуммарная концентрация веществ (Ag, Pb, Sol, Au)'].astype(\"int\")\n",
    "total_concentration"
   ]
  },
  {
   "cell_type": "markdown",
   "metadata": {},
   "source": [
    "<div class=\"alert alert-block alert-info\">\n",
    "\n",
    "**Вопрос студента**\n",
    "\n",
    "Можно ли сгруппировать таблицу concentration, по началу названия строк?\n",
    "В данном случае суммировать все строки с названиями, начинающимися на rougher.input.feed, rougher.output.concentrate, final.output.concentrate.\n",
    "Как это можно было бы реализовать?"
   ]
  },
  {
   "cell_type": "code",
   "execution_count": 48,
   "metadata": {},
   "outputs": [
    {
     "data": {
      "image/png": "[encoded data removed]",
      "text/plain": [
       "<Figure size 576x360 with 1 Axes>"
      ]
     },
     "metadata": {
      "needs_background": "light"
     },
     "output_type": "display_data"
    }
   ],
   "source": [
    "total_concentration.plot(\n",
    "    title=\"Суммарная концентрация всех веществ на разных стадиях\",\n",
    "    xlabel=\"Стадия\",\n",
    "    ylabel='Концентрация веществ',\n",
    "    figsize=(8,5)\n",
    ")\n",
    "plt.show()"
   ]
  },
  {
   "cell_type": "markdown",
   "metadata": {},
   "source": [
    "<div class=\"alert alert-block alert-info\">\n",
    "    \n",
    "Концентрация всех веществ в сырье гораздо ниже, чем в черновом и финальном концентратах. В черновом самая высокая концентрация, в финальном практически такая же."
   ]
  },
  {
   "cell_type": "code",
   "execution_count": 49,
   "metadata": {},
   "outputs": [
    {
     "data": {
      "text/html": [
       "<div>\n",
       "<style scoped>\n",
       "    .dataframe tbody tr th:only-of-type {\n",
       "        vertical-align: middle;\n",
       "    }\n",
       "\n",
       "    .dataframe tbody tr th {\n",
       "        vertical-align: top;\n",
       "    }\n",
       "\n",
       "    .dataframe thead th {\n",
       "        text-align: right;\n",
       "    }\n",
       "</style>\n",
       "<table border=\"1\" class=\"dataframe\">\n",
       "  <thead>\n",
       "    <tr style=\"text-align: right;\">\n",
       "      <th></th>\n",
       "      <th>sum_value</th>\n",
       "    </tr>\n",
       "  </thead>\n",
       "  <tbody>\n",
       "    <tr>\n",
       "      <th>rougher.input.feed_ag</th>\n",
       "      <td>170964.59423</td>\n",
       "    </tr>\n",
       "    <tr>\n",
       "      <th>rougher.input.feed_pb</th>\n",
       "      <td>69583.365339</td>\n",
       "    </tr>\n",
       "    <tr>\n",
       "      <th>rougher.input.feed_sol</th>\n",
       "      <td>709683.511837</td>\n",
       "    </tr>\n",
       "    <tr>\n",
       "      <th>rougher.input.feed_au</th>\n",
       "      <td>160684.665932</td>\n",
       "    </tr>\n",
       "    <tr>\n",
       "      <th>rougher.output.concentrate_ag</th>\n",
       "      <td>233166.127197</td>\n",
       "    </tr>\n",
       "    <tr>\n",
       "      <th>rougher.output.concentrate_pb</th>\n",
       "      <td>147858.327496</td>\n",
       "    </tr>\n",
       "    <tr>\n",
       "      <th>rougher.output.concentrate_sol</th>\n",
       "      <td>559288.961404</td>\n",
       "    </tr>\n",
       "    <tr>\n",
       "      <th>rougher.output.concentrate_au</th>\n",
       "      <td>384347.910711</td>\n",
       "    </tr>\n",
       "    <tr>\n",
       "      <th>final.output.concentrate_ag</th>\n",
       "      <td>100464.727124</td>\n",
       "    </tr>\n",
       "    <tr>\n",
       "      <th>final.output.concentrate_pb</th>\n",
       "      <td>193969.759284</td>\n",
       "    </tr>\n",
       "    <tr>\n",
       "      <th>final.output.concentrate_sol</th>\n",
       "      <td>182689.538841</td>\n",
       "    </tr>\n",
       "    <tr>\n",
       "      <th>final.output.concentrate_au</th>\n",
       "      <td>856803.335079</td>\n",
       "    </tr>\n",
       "  </tbody>\n",
       "</table>\n",
       "</div>"
      ],
      "text/plain": [
       "                                    sum_value\n",
       "rougher.input.feed_ag            170964.59423\n",
       "rougher.input.feed_pb            69583.365339\n",
       "rougher.input.feed_sol          709683.511837\n",
       "rougher.input.feed_au           160684.665932\n",
       "rougher.output.concentrate_ag   233166.127197\n",
       "rougher.output.concentrate_pb   147858.327496\n",
       "rougher.output.concentrate_sol  559288.961404\n",
       "rougher.output.concentrate_au   384347.910711\n",
       "final.output.concentrate_ag     100464.727124\n",
       "final.output.concentrate_pb     193969.759284\n",
       "final.output.concentrate_sol    182689.538841\n",
       "final.output.concentrate_au     856803.335079"
      ]
     },
     "execution_count": 49,
     "metadata": {},
     "output_type": "execute_result"
    }
   ],
   "source": [
    "concentration"
   ]
  },
  {
   "cell_type": "code",
   "execution_count": 50,
   "metadata": {},
   "outputs": [],
   "source": [
    "df1 = concentration.loc[[i for i in concentration.index if 'rougher.input.feed_' in i ]]\n",
    "df1.columns = [\"rougher.input.feed\"]\n",
    "df1.index = ['ag', 'pb', 'sol', 'au']"
   ]
  },
  {
   "cell_type": "code",
   "execution_count": 51,
   "metadata": {},
   "outputs": [],
   "source": [
    "df2 = concentration.loc[[i for i in concentration.index if 'rougher.output.concentrate_' in i ]]\n",
    "df2.columns = [\"rougher.output.concentrate\"]\n",
    "df2.index = ['ag', 'pb', 'sol', 'au']"
   ]
  },
  {
   "cell_type": "code",
   "execution_count": 52,
   "metadata": {},
   "outputs": [],
   "source": [
    "df3 = concentration.loc[[i for i in concentration.index if 'final.output.concentrate_' in i ]]\n",
    "df3.columns = [\"final.output.concentrate\"]\n",
    "df3.index = ['ag', 'pb', 'sol', 'au']"
   ]
  },
  {
   "cell_type": "code",
   "execution_count": 53,
   "metadata": {},
   "outputs": [],
   "source": [
    "df = df1.join([df2, df3])"
   ]
  },
  {
   "cell_type": "code",
   "execution_count": 54,
   "metadata": {},
   "outputs": [
    {
     "data": {
      "text/html": [
       "<div>\n",
       "<style scoped>\n",
       "    .dataframe tbody tr th:only-of-type {\n",
       "        vertical-align: middle;\n",
       "    }\n",
       "\n",
       "    .dataframe tbody tr th {\n",
       "        vertical-align: top;\n",
       "    }\n",
       "\n",
       "    .dataframe thead th {\n",
       "        text-align: right;\n",
       "    }\n",
       "</style>\n",
       "<table border=\"1\" class=\"dataframe\">\n",
       "  <thead>\n",
       "    <tr style=\"text-align: right;\">\n",
       "      <th></th>\n",
       "      <th>rougher.input.feed</th>\n",
       "      <th>rougher.output.concentrate</th>\n",
       "      <th>final.output.concentrate</th>\n",
       "    </tr>\n",
       "  </thead>\n",
       "  <tbody>\n",
       "    <tr>\n",
       "      <th>ag</th>\n",
       "      <td>170964.59423</td>\n",
       "      <td>233166.127197</td>\n",
       "      <td>100464.727124</td>\n",
       "    </tr>\n",
       "    <tr>\n",
       "      <th>pb</th>\n",
       "      <td>69583.365339</td>\n",
       "      <td>147858.327496</td>\n",
       "      <td>193969.759284</td>\n",
       "    </tr>\n",
       "    <tr>\n",
       "      <th>sol</th>\n",
       "      <td>709683.511837</td>\n",
       "      <td>559288.961404</td>\n",
       "      <td>182689.538841</td>\n",
       "    </tr>\n",
       "    <tr>\n",
       "      <th>au</th>\n",
       "      <td>160684.665932</td>\n",
       "      <td>384347.910711</td>\n",
       "      <td>856803.335079</td>\n",
       "    </tr>\n",
       "  </tbody>\n",
       "</table>\n",
       "</div>"
      ],
      "text/plain": [
       "    rougher.input.feed rougher.output.concentrate final.output.concentrate\n",
       "ag        170964.59423              233166.127197            100464.727124\n",
       "pb        69583.365339              147858.327496            193969.759284\n",
       "sol      709683.511837              559288.961404            182689.538841\n",
       "au       160684.665932              384347.910711            856803.335079"
      ]
     },
     "execution_count": 54,
     "metadata": {},
     "output_type": "execute_result"
    }
   ],
   "source": [
    "df"
   ]
  },
  {
   "cell_type": "code",
   "execution_count": 55,
   "metadata": {},
   "outputs": [
    {
     "name": "stdout",
     "output_type": "stream",
     "text": [
      "rougher.input.feed\n"
     ]
    },
    {
     "data": {
      "image/png": "[encoded data removed]",
      "text/plain": [
       "<Figure size 432x288 with 1 Axes>"
      ]
     },
     "metadata": {
      "needs_background": "light"
     },
     "output_type": "display_data"
    },
    {
     "name": "stdout",
     "output_type": "stream",
     "text": [
      "rougher.output.concentrate\n"
     ]
    },
    {
     "data": {
      "image/png": "[encoded data removed]",
      "text/plain": [
       "<Figure size 432x288 with 1 Axes>"
      ]
     },
     "metadata": {
      "needs_background": "light"
     },
     "output_type": "display_data"
    },
    {
     "name": "stdout",
     "output_type": "stream",
     "text": [
      "final.output.concentrate\n"
     ]
    },
    {
     "data": {
      "image/png": "[encoded data removed]",
      "text/plain": [
       "<Figure size 432x288 with 1 Axes>"
      ]
     },
     "metadata": {
      "needs_background": "light"
     },
     "output_type": "display_data"
    }
   ],
   "source": [
    "for name in df.columns:\n",
    "    df[name].hist()\n",
    "    print(name)\n",
    "    plt.show()"
   ]
  },
  {
   "cell_type": "markdown",
   "metadata": {},
   "source": [
    "<div class=\"alert alert-block alert-info\">\n",
    "<h2> Комментарий студента <a class=\"tocSkip\"></h2>\n",
    "\n",
    "Исправила, но немного непонятно, правильно ли я сделала. Но можно сказать, что первая и третья гистограммы похожи, а вот вторая отличается. Каким образом по этим графиками почистить аномалии пока непонятно...  "
   ]
  },
  {
   "cell_type": "code",
   "execution_count": 56,
   "metadata": {},
   "outputs": [],
   "source": [
    "stages = ['rougher.input.feed', 'rougher.output.concentrate', 'primary_cleaner.output.concentrate', 'final.output.concentrate']\n",
    "def total_concentation_rougher_input_feed(row):\n",
    "    value = row[\"rougher.input.feed_au\"] + row[\"rougher.input.feed_ag\"] + row[\"rougher.input.feed_pb\"] + row[\"rougher.input.feed_sol\"]\n",
    "    return value\n",
    "def total_concentation_rougher_output_concentrate(row):\n",
    "    value = row[\"rougher.output.concentrate_au\"] + row[\"rougher.output.concentrate_ag\"] + row[\"rougher.output.concentrate_pb\"] + row[\"rougher.output.concentrate_sol\"]\n",
    "    return value\n",
    "def total_concentation_primary_cleaner_output_concentrate(row):\n",
    "    value = row[\"primary_cleaner.output.concentrate_au\"] + row[\"primary_cleaner.output.concentrate_ag\"] + row[\"primary_cleaner.output.concentrate_pb\"] + row[\"primary_cleaner.output.concentrate_sol\"]\n",
    "    return value\n",
    "def total_concentation_final_output_concentrate(row):\n",
    "    value = row[\"final.output.concentrate_au\"] + row[\"final.output.concentrate_ag\"] + row[\"final.output.concentrate_pb\"] + row[\"final.output.concentrate_sol\"]\n",
    "    return value"
   ]
  },
  {
   "cell_type": "code",
   "execution_count": 57,
   "metadata": {},
   "outputs": [],
   "source": [
    "for stage in stages:\n",
    "    if stage == 'rougher.input.feed':\n",
    "        data_full[stage + \"_sum\"] = data_full.apply(total_concentation_rougher_input_feed, axis=1)\n",
    "    elif stage == 'rougher.output.concentrate':\n",
    "        data_full[stage + \"_sum\"] = data_full.apply(total_concentation_rougher_output_concentrate, axis=1)\n",
    "    elif stage == 'primary_cleaner.output.concentrate':\n",
    "        data_full[stage + \"_sum\"] = data_full.apply(total_concentation_primary_cleaner_output_concentrate, axis=1)\n",
    "    else:\n",
    "        data_full[stage + \"_sum\"] = data_full.apply(total_concentation_final_output_concentrate, axis=1)"
   ]
  },
  {
   "cell_type": "code",
   "execution_count": 58,
   "metadata": {},
   "outputs": [
    {
     "data": {
      "text/html": [
       "<div>\n",
       "<style scoped>\n",
       "    .dataframe tbody tr th:only-of-type {\n",
       "        vertical-align: middle;\n",
       "    }\n",
       "\n",
       "    .dataframe tbody tr th {\n",
       "        vertical-align: top;\n",
       "    }\n",
       "\n",
       "    .dataframe thead th {\n",
       "        text-align: right;\n",
       "    }\n",
       "</style>\n",
       "<table border=\"1\" class=\"dataframe\">\n",
       "  <thead>\n",
       "    <tr style=\"text-align: right;\">\n",
       "      <th></th>\n",
       "      <th>rougher.input.feed_au</th>\n",
       "      <th>rougher.input.feed_ag</th>\n",
       "      <th>rougher.input.feed_pb</th>\n",
       "      <th>rougher.input.feed_sol</th>\n",
       "      <th>rougher.input.feed_sum</th>\n",
       "    </tr>\n",
       "  </thead>\n",
       "  <tbody>\n",
       "    <tr>\n",
       "      <th>0</th>\n",
       "      <td>6.486150</td>\n",
       "      <td>6.100378</td>\n",
       "      <td>2.284912</td>\n",
       "      <td>36.808594</td>\n",
       "      <td>51.680034</td>\n",
       "    </tr>\n",
       "    <tr>\n",
       "      <th>1</th>\n",
       "      <td>6.478583</td>\n",
       "      <td>6.161113</td>\n",
       "      <td>2.266033</td>\n",
       "      <td>35.753385</td>\n",
       "      <td>50.659114</td>\n",
       "    </tr>\n",
       "    <tr>\n",
       "      <th>2</th>\n",
       "      <td>6.362222</td>\n",
       "      <td>6.116455</td>\n",
       "      <td>2.159622</td>\n",
       "      <td>35.971630</td>\n",
       "      <td>50.609929</td>\n",
       "    </tr>\n",
       "    <tr>\n",
       "      <th>3</th>\n",
       "      <td>6.118189</td>\n",
       "      <td>6.043309</td>\n",
       "      <td>2.037807</td>\n",
       "      <td>36.862241</td>\n",
       "      <td>51.061546</td>\n",
       "    </tr>\n",
       "    <tr>\n",
       "      <th>4</th>\n",
       "      <td>5.663707</td>\n",
       "      <td>6.060915</td>\n",
       "      <td>1.786875</td>\n",
       "      <td>34.347666</td>\n",
       "      <td>47.859163</td>\n",
       "    </tr>\n",
       "  </tbody>\n",
       "</table>\n",
       "</div>"
      ],
      "text/plain": [
       "   rougher.input.feed_au  rougher.input.feed_ag  rougher.input.feed_pb  \\\n",
       "0               6.486150               6.100378               2.284912   \n",
       "1               6.478583               6.161113               2.266033   \n",
       "2               6.362222               6.116455               2.159622   \n",
       "3               6.118189               6.043309               2.037807   \n",
       "4               5.663707               6.060915               1.786875   \n",
       "\n",
       "   rougher.input.feed_sol  rougher.input.feed_sum  \n",
       "0               36.808594               51.680034  \n",
       "1               35.753385               50.659114  \n",
       "2               35.971630               50.609929  \n",
       "3               36.862241               51.061546  \n",
       "4               34.347666               47.859163  "
      ]
     },
     "execution_count": 58,
     "metadata": {},
     "output_type": "execute_result"
    }
   ],
   "source": [
    "#Проверим на правильность расчетов\n",
    "data_full[['rougher.input.feed_au', 'rougher.input.feed_ag', 'rougher.input.feed_pb', 'rougher.input.feed_sol', 'rougher.input.feed_sum']].head()"
   ]
  },
  {
   "cell_type": "code",
   "execution_count": 59,
   "metadata": {
    "scrolled": true
   },
   "outputs": [
    {
     "data": {
      "image/png": "[encoded data removed]",
      "text/plain": [
       "<Figure size 432x288 with 1 Axes>"
      ]
     },
     "metadata": {
      "needs_background": "light"
     },
     "output_type": "display_data"
    },
    {
     "data": {
      "image/png": "[encoded data removed]",
      "text/plain": [
       "<Figure size 432x288 with 1 Axes>"
      ]
     },
     "metadata": {
      "needs_background": "light"
     },
     "output_type": "display_data"
    },
    {
     "data": {
      "image/png": "[encoded data removed]",
      "text/plain": [
       "<Figure size 432x288 with 1 Axes>"
      ]
     },
     "metadata": {
      "needs_background": "light"
     },
     "output_type": "display_data"
    },
    {
     "data": {
      "image/png": "[encoded data removed]",
      "text/plain": [
       "<Figure size 432x288 with 1 Axes>"
      ]
     },
     "metadata": {
      "needs_background": "light"
     },
     "output_type": "display_data"
    }
   ],
   "source": [
    "sum_features = ['rougher.input.feed_sum', 'rougher.output.concentrate_sum', 'primary_cleaner.output.concentrate_sum', 'final.output.concentrate_sum']\n",
    "for name in sum_features:\n",
    "    sns.histplot(data_full[name])\n",
    "    plt.show()"
   ]
  },
  {
   "cell_type": "code",
   "execution_count": 60,
   "metadata": {},
   "outputs": [],
   "source": [
    "#Удалим аномальные нулевые значения из data_full\n",
    "for name in sum_features:\n",
    "    data_full = data_full[data_full[name] > 0]"
   ]
  },
  {
   "cell_type": "code",
   "execution_count": 61,
   "metadata": {},
   "outputs": [
    {
     "data": {
      "text/plain": [
       "(13694, 31)"
      ]
     },
     "execution_count": 61,
     "metadata": {},
     "output_type": "execute_result"
    }
   ],
   "source": [
    "#Оставим в обучающей выборке только те объекты, которые есть в полной\n",
    "data_train_preprocessed.shape"
   ]
  },
  {
   "cell_type": "code",
   "execution_count": 62,
   "metadata": {},
   "outputs": [],
   "source": [
    "data_train_preprocessed = pd.merge(data_train_preprocessed, data_full['date'])"
   ]
  },
  {
   "cell_type": "code",
   "execution_count": 63,
   "metadata": {},
   "outputs": [
    {
     "data": {
      "text/plain": [
       "(13060, 31)"
      ]
     },
     "execution_count": 63,
     "metadata": {},
     "output_type": "execute_result"
    }
   ],
   "source": [
    "data_train_preprocessed.shape"
   ]
  },
  {
   "cell_type": "markdown",
   "metadata": {},
   "source": [
    "<div class=\"alert alert-block alert-info\">\n",
    "<h2> Комментарий студента <a class=\"tocSkip\"></h2>\n",
    "    \n",
    "    \n",
    "Вроде как разобралась. Спасибо!)"
   ]
  },
  {
   "cell_type": "markdown",
   "metadata": {},
   "source": [
    "## Модель"
   ]
  },
  {
   "cell_type": "markdown",
   "metadata": {},
   "source": [
    "### Функция для вычисления итоговой sMAPE"
   ]
  },
  {
   "cell_type": "code",
   "execution_count": 64,
   "metadata": {},
   "outputs": [],
   "source": [
    "def smape(target, predictions):\n",
    "    smape = (((abs(target - predictions) / ((abs(target) + abs(predictions)) / 2)).sum()) * 100) / len(target)\n",
    "    return smape"
   ]
  },
  {
   "cell_type": "code",
   "execution_count": 65,
   "metadata": {},
   "outputs": [],
   "source": [
    "def smape_total(target_rougher, predictions_rougher, target_final, predictions_final):\n",
    "    final_smape = 0.25 * smape(target_rougher, predictions_rougher) + 0.75 * smape(target_final, predictions_final)\n",
    "    return final_smape"
   ]
  },
  {
   "cell_type": "markdown",
   "metadata": {},
   "source": [
    "### Обучение моделей"
   ]
  },
  {
   "cell_type": "code",
   "execution_count": 66,
   "metadata": {},
   "outputs": [],
   "source": [
    "x_train = data_train_preprocessed.drop(['rougher.output.recovery', 'final.output.recovery', 'date'], axis=1).reset_index(drop=True)\n",
    "y_train1 = data_train_preprocessed['rougher.output.recovery'].reset_index(drop=True)\n",
    "y_train2 = data_train_preprocessed['final.output.recovery'].reset_index(drop=True)"
   ]
  },
  {
   "cell_type": "markdown",
   "metadata": {},
   "source": [
    "**Модель случайного леса с параметрами**"
   ]
  },
  {
   "cell_type": "code",
   "execution_count": 67,
   "metadata": {},
   "outputs": [
    {
     "name": "stdout",
     "output_type": "stream",
     "text": [
      "Fitting 5 folds for each of 1 candidates, totalling 5 fits\n",
      "{'max_depth': 6, 'n_estimators': 40, 'random_state': 12345} 7.505786270437478\n"
     ]
    }
   ],
   "source": [
    "#Подберем параметры для RandomForestRegressor для первого цнелевого признака при помощи GridSearchCV\n",
    "model = RandomForestRegressor()\n",
    "parameters = {\n",
    "    \"max_depth\": [randint(1,15)],\n",
    "    \"random_state\": [random_state],\n",
    "    \"n_estimators\": [randint(1,100)]\n",
    "}\n",
    "clf = GridSearchCV(model, parameters, error_score=\"raise\", verbose=1, scoring=make_scorer(smape, greater_is_better=False))\n",
    "clf.fit(x_train, y_train1)\n",
    "print(clf.best_params_, -clf.best_score_)"
   ]
  },
  {
   "cell_type": "code",
   "execution_count": 68,
   "metadata": {},
   "outputs": [
    {
     "name": "stdout",
     "output_type": "stream",
     "text": [
      "Fitting 5 folds for each of 1 candidates, totalling 5 fits\n",
      "{'max_depth': 7, 'n_estimators': 47, 'random_state': 12345} 9.560684243191272\n"
     ]
    }
   ],
   "source": [
    "#Подберем параметры для RandomForestRegressor для второго целевого признака при помощи GridSearchCV\n",
    "model = RandomForestRegressor()\n",
    "parameters = {\n",
    "    \"max_depth\": [randint(1,15)],\n",
    "    \"random_state\": [random_state],\n",
    "    \"n_estimators\": [randint(1,100)],\n",
    "}\n",
    "clf = GridSearchCV(model, parameters, verbose=1, error_score=\"raise\", scoring=make_scorer(smape, greater_is_better=False))\n",
    "clf.fit(x_train, y_train2)\n",
    "print(clf.best_params_, -clf.best_score_)"
   ]
  },
  {
   "cell_type": "markdown",
   "metadata": {},
   "source": [
    "Для подсчета итогового smape реализуем метод kfold вручную, создадим функцию, которая возвращает обучающую и валидационную выборки:"
   ]
  },
  {
   "cell_type": "code",
   "execution_count": 69,
   "metadata": {},
   "outputs": [],
   "source": [
    "def kfold(features, target):\n",
    "    \n",
    "    sample_size = int(len(features)/5)\n",
    "    for i in range(0, len(features), sample_size):\n",
    "        #запишим массив из индексов для обучающей выборки\n",
    "        valid_indexes = [j for j in range(i, i + sample_size)]\n",
    "        train_indexes = [l for l in range(0, i)] + [k for k in range(i + sample_size, len(features))]\n",
    "\n",
    "        features_train = features.loc[train_indexes]\n",
    "        target_train = target.loc[train_indexes]\n",
    "    \n",
    "        features_valid = features.loc[valid_indexes]\n",
    "        target_valid = target.loc[valid_indexes]\n",
    "        \n",
    "    return features_train, features_valid, target_train, target_valid   "
   ]
  },
  {
   "cell_type": "code",
   "execution_count": 70,
   "metadata": {},
   "outputs": [],
   "source": [
    "features_train1, features_valid1, target_train1, target_valid1 = kfold(x_train, y_train1)\n",
    "features_train2, features_valid2, target_train2, target_valid2 = kfold(x_train, y_train2)"
   ]
  },
  {
   "cell_type": "code",
   "execution_count": 71,
   "metadata": {},
   "outputs": [],
   "source": [
    "model = RandomForestRegressor(max_depth=6, n_estimators=97, random_state=random_state)\n",
    "model.fit(features_train1, target_train1)\n",
    "pred1 = model.predict(features_valid1)"
   ]
  },
  {
   "cell_type": "code",
   "execution_count": 72,
   "metadata": {},
   "outputs": [],
   "source": [
    "model = RandomForestRegressor(max_depth=11, n_estimators=55, random_state=12345)\n",
    "model.fit(features_train2, target_train2)\n",
    "pred2 = model.predict(features_valid2)"
   ]
  },
  {
   "cell_type": "code",
   "execution_count": 73,
   "metadata": {},
   "outputs": [
    {
     "name": "stdout",
     "output_type": "stream",
     "text": [
      "Итоговое smape для модели RandomForest: 9.646489609277069, %\n"
     ]
    }
   ],
   "source": [
    "print(f\"Итоговое smape для модели RandomForest: {smape_total(target_valid1, pred1, target_valid2, pred2)}, %\")"
   ]
  },
  {
   "cell_type": "markdown",
   "metadata": {},
   "source": [
    "**Модель случайного леса без параметров**"
   ]
  },
  {
   "cell_type": "code",
   "execution_count": 74,
   "metadata": {},
   "outputs": [
    {
     "name": "stdout",
     "output_type": "stream",
     "text": [
      "smape: 7.405666082328603\n"
     ]
    }
   ],
   "source": [
    "#Построим 2 модели: модель случайного леса и линейную регрессию и оценим качество при помощи кросс-валидации\n",
    "#Модель случайного леса без параметров для первого целевого признака:\n",
    "model_forest = RandomForestRegressor(random_state=random_state)\n",
    "scores = cross_val_score(model_forest, x_train, y_train1, scoring=make_scorer(smape, greater_is_better=False))\n",
    "final_score = sum(scores) / len(scores)\n",
    "print(\"smape:\", -final_score)"
   ]
  },
  {
   "cell_type": "code",
   "execution_count": 75,
   "metadata": {},
   "outputs": [
    {
     "name": "stdout",
     "output_type": "stream",
     "text": [
      "smape: 9.653387862639908\n"
     ]
    }
   ],
   "source": [
    "#Модель случайного леса без параметров для второго целевого признака:\n",
    "model_forest = RandomForestRegressor(random_state=random_state)\n",
    "scores = cross_val_score(model_forest, x_train, y_train2, scoring=make_scorer(smape, greater_is_better=False))\n",
    "final_score = sum(scores) / len(scores)\n",
    "print(\"smape:\", -final_score)"
   ]
  },
  {
   "cell_type": "code",
   "execution_count": 76,
   "metadata": {},
   "outputs": [
    {
     "name": "stdout",
     "output_type": "stream",
     "text": [
      "Итоговое smape для модели RandomForest без параметров: 9.619618572149232, %\n"
     ]
    }
   ],
   "source": [
    "model = RandomForestRegressor(random_state=random_state)\n",
    "model.fit(features_train1, target_train1)\n",
    "pred1 = model.predict(features_valid1)\n",
    "model.fit(features_train2, target_train2)\n",
    "pred2 = model.predict(features_valid2)\n",
    "print(f\"Итоговое smape для модели RandomForest без параметров: {smape_total(target_valid1, pred1, target_valid2, pred2)}, %\")"
   ]
  },
  {
   "cell_type": "code",
   "execution_count": 77,
   "metadata": {},
   "outputs": [
    {
     "name": "stdout",
     "output_type": "stream",
     "text": [
      "smape: 6.4860209891690515\n"
     ]
    }
   ],
   "source": [
    "#Модель линейной регрессии для первого целевого признака\n",
    "model_linear_regression1 = LinearRegression()\n",
    "scores = cross_val_score(model_linear_regression1, x_train, y_train1, scoring=make_scorer(smape, greater_is_better=False))\n",
    "final_score = sum(scores) / len(scores)\n",
    "print(\"smape:\", -final_score)"
   ]
  },
  {
   "cell_type": "code",
   "execution_count": 78,
   "metadata": {},
   "outputs": [
    {
     "name": "stdout",
     "output_type": "stream",
     "text": [
      "smape: 9.915657512067305\n"
     ]
    }
   ],
   "source": [
    "#Модель линейной регрессии для второго целевого признака\n",
    "model_linear_regression2 = LinearRegression()\n",
    "scores = cross_val_score(model_linear_regression2, x_train, y_train2, scoring=make_scorer(smape, greater_is_better=False))\n",
    "final_score = sum(scores) / len(scores)\n",
    "print(\"smape:\", -final_score)"
   ]
  },
  {
   "cell_type": "code",
   "execution_count": 79,
   "metadata": {},
   "outputs": [
    {
     "name": "stdout",
     "output_type": "stream",
     "text": [
      "Итоговое smape для модели Линейной регрессии: 10.641133433589376, %\n"
     ]
    }
   ],
   "source": [
    "model = LinearRegression()\n",
    "model.fit(features_train1, target_train1)\n",
    "pred1 = model.predict(features_valid1)\n",
    "model.fit(features_train2, target_train2)\n",
    "pred2 = model.predict(features_valid2)\n",
    "print(f\"Итоговое smape для модели Линейной регрессии: {smape_total(target_valid1, pred1, target_valid2, pred2)}, %\")"
   ]
  },
  {
   "cell_type": "markdown",
   "metadata": {},
   "source": [
    "<div class=\"alert alert-block alert-info\">\n",
    "Наилучшие модели по итоговой метрике smape  - это модель случайного леса без параметров."
   ]
  },
  {
   "cell_type": "code",
   "execution_count": 80,
   "metadata": {},
   "outputs": [],
   "source": [
    "#Проверка на тестовой выборке\n",
    "x_test = data_test_preprocessed.drop(['rougher.output.recovery', 'final.output.recovery', 'date'], axis=1).reset_index(drop=True)\n",
    "y_test1 = data_test_preprocessed['rougher.output.recovery'].reset_index(drop=True)\n",
    "y_test2 = data_test_preprocessed['final.output.recovery'].reset_index(drop=True)"
   ]
  },
  {
   "cell_type": "code",
   "execution_count": 81,
   "metadata": {},
   "outputs": [
    {
     "name": "stdout",
     "output_type": "stream",
     "text": [
      "smape на тестовой выборке для первого признака: 8.243327037228037\n"
     ]
    }
   ],
   "source": [
    "model = RandomForestRegressor(random_state=random_state)\n",
    "model.fit(x_train, y_train1)\n",
    "predictions_rougher = model.predict(x_test)\n",
    "print(\"smape на тестовой выборке для первого признака:\", (smape(y_test1, predictions_rougher)))"
   ]
  },
  {
   "cell_type": "code",
   "execution_count": 82,
   "metadata": {},
   "outputs": [
    {
     "name": "stdout",
     "output_type": "stream",
     "text": [
      "smape на тестовой выборке для второго признака: 9.695546921191958\n"
     ]
    }
   ],
   "source": [
    "model.fit(x_train, y_train2)\n",
    "predictions_final = model.predict(x_test)\n",
    "print(\"smape на тестовой выборке для второго признака:\", (smape(y_test2, predictions_final)))"
   ]
  },
  {
   "cell_type": "code",
   "execution_count": 83,
   "metadata": {},
   "outputs": [
    {
     "name": "stdout",
     "output_type": "stream",
     "text": [
      "Значение метрики качества smape: 9.332 %\n"
     ]
    }
   ],
   "source": [
    "print(f\"Значение метрики качества smape: {round(smape_total(y_test1, predictions_rougher, y_test2, predictions_final), 3)} %\")"
   ]
  },
  {
   "cell_type": "markdown",
   "metadata": {},
   "source": [
    "<div class=\"alert alert-block alert-info\">\n",
    "После предобработки данных, выбора необходимых признаков построили несколько прогнозных моделей. Модели линейной регрессии оказались наилучшими. Проверка на тестовой выборке покзала значение метрики smape, равное 10.105 %."
   ]
  },
  {
   "cell_type": "code",
   "execution_count": 84,
   "metadata": {},
   "outputs": [
    {
     "name": "stdout",
     "output_type": "stream",
     "text": [
      "smape константной модели: 8.398193310718243\n"
     ]
    }
   ],
   "source": [
    "#Константная модель \n",
    "dr = DummyRegressor(strategy=\"median\")\n",
    "dr.fit(x_train, y_train1)\n",
    "y_pred1 = dr.predict(x_test)\n",
    "print(\"smape константной модели:\", smape(y_test1, y_pred1))"
   ]
  },
  {
   "cell_type": "code",
   "execution_count": 85,
   "metadata": {},
   "outputs": [
    {
     "name": "stdout",
     "output_type": "stream",
     "text": [
      "smape константной модели: 9.60735016553837\n"
     ]
    }
   ],
   "source": [
    "dr.fit(x_train, y_train2)\n",
    "y_pred2 = dr.predict(x_test)\n",
    "print(\"smape константной модели:\", smape(y_test2, y_pred2))"
   ]
  },
  {
   "cell_type": "code",
   "execution_count": 86,
   "metadata": {},
   "outputs": [
    {
     "name": "stdout",
     "output_type": "stream",
     "text": [
      "Значение метрики качества smape для константной модели: 9.305 %\n"
     ]
    }
   ],
   "source": [
    "print(f\"Значение метрики качества smape для константной модели: {round(smape_total(y_test1, y_pred1, y_test2, y_pred2), 3)} %\")"
   ]
  },
  {
   "cell_type": "markdown",
   "metadata": {},
   "source": [
    "<div class=\"alert alert-block alert-info\">\n",
    "<h2> Вывод <a class=\"tocSkip\"></h2>\n",
    "    \n",
    "Smape константной модели примерно равно smape модели случайного леса, то есть модель предсказывает примерно медиану. Из всех построенных моделей, модель случайного леса без параметров является наилучшей."
   ]
  }
 ],
 "metadata": {
  "ExecuteTimeLog": [
   {
    "duration": 57,
    "start_time": "2022-05-24T09:38:54.854Z"
   },
   {
    "duration": 569,
    "start_time": "2022-05-24T09:39:06.430Z"
   },
   {
    "duration": 1487,
    "start_time": "2022-05-24T09:43:58.051Z"
   },
   {
    "duration": 987,
    "start_time": "2022-05-24T09:44:00.670Z"
   },
   {
    "duration": 48,
    "start_time": "2022-05-24T09:44:08.197Z"
   },
   {
    "duration": 5,
    "start_time": "2022-05-24T09:47:42.665Z"
   },
   {
    "duration": 7,
    "start_time": "2022-05-24T09:47:57.532Z"
   },
   {
    "duration": 4,
    "start_time": "2022-05-24T12:13:17.578Z"
   },
   {
    "duration": 4,
    "start_time": "2022-05-24T12:13:28.776Z"
   },
   {
    "duration": 41,
    "start_time": "2022-05-24T12:14:35.367Z"
   },
   {
    "duration": 8,
    "start_time": "2022-05-24T12:19:08.502Z"
   },
   {
    "duration": 29,
    "start_time": "2022-05-24T12:19:50.981Z"
   },
   {
    "duration": 51,
    "start_time": "2022-05-24T12:20:58.664Z"
   },
   {
    "duration": 28,
    "start_time": "2022-05-24T12:25:47.994Z"
   },
   {
    "duration": 26,
    "start_time": "2022-05-24T12:26:17.369Z"
   },
   {
    "duration": 30,
    "start_time": "2022-05-24T12:26:38.225Z"
   },
   {
    "duration": 12,
    "start_time": "2022-05-24T12:26:47.466Z"
   },
   {
    "duration": 23,
    "start_time": "2022-05-24T12:27:04.282Z"
   },
   {
    "duration": 62,
    "start_time": "2022-05-24T12:27:48.244Z"
   },
   {
    "duration": 21,
    "start_time": "2022-05-24T12:28:12.746Z"
   },
   {
    "duration": 20,
    "start_time": "2022-05-24T12:28:15.293Z"
   },
   {
    "duration": 3,
    "start_time": "2022-05-24T12:30:00.587Z"
   },
   {
    "duration": 3,
    "start_time": "2022-05-24T12:31:20.987Z"
   },
   {
    "duration": 2,
    "start_time": "2022-05-24T12:31:45.578Z"
   },
   {
    "duration": 3,
    "start_time": "2022-05-24T12:31:56.563Z"
   },
   {
    "duration": 2,
    "start_time": "2022-05-24T12:32:09.872Z"
   },
   {
    "duration": 3,
    "start_time": "2022-05-24T12:32:10.282Z"
   },
   {
    "duration": 3,
    "start_time": "2022-05-24T12:32:50.362Z"
   },
   {
    "duration": 3,
    "start_time": "2022-05-24T12:32:50.954Z"
   },
   {
    "duration": 4,
    "start_time": "2022-05-24T12:40:18.113Z"
   },
   {
    "duration": 3,
    "start_time": "2022-05-24T12:40:48.250Z"
   },
   {
    "duration": 4,
    "start_time": "2022-05-24T12:42:09.993Z"
   },
   {
    "duration": 4,
    "start_time": "2022-05-24T12:42:27.541Z"
   },
   {
    "duration": 4,
    "start_time": "2022-05-24T12:42:32.697Z"
   },
   {
    "duration": 8,
    "start_time": "2022-05-24T12:43:16.825Z"
   },
   {
    "duration": 5,
    "start_time": "2022-05-24T12:43:29.146Z"
   },
   {
    "duration": 4,
    "start_time": "2022-05-24T12:43:36.274Z"
   },
   {
    "duration": 8,
    "start_time": "2022-05-24T12:43:42.603Z"
   },
   {
    "duration": 8,
    "start_time": "2022-05-24T12:55:48.423Z"
   },
   {
    "duration": 10,
    "start_time": "2022-05-24T12:55:58.374Z"
   },
   {
    "duration": 3,
    "start_time": "2022-05-24T12:56:29.751Z"
   },
   {
    "duration": 5,
    "start_time": "2022-05-24T12:56:35.702Z"
   },
   {
    "duration": 11,
    "start_time": "2022-05-24T12:57:21.543Z"
   },
   {
    "duration": 4,
    "start_time": "2022-05-24T12:57:53.622Z"
   },
   {
    "duration": 4,
    "start_time": "2022-05-24T12:57:56.526Z"
   },
   {
    "duration": 3,
    "start_time": "2022-05-24T13:00:53.477Z"
   },
   {
    "duration": 4,
    "start_time": "2022-05-24T13:01:01.170Z"
   },
   {
    "duration": 25,
    "start_time": "2022-05-24T13:08:07.846Z"
   },
   {
    "duration": 4,
    "start_time": "2022-05-24T13:10:16.306Z"
   },
   {
    "duration": 5,
    "start_time": "2022-05-24T13:19:11.921Z"
   },
   {
    "duration": 6,
    "start_time": "2022-05-24T13:19:41.366Z"
   },
   {
    "duration": 8,
    "start_time": "2022-05-24T13:20:08.543Z"
   },
   {
    "duration": 7,
    "start_time": "2022-05-24T13:20:29.008Z"
   },
   {
    "duration": 13,
    "start_time": "2022-05-24T13:21:42.479Z"
   },
   {
    "duration": 36,
    "start_time": "2022-05-24T13:22:33.940Z"
   },
   {
    "duration": 4,
    "start_time": "2022-05-24T13:22:38.672Z"
   },
   {
    "duration": 3,
    "start_time": "2022-05-24T13:32:25.954Z"
   },
   {
    "duration": 348,
    "start_time": "2022-05-24T13:32:35.506Z"
   },
   {
    "duration": 32,
    "start_time": "2022-05-24T13:32:58.101Z"
   },
   {
    "duration": 11,
    "start_time": "2022-05-24T13:33:00.258Z"
   },
   {
    "duration": 4,
    "start_time": "2022-05-24T13:33:14.178Z"
   },
   {
    "duration": 24,
    "start_time": "2022-05-24T13:33:34.317Z"
   },
   {
    "duration": 4,
    "start_time": "2022-05-24T13:34:00.947Z"
   },
   {
    "duration": 439,
    "start_time": "2022-05-24T13:34:02.435Z"
   },
   {
    "duration": 23,
    "start_time": "2022-05-24T13:34:07.708Z"
   },
   {
    "duration": 434,
    "start_time": "2022-05-24T13:40:59.932Z"
   },
   {
    "duration": 782,
    "start_time": "2022-05-24T13:41:00.367Z"
   },
   {
    "duration": 58,
    "start_time": "2022-05-24T13:41:01.151Z"
   },
   {
    "duration": 89,
    "start_time": "2022-05-24T13:41:01.211Z"
   },
   {
    "duration": 5,
    "start_time": "2022-05-24T13:41:01.302Z"
   },
   {
    "duration": 19,
    "start_time": "2022-05-24T13:41:01.308Z"
   },
   {
    "duration": 405,
    "start_time": "2022-05-24T13:41:01.329Z"
   },
   {
    "duration": 5,
    "start_time": "2022-05-24T13:41:01.735Z"
   },
   {
    "duration": 86,
    "start_time": "2022-05-24T13:41:01.741Z"
   },
   {
    "duration": 22,
    "start_time": "2022-05-24T13:41:01.829Z"
   },
   {
    "duration": 105,
    "start_time": "2022-05-24T13:41:01.853Z"
   },
   {
    "duration": 0,
    "start_time": "2022-05-24T13:41:01.960Z"
   },
   {
    "duration": 0,
    "start_time": "2022-05-24T13:41:01.962Z"
   },
   {
    "duration": 0,
    "start_time": "2022-05-24T13:41:01.963Z"
   },
   {
    "duration": 443,
    "start_time": "2022-05-24T13:41:28.891Z"
   },
   {
    "duration": 21,
    "start_time": "2022-05-24T13:42:30.406Z"
   },
   {
    "duration": 9,
    "start_time": "2022-05-24T13:42:44.516Z"
   },
   {
    "duration": 3,
    "start_time": "2022-05-24T13:43:29.101Z"
   },
   {
    "duration": 763,
    "start_time": "2022-05-24T13:43:29.106Z"
   },
   {
    "duration": 101,
    "start_time": "2022-05-24T13:43:29.871Z"
   },
   {
    "duration": 63,
    "start_time": "2022-05-24T13:43:29.974Z"
   },
   {
    "duration": 3,
    "start_time": "2022-05-24T13:43:30.039Z"
   },
   {
    "duration": 15,
    "start_time": "2022-05-24T13:43:30.043Z"
   },
   {
    "duration": 366,
    "start_time": "2022-05-24T13:44:57.284Z"
   },
   {
    "duration": 40,
    "start_time": "2022-05-24T13:46:06.548Z"
   },
   {
    "duration": 11,
    "start_time": "2022-05-24T13:46:14.595Z"
   },
   {
    "duration": 4,
    "start_time": "2022-05-24T13:46:34.720Z"
   },
   {
    "duration": 4,
    "start_time": "2022-05-24T13:46:43.123Z"
   },
   {
    "duration": 5,
    "start_time": "2022-05-24T13:48:07.429Z"
   },
   {
    "duration": 6,
    "start_time": "2022-05-24T13:48:15.764Z"
   },
   {
    "duration": 5,
    "start_time": "2022-05-24T13:48:21.156Z"
   },
   {
    "duration": 217,
    "start_time": "2022-05-24T13:51:53.589Z"
   },
   {
    "duration": 6,
    "start_time": "2022-05-24T13:51:59.653Z"
   },
   {
    "duration": 4,
    "start_time": "2022-05-24T13:52:27.091Z"
   },
   {
    "duration": 6,
    "start_time": "2022-05-24T13:52:27.795Z"
   },
   {
    "duration": 18,
    "start_time": "2022-05-24T13:53:18.853Z"
   },
   {
    "duration": 4,
    "start_time": "2022-05-24T13:53:49.340Z"
   },
   {
    "duration": 883,
    "start_time": "2022-05-24T13:53:49.347Z"
   },
   {
    "duration": 41,
    "start_time": "2022-05-24T13:53:50.231Z"
   },
   {
    "duration": 74,
    "start_time": "2022-05-24T13:53:50.284Z"
   },
   {
    "duration": 35,
    "start_time": "2022-05-24T13:53:50.360Z"
   },
   {
    "duration": 34,
    "start_time": "2022-05-24T13:53:50.402Z"
   },
   {
    "duration": 419,
    "start_time": "2022-05-24T13:53:50.438Z"
   },
   {
    "duration": 16,
    "start_time": "2022-05-24T13:53:50.859Z"
   },
   {
    "duration": 10,
    "start_time": "2022-05-24T13:53:52.891Z"
   },
   {
    "duration": 37,
    "start_time": "2022-05-24T13:53:53.916Z"
   },
   {
    "duration": 33,
    "start_time": "2022-05-24T13:54:15.045Z"
   },
   {
    "duration": 44,
    "start_time": "2022-05-24T13:55:56.356Z"
   },
   {
    "duration": 851,
    "start_time": "2022-05-25T06:20:57.036Z"
   },
   {
    "duration": 1936,
    "start_time": "2022-05-25T06:20:59.645Z"
   },
   {
    "duration": 37,
    "start_time": "2022-05-25T06:21:02.846Z"
   },
   {
    "duration": 30,
    "start_time": "2022-05-25T06:21:28.487Z"
   },
   {
    "duration": 5,
    "start_time": "2022-05-25T06:21:55.188Z"
   },
   {
    "duration": 4,
    "start_time": "2022-05-25T06:22:05.085Z"
   },
   {
    "duration": 413,
    "start_time": "2022-05-25T06:22:37.390Z"
   },
   {
    "duration": 6,
    "start_time": "2022-05-25T06:22:41.773Z"
   },
   {
    "duration": 151,
    "start_time": "2022-05-25T06:22:48.180Z"
   },
   {
    "duration": 49,
    "start_time": "2022-05-25T06:22:49.736Z"
   },
   {
    "duration": 33,
    "start_time": "2022-05-25T06:24:58.380Z"
   },
   {
    "duration": 4,
    "start_time": "2022-05-25T06:25:45.205Z"
   },
   {
    "duration": 4,
    "start_time": "2022-05-25T06:25:55.860Z"
   },
   {
    "duration": 143,
    "start_time": "2022-05-25T06:26:35.052Z"
   },
   {
    "duration": 4,
    "start_time": "2022-05-25T06:26:45.908Z"
   },
   {
    "duration": 4,
    "start_time": "2022-05-25T06:30:19.641Z"
   },
   {
    "duration": 4,
    "start_time": "2022-05-25T06:31:23.816Z"
   },
   {
    "duration": 4,
    "start_time": "2022-05-25T06:31:48.163Z"
   },
   {
    "duration": 3,
    "start_time": "2022-05-25T06:31:52.443Z"
   },
   {
    "duration": 4,
    "start_time": "2022-05-25T06:32:02.151Z"
   },
   {
    "duration": 4,
    "start_time": "2022-05-25T06:32:18.837Z"
   },
   {
    "duration": 4,
    "start_time": "2022-05-25T06:32:31.578Z"
   },
   {
    "duration": 31,
    "start_time": "2022-05-25T06:34:45.219Z"
   },
   {
    "duration": 3,
    "start_time": "2022-05-25T06:34:50.307Z"
   },
   {
    "duration": 6,
    "start_time": "2022-05-25T06:35:08.370Z"
   },
   {
    "duration": 5,
    "start_time": "2022-05-25T06:35:14.711Z"
   },
   {
    "duration": 55,
    "start_time": "2022-05-25T06:43:49.362Z"
   },
   {
    "duration": 9,
    "start_time": "2022-05-25T06:49:43.078Z"
   },
   {
    "duration": 20,
    "start_time": "2022-05-25T06:50:01.841Z"
   },
   {
    "duration": 3,
    "start_time": "2022-05-25T06:50:08.330Z"
   },
   {
    "duration": 40,
    "start_time": "2022-05-25T06:50:08.335Z"
   },
   {
    "duration": 69,
    "start_time": "2022-05-25T06:50:08.376Z"
   },
   {
    "duration": 4,
    "start_time": "2022-05-25T06:50:08.447Z"
   },
   {
    "duration": 7,
    "start_time": "2022-05-25T06:50:08.453Z"
   },
   {
    "duration": 343,
    "start_time": "2022-05-25T06:50:08.461Z"
   },
   {
    "duration": 5,
    "start_time": "2022-05-25T06:50:08.805Z"
   },
   {
    "duration": 53,
    "start_time": "2022-05-25T06:50:08.812Z"
   },
   {
    "duration": 6,
    "start_time": "2022-05-25T06:50:11.177Z"
   },
   {
    "duration": 5,
    "start_time": "2022-05-25T06:50:22.985Z"
   },
   {
    "duration": 8,
    "start_time": "2022-05-25T07:04:21.999Z"
   },
   {
    "duration": 11,
    "start_time": "2022-05-25T09:04:57.042Z"
   },
   {
    "duration": 35,
    "start_time": "2022-05-25T09:08:57.830Z"
   },
   {
    "duration": 38,
    "start_time": "2022-05-25T09:09:40.394Z"
   },
   {
    "duration": 33,
    "start_time": "2022-05-25T09:10:09.920Z"
   },
   {
    "duration": 89,
    "start_time": "2022-05-25T09:10:47.999Z"
   },
   {
    "duration": 592,
    "start_time": "2022-05-25T09:11:14.036Z"
   },
   {
    "duration": 3,
    "start_time": "2022-05-25T09:11:27.673Z"
   },
   {
    "duration": 482,
    "start_time": "2022-05-25T09:11:34.954Z"
   },
   {
    "duration": 5,
    "start_time": "2022-05-25T09:11:40.822Z"
   },
   {
    "duration": 26,
    "start_time": "2022-05-25T09:16:22.065Z"
   },
   {
    "duration": 4,
    "start_time": "2022-05-25T09:24:59.253Z"
   },
   {
    "duration": 14,
    "start_time": "2022-05-25T09:25:24.812Z"
   },
   {
    "duration": 4,
    "start_time": "2022-05-25T09:25:37.100Z"
   },
   {
    "duration": 2,
    "start_time": "2022-05-25T09:25:39.436Z"
   },
   {
    "duration": 3,
    "start_time": "2022-05-25T09:25:46.789Z"
   },
   {
    "duration": 14,
    "start_time": "2022-05-25T09:25:46.795Z"
   },
   {
    "duration": 0,
    "start_time": "2022-05-25T09:25:46.811Z"
   },
   {
    "duration": 0,
    "start_time": "2022-05-25T09:25:46.814Z"
   },
   {
    "duration": 0,
    "start_time": "2022-05-25T09:25:46.815Z"
   },
   {
    "duration": 0,
    "start_time": "2022-05-25T09:25:46.816Z"
   },
   {
    "duration": 0,
    "start_time": "2022-05-25T09:25:46.818Z"
   },
   {
    "duration": 0,
    "start_time": "2022-05-25T09:25:46.821Z"
   },
   {
    "duration": 0,
    "start_time": "2022-05-25T09:25:46.822Z"
   },
   {
    "duration": 0,
    "start_time": "2022-05-25T09:25:46.824Z"
   },
   {
    "duration": 8,
    "start_time": "2022-05-25T09:27:03.549Z"
   },
   {
    "duration": 909,
    "start_time": "2022-05-25T09:27:19.440Z"
   },
   {
    "duration": 94,
    "start_time": "2022-05-25T09:27:20.351Z"
   },
   {
    "duration": 0,
    "start_time": "2022-05-25T09:27:20.447Z"
   },
   {
    "duration": 0,
    "start_time": "2022-05-25T09:27:20.448Z"
   },
   {
    "duration": 0,
    "start_time": "2022-05-25T09:27:20.449Z"
   },
   {
    "duration": 0,
    "start_time": "2022-05-25T09:27:20.450Z"
   },
   {
    "duration": 0,
    "start_time": "2022-05-25T09:27:20.451Z"
   },
   {
    "duration": 0,
    "start_time": "2022-05-25T09:27:20.452Z"
   },
   {
    "duration": 0,
    "start_time": "2022-05-25T09:27:20.453Z"
   },
   {
    "duration": 0,
    "start_time": "2022-05-25T09:27:20.454Z"
   },
   {
    "duration": 1791,
    "start_time": "2022-05-25T09:29:33.863Z"
   },
   {
    "duration": 39,
    "start_time": "2022-05-25T09:29:37.183Z"
   },
   {
    "duration": 56,
    "start_time": "2022-05-25T09:29:37.839Z"
   },
   {
    "duration": 3,
    "start_time": "2022-05-25T09:29:38.518Z"
   },
   {
    "duration": 3,
    "start_time": "2022-05-25T09:29:38.752Z"
   },
   {
    "duration": 338,
    "start_time": "2022-05-25T09:29:38.942Z"
   },
   {
    "duration": 4,
    "start_time": "2022-05-25T09:29:39.282Z"
   },
   {
    "duration": 164,
    "start_time": "2022-05-25T09:29:39.295Z"
   },
   {
    "duration": 8,
    "start_time": "2022-05-25T09:29:40.176Z"
   },
   {
    "duration": 5,
    "start_time": "2022-05-25T09:29:40.767Z"
   },
   {
    "duration": 9,
    "start_time": "2022-05-25T09:29:46.464Z"
   },
   {
    "duration": 11,
    "start_time": "2022-05-25T09:30:04.767Z"
   },
   {
    "duration": 17,
    "start_time": "2022-05-25T09:30:30.832Z"
   },
   {
    "duration": 11,
    "start_time": "2022-05-25T09:34:22.761Z"
   },
   {
    "duration": 11,
    "start_time": "2022-05-25T09:34:36.341Z"
   },
   {
    "duration": 9,
    "start_time": "2022-05-25T09:35:07.221Z"
   },
   {
    "duration": 8,
    "start_time": "2022-05-25T09:35:12.714Z"
   },
   {
    "duration": 3,
    "start_time": "2022-05-25T09:36:20.613Z"
   },
   {
    "duration": 728,
    "start_time": "2022-05-25T09:36:20.620Z"
   },
   {
    "duration": 108,
    "start_time": "2022-05-25T09:36:21.351Z"
   },
   {
    "duration": 56,
    "start_time": "2022-05-25T09:36:21.461Z"
   },
   {
    "duration": 23,
    "start_time": "2022-05-25T09:36:21.519Z"
   },
   {
    "duration": 4,
    "start_time": "2022-05-25T09:36:21.545Z"
   },
   {
    "duration": 349,
    "start_time": "2022-05-25T09:36:21.550Z"
   },
   {
    "duration": 4,
    "start_time": "2022-05-25T09:36:21.901Z"
   },
   {
    "duration": 45,
    "start_time": "2022-05-25T09:36:21.906Z"
   },
   {
    "duration": 7,
    "start_time": "2022-05-25T09:36:21.952Z"
   },
   {
    "duration": 9,
    "start_time": "2022-05-25T09:36:21.961Z"
   },
   {
    "duration": 19,
    "start_time": "2022-05-25T09:36:21.971Z"
   },
   {
    "duration": 20,
    "start_time": "2022-05-25T09:36:25.654Z"
   },
   {
    "duration": 40,
    "start_time": "2022-05-25T09:36:29.150Z"
   },
   {
    "duration": 16,
    "start_time": "2022-05-25T09:37:07.726Z"
   },
   {
    "duration": 125,
    "start_time": "2022-05-25T09:37:39.902Z"
   },
   {
    "duration": 117,
    "start_time": "2022-05-25T09:37:45.967Z"
   },
   {
    "duration": 114,
    "start_time": "2022-05-25T09:37:59.293Z"
   },
   {
    "duration": 124,
    "start_time": "2022-05-25T09:38:07.391Z"
   },
   {
    "duration": 26,
    "start_time": "2022-05-25T09:38:17.968Z"
   },
   {
    "duration": 21,
    "start_time": "2022-05-25T09:38:21.486Z"
   },
   {
    "duration": 94,
    "start_time": "2022-05-25T09:38:46.527Z"
   },
   {
    "duration": 216,
    "start_time": "2022-05-25T09:39:00.855Z"
   },
   {
    "duration": 231,
    "start_time": "2022-05-25T09:39:18.544Z"
   },
   {
    "duration": 251,
    "start_time": "2022-05-25T09:39:52.639Z"
   },
   {
    "duration": 26,
    "start_time": "2022-05-25T09:42:46.334Z"
   },
   {
    "duration": 6,
    "start_time": "2022-05-25T09:43:18.335Z"
   },
   {
    "duration": 216,
    "start_time": "2022-05-25T09:43:22.581Z"
   },
   {
    "duration": 109,
    "start_time": "2022-05-25T09:43:28.220Z"
   },
   {
    "duration": 28,
    "start_time": "2022-05-25T09:43:33.567Z"
   },
   {
    "duration": 801,
    "start_time": "2022-05-25T09:43:54.888Z"
   },
   {
    "duration": 669,
    "start_time": "2022-05-25T09:43:55.692Z"
   },
   {
    "duration": 38,
    "start_time": "2022-05-25T09:43:56.363Z"
   },
   {
    "duration": 71,
    "start_time": "2022-05-25T09:43:56.403Z"
   },
   {
    "duration": 5,
    "start_time": "2022-05-25T09:43:56.476Z"
   },
   {
    "duration": 4,
    "start_time": "2022-05-25T09:43:56.483Z"
   },
   {
    "duration": 362,
    "start_time": "2022-05-25T09:43:56.489Z"
   },
   {
    "duration": 7,
    "start_time": "2022-05-25T09:43:56.852Z"
   },
   {
    "duration": 63,
    "start_time": "2022-05-25T09:43:56.861Z"
   },
   {
    "duration": 17,
    "start_time": "2022-05-25T09:43:56.925Z"
   },
   {
    "duration": 7,
    "start_time": "2022-05-25T09:43:56.944Z"
   },
   {
    "duration": 30,
    "start_time": "2022-05-25T09:43:56.954Z"
   },
   {
    "duration": 29,
    "start_time": "2022-05-25T09:43:56.987Z"
   },
   {
    "duration": 111,
    "start_time": "2022-05-25T09:44:54.075Z"
   },
   {
    "duration": 83,
    "start_time": "2022-05-25T09:45:33.595Z"
   },
   {
    "duration": 12,
    "start_time": "2022-05-25T09:45:37.404Z"
   },
   {
    "duration": 11,
    "start_time": "2022-05-25T09:45:44.667Z"
   },
   {
    "duration": 25,
    "start_time": "2022-05-25T09:46:12.378Z"
   },
   {
    "duration": 35,
    "start_time": "2022-05-25T09:46:26.043Z"
   },
   {
    "duration": 15,
    "start_time": "2022-05-25T09:46:41.266Z"
   },
   {
    "duration": 34,
    "start_time": "2022-05-25T09:46:46.475Z"
   },
   {
    "duration": 90,
    "start_time": "2022-05-25T09:46:54.219Z"
   },
   {
    "duration": 20,
    "start_time": "2022-05-25T09:47:11.994Z"
   },
   {
    "duration": 5,
    "start_time": "2022-05-25T09:47:58.458Z"
   },
   {
    "duration": 8,
    "start_time": "2022-05-25T09:48:14.555Z"
   },
   {
    "duration": 9,
    "start_time": "2022-05-25T09:48:23.727Z"
   },
   {
    "duration": 27,
    "start_time": "2022-05-25T09:48:33.594Z"
   },
   {
    "duration": 24,
    "start_time": "2022-05-25T09:48:43.803Z"
   },
   {
    "duration": 7,
    "start_time": "2022-05-25T09:48:52.139Z"
   },
   {
    "duration": 16,
    "start_time": "2022-05-25T09:48:56.586Z"
   },
   {
    "duration": 10,
    "start_time": "2022-05-25T09:49:11.274Z"
   },
   {
    "duration": 29,
    "start_time": "2022-05-25T09:49:20.058Z"
   },
   {
    "duration": 247,
    "start_time": "2022-05-25T09:50:14.982Z"
   },
   {
    "duration": 3993,
    "start_time": "2022-05-25T09:50:40.976Z"
   },
   {
    "duration": 4,
    "start_time": "2022-05-25T11:25:33.588Z"
   },
   {
    "duration": 1795,
    "start_time": "2022-05-25T11:25:33.594Z"
   },
   {
    "duration": 39,
    "start_time": "2022-05-25T11:25:35.391Z"
   },
   {
    "duration": 57,
    "start_time": "2022-05-25T11:25:35.432Z"
   },
   {
    "duration": 4,
    "start_time": "2022-05-25T11:25:35.492Z"
   },
   {
    "duration": 8,
    "start_time": "2022-05-25T11:25:35.497Z"
   },
   {
    "duration": 318,
    "start_time": "2022-05-25T11:25:35.507Z"
   },
   {
    "duration": 5,
    "start_time": "2022-05-25T11:25:35.827Z"
   },
   {
    "duration": 40,
    "start_time": "2022-05-25T11:25:35.834Z"
   },
   {
    "duration": 6,
    "start_time": "2022-05-25T11:25:35.876Z"
   },
   {
    "duration": 10,
    "start_time": "2022-05-25T11:25:35.883Z"
   },
   {
    "duration": 16,
    "start_time": "2022-05-25T11:25:35.895Z"
   },
   {
    "duration": 41,
    "start_time": "2022-05-25T11:25:35.913Z"
   },
   {
    "duration": 233,
    "start_time": "2022-05-25T11:25:35.957Z"
   },
   {
    "duration": 3,
    "start_time": "2022-05-25T11:25:36.192Z"
   },
   {
    "duration": 28,
    "start_time": "2022-05-25T11:26:54.699Z"
   },
   {
    "duration": 581,
    "start_time": "2022-05-25T11:27:09.093Z"
   },
   {
    "duration": 12,
    "start_time": "2022-05-25T11:27:17.525Z"
   },
   {
    "duration": 111,
    "start_time": "2022-05-25T11:27:36.503Z"
   },
   {
    "duration": 10,
    "start_time": "2022-05-25T11:31:50.852Z"
   },
   {
    "duration": 10,
    "start_time": "2022-05-25T11:31:57.718Z"
   },
   {
    "duration": 8,
    "start_time": "2022-05-25T11:32:08.084Z"
   },
   {
    "duration": 30,
    "start_time": "2022-05-25T11:33:00.196Z"
   },
   {
    "duration": 617,
    "start_time": "2022-05-25T11:33:11.796Z"
   },
   {
    "duration": 184,
    "start_time": "2022-05-25T11:33:16.469Z"
   },
   {
    "duration": 274,
    "start_time": "2022-05-25T11:38:47.531Z"
   },
   {
    "duration": 4,
    "start_time": "2022-05-25T11:39:14.836Z"
   },
   {
    "duration": 6,
    "start_time": "2022-05-25T12:01:57.881Z"
   },
   {
    "duration": 3,
    "start_time": "2022-05-25T12:12:08.385Z"
   },
   {
    "duration": 140,
    "start_time": "2022-05-25T12:24:44.527Z"
   },
   {
    "duration": 33,
    "start_time": "2022-05-25T12:24:51.537Z"
   },
   {
    "duration": 59,
    "start_time": "2022-05-25T12:31:44.357Z"
   },
   {
    "duration": 7,
    "start_time": "2022-05-25T12:32:00.688Z"
   },
   {
    "duration": 1330,
    "start_time": "2022-05-25T12:32:18.917Z"
   },
   {
    "duration": 642,
    "start_time": "2022-05-25T12:32:20.249Z"
   },
   {
    "duration": 107,
    "start_time": "2022-05-25T12:32:20.893Z"
   },
   {
    "duration": 74,
    "start_time": "2022-05-25T12:32:21.002Z"
   },
   {
    "duration": 4,
    "start_time": "2022-05-25T12:32:21.079Z"
   },
   {
    "duration": 6,
    "start_time": "2022-05-25T12:32:21.085Z"
   },
   {
    "duration": 332,
    "start_time": "2022-05-25T12:32:21.092Z"
   },
   {
    "duration": 5,
    "start_time": "2022-05-25T12:32:21.426Z"
   },
   {
    "duration": 43,
    "start_time": "2022-05-25T12:32:21.441Z"
   },
   {
    "duration": 8,
    "start_time": "2022-05-25T12:32:21.486Z"
   },
   {
    "duration": 10,
    "start_time": "2022-05-25T12:32:21.495Z"
   },
   {
    "duration": 35,
    "start_time": "2022-05-25T12:32:21.507Z"
   },
   {
    "duration": 25,
    "start_time": "2022-05-25T12:32:21.544Z"
   },
   {
    "duration": 236,
    "start_time": "2022-05-25T12:32:21.571Z"
   },
   {
    "duration": 132,
    "start_time": "2022-05-25T12:32:21.809Z"
   },
   {
    "duration": 5,
    "start_time": "2022-05-25T12:32:21.942Z"
   },
   {
    "duration": 142,
    "start_time": "2022-05-25T12:32:44.522Z"
   },
   {
    "duration": 67,
    "start_time": "2022-05-25T12:33:16.522Z"
   },
   {
    "duration": 7,
    "start_time": "2022-05-25T12:33:27.153Z"
   },
   {
    "duration": 8,
    "start_time": "2022-05-25T12:33:37.956Z"
   },
   {
    "duration": 3,
    "start_time": "2022-05-25T12:33:43.426Z"
   },
   {
    "duration": 24,
    "start_time": "2022-05-25T12:33:46.852Z"
   },
   {
    "duration": 137,
    "start_time": "2022-05-25T12:34:14.587Z"
   },
   {
    "duration": 5,
    "start_time": "2022-05-25T12:34:19.067Z"
   },
   {
    "duration": 13,
    "start_time": "2022-05-25T12:34:29.498Z"
   },
   {
    "duration": 18,
    "start_time": "2022-05-25T12:34:37.673Z"
   },
   {
    "duration": 3,
    "start_time": "2022-05-25T12:34:57.653Z"
   },
   {
    "duration": 15,
    "start_time": "2022-05-25T12:35:08.044Z"
   },
   {
    "duration": 18,
    "start_time": "2022-05-25T12:35:17.610Z"
   },
   {
    "duration": 7,
    "start_time": "2022-05-25T12:35:47.019Z"
   },
   {
    "duration": 3,
    "start_time": "2022-05-25T12:36:46.584Z"
   },
   {
    "duration": 16,
    "start_time": "2022-05-25T12:37:00.890Z"
   },
   {
    "duration": 4,
    "start_time": "2022-05-25T12:37:26.265Z"
   },
   {
    "duration": 6,
    "start_time": "2022-05-25T12:37:28.154Z"
   },
   {
    "duration": 8,
    "start_time": "2022-05-25T12:37:49.553Z"
   },
   {
    "duration": 4,
    "start_time": "2022-05-25T12:39:04.656Z"
   },
   {
    "duration": 9,
    "start_time": "2022-05-25T12:39:11.321Z"
   },
   {
    "duration": 8,
    "start_time": "2022-05-25T12:39:57.868Z"
   },
   {
    "duration": 9,
    "start_time": "2022-05-25T13:06:19.912Z"
   },
   {
    "duration": 37,
    "start_time": "2022-05-25T13:06:22.303Z"
   },
   {
    "duration": 4,
    "start_time": "2022-05-25T13:06:47.783Z"
   },
   {
    "duration": 4,
    "start_time": "2022-05-25T13:06:56.423Z"
   },
   {
    "duration": 8,
    "start_time": "2022-05-25T13:06:56.983Z"
   },
   {
    "duration": 531,
    "start_time": "2022-05-25T13:07:51.607Z"
   },
   {
    "duration": 5,
    "start_time": "2022-05-25T13:07:56.504Z"
   },
   {
    "duration": 14,
    "start_time": "2022-05-25T13:08:09.448Z"
   },
   {
    "duration": 7,
    "start_time": "2022-05-25T13:10:21.864Z"
   },
   {
    "duration": 9,
    "start_time": "2022-05-25T13:10:22.663Z"
   },
   {
    "duration": 579,
    "start_time": "2022-05-25T13:10:35.387Z"
   },
   {
    "duration": 247,
    "start_time": "2022-05-25T13:10:40.751Z"
   },
   {
    "duration": 4,
    "start_time": "2022-05-25T13:11:21.592Z"
   },
   {
    "duration": 4,
    "start_time": "2022-05-25T13:11:44.555Z"
   },
   {
    "duration": 8,
    "start_time": "2022-05-25T13:11:45.015Z"
   },
   {
    "duration": 7,
    "start_time": "2022-05-25T13:13:09.752Z"
   },
   {
    "duration": 9,
    "start_time": "2022-05-25T13:13:11.111Z"
   },
   {
    "duration": 200,
    "start_time": "2022-05-25T13:13:18.919Z"
   },
   {
    "duration": 8,
    "start_time": "2022-05-25T13:13:36.600Z"
   },
   {
    "duration": 14,
    "start_time": "2022-05-25T13:16:12.776Z"
   },
   {
    "duration": 14,
    "start_time": "2022-05-25T13:16:35.912Z"
   },
   {
    "duration": 4,
    "start_time": "2022-05-25T13:16:50.823Z"
   },
   {
    "duration": 285,
    "start_time": "2022-05-25T13:16:59.811Z"
   },
   {
    "duration": 12,
    "start_time": "2022-05-25T13:20:08.520Z"
   },
   {
    "duration": 1267,
    "start_time": "2022-05-26T06:21:36.039Z"
   },
   {
    "duration": 1741,
    "start_time": "2022-05-26T06:21:37.308Z"
   },
   {
    "duration": 113,
    "start_time": "2022-05-26T06:21:39.051Z"
   },
   {
    "duration": 53,
    "start_time": "2022-05-26T06:21:39.165Z"
   },
   {
    "duration": 4,
    "start_time": "2022-05-26T06:21:39.219Z"
   },
   {
    "duration": 5,
    "start_time": "2022-05-26T06:21:39.225Z"
   },
   {
    "duration": 335,
    "start_time": "2022-05-26T06:21:39.232Z"
   },
   {
    "duration": 8,
    "start_time": "2022-05-26T06:21:39.568Z"
   },
   {
    "duration": 46,
    "start_time": "2022-05-26T06:21:39.577Z"
   },
   {
    "duration": 8,
    "start_time": "2022-05-26T06:21:39.625Z"
   },
   {
    "duration": 12,
    "start_time": "2022-05-26T06:21:39.635Z"
   },
   {
    "duration": 37,
    "start_time": "2022-05-26T06:21:39.648Z"
   },
   {
    "duration": 22,
    "start_time": "2022-05-26T06:21:39.687Z"
   },
   {
    "duration": 246,
    "start_time": "2022-05-26T06:21:39.711Z"
   },
   {
    "duration": 144,
    "start_time": "2022-05-26T06:21:39.959Z"
   },
   {
    "duration": 55,
    "start_time": "2022-05-26T06:21:40.105Z"
   },
   {
    "duration": 6,
    "start_time": "2022-05-26T06:21:40.162Z"
   },
   {
    "duration": 7,
    "start_time": "2022-05-26T06:21:40.169Z"
   },
   {
    "duration": 155,
    "start_time": "2022-05-26T06:21:40.178Z"
   },
   {
    "duration": 9,
    "start_time": "2022-05-26T06:21:40.335Z"
   },
   {
    "duration": 13,
    "start_time": "2022-05-26T06:21:47.447Z"
   },
   {
    "duration": 127,
    "start_time": "2022-05-26T06:25:11.555Z"
   },
   {
    "duration": 130,
    "start_time": "2022-05-26T06:25:15.404Z"
   },
   {
    "duration": 198,
    "start_time": "2022-05-26T06:26:42.236Z"
   },
   {
    "duration": 117,
    "start_time": "2022-05-26T06:26:53.402Z"
   },
   {
    "duration": 197,
    "start_time": "2022-05-26T06:27:00.908Z"
   },
   {
    "duration": 15,
    "start_time": "2022-05-26T06:28:03.023Z"
   },
   {
    "duration": 116,
    "start_time": "2022-05-26T06:28:39.996Z"
   },
   {
    "duration": 8,
    "start_time": "2022-05-26T06:28:58.763Z"
   },
   {
    "duration": 6,
    "start_time": "2022-05-26T06:30:02.051Z"
   },
   {
    "duration": 12,
    "start_time": "2022-05-26T06:30:23.054Z"
   },
   {
    "duration": 2,
    "start_time": "2022-05-26T06:30:40.638Z"
   },
   {
    "duration": 6,
    "start_time": "2022-05-26T06:30:47.554Z"
   },
   {
    "duration": 27,
    "start_time": "2022-05-26T06:30:55.708Z"
   },
   {
    "duration": 135,
    "start_time": "2022-05-26T06:31:17.373Z"
   },
   {
    "duration": 163,
    "start_time": "2022-05-26T06:31:25.292Z"
   },
   {
    "duration": 189,
    "start_time": "2022-05-26T06:31:42.389Z"
   },
   {
    "duration": 3,
    "start_time": "2022-05-26T06:34:26.193Z"
   },
   {
    "duration": 169,
    "start_time": "2022-05-26T06:34:42.032Z"
   },
   {
    "duration": 172,
    "start_time": "2022-05-26T06:35:13.350Z"
   },
   {
    "duration": 245,
    "start_time": "2022-05-26T06:35:17.810Z"
   },
   {
    "duration": 154,
    "start_time": "2022-05-26T06:35:20.907Z"
   },
   {
    "duration": 126,
    "start_time": "2022-05-26T06:35:32.540Z"
   },
   {
    "duration": 205,
    "start_time": "2022-05-26T06:35:36.587Z"
   },
   {
    "duration": 173,
    "start_time": "2022-05-26T06:36:33.486Z"
   },
   {
    "duration": 180,
    "start_time": "2022-05-26T06:36:40.635Z"
   },
   {
    "duration": 174,
    "start_time": "2022-05-26T06:37:37.787Z"
   },
   {
    "duration": 3,
    "start_time": "2022-05-26T06:37:49.259Z"
   },
   {
    "duration": 184,
    "start_time": "2022-05-26T06:38:26.461Z"
   },
   {
    "duration": 1305,
    "start_time": "2022-05-26T06:40:51.518Z"
   },
   {
    "duration": 10,
    "start_time": "2022-05-26T06:41:34.063Z"
   },
   {
    "duration": 208,
    "start_time": "2022-05-26T06:42:59.642Z"
   },
   {
    "duration": 16,
    "start_time": "2022-05-26T06:43:38.597Z"
   },
   {
    "duration": 7,
    "start_time": "2022-05-26T06:44:14.666Z"
   },
   {
    "duration": 52,
    "start_time": "2022-05-26T06:46:49.561Z"
   },
   {
    "duration": 29,
    "start_time": "2022-05-26T06:49:45.689Z"
   },
   {
    "duration": 27,
    "start_time": "2022-05-26T06:49:54.042Z"
   },
   {
    "duration": 26,
    "start_time": "2022-05-26T06:50:02.537Z"
   },
   {
    "duration": 7,
    "start_time": "2022-05-26T06:54:15.982Z"
   },
   {
    "duration": 12,
    "start_time": "2022-05-26T07:15:56.419Z"
   },
   {
    "duration": 3,
    "start_time": "2022-05-26T07:16:05.494Z"
   },
   {
    "duration": 4,
    "start_time": "2022-05-26T07:17:54.506Z"
   },
   {
    "duration": 4,
    "start_time": "2022-05-26T07:18:42.486Z"
   },
   {
    "duration": 139,
    "start_time": "2022-05-26T07:21:06.516Z"
   },
   {
    "duration": 5,
    "start_time": "2022-05-26T07:21:13.365Z"
   },
   {
    "duration": 6,
    "start_time": "2022-05-26T07:21:29.911Z"
   },
   {
    "duration": 3,
    "start_time": "2022-05-26T07:23:04.356Z"
   },
   {
    "duration": 778,
    "start_time": "2022-05-26T07:23:20.470Z"
   },
   {
    "duration": 3,
    "start_time": "2022-05-26T07:23:36.340Z"
   },
   {
    "duration": 681,
    "start_time": "2022-05-26T07:23:36.900Z"
   },
   {
    "duration": 3,
    "start_time": "2022-05-26T07:23:45.332Z"
   },
   {
    "duration": 830,
    "start_time": "2022-05-26T07:23:46.691Z"
   },
   {
    "duration": 3,
    "start_time": "2022-05-26T07:26:13.292Z"
   },
   {
    "duration": 651,
    "start_time": "2022-05-26T07:26:13.909Z"
   },
   {
    "duration": 163,
    "start_time": "2022-05-26T07:30:18.004Z"
   },
   {
    "duration": 355,
    "start_time": "2022-05-26T07:30:34.850Z"
   },
   {
    "duration": 281,
    "start_time": "2022-05-26T07:30:40.327Z"
   },
   {
    "duration": 300,
    "start_time": "2022-05-26T07:30:58.034Z"
   },
   {
    "duration": 286,
    "start_time": "2022-05-26T07:31:03.715Z"
   },
   {
    "duration": 151,
    "start_time": "2022-05-26T07:31:58.098Z"
   },
   {
    "duration": 214,
    "start_time": "2022-05-26T07:32:06.241Z"
   },
   {
    "duration": 194,
    "start_time": "2022-05-26T07:32:16.354Z"
   },
   {
    "duration": 191,
    "start_time": "2022-05-26T07:32:26.834Z"
   },
   {
    "duration": 320,
    "start_time": "2022-05-26T07:32:43.746Z"
   },
   {
    "duration": 205,
    "start_time": "2022-05-26T07:33:35.187Z"
   },
   {
    "duration": 207,
    "start_time": "2022-05-26T07:34:05.330Z"
   },
   {
    "duration": 225,
    "start_time": "2022-05-26T07:35:01.697Z"
   },
   {
    "duration": 9,
    "start_time": "2022-05-26T07:35:54.690Z"
   },
   {
    "duration": 151,
    "start_time": "2022-05-26T07:36:02.817Z"
   },
   {
    "duration": 163,
    "start_time": "2022-05-26T07:36:09.289Z"
   },
   {
    "duration": 213,
    "start_time": "2022-05-26T07:36:14.546Z"
   },
   {
    "duration": 421,
    "start_time": "2022-05-26T07:37:54.789Z"
   },
   {
    "duration": 325,
    "start_time": "2022-05-26T07:38:13.027Z"
   },
   {
    "duration": 35,
    "start_time": "2022-05-26T07:38:22.016Z"
   },
   {
    "duration": 37,
    "start_time": "2022-05-26T07:38:24.401Z"
   },
   {
    "duration": 415,
    "start_time": "2022-05-26T07:38:28.566Z"
   },
   {
    "duration": 284,
    "start_time": "2022-05-26T07:38:39.042Z"
   },
   {
    "duration": 296,
    "start_time": "2022-05-26T07:39:10.161Z"
   },
   {
    "duration": 295,
    "start_time": "2022-05-26T07:39:37.794Z"
   },
   {
    "duration": 325,
    "start_time": "2022-05-26T07:39:47.665Z"
   },
   {
    "duration": 315,
    "start_time": "2022-05-26T07:39:58.705Z"
   },
   {
    "duration": 458,
    "start_time": "2022-05-26T07:40:09.649Z"
   },
   {
    "duration": 306,
    "start_time": "2022-05-26T07:40:34.706Z"
   },
   {
    "duration": 307,
    "start_time": "2022-05-26T07:40:54.642Z"
   },
   {
    "duration": 332,
    "start_time": "2022-05-26T07:40:58.497Z"
   },
   {
    "duration": 318,
    "start_time": "2022-05-26T07:41:01.329Z"
   },
   {
    "duration": 327,
    "start_time": "2022-05-26T07:43:16.821Z"
   },
   {
    "duration": 210,
    "start_time": "2022-05-26T07:44:40.546Z"
   },
   {
    "duration": 219,
    "start_time": "2022-05-26T07:45:01.568Z"
   },
   {
    "duration": 181,
    "start_time": "2022-05-26T07:45:11.073Z"
   },
   {
    "duration": 386,
    "start_time": "2022-05-26T07:45:14.465Z"
   },
   {
    "duration": 232,
    "start_time": "2022-05-26T07:45:44.805Z"
   },
   {
    "duration": 233,
    "start_time": "2022-05-26T07:45:53.329Z"
   },
   {
    "duration": 224,
    "start_time": "2022-05-26T07:46:07.060Z"
   },
   {
    "duration": 234,
    "start_time": "2022-05-26T07:46:40.816Z"
   },
   {
    "duration": 343,
    "start_time": "2022-05-26T07:46:46.865Z"
   },
   {
    "duration": 2648,
    "start_time": "2022-05-26T07:47:09.969Z"
   },
   {
    "duration": 292,
    "start_time": "2022-05-26T07:47:37.875Z"
   },
   {
    "duration": 301,
    "start_time": "2022-05-26T07:47:51.043Z"
   },
   {
    "duration": 256,
    "start_time": "2022-05-26T07:47:57.313Z"
   },
   {
    "duration": 60,
    "start_time": "2022-05-26T07:48:06.849Z"
   },
   {
    "duration": 321,
    "start_time": "2022-05-26T07:48:10.305Z"
   },
   {
    "duration": 327,
    "start_time": "2022-05-26T07:48:28.209Z"
   },
   {
    "duration": 325,
    "start_time": "2022-05-26T07:48:33.429Z"
   },
   {
    "duration": 335,
    "start_time": "2022-05-26T07:48:55.701Z"
   },
   {
    "duration": 578,
    "start_time": "2022-05-26T07:49:43.139Z"
   },
   {
    "duration": 319,
    "start_time": "2022-05-26T07:50:15.701Z"
   },
   {
    "duration": 36,
    "start_time": "2022-05-26T07:51:11.473Z"
   },
   {
    "duration": 10,
    "start_time": "2022-05-26T07:53:42.177Z"
   },
   {
    "duration": 5,
    "start_time": "2022-05-26T07:53:44.994Z"
   },
   {
    "duration": 6,
    "start_time": "2022-05-26T07:54:05.825Z"
   },
   {
    "duration": 5,
    "start_time": "2022-05-26T07:54:34.209Z"
   },
   {
    "duration": 5,
    "start_time": "2022-05-26T07:54:38.929Z"
   },
   {
    "duration": 5,
    "start_time": "2022-05-26T07:54:58.337Z"
   },
   {
    "duration": 673,
    "start_time": "2022-05-26T08:02:59.583Z"
   },
   {
    "duration": 98,
    "start_time": "2022-05-26T08:03:20.704Z"
   },
   {
    "duration": 5,
    "start_time": "2022-05-26T09:29:46.880Z"
   },
   {
    "duration": 6,
    "start_time": "2022-05-26T09:30:30.752Z"
   },
   {
    "duration": 7,
    "start_time": "2022-05-26T09:30:48.320Z"
   },
   {
    "duration": 3,
    "start_time": "2022-05-26T09:46:25.889Z"
   },
   {
    "duration": 5,
    "start_time": "2022-05-26T09:47:23.729Z"
   },
   {
    "duration": 3,
    "start_time": "2022-05-26T09:47:30.961Z"
   },
   {
    "duration": 4,
    "start_time": "2022-05-26T09:47:38.001Z"
   },
   {
    "duration": 7,
    "start_time": "2022-05-26T09:47:56.657Z"
   },
   {
    "duration": 6,
    "start_time": "2022-05-26T09:48:24.979Z"
   },
   {
    "duration": 5,
    "start_time": "2022-05-26T09:48:38.789Z"
   },
   {
    "duration": 7,
    "start_time": "2022-05-26T09:49:53.730Z"
   },
   {
    "duration": 7,
    "start_time": "2022-05-26T09:50:39.538Z"
   },
   {
    "duration": 6,
    "start_time": "2022-05-26T09:50:47.923Z"
   },
   {
    "duration": 8,
    "start_time": "2022-05-26T09:50:58.097Z"
   },
   {
    "duration": 7,
    "start_time": "2022-05-26T09:52:30.321Z"
   },
   {
    "duration": 8,
    "start_time": "2022-05-26T09:52:36.581Z"
   },
   {
    "duration": 6,
    "start_time": "2022-05-26T09:52:47.443Z"
   },
   {
    "duration": 8,
    "start_time": "2022-05-26T09:52:50.706Z"
   },
   {
    "duration": 65,
    "start_time": "2022-05-26T09:52:52.805Z"
   },
   {
    "duration": 9,
    "start_time": "2022-05-26T09:52:55.042Z"
   },
   {
    "duration": 26,
    "start_time": "2022-05-26T09:54:10.258Z"
   },
   {
    "duration": 5,
    "start_time": "2022-05-26T09:54:17.085Z"
   },
   {
    "duration": 6,
    "start_time": "2022-05-26T09:55:42.757Z"
   },
   {
    "duration": 38,
    "start_time": "2022-05-26T09:58:51.785Z"
   },
   {
    "duration": 4,
    "start_time": "2022-05-26T11:16:33.748Z"
   },
   {
    "duration": 4,
    "start_time": "2022-05-26T11:18:43.231Z"
   },
   {
    "duration": 9,
    "start_time": "2022-05-26T11:18:46.403Z"
   },
   {
    "duration": 4,
    "start_time": "2022-05-26T11:19:04.121Z"
   },
   {
    "duration": 20,
    "start_time": "2022-05-26T11:21:17.660Z"
   },
   {
    "duration": 5,
    "start_time": "2022-05-26T11:22:10.453Z"
   },
   {
    "duration": 20,
    "start_time": "2022-05-26T11:22:10.650Z"
   },
   {
    "duration": 3,
    "start_time": "2022-05-26T11:23:53.492Z"
   },
   {
    "duration": 3,
    "start_time": "2022-05-26T11:24:17.151Z"
   },
   {
    "duration": 13,
    "start_time": "2022-05-26T11:24:18.703Z"
   },
   {
    "duration": 113,
    "start_time": "2022-05-26T11:25:09.690Z"
   },
   {
    "duration": 142,
    "start_time": "2022-05-26T11:25:55.833Z"
   },
   {
    "duration": 106,
    "start_time": "2022-05-26T11:28:42.280Z"
   },
   {
    "duration": 142,
    "start_time": "2022-05-26T11:28:52.985Z"
   },
   {
    "duration": 105,
    "start_time": "2022-05-26T11:29:02.231Z"
   },
   {
    "duration": 228,
    "start_time": "2022-05-26T11:29:18.968Z"
   },
   {
    "duration": 3,
    "start_time": "2022-05-26T11:29:26.745Z"
   },
   {
    "duration": 98,
    "start_time": "2022-05-26T11:29:33.320Z"
   },
   {
    "duration": 144,
    "start_time": "2022-05-26T11:29:43.384Z"
   },
   {
    "duration": 120,
    "start_time": "2022-05-26T11:32:37.463Z"
   },
   {
    "duration": 100,
    "start_time": "2022-05-26T11:32:50.854Z"
   },
   {
    "duration": 123,
    "start_time": "2022-05-26T11:32:56.168Z"
   },
   {
    "duration": 108,
    "start_time": "2022-05-26T11:33:03.079Z"
   },
   {
    "duration": 115,
    "start_time": "2022-05-26T11:33:08.278Z"
   },
   {
    "duration": 102,
    "start_time": "2022-05-26T11:33:13.447Z"
   },
   {
    "duration": 125,
    "start_time": "2022-05-26T11:33:30.358Z"
   },
   {
    "duration": 93,
    "start_time": "2022-05-26T11:35:47.590Z"
   },
   {
    "duration": 118,
    "start_time": "2022-05-26T11:35:51.045Z"
   },
   {
    "duration": 106,
    "start_time": "2022-05-26T11:35:58.597Z"
   },
   {
    "duration": 105,
    "start_time": "2022-05-26T11:38:35.179Z"
   },
   {
    "duration": 121,
    "start_time": "2022-05-26T11:39:38.517Z"
   },
   {
    "duration": 170,
    "start_time": "2022-05-26T11:40:02.741Z"
   },
   {
    "duration": 5,
    "start_time": "2022-05-26T11:41:21.462Z"
   },
   {
    "duration": 15,
    "start_time": "2022-05-26T11:41:21.869Z"
   },
   {
    "duration": 6,
    "start_time": "2022-05-26T11:42:03.191Z"
   },
   {
    "duration": 27,
    "start_time": "2022-05-26T11:44:01.557Z"
   },
   {
    "duration": 14,
    "start_time": "2022-05-26T11:45:02.124Z"
   },
   {
    "duration": 13,
    "start_time": "2022-05-26T11:45:13.396Z"
   },
   {
    "duration": 11,
    "start_time": "2022-05-26T11:45:20.787Z"
   },
   {
    "duration": 11,
    "start_time": "2022-05-26T11:45:40.475Z"
   },
   {
    "duration": 9,
    "start_time": "2022-05-26T11:46:19.507Z"
   },
   {
    "duration": 17,
    "start_time": "2022-05-26T11:46:40.883Z"
   },
   {
    "duration": 16,
    "start_time": "2022-05-26T11:46:44.479Z"
   },
   {
    "duration": 0,
    "start_time": "2022-05-26T11:46:44.497Z"
   },
   {
    "duration": 0,
    "start_time": "2022-05-26T11:46:44.498Z"
   },
   {
    "duration": 0,
    "start_time": "2022-05-26T11:46:44.499Z"
   },
   {
    "duration": 0,
    "start_time": "2022-05-26T11:46:44.500Z"
   },
   {
    "duration": 0,
    "start_time": "2022-05-26T11:46:44.502Z"
   },
   {
    "duration": 0,
    "start_time": "2022-05-26T11:46:44.503Z"
   },
   {
    "duration": 0,
    "start_time": "2022-05-26T11:46:44.504Z"
   },
   {
    "duration": 0,
    "start_time": "2022-05-26T11:46:44.505Z"
   },
   {
    "duration": 0,
    "start_time": "2022-05-26T11:46:44.506Z"
   },
   {
    "duration": 0,
    "start_time": "2022-05-26T11:46:44.507Z"
   },
   {
    "duration": 0,
    "start_time": "2022-05-26T11:46:44.508Z"
   },
   {
    "duration": 0,
    "start_time": "2022-05-26T11:46:44.509Z"
   },
   {
    "duration": 0,
    "start_time": "2022-05-26T11:46:44.510Z"
   },
   {
    "duration": 3,
    "start_time": "2022-05-26T11:46:56.590Z"
   },
   {
    "duration": 652,
    "start_time": "2022-05-26T11:46:56.595Z"
   },
   {
    "duration": 45,
    "start_time": "2022-05-26T11:46:57.248Z"
   },
   {
    "duration": 50,
    "start_time": "2022-05-26T11:46:57.294Z"
   },
   {
    "duration": 4,
    "start_time": "2022-05-26T11:46:57.346Z"
   },
   {
    "duration": 7,
    "start_time": "2022-05-26T11:46:57.351Z"
   },
   {
    "duration": 303,
    "start_time": "2022-05-26T11:46:57.375Z"
   },
   {
    "duration": 5,
    "start_time": "2022-05-26T11:46:57.680Z"
   },
   {
    "duration": 47,
    "start_time": "2022-05-26T11:46:57.687Z"
   },
   {
    "duration": 6,
    "start_time": "2022-05-26T11:46:57.735Z"
   },
   {
    "duration": 8,
    "start_time": "2022-05-26T11:46:57.743Z"
   },
   {
    "duration": 34,
    "start_time": "2022-05-26T11:46:57.753Z"
   },
   {
    "duration": 19,
    "start_time": "2022-05-26T11:46:57.789Z"
   },
   {
    "duration": 233,
    "start_time": "2022-05-26T11:46:57.810Z"
   },
   {
    "duration": 132,
    "start_time": "2022-05-26T11:46:58.045Z"
   },
   {
    "duration": 4,
    "start_time": "2022-05-26T11:46:58.178Z"
   },
   {
    "duration": 19,
    "start_time": "2022-05-26T11:46:58.184Z"
   },
   {
    "duration": 6,
    "start_time": "2022-05-26T11:46:58.205Z"
   },
   {
    "duration": 18,
    "start_time": "2022-05-26T11:47:09.987Z"
   },
   {
    "duration": 6,
    "start_time": "2022-05-26T11:47:17.684Z"
   },
   {
    "duration": 3,
    "start_time": "2022-05-26T11:47:48.376Z"
   },
   {
    "duration": 640,
    "start_time": "2022-05-26T11:47:48.382Z"
   },
   {
    "duration": 37,
    "start_time": "2022-05-26T11:47:49.024Z"
   },
   {
    "duration": 60,
    "start_time": "2022-05-26T11:47:49.062Z"
   },
   {
    "duration": 4,
    "start_time": "2022-05-26T11:47:49.125Z"
   },
   {
    "duration": 5,
    "start_time": "2022-05-26T11:47:49.130Z"
   },
   {
    "duration": 308,
    "start_time": "2022-05-26T11:47:49.137Z"
   },
   {
    "duration": 5,
    "start_time": "2022-05-26T11:47:49.446Z"
   },
   {
    "duration": 45,
    "start_time": "2022-05-26T11:47:49.453Z"
   },
   {
    "duration": 6,
    "start_time": "2022-05-26T11:47:49.501Z"
   },
   {
    "duration": 10,
    "start_time": "2022-05-26T11:47:49.508Z"
   },
   {
    "duration": 17,
    "start_time": "2022-05-26T11:47:49.520Z"
   },
   {
    "duration": 48,
    "start_time": "2022-05-26T11:47:49.538Z"
   },
   {
    "duration": 225,
    "start_time": "2022-05-26T11:47:49.589Z"
   },
   {
    "duration": 136,
    "start_time": "2022-05-26T11:47:49.816Z"
   },
   {
    "duration": 4,
    "start_time": "2022-05-26T11:47:49.954Z"
   },
   {
    "duration": 21,
    "start_time": "2022-05-26T11:47:49.959Z"
   },
   {
    "duration": 6,
    "start_time": "2022-05-26T11:47:49.982Z"
   },
   {
    "duration": 10,
    "start_time": "2022-05-26T11:47:51.922Z"
   },
   {
    "duration": 9,
    "start_time": "2022-05-26T11:52:58.130Z"
   },
   {
    "duration": 1164,
    "start_time": "2022-05-26T11:53:10.351Z"
   },
   {
    "duration": 712,
    "start_time": "2022-05-26T11:53:11.518Z"
   },
   {
    "duration": 121,
    "start_time": "2022-05-26T11:53:12.232Z"
   },
   {
    "duration": 66,
    "start_time": "2022-05-26T11:53:12.355Z"
   },
   {
    "duration": 4,
    "start_time": "2022-05-26T11:53:12.423Z"
   },
   {
    "duration": 7,
    "start_time": "2022-05-26T11:53:12.429Z"
   },
   {
    "duration": 355,
    "start_time": "2022-05-26T11:53:12.437Z"
   },
   {
    "duration": 6,
    "start_time": "2022-05-26T11:53:12.794Z"
   },
   {
    "duration": 57,
    "start_time": "2022-05-26T11:53:12.802Z"
   },
   {
    "duration": 10,
    "start_time": "2022-05-26T11:53:12.877Z"
   },
   {
    "duration": 23,
    "start_time": "2022-05-26T11:53:12.889Z"
   },
   {
    "duration": 33,
    "start_time": "2022-05-26T11:53:12.914Z"
   },
   {
    "duration": 31,
    "start_time": "2022-05-26T11:53:12.949Z"
   },
   {
    "duration": 242,
    "start_time": "2022-05-26T11:53:12.983Z"
   },
   {
    "duration": 132,
    "start_time": "2022-05-26T11:53:13.226Z"
   },
   {
    "duration": 4,
    "start_time": "2022-05-26T11:53:13.359Z"
   },
   {
    "duration": 14,
    "start_time": "2022-05-26T11:53:13.375Z"
   },
   {
    "duration": 6,
    "start_time": "2022-05-26T11:53:13.390Z"
   },
   {
    "duration": 30,
    "start_time": "2022-05-26T11:53:15.073Z"
   },
   {
    "duration": 110,
    "start_time": "2022-05-26T11:53:41.766Z"
   },
   {
    "duration": 33,
    "start_time": "2022-05-26T11:53:56.127Z"
   },
   {
    "duration": 10,
    "start_time": "2022-05-26T11:54:03.524Z"
   },
   {
    "duration": 12,
    "start_time": "2022-05-26T11:54:58.726Z"
   },
   {
    "duration": 33,
    "start_time": "2022-05-26T11:55:05.761Z"
   },
   {
    "duration": 9,
    "start_time": "2022-05-26T11:58:19.649Z"
   },
   {
    "duration": 32,
    "start_time": "2022-05-26T11:58:29.278Z"
   },
   {
    "duration": 11,
    "start_time": "2022-05-26T11:58:33.522Z"
   },
   {
    "duration": 5,
    "start_time": "2022-05-26T11:58:47.226Z"
   },
   {
    "duration": 5,
    "start_time": "2022-05-26T11:58:56.593Z"
   },
   {
    "duration": 5,
    "start_time": "2022-05-26T11:59:04.526Z"
   },
   {
    "duration": 6,
    "start_time": "2022-05-26T12:00:50.562Z"
   },
   {
    "duration": 15,
    "start_time": "2022-05-26T12:02:11.134Z"
   },
   {
    "duration": 4,
    "start_time": "2022-05-26T12:02:40.637Z"
   },
   {
    "duration": 18,
    "start_time": "2022-05-26T12:02:49.565Z"
   },
   {
    "duration": 14,
    "start_time": "2022-05-26T12:03:52.224Z"
   },
   {
    "duration": 14,
    "start_time": "2022-05-26T12:04:10.492Z"
   },
   {
    "duration": 3,
    "start_time": "2022-05-26T12:04:14.633Z"
   },
   {
    "duration": 142,
    "start_time": "2022-05-26T12:04:15.236Z"
   },
   {
    "duration": 10,
    "start_time": "2022-05-26T12:04:16.686Z"
   },
   {
    "duration": 11,
    "start_time": "2022-05-26T12:04:19.092Z"
   },
   {
    "duration": 190,
    "start_time": "2022-05-26T12:04:20.523Z"
   },
   {
    "duration": 10,
    "start_time": "2022-05-26T12:04:26.936Z"
   },
   {
    "duration": 185,
    "start_time": "2022-05-26T12:04:32.348Z"
   },
   {
    "duration": 6,
    "start_time": "2022-05-26T12:09:16.195Z"
   },
   {
    "duration": 321,
    "start_time": "2022-05-26T12:09:19.066Z"
   },
   {
    "duration": 342,
    "start_time": "2022-05-26T12:09:22.487Z"
   },
   {
    "duration": 10,
    "start_time": "2022-05-26T12:10:39.529Z"
   },
   {
    "duration": 4,
    "start_time": "2022-05-26T12:10:44.441Z"
   },
   {
    "duration": 2,
    "start_time": "2022-05-26T12:14:41.583Z"
   },
   {
    "duration": 623,
    "start_time": "2022-05-26T12:14:41.587Z"
   },
   {
    "duration": 41,
    "start_time": "2022-05-26T12:14:42.212Z"
   },
   {
    "duration": 58,
    "start_time": "2022-05-26T12:14:42.255Z"
   },
   {
    "duration": 3,
    "start_time": "2022-05-26T12:14:42.315Z"
   },
   {
    "duration": 6,
    "start_time": "2022-05-26T12:14:42.320Z"
   },
   {
    "duration": 342,
    "start_time": "2022-05-26T12:14:42.328Z"
   },
   {
    "duration": 5,
    "start_time": "2022-05-26T12:14:42.672Z"
   },
   {
    "duration": 41,
    "start_time": "2022-05-26T12:14:42.678Z"
   },
   {
    "duration": 6,
    "start_time": "2022-05-26T12:14:42.721Z"
   },
   {
    "duration": 20,
    "start_time": "2022-05-26T12:14:42.731Z"
   },
   {
    "duration": 34,
    "start_time": "2022-05-26T12:14:42.753Z"
   },
   {
    "duration": 27,
    "start_time": "2022-05-26T12:14:42.789Z"
   },
   {
    "duration": 292,
    "start_time": "2022-05-26T12:14:42.818Z"
   },
   {
    "duration": 128,
    "start_time": "2022-05-26T12:14:43.112Z"
   },
   {
    "duration": 4,
    "start_time": "2022-05-26T12:14:43.241Z"
   },
   {
    "duration": 27,
    "start_time": "2022-05-26T12:14:43.247Z"
   },
   {
    "duration": 6,
    "start_time": "2022-05-26T12:14:43.276Z"
   },
   {
    "duration": 14,
    "start_time": "2022-05-26T12:15:24.842Z"
   },
   {
    "duration": 10,
    "start_time": "2022-05-26T12:16:46.311Z"
   },
   {
    "duration": 3,
    "start_time": "2022-05-26T12:17:57.842Z"
   },
   {
    "duration": 666,
    "start_time": "2022-05-26T12:17:57.847Z"
   },
   {
    "duration": 36,
    "start_time": "2022-05-26T12:17:58.515Z"
   },
   {
    "duration": 58,
    "start_time": "2022-05-26T12:17:58.553Z"
   },
   {
    "duration": 3,
    "start_time": "2022-05-26T12:17:58.614Z"
   },
   {
    "duration": 4,
    "start_time": "2022-05-26T12:17:58.619Z"
   },
   {
    "duration": 321,
    "start_time": "2022-05-26T12:17:58.625Z"
   },
   {
    "duration": 5,
    "start_time": "2022-05-26T12:17:58.948Z"
   },
   {
    "duration": 49,
    "start_time": "2022-05-26T12:17:58.955Z"
   },
   {
    "duration": 5,
    "start_time": "2022-05-26T12:17:59.006Z"
   },
   {
    "duration": 13,
    "start_time": "2022-05-26T12:17:59.013Z"
   },
   {
    "duration": 17,
    "start_time": "2022-05-26T12:17:59.027Z"
   },
   {
    "duration": 32,
    "start_time": "2022-05-26T12:17:59.045Z"
   },
   {
    "duration": 215,
    "start_time": "2022-05-26T12:17:59.078Z"
   },
   {
    "duration": 202,
    "start_time": "2022-05-26T12:17:59.295Z"
   },
   {
    "duration": 4,
    "start_time": "2022-05-26T12:17:59.499Z"
   },
   {
    "duration": 18,
    "start_time": "2022-05-26T12:17:59.504Z"
   },
   {
    "duration": 5,
    "start_time": "2022-05-26T12:17:59.523Z"
   },
   {
    "duration": 7,
    "start_time": "2022-05-26T12:18:02.337Z"
   },
   {
    "duration": 14,
    "start_time": "2022-05-26T12:18:08.104Z"
   },
   {
    "duration": 27,
    "start_time": "2022-05-26T12:18:17.062Z"
   },
   {
    "duration": 3,
    "start_time": "2022-05-26T12:19:05.474Z"
   },
   {
    "duration": 636,
    "start_time": "2022-05-26T12:19:05.478Z"
   },
   {
    "duration": 35,
    "start_time": "2022-05-26T12:19:06.116Z"
   },
   {
    "duration": 70,
    "start_time": "2022-05-26T12:19:06.153Z"
   },
   {
    "duration": 4,
    "start_time": "2022-05-26T12:19:06.225Z"
   },
   {
    "duration": 20,
    "start_time": "2022-05-26T12:19:06.230Z"
   },
   {
    "duration": 301,
    "start_time": "2022-05-26T12:19:06.252Z"
   },
   {
    "duration": 5,
    "start_time": "2022-05-26T12:19:06.554Z"
   },
   {
    "duration": 44,
    "start_time": "2022-05-26T12:19:06.560Z"
   },
   {
    "duration": 5,
    "start_time": "2022-05-26T12:19:06.605Z"
   },
   {
    "duration": 7,
    "start_time": "2022-05-26T12:19:06.612Z"
   },
   {
    "duration": 16,
    "start_time": "2022-05-26T12:19:06.621Z"
   },
   {
    "duration": 39,
    "start_time": "2022-05-26T12:19:06.639Z"
   },
   {
    "duration": 226,
    "start_time": "2022-05-26T12:19:06.680Z"
   },
   {
    "duration": 127,
    "start_time": "2022-05-26T12:19:06.907Z"
   },
   {
    "duration": 4,
    "start_time": "2022-05-26T12:19:07.035Z"
   },
   {
    "duration": 19,
    "start_time": "2022-05-26T12:19:07.041Z"
   },
   {
    "duration": 16,
    "start_time": "2022-05-26T12:19:07.061Z"
   },
   {
    "duration": 26,
    "start_time": "2022-05-26T12:19:16.006Z"
   },
   {
    "duration": 7,
    "start_time": "2022-05-26T12:19:23.838Z"
   },
   {
    "duration": 28,
    "start_time": "2022-05-26T12:19:25.462Z"
   },
   {
    "duration": 4,
    "start_time": "2022-05-26T12:24:35.217Z"
   },
   {
    "duration": 313,
    "start_time": "2022-05-26T12:24:35.982Z"
   },
   {
    "duration": 16,
    "start_time": "2022-05-26T12:28:20.051Z"
   },
   {
    "duration": 115,
    "start_time": "2022-05-26T12:28:27.811Z"
   },
   {
    "duration": 113,
    "start_time": "2022-05-26T12:29:00.951Z"
   },
   {
    "duration": 103,
    "start_time": "2022-05-26T12:29:33.080Z"
   },
   {
    "duration": 116,
    "start_time": "2022-05-26T12:30:06.163Z"
   },
   {
    "duration": 190,
    "start_time": "2022-05-26T12:30:17.571Z"
   },
   {
    "duration": 163,
    "start_time": "2022-05-26T12:30:37.827Z"
   },
   {
    "duration": 23,
    "start_time": "2022-05-26T12:31:33.714Z"
   },
   {
    "duration": 28,
    "start_time": "2022-05-26T12:31:45.513Z"
   },
   {
    "duration": 22,
    "start_time": "2022-05-26T12:32:08.022Z"
   },
   {
    "duration": 22,
    "start_time": "2022-05-26T12:32:53.298Z"
   },
   {
    "duration": 703,
    "start_time": "2022-05-26T12:35:40.275Z"
   },
   {
    "duration": 25,
    "start_time": "2022-05-26T12:36:18.231Z"
   },
   {
    "duration": 10,
    "start_time": "2022-05-26T12:37:44.572Z"
   },
   {
    "duration": 26,
    "start_time": "2022-05-26T12:37:52.500Z"
   },
   {
    "duration": 162,
    "start_time": "2022-05-26T12:38:34.981Z"
   },
   {
    "duration": 21,
    "start_time": "2022-05-26T12:39:05.781Z"
   },
   {
    "duration": 29,
    "start_time": "2022-05-26T12:39:12.917Z"
   },
   {
    "duration": 32,
    "start_time": "2022-05-26T12:39:27.080Z"
   },
   {
    "duration": 19,
    "start_time": "2022-05-26T12:40:10.485Z"
   },
   {
    "duration": 19,
    "start_time": "2022-05-26T12:42:58.608Z"
   },
   {
    "duration": 25,
    "start_time": "2022-05-26T12:43:04.796Z"
   },
   {
    "duration": 26,
    "start_time": "2022-05-26T12:43:08.949Z"
   },
   {
    "duration": 18,
    "start_time": "2022-05-26T12:43:17.673Z"
   },
   {
    "duration": 37,
    "start_time": "2022-05-26T12:43:43.025Z"
   },
   {
    "duration": 5,
    "start_time": "2022-05-26T12:45:05.349Z"
   },
   {
    "duration": 24,
    "start_time": "2022-05-26T12:45:12.085Z"
   },
   {
    "duration": 5,
    "start_time": "2022-05-26T12:46:06.350Z"
   },
   {
    "duration": 339,
    "start_time": "2022-05-26T12:46:10.021Z"
   },
   {
    "duration": 446,
    "start_time": "2022-05-26T12:46:23.373Z"
   },
   {
    "duration": 6,
    "start_time": "2022-05-26T12:47:27.674Z"
   },
   {
    "duration": 686,
    "start_time": "2022-05-26T12:47:27.682Z"
   },
   {
    "duration": 36,
    "start_time": "2022-05-26T12:47:28.370Z"
   },
   {
    "duration": 47,
    "start_time": "2022-05-26T12:47:28.408Z"
   },
   {
    "duration": 4,
    "start_time": "2022-05-26T12:47:28.474Z"
   },
   {
    "duration": 17,
    "start_time": "2022-05-26T12:47:28.479Z"
   },
   {
    "duration": 311,
    "start_time": "2022-05-26T12:47:28.497Z"
   },
   {
    "duration": 4,
    "start_time": "2022-05-26T12:47:28.809Z"
   },
   {
    "duration": 38,
    "start_time": "2022-05-26T12:47:28.815Z"
   },
   {
    "duration": 20,
    "start_time": "2022-05-26T12:47:28.855Z"
   },
   {
    "duration": 8,
    "start_time": "2022-05-26T12:47:28.876Z"
   },
   {
    "duration": 23,
    "start_time": "2022-05-26T12:47:28.886Z"
   },
   {
    "duration": 21,
    "start_time": "2022-05-26T12:47:28.911Z"
   },
   {
    "duration": 242,
    "start_time": "2022-05-26T12:47:28.935Z"
   },
   {
    "duration": 123,
    "start_time": "2022-05-26T12:47:29.179Z"
   },
   {
    "duration": 4,
    "start_time": "2022-05-26T12:47:29.304Z"
   },
   {
    "duration": 15,
    "start_time": "2022-05-26T12:47:29.309Z"
   },
   {
    "duration": 4,
    "start_time": "2022-05-26T12:47:29.326Z"
   },
   {
    "duration": 8,
    "start_time": "2022-05-26T12:47:29.332Z"
   },
   {
    "duration": 190,
    "start_time": "2022-05-26T12:47:29.341Z"
   },
   {
    "duration": 7,
    "start_time": "2022-05-26T12:47:32.132Z"
   },
   {
    "duration": 18,
    "start_time": "2022-05-26T12:47:32.532Z"
   },
   {
    "duration": 169,
    "start_time": "2022-05-26T12:47:33.021Z"
   },
   {
    "duration": 6,
    "start_time": "2022-05-26T12:47:42.277Z"
   },
   {
    "duration": 333,
    "start_time": "2022-05-26T12:47:47.085Z"
   },
   {
    "duration": 5,
    "start_time": "2022-05-26T12:48:07.388Z"
   },
   {
    "duration": 5,
    "start_time": "2022-05-26T12:48:07.788Z"
   },
   {
    "duration": 8,
    "start_time": "2022-05-26T13:25:57.230Z"
   },
   {
    "duration": 6,
    "start_time": "2022-05-26T13:26:09.774Z"
   },
   {
    "duration": 7,
    "start_time": "2022-05-26T13:35:01.213Z"
   },
   {
    "duration": 4,
    "start_time": "2022-05-26T13:35:08.572Z"
   },
   {
    "duration": 4,
    "start_time": "2022-05-26T13:36:12.622Z"
   },
   {
    "duration": 3,
    "start_time": "2022-05-26T13:36:37.836Z"
   },
   {
    "duration": 3,
    "start_time": "2022-05-26T13:36:45.664Z"
   },
   {
    "duration": 3,
    "start_time": "2022-05-26T13:37:34.094Z"
   },
   {
    "duration": 3,
    "start_time": "2022-05-26T13:37:38.466Z"
   },
   {
    "duration": 4,
    "start_time": "2022-05-26T13:39:10.508Z"
   },
   {
    "duration": 79,
    "start_time": "2022-05-26T13:39:35.572Z"
   },
   {
    "duration": 5,
    "start_time": "2022-05-26T13:39:43.749Z"
   },
   {
    "duration": 4,
    "start_time": "2022-05-26T13:39:56.733Z"
   },
   {
    "duration": 4,
    "start_time": "2022-05-26T13:40:18.541Z"
   },
   {
    "duration": 5,
    "start_time": "2022-05-26T13:41:06.635Z"
   },
   {
    "duration": 4,
    "start_time": "2022-05-26T13:41:18.766Z"
   },
   {
    "duration": 5,
    "start_time": "2022-05-26T13:42:06.172Z"
   },
   {
    "duration": 5,
    "start_time": "2022-05-26T13:42:17.019Z"
   },
   {
    "duration": 4,
    "start_time": "2022-05-26T13:42:41.291Z"
   },
   {
    "duration": 8,
    "start_time": "2022-05-26T13:48:59.258Z"
   },
   {
    "duration": 4,
    "start_time": "2022-05-26T13:49:01.002Z"
   },
   {
    "duration": 5,
    "start_time": "2022-05-26T13:49:01.520Z"
   },
   {
    "duration": 2,
    "start_time": "2022-05-26T13:49:09.724Z"
   },
   {
    "duration": 39,
    "start_time": "2022-05-26T13:49:24.201Z"
   },
   {
    "duration": 139,
    "start_time": "2022-05-26T13:50:23.217Z"
   },
   {
    "duration": 34,
    "start_time": "2022-05-26T13:50:30.922Z"
   },
   {
    "duration": 20,
    "start_time": "2022-05-26T13:51:13.510Z"
   },
   {
    "duration": 7,
    "start_time": "2022-05-26T13:51:44.425Z"
   },
   {
    "duration": 6,
    "start_time": "2022-05-26T13:53:00.393Z"
   },
   {
    "duration": 10,
    "start_time": "2022-05-26T13:53:05.065Z"
   },
   {
    "duration": 1328,
    "start_time": "2022-05-27T07:22:03.776Z"
   },
   {
    "duration": 1781,
    "start_time": "2022-05-27T07:22:05.107Z"
   },
   {
    "duration": 126,
    "start_time": "2022-05-27T07:22:06.890Z"
   },
   {
    "duration": 80,
    "start_time": "2022-05-27T07:22:07.017Z"
   },
   {
    "duration": 4,
    "start_time": "2022-05-27T07:22:07.100Z"
   },
   {
    "duration": 7,
    "start_time": "2022-05-27T07:22:07.106Z"
   },
   {
    "duration": 442,
    "start_time": "2022-05-27T07:22:07.114Z"
   },
   {
    "duration": 5,
    "start_time": "2022-05-27T07:22:07.558Z"
   },
   {
    "duration": 55,
    "start_time": "2022-05-27T07:22:07.564Z"
   },
   {
    "duration": 9,
    "start_time": "2022-05-27T07:22:07.621Z"
   },
   {
    "duration": 10,
    "start_time": "2022-05-27T07:22:07.632Z"
   },
   {
    "duration": 16,
    "start_time": "2022-05-27T07:22:07.644Z"
   },
   {
    "duration": 42,
    "start_time": "2022-05-27T07:22:07.662Z"
   },
   {
    "duration": 222,
    "start_time": "2022-05-27T07:22:07.708Z"
   },
   {
    "duration": 127,
    "start_time": "2022-05-27T07:22:07.932Z"
   },
   {
    "duration": 4,
    "start_time": "2022-05-27T07:22:08.060Z"
   },
   {
    "duration": 15,
    "start_time": "2022-05-27T07:22:08.065Z"
   },
   {
    "duration": 16,
    "start_time": "2022-05-27T07:22:08.082Z"
   },
   {
    "duration": 8,
    "start_time": "2022-05-27T07:22:08.100Z"
   },
   {
    "duration": 212,
    "start_time": "2022-05-27T07:22:08.110Z"
   },
   {
    "duration": 7,
    "start_time": "2022-05-27T07:22:08.324Z"
   },
   {
    "duration": 21,
    "start_time": "2022-05-27T07:22:08.332Z"
   },
   {
    "duration": 198,
    "start_time": "2022-05-27T07:22:08.355Z"
   },
   {
    "duration": 5,
    "start_time": "2022-05-27T07:22:08.554Z"
   },
   {
    "duration": 7,
    "start_time": "2022-05-27T07:22:08.561Z"
   },
   {
    "duration": 152,
    "start_time": "2022-05-27T07:22:08.569Z"
   },
   {
    "duration": 8,
    "start_time": "2022-05-27T07:22:08.723Z"
   },
   {
    "duration": 11,
    "start_time": "2022-05-27T07:22:08.733Z"
   },
   {
    "duration": 203,
    "start_time": "2022-05-27T07:22:08.746Z"
   },
   {
    "duration": 12,
    "start_time": "2022-05-27T07:22:08.951Z"
   },
   {
    "duration": 196,
    "start_time": "2022-05-27T07:22:08.965Z"
   },
   {
    "duration": 5,
    "start_time": "2022-05-27T07:22:09.162Z"
   },
   {
    "duration": 345,
    "start_time": "2022-05-27T07:22:09.169Z"
   },
   {
    "duration": 351,
    "start_time": "2022-05-27T07:22:09.516Z"
   },
   {
    "duration": 5,
    "start_time": "2022-05-27T07:22:09.868Z"
   },
   {
    "duration": 10,
    "start_time": "2022-05-27T07:22:09.875Z"
   },
   {
    "duration": 8,
    "start_time": "2022-05-27T07:22:09.887Z"
   },
   {
    "duration": 137,
    "start_time": "2022-05-27T07:22:09.896Z"
   },
   {
    "duration": 8,
    "start_time": "2022-05-27T07:22:10.035Z"
   },
   {
    "duration": 32,
    "start_time": "2022-05-27T07:22:10.044Z"
   },
   {
    "duration": 30,
    "start_time": "2022-05-27T07:28:31.514Z"
   },
   {
    "duration": 615,
    "start_time": "2022-05-27T07:34:08.166Z"
   },
   {
    "duration": 13,
    "start_time": "2022-05-27T07:34:26.895Z"
   },
   {
    "duration": 293,
    "start_time": "2022-05-27T07:34:32.816Z"
   },
   {
    "duration": 8,
    "start_time": "2022-05-27T07:34:36.897Z"
   },
   {
    "duration": 5741,
    "start_time": "2022-05-27T07:35:32.984Z"
   },
   {
    "duration": 7,
    "start_time": "2022-05-27T07:35:51.695Z"
   },
   {
    "duration": 8,
    "start_time": "2022-05-27T07:36:05.024Z"
   },
   {
    "duration": 7,
    "start_time": "2022-05-27T07:37:24.558Z"
   },
   {
    "duration": 6,
    "start_time": "2022-05-27T07:37:51.967Z"
   },
   {
    "duration": 7,
    "start_time": "2022-05-27T07:38:02.240Z"
   },
   {
    "duration": 6,
    "start_time": "2022-05-27T07:38:18.366Z"
   },
   {
    "duration": 40,
    "start_time": "2022-05-27T07:38:38.469Z"
   },
   {
    "duration": 39,
    "start_time": "2022-05-27T07:38:51.774Z"
   },
   {
    "duration": 33,
    "start_time": "2022-05-27T07:39:01.334Z"
   },
   {
    "duration": 7,
    "start_time": "2022-05-27T07:39:15.534Z"
   },
   {
    "duration": 6,
    "start_time": "2022-05-27T07:39:23.590Z"
   },
   {
    "duration": 7,
    "start_time": "2022-05-27T07:39:30.649Z"
   },
   {
    "duration": 6,
    "start_time": "2022-05-27T07:40:02.910Z"
   },
   {
    "duration": 7,
    "start_time": "2022-05-27T07:40:17.230Z"
   },
   {
    "duration": 8,
    "start_time": "2022-05-27T07:40:27.042Z"
   },
   {
    "duration": 8,
    "start_time": "2022-05-27T07:40:37.201Z"
   },
   {
    "duration": 5,
    "start_time": "2022-05-27T07:41:12.008Z"
   },
   {
    "duration": 6,
    "start_time": "2022-05-27T07:41:38.062Z"
   },
   {
    "duration": 675,
    "start_time": "2022-05-27T07:41:45.837Z"
   },
   {
    "duration": 5,
    "start_time": "2022-05-27T07:41:56.398Z"
   },
   {
    "duration": 5,
    "start_time": "2022-05-27T07:42:26.608Z"
   },
   {
    "duration": 29,
    "start_time": "2022-05-27T07:42:33.630Z"
   },
   {
    "duration": 7,
    "start_time": "2022-05-27T07:42:55.411Z"
   },
   {
    "duration": 11,
    "start_time": "2022-05-27T07:43:19.456Z"
   },
   {
    "duration": 146,
    "start_time": "2022-05-27T07:44:08.014Z"
   },
   {
    "duration": 259,
    "start_time": "2022-05-27T07:45:17.982Z"
   },
   {
    "duration": 144,
    "start_time": "2022-05-27T07:45:38.798Z"
   },
   {
    "duration": 158,
    "start_time": "2022-05-27T07:46:05.230Z"
   },
   {
    "duration": 151,
    "start_time": "2022-05-27T07:46:29.152Z"
   },
   {
    "duration": 169,
    "start_time": "2022-05-27T07:46:44.945Z"
   },
   {
    "duration": 164,
    "start_time": "2022-05-27T07:47:24.862Z"
   },
   {
    "duration": 6,
    "start_time": "2022-05-27T07:50:00.149Z"
   },
   {
    "duration": 10,
    "start_time": "2022-05-27T07:50:05.663Z"
   },
   {
    "duration": 157,
    "start_time": "2022-05-27T07:50:10.957Z"
   },
   {
    "duration": 40,
    "start_time": "2022-05-27T07:51:19.838Z"
   },
   {
    "duration": 7,
    "start_time": "2022-05-27T09:02:40.665Z"
   },
   {
    "duration": 11,
    "start_time": "2022-05-27T09:02:53.222Z"
   },
   {
    "duration": 4,
    "start_time": "2022-05-27T09:06:50.861Z"
   },
   {
    "duration": 5292,
    "start_time": "2022-05-27T09:07:28.919Z"
   },
   {
    "duration": 3,
    "start_time": "2022-05-27T09:07:51.990Z"
   },
   {
    "duration": 968,
    "start_time": "2022-05-27T09:07:52.217Z"
   },
   {
    "duration": 29,
    "start_time": "2022-05-27T09:08:23.066Z"
   },
   {
    "duration": 4,
    "start_time": "2022-05-27T09:08:51.911Z"
   },
   {
    "duration": 4,
    "start_time": "2022-05-27T09:09:21.702Z"
   },
   {
    "duration": 1174,
    "start_time": "2022-05-27T09:09:24.772Z"
   },
   {
    "duration": 217,
    "start_time": "2022-05-27T09:10:28.920Z"
   },
   {
    "duration": 334,
    "start_time": "2022-05-27T09:10:40.645Z"
   },
   {
    "duration": 438,
    "start_time": "2022-05-27T09:10:44.825Z"
   },
   {
    "duration": 33,
    "start_time": "2022-05-27T09:10:53.334Z"
   },
   {
    "duration": 2776,
    "start_time": "2022-05-27T09:11:02.183Z"
   },
   {
    "duration": 253,
    "start_time": "2022-05-27T09:11:09.365Z"
   },
   {
    "duration": 3065,
    "start_time": "2022-05-27T09:11:14.039Z"
   },
   {
    "duration": 4,
    "start_time": "2022-05-27T09:11:30.279Z"
   },
   {
    "duration": 3129,
    "start_time": "2022-05-27T09:11:40.135Z"
   },
   {
    "duration": 3,
    "start_time": "2022-05-27T09:11:57.831Z"
   },
   {
    "duration": 2769,
    "start_time": "2022-05-27T09:12:02.183Z"
   },
   {
    "duration": 2798,
    "start_time": "2022-05-27T09:12:24.711Z"
   },
   {
    "duration": 4,
    "start_time": "2022-05-27T09:13:12.919Z"
   },
   {
    "duration": 2796,
    "start_time": "2022-05-27T09:13:13.382Z"
   },
   {
    "duration": 5,
    "start_time": "2022-05-27T09:14:07.464Z"
   },
   {
    "duration": 2785,
    "start_time": "2022-05-27T09:14:08.632Z"
   },
   {
    "duration": 3112,
    "start_time": "2022-05-27T09:14:51.590Z"
   },
   {
    "duration": 3034,
    "start_time": "2022-05-27T09:15:00.694Z"
   },
   {
    "duration": 2632,
    "start_time": "2022-05-27T09:16:03.495Z"
   },
   {
    "duration": 13,
    "start_time": "2022-05-27T09:16:23.165Z"
   },
   {
    "duration": 4,
    "start_time": "2022-05-27T09:22:39.127Z"
   },
   {
    "duration": 18,
    "start_time": "2022-05-27T09:22:57.975Z"
   },
   {
    "duration": 13,
    "start_time": "2022-05-27T09:23:47.080Z"
   },
   {
    "duration": 35,
    "start_time": "2022-05-27T09:25:49.065Z"
   },
   {
    "duration": 5,
    "start_time": "2022-05-27T10:56:33.120Z"
   },
   {
    "duration": 180,
    "start_time": "2022-05-27T10:56:47.984Z"
   },
   {
    "duration": 4,
    "start_time": "2022-05-27T10:57:13.171Z"
   },
   {
    "duration": 2673,
    "start_time": "2022-05-27T10:57:13.871Z"
   },
   {
    "duration": 12,
    "start_time": "2022-05-27T10:57:29.184Z"
   },
   {
    "duration": 5,
    "start_time": "2022-05-27T11:08:36.237Z"
   },
   {
    "duration": 4,
    "start_time": "2022-05-27T11:08:45.058Z"
   },
   {
    "duration": 5,
    "start_time": "2022-05-27T11:09:03.294Z"
   },
   {
    "duration": 3,
    "start_time": "2022-05-27T11:09:09.725Z"
   },
   {
    "duration": 10,
    "start_time": "2022-05-27T11:09:57.276Z"
   },
   {
    "duration": 4,
    "start_time": "2022-05-27T11:10:10.400Z"
   },
   {
    "duration": 4,
    "start_time": "2022-05-27T11:10:20.686Z"
   },
   {
    "duration": 4,
    "start_time": "2022-05-27T11:10:31.869Z"
   },
   {
    "duration": 4,
    "start_time": "2022-05-27T11:10:41.261Z"
   },
   {
    "duration": 5,
    "start_time": "2022-05-27T11:10:52.269Z"
   },
   {
    "duration": 4732,
    "start_time": "2022-05-27T11:11:19.596Z"
   },
   {
    "duration": 12,
    "start_time": "2022-05-27T11:11:46.510Z"
   },
   {
    "duration": 13,
    "start_time": "2022-05-27T11:12:00.238Z"
   },
   {
    "duration": 33,
    "start_time": "2022-05-27T11:12:06.444Z"
   },
   {
    "duration": 5,
    "start_time": "2022-05-27T11:12:12.078Z"
   },
   {
    "duration": 28,
    "start_time": "2022-05-27T11:12:19.662Z"
   },
   {
    "duration": 5,
    "start_time": "2022-05-27T11:12:53.197Z"
   },
   {
    "duration": 9,
    "start_time": "2022-05-27T11:14:55.959Z"
   },
   {
    "duration": 2,
    "start_time": "2022-05-27T11:14:59.293Z"
   },
   {
    "duration": 4,
    "start_time": "2022-05-27T11:15:10.685Z"
   },
   {
    "duration": 4,
    "start_time": "2022-05-27T11:18:47.244Z"
   },
   {
    "duration": 2587,
    "start_time": "2022-05-27T11:18:50.413Z"
   },
   {
    "duration": 8,
    "start_time": "2022-05-27T11:19:00.342Z"
   },
   {
    "duration": 5,
    "start_time": "2022-05-27T11:19:32.710Z"
   },
   {
    "duration": 4,
    "start_time": "2022-05-27T11:19:57.437Z"
   },
   {
    "duration": 6,
    "start_time": "2022-05-27T11:20:36.771Z"
   },
   {
    "duration": 5,
    "start_time": "2022-05-27T11:20:41.957Z"
   },
   {
    "duration": 27,
    "start_time": "2022-05-27T11:20:51.612Z"
   },
   {
    "duration": 6,
    "start_time": "2022-05-27T11:58:43.227Z"
   },
   {
    "duration": 25,
    "start_time": "2022-05-27T11:59:39.323Z"
   },
   {
    "duration": 18,
    "start_time": "2022-05-27T12:00:45.339Z"
   },
   {
    "duration": 9,
    "start_time": "2022-05-27T12:01:09.035Z"
   },
   {
    "duration": 9,
    "start_time": "2022-05-27T12:01:23.522Z"
   },
   {
    "duration": 776,
    "start_time": "2022-05-27T12:02:29.355Z"
   },
   {
    "duration": 5,
    "start_time": "2022-05-27T12:02:41.275Z"
   },
   {
    "duration": 6,
    "start_time": "2022-05-27T12:02:53.962Z"
   },
   {
    "duration": 6,
    "start_time": "2022-05-27T12:03:22.297Z"
   },
   {
    "duration": 28,
    "start_time": "2022-05-27T12:03:50.073Z"
   },
   {
    "duration": 4,
    "start_time": "2022-05-27T12:15:51.616Z"
   },
   {
    "duration": 5,
    "start_time": "2022-05-27T12:15:55.430Z"
   },
   {
    "duration": 27,
    "start_time": "2022-05-27T12:16:00.614Z"
   },
   {
    "duration": 28,
    "start_time": "2022-05-27T12:16:12.327Z"
   },
   {
    "duration": 4,
    "start_time": "2022-05-27T12:16:32.311Z"
   },
   {
    "duration": 4,
    "start_time": "2022-05-27T12:16:39.174Z"
   },
   {
    "duration": 4,
    "start_time": "2022-05-27T12:16:58.726Z"
   },
   {
    "duration": 30,
    "start_time": "2022-05-27T12:22:13.671Z"
   },
   {
    "duration": 2993,
    "start_time": "2022-05-27T12:22:46.422Z"
   },
   {
    "duration": 4,
    "start_time": "2022-05-27T12:23:40.413Z"
   },
   {
    "duration": 4,
    "start_time": "2022-05-27T12:23:44.735Z"
   },
   {
    "duration": 8,
    "start_time": "2022-05-27T12:23:56.325Z"
   },
   {
    "duration": 3,
    "start_time": "2022-05-27T12:24:00.993Z"
   },
   {
    "duration": 3438,
    "start_time": "2022-05-27T12:24:44.357Z"
   },
   {
    "duration": 5,
    "start_time": "2022-05-27T12:24:53.637Z"
   },
   {
    "duration": 3,
    "start_time": "2022-05-27T12:24:59.606Z"
   },
   {
    "duration": 4,
    "start_time": "2022-05-27T12:25:14.789Z"
   },
   {
    "duration": 5,
    "start_time": "2022-05-27T12:25:27.014Z"
   },
   {
    "duration": 757,
    "start_time": "2022-05-27T12:25:52.987Z"
   },
   {
    "duration": 753,
    "start_time": "2022-05-27T12:27:21.365Z"
   },
   {
    "duration": 3415,
    "start_time": "2022-05-27T12:27:49.895Z"
   },
   {
    "duration": 4,
    "start_time": "2022-05-27T13:14:24.974Z"
   },
   {
    "duration": 4,
    "start_time": "2022-05-27T13:56:36.521Z"
   },
   {
    "duration": 4,
    "start_time": "2022-05-27T14:00:44.616Z"
   },
   {
    "duration": 36,
    "start_time": "2022-05-27T14:08:46.519Z"
   },
   {
    "duration": 7,
    "start_time": "2022-05-27T14:11:10.783Z"
   },
   {
    "duration": 6,
    "start_time": "2022-05-27T14:12:41.814Z"
   },
   {
    "duration": 7,
    "start_time": "2022-05-27T14:13:25.458Z"
   },
   {
    "duration": 5,
    "start_time": "2022-05-27T14:13:32.614Z"
   },
   {
    "duration": 5,
    "start_time": "2022-05-27T14:13:41.160Z"
   },
   {
    "duration": 7,
    "start_time": "2022-05-27T14:14:05.974Z"
   },
   {
    "duration": 7,
    "start_time": "2022-05-27T14:14:19.096Z"
   },
   {
    "duration": 7,
    "start_time": "2022-05-27T14:14:39.334Z"
   },
   {
    "duration": 7,
    "start_time": "2022-05-27T14:16:42.077Z"
   },
   {
    "duration": 8,
    "start_time": "2022-05-27T14:17:15.397Z"
   },
   {
    "duration": 6,
    "start_time": "2022-05-27T14:17:44.311Z"
   },
   {
    "duration": 5,
    "start_time": "2022-05-27T14:18:09.493Z"
   },
   {
    "duration": 10,
    "start_time": "2022-05-27T14:18:48.376Z"
   },
   {
    "duration": 6,
    "start_time": "2022-05-27T14:18:59.059Z"
   },
   {
    "duration": 1241,
    "start_time": "2022-05-28T05:45:19.534Z"
   },
   {
    "duration": 2925,
    "start_time": "2022-05-28T05:45:20.777Z"
   },
   {
    "duration": 112,
    "start_time": "2022-05-28T05:45:23.703Z"
   },
   {
    "duration": 53,
    "start_time": "2022-05-28T05:45:23.818Z"
   },
   {
    "duration": 22,
    "start_time": "2022-05-28T05:45:23.873Z"
   },
   {
    "duration": 6,
    "start_time": "2022-05-28T05:45:23.897Z"
   },
   {
    "duration": 325,
    "start_time": "2022-05-28T05:45:23.904Z"
   },
   {
    "duration": 4,
    "start_time": "2022-05-28T05:45:24.231Z"
   },
   {
    "duration": 58,
    "start_time": "2022-05-28T05:45:24.236Z"
   },
   {
    "duration": 9,
    "start_time": "2022-05-28T05:45:24.296Z"
   },
   {
    "duration": 9,
    "start_time": "2022-05-28T05:45:24.306Z"
   },
   {
    "duration": 18,
    "start_time": "2022-05-28T05:45:24.317Z"
   },
   {
    "duration": 27,
    "start_time": "2022-05-28T05:45:24.336Z"
   },
   {
    "duration": 260,
    "start_time": "2022-05-28T05:45:24.364Z"
   },
   {
    "duration": 136,
    "start_time": "2022-05-28T05:45:24.626Z"
   },
   {
    "duration": 4,
    "start_time": "2022-05-28T05:45:24.763Z"
   },
   {
    "duration": 32,
    "start_time": "2022-05-28T05:45:24.768Z"
   },
   {
    "duration": 5,
    "start_time": "2022-05-28T05:45:24.801Z"
   },
   {
    "duration": 8,
    "start_time": "2022-05-28T05:45:24.808Z"
   },
   {
    "duration": 189,
    "start_time": "2022-05-28T05:45:24.817Z"
   },
   {
    "duration": 7,
    "start_time": "2022-05-28T05:45:25.007Z"
   },
   {
    "duration": 24,
    "start_time": "2022-05-28T05:45:25.016Z"
   },
   {
    "duration": 208,
    "start_time": "2022-05-28T05:45:25.041Z"
   },
   {
    "duration": 7,
    "start_time": "2022-05-28T05:45:25.250Z"
   },
   {
    "duration": 5,
    "start_time": "2022-05-28T05:45:25.258Z"
   },
   {
    "duration": 2722,
    "start_time": "2022-05-28T05:45:25.264Z"
   },
   {
    "duration": 3,
    "start_time": "2022-05-28T05:45:27.988Z"
   },
   {
    "duration": 8,
    "start_time": "2022-05-28T05:45:27.996Z"
   },
   {
    "duration": 760,
    "start_time": "2022-05-28T05:45:28.006Z"
   },
   {
    "duration": 2971,
    "start_time": "2022-05-28T05:45:28.768Z"
   },
   {
    "duration": 4,
    "start_time": "2022-05-28T05:45:31.741Z"
   },
   {
    "duration": 162,
    "start_time": "2022-05-28T05:45:31.746Z"
   },
   {
    "duration": 9,
    "start_time": "2022-05-28T05:45:31.910Z"
   },
   {
    "duration": 13,
    "start_time": "2022-05-28T05:45:31.920Z"
   },
   {
    "duration": 192,
    "start_time": "2022-05-28T05:45:31.934Z"
   },
   {
    "duration": 11,
    "start_time": "2022-05-28T05:45:32.127Z"
   },
   {
    "duration": 201,
    "start_time": "2022-05-28T05:45:32.139Z"
   },
   {
    "duration": 6,
    "start_time": "2022-05-28T05:45:32.341Z"
   },
   {
    "duration": 366,
    "start_time": "2022-05-28T05:45:32.349Z"
   },
   {
    "duration": 325,
    "start_time": "2022-05-28T05:45:32.717Z"
   },
   {
    "duration": 4,
    "start_time": "2022-05-28T05:45:33.044Z"
   },
   {
    "duration": 7,
    "start_time": "2022-05-28T05:45:33.050Z"
   },
   {
    "duration": 5,
    "start_time": "2022-05-28T05:45:33.058Z"
   },
   {
    "duration": 138,
    "start_time": "2022-05-28T05:45:33.065Z"
   },
   {
    "duration": 9,
    "start_time": "2022-05-28T05:45:33.204Z"
   },
   {
    "duration": 12,
    "start_time": "2022-05-28T05:45:33.215Z"
   },
   {
    "duration": 258,
    "start_time": "2022-05-28T05:45:33.229Z"
   },
   {
    "duration": 3,
    "start_time": "2022-05-28T05:45:33.494Z"
   },
   {
    "duration": 52,
    "start_time": "2022-05-28T05:45:33.499Z"
   },
   {
    "duration": 132,
    "start_time": "2022-05-28T05:45:33.553Z"
   },
   {
    "duration": 0,
    "start_time": "2022-05-28T05:45:33.687Z"
   },
   {
    "duration": 0,
    "start_time": "2022-05-28T05:45:33.688Z"
   },
   {
    "duration": 0,
    "start_time": "2022-05-28T05:45:33.694Z"
   },
   {
    "duration": 7,
    "start_time": "2022-05-28T05:45:47.698Z"
   },
   {
    "duration": 29,
    "start_time": "2022-05-28T05:45:48.014Z"
   },
   {
    "duration": 4,
    "start_time": "2022-05-28T05:46:09.693Z"
   },
   {
    "duration": 3,
    "start_time": "2022-05-28T05:47:32.117Z"
   },
   {
    "duration": 6,
    "start_time": "2022-05-28T05:47:40.070Z"
   },
   {
    "duration": 4,
    "start_time": "2022-05-28T05:48:25.674Z"
   },
   {
    "duration": 5,
    "start_time": "2022-05-28T05:48:40.888Z"
   },
   {
    "duration": 5,
    "start_time": "2022-05-28T05:48:47.261Z"
   },
   {
    "duration": 5,
    "start_time": "2022-05-28T05:48:50.824Z"
   },
   {
    "duration": 6,
    "start_time": "2022-05-28T05:48:54.528Z"
   },
   {
    "duration": 10,
    "start_time": "2022-05-28T05:49:16.824Z"
   },
   {
    "duration": 8,
    "start_time": "2022-05-28T05:49:28.319Z"
   },
   {
    "duration": 9,
    "start_time": "2022-05-28T05:50:08.198Z"
   },
   {
    "duration": 6,
    "start_time": "2022-05-28T05:50:24.451Z"
   },
   {
    "duration": 6,
    "start_time": "2022-05-28T05:50:36.720Z"
   },
   {
    "duration": 7,
    "start_time": "2022-05-28T05:50:39.587Z"
   },
   {
    "duration": 9,
    "start_time": "2022-05-28T05:51:29.581Z"
   },
   {
    "duration": 5,
    "start_time": "2022-05-28T05:52:04.276Z"
   },
   {
    "duration": 7,
    "start_time": "2022-05-28T05:52:42.957Z"
   },
   {
    "duration": 6,
    "start_time": "2022-05-28T05:52:51.756Z"
   },
   {
    "duration": 7,
    "start_time": "2022-05-28T05:53:01.402Z"
   },
   {
    "duration": 7,
    "start_time": "2022-05-28T05:54:07.832Z"
   },
   {
    "duration": 8,
    "start_time": "2022-05-28T05:54:14.927Z"
   },
   {
    "duration": 5,
    "start_time": "2022-05-28T05:55:11.868Z"
   },
   {
    "duration": 6,
    "start_time": "2022-05-28T05:55:28.819Z"
   },
   {
    "duration": 3,
    "start_time": "2022-05-28T05:55:51.421Z"
   },
   {
    "duration": 7,
    "start_time": "2022-05-28T05:55:56.131Z"
   },
   {
    "duration": 4,
    "start_time": "2022-05-28T05:56:19.924Z"
   },
   {
    "duration": 5,
    "start_time": "2022-05-28T05:56:25.725Z"
   },
   {
    "duration": 6,
    "start_time": "2022-05-28T05:56:32.070Z"
   },
   {
    "duration": 6,
    "start_time": "2022-05-28T05:56:43.401Z"
   },
   {
    "duration": 8,
    "start_time": "2022-05-28T05:57:31.206Z"
   },
   {
    "duration": 6,
    "start_time": "2022-05-28T05:57:42.396Z"
   },
   {
    "duration": 6,
    "start_time": "2022-05-28T05:58:13.491Z"
   },
   {
    "duration": 4,
    "start_time": "2022-05-28T05:58:33.620Z"
   },
   {
    "duration": 4,
    "start_time": "2022-05-28T05:58:37.744Z"
   },
   {
    "duration": 7,
    "start_time": "2022-05-28T05:58:48.157Z"
   },
   {
    "duration": 6,
    "start_time": "2022-05-28T05:58:57.029Z"
   },
   {
    "duration": 6,
    "start_time": "2022-05-28T05:59:12.380Z"
   },
   {
    "duration": 4,
    "start_time": "2022-05-28T05:59:23.888Z"
   },
   {
    "duration": 6,
    "start_time": "2022-05-28T05:59:58.662Z"
   },
   {
    "duration": 6,
    "start_time": "2022-05-28T06:00:05.283Z"
   },
   {
    "duration": 7,
    "start_time": "2022-05-28T06:00:18.017Z"
   },
   {
    "duration": 9,
    "start_time": "2022-05-28T06:01:07.815Z"
   },
   {
    "duration": 9,
    "start_time": "2022-05-28T06:01:20.672Z"
   },
   {
    "duration": 1419,
    "start_time": "2022-05-28T06:39:17.424Z"
   },
   {
    "duration": 896,
    "start_time": "2022-05-28T06:39:18.845Z"
   },
   {
    "duration": 129,
    "start_time": "2022-05-28T06:39:19.745Z"
   },
   {
    "duration": 111,
    "start_time": "2022-05-28T06:39:19.877Z"
   },
   {
    "duration": 11,
    "start_time": "2022-05-28T06:39:19.991Z"
   },
   {
    "duration": 67,
    "start_time": "2022-05-28T06:39:20.003Z"
   },
   {
    "duration": 459,
    "start_time": "2022-05-28T06:39:20.072Z"
   },
   {
    "duration": 6,
    "start_time": "2022-05-28T06:39:20.534Z"
   },
   {
    "duration": 109,
    "start_time": "2022-05-28T06:39:20.542Z"
   },
   {
    "duration": 18,
    "start_time": "2022-05-28T06:39:20.653Z"
   },
   {
    "duration": 18,
    "start_time": "2022-05-28T06:39:20.673Z"
   },
   {
    "duration": 79,
    "start_time": "2022-05-28T06:39:20.693Z"
   },
   {
    "duration": 45,
    "start_time": "2022-05-28T06:39:20.775Z"
   },
   {
    "duration": 289,
    "start_time": "2022-05-28T06:39:20.825Z"
   },
   {
    "duration": 174,
    "start_time": "2022-05-28T06:39:21.115Z"
   },
   {
    "duration": 12,
    "start_time": "2022-05-28T06:39:21.290Z"
   },
   {
    "duration": 63,
    "start_time": "2022-05-28T06:39:21.303Z"
   },
   {
    "duration": 7,
    "start_time": "2022-05-28T06:39:21.368Z"
   },
   {
    "duration": 15,
    "start_time": "2022-05-28T06:39:21.377Z"
   },
   {
    "duration": 239,
    "start_time": "2022-05-28T06:39:21.400Z"
   },
   {
    "duration": 8,
    "start_time": "2022-05-28T06:39:21.641Z"
   },
   {
    "duration": 26,
    "start_time": "2022-05-28T06:39:21.653Z"
   },
   {
    "duration": 246,
    "start_time": "2022-05-28T06:39:21.680Z"
   },
   {
    "duration": 8,
    "start_time": "2022-05-28T06:39:21.929Z"
   },
   {
    "duration": 10,
    "start_time": "2022-05-28T06:39:21.939Z"
   },
   {
    "duration": 3203,
    "start_time": "2022-05-28T06:39:21.951Z"
   },
   {
    "duration": 3,
    "start_time": "2022-05-28T06:39:25.156Z"
   },
   {
    "duration": 9,
    "start_time": "2022-05-28T06:39:25.160Z"
   },
   {
    "duration": 933,
    "start_time": "2022-05-28T06:39:25.171Z"
   },
   {
    "duration": 3599,
    "start_time": "2022-05-28T06:39:26.106Z"
   },
   {
    "duration": 3,
    "start_time": "2022-05-28T06:39:29.709Z"
   },
   {
    "duration": 150,
    "start_time": "2022-05-28T06:39:29.714Z"
   },
   {
    "duration": 13,
    "start_time": "2022-05-28T06:39:29.866Z"
   },
   {
    "duration": 32,
    "start_time": "2022-05-28T06:39:29.881Z"
   },
   {
    "duration": 259,
    "start_time": "2022-05-28T06:39:29.915Z"
   },
   {
    "duration": 30,
    "start_time": "2022-05-28T06:39:30.176Z"
   },
   {
    "duration": 239,
    "start_time": "2022-05-28T06:39:30.210Z"
   },
   {
    "duration": 6,
    "start_time": "2022-05-28T06:39:30.451Z"
   },
   {
    "duration": 448,
    "start_time": "2022-05-28T06:39:30.459Z"
   },
   {
    "duration": 380,
    "start_time": "2022-05-28T06:39:30.911Z"
   },
   {
    "duration": 8,
    "start_time": "2022-05-28T06:39:31.296Z"
   },
   {
    "duration": 56,
    "start_time": "2022-05-28T06:39:31.306Z"
   },
   {
    "duration": 7,
    "start_time": "2022-05-28T06:39:31.364Z"
   },
   {
    "duration": 150,
    "start_time": "2022-05-28T06:39:31.372Z"
   },
   {
    "duration": 11,
    "start_time": "2022-05-28T06:39:31.524Z"
   },
   {
    "duration": 31,
    "start_time": "2022-05-28T06:39:31.537Z"
   },
   {
    "duration": 317,
    "start_time": "2022-05-28T06:39:31.570Z"
   },
   {
    "duration": 7,
    "start_time": "2022-05-28T06:39:31.900Z"
   },
   {
    "duration": 88,
    "start_time": "2022-05-28T06:39:31.910Z"
   },
   {
    "duration": 7,
    "start_time": "2022-05-28T06:39:32.000Z"
   },
   {
    "duration": 55,
    "start_time": "2022-05-28T06:39:32.010Z"
   },
   {
    "duration": 8,
    "start_time": "2022-05-28T06:39:32.067Z"
   },
   {
    "duration": 8,
    "start_time": "2022-05-28T06:39:32.077Z"
   },
   {
    "duration": 7,
    "start_time": "2022-05-28T06:39:32.086Z"
   },
   {
    "duration": 54,
    "start_time": "2022-05-28T06:39:32.095Z"
   },
   {
    "duration": 8,
    "start_time": "2022-05-28T06:39:32.151Z"
   },
   {
    "duration": 11,
    "start_time": "2022-05-28T06:39:32.160Z"
   },
   {
    "duration": 4,
    "start_time": "2022-05-28T06:39:32.173Z"
   },
   {
    "duration": 9,
    "start_time": "2022-05-28T06:39:32.179Z"
   },
   {
    "duration": 11,
    "start_time": "2022-05-28T06:39:32.190Z"
   },
   {
    "duration": 47,
    "start_time": "2022-05-28T06:39:32.202Z"
   },
   {
    "duration": 8,
    "start_time": "2022-05-28T06:39:32.250Z"
   },
   {
    "duration": 163,
    "start_time": "2022-05-28T06:39:32.260Z"
   },
   {
    "duration": 0,
    "start_time": "2022-05-28T06:39:32.425Z"
   },
   {
    "duration": 0,
    "start_time": "2022-05-28T06:39:32.426Z"
   },
   {
    "duration": 0,
    "start_time": "2022-05-28T06:39:32.435Z"
   },
   {
    "duration": 8,
    "start_time": "2022-05-28T06:40:08.066Z"
   },
   {
    "duration": 7,
    "start_time": "2022-05-28T06:40:34.258Z"
   },
   {
    "duration": 10,
    "start_time": "2022-05-28T06:41:07.513Z"
   },
   {
    "duration": 8,
    "start_time": "2022-05-28T06:41:17.246Z"
   },
   {
    "duration": 5,
    "start_time": "2022-05-28T06:41:28.726Z"
   },
   {
    "duration": 4,
    "start_time": "2022-05-28T06:41:38.352Z"
   },
   {
    "duration": 14,
    "start_time": "2022-05-28T06:41:47.865Z"
   },
   {
    "duration": 4,
    "start_time": "2022-05-28T06:41:53.969Z"
   },
   {
    "duration": 4,
    "start_time": "2022-05-28T06:43:56.870Z"
   },
   {
    "duration": 4,
    "start_time": "2022-05-28T06:44:04.857Z"
   },
   {
    "duration": 4,
    "start_time": "2022-05-28T06:44:26.563Z"
   },
   {
    "duration": 5,
    "start_time": "2022-05-28T06:44:41.223Z"
   },
   {
    "duration": 7,
    "start_time": "2022-05-28T06:44:59.387Z"
   },
   {
    "duration": 5,
    "start_time": "2022-05-28T06:45:15.630Z"
   },
   {
    "duration": 6,
    "start_time": "2022-05-28T06:45:20.959Z"
   },
   {
    "duration": 6,
    "start_time": "2022-05-28T06:45:48.471Z"
   },
   {
    "duration": 6,
    "start_time": "2022-05-28T06:45:55.346Z"
   },
   {
    "duration": 30,
    "start_time": "2022-05-28T06:46:18.413Z"
   },
   {
    "duration": 26,
    "start_time": "2022-05-28T06:46:27.670Z"
   },
   {
    "duration": 8,
    "start_time": "2022-05-28T06:46:36.719Z"
   },
   {
    "duration": 10,
    "start_time": "2022-05-28T06:46:47.291Z"
   },
   {
    "duration": 10,
    "start_time": "2022-05-28T06:47:02.407Z"
   },
   {
    "duration": 34,
    "start_time": "2022-05-28T06:48:02.689Z"
   },
   {
    "duration": 5,
    "start_time": "2022-05-28T06:48:10.022Z"
   },
   {
    "duration": 4,
    "start_time": "2022-05-28T06:48:14.930Z"
   },
   {
    "duration": 6,
    "start_time": "2022-05-28T06:48:23.349Z"
   },
   {
    "duration": 6,
    "start_time": "2022-05-28T06:48:26.720Z"
   },
   {
    "duration": 6,
    "start_time": "2022-05-28T06:49:05.920Z"
   },
   {
    "duration": 6,
    "start_time": "2022-05-28T06:49:19.352Z"
   },
   {
    "duration": 6,
    "start_time": "2022-05-28T06:49:43.673Z"
   },
   {
    "duration": 6,
    "start_time": "2022-05-28T06:49:55.274Z"
   },
   {
    "duration": 9,
    "start_time": "2022-05-28T06:50:04.790Z"
   },
   {
    "duration": 6,
    "start_time": "2022-05-28T06:50:14.205Z"
   },
   {
    "duration": 28,
    "start_time": "2022-05-28T06:50:31.359Z"
   },
   {
    "duration": 6,
    "start_time": "2022-05-28T06:50:34.773Z"
   },
   {
    "duration": 5,
    "start_time": "2022-05-28T06:50:56.748Z"
   },
   {
    "duration": 5,
    "start_time": "2022-05-28T06:51:07.121Z"
   },
   {
    "duration": 6,
    "start_time": "2022-05-28T06:51:40.486Z"
   },
   {
    "duration": 7,
    "start_time": "2022-05-28T06:52:09.081Z"
   },
   {
    "duration": 5,
    "start_time": "2022-05-28T06:52:17.268Z"
   },
   {
    "duration": 5,
    "start_time": "2022-05-28T06:52:58.373Z"
   },
   {
    "duration": 59,
    "start_time": "2022-05-28T07:05:42.389Z"
   },
   {
    "duration": 6,
    "start_time": "2022-05-28T07:06:40.000Z"
   },
   {
    "duration": 29,
    "start_time": "2022-05-28T07:07:21.936Z"
   },
   {
    "duration": 4,
    "start_time": "2022-05-28T07:08:14.146Z"
   },
   {
    "duration": 11,
    "start_time": "2022-05-28T07:09:27.209Z"
   },
   {
    "duration": 3239,
    "start_time": "2022-05-28T07:09:27.933Z"
   },
   {
    "duration": 6,
    "start_time": "2022-05-28T07:09:32.803Z"
   },
   {
    "duration": 8,
    "start_time": "2022-05-28T07:09:34.503Z"
   },
   {
    "duration": 983,
    "start_time": "2022-05-28T07:09:38.550Z"
   },
   {
    "duration": 3218,
    "start_time": "2022-05-28T07:09:41.988Z"
   },
   {
    "duration": 29,
    "start_time": "2022-05-28T07:09:55.770Z"
   },
   {
    "duration": 4,
    "start_time": "2022-05-28T07:10:25.782Z"
   },
   {
    "duration": 3230,
    "start_time": "2022-05-28T07:10:26.288Z"
   },
   {
    "duration": 16,
    "start_time": "2022-05-28T07:10:30.692Z"
   },
   {
    "duration": 6,
    "start_time": "2022-05-28T07:10:33.725Z"
   },
   {
    "duration": 36,
    "start_time": "2022-05-28T07:10:37.400Z"
   },
   {
    "duration": 28,
    "start_time": "2022-05-28T07:10:57.544Z"
   },
   {
    "duration": 5,
    "start_time": "2022-05-28T07:11:14.343Z"
   },
   {
    "duration": 5,
    "start_time": "2022-05-28T07:11:22.072Z"
   },
   {
    "duration": 4,
    "start_time": "2022-05-28T07:11:31.191Z"
   },
   {
    "duration": 6,
    "start_time": "2022-05-28T07:11:39.170Z"
   },
   {
    "duration": 9,
    "start_time": "2022-05-28T07:12:14.895Z"
   },
   {
    "duration": 2949,
    "start_time": "2022-05-28T07:12:15.110Z"
   },
   {
    "duration": 4,
    "start_time": "2022-05-28T07:12:18.062Z"
   },
   {
    "duration": 18,
    "start_time": "2022-05-28T07:12:18.068Z"
   },
   {
    "duration": 856,
    "start_time": "2022-05-28T07:12:18.088Z"
   },
   {
    "duration": 3243,
    "start_time": "2022-05-28T07:12:18.946Z"
   },
   {
    "duration": 1230,
    "start_time": "2022-05-28T07:14:47.360Z"
   },
   {
    "duration": 749,
    "start_time": "2022-05-28T07:14:48.592Z"
   },
   {
    "duration": 37,
    "start_time": "2022-05-28T07:14:49.342Z"
   },
   {
    "duration": 75,
    "start_time": "2022-05-28T07:14:49.381Z"
   },
   {
    "duration": 4,
    "start_time": "2022-05-28T07:14:49.458Z"
   },
   {
    "duration": 6,
    "start_time": "2022-05-28T07:14:49.463Z"
   },
   {
    "duration": 375,
    "start_time": "2022-05-28T07:14:49.471Z"
   },
   {
    "duration": 4,
    "start_time": "2022-05-28T07:14:49.848Z"
   },
   {
    "duration": 54,
    "start_time": "2022-05-28T07:14:49.853Z"
   },
   {
    "duration": 13,
    "start_time": "2022-05-28T07:15:00.416Z"
   },
   {
    "duration": 5,
    "start_time": "2022-05-28T07:15:00.683Z"
   },
   {
    "duration": 17,
    "start_time": "2022-05-28T07:15:23.620Z"
   },
   {
    "duration": 35,
    "start_time": "2022-05-28T07:15:24.300Z"
   },
   {
    "duration": 234,
    "start_time": "2022-05-28T07:15:24.750Z"
   },
   {
    "duration": 127,
    "start_time": "2022-05-28T07:15:25.123Z"
   },
   {
    "duration": 4,
    "start_time": "2022-05-28T07:15:25.650Z"
   },
   {
    "duration": 13,
    "start_time": "2022-05-28T07:15:26.140Z"
   },
   {
    "duration": 6,
    "start_time": "2022-05-28T07:15:26.977Z"
   },
   {
    "duration": 7,
    "start_time": "2022-05-28T07:15:28.386Z"
   },
   {
    "duration": 224,
    "start_time": "2022-05-28T07:15:29.012Z"
   },
   {
    "duration": 7,
    "start_time": "2022-05-28T07:15:30.328Z"
   },
   {
    "duration": 23,
    "start_time": "2022-05-28T07:15:30.819Z"
   },
   {
    "duration": 191,
    "start_time": "2022-05-28T07:15:31.328Z"
   },
   {
    "duration": 5,
    "start_time": "2022-05-28T07:15:32.260Z"
   },
   {
    "duration": 4,
    "start_time": "2022-05-28T07:15:32.724Z"
   },
   {
    "duration": 179,
    "start_time": "2022-05-28T07:15:33.258Z"
   },
   {
    "duration": 11,
    "start_time": "2022-05-28T07:15:33.717Z"
   },
   {
    "duration": 2796,
    "start_time": "2022-05-28T07:15:41.956Z"
   },
   {
    "duration": 3,
    "start_time": "2022-05-28T07:15:44.754Z"
   },
   {
    "duration": 5,
    "start_time": "2022-05-28T07:15:46.823Z"
   },
   {
    "duration": 769,
    "start_time": "2022-05-28T07:15:52.682Z"
   },
   {
    "duration": 3068,
    "start_time": "2022-05-28T07:15:54.417Z"
   },
   {
    "duration": 3,
    "start_time": "2022-05-28T07:16:12.046Z"
   },
   {
    "duration": 157,
    "start_time": "2022-05-28T07:16:12.480Z"
   },
   {
    "duration": 9,
    "start_time": "2022-05-28T07:16:12.930Z"
   },
   {
    "duration": 15,
    "start_time": "2022-05-28T07:16:13.600Z"
   },
   {
    "duration": 219,
    "start_time": "2022-05-28T07:16:14.091Z"
   },
   {
    "duration": 12,
    "start_time": "2022-05-28T07:16:14.673Z"
   },
   {
    "duration": 188,
    "start_time": "2022-05-28T07:16:15.145Z"
   },
   {
    "duration": 6,
    "start_time": "2022-05-28T07:16:16.751Z"
   },
   {
    "duration": 341,
    "start_time": "2022-05-28T07:16:17.437Z"
   },
   {
    "duration": 495,
    "start_time": "2022-05-28T07:16:17.954Z"
   },
   {
    "duration": 4,
    "start_time": "2022-05-28T07:16:23.988Z"
   },
   {
    "duration": 3,
    "start_time": "2022-05-28T07:16:25.729Z"
   },
   {
    "duration": 2,
    "start_time": "2022-05-28T07:16:26.256Z"
   },
   {
    "duration": 139,
    "start_time": "2022-05-28T07:16:26.781Z"
   },
   {
    "duration": 11,
    "start_time": "2022-05-28T07:16:27.416Z"
   },
   {
    "duration": 11,
    "start_time": "2022-05-28T07:16:29.533Z"
   },
   {
    "duration": 171,
    "start_time": "2022-05-28T07:16:31.173Z"
   },
   {
    "duration": 4,
    "start_time": "2022-05-28T07:16:34.481Z"
   },
   {
    "duration": 18,
    "start_time": "2022-05-28T07:16:36.817Z"
   },
   {
    "duration": 25,
    "start_time": "2022-05-28T07:17:00.560Z"
   },
   {
    "duration": 5,
    "start_time": "2022-05-28T07:17:11.085Z"
   },
   {
    "duration": 6,
    "start_time": "2022-05-28T07:17:50.090Z"
   },
   {
    "duration": 1358,
    "start_time": "2022-05-28T07:18:47.882Z"
   },
   {
    "duration": 698,
    "start_time": "2022-05-28T07:18:49.242Z"
   },
   {
    "duration": 37,
    "start_time": "2022-05-28T07:18:49.942Z"
   },
   {
    "duration": 79,
    "start_time": "2022-05-28T07:18:49.982Z"
   },
   {
    "duration": 4,
    "start_time": "2022-05-28T07:18:50.062Z"
   },
   {
    "duration": 6,
    "start_time": "2022-05-28T07:18:50.068Z"
   },
   {
    "duration": 386,
    "start_time": "2022-05-28T07:18:50.075Z"
   },
   {
    "duration": 5,
    "start_time": "2022-05-28T07:18:50.462Z"
   },
   {
    "duration": 64,
    "start_time": "2022-05-28T07:18:50.469Z"
   },
   {
    "duration": 10,
    "start_time": "2022-05-28T07:18:50.536Z"
   },
   {
    "duration": 10,
    "start_time": "2022-05-28T07:18:50.547Z"
   },
   {
    "duration": 24,
    "start_time": "2022-05-28T07:18:50.558Z"
   },
   {
    "duration": 32,
    "start_time": "2022-05-28T07:18:50.600Z"
   },
   {
    "duration": 252,
    "start_time": "2022-05-28T07:18:50.634Z"
   },
   {
    "duration": 141,
    "start_time": "2022-05-28T07:18:50.888Z"
   },
   {
    "duration": 4,
    "start_time": "2022-05-28T07:18:51.030Z"
   },
   {
    "duration": 21,
    "start_time": "2022-05-28T07:18:51.036Z"
   },
   {
    "duration": 5,
    "start_time": "2022-05-28T07:18:51.059Z"
   },
   {
    "duration": 8,
    "start_time": "2022-05-28T07:18:51.066Z"
   },
   {
    "duration": 201,
    "start_time": "2022-05-28T07:18:51.075Z"
   },
   {
    "duration": 7,
    "start_time": "2022-05-28T07:18:51.278Z"
   },
   {
    "duration": 32,
    "start_time": "2022-05-28T07:18:51.302Z"
   },
   {
    "duration": 192,
    "start_time": "2022-05-28T07:18:51.335Z"
   },
   {
    "duration": 7,
    "start_time": "2022-05-28T07:18:51.529Z"
   },
   {
    "duration": 4,
    "start_time": "2022-05-28T07:18:51.537Z"
   },
   {
    "duration": 2858,
    "start_time": "2022-05-28T07:18:51.542Z"
   },
   {
    "duration": 14,
    "start_time": "2022-05-28T07:18:54.404Z"
   },
   {
    "duration": 5,
    "start_time": "2022-05-28T07:18:54.424Z"
   },
   {
    "duration": 753,
    "start_time": "2022-05-28T07:18:54.431Z"
   },
   {
    "duration": 3162,
    "start_time": "2022-05-28T07:18:55.186Z"
   },
   {
    "duration": 3,
    "start_time": "2022-05-28T07:18:58.350Z"
   },
   {
    "duration": 155,
    "start_time": "2022-05-28T07:18:58.354Z"
   },
   {
    "duration": 11,
    "start_time": "2022-05-28T07:18:58.511Z"
   },
   {
    "duration": 32,
    "start_time": "2022-05-28T07:18:58.535Z"
   },
   {
    "duration": 277,
    "start_time": "2022-05-28T07:18:58.568Z"
   },
   {
    "duration": 12,
    "start_time": "2022-05-28T07:18:58.847Z"
   },
   {
    "duration": 262,
    "start_time": "2022-05-28T07:18:58.861Z"
   },
   {
    "duration": 10,
    "start_time": "2022-05-28T07:18:59.124Z"
   },
   {
    "duration": 413,
    "start_time": "2022-05-28T07:18:59.136Z"
   },
   {
    "duration": 483,
    "start_time": "2022-05-28T07:18:59.550Z"
   },
   {
    "duration": 5,
    "start_time": "2022-05-28T07:19:00.036Z"
   },
   {
    "duration": 33,
    "start_time": "2022-05-28T07:19:00.042Z"
   },
   {
    "duration": 18,
    "start_time": "2022-05-28T07:19:00.077Z"
   },
   {
    "duration": 177,
    "start_time": "2022-05-28T07:19:00.098Z"
   },
   {
    "duration": 9,
    "start_time": "2022-05-28T07:19:00.277Z"
   },
   {
    "duration": 51,
    "start_time": "2022-05-28T07:19:00.287Z"
   },
   {
    "duration": 202,
    "start_time": "2022-05-28T07:19:00.340Z"
   },
   {
    "duration": 4,
    "start_time": "2022-05-28T07:19:00.544Z"
   },
   {
    "duration": 140,
    "start_time": "2022-05-28T07:19:00.549Z"
   },
   {
    "duration": 0,
    "start_time": "2022-05-28T07:19:00.691Z"
   },
   {
    "duration": 0,
    "start_time": "2022-05-28T07:19:00.692Z"
   },
   {
    "duration": 6,
    "start_time": "2022-05-28T07:19:24.941Z"
   },
   {
    "duration": 31,
    "start_time": "2022-05-28T07:19:34.912Z"
   },
   {
    "duration": 10,
    "start_time": "2022-05-28T07:20:51.169Z"
   },
   {
    "duration": 30,
    "start_time": "2022-05-28T07:20:59.720Z"
   },
   {
    "duration": 13,
    "start_time": "2022-05-28T07:21:24.301Z"
   },
   {
    "duration": 30,
    "start_time": "2022-05-28T07:21:27.328Z"
   },
   {
    "duration": 11,
    "start_time": "2022-05-28T07:21:34.693Z"
   },
   {
    "duration": 214,
    "start_time": "2022-05-28T07:32:16.216Z"
   },
   {
    "duration": 200,
    "start_time": "2022-05-28T07:32:57.737Z"
   },
   {
    "duration": 4,
    "start_time": "2022-05-28T07:33:24.548Z"
   },
   {
    "duration": 5,
    "start_time": "2022-05-28T07:33:29.424Z"
   },
   {
    "duration": 32,
    "start_time": "2022-05-28T07:33:40.926Z"
   },
   {
    "duration": 9,
    "start_time": "2022-05-28T07:33:59.486Z"
   },
   {
    "duration": 1464,
    "start_time": "2022-05-28T07:36:23.132Z"
   },
   {
    "duration": 734,
    "start_time": "2022-05-28T07:36:24.600Z"
   },
   {
    "duration": 44,
    "start_time": "2022-05-28T07:36:25.336Z"
   },
   {
    "duration": 83,
    "start_time": "2022-05-28T07:36:25.382Z"
   },
   {
    "duration": 5,
    "start_time": "2022-05-28T07:36:25.469Z"
   },
   {
    "duration": 6,
    "start_time": "2022-05-28T07:36:25.495Z"
   },
   {
    "duration": 436,
    "start_time": "2022-05-28T07:36:25.504Z"
   },
   {
    "duration": 6,
    "start_time": "2022-05-28T07:36:25.942Z"
   },
   {
    "duration": 65,
    "start_time": "2022-05-28T07:36:25.949Z"
   },
   {
    "duration": 13,
    "start_time": "2022-05-28T07:36:26.016Z"
   },
   {
    "duration": 9,
    "start_time": "2022-05-28T07:36:26.031Z"
   },
   {
    "duration": 34,
    "start_time": "2022-05-28T07:36:26.042Z"
   },
   {
    "duration": 46,
    "start_time": "2022-05-28T07:36:26.079Z"
   },
   {
    "duration": 269,
    "start_time": "2022-05-28T07:36:26.131Z"
   },
   {
    "duration": 164,
    "start_time": "2022-05-28T07:36:26.407Z"
   },
   {
    "duration": 5,
    "start_time": "2022-05-28T07:36:26.573Z"
   },
   {
    "duration": 31,
    "start_time": "2022-05-28T07:36:26.580Z"
   },
   {
    "duration": 33,
    "start_time": "2022-05-28T07:36:26.613Z"
   },
   {
    "duration": 8,
    "start_time": "2022-05-28T07:36:26.647Z"
   },
   {
    "duration": 229,
    "start_time": "2022-05-28T07:36:26.657Z"
   },
   {
    "duration": 19,
    "start_time": "2022-05-28T07:36:26.887Z"
   },
   {
    "duration": 38,
    "start_time": "2022-05-28T07:36:26.913Z"
   },
   {
    "duration": 240,
    "start_time": "2022-05-28T07:36:26.953Z"
   },
   {
    "duration": 14,
    "start_time": "2022-05-28T07:36:27.200Z"
   },
   {
    "duration": 16,
    "start_time": "2022-05-28T07:36:27.220Z"
   },
   {
    "duration": 3279,
    "start_time": "2022-05-28T07:36:27.238Z"
   },
   {
    "duration": 5,
    "start_time": "2022-05-28T07:36:30.520Z"
   },
   {
    "duration": 28,
    "start_time": "2022-05-28T07:36:30.526Z"
   },
   {
    "duration": 892,
    "start_time": "2022-05-28T07:36:30.557Z"
   },
   {
    "duration": 3536,
    "start_time": "2022-05-28T07:36:31.451Z"
   },
   {
    "duration": 8,
    "start_time": "2022-05-28T07:36:34.989Z"
   },
   {
    "duration": 173,
    "start_time": "2022-05-28T07:36:35.001Z"
   },
   {
    "duration": 12,
    "start_time": "2022-05-28T07:36:35.176Z"
   },
   {
    "duration": 50,
    "start_time": "2022-05-28T07:36:35.190Z"
   },
   {
    "duration": 234,
    "start_time": "2022-05-28T07:36:35.242Z"
   },
   {
    "duration": 33,
    "start_time": "2022-05-28T07:36:35.478Z"
   },
   {
    "duration": 245,
    "start_time": "2022-05-28T07:36:35.513Z"
   },
   {
    "duration": 6,
    "start_time": "2022-05-28T07:36:35.759Z"
   },
   {
    "duration": 464,
    "start_time": "2022-05-28T07:36:35.766Z"
   },
   {
    "duration": 684,
    "start_time": "2022-05-28T07:36:36.232Z"
   },
   {
    "duration": 11,
    "start_time": "2022-05-28T07:36:36.927Z"
   },
   {
    "duration": 9,
    "start_time": "2022-05-28T07:36:36.944Z"
   },
   {
    "duration": 10,
    "start_time": "2022-05-28T07:36:36.955Z"
   },
   {
    "duration": 175,
    "start_time": "2022-05-28T07:36:36.968Z"
   },
   {
    "duration": 10,
    "start_time": "2022-05-28T07:36:37.146Z"
   },
   {
    "duration": 15,
    "start_time": "2022-05-28T07:36:37.158Z"
   },
   {
    "duration": 203,
    "start_time": "2022-05-28T07:36:37.175Z"
   },
   {
    "duration": 5,
    "start_time": "2022-05-28T07:36:37.380Z"
   },
   {
    "duration": 37,
    "start_time": "2022-05-28T07:36:37.387Z"
   },
   {
    "duration": 207462,
    "start_time": "2022-05-28T07:36:37.425Z"
   },
   {
    "duration": 6,
    "start_time": "2022-05-28T07:40:04.889Z"
   },
   {
    "duration": 4,
    "start_time": "2022-05-28T07:42:29.190Z"
   },
   {
    "duration": 207677,
    "start_time": "2022-05-28T07:43:45.973Z"
   },
   {
    "duration": 3,
    "start_time": "2022-05-28T07:47:13.652Z"
   },
   {
    "duration": 203765,
    "start_time": "2022-05-28T07:51:21.210Z"
   },
   {
    "duration": 3270,
    "start_time": "2022-05-28T07:56:10.732Z"
   },
   {
    "duration": 202223,
    "start_time": "2022-05-28T07:59:50.180Z"
   },
   {
    "duration": 1880,
    "start_time": "2022-05-28T09:34:23.063Z"
   },
   {
    "duration": 3418,
    "start_time": "2022-05-28T09:34:24.946Z"
   },
   {
    "duration": 46,
    "start_time": "2022-05-28T09:34:28.366Z"
   },
   {
    "duration": 88,
    "start_time": "2022-05-28T09:34:28.416Z"
   },
   {
    "duration": 6,
    "start_time": "2022-05-28T09:34:28.506Z"
   },
   {
    "duration": 6,
    "start_time": "2022-05-28T09:34:28.514Z"
   },
   {
    "duration": 518,
    "start_time": "2022-05-28T09:34:28.522Z"
   },
   {
    "duration": 6,
    "start_time": "2022-05-28T09:34:29.042Z"
   },
   {
    "duration": 70,
    "start_time": "2022-05-28T09:34:29.050Z"
   },
   {
    "duration": 11,
    "start_time": "2022-05-28T09:34:29.124Z"
   },
   {
    "duration": 38,
    "start_time": "2022-05-28T09:34:29.137Z"
   },
   {
    "duration": 38,
    "start_time": "2022-05-28T09:34:29.178Z"
   },
   {
    "duration": 30,
    "start_time": "2022-05-28T09:34:29.219Z"
   },
   {
    "duration": 272,
    "start_time": "2022-05-28T09:34:29.251Z"
   },
   {
    "duration": 163,
    "start_time": "2022-05-28T09:34:29.524Z"
   },
   {
    "duration": 6,
    "start_time": "2022-05-28T09:34:29.689Z"
   },
   {
    "duration": 20,
    "start_time": "2022-05-28T09:34:29.697Z"
   },
   {
    "duration": 7,
    "start_time": "2022-05-28T09:34:29.719Z"
   },
   {
    "duration": 36,
    "start_time": "2022-05-28T09:34:29.728Z"
   },
   {
    "duration": 251,
    "start_time": "2022-05-28T09:34:29.766Z"
   },
   {
    "duration": 9,
    "start_time": "2022-05-28T09:34:30.019Z"
   },
   {
    "duration": 46,
    "start_time": "2022-05-28T09:34:30.030Z"
   },
   {
    "duration": 232,
    "start_time": "2022-05-28T09:34:30.078Z"
   },
   {
    "duration": 8,
    "start_time": "2022-05-28T09:34:30.313Z"
   },
   {
    "duration": 16,
    "start_time": "2022-05-28T09:34:30.323Z"
   },
   {
    "duration": 3386,
    "start_time": "2022-05-28T09:34:30.341Z"
   },
   {
    "duration": 4,
    "start_time": "2022-05-28T09:34:33.730Z"
   },
   {
    "duration": 31,
    "start_time": "2022-05-28T09:34:33.738Z"
   },
   {
    "duration": 935,
    "start_time": "2022-05-28T09:34:33.772Z"
   },
   {
    "duration": 3729,
    "start_time": "2022-05-28T09:34:34.709Z"
   },
   {
    "duration": 4,
    "start_time": "2022-05-28T09:34:38.440Z"
   },
   {
    "duration": 173,
    "start_time": "2022-05-28T09:34:38.446Z"
   },
   {
    "duration": 14,
    "start_time": "2022-05-28T09:34:38.623Z"
   },
   {
    "duration": 13,
    "start_time": "2022-05-28T09:34:38.639Z"
   },
   {
    "duration": 331,
    "start_time": "2022-05-28T09:34:38.665Z"
   },
   {
    "duration": 19,
    "start_time": "2022-05-28T09:34:39.000Z"
   },
   {
    "duration": 370,
    "start_time": "2022-05-28T09:34:39.022Z"
   },
   {
    "duration": 11,
    "start_time": "2022-05-28T09:34:39.394Z"
   },
   {
    "duration": 430,
    "start_time": "2022-05-28T09:34:39.407Z"
   },
   {
    "duration": 747,
    "start_time": "2022-05-28T09:34:39.840Z"
   },
   {
    "duration": 7,
    "start_time": "2022-05-28T09:34:40.590Z"
   },
   {
    "duration": 29,
    "start_time": "2022-05-28T09:34:40.599Z"
   },
   {
    "duration": 9,
    "start_time": "2022-05-28T09:34:40.630Z"
   },
   {
    "duration": 200,
    "start_time": "2022-05-28T09:34:40.642Z"
   },
   {
    "duration": 20,
    "start_time": "2022-05-28T09:34:40.845Z"
   },
   {
    "duration": 16,
    "start_time": "2022-05-28T09:34:40.867Z"
   },
   {
    "duration": 234,
    "start_time": "2022-05-28T09:34:40.885Z"
   },
   {
    "duration": 7,
    "start_time": "2022-05-28T09:34:41.121Z"
   },
   {
    "duration": 10,
    "start_time": "2022-05-28T09:34:41.131Z"
   },
   {
    "duration": 238275,
    "start_time": "2022-05-28T09:34:41.144Z"
   },
   {
    "duration": 1983,
    "start_time": "2022-05-28T09:38:39.422Z"
   },
   {
    "duration": 48,
    "start_time": "2022-05-28T09:38:41.471Z"
   },
   {
    "duration": 0,
    "start_time": "2022-05-28T09:38:41.521Z"
   },
   {
    "duration": 5,
    "start_time": "2022-05-28T09:42:34.864Z"
   },
   {
    "duration": 12,
    "start_time": "2022-05-28T09:44:03.483Z"
   },
   {
    "duration": 4,
    "start_time": "2022-05-28T09:54:01.991Z"
   },
   {
    "duration": 238,
    "start_time": "2022-05-28T09:54:09.112Z"
   },
   {
    "duration": 5,
    "start_time": "2022-05-28T09:54:28.009Z"
   },
   {
    "duration": 225,
    "start_time": "2022-05-28T09:54:33.832Z"
   },
   {
    "duration": 128565,
    "start_time": "2022-05-28T09:56:26.623Z"
   },
   {
    "duration": 7,
    "start_time": "2022-05-28T09:58:35.204Z"
   },
   {
    "duration": 33,
    "start_time": "2022-05-28T10:01:32.384Z"
   },
   {
    "duration": 27,
    "start_time": "2022-05-28T10:01:51.480Z"
   },
   {
    "duration": 103032,
    "start_time": "2022-05-28T10:02:06.957Z"
   },
   {
    "duration": 247353,
    "start_time": "2022-05-28T10:04:49.342Z"
   },
   {
    "duration": 250534,
    "start_time": "2022-05-28T10:11:27.275Z"
   },
   {
    "duration": 95097,
    "start_time": "2022-05-28T11:07:54.804Z"
   },
   {
    "duration": 50,
    "start_time": "2022-05-28T11:11:56.548Z"
   },
   {
    "duration": 1478,
    "start_time": "2022-05-29T06:43:58.515Z"
   },
   {
    "duration": 3013,
    "start_time": "2022-05-29T06:43:59.995Z"
   },
   {
    "duration": 44,
    "start_time": "2022-05-29T06:44:03.010Z"
   },
   {
    "duration": 63,
    "start_time": "2022-05-29T06:44:03.057Z"
   },
   {
    "duration": 4,
    "start_time": "2022-05-29T06:44:03.123Z"
   },
   {
    "duration": 8,
    "start_time": "2022-05-29T06:44:03.129Z"
   },
   {
    "duration": 366,
    "start_time": "2022-05-29T06:44:03.151Z"
   },
   {
    "duration": 6,
    "start_time": "2022-05-29T06:44:03.518Z"
   },
   {
    "duration": 55,
    "start_time": "2022-05-29T06:44:03.526Z"
   },
   {
    "duration": 8,
    "start_time": "2022-05-29T06:44:03.583Z"
   },
   {
    "duration": 12,
    "start_time": "2022-05-29T06:44:03.593Z"
   },
   {
    "duration": 21,
    "start_time": "2022-05-29T06:44:03.607Z"
   },
   {
    "duration": 49,
    "start_time": "2022-05-29T06:44:03.630Z"
   },
   {
    "duration": 243,
    "start_time": "2022-05-29T06:44:03.682Z"
   },
   {
    "duration": 154,
    "start_time": "2022-05-29T06:44:03.927Z"
   },
   {
    "duration": 4,
    "start_time": "2022-05-29T06:44:04.083Z"
   },
   {
    "duration": 24,
    "start_time": "2022-05-29T06:44:04.088Z"
   },
   {
    "duration": 6,
    "start_time": "2022-05-29T06:44:04.114Z"
   },
   {
    "duration": 32,
    "start_time": "2022-05-29T06:44:04.122Z"
   },
   {
    "duration": 201,
    "start_time": "2022-05-29T06:44:04.156Z"
   },
   {
    "duration": 8,
    "start_time": "2022-05-29T06:44:04.359Z"
   },
   {
    "duration": 22,
    "start_time": "2022-05-29T06:44:04.368Z"
   },
   {
    "duration": 218,
    "start_time": "2022-05-29T06:44:04.391Z"
   },
   {
    "duration": 7,
    "start_time": "2022-05-29T06:44:04.611Z"
   },
   {
    "duration": 5,
    "start_time": "2022-05-29T06:44:04.619Z"
   },
   {
    "duration": 2878,
    "start_time": "2022-05-29T06:44:04.625Z"
   },
   {
    "duration": 3,
    "start_time": "2022-05-29T06:44:07.505Z"
   },
   {
    "duration": 19,
    "start_time": "2022-05-29T06:44:07.510Z"
   },
   {
    "duration": 819,
    "start_time": "2022-05-29T06:44:07.531Z"
   },
   {
    "duration": 3346,
    "start_time": "2022-05-29T06:44:08.351Z"
   },
   {
    "duration": 3,
    "start_time": "2022-05-29T06:44:11.699Z"
   },
   {
    "duration": 181,
    "start_time": "2022-05-29T06:44:11.704Z"
   },
   {
    "duration": 9,
    "start_time": "2022-05-29T06:44:11.887Z"
   },
   {
    "duration": 15,
    "start_time": "2022-05-29T06:44:11.898Z"
   },
   {
    "duration": 242,
    "start_time": "2022-05-29T06:44:11.914Z"
   },
   {
    "duration": 16,
    "start_time": "2022-05-29T06:44:12.158Z"
   },
   {
    "duration": 222,
    "start_time": "2022-05-29T06:44:12.176Z"
   },
   {
    "duration": 7,
    "start_time": "2022-05-29T06:44:12.401Z"
   },
   {
    "duration": 427,
    "start_time": "2022-05-29T06:44:12.410Z"
   },
   {
    "duration": 496,
    "start_time": "2022-05-29T06:44:12.839Z"
   },
   {
    "duration": 12,
    "start_time": "2022-05-29T06:44:13.340Z"
   },
   {
    "duration": 8,
    "start_time": "2022-05-29T06:44:13.354Z"
   },
   {
    "duration": 8,
    "start_time": "2022-05-29T06:44:13.364Z"
   },
   {
    "duration": 150,
    "start_time": "2022-05-29T06:44:13.374Z"
   },
   {
    "duration": 9,
    "start_time": "2022-05-29T06:44:13.525Z"
   },
   {
    "duration": 21,
    "start_time": "2022-05-29T06:44:13.536Z"
   },
   {
    "duration": 188,
    "start_time": "2022-05-29T06:44:13.559Z"
   },
   {
    "duration": 7,
    "start_time": "2022-05-29T06:44:13.748Z"
   },
   {
    "duration": 12,
    "start_time": "2022-05-29T06:44:13.756Z"
   },
   {
    "duration": 220943,
    "start_time": "2022-05-29T06:44:13.770Z"
   },
   {
    "duration": 191113,
    "start_time": "2022-05-29T06:47:54.715Z"
   },
   {
    "duration": 81786,
    "start_time": "2022-05-29T06:51:05.830Z"
   },
   {
    "duration": 133,
    "start_time": "2022-05-29T06:52:27.618Z"
   },
   {
    "duration": 0,
    "start_time": "2022-05-29T06:52:27.759Z"
   },
   {
    "duration": 893,
    "start_time": "2022-05-29T06:53:14.059Z"
   },
   {
    "duration": 10,
    "start_time": "2022-05-29T06:53:27.648Z"
   },
   {
    "duration": 11,
    "start_time": "2022-05-29T06:53:34.455Z"
   },
   {
    "duration": 864,
    "start_time": "2022-05-29T06:53:42.989Z"
   },
   {
    "duration": 4,
    "start_time": "2022-05-29T07:04:49.757Z"
   },
   {
    "duration": 1209,
    "start_time": "2022-05-29T07:05:06.473Z"
   },
   {
    "duration": 614,
    "start_time": "2022-05-29T07:05:07.684Z"
   },
   {
    "duration": 38,
    "start_time": "2022-05-29T07:05:08.299Z"
   },
   {
    "duration": 63,
    "start_time": "2022-05-29T07:05:08.338Z"
   },
   {
    "duration": 4,
    "start_time": "2022-05-29T07:05:08.403Z"
   },
   {
    "duration": 12,
    "start_time": "2022-05-29T07:05:08.408Z"
   },
   {
    "duration": 346,
    "start_time": "2022-05-29T07:05:08.421Z"
   },
   {
    "duration": 4,
    "start_time": "2022-05-29T07:05:08.769Z"
   },
   {
    "duration": 50,
    "start_time": "2022-05-29T07:05:08.775Z"
   },
   {
    "duration": 8,
    "start_time": "2022-05-29T07:05:08.826Z"
   },
   {
    "duration": 17,
    "start_time": "2022-05-29T07:05:08.836Z"
   },
   {
    "duration": 5,
    "start_time": "2022-05-29T07:05:28.664Z"
   },
   {
    "duration": 5,
    "start_time": "2022-05-29T07:05:45.695Z"
   },
   {
    "duration": 3,
    "start_time": "2022-05-29T07:06:38.828Z"
   },
   {
    "duration": 4,
    "start_time": "2022-05-29T07:07:42.788Z"
   },
   {
    "duration": 3,
    "start_time": "2022-05-29T07:08:12.364Z"
   },
   {
    "duration": 8,
    "start_time": "2022-05-29T07:08:42.406Z"
   },
   {
    "duration": 4,
    "start_time": "2022-05-29T07:09:05.706Z"
   },
   {
    "duration": 3,
    "start_time": "2022-05-29T07:09:21.149Z"
   },
   {
    "duration": 9,
    "start_time": "2022-05-29T07:09:33.370Z"
   },
   {
    "duration": 8,
    "start_time": "2022-05-29T07:09:40.126Z"
   },
   {
    "duration": 94,
    "start_time": "2022-05-29T07:09:58.048Z"
   },
   {
    "duration": 115,
    "start_time": "2022-05-29T07:10:01.072Z"
   },
   {
    "duration": 9,
    "start_time": "2022-05-29T07:54:14.442Z"
   },
   {
    "duration": 10,
    "start_time": "2022-05-29T07:54:23.325Z"
   },
   {
    "duration": 11,
    "start_time": "2022-05-29T07:57:22.775Z"
   },
   {
    "duration": 1213,
    "start_time": "2022-05-29T07:57:36.484Z"
   },
   {
    "duration": 645,
    "start_time": "2022-05-29T07:57:37.699Z"
   },
   {
    "duration": 42,
    "start_time": "2022-05-29T07:57:38.345Z"
   },
   {
    "duration": 90,
    "start_time": "2022-05-29T07:57:38.389Z"
   },
   {
    "duration": 4,
    "start_time": "2022-05-29T07:57:38.481Z"
   },
   {
    "duration": 32,
    "start_time": "2022-05-29T07:57:38.486Z"
   },
   {
    "duration": 345,
    "start_time": "2022-05-29T07:57:38.520Z"
   },
   {
    "duration": 4,
    "start_time": "2022-05-29T07:57:38.869Z"
   },
   {
    "duration": 43,
    "start_time": "2022-05-29T07:57:38.875Z"
   },
   {
    "duration": 7,
    "start_time": "2022-05-29T07:57:38.920Z"
   },
   {
    "duration": 28,
    "start_time": "2022-05-29T07:57:38.929Z"
   },
   {
    "duration": 127,
    "start_time": "2022-05-29T07:57:44.168Z"
   },
   {
    "duration": 6,
    "start_time": "2022-05-29T07:58:23.058Z"
   },
   {
    "duration": 1265,
    "start_time": "2022-05-29T07:58:30.827Z"
   },
   {
    "duration": 701,
    "start_time": "2022-05-29T07:58:32.095Z"
   },
   {
    "duration": 42,
    "start_time": "2022-05-29T07:58:32.798Z"
   },
   {
    "duration": 66,
    "start_time": "2022-05-29T07:58:32.843Z"
   },
   {
    "duration": 4,
    "start_time": "2022-05-29T07:58:32.911Z"
   },
   {
    "duration": 6,
    "start_time": "2022-05-29T07:58:32.916Z"
   },
   {
    "duration": 376,
    "start_time": "2022-05-29T07:58:32.923Z"
   },
   {
    "duration": 5,
    "start_time": "2022-05-29T07:58:33.300Z"
   },
   {
    "duration": 65,
    "start_time": "2022-05-29T07:58:33.306Z"
   },
   {
    "duration": 10,
    "start_time": "2022-05-29T07:58:33.374Z"
   },
   {
    "duration": 9,
    "start_time": "2022-05-29T07:58:33.386Z"
   },
   {
    "duration": 118,
    "start_time": "2022-05-29T07:58:48.192Z"
   },
   {
    "duration": 5,
    "start_time": "2022-05-29T07:59:15.416Z"
   },
   {
    "duration": 9,
    "start_time": "2022-05-29T07:59:16.392Z"
   },
   {
    "duration": 2,
    "start_time": "2022-05-29T07:59:39.139Z"
   },
   {
    "duration": 44,
    "start_time": "2022-05-29T07:59:55.319Z"
   },
   {
    "duration": 4,
    "start_time": "2022-05-29T08:00:03.440Z"
   },
   {
    "duration": 3,
    "start_time": "2022-05-29T08:00:06.817Z"
   },
   {
    "duration": 22,
    "start_time": "2022-05-29T08:00:12.343Z"
   },
   {
    "duration": 4,
    "start_time": "2022-05-29T08:01:12.279Z"
   },
   {
    "duration": 741,
    "start_time": "2022-05-29T08:01:12.288Z"
   },
   {
    "duration": 50,
    "start_time": "2022-05-29T08:01:13.031Z"
   },
   {
    "duration": 74,
    "start_time": "2022-05-29T08:01:13.083Z"
   },
   {
    "duration": 9,
    "start_time": "2022-05-29T08:01:13.162Z"
   },
   {
    "duration": 8,
    "start_time": "2022-05-29T08:01:13.172Z"
   },
   {
    "duration": 366,
    "start_time": "2022-05-29T08:01:13.181Z"
   },
   {
    "duration": 13,
    "start_time": "2022-05-29T08:01:13.549Z"
   },
   {
    "duration": 48,
    "start_time": "2022-05-29T08:01:13.570Z"
   },
   {
    "duration": 6,
    "start_time": "2022-05-29T08:01:13.621Z"
   },
   {
    "duration": 10,
    "start_time": "2022-05-29T08:01:13.630Z"
   },
   {
    "duration": 5,
    "start_time": "2022-05-29T08:01:15.202Z"
   },
   {
    "duration": 5,
    "start_time": "2022-05-29T08:01:28.803Z"
   },
   {
    "duration": 3,
    "start_time": "2022-05-29T08:02:02.893Z"
   },
   {
    "duration": 9,
    "start_time": "2022-05-29T08:02:12.088Z"
   },
   {
    "duration": 9,
    "start_time": "2022-05-29T08:02:32.321Z"
   },
   {
    "duration": 4,
    "start_time": "2022-05-29T08:02:49.965Z"
   },
   {
    "duration": 719,
    "start_time": "2022-05-29T08:02:49.971Z"
   },
   {
    "duration": 42,
    "start_time": "2022-05-29T08:02:50.692Z"
   },
   {
    "duration": 73,
    "start_time": "2022-05-29T08:02:50.736Z"
   },
   {
    "duration": 4,
    "start_time": "2022-05-29T08:02:50.811Z"
   },
   {
    "duration": 11,
    "start_time": "2022-05-29T08:02:50.817Z"
   },
   {
    "duration": 379,
    "start_time": "2022-05-29T08:02:50.830Z"
   },
   {
    "duration": 4,
    "start_time": "2022-05-29T08:02:51.211Z"
   },
   {
    "duration": 51,
    "start_time": "2022-05-29T08:02:51.218Z"
   },
   {
    "duration": 8,
    "start_time": "2022-05-29T08:02:51.271Z"
   },
   {
    "duration": 10,
    "start_time": "2022-05-29T08:02:51.281Z"
   },
   {
    "duration": 12,
    "start_time": "2022-05-29T08:02:51.292Z"
   },
   {
    "duration": 9,
    "start_time": "2022-05-29T08:02:51.306Z"
   },
   {
    "duration": 3,
    "start_time": "2022-05-29T08:03:01.012Z"
   },
   {
    "duration": 3,
    "start_time": "2022-05-29T08:03:23.643Z"
   },
   {
    "duration": 698,
    "start_time": "2022-05-29T08:03:23.648Z"
   },
   {
    "duration": 41,
    "start_time": "2022-05-29T08:03:24.348Z"
   },
   {
    "duration": 79,
    "start_time": "2022-05-29T08:03:24.391Z"
   },
   {
    "duration": 4,
    "start_time": "2022-05-29T08:03:24.472Z"
   },
   {
    "duration": 5,
    "start_time": "2022-05-29T08:03:24.478Z"
   },
   {
    "duration": 345,
    "start_time": "2022-05-29T08:03:24.485Z"
   },
   {
    "duration": 4,
    "start_time": "2022-05-29T08:03:24.832Z"
   },
   {
    "duration": 47,
    "start_time": "2022-05-29T08:03:24.838Z"
   },
   {
    "duration": 6,
    "start_time": "2022-05-29T08:03:24.887Z"
   },
   {
    "duration": 8,
    "start_time": "2022-05-29T08:03:24.896Z"
   },
   {
    "duration": 5,
    "start_time": "2022-05-29T08:03:24.906Z"
   },
   {
    "duration": 3,
    "start_time": "2022-05-29T08:03:27.771Z"
   },
   {
    "duration": 4,
    "start_time": "2022-05-29T08:03:28.165Z"
   },
   {
    "duration": 4,
    "start_time": "2022-05-29T08:03:50.209Z"
   },
   {
    "duration": 700,
    "start_time": "2022-05-29T08:03:50.216Z"
   },
   {
    "duration": 42,
    "start_time": "2022-05-29T08:03:50.918Z"
   },
   {
    "duration": 54,
    "start_time": "2022-05-29T08:03:50.961Z"
   },
   {
    "duration": 5,
    "start_time": "2022-05-29T08:03:51.017Z"
   },
   {
    "duration": 29,
    "start_time": "2022-05-29T08:03:51.023Z"
   },
   {
    "duration": 321,
    "start_time": "2022-05-29T08:03:51.054Z"
   },
   {
    "duration": 4,
    "start_time": "2022-05-29T08:03:51.377Z"
   },
   {
    "duration": 42,
    "start_time": "2022-05-29T08:03:51.383Z"
   },
   {
    "duration": 6,
    "start_time": "2022-05-29T08:03:51.427Z"
   },
   {
    "duration": 5,
    "start_time": "2022-05-29T08:03:51.452Z"
   },
   {
    "duration": 16,
    "start_time": "2022-05-29T08:03:51.458Z"
   },
   {
    "duration": 3,
    "start_time": "2022-05-29T08:03:53.278Z"
   },
   {
    "duration": 4,
    "start_time": "2022-05-29T08:04:18.623Z"
   },
   {
    "duration": 1466,
    "start_time": "2022-05-29T14:32:09.425Z"
   },
   {
    "duration": 3703,
    "start_time": "2022-05-29T14:32:12.882Z"
   },
   {
    "duration": 60,
    "start_time": "2022-05-29T14:32:16.587Z"
   },
   {
    "duration": 65,
    "start_time": "2022-05-29T14:32:17.751Z"
   },
   {
    "duration": 6,
    "start_time": "2022-05-29T14:32:20.140Z"
   },
   {
    "duration": 5,
    "start_time": "2022-05-29T14:32:21.941Z"
   },
   {
    "duration": 366,
    "start_time": "2022-05-29T14:32:23.093Z"
   },
   {
    "duration": 6,
    "start_time": "2022-05-29T14:32:24.272Z"
   },
   {
    "duration": 44,
    "start_time": "2022-05-29T14:32:25.243Z"
   },
   {
    "duration": 12,
    "start_time": "2022-05-29T14:32:33.290Z"
   },
   {
    "duration": 6,
    "start_time": "2022-05-29T14:32:36.544Z"
   },
   {
    "duration": 14,
    "start_time": "2022-05-29T14:33:09.569Z"
   },
   {
    "duration": 3,
    "start_time": "2022-05-29T14:33:17.196Z"
   },
   {
    "duration": 13,
    "start_time": "2022-05-29T14:33:18.058Z"
   },
   {
    "duration": 19,
    "start_time": "2022-05-29T14:33:19.066Z"
   },
   {
    "duration": 114,
    "start_time": "2022-05-29T14:33:20.209Z"
   },
   {
    "duration": 138,
    "start_time": "2022-05-29T14:33:22.057Z"
   },
   {
    "duration": 6,
    "start_time": "2022-05-29T14:33:43.939Z"
   },
   {
    "duration": 17,
    "start_time": "2022-05-29T14:33:54.829Z"
   },
   {
    "duration": 15,
    "start_time": "2022-05-29T14:34:06.323Z"
   },
   {
    "duration": 178,
    "start_time": "2022-05-29T14:35:55.914Z"
   },
   {
    "duration": 5,
    "start_time": "2022-05-29T14:36:02.507Z"
   },
   {
    "duration": 4,
    "start_time": "2022-05-29T14:36:05.870Z"
   },
   {
    "duration": 697,
    "start_time": "2022-05-29T14:36:18.248Z"
   },
   {
    "duration": 27,
    "start_time": "2022-05-29T14:36:42.167Z"
   },
   {
    "duration": 484,
    "start_time": "2022-05-29T14:37:21.910Z"
   },
   {
    "duration": 1059,
    "start_time": "2022-05-29T14:37:49.702Z"
   },
   {
    "duration": 3,
    "start_time": "2022-05-29T14:37:53.955Z"
   },
   {
    "duration": 1115,
    "start_time": "2022-05-29T14:38:08.622Z"
   },
   {
    "duration": 4,
    "start_time": "2022-05-29T14:38:10.019Z"
   },
   {
    "duration": 4,
    "start_time": "2022-05-29T14:38:14.487Z"
   },
   {
    "duration": 5,
    "start_time": "2022-05-29T14:38:47.740Z"
   },
   {
    "duration": 889,
    "start_time": "2022-05-29T14:38:54.870Z"
   },
   {
    "duration": 4,
    "start_time": "2022-05-29T14:39:14.410Z"
   },
   {
    "duration": 4,
    "start_time": "2022-05-29T14:39:22.474Z"
   },
   {
    "duration": 3,
    "start_time": "2022-05-29T14:39:47.513Z"
   },
   {
    "duration": 163,
    "start_time": "2022-05-29T14:39:48.046Z"
   },
   {
    "duration": 9,
    "start_time": "2022-05-29T14:39:48.712Z"
   },
   {
    "duration": 10,
    "start_time": "2022-05-29T14:39:49.875Z"
   },
   {
    "duration": 193,
    "start_time": "2022-05-29T14:39:51.315Z"
   },
   {
    "duration": 11,
    "start_time": "2022-05-29T14:39:53.939Z"
   },
   {
    "duration": 221,
    "start_time": "2022-05-29T14:39:54.843Z"
   },
   {
    "duration": 6,
    "start_time": "2022-05-29T14:39:58.207Z"
   },
   {
    "duration": 376,
    "start_time": "2022-05-29T14:39:59.124Z"
   },
   {
    "duration": 357,
    "start_time": "2022-05-29T14:40:00.795Z"
   },
   {
    "duration": 7,
    "start_time": "2022-05-29T14:40:06.489Z"
   },
   {
    "duration": 3,
    "start_time": "2022-05-29T14:40:07.406Z"
   },
   {
    "duration": 3,
    "start_time": "2022-05-29T14:40:09.418Z"
   },
   {
    "duration": 156,
    "start_time": "2022-05-29T14:40:12.653Z"
   },
   {
    "duration": 13,
    "start_time": "2022-05-29T14:40:15.842Z"
   },
   {
    "duration": 20,
    "start_time": "2022-05-29T14:40:20.119Z"
   },
   {
    "duration": 237,
    "start_time": "2022-05-29T14:40:28.656Z"
   },
   {
    "duration": 3,
    "start_time": "2022-05-29T14:40:47.511Z"
   },
   {
    "duration": 20,
    "start_time": "2022-05-29T14:40:51.942Z"
   },
   {
    "duration": 14,
    "start_time": "2022-05-29T14:41:04.442Z"
   },
   {
    "duration": 7,
    "start_time": "2022-05-29T14:41:09.704Z"
   },
   {
    "duration": 9788,
    "start_time": "2022-05-29T14:41:13.926Z"
   },
   {
    "duration": 6,
    "start_time": "2022-05-29T14:42:50.419Z"
   },
   {
    "duration": 1375,
    "start_time": "2022-05-29T14:45:05.558Z"
   },
   {
    "duration": 722,
    "start_time": "2022-05-29T14:45:06.934Z"
   },
   {
    "duration": 43,
    "start_time": "2022-05-29T14:45:07.657Z"
   },
   {
    "duration": 71,
    "start_time": "2022-05-29T14:45:07.703Z"
   },
   {
    "duration": 4,
    "start_time": "2022-05-29T14:45:07.776Z"
   },
   {
    "duration": 11,
    "start_time": "2022-05-29T14:45:07.782Z"
   },
   {
    "duration": 382,
    "start_time": "2022-05-29T14:45:07.795Z"
   },
   {
    "duration": 5,
    "start_time": "2022-05-29T14:45:08.179Z"
   },
   {
    "duration": 66,
    "start_time": "2022-05-29T14:45:08.186Z"
   },
   {
    "duration": 9,
    "start_time": "2022-05-29T14:45:08.256Z"
   },
   {
    "duration": 11,
    "start_time": "2022-05-29T14:45:08.267Z"
   },
   {
    "duration": 11,
    "start_time": "2022-05-29T14:45:08.280Z"
   },
   {
    "duration": 12,
    "start_time": "2022-05-29T14:45:08.293Z"
   },
   {
    "duration": 42,
    "start_time": "2022-05-29T14:45:08.307Z"
   },
   {
    "duration": 13,
    "start_time": "2022-05-29T14:45:08.350Z"
   },
   {
    "duration": 113,
    "start_time": "2022-05-29T14:45:08.365Z"
   },
   {
    "duration": 164,
    "start_time": "2022-05-29T14:45:08.480Z"
   },
   {
    "duration": 6,
    "start_time": "2022-05-29T14:45:08.646Z"
   },
   {
    "duration": 22,
    "start_time": "2022-05-29T14:45:08.654Z"
   },
   {
    "duration": 20,
    "start_time": "2022-05-29T14:45:08.683Z"
   },
   {
    "duration": 10,
    "start_time": "2022-05-29T14:45:08.705Z"
   },
   {
    "duration": 240,
    "start_time": "2022-05-29T14:45:08.717Z"
   },
   {
    "duration": 8,
    "start_time": "2022-05-29T14:45:08.958Z"
   },
   {
    "duration": 235,
    "start_time": "2022-05-29T14:45:08.968Z"
   },
   {
    "duration": 6,
    "start_time": "2022-05-29T14:45:09.204Z"
   },
   {
    "duration": 31,
    "start_time": "2022-05-29T14:45:09.212Z"
   },
   {
    "duration": 31,
    "start_time": "2022-05-29T14:45:09.244Z"
   },
   {
    "duration": 1157,
    "start_time": "2022-05-29T14:45:09.280Z"
   },
   {
    "duration": 3,
    "start_time": "2022-05-29T14:45:10.443Z"
   },
   {
    "duration": 17,
    "start_time": "2022-05-29T14:45:10.449Z"
   },
   {
    "duration": 854,
    "start_time": "2022-05-29T14:45:10.468Z"
   },
   {
    "duration": 20,
    "start_time": "2022-05-29T14:45:11.324Z"
   },
   {
    "duration": 162,
    "start_time": "2022-05-29T14:45:11.349Z"
   },
   {
    "duration": 23,
    "start_time": "2022-05-29T14:45:11.512Z"
   },
   {
    "duration": 26,
    "start_time": "2022-05-29T14:45:11.545Z"
   },
   {
    "duration": 211,
    "start_time": "2022-05-29T14:45:11.573Z"
   },
   {
    "duration": 10,
    "start_time": "2022-05-29T14:45:11.786Z"
   },
   {
    "duration": 207,
    "start_time": "2022-05-29T14:45:11.798Z"
   },
   {
    "duration": 6,
    "start_time": "2022-05-29T14:45:12.007Z"
   },
   {
    "duration": 370,
    "start_time": "2022-05-29T14:45:12.027Z"
   },
   {
    "duration": 364,
    "start_time": "2022-05-29T14:45:12.399Z"
   },
   {
    "duration": 5,
    "start_time": "2022-05-29T14:45:12.765Z"
   },
   {
    "duration": 8,
    "start_time": "2022-05-29T14:45:12.772Z"
   },
   {
    "duration": 6,
    "start_time": "2022-05-29T14:45:12.782Z"
   },
   {
    "duration": 179,
    "start_time": "2022-05-29T14:45:12.789Z"
   },
   {
    "duration": 8,
    "start_time": "2022-05-29T14:45:12.970Z"
   },
   {
    "duration": 13,
    "start_time": "2022-05-29T14:45:12.980Z"
   },
   {
    "duration": 273,
    "start_time": "2022-05-29T14:45:12.995Z"
   },
   {
    "duration": 5,
    "start_time": "2022-05-29T14:45:13.269Z"
   },
   {
    "duration": 12,
    "start_time": "2022-05-29T14:45:13.276Z"
   },
   {
    "duration": 52758,
    "start_time": "2022-05-29T14:45:21.488Z"
   },
   {
    "duration": 112975,
    "start_time": "2022-05-29T14:46:40.944Z"
   },
   {
    "duration": 123535,
    "start_time": "2022-05-29T14:49:00.015Z"
   },
   {
    "duration": 41544,
    "start_time": "2022-05-29T14:51:24.160Z"
   },
   {
    "duration": 943,
    "start_time": "2022-05-29T14:52:39.887Z"
   },
   {
    "duration": 11,
    "start_time": "2022-05-29T14:53:38.452Z"
   },
   {
    "duration": 223048,
    "start_time": "2022-05-29T14:53:49.641Z"
   },
   {
    "duration": 1862,
    "start_time": "2022-05-29T14:58:25.585Z"
   },
   {
    "duration": 79097,
    "start_time": "2022-05-29T14:58:42.401Z"
   },
   {
    "duration": 1512,
    "start_time": "2022-05-30T05:56:22.134Z"
   },
   {
    "duration": 3140,
    "start_time": "2022-05-30T05:56:23.648Z"
   },
   {
    "duration": 59,
    "start_time": "2022-05-30T05:56:26.790Z"
   },
   {
    "duration": 78,
    "start_time": "2022-05-30T05:56:26.851Z"
   },
   {
    "duration": 6,
    "start_time": "2022-05-30T05:56:26.933Z"
   },
   {
    "duration": 25,
    "start_time": "2022-05-30T05:56:26.941Z"
   },
   {
    "duration": 395,
    "start_time": "2022-05-30T05:56:26.969Z"
   },
   {
    "duration": 6,
    "start_time": "2022-05-30T05:56:27.366Z"
   },
   {
    "duration": 60,
    "start_time": "2022-05-30T05:56:27.374Z"
   },
   {
    "duration": 10,
    "start_time": "2022-05-30T05:56:27.436Z"
   },
   {
    "duration": 41,
    "start_time": "2022-05-30T05:56:27.447Z"
   },
   {
    "duration": 16,
    "start_time": "2022-05-30T05:56:27.490Z"
   },
   {
    "duration": 13,
    "start_time": "2022-05-30T05:56:27.509Z"
   },
   {
    "duration": 17,
    "start_time": "2022-05-30T05:56:27.525Z"
   },
   {
    "duration": 10,
    "start_time": "2022-05-30T05:56:27.544Z"
   },
   {
    "duration": 109,
    "start_time": "2022-05-30T05:56:27.556Z"
   },
   {
    "duration": 160,
    "start_time": "2022-05-30T05:56:27.667Z"
   },
   {
    "duration": 4,
    "start_time": "2022-05-30T05:56:27.829Z"
   },
   {
    "duration": 29,
    "start_time": "2022-05-30T05:56:27.836Z"
   },
   {
    "duration": 7,
    "start_time": "2022-05-30T05:56:27.867Z"
   },
   {
    "duration": 7,
    "start_time": "2022-05-30T05:56:27.876Z"
   },
   {
    "duration": 219,
    "start_time": "2022-05-30T05:56:27.884Z"
   },
   {
    "duration": 7,
    "start_time": "2022-05-30T05:56:28.105Z"
   },
   {
    "duration": 214,
    "start_time": "2022-05-30T05:56:28.114Z"
   },
   {
    "duration": 5,
    "start_time": "2022-05-30T05:56:28.330Z"
   },
   {
    "duration": 7,
    "start_time": "2022-05-30T05:56:28.337Z"
   },
   {
    "duration": 47,
    "start_time": "2022-05-30T05:56:28.345Z"
   },
   {
    "duration": 1244,
    "start_time": "2022-05-30T05:56:28.393Z"
   },
   {
    "duration": 3,
    "start_time": "2022-05-30T05:56:29.639Z"
   },
   {
    "duration": 13,
    "start_time": "2022-05-30T05:56:29.644Z"
   },
   {
    "duration": 836,
    "start_time": "2022-05-30T05:56:29.664Z"
   },
   {
    "duration": 3,
    "start_time": "2022-05-30T05:56:30.502Z"
   },
   {
    "duration": 199,
    "start_time": "2022-05-30T05:56:30.507Z"
   },
   {
    "duration": 9,
    "start_time": "2022-05-30T05:56:30.708Z"
   },
   {
    "duration": 44,
    "start_time": "2022-05-30T05:56:30.719Z"
   },
   {
    "duration": 218,
    "start_time": "2022-05-30T05:56:30.765Z"
   },
   {
    "duration": 12,
    "start_time": "2022-05-30T05:56:30.985Z"
   },
   {
    "duration": 230,
    "start_time": "2022-05-30T05:56:30.998Z"
   },
   {
    "duration": 5,
    "start_time": "2022-05-30T05:56:31.230Z"
   },
   {
    "duration": 386,
    "start_time": "2022-05-30T05:56:31.237Z"
   },
   {
    "duration": 405,
    "start_time": "2022-05-30T05:56:31.627Z"
   },
   {
    "duration": 6,
    "start_time": "2022-05-30T05:56:32.034Z"
   },
   {
    "duration": 9,
    "start_time": "2022-05-30T05:56:32.042Z"
   },
   {
    "duration": 15,
    "start_time": "2022-05-30T05:56:32.052Z"
   },
   {
    "duration": 188,
    "start_time": "2022-05-30T05:56:32.069Z"
   },
   {
    "duration": 9,
    "start_time": "2022-05-30T05:56:32.259Z"
   },
   {
    "duration": 13,
    "start_time": "2022-05-30T05:56:32.270Z"
   },
   {
    "duration": 275,
    "start_time": "2022-05-30T05:56:32.284Z"
   },
   {
    "duration": 6,
    "start_time": "2022-05-30T05:56:32.561Z"
   },
   {
    "duration": 11,
    "start_time": "2022-05-30T05:56:32.569Z"
   },
   {
    "duration": 21922,
    "start_time": "2022-05-30T05:56:32.582Z"
   },
   {
    "duration": 5425,
    "start_time": "2022-05-30T05:56:54.506Z"
   },
   {
    "duration": 1387,
    "start_time": "2022-05-30T05:59:28.790Z"
   },
   {
    "duration": 742,
    "start_time": "2022-05-30T05:59:30.179Z"
   },
   {
    "duration": 53,
    "start_time": "2022-05-30T05:59:30.923Z"
   },
   {
    "duration": 67,
    "start_time": "2022-05-30T05:59:30.978Z"
   },
   {
    "duration": 5,
    "start_time": "2022-05-30T05:59:31.064Z"
   },
   {
    "duration": 22,
    "start_time": "2022-05-30T05:59:31.071Z"
   },
   {
    "duration": 415,
    "start_time": "2022-05-30T05:59:31.096Z"
   },
   {
    "duration": 5,
    "start_time": "2022-05-30T05:59:31.512Z"
   },
   {
    "duration": 63,
    "start_time": "2022-05-30T05:59:31.519Z"
   },
   {
    "duration": 10,
    "start_time": "2022-05-30T05:59:31.583Z"
   },
   {
    "duration": 8,
    "start_time": "2022-05-30T05:59:31.595Z"
   },
   {
    "duration": 12,
    "start_time": "2022-05-30T05:59:31.605Z"
   },
   {
    "duration": 5,
    "start_time": "2022-05-30T05:59:31.619Z"
   },
   {
    "duration": 38,
    "start_time": "2022-05-30T05:59:31.627Z"
   },
   {
    "duration": 9,
    "start_time": "2022-05-30T05:59:31.667Z"
   },
   {
    "duration": 117,
    "start_time": "2022-05-30T05:59:31.677Z"
   },
   {
    "duration": 163,
    "start_time": "2022-05-30T05:59:31.797Z"
   },
   {
    "duration": 5,
    "start_time": "2022-05-30T05:59:31.965Z"
   },
   {
    "duration": 25,
    "start_time": "2022-05-30T05:59:31.972Z"
   },
   {
    "duration": 7,
    "start_time": "2022-05-30T05:59:31.999Z"
   },
   {
    "duration": 9,
    "start_time": "2022-05-30T05:59:32.008Z"
   },
   {
    "duration": 214,
    "start_time": "2022-05-30T05:59:32.019Z"
   },
   {
    "duration": 7,
    "start_time": "2022-05-30T05:59:32.235Z"
   },
   {
    "duration": 231,
    "start_time": "2022-05-30T05:59:32.243Z"
   },
   {
    "duration": 6,
    "start_time": "2022-05-30T05:59:32.475Z"
   },
   {
    "duration": 9,
    "start_time": "2022-05-30T05:59:32.483Z"
   },
   {
    "duration": 34,
    "start_time": "2022-05-30T05:59:32.494Z"
   },
   {
    "duration": 1198,
    "start_time": "2022-05-30T05:59:32.530Z"
   },
   {
    "duration": 3,
    "start_time": "2022-05-30T05:59:33.730Z"
   },
   {
    "duration": 11,
    "start_time": "2022-05-30T05:59:33.735Z"
   },
   {
    "duration": 890,
    "start_time": "2022-05-30T05:59:33.748Z"
   },
   {
    "duration": 4,
    "start_time": "2022-05-30T05:59:34.639Z"
   },
   {
    "duration": 171,
    "start_time": "2022-05-30T05:59:34.644Z"
   },
   {
    "duration": 11,
    "start_time": "2022-05-30T05:59:34.816Z"
   },
   {
    "duration": 15,
    "start_time": "2022-05-30T05:59:34.829Z"
   },
   {
    "duration": 231,
    "start_time": "2022-05-30T05:59:34.846Z"
   },
   {
    "duration": 12,
    "start_time": "2022-05-30T05:59:35.079Z"
   },
   {
    "duration": 222,
    "start_time": "2022-05-30T05:59:35.093Z"
   },
   {
    "duration": 6,
    "start_time": "2022-05-30T05:59:35.318Z"
   },
   {
    "duration": 408,
    "start_time": "2022-05-30T05:59:35.326Z"
   },
   {
    "duration": 388,
    "start_time": "2022-05-30T05:59:35.738Z"
   },
   {
    "duration": 5,
    "start_time": "2022-05-30T05:59:36.128Z"
   },
   {
    "duration": 13,
    "start_time": "2022-05-30T05:59:36.135Z"
   },
   {
    "duration": 15,
    "start_time": "2022-05-30T05:59:36.150Z"
   },
   {
    "duration": 173,
    "start_time": "2022-05-30T05:59:36.167Z"
   },
   {
    "duration": 10,
    "start_time": "2022-05-30T05:59:36.342Z"
   },
   {
    "duration": 11,
    "start_time": "2022-05-30T05:59:36.364Z"
   },
   {
    "duration": 305,
    "start_time": "2022-05-30T05:59:36.377Z"
   },
   {
    "duration": 5,
    "start_time": "2022-05-30T05:59:36.684Z"
   },
   {
    "duration": 12,
    "start_time": "2022-05-30T05:59:36.692Z"
   },
   {
    "duration": 110110,
    "start_time": "2022-05-30T05:59:36.706Z"
   },
   {
    "duration": 70172,
    "start_time": "2022-05-30T06:01:26.818Z"
   },
   {
    "duration": 252098,
    "start_time": "2022-05-30T06:02:36.992Z"
   },
   {
    "duration": 286337,
    "start_time": "2022-05-30T06:06:49.093Z"
   },
   {
    "duration": 92202,
    "start_time": "2022-05-30T06:11:35.432Z"
   },
   {
    "duration": 1037,
    "start_time": "2022-05-30T06:13:07.636Z"
   },
   {
    "duration": 112,
    "start_time": "2022-05-30T06:13:08.679Z"
   },
   {
    "duration": 0,
    "start_time": "2022-05-30T06:13:08.794Z"
   },
   {
    "duration": 1396,
    "start_time": "2022-05-30T06:14:55.270Z"
   },
   {
    "duration": 1606,
    "start_time": "2022-05-30T06:44:38.142Z"
   },
   {
    "duration": 787,
    "start_time": "2022-05-30T06:44:39.750Z"
   },
   {
    "duration": 56,
    "start_time": "2022-05-30T06:44:40.539Z"
   },
   {
    "duration": 94,
    "start_time": "2022-05-30T06:44:40.598Z"
   },
   {
    "duration": 6,
    "start_time": "2022-05-30T06:44:40.695Z"
   },
   {
    "duration": 5,
    "start_time": "2022-05-30T06:44:40.704Z"
   },
   {
    "duration": 450,
    "start_time": "2022-05-30T06:44:40.710Z"
   },
   {
    "duration": 6,
    "start_time": "2022-05-30T06:44:41.162Z"
   },
   {
    "duration": 55,
    "start_time": "2022-05-30T06:44:41.170Z"
   },
   {
    "duration": 9,
    "start_time": "2022-05-30T06:44:41.227Z"
   },
   {
    "duration": 29,
    "start_time": "2022-05-30T06:44:41.238Z"
   },
   {
    "duration": 12,
    "start_time": "2022-05-30T06:44:41.270Z"
   },
   {
    "duration": 9,
    "start_time": "2022-05-30T06:44:41.284Z"
   },
   {
    "duration": 15,
    "start_time": "2022-05-30T06:44:41.297Z"
   },
   {
    "duration": 9,
    "start_time": "2022-05-30T06:44:41.314Z"
   },
   {
    "duration": 159,
    "start_time": "2022-05-30T06:44:41.326Z"
   },
   {
    "duration": 170,
    "start_time": "2022-05-30T06:44:41.487Z"
   },
   {
    "duration": 6,
    "start_time": "2022-05-30T06:44:41.665Z"
   },
   {
    "duration": 28,
    "start_time": "2022-05-30T06:44:41.673Z"
   },
   {
    "duration": 16,
    "start_time": "2022-05-30T06:44:41.703Z"
   },
   {
    "duration": 7,
    "start_time": "2022-05-30T06:44:45.412Z"
   },
   {
    "duration": 242,
    "start_time": "2022-05-30T06:44:50.973Z"
   },
   {
    "duration": 10,
    "start_time": "2022-05-30T06:45:02.013Z"
   },
   {
    "duration": 227,
    "start_time": "2022-05-30T06:45:03.342Z"
   },
   {
    "duration": 6,
    "start_time": "2022-05-30T06:45:10.408Z"
   },
   {
    "duration": 5,
    "start_time": "2022-05-30T06:45:11.142Z"
   },
   {
    "duration": 43,
    "start_time": "2022-05-30T06:45:13.400Z"
   },
   {
    "duration": 1347,
    "start_time": "2022-05-30T06:45:19.769Z"
   },
   {
    "duration": 4,
    "start_time": "2022-05-30T06:45:21.118Z"
   },
   {
    "duration": 7,
    "start_time": "2022-05-30T06:45:25.446Z"
   },
   {
    "duration": 937,
    "start_time": "2022-05-30T06:45:26.230Z"
   },
   {
    "duration": 11,
    "start_time": "2022-05-30T06:45:33.629Z"
   },
   {
    "duration": 266968,
    "start_time": "2022-05-30T06:45:46.264Z"
   },
   {
    "duration": 103789,
    "start_time": "2022-05-30T06:51:19.047Z"
   },
   {
    "duration": 2176,
    "start_time": "2022-05-30T06:55:03.693Z"
   },
   {
    "duration": 53083,
    "start_time": "2022-05-30T06:55:20.262Z"
   },
   {
    "duration": 42135,
    "start_time": "2022-05-30T06:57:26.783Z"
   },
   {
    "duration": 452,
    "start_time": "2022-05-30T06:58:08.921Z"
   },
   {
    "duration": 13,
    "start_time": "2022-05-30T06:58:11.239Z"
   },
   {
    "duration": 6,
    "start_time": "2022-05-30T06:58:20.845Z"
   },
   {
    "duration": 292966,
    "start_time": "2022-05-30T06:59:11.261Z"
   },
   {
    "duration": 5,
    "start_time": "2022-05-30T07:06:10.720Z"
   },
   {
    "duration": 786,
    "start_time": "2022-05-30T07:06:10.728Z"
   },
   {
    "duration": 58,
    "start_time": "2022-05-30T07:06:11.516Z"
   },
   {
    "duration": 90,
    "start_time": "2022-05-30T07:06:11.577Z"
   },
   {
    "duration": 5,
    "start_time": "2022-05-30T07:06:11.670Z"
   },
   {
    "duration": 15,
    "start_time": "2022-05-30T07:06:11.677Z"
   },
   {
    "duration": 389,
    "start_time": "2022-05-30T07:06:11.694Z"
   },
   {
    "duration": 6,
    "start_time": "2022-05-30T07:06:12.085Z"
   },
   {
    "duration": 47,
    "start_time": "2022-05-30T07:06:12.092Z"
   },
   {
    "duration": 25,
    "start_time": "2022-05-30T07:06:12.140Z"
   },
   {
    "duration": 15,
    "start_time": "2022-05-30T07:06:12.167Z"
   },
   {
    "duration": 9,
    "start_time": "2022-05-30T07:06:18.166Z"
   },
   {
    "duration": 5,
    "start_time": "2022-05-30T07:06:20.045Z"
   },
   {
    "duration": 11,
    "start_time": "2022-05-30T07:06:20.637Z"
   },
   {
    "duration": 11,
    "start_time": "2022-05-30T07:06:22.910Z"
   },
   {
    "duration": 177,
    "start_time": "2022-05-30T07:06:28.446Z"
   },
   {
    "duration": 141,
    "start_time": "2022-05-30T07:06:30.878Z"
   },
   {
    "duration": 14,
    "start_time": "2022-05-30T07:07:32.014Z"
   },
   {
    "duration": 7,
    "start_time": "2022-05-30T07:07:35.119Z"
   },
   {
    "duration": 6,
    "start_time": "2022-05-30T07:09:33.993Z"
   },
   {
    "duration": 822,
    "start_time": "2022-05-30T07:09:34.001Z"
   },
   {
    "duration": 81,
    "start_time": "2022-05-30T07:09:34.825Z"
   },
   {
    "duration": 104,
    "start_time": "2022-05-30T07:09:34.908Z"
   },
   {
    "duration": 6,
    "start_time": "2022-05-30T07:09:35.016Z"
   },
   {
    "duration": 19,
    "start_time": "2022-05-30T07:09:35.029Z"
   },
   {
    "duration": 370,
    "start_time": "2022-05-30T07:09:35.051Z"
   },
   {
    "duration": 6,
    "start_time": "2022-05-30T07:09:35.424Z"
   },
   {
    "duration": 64,
    "start_time": "2022-05-30T07:09:35.433Z"
   },
   {
    "duration": 7,
    "start_time": "2022-05-30T07:09:35.499Z"
   },
   {
    "duration": 9,
    "start_time": "2022-05-30T07:09:35.509Z"
   },
   {
    "duration": 10,
    "start_time": "2022-05-30T07:09:35.520Z"
   },
   {
    "duration": 31,
    "start_time": "2022-05-30T07:09:35.533Z"
   },
   {
    "duration": 11,
    "start_time": "2022-05-30T07:09:35.568Z"
   },
   {
    "duration": 11,
    "start_time": "2022-05-30T07:09:35.581Z"
   },
   {
    "duration": 139,
    "start_time": "2022-05-30T07:09:35.594Z"
   },
   {
    "duration": 5,
    "start_time": "2022-05-30T07:10:17.944Z"
   },
   {
    "duration": 63,
    "start_time": "2022-05-30T07:10:18.551Z"
   },
   {
    "duration": 1246,
    "start_time": "2022-05-30T07:10:26.711Z"
   },
   {
    "duration": 6,
    "start_time": "2022-05-30T07:10:27.960Z"
   },
   {
    "duration": 7,
    "start_time": "2022-05-30T07:10:29.431Z"
   },
   {
    "duration": 938,
    "start_time": "2022-05-30T07:10:30.352Z"
   },
   {
    "duration": 8,
    "start_time": "2022-05-30T07:10:36.966Z"
   },
   {
    "duration": 317918,
    "start_time": "2022-05-30T07:10:46.256Z"
   },
   {
    "duration": 329136,
    "start_time": "2022-05-30T07:16:14.734Z"
   },
   {
    "duration": 33,
    "start_time": "2022-05-30T07:24:01.665Z"
   },
   {
    "duration": 14,
    "start_time": "2022-05-30T07:24:54.593Z"
   },
   {
    "duration": 6,
    "start_time": "2022-05-30T07:24:58.096Z"
   },
   {
    "duration": 129,
    "start_time": "2022-05-30T07:27:50.663Z"
   },
   {
    "duration": 105,
    "start_time": "2022-05-30T07:27:58.417Z"
   },
   {
    "duration": 15,
    "start_time": "2022-05-30T07:28:36.273Z"
   },
   {
    "duration": 110,
    "start_time": "2022-05-30T07:28:40.127Z"
   },
   {
    "duration": 7,
    "start_time": "2022-05-30T07:29:09.167Z"
   },
   {
    "duration": 31,
    "start_time": "2022-05-30T07:29:22.608Z"
   },
   {
    "duration": 32,
    "start_time": "2022-05-30T07:29:29.360Z"
   },
   {
    "duration": 40,
    "start_time": "2022-05-30T07:29:37.489Z"
   },
   {
    "duration": 405,
    "start_time": "2022-05-30T07:30:15.584Z"
   },
   {
    "duration": 9,
    "start_time": "2022-05-30T07:34:30.926Z"
   },
   {
    "duration": 5,
    "start_time": "2022-05-30T07:34:41.243Z"
   },
   {
    "duration": 748,
    "start_time": "2022-05-30T07:34:41.251Z"
   },
   {
    "duration": 49,
    "start_time": "2022-05-30T07:34:42.001Z"
   },
   {
    "duration": 71,
    "start_time": "2022-05-30T07:34:42.052Z"
   },
   {
    "duration": 5,
    "start_time": "2022-05-30T07:34:42.125Z"
   },
   {
    "duration": 32,
    "start_time": "2022-05-30T07:34:42.132Z"
   },
   {
    "duration": 375,
    "start_time": "2022-05-30T07:34:42.166Z"
   },
   {
    "duration": 6,
    "start_time": "2022-05-30T07:34:42.543Z"
   },
   {
    "duration": 51,
    "start_time": "2022-05-30T07:34:42.551Z"
   },
   {
    "duration": 10,
    "start_time": "2022-05-30T07:34:42.604Z"
   },
   {
    "duration": 10,
    "start_time": "2022-05-30T07:34:42.616Z"
   },
   {
    "duration": 38,
    "start_time": "2022-05-30T07:34:42.628Z"
   },
   {
    "duration": 10,
    "start_time": "2022-05-30T07:34:42.668Z"
   },
   {
    "duration": 14,
    "start_time": "2022-05-30T07:34:42.682Z"
   },
   {
    "duration": 12,
    "start_time": "2022-05-30T07:34:42.698Z"
   },
   {
    "duration": 171,
    "start_time": "2022-05-30T07:34:42.714Z"
   },
   {
    "duration": 160,
    "start_time": "2022-05-30T07:34:42.887Z"
   },
   {
    "duration": 6,
    "start_time": "2022-05-30T07:34:43.048Z"
   },
   {
    "duration": 17,
    "start_time": "2022-05-30T07:34:43.064Z"
   },
   {
    "duration": 10,
    "start_time": "2022-05-30T07:34:43.083Z"
   },
   {
    "duration": 10,
    "start_time": "2022-05-30T07:34:43.095Z"
   },
   {
    "duration": 329,
    "start_time": "2022-05-30T07:34:43.107Z"
   },
   {
    "duration": 6,
    "start_time": "2022-05-30T07:34:47.326Z"
   },
   {
    "duration": 5,
    "start_time": "2022-05-30T07:34:55.252Z"
   },
   {
    "duration": 721,
    "start_time": "2022-05-30T07:34:55.259Z"
   },
   {
    "duration": 43,
    "start_time": "2022-05-30T07:34:55.983Z"
   },
   {
    "duration": 84,
    "start_time": "2022-05-30T07:34:56.028Z"
   },
   {
    "duration": 5,
    "start_time": "2022-05-30T07:34:56.115Z"
   },
   {
    "duration": 17,
    "start_time": "2022-05-30T07:34:56.121Z"
   },
   {
    "duration": 375,
    "start_time": "2022-05-30T07:34:56.140Z"
   },
   {
    "duration": 5,
    "start_time": "2022-05-30T07:34:56.517Z"
   },
   {
    "duration": 55,
    "start_time": "2022-05-30T07:34:56.524Z"
   },
   {
    "duration": 8,
    "start_time": "2022-05-30T07:34:56.582Z"
   },
   {
    "duration": 16,
    "start_time": "2022-05-30T07:34:56.592Z"
   },
   {
    "duration": 6,
    "start_time": "2022-05-30T07:35:26.462Z"
   },
   {
    "duration": 5,
    "start_time": "2022-05-30T07:35:58.478Z"
   },
   {
    "duration": 10,
    "start_time": "2022-05-30T07:36:09.104Z"
   },
   {
    "duration": 4,
    "start_time": "2022-05-30T07:36:09.998Z"
   },
   {
    "duration": 13,
    "start_time": "2022-05-30T07:36:14.009Z"
   },
   {
    "duration": 11,
    "start_time": "2022-05-30T07:36:15.934Z"
   },
   {
    "duration": 108,
    "start_time": "2022-05-30T07:36:16.705Z"
   },
   {
    "duration": 196,
    "start_time": "2022-05-30T07:36:17.622Z"
   },
   {
    "duration": 6,
    "start_time": "2022-05-30T07:36:21.527Z"
   },
   {
    "duration": 16,
    "start_time": "2022-05-30T07:36:22.236Z"
   },
   {
    "duration": 7,
    "start_time": "2022-05-30T07:36:23.966Z"
   },
   {
    "duration": 9,
    "start_time": "2022-05-30T07:36:29.894Z"
   },
   {
    "duration": 10,
    "start_time": "2022-05-30T07:36:35.783Z"
   },
   {
    "duration": 259980,
    "start_time": "2022-05-30T07:36:48.247Z"
   },
   {
    "duration": 304,
    "start_time": "2022-05-30T07:41:37.029Z"
   },
   {
    "duration": 9,
    "start_time": "2022-05-30T07:41:43.693Z"
   },
   {
    "duration": 52,
    "start_time": "2022-05-30T07:41:52.549Z"
   },
   {
    "duration": 6,
    "start_time": "2022-05-30T07:42:07.099Z"
   },
   {
    "duration": 859,
    "start_time": "2022-05-30T07:42:07.108Z"
   },
   {
    "duration": 67,
    "start_time": "2022-05-30T07:42:07.970Z"
   },
   {
    "duration": 98,
    "start_time": "2022-05-30T07:42:08.040Z"
   },
   {
    "duration": 6,
    "start_time": "2022-05-30T07:42:08.140Z"
   },
   {
    "duration": 5,
    "start_time": "2022-05-30T07:42:08.165Z"
   },
   {
    "duration": 586,
    "start_time": "2022-05-30T07:42:08.172Z"
   },
   {
    "duration": 9,
    "start_time": "2022-05-30T07:42:08.761Z"
   },
   {
    "duration": 44,
    "start_time": "2022-05-30T07:42:08.773Z"
   },
   {
    "duration": 11,
    "start_time": "2022-05-30T07:42:08.821Z"
   },
   {
    "duration": 36,
    "start_time": "2022-05-30T07:42:08.834Z"
   },
   {
    "duration": 35,
    "start_time": "2022-05-30T07:42:08.872Z"
   },
   {
    "duration": 20,
    "start_time": "2022-05-30T07:42:08.909Z"
   },
   {
    "duration": 34,
    "start_time": "2022-05-30T07:42:08.932Z"
   },
   {
    "duration": 42,
    "start_time": "2022-05-30T07:42:08.967Z"
   },
   {
    "duration": 30,
    "start_time": "2022-05-30T07:42:09.012Z"
   },
   {
    "duration": 191,
    "start_time": "2022-05-30T07:42:09.044Z"
   },
   {
    "duration": 233,
    "start_time": "2022-05-30T07:42:09.238Z"
   },
   {
    "duration": 8,
    "start_time": "2022-05-30T07:42:09.474Z"
   },
   {
    "duration": 32,
    "start_time": "2022-05-30T07:42:09.484Z"
   },
   {
    "duration": 8,
    "start_time": "2022-05-30T07:42:09.519Z"
   },
   {
    "duration": 12,
    "start_time": "2022-05-30T07:42:09.530Z"
   },
   {
    "duration": 392,
    "start_time": "2022-05-30T07:42:09.545Z"
   },
   {
    "duration": 34,
    "start_time": "2022-05-30T07:42:16.653Z"
   },
   {
    "duration": 11,
    "start_time": "2022-05-30T07:42:33.744Z"
   },
   {
    "duration": 32,
    "start_time": "2022-05-30T07:44:03.445Z"
   },
   {
    "duration": 7,
    "start_time": "2022-05-30T07:45:39.485Z"
   },
   {
    "duration": 11,
    "start_time": "2022-05-30T07:45:44.831Z"
   },
   {
    "duration": 274591,
    "start_time": "2022-05-30T07:45:48.460Z"
   },
   {
    "duration": 4,
    "start_time": "2022-05-30T07:50:46.836Z"
   },
   {
    "duration": 32,
    "start_time": "2022-05-30T07:50:48.284Z"
   },
   {
    "duration": 1322,
    "start_time": "2022-05-30T07:50:56.036Z"
   },
   {
    "duration": 5,
    "start_time": "2022-05-30T07:51:02.095Z"
   },
   {
    "duration": 6,
    "start_time": "2022-05-30T07:51:04.253Z"
   },
   {
    "duration": 47,
    "start_time": "2022-05-30T07:51:10.090Z"
   },
   {
    "duration": 8,
    "start_time": "2022-05-30T07:51:37.052Z"
   },
   {
    "duration": 147038,
    "start_time": "2022-05-30T07:51:48.529Z"
   },
   {
    "duration": 954,
    "start_time": "2022-05-30T07:55:12.724Z"
   },
   {
    "duration": 1393,
    "start_time": "2022-05-30T07:55:16.978Z"
   },
   {
    "duration": 154534,
    "start_time": "2022-05-30T07:55:29.579Z"
   },
   {
    "duration": 15,
    "start_time": "2022-05-30T07:58:08.180Z"
   },
   {
    "duration": 14,
    "start_time": "2022-05-30T07:58:14.818Z"
   },
   {
    "duration": 132585,
    "start_time": "2022-05-30T07:58:17.027Z"
   },
   {
    "duration": 5,
    "start_time": "2022-05-30T08:01:02.647Z"
   },
   {
    "duration": 735,
    "start_time": "2022-05-30T08:01:02.655Z"
   },
   {
    "duration": 42,
    "start_time": "2022-05-30T08:01:03.392Z"
   },
   {
    "duration": 79,
    "start_time": "2022-05-30T08:01:03.436Z"
   },
   {
    "duration": 4,
    "start_time": "2022-05-30T08:01:03.517Z"
   },
   {
    "duration": 5,
    "start_time": "2022-05-30T08:01:03.523Z"
   },
   {
    "duration": 410,
    "start_time": "2022-05-30T08:01:03.530Z"
   },
   {
    "duration": 5,
    "start_time": "2022-05-30T08:01:03.942Z"
   },
   {
    "duration": 60,
    "start_time": "2022-05-30T08:01:03.948Z"
   },
   {
    "duration": 6,
    "start_time": "2022-05-30T08:01:04.010Z"
   },
   {
    "duration": 13,
    "start_time": "2022-05-30T08:01:04.018Z"
   },
   {
    "duration": 13,
    "start_time": "2022-05-30T08:01:04.033Z"
   },
   {
    "duration": 8,
    "start_time": "2022-05-30T08:01:32.322Z"
   },
   {
    "duration": 4,
    "start_time": "2022-05-30T08:01:34.395Z"
   },
   {
    "duration": 11,
    "start_time": "2022-05-30T08:01:36.840Z"
   },
   {
    "duration": 10,
    "start_time": "2022-05-30T08:01:38.401Z"
   },
   {
    "duration": 111,
    "start_time": "2022-05-30T08:01:39.782Z"
   },
   {
    "duration": 5,
    "start_time": "2022-05-30T08:01:50.762Z"
   },
   {
    "duration": 1709,
    "start_time": "2022-05-30T08:01:51.276Z"
   },
   {
    "duration": 5,
    "start_time": "2022-05-30T08:01:52.987Z"
   },
   {
    "duration": 7,
    "start_time": "2022-05-30T08:02:01.996Z"
   },
   {
    "duration": 43,
    "start_time": "2022-05-30T08:02:05.090Z"
   },
   {
    "duration": 8,
    "start_time": "2022-05-30T08:02:13.786Z"
   },
   {
    "duration": 19,
    "start_time": "2022-05-30T08:02:17.971Z"
   },
   {
    "duration": 15,
    "start_time": "2022-05-30T08:02:22.045Z"
   },
   {
    "duration": 1000,
    "start_time": "2022-05-30T08:02:33.169Z"
   },
   {
    "duration": 970,
    "start_time": "2022-05-30T08:02:38.098Z"
   },
   {
    "duration": 166360,
    "start_time": "2022-05-30T08:02:44.172Z"
   },
   {
    "duration": 5,
    "start_time": "2022-05-30T08:05:56.164Z"
   },
   {
    "duration": 753,
    "start_time": "2022-05-30T08:05:56.171Z"
   },
   {
    "duration": 52,
    "start_time": "2022-05-30T08:05:56.926Z"
   },
   {
    "duration": 61,
    "start_time": "2022-05-30T08:05:56.981Z"
   },
   {
    "duration": 24,
    "start_time": "2022-05-30T08:05:57.044Z"
   },
   {
    "duration": 6,
    "start_time": "2022-05-30T08:05:57.069Z"
   },
   {
    "duration": 396,
    "start_time": "2022-05-30T08:05:57.077Z"
   },
   {
    "duration": 9,
    "start_time": "2022-05-30T08:05:57.479Z"
   },
   {
    "duration": 60,
    "start_time": "2022-05-30T08:05:57.491Z"
   },
   {
    "duration": 17,
    "start_time": "2022-05-30T08:05:57.556Z"
   },
   {
    "duration": 23,
    "start_time": "2022-05-30T08:05:57.575Z"
   },
   {
    "duration": 13,
    "start_time": "2022-05-30T08:05:57.601Z"
   },
   {
    "duration": 22,
    "start_time": "2022-05-30T08:05:57.616Z"
   },
   {
    "duration": 48,
    "start_time": "2022-05-30T08:05:57.640Z"
   },
   {
    "duration": 14,
    "start_time": "2022-05-30T08:05:57.690Z"
   },
   {
    "duration": 127,
    "start_time": "2022-05-30T08:05:57.705Z"
   },
   {
    "duration": 290,
    "start_time": "2022-05-30T08:05:57.834Z"
   },
   {
    "duration": 5,
    "start_time": "2022-05-30T08:05:58.126Z"
   },
   {
    "duration": 37,
    "start_time": "2022-05-30T08:05:58.132Z"
   },
   {
    "duration": 13,
    "start_time": "2022-05-30T08:05:58.171Z"
   },
   {
    "duration": 10,
    "start_time": "2022-05-30T08:05:58.186Z"
   },
   {
    "duration": 393,
    "start_time": "2022-05-30T08:05:58.199Z"
   },
   {
    "duration": 49,
    "start_time": "2022-05-30T08:05:58.595Z"
   },
   {
    "duration": 20,
    "start_time": "2022-05-30T08:05:58.646Z"
   },
   {
    "duration": 44,
    "start_time": "2022-05-30T08:05:58.668Z"
   },
   {
    "duration": 302,
    "start_time": "2022-05-30T08:05:58.714Z"
   },
   {
    "duration": 9,
    "start_time": "2022-05-30T08:05:59.019Z"
   },
   {
    "duration": 23,
    "start_time": "2022-05-30T08:05:59.033Z"
   },
   {
    "duration": 1603,
    "start_time": "2022-05-30T08:05:59.059Z"
   },
   {
    "duration": 4,
    "start_time": "2022-05-30T08:06:00.663Z"
   },
   {
    "duration": 16,
    "start_time": "2022-05-30T08:06:00.669Z"
   },
   {
    "duration": 1025,
    "start_time": "2022-05-30T08:06:00.687Z"
   },
   {
    "duration": 4,
    "start_time": "2022-05-30T08:06:01.714Z"
   },
   {
    "duration": 229,
    "start_time": "2022-05-30T08:06:01.720Z"
   },
   {
    "duration": 13,
    "start_time": "2022-05-30T08:06:01.953Z"
   },
   {
    "duration": 52,
    "start_time": "2022-05-30T08:06:01.968Z"
   },
   {
    "duration": 254,
    "start_time": "2022-05-30T08:06:02.022Z"
   },
   {
    "duration": 14,
    "start_time": "2022-05-30T08:06:02.279Z"
   },
   {
    "duration": 241,
    "start_time": "2022-05-30T08:06:02.295Z"
   },
   {
    "duration": 6,
    "start_time": "2022-05-30T08:06:02.539Z"
   },
   {
    "duration": 464,
    "start_time": "2022-05-30T08:06:02.548Z"
   },
   {
    "duration": 404,
    "start_time": "2022-05-30T08:06:03.015Z"
   },
   {
    "duration": 6,
    "start_time": "2022-05-30T08:06:03.421Z"
   },
   {
    "duration": 28,
    "start_time": "2022-05-30T08:06:03.428Z"
   },
   {
    "duration": 17,
    "start_time": "2022-05-30T08:06:03.458Z"
   },
   {
    "duration": 199,
    "start_time": "2022-05-30T08:06:03.477Z"
   },
   {
    "duration": 11,
    "start_time": "2022-05-30T08:06:03.679Z"
   },
   {
    "duration": 32,
    "start_time": "2022-05-30T08:06:03.691Z"
   },
   {
    "duration": 204,
    "start_time": "2022-05-30T08:06:03.725Z"
   },
   {
    "duration": 5,
    "start_time": "2022-05-30T08:06:03.931Z"
   },
   {
    "duration": 6,
    "start_time": "2022-05-30T08:06:20.490Z"
   },
   {
    "duration": 48993,
    "start_time": "2022-05-30T08:06:22.602Z"
   },
   {
    "duration": 144367,
    "start_time": "2022-05-30T08:07:19.682Z"
   },
   {
    "duration": 134764,
    "start_time": "2022-05-30T08:10:12.473Z"
   },
   {
    "duration": 155636,
    "start_time": "2022-05-30T08:12:44.785Z"
   },
   {
    "duration": 4,
    "start_time": "2022-05-30T08:15:20.423Z"
   },
   {
    "duration": 43748,
    "start_time": "2022-05-30T08:15:45.262Z"
   },
   {
    "duration": 121217,
    "start_time": "2022-05-30T08:17:10.539Z"
   },
   {
    "duration": 1066,
    "start_time": "2022-05-30T08:19:26.615Z"
   },
   {
    "duration": 1162,
    "start_time": "2022-05-30T08:20:05.207Z"
   },
   {
    "duration": 12,
    "start_time": "2022-05-30T08:20:32.248Z"
   },
   {
    "duration": 11,
    "start_time": "2022-05-30T08:20:43.127Z"
   },
   {
    "duration": 2561,
    "start_time": "2022-05-30T08:20:47.660Z"
   },
   {
    "duration": 32,
    "start_time": "2022-05-30T08:22:28.198Z"
   },
   {
    "duration": 903,
    "start_time": "2022-05-30T08:22:49.526Z"
   },
   {
    "duration": 30,
    "start_time": "2022-05-30T08:23:00.407Z"
   },
   {
    "duration": 30,
    "start_time": "2022-05-30T08:23:12.199Z"
   },
   {
    "duration": 49,
    "start_time": "2022-05-30T08:23:28.827Z"
   },
   {
    "duration": 31,
    "start_time": "2022-05-30T08:23:47.735Z"
   },
   {
    "duration": 760,
    "start_time": "2022-05-30T08:24:16.846Z"
   },
   {
    "duration": 36,
    "start_time": "2022-05-30T08:24:22.966Z"
   },
   {
    "duration": 23,
    "start_time": "2022-05-30T08:24:30.186Z"
   },
   {
    "duration": 22,
    "start_time": "2022-05-30T08:24:39.717Z"
   },
   {
    "duration": 23,
    "start_time": "2022-05-30T08:25:51.288Z"
   },
   {
    "duration": 9,
    "start_time": "2022-05-30T08:26:05.036Z"
   },
   {
    "duration": 11,
    "start_time": "2022-05-30T08:26:24.213Z"
   },
   {
    "duration": 8,
    "start_time": "2022-05-30T08:26:44.486Z"
   },
   {
    "duration": 4,
    "start_time": "2022-05-30T08:26:48.678Z"
   },
   {
    "duration": 33,
    "start_time": "2022-05-30T08:27:38.086Z"
   },
   {
    "duration": 14,
    "start_time": "2022-05-30T08:30:48.806Z"
   },
   {
    "duration": 29,
    "start_time": "2022-05-30T08:30:53.925Z"
   },
   {
    "duration": 13,
    "start_time": "2022-05-30T08:31:10.005Z"
   },
   {
    "duration": 4,
    "start_time": "2022-05-30T08:31:21.639Z"
   },
   {
    "duration": 4,
    "start_time": "2022-05-30T08:31:30.396Z"
   },
   {
    "duration": 768,
    "start_time": "2022-05-30T08:31:30.402Z"
   },
   {
    "duration": 47,
    "start_time": "2022-05-30T08:31:31.172Z"
   },
   {
    "duration": 80,
    "start_time": "2022-05-30T08:31:31.222Z"
   },
   {
    "duration": 5,
    "start_time": "2022-05-30T08:31:31.304Z"
   },
   {
    "duration": 18,
    "start_time": "2022-05-30T08:31:31.311Z"
   },
   {
    "duration": 360,
    "start_time": "2022-05-30T08:31:31.331Z"
   },
   {
    "duration": 5,
    "start_time": "2022-05-30T08:31:31.693Z"
   },
   {
    "duration": 47,
    "start_time": "2022-05-30T08:31:31.700Z"
   },
   {
    "duration": 17,
    "start_time": "2022-05-30T08:31:31.748Z"
   },
   {
    "duration": 16,
    "start_time": "2022-05-30T08:31:31.767Z"
   },
   {
    "duration": 15,
    "start_time": "2022-05-30T08:31:31.785Z"
   },
   {
    "duration": 6,
    "start_time": "2022-05-30T08:31:33.173Z"
   },
   {
    "duration": 15,
    "start_time": "2022-05-30T08:31:33.765Z"
   },
   {
    "duration": 4,
    "start_time": "2022-05-30T08:31:34.220Z"
   },
   {
    "duration": 11,
    "start_time": "2022-05-30T08:31:37.301Z"
   },
   {
    "duration": 11,
    "start_time": "2022-05-30T08:31:38.718Z"
   },
   {
    "duration": 126,
    "start_time": "2022-05-30T08:31:38.897Z"
   },
   {
    "duration": 164,
    "start_time": "2022-05-30T08:31:39.124Z"
   },
   {
    "duration": 4,
    "start_time": "2022-05-30T08:31:39.574Z"
   },
   {
    "duration": 13,
    "start_time": "2022-05-30T08:31:39.982Z"
   },
   {
    "duration": 7,
    "start_time": "2022-05-30T08:31:40.751Z"
   },
   {
    "duration": 6,
    "start_time": "2022-05-30T08:31:41.708Z"
   },
   {
    "duration": 298,
    "start_time": "2022-05-30T08:31:42.160Z"
   },
   {
    "duration": 30,
    "start_time": "2022-05-30T08:31:45.260Z"
   },
   {
    "duration": 7,
    "start_time": "2022-05-30T08:31:53.082Z"
   },
   {
    "duration": 208,
    "start_time": "2022-05-30T08:31:56.229Z"
   },
   {
    "duration": 6,
    "start_time": "2022-05-30T08:31:59.432Z"
   },
   {
    "duration": 4,
    "start_time": "2022-05-30T08:32:00.181Z"
   },
   {
    "duration": 1215,
    "start_time": "2022-05-30T08:32:02.004Z"
   },
   {
    "duration": 4,
    "start_time": "2022-05-30T08:32:03.221Z"
   },
   {
    "duration": 21,
    "start_time": "2022-05-30T08:32:47.252Z"
   },
   {
    "duration": 29,
    "start_time": "2022-05-30T08:33:07.335Z"
   },
   {
    "duration": 4,
    "start_time": "2022-05-30T08:33:29.457Z"
   },
   {
    "duration": 726,
    "start_time": "2022-05-30T08:33:29.463Z"
   },
   {
    "duration": 45,
    "start_time": "2022-05-30T08:33:30.191Z"
   },
   {
    "duration": 73,
    "start_time": "2022-05-30T08:33:30.238Z"
   },
   {
    "duration": 5,
    "start_time": "2022-05-30T08:33:30.313Z"
   },
   {
    "duration": 39,
    "start_time": "2022-05-30T08:33:30.320Z"
   },
   {
    "duration": 366,
    "start_time": "2022-05-30T08:33:30.361Z"
   },
   {
    "duration": 6,
    "start_time": "2022-05-30T08:33:30.728Z"
   },
   {
    "duration": 56,
    "start_time": "2022-05-30T08:33:30.736Z"
   },
   {
    "duration": 7,
    "start_time": "2022-05-30T08:33:30.794Z"
   },
   {
    "duration": 11,
    "start_time": "2022-05-30T08:33:30.803Z"
   },
   {
    "duration": 20,
    "start_time": "2022-05-30T08:33:30.816Z"
   },
   {
    "duration": 51,
    "start_time": "2022-05-30T08:33:30.838Z"
   },
   {
    "duration": 4,
    "start_time": "2022-05-30T08:33:32.717Z"
   },
   {
    "duration": 5,
    "start_time": "2022-05-30T08:33:54.900Z"
   },
   {
    "duration": 15,
    "start_time": "2022-05-30T08:34:16.141Z"
   },
   {
    "duration": 12,
    "start_time": "2022-05-30T08:34:18.725Z"
   },
   {
    "duration": 102,
    "start_time": "2022-05-30T08:34:19.308Z"
   },
   {
    "duration": 6,
    "start_time": "2022-05-30T08:34:46.239Z"
   },
   {
    "duration": 4,
    "start_time": "2022-05-30T08:34:47.580Z"
   },
   {
    "duration": 1186,
    "start_time": "2022-05-30T08:34:54.964Z"
   },
   {
    "duration": 3,
    "start_time": "2022-05-30T08:34:56.152Z"
   },
   {
    "duration": 891,
    "start_time": "2022-05-30T08:35:09.557Z"
   },
   {
    "duration": 4,
    "start_time": "2022-05-30T08:35:19.829Z"
   },
   {
    "duration": 4,
    "start_time": "2022-05-30T08:35:28.405Z"
   },
   {
    "duration": 6,
    "start_time": "2022-05-30T08:35:53.212Z"
   },
   {
    "duration": 935,
    "start_time": "2022-05-30T08:36:16.734Z"
   },
   {
    "duration": 898,
    "start_time": "2022-05-30T08:36:18.668Z"
   },
   {
    "duration": 9,
    "start_time": "2022-05-30T08:36:47.284Z"
   },
   {
    "duration": 16,
    "start_time": "2022-05-30T08:36:57.780Z"
   },
   {
    "duration": 115,
    "start_time": "2022-05-30T08:37:42.853Z"
   },
   {
    "duration": 30,
    "start_time": "2022-05-30T08:39:03.635Z"
   },
   {
    "duration": 106,
    "start_time": "2022-05-30T08:39:29.860Z"
   },
   {
    "duration": 17,
    "start_time": "2022-05-30T08:39:50.487Z"
   },
   {
    "duration": 18,
    "start_time": "2022-05-30T08:42:01.859Z"
   },
   {
    "duration": 27,
    "start_time": "2022-05-30T08:42:23.251Z"
   },
   {
    "duration": 5,
    "start_time": "2022-05-30T08:42:56.032Z"
   },
   {
    "duration": 717,
    "start_time": "2022-05-30T08:42:56.039Z"
   },
   {
    "duration": 45,
    "start_time": "2022-05-30T08:42:56.758Z"
   },
   {
    "duration": 77,
    "start_time": "2022-05-30T08:42:56.805Z"
   },
   {
    "duration": 4,
    "start_time": "2022-05-30T08:42:56.885Z"
   },
   {
    "duration": 6,
    "start_time": "2022-05-30T08:42:56.891Z"
   },
   {
    "duration": 361,
    "start_time": "2022-05-30T08:42:56.899Z"
   },
   {
    "duration": 5,
    "start_time": "2022-05-30T08:42:57.262Z"
   },
   {
    "duration": 39,
    "start_time": "2022-05-30T08:42:57.269Z"
   },
   {
    "duration": 6,
    "start_time": "2022-05-30T08:42:57.310Z"
   },
   {
    "duration": 9,
    "start_time": "2022-05-30T08:42:57.318Z"
   },
   {
    "duration": 35,
    "start_time": "2022-05-30T08:42:57.329Z"
   },
   {
    "duration": 17,
    "start_time": "2022-05-30T08:42:57.367Z"
   },
   {
    "duration": 4,
    "start_time": "2022-05-30T08:42:57.386Z"
   },
   {
    "duration": 19,
    "start_time": "2022-05-30T08:42:57.392Z"
   },
   {
    "duration": 19,
    "start_time": "2022-05-30T08:42:57.413Z"
   },
   {
    "duration": 137,
    "start_time": "2022-05-30T08:42:57.435Z"
   },
   {
    "duration": 147,
    "start_time": "2022-05-30T08:42:57.574Z"
   },
   {
    "duration": 5,
    "start_time": "2022-05-30T08:42:57.722Z"
   },
   {
    "duration": 18,
    "start_time": "2022-05-30T08:42:57.729Z"
   },
   {
    "duration": 7,
    "start_time": "2022-05-30T08:42:57.765Z"
   },
   {
    "duration": 8,
    "start_time": "2022-05-30T08:42:57.774Z"
   },
   {
    "duration": 337,
    "start_time": "2022-05-30T08:42:57.784Z"
   },
   {
    "duration": 7,
    "start_time": "2022-05-30T08:42:58.123Z"
   },
   {
    "duration": 233,
    "start_time": "2022-05-30T08:42:58.132Z"
   },
   {
    "duration": 6,
    "start_time": "2022-05-30T08:42:58.366Z"
   },
   {
    "duration": 6,
    "start_time": "2022-05-30T08:42:58.374Z"
   },
   {
    "duration": 1356,
    "start_time": "2022-05-30T08:42:58.381Z"
   },
   {
    "duration": 3,
    "start_time": "2022-05-30T08:42:59.739Z"
   },
   {
    "duration": 10,
    "start_time": "2022-05-30T08:43:08.403Z"
   },
   {
    "duration": 5,
    "start_time": "2022-05-30T08:43:16.117Z"
   },
   {
    "duration": 5,
    "start_time": "2022-05-30T08:43:43.259Z"
   },
   {
    "duration": 6,
    "start_time": "2022-05-30T08:44:06.471Z"
   },
   {
    "duration": 5,
    "start_time": "2022-05-30T08:44:15.395Z"
   },
   {
    "duration": 5,
    "start_time": "2022-05-30T08:44:20.228Z"
   },
   {
    "duration": 24,
    "start_time": "2022-05-30T08:44:38.723Z"
   },
   {
    "duration": 5,
    "start_time": "2022-05-30T08:44:43.027Z"
   },
   {
    "duration": 8,
    "start_time": "2022-05-30T08:45:27.475Z"
   },
   {
    "duration": 4,
    "start_time": "2022-05-30T08:45:46.439Z"
   },
   {
    "duration": 4,
    "start_time": "2022-05-30T08:45:55.413Z"
   },
   {
    "duration": 6,
    "start_time": "2022-05-30T08:46:06.299Z"
   },
   {
    "duration": 6,
    "start_time": "2022-05-30T08:46:10.123Z"
   },
   {
    "duration": 123,
    "start_time": "2022-05-30T08:46:21.842Z"
   },
   {
    "duration": 170,
    "start_time": "2022-05-30T08:46:43.796Z"
   },
   {
    "duration": 77,
    "start_time": "2022-05-30T08:47:56.596Z"
   },
   {
    "duration": 180,
    "start_time": "2022-05-30T08:48:05.891Z"
   },
   {
    "duration": 124,
    "start_time": "2022-05-30T08:48:31.444Z"
   },
   {
    "duration": 208,
    "start_time": "2022-05-30T08:49:12.963Z"
   },
   {
    "duration": 125,
    "start_time": "2022-05-30T08:49:26.044Z"
   },
   {
    "duration": 72,
    "start_time": "2022-05-30T08:49:38.195Z"
   },
   {
    "duration": 105,
    "start_time": "2022-05-30T08:52:32.663Z"
   },
   {
    "duration": 199,
    "start_time": "2022-05-30T08:52:34.467Z"
   },
   {
    "duration": 8,
    "start_time": "2022-05-30T08:52:50.746Z"
   },
   {
    "duration": 10,
    "start_time": "2022-05-30T08:53:45.162Z"
   },
   {
    "duration": 7,
    "start_time": "2022-05-30T08:53:49.266Z"
   },
   {
    "duration": 4,
    "start_time": "2022-05-30T08:53:54.387Z"
   },
   {
    "duration": 5,
    "start_time": "2022-05-30T08:53:58.350Z"
   },
   {
    "duration": 1354,
    "start_time": "2022-05-30T08:54:13.456Z"
   },
   {
    "duration": 750,
    "start_time": "2022-05-30T08:54:14.812Z"
   },
   {
    "duration": 43,
    "start_time": "2022-05-30T08:54:15.565Z"
   },
   {
    "duration": 77,
    "start_time": "2022-05-30T08:54:15.610Z"
   },
   {
    "duration": 5,
    "start_time": "2022-05-30T08:54:15.689Z"
   },
   {
    "duration": 8,
    "start_time": "2022-05-30T08:54:15.695Z"
   },
   {
    "duration": 383,
    "start_time": "2022-05-30T08:54:15.705Z"
   },
   {
    "duration": 6,
    "start_time": "2022-05-30T08:54:16.090Z"
   },
   {
    "duration": 67,
    "start_time": "2022-05-30T08:54:16.098Z"
   },
   {
    "duration": 10,
    "start_time": "2022-05-30T08:54:16.168Z"
   },
   {
    "duration": 20,
    "start_time": "2022-05-30T08:54:16.180Z"
   },
   {
    "duration": 17,
    "start_time": "2022-05-30T08:54:16.202Z"
   },
   {
    "duration": 15,
    "start_time": "2022-05-30T08:54:16.221Z"
   },
   {
    "duration": 6,
    "start_time": "2022-05-30T08:54:16.238Z"
   },
   {
    "duration": 23,
    "start_time": "2022-05-30T08:54:16.246Z"
   },
   {
    "duration": 10,
    "start_time": "2022-05-30T08:54:16.271Z"
   },
   {
    "duration": 129,
    "start_time": "2022-05-30T08:54:16.283Z"
   },
   {
    "duration": 143,
    "start_time": "2022-05-30T08:54:16.414Z"
   },
   {
    "duration": 4,
    "start_time": "2022-05-30T08:54:16.565Z"
   },
   {
    "duration": 17,
    "start_time": "2022-05-30T08:54:16.571Z"
   },
   {
    "duration": 5,
    "start_time": "2022-05-30T08:54:16.591Z"
   },
   {
    "duration": 8,
    "start_time": "2022-05-30T08:54:16.598Z"
   },
   {
    "duration": 319,
    "start_time": "2022-05-30T08:54:16.608Z"
   },
   {
    "duration": 7,
    "start_time": "2022-05-30T08:54:16.928Z"
   },
   {
    "duration": 233,
    "start_time": "2022-05-30T08:54:16.937Z"
   },
   {
    "duration": 6,
    "start_time": "2022-05-30T08:54:17.171Z"
   },
   {
    "duration": 16,
    "start_time": "2022-05-30T08:54:17.179Z"
   },
   {
    "duration": 1277,
    "start_time": "2022-05-30T08:54:17.198Z"
   },
   {
    "duration": 3,
    "start_time": "2022-05-30T08:54:18.477Z"
   },
   {
    "duration": 28,
    "start_time": "2022-05-30T08:54:18.482Z"
   },
   {
    "duration": 24,
    "start_time": "2022-05-30T08:54:18.512Z"
   },
   {
    "duration": 20,
    "start_time": "2022-05-30T08:54:18.538Z"
   },
   {
    "duration": 201,
    "start_time": "2022-05-30T08:54:18.561Z"
   },
   {
    "duration": 9,
    "start_time": "2022-05-30T08:54:18.765Z"
   },
   {
    "duration": 24,
    "start_time": "2022-05-30T08:54:18.775Z"
   },
   {
    "duration": 271,
    "start_time": "2022-05-30T08:54:18.801Z"
   },
   {
    "duration": 16,
    "start_time": "2022-05-30T08:54:19.075Z"
   },
   {
    "duration": 245,
    "start_time": "2022-05-30T08:54:19.093Z"
   },
   {
    "duration": 6,
    "start_time": "2022-05-30T08:54:19.339Z"
   },
   {
    "duration": 422,
    "start_time": "2022-05-30T08:54:19.347Z"
   },
   {
    "duration": 512,
    "start_time": "2022-05-30T08:54:19.771Z"
   },
   {
    "duration": 5,
    "start_time": "2022-05-30T08:54:20.285Z"
   },
   {
    "duration": 10,
    "start_time": "2022-05-30T08:54:20.292Z"
   },
   {
    "duration": 5,
    "start_time": "2022-05-30T08:54:20.303Z"
   },
   {
    "duration": 174,
    "start_time": "2022-05-30T08:54:20.310Z"
   },
   {
    "duration": 10,
    "start_time": "2022-05-30T08:54:20.486Z"
   },
   {
    "duration": 14,
    "start_time": "2022-05-30T08:54:20.498Z"
   },
   {
    "duration": 210,
    "start_time": "2022-05-30T08:54:20.514Z"
   },
   {
    "duration": 4,
    "start_time": "2022-05-30T08:54:20.726Z"
   },
   {
    "duration": 10,
    "start_time": "2022-05-30T08:54:20.732Z"
   },
   {
    "duration": 48726,
    "start_time": "2022-05-30T08:54:20.744Z"
   },
   {
    "duration": 210829,
    "start_time": "2022-05-30T08:55:09.472Z"
   },
   {
    "duration": 131834,
    "start_time": "2022-05-30T08:58:40.303Z"
   },
   {
    "duration": 145835,
    "start_time": "2022-05-30T09:00:52.139Z"
   },
   {
    "duration": 38130,
    "start_time": "2022-05-30T09:03:17.976Z"
   },
   {
    "duration": 108827,
    "start_time": "2022-05-30T09:03:56.108Z"
   },
   {
    "duration": 130,
    "start_time": "2022-05-30T09:05:44.937Z"
   },
   {
    "duration": 0,
    "start_time": "2022-05-30T09:05:45.068Z"
   },
   {
    "duration": 0,
    "start_time": "2022-05-30T09:05:45.070Z"
   },
   {
    "duration": 0,
    "start_time": "2022-05-30T09:05:45.071Z"
   },
   {
    "duration": 1,
    "start_time": "2022-05-30T09:05:45.072Z"
   },
   {
    "duration": 0,
    "start_time": "2022-05-30T09:05:45.074Z"
   },
   {
    "duration": 1053,
    "start_time": "2022-05-30T09:06:00.515Z"
   },
   {
    "duration": 991,
    "start_time": "2022-05-30T09:06:10.180Z"
   },
   {
    "duration": 6,
    "start_time": "2022-05-30T09:06:14.347Z"
   },
   {
    "duration": 163,
    "start_time": "2022-05-30T09:06:15.106Z"
   },
   {
    "duration": 148,
    "start_time": "2022-05-30T09:06:16.618Z"
   },
   {
    "duration": 48,
    "start_time": "2022-05-30T09:06:27.525Z"
   },
   {
    "duration": 7,
    "start_time": "2022-05-30T09:06:30.930Z"
   },
   {
    "duration": 5,
    "start_time": "2022-05-30T09:06:49.221Z"
   },
   {
    "duration": 5,
    "start_time": "2022-05-30T09:06:59.522Z"
   },
   {
    "duration": 48,
    "start_time": "2022-05-30T09:07:47.795Z"
   },
   {
    "duration": 8,
    "start_time": "2022-05-30T09:08:14.930Z"
   },
   {
    "duration": 9,
    "start_time": "2022-05-30T09:08:19.265Z"
   },
   {
    "duration": 10,
    "start_time": "2022-05-30T09:08:24.194Z"
   },
   {
    "duration": 7,
    "start_time": "2022-05-30T09:08:36.914Z"
   },
   {
    "duration": 29,
    "start_time": "2022-05-30T09:10:41.301Z"
   },
   {
    "duration": 7900,
    "start_time": "2022-05-30T12:21:10.690Z"
   },
   {
    "duration": 5987,
    "start_time": "2022-05-30T12:21:18.597Z"
   },
   {
    "duration": 403,
    "start_time": "2022-05-30T12:21:24.589Z"
   },
   {
    "duration": 592,
    "start_time": "2022-05-30T12:21:24.995Z"
   },
   {
    "duration": 93,
    "start_time": "2022-05-30T12:21:25.594Z"
   },
   {
    "duration": 302,
    "start_time": "2022-05-30T12:21:25.784Z"
   },
   {
    "duration": 2710,
    "start_time": "2022-05-30T12:21:26.088Z"
   },
   {
    "duration": 13,
    "start_time": "2022-05-30T12:21:28.883Z"
   },
   {
    "duration": 504,
    "start_time": "2022-05-30T12:21:28.992Z"
   },
   {
    "duration": 97,
    "start_time": "2022-05-30T12:21:29.588Z"
   },
   {
    "duration": 202,
    "start_time": "2022-05-30T12:21:29.687Z"
   },
   {
    "duration": 99,
    "start_time": "2022-05-30T12:21:29.890Z"
   },
   {
    "duration": 201,
    "start_time": "2022-05-30T12:21:29.996Z"
   },
   {
    "duration": 295,
    "start_time": "2022-05-30T12:21:30.291Z"
   },
   {
    "duration": 495,
    "start_time": "2022-05-30T12:21:30.588Z"
   },
   {
    "duration": 207,
    "start_time": "2022-05-30T12:21:31.088Z"
   },
   {
    "duration": 1091,
    "start_time": "2022-05-30T12:21:31.297Z"
   },
   {
    "duration": 1300,
    "start_time": "2022-05-30T12:21:32.390Z"
   },
   {
    "duration": 92,
    "start_time": "2022-05-30T12:21:33.698Z"
   },
   {
    "duration": 299,
    "start_time": "2022-05-30T12:21:33.799Z"
   },
   {
    "duration": 296,
    "start_time": "2022-05-30T12:21:34.101Z"
   },
   {
    "duration": 188,
    "start_time": "2022-05-30T12:21:34.401Z"
   },
   {
    "duration": 2205,
    "start_time": "2022-05-30T12:21:34.592Z"
   },
   {
    "duration": 93,
    "start_time": "2022-05-30T12:21:36.800Z"
   },
   {
    "duration": 1596,
    "start_time": "2022-05-30T12:21:36.895Z"
   },
   {
    "duration": 7,
    "start_time": "2022-05-30T12:21:38.584Z"
   },
   {
    "duration": 392,
    "start_time": "2022-05-30T12:21:38.594Z"
   },
   {
    "duration": 7909,
    "start_time": "2022-05-30T12:21:38.990Z"
   },
   {
    "duration": 83,
    "start_time": "2022-05-30T12:21:46.904Z"
   },
   {
    "duration": 300,
    "start_time": "2022-05-30T12:21:46.994Z"
   },
   {
    "duration": 86,
    "start_time": "2022-05-30T12:21:47.301Z"
   },
   {
    "duration": 297,
    "start_time": "2022-05-30T12:21:47.389Z"
   },
   {
    "duration": 1203,
    "start_time": "2022-05-30T12:21:47.687Z"
   },
   {
    "duration": 97,
    "start_time": "2022-05-30T12:21:48.896Z"
   },
   {
    "duration": 210,
    "start_time": "2022-05-30T12:21:49.084Z"
   },
   {
    "duration": 1600,
    "start_time": "2022-05-30T12:21:49.296Z"
   },
   {
    "duration": 19,
    "start_time": "2022-05-30T12:21:50.983Z"
   },
   {
    "duration": 1692,
    "start_time": "2022-05-30T12:21:51.004Z"
   },
   {
    "duration": 92,
    "start_time": "2022-05-30T12:21:52.698Z"
   },
   {
    "duration": 2999,
    "start_time": "2022-05-30T12:21:52.797Z"
   },
   {
    "duration": 3487,
    "start_time": "2022-05-30T12:21:55.800Z"
   },
   {
    "duration": 96,
    "start_time": "2022-05-30T12:21:59.289Z"
   },
   {
    "duration": 391,
    "start_time": "2022-05-30T12:21:59.394Z"
   },
   {
    "duration": 107,
    "start_time": "2022-05-30T12:21:59.787Z"
   },
   {
    "duration": 1097,
    "start_time": "2022-05-30T12:21:59.896Z"
   },
   {
    "duration": 97,
    "start_time": "2022-05-30T12:22:00.999Z"
   },
   {
    "duration": 200,
    "start_time": "2022-05-30T12:22:01.098Z"
   },
   {
    "duration": 1403,
    "start_time": "2022-05-30T12:22:01.388Z"
   },
   {
    "duration": 89,
    "start_time": "2022-05-30T12:22:02.797Z"
   },
   {
    "duration": 202,
    "start_time": "2022-05-30T12:22:02.893Z"
   },
   {
    "duration": 263510,
    "start_time": "2022-05-30T12:22:03.183Z"
   },
   {
    "duration": 982993,
    "start_time": "2022-05-30T12:26:26.695Z"
   },
   {
    "duration": 1030594,
    "start_time": "2022-05-30T12:42:49.697Z"
   },
   {
    "duration": 1273,
    "start_time": "2022-05-30T20:04:40.966Z"
   },
   {
    "duration": 1101,
    "start_time": "2022-05-30T20:04:42.241Z"
   },
   {
    "duration": 41,
    "start_time": "2022-05-30T20:04:43.343Z"
   },
   {
    "duration": 78,
    "start_time": "2022-05-30T20:04:43.386Z"
   },
   {
    "duration": 3,
    "start_time": "2022-05-30T20:04:43.466Z"
   },
   {
    "duration": 5,
    "start_time": "2022-05-30T20:04:43.471Z"
   },
   {
    "duration": 382,
    "start_time": "2022-05-30T20:04:43.477Z"
   },
   {
    "duration": 4,
    "start_time": "2022-05-30T20:04:43.861Z"
   },
   {
    "duration": 47,
    "start_time": "2022-05-30T20:04:43.867Z"
   },
   {
    "duration": 17,
    "start_time": "2022-05-30T20:04:43.927Z"
   },
   {
    "duration": 4,
    "start_time": "2022-05-30T20:04:43.946Z"
   },
   {
    "duration": 10,
    "start_time": "2022-05-30T20:04:43.952Z"
   },
   {
    "duration": 12,
    "start_time": "2022-05-30T20:04:43.965Z"
   },
   {
    "duration": 3,
    "start_time": "2022-05-30T20:04:43.979Z"
   },
   {
    "duration": 49,
    "start_time": "2022-05-30T20:04:43.983Z"
   },
   {
    "duration": 10,
    "start_time": "2022-05-30T20:04:44.041Z"
   },
   {
    "duration": 102,
    "start_time": "2022-05-30T20:04:44.053Z"
   },
   {
    "duration": 149,
    "start_time": "2022-05-30T20:04:44.156Z"
   },
   {
    "duration": 6,
    "start_time": "2022-05-30T20:04:44.307Z"
   },
   {
    "duration": 40,
    "start_time": "2022-05-30T20:04:44.314Z"
   },
   {
    "duration": 6,
    "start_time": "2022-05-30T20:04:44.355Z"
   },
   {
    "duration": 14,
    "start_time": "2022-05-30T20:04:44.362Z"
   },
   {
    "duration": 295,
    "start_time": "2022-05-30T20:04:44.378Z"
   },
   {
    "duration": 11,
    "start_time": "2022-05-30T20:04:44.675Z"
   },
   {
    "duration": 211,
    "start_time": "2022-05-30T20:04:44.688Z"
   },
   {
    "duration": 6,
    "start_time": "2022-05-30T20:04:44.900Z"
   },
   {
    "duration": 6,
    "start_time": "2022-05-30T20:04:44.907Z"
   },
   {
    "duration": 1191,
    "start_time": "2022-05-30T20:04:44.914Z"
   },
   {
    "duration": 3,
    "start_time": "2022-05-30T20:04:46.107Z"
   },
   {
    "duration": 17,
    "start_time": "2022-05-30T20:04:46.112Z"
   },
   {
    "duration": 21,
    "start_time": "2022-05-30T20:04:46.131Z"
   },
   {
    "duration": 5,
    "start_time": "2022-05-30T20:04:46.154Z"
   },
   {
    "duration": 168,
    "start_time": "2022-05-30T20:04:46.160Z"
   },
   {
    "duration": 20,
    "start_time": "2022-05-30T20:04:46.332Z"
   },
   {
    "duration": 16,
    "start_time": "2022-05-30T20:04:46.353Z"
   },
   {
    "duration": 201,
    "start_time": "2022-05-30T20:04:46.370Z"
   },
   {
    "duration": 11,
    "start_time": "2022-05-30T20:04:46.574Z"
   },
   {
    "duration": 206,
    "start_time": "2022-05-30T20:04:46.586Z"
   },
   {
    "duration": 5,
    "start_time": "2022-05-30T20:04:46.794Z"
   },
   {
    "duration": 370,
    "start_time": "2022-05-30T20:04:46.801Z"
   },
   {
    "duration": 436,
    "start_time": "2022-05-30T20:04:47.173Z"
   },
   {
    "duration": 5,
    "start_time": "2022-05-30T20:04:47.611Z"
   },
   {
    "duration": 18,
    "start_time": "2022-05-30T20:04:47.632Z"
   },
   {
    "duration": 6,
    "start_time": "2022-05-30T20:04:47.651Z"
   },
   {
    "duration": 165,
    "start_time": "2022-05-30T20:04:47.659Z"
   },
   {
    "duration": 17,
    "start_time": "2022-05-30T20:04:47.827Z"
   },
   {
    "duration": 14,
    "start_time": "2022-05-30T20:04:47.845Z"
   },
   {
    "duration": 165,
    "start_time": "2022-05-30T20:04:47.860Z"
   },
   {
    "duration": 8,
    "start_time": "2022-05-30T20:04:48.030Z"
   },
   {
    "duration": 7,
    "start_time": "2022-05-30T20:04:48.044Z"
   },
   {
    "duration": 156706,
    "start_time": "2022-05-30T20:04:48.053Z"
   },
   {
    "duration": 19210,
    "start_time": "2022-05-30T20:07:24.761Z"
   },
   {
    "duration": 126216,
    "start_time": "2022-05-30T20:07:43.973Z"
   },
   {
    "duration": 149553,
    "start_time": "2022-05-30T20:09:50.190Z"
   },
   {
    "duration": 37616,
    "start_time": "2022-05-30T20:12:19.747Z"
   },
   {
    "duration": 114031,
    "start_time": "2022-05-30T20:12:57.365Z"
   },
   {
    "duration": 1370,
    "start_time": "2022-05-30T20:14:51.398Z"
   },
   {
    "duration": 1300,
    "start_time": "2022-05-30T20:14:52.845Z"
   },
   {
    "duration": 6,
    "start_time": "2022-05-30T20:14:54.149Z"
   },
   {
    "duration": 483,
    "start_time": "2022-05-30T20:14:54.158Z"
   },
   {
    "duration": 304,
    "start_time": "2022-05-30T20:14:54.643Z"
   },
   {
    "duration": 111,
    "start_time": "2022-05-30T20:14:54.951Z"
   },
   {
    "duration": 7,
    "start_time": "2022-05-30T21:06:47.834Z"
   },
   {
    "duration": 4,
    "start_time": "2022-05-30T21:07:08.792Z"
   },
   {
    "duration": 5,
    "start_time": "2022-05-30T21:07:40.995Z"
   },
   {
    "duration": 267,
    "start_time": "2022-05-30T21:08:27.399Z"
   },
   {
    "duration": 8,
    "start_time": "2022-05-30T21:09:00.120Z"
   },
   {
    "duration": 6,
    "start_time": "2022-05-30T21:09:15.399Z"
   },
   {
    "duration": 19,
    "start_time": "2022-05-30T21:10:34.043Z"
   },
   {
    "duration": 19,
    "start_time": "2022-05-30T21:10:40.827Z"
   },
   {
    "duration": 12,
    "start_time": "2022-05-30T21:10:48.153Z"
   },
   {
    "duration": 4,
    "start_time": "2022-05-30T21:31:12.517Z"
   },
   {
    "duration": 4,
    "start_time": "2022-05-30T21:31:32.073Z"
   },
   {
    "duration": 1401,
    "start_time": "2022-05-31T11:42:38.575Z"
   },
   {
    "duration": 3009,
    "start_time": "2022-05-31T11:42:39.978Z"
   },
   {
    "duration": 38,
    "start_time": "2022-05-31T11:42:42.989Z"
   },
   {
    "duration": 65,
    "start_time": "2022-05-31T11:42:43.028Z"
   },
   {
    "duration": 4,
    "start_time": "2022-05-31T11:42:43.095Z"
   },
   {
    "duration": 7,
    "start_time": "2022-05-31T11:42:43.101Z"
   },
   {
    "duration": 326,
    "start_time": "2022-05-31T11:42:43.109Z"
   },
   {
    "duration": 5,
    "start_time": "2022-05-31T11:42:43.437Z"
   },
   {
    "duration": 51,
    "start_time": "2022-05-31T11:42:43.443Z"
   },
   {
    "duration": 8,
    "start_time": "2022-05-31T11:42:43.496Z"
   },
   {
    "duration": 10,
    "start_time": "2022-05-31T11:42:43.505Z"
   },
   {
    "duration": 22,
    "start_time": "2022-05-31T11:42:43.517Z"
   },
   {
    "duration": 16,
    "start_time": "2022-05-31T11:42:43.540Z"
   },
   {
    "duration": 3,
    "start_time": "2022-05-31T11:42:43.559Z"
   },
   {
    "duration": 13,
    "start_time": "2022-05-31T11:42:43.563Z"
   },
   {
    "duration": 11,
    "start_time": "2022-05-31T11:42:43.591Z"
   },
   {
    "duration": 102,
    "start_time": "2022-05-31T11:42:43.603Z"
   },
   {
    "duration": 130,
    "start_time": "2022-05-31T11:42:43.707Z"
   },
   {
    "duration": 4,
    "start_time": "2022-05-31T11:42:43.839Z"
   },
   {
    "duration": 16,
    "start_time": "2022-05-31T11:42:43.845Z"
   },
   {
    "duration": 4,
    "start_time": "2022-05-31T11:42:43.863Z"
   },
   {
    "duration": 28,
    "start_time": "2022-05-31T11:42:43.869Z"
   },
   {
    "duration": 262,
    "start_time": "2022-05-31T11:42:43.898Z"
   },
   {
    "duration": 7,
    "start_time": "2022-05-31T11:42:44.161Z"
   },
   {
    "duration": 183,
    "start_time": "2022-05-31T11:42:44.169Z"
   },
   {
    "duration": 6,
    "start_time": "2022-05-31T11:42:44.354Z"
   },
   {
    "duration": 11,
    "start_time": "2022-05-31T11:42:44.361Z"
   },
   {
    "duration": 1067,
    "start_time": "2022-05-31T11:42:44.374Z"
   },
   {
    "duration": 3,
    "start_time": "2022-05-31T11:42:45.442Z"
   },
   {
    "duration": 7,
    "start_time": "2022-05-31T11:42:45.447Z"
   },
   {
    "duration": 7,
    "start_time": "2022-05-31T11:42:45.455Z"
   },
   {
    "duration": 3,
    "start_time": "2022-05-31T11:43:01.680Z"
   },
   {
    "duration": 5,
    "start_time": "2022-05-31T11:43:26.393Z"
   },
   {
    "duration": 4,
    "start_time": "2022-05-31T11:43:41.571Z"
   },
   {
    "duration": 3,
    "start_time": "2022-05-31T11:44:53.203Z"
   },
   {
    "duration": 146,
    "start_time": "2022-05-31T11:44:57.831Z"
   },
   {
    "duration": 9,
    "start_time": "2022-05-31T11:45:01.926Z"
   },
   {
    "duration": 11,
    "start_time": "2022-05-31T11:46:45.564Z"
   },
   {
    "duration": 172,
    "start_time": "2022-05-31T11:46:50.258Z"
   },
   {
    "duration": 10,
    "start_time": "2022-05-31T11:47:53.818Z"
   },
   {
    "duration": 10,
    "start_time": "2022-05-31T11:49:00.570Z"
   },
   {
    "duration": 172,
    "start_time": "2022-05-31T11:49:01.699Z"
   },
   {
    "duration": 20,
    "start_time": "2022-05-31T11:51:10.994Z"
   },
   {
    "duration": 5,
    "start_time": "2022-05-31T11:51:22.355Z"
   },
   {
    "duration": 342,
    "start_time": "2022-05-31T11:51:24.503Z"
   },
   {
    "duration": 392,
    "start_time": "2022-05-31T11:51:26.011Z"
   },
   {
    "duration": 5,
    "start_time": "2022-05-31T11:51:30.960Z"
   },
   {
    "duration": 2,
    "start_time": "2022-05-31T11:51:31.762Z"
   },
   {
    "duration": 5,
    "start_time": "2022-05-31T11:51:55.236Z"
   },
   {
    "duration": 678,
    "start_time": "2022-05-31T11:51:55.243Z"
   },
   {
    "duration": 35,
    "start_time": "2022-05-31T11:51:55.923Z"
   },
   {
    "duration": 74,
    "start_time": "2022-05-31T11:51:55.960Z"
   },
   {
    "duration": 4,
    "start_time": "2022-05-31T11:51:56.036Z"
   },
   {
    "duration": 6,
    "start_time": "2022-05-31T11:51:56.041Z"
   },
   {
    "duration": 305,
    "start_time": "2022-05-31T11:51:56.048Z"
   },
   {
    "duration": 5,
    "start_time": "2022-05-31T11:51:56.355Z"
   },
   {
    "duration": 50,
    "start_time": "2022-05-31T11:51:56.362Z"
   },
   {
    "duration": 6,
    "start_time": "2022-05-31T11:51:56.414Z"
   },
   {
    "duration": 9,
    "start_time": "2022-05-31T11:51:56.423Z"
   },
   {
    "duration": 10,
    "start_time": "2022-05-31T11:51:56.433Z"
   },
   {
    "duration": 12,
    "start_time": "2022-05-31T11:51:56.444Z"
   },
   {
    "duration": 2,
    "start_time": "2022-05-31T11:51:56.458Z"
   },
   {
    "duration": 34,
    "start_time": "2022-05-31T11:51:56.462Z"
   },
   {
    "duration": 10,
    "start_time": "2022-05-31T11:51:56.498Z"
   },
   {
    "duration": 107,
    "start_time": "2022-05-31T11:51:56.509Z"
   },
   {
    "duration": 127,
    "start_time": "2022-05-31T11:51:56.617Z"
   },
   {
    "duration": 4,
    "start_time": "2022-05-31T11:51:56.746Z"
   },
   {
    "duration": 19,
    "start_time": "2022-05-31T11:51:56.751Z"
   },
   {
    "duration": 5,
    "start_time": "2022-05-31T11:51:56.771Z"
   },
   {
    "duration": 6,
    "start_time": "2022-05-31T11:51:56.791Z"
   },
   {
    "duration": 259,
    "start_time": "2022-05-31T11:51:56.798Z"
   },
   {
    "duration": 7,
    "start_time": "2022-05-31T11:51:57.059Z"
   },
   {
    "duration": 192,
    "start_time": "2022-05-31T11:51:57.067Z"
   },
   {
    "duration": 5,
    "start_time": "2022-05-31T11:51:57.261Z"
   },
   {
    "duration": 5,
    "start_time": "2022-05-31T11:51:57.268Z"
   },
   {
    "duration": 1023,
    "start_time": "2022-05-31T11:51:57.274Z"
   },
   {
    "duration": 3,
    "start_time": "2022-05-31T11:51:58.300Z"
   },
   {
    "duration": 8,
    "start_time": "2022-05-31T11:51:58.305Z"
   },
   {
    "duration": 7,
    "start_time": "2022-05-31T11:51:58.315Z"
   },
   {
    "duration": 6,
    "start_time": "2022-05-31T11:51:58.324Z"
   },
   {
    "duration": 150,
    "start_time": "2022-05-31T11:51:58.331Z"
   },
   {
    "duration": 11,
    "start_time": "2022-05-31T11:51:58.482Z"
   },
   {
    "duration": 12,
    "start_time": "2022-05-31T11:51:58.495Z"
   },
   {
    "duration": 174,
    "start_time": "2022-05-31T11:51:58.509Z"
   },
   {
    "duration": 14,
    "start_time": "2022-05-31T11:51:58.685Z"
   },
   {
    "duration": 177,
    "start_time": "2022-05-31T11:51:58.701Z"
   },
   {
    "duration": 5,
    "start_time": "2022-05-31T11:51:58.880Z"
   },
   {
    "duration": 317,
    "start_time": "2022-05-31T11:51:58.892Z"
   },
   {
    "duration": 430,
    "start_time": "2022-05-31T11:51:59.210Z"
   },
   {
    "duration": 5,
    "start_time": "2022-05-31T11:52:02.410Z"
   },
   {
    "duration": 2,
    "start_time": "2022-05-31T11:52:02.909Z"
   },
   {
    "duration": 2,
    "start_time": "2022-05-31T11:52:03.338Z"
   },
   {
    "duration": 130,
    "start_time": "2022-05-31T11:52:03.706Z"
   },
   {
    "duration": 8,
    "start_time": "2022-05-31T11:52:04.426Z"
   },
   {
    "duration": 10,
    "start_time": "2022-05-31T11:52:06.202Z"
   },
   {
    "duration": 181,
    "start_time": "2022-05-31T11:52:21.065Z"
   },
   {
    "duration": 6,
    "start_time": "2022-05-31T11:55:11.636Z"
   },
   {
    "duration": 7,
    "start_time": "2022-05-31T11:55:53.926Z"
   },
   {
    "duration": 21,
    "start_time": "2022-05-31T11:57:37.161Z"
   },
   {
    "duration": 4,
    "start_time": "2022-05-31T11:59:33.366Z"
   },
   {
    "duration": 6,
    "start_time": "2022-05-31T11:59:40.258Z"
   },
   {
    "duration": 7,
    "start_time": "2022-05-31T11:59:51.491Z"
   },
   {
    "duration": 42,
    "start_time": "2022-05-31T12:00:01.844Z"
   },
   {
    "duration": 33,
    "start_time": "2022-05-31T12:00:06.461Z"
   },
   {
    "duration": 7,
    "start_time": "2022-05-31T12:00:15.081Z"
   },
   {
    "duration": 116,
    "start_time": "2022-05-31T12:00:21.585Z"
   },
   {
    "duration": 4,
    "start_time": "2022-05-31T12:00:40.208Z"
   },
   {
    "duration": 6,
    "start_time": "2022-05-31T12:00:43.537Z"
   },
   {
    "duration": 4,
    "start_time": "2022-05-31T12:00:58.227Z"
   },
   {
    "duration": 10,
    "start_time": "2022-05-31T12:01:08.610Z"
   },
   {
    "duration": 5,
    "start_time": "2022-05-31T12:01:12.291Z"
   },
   {
    "duration": 4,
    "start_time": "2022-05-31T12:01:27.297Z"
   },
   {
    "duration": 5,
    "start_time": "2022-05-31T12:01:30.227Z"
   },
   {
    "duration": 4,
    "start_time": "2022-05-31T12:01:58.145Z"
   },
   {
    "duration": 7,
    "start_time": "2022-05-31T12:02:01.027Z"
   },
   {
    "duration": 4,
    "start_time": "2022-05-31T12:02:38.897Z"
   },
   {
    "duration": 6,
    "start_time": "2022-05-31T12:02:43.346Z"
   },
   {
    "duration": 4,
    "start_time": "2022-05-31T12:03:17.729Z"
   },
   {
    "duration": 6,
    "start_time": "2022-05-31T12:03:22.019Z"
   },
   {
    "duration": 16,
    "start_time": "2022-05-31T12:05:01.169Z"
   },
   {
    "duration": 12,
    "start_time": "2022-05-31T12:05:28.225Z"
   },
   {
    "duration": 7,
    "start_time": "2022-05-31T12:05:37.298Z"
   },
   {
    "duration": 6,
    "start_time": "2022-05-31T12:05:47.937Z"
   },
   {
    "duration": 9,
    "start_time": "2022-05-31T12:05:58.929Z"
   },
   {
    "duration": 4,
    "start_time": "2022-05-31T12:06:13.393Z"
   },
   {
    "duration": 7,
    "start_time": "2022-05-31T12:06:17.683Z"
   },
   {
    "duration": 9,
    "start_time": "2022-05-31T12:06:35.314Z"
   },
   {
    "duration": 4,
    "start_time": "2022-05-31T12:06:54.881Z"
   },
   {
    "duration": 7,
    "start_time": "2022-05-31T12:06:59.041Z"
   },
   {
    "duration": 13,
    "start_time": "2022-05-31T12:07:10.945Z"
   },
   {
    "duration": 114,
    "start_time": "2022-05-31T12:07:22.266Z"
   },
   {
    "duration": 7,
    "start_time": "2022-05-31T12:07:37.793Z"
   },
   {
    "duration": 5,
    "start_time": "2022-05-31T12:07:59.874Z"
   },
   {
    "duration": 161,
    "start_time": "2022-05-31T12:08:04.976Z"
   },
   {
    "duration": 9,
    "start_time": "2022-05-31T12:09:38.593Z"
   },
   {
    "duration": 139,
    "start_time": "2022-05-31T12:10:24.595Z"
   },
   {
    "duration": 7,
    "start_time": "2022-05-31T12:11:38.641Z"
   },
   {
    "duration": 128,
    "start_time": "2022-05-31T12:11:47.314Z"
   },
   {
    "duration": 3,
    "start_time": "2022-05-31T13:33:08.501Z"
   },
   {
    "duration": 610,
    "start_time": "2022-05-31T13:33:08.506Z"
   },
   {
    "duration": 25,
    "start_time": "2022-05-31T13:33:09.118Z"
   },
   {
    "duration": 0,
    "start_time": "2022-05-31T13:33:09.145Z"
   },
   {
    "duration": 0,
    "start_time": "2022-05-31T13:33:09.147Z"
   },
   {
    "duration": 0,
    "start_time": "2022-05-31T13:33:09.148Z"
   },
   {
    "duration": 0,
    "start_time": "2022-05-31T13:33:09.150Z"
   },
   {
    "duration": 0,
    "start_time": "2022-05-31T13:33:09.151Z"
   },
   {
    "duration": 0,
    "start_time": "2022-05-31T13:33:09.151Z"
   },
   {
    "duration": 0,
    "start_time": "2022-05-31T13:33:09.152Z"
   },
   {
    "duration": 0,
    "start_time": "2022-05-31T13:33:09.153Z"
   },
   {
    "duration": 0,
    "start_time": "2022-05-31T13:33:09.154Z"
   },
   {
    "duration": 0,
    "start_time": "2022-05-31T13:33:09.156Z"
   },
   {
    "duration": 0,
    "start_time": "2022-05-31T13:33:09.157Z"
   },
   {
    "duration": 0,
    "start_time": "2022-05-31T13:33:09.157Z"
   },
   {
    "duration": 0,
    "start_time": "2022-05-31T13:33:09.158Z"
   },
   {
    "duration": 0,
    "start_time": "2022-05-31T13:33:09.159Z"
   },
   {
    "duration": 0,
    "start_time": "2022-05-31T13:33:09.160Z"
   },
   {
    "duration": 0,
    "start_time": "2022-05-31T13:33:09.161Z"
   },
   {
    "duration": 0,
    "start_time": "2022-05-31T13:33:09.162Z"
   },
   {
    "duration": 0,
    "start_time": "2022-05-31T13:33:09.163Z"
   },
   {
    "duration": 0,
    "start_time": "2022-05-31T13:33:09.164Z"
   },
   {
    "duration": 1,
    "start_time": "2022-05-31T13:33:09.164Z"
   },
   {
    "duration": 1,
    "start_time": "2022-05-31T13:33:09.165Z"
   },
   {
    "duration": 0,
    "start_time": "2022-05-31T13:33:09.167Z"
   },
   {
    "duration": 1,
    "start_time": "2022-05-31T13:33:09.167Z"
   },
   {
    "duration": 0,
    "start_time": "2022-05-31T13:33:09.168Z"
   },
   {
    "duration": 0,
    "start_time": "2022-05-31T13:33:09.169Z"
   },
   {
    "duration": 0,
    "start_time": "2022-05-31T13:33:09.170Z"
   },
   {
    "duration": 0,
    "start_time": "2022-05-31T13:33:09.192Z"
   },
   {
    "duration": 0,
    "start_time": "2022-05-31T13:33:09.192Z"
   },
   {
    "duration": 0,
    "start_time": "2022-05-31T13:33:09.194Z"
   },
   {
    "duration": 0,
    "start_time": "2022-05-31T13:33:09.194Z"
   },
   {
    "duration": 0,
    "start_time": "2022-05-31T13:33:09.195Z"
   },
   {
    "duration": 0,
    "start_time": "2022-05-31T13:33:09.196Z"
   },
   {
    "duration": 0,
    "start_time": "2022-05-31T13:33:09.197Z"
   },
   {
    "duration": 0,
    "start_time": "2022-05-31T13:33:09.198Z"
   },
   {
    "duration": 0,
    "start_time": "2022-05-31T13:33:09.199Z"
   },
   {
    "duration": 0,
    "start_time": "2022-05-31T13:33:09.200Z"
   },
   {
    "duration": 0,
    "start_time": "2022-05-31T13:33:09.201Z"
   },
   {
    "duration": 0,
    "start_time": "2022-05-31T13:33:09.201Z"
   },
   {
    "duration": 0,
    "start_time": "2022-05-31T13:33:09.202Z"
   },
   {
    "duration": 0,
    "start_time": "2022-05-31T13:33:09.203Z"
   },
   {
    "duration": 0,
    "start_time": "2022-05-31T13:33:09.204Z"
   },
   {
    "duration": 0,
    "start_time": "2022-05-31T13:33:09.205Z"
   },
   {
    "duration": 0,
    "start_time": "2022-05-31T13:33:09.205Z"
   },
   {
    "duration": 0,
    "start_time": "2022-05-31T13:33:09.207Z"
   },
   {
    "duration": 0,
    "start_time": "2022-05-31T13:33:09.207Z"
   },
   {
    "duration": 0,
    "start_time": "2022-05-31T13:33:09.209Z"
   },
   {
    "duration": 0,
    "start_time": "2022-05-31T13:33:09.209Z"
   },
   {
    "duration": 0,
    "start_time": "2022-05-31T13:33:09.210Z"
   },
   {
    "duration": 0,
    "start_time": "2022-05-31T13:33:09.211Z"
   },
   {
    "duration": 0,
    "start_time": "2022-05-31T13:33:09.212Z"
   },
   {
    "duration": 0,
    "start_time": "2022-05-31T13:33:09.213Z"
   },
   {
    "duration": 4,
    "start_time": "2022-05-31T13:33:32.472Z"
   },
   {
    "duration": 21,
    "start_time": "2022-05-31T13:35:50.254Z"
   },
   {
    "duration": 268,
    "start_time": "2022-05-31T13:36:27.367Z"
   },
   {
    "duration": 24,
    "start_time": "2022-05-31T13:36:36.133Z"
   },
   {
    "duration": 620,
    "start_time": "2022-05-31T13:36:59.735Z"
   },
   {
    "duration": 23,
    "start_time": "2022-05-31T13:37:27.494Z"
   },
   {
    "duration": 3,
    "start_time": "2022-05-31T13:39:05.909Z"
   },
   {
    "duration": 619,
    "start_time": "2022-05-31T13:39:05.914Z"
   },
   {
    "duration": 36,
    "start_time": "2022-05-31T13:39:06.534Z"
   },
   {
    "duration": 60,
    "start_time": "2022-05-31T13:39:06.571Z"
   },
   {
    "duration": 4,
    "start_time": "2022-05-31T13:39:06.633Z"
   },
   {
    "duration": 6,
    "start_time": "2022-05-31T13:39:06.638Z"
   },
   {
    "duration": 312,
    "start_time": "2022-05-31T13:39:06.645Z"
   },
   {
    "duration": 5,
    "start_time": "2022-05-31T13:39:06.958Z"
   },
   {
    "duration": 49,
    "start_time": "2022-05-31T13:39:06.964Z"
   },
   {
    "duration": 6,
    "start_time": "2022-05-31T13:39:07.015Z"
   },
   {
    "duration": 10,
    "start_time": "2022-05-31T13:39:07.024Z"
   },
   {
    "duration": 9,
    "start_time": "2022-05-31T13:39:07.036Z"
   },
   {
    "duration": 17,
    "start_time": "2022-05-31T13:39:07.047Z"
   },
   {
    "duration": 28,
    "start_time": "2022-05-31T13:39:07.065Z"
   },
   {
    "duration": 15,
    "start_time": "2022-05-31T13:39:07.095Z"
   },
   {
    "duration": 11,
    "start_time": "2022-05-31T13:39:07.112Z"
   },
   {
    "duration": 108,
    "start_time": "2022-05-31T13:39:07.125Z"
   },
   {
    "duration": 128,
    "start_time": "2022-05-31T13:39:07.235Z"
   },
   {
    "duration": 4,
    "start_time": "2022-05-31T13:39:07.365Z"
   },
   {
    "duration": 27,
    "start_time": "2022-05-31T13:39:07.370Z"
   },
   {
    "duration": 5,
    "start_time": "2022-05-31T13:39:07.398Z"
   },
   {
    "duration": 7,
    "start_time": "2022-05-31T13:39:07.405Z"
   },
   {
    "duration": 243,
    "start_time": "2022-05-31T13:39:07.413Z"
   },
   {
    "duration": 7,
    "start_time": "2022-05-31T13:39:07.658Z"
   },
   {
    "duration": 182,
    "start_time": "2022-05-31T13:39:07.667Z"
   },
   {
    "duration": 5,
    "start_time": "2022-05-31T13:39:07.851Z"
   },
   {
    "duration": 7,
    "start_time": "2022-05-31T13:39:07.857Z"
   },
   {
    "duration": 987,
    "start_time": "2022-05-31T13:39:07.865Z"
   },
   {
    "duration": 3,
    "start_time": "2022-05-31T13:39:08.856Z"
   },
   {
    "duration": 8,
    "start_time": "2022-05-31T13:39:08.860Z"
   },
   {
    "duration": 6,
    "start_time": "2022-05-31T13:39:08.870Z"
   },
   {
    "duration": 14,
    "start_time": "2022-05-31T13:39:08.878Z"
   },
   {
    "duration": 136,
    "start_time": "2022-05-31T13:39:08.894Z"
   },
   {
    "duration": 8,
    "start_time": "2022-05-31T13:39:09.032Z"
   },
   {
    "duration": 13,
    "start_time": "2022-05-31T13:39:09.042Z"
   },
   {
    "duration": 179,
    "start_time": "2022-05-31T13:39:09.056Z"
   },
   {
    "duration": 11,
    "start_time": "2022-05-31T13:39:09.237Z"
   },
   {
    "duration": 176,
    "start_time": "2022-05-31T13:39:09.250Z"
   },
   {
    "duration": 5,
    "start_time": "2022-05-31T13:39:09.428Z"
   },
   {
    "duration": 319,
    "start_time": "2022-05-31T13:39:09.435Z"
   },
   {
    "duration": 427,
    "start_time": "2022-05-31T13:39:09.756Z"
   },
   {
    "duration": 10,
    "start_time": "2022-05-31T13:39:10.184Z"
   },
   {
    "duration": 6,
    "start_time": "2022-05-31T13:39:10.195Z"
   },
   {
    "duration": 6,
    "start_time": "2022-05-31T13:39:10.203Z"
   },
   {
    "duration": 146,
    "start_time": "2022-05-31T13:39:10.211Z"
   },
   {
    "duration": 7,
    "start_time": "2022-05-31T13:39:10.359Z"
   },
   {
    "duration": 24,
    "start_time": "2022-05-31T13:39:10.368Z"
   },
   {
    "duration": 151,
    "start_time": "2022-05-31T13:39:10.393Z"
   },
   {
    "duration": 6,
    "start_time": "2022-05-31T13:39:10.546Z"
   },
   {
    "duration": 9,
    "start_time": "2022-05-31T13:39:10.554Z"
   },
   {
    "duration": 6,
    "start_time": "2022-05-31T13:39:10.565Z"
   },
   {
    "duration": 18,
    "start_time": "2022-05-31T13:39:10.573Z"
   },
   {
    "duration": 3,
    "start_time": "2022-05-31T13:39:10.592Z"
   },
   {
    "duration": 369,
    "start_time": "2022-05-31T13:41:43.933Z"
   },
   {
    "duration": 351,
    "start_time": "2022-05-31T13:42:03.861Z"
   },
   {
    "duration": 9,
    "start_time": "2022-05-31T13:42:39.742Z"
   },
   {
    "duration": 40,
    "start_time": "2022-05-31T13:54:49.280Z"
   },
   {
    "duration": 4,
    "start_time": "2022-05-31T13:57:40.056Z"
   },
   {
    "duration": 6,
    "start_time": "2022-05-31T13:59:15.450Z"
   },
   {
    "duration": 9,
    "start_time": "2022-05-31T13:59:54.827Z"
   },
   {
    "duration": 4,
    "start_time": "2022-05-31T14:00:31.363Z"
   },
   {
    "duration": 22,
    "start_time": "2022-05-31T14:01:19.590Z"
   },
   {
    "duration": 2003,
    "start_time": "2022-06-01T05:45:05.349Z"
   },
   {
    "duration": 3704,
    "start_time": "2022-06-01T05:45:07.354Z"
   },
   {
    "duration": 53,
    "start_time": "2022-06-01T05:45:11.062Z"
   },
   {
    "duration": 76,
    "start_time": "2022-06-01T05:45:11.118Z"
   },
   {
    "duration": 6,
    "start_time": "2022-06-01T05:45:11.197Z"
   },
   {
    "duration": 23,
    "start_time": "2022-06-01T05:45:11.204Z"
   },
   {
    "duration": 440,
    "start_time": "2022-06-01T05:45:11.229Z"
   },
   {
    "duration": 5,
    "start_time": "2022-06-01T05:45:11.671Z"
   },
   {
    "duration": 64,
    "start_time": "2022-06-01T05:45:11.678Z"
   },
   {
    "duration": 13,
    "start_time": "2022-06-01T05:45:11.744Z"
   },
   {
    "duration": 11,
    "start_time": "2022-06-01T05:45:11.760Z"
   },
   {
    "duration": 13,
    "start_time": "2022-06-01T05:45:11.773Z"
   },
   {
    "duration": 39,
    "start_time": "2022-06-01T05:45:11.788Z"
   },
   {
    "duration": 4,
    "start_time": "2022-06-01T05:45:11.831Z"
   },
   {
    "duration": 39,
    "start_time": "2022-06-01T05:45:11.837Z"
   },
   {
    "duration": 10,
    "start_time": "2022-06-01T05:45:11.877Z"
   },
   {
    "duration": 132,
    "start_time": "2022-06-01T05:45:11.889Z"
   },
   {
    "duration": 166,
    "start_time": "2022-06-01T05:45:12.022Z"
   },
   {
    "duration": 5,
    "start_time": "2022-06-01T05:45:12.191Z"
   },
   {
    "duration": 37,
    "start_time": "2022-06-01T05:45:12.198Z"
   },
   {
    "duration": 7,
    "start_time": "2022-06-01T05:45:12.238Z"
   },
   {
    "duration": 28,
    "start_time": "2022-06-01T05:45:12.247Z"
   },
   {
    "duration": 330,
    "start_time": "2022-06-01T05:45:12.277Z"
   },
   {
    "duration": 14,
    "start_time": "2022-06-01T05:45:12.609Z"
   },
   {
    "duration": 222,
    "start_time": "2022-06-01T05:45:12.627Z"
   },
   {
    "duration": 6,
    "start_time": "2022-06-01T05:45:12.851Z"
   },
   {
    "duration": 9,
    "start_time": "2022-06-01T05:45:12.859Z"
   },
   {
    "duration": 1193,
    "start_time": "2022-06-01T05:45:12.870Z"
   },
   {
    "duration": 4,
    "start_time": "2022-06-01T05:45:14.064Z"
   },
   {
    "duration": 7,
    "start_time": "2022-06-01T05:45:14.070Z"
   },
   {
    "duration": 8,
    "start_time": "2022-06-01T05:45:14.079Z"
   },
   {
    "duration": 6,
    "start_time": "2022-06-01T05:45:14.088Z"
   },
   {
    "duration": 192,
    "start_time": "2022-06-01T05:45:14.095Z"
   },
   {
    "duration": 9,
    "start_time": "2022-06-01T05:45:14.289Z"
   },
   {
    "duration": 16,
    "start_time": "2022-06-01T05:45:14.299Z"
   },
   {
    "duration": 218,
    "start_time": "2022-06-01T05:45:14.328Z"
   },
   {
    "duration": 16,
    "start_time": "2022-06-01T05:45:14.549Z"
   },
   {
    "duration": 218,
    "start_time": "2022-06-01T05:45:14.567Z"
   },
   {
    "duration": 6,
    "start_time": "2022-06-01T05:45:14.787Z"
   },
   {
    "duration": 422,
    "start_time": "2022-06-01T05:45:14.794Z"
   },
   {
    "duration": 501,
    "start_time": "2022-06-01T05:45:15.220Z"
   },
   {
    "duration": 7,
    "start_time": "2022-06-01T05:45:15.727Z"
   },
   {
    "duration": 15,
    "start_time": "2022-06-01T05:45:15.736Z"
   },
   {
    "duration": 7,
    "start_time": "2022-06-01T05:45:15.753Z"
   },
   {
    "duration": 169,
    "start_time": "2022-06-01T05:45:15.761Z"
   },
   {
    "duration": 14,
    "start_time": "2022-06-01T05:45:15.932Z"
   },
   {
    "duration": 18,
    "start_time": "2022-06-01T05:45:15.948Z"
   },
   {
    "duration": 207,
    "start_time": "2022-06-01T05:45:15.968Z"
   },
   {
    "duration": 7,
    "start_time": "2022-06-01T05:45:16.178Z"
   },
   {
    "duration": 8,
    "start_time": "2022-06-01T05:45:16.187Z"
   },
   {
    "duration": 25,
    "start_time": "2022-06-01T05:45:16.198Z"
   },
   {
    "duration": 32,
    "start_time": "2022-06-01T05:45:16.225Z"
   },
   {
    "duration": 23,
    "start_time": "2022-06-01T05:45:16.259Z"
   },
   {
    "duration": 27,
    "start_time": "2022-06-01T05:45:16.283Z"
   },
   {
    "duration": 559,
    "start_time": "2022-06-01T05:45:16.312Z"
   },
   {
    "duration": 5,
    "start_time": "2022-06-01T05:45:16.873Z"
   },
   {
    "duration": 5,
    "start_time": "2022-06-01T05:48:08.916Z"
   },
   {
    "duration": 783,
    "start_time": "2022-06-01T05:48:08.924Z"
   },
   {
    "duration": 52,
    "start_time": "2022-06-01T05:48:09.709Z"
   },
   {
    "duration": 94,
    "start_time": "2022-06-01T05:48:09.764Z"
   },
   {
    "duration": 5,
    "start_time": "2022-06-01T05:48:09.859Z"
   },
   {
    "duration": 8,
    "start_time": "2022-06-01T05:48:09.865Z"
   },
   {
    "duration": 371,
    "start_time": "2022-06-01T05:48:09.874Z"
   },
   {
    "duration": 6,
    "start_time": "2022-06-01T05:48:10.247Z"
   },
   {
    "duration": 42,
    "start_time": "2022-06-01T05:48:10.256Z"
   },
   {
    "duration": 6,
    "start_time": "2022-06-01T05:48:10.300Z"
   },
   {
    "duration": 22,
    "start_time": "2022-06-01T05:48:10.308Z"
   },
   {
    "duration": 31,
    "start_time": "2022-06-01T05:48:10.332Z"
   },
   {
    "duration": 29,
    "start_time": "2022-06-01T05:48:10.365Z"
   },
   {
    "duration": 3,
    "start_time": "2022-06-01T05:48:10.396Z"
   },
   {
    "duration": 18,
    "start_time": "2022-06-01T05:48:10.401Z"
   },
   {
    "duration": 15,
    "start_time": "2022-06-01T05:48:10.420Z"
   },
   {
    "duration": 134,
    "start_time": "2022-06-01T05:48:10.438Z"
   },
   {
    "duration": 155,
    "start_time": "2022-06-01T05:48:10.574Z"
   },
   {
    "duration": 12,
    "start_time": "2022-06-01T05:48:10.731Z"
   },
   {
    "duration": 26,
    "start_time": "2022-06-01T05:48:10.745Z"
   },
   {
    "duration": 7,
    "start_time": "2022-06-01T05:48:10.773Z"
   },
   {
    "duration": 10,
    "start_time": "2022-06-01T05:48:10.781Z"
   },
   {
    "duration": 311,
    "start_time": "2022-06-01T05:48:10.793Z"
   },
   {
    "duration": 18,
    "start_time": "2022-06-01T05:48:11.109Z"
   },
   {
    "duration": 231,
    "start_time": "2022-06-01T05:48:11.129Z"
   },
   {
    "duration": 8,
    "start_time": "2022-06-01T05:48:11.361Z"
   },
   {
    "duration": 9,
    "start_time": "2022-06-01T05:48:11.371Z"
   },
   {
    "duration": 1184,
    "start_time": "2022-06-01T05:48:11.381Z"
   },
   {
    "duration": 4,
    "start_time": "2022-06-01T05:48:12.567Z"
   },
   {
    "duration": 10,
    "start_time": "2022-06-01T05:48:12.573Z"
   },
   {
    "duration": 15,
    "start_time": "2022-06-01T05:48:12.584Z"
   },
   {
    "duration": 6,
    "start_time": "2022-06-01T05:48:12.601Z"
   },
   {
    "duration": 166,
    "start_time": "2022-06-01T05:48:12.610Z"
   },
   {
    "duration": 9,
    "start_time": "2022-06-01T05:48:12.778Z"
   },
   {
    "duration": 16,
    "start_time": "2022-06-01T05:48:12.789Z"
   },
   {
    "duration": 210,
    "start_time": "2022-06-01T05:48:12.807Z"
   },
   {
    "duration": 23,
    "start_time": "2022-06-01T05:48:13.019Z"
   },
   {
    "duration": 347,
    "start_time": "2022-06-01T05:48:13.044Z"
   },
   {
    "duration": 6,
    "start_time": "2022-06-01T05:48:13.393Z"
   },
   {
    "duration": 401,
    "start_time": "2022-06-01T05:48:13.402Z"
   },
   {
    "duration": 411,
    "start_time": "2022-06-01T05:48:13.804Z"
   },
   {
    "duration": 5,
    "start_time": "2022-06-01T05:48:14.217Z"
   },
   {
    "duration": 35,
    "start_time": "2022-06-01T05:48:14.228Z"
   },
   {
    "duration": 9,
    "start_time": "2022-06-01T05:48:14.265Z"
   },
   {
    "duration": 165,
    "start_time": "2022-06-01T05:48:14.276Z"
   },
   {
    "duration": 12,
    "start_time": "2022-06-01T05:48:14.444Z"
   },
   {
    "duration": 13,
    "start_time": "2022-06-01T05:48:14.458Z"
   },
   {
    "duration": 193,
    "start_time": "2022-06-01T05:48:14.473Z"
   },
   {
    "duration": 8,
    "start_time": "2022-06-01T05:48:14.668Z"
   },
   {
    "duration": 18,
    "start_time": "2022-06-01T05:48:14.678Z"
   },
   {
    "duration": 15,
    "start_time": "2022-06-01T05:48:14.703Z"
   },
   {
    "duration": 6,
    "start_time": "2022-06-01T05:48:14.720Z"
   },
   {
    "duration": 29,
    "start_time": "2022-06-01T05:48:14.729Z"
   },
   {
    "duration": 13,
    "start_time": "2022-06-01T05:48:14.759Z"
   },
   {
    "duration": 448,
    "start_time": "2022-06-01T05:48:14.774Z"
   },
   {
    "duration": 6,
    "start_time": "2022-06-01T05:48:15.226Z"
   },
   {
    "duration": 22,
    "start_time": "2022-06-01T05:48:15.234Z"
   },
   {
    "duration": 6,
    "start_time": "2022-06-01T05:48:17.842Z"
   },
   {
    "duration": 130,
    "start_time": "2022-06-01T05:48:32.774Z"
   },
   {
    "duration": 4,
    "start_time": "2022-06-01T05:53:24.006Z"
   },
   {
    "duration": 4,
    "start_time": "2022-06-01T05:57:20.069Z"
   },
   {
    "duration": 17,
    "start_time": "2022-06-01T05:57:29.309Z"
   },
   {
    "duration": 5,
    "start_time": "2022-06-01T06:01:57.783Z"
   },
   {
    "duration": 804,
    "start_time": "2022-06-01T06:01:57.791Z"
   },
   {
    "duration": 53,
    "start_time": "2022-06-01T06:01:58.597Z"
   },
   {
    "duration": 100,
    "start_time": "2022-06-01T06:01:58.652Z"
   },
   {
    "duration": 5,
    "start_time": "2022-06-01T06:01:58.754Z"
   },
   {
    "duration": 11,
    "start_time": "2022-06-01T06:01:58.761Z"
   },
   {
    "duration": 423,
    "start_time": "2022-06-01T06:01:58.774Z"
   },
   {
    "duration": 4,
    "start_time": "2022-06-01T06:01:59.199Z"
   },
   {
    "duration": 62,
    "start_time": "2022-06-01T06:01:59.205Z"
   },
   {
    "duration": 10,
    "start_time": "2022-06-01T06:01:59.268Z"
   },
   {
    "duration": 12,
    "start_time": "2022-06-01T06:01:59.279Z"
   },
   {
    "duration": 11,
    "start_time": "2022-06-01T06:01:59.293Z"
   },
   {
    "duration": 39,
    "start_time": "2022-06-01T06:01:59.305Z"
   },
   {
    "duration": 5,
    "start_time": "2022-06-01T06:01:59.347Z"
   },
   {
    "duration": 14,
    "start_time": "2022-06-01T06:01:59.353Z"
   },
   {
    "duration": 11,
    "start_time": "2022-06-01T06:01:59.369Z"
   },
   {
    "duration": 135,
    "start_time": "2022-06-01T06:01:59.382Z"
   },
   {
    "duration": 160,
    "start_time": "2022-06-01T06:01:59.519Z"
   },
   {
    "duration": 5,
    "start_time": "2022-06-01T06:01:59.681Z"
   },
   {
    "duration": 25,
    "start_time": "2022-06-01T06:01:59.687Z"
   },
   {
    "duration": 15,
    "start_time": "2022-06-01T06:01:59.714Z"
   },
   {
    "duration": 31,
    "start_time": "2022-06-01T06:01:59.731Z"
   },
   {
    "duration": 431,
    "start_time": "2022-06-01T06:01:59.764Z"
   },
   {
    "duration": 9,
    "start_time": "2022-06-01T06:02:00.200Z"
   },
   {
    "duration": 220,
    "start_time": "2022-06-01T06:02:00.211Z"
   },
   {
    "duration": 14,
    "start_time": "2022-06-01T06:02:00.433Z"
   },
   {
    "duration": 9,
    "start_time": "2022-06-01T06:02:00.451Z"
   },
   {
    "duration": 1192,
    "start_time": "2022-06-01T06:02:00.461Z"
   },
   {
    "duration": 4,
    "start_time": "2022-06-01T06:02:01.655Z"
   },
   {
    "duration": 20,
    "start_time": "2022-06-01T06:02:01.661Z"
   },
   {
    "duration": 16,
    "start_time": "2022-06-01T06:02:01.683Z"
   },
   {
    "duration": 19,
    "start_time": "2022-06-01T06:02:01.701Z"
   },
   {
    "duration": 183,
    "start_time": "2022-06-01T06:02:01.722Z"
   },
   {
    "duration": 11,
    "start_time": "2022-06-01T06:02:01.907Z"
   },
   {
    "duration": 64,
    "start_time": "2022-06-01T06:02:01.920Z"
   },
   {
    "duration": 262,
    "start_time": "2022-06-01T06:02:01.987Z"
   },
   {
    "duration": 16,
    "start_time": "2022-06-01T06:02:02.251Z"
   },
   {
    "duration": 218,
    "start_time": "2022-06-01T06:02:02.269Z"
   },
   {
    "duration": 5,
    "start_time": "2022-06-01T06:02:02.489Z"
   },
   {
    "duration": 427,
    "start_time": "2022-06-01T06:02:02.495Z"
   },
   {
    "duration": 388,
    "start_time": "2022-06-01T06:02:02.924Z"
   },
   {
    "duration": 5,
    "start_time": "2022-06-01T06:02:03.314Z"
   },
   {
    "duration": 30,
    "start_time": "2022-06-01T06:02:03.321Z"
   },
   {
    "duration": 18,
    "start_time": "2022-06-01T06:02:03.353Z"
   },
   {
    "duration": 179,
    "start_time": "2022-06-01T06:02:03.373Z"
   },
   {
    "duration": 14,
    "start_time": "2022-06-01T06:02:03.554Z"
   },
   {
    "duration": 33,
    "start_time": "2022-06-01T06:02:03.569Z"
   },
   {
    "duration": 205,
    "start_time": "2022-06-01T06:02:03.604Z"
   },
   {
    "duration": 8,
    "start_time": "2022-06-01T06:02:03.811Z"
   },
   {
    "duration": 35,
    "start_time": "2022-06-01T06:02:03.820Z"
   },
   {
    "duration": 11,
    "start_time": "2022-06-01T06:02:03.858Z"
   },
   {
    "duration": 9,
    "start_time": "2022-06-01T06:02:03.871Z"
   },
   {
    "duration": 16,
    "start_time": "2022-06-01T06:02:03.882Z"
   },
   {
    "duration": 13,
    "start_time": "2022-06-01T06:02:03.900Z"
   },
   {
    "duration": 457,
    "start_time": "2022-06-01T06:02:03.915Z"
   },
   {
    "duration": 5,
    "start_time": "2022-06-01T06:02:04.373Z"
   },
   {
    "duration": 7,
    "start_time": "2022-06-01T06:02:04.380Z"
   },
   {
    "duration": 12,
    "start_time": "2022-06-01T06:02:04.389Z"
   },
   {
    "duration": 34,
    "start_time": "2022-06-01T06:02:06.919Z"
   },
   {
    "duration": 67,
    "start_time": "2022-06-01T06:02:23.422Z"
   },
   {
    "duration": 43,
    "start_time": "2022-06-01T06:02:46.068Z"
   },
   {
    "duration": 46391,
    "start_time": "2022-06-01T06:02:58.689Z"
   },
   {
    "duration": 4,
    "start_time": "2022-06-01T06:05:21.303Z"
   },
   {
    "duration": 7,
    "start_time": "2022-06-01T06:05:22.726Z"
   },
   {
    "duration": 70,
    "start_time": "2022-06-01T06:06:01.278Z"
   },
   {
    "duration": 29247,
    "start_time": "2022-06-01T06:06:09.562Z"
   },
   {
    "duration": 17,
    "start_time": "2022-06-01T06:07:24.062Z"
   },
   {
    "duration": 116652,
    "start_time": "2022-06-01T06:08:11.944Z"
   },
   {
    "duration": 128664,
    "start_time": "2022-06-01T06:11:08.344Z"
   },
   {
    "duration": 59183,
    "start_time": "2022-06-01T06:14:03.800Z"
   },
   {
    "duration": 25860,
    "start_time": "2022-06-01T06:15:18.869Z"
   },
   {
    "duration": 22,
    "start_time": "2022-06-01T06:16:29.344Z"
   },
   {
    "duration": 43,
    "start_time": "2022-06-01T06:17:00.365Z"
   },
   {
    "duration": 106089,
    "start_time": "2022-06-01T06:17:24.612Z"
   },
   {
    "duration": 43,
    "start_time": "2022-06-01T06:19:10.703Z"
   },
   {
    "duration": 36415,
    "start_time": "2022-06-01T06:20:36.413Z"
   },
   {
    "duration": 85851,
    "start_time": "2022-06-01T06:22:06.644Z"
   },
   {
    "duration": 126546,
    "start_time": "2022-06-01T06:31:57.799Z"
   },
   {
    "duration": 142527,
    "start_time": "2022-06-01T06:34:04.348Z"
   },
   {
    "duration": 1079,
    "start_time": "2022-06-01T06:36:26.877Z"
   },
   {
    "duration": 1071,
    "start_time": "2022-06-01T06:36:27.959Z"
   },
   {
    "duration": 13,
    "start_time": "2022-06-01T06:36:29.034Z"
   },
   {
    "duration": 9,
    "start_time": "2022-06-01T06:36:29.049Z"
   },
   {
    "duration": 5,
    "start_time": "2022-06-01T06:37:46.798Z"
   },
   {
    "duration": 257,
    "start_time": "2022-06-01T06:38:01.471Z"
   },
   {
    "duration": 984,
    "start_time": "2022-06-01T06:38:29.361Z"
   },
   {
    "duration": 51,
    "start_time": "2022-06-01T06:39:03.088Z"
   },
   {
    "duration": 155,
    "start_time": "2022-06-01T06:39:31.678Z"
   },
   {
    "duration": 15,
    "start_time": "2022-06-01T06:39:51.552Z"
   },
   {
    "duration": 4,
    "start_time": "2022-06-01T06:42:16.551Z"
   },
   {
    "duration": 36,
    "start_time": "2022-06-01T06:44:16.330Z"
   },
   {
    "duration": 11,
    "start_time": "2022-06-01T06:44:23.044Z"
   },
   {
    "duration": 7,
    "start_time": "2022-06-01T06:44:37.443Z"
   },
   {
    "duration": 8,
    "start_time": "2022-06-01T06:45:32.367Z"
   },
   {
    "duration": 208,
    "start_time": "2022-06-01T06:46:14.042Z"
   },
   {
    "duration": 43,
    "start_time": "2022-06-01T06:50:46.439Z"
   },
   {
    "duration": 1287,
    "start_time": "2022-06-01T07:02:17.711Z"
   },
   {
    "duration": 681,
    "start_time": "2022-06-01T07:02:19.000Z"
   },
   {
    "duration": 36,
    "start_time": "2022-06-01T07:02:19.682Z"
   },
   {
    "duration": 56,
    "start_time": "2022-06-01T07:02:19.719Z"
   },
   {
    "duration": 4,
    "start_time": "2022-06-01T07:02:19.777Z"
   },
   {
    "duration": 9,
    "start_time": "2022-06-01T07:02:19.782Z"
   },
   {
    "duration": 343,
    "start_time": "2022-06-01T07:02:19.792Z"
   },
   {
    "duration": 4,
    "start_time": "2022-06-01T07:02:20.137Z"
   },
   {
    "duration": 44,
    "start_time": "2022-06-01T07:02:20.142Z"
   },
   {
    "duration": 7,
    "start_time": "2022-06-01T07:02:20.187Z"
   },
   {
    "duration": 10,
    "start_time": "2022-06-01T07:02:20.196Z"
   },
   {
    "duration": 23,
    "start_time": "2022-06-01T07:02:20.208Z"
   },
   {
    "duration": 12,
    "start_time": "2022-06-01T07:02:20.232Z"
   },
   {
    "duration": 3,
    "start_time": "2022-06-01T07:02:20.247Z"
   },
   {
    "duration": 18,
    "start_time": "2022-06-01T07:02:20.251Z"
   },
   {
    "duration": 10,
    "start_time": "2022-06-01T07:02:20.271Z"
   },
   {
    "duration": 108,
    "start_time": "2022-06-01T07:02:20.283Z"
   },
   {
    "duration": 129,
    "start_time": "2022-06-01T07:02:20.392Z"
   },
   {
    "duration": 5,
    "start_time": "2022-06-01T07:02:20.522Z"
   },
   {
    "duration": 24,
    "start_time": "2022-06-01T07:02:20.528Z"
   },
   {
    "duration": 7,
    "start_time": "2022-06-01T07:02:20.553Z"
   },
   {
    "duration": 7,
    "start_time": "2022-06-01T07:02:20.561Z"
   },
   {
    "duration": 260,
    "start_time": "2022-06-01T07:02:20.570Z"
   },
   {
    "duration": 7,
    "start_time": "2022-06-01T07:02:20.832Z"
   },
   {
    "duration": 188,
    "start_time": "2022-06-01T07:02:20.841Z"
   },
   {
    "duration": 5,
    "start_time": "2022-06-01T07:02:21.031Z"
   },
   {
    "duration": 30,
    "start_time": "2022-06-01T07:02:21.037Z"
   },
   {
    "duration": 1013,
    "start_time": "2022-06-01T07:02:21.069Z"
   },
   {
    "duration": 4,
    "start_time": "2022-06-01T07:02:22.083Z"
   },
   {
    "duration": 10,
    "start_time": "2022-06-01T07:02:22.089Z"
   },
   {
    "duration": 12,
    "start_time": "2022-06-01T07:02:22.101Z"
   },
   {
    "duration": 8,
    "start_time": "2022-06-01T07:02:22.115Z"
   },
   {
    "duration": 155,
    "start_time": "2022-06-01T07:02:22.125Z"
   },
   {
    "duration": 8,
    "start_time": "2022-06-01T07:02:22.282Z"
   },
   {
    "duration": 18,
    "start_time": "2022-06-01T07:02:22.292Z"
   },
   {
    "duration": 185,
    "start_time": "2022-06-01T07:02:22.311Z"
   },
   {
    "duration": 11,
    "start_time": "2022-06-01T07:02:22.497Z"
   },
   {
    "duration": 173,
    "start_time": "2022-06-01T07:02:22.510Z"
   },
   {
    "duration": 5,
    "start_time": "2022-06-01T07:02:22.685Z"
   },
   {
    "duration": 323,
    "start_time": "2022-06-01T07:02:22.692Z"
   },
   {
    "duration": 396,
    "start_time": "2022-06-01T07:02:23.029Z"
   },
   {
    "duration": 5,
    "start_time": "2022-06-01T07:02:23.427Z"
   },
   {
    "duration": 7,
    "start_time": "2022-06-01T07:02:23.434Z"
   },
   {
    "duration": 6,
    "start_time": "2022-06-01T07:02:23.442Z"
   },
   {
    "duration": 146,
    "start_time": "2022-06-01T07:02:23.450Z"
   },
   {
    "duration": 8,
    "start_time": "2022-06-01T07:02:23.598Z"
   },
   {
    "duration": 21,
    "start_time": "2022-06-01T07:02:23.607Z"
   },
   {
    "duration": 146,
    "start_time": "2022-06-01T07:02:23.629Z"
   },
   {
    "duration": 7,
    "start_time": "2022-06-01T07:02:23.777Z"
   },
   {
    "duration": 6,
    "start_time": "2022-06-01T07:02:23.786Z"
   },
   {
    "duration": 17,
    "start_time": "2022-06-01T07:02:23.793Z"
   },
   {
    "duration": 11,
    "start_time": "2022-06-01T07:02:23.811Z"
   },
   {
    "duration": 18,
    "start_time": "2022-06-01T07:02:23.824Z"
   },
   {
    "duration": 14,
    "start_time": "2022-06-01T07:02:23.844Z"
   },
   {
    "duration": 346,
    "start_time": "2022-06-01T07:02:23.860Z"
   },
   {
    "duration": 3,
    "start_time": "2022-06-01T07:02:24.208Z"
   },
   {
    "duration": 15,
    "start_time": "2022-06-01T07:02:24.213Z"
   },
   {
    "duration": 10,
    "start_time": "2022-06-01T07:02:24.230Z"
   },
   {
    "duration": 75949,
    "start_time": "2022-06-01T07:02:24.241Z"
   },
   {
    "duration": 6518,
    "start_time": "2022-06-01T07:03:40.191Z"
   },
   {
    "duration": 110927,
    "start_time": "2022-06-01T07:03:46.710Z"
   },
   {
    "duration": 129738,
    "start_time": "2022-06-01T07:05:37.638Z"
   },
   {
    "duration": 962,
    "start_time": "2022-06-01T07:07:47.378Z"
   },
   {
    "duration": 1082,
    "start_time": "2022-06-01T07:07:48.344Z"
   },
   {
    "duration": 5,
    "start_time": "2022-06-01T07:07:49.428Z"
   },
   {
    "duration": 298,
    "start_time": "2022-06-01T07:07:49.435Z"
   },
   {
    "duration": 98,
    "start_time": "2022-06-01T07:07:49.735Z"
   },
   {
    "duration": 93,
    "start_time": "2022-06-01T07:07:49.835Z"
   },
   {
    "duration": 14,
    "start_time": "2022-06-01T07:07:49.936Z"
   },
   {
    "duration": 8,
    "start_time": "2022-06-01T07:07:49.952Z"
   },
   {
    "duration": 2335,
    "start_time": "2022-06-01T13:41:30.448Z"
   },
   {
    "duration": 1334,
    "start_time": "2022-06-01T13:41:32.785Z"
   },
   {
    "duration": 40,
    "start_time": "2022-06-01T13:41:34.175Z"
   },
   {
    "duration": 115,
    "start_time": "2022-06-01T13:41:34.275Z"
   },
   {
    "duration": 4,
    "start_time": "2022-06-01T13:41:34.392Z"
   },
   {
    "duration": 9,
    "start_time": "2022-06-01T13:41:34.398Z"
   },
   {
    "duration": 679,
    "start_time": "2022-06-01T13:41:34.408Z"
   },
   {
    "duration": 4,
    "start_time": "2022-06-01T13:41:35.089Z"
   },
   {
    "duration": 101,
    "start_time": "2022-06-01T13:41:35.095Z"
   },
   {
    "duration": 8,
    "start_time": "2022-06-01T13:41:35.199Z"
   },
   {
    "duration": 68,
    "start_time": "2022-06-01T13:41:35.208Z"
   },
   {
    "duration": 9,
    "start_time": "2022-06-01T13:41:35.277Z"
   },
   {
    "duration": 18,
    "start_time": "2022-06-01T13:41:35.288Z"
   },
   {
    "duration": 4,
    "start_time": "2022-06-01T13:41:35.307Z"
   },
   {
    "duration": 66,
    "start_time": "2022-06-01T13:41:35.312Z"
   },
   {
    "duration": 18,
    "start_time": "2022-06-01T13:41:35.380Z"
   },
   {
    "duration": 207,
    "start_time": "2022-06-01T13:41:35.399Z"
   },
   {
    "duration": 306,
    "start_time": "2022-06-01T13:41:35.608Z"
   },
   {
    "duration": 59,
    "start_time": "2022-06-01T13:41:35.917Z"
   },
   {
    "duration": 20,
    "start_time": "2022-06-01T13:41:35.978Z"
   },
   {
    "duration": 8,
    "start_time": "2022-06-01T13:41:35.999Z"
   },
   {
    "duration": 9,
    "start_time": "2022-06-01T13:41:36.008Z"
   },
   {
    "duration": 589,
    "start_time": "2022-06-01T13:41:36.018Z"
   },
   {
    "duration": 7,
    "start_time": "2022-06-01T13:41:36.609Z"
   },
   {
    "duration": 401,
    "start_time": "2022-06-01T13:41:36.674Z"
   },
   {
    "duration": 8,
    "start_time": "2022-06-01T13:41:37.077Z"
   },
   {
    "duration": 10,
    "start_time": "2022-06-01T13:41:37.086Z"
   },
   {
    "duration": 2220,
    "start_time": "2022-06-01T13:41:37.100Z"
   },
   {
    "duration": 3,
    "start_time": "2022-06-01T13:41:39.375Z"
   },
   {
    "duration": 19,
    "start_time": "2022-06-01T13:41:39.380Z"
   },
   {
    "duration": 7,
    "start_time": "2022-06-01T13:41:39.401Z"
   },
   {
    "duration": 11,
    "start_time": "2022-06-01T13:41:39.409Z"
   },
   {
    "duration": 379,
    "start_time": "2022-06-01T13:41:39.422Z"
   },
   {
    "duration": 11,
    "start_time": "2022-06-01T13:41:39.803Z"
   },
   {
    "duration": 67,
    "start_time": "2022-06-01T13:41:39.816Z"
   },
   {
    "duration": 493,
    "start_time": "2022-06-01T13:41:39.885Z"
   },
   {
    "duration": 12,
    "start_time": "2022-06-01T13:41:40.380Z"
   },
   {
    "duration": 413,
    "start_time": "2022-06-01T13:41:40.394Z"
   },
   {
    "duration": 5,
    "start_time": "2022-06-01T13:41:40.809Z"
   },
   {
    "duration": 780,
    "start_time": "2022-06-01T13:41:40.816Z"
   },
   {
    "duration": 1017,
    "start_time": "2022-06-01T13:41:41.597Z"
   },
   {
    "duration": 5,
    "start_time": "2022-06-01T13:41:42.616Z"
   },
   {
    "duration": 54,
    "start_time": "2022-06-01T13:41:42.622Z"
   },
   {
    "duration": 7,
    "start_time": "2022-06-01T13:41:42.678Z"
   },
   {
    "duration": 321,
    "start_time": "2022-06-01T13:41:42.686Z"
   },
   {
    "duration": 66,
    "start_time": "2022-06-01T13:41:43.009Z"
   },
   {
    "duration": 11,
    "start_time": "2022-06-01T13:41:43.077Z"
   },
   {
    "duration": 331,
    "start_time": "2022-06-01T13:41:43.090Z"
   },
   {
    "duration": 7,
    "start_time": "2022-06-01T13:41:43.475Z"
   },
   {
    "duration": 12,
    "start_time": "2022-06-01T13:41:43.483Z"
   },
   {
    "duration": 7,
    "start_time": "2022-06-01T13:41:43.496Z"
   },
   {
    "duration": 6,
    "start_time": "2022-06-01T13:41:43.504Z"
   },
   {
    "duration": 68,
    "start_time": "2022-06-01T13:41:43.512Z"
   },
   {
    "duration": 14,
    "start_time": "2022-06-01T13:41:43.582Z"
   },
   {
    "duration": 823,
    "start_time": "2022-06-01T13:41:43.598Z"
   },
   {
    "duration": 4,
    "start_time": "2022-06-01T13:41:44.474Z"
   },
   {
    "duration": 9,
    "start_time": "2022-06-01T13:41:44.480Z"
   },
   {
    "duration": 10,
    "start_time": "2022-06-01T13:41:44.490Z"
   },
   {
    "duration": 6575,
    "start_time": "2022-06-01T13:41:44.501Z"
   },
   {
    "duration": 65301,
    "start_time": "2022-06-01T13:41:51.079Z"
   },
   {
    "duration": 162456,
    "start_time": "2022-06-01T13:42:56.382Z"
   },
   {
    "duration": 130076,
    "start_time": "2022-06-01T13:45:38.839Z"
   },
   {
    "duration": 1061,
    "start_time": "2022-06-01T13:47:48.917Z"
   },
   {
    "duration": 1003,
    "start_time": "2022-06-01T13:47:49.979Z"
   },
   {
    "duration": 92,
    "start_time": "2022-06-01T13:47:50.984Z"
   },
   {
    "duration": 201,
    "start_time": "2022-06-01T13:47:51.077Z"
   },
   {
    "duration": 99,
    "start_time": "2022-06-01T13:47:51.280Z"
   },
   {
    "duration": 106,
    "start_time": "2022-06-01T13:47:51.381Z"
   },
   {
    "duration": 9,
    "start_time": "2022-06-01T13:47:51.489Z"
   },
   {
    "duration": 6,
    "start_time": "2022-06-01T13:47:51.501Z"
   },
   {
    "duration": 1724,
    "start_time": "2022-06-02T06:55:35.871Z"
   },
   {
    "duration": 3029,
    "start_time": "2022-06-02T06:55:37.600Z"
   },
   {
    "duration": 43,
    "start_time": "2022-06-02T06:55:40.630Z"
   },
   {
    "duration": 61,
    "start_time": "2022-06-02T06:55:40.675Z"
   },
   {
    "duration": 5,
    "start_time": "2022-06-02T06:55:40.737Z"
   },
   {
    "duration": 9,
    "start_time": "2022-06-02T06:55:40.744Z"
   },
   {
    "duration": 381,
    "start_time": "2022-06-02T06:55:40.755Z"
   },
   {
    "duration": 5,
    "start_time": "2022-06-02T06:55:41.137Z"
   },
   {
    "duration": 61,
    "start_time": "2022-06-02T06:55:41.143Z"
   },
   {
    "duration": 9,
    "start_time": "2022-06-02T06:55:41.205Z"
   },
   {
    "duration": 9,
    "start_time": "2022-06-02T06:55:41.216Z"
   },
   {
    "duration": 12,
    "start_time": "2022-06-02T06:55:41.227Z"
   },
   {
    "duration": 24,
    "start_time": "2022-06-02T06:55:41.241Z"
   },
   {
    "duration": 3,
    "start_time": "2022-06-02T06:55:41.268Z"
   },
   {
    "duration": 31,
    "start_time": "2022-06-02T06:55:41.272Z"
   },
   {
    "duration": 10,
    "start_time": "2022-06-02T06:55:41.305Z"
   },
   {
    "duration": 121,
    "start_time": "2022-06-02T06:55:41.317Z"
   },
   {
    "duration": 160,
    "start_time": "2022-06-02T06:55:41.440Z"
   },
   {
    "duration": 6,
    "start_time": "2022-06-02T06:55:41.603Z"
   },
   {
    "duration": 18,
    "start_time": "2022-06-02T06:55:41.611Z"
   },
   {
    "duration": 6,
    "start_time": "2022-06-02T06:55:41.631Z"
   },
   {
    "duration": 7,
    "start_time": "2022-06-02T06:55:41.639Z"
   },
   {
    "duration": 355,
    "start_time": "2022-06-02T06:55:41.647Z"
   },
   {
    "duration": 8,
    "start_time": "2022-06-02T06:55:42.004Z"
   },
   {
    "duration": 224,
    "start_time": "2022-06-02T06:55:42.013Z"
   },
   {
    "duration": 5,
    "start_time": "2022-06-02T06:55:42.239Z"
   },
   {
    "duration": 20,
    "start_time": "2022-06-02T06:55:42.246Z"
   },
   {
    "duration": 1163,
    "start_time": "2022-06-02T06:55:42.268Z"
   },
   {
    "duration": 4,
    "start_time": "2022-06-02T06:55:43.433Z"
   },
   {
    "duration": 21,
    "start_time": "2022-06-02T06:55:43.438Z"
   },
   {
    "duration": 20,
    "start_time": "2022-06-02T06:55:43.461Z"
   },
   {
    "duration": 9,
    "start_time": "2022-06-02T06:55:43.483Z"
   },
   {
    "duration": 167,
    "start_time": "2022-06-02T06:55:43.493Z"
   },
   {
    "duration": 10,
    "start_time": "2022-06-02T06:55:43.661Z"
   },
   {
    "duration": 20,
    "start_time": "2022-06-02T06:55:43.673Z"
   },
   {
    "duration": 205,
    "start_time": "2022-06-02T06:55:43.699Z"
   },
   {
    "duration": 13,
    "start_time": "2022-06-02T06:55:43.906Z"
   },
   {
    "duration": 197,
    "start_time": "2022-06-02T06:55:43.921Z"
   },
   {
    "duration": 5,
    "start_time": "2022-06-02T06:55:44.120Z"
   },
   {
    "duration": 395,
    "start_time": "2022-06-02T06:55:44.128Z"
   },
   {
    "duration": 464,
    "start_time": "2022-06-02T06:55:44.528Z"
   },
   {
    "duration": 7,
    "start_time": "2022-06-02T06:55:44.993Z"
   },
   {
    "duration": 35,
    "start_time": "2022-06-02T06:55:45.002Z"
   },
   {
    "duration": 13,
    "start_time": "2022-06-02T06:55:45.040Z"
   },
   {
    "duration": 186,
    "start_time": "2022-06-02T06:55:45.055Z"
   },
   {
    "duration": 9,
    "start_time": "2022-06-02T06:55:45.243Z"
   },
   {
    "duration": 24,
    "start_time": "2022-06-02T06:55:45.254Z"
   },
   {
    "duration": 189,
    "start_time": "2022-06-02T06:55:45.280Z"
   },
   {
    "duration": 7,
    "start_time": "2022-06-02T06:55:45.470Z"
   },
   {
    "duration": 20,
    "start_time": "2022-06-02T06:55:45.479Z"
   },
   {
    "duration": 14,
    "start_time": "2022-06-02T06:55:45.501Z"
   },
   {
    "duration": 15,
    "start_time": "2022-06-02T06:55:45.517Z"
   },
   {
    "duration": 55,
    "start_time": "2022-06-02T06:55:45.534Z"
   },
   {
    "duration": 14,
    "start_time": "2022-06-02T06:55:45.591Z"
   },
   {
    "duration": 434,
    "start_time": "2022-06-02T06:55:45.607Z"
   },
   {
    "duration": 31,
    "start_time": "2022-06-02T06:55:48.302Z"
   },
   {
    "duration": 5,
    "start_time": "2022-06-02T06:56:12.399Z"
   },
   {
    "duration": 3,
    "start_time": "2022-06-02T07:22:35.158Z"
   },
   {
    "duration": 695,
    "start_time": "2022-06-02T07:24:24.719Z"
   },
   {
    "duration": 514,
    "start_time": "2022-06-02T07:26:10.804Z"
   },
   {
    "duration": 4,
    "start_time": "2022-06-02T07:30:39.108Z"
   },
   {
    "duration": 9,
    "start_time": "2022-06-02T07:30:42.444Z"
   },
   {
    "duration": 4,
    "start_time": "2022-06-02T07:46:37.545Z"
   },
   {
    "duration": 381,
    "start_time": "2022-06-02T07:46:38.252Z"
   },
   {
    "duration": 7,
    "start_time": "2022-06-02T07:59:14.969Z"
   },
   {
    "duration": 15,
    "start_time": "2022-06-02T07:59:17.322Z"
   },
   {
    "duration": 4,
    "start_time": "2022-06-02T08:00:04.324Z"
   },
   {
    "duration": 12,
    "start_time": "2022-06-02T08:00:04.713Z"
   },
   {
    "duration": 809,
    "start_time": "2022-06-02T08:00:30.338Z"
   },
   {
    "duration": 5,
    "start_time": "2022-06-02T08:00:54.172Z"
   },
   {
    "duration": 1456,
    "start_time": "2022-06-02T08:02:28.818Z"
   },
   {
    "duration": 9,
    "start_time": "2022-06-02T08:02:38.939Z"
   },
   {
    "duration": 33,
    "start_time": "2022-06-02T08:02:41.625Z"
   },
   {
    "duration": 25,
    "start_time": "2022-06-02T08:04:29.588Z"
   },
   {
    "duration": 13,
    "start_time": "2022-06-02T08:06:17.994Z"
   },
   {
    "duration": 13,
    "start_time": "2022-06-02T08:06:41.866Z"
   },
   {
    "duration": 729,
    "start_time": "2022-06-02T08:12:47.116Z"
   },
   {
    "duration": 979,
    "start_time": "2022-06-02T08:12:59.167Z"
   },
   {
    "duration": 4,
    "start_time": "2022-06-02T08:14:14.153Z"
   },
   {
    "duration": 80,
    "start_time": "2022-06-02T08:14:29.448Z"
   },
   {
    "duration": 603,
    "start_time": "2022-06-02T08:15:05.457Z"
   },
   {
    "duration": 5,
    "start_time": "2022-06-02T08:15:11.976Z"
   },
   {
    "duration": 1382,
    "start_time": "2022-06-02T08:15:47.817Z"
   },
   {
    "duration": 4,
    "start_time": "2022-06-02T08:15:52.577Z"
   },
   {
    "duration": 223,
    "start_time": "2022-06-02T08:15:53.502Z"
   },
   {
    "duration": 202,
    "start_time": "2022-06-02T08:16:33.730Z"
   },
   {
    "duration": 23550,
    "start_time": "2022-06-02T08:17:06.033Z"
   },
   {
    "duration": 16,
    "start_time": "2022-06-02T08:17:56.449Z"
   },
   {
    "duration": 5,
    "start_time": "2022-06-02T08:18:11.903Z"
   },
   {
    "duration": 700,
    "start_time": "2022-06-02T08:18:11.910Z"
   },
   {
    "duration": 46,
    "start_time": "2022-06-02T08:18:12.612Z"
   },
   {
    "duration": 87,
    "start_time": "2022-06-02T08:18:12.660Z"
   },
   {
    "duration": 4,
    "start_time": "2022-06-02T08:18:12.750Z"
   },
   {
    "duration": 8,
    "start_time": "2022-06-02T08:18:12.756Z"
   },
   {
    "duration": 349,
    "start_time": "2022-06-02T08:18:12.765Z"
   },
   {
    "duration": 5,
    "start_time": "2022-06-02T08:18:13.116Z"
   },
   {
    "duration": 44,
    "start_time": "2022-06-02T08:18:13.122Z"
   },
   {
    "duration": 8,
    "start_time": "2022-06-02T08:18:13.167Z"
   },
   {
    "duration": 26,
    "start_time": "2022-06-02T08:18:13.176Z"
   },
   {
    "duration": 11,
    "start_time": "2022-06-02T08:18:13.204Z"
   },
   {
    "duration": 17,
    "start_time": "2022-06-02T08:18:13.216Z"
   },
   {
    "duration": 3,
    "start_time": "2022-06-02T08:18:13.236Z"
   },
   {
    "duration": 14,
    "start_time": "2022-06-02T08:18:13.241Z"
   },
   {
    "duration": 10,
    "start_time": "2022-06-02T08:18:13.256Z"
   },
   {
    "duration": 139,
    "start_time": "2022-06-02T08:18:13.268Z"
   },
   {
    "duration": 144,
    "start_time": "2022-06-02T08:18:13.409Z"
   },
   {
    "duration": 4,
    "start_time": "2022-06-02T08:18:13.555Z"
   },
   {
    "duration": 20,
    "start_time": "2022-06-02T08:18:13.561Z"
   },
   {
    "duration": 20,
    "start_time": "2022-06-02T08:18:13.582Z"
   },
   {
    "duration": 9,
    "start_time": "2022-06-02T08:18:13.604Z"
   },
   {
    "duration": 289,
    "start_time": "2022-06-02T08:18:13.615Z"
   },
   {
    "duration": 8,
    "start_time": "2022-06-02T08:18:13.905Z"
   },
   {
    "duration": 214,
    "start_time": "2022-06-02T08:18:13.915Z"
   },
   {
    "duration": 6,
    "start_time": "2022-06-02T08:18:14.131Z"
   },
   {
    "duration": 15,
    "start_time": "2022-06-02T08:18:14.139Z"
   },
   {
    "duration": 1150,
    "start_time": "2022-06-02T08:18:14.156Z"
   },
   {
    "duration": 3,
    "start_time": "2022-06-02T08:18:15.308Z"
   },
   {
    "duration": 23,
    "start_time": "2022-06-02T08:18:15.313Z"
   },
   {
    "duration": 7,
    "start_time": "2022-06-02T08:18:15.338Z"
   },
   {
    "duration": 11,
    "start_time": "2022-06-02T08:18:15.346Z"
   },
   {
    "duration": 163,
    "start_time": "2022-06-02T08:18:15.358Z"
   },
   {
    "duration": 9,
    "start_time": "2022-06-02T08:18:15.523Z"
   },
   {
    "duration": 15,
    "start_time": "2022-06-02T08:18:15.534Z"
   },
   {
    "duration": 214,
    "start_time": "2022-06-02T08:18:15.550Z"
   },
   {
    "duration": 13,
    "start_time": "2022-06-02T08:18:15.765Z"
   },
   {
    "duration": 223,
    "start_time": "2022-06-02T08:18:15.779Z"
   },
   {
    "duration": 6,
    "start_time": "2022-06-02T08:18:16.004Z"
   },
   {
    "duration": 397,
    "start_time": "2022-06-02T08:18:16.011Z"
   },
   {
    "duration": 393,
    "start_time": "2022-06-02T08:18:16.412Z"
   },
   {
    "duration": 5,
    "start_time": "2022-06-02T08:18:16.807Z"
   },
   {
    "duration": 5,
    "start_time": "2022-06-02T08:18:16.814Z"
   },
   {
    "duration": 5,
    "start_time": "2022-06-02T08:18:16.821Z"
   },
   {
    "duration": 173,
    "start_time": "2022-06-02T08:18:16.827Z"
   },
   {
    "duration": 9,
    "start_time": "2022-06-02T08:18:17.002Z"
   },
   {
    "duration": 31,
    "start_time": "2022-06-02T08:18:17.013Z"
   },
   {
    "duration": 180,
    "start_time": "2022-06-02T08:18:17.045Z"
   },
   {
    "duration": 7,
    "start_time": "2022-06-02T08:18:17.227Z"
   },
   {
    "duration": 6,
    "start_time": "2022-06-02T08:18:17.236Z"
   },
   {
    "duration": 6,
    "start_time": "2022-06-02T08:18:17.244Z"
   },
   {
    "duration": 6,
    "start_time": "2022-06-02T08:18:17.252Z"
   },
   {
    "duration": 12,
    "start_time": "2022-06-02T08:18:17.260Z"
   },
   {
    "duration": 27,
    "start_time": "2022-06-02T08:18:17.274Z"
   },
   {
    "duration": 463,
    "start_time": "2022-06-02T08:18:17.303Z"
   },
   {
    "duration": 5,
    "start_time": "2022-06-02T08:18:17.768Z"
   },
   {
    "duration": 1491,
    "start_time": "2022-06-02T08:18:17.775Z"
   },
   {
    "duration": 17,
    "start_time": "2022-06-02T08:18:19.268Z"
   },
   {
    "duration": 1602,
    "start_time": "2022-06-02T08:18:19.287Z"
   },
   {
    "duration": 14,
    "start_time": "2022-06-02T08:18:26.266Z"
   },
   {
    "duration": 5,
    "start_time": "2022-06-02T08:18:29.168Z"
   },
   {
    "duration": 464,
    "start_time": "2022-06-02T08:18:30.824Z"
   },
   {
    "duration": 3,
    "start_time": "2022-06-02T08:18:32.506Z"
   },
   {
    "duration": 4,
    "start_time": "2022-06-02T08:19:04.401Z"
   },
   {
    "duration": 49,
    "start_time": "2022-06-02T08:19:31.898Z"
   },
   {
    "duration": 125,
    "start_time": "2022-06-02T08:19:38.610Z"
   },
   {
    "duration": 22,
    "start_time": "2022-06-02T08:20:04.410Z"
   },
   {
    "duration": 14,
    "start_time": "2022-06-02T08:20:37.900Z"
   },
   {
    "duration": 18,
    "start_time": "2022-06-02T08:20:51.338Z"
   },
   {
    "duration": 7,
    "start_time": "2022-06-02T08:21:10.232Z"
   },
   {
    "duration": 5,
    "start_time": "2022-06-02T08:21:24.470Z"
   },
   {
    "duration": 689,
    "start_time": "2022-06-02T08:21:24.477Z"
   },
   {
    "duration": 44,
    "start_time": "2022-06-02T08:21:25.168Z"
   },
   {
    "duration": 55,
    "start_time": "2022-06-02T08:21:25.214Z"
   },
   {
    "duration": 4,
    "start_time": "2022-06-02T08:21:25.272Z"
   },
   {
    "duration": 25,
    "start_time": "2022-06-02T08:21:25.277Z"
   },
   {
    "duration": 327,
    "start_time": "2022-06-02T08:21:25.304Z"
   },
   {
    "duration": 5,
    "start_time": "2022-06-02T08:21:25.633Z"
   },
   {
    "duration": 46,
    "start_time": "2022-06-02T08:21:25.639Z"
   },
   {
    "duration": 7,
    "start_time": "2022-06-02T08:21:25.698Z"
   },
   {
    "duration": 9,
    "start_time": "2022-06-02T08:21:25.707Z"
   },
   {
    "duration": 11,
    "start_time": "2022-06-02T08:21:25.718Z"
   },
   {
    "duration": 15,
    "start_time": "2022-06-02T08:21:25.732Z"
   },
   {
    "duration": 3,
    "start_time": "2022-06-02T08:21:25.749Z"
   },
   {
    "duration": 16,
    "start_time": "2022-06-02T08:21:25.754Z"
   },
   {
    "duration": 35,
    "start_time": "2022-06-02T08:21:25.771Z"
   },
   {
    "duration": 114,
    "start_time": "2022-06-02T08:21:25.808Z"
   },
   {
    "duration": 141,
    "start_time": "2022-06-02T08:21:25.923Z"
   },
   {
    "duration": 4,
    "start_time": "2022-06-02T08:21:26.066Z"
   },
   {
    "duration": 30,
    "start_time": "2022-06-02T08:21:26.071Z"
   },
   {
    "duration": 10,
    "start_time": "2022-06-02T08:21:26.103Z"
   },
   {
    "duration": 7,
    "start_time": "2022-06-02T08:21:26.114Z"
   },
   {
    "duration": 296,
    "start_time": "2022-06-02T08:21:26.123Z"
   },
   {
    "duration": 8,
    "start_time": "2022-06-02T08:21:26.421Z"
   },
   {
    "duration": 214,
    "start_time": "2022-06-02T08:21:26.431Z"
   },
   {
    "duration": 7,
    "start_time": "2022-06-02T08:21:26.647Z"
   },
   {
    "duration": 7,
    "start_time": "2022-06-02T08:21:26.656Z"
   },
   {
    "duration": 1131,
    "start_time": "2022-06-02T08:21:26.665Z"
   },
   {
    "duration": 4,
    "start_time": "2022-06-02T08:21:27.798Z"
   },
   {
    "duration": 8,
    "start_time": "2022-06-02T08:21:27.804Z"
   },
   {
    "duration": 9,
    "start_time": "2022-06-02T08:21:27.814Z"
   },
   {
    "duration": 7,
    "start_time": "2022-06-02T08:21:27.824Z"
   },
   {
    "duration": 157,
    "start_time": "2022-06-02T08:21:27.832Z"
   },
   {
    "duration": 16,
    "start_time": "2022-06-02T08:21:27.990Z"
   },
   {
    "duration": 29,
    "start_time": "2022-06-02T08:21:28.008Z"
   },
   {
    "duration": 196,
    "start_time": "2022-06-02T08:21:28.039Z"
   },
   {
    "duration": 13,
    "start_time": "2022-06-02T08:21:28.240Z"
   },
   {
    "duration": 224,
    "start_time": "2022-06-02T08:21:28.254Z"
   },
   {
    "duration": 6,
    "start_time": "2022-06-02T08:21:28.479Z"
   },
   {
    "duration": 390,
    "start_time": "2022-06-02T08:21:28.487Z"
   },
   {
    "duration": 1225,
    "start_time": "2022-06-02T08:21:28.879Z"
   },
   {
    "duration": 5,
    "start_time": "2022-06-02T08:21:30.105Z"
   },
   {
    "duration": 21,
    "start_time": "2022-06-02T08:21:30.112Z"
   },
   {
    "duration": 12,
    "start_time": "2022-06-02T08:21:30.134Z"
   },
   {
    "duration": 169,
    "start_time": "2022-06-02T08:21:30.148Z"
   },
   {
    "duration": 10,
    "start_time": "2022-06-02T08:21:30.318Z"
   },
   {
    "duration": 37,
    "start_time": "2022-06-02T08:21:30.330Z"
   },
   {
    "duration": 179,
    "start_time": "2022-06-02T08:21:30.369Z"
   },
   {
    "duration": 7,
    "start_time": "2022-06-02T08:21:30.549Z"
   },
   {
    "duration": 15,
    "start_time": "2022-06-02T08:21:30.557Z"
   },
   {
    "duration": 12,
    "start_time": "2022-06-02T08:21:30.574Z"
   },
   {
    "duration": 15,
    "start_time": "2022-06-02T08:21:30.588Z"
   },
   {
    "duration": 25,
    "start_time": "2022-06-02T08:21:30.605Z"
   },
   {
    "duration": 16,
    "start_time": "2022-06-02T08:21:30.632Z"
   },
   {
    "duration": 458,
    "start_time": "2022-06-02T08:21:30.650Z"
   },
   {
    "duration": 6,
    "start_time": "2022-06-02T08:21:31.110Z"
   },
   {
    "duration": 1394,
    "start_time": "2022-06-02T08:21:31.118Z"
   },
   {
    "duration": 18,
    "start_time": "2022-06-02T08:21:32.514Z"
   },
   {
    "duration": 1732,
    "start_time": "2022-06-02T08:21:32.534Z"
   },
   {
    "duration": 13,
    "start_time": "2022-06-02T08:21:40.377Z"
   },
   {
    "duration": 11,
    "start_time": "2022-06-02T08:22:18.952Z"
   },
   {
    "duration": 7,
    "start_time": "2022-06-02T08:22:28.924Z"
   },
   {
    "duration": 4,
    "start_time": "2022-06-02T08:23:13.321Z"
   },
   {
    "duration": 22,
    "start_time": "2022-06-02T08:23:22.633Z"
   },
   {
    "duration": 269,
    "start_time": "2022-06-02T08:23:39.715Z"
   },
   {
    "duration": 4,
    "start_time": "2022-06-02T08:23:40.682Z"
   },
   {
    "duration": 156,
    "start_time": "2022-06-02T08:23:58.097Z"
   },
   {
    "duration": 38,
    "start_time": "2022-06-02T08:24:08.760Z"
   },
   {
    "duration": 6,
    "start_time": "2022-06-02T08:24:20.577Z"
   },
   {
    "duration": 5,
    "start_time": "2022-06-02T08:24:49.071Z"
   },
   {
    "duration": 720,
    "start_time": "2022-06-02T08:24:49.079Z"
   },
   {
    "duration": 42,
    "start_time": "2022-06-02T08:24:49.801Z"
   },
   {
    "duration": 76,
    "start_time": "2022-06-02T08:24:49.845Z"
   },
   {
    "duration": 4,
    "start_time": "2022-06-02T08:24:49.923Z"
   },
   {
    "duration": 7,
    "start_time": "2022-06-02T08:24:49.929Z"
   },
   {
    "duration": 337,
    "start_time": "2022-06-02T08:24:49.938Z"
   },
   {
    "duration": 5,
    "start_time": "2022-06-02T08:24:50.277Z"
   },
   {
    "duration": 50,
    "start_time": "2022-06-02T08:24:50.284Z"
   },
   {
    "duration": 7,
    "start_time": "2022-06-02T08:24:50.336Z"
   },
   {
    "duration": 6,
    "start_time": "2022-06-02T08:24:50.347Z"
   },
   {
    "duration": 13,
    "start_time": "2022-06-02T08:24:50.355Z"
   },
   {
    "duration": 41,
    "start_time": "2022-06-02T08:24:50.370Z"
   },
   {
    "duration": 4,
    "start_time": "2022-06-02T08:24:50.413Z"
   },
   {
    "duration": 13,
    "start_time": "2022-06-02T08:24:50.419Z"
   },
   {
    "duration": 11,
    "start_time": "2022-06-02T08:24:50.434Z"
   },
   {
    "duration": 154,
    "start_time": "2022-06-02T08:24:50.447Z"
   },
   {
    "duration": 181,
    "start_time": "2022-06-02T08:24:50.603Z"
   },
   {
    "duration": 4,
    "start_time": "2022-06-02T08:24:50.786Z"
   },
   {
    "duration": 32,
    "start_time": "2022-06-02T08:24:50.791Z"
   },
   {
    "duration": 7,
    "start_time": "2022-06-02T08:24:50.825Z"
   },
   {
    "duration": 18,
    "start_time": "2022-06-02T08:24:50.834Z"
   },
   {
    "duration": 298,
    "start_time": "2022-06-02T08:24:50.854Z"
   },
   {
    "duration": 8,
    "start_time": "2022-06-02T08:24:51.154Z"
   },
   {
    "duration": 216,
    "start_time": "2022-06-02T08:24:51.164Z"
   },
   {
    "duration": 6,
    "start_time": "2022-06-02T08:24:51.381Z"
   },
   {
    "duration": 13,
    "start_time": "2022-06-02T08:24:51.389Z"
   },
   {
    "duration": 1248,
    "start_time": "2022-06-02T08:24:51.404Z"
   },
   {
    "duration": 4,
    "start_time": "2022-06-02T08:24:52.656Z"
   },
   {
    "duration": 9,
    "start_time": "2022-06-02T08:24:52.662Z"
   },
   {
    "duration": 11,
    "start_time": "2022-06-02T08:24:52.672Z"
   },
   {
    "duration": 6,
    "start_time": "2022-06-02T08:24:52.684Z"
   },
   {
    "duration": 178,
    "start_time": "2022-06-02T08:24:52.700Z"
   },
   {
    "duration": 10,
    "start_time": "2022-06-02T08:24:52.879Z"
   },
   {
    "duration": 23,
    "start_time": "2022-06-02T08:24:52.899Z"
   },
   {
    "duration": 208,
    "start_time": "2022-06-02T08:24:52.924Z"
   },
   {
    "duration": 14,
    "start_time": "2022-06-02T08:24:53.134Z"
   },
   {
    "duration": 206,
    "start_time": "2022-06-02T08:24:53.150Z"
   },
   {
    "duration": 8,
    "start_time": "2022-06-02T08:24:53.358Z"
   },
   {
    "duration": 379,
    "start_time": "2022-06-02T08:24:53.368Z"
   },
   {
    "duration": 556,
    "start_time": "2022-06-02T08:24:53.749Z"
   },
   {
    "duration": 5,
    "start_time": "2022-06-02T08:24:54.307Z"
   },
   {
    "duration": 6,
    "start_time": "2022-06-02T08:24:54.314Z"
   },
   {
    "duration": 7,
    "start_time": "2022-06-02T08:24:54.322Z"
   },
   {
    "duration": 167,
    "start_time": "2022-06-02T08:24:54.331Z"
   },
   {
    "duration": 9,
    "start_time": "2022-06-02T08:24:54.500Z"
   },
   {
    "duration": 13,
    "start_time": "2022-06-02T08:24:54.511Z"
   },
   {
    "duration": 203,
    "start_time": "2022-06-02T08:24:54.526Z"
   },
   {
    "duration": 9,
    "start_time": "2022-06-02T08:24:54.731Z"
   },
   {
    "duration": 10,
    "start_time": "2022-06-02T08:24:54.743Z"
   },
   {
    "duration": 8,
    "start_time": "2022-06-02T08:24:54.756Z"
   },
   {
    "duration": 9,
    "start_time": "2022-06-02T08:24:54.766Z"
   },
   {
    "duration": 22,
    "start_time": "2022-06-02T08:24:54.777Z"
   },
   {
    "duration": 9,
    "start_time": "2022-06-02T08:24:54.801Z"
   },
   {
    "duration": 477,
    "start_time": "2022-06-02T08:24:54.812Z"
   },
   {
    "duration": 9,
    "start_time": "2022-06-02T08:24:55.291Z"
   },
   {
    "duration": 1379,
    "start_time": "2022-06-02T08:24:55.302Z"
   },
   {
    "duration": 22,
    "start_time": "2022-06-02T08:24:56.683Z"
   },
   {
    "duration": 1717,
    "start_time": "2022-06-02T08:24:56.707Z"
   },
   {
    "duration": 4,
    "start_time": "2022-06-02T08:25:00.604Z"
   },
   {
    "duration": 6,
    "start_time": "2022-06-02T08:25:21.367Z"
   },
   {
    "duration": 20,
    "start_time": "2022-06-02T08:25:36.776Z"
   },
   {
    "duration": 31,
    "start_time": "2022-06-02T08:25:49.913Z"
   },
   {
    "duration": 26,
    "start_time": "2022-06-02T08:26:21.208Z"
   },
   {
    "duration": 13,
    "start_time": "2022-06-02T08:26:32.056Z"
   },
   {
    "duration": 36,
    "start_time": "2022-06-02T08:27:00.608Z"
   },
   {
    "duration": 4,
    "start_time": "2022-06-02T08:27:11.408Z"
   },
   {
    "duration": 28,
    "start_time": "2022-06-02T08:27:37.220Z"
   },
   {
    "duration": 35,
    "start_time": "2022-06-02T08:28:19.464Z"
   },
   {
    "duration": 29,
    "start_time": "2022-06-02T08:28:50.576Z"
   },
   {
    "duration": 33,
    "start_time": "2022-06-02T08:29:01.144Z"
   },
   {
    "duration": 12,
    "start_time": "2022-06-02T08:29:48.976Z"
   },
   {
    "duration": 5,
    "start_time": "2022-06-02T08:29:55.472Z"
   },
   {
    "duration": 13,
    "start_time": "2022-06-02T08:30:32.640Z"
   },
   {
    "duration": 29,
    "start_time": "2022-06-02T08:30:45.292Z"
   },
   {
    "duration": 14,
    "start_time": "2022-06-02T08:30:49.097Z"
   },
   {
    "duration": 30,
    "start_time": "2022-06-02T08:31:07.127Z"
   },
   {
    "duration": 440,
    "start_time": "2022-06-02T08:31:16.806Z"
   },
   {
    "duration": 4,
    "start_time": "2022-06-02T08:31:18.014Z"
   },
   {
    "duration": 118,
    "start_time": "2022-06-02T08:32:16.519Z"
   },
   {
    "duration": 37,
    "start_time": "2022-06-02T08:32:28.071Z"
   },
   {
    "duration": 4,
    "start_time": "2022-06-02T08:32:39.702Z"
   },
   {
    "duration": 671,
    "start_time": "2022-06-02T08:32:39.708Z"
   },
   {
    "duration": 46,
    "start_time": "2022-06-02T08:32:40.381Z"
   },
   {
    "duration": 71,
    "start_time": "2022-06-02T08:32:40.429Z"
   },
   {
    "duration": 5,
    "start_time": "2022-06-02T08:32:40.502Z"
   },
   {
    "duration": 10,
    "start_time": "2022-06-02T08:32:40.508Z"
   },
   {
    "duration": 329,
    "start_time": "2022-06-02T08:32:40.519Z"
   },
   {
    "duration": 5,
    "start_time": "2022-06-02T08:32:40.849Z"
   },
   {
    "duration": 50,
    "start_time": "2022-06-02T08:32:40.855Z"
   },
   {
    "duration": 6,
    "start_time": "2022-06-02T08:32:40.907Z"
   },
   {
    "duration": 7,
    "start_time": "2022-06-02T08:32:40.916Z"
   },
   {
    "duration": 13,
    "start_time": "2022-06-02T08:32:40.924Z"
   },
   {
    "duration": 16,
    "start_time": "2022-06-02T08:32:40.938Z"
   },
   {
    "duration": 4,
    "start_time": "2022-06-02T08:32:40.955Z"
   },
   {
    "duration": 38,
    "start_time": "2022-06-02T08:32:40.961Z"
   },
   {
    "duration": 12,
    "start_time": "2022-06-02T08:32:41.001Z"
   },
   {
    "duration": 120,
    "start_time": "2022-06-02T08:32:41.015Z"
   },
   {
    "duration": 146,
    "start_time": "2022-06-02T08:32:41.137Z"
   },
   {
    "duration": 14,
    "start_time": "2022-06-02T08:32:41.285Z"
   },
   {
    "duration": 16,
    "start_time": "2022-06-02T08:32:41.301Z"
   },
   {
    "duration": 13,
    "start_time": "2022-06-02T08:32:41.319Z"
   },
   {
    "duration": 11,
    "start_time": "2022-06-02T08:32:41.333Z"
   },
   {
    "duration": 311,
    "start_time": "2022-06-02T08:32:41.346Z"
   },
   {
    "duration": 7,
    "start_time": "2022-06-02T08:32:41.659Z"
   },
   {
    "duration": 244,
    "start_time": "2022-06-02T08:32:41.668Z"
   },
   {
    "duration": 7,
    "start_time": "2022-06-02T08:32:41.915Z"
   },
   {
    "duration": 15,
    "start_time": "2022-06-02T08:32:41.924Z"
   },
   {
    "duration": 1192,
    "start_time": "2022-06-02T08:32:41.941Z"
   },
   {
    "duration": 3,
    "start_time": "2022-06-02T08:32:43.137Z"
   },
   {
    "duration": 9,
    "start_time": "2022-06-02T08:32:43.142Z"
   },
   {
    "duration": 22,
    "start_time": "2022-06-02T08:32:43.153Z"
   },
   {
    "duration": 12,
    "start_time": "2022-06-02T08:32:43.177Z"
   },
   {
    "duration": 146,
    "start_time": "2022-06-02T08:32:43.191Z"
   },
   {
    "duration": 9,
    "start_time": "2022-06-02T08:32:43.339Z"
   },
   {
    "duration": 27,
    "start_time": "2022-06-02T08:32:43.349Z"
   },
   {
    "duration": 202,
    "start_time": "2022-06-02T08:32:43.377Z"
   },
   {
    "duration": 19,
    "start_time": "2022-06-02T08:32:43.580Z"
   },
   {
    "duration": 201,
    "start_time": "2022-06-02T08:32:43.601Z"
   },
   {
    "duration": 6,
    "start_time": "2022-06-02T08:32:43.803Z"
   },
   {
    "duration": 364,
    "start_time": "2022-06-02T08:32:43.810Z"
   },
   {
    "duration": 378,
    "start_time": "2022-06-02T08:32:44.176Z"
   },
   {
    "duration": 4,
    "start_time": "2022-06-02T08:32:44.556Z"
   },
   {
    "duration": 7,
    "start_time": "2022-06-02T08:32:44.562Z"
   },
   {
    "duration": 13,
    "start_time": "2022-06-02T08:32:44.571Z"
   },
   {
    "duration": 171,
    "start_time": "2022-06-02T08:32:44.586Z"
   },
   {
    "duration": 10,
    "start_time": "2022-06-02T08:32:44.759Z"
   },
   {
    "duration": 15,
    "start_time": "2022-06-02T08:32:44.771Z"
   },
   {
    "duration": 188,
    "start_time": "2022-06-02T08:32:44.788Z"
   },
   {
    "duration": 6,
    "start_time": "2022-06-02T08:32:44.978Z"
   },
   {
    "duration": 15,
    "start_time": "2022-06-02T08:32:44.986Z"
   },
   {
    "duration": 15,
    "start_time": "2022-06-02T08:32:45.003Z"
   },
   {
    "duration": 23,
    "start_time": "2022-06-02T08:32:45.020Z"
   },
   {
    "duration": 20,
    "start_time": "2022-06-02T08:32:45.045Z"
   },
   {
    "duration": 17,
    "start_time": "2022-06-02T08:32:45.067Z"
   },
   {
    "duration": 438,
    "start_time": "2022-06-02T08:32:45.086Z"
   },
   {
    "duration": 5,
    "start_time": "2022-06-02T08:32:45.526Z"
   },
   {
    "duration": 1415,
    "start_time": "2022-06-02T08:32:45.533Z"
   },
   {
    "duration": 16,
    "start_time": "2022-06-02T08:32:46.950Z"
   },
   {
    "duration": 1708,
    "start_time": "2022-06-02T08:32:46.968Z"
   },
   {
    "duration": 5,
    "start_time": "2022-06-02T08:32:48.678Z"
   },
   {
    "duration": 4,
    "start_time": "2022-06-02T08:32:52.743Z"
   },
   {
    "duration": 33,
    "start_time": "2022-06-02T08:32:53.209Z"
   },
   {
    "duration": 39,
    "start_time": "2022-06-02T08:33:00.022Z"
   },
   {
    "duration": 469,
    "start_time": "2022-06-02T08:33:21.223Z"
   },
   {
    "duration": 5,
    "start_time": "2022-06-02T08:33:22.342Z"
   },
   {
    "duration": 37,
    "start_time": "2022-06-02T08:33:26.567Z"
   },
   {
    "duration": 4,
    "start_time": "2022-06-02T08:33:48.801Z"
   },
   {
    "duration": 687,
    "start_time": "2022-06-02T08:33:48.807Z"
   },
   {
    "duration": 41,
    "start_time": "2022-06-02T08:33:49.495Z"
   },
   {
    "duration": 78,
    "start_time": "2022-06-02T08:33:49.538Z"
   },
   {
    "duration": 5,
    "start_time": "2022-06-02T08:33:49.617Z"
   },
   {
    "duration": 10,
    "start_time": "2022-06-02T08:33:49.623Z"
   },
   {
    "duration": 332,
    "start_time": "2022-06-02T08:33:49.635Z"
   },
   {
    "duration": 5,
    "start_time": "2022-06-02T08:33:49.969Z"
   },
   {
    "duration": 51,
    "start_time": "2022-06-02T08:33:49.977Z"
   },
   {
    "duration": 7,
    "start_time": "2022-06-02T08:33:50.029Z"
   },
   {
    "duration": 11,
    "start_time": "2022-06-02T08:33:50.037Z"
   },
   {
    "duration": 10,
    "start_time": "2022-06-02T08:33:50.050Z"
   },
   {
    "duration": 20,
    "start_time": "2022-06-02T08:33:50.062Z"
   },
   {
    "duration": 17,
    "start_time": "2022-06-02T08:33:50.084Z"
   },
   {
    "duration": 14,
    "start_time": "2022-06-02T08:33:50.103Z"
   },
   {
    "duration": 11,
    "start_time": "2022-06-02T08:33:50.118Z"
   },
   {
    "duration": 123,
    "start_time": "2022-06-02T08:33:50.130Z"
   },
   {
    "duration": 151,
    "start_time": "2022-06-02T08:33:50.255Z"
   },
   {
    "duration": 4,
    "start_time": "2022-06-02T08:33:50.408Z"
   },
   {
    "duration": 33,
    "start_time": "2022-06-02T08:33:50.414Z"
   },
   {
    "duration": 13,
    "start_time": "2022-06-02T08:33:50.449Z"
   },
   {
    "duration": 13,
    "start_time": "2022-06-02T08:33:50.464Z"
   },
   {
    "duration": 516,
    "start_time": "2022-06-02T08:33:50.479Z"
   },
   {
    "duration": 9,
    "start_time": "2022-06-02T08:33:51.003Z"
   },
   {
    "duration": 234,
    "start_time": "2022-06-02T08:33:51.014Z"
   },
   {
    "duration": 8,
    "start_time": "2022-06-02T08:33:51.250Z"
   },
   {
    "duration": 12,
    "start_time": "2022-06-02T08:33:51.260Z"
   },
   {
    "duration": 1189,
    "start_time": "2022-06-02T08:33:51.273Z"
   },
   {
    "duration": 3,
    "start_time": "2022-06-02T08:33:52.464Z"
   },
   {
    "duration": 17,
    "start_time": "2022-06-02T08:33:52.469Z"
   },
   {
    "duration": 13,
    "start_time": "2022-06-02T08:33:52.487Z"
   },
   {
    "duration": 11,
    "start_time": "2022-06-02T08:33:52.501Z"
   },
   {
    "duration": 165,
    "start_time": "2022-06-02T08:33:52.514Z"
   },
   {
    "duration": 18,
    "start_time": "2022-06-02T08:33:52.681Z"
   },
   {
    "duration": 23,
    "start_time": "2022-06-02T08:33:52.702Z"
   },
   {
    "duration": 216,
    "start_time": "2022-06-02T08:33:52.728Z"
   },
   {
    "duration": 14,
    "start_time": "2022-06-02T08:33:52.945Z"
   },
   {
    "duration": 231,
    "start_time": "2022-06-02T08:33:52.961Z"
   },
   {
    "duration": 7,
    "start_time": "2022-06-02T08:33:53.194Z"
   },
   {
    "duration": 383,
    "start_time": "2022-06-02T08:33:53.203Z"
   },
   {
    "duration": 380,
    "start_time": "2022-06-02T08:33:53.587Z"
   },
   {
    "duration": 5,
    "start_time": "2022-06-02T08:33:53.970Z"
   },
   {
    "duration": 23,
    "start_time": "2022-06-02T08:33:53.977Z"
   },
   {
    "duration": 5,
    "start_time": "2022-06-02T08:33:54.003Z"
   },
   {
    "duration": 159,
    "start_time": "2022-06-02T08:33:54.010Z"
   },
   {
    "duration": 11,
    "start_time": "2022-06-02T08:33:54.171Z"
   },
   {
    "duration": 25,
    "start_time": "2022-06-02T08:33:54.184Z"
   },
   {
    "duration": 188,
    "start_time": "2022-06-02T08:33:54.211Z"
   },
   {
    "duration": 7,
    "start_time": "2022-06-02T08:33:54.402Z"
   },
   {
    "duration": 6,
    "start_time": "2022-06-02T08:33:54.411Z"
   },
   {
    "duration": 8,
    "start_time": "2022-06-02T08:33:54.419Z"
   },
   {
    "duration": 6,
    "start_time": "2022-06-02T08:33:54.429Z"
   },
   {
    "duration": 11,
    "start_time": "2022-06-02T08:33:54.437Z"
   },
   {
    "duration": 12,
    "start_time": "2022-06-02T08:33:54.450Z"
   },
   {
    "duration": 455,
    "start_time": "2022-06-02T08:33:54.464Z"
   },
   {
    "duration": 5,
    "start_time": "2022-06-02T08:33:54.921Z"
   },
   {
    "duration": 1403,
    "start_time": "2022-06-02T08:33:54.928Z"
   },
   {
    "duration": 18,
    "start_time": "2022-06-02T08:33:56.333Z"
   },
   {
    "duration": 1801,
    "start_time": "2022-06-02T08:33:59.737Z"
   },
   {
    "duration": 6,
    "start_time": "2022-06-02T08:34:20.942Z"
   },
   {
    "duration": 32,
    "start_time": "2022-06-02T08:34:27.091Z"
   },
   {
    "duration": 5,
    "start_time": "2022-06-02T08:35:49.759Z"
   },
   {
    "duration": 694,
    "start_time": "2022-06-02T08:35:49.766Z"
   },
   {
    "duration": 46,
    "start_time": "2022-06-02T08:35:50.461Z"
   },
   {
    "duration": 56,
    "start_time": "2022-06-02T08:35:50.508Z"
   },
   {
    "duration": 5,
    "start_time": "2022-06-02T08:35:50.566Z"
   },
   {
    "duration": 34,
    "start_time": "2022-06-02T08:35:50.572Z"
   },
   {
    "duration": 337,
    "start_time": "2022-06-02T08:35:50.608Z"
   },
   {
    "duration": 5,
    "start_time": "2022-06-02T08:35:50.946Z"
   },
   {
    "duration": 48,
    "start_time": "2022-06-02T08:35:50.953Z"
   },
   {
    "duration": 7,
    "start_time": "2022-06-02T08:35:51.002Z"
   },
   {
    "duration": 16,
    "start_time": "2022-06-02T08:35:51.012Z"
   },
   {
    "duration": 9,
    "start_time": "2022-06-02T08:35:51.030Z"
   },
   {
    "duration": 21,
    "start_time": "2022-06-02T08:35:51.041Z"
   },
   {
    "duration": 3,
    "start_time": "2022-06-02T08:35:51.064Z"
   },
   {
    "duration": 35,
    "start_time": "2022-06-02T08:35:51.069Z"
   },
   {
    "duration": 10,
    "start_time": "2022-06-02T08:35:51.106Z"
   },
   {
    "duration": 120,
    "start_time": "2022-06-02T08:35:51.117Z"
   },
   {
    "duration": 144,
    "start_time": "2022-06-02T08:35:51.239Z"
   },
   {
    "duration": 4,
    "start_time": "2022-06-02T08:35:51.385Z"
   },
   {
    "duration": 18,
    "start_time": "2022-06-02T08:35:51.391Z"
   },
   {
    "duration": 6,
    "start_time": "2022-06-02T08:35:51.411Z"
   },
   {
    "duration": 8,
    "start_time": "2022-06-02T08:35:51.418Z"
   },
   {
    "duration": 315,
    "start_time": "2022-06-02T08:35:51.428Z"
   },
   {
    "duration": 7,
    "start_time": "2022-06-02T08:35:51.745Z"
   },
   {
    "duration": 254,
    "start_time": "2022-06-02T08:35:51.754Z"
   },
   {
    "duration": 6,
    "start_time": "2022-06-02T08:35:52.009Z"
   },
   {
    "duration": 5,
    "start_time": "2022-06-02T08:35:52.016Z"
   },
   {
    "duration": 1167,
    "start_time": "2022-06-02T08:35:52.023Z"
   },
   {
    "duration": 7,
    "start_time": "2022-06-02T08:35:53.194Z"
   },
   {
    "duration": 8,
    "start_time": "2022-06-02T08:35:53.203Z"
   },
   {
    "duration": 8,
    "start_time": "2022-06-02T08:35:53.213Z"
   },
   {
    "duration": 10,
    "start_time": "2022-06-02T08:35:53.223Z"
   },
   {
    "duration": 159,
    "start_time": "2022-06-02T08:35:53.235Z"
   },
   {
    "duration": 10,
    "start_time": "2022-06-02T08:35:53.396Z"
   },
   {
    "duration": 15,
    "start_time": "2022-06-02T08:35:53.407Z"
   },
   {
    "duration": 204,
    "start_time": "2022-06-02T08:35:53.423Z"
   },
   {
    "duration": 12,
    "start_time": "2022-06-02T08:35:53.628Z"
   },
   {
    "duration": 204,
    "start_time": "2022-06-02T08:35:53.642Z"
   },
   {
    "duration": 5,
    "start_time": "2022-06-02T08:35:53.848Z"
   },
   {
    "duration": 388,
    "start_time": "2022-06-02T08:35:53.854Z"
   },
   {
    "duration": 602,
    "start_time": "2022-06-02T08:35:54.243Z"
   },
   {
    "duration": 4,
    "start_time": "2022-06-02T08:35:54.847Z"
   },
   {
    "duration": 5,
    "start_time": "2022-06-02T08:35:54.853Z"
   },
   {
    "duration": 8,
    "start_time": "2022-06-02T08:35:54.859Z"
   },
   {
    "duration": 159,
    "start_time": "2022-06-02T08:35:54.868Z"
   },
   {
    "duration": 16,
    "start_time": "2022-06-02T08:35:55.028Z"
   },
   {
    "duration": 14,
    "start_time": "2022-06-02T08:35:55.046Z"
   },
   {
    "duration": 186,
    "start_time": "2022-06-02T08:35:55.062Z"
   },
   {
    "duration": 9,
    "start_time": "2022-06-02T08:35:55.250Z"
   },
   {
    "duration": 6,
    "start_time": "2022-06-02T08:35:55.261Z"
   },
   {
    "duration": 7,
    "start_time": "2022-06-02T08:35:55.269Z"
   },
   {
    "duration": 22,
    "start_time": "2022-06-02T08:35:55.278Z"
   },
   {
    "duration": 15,
    "start_time": "2022-06-02T08:35:55.302Z"
   },
   {
    "duration": 11,
    "start_time": "2022-06-02T08:35:55.319Z"
   },
   {
    "duration": 444,
    "start_time": "2022-06-02T08:35:55.331Z"
   },
   {
    "duration": 5,
    "start_time": "2022-06-02T08:35:55.776Z"
   },
   {
    "duration": 1389,
    "start_time": "2022-06-02T08:35:55.782Z"
   },
   {
    "duration": 17,
    "start_time": "2022-06-02T08:35:57.173Z"
   },
   {
    "duration": 1512,
    "start_time": "2022-06-02T08:35:57.200Z"
   },
   {
    "duration": 442,
    "start_time": "2022-06-02T08:36:00.822Z"
   },
   {
    "duration": 6,
    "start_time": "2022-06-02T08:36:04.174Z"
   },
   {
    "duration": 45,
    "start_time": "2022-06-02T08:36:07.640Z"
   },
   {
    "duration": 5,
    "start_time": "2022-06-02T08:36:52.185Z"
   },
   {
    "duration": 643,
    "start_time": "2022-06-02T08:36:52.192Z"
   },
   {
    "duration": 41,
    "start_time": "2022-06-02T08:36:52.837Z"
   },
   {
    "duration": 64,
    "start_time": "2022-06-02T08:36:52.880Z"
   },
   {
    "duration": 4,
    "start_time": "2022-06-02T08:36:52.946Z"
   },
   {
    "duration": 9,
    "start_time": "2022-06-02T08:36:52.952Z"
   },
   {
    "duration": 352,
    "start_time": "2022-06-02T08:36:52.962Z"
   },
   {
    "duration": 5,
    "start_time": "2022-06-02T08:36:53.315Z"
   },
   {
    "duration": 40,
    "start_time": "2022-06-02T08:36:53.322Z"
   },
   {
    "duration": 6,
    "start_time": "2022-06-02T08:36:53.364Z"
   },
   {
    "duration": 28,
    "start_time": "2022-06-02T08:36:53.373Z"
   },
   {
    "duration": 7,
    "start_time": "2022-06-02T08:36:53.403Z"
   },
   {
    "duration": 17,
    "start_time": "2022-06-02T08:36:53.412Z"
   },
   {
    "duration": 8,
    "start_time": "2022-06-02T08:36:53.431Z"
   },
   {
    "duration": 12,
    "start_time": "2022-06-02T08:36:53.441Z"
   },
   {
    "duration": 14,
    "start_time": "2022-06-02T08:36:53.454Z"
   },
   {
    "duration": 136,
    "start_time": "2022-06-02T08:36:53.470Z"
   },
   {
    "duration": 150,
    "start_time": "2022-06-02T08:36:53.607Z"
   },
   {
    "duration": 4,
    "start_time": "2022-06-02T08:36:53.759Z"
   },
   {
    "duration": 21,
    "start_time": "2022-06-02T08:36:53.765Z"
   },
   {
    "duration": 14,
    "start_time": "2022-06-02T08:36:53.787Z"
   },
   {
    "duration": 15,
    "start_time": "2022-06-02T08:36:53.803Z"
   },
   {
    "duration": 552,
    "start_time": "2022-06-02T08:36:53.820Z"
   },
   {
    "duration": 8,
    "start_time": "2022-06-02T08:36:54.374Z"
   },
   {
    "duration": 226,
    "start_time": "2022-06-02T08:36:54.384Z"
   },
   {
    "duration": 7,
    "start_time": "2022-06-02T08:36:54.612Z"
   },
   {
    "duration": 9,
    "start_time": "2022-06-02T08:36:54.621Z"
   },
   {
    "duration": 1170,
    "start_time": "2022-06-02T08:36:54.631Z"
   },
   {
    "duration": 3,
    "start_time": "2022-06-02T08:36:55.807Z"
   },
   {
    "duration": 8,
    "start_time": "2022-06-02T08:36:55.812Z"
   },
   {
    "duration": 8,
    "start_time": "2022-06-02T08:36:55.822Z"
   },
   {
    "duration": 11,
    "start_time": "2022-06-02T08:36:55.831Z"
   },
   {
    "duration": 160,
    "start_time": "2022-06-02T08:36:55.843Z"
   },
   {
    "duration": 9,
    "start_time": "2022-06-02T08:36:56.005Z"
   },
   {
    "duration": 16,
    "start_time": "2022-06-02T08:36:56.015Z"
   },
   {
    "duration": 210,
    "start_time": "2022-06-02T08:36:56.032Z"
   },
   {
    "duration": 12,
    "start_time": "2022-06-02T08:36:56.244Z"
   },
   {
    "duration": 217,
    "start_time": "2022-06-02T08:36:56.258Z"
   },
   {
    "duration": 5,
    "start_time": "2022-06-02T08:36:56.477Z"
   },
   {
    "duration": 377,
    "start_time": "2022-06-02T08:36:56.484Z"
   },
   {
    "duration": 385,
    "start_time": "2022-06-02T08:36:56.863Z"
   },
   {
    "duration": 5,
    "start_time": "2022-06-02T08:36:57.250Z"
   },
   {
    "duration": 11,
    "start_time": "2022-06-02T08:36:57.256Z"
   },
   {
    "duration": 9,
    "start_time": "2022-06-02T08:36:57.268Z"
   },
   {
    "duration": 161,
    "start_time": "2022-06-02T08:36:57.279Z"
   },
   {
    "duration": 10,
    "start_time": "2022-06-02T08:36:57.442Z"
   },
   {
    "duration": 17,
    "start_time": "2022-06-02T08:36:57.453Z"
   },
   {
    "duration": 188,
    "start_time": "2022-06-02T08:36:57.472Z"
   },
   {
    "duration": 7,
    "start_time": "2022-06-02T08:36:57.661Z"
   },
   {
    "duration": 12,
    "start_time": "2022-06-02T08:36:57.669Z"
   },
   {
    "duration": 9,
    "start_time": "2022-06-02T08:36:57.683Z"
   },
   {
    "duration": 7,
    "start_time": "2022-06-02T08:36:57.694Z"
   },
   {
    "duration": 11,
    "start_time": "2022-06-02T08:36:57.703Z"
   },
   {
    "duration": 11,
    "start_time": "2022-06-02T08:36:57.716Z"
   },
   {
    "duration": 437,
    "start_time": "2022-06-02T08:36:57.729Z"
   },
   {
    "duration": 5,
    "start_time": "2022-06-02T08:36:58.167Z"
   },
   {
    "duration": 1457,
    "start_time": "2022-06-02T08:36:58.174Z"
   },
   {
    "duration": 18,
    "start_time": "2022-06-02T08:36:59.632Z"
   },
   {
    "duration": 1786,
    "start_time": "2022-06-02T08:36:59.652Z"
   },
   {
    "duration": 23,
    "start_time": "2022-06-02T08:38:01.388Z"
   },
   {
    "duration": 4,
    "start_time": "2022-06-02T08:38:04.318Z"
   },
   {
    "duration": 33,
    "start_time": "2022-06-02T08:38:28.118Z"
   },
   {
    "duration": 9,
    "start_time": "2022-06-02T08:38:38.454Z"
   },
   {
    "duration": 32,
    "start_time": "2022-06-02T08:38:46.022Z"
   },
   {
    "duration": 17,
    "start_time": "2022-06-02T08:45:32.213Z"
   },
   {
    "duration": 14,
    "start_time": "2022-06-02T08:45:55.294Z"
   },
   {
    "duration": 13,
    "start_time": "2022-06-02T08:48:25.126Z"
   },
   {
    "duration": 12,
    "start_time": "2022-06-02T08:48:28.196Z"
   },
   {
    "duration": 4,
    "start_time": "2022-06-02T08:49:31.430Z"
   },
   {
    "duration": 45,
    "start_time": "2022-06-02T08:49:35.355Z"
   },
   {
    "duration": 45,
    "start_time": "2022-06-02T08:51:15.836Z"
   },
   {
    "duration": 15,
    "start_time": "2022-06-02T08:52:04.184Z"
   },
   {
    "duration": 5,
    "start_time": "2022-06-02T08:52:13.844Z"
   },
   {
    "duration": 670,
    "start_time": "2022-06-02T08:52:18.396Z"
   },
   {
    "duration": 1128,
    "start_time": "2022-06-02T08:52:21.763Z"
   },
   {
    "duration": 398,
    "start_time": "2022-06-02T08:55:12.404Z"
   },
   {
    "duration": 30,
    "start_time": "2022-06-02T08:55:16.805Z"
   },
   {
    "duration": 9,
    "start_time": "2022-06-02T08:55:38.792Z"
   },
   {
    "duration": 5,
    "start_time": "2022-06-02T08:55:43.196Z"
   },
   {
    "duration": 4,
    "start_time": "2022-06-02T08:55:56.888Z"
   },
   {
    "duration": 12,
    "start_time": "2022-06-02T08:57:27.970Z"
   },
   {
    "duration": 15,
    "start_time": "2022-06-02T08:57:48.980Z"
   },
   {
    "duration": 34,
    "start_time": "2022-06-02T08:57:55.106Z"
   },
   {
    "duration": 33,
    "start_time": "2022-06-02T08:58:03.157Z"
   },
   {
    "duration": 5,
    "start_time": "2022-06-02T08:58:17.671Z"
   },
   {
    "duration": 732,
    "start_time": "2022-06-02T08:58:17.678Z"
   },
   {
    "duration": 41,
    "start_time": "2022-06-02T08:58:18.412Z"
   },
   {
    "duration": 81,
    "start_time": "2022-06-02T08:58:18.456Z"
   },
   {
    "duration": 4,
    "start_time": "2022-06-02T08:58:18.539Z"
   },
   {
    "duration": 16,
    "start_time": "2022-06-02T08:58:18.544Z"
   },
   {
    "duration": 374,
    "start_time": "2022-06-02T08:58:18.561Z"
   },
   {
    "duration": 5,
    "start_time": "2022-06-02T08:58:18.936Z"
   },
   {
    "duration": 51,
    "start_time": "2022-06-02T08:58:18.943Z"
   },
   {
    "duration": 7,
    "start_time": "2022-06-02T08:58:18.996Z"
   },
   {
    "duration": 29,
    "start_time": "2022-06-02T08:58:19.004Z"
   },
   {
    "duration": 20,
    "start_time": "2022-06-02T08:58:19.035Z"
   },
   {
    "duration": 20,
    "start_time": "2022-06-02T08:58:19.057Z"
   },
   {
    "duration": 3,
    "start_time": "2022-06-02T08:58:19.079Z"
   },
   {
    "duration": 12,
    "start_time": "2022-06-02T08:58:19.084Z"
   },
   {
    "duration": 10,
    "start_time": "2022-06-02T08:58:19.099Z"
   },
   {
    "duration": 115,
    "start_time": "2022-06-02T08:58:19.111Z"
   },
   {
    "duration": 150,
    "start_time": "2022-06-02T08:58:19.227Z"
   },
   {
    "duration": 5,
    "start_time": "2022-06-02T08:58:19.379Z"
   },
   {
    "duration": 24,
    "start_time": "2022-06-02T08:58:19.385Z"
   },
   {
    "duration": 11,
    "start_time": "2022-06-02T08:58:19.411Z"
   },
   {
    "duration": 9,
    "start_time": "2022-06-02T08:58:19.423Z"
   },
   {
    "duration": 297,
    "start_time": "2022-06-02T08:58:19.434Z"
   },
   {
    "duration": 7,
    "start_time": "2022-06-02T08:58:19.735Z"
   },
   {
    "duration": 209,
    "start_time": "2022-06-02T08:58:19.743Z"
   },
   {
    "duration": 6,
    "start_time": "2022-06-02T08:58:19.953Z"
   },
   {
    "duration": 8,
    "start_time": "2022-06-02T08:58:19.960Z"
   },
   {
    "duration": 1149,
    "start_time": "2022-06-02T08:58:19.969Z"
   },
   {
    "duration": 4,
    "start_time": "2022-06-02T08:58:21.120Z"
   },
   {
    "duration": 21,
    "start_time": "2022-06-02T08:58:21.125Z"
   },
   {
    "duration": 8,
    "start_time": "2022-06-02T08:58:21.148Z"
   },
   {
    "duration": 13,
    "start_time": "2022-06-02T08:58:21.158Z"
   },
   {
    "duration": 160,
    "start_time": "2022-06-02T08:58:21.172Z"
   },
   {
    "duration": 11,
    "start_time": "2022-06-02T08:58:21.333Z"
   },
   {
    "duration": 41,
    "start_time": "2022-06-02T08:58:21.345Z"
   },
   {
    "duration": 203,
    "start_time": "2022-06-02T08:58:21.387Z"
   },
   {
    "duration": 16,
    "start_time": "2022-06-02T08:58:21.592Z"
   },
   {
    "duration": 213,
    "start_time": "2022-06-02T08:58:21.610Z"
   },
   {
    "duration": 7,
    "start_time": "2022-06-02T08:58:21.824Z"
   },
   {
    "duration": 428,
    "start_time": "2022-06-02T08:58:21.832Z"
   },
   {
    "duration": 408,
    "start_time": "2022-06-02T08:58:22.262Z"
   },
   {
    "duration": 5,
    "start_time": "2022-06-02T08:58:22.673Z"
   },
   {
    "duration": 20,
    "start_time": "2022-06-02T08:58:22.681Z"
   },
   {
    "duration": 9,
    "start_time": "2022-06-02T08:58:22.703Z"
   },
   {
    "duration": 177,
    "start_time": "2022-06-02T08:58:22.715Z"
   },
   {
    "duration": 10,
    "start_time": "2022-06-02T08:58:22.894Z"
   },
   {
    "duration": 18,
    "start_time": "2022-06-02T08:58:22.906Z"
   },
   {
    "duration": 191,
    "start_time": "2022-06-02T08:58:22.926Z"
   },
   {
    "duration": 7,
    "start_time": "2022-06-02T08:58:23.119Z"
   },
   {
    "duration": 9,
    "start_time": "2022-06-02T08:58:23.127Z"
   },
   {
    "duration": 10,
    "start_time": "2022-06-02T08:58:23.137Z"
   },
   {
    "duration": 8,
    "start_time": "2022-06-02T08:58:23.149Z"
   },
   {
    "duration": 10,
    "start_time": "2022-06-02T08:58:23.159Z"
   },
   {
    "duration": 14,
    "start_time": "2022-06-02T08:58:23.171Z"
   },
   {
    "duration": 445,
    "start_time": "2022-06-02T08:58:23.187Z"
   },
   {
    "duration": 5,
    "start_time": "2022-06-02T08:58:23.634Z"
   },
   {
    "duration": 1456,
    "start_time": "2022-06-02T08:58:23.641Z"
   },
   {
    "duration": 18,
    "start_time": "2022-06-02T08:58:25.099Z"
   },
   {
    "duration": 1800,
    "start_time": "2022-06-02T08:58:25.118Z"
   },
   {
    "duration": 29,
    "start_time": "2022-06-02T08:58:26.920Z"
   },
   {
    "duration": 32,
    "start_time": "2022-06-02T08:58:26.950Z"
   },
   {
    "duration": 4,
    "start_time": "2022-06-02T08:59:25.608Z"
   },
   {
    "duration": 16,
    "start_time": "2022-06-02T09:00:17.305Z"
   },
   {
    "duration": 4,
    "start_time": "2022-06-02T09:00:24.133Z"
   },
   {
    "duration": 4,
    "start_time": "2022-06-02T09:01:29.022Z"
   },
   {
    "duration": 5,
    "start_time": "2022-06-02T09:01:38.002Z"
   },
   {
    "duration": 727,
    "start_time": "2022-06-02T09:01:38.009Z"
   },
   {
    "duration": 45,
    "start_time": "2022-06-02T09:01:38.738Z"
   },
   {
    "duration": 65,
    "start_time": "2022-06-02T09:01:38.786Z"
   },
   {
    "duration": 4,
    "start_time": "2022-06-02T09:01:38.853Z"
   },
   {
    "duration": 12,
    "start_time": "2022-06-02T09:01:38.859Z"
   },
   {
    "duration": 348,
    "start_time": "2022-06-02T09:01:38.873Z"
   },
   {
    "duration": 5,
    "start_time": "2022-06-02T09:01:39.223Z"
   },
   {
    "duration": 41,
    "start_time": "2022-06-02T09:01:39.230Z"
   },
   {
    "duration": 11,
    "start_time": "2022-06-02T09:01:39.272Z"
   },
   {
    "duration": 20,
    "start_time": "2022-06-02T09:01:39.284Z"
   },
   {
    "duration": 10,
    "start_time": "2022-06-02T09:01:39.306Z"
   },
   {
    "duration": 18,
    "start_time": "2022-06-02T09:01:39.317Z"
   },
   {
    "duration": 4,
    "start_time": "2022-06-02T09:01:39.336Z"
   },
   {
    "duration": 18,
    "start_time": "2022-06-02T09:01:39.341Z"
   },
   {
    "duration": 12,
    "start_time": "2022-06-02T09:01:39.360Z"
   },
   {
    "duration": 108,
    "start_time": "2022-06-02T09:01:39.399Z"
   },
   {
    "duration": 149,
    "start_time": "2022-06-02T09:01:39.508Z"
   },
   {
    "duration": 5,
    "start_time": "2022-06-02T09:01:39.658Z"
   },
   {
    "duration": 21,
    "start_time": "2022-06-02T09:01:39.664Z"
   },
   {
    "duration": 7,
    "start_time": "2022-06-02T09:01:39.699Z"
   },
   {
    "duration": 14,
    "start_time": "2022-06-02T09:01:39.707Z"
   },
   {
    "duration": 299,
    "start_time": "2022-06-02T09:01:39.723Z"
   },
   {
    "duration": 7,
    "start_time": "2022-06-02T09:01:40.027Z"
   },
   {
    "duration": 223,
    "start_time": "2022-06-02T09:01:40.035Z"
   },
   {
    "duration": 6,
    "start_time": "2022-06-02T09:01:40.260Z"
   },
   {
    "duration": 10,
    "start_time": "2022-06-02T09:01:40.268Z"
   },
   {
    "duration": 1186,
    "start_time": "2022-06-02T09:01:40.280Z"
   },
   {
    "duration": 3,
    "start_time": "2022-06-02T09:01:41.468Z"
   },
   {
    "duration": 11,
    "start_time": "2022-06-02T09:01:41.473Z"
   },
   {
    "duration": 15,
    "start_time": "2022-06-02T09:01:41.485Z"
   },
   {
    "duration": 3,
    "start_time": "2022-06-02T09:01:41.502Z"
   },
   {
    "duration": 158,
    "start_time": "2022-06-02T09:01:41.507Z"
   },
   {
    "duration": 10,
    "start_time": "2022-06-02T09:01:41.667Z"
   },
   {
    "duration": 25,
    "start_time": "2022-06-02T09:01:41.679Z"
   },
   {
    "duration": 235,
    "start_time": "2022-06-02T09:01:41.706Z"
   },
   {
    "duration": 12,
    "start_time": "2022-06-02T09:01:41.943Z"
   },
   {
    "duration": 201,
    "start_time": "2022-06-02T09:01:41.957Z"
   },
   {
    "duration": 6,
    "start_time": "2022-06-02T09:01:42.160Z"
   },
   {
    "duration": 397,
    "start_time": "2022-06-02T09:01:42.168Z"
   },
   {
    "duration": 381,
    "start_time": "2022-06-02T09:01:42.567Z"
   },
   {
    "duration": 5,
    "start_time": "2022-06-02T09:01:42.950Z"
   },
   {
    "duration": 7,
    "start_time": "2022-06-02T09:01:42.957Z"
   },
   {
    "duration": 6,
    "start_time": "2022-06-02T09:01:42.966Z"
   },
   {
    "duration": 171,
    "start_time": "2022-06-02T09:01:42.973Z"
   },
   {
    "duration": 11,
    "start_time": "2022-06-02T09:01:43.146Z"
   },
   {
    "duration": 12,
    "start_time": "2022-06-02T09:01:43.159Z"
   },
   {
    "duration": 200,
    "start_time": "2022-06-02T09:01:43.173Z"
   },
   {
    "duration": 7,
    "start_time": "2022-06-02T09:01:43.375Z"
   },
   {
    "duration": 18,
    "start_time": "2022-06-02T09:01:43.384Z"
   },
   {
    "duration": 6,
    "start_time": "2022-06-02T09:01:43.404Z"
   },
   {
    "duration": 6,
    "start_time": "2022-06-02T09:01:43.412Z"
   },
   {
    "duration": 9,
    "start_time": "2022-06-02T09:01:43.420Z"
   },
   {
    "duration": 11,
    "start_time": "2022-06-02T09:01:43.430Z"
   },
   {
    "duration": 742,
    "start_time": "2022-06-02T09:01:43.443Z"
   },
   {
    "duration": 5,
    "start_time": "2022-06-02T09:01:44.186Z"
   },
   {
    "duration": 1451,
    "start_time": "2022-06-02T09:01:44.200Z"
   },
   {
    "duration": 18,
    "start_time": "2022-06-02T09:01:45.652Z"
   },
   {
    "duration": 1574,
    "start_time": "2022-06-02T09:01:45.671Z"
   },
   {
    "duration": 26,
    "start_time": "2022-06-02T09:01:47.246Z"
   },
   {
    "duration": 4,
    "start_time": "2022-06-02T09:01:55.618Z"
   },
   {
    "duration": 31,
    "start_time": "2022-06-02T09:02:03.692Z"
   },
   {
    "duration": 4,
    "start_time": "2022-06-02T09:02:14.226Z"
   },
   {
    "duration": 4,
    "start_time": "2022-06-02T09:02:29.523Z"
   },
   {
    "duration": 18,
    "start_time": "2022-06-02T09:02:31.966Z"
   },
   {
    "duration": 3,
    "start_time": "2022-06-02T09:02:33.323Z"
   },
   {
    "duration": 30,
    "start_time": "2022-06-02T09:03:17.846Z"
   },
   {
    "duration": 3,
    "start_time": "2022-06-02T09:03:29.874Z"
   },
   {
    "duration": 3,
    "start_time": "2022-06-02T09:03:30.301Z"
   },
   {
    "duration": 11,
    "start_time": "2022-06-02T09:08:07.271Z"
   },
   {
    "duration": 1347,
    "start_time": "2022-06-02T09:10:32.827Z"
   },
   {
    "duration": 734,
    "start_time": "2022-06-02T09:10:34.176Z"
   },
   {
    "duration": 42,
    "start_time": "2022-06-02T09:10:34.911Z"
   },
   {
    "duration": 74,
    "start_time": "2022-06-02T09:10:34.955Z"
   },
   {
    "duration": 4,
    "start_time": "2022-06-02T09:10:35.031Z"
   },
   {
    "duration": 9,
    "start_time": "2022-06-02T09:10:35.037Z"
   },
   {
    "duration": 372,
    "start_time": "2022-06-02T09:10:35.052Z"
   },
   {
    "duration": 5,
    "start_time": "2022-06-02T09:10:35.426Z"
   },
   {
    "duration": 53,
    "start_time": "2022-06-02T09:10:35.433Z"
   },
   {
    "duration": 18,
    "start_time": "2022-06-02T09:10:35.487Z"
   },
   {
    "duration": 11,
    "start_time": "2022-06-02T09:10:35.507Z"
   },
   {
    "duration": 15,
    "start_time": "2022-06-02T09:10:35.520Z"
   },
   {
    "duration": 14,
    "start_time": "2022-06-02T09:10:35.536Z"
   },
   {
    "duration": 5,
    "start_time": "2022-06-02T09:10:35.553Z"
   },
   {
    "duration": 18,
    "start_time": "2022-06-02T09:10:35.560Z"
   },
   {
    "duration": 28,
    "start_time": "2022-06-02T09:10:35.580Z"
   },
   {
    "duration": 119,
    "start_time": "2022-06-02T09:10:35.610Z"
   },
   {
    "duration": 157,
    "start_time": "2022-06-02T09:10:35.730Z"
   },
   {
    "duration": 10,
    "start_time": "2022-06-02T09:10:35.889Z"
   },
   {
    "duration": 13,
    "start_time": "2022-06-02T09:10:35.901Z"
   },
   {
    "duration": 7,
    "start_time": "2022-06-02T09:10:35.915Z"
   },
   {
    "duration": 29,
    "start_time": "2022-06-02T09:10:35.924Z"
   },
   {
    "duration": 295,
    "start_time": "2022-06-02T09:10:35.954Z"
   },
   {
    "duration": 8,
    "start_time": "2022-06-02T09:10:36.250Z"
   },
   {
    "duration": 208,
    "start_time": "2022-06-02T09:10:36.259Z"
   },
   {
    "duration": 6,
    "start_time": "2022-06-02T09:10:36.468Z"
   },
   {
    "duration": 10,
    "start_time": "2022-06-02T09:10:36.475Z"
   },
   {
    "duration": 1113,
    "start_time": "2022-06-02T09:10:36.487Z"
   },
   {
    "duration": 4,
    "start_time": "2022-06-02T09:10:37.601Z"
   },
   {
    "duration": 8,
    "start_time": "2022-06-02T09:10:37.607Z"
   },
   {
    "duration": 11,
    "start_time": "2022-06-02T09:10:37.617Z"
   },
   {
    "duration": 18,
    "start_time": "2022-06-02T09:10:37.630Z"
   },
   {
    "duration": 181,
    "start_time": "2022-06-02T09:10:37.649Z"
   },
   {
    "duration": 10,
    "start_time": "2022-06-02T09:10:37.831Z"
   },
   {
    "duration": 17,
    "start_time": "2022-06-02T09:10:37.843Z"
   },
   {
    "duration": 212,
    "start_time": "2022-06-02T09:10:37.862Z"
   },
   {
    "duration": 13,
    "start_time": "2022-06-02T09:10:38.075Z"
   },
   {
    "duration": 202,
    "start_time": "2022-06-02T09:10:38.099Z"
   },
   {
    "duration": 6,
    "start_time": "2022-06-02T09:10:38.303Z"
   },
   {
    "duration": 376,
    "start_time": "2022-06-02T09:10:38.310Z"
   },
   {
    "duration": 489,
    "start_time": "2022-06-02T09:10:38.690Z"
   },
   {
    "duration": 5,
    "start_time": "2022-06-02T09:10:39.181Z"
   },
   {
    "duration": 3,
    "start_time": "2022-06-02T09:10:39.199Z"
   },
   {
    "duration": 6,
    "start_time": "2022-06-02T09:10:39.204Z"
   },
   {
    "duration": 173,
    "start_time": "2022-06-02T09:10:39.211Z"
   },
   {
    "duration": 14,
    "start_time": "2022-06-02T09:10:39.386Z"
   },
   {
    "duration": 13,
    "start_time": "2022-06-02T09:10:39.402Z"
   },
   {
    "duration": 192,
    "start_time": "2022-06-02T09:10:39.416Z"
   },
   {
    "duration": 8,
    "start_time": "2022-06-02T09:10:39.609Z"
   },
   {
    "duration": 9,
    "start_time": "2022-06-02T09:10:39.618Z"
   },
   {
    "duration": 7,
    "start_time": "2022-06-02T09:10:39.628Z"
   },
   {
    "duration": 13,
    "start_time": "2022-06-02T09:10:39.636Z"
   },
   {
    "duration": 15,
    "start_time": "2022-06-02T09:10:39.651Z"
   },
   {
    "duration": 13,
    "start_time": "2022-06-02T09:10:39.668Z"
   },
   {
    "duration": 436,
    "start_time": "2022-06-02T09:10:39.683Z"
   },
   {
    "duration": 4,
    "start_time": "2022-06-02T09:10:40.121Z"
   },
   {
    "duration": 1470,
    "start_time": "2022-06-02T09:10:40.127Z"
   },
   {
    "duration": 22,
    "start_time": "2022-06-02T09:10:41.599Z"
   },
   {
    "duration": 1728,
    "start_time": "2022-06-02T09:10:41.623Z"
   },
   {
    "duration": 45,
    "start_time": "2022-06-02T09:10:43.354Z"
   },
   {
    "duration": 5,
    "start_time": "2022-06-02T09:10:43.401Z"
   },
   {
    "duration": 29,
    "start_time": "2022-06-02T09:10:43.407Z"
   },
   {
    "duration": 5,
    "start_time": "2022-06-02T09:10:43.438Z"
   },
   {
    "duration": 10,
    "start_time": "2022-06-02T09:10:43.445Z"
   },
   {
    "duration": 9,
    "start_time": "2022-06-02T09:10:43.457Z"
   },
   {
    "duration": 11,
    "start_time": "2022-06-02T09:10:43.468Z"
   },
   {
    "duration": 10507,
    "start_time": "2022-06-02T09:10:43.481Z"
   },
   {
    "duration": 77946,
    "start_time": "2022-06-02T09:10:53.990Z"
   },
   {
    "duration": 110931,
    "start_time": "2022-06-02T09:12:11.938Z"
   },
   {
    "duration": 119083,
    "start_time": "2022-06-02T09:14:02.870Z"
   },
   {
    "duration": 946,
    "start_time": "2022-06-02T09:16:01.954Z"
   },
   {
    "duration": 811,
    "start_time": "2022-06-02T09:16:02.901Z"
   },
   {
    "duration": 281,
    "start_time": "2022-06-02T09:16:03.713Z"
   },
   {
    "duration": 0,
    "start_time": "2022-06-02T09:16:03.999Z"
   },
   {
    "duration": 0,
    "start_time": "2022-06-02T09:16:04.001Z"
   },
   {
    "duration": 0,
    "start_time": "2022-06-02T09:16:04.002Z"
   },
   {
    "duration": 0,
    "start_time": "2022-06-02T09:16:04.004Z"
   },
   {
    "duration": 0,
    "start_time": "2022-06-02T09:16:04.005Z"
   },
   {
    "duration": 0,
    "start_time": "2022-06-02T09:16:04.007Z"
   },
   {
    "duration": 0,
    "start_time": "2022-06-02T09:16:04.008Z"
   },
   {
    "duration": 1291,
    "start_time": "2022-06-02T09:18:40.890Z"
   },
   {
    "duration": 717,
    "start_time": "2022-06-02T09:18:42.183Z"
   },
   {
    "duration": 40,
    "start_time": "2022-06-02T09:18:42.901Z"
   },
   {
    "duration": 65,
    "start_time": "2022-06-02T09:18:42.943Z"
   },
   {
    "duration": 4,
    "start_time": "2022-06-02T09:18:43.010Z"
   },
   {
    "duration": 10,
    "start_time": "2022-06-02T09:18:43.015Z"
   },
   {
    "duration": 332,
    "start_time": "2022-06-02T09:18:43.026Z"
   },
   {
    "duration": 5,
    "start_time": "2022-06-02T09:18:43.360Z"
   },
   {
    "duration": 55,
    "start_time": "2022-06-02T09:18:43.367Z"
   },
   {
    "duration": 8,
    "start_time": "2022-06-02T09:18:43.424Z"
   },
   {
    "duration": 27,
    "start_time": "2022-06-02T09:18:43.434Z"
   },
   {
    "duration": 18,
    "start_time": "2022-06-02T09:18:43.463Z"
   },
   {
    "duration": 38,
    "start_time": "2022-06-02T09:18:43.482Z"
   },
   {
    "duration": 17,
    "start_time": "2022-06-02T09:18:43.522Z"
   },
   {
    "duration": 23,
    "start_time": "2022-06-02T09:18:43.540Z"
   },
   {
    "duration": 28,
    "start_time": "2022-06-02T09:18:43.565Z"
   },
   {
    "duration": 95,
    "start_time": "2022-06-02T09:18:43.595Z"
   },
   {
    "duration": 126,
    "start_time": "2022-06-02T09:18:43.691Z"
   },
   {
    "duration": 4,
    "start_time": "2022-06-02T09:18:43.819Z"
   },
   {
    "duration": 19,
    "start_time": "2022-06-02T09:18:43.824Z"
   },
   {
    "duration": 5,
    "start_time": "2022-06-02T09:18:43.844Z"
   },
   {
    "duration": 6,
    "start_time": "2022-06-02T09:18:43.850Z"
   },
   {
    "duration": 265,
    "start_time": "2022-06-02T09:18:43.857Z"
   },
   {
    "duration": 6,
    "start_time": "2022-06-02T09:18:44.123Z"
   },
   {
    "duration": 179,
    "start_time": "2022-06-02T09:18:44.131Z"
   },
   {
    "duration": 5,
    "start_time": "2022-06-02T09:18:44.311Z"
   },
   {
    "duration": 6,
    "start_time": "2022-06-02T09:18:44.318Z"
   },
   {
    "duration": 1044,
    "start_time": "2022-06-02T09:18:44.327Z"
   },
   {
    "duration": 4,
    "start_time": "2022-06-02T09:18:45.372Z"
   },
   {
    "duration": 9,
    "start_time": "2022-06-02T09:18:45.378Z"
   },
   {
    "duration": 10,
    "start_time": "2022-06-02T09:18:45.389Z"
   },
   {
    "duration": 12,
    "start_time": "2022-06-02T09:18:45.400Z"
   },
   {
    "duration": 155,
    "start_time": "2022-06-02T09:18:45.413Z"
   },
   {
    "duration": 9,
    "start_time": "2022-06-02T09:18:45.570Z"
   },
   {
    "duration": 28,
    "start_time": "2022-06-02T09:18:45.581Z"
   },
   {
    "duration": 177,
    "start_time": "2022-06-02T09:18:45.611Z"
   },
   {
    "duration": 20,
    "start_time": "2022-06-02T09:18:45.790Z"
   },
   {
    "duration": 187,
    "start_time": "2022-06-02T09:18:45.812Z"
   },
   {
    "duration": 6,
    "start_time": "2022-06-02T09:18:46.001Z"
   },
   {
    "duration": 352,
    "start_time": "2022-06-02T09:18:46.009Z"
   },
   {
    "duration": 416,
    "start_time": "2022-06-02T09:18:46.362Z"
   },
   {
    "duration": 6,
    "start_time": "2022-06-02T09:18:46.780Z"
   },
   {
    "duration": 4,
    "start_time": "2022-06-02T09:18:46.799Z"
   },
   {
    "duration": 4,
    "start_time": "2022-06-02T09:18:46.805Z"
   },
   {
    "duration": 152,
    "start_time": "2022-06-02T09:18:46.810Z"
   },
   {
    "duration": 9,
    "start_time": "2022-06-02T09:18:46.963Z"
   },
   {
    "duration": 13,
    "start_time": "2022-06-02T09:18:46.973Z"
   },
   {
    "duration": 165,
    "start_time": "2022-06-02T09:18:46.999Z"
   },
   {
    "duration": 6,
    "start_time": "2022-06-02T09:18:47.166Z"
   },
   {
    "duration": 14,
    "start_time": "2022-06-02T09:18:47.173Z"
   },
   {
    "duration": 11,
    "start_time": "2022-06-02T09:18:47.188Z"
   },
   {
    "duration": 5,
    "start_time": "2022-06-02T09:18:47.200Z"
   },
   {
    "duration": 8,
    "start_time": "2022-06-02T09:18:47.206Z"
   },
   {
    "duration": 9,
    "start_time": "2022-06-02T09:18:47.216Z"
   },
   {
    "duration": 390,
    "start_time": "2022-06-02T09:18:47.226Z"
   },
   {
    "duration": 4,
    "start_time": "2022-06-02T09:18:47.618Z"
   },
   {
    "duration": 1371,
    "start_time": "2022-06-02T09:18:47.623Z"
   },
   {
    "duration": 20,
    "start_time": "2022-06-02T09:18:48.995Z"
   },
   {
    "duration": 1502,
    "start_time": "2022-06-02T09:18:49.016Z"
   },
   {
    "duration": 30,
    "start_time": "2022-06-02T09:18:50.519Z"
   },
   {
    "duration": 3,
    "start_time": "2022-06-02T09:18:50.551Z"
   },
   {
    "duration": 37,
    "start_time": "2022-06-02T09:18:50.556Z"
   },
   {
    "duration": 21,
    "start_time": "2022-06-02T09:18:50.594Z"
   },
   {
    "duration": 12,
    "start_time": "2022-06-02T09:18:50.617Z"
   },
   {
    "duration": 7,
    "start_time": "2022-06-02T09:18:50.631Z"
   },
   {
    "duration": 15,
    "start_time": "2022-06-02T09:18:50.639Z"
   },
   {
    "duration": 32180,
    "start_time": "2022-06-02T09:18:50.655Z"
   },
   {
    "duration": 25164,
    "start_time": "2022-06-02T09:19:22.836Z"
   },
   {
    "duration": 106860,
    "start_time": "2022-06-02T09:19:48.001Z"
   },
   {
    "duration": 1237,
    "start_time": "2022-06-02T09:22:36.492Z"
   },
   {
    "duration": 674,
    "start_time": "2022-06-02T09:22:37.731Z"
   },
   {
    "duration": 41,
    "start_time": "2022-06-02T09:22:38.406Z"
   },
   {
    "duration": 64,
    "start_time": "2022-06-02T09:22:38.448Z"
   },
   {
    "duration": 4,
    "start_time": "2022-06-02T09:22:38.514Z"
   },
   {
    "duration": 7,
    "start_time": "2022-06-02T09:22:38.520Z"
   },
   {
    "duration": 349,
    "start_time": "2022-06-02T09:22:38.529Z"
   },
   {
    "duration": 4,
    "start_time": "2022-06-02T09:22:38.879Z"
   },
   {
    "duration": 53,
    "start_time": "2022-06-02T09:22:38.885Z"
   },
   {
    "duration": 10,
    "start_time": "2022-06-02T09:22:38.940Z"
   },
   {
    "duration": 12,
    "start_time": "2022-06-02T09:22:38.952Z"
   },
   {
    "duration": 9,
    "start_time": "2022-06-02T09:22:38.966Z"
   },
   {
    "duration": 29,
    "start_time": "2022-06-02T09:22:38.976Z"
   },
   {
    "duration": 4,
    "start_time": "2022-06-02T09:22:39.007Z"
   },
   {
    "duration": 12,
    "start_time": "2022-06-02T09:22:39.012Z"
   },
   {
    "duration": 12,
    "start_time": "2022-06-02T09:22:39.025Z"
   },
   {
    "duration": 118,
    "start_time": "2022-06-02T09:22:39.039Z"
   },
   {
    "duration": 132,
    "start_time": "2022-06-02T09:22:39.159Z"
   },
   {
    "duration": 4,
    "start_time": "2022-06-02T09:22:39.299Z"
   },
   {
    "duration": 15,
    "start_time": "2022-06-02T09:22:39.304Z"
   },
   {
    "duration": 6,
    "start_time": "2022-06-02T09:22:39.320Z"
   },
   {
    "duration": 7,
    "start_time": "2022-06-02T09:22:39.327Z"
   },
   {
    "duration": 255,
    "start_time": "2022-06-02T09:22:39.336Z"
   },
   {
    "duration": 7,
    "start_time": "2022-06-02T09:22:39.599Z"
   },
   {
    "duration": 186,
    "start_time": "2022-06-02T09:22:39.607Z"
   },
   {
    "duration": 5,
    "start_time": "2022-06-02T09:22:39.799Z"
   },
   {
    "duration": 7,
    "start_time": "2022-06-02T09:22:39.806Z"
   },
   {
    "duration": 1050,
    "start_time": "2022-06-02T09:22:39.815Z"
   },
   {
    "duration": 3,
    "start_time": "2022-06-02T09:22:40.867Z"
   },
   {
    "duration": 6,
    "start_time": "2022-06-02T09:22:40.872Z"
   },
   {
    "duration": 19,
    "start_time": "2022-06-02T09:22:40.880Z"
   },
   {
    "duration": 2,
    "start_time": "2022-06-02T09:22:40.901Z"
   },
   {
    "duration": 155,
    "start_time": "2022-06-02T09:22:40.904Z"
   },
   {
    "duration": 10,
    "start_time": "2022-06-02T09:22:41.060Z"
   },
   {
    "duration": 13,
    "start_time": "2022-06-02T09:22:41.072Z"
   },
   {
    "duration": 188,
    "start_time": "2022-06-02T09:22:41.087Z"
   },
   {
    "duration": 11,
    "start_time": "2022-06-02T09:22:41.277Z"
   },
   {
    "duration": 183,
    "start_time": "2022-06-02T09:22:41.289Z"
   },
   {
    "duration": 5,
    "start_time": "2022-06-02T09:22:41.474Z"
   },
   {
    "duration": 357,
    "start_time": "2022-06-02T09:22:41.481Z"
   },
   {
    "duration": 439,
    "start_time": "2022-06-02T09:22:41.842Z"
   },
   {
    "duration": 4,
    "start_time": "2022-06-02T09:22:42.283Z"
   },
   {
    "duration": 10,
    "start_time": "2022-06-02T09:22:42.289Z"
   },
   {
    "duration": 4,
    "start_time": "2022-06-02T09:22:42.301Z"
   },
   {
    "duration": 156,
    "start_time": "2022-06-02T09:22:42.307Z"
   },
   {
    "duration": 8,
    "start_time": "2022-06-02T09:22:42.464Z"
   },
   {
    "duration": 10,
    "start_time": "2022-06-02T09:22:42.474Z"
   },
   {
    "duration": 181,
    "start_time": "2022-06-02T09:22:42.486Z"
   },
   {
    "duration": 6,
    "start_time": "2022-06-02T09:22:42.669Z"
   },
   {
    "duration": 7,
    "start_time": "2022-06-02T09:22:42.677Z"
   },
   {
    "duration": 22,
    "start_time": "2022-06-02T09:22:42.685Z"
   },
   {
    "duration": 6,
    "start_time": "2022-06-02T09:22:42.709Z"
   },
   {
    "duration": 13,
    "start_time": "2022-06-02T09:22:42.717Z"
   },
   {
    "duration": 10,
    "start_time": "2022-06-02T09:22:42.732Z"
   },
   {
    "duration": 435,
    "start_time": "2022-06-02T09:22:42.744Z"
   },
   {
    "duration": 5,
    "start_time": "2022-06-02T09:22:43.180Z"
   },
   {
    "duration": 1389,
    "start_time": "2022-06-02T09:22:43.186Z"
   },
   {
    "duration": 24,
    "start_time": "2022-06-02T09:22:44.576Z"
   },
   {
    "duration": 1522,
    "start_time": "2022-06-02T09:22:44.602Z"
   },
   {
    "duration": 30,
    "start_time": "2022-06-02T09:22:46.126Z"
   },
   {
    "duration": 4,
    "start_time": "2022-06-02T09:22:46.157Z"
   },
   {
    "duration": 19,
    "start_time": "2022-06-02T09:22:46.162Z"
   },
   {
    "duration": 17,
    "start_time": "2022-06-02T09:22:46.183Z"
   },
   {
    "duration": 3,
    "start_time": "2022-06-02T09:22:46.203Z"
   },
   {
    "duration": 5,
    "start_time": "2022-06-02T09:22:46.208Z"
   },
   {
    "duration": 13,
    "start_time": "2022-06-02T09:22:46.215Z"
   },
   {
    "duration": 55700,
    "start_time": "2022-06-02T09:22:46.229Z"
   },
   {
    "duration": 52799,
    "start_time": "2022-06-02T09:23:41.931Z"
   },
   {
    "duration": 105927,
    "start_time": "2022-06-02T09:24:34.731Z"
   },
   {
    "duration": 117849,
    "start_time": "2022-06-02T09:26:20.660Z"
   },
   {
    "duration": 1090,
    "start_time": "2022-06-02T09:28:18.510Z"
   },
   {
    "duration": 1008,
    "start_time": "2022-06-02T09:28:19.602Z"
   },
   {
    "duration": 96,
    "start_time": "2022-06-02T09:28:20.708Z"
   },
   {
    "duration": 25,
    "start_time": "2022-06-02T09:28:20.805Z"
   },
   {
    "duration": 304,
    "start_time": "2022-06-02T09:28:20.901Z"
   },
   {
    "duration": 92,
    "start_time": "2022-06-02T09:28:21.208Z"
   },
   {
    "duration": 10,
    "start_time": "2022-06-02T09:28:21.301Z"
   },
   {
    "duration": 86,
    "start_time": "2022-06-02T09:28:21.313Z"
   },
   {
    "duration": 8,
    "start_time": "2022-06-02T09:28:21.401Z"
   },
   {
    "duration": 36,
    "start_time": "2022-06-02T09:28:21.414Z"
   },
   {
    "duration": 31,
    "start_time": "2022-06-02T09:38:39.698Z"
   },
   {
    "duration": 5,
    "start_time": "2022-06-02T09:48:40.975Z"
   },
   {
    "duration": 44,
    "start_time": "2022-06-02T09:50:50.286Z"
   },
   {
    "duration": 44,
    "start_time": "2022-06-02T09:51:03.259Z"
   },
   {
    "duration": 109,
    "start_time": "2022-06-02T09:51:15.620Z"
   },
   {
    "duration": 5,
    "start_time": "2022-06-02T09:51:21.893Z"
   },
   {
    "duration": 8116,
    "start_time": "2022-06-02T09:51:23.179Z"
   },
   {
    "duration": 5,
    "start_time": "2022-06-02T09:55:49.663Z"
   },
   {
    "duration": 8689,
    "start_time": "2022-06-02T09:55:50.780Z"
   },
   {
    "duration": 4,
    "start_time": "2022-06-02T09:56:39.326Z"
   },
   {
    "duration": 8622,
    "start_time": "2022-06-02T09:56:40.861Z"
   },
   {
    "duration": 5,
    "start_time": "2022-06-02T09:57:29.483Z"
   },
   {
    "duration": 45,
    "start_time": "2022-06-02T09:57:30.075Z"
   },
   {
    "duration": 4,
    "start_time": "2022-06-02T09:58:01.606Z"
   },
   {
    "duration": 56,
    "start_time": "2022-06-02T09:58:03.555Z"
   },
   {
    "duration": 4,
    "start_time": "2022-06-02T09:58:13.243Z"
   },
   {
    "duration": 40,
    "start_time": "2022-06-02T09:58:15.642Z"
   },
   {
    "duration": 5,
    "start_time": "2022-06-02T10:00:41.242Z"
   },
   {
    "duration": 48,
    "start_time": "2022-06-02T10:00:43.113Z"
   },
   {
    "duration": 4,
    "start_time": "2022-06-02T10:02:10.978Z"
   },
   {
    "duration": 4,
    "start_time": "2022-06-02T10:03:09.487Z"
   },
   {
    "duration": 37,
    "start_time": "2022-06-02T10:03:36.634Z"
   },
   {
    "duration": 73,
    "start_time": "2022-06-02T10:03:53.689Z"
   },
   {
    "duration": 8833,
    "start_time": "2022-06-02T10:06:45.600Z"
   },
   {
    "duration": 72,
    "start_time": "2022-06-02T10:07:29.000Z"
   },
   {
    "duration": 8284,
    "start_time": "2022-06-02T10:07:31.465Z"
   },
   {
    "duration": 6,
    "start_time": "2022-06-02T10:09:10.825Z"
   },
   {
    "duration": 3,
    "start_time": "2022-06-02T10:09:35.337Z"
   },
   {
    "duration": 5,
    "start_time": "2022-06-02T10:09:41.935Z"
   },
   {
    "duration": 1281,
    "start_time": "2022-06-02T10:12:40.574Z"
   },
   {
    "duration": 691,
    "start_time": "2022-06-02T10:12:41.857Z"
   },
   {
    "duration": 37,
    "start_time": "2022-06-02T10:12:42.550Z"
   },
   {
    "duration": 60,
    "start_time": "2022-06-02T10:12:42.598Z"
   },
   {
    "duration": 4,
    "start_time": "2022-06-02T10:12:42.660Z"
   },
   {
    "duration": 12,
    "start_time": "2022-06-02T10:12:42.666Z"
   },
   {
    "duration": 343,
    "start_time": "2022-06-02T10:12:42.679Z"
   },
   {
    "duration": 5,
    "start_time": "2022-06-02T10:12:43.023Z"
   },
   {
    "duration": 48,
    "start_time": "2022-06-02T10:12:43.029Z"
   },
   {
    "duration": 20,
    "start_time": "2022-06-02T10:12:43.079Z"
   },
   {
    "duration": 9,
    "start_time": "2022-06-02T10:12:43.101Z"
   },
   {
    "duration": 9,
    "start_time": "2022-06-02T10:12:43.112Z"
   },
   {
    "duration": 12,
    "start_time": "2022-06-02T10:12:43.122Z"
   },
   {
    "duration": 5,
    "start_time": "2022-06-02T10:12:43.137Z"
   },
   {
    "duration": 15,
    "start_time": "2022-06-02T10:12:43.143Z"
   },
   {
    "duration": 9,
    "start_time": "2022-06-02T10:12:43.160Z"
   },
   {
    "duration": 119,
    "start_time": "2022-06-02T10:12:43.170Z"
   },
   {
    "duration": 136,
    "start_time": "2022-06-02T10:12:43.290Z"
   },
   {
    "duration": 5,
    "start_time": "2022-06-02T10:12:43.427Z"
   },
   {
    "duration": 17,
    "start_time": "2022-06-02T10:12:43.433Z"
   },
   {
    "duration": 5,
    "start_time": "2022-06-02T10:12:43.452Z"
   },
   {
    "duration": 8,
    "start_time": "2022-06-02T10:12:43.458Z"
   },
   {
    "duration": 273,
    "start_time": "2022-06-02T10:12:43.468Z"
   },
   {
    "duration": 7,
    "start_time": "2022-06-02T10:12:43.742Z"
   },
   {
    "duration": 196,
    "start_time": "2022-06-02T10:12:43.750Z"
   },
   {
    "duration": 5,
    "start_time": "2022-06-02T10:12:43.948Z"
   },
   {
    "duration": 13,
    "start_time": "2022-06-02T10:12:43.955Z"
   },
   {
    "duration": 1037,
    "start_time": "2022-06-02T10:12:43.969Z"
   },
   {
    "duration": 4,
    "start_time": "2022-06-02T10:12:45.007Z"
   },
   {
    "duration": 21,
    "start_time": "2022-06-02T10:12:45.012Z"
   },
   {
    "duration": 14,
    "start_time": "2022-06-02T10:12:45.035Z"
   },
   {
    "duration": 17,
    "start_time": "2022-06-02T10:12:45.051Z"
   },
   {
    "duration": 163,
    "start_time": "2022-06-02T10:12:45.070Z"
   },
   {
    "duration": 8,
    "start_time": "2022-06-02T10:12:45.235Z"
   },
   {
    "duration": 17,
    "start_time": "2022-06-02T10:12:45.245Z"
   },
   {
    "duration": 193,
    "start_time": "2022-06-02T10:12:45.264Z"
   },
   {
    "duration": 11,
    "start_time": "2022-06-02T10:12:45.459Z"
   },
   {
    "duration": 185,
    "start_time": "2022-06-02T10:12:45.471Z"
   },
   {
    "duration": 5,
    "start_time": "2022-06-02T10:12:45.658Z"
   },
   {
    "duration": 337,
    "start_time": "2022-06-02T10:12:45.664Z"
   },
   {
    "duration": 438,
    "start_time": "2022-06-02T10:12:46.005Z"
   },
   {
    "duration": 4,
    "start_time": "2022-06-02T10:12:46.445Z"
   },
   {
    "duration": 16,
    "start_time": "2022-06-02T10:12:46.451Z"
   },
   {
    "duration": 10,
    "start_time": "2022-06-02T10:12:46.468Z"
   },
   {
    "duration": 151,
    "start_time": "2022-06-02T10:12:46.480Z"
   },
   {
    "duration": 9,
    "start_time": "2022-06-02T10:12:46.633Z"
   },
   {
    "duration": 14,
    "start_time": "2022-06-02T10:12:46.644Z"
   },
   {
    "duration": 167,
    "start_time": "2022-06-02T10:12:46.659Z"
   },
   {
    "duration": 6,
    "start_time": "2022-06-02T10:12:46.827Z"
   },
   {
    "duration": 9,
    "start_time": "2022-06-02T10:12:46.834Z"
   },
   {
    "duration": 8,
    "start_time": "2022-06-02T10:12:46.844Z"
   },
   {
    "duration": 10,
    "start_time": "2022-06-02T10:12:46.853Z"
   },
   {
    "duration": 14,
    "start_time": "2022-06-02T10:12:46.864Z"
   },
   {
    "duration": 13,
    "start_time": "2022-06-02T10:12:46.879Z"
   },
   {
    "duration": 395,
    "start_time": "2022-06-02T10:12:46.893Z"
   },
   {
    "duration": 10,
    "start_time": "2022-06-02T10:12:47.289Z"
   },
   {
    "duration": 1400,
    "start_time": "2022-06-02T10:12:47.301Z"
   },
   {
    "duration": 20,
    "start_time": "2022-06-02T10:12:48.702Z"
   },
   {
    "duration": 1461,
    "start_time": "2022-06-02T10:12:48.723Z"
   },
   {
    "duration": 35,
    "start_time": "2022-06-02T10:12:50.186Z"
   },
   {
    "duration": 7,
    "start_time": "2022-06-02T10:12:50.223Z"
   },
   {
    "duration": 19,
    "start_time": "2022-06-02T10:12:50.232Z"
   },
   {
    "duration": 4,
    "start_time": "2022-06-02T10:12:50.252Z"
   },
   {
    "duration": 11,
    "start_time": "2022-06-02T10:12:50.257Z"
   },
   {
    "duration": 17,
    "start_time": "2022-06-02T10:12:50.269Z"
   },
   {
    "duration": 20,
    "start_time": "2022-06-02T10:12:50.287Z"
   },
   {
    "duration": 27116,
    "start_time": "2022-06-02T10:12:50.309Z"
   },
   {
    "duration": 54954,
    "start_time": "2022-06-02T10:13:17.427Z"
   },
   {
    "duration": 4,
    "start_time": "2022-06-02T10:14:12.383Z"
   },
   {
    "duration": 71,
    "start_time": "2022-06-02T10:14:12.388Z"
   },
   {
    "duration": 8959,
    "start_time": "2022-06-02T10:14:12.461Z"
   },
   {
    "duration": 8279,
    "start_time": "2022-06-02T10:14:21.422Z"
   },
   {
    "duration": 5,
    "start_time": "2022-06-02T10:14:29.703Z"
   },
   {
    "duration": 105397,
    "start_time": "2022-06-02T10:14:29.710Z"
   },
   {
    "duration": 119696,
    "start_time": "2022-06-02T10:16:15.108Z"
   },
   {
    "duration": 45006,
    "start_time": "2022-06-02T10:18:14.806Z"
   },
   {
    "duration": 415,
    "start_time": "2022-06-02T10:20:44.887Z"
   },
   {
    "duration": 5,
    "start_time": "2022-06-02T10:29:12.226Z"
   },
   {
    "duration": 5,
    "start_time": "2022-06-02T10:30:10.066Z"
   },
   {
    "duration": 27748,
    "start_time": "2022-06-02T10:30:10.608Z"
   },
   {
    "duration": 1230,
    "start_time": "2022-06-02T10:31:16.328Z"
   },
   {
    "duration": 679,
    "start_time": "2022-06-02T10:31:17.560Z"
   },
   {
    "duration": 41,
    "start_time": "2022-06-02T10:31:18.240Z"
   },
   {
    "duration": 71,
    "start_time": "2022-06-02T10:31:18.283Z"
   },
   {
    "duration": 4,
    "start_time": "2022-06-02T10:31:18.357Z"
   },
   {
    "duration": 5,
    "start_time": "2022-06-02T10:31:18.362Z"
   },
   {
    "duration": 363,
    "start_time": "2022-06-02T10:31:18.369Z"
   },
   {
    "duration": 5,
    "start_time": "2022-06-02T10:31:18.734Z"
   },
   {
    "duration": 59,
    "start_time": "2022-06-02T10:31:18.741Z"
   },
   {
    "duration": 8,
    "start_time": "2022-06-02T10:31:18.802Z"
   },
   {
    "duration": 8,
    "start_time": "2022-06-02T10:31:18.812Z"
   },
   {
    "duration": 11,
    "start_time": "2022-06-02T10:31:18.822Z"
   },
   {
    "duration": 12,
    "start_time": "2022-06-02T10:31:18.834Z"
   },
   {
    "duration": 9,
    "start_time": "2022-06-02T10:31:18.849Z"
   },
   {
    "duration": 12,
    "start_time": "2022-06-02T10:31:18.859Z"
   },
   {
    "duration": 31,
    "start_time": "2022-06-02T10:31:18.872Z"
   },
   {
    "duration": 105,
    "start_time": "2022-06-02T10:31:18.905Z"
   },
   {
    "duration": 146,
    "start_time": "2022-06-02T10:31:19.012Z"
   },
   {
    "duration": 4,
    "start_time": "2022-06-02T10:31:19.159Z"
   },
   {
    "duration": 15,
    "start_time": "2022-06-02T10:31:19.165Z"
   },
   {
    "duration": 22,
    "start_time": "2022-06-02T10:31:19.181Z"
   },
   {
    "duration": 9,
    "start_time": "2022-06-02T10:31:19.204Z"
   },
   {
    "duration": 263,
    "start_time": "2022-06-02T10:31:19.214Z"
   },
   {
    "duration": 7,
    "start_time": "2022-06-02T10:31:19.479Z"
   },
   {
    "duration": 181,
    "start_time": "2022-06-02T10:31:19.498Z"
   },
   {
    "duration": 5,
    "start_time": "2022-06-02T10:31:19.681Z"
   },
   {
    "duration": 16,
    "start_time": "2022-06-02T10:31:19.687Z"
   },
   {
    "duration": 1070,
    "start_time": "2022-06-02T10:31:19.704Z"
   },
   {
    "duration": 3,
    "start_time": "2022-06-02T10:31:20.776Z"
   },
   {
    "duration": 14,
    "start_time": "2022-06-02T10:31:20.780Z"
   },
   {
    "duration": 6,
    "start_time": "2022-06-02T10:31:20.799Z"
   },
   {
    "duration": 12,
    "start_time": "2022-06-02T10:31:20.807Z"
   },
   {
    "duration": 171,
    "start_time": "2022-06-02T10:31:20.820Z"
   },
   {
    "duration": 14,
    "start_time": "2022-06-02T10:31:20.992Z"
   },
   {
    "duration": 17,
    "start_time": "2022-06-02T10:31:21.007Z"
   },
   {
    "duration": 214,
    "start_time": "2022-06-02T10:31:21.026Z"
   },
   {
    "duration": 13,
    "start_time": "2022-06-02T10:31:21.242Z"
   },
   {
    "duration": 203,
    "start_time": "2022-06-02T10:31:21.257Z"
   },
   {
    "duration": 5,
    "start_time": "2022-06-02T10:31:21.462Z"
   },
   {
    "duration": 351,
    "start_time": "2022-06-02T10:31:21.469Z"
   },
   {
    "duration": 474,
    "start_time": "2022-06-02T10:31:21.825Z"
   },
   {
    "duration": 5,
    "start_time": "2022-06-02T10:31:22.301Z"
   },
   {
    "duration": 6,
    "start_time": "2022-06-02T10:31:22.308Z"
   },
   {
    "duration": 5,
    "start_time": "2022-06-02T10:31:22.315Z"
   },
   {
    "duration": 168,
    "start_time": "2022-06-02T10:31:22.322Z"
   },
   {
    "duration": 14,
    "start_time": "2022-06-02T10:31:22.492Z"
   },
   {
    "duration": 21,
    "start_time": "2022-06-02T10:31:22.508Z"
   },
   {
    "duration": 192,
    "start_time": "2022-06-02T10:31:22.531Z"
   },
   {
    "duration": 7,
    "start_time": "2022-06-02T10:31:22.725Z"
   },
   {
    "duration": 9,
    "start_time": "2022-06-02T10:31:22.734Z"
   },
   {
    "duration": 6,
    "start_time": "2022-06-02T10:31:22.744Z"
   },
   {
    "duration": 8,
    "start_time": "2022-06-02T10:31:22.752Z"
   },
   {
    "duration": 9,
    "start_time": "2022-06-02T10:31:22.762Z"
   },
   {
    "duration": 10,
    "start_time": "2022-06-02T10:31:22.773Z"
   },
   {
    "duration": 434,
    "start_time": "2022-06-02T10:31:22.800Z"
   },
   {
    "duration": 5,
    "start_time": "2022-06-02T10:31:23.236Z"
   },
   {
    "duration": 1362,
    "start_time": "2022-06-02T10:31:23.243Z"
   },
   {
    "duration": 20,
    "start_time": "2022-06-02T10:31:24.607Z"
   },
   {
    "duration": 1494,
    "start_time": "2022-06-02T10:31:24.629Z"
   },
   {
    "duration": 30,
    "start_time": "2022-06-02T10:31:26.125Z"
   },
   {
    "duration": 4,
    "start_time": "2022-06-02T10:31:26.157Z"
   },
   {
    "duration": 17,
    "start_time": "2022-06-02T10:31:26.163Z"
   },
   {
    "duration": 3,
    "start_time": "2022-06-02T10:31:26.199Z"
   },
   {
    "duration": 15,
    "start_time": "2022-06-02T10:31:26.204Z"
   },
   {
    "duration": 6,
    "start_time": "2022-06-02T10:31:26.221Z"
   },
   {
    "duration": 11,
    "start_time": "2022-06-02T10:31:26.228Z"
   },
   {
    "duration": 17418,
    "start_time": "2022-06-02T10:31:26.241Z"
   },
   {
    "duration": 8650,
    "start_time": "2022-06-02T10:31:43.661Z"
   },
   {
    "duration": 4,
    "start_time": "2022-06-02T10:31:52.313Z"
   },
   {
    "duration": 87,
    "start_time": "2022-06-02T10:31:52.319Z"
   },
   {
    "duration": 8885,
    "start_time": "2022-06-02T10:31:52.408Z"
   },
   {
    "duration": 8428,
    "start_time": "2022-06-02T10:32:01.295Z"
   },
   {
    "duration": 5,
    "start_time": "2022-06-02T10:32:09.725Z"
   },
   {
    "duration": 107273,
    "start_time": "2022-06-02T10:32:09.731Z"
   },
   {
    "duration": 117755,
    "start_time": "2022-06-02T10:33:57.005Z"
   },
   {
    "duration": 44921,
    "start_time": "2022-06-02T10:35:54.761Z"
   },
   {
    "duration": 717,
    "start_time": "2022-06-02T10:36:39.684Z"
   },
   {
    "duration": 1198,
    "start_time": "2022-06-02T10:36:40.402Z"
   },
   {
    "duration": 398,
    "start_time": "2022-06-02T10:36:41.602Z"
   },
   {
    "duration": 4,
    "start_time": "2022-06-02T10:36:42.002Z"
   },
   {
    "duration": 27450,
    "start_time": "2022-06-02T10:36:42.008Z"
   },
   {
    "duration": 30580,
    "start_time": "2022-06-02T10:37:09.459Z"
   },
   {
    "duration": 0,
    "start_time": "2022-06-02T10:37:40.041Z"
   },
   {
    "duration": 0,
    "start_time": "2022-06-02T10:37:40.042Z"
   },
   {
    "duration": 0,
    "start_time": "2022-06-02T10:37:40.043Z"
   },
   {
    "duration": 0,
    "start_time": "2022-06-02T10:37:40.045Z"
   },
   {
    "duration": 30421,
    "start_time": "2022-06-02T10:37:58.538Z"
   },
   {
    "duration": 6,
    "start_time": "2022-06-02T10:38:39.668Z"
   },
   {
    "duration": 7,
    "start_time": "2022-06-02T10:38:43.317Z"
   },
   {
    "duration": 6,
    "start_time": "2022-06-02T10:38:44.313Z"
   },
   {
    "duration": 5,
    "start_time": "2022-06-02T10:38:45.215Z"
   },
   {
    "duration": 60,
    "start_time": "2022-06-03T09:11:52.961Z"
   },
   {
    "duration": 2246,
    "start_time": "2022-06-03T09:12:29.454Z"
   },
   {
    "duration": 2109,
    "start_time": "2022-06-03T09:12:31.702Z"
   },
   {
    "duration": 43,
    "start_time": "2022-06-03T09:12:33.812Z"
   },
   {
    "duration": 73,
    "start_time": "2022-06-03T09:12:33.858Z"
   },
   {
    "duration": 5,
    "start_time": "2022-06-03T09:12:33.933Z"
   },
   {
    "duration": 20,
    "start_time": "2022-06-03T09:12:33.941Z"
   },
   {
    "duration": 414,
    "start_time": "2022-06-03T09:12:33.963Z"
   },
   {
    "duration": 8,
    "start_time": "2022-06-03T09:12:34.379Z"
   },
   {
    "duration": 155,
    "start_time": "2022-06-03T09:12:34.389Z"
   },
   {
    "duration": 46,
    "start_time": "2022-06-03T09:12:34.547Z"
   },
   {
    "duration": 41,
    "start_time": "2022-06-03T09:12:34.595Z"
   },
   {
    "duration": 53,
    "start_time": "2022-06-03T09:12:34.638Z"
   },
   {
    "duration": 24,
    "start_time": "2022-06-03T09:12:34.694Z"
   },
   {
    "duration": 25,
    "start_time": "2022-06-03T09:12:34.723Z"
   },
   {
    "duration": 42,
    "start_time": "2022-06-03T09:12:34.750Z"
   },
   {
    "duration": 59,
    "start_time": "2022-06-03T09:12:34.794Z"
   },
   {
    "duration": 147,
    "start_time": "2022-06-03T09:12:34.856Z"
   },
   {
    "duration": 195,
    "start_time": "2022-06-03T09:12:35.004Z"
   },
   {
    "duration": 5,
    "start_time": "2022-06-03T09:12:35.201Z"
   },
   {
    "duration": 32,
    "start_time": "2022-06-03T09:12:35.208Z"
   },
   {
    "duration": 15,
    "start_time": "2022-06-03T09:12:35.242Z"
   },
   {
    "duration": 31,
    "start_time": "2022-06-03T09:12:35.259Z"
   },
   {
    "duration": 344,
    "start_time": "2022-06-03T09:12:35.293Z"
   },
   {
    "duration": 8,
    "start_time": "2022-06-03T09:12:35.639Z"
   },
   {
    "duration": 263,
    "start_time": "2022-06-03T09:12:35.648Z"
   },
   {
    "duration": 18,
    "start_time": "2022-06-03T09:12:35.914Z"
   },
   {
    "duration": 9,
    "start_time": "2022-06-03T09:12:35.933Z"
   },
   {
    "duration": 1196,
    "start_time": "2022-06-03T09:12:35.944Z"
   },
   {
    "duration": 4,
    "start_time": "2022-06-03T09:12:37.142Z"
   },
   {
    "duration": 24,
    "start_time": "2022-06-03T09:12:37.148Z"
   },
   {
    "duration": 14,
    "start_time": "2022-06-03T09:12:37.174Z"
   },
   {
    "duration": 10,
    "start_time": "2022-06-03T09:12:37.190Z"
   },
   {
    "duration": 186,
    "start_time": "2022-06-03T09:12:37.202Z"
   },
   {
    "duration": 11,
    "start_time": "2022-06-03T09:12:37.390Z"
   },
   {
    "duration": 53,
    "start_time": "2022-06-03T09:12:37.403Z"
   },
   {
    "duration": 240,
    "start_time": "2022-06-03T09:12:37.457Z"
   },
   {
    "duration": 17,
    "start_time": "2022-06-03T09:12:37.699Z"
   },
   {
    "duration": 240,
    "start_time": "2022-06-03T09:12:37.728Z"
   },
   {
    "duration": 6,
    "start_time": "2022-06-03T09:12:37.970Z"
   },
   {
    "duration": 474,
    "start_time": "2022-06-03T09:12:37.978Z"
   },
   {
    "duration": 485,
    "start_time": "2022-06-03T09:12:38.458Z"
   },
   {
    "duration": 6,
    "start_time": "2022-06-03T09:12:38.945Z"
   },
   {
    "duration": 9,
    "start_time": "2022-06-03T09:12:38.952Z"
   },
   {
    "duration": 11,
    "start_time": "2022-06-03T09:12:38.963Z"
   },
   {
    "duration": 173,
    "start_time": "2022-06-03T09:12:38.976Z"
   },
   {
    "duration": 10,
    "start_time": "2022-06-03T09:12:39.151Z"
   },
   {
    "duration": 12,
    "start_time": "2022-06-03T09:12:39.162Z"
   },
   {
    "duration": 210,
    "start_time": "2022-06-03T09:12:39.176Z"
   },
   {
    "duration": 7,
    "start_time": "2022-06-03T09:12:39.389Z"
   },
   {
    "duration": 7,
    "start_time": "2022-06-03T09:12:39.398Z"
   },
   {
    "duration": 23,
    "start_time": "2022-06-03T09:12:39.406Z"
   },
   {
    "duration": 4,
    "start_time": "2022-06-03T09:12:39.431Z"
   },
   {
    "duration": 10,
    "start_time": "2022-06-03T09:12:39.437Z"
   },
   {
    "duration": 12,
    "start_time": "2022-06-03T09:12:39.449Z"
   },
   {
    "duration": 467,
    "start_time": "2022-06-03T09:12:39.462Z"
   },
   {
    "duration": 6,
    "start_time": "2022-06-03T09:12:39.931Z"
   },
   {
    "duration": 1563,
    "start_time": "2022-06-03T09:12:39.938Z"
   },
   {
    "duration": 33,
    "start_time": "2022-06-03T09:12:41.502Z"
   },
   {
    "duration": 1909,
    "start_time": "2022-06-03T09:12:41.536Z"
   },
   {
    "duration": 32,
    "start_time": "2022-06-03T09:12:43.447Z"
   },
   {
    "duration": 5,
    "start_time": "2022-06-03T09:12:43.481Z"
   },
   {
    "duration": 40,
    "start_time": "2022-06-03T09:12:43.488Z"
   },
   {
    "duration": 5,
    "start_time": "2022-06-03T09:12:43.531Z"
   },
   {
    "duration": 13,
    "start_time": "2022-06-03T09:12:43.538Z"
   },
   {
    "duration": 8,
    "start_time": "2022-06-03T09:12:43.553Z"
   },
   {
    "duration": 14,
    "start_time": "2022-06-03T09:12:43.564Z"
   },
   {
    "duration": 32022,
    "start_time": "2022-06-03T09:12:43.581Z"
   },
   {
    "duration": 27493,
    "start_time": "2022-06-03T09:13:15.605Z"
   },
   {
    "duration": 5,
    "start_time": "2022-06-03T09:13:43.103Z"
   },
   {
    "duration": 80,
    "start_time": "2022-06-03T09:13:43.110Z"
   },
   {
    "duration": 9885,
    "start_time": "2022-06-03T09:13:43.192Z"
   },
   {
    "duration": 9878,
    "start_time": "2022-06-03T09:13:53.079Z"
   },
   {
    "duration": 7,
    "start_time": "2022-06-03T09:14:02.959Z"
   },
   {
    "duration": 120029,
    "start_time": "2022-06-03T09:14:02.967Z"
   },
   {
    "duration": 127841,
    "start_time": "2022-06-03T09:16:02.998Z"
   },
   {
    "duration": 51545,
    "start_time": "2022-06-03T09:18:10.842Z"
   },
   {
    "duration": 757,
    "start_time": "2022-06-03T09:19:02.388Z"
   },
   {
    "duration": 890,
    "start_time": "2022-06-03T09:19:03.149Z"
   },
   {
    "duration": 490,
    "start_time": "2022-06-03T09:19:04.042Z"
   },
   {
    "duration": 21,
    "start_time": "2022-06-03T09:19:04.535Z"
   },
   {
    "duration": 31276,
    "start_time": "2022-06-03T09:19:04.558Z"
   },
   {
    "duration": 33816,
    "start_time": "2022-06-03T09:19:35.836Z"
   },
   {
    "duration": 6,
    "start_time": "2022-06-03T09:20:09.654Z"
   },
   {
    "duration": 13,
    "start_time": "2022-06-03T09:20:09.661Z"
   },
   {
    "duration": 15,
    "start_time": "2022-06-03T09:20:09.675Z"
   },
   {
    "duration": 14,
    "start_time": "2022-06-03T09:20:09.693Z"
   },
   {
    "duration": 3183,
    "start_time": "2022-06-04T07:30:15.682Z"
   },
   {
    "duration": 2514,
    "start_time": "2022-06-04T07:30:18.867Z"
   },
   {
    "duration": 84,
    "start_time": "2022-06-04T07:30:21.383Z"
   },
   {
    "duration": 191,
    "start_time": "2022-06-04T07:30:21.469Z"
   },
   {
    "duration": 5,
    "start_time": "2022-06-04T07:30:21.662Z"
   },
   {
    "duration": 64,
    "start_time": "2022-06-04T07:30:21.668Z"
   },
   {
    "duration": 724,
    "start_time": "2022-06-04T07:30:21.741Z"
   },
   {
    "duration": 5,
    "start_time": "2022-06-04T07:30:22.467Z"
   },
   {
    "duration": 100,
    "start_time": "2022-06-04T07:30:22.534Z"
   },
   {
    "duration": 12,
    "start_time": "2022-06-04T07:30:22.635Z"
   },
   {
    "duration": 12,
    "start_time": "2022-06-04T07:30:22.648Z"
   },
   {
    "duration": 68,
    "start_time": "2022-06-04T07:30:22.662Z"
   },
   {
    "duration": 27,
    "start_time": "2022-06-04T07:30:22.734Z"
   },
   {
    "duration": 4,
    "start_time": "2022-06-04T07:30:22.765Z"
   },
   {
    "duration": 65,
    "start_time": "2022-06-04T07:30:22.771Z"
   },
   {
    "duration": 21,
    "start_time": "2022-06-04T07:30:22.840Z"
   },
   {
    "duration": 274,
    "start_time": "2022-06-04T07:30:22.863Z"
   },
   {
    "duration": 327,
    "start_time": "2022-06-04T07:30:23.144Z"
   },
   {
    "duration": 59,
    "start_time": "2022-06-04T07:30:23.473Z"
   },
   {
    "duration": 34,
    "start_time": "2022-06-04T07:30:23.533Z"
   },
   {
    "duration": 7,
    "start_time": "2022-06-04T07:30:23.568Z"
   },
   {
    "duration": 13,
    "start_time": "2022-06-04T07:30:23.631Z"
   },
   {
    "duration": 605,
    "start_time": "2022-06-04T07:30:23.653Z"
   },
   {
    "duration": 76,
    "start_time": "2022-06-04T07:30:24.260Z"
   },
   {
    "duration": 626,
    "start_time": "2022-06-04T07:30:24.339Z"
   },
   {
    "duration": 64,
    "start_time": "2022-06-04T07:30:24.967Z"
   },
   {
    "duration": 23,
    "start_time": "2022-06-04T07:30:25.035Z"
   },
   {
    "duration": 2697,
    "start_time": "2022-06-04T07:30:25.060Z"
   },
   {
    "duration": 4,
    "start_time": "2022-06-04T07:30:27.759Z"
   },
   {
    "duration": 66,
    "start_time": "2022-06-04T07:30:27.764Z"
   },
   {
    "duration": 21,
    "start_time": "2022-06-04T07:30:27.836Z"
   },
   {
    "duration": 25,
    "start_time": "2022-06-04T07:30:27.859Z"
   },
   {
    "duration": 279,
    "start_time": "2022-06-04T07:30:27.886Z"
   },
   {
    "duration": 66,
    "start_time": "2022-06-04T07:30:28.167Z"
   },
   {
    "duration": 14,
    "start_time": "2022-06-04T07:30:28.242Z"
   },
   {
    "duration": 606,
    "start_time": "2022-06-04T07:30:28.258Z"
   },
   {
    "duration": 17,
    "start_time": "2022-06-04T07:30:28.928Z"
   },
   {
    "duration": 687,
    "start_time": "2022-06-04T07:30:28.947Z"
   },
   {
    "duration": 11,
    "start_time": "2022-06-04T07:30:29.636Z"
   },
   {
    "duration": 1223,
    "start_time": "2022-06-04T07:30:29.649Z"
   },
   {
    "duration": 2020,
    "start_time": "2022-06-04T07:30:30.937Z"
   },
   {
    "duration": 11,
    "start_time": "2022-06-04T07:30:33.030Z"
   },
   {
    "duration": 16,
    "start_time": "2022-06-04T07:30:33.042Z"
   },
   {
    "duration": 8,
    "start_time": "2022-06-04T07:30:33.060Z"
   },
   {
    "duration": 702,
    "start_time": "2022-06-04T07:30:33.134Z"
   },
   {
    "duration": 10,
    "start_time": "2022-06-04T07:30:33.844Z"
   },
   {
    "duration": 86,
    "start_time": "2022-06-04T07:30:33.856Z"
   },
   {
    "duration": 704,
    "start_time": "2022-06-04T07:30:33.944Z"
   },
   {
    "duration": 8,
    "start_time": "2022-06-04T07:30:34.650Z"
   },
   {
    "duration": 72,
    "start_time": "2022-06-04T07:30:34.660Z"
   },
   {
    "duration": 6,
    "start_time": "2022-06-04T07:30:34.734Z"
   },
   {
    "duration": 24,
    "start_time": "2022-06-04T07:30:34.743Z"
   },
   {
    "duration": 91,
    "start_time": "2022-06-04T07:30:34.769Z"
   },
   {
    "duration": 18,
    "start_time": "2022-06-04T07:30:34.862Z"
   },
   {
    "duration": 978,
    "start_time": "2022-06-04T07:30:34.883Z"
   },
   {
    "duration": 5,
    "start_time": "2022-06-04T07:30:35.863Z"
   },
   {
    "duration": 4202,
    "start_time": "2022-06-04T07:30:35.869Z"
   },
   {
    "duration": 83,
    "start_time": "2022-06-04T07:30:40.073Z"
   },
   {
    "duration": 4109,
    "start_time": "2022-06-04T07:30:40.159Z"
   },
   {
    "duration": 36,
    "start_time": "2022-06-04T07:30:44.329Z"
   },
   {
    "duration": 506,
    "start_time": "2022-06-04T07:30:44.367Z"
   },
   {
    "duration": 453,
    "start_time": "2022-06-04T07:30:44.875Z"
   },
   {
    "duration": 4,
    "start_time": "2022-06-04T07:30:45.334Z"
   },
   {
    "duration": 22,
    "start_time": "2022-06-04T07:30:45.342Z"
   },
   {
    "duration": 14,
    "start_time": "2022-06-04T07:30:45.366Z"
   },
   {
    "duration": 71,
    "start_time": "2022-06-04T07:30:45.382Z"
   },
   {
    "duration": 55008,
    "start_time": "2022-06-04T07:30:45.454Z"
   },
   {
    "duration": 74498,
    "start_time": "2022-06-04T07:31:40.463Z"
   },
   {
    "duration": 4,
    "start_time": "2022-06-04T07:32:54.962Z"
   },
   {
    "duration": 198,
    "start_time": "2022-06-04T07:32:54.968Z"
   },
   {
    "duration": 21073,
    "start_time": "2022-06-04T07:32:55.168Z"
   },
   {
    "duration": 19436,
    "start_time": "2022-06-04T07:33:16.242Z"
   },
   {
    "duration": 14,
    "start_time": "2022-06-04T07:33:35.731Z"
   },
   {
    "duration": 243312,
    "start_time": "2022-06-04T07:33:35.750Z"
   },
   {
    "duration": 284698,
    "start_time": "2022-06-04T07:37:39.065Z"
   },
   {
    "duration": 105307,
    "start_time": "2022-06-04T07:42:23.765Z"
   },
   {
    "duration": 1855,
    "start_time": "2022-06-04T07:44:09.073Z"
   },
   {
    "duration": 1616,
    "start_time": "2022-06-04T07:44:10.930Z"
   },
   {
    "duration": 488,
    "start_time": "2022-06-04T07:44:12.549Z"
   },
   {
    "duration": 5,
    "start_time": "2022-06-04T07:44:13.046Z"
   },
   {
    "duration": 65482,
    "start_time": "2022-06-04T07:44:13.053Z"
   },
   {
    "duration": 80837,
    "start_time": "2022-06-04T07:45:18.537Z"
   },
   {
    "duration": 60,
    "start_time": "2022-06-04T07:46:39.376Z"
   },
   {
    "duration": 21,
    "start_time": "2022-06-04T07:46:39.438Z"
   },
   {
    "duration": 8,
    "start_time": "2022-06-04T07:46:39.461Z"
   },
   {
    "duration": 67,
    "start_time": "2022-06-04T07:46:39.470Z"
   }
  ],
  "kernelspec": {
   "display_name": "Python 3 (ipykernel)",
   "language": "python",
   "name": "python3"
  },
  "language_info": {
   "codemirror_mode": {
    "name": "ipython",
    "version": 3
   },
   "file_extension": ".py",
   "mimetype": "text/x-python",
   "name": "python",
   "nbconvert_exporter": "python",
   "pygments_lexer": "ipython3",
   "version": "3.9.7"
  },
  "toc": {
   "base_numbering": 1,
   "nav_menu": {},
   "number_sections": true,
   "sideBar": true,
   "skip_h1_title": true,
   "title_cell": "Содержание",
   "title_sidebar": "Contents",
   "toc_cell": true,
   "toc_position": {
    "height": "calc(100% - 180px)",
    "left": "10px",
    "top": "150px",
    "width": "323.891px"
   },
   "toc_section_display": true,
   "toc_window_display": true
  }
 },
 "nbformat": 4,
 "nbformat_minor": 2
}
