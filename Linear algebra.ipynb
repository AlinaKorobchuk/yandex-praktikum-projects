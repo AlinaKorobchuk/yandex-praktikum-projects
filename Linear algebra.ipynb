{
 "cells": [
  {
   "cell_type": "markdown",
   "metadata": {},
   "source": [
    "👋 **Привет, Алина!**\n",
    "\n",
    "Меня зовут Арсен Абдулин, и я буду твоим ревьювером по проекту. Предлагаю общаться на «ты», если не против =) Моя цель — не поиск ошибок в твоей работе, а поделиться опытом и помочь успешно завершить проект, чтобы на шаг приблизиться к профессии специалиста по Data Science.\n",
    "\n",
    "Видно, что ты очень старалась, выполняя проект! Выполнены почти все ключевые этапы — есть только небольшая ошибка в теоретическом доказательстве, написал в комментарии что нужно сделать. В остальном я отметил рекомендации.\n",
    "\n",
    "При проверке работ я делаю следующие комментарии:\n",
    "\n",
    "<div class=\"alert alert-success\">\n",
    "<b>✔️ Зеленым цветом</b> отмечены удачные решения, на которые можно опираться в следующих проектах.</div>\n",
    "\n",
    "<div class=\"alert alert-warning\">\n",
    "<b>⚠️ Желтым цветом</b> я отметил пункты, которые в следующий раз можно сделать по-другому. Одно-два таких замечания в проекте допускается, но если их много — проект следует доработать. </div>\n",
    "\n",
    "<div class=\"alert alert-danger\">\n",
    "<b>🚫 Красным цветом</b> отмечены критические замечания, которые необходимо поправить, чтобы принять проект. </div>\n",
    "\n",
    "Если какие-то моменты в задании для тебя были непонятны и у тебя есть ко мне вопросы — смело спрашивай 😊 Также ты можешь доработать места, где есть желтые комментарии в этом проекте (однако, это не обязательно).\n",
    "\n",
    "Предлагаю работать над проектом в диалоге: если ты решишь что-то поменять по моим рекомендациям — пиши об этом (выбери для своих комментариев определенный цвет — так мне будет легче увидеть изменения). Пожалуйста не перемещай, не изменяй и не удаляй мои комментарии. Все это поможет сделать проверку твоего проекта оперативнее.\n",
    "\n",
    "<div class=\"alert alert-info\"> <b>ℹ️ Комментарий студента: </b> Пример комментария. </div>"
   ]
  },
  {
   "cell_type": "markdown",
   "metadata": {
    "toc": true
   },
   "source": [
    "<h1>Содержание<span class=\"tocSkip\"></span></h1>\n",
    "<div class=\"toc\"><ul class=\"toc-item\"><li><span><a href=\"#Загрузка-данных\" data-toc-modified-id=\"Загрузка-данных-1\"><span class=\"toc-item-num\">1&nbsp;&nbsp;</span>Загрузка данных</a></span></li><li><span><a href=\"#Умножение-матриц\" data-toc-modified-id=\"Умножение-матриц-2\"><span class=\"toc-item-num\">2&nbsp;&nbsp;</span>Умножение матриц</a></span></li><li><span><a href=\"#Алгоритм-преобразования\" data-toc-modified-id=\"Алгоритм-преобразования-3\"><span class=\"toc-item-num\">3&nbsp;&nbsp;</span>Алгоритм преобразования</a></span></li><li><span><a href=\"#Проверка-алгоритма\" data-toc-modified-id=\"Проверка-алгоритма-4\"><span class=\"toc-item-num\">4&nbsp;&nbsp;</span>Проверка алгоритма</a></span></li><li><span><a href=\"#Чек-лист-проверки\" data-toc-modified-id=\"Чек-лист-проверки-5\"><span class=\"toc-item-num\">5&nbsp;&nbsp;</span>Чек-лист проверки</a></span></li></ul></div>"
   ]
  },
  {
   "cell_type": "markdown",
   "metadata": {},
   "source": [
    "# Защита персональных данных клиентов"
   ]
  },
  {
   "cell_type": "markdown",
   "metadata": {},
   "source": [
    "Вам нужно защитить данные клиентов страховой компании «Хоть потоп». Разработайте такой метод преобразования данных, чтобы по ним было сложно восстановить персональную информацию. Обоснуйте корректность его работы.\n",
    "\n",
    "Нужно защитить данные, чтобы при преобразовании качество моделей машинного обучения не ухудшилось. Подбирать наилучшую модель не требуется."
   ]
  },
  {
   "cell_type": "markdown",
   "metadata": {},
   "source": [
    "<div class=\"alert alert-success\">\n",
    "<b>✔️ Комментарий ревьювера:</b> Хорошо, что добавила небольшое описание и содержание проекта.\n",
    "    \n",
    "</div>"
   ]
  },
  {
   "cell_type": "code",
   "execution_count": 1,
   "metadata": {},
   "outputs": [],
   "source": [
    "import pandas as pd\n",
    "import numpy as np\n",
    "import seaborn as sns\n",
    "from sklearn.linear_model import LinearRegression\n",
    "from sklearn.model_selection import train_test_split\n",
    "import warnings\n",
    "warnings.filterwarnings('ignore')    \n",
    "random_state=12345"
   ]
  },
  {
   "cell_type": "markdown",
   "metadata": {},
   "source": [
    "<div class=\"alert alert-warning\">\n",
    "<b>⚠️ Комментарий ревьювера:</b> Лишние библиотеки лучше убрать из импорта, т.к. принято оставлять только те, которые будут использоваться в проекте =)\n",
    "    \n",
    "</div>"
   ]
  },
  {
   "cell_type": "markdown",
   "metadata": {},
   "source": [
    "## Загрузка данных"
   ]
  },
  {
   "cell_type": "code",
   "execution_count": 2,
   "metadata": {},
   "outputs": [],
   "source": [
    "try:\n",
    "    data = pd.read_csv(\"/datasets/insurance.csv\")\n",
    "except:\n",
    "    data = pd.read_csv(\"insurance.csv\")"
   ]
  },
  {
   "cell_type": "code",
   "execution_count": 3,
   "metadata": {},
   "outputs": [
    {
     "data": {
      "text/html": [
       "<div>\n",
       "<style scoped>\n",
       "    .dataframe tbody tr th:only-of-type {\n",
       "        vertical-align: middle;\n",
       "    }\n",
       "\n",
       "    .dataframe tbody tr th {\n",
       "        vertical-align: top;\n",
       "    }\n",
       "\n",
       "    .dataframe thead th {\n",
       "        text-align: right;\n",
       "    }\n",
       "</style>\n",
       "<table border=\"1\" class=\"dataframe\">\n",
       "  <thead>\n",
       "    <tr style=\"text-align: right;\">\n",
       "      <th></th>\n",
       "      <th>Пол</th>\n",
       "      <th>Возраст</th>\n",
       "      <th>Зарплата</th>\n",
       "      <th>Члены семьи</th>\n",
       "      <th>Страховые выплаты</th>\n",
       "    </tr>\n",
       "  </thead>\n",
       "  <tbody>\n",
       "    <tr>\n",
       "      <th>0</th>\n",
       "      <td>1</td>\n",
       "      <td>41.0</td>\n",
       "      <td>49600.0</td>\n",
       "      <td>1</td>\n",
       "      <td>0</td>\n",
       "    </tr>\n",
       "    <tr>\n",
       "      <th>1</th>\n",
       "      <td>0</td>\n",
       "      <td>46.0</td>\n",
       "      <td>38000.0</td>\n",
       "      <td>1</td>\n",
       "      <td>1</td>\n",
       "    </tr>\n",
       "    <tr>\n",
       "      <th>2</th>\n",
       "      <td>0</td>\n",
       "      <td>29.0</td>\n",
       "      <td>21000.0</td>\n",
       "      <td>0</td>\n",
       "      <td>0</td>\n",
       "    </tr>\n",
       "    <tr>\n",
       "      <th>3</th>\n",
       "      <td>0</td>\n",
       "      <td>21.0</td>\n",
       "      <td>41700.0</td>\n",
       "      <td>2</td>\n",
       "      <td>0</td>\n",
       "    </tr>\n",
       "    <tr>\n",
       "      <th>4</th>\n",
       "      <td>1</td>\n",
       "      <td>28.0</td>\n",
       "      <td>26100.0</td>\n",
       "      <td>0</td>\n",
       "      <td>0</td>\n",
       "    </tr>\n",
       "  </tbody>\n",
       "</table>\n",
       "</div>"
      ],
      "text/plain": [
       "   Пол  Возраст  Зарплата  Члены семьи  Страховые выплаты\n",
       "0    1     41.0   49600.0            1                  0\n",
       "1    0     46.0   38000.0            1                  1\n",
       "2    0     29.0   21000.0            0                  0\n",
       "3    0     21.0   41700.0            2                  0\n",
       "4    1     28.0   26100.0            0                  0"
      ]
     },
     "execution_count": 3,
     "metadata": {},
     "output_type": "execute_result"
    }
   ],
   "source": [
    "data.head()"
   ]
  },
  {
   "cell_type": "code",
   "execution_count": 4,
   "metadata": {},
   "outputs": [
    {
     "name": "stdout",
     "output_type": "stream",
     "text": [
      "<class 'pandas.core.frame.DataFrame'>\n",
      "RangeIndex: 5000 entries, 0 to 4999\n",
      "Data columns (total 5 columns):\n",
      " #   Column             Non-Null Count  Dtype  \n",
      "---  ------             --------------  -----  \n",
      " 0   Пол                5000 non-null   int64  \n",
      " 1   Возраст            5000 non-null   float64\n",
      " 2   Зарплата           5000 non-null   float64\n",
      " 3   Члены семьи        5000 non-null   int64  \n",
      " 4   Страховые выплаты  5000 non-null   int64  \n",
      "dtypes: float64(2), int64(3)\n",
      "memory usage: 195.4 KB\n"
     ]
    }
   ],
   "source": [
    "data.info()"
   ]
  },
  {
   "cell_type": "code",
   "execution_count": 5,
   "metadata": {},
   "outputs": [],
   "source": [
    "#Переименуем столбцы\n",
    "data.columns = ['sex', 'age', 'salary', 'family_members', 'insurance_payments']"
   ]
  },
  {
   "cell_type": "code",
   "execution_count": 6,
   "metadata": {},
   "outputs": [
    {
     "data": {
      "text/html": [
       "<div>\n",
       "<style scoped>\n",
       "    .dataframe tbody tr th:only-of-type {\n",
       "        vertical-align: middle;\n",
       "    }\n",
       "\n",
       "    .dataframe tbody tr th {\n",
       "        vertical-align: top;\n",
       "    }\n",
       "\n",
       "    .dataframe thead th {\n",
       "        text-align: right;\n",
       "    }\n",
       "</style>\n",
       "<table border=\"1\" class=\"dataframe\">\n",
       "  <thead>\n",
       "    <tr style=\"text-align: right;\">\n",
       "      <th></th>\n",
       "      <th>sex</th>\n",
       "      <th>age</th>\n",
       "      <th>salary</th>\n",
       "      <th>family_members</th>\n",
       "    </tr>\n",
       "  </thead>\n",
       "  <tbody>\n",
       "    <tr>\n",
       "      <th>count</th>\n",
       "      <td>5000.000000</td>\n",
       "      <td>5000.000000</td>\n",
       "      <td>5000.000000</td>\n",
       "      <td>5000.000000</td>\n",
       "    </tr>\n",
       "    <tr>\n",
       "      <th>mean</th>\n",
       "      <td>0.499000</td>\n",
       "      <td>30.952800</td>\n",
       "      <td>39916.360000</td>\n",
       "      <td>1.194200</td>\n",
       "    </tr>\n",
       "    <tr>\n",
       "      <th>std</th>\n",
       "      <td>0.500049</td>\n",
       "      <td>8.440807</td>\n",
       "      <td>9900.083569</td>\n",
       "      <td>1.091387</td>\n",
       "    </tr>\n",
       "    <tr>\n",
       "      <th>min</th>\n",
       "      <td>0.000000</td>\n",
       "      <td>18.000000</td>\n",
       "      <td>5300.000000</td>\n",
       "      <td>0.000000</td>\n",
       "    </tr>\n",
       "    <tr>\n",
       "      <th>25%</th>\n",
       "      <td>0.000000</td>\n",
       "      <td>24.000000</td>\n",
       "      <td>33300.000000</td>\n",
       "      <td>0.000000</td>\n",
       "    </tr>\n",
       "    <tr>\n",
       "      <th>50%</th>\n",
       "      <td>0.000000</td>\n",
       "      <td>30.000000</td>\n",
       "      <td>40200.000000</td>\n",
       "      <td>1.000000</td>\n",
       "    </tr>\n",
       "    <tr>\n",
       "      <th>75%</th>\n",
       "      <td>1.000000</td>\n",
       "      <td>37.000000</td>\n",
       "      <td>46600.000000</td>\n",
       "      <td>2.000000</td>\n",
       "    </tr>\n",
       "    <tr>\n",
       "      <th>max</th>\n",
       "      <td>1.000000</td>\n",
       "      <td>65.000000</td>\n",
       "      <td>79000.000000</td>\n",
       "      <td>6.000000</td>\n",
       "    </tr>\n",
       "  </tbody>\n",
       "</table>\n",
       "</div>"
      ],
      "text/plain": [
       "               sex          age        salary  family_members\n",
       "count  5000.000000  5000.000000   5000.000000     5000.000000\n",
       "mean      0.499000    30.952800  39916.360000        1.194200\n",
       "std       0.500049     8.440807   9900.083569        1.091387\n",
       "min       0.000000    18.000000   5300.000000        0.000000\n",
       "25%       0.000000    24.000000  33300.000000        0.000000\n",
       "50%       0.000000    30.000000  40200.000000        1.000000\n",
       "75%       1.000000    37.000000  46600.000000        2.000000\n",
       "max       1.000000    65.000000  79000.000000        6.000000"
      ]
     },
     "execution_count": 6,
     "metadata": {},
     "output_type": "execute_result"
    }
   ],
   "source": [
    "data[['sex', 'age', 'salary', 'family_members']].describe()"
   ]
  },
  {
   "cell_type": "markdown",
   "metadata": {},
   "source": [
    "<div class=\"alert alert-block alert-info\">\n",
    "Исходя из этой таблицы, видно, что по признакам нет выбивающихся значений и аномалий"
   ]
  },
  {
   "cell_type": "code",
   "execution_count": 7,
   "metadata": {
    "scrolled": true
   },
   "outputs": [
    {
     "data": {
      "text/plain": [
       "sex                   0\n",
       "age                   0\n",
       "salary                0\n",
       "family_members        0\n",
       "insurance_payments    0\n",
       "dtype: int64"
      ]
     },
     "execution_count": 7,
     "metadata": {},
     "output_type": "execute_result"
    }
   ],
   "source": [
    "#Исследуем признаки на пропуски\n",
    "data.isna().sum()"
   ]
  },
  {
   "cell_type": "code",
   "execution_count": 8,
   "metadata": {},
   "outputs": [
    {
     "data": {
      "text/plain": [
       "<seaborn.axisgrid.PairGrid at 0x7f4cedc2fe50>"
      ]
     },
     "execution_count": 8,
     "metadata": {},
     "output_type": "execute_result"
    },
    {
     "data": {
      "image/png": "[encoded data removed]",
      "text/plain": [
       "<Figure size 831.625x720 with 20 Axes>"
      ]
     },
     "metadata": {
      "needs_background": "light"
     },
     "output_type": "display_data"
    }
   ],
   "source": [
    "sns.pairplot(data, hue='insurance_payments')"
   ]
  },
  {
   "cell_type": "markdown",
   "metadata": {},
   "source": [
    "<div class=\"alert alert-success\">\n",
    "<b>✔️ Комментарий ревьювера:</b> Данные успешно загружены! Здорово, что добавила таблицу статистики признаков.\n",
    "    \n",
    "Как рекомендация, можно посмотреть матрицу корреляции признаков.\n",
    "    \n",
    "</div>"
   ]
  },
  {
   "cell_type": "markdown",
   "metadata": {},
   "source": [
    "<div class=\"alert alert-block alert-info\">\n",
    "Корреляция между признаками не выявлена"
   ]
  },
  {
   "cell_type": "markdown",
   "metadata": {},
   "source": [
    "<div class=\"alert alert-success\">\n",
    "<b>✔️ Комментарий ревьювера (v2):</b> Здорово, что добавила диаграммы pairplot.\n",
    "    \n",
    "Кстати, если посмотреть зависимость целевой переменной от признаков, можно увидеть высокую корреляцию страховых выплат от возраста.\n",
    "    \n",
    "</div>"
   ]
  },
  {
   "cell_type": "markdown",
   "metadata": {},
   "source": [
    "## Умножение матриц"
   ]
  },
  {
   "cell_type": "markdown",
   "metadata": {},
   "source": [
    "В этом задании вы можете записывать формулы в *Jupyter Notebook.*\n",
    "\n",
    "Чтобы записать формулу внутри текста, окружите её символами доллара \\\\$; если снаружи —  двойными символами \\\\$\\\\$. Эти формулы записываются на языке вёрстки *LaTeX.* \n",
    "\n",
    "Для примера мы записали формулы линейной регрессии. Можете их скопировать и отредактировать, чтобы решить задачу.\n",
    "\n",
    "Работать в *LaTeX* необязательно."
   ]
  },
  {
   "cell_type": "markdown",
   "metadata": {},
   "source": [
    "Обозначения:\n",
    "\n",
    "- $X$ — матрица признаков (нулевой столбец состоит из единиц)\n",
    "\n",
    "- $y$ — вектор целевого признака\n",
    "\n",
    "- $P$ — матрица, на которую умножаются признаки\n",
    "\n",
    "- $w$ — вектор весов линейной регрессии (нулевой элемент равен сдвигу)"
   ]
  },
  {
   "cell_type": "markdown",
   "metadata": {},
   "source": [
    "Предсказания:\n",
    "\n",
    "$$\n",
    "a = Xw\n",
    "$$\n",
    "\n",
    "Задача обучения:\n",
    "\n",
    "$$\n",
    "w = \\arg\\min_w MSE(Xw, y)\n",
    "$$\n",
    "\n",
    "Формула обучения:\n",
    "\n",
    "$$\n",
    "w = (X^T X)^{-1} X^T y\n",
    "$$"
   ]
  },
  {
   "cell_type": "markdown",
   "metadata": {},
   "source": [
    "<div class=\"alert alert-block alert-info\">\n",
    "    \n",
    "**Обратимая матрица** - это матрица, для которой можно найти обратную.\n",
    "\n",
    "\n",
    "**Единичная матрица** является обратимой, поскольку для нее существует обратная матрица, которая также равна единичной.\n",
    "\n",
    "Матрица **обратима**, только тогда, когда она невырождена, то есть её определитель не равен нулю.\n",
    "\n",
    "Для **неквадратных** матриц и **вырожденных матриц** обратных матриц не существует. "
   ]
  },
  {
   "cell_type": "markdown",
   "metadata": {},
   "source": [
    "\n",
    "**Ответ:** b.\n",
    "Качество линейной регрессии не поменяется\n",
    "\n",
    "\n",
    "\n",
    "**Обоснование:** \n",
    "1. Если умножить матрицу признаков (размера m x n) на обратимую матрицу, которая является единичной (размера n x n), матрица признаков останется без изменений, веса останутся те же, соответсвенно качество линейной регрессии не изменится. Поскольку:\n",
    "$$XE = EX = X$$\n",
    "\n",
    "\n",
    "2. Если умножить матрицу признаков (размера m x n) на обратимую матрицу, которая не является единичной (размера n x n), качество линейной регрессии также не изменится. Поскольку предсказания:\n",
    "$$a = (X^T X)^{-1} X^T y X$$\n",
    "\n",
    "Домножим X на обратимую (в то же время квадратную и вырожденную) матрицу P:\n",
    "$$a = ((XP)^T XP)^{-1} (XP)^T y XP$$\n",
    "По свойствам операции транспонирования и свойствам обратной матрицы:\n",
    "$$a = (X^TP^T XP)^{-1} X^TP^T y XP$$\n",
    "$$a = (X^TX)^{-1} X^TyP^TP(P^TP)^{-1}X$$\n",
    "Выражение $P^TP(P^TP)^{-1} = E$, при домножении на обратимую матрицу P получаем:\n",
    "$$a = (X^TX)^{-1} X^TyEX$$\n",
    "По формуле $XE = EX = X$, соответственно:\n",
    "$$a = (X^TX)^{-1} X^TyEX = (X^TX)^{-1} X^TyX$$\n",
    "Значит предсказания $a$ не изменятся, как и качество линейной регрессии.\n",
    "\n"
   ]
  },
  {
   "cell_type": "markdown",
   "metadata": {},
   "source": [
    "<div class=\"alert alert-danger\">\n",
    "<b>🚫 Комментарий ревьювера:</b> У тебя правильные шаги в доказательстве, но ошибки:\n",
    "    \n",
    "Правильно, что не раскрываешь скобки в выражении $(X^T X)^{-1}$, поскольку отдельно матриц $(X^T)^{-1}$ и $(X)^{-1}$ не существует, т.е. к ним нет обратных матриц.\n",
    "    \n",
    "Также нужно обращать внимание при раскрытии скобок в операциях обращения и транспонирования матриц. Тебе помогут формулы:\n",
    "    \n",
    "$(AB)^T = B^T A^T$,  $(AB)^{-1} = B^{-1} A^{-1}$, $P^{-1}P = E$, где $E$ это единичная матрица.\n",
    "    \n",
    "$w_1 = (X_1^T X_1)^{-1} X_1^T y$, рассмотрим выражение для весов признаков, его нужно преобразовать.\n",
    "    \n",
    "Приведу пример:\n",
    "    \n",
    "- $w_1 = ((XP)^T XO)^{-1} (XP)^T y = (P^T X^T XP)^{-1} P^T X^T y$. Дальше нужно вытащить матрицы $P$ и $P^T$ из-за скобок.\n",
    "    \n",
    "Вот здесь например у тебя ошибка:\n",
    "    \n",
    "$a = (X^TX)^{-1} X^TyP^TP(P^TP)^{-1}X$\n",
    "    \n",
    "Правильно будет так:\n",
    "    \n",
    "$a = XP P^{-1}(X^TX)^{-1} (P^T)^{-1} P^T X^T y$\n",
    "</div>"
   ]
  },
  {
   "cell_type": "markdown",
   "metadata": {},
   "source": [
    "<div class=\"alert alert-block alert-info\">\n",
    "ℹ️ Комментарий студента:\n",
    "    \n",
    "    \n",
    "Разве ход моего доказательства неверный? Домножив на матрицу P матрицу признаков X, я доказала при помощи формул свойств операции транспонирования и свойств обратной матрицы, что предсказание $a$ до домножения и после останется неизменным.\n",
    "   $$a = (X^TX)^{-1} X^TyEX = (X^TX)^{-1} X^TyX$$\n",
    "    \n",
    "    \n",
    "У вас в доказательстве после преобразований $a=y$. Как я понимаю, просто у нас разный ход доказательства. Это не так??"
   ]
  },
  {
   "cell_type": "markdown",
   "metadata": {},
   "source": [
    "<div class=\"alert alert-success\">\n",
    "<b>✔️ Комментарий ревьювера (v2):</b> Немного не так =) Вот смотри:\n",
    "    \n",
    "$w = (X^T X)^{-1} X^T y$ — это вектор весов, вычисляется по такой непростой формуле.\n",
    "    \n",
    "$a = Xw = X (X^T X)^{-1} X^T y$ — то есть выражение $a = y$ неправильное.\n",
    "    \n",
    "$y$ — это реальные ответы, $a$ — предсказания, и они отличаются от ответов в среднем на величину среднеквадратичной ошибки RMSE.\n",
    "    \n",
    "Поэтому нужно доказывать, что $a_1 = a$ или $X_1 w_1 = Xw$.\n",
    "    \n",
    "В твоем доказательстве неправильно выполняются перестановки матриц при раскрытии скобок, а порядок при умножении матриц очень важен.\n",
    "    \n",
    "$a = XP P^{-1}(X^TX)^{-1} (P^T)^{-1} P^T X^T y = XE (X^TX)^{-1} E X^T y$ — это преобразование правильное.\n",
    "</div>"
   ]
  },
  {
   "cell_type": "markdown",
   "metadata": {},
   "source": [
    "<div class=\"alert alert-block alert-info\">\n",
    "ℹ️ Комментарий студента:\n",
    "    \n",
    "    \n",
    "Я поняла! Порядок действительно важен $Xw$ - правильно, а $wX$ - нет.\n",
    "Я так понимаю, исправлять ничего не нужно? Переотправляю работу, спасибо за объяснение)"
   ]
  },
  {
   "cell_type": "markdown",
   "metadata": {},
   "source": [
    "<div class=\"alert alert-success\">\n",
    "<b>✔️ Комментарий ревьювера (v3):</b> В общем да=)\n",
    "    \n",
    "Я думаю теперь ты уже запомнишь матричные умножения =)\n",
    "    \n",
    "https://ml-handbook.ru/chapters/linear_models/intro Можешь посмотреть вот здесь теорию по линейной регрессии и по матрицам в том числе.\n",
    "    \n",
    "Как дополнение по матричным разложениями и теории машинного обучения можно посмотреть видеолекции К. Воронцова или Е. Соколова, они есть на Youtube.\n",
    "    \n",
    "Дополнительные материалы:\n",
    "    \n",
    "Вот неплохая статья по основам матричных операций и линейным моделям, правда на английском языке:\n",
    "\n",
    "https://jonathan-hui.medium.com/machine-learning-linear-algebra-a5b1658f0151\n",
    "\n",
    "https://python-scripts.com/numpy информация по numpy с примерами\n",
    "\n",
    "http://publish.sutd.ru/e_books/lin_alg_2013/html/matrix_33.html основные операции с матрицами\n",
    "\n",
    "http://www.machinelearning.ru/wiki/images/b/bb/Sem08_factorizations.pdf по матричным разложениям\n",
    "</div>"
   ]
  },
  {
   "cell_type": "markdown",
   "metadata": {},
   "source": [
    "## Алгоритм преобразования"
   ]
  },
  {
   "cell_type": "markdown",
   "metadata": {},
   "source": [
    "**Алгоритм**\n",
    "\n",
    "Домножить матрицу признаков X (размера m x n) на обратимую произвольную матрицу (размера n x n).\n"
   ]
  },
  {
   "cell_type": "markdown",
   "metadata": {},
   "source": [
    "**Обоснование**\n",
    "\n",
    "Таким образом признаки будут преобразованы и по ним невозможно будет идентифицировать персональную информацию клиентов. При этом, исходя из вышеописанного вывода формул, предсказания не поменяется и качество линейной регресии останется без изменений.\n",
    "\n",
    "$$a = (X^T X)^{-1} X^T y X = ((XA)^T XP)^{-1} (XP)^T y XP$$"
   ]
  },
  {
   "cell_type": "markdown",
   "metadata": {},
   "source": [
    "## Проверка алгоритма"
   ]
  },
  {
   "cell_type": "markdown",
   "metadata": {},
   "source": [
    "**Обучим модель на исходных признаках и посчитаем коэффициент детерминации на валидационной выборке**"
   ]
  },
  {
   "cell_type": "code",
   "execution_count": 9,
   "metadata": {},
   "outputs": [],
   "source": [
    "features = data.drop('insurance_payments', axis=1)\n",
    "target = data['insurance_payments']"
   ]
  },
  {
   "cell_type": "code",
   "execution_count": 10,
   "metadata": {},
   "outputs": [],
   "source": [
    "#Разделим выборку на обучающую и валидационную\n",
    "x_train, x_valid, y_train, y_valid = train_test_split(features, target, test_size=0.25, random_state=random_state)"
   ]
  },
  {
   "cell_type": "code",
   "execution_count": 11,
   "metadata": {
    "scrolled": true
   },
   "outputs": [
    {
     "name": "stdout",
     "output_type": "stream",
     "text": [
      "Коэффициент детерминации: 0.4352276\n"
     ]
    }
   ],
   "source": [
    "model = LinearRegression()\n",
    "model.fit(x_train, y_train)\n",
    "R2 = model.score(x_valid, y_valid)\n",
    "print(\"Коэффициент детерминации:\", round(R2, 7))"
   ]
  },
  {
   "cell_type": "markdown",
   "metadata": {},
   "source": [
    "**Обучим модель на признаках, умноженных на произвольную обратимую матрицу, и посчитаем коэффициент детерминации**"
   ]
  },
  {
   "cell_type": "code",
   "execution_count": 12,
   "metadata": {},
   "outputs": [
    {
     "data": {
      "text/plain": [
       "(5000, 4)"
      ]
     },
     "execution_count": 12,
     "metadata": {},
     "output_type": "execute_result"
    }
   ],
   "source": [
    "features.shape"
   ]
  },
  {
   "cell_type": "code",
   "execution_count": 13,
   "metadata": {},
   "outputs": [],
   "source": [
    "np.random.seed(12345)\n",
    "def P_matrix(n):\n",
    "    while True:\n",
    "        P = np.random.uniform(0, 100, (n, n))\n",
    "        if np.linalg.det(P) != 0:\n",
    "            break\n",
    "    return P"
   ]
  },
  {
   "cell_type": "markdown",
   "metadata": {},
   "source": [
    "<div class=\"alert alert-success\">\n",
    "<b>✔️ Комментарий ревьювера:</b> Хорошая конструкция для проверки обратимости матрицы!\n",
    "    \n",
    "Чтобы получше «зашифровать» признаки, рекомендую использовать числа float вместо int.\n",
    "    \n",
    "</div>"
   ]
  },
  {
   "cell_type": "code",
   "execution_count": 14,
   "metadata": {},
   "outputs": [],
   "source": [
    "P = P_matrix(4)"
   ]
  },
  {
   "cell_type": "markdown",
   "metadata": {},
   "source": [
    "<div class=\"alert alert-success\">\n",
    "<b>✔️ Комментарий ревьювера:</b> Предпочтительно использовать оператор @ — он строже, чем np.dot. \n",
    "    \n",
    "Оператор @ работает с матрицами и означает именно матричное умножение, а dot — скалярное произведение. В данном случае его допустимо использовать.\n",
    "</div>"
   ]
  },
  {
   "cell_type": "code",
   "execution_count": 15,
   "metadata": {},
   "outputs": [],
   "source": [
    "new_features = pd.DataFrame(features.values @ P)"
   ]
  },
  {
   "cell_type": "code",
   "execution_count": 16,
   "metadata": {},
   "outputs": [],
   "source": [
    "x_train1 = new_features.loc[x_train.index, :]\n",
    "x_valid1 = new_features.loc[x_valid.index, :]"
   ]
  },
  {
   "cell_type": "code",
   "execution_count": 17,
   "metadata": {},
   "outputs": [
    {
     "name": "stdout",
     "output_type": "stream",
     "text": [
      "Коэффициент детерминации: 0.4352276\n"
     ]
    }
   ],
   "source": [
    "model.fit(x_train1, y_train)\n",
    "R2 = model.score(x_valid1, y_valid)\n",
    "print(\"Коэффициент детерминации:\", round(R2, 7))"
   ]
  },
  {
   "cell_type": "markdown",
   "metadata": {},
   "source": [
    "<div class=\"alert alert-success\">\n",
    "<b>✔️ Комментарий ревьювера:</b> Для наглядности, советую увеличить количество знаков после запятой в метрике r2.\n",
    "    \n",
    "</div>"
   ]
  },
  {
   "cell_type": "markdown",
   "metadata": {},
   "source": [
    "<div class=\"alert alert-success\">\n",
    "<b>✔️ Комментарий ревьювера:</b> Качество предсказания действительно не изменяется, результат достигнут!\n",
    "    \n",
    "Еще могу порекомендовать вот такой материал:\n",
    "    \n",
    "https://habr.com/ru/post/479398/\n",
    "\n",
    "https://habr.com/ru/company/vk/blog/478514/ Применение зашифрованных данных для машинного обучения\n",
    "\n",
    "https://www.amazon.science/blog/machine-learning-models-that-act-on-encrypted-data#:~:text=Privacy%2Dpreserving%20machine%20learning%20 Privacy-preserving machine learning (PPML)\n",
    " \n",
    "</div>"
   ]
  },
  {
   "cell_type": "markdown",
   "metadata": {},
   "source": [
    "<div class=\"alert alert-block alert-info\">\n",
    "    \n",
    "**Вывод:** теоретически и на практике было выявлено и доказано, что при умножении матрицы признаков на обратимую матрицу качество модели не меняется. Соответственно, в данной задаче умножение матрицы признаков на случайную обратимую матрицу позволит преобразовать признаки таким образом, что по ним невозможно будет восстановить персональную информацию клиентов. "
   ]
  },
  {
   "cell_type": "markdown",
   "metadata": {},
   "source": [
    "<div class=\"alert alert-success\">\n",
    "<b>✔️ Комментарий ревьювера (v2):</b> Правильный вывод =)\n",
    "    \n",
    "</div>"
   ]
  },
  {
   "cell_type": "markdown",
   "metadata": {},
   "source": [
    "<font color=blue>\n",
    "<b> ✔️ 👍Заключение ревьювера:</b> Алина, у тебя хорошая работа, получен положительный результат! \n",
    "   \n",
    "Могу отметить грамотно составленный код, хорошую практическую часть =)\n",
    "    \n",
    "В проекте необходимо поправить теоретическое доказательство, в остальном я отметил рекомендации!\n",
    "    \n",
    "Отправляю работу для ознакомления с ходом проверки, а также если есть вопросы — смело задавай их, я постараюсь тебе помочь 😊\n",
    "\n",
    "Жду твоего ответа!\n",
    "</font>"
   ]
  },
  {
   "cell_type": "markdown",
   "metadata": {},
   "source": [
    "## Чек-лист проверки"
   ]
  },
  {
   "cell_type": "markdown",
   "metadata": {},
   "source": [
    "Поставьте 'x' в выполненных пунктах. Далее нажмите Shift+Enter."
   ]
  },
  {
   "cell_type": "markdown",
   "metadata": {},
   "source": [
    "- [x]  Jupyter Notebook открыт\n",
    "- [ ]  Весь код выполняется без ошибок\n",
    "- [ ]  Ячейки с кодом расположены в порядке исполнения\n",
    "- [ ]  Выполнен шаг 1: данные загружены\n",
    "- [ ]  Выполнен шаг 2: получен ответ на вопрос об умножении матриц\n",
    "    - [ ]  Указан правильный вариант ответа\n",
    "    - [ ]  Вариант обоснован\n",
    "- [ ]  Выполнен шаг 3: предложен алгоритм преобразования\n",
    "    - [ ]  Алгоритм описан\n",
    "    - [ ]  Алгоритм обоснован\n",
    "- [ ]  Выполнен шаг 4: алгоритм проверен\n",
    "    - [ ]  Алгоритм реализован\n",
    "    - [ ]  Проведено сравнение качества моделей до и после преобразования"
   ]
  },
  {
   "cell_type": "code",
   "execution_count": null,
   "metadata": {},
   "outputs": [],
   "source": []
  }
 ],
 "metadata": {
  "ExecuteTimeLog": [
   {
    "duration": 538,
    "start_time": "2022-06-14T08:20:05.803Z"
   },
   {
    "duration": 84,
    "start_time": "2022-06-14T08:34:19.015Z"
   },
   {
    "duration": 17,
    "start_time": "2022-06-14T08:35:19.412Z"
   },
   {
    "duration": 107,
    "start_time": "2022-06-14T08:38:24.144Z"
   },
   {
    "duration": 30,
    "start_time": "2022-06-14T08:38:26.719Z"
   },
   {
    "duration": 20,
    "start_time": "2022-06-14T08:38:44.767Z"
   },
   {
    "duration": 11,
    "start_time": "2022-06-14T08:38:50.487Z"
   },
   {
    "duration": 8,
    "start_time": "2022-06-14T08:38:56.015Z"
   },
   {
    "duration": 3,
    "start_time": "2022-06-14T08:44:22.335Z"
   },
   {
    "duration": 49,
    "start_time": "2022-06-14T08:45:12.959Z"
   },
   {
    "duration": 5,
    "start_time": "2022-06-14T08:45:47.333Z"
   },
   {
    "duration": 40,
    "start_time": "2022-06-14T08:46:51.138Z"
   },
   {
    "duration": 38,
    "start_time": "2022-06-14T08:48:48.878Z"
   },
   {
    "duration": 7,
    "start_time": "2022-06-14T08:51:47.822Z"
   },
   {
    "duration": 8,
    "start_time": "2022-06-14T08:51:52.021Z"
   },
   {
    "duration": 12,
    "start_time": "2022-06-14T08:52:05.582Z"
   },
   {
    "duration": 20,
    "start_time": "2022-06-14T08:52:20.846Z"
   },
   {
    "duration": 9,
    "start_time": "2022-06-14T08:58:50.677Z"
   },
   {
    "duration": 9,
    "start_time": "2022-06-14T09:33:48.750Z"
   },
   {
    "duration": 42,
    "start_time": "2022-06-16T09:30:11.974Z"
   },
   {
    "duration": 32,
    "start_time": "2022-06-16T09:30:25.449Z"
   },
   {
    "duration": 40,
    "start_time": "2022-06-16T11:56:31.845Z"
   },
   {
    "duration": 351,
    "start_time": "2022-06-16T11:56:41.004Z"
   },
   {
    "duration": 79,
    "start_time": "2022-06-16T11:56:41.357Z"
   },
   {
    "duration": 13,
    "start_time": "2022-06-16T11:56:41.437Z"
   },
   {
    "duration": 10,
    "start_time": "2022-06-16T11:56:41.452Z"
   },
   {
    "duration": 18,
    "start_time": "2022-06-16T11:56:41.464Z"
   },
   {
    "duration": 4,
    "start_time": "2022-06-16T11:56:41.484Z"
   },
   {
    "duration": 9,
    "start_time": "2022-06-16T11:56:41.490Z"
   },
   {
    "duration": 11,
    "start_time": "2022-06-16T11:56:56.475Z"
   },
   {
    "duration": 2,
    "start_time": "2022-06-16T11:58:49.195Z"
   },
   {
    "duration": 11,
    "start_time": "2022-06-16T11:58:55.996Z"
   },
   {
    "duration": 19,
    "start_time": "2022-06-16T11:59:15.838Z"
   },
   {
    "duration": 11,
    "start_time": "2022-06-16T11:59:28.555Z"
   },
   {
    "duration": 3,
    "start_time": "2022-06-16T12:00:22.239Z"
   },
   {
    "duration": 41,
    "start_time": "2022-06-16T12:00:26.739Z"
   },
   {
    "duration": 4,
    "start_time": "2022-06-16T12:00:34.434Z"
   },
   {
    "duration": 13,
    "start_time": "2022-06-16T12:00:39.884Z"
   },
   {
    "duration": 41,
    "start_time": "2022-06-16T12:01:47.841Z"
   },
   {
    "duration": 554,
    "start_time": "2022-06-16T12:01:52.133Z"
   },
   {
    "duration": 63,
    "start_time": "2022-06-16T12:13:48.043Z"
   },
   {
    "duration": 3,
    "start_time": "2022-06-16T12:13:51.849Z"
   },
   {
    "duration": 207,
    "start_time": "2022-06-16T12:19:15.864Z"
   },
   {
    "duration": 5,
    "start_time": "2022-06-16T12:19:23.207Z"
   },
   {
    "duration": 34,
    "start_time": "2022-06-16T12:21:39.849Z"
   },
   {
    "duration": 4,
    "start_time": "2022-06-16T12:22:08.652Z"
   },
   {
    "duration": 10,
    "start_time": "2022-06-16T12:31:09.101Z"
   },
   {
    "duration": 3,
    "start_time": "2022-06-16T12:31:12.057Z"
   },
   {
    "duration": 4,
    "start_time": "2022-06-16T12:33:29.930Z"
   },
   {
    "duration": 144,
    "start_time": "2022-06-16T12:34:02.473Z"
   },
   {
    "duration": 4,
    "start_time": "2022-06-16T12:34:06.760Z"
   },
   {
    "duration": 12,
    "start_time": "2022-06-16T12:34:42.918Z"
   },
   {
    "duration": 4,
    "start_time": "2022-06-16T12:36:37.016Z"
   },
   {
    "duration": 11,
    "start_time": "2022-06-16T12:36:46.070Z"
   },
   {
    "duration": 5,
    "start_time": "2022-06-16T12:37:07.382Z"
   },
   {
    "duration": 8,
    "start_time": "2022-06-16T12:37:33.864Z"
   },
   {
    "duration": 4,
    "start_time": "2022-06-16T12:37:40.485Z"
   },
   {
    "duration": 5,
    "start_time": "2022-06-16T12:46:44.741Z"
   },
   {
    "duration": 2,
    "start_time": "2022-06-16T12:46:46.119Z"
   },
   {
    "duration": 158,
    "start_time": "2022-06-16T12:46:46.584Z"
   },
   {
    "duration": 180,
    "start_time": "2022-06-16T12:46:59.174Z"
   },
   {
    "duration": 3,
    "start_time": "2022-06-16T12:47:52.277Z"
   },
   {
    "duration": 182,
    "start_time": "2022-06-16T12:47:55.573Z"
   },
   {
    "duration": 7,
    "start_time": "2022-06-16T12:48:19.445Z"
   },
   {
    "duration": 3,
    "start_time": "2022-06-16T12:48:34.669Z"
   },
   {
    "duration": 3,
    "start_time": "2022-06-16T12:48:39.509Z"
   },
   {
    "duration": 2,
    "start_time": "2022-06-16T12:48:44.181Z"
   },
   {
    "duration": 737,
    "start_time": "2022-06-16T12:50:08.745Z"
   },
   {
    "duration": 148,
    "start_time": "2022-06-16T12:50:51.645Z"
   },
   {
    "duration": 4,
    "start_time": "2022-06-16T12:51:18.389Z"
   },
   {
    "duration": 48,
    "start_time": "2022-06-16T12:51:51.529Z"
   },
   {
    "duration": 150,
    "start_time": "2022-06-16T12:52:00.401Z"
   },
   {
    "duration": 33,
    "start_time": "2022-06-16T12:53:32.425Z"
   },
   {
    "duration": 3,
    "start_time": "2022-06-16T12:53:53.562Z"
   },
   {
    "duration": 12,
    "start_time": "2022-06-16T12:54:46.746Z"
   },
   {
    "duration": 6,
    "start_time": "2022-06-16T12:55:43.652Z"
   },
   {
    "duration": 5,
    "start_time": "2022-06-16T12:55:54.501Z"
   },
   {
    "duration": 9,
    "start_time": "2022-06-16T12:56:56.182Z"
   },
   {
    "duration": 5,
    "start_time": "2022-06-16T12:56:59.143Z"
   },
   {
    "duration": 8,
    "start_time": "2022-06-16T13:00:58.442Z"
   },
   {
    "duration": 8,
    "start_time": "2022-06-16T13:01:02.868Z"
   },
   {
    "duration": 5,
    "start_time": "2022-06-16T13:01:07.048Z"
   },
   {
    "duration": 2,
    "start_time": "2022-06-16T13:04:02.579Z"
   },
   {
    "duration": 4,
    "start_time": "2022-06-16T13:04:06.964Z"
   },
   {
    "duration": 3,
    "start_time": "2022-06-16T13:04:14.837Z"
   },
   {
    "duration": 4,
    "start_time": "2022-06-16T13:04:16.022Z"
   },
   {
    "duration": 3,
    "start_time": "2022-06-16T13:04:27.556Z"
   },
   {
    "duration": 3,
    "start_time": "2022-06-16T13:04:28.752Z"
   },
   {
    "duration": 11,
    "start_time": "2022-06-16T13:05:12.054Z"
   },
   {
    "duration": 10,
    "start_time": "2022-06-16T13:05:15.922Z"
   },
   {
    "duration": 2,
    "start_time": "2022-06-16T13:05:25.044Z"
   },
   {
    "duration": 4,
    "start_time": "2022-06-16T13:05:25.645Z"
   },
   {
    "duration": 141,
    "start_time": "2022-06-16T13:05:33.644Z"
   },
   {
    "duration": 4,
    "start_time": "2022-06-16T13:05:34.069Z"
   },
   {
    "duration": 2,
    "start_time": "2022-06-16T13:05:43.348Z"
   },
   {
    "duration": 3,
    "start_time": "2022-06-16T13:05:43.838Z"
   },
   {
    "duration": 2,
    "start_time": "2022-06-16T13:05:59.252Z"
   },
   {
    "duration": 4,
    "start_time": "2022-06-16T13:05:59.704Z"
   },
   {
    "duration": 2,
    "start_time": "2022-06-16T13:07:15.424Z"
   },
   {
    "duration": 4,
    "start_time": "2022-06-16T13:07:15.892Z"
   },
   {
    "duration": 38,
    "start_time": "2022-06-16T13:07:23.588Z"
   },
   {
    "duration": 4,
    "start_time": "2022-06-16T13:07:24.025Z"
   },
   {
    "duration": 52,
    "start_time": "2022-06-16T13:07:26.500Z"
   },
   {
    "duration": 340,
    "start_time": "2022-06-16T13:07:30.340Z"
   },
   {
    "duration": 5,
    "start_time": "2022-06-16T13:07:30.883Z"
   },
   {
    "duration": 225,
    "start_time": "2022-06-16T13:07:35.956Z"
   },
   {
    "duration": 5,
    "start_time": "2022-06-16T13:07:36.876Z"
   },
   {
    "duration": 6,
    "start_time": "2022-06-16T13:09:14.244Z"
   },
   {
    "duration": 226,
    "start_time": "2022-06-16T13:09:16.262Z"
   },
   {
    "duration": 4,
    "start_time": "2022-06-16T13:09:16.662Z"
   },
   {
    "duration": 4,
    "start_time": "2022-06-16T13:09:57.477Z"
   },
   {
    "duration": 89,
    "start_time": "2022-06-16T13:10:17.668Z"
   },
   {
    "duration": 8,
    "start_time": "2022-06-16T13:11:16.596Z"
   },
   {
    "duration": 170,
    "start_time": "2022-06-16T13:11:24.213Z"
   },
   {
    "duration": 4,
    "start_time": "2022-06-16T13:11:34.451Z"
   },
   {
    "duration": 4,
    "start_time": "2022-06-16T13:11:39.148Z"
   },
   {
    "duration": 149,
    "start_time": "2022-06-16T13:11:56.436Z"
   },
   {
    "duration": 12,
    "start_time": "2022-06-16T13:12:00.884Z"
   },
   {
    "duration": 231,
    "start_time": "2022-06-16T13:12:13.972Z"
   },
   {
    "duration": 175,
    "start_time": "2022-06-16T13:12:14.205Z"
   },
   {
    "duration": 13,
    "start_time": "2022-06-16T13:12:14.905Z"
   },
   {
    "duration": 5,
    "start_time": "2022-06-16T13:16:29.203Z"
   },
   {
    "duration": 11,
    "start_time": "2022-06-16T13:18:51.699Z"
   },
   {
    "duration": 3,
    "start_time": "2022-06-16T13:19:21.222Z"
   },
   {
    "duration": 32,
    "start_time": "2022-06-16T13:19:21.227Z"
   },
   {
    "duration": 7,
    "start_time": "2022-06-16T13:19:21.260Z"
   },
   {
    "duration": 11,
    "start_time": "2022-06-16T13:19:21.269Z"
   },
   {
    "duration": 2,
    "start_time": "2022-06-16T13:19:21.282Z"
   },
   {
    "duration": 23,
    "start_time": "2022-06-16T13:19:21.285Z"
   },
   {
    "duration": 4,
    "start_time": "2022-06-16T13:19:21.310Z"
   },
   {
    "duration": 5,
    "start_time": "2022-06-16T13:19:21.315Z"
   },
   {
    "duration": 2,
    "start_time": "2022-06-16T13:19:21.322Z"
   },
   {
    "duration": 7,
    "start_time": "2022-06-16T13:19:21.326Z"
   },
   {
    "duration": 728,
    "start_time": "2022-06-16T13:19:21.334Z"
   },
   {
    "duration": 147,
    "start_time": "2022-06-16T13:19:22.064Z"
   },
   {
    "duration": 4,
    "start_time": "2022-06-16T13:19:22.212Z"
   },
   {
    "duration": 18,
    "start_time": "2022-06-16T13:19:22.218Z"
   },
   {
    "duration": 237,
    "start_time": "2022-06-16T13:19:22.237Z"
   },
   {
    "duration": 200,
    "start_time": "2022-06-16T13:19:22.477Z"
   },
   {
    "duration": 5,
    "start_time": "2022-06-16T13:19:22.679Z"
   },
   {
    "duration": 11,
    "start_time": "2022-06-16T13:19:25.132Z"
   },
   {
    "duration": 11,
    "start_time": "2022-06-16T13:19:36.099Z"
   },
   {
    "duration": 11,
    "start_time": "2022-06-16T13:19:40.851Z"
   },
   {
    "duration": 11,
    "start_time": "2022-06-16T13:19:51.667Z"
   },
   {
    "duration": 11,
    "start_time": "2022-06-16T13:19:54.883Z"
   },
   {
    "duration": 5,
    "start_time": "2022-06-16T13:20:00.179Z"
   },
   {
    "duration": 5,
    "start_time": "2022-06-16T13:20:15.029Z"
   },
   {
    "duration": 270,
    "start_time": "2022-06-16T13:20:18.979Z"
   },
   {
    "duration": 9,
    "start_time": "2022-06-16T13:21:29.283Z"
   },
   {
    "duration": 55,
    "start_time": "2022-06-16T13:21:36.724Z"
   },
   {
    "duration": 3,
    "start_time": "2022-06-16T13:21:40.723Z"
   },
   {
    "duration": 56,
    "start_time": "2022-06-16T13:21:52.082Z"
   },
   {
    "duration": 4,
    "start_time": "2022-06-16T13:21:52.642Z"
   },
   {
    "duration": 3,
    "start_time": "2022-06-16T13:22:22.068Z"
   },
   {
    "duration": 44,
    "start_time": "2022-06-16T13:22:22.073Z"
   },
   {
    "duration": 8,
    "start_time": "2022-06-16T13:22:22.119Z"
   },
   {
    "duration": 14,
    "start_time": "2022-06-16T13:22:22.128Z"
   },
   {
    "duration": 4,
    "start_time": "2022-06-16T13:22:22.144Z"
   },
   {
    "duration": 23,
    "start_time": "2022-06-16T13:22:22.149Z"
   },
   {
    "duration": 5,
    "start_time": "2022-06-16T13:22:22.174Z"
   },
   {
    "duration": 11,
    "start_time": "2022-06-16T13:22:22.180Z"
   },
   {
    "duration": 5,
    "start_time": "2022-06-16T13:22:22.192Z"
   },
   {
    "duration": 11,
    "start_time": "2022-06-16T13:22:22.199Z"
   },
   {
    "duration": 736,
    "start_time": "2022-06-16T13:22:22.212Z"
   },
   {
    "duration": 193,
    "start_time": "2022-06-16T13:22:22.950Z"
   },
   {
    "duration": 4,
    "start_time": "2022-06-16T13:22:23.145Z"
   },
   {
    "duration": 287,
    "start_time": "2022-06-16T13:22:23.151Z"
   },
   {
    "duration": 148,
    "start_time": "2022-06-16T13:22:23.440Z"
   },
   {
    "duration": 5,
    "start_time": "2022-06-16T13:22:23.679Z"
   },
   {
    "duration": 154,
    "start_time": "2022-06-16T13:22:23.686Z"
   },
   {
    "duration": 4,
    "start_time": "2022-06-16T13:22:23.842Z"
   },
   {
    "duration": 65,
    "start_time": "2022-06-16T13:22:38.211Z"
   },
   {
    "duration": 56,
    "start_time": "2022-06-16T13:22:41.778Z"
   },
   {
    "duration": 4,
    "start_time": "2022-06-16T13:22:42.386Z"
   },
   {
    "duration": 3,
    "start_time": "2022-06-16T13:23:56.492Z"
   },
   {
    "duration": 32,
    "start_time": "2022-06-16T13:23:56.497Z"
   },
   {
    "duration": 8,
    "start_time": "2022-06-16T13:23:56.531Z"
   },
   {
    "duration": 15,
    "start_time": "2022-06-16T13:23:56.541Z"
   },
   {
    "duration": 3,
    "start_time": "2022-06-16T13:23:56.558Z"
   },
   {
    "duration": 26,
    "start_time": "2022-06-16T13:23:56.563Z"
   },
   {
    "duration": 5,
    "start_time": "2022-06-16T13:23:56.590Z"
   },
   {
    "duration": 10,
    "start_time": "2022-06-16T13:23:56.597Z"
   },
   {
    "duration": 3,
    "start_time": "2022-06-16T13:23:56.608Z"
   },
   {
    "duration": 7,
    "start_time": "2022-06-16T13:23:56.613Z"
   },
   {
    "duration": 777,
    "start_time": "2022-06-16T13:23:56.622Z"
   },
   {
    "duration": 170,
    "start_time": "2022-06-16T13:23:57.400Z"
   },
   {
    "duration": 15,
    "start_time": "2022-06-16T13:24:03.106Z"
   },
   {
    "duration": 161,
    "start_time": "2022-06-16T13:24:40.922Z"
   },
   {
    "duration": 4,
    "start_time": "2022-06-16T13:25:02.069Z"
   },
   {
    "duration": 12,
    "start_time": "2022-06-16T13:25:12.789Z"
   },
   {
    "duration": 13,
    "start_time": "2022-06-16T13:25:20.210Z"
   },
   {
    "duration": 4,
    "start_time": "2022-06-16T13:26:35.048Z"
   },
   {
    "duration": 8,
    "start_time": "2022-06-16T13:26:42.929Z"
   },
   {
    "duration": 3,
    "start_time": "2022-06-16T13:26:46.097Z"
   },
   {
    "duration": 4,
    "start_time": "2022-06-16T13:26:46.316Z"
   },
   {
    "duration": 52,
    "start_time": "2022-06-16T13:26:50.475Z"
   },
   {
    "duration": 3,
    "start_time": "2022-06-16T13:26:51.034Z"
   },
   {
    "duration": 199,
    "start_time": "2022-06-16T13:27:23.252Z"
   },
   {
    "duration": 3,
    "start_time": "2022-06-16T13:27:36.539Z"
   },
   {
    "duration": 261,
    "start_time": "2022-06-16T13:27:37.602Z"
   },
   {
    "duration": 245,
    "start_time": "2022-06-16T13:27:40.833Z"
   },
   {
    "duration": 3,
    "start_time": "2022-06-16T13:27:41.962Z"
   },
   {
    "duration": 4,
    "start_time": "2022-06-16T13:27:42.410Z"
   },
   {
    "duration": 2,
    "start_time": "2022-06-16T13:27:44.059Z"
   },
   {
    "duration": 54,
    "start_time": "2022-06-16T13:27:45.227Z"
   },
   {
    "duration": 4,
    "start_time": "2022-06-16T13:27:45.681Z"
   },
   {
    "duration": 8727,
    "start_time": "2022-06-16T13:45:34.253Z"
   },
   {
    "duration": 4,
    "start_time": "2022-06-16T13:48:13.415Z"
   },
   {
    "duration": 67,
    "start_time": "2022-06-16T13:51:02.082Z"
   },
   {
    "duration": 4,
    "start_time": "2022-06-16T13:51:11.944Z"
   },
   {
    "duration": 2,
    "start_time": "2022-06-16T13:51:16.414Z"
   },
   {
    "duration": 4,
    "start_time": "2022-06-16T13:51:16.608Z"
   },
   {
    "duration": 240,
    "start_time": "2022-06-16T13:51:24.166Z"
   },
   {
    "duration": 4,
    "start_time": "2022-06-16T13:51:24.510Z"
   },
   {
    "duration": 13854,
    "start_time": "2022-06-16T13:51:28.846Z"
   },
   {
    "duration": 13984,
    "start_time": "2022-06-16T13:51:54.613Z"
   },
   {
    "duration": 7940,
    "start_time": "2022-06-16T13:52:19.245Z"
   },
   {
    "duration": 135,
    "start_time": "2022-06-16T13:55:00.206Z"
   },
   {
    "duration": 10,
    "start_time": "2022-06-16T13:56:00.174Z"
   },
   {
    "duration": 2,
    "start_time": "2022-06-16T13:56:09.390Z"
   },
   {
    "duration": 222,
    "start_time": "2022-06-16T13:56:10.253Z"
   },
   {
    "duration": 14007,
    "start_time": "2022-06-16T13:56:11.445Z"
   },
   {
    "duration": 168,
    "start_time": "2022-06-16T13:58:51.541Z"
   },
   {
    "duration": 3,
    "start_time": "2022-06-16T13:58:58.311Z"
   },
   {
    "duration": 126,
    "start_time": "2022-06-16T13:59:06.959Z"
   },
   {
    "duration": 4,
    "start_time": "2022-06-16T13:59:07.366Z"
   },
   {
    "duration": 5,
    "start_time": "2022-06-16T13:59:07.859Z"
   },
   {
    "duration": 64,
    "start_time": "2022-06-16T13:59:40.546Z"
   },
   {
    "duration": 4,
    "start_time": "2022-06-16T13:59:45.445Z"
   },
   {
    "duration": 177,
    "start_time": "2022-06-16T14:00:54.965Z"
   },
   {
    "duration": 4,
    "start_time": "2022-06-16T14:00:55.234Z"
   },
   {
    "duration": 66,
    "start_time": "2022-06-16T14:00:58.554Z"
   },
   {
    "duration": 4,
    "start_time": "2022-06-16T14:01:00.393Z"
   },
   {
    "duration": 305,
    "start_time": "2022-06-16T14:01:54.856Z"
   },
   {
    "duration": 4,
    "start_time": "2022-06-16T14:01:59.360Z"
   },
   {
    "duration": 235,
    "start_time": "2022-06-16T14:02:11.043Z"
   },
   {
    "duration": 12,
    "start_time": "2022-06-16T14:02:14.215Z"
   },
   {
    "duration": 3,
    "start_time": "2022-06-16T14:02:14.457Z"
   },
   {
    "duration": 70,
    "start_time": "2022-06-16T14:02:42.798Z"
   },
   {
    "duration": 4,
    "start_time": "2022-06-16T14:02:43.552Z"
   },
   {
    "duration": 217,
    "start_time": "2022-06-16T14:02:49.197Z"
   },
   {
    "duration": 4,
    "start_time": "2022-06-16T14:02:49.416Z"
   },
   {
    "duration": 3,
    "start_time": "2022-06-16T14:04:27.355Z"
   },
   {
    "duration": 14202,
    "start_time": "2022-06-16T14:04:42.342Z"
   },
   {
    "duration": 936,
    "start_time": "2022-06-16T14:05:24.176Z"
   },
   {
    "duration": 26,
    "start_time": "2022-06-16T14:05:25.114Z"
   },
   {
    "duration": 13,
    "start_time": "2022-06-16T14:05:25.142Z"
   },
   {
    "duration": 10,
    "start_time": "2022-06-16T14:05:25.156Z"
   },
   {
    "duration": 3,
    "start_time": "2022-06-16T14:05:25.167Z"
   },
   {
    "duration": 21,
    "start_time": "2022-06-16T14:05:25.171Z"
   },
   {
    "duration": 5,
    "start_time": "2022-06-16T14:05:25.193Z"
   },
   {
    "duration": 12,
    "start_time": "2022-06-16T14:05:25.199Z"
   },
   {
    "duration": 3,
    "start_time": "2022-06-16T14:05:25.213Z"
   },
   {
    "duration": 4,
    "start_time": "2022-06-16T14:05:25.219Z"
   },
   {
    "duration": 727,
    "start_time": "2022-06-16T14:05:25.225Z"
   },
   {
    "duration": 178,
    "start_time": "2022-06-16T14:05:25.954Z"
   },
   {
    "duration": 186,
    "start_time": "2022-06-16T14:05:26.134Z"
   },
   {
    "duration": 4,
    "start_time": "2022-06-16T14:05:26.322Z"
   },
   {
    "duration": 15,
    "start_time": "2022-06-16T14:05:26.327Z"
   },
   {
    "duration": 11,
    "start_time": "2022-06-16T14:05:26.343Z"
   },
   {
    "duration": 13838,
    "start_time": "2022-06-16T14:05:30.455Z"
   },
   {
    "duration": 4,
    "start_time": "2022-06-16T14:07:58.505Z"
   },
   {
    "duration": 13570,
    "start_time": "2022-06-16T14:07:58.961Z"
   },
   {
    "duration": 12,
    "start_time": "2022-06-16T14:08:50.347Z"
   },
   {
    "duration": 3,
    "start_time": "2022-06-16T14:10:02.073Z"
   },
   {
    "duration": 10,
    "start_time": "2022-06-16T14:10:02.644Z"
   },
   {
    "duration": 3,
    "start_time": "2022-06-16T14:10:23.146Z"
   },
   {
    "duration": 453,
    "start_time": "2022-06-16T14:10:23.793Z"
   },
   {
    "duration": 4,
    "start_time": "2022-06-16T14:10:31.280Z"
   },
   {
    "duration": 3,
    "start_time": "2022-06-16T14:10:42.864Z"
   },
   {
    "duration": 47,
    "start_time": "2022-06-16T14:13:22.854Z"
   },
   {
    "duration": 944,
    "start_time": "2022-06-16T14:13:35.748Z"
   },
   {
    "duration": 26,
    "start_time": "2022-06-16T14:13:36.694Z"
   },
   {
    "duration": 13,
    "start_time": "2022-06-16T14:13:36.721Z"
   },
   {
    "duration": 9,
    "start_time": "2022-06-16T14:13:36.735Z"
   },
   {
    "duration": 6,
    "start_time": "2022-06-16T14:13:36.746Z"
   },
   {
    "duration": 23,
    "start_time": "2022-06-16T14:13:36.753Z"
   },
   {
    "duration": 4,
    "start_time": "2022-06-16T14:13:36.777Z"
   },
   {
    "duration": 10,
    "start_time": "2022-06-16T14:13:36.783Z"
   },
   {
    "duration": 5,
    "start_time": "2022-06-16T14:13:36.794Z"
   },
   {
    "duration": 5,
    "start_time": "2022-06-16T14:13:36.801Z"
   },
   {
    "duration": 658,
    "start_time": "2022-06-16T14:13:36.808Z"
   },
   {
    "duration": 157,
    "start_time": "2022-06-16T14:13:37.468Z"
   },
   {
    "duration": 195,
    "start_time": "2022-06-16T14:13:37.626Z"
   },
   {
    "duration": 4,
    "start_time": "2022-06-16T14:13:37.823Z"
   },
   {
    "duration": 17,
    "start_time": "2022-06-16T14:13:37.828Z"
   },
   {
    "duration": 4,
    "start_time": "2022-06-16T14:13:39.677Z"
   },
   {
    "duration": 4243,
    "start_time": "2022-06-16T14:13:41.541Z"
   },
   {
    "duration": 4,
    "start_time": "2022-06-16T14:13:49.772Z"
   },
   {
    "duration": 201,
    "start_time": "2022-06-16T14:14:24.285Z"
   },
   {
    "duration": 98,
    "start_time": "2022-06-16T14:14:28.680Z"
   },
   {
    "duration": 4,
    "start_time": "2022-06-16T14:14:29.789Z"
   },
   {
    "duration": 192,
    "start_time": "2022-06-16T14:15:00.137Z"
   },
   {
    "duration": 5,
    "start_time": "2022-06-16T14:15:01.685Z"
   },
   {
    "duration": 210,
    "start_time": "2022-06-16T14:16:00.589Z"
   },
   {
    "duration": 4,
    "start_time": "2022-06-16T14:16:01.433Z"
   },
   {
    "duration": 75,
    "start_time": "2022-06-16T14:16:31.566Z"
   },
   {
    "duration": 5,
    "start_time": "2022-06-16T14:16:37.741Z"
   },
   {
    "duration": 4,
    "start_time": "2022-06-16T14:16:51.453Z"
   },
   {
    "duration": 4,
    "start_time": "2022-06-16T14:17:02.172Z"
   },
   {
    "duration": 8,
    "start_time": "2022-06-16T14:17:04.877Z"
   },
   {
    "duration": 4,
    "start_time": "2022-06-16T14:17:12.390Z"
   },
   {
    "duration": 6,
    "start_time": "2022-06-16T14:17:18.973Z"
   },
   {
    "duration": 4,
    "start_time": "2022-06-16T14:17:44.701Z"
   },
   {
    "duration": 4,
    "start_time": "2022-06-16T14:17:53.553Z"
   },
   {
    "duration": 7,
    "start_time": "2022-06-16T14:18:02.078Z"
   },
   {
    "duration": 3,
    "start_time": "2022-06-16T14:18:21.649Z"
   },
   {
    "duration": 2,
    "start_time": "2022-06-16T14:18:26.877Z"
   },
   {
    "duration": 55,
    "start_time": "2022-06-16T14:18:35.489Z"
   },
   {
    "duration": 7,
    "start_time": "2022-06-16T14:18:47.790Z"
   },
   {
    "duration": 1206,
    "start_time": "2022-06-17T05:52:49.125Z"
   },
   {
    "duration": 84,
    "start_time": "2022-06-17T05:52:53.238Z"
   },
   {
    "duration": 26,
    "start_time": "2022-06-17T05:52:53.671Z"
   },
   {
    "duration": 15,
    "start_time": "2022-06-17T05:52:54.183Z"
   },
   {
    "duration": 4,
    "start_time": "2022-06-17T05:52:54.687Z"
   },
   {
    "duration": 24,
    "start_time": "2022-06-17T05:52:54.991Z"
   },
   {
    "duration": 9,
    "start_time": "2022-06-17T05:52:55.607Z"
   },
   {
    "duration": 12,
    "start_time": "2022-06-17T05:52:55.834Z"
   },
   {
    "duration": 5,
    "start_time": "2022-06-17T05:53:00.247Z"
   },
   {
    "duration": 7,
    "start_time": "2022-06-17T05:53:00.766Z"
   },
   {
    "duration": 182,
    "start_time": "2022-06-17T05:53:01.398Z"
   },
   {
    "duration": 12,
    "start_time": "2022-06-17T05:53:20.680Z"
   },
   {
    "duration": 193,
    "start_time": "2022-06-17T05:53:30.887Z"
   },
   {
    "duration": 5,
    "start_time": "2022-06-17T05:53:37.495Z"
   },
   {
    "duration": 5,
    "start_time": "2022-06-17T05:53:43.262Z"
   },
   {
    "duration": 3,
    "start_time": "2022-06-17T05:53:43.626Z"
   },
   {
    "duration": 22496,
    "start_time": "2022-06-17T05:53:44.280Z"
   },
   {
    "duration": 5,
    "start_time": "2022-06-17T05:54:06.779Z"
   },
   {
    "duration": 249,
    "start_time": "2022-06-17T05:54:13.430Z"
   },
   {
    "duration": 17,
    "start_time": "2022-06-17T05:54:30.904Z"
   },
   {
    "duration": 4,
    "start_time": "2022-06-17T05:54:36.679Z"
   },
   {
    "duration": 4,
    "start_time": "2022-06-17T06:06:03.098Z"
   },
   {
    "duration": 6,
    "start_time": "2022-06-17T06:06:03.646Z"
   },
   {
    "duration": 9,
    "start_time": "2022-06-17T06:06:06.228Z"
   },
   {
    "duration": 4,
    "start_time": "2022-06-17T06:06:17.837Z"
   },
   {
    "duration": 3,
    "start_time": "2022-06-17T06:06:18.149Z"
   },
   {
    "duration": 12024,
    "start_time": "2022-06-17T06:06:18.644Z"
   },
   {
    "duration": 9,
    "start_time": "2022-06-17T06:06:30.672Z"
   },
   {
    "duration": 320,
    "start_time": "2022-06-17T06:06:44.645Z"
   },
   {
    "duration": 10,
    "start_time": "2022-06-17T06:06:45.645Z"
   },
   {
    "duration": 216,
    "start_time": "2022-06-17T06:07:00.260Z"
   },
   {
    "duration": 4,
    "start_time": "2022-06-17T06:07:01.093Z"
   },
   {
    "duration": 5,
    "start_time": "2022-06-17T06:07:02.564Z"
   },
   {
    "duration": 12,
    "start_time": "2022-06-17T06:07:11.965Z"
   },
   {
    "duration": 4,
    "start_time": "2022-06-17T06:07:12.548Z"
   },
   {
    "duration": 5,
    "start_time": "2022-06-17T06:07:22.646Z"
   },
   {
    "duration": 5,
    "start_time": "2022-06-17T06:07:23.341Z"
   },
   {
    "duration": 12,
    "start_time": "2022-06-17T06:07:27.324Z"
   },
   {
    "duration": 3,
    "start_time": "2022-06-17T06:07:27.805Z"
   },
   {
    "duration": 8,
    "start_time": "2022-06-17T06:07:42.646Z"
   },
   {
    "duration": 3,
    "start_time": "2022-06-17T06:07:43.109Z"
   },
   {
    "duration": 14,
    "start_time": "2022-06-17T06:07:48.485Z"
   },
   {
    "duration": 15,
    "start_time": "2022-06-17T06:15:19.882Z"
   },
   {
    "duration": 6,
    "start_time": "2022-06-17T06:15:27.012Z"
   },
   {
    "duration": 18,
    "start_time": "2022-06-17T06:19:22.235Z"
   },
   {
    "duration": 3,
    "start_time": "2022-06-17T06:19:33.836Z"
   },
   {
    "duration": 183,
    "start_time": "2022-06-17T06:20:01.298Z"
   },
   {
    "duration": 20,
    "start_time": "2022-06-17T06:20:17.842Z"
   },
   {
    "duration": 22,
    "start_time": "2022-06-17T06:20:36.850Z"
   },
   {
    "duration": 14,
    "start_time": "2022-06-17T06:21:16.640Z"
   },
   {
    "duration": 5,
    "start_time": "2022-06-17T06:23:44.147Z"
   },
   {
    "duration": 3,
    "start_time": "2022-06-17T06:24:04.209Z"
   },
   {
    "duration": 15260,
    "start_time": "2022-06-17T06:24:05.009Z"
   },
   {
    "duration": 4,
    "start_time": "2022-06-17T06:24:34.378Z"
   },
   {
    "duration": 5,
    "start_time": "2022-06-17T06:24:35.232Z"
   },
   {
    "duration": 219,
    "start_time": "2022-06-17T06:24:38.961Z"
   },
   {
    "duration": 12,
    "start_time": "2022-06-17T06:24:39.944Z"
   },
   {
    "duration": 10,
    "start_time": "2022-06-17T06:24:45.784Z"
   },
   {
    "duration": 4,
    "start_time": "2022-06-17T06:24:51.824Z"
   },
   {
    "duration": 4,
    "start_time": "2022-06-17T06:24:52.449Z"
   },
   {
    "duration": 8,
    "start_time": "2022-06-17T06:25:02.505Z"
   },
   {
    "duration": 4,
    "start_time": "2022-06-17T06:25:02.826Z"
   },
   {
    "duration": 4,
    "start_time": "2022-06-17T06:26:00.690Z"
   },
   {
    "duration": 29,
    "start_time": "2022-06-17T06:26:05.104Z"
   },
   {
    "duration": 10,
    "start_time": "2022-06-17T06:26:05.335Z"
   },
   {
    "duration": 12,
    "start_time": "2022-06-17T06:26:05.591Z"
   },
   {
    "duration": 4,
    "start_time": "2022-06-17T06:26:05.992Z"
   },
   {
    "duration": 23,
    "start_time": "2022-06-17T06:26:06.399Z"
   },
   {
    "duration": 7,
    "start_time": "2022-06-17T06:26:07.280Z"
   },
   {
    "duration": 7,
    "start_time": "2022-06-17T06:26:07.519Z"
   },
   {
    "duration": 4,
    "start_time": "2022-06-17T06:26:12.015Z"
   },
   {
    "duration": 43,
    "start_time": "2022-06-17T06:26:49.729Z"
   },
   {
    "duration": 21,
    "start_time": "2022-06-17T06:27:07.953Z"
   },
   {
    "duration": 19,
    "start_time": "2022-06-17T06:27:31.746Z"
   },
   {
    "duration": 20,
    "start_time": "2022-06-17T06:27:40.992Z"
   },
   {
    "duration": 9,
    "start_time": "2022-06-17T06:31:25.686Z"
   },
   {
    "duration": 5,
    "start_time": "2022-06-17T06:31:32.494Z"
   },
   {
    "duration": 3,
    "start_time": "2022-06-17T06:31:37.047Z"
   },
   {
    "duration": 19595,
    "start_time": "2022-06-17T06:31:37.679Z"
   },
   {
    "duration": 4,
    "start_time": "2022-06-17T06:31:58.792Z"
   },
   {
    "duration": 18643,
    "start_time": "2022-06-17T06:31:59.423Z"
   },
   {
    "duration": 203,
    "start_time": "2022-06-17T06:32:18.068Z"
   },
   {
    "duration": 9,
    "start_time": "2022-06-17T06:33:07.278Z"
   },
   {
    "duration": 10,
    "start_time": "2022-06-17T06:34:11.167Z"
   },
   {
    "duration": 8,
    "start_time": "2022-06-17T06:34:24.463Z"
   },
   {
    "duration": 4,
    "start_time": "2022-06-17T06:34:51.488Z"
   },
   {
    "duration": 60,
    "start_time": "2022-06-17T06:34:51.494Z"
   },
   {
    "duration": 9,
    "start_time": "2022-06-17T06:34:51.556Z"
   },
   {
    "duration": 30,
    "start_time": "2022-06-17T06:34:51.567Z"
   },
   {
    "duration": 10,
    "start_time": "2022-06-17T06:34:51.600Z"
   },
   {
    "duration": 35,
    "start_time": "2022-06-17T06:34:51.611Z"
   },
   {
    "duration": 17,
    "start_time": "2022-06-17T06:34:51.648Z"
   },
   {
    "duration": 21,
    "start_time": "2022-06-17T06:34:51.667Z"
   },
   {
    "duration": 18,
    "start_time": "2022-06-17T06:34:51.690Z"
   },
   {
    "duration": 24,
    "start_time": "2022-06-17T06:34:51.709Z"
   },
   {
    "duration": 14,
    "start_time": "2022-06-17T06:34:51.735Z"
   },
   {
    "duration": 27,
    "start_time": "2022-06-17T06:34:51.751Z"
   },
   {
    "duration": 16,
    "start_time": "2022-06-17T06:34:51.779Z"
   },
   {
    "duration": 20377,
    "start_time": "2022-06-17T06:34:51.798Z"
   },
   {
    "duration": 288,
    "start_time": "2022-06-17T06:35:12.177Z"
   },
   {
    "duration": 6,
    "start_time": "2022-06-17T06:35:12.466Z"
   },
   {
    "duration": 12,
    "start_time": "2022-06-17T06:35:12.474Z"
   },
   {
    "duration": 4,
    "start_time": "2022-06-17T06:41:14.802Z"
   },
   {
    "duration": 41,
    "start_time": "2022-06-17T06:41:14.809Z"
   },
   {
    "duration": 9,
    "start_time": "2022-06-17T06:41:14.852Z"
   },
   {
    "duration": 18,
    "start_time": "2022-06-17T06:41:14.863Z"
   },
   {
    "duration": 4,
    "start_time": "2022-06-17T06:41:14.885Z"
   },
   {
    "duration": 33,
    "start_time": "2022-06-17T06:41:14.891Z"
   },
   {
    "duration": 7,
    "start_time": "2022-06-17T06:41:14.926Z"
   },
   {
    "duration": 35,
    "start_time": "2022-06-17T06:41:14.935Z"
   },
   {
    "duration": 4,
    "start_time": "2022-06-17T06:41:14.972Z"
   },
   {
    "duration": 9,
    "start_time": "2022-06-17T06:41:14.978Z"
   },
   {
    "duration": 11,
    "start_time": "2022-06-17T06:41:14.988Z"
   },
   {
    "duration": 21,
    "start_time": "2022-06-17T06:41:15.001Z"
   },
   {
    "duration": 9,
    "start_time": "2022-06-17T06:41:15.026Z"
   },
   {
    "duration": 22930,
    "start_time": "2022-06-17T06:41:15.040Z"
   },
   {
    "duration": 293,
    "start_time": "2022-06-17T06:41:37.972Z"
   },
   {
    "duration": 6,
    "start_time": "2022-06-17T06:41:38.268Z"
   },
   {
    "duration": 89,
    "start_time": "2022-06-17T06:41:38.277Z"
   },
   {
    "duration": 14,
    "start_time": "2022-06-17T06:44:09.715Z"
   },
   {
    "duration": 16,
    "start_time": "2022-06-17T06:44:25.618Z"
   },
   {
    "duration": 7,
    "start_time": "2022-06-17T06:44:29.500Z"
   },
   {
    "duration": 7,
    "start_time": "2022-06-17T06:44:40.312Z"
   },
   {
    "duration": 159,
    "start_time": "2022-06-17T06:45:20.907Z"
   },
   {
    "duration": 6,
    "start_time": "2022-06-17T06:45:28.636Z"
   },
   {
    "duration": 7,
    "start_time": "2022-06-17T06:45:55.420Z"
   },
   {
    "duration": 7,
    "start_time": "2022-06-17T06:46:30.617Z"
   },
   {
    "duration": 5,
    "start_time": "2022-06-17T06:46:41.396Z"
   },
   {
    "duration": 5,
    "start_time": "2022-06-17T06:47:02.379Z"
   },
   {
    "duration": 4,
    "start_time": "2022-06-17T09:34:32.371Z"
   },
   {
    "duration": 42,
    "start_time": "2022-06-17T09:34:32.378Z"
   },
   {
    "duration": 14,
    "start_time": "2022-06-17T09:34:32.422Z"
   },
   {
    "duration": 23,
    "start_time": "2022-06-17T09:34:32.437Z"
   },
   {
    "duration": 12,
    "start_time": "2022-06-17T09:34:32.463Z"
   },
   {
    "duration": 41,
    "start_time": "2022-06-17T09:34:32.477Z"
   },
   {
    "duration": 5,
    "start_time": "2022-06-17T09:34:32.520Z"
   },
   {
    "duration": 11,
    "start_time": "2022-06-17T09:34:32.527Z"
   },
   {
    "duration": 5,
    "start_time": "2022-06-17T09:34:32.540Z"
   },
   {
    "duration": 8,
    "start_time": "2022-06-17T09:34:32.546Z"
   },
   {
    "duration": 114,
    "start_time": "2022-06-17T09:34:32.556Z"
   },
   {
    "duration": 96,
    "start_time": "2022-06-17T09:34:32.671Z"
   },
   {
    "duration": 9,
    "start_time": "2022-06-17T09:34:32.770Z"
   },
   {
    "duration": 7,
    "start_time": "2022-06-17T09:34:32.783Z"
   },
   {
    "duration": 7,
    "start_time": "2022-06-17T09:34:32.792Z"
   },
   {
    "duration": 8,
    "start_time": "2022-06-17T09:34:32.800Z"
   },
   {
    "duration": 14,
    "start_time": "2022-06-17T09:34:32.810Z"
   },
   {
    "duration": 5,
    "start_time": "2022-06-17T09:35:27.203Z"
   },
   {
    "duration": 41,
    "start_time": "2022-06-17T09:35:27.211Z"
   },
   {
    "duration": 13,
    "start_time": "2022-06-17T09:35:27.255Z"
   },
   {
    "duration": 13,
    "start_time": "2022-06-17T09:35:27.270Z"
   },
   {
    "duration": 4,
    "start_time": "2022-06-17T09:35:27.286Z"
   },
   {
    "duration": 24,
    "start_time": "2022-06-17T09:35:27.292Z"
   },
   {
    "duration": 7,
    "start_time": "2022-06-17T09:35:27.318Z"
   },
   {
    "duration": 42,
    "start_time": "2022-06-17T09:35:27.328Z"
   },
   {
    "duration": 5,
    "start_time": "2022-06-17T09:35:27.373Z"
   },
   {
    "duration": 11,
    "start_time": "2022-06-17T09:35:27.380Z"
   },
   {
    "duration": 19,
    "start_time": "2022-06-17T09:35:27.392Z"
   },
   {
    "duration": 12,
    "start_time": "2022-06-17T09:35:27.413Z"
   },
   {
    "duration": 5,
    "start_time": "2022-06-17T09:35:27.428Z"
   },
   {
    "duration": 8,
    "start_time": "2022-06-17T09:35:27.436Z"
   },
   {
    "duration": 5,
    "start_time": "2022-06-17T09:35:27.465Z"
   },
   {
    "duration": 11,
    "start_time": "2022-06-17T09:35:27.473Z"
   },
   {
    "duration": 18,
    "start_time": "2022-06-17T09:35:27.486Z"
   },
   {
    "duration": 9,
    "start_time": "2022-06-17T09:37:43.731Z"
   },
   {
    "duration": 12,
    "start_time": "2022-06-17T09:37:53.601Z"
   },
   {
    "duration": 30,
    "start_time": "2022-06-17T09:49:27.511Z"
   },
   {
    "duration": 943,
    "start_time": "2022-06-18T04:29:35.148Z"
   },
   {
    "duration": 83,
    "start_time": "2022-06-18T04:29:36.093Z"
   },
   {
    "duration": 19,
    "start_time": "2022-06-18T04:29:36.178Z"
   },
   {
    "duration": 22,
    "start_time": "2022-06-18T04:29:36.199Z"
   },
   {
    "duration": 8,
    "start_time": "2022-06-18T04:29:36.224Z"
   },
   {
    "duration": 38,
    "start_time": "2022-06-18T04:29:36.233Z"
   },
   {
    "duration": 10,
    "start_time": "2022-06-18T04:29:36.274Z"
   },
   {
    "duration": 15,
    "start_time": "2022-06-18T04:29:36.286Z"
   },
   {
    "duration": 20,
    "start_time": "2022-06-18T04:29:36.303Z"
   },
   {
    "duration": 19,
    "start_time": "2022-06-18T04:29:36.325Z"
   },
   {
    "duration": 6,
    "start_time": "2022-06-18T04:29:36.346Z"
   },
   {
    "duration": 6,
    "start_time": "2022-06-18T04:29:36.354Z"
   },
   {
    "duration": 8,
    "start_time": "2022-06-18T04:29:36.361Z"
   },
   {
    "duration": 8,
    "start_time": "2022-06-18T04:29:36.371Z"
   },
   {
    "duration": 8,
    "start_time": "2022-06-18T04:29:36.381Z"
   },
   {
    "duration": 16,
    "start_time": "2022-06-18T04:29:36.391Z"
   },
   {
    "duration": 1026,
    "start_time": "2022-06-20T05:45:44.487Z"
   },
   {
    "duration": 87,
    "start_time": "2022-06-20T05:45:47.880Z"
   },
   {
    "duration": 15,
    "start_time": "2022-06-20T05:45:48.278Z"
   },
   {
    "duration": 12,
    "start_time": "2022-06-20T05:45:48.895Z"
   },
   {
    "duration": 4,
    "start_time": "2022-06-20T05:45:49.287Z"
   },
   {
    "duration": 22,
    "start_time": "2022-06-20T05:45:50.047Z"
   },
   {
    "duration": 7,
    "start_time": "2022-06-20T05:45:55.073Z"
   },
   {
    "duration": 53,
    "start_time": "2022-06-20T06:11:53.482Z"
   },
   {
    "duration": 91,
    "start_time": "2022-06-20T08:24:49.712Z"
   },
   {
    "duration": 3,
    "start_time": "2022-06-20T08:25:13.471Z"
   },
   {
    "duration": 32,
    "start_time": "2022-06-20T08:25:13.476Z"
   },
   {
    "duration": 9,
    "start_time": "2022-06-20T08:25:13.509Z"
   },
   {
    "duration": 13,
    "start_time": "2022-06-20T08:25:13.519Z"
   },
   {
    "duration": 2,
    "start_time": "2022-06-20T08:25:13.534Z"
   },
   {
    "duration": 25,
    "start_time": "2022-06-20T08:25:13.538Z"
   },
   {
    "duration": 6,
    "start_time": "2022-06-20T08:25:13.564Z"
   },
   {
    "duration": 7,
    "start_time": "2022-06-20T08:25:13.572Z"
   },
   {
    "duration": 13,
    "start_time": "2022-06-20T08:25:13.580Z"
   },
   {
    "duration": 0,
    "start_time": "2022-06-20T08:25:13.594Z"
   },
   {
    "duration": 0,
    "start_time": "2022-06-20T08:25:13.595Z"
   },
   {
    "duration": 0,
    "start_time": "2022-06-20T08:25:13.596Z"
   },
   {
    "duration": 0,
    "start_time": "2022-06-20T08:25:13.598Z"
   },
   {
    "duration": 0,
    "start_time": "2022-06-20T08:25:13.599Z"
   },
   {
    "duration": 0,
    "start_time": "2022-06-20T08:25:13.600Z"
   },
   {
    "duration": 0,
    "start_time": "2022-06-20T08:25:13.601Z"
   },
   {
    "duration": 1066,
    "start_time": "2022-06-20T08:26:53.091Z"
   },
   {
    "duration": 28,
    "start_time": "2022-06-20T08:26:54.159Z"
   },
   {
    "duration": 14,
    "start_time": "2022-06-20T08:26:54.188Z"
   },
   {
    "duration": 9,
    "start_time": "2022-06-20T08:26:54.204Z"
   },
   {
    "duration": 2,
    "start_time": "2022-06-20T08:26:54.215Z"
   },
   {
    "duration": 23,
    "start_time": "2022-06-20T08:26:54.218Z"
   },
   {
    "duration": 5,
    "start_time": "2022-06-20T08:26:54.242Z"
   },
   {
    "duration": 7,
    "start_time": "2022-06-20T08:26:54.248Z"
   },
   {
    "duration": 8,
    "start_time": "2022-06-20T08:26:54.256Z"
   },
   {
    "duration": 9,
    "start_time": "2022-06-20T08:26:54.266Z"
   },
   {
    "duration": 4,
    "start_time": "2022-06-20T08:26:54.276Z"
   },
   {
    "duration": 10,
    "start_time": "2022-06-20T08:26:54.281Z"
   },
   {
    "duration": 5,
    "start_time": "2022-06-20T08:26:54.292Z"
   },
   {
    "duration": 5,
    "start_time": "2022-06-20T08:26:54.298Z"
   },
   {
    "duration": 23,
    "start_time": "2022-06-20T08:26:54.304Z"
   },
   {
    "duration": 10,
    "start_time": "2022-06-20T08:26:54.328Z"
   },
   {
    "duration": 1109,
    "start_time": "2022-06-20T09:24:10.731Z"
   },
   {
    "duration": 29,
    "start_time": "2022-06-20T09:24:11.842Z"
   },
   {
    "duration": 14,
    "start_time": "2022-06-20T09:24:11.873Z"
   },
   {
    "duration": 11,
    "start_time": "2022-06-20T09:24:11.889Z"
   },
   {
    "duration": 4,
    "start_time": "2022-06-20T09:24:11.902Z"
   },
   {
    "duration": 23,
    "start_time": "2022-06-20T09:24:11.908Z"
   },
   {
    "duration": 6,
    "start_time": "2022-06-20T09:24:11.934Z"
   },
   {
    "duration": 6,
    "start_time": "2022-06-20T09:24:11.942Z"
   },
   {
    "duration": 10,
    "start_time": "2022-06-20T09:24:11.951Z"
   },
   {
    "duration": 9,
    "start_time": "2022-06-20T09:24:11.962Z"
   },
   {
    "duration": 5,
    "start_time": "2022-06-20T09:24:11.973Z"
   },
   {
    "duration": 5,
    "start_time": "2022-06-20T09:24:11.980Z"
   },
   {
    "duration": 317,
    "start_time": "2022-06-20T09:24:11.986Z"
   },
   {
    "duration": 0,
    "start_time": "2022-06-20T09:24:12.305Z"
   },
   {
    "duration": 0,
    "start_time": "2022-06-20T09:24:12.306Z"
   },
   {
    "duration": 0,
    "start_time": "2022-06-20T09:24:12.307Z"
   },
   {
    "duration": 3,
    "start_time": "2022-06-20T09:26:15.650Z"
   },
   {
    "duration": 209,
    "start_time": "2022-06-20T09:26:16.420Z"
   },
   {
    "duration": 4,
    "start_time": "2022-06-20T09:26:22.882Z"
   },
   {
    "duration": 211,
    "start_time": "2022-06-20T09:26:23.763Z"
   },
   {
    "duration": 3,
    "start_time": "2022-06-20T09:27:17.631Z"
   },
   {
    "duration": 74,
    "start_time": "2022-06-20T09:27:18.274Z"
   },
   {
    "duration": 3,
    "start_time": "2022-06-20T09:28:56.412Z"
   },
   {
    "duration": 3,
    "start_time": "2022-06-20T09:28:57.041Z"
   },
   {
    "duration": 4,
    "start_time": "2022-06-20T09:29:01.023Z"
   },
   {
    "duration": 1061,
    "start_time": "2022-06-20T09:29:14.441Z"
   },
   {
    "duration": 31,
    "start_time": "2022-06-20T09:29:15.504Z"
   },
   {
    "duration": 16,
    "start_time": "2022-06-20T09:29:15.537Z"
   },
   {
    "duration": 13,
    "start_time": "2022-06-20T09:29:15.555Z"
   },
   {
    "duration": 7,
    "start_time": "2022-06-20T09:29:15.569Z"
   },
   {
    "duration": 22,
    "start_time": "2022-06-20T09:29:15.578Z"
   },
   {
    "duration": 22,
    "start_time": "2022-06-20T09:29:15.601Z"
   },
   {
    "duration": 4,
    "start_time": "2022-06-20T09:29:15.626Z"
   },
   {
    "duration": 20,
    "start_time": "2022-06-20T09:29:15.633Z"
   },
   {
    "duration": 29,
    "start_time": "2022-06-20T09:29:15.657Z"
   },
   {
    "duration": 8,
    "start_time": "2022-06-20T09:29:15.688Z"
   },
   {
    "duration": 5,
    "start_time": "2022-06-20T09:29:15.698Z"
   },
   {
    "duration": 14,
    "start_time": "2022-06-20T09:29:15.705Z"
   },
   {
    "duration": 11,
    "start_time": "2022-06-20T09:29:15.721Z"
   },
   {
    "duration": 9,
    "start_time": "2022-06-20T09:29:15.734Z"
   },
   {
    "duration": 13,
    "start_time": "2022-06-20T09:29:15.745Z"
   },
   {
    "duration": 1146,
    "start_time": "2022-06-20T09:30:41.686Z"
   },
   {
    "duration": 28,
    "start_time": "2022-06-20T09:30:42.834Z"
   },
   {
    "duration": 14,
    "start_time": "2022-06-20T09:30:42.864Z"
   },
   {
    "duration": 10,
    "start_time": "2022-06-20T09:30:42.879Z"
   },
   {
    "duration": 2,
    "start_time": "2022-06-20T09:30:42.891Z"
   },
   {
    "duration": 26,
    "start_time": "2022-06-20T09:30:42.895Z"
   },
   {
    "duration": 6,
    "start_time": "2022-06-20T09:30:42.923Z"
   },
   {
    "duration": 5,
    "start_time": "2022-06-20T09:30:42.930Z"
   },
   {
    "duration": 6,
    "start_time": "2022-06-20T09:30:42.936Z"
   },
   {
    "duration": 9,
    "start_time": "2022-06-20T09:30:42.944Z"
   },
   {
    "duration": 4,
    "start_time": "2022-06-20T09:30:42.954Z"
   },
   {
    "duration": 6,
    "start_time": "2022-06-20T09:30:42.959Z"
   },
   {
    "duration": 5,
    "start_time": "2022-06-20T09:30:42.967Z"
   },
   {
    "duration": 4,
    "start_time": "2022-06-20T09:30:42.975Z"
   },
   {
    "duration": 5,
    "start_time": "2022-06-20T09:30:42.981Z"
   },
   {
    "duration": 41,
    "start_time": "2022-06-20T09:30:42.988Z"
   },
   {
    "duration": 5,
    "start_time": "2022-06-20T09:30:49.580Z"
   },
   {
    "duration": 16,
    "start_time": "2022-06-20T09:31:34.700Z"
   },
   {
    "duration": 458,
    "start_time": "2022-06-20T09:33:43.869Z"
   },
   {
    "duration": 4,
    "start_time": "2022-06-20T09:33:54.076Z"
   },
   {
    "duration": 6885,
    "start_time": "2022-06-20T09:34:29.154Z"
   },
   {
    "duration": 48,
    "start_time": "2022-06-20T09:35:14.780Z"
   },
   {
    "duration": 1426,
    "start_time": "2022-06-20T09:35:45.313Z"
   },
   {
    "duration": 32,
    "start_time": "2022-06-20T09:35:46.741Z"
   },
   {
    "duration": 15,
    "start_time": "2022-06-20T09:35:46.775Z"
   },
   {
    "duration": 12,
    "start_time": "2022-06-20T09:35:46.792Z"
   },
   {
    "duration": 3,
    "start_time": "2022-06-20T09:35:46.807Z"
   },
   {
    "duration": 32,
    "start_time": "2022-06-20T09:35:46.812Z"
   },
   {
    "duration": 7,
    "start_time": "2022-06-20T09:35:46.846Z"
   },
   {
    "duration": 6792,
    "start_time": "2022-06-20T09:35:46.855Z"
   },
   {
    "duration": 4,
    "start_time": "2022-06-20T09:35:53.650Z"
   },
   {
    "duration": 13,
    "start_time": "2022-06-20T09:35:53.655Z"
   },
   {
    "duration": 19,
    "start_time": "2022-06-20T09:35:53.670Z"
   },
   {
    "duration": 12,
    "start_time": "2022-06-20T09:35:53.691Z"
   },
   {
    "duration": 10,
    "start_time": "2022-06-20T09:35:53.705Z"
   },
   {
    "duration": 16,
    "start_time": "2022-06-20T09:35:53.717Z"
   },
   {
    "duration": 7,
    "start_time": "2022-06-20T09:35:53.734Z"
   },
   {
    "duration": 21,
    "start_time": "2022-06-20T09:35:53.743Z"
   },
   {
    "duration": 14,
    "start_time": "2022-06-20T09:35:53.765Z"
   },
   {
    "duration": 72,
    "start_time": "2022-06-21T06:02:50.805Z"
   }
  ],
  "kernelspec": {
   "display_name": "Python 3 (ipykernel)",
   "language": "python",
   "name": "python3"
  },
  "language_info": {
   "codemirror_mode": {
    "name": "ipython",
    "version": 3
   },
   "file_extension": ".py",
   "mimetype": "text/x-python",
   "name": "python",
   "nbconvert_exporter": "python",
   "pygments_lexer": "ipython3",
   "version": "3.9.5"
  },
  "toc": {
   "base_numbering": 1,
   "nav_menu": {},
   "number_sections": true,
   "sideBar": true,
   "skip_h1_title": true,
   "title_cell": "Содержание",
   "title_sidebar": "Contents",
   "toc_cell": true,
   "toc_position": {
    "height": "calc(100% - 180px)",
    "left": "10px",
    "top": "150px",
    "width": "172.778px"
   },
   "toc_section_display": true,
   "toc_window_display": true
  }
 },
 "nbformat": 4,
 "nbformat_minor": 2
}
